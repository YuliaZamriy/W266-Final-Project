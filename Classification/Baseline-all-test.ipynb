{
 "cells": [
  {
   "cell_type": "code",
   "execution_count": 1,
   "metadata": {},
   "outputs": [
    {
     "data": {
      "text/html": [
       "<style>.container { width:100% !important; }</style>"
      ],
      "text/plain": [
       "<IPython.core.display.HTML object>"
      ]
     },
     "metadata": {},
     "output_type": "display_data"
    }
   ],
   "source": [
    "# increase cell width\n",
    "from IPython.core.display import display, HTML\n",
    "display(HTML(\"<style>.container { width:100% !important; }</style>\"))"
   ]
  },
  {
   "cell_type": "markdown",
   "metadata": {},
   "source": [
    "## TODO:\n",
    "\n",
    "1. Data: \n",
    "    - **done** create script to combine all congresses\n",
    "    - **done** create a party and chamber lists for addtional support\n",
    "    - **done** create congress number list\n",
    "\n",
    "2. Train/Val/Test split:\n",
    "    -  **done** Put into a separate module\n",
    "    -  **done** Add an option to select a party or chapter\n",
    "    - **memory error** Split train/val/test by congress to avoid time bias\n",
    "    - Play with hyperparameters:\n",
    "        - word_count\n",
    "        - random_splits: allocate more to training?\n",
    "        - increase balance ratio?\n",
    "\n",
    "3. EDA:\n",
    "    - Targets by party: should we run gender/ethnicity on Ds only?\n",
    "\n",
    "4. Vectorization:\n",
    "    - Tune hyper parameters:\n",
    "        - ngram_range: 1, 3\n",
    "        - change vocabulary size\n",
    "    - Add outputs:\n",
    "        - **done** stop words\n",
    "        - **done** lowest scoring words\n",
    "        - **done** top n 5 by congress\n",
    "\n",
    "5. Ngram model:\n",
    "    - Tune hyper parameters:\n",
    "        - use GridSearch?\n",
    "        - activation function\n",
    "        - learning rate\n",
    "        - batch size\n",
    "        - layers\n",
    "        - units\n",
    "        - dropout rate\n",
    "        - any other regularization (there is significant overfit)\n",
    "    - Run model:\n",
    "        - for each congress\n",
    "        - add one congress at a time\n",
    "           - hypothesis: is accuracy improving due to more data or more diversity?\n",
    "        - run only for Ds?\n",
    "    - Outputs:\n",
    "        - **done** how to output predicted probablity?\n",
    "    - Model validation:\n",
    "        - **done** build a separate function so it can be used with different models:\n",
    "            - **done** input: predicted probability; actual labels; data (val or test?)\n",
    "        - **done** chart distribution of the predicted probability \n",
    "        - **done** bin predicted probabilities into:\n",
    "            - **done** 0:0.4, 0.4:0.6, 0.6:1?\n",
    "            - **done** accuracy in each bin\n",
    "            - **done** crosstab them with various demos (party, chamber, age, year)\n",
    "            - **done** get 1,2,3-grams for each bin\n",
    "        - **done** output examples of speeches with scores close to 1 and close to 0 that are mispredicted vs predicted correctly\n",
    "        - Accuracy/loss by congress\n",
    "        - Accuracy/loss as congresses added\n",
    "            - save them and plot them\n",
    "\n",
    "### Long term:\n",
    "\n",
    "1. classificaiton models:\n",
    "    - ngram vanilla NN\n",
    "    - CNN\n",
    "    - some other models\n",
    "    - does it help to combine the results ensemble? if they make different mistakes, it should.\n",
    "2. Create a topics model:\n",
    "    - on raw data before classification\n",
    "    - on groups based on predicted probability bings:\n",
    "       - can we explain classification by topics that they bring up?\n",
    "       - or is it just based on language used? here we would check 1,2,3-ngrams\n",
    "3. Age:\n",
    "    - aging congress: how does it affect topics that people bring up?\n",
    "4. Speaker-level analysis:\n",
    "    - cluster speakers (k-means?) by their average predicted scores in classification models?\n",
    "        - for example, a white male that is closer to women by the way they use speech? are they liberals?"
   ]
  },
  {
   "cell_type": "markdown",
   "metadata": {},
   "source": [
    "Inspiration for code:\n",
    "\n",
    "- https://developers.google.com/machine-learning/guides/text-classification/\n",
    "- https://github.com/google/eng-edu/blob/master/ml/guides/text_classification/load_data.py"
   ]
  },
  {
   "cell_type": "code",
   "execution_count": 43,
   "metadata": {},
   "outputs": [],
   "source": [
    "from __future__ import absolute_import\n",
    "from __future__ import division\n",
    "from __future__ import print_function\n",
    "\n",
    "import os\n",
    "import random\n",
    "import time\n",
    "import pickle\n",
    "\n",
    "import numpy as np\n",
    "import pandas as pd\n",
    "\n",
    "from importlib import reload\n",
    "\n",
    "import scipy.sparse"
   ]
  },
  {
   "cell_type": "code",
   "execution_count": 3,
   "metadata": {},
   "outputs": [],
   "source": [
    "from w266_common import utils, vocabulary\n",
    "from helpers import load_data\n",
    "from helpers import explore_data\n",
    "from helpers import preprocess_data"
   ]
  },
  {
   "cell_type": "markdown",
   "metadata": {},
   "source": [
    "## Load the data"
   ]
  },
  {
   "cell_type": "code",
   "execution_count": 4,
   "metadata": {},
   "outputs": [
    {
     "data": {
      "text/plain": [
       "'/tf/notebooks/final-project/Classification'"
      ]
     },
     "execution_count": 4,
     "metadata": {},
     "output_type": "execute_result"
    }
   ],
   "source": [
    "pwd"
   ]
  },
  {
   "cell_type": "code",
   "execution_count": 5,
   "metadata": {},
   "outputs": [
    {
     "name": "stdout",
     "output_type": "stream",
     "text": [
      "speech_id|speech\r\n",
      "970000001|The Senate vill please come to order. The Chaplain will offer the prayer. The Chaplain. the Reverend Edward L. R. Elson. D.D.. offered the following prayer: PRAYER God of our fathers and our God. who has made and preserved us a nation. we thank Thee for Thy care over us from generation to generation. and for the new era which unfolds before us. Let Thy spirit descend upon us with all Its cleansing. healing. and creative power. Make usnew persons for new times in a land newborn in spirit. May the solemn induction of the new Members of this body be a renewal of the vocatinal vows of all others. In the deliberations of this new Congress keep our motives pure. our vision clear. our patriotism undefiled. our speech chaste. our judgments fair. and our consciences unbetrayed. Help us to develop work patterns which sustain the soul. nourish the mind. and strengthen the will. And give us grace to make time for the family. for home. and for worship. What we pray for this body we pray for all others in the service of the Government. Send us each day to our tasks to do Justly.to love mercy. and to walk humbly with our God. Hear us as we pray together the prayerthe Master taught us\"Our Father who art in heaven. hallowed be Thy name. Thy kingdom come. Thy will be done in Earth. as it is in heaven. Give us this day our daily bread. And forgive us our trespasses as we forgive those who trespass against us. And lead us not into temptation. but deliver us from evil* For Thine is the kingdom. and the power. and the glory forever.\" Amen.\r\n"
     ]
    }
   ],
   "source": [
    "!head -2 /tf/notebooks/final-project/data/sample/hein-daily/speeches_097.txt"
   ]
  },
  {
   "cell_type": "code",
   "execution_count": 6,
   "metadata": {},
   "outputs": [
    {
     "name": "stdout",
     "output_type": "stream",
     "text": [
      "283399\r\n"
     ]
    }
   ],
   "source": [
    "!cat /tf/notebooks/final-project/data/sample/hein-daily/speeches_097.txt | wc -l"
   ]
  },
  {
   "cell_type": "code",
   "execution_count": 4,
   "metadata": {},
   "outputs": [],
   "source": [
    "data_path = '/tf/notebooks/final-project/data/sample/hein-daily'"
   ]
  },
  {
   "cell_type": "code",
   "execution_count": 5,
   "metadata": {},
   "outputs": [
    {
     "name": "stdout",
     "output_type": "stream",
     "text": [
      "\n",
      "File speeches_097.txt has 249718612 characters\n",
      "and 283399 speeches\n",
      "\n",
      "Speeches list has 283399 speeches\n"
     ]
    }
   ],
   "source": [
    "reload(load_data)\n",
    "all_speech_ids, all_speeches = load_data.load_speech_data(data_path)"
   ]
  },
  {
   "cell_type": "code",
   "execution_count": 6,
   "metadata": {},
   "outputs": [
    {
     "data": {
      "text/plain": [
       "(283399, 283399)"
      ]
     },
     "execution_count": 6,
     "metadata": {},
     "output_type": "execute_result"
    }
   ],
   "source": [
    "len(all_speech_ids), len(all_speeches)"
   ]
  },
  {
   "cell_type": "markdown",
   "metadata": {},
   "source": [
    "## Create target labels"
   ]
  },
  {
   "cell_type": "code",
   "execution_count": 12,
   "metadata": {},
   "outputs": [
    {
     "name": "stdout",
     "output_type": "stream",
     "text": [
      "Random congressperson: 980036512\n",
      "date 19830504\n",
      "match exact\n",
      "Ethnicity W\n",
      "word_count 38\n",
      "Party R\n",
      "Female 0.0\n",
      "Age_lt_med 0.0\n",
      "NonWhite 0.0\n",
      "speakerid 98114240.0\n",
      "State IL\n",
      "Age 60.0\n",
      "Chamber H\n",
      "char_count 200\n",
      "speaker Mr. HYDE\n",
      "Full Name HYDE, HENRY\n",
      "Congress 98\n",
      "It took 86.2 seconds to create the dictionary\n"
     ]
    }
   ],
   "source": [
    "reload(load_data)\n",
    "start_time = time.time()\n",
    "descr = load_data.load_descr_data('/tf/notebooks/final-project/data/QA/full_descr.txt', p=0.3)\n",
    "print(\"It took {0:.1f} seconds to create the dictionary\".format(time.time()-start_time))"
   ]
  },
  {
   "cell_type": "code",
   "execution_count": 14,
   "metadata": {},
   "outputs": [
    {
     "data": {
      "text/plain": [
       "0.2970220253192354"
      ]
     },
     "execution_count": 14,
     "metadata": {},
     "output_type": "execute_result"
    }
   ],
   "source": [
    "# check if sampling worked\n",
    "len(list(descr.keys()))/2914464"
   ]
  },
  {
   "cell_type": "code",
   "execution_count": 15,
   "metadata": {},
   "outputs": [
    {
     "data": {
      "text/plain": [
       "(283399, 283399, 283399, 283399, 283399, 283399)"
      ]
     },
     "execution_count": 15,
     "metadata": {},
     "output_type": "execute_result"
    }
   ],
   "source": [
    "gender, ethnicity, age, party, chamber, congress = load_data.create_target_labels(all_speech_ids, descr)\n",
    "len(gender), len(ethnicity), len(age), len(party), len(chamber), len(congress)"
   ]
  },
  {
   "cell_type": "markdown",
   "metadata": {},
   "source": [
    "### Data QA"
   ]
  },
  {
   "cell_type": "code",
   "execution_count": 16,
   "metadata": {},
   "outputs": [
    {
     "name": "stdout",
     "output_type": "stream",
     "text": [
      "\n",
      " Gender\n",
      "Overall speech counts:\n"
     ]
    },
    {
     "data": {
      "text/html": [
       "<div>\n",
       "<style scoped>\n",
       "    .dataframe tbody tr th:only-of-type {\n",
       "        vertical-align: middle;\n",
       "    }\n",
       "\n",
       "    .dataframe tbody tr th {\n",
       "        vertical-align: top;\n",
       "    }\n",
       "\n",
       "    .dataframe thead th {\n",
       "        text-align: right;\n",
       "    }\n",
       "</style>\n",
       "<table border=\"1\" class=\"dataframe\">\n",
       "  <thead>\n",
       "    <tr style=\"text-align: right;\">\n",
       "      <th></th>\n",
       "      <th>Category</th>\n",
       "      <th>Count</th>\n",
       "    </tr>\n",
       "  </thead>\n",
       "  <tbody>\n",
       "    <tr>\n",
       "      <th>0</th>\n",
       "      <td>-1</td>\n",
       "      <td>216667</td>\n",
       "    </tr>\n",
       "    <tr>\n",
       "      <th>1</th>\n",
       "      <td>0</td>\n",
       "      <td>65381</td>\n",
       "    </tr>\n",
       "    <tr>\n",
       "      <th>2</th>\n",
       "      <td>1</td>\n",
       "      <td>1351</td>\n",
       "    </tr>\n",
       "  </tbody>\n",
       "</table>\n",
       "</div>"
      ],
      "text/plain": [
       "<IPython.core.display.HTML object>"
      ]
     },
     "metadata": {},
     "output_type": "display_data"
    },
    {
     "name": "stdout",
     "output_type": "stream",
     "text": [
      "Target group number of speeches by party:\n",
      "D: \t 661\n",
      "I: \t 0\n",
      "N: \t 0\n",
      "NA: \t -216667\n",
      "R: \t 690\n",
      "\n",
      " Ethnicity\n",
      "Overall speech counts:\n"
     ]
    },
    {
     "data": {
      "text/html": [
       "<div>\n",
       "<style scoped>\n",
       "    .dataframe tbody tr th:only-of-type {\n",
       "        vertical-align: middle;\n",
       "    }\n",
       "\n",
       "    .dataframe tbody tr th {\n",
       "        vertical-align: top;\n",
       "    }\n",
       "\n",
       "    .dataframe thead th {\n",
       "        text-align: right;\n",
       "    }\n",
       "</style>\n",
       "<table border=\"1\" class=\"dataframe\">\n",
       "  <thead>\n",
       "    <tr style=\"text-align: right;\">\n",
       "      <th></th>\n",
       "      <th>Category</th>\n",
       "      <th>Count</th>\n",
       "    </tr>\n",
       "  </thead>\n",
       "  <tbody>\n",
       "    <tr>\n",
       "      <th>0</th>\n",
       "      <td>-1</td>\n",
       "      <td>216667</td>\n",
       "    </tr>\n",
       "    <tr>\n",
       "      <th>1</th>\n",
       "      <td>0</td>\n",
       "      <td>63946</td>\n",
       "    </tr>\n",
       "    <tr>\n",
       "      <th>2</th>\n",
       "      <td>1</td>\n",
       "      <td>2786</td>\n",
       "    </tr>\n",
       "  </tbody>\n",
       "</table>\n",
       "</div>"
      ],
      "text/plain": [
       "<IPython.core.display.HTML object>"
      ]
     },
     "metadata": {},
     "output_type": "display_data"
    },
    {
     "name": "stdout",
     "output_type": "stream",
     "text": [
      "Target group number of speeches by party:\n",
      "D: \t 2362\n",
      "I: \t 0\n",
      "N: \t 62\n",
      "NA: \t -216667\n",
      "R: \t 362\n",
      "\n",
      " Age\n",
      "Overall speech counts:\n"
     ]
    },
    {
     "data": {
      "text/html": [
       "<div>\n",
       "<style scoped>\n",
       "    .dataframe tbody tr th:only-of-type {\n",
       "        vertical-align: middle;\n",
       "    }\n",
       "\n",
       "    .dataframe tbody tr th {\n",
       "        vertical-align: top;\n",
       "    }\n",
       "\n",
       "    .dataframe thead th {\n",
       "        text-align: right;\n",
       "    }\n",
       "</style>\n",
       "<table border=\"1\" class=\"dataframe\">\n",
       "  <thead>\n",
       "    <tr style=\"text-align: right;\">\n",
       "      <th></th>\n",
       "      <th>Category</th>\n",
       "      <th>Count</th>\n",
       "    </tr>\n",
       "  </thead>\n",
       "  <tbody>\n",
       "    <tr>\n",
       "      <th>0</th>\n",
       "      <td>-1</td>\n",
       "      <td>216667</td>\n",
       "    </tr>\n",
       "    <tr>\n",
       "      <th>1</th>\n",
       "      <td>0</td>\n",
       "      <td>43671</td>\n",
       "    </tr>\n",
       "    <tr>\n",
       "      <th>2</th>\n",
       "      <td>1</td>\n",
       "      <td>23061</td>\n",
       "    </tr>\n",
       "  </tbody>\n",
       "</table>\n",
       "</div>"
      ],
      "text/plain": [
       "<IPython.core.display.HTML object>"
      ]
     },
     "metadata": {},
     "output_type": "display_data"
    },
    {
     "name": "stdout",
     "output_type": "stream",
     "text": [
      "Target group number of speeches by party:\n",
      "D: \t 12263\n",
      "I: \t 0\n",
      "N: \t 62\n",
      "NA: \t -216667\n",
      "R: \t 10736\n"
     ]
    }
   ],
   "source": [
    "reload(explore_data)\n",
    "for i in [(gender, \"Gender\"), (ethnicity, \"Ethnicity\"), (age, \"Age\")]:\n",
    "    print(\"\\n\", i[1])\n",
    "    print(\"Overall speech counts:\")\n",
    "    explore_data.get_counts(i[0])\n",
    "    print(\"Target group number of speeches by party:\")\n",
    "    explore_data.get_counts_by_category(i[0], party)"
   ]
  },
  {
   "cell_type": "code",
   "execution_count": 17,
   "metadata": {},
   "outputs": [
    {
     "name": "stdout",
     "output_type": "stream",
     "text": [
      "Speaker information\n",
      "date 19820817\n",
      "match exact\n",
      "Ethnicity W\n",
      "word_count 8\n",
      "Party R\n",
      "Female 1.0\n",
      "Age_lt_med 1.0\n",
      "NonWhite 0.0\n",
      "speakerid 97109311.0\n",
      "State KS\n",
      "Age 50.0\n",
      "Chamber S\n",
      "char_count 50\n",
      "speaker Mrs. KASSEBAUM\n",
      "Full Name KASSEBAUM, NANCY\n",
      "Congress 97\n",
      "\n",
      "Mr. President. will the Senatori from Texas yield?\n"
     ]
    }
   ],
   "source": [
    "reload(explore_data)\n",
    "explore_data.random_speech(all_speeches, all_speech_ids, gender, descr)"
   ]
  },
  {
   "cell_type": "code",
   "execution_count": 12,
   "metadata": {},
   "outputs": [
    {
     "name": "stdout",
     "output_type": "stream",
     "text": [
      "Speaker information\n",
      "speakerid 97108270.0\n",
      "word_count 435\n",
      "State NY\n",
      "Age 49.0\n",
      "Full Name GARCIA, ROBERT\n",
      "Congress 97\n",
      "Party D\n",
      "match exact\n",
      "date 19820729\n",
      "Female 0.0\n",
      "char_count 2518\n",
      "Ethnicity H\n",
      "Age_lt_med 1.0\n",
      "Chamber H\n",
      "NonWhite 1.0\n",
      "speaker Mr. GARCIA\n",
      "\n",
      "Mr. Chairman. I believe the amendment is particularly appropriate at this moment. because we are toward the end of this bill. We have been at it for almost 40 hours. if not 40 hours. I think that there have been some discussions held here as it pertained to what exactly is in this package. At the same time. Mr. Speaker. that we are presently cutting care to the elderly and to the poor. the Federal Government is paying for the veterinary care of pets for military personnel. At the same time. Mr. Speaker. that we cut money for food stamps and lunches for schoolchildren. the taxpayers are paying for meals served in the Secretary of Defense. Casper Weinbergers private dining.room. At the same time that we cut education aid denying young men and women the opportunity to make it in society. we are paying for personal servants for 300 senior officers in the armed services. At the same time that we claim that only the needy should be helped and only the most worthwhile programs should be spared. we allow military teletype to be used for routine lowpriority messages of the Department of Defense. all of this at the taxpayers expense. My amendment would end the subsidies for free meals in Secretary Weinbergers dining room. for personal servants. for veterinary care. and insure that teletypes are not used for lowpriority messages. . The amendment would not impair in any way our defensive capabilities as a nation. Let me give you an example. For every meal that is served in the Secretary of Defenses dining room. and I might add that last year there were approximately 30.869 meals served at a cost of $3.97. with an additional subsidy of $16.05. in other words. every one of those meals were subsidized to the tune of $16. In terms of telecommunications. one telecommunication that was sent over the teletype service took 76 days elapsed time between the time they recieved the message and the time that the other party decided to respond. It also went so far as to transfer a monthly report showing the installations retail and services department sales and inventories. It seems to me that at this particular moment when so many people are being asked to sacrifice. that I believe that the Secretary of Defense. I believe that the petsoriginally veterinary care was solely and strictly for the purpose of taking care of animals where there was a possibility of a communicable disease between a human and an animal. but today they manicure them. they shampoo them. again all of this at taxpayers expense.\n"
     ]
    }
   ],
   "source": [
    "explore_data.random_speech(all_speeches, all_speech_ids, ethnicity, descr)"
   ]
  },
  {
   "cell_type": "code",
   "execution_count": 13,
   "metadata": {},
   "outputs": [
    {
     "name": "stdout",
     "output_type": "stream",
     "text": [
      "Speaker information\n",
      "speakerid 97107380.0\n",
      "word_count 533\n",
      "State NY\n",
      "Age 43.0\n",
      "Full Name LUNDINE, STANLEY\n",
      "Congress 97\n",
      "Party D\n",
      "match exact\n",
      "date 19820506\n",
      "Female 0.0\n",
      "char_count 3341\n",
      "Ethnicity W\n",
      "Age_lt_med 1.0\n",
      "Chamber H\n",
      "NonWhite 0.0\n",
      "speaker Mr. LUNDINE\n",
      "\n",
      "Mr. Speaker. in the upcoming weeks. this legislative body will face critical decisions on a critical environmental issuereauthorization of the Clean Air Act. During the debate on this issue we will be confronted with a choice on the one hand between streamlining our efforts to preserve existing health based standards and goals for controlling emissions from stationary and mobile sources. or on the other hand. relaxing standards and timeframes for achieving and maintaining our clean air goals. The most often relied upon justification for relaxation of existing clean air standards and goals evolves around the claims by some that environmental regulation has negative impacts on productivity and economic growth. Assertions have been made by some business groups that the Clean Air Act has cost the private sector $16 billion in compliance costs each year. but has only yielded $8 billion in benefits. In addition. the Clean Air Act is often cited as a significant contributor to jobs lost in some of our most depressed industries such as autos and steel. A close look at existing data and studies to date reveals that these contentions are unfounded. A recently completed review by the public interest economic foundation of the data available on this subject through the Environmental Protection Agency. Bureau of Economic Analysis of the Department of Commerce. U.S. Bureau of the Census. and McGraw Hill led to the following conclusions regarding the aggregate effects of the Clean Air Act on the economy: First. output has remained essentially unchanged. with only a modest reduction of approximately 0.1 percent per year. When these changes are adJusted to take into account benefits not reflected in market transactions. real output has increased. .Second. unemployment was 0.1 to 0.2 percent lower per year than It would have been without clean air legislation. Third. prices increased very slightly. from 0.1 to 0.2 percent per year. Considerations of benefits not reflected in market transactions suggests that air pollution controls have had virtually no effect on inflation. Fourth. labor productivity. as con ventionally measured. has been essentially unaffected. with a reduction of less than 1 percent per year reported by the most adverse studies. Fifth. Clean Air Act benefits have exceeded compliance costs. The most comprehensive survey to date estimates benefits of $21.4 billion. and costs of $17 billion. Sixth. compliance expenditures by the private sector have remained stable since 1975 in real terms on average less than 3 percent of gross private domestic investment. On balance. the Clean Air Act has helped us progress toward a healthier. more productive society. We would be making a serious mistake to Identify the Clean Air Act as a significant cause of our current economic difficulties. or relaxation of clean air standards as a significant factor in revitalization of our troubled industries. I. together with my colleague Congresswoman SCHNEmER have begun and will be continuing to circulate a number of dear colleagues in the weeks ahead which explore the economics of the Clean Air Act. I urge you to join us in examining this aspect of this issue carefully. When you do. I think you will find that the Clean Air Act has had a positive impact on innovation. job creation. and economic productivity.\n"
     ]
    }
   ],
   "source": [
    "explore_data.random_speech(all_speeches, all_speech_ids, age, descr)"
   ]
  },
  {
   "cell_type": "markdown",
   "metadata": {},
   "source": [
    "## Split into train, validate, test"
   ]
  },
  {
   "cell_type": "markdown",
   "metadata": {},
   "source": [
    "### Filter on party if necessary"
   ]
  },
  {
   "cell_type": "code",
   "execution_count": 28,
   "metadata": {},
   "outputs": [],
   "source": [
    "reload(load_data)\n",
    "all_speeches_d, all_speech_ids_d, gender_d = load_data.filter_data(all_speeches, all_speech_ids, gender, party, 'D')\n",
    "len(all_speeches_d), len(all_speech_ids_d), len(gender_d)"
   ]
  },
  {
   "cell_type": "code",
   "execution_count": 37,
   "metadata": {},
   "outputs": [
    {
     "data": {
      "text/html": [
       "<div>\n",
       "<style scoped>\n",
       "    .dataframe tbody tr th:only-of-type {\n",
       "        vertical-align: middle;\n",
       "    }\n",
       "\n",
       "    .dataframe tbody tr th {\n",
       "        vertical-align: top;\n",
       "    }\n",
       "\n",
       "    .dataframe thead th {\n",
       "        text-align: right;\n",
       "    }\n",
       "</style>\n",
       "<table border=\"1\" class=\"dataframe\">\n",
       "  <thead>\n",
       "    <tr style=\"text-align: right;\">\n",
       "      <th></th>\n",
       "      <th>Category</th>\n",
       "      <th>Count</th>\n",
       "    </tr>\n",
       "  </thead>\n",
       "  <tbody>\n",
       "    <tr>\n",
       "      <th>0</th>\n",
       "      <td>0</td>\n",
       "      <td>103864</td>\n",
       "    </tr>\n",
       "    <tr>\n",
       "      <th>1</th>\n",
       "      <td>1</td>\n",
       "      <td>2172</td>\n",
       "    </tr>\n",
       "  </tbody>\n",
       "</table>\n",
       "</div>"
      ],
      "text/plain": [
       "<IPython.core.display.HTML object>"
      ]
     },
     "metadata": {},
     "output_type": "display_data"
    }
   ],
   "source": [
    "reload(explore_data)\n",
    "explore_data.get_counts(gender_d)"
   ]
  },
  {
   "cell_type": "markdown",
   "metadata": {},
   "source": [
    "### Split into train/val/test"
   ]
  },
  {
   "cell_type": "markdown",
   "metadata": {},
   "source": [
    "### Split by congress"
   ]
  },
  {
   "cell_type": "code",
   "execution_count": 9,
   "metadata": {},
   "outputs": [],
   "source": [
    "# reload(preprocess_data)\n",
    "# train, train_ids, train_target, val, val_ids, val_target, test, test_ids, test_target = preprocess_data.split_by_congress(all_speeches, all_speech_ids, gender, descr, congress)"
   ]
  },
  {
   "cell_type": "code",
   "execution_count": 18,
   "metadata": {
    "scrolled": true
   },
   "outputs": [
    {
     "name": "stdout",
     "output_type": "stream",
     "text": [
      "Training split: 498 ones and 498 zeroes\n",
      "Training speech list size: 996\n",
      "Training target list size: 996\n",
      "Validation split: 166 ones and 166 zeroes\n",
      "Validation speech list size: 332\n",
      "Validation target list size: 332\n",
      "Test split: 166 ones and 166 zeroes\n",
      "Test speech list size: 332\n",
      "Test target list size: 332\n"
     ]
    }
   ],
   "source": [
    "reload(preprocess_data)\n",
    "train, train_ids, train_target, val, val_ids, val_target, test, test_ids, test_target = preprocess_data.split_train_val_test(all_speeches, all_speech_ids, gender, descr)"
   ]
  },
  {
   "cell_type": "code",
   "execution_count": 19,
   "metadata": {},
   "outputs": [
    {
     "data": {
      "text/plain": [
       "(498, 166, 166)"
      ]
     },
     "execution_count": 19,
     "metadata": {},
     "output_type": "execute_result"
    }
   ],
   "source": [
    "sum(train_target), sum(val_target), sum(test_target)"
   ]
  },
  {
   "cell_type": "code",
   "execution_count": 20,
   "metadata": {},
   "outputs": [
    {
     "data": {
      "text/plain": [
       "521"
      ]
     },
     "execution_count": 20,
     "metadata": {},
     "output_type": "execute_result"
    }
   ],
   "source": [
    "# number of speeches under 30 words\n",
    "sum(np.array(gender)==1) - (sum(train_target) + sum(val_target) + sum(test_target))"
   ]
  },
  {
   "cell_type": "code",
   "execution_count": 21,
   "metadata": {},
   "outputs": [
    {
     "name": "stdout",
     "output_type": "stream",
     "text": [
      "Speaker information\n",
      "date 19820617\n",
      "match exact\n",
      "Ethnicity W\n",
      "word_count 101\n",
      "Party R\n",
      "Female 1.0\n",
      "Age_lt_med 0.0\n",
      "NonWhite 0.0\n",
      "speakerid 97106111.0\n",
      "State FL\n",
      "Age 55.0\n",
      "Chamber S\n",
      "char_count 572\n",
      "speaker Mrs. HAWKINS\n",
      "Full Name HAWKINS, PAULA\n",
      "Congress 97\n",
      "\n",
      "Mr. President. it is prepared as a resolution and it has become obvious this evening that in order to get the immediate attention needed that we will change it to an amendment in order to address the urgency of the situation of the captives. young Argentineans. who are on the Falkland Islands. who the British say they cannot feed. they cannot clothe. and they are becoming frostbitten. and as we sit here this evening comfortable in our seats. It is a sense of urgency there. and I prefer having a senseoftheSenate resolution but we were advised to make it an amendment.\n"
     ]
    }
   ],
   "source": [
    "explore_data.random_speech(train, train_ids, train_target, descr)"
   ]
  },
  {
   "cell_type": "markdown",
   "metadata": {},
   "source": [
    "## EDA on train data"
   ]
  },
  {
   "cell_type": "markdown",
   "metadata": {},
   "source": [
    "Source: https://developers.google.com/machine-learning/guides/text-classification/step-2"
   ]
  },
  {
   "cell_type": "markdown",
   "metadata": {},
   "source": [
    "### Check median number of words per sample in train/val/test"
   ]
  },
  {
   "cell_type": "code",
   "execution_count": 38,
   "metadata": {},
   "outputs": [
    {
     "data": {
      "text/plain": [
       "<module 'helpers.explore_data' from '/tf/notebooks/final-project/Classification/helpers/explore_data.py'>"
      ]
     },
     "execution_count": 38,
     "metadata": {},
     "output_type": "execute_result"
    }
   ],
   "source": [
    "reload(explore_data)"
   ]
  },
  {
   "cell_type": "code",
   "execution_count": 22,
   "metadata": {},
   "outputs": [
    {
     "data": {
      "text/plain": [
       "212.0"
      ]
     },
     "execution_count": 22,
     "metadata": {},
     "output_type": "execute_result"
    }
   ],
   "source": [
    "explore_data.get_num_words_per_sample(train)"
   ]
  },
  {
   "cell_type": "code",
   "execution_count": 23,
   "metadata": {},
   "outputs": [
    {
     "data": {
      "text/plain": [
       "220.0"
      ]
     },
     "execution_count": 23,
     "metadata": {},
     "output_type": "execute_result"
    }
   ],
   "source": [
    "explore_data.get_num_words_per_sample(val)"
   ]
  },
  {
   "cell_type": "code",
   "execution_count": 24,
   "metadata": {},
   "outputs": [
    {
     "data": {
      "text/plain": [
       "216.5"
      ]
     },
     "execution_count": 24,
     "metadata": {},
     "output_type": "execute_result"
    }
   ],
   "source": [
    "explore_data.get_num_words_per_sample(test)"
   ]
  },
  {
   "cell_type": "code",
   "execution_count": 25,
   "metadata": {},
   "outputs": [
    {
     "data": {
      "image/png": "[encoded data removed]",
      "text/plain": [
       "<Figure size 432x288 with 1 Axes>"
      ]
     },
     "metadata": {
      "needs_background": "light"
     },
     "output_type": "display_data"
    }
   ],
   "source": [
    "explore_data.plot_sample_length_distribution(train)"
   ]
  },
  {
   "cell_type": "markdown",
   "metadata": {},
   "source": [
    "### Most popular unigrams (training only)"
   ]
  },
  {
   "cell_type": "code",
   "execution_count": 32,
   "metadata": {},
   "outputs": [
    {
     "data": {
      "text/plain": [
       "199"
      ]
     },
     "execution_count": 32,
     "metadata": {},
     "output_type": "execute_result"
    }
   ],
   "source": [
    "train_sample = random.sample(train, int(len(train)*0.2))\n",
    "len(train_sample)"
   ]
  },
  {
   "cell_type": "code",
   "execution_count": 33,
   "metadata": {},
   "outputs": [
    {
     "name": "stdout",
     "output_type": "stream",
     "text": [
      "['the', 'of', 'to', 'and', 'in', 'that', 'is', 'for', 'this', 'we', 'it', 'on', 'have', 'be', 'are', 'not', 'as', 'with', 'will', 'by', 'has', 'mr', 'would', 'was', 'from', 'they', 'our', 'which', 'an', 'my', 'at', 'their', 'but', 'or', 'his', 'amendment', 'he', 'who', 'bill', 'budget', 'more', 'been', 'president', 'all', 'committee', 'there', 'people', 'time', 'do', 'if']\n"
     ]
    },
    {
     "data": {
      "image/png": "[encoded data removed]",
      "text/plain": [
       "<Figure size 1440x720 with 1 Axes>"
      ]
     },
     "metadata": {
      "needs_background": "light"
     },
     "output_type": "display_data"
    }
   ],
   "source": [
    "explore_data.plot_frequency_distribution_of_ngrams(train_sample, ngram_range=(1,1))"
   ]
  },
  {
   "cell_type": "markdown",
   "metadata": {},
   "source": [
    "### Most popular bigrams (training only)"
   ]
  },
  {
   "cell_type": "code",
   "execution_count": 34,
   "metadata": {},
   "outputs": [
    {
     "name": "stdout",
     "output_type": "stream",
     "text": [
      "['of the', 'in the', 'to the', 'it is', 'on the', 'that the', 'for the', 'by the', 'and the', 'of this', 'with the', 'to be', 'mr speaker', 'we are', 'will be', 'we have', 'at the', 'is the', 'mr president', 'that we', 'the gentleman', 'from the', 'the committee', 'the bill', 'of our', 'have been', 'do not', 'this is', 'has been', 'would be', 'this bill', 'there is', 'the united', 'in this', 'the budget', 'the american', 'new york', 'is not', 'the first', 'as the', 'my colleagues', 'united states', 'the federal', 'mr chairman', 'want to', 'this amendment', 'the house', 'that is', 'one of', 'the senate']\n"
     ]
    },
    {
     "data": {
      "image/png": "[encoded data removed]",
      "text/plain": [
       "<Figure size 1440x720 with 1 Axes>"
      ]
     },
     "metadata": {
      "needs_background": "light"
     },
     "output_type": "display_data"
    }
   ],
   "source": [
    "explore_data.plot_frequency_distribution_of_ngrams(train_sample, ngram_range=(2,2))"
   ]
  },
  {
   "cell_type": "markdown",
   "metadata": {},
   "source": [
    "### Most popular trigrams (training only)"
   ]
  },
  {
   "cell_type": "code",
   "execution_count": 35,
   "metadata": {},
   "outputs": [
    {
     "name": "stdout",
     "output_type": "stream",
     "text": [
      "['the united states', 'the gentleman from', 'would like to', 'one of the', 'the federal government', 'the fact that', 'chairman of the', 'the department of', 'members of the', 'member of the', 'in order to', 'the people of', 'part of the', 'out of the', 'my colleagues to', 'in new york', 'the soviet union', 'the committee on', 'of the senate', 'of the committee', 'of the bill', 'are going to', 'the american people', 'thank the gentleman', 'of the american', 'we do not', 'this is the', 'percent of the', 'of the united', 'of the house', 'new york city', 'the state of', 'the senator from', 'that we are', 'in support of', 'employment and training', 'this amendment is', 'that it is', 'some of the', 'rise in support', 'of the most', 'mr chairman rise', 'is going to', 'going to be', 'there is no', 'of the budget', 'fiscal year 1983', 'as well as', 'we have to', 'we are going']\n"
     ]
    },
    {
     "data": {
      "image/png": "[encoded data removed]",
      "text/plain": [
       "<Figure size 1440x720 with 1 Axes>"
      ]
     },
     "metadata": {
      "needs_background": "light"
     },
     "output_type": "display_data"
    }
   ],
   "source": [
    "explore_data.plot_frequency_distribution_of_ngrams(train_sample, ngram_range=(3,3))"
   ]
  },
  {
   "cell_type": "code",
   "execution_count": 76,
   "metadata": {},
   "outputs": [
    {
     "name": "stdout",
     "output_type": "stream",
     "text": [
      "For Congress 97 top 10 (3, 3) ngrams are:\n",
      "the united states\n",
      "would like to\n",
      "the american people\n",
      "the gentleman from\n",
      "one of the\n",
      "the federal government\n",
      "the committee on\n",
      "the soviet union\n",
      "the department of\n",
      "the fact that\n"
     ]
    }
   ],
   "source": [
    "reload(explore_data)\n",
    "explore_data.ngrams_by_category(train, train_ids, descr, congress, 'Congress', p=0.3)"
   ]
  },
  {
   "cell_type": "markdown",
   "metadata": {},
   "source": [
    "## N-gram model"
   ]
  },
  {
   "cell_type": "markdown",
   "metadata": {},
   "source": [
    "Inspiration for code: https://developers.google.com/machine-learning/guides/text-classification/step-3"
   ]
  },
  {
   "cell_type": "markdown",
   "metadata": {},
   "source": [
    "### Pre-processing"
   ]
  },
  {
   "cell_type": "code",
   "execution_count": 37,
   "metadata": {},
   "outputs": [],
   "source": [
    "# Vectorization parameters\n",
    "# Range (inclusive) of n-gram sizes for tokenizing text.\n",
    "NGRAM_RANGE = (1, 2)\n",
    "\n",
    "# Minimum corpus frequency below which a token will be discarded.\n",
    "MIN_DOCUMENT_FREQUENCY = 5\n",
    "\n",
    "# Maximum proportion of corpus containing a word above which a token will be discarded.\n",
    "# Helps eliminate stop words\n",
    "MAX_DOCUMENT_FREQUENCY = 0.7\n",
    "\n",
    "# Limit on the number of features. We use the top 20K features.\n",
    "TOP_K = 20000\n",
    "\n",
    "# Output number of top/bottom scoring ngrams\n",
    "TOP_N = 5\n",
    "\n",
    "model_params = {\n",
    "    'ngram_range': NGRAM_RANGE,\n",
    "    'min_df': MIN_DOCUMENT_FREQUENCY,\n",
    "    'max_df': MAX_DOCUMENT_FREQUENCY,\n",
    "    'top_k': TOP_K,\n",
    "    'top_n': TOP_N\n",
    "}"
   ]
  },
  {
   "cell_type": "code",
   "execution_count": 45,
   "metadata": {},
   "outputs": [
    {
     "name": "stderr",
     "output_type": "stream",
     "text": [
      "/usr/local/lib/python3.5/dist-packages/sklearn/feature_extraction/text.py:1577: UserWarning: Only (<class 'numpy.float64'>, <class 'numpy.float32'>, <class 'numpy.float16'>) 'dtype' should be used. int32 'dtype' will be converted to np.float64.\n",
      "  UserWarning)\n"
     ]
    },
    {
     "name": "stdout",
     "output_type": "stream",
     "text": [
      "Total vocabulary size: 12082\n",
      "Number of stop words 153920\n",
      "\n",
      "Top 5 ngrams by differentiating score:\n",
      "mr president \t 94.2\n",
      "senator \t 60.6\n",
      "president \t 48.8\n",
      "senator from \t 38.7\n",
      "the senator \t 36.9\n",
      "\n",
      "Bottom 5 ngrams by differentiating score:\n",
      "war and \t 0.0\n",
      "shown that \t 0.0\n",
      "say in \t 0.0\n",
      "denying \t 0.0\n",
      "70 percent \t 0.0\n"
     ]
    }
   ],
   "source": [
    "reload(preprocess_data)\n",
    "train_vec, val_vec, test_vec = preprocess_data.ngram_vectorize(train, train_target, val, test, **model_params)"
   ]
  },
  {
   "cell_type": "code",
   "execution_count": 46,
   "metadata": {},
   "outputs": [
    {
     "data": {
      "text/plain": [
       "(996, 332, 332)"
      ]
     },
     "execution_count": 46,
     "metadata": {},
     "output_type": "execute_result"
    }
   ],
   "source": [
    "len(train), len(val), len(test)"
   ]
  },
  {
   "cell_type": "code",
   "execution_count": 47,
   "metadata": {},
   "outputs": [
    {
     "data": {
      "text/plain": [
       "((996, 12082), (332, 12082), (332, 12082))"
      ]
     },
     "execution_count": 47,
     "metadata": {},
     "output_type": "execute_result"
    }
   ],
   "source": [
    "train_vec.shape, val_vec.shape, test_vec.shape"
   ]
  },
  {
   "cell_type": "markdown",
   "metadata": {},
   "source": [
    "### Saving processed files"
   ]
  },
  {
   "cell_type": "code",
   "execution_count": 41,
   "metadata": {},
   "outputs": [
    {
     "data": {
      "text/plain": [
       "'/tf/notebooks/final-project/Classification'"
      ]
     },
     "execution_count": 41,
     "metadata": {},
     "output_type": "execute_result"
    }
   ],
   "source": [
    "pwd"
   ]
  },
  {
   "cell_type": "code",
   "execution_count": 61,
   "metadata": {},
   "outputs": [],
   "source": [
    "data_path = '/tf/notebooks/final-project/Classification/data'"
   ]
  },
  {
   "cell_type": "code",
   "execution_count": 68,
   "metadata": {},
   "outputs": [],
   "source": [
    "scipy.sparse.save_npz(os.path.join(data_path, 'train_vec.npz'), train_vec)\n",
    "scipy.sparse.save_npz(os.path.join(data_path, 'val_vec.npz'), val_vec)\n",
    "scipy.sparse.save_npz(os.path.join(data_path, 'test_vec.npz'), test_vec)"
   ]
  },
  {
   "cell_type": "code",
   "execution_count": 69,
   "metadata": {},
   "outputs": [],
   "source": [
    "train_vec = scipy.sparse.load_npz(os.path.join(data_path, 'train_vec.npz'))\n",
    "val_vec = scipy.sparse.load_npz(os.path.join(data_path, 'val_vec.npz'))\n",
    "test_vec = scipy.sparse.load_npz(os.path.join(data_path, 'test_vec.npz'))"
   ]
  },
  {
   "cell_type": "code",
   "execution_count": 70,
   "metadata": {},
   "outputs": [
    {
     "data": {
      "text/plain": [
       "((996, 12082), (332, 12082), (332, 12082))"
      ]
     },
     "execution_count": 70,
     "metadata": {},
     "output_type": "execute_result"
    }
   ],
   "source": [
    "train_vec.shape, val_vec.shape, test_vec.shape"
   ]
  },
  {
   "cell_type": "code",
   "execution_count": 72,
   "metadata": {},
   "outputs": [],
   "source": [
    "with open(os.path.join(data_path, 'train_list'), 'wb') as fp:\n",
    "    pickle.dump(train, fp)\n",
    "with open(os.path.join(data_path, 'train_ids'), 'wb') as fp:\n",
    "    pickle.dump(train_ids, fp)\n",
    "with open(os.path.join(data_path, 'train_target'), 'wb') as fp:\n",
    "    pickle.dump(train_target, fp)\n",
    "with open(os.path.join(data_path, 'val_list'), 'wb') as fp:\n",
    "    pickle.dump(val, fp)\n",
    "with open(os.path.join(data_path, 'val_ids'), 'wb') as fp:\n",
    "    pickle.dump(val_ids, fp)\n",
    "with open(os.path.join(data_path, 'val_target'), 'wb') as fp:\n",
    "    pickle.dump(val_target, fp)\n",
    "with open(os.path.join(data_path, 'test_list'), 'wb') as fp:\n",
    "    pickle.dump(test, fp)\n",
    "with open(os.path.join(data_path, 'test_ids'), 'wb') as fp:\n",
    "    pickle.dump(test_ids, fp)\n",
    "with open(os.path.join(data_path, 'test_target'), 'wb') as fp:\n",
    "    pickle.dump(test_target, fp)"
   ]
  },
  {
   "cell_type": "code",
   "execution_count": 73,
   "metadata": {},
   "outputs": [
    {
     "data": {
      "text/plain": [
       "(498, 166, 166)"
      ]
     },
     "execution_count": 73,
     "metadata": {},
     "output_type": "execute_result"
    }
   ],
   "source": [
    "sum(train_target), sum(val_target), sum(test_target)"
   ]
  },
  {
   "cell_type": "code",
   "execution_count": 74,
   "metadata": {},
   "outputs": [],
   "source": [
    "with open(os.path.join(data_path, 'train_list'), 'rb') as fp:\n",
    "    train = pickle.load(fp)\n",
    "with open(os.path.join(data_path, 'train_ids'), 'rb') as fp:\n",
    "    train_ids = pickle.load(fp)\n",
    "with open(os.path.join(data_path, 'train_target'), 'rb') as fp:\n",
    "    train_target = pickle.load(fp)\n",
    "with open(os.path.join(data_path, 'val_list'), 'rb') as fp:\n",
    "    val = pickle.load(fp)\n",
    "with open(os.path.join(data_path, 'val_ids'), 'rb') as fp:\n",
    "    val_ids = pickle.load(fp)\n",
    "with open(os.path.join(data_path, 'val_target'), 'rb') as fp:\n",
    "    val_target = pickle.load(fp)\n",
    "with open(os.path.join(data_path, 'test_list'), 'rb') as fp:\n",
    "    test = pickle.load(fp)\n",
    "with open(os.path.join(data_path, 'test_ids'), 'rb') as fp:\n",
    "    test_ids = pickle.load(fp)\n",
    "with open(os.path.join(data_path, 'test_target'), 'rb') as fp:\n",
    "    test_target = pickle.load(fp)"
   ]
  },
  {
   "cell_type": "code",
   "execution_count": 75,
   "metadata": {},
   "outputs": [
    {
     "data": {
      "text/plain": [
       "(498, 166, 166)"
      ]
     },
     "execution_count": 75,
     "metadata": {},
     "output_type": "execute_result"
    }
   ],
   "source": [
    "sum(train_target), sum(val_target), sum(test_target)"
   ]
  },
  {
   "cell_type": "markdown",
   "metadata": {},
   "source": [
    "### Model: Multi-Layer Perceptron (Vanilla NN)"
   ]
  },
  {
   "cell_type": "code",
   "execution_count": 20,
   "metadata": {},
   "outputs": [],
   "source": [
    "import tensorflow as tf\n",
    "\n",
    "from tensorflow.python.keras import models\n",
    "from tensorflow.python.keras.layers import Dense\n",
    "from tensorflow.python.keras.layers import Dropout"
   ]
  },
  {
   "cell_type": "code",
   "execution_count": 33,
   "metadata": {},
   "outputs": [],
   "source": [
    "logs_base_dir = \"/tf/notebooks/final-project/logs\""
   ]
  },
  {
   "cell_type": "code",
   "execution_count": 37,
   "metadata": {},
   "outputs": [],
   "source": [
    "def mlp_model(layers, units, dropout_rate, input_shape, num_classes):\n",
    "    \"\"\"\n",
    "    Creates an instance of a multi-layer perceptron model.\n",
    "\n",
    "    Arguments\n",
    "        layers: int, number of `Dense` layers in the model.\n",
    "        units: int, output dimension of the layers.\n",
    "        dropout_rate: float, percentage of input to drop at Dropout layers.\n",
    "        input_shape: tuple, shape of input to the model.\n",
    "        num_classes: int, number of output classes.\n",
    "\n",
    "    Returns\n",
    "        An MLP model instance.\n",
    "    \"\"\"\n",
    "    op_units, op_activation = 1, 'sigmoid'\n",
    "    model = models.Sequential()\n",
    "    model.add(Dropout(rate=dropout_rate, input_shape=input_shape))\n",
    "\n",
    "    for _ in range(layers-1):\n",
    "        model.add(Dense(units=units, activation='relu'))\n",
    "        model.add(Dropout(rate=dropout_rate))\n",
    "\n",
    "    model.add(Dense(units=op_units, activation=op_activation))\n",
    "    \n",
    "    return model"
   ]
  },
  {
   "cell_type": "code",
   "execution_count": 99,
   "metadata": {},
   "outputs": [],
   "source": [
    "def train_ngram_model(data,\n",
    "                      learning_rate=1e-3,\n",
    "                      epochs=1000,\n",
    "                      batch_size=128,\n",
    "                      layers=2,\n",
    "                      units=64,\n",
    "                      dropout_rate=0.2):\n",
    "    \"\"\"\n",
    "    Trains n-gram model on the given dataset.\n",
    "\n",
    "    Arguments:\n",
    "        data: tuples of vectorized training and test texts and labels.\n",
    "        learning_rate: float, learning rate for training model.\n",
    "        epochs: int, number of epochs.\n",
    "        batch_size: int, number of samples per batch.\n",
    "        layers: int, number of `Dense` layers in the model.\n",
    "        units: int, output dimension of Dense layers in the model.\n",
    "        dropout_rate: float: percentage of input to drop at Dropout layers.\n",
    "\n",
    "    Returns:\n",
    "        tuple with accuracy and loss on validation data for the last interation\n",
    "    \"\"\"\n",
    "    # Get the data.\n",
    "    (x_train, train_labels), (x_val, val_labels) = data\n",
    "\n",
    "    # Verify that validation labels are in the same range as training labels.\n",
    "    num_classes = 2\n",
    "\n",
    "    # Create model instance.\n",
    "    model = mlp_model(layers=layers,\n",
    "                                  units=units,\n",
    "                                  dropout_rate=dropout_rate,\n",
    "                                  input_shape=x_train.shape[1:],\n",
    "                                  num_classes=num_classes)\n",
    "\n",
    "    # Compile model with learning parameters.\n",
    "    optimizer = tf.keras.optimizers.Adam(lr=learning_rate)\n",
    "    model.compile(optimizer=optimizer, loss='binary_crossentropy', metrics=['acc'])\n",
    "\n",
    "    # Create callback for early stopping on validation loss. If the loss does\n",
    "    # not decrease in two consecutive tries, stop training.\n",
    "    callbacks = [\n",
    "        tf.keras.callbacks.EarlyStopping(monitor='val_loss', \n",
    "                                         patience=2),\n",
    "        tf.keras.callbacks.TensorBoard(log_dir=logs_base_dir, \n",
    "                                       histogram_freq=0, \n",
    "                                       write_graph=True, \n",
    "                                       write_images=True)]\n",
    "\n",
    "    # Train and validate model.\n",
    "    history = model.fit(\n",
    "            x_train,\n",
    "            train_labels,\n",
    "            epochs=epochs,\n",
    "            callbacks=callbacks,\n",
    "            validation_data=(x_val, val_labels),\n",
    "            verbose=2,  # Logs once per epoch.\n",
    "            batch_size=batch_size)\n",
    "\n",
    "    # Print results.\n",
    "    history = history.history\n",
    "    print('Validation accuracy: {acc}, loss: {loss}'.format(\n",
    "            acc=history['val_acc'][-1], loss=history['val_loss'][-1]))\n",
    "    \n",
    "    train_pred_probs = model.predict(x_train)\n",
    "    val_pred_probs = model.predict(x_val)\n",
    "\n",
    "    return history, train_pred_probs, val_pred_probs\n",
    "    \n",
    "    \n",
    "    # Save model.\n",
    "#     model.save('C97_mlp_model.h5')\n",
    "\n",
    "#         train_preds = model.predict_classes(x_train)\n",
    "#     val_preds = model.predict_classes(x_val)\n",
    "    \n",
    "#     return history['val_acc'][-1], history['val_loss'][-1]"
   ]
  },
  {
   "cell_type": "code",
   "execution_count": 100,
   "metadata": {},
   "outputs": [
    {
     "name": "stdout",
     "output_type": "stream",
     "text": [
      "Train on 3244 samples, validate on 1080 samples\n",
      "Epoch 1/1000\n",
      " - 1s - loss: 0.6752 - acc: 0.7124 - val_loss: 0.6599 - val_acc: 0.6713\n",
      "Epoch 2/1000\n",
      " - 1s - loss: 0.5912 - acc: 0.8567 - val_loss: 0.6195 - val_acc: 0.6926\n",
      "Epoch 3/1000\n",
      " - 1s - loss: 0.4952 - acc: 0.8844 - val_loss: 0.5868 - val_acc: 0.6944\n",
      "Epoch 4/1000\n",
      " - 1s - loss: 0.4077 - acc: 0.9152 - val_loss: 0.5673 - val_acc: 0.7028\n",
      "Epoch 5/1000\n",
      " - 1s - loss: 0.3299 - acc: 0.9365 - val_loss: 0.5557 - val_acc: 0.7130\n",
      "Epoch 6/1000\n",
      " - 1s - loss: 0.2703 - acc: 0.9528 - val_loss: 0.5498 - val_acc: 0.7176\n",
      "Epoch 7/1000\n",
      " - 1s - loss: 0.2191 - acc: 0.9686 - val_loss: 0.5491 - val_acc: 0.7120\n",
      "Epoch 8/1000\n",
      " - 1s - loss: 0.1803 - acc: 0.9766 - val_loss: 0.5506 - val_acc: 0.7093\n",
      "Epoch 9/1000\n",
      " - 1s - loss: 0.1506 - acc: 0.9827 - val_loss: 0.5548 - val_acc: 0.7139\n",
      "Validation accuracy: 0.7138888835906982, loss: 0.5548078227926183\n"
     ]
    }
   ],
   "source": [
    "history, train_pred_probs, val_pred_probs = train_ngram_model(((train_vec, train_target), (val_vec, val_target)))"
   ]
  },
  {
   "cell_type": "markdown",
   "metadata": {},
   "source": [
    "## Model evaluation"
   ]
  },
  {
   "cell_type": "code",
   "execution_count": 104,
   "metadata": {},
   "outputs": [
    {
     "data": {
      "text/plain": [
       "771"
      ]
     },
     "execution_count": 104,
     "metadata": {},
     "output_type": "execute_result"
    }
   ],
   "source": [
    "val_preds = val_pred_probs > 0.5\n",
    "np.sum(val_preds.flatten()==val_target)"
   ]
  },
  {
   "cell_type": "code",
   "execution_count": 112,
   "metadata": {},
   "outputs": [
    {
     "name": "stdout",
     "output_type": "stream",
     "text": [
      "Confusion matrix, without normalization\n",
      "[[366 174]\n",
      " [135 405]]\n"
     ]
    },
    {
     "data": {
      "text/plain": [
       "<matplotlib.axes._subplots.AxesSubplot at 0x7f47367dfc18>"
      ]
     },
     "execution_count": 112,
     "metadata": {},
     "output_type": "execute_result"
    },
    {
     "data": {
      "image/png": "[encoded data removed]",
      "text/plain": [
       "<Figure size 432x288 with 2 Axes>"
      ]
     },
     "metadata": {
      "needs_background": "light"
     },
     "output_type": "display_data"
    }
   ],
   "source": [
    "reload(explore_data)\n",
    "# specify class names in 0 - 1 order\n",
    "classes = ['Male', 'Female']\n",
    "explore_data.plot_confusion_matrix(val_target, val_preds, classes, normalize=True)"
   ]
  },
  {
   "cell_type": "code",
   "execution_count": 118,
   "metadata": {
    "scrolled": false
   },
   "outputs": [
    {
     "data": {
      "image/png": "[encoded data removed]",
      "text/plain": [
       "<Figure size 720x720 with 2 Axes>"
      ]
     },
     "metadata": {
      "needs_background": "light"
     },
     "output_type": "display_data"
    }
   ],
   "source": [
    "reload(explore_data)\n",
    "explore_data.plot_calibration_curve(val_target, val_pred_probs, 'Gender')"
   ]
  },
  {
   "cell_type": "code",
   "execution_count": 203,
   "metadata": {},
   "outputs": [
    {
     "data": {
      "text/html": [
       "<div>\n",
       "<style scoped>\n",
       "    .dataframe tbody tr th:only-of-type {\n",
       "        vertical-align: middle;\n",
       "    }\n",
       "\n",
       "    .dataframe tbody tr th {\n",
       "        vertical-align: top;\n",
       "    }\n",
       "\n",
       "    .dataframe thead th {\n",
       "        text-align: right;\n",
       "    }\n",
       "</style>\n",
       "<table border=\"1\" class=\"dataframe\">\n",
       "  <thead>\n",
       "    <tr style=\"text-align: right;\">\n",
       "      <th></th>\n",
       "      <th>Gender_F</th>\n",
       "      <th>Ethinicity_NW</th>\n",
       "      <th>AvgAge</th>\n",
       "      <th>Party_D</th>\n",
       "      <th>Chamber_H</th>\n",
       "      <th>AvgWordCount</th>\n",
       "    </tr>\n",
       "  </thead>\n",
       "  <tbody>\n",
       "    <tr>\n",
       "      <th>1</th>\n",
       "      <td>0.45</td>\n",
       "      <td>0.70</td>\n",
       "      <td>1.04</td>\n",
       "      <td>0.88</td>\n",
       "      <td>0.58</td>\n",
       "      <td>0.96</td>\n",
       "    </tr>\n",
       "    <tr>\n",
       "      <th>2</th>\n",
       "      <td>1.00</td>\n",
       "      <td>0.85</td>\n",
       "      <td>0.99</td>\n",
       "      <td>0.97</td>\n",
       "      <td>1.15</td>\n",
       "      <td>0.90</td>\n",
       "    </tr>\n",
       "    <tr>\n",
       "      <th>3</th>\n",
       "      <td>1.47</td>\n",
       "      <td>1.32</td>\n",
       "      <td>0.97</td>\n",
       "      <td>1.11</td>\n",
       "      <td>1.29</td>\n",
       "      <td>1.07</td>\n",
       "    </tr>\n",
       "  </tbody>\n",
       "</table>\n",
       "</div>"
      ],
      "text/plain": [
       "   Gender_F  Ethinicity_NW  AvgAge  Party_D  Chamber_H  AvgWordCount\n",
       "1      0.45           0.70    1.04     0.88       0.58          0.96\n",
       "2      1.00           0.85    0.99     0.97       1.15          0.90\n",
       "3      1.47           1.32    0.97     1.11       1.29          1.07"
      ]
     },
     "execution_count": 203,
     "metadata": {},
     "output_type": "execute_result"
    }
   ],
   "source": [
    "reload(explore_data)\n",
    "explore_data.check_bin_probs_distr(val_target, val_pred_probs, val_ids, descr)"
   ]
  },
  {
   "cell_type": "code",
   "execution_count": 216,
   "metadata": {},
   "outputs": [
    {
     "name": "stdout",
     "output_type": "stream",
     "text": [
      "\n",
      "In 0.4 bin top 10 ngrams:\n",
      "\n",
      "the senator from\n",
      "the united states\n",
      "would like to\n",
      "the gentleman from\n",
      "ask unanimous consent\n",
      "of the bill\n",
      "in the record\n",
      "in order to\n",
      "unanimous consent that\n",
      "ask unanimous consent that\n",
      "--------------------\n",
      "\n",
      "In 0.6 bin top 10 ngrams:\n",
      "\n",
      "the united states\n",
      "the gentleman from\n",
      "would like to\n",
      "the soviet union\n",
      "the department of\n",
      "one of the\n",
      "the federal government\n",
      "of the united\n",
      "of the united states\n",
      "of the american\n",
      "--------------------\n",
      "\n",
      "In 1.0 bin top 10 ngrams:\n",
      "\n",
      "the united states\n",
      "would like to\n",
      "the soviet union\n",
      "the gentleman from\n",
      "one of the\n",
      "thank the gentleman\n",
      "in support of\n",
      "my colleagues to\n",
      "the people of\n",
      "the gentleman for\n",
      "--------------------\n"
     ]
    }
   ],
   "source": [
    "reload(explore_data)\n",
    "explore_data.ngrams_by_bin(val, val_pred_probs)"
   ]
  },
  {
   "cell_type": "code",
   "execution_count": 242,
   "metadata": {
    "scrolled": false
   },
   "outputs": [
    {
     "name": "stdout",
     "output_type": "stream",
     "text": [
      "\n",
      "True positive (Predicted prob: 0.95):\n",
      "\n",
      "Ethnicity W\n",
      "Age_lt_med 1.0\n",
      "speaker Mrs. MARTIN of Illinois\n",
      "char_count 1292\n",
      "Party R\n",
      "word_count 238\n",
      "match exact\n",
      "speakerid 97108370.0\n",
      "Female 1.0\n",
      "Congress 97\n",
      "date 19821130\n",
      "State IL\n",
      "Full Name MARTIN, LYNN\n",
      "NonWhite 0.0\n",
      "Chamber H\n",
      "Age 43.0\n",
      "\n",
      " I thank the gentleman for yielding. Mr. Speaker. I do not know why any of us should be surprised at the courage and the daring and. almost. occasionally fey part of PAUL FINDLEY. His hero is Abraham Lincoln. He is a Lincoln collector. His office is a repository. really. of Lincoln memorabilia. I think the spirit that moved the greatest son of Illinois is part of. what moved PAUL FINDLEY. I think he cared about peoples rights. If he saw that a right was being abrogated or abridged. even in an unpopular area. lie moved in. If It were equal rights in this Nation or rights in other nations. he moved in. He would represent the farmers. He does represent the farmers in his district. But if somebody was getting too much money from a farm program. he would go in. He cared. Not just for consumers. but I think. in Congressman HYDES words. that vision of a better world that he wanted. For a city girl such as I who repreu sents an agricultural district and has had to learn a great deal quickly. and sometimes not too well. he has also been a teacher. I am much better informed because PAUL FINDLEY helps me. That help and friendship. I know. will continue. We are just quadruply blessed in Illinois as we are talking tonight. He. too. joins ED DERWINSKY in being Just a doggone lovely man.\n",
      "--------------------\n",
      "\n",
      "True negative (Predicted prob: 0.01):\n",
      "\n",
      "Ethnicity W\n",
      "Age_lt_med 0.0\n",
      "speaker Mr. BAKER\n",
      "char_count 494\n",
      "Party R\n",
      "word_count 89\n",
      "match exact\n",
      "speakerid 97104811.0\n",
      "Female 0.0\n",
      "Congress 97\n",
      "date 19810717\n",
      "State TN\n",
      "Full Name BAKER, HOWARD\n",
      "NonWhite 0.0\n",
      "Chamber S\n",
      "Age 57.0\n",
      "\n",
      " The Senator from Ohio is correct. I omitted that from the list of matters I gave to the majority leader. Mr. President. we have cleared on both sides the resolution described by the Senator from Ohio to -be taken up after the disposition of the Weicker amendment. Mr. President. there Is one final step in that process. Certain Senators wished to read that resolution before we get the time clearance. but it is my plan to take up that resolution as soon as we dispose of the Weicker amendment.\n",
      "--------------------\n",
      "\n",
      "False positive (Predicted prob: 0.92):\n",
      "\n",
      "Ethnicity W\n",
      "Age_lt_med 1.0\n",
      "speaker Mr. LEBOUTILLIER\n",
      "char_count 1536\n",
      "Party R\n",
      "word_count 248\n",
      "match fuzzy\n",
      "speakerid 97106190.0\n",
      "Female 0.0\n",
      "Congress 97\n",
      "date 19810528\n",
      "State NY\n",
      "Full Name LEBOUTILLIER, JOHN\n",
      "NonWhite 0.0\n",
      "Chamber H\n",
      "Age 29.0\n",
      "\n",
      " Mr. Speaker. this past year. the Nassau County Department of Senior Citizens Affairs named Mr. Robert F. Bonner of Syosset as the recipient of the Nassau County Sdnlor Citizen Special Contribution in 1980 Award. Mr. Bonner has demonstrated an outstanding career in human and volunteer services. Since 1975. he has served as chairman of the advisory council to the Nassau County Department of Senior Citizens Affairs. His other activities include past involvement in the town of Oyster Bay senior citizens program and numerous other volunteer organizations. As May is the month during which Nassau County traditionally celebrates Senior Citizens Recognition Day. I am honored to join in acknowledging Mr. Bonners glowing record of community service. At this time. I would also like to take the opportunity to note. that Mr. Bonner has been nominated for the New York State Senior Citizen Special Contribution in 1980 Award. His extraordinary efforts of the past year in behalf of others. most certainly justify his nomination. and I extend every best wish for success in his pursuit on still higher honors. Mr. Robert P. Bonner has done all Long Island citizens a great service through the example he has set. He has shown that. at any age. effort extended for the benefit of the community and individuals is exemplary and deserving of imitation. I extend my sincerest congratulations to Mr. Bonner in fitting recognition of his many accomplishments. and I urge all citizens to share his philosophy of service and community Involvement.e\n",
      "--------------------\n",
      "\n",
      "False negative (Predicted prob: 0.05):\n",
      "\n",
      "Ethnicity W\n",
      "Age_lt_med 1.0\n",
      "speaker Ms. FERRARO\n",
      "char_count 191\n",
      "Party D\n",
      "word_count 31\n",
      "match exact\n",
      "speakerid 97106680.0\n",
      "Female 1.0\n",
      "Congress 97\n",
      "date 19820511\n",
      "State NY\n",
      "Full Name FERRARO, GERALDINE\n",
      "NonWhite 0.0\n",
      "Chamber H\n",
      "Age 47.0\n",
      "\n",
      " Mr. Speaker. I ask unanimous consent to take from the Speakers table the Senate bill to authorize an Under Secretary of Commerce for Economic Affairs. and ask for its immediate consideration.\n",
      "--------------------\n"
     ]
    }
   ],
   "source": [
    "reload(explore_data)\n",
    "explore_data.print_mispredictions(val_target, val_pred_probs, val, val_ids, descr)"
   ]
  },
  {
   "cell_type": "code",
   "execution_count": null,
   "metadata": {},
   "outputs": [],
   "source": []
  }
 ],
 "metadata": {
  "kernelspec": {
   "display_name": "Python 3",
   "language": "python",
   "name": "python3"
  },
  "language_info": {
   "codemirror_mode": {
    "name": "ipython",
    "version": 3
   },
   "file_extension": ".py",
   "mimetype": "text/x-python",
   "name": "python",
   "nbconvert_exporter": "python",
   "pygments_lexer": "ipython3",
   "version": "3.6.5"
  }
 },
 "nbformat": 4,
 "nbformat_minor": 2
}
