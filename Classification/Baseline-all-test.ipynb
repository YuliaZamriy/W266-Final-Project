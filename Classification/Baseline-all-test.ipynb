{
 "cells": [
  {
   "cell_type": "code",
   "execution_count": 1,
   "metadata": {},
   "outputs": [
    {
     "data": {
      "text/html": [
       "<style>.container { width:100% !important; }</style>"
      ],
      "text/plain": [
       "<IPython.core.display.HTML object>"
      ]
     },
     "metadata": {},
     "output_type": "display_data"
    }
   ],
   "source": [
    "# increase cell width\n",
    "from IPython.core.display import display, HTML\n",
    "display(HTML(\"<style>.container { width:100% !important; }</style>\"))"
   ]
  },
  {
   "cell_type": "markdown",
   "metadata": {},
   "source": [
    "## TODO:\n",
    "\n",
    "1. Data: \n",
    "    - **done** create script to combine all congresses\n",
    "    - **done** create a party and chamber lists for addtional support\n",
    "    - **done** create congress number list\n",
    "\n",
    "2. Train/Val/Test split:\n",
    "    -  **done** Put into a separate module\n",
    "    -  **done** Add an option to select a party or chapter\n",
    "    - **memory error** Split train/val/test by congress to avoid time bias\n",
    "    - Play with hyperparameters:\n",
    "        - word_count\n",
    "        - random_splits: allocate more to training?\n",
    "        - increase balance ratio?\n",
    "\n",
    "3. EDA:\n",
    "    - Targets by party: should we run gender/ethnicity on Ds only?\n",
    "\n",
    "4. Vectorization:\n",
    "    - Tune hyper parameters:\n",
    "        - ngram_range: 1, 3\n",
    "        - change vocabulary size\n",
    "    - Add outputs:\n",
    "        - **done** stop words\n",
    "        - **done** lowest scoring words\n",
    "        - **done** top n 5 by congress\n",
    "\n",
    "5. Ngram model:\n",
    "    - Tune hyper parameters:\n",
    "        - use GridSearch?\n",
    "        - activation function\n",
    "        - learning rate\n",
    "        - batch size\n",
    "        - layers\n",
    "        - units\n",
    "        - dropout rate\n",
    "        - any other regularization (there is significant overfit)\n",
    "    - Run model:\n",
    "        - for each congress\n",
    "        - add one congress at a time\n",
    "           - hypothesis: is accuracy improving due to more data or more diversity?\n",
    "        - run only for Ds?\n",
    "    - Outputs:\n",
    "        - **done** how to output predicted probablity?\n",
    "    - Model validation:\n",
    "        - **done** build a separate function so it can be used with different models:\n",
    "            - **done** input: predicted probability; actual labels; data (val or test?)\n",
    "        - **done** chart distribution of the predicted probability \n",
    "        - **done** bin predicted probabilities into:\n",
    "            - **done** 0:0.4, 0.4:0.6, 0.6:1?\n",
    "            - **done** accuracy in each bin\n",
    "            - **done** crosstab them with various demos (party, chamber, age, year)\n",
    "            - **done** get 1,2,3-grams for each bin\n",
    "        - **done** output examples of speeches with scores close to 1 and close to 0 that are mispredicted vs predicted correctly\n",
    "        - Accuracy/loss by congress\n",
    "        - Accuracy/loss as congresses added\n",
    "            - save them and plot them\n",
    "\n",
    "### Long term:\n",
    "\n",
    "1. classificaiton models:\n",
    "    - ngram vanilla NN\n",
    "    - CNN\n",
    "    - sentence embeddings\n",
    "    - some other models\n",
    "    - does it help to combine the results ensemble? if they make different mistakes, it should.\n",
    "2. Create a topics model:\n",
    "    - on raw data before classification\n",
    "    - on groups based on predicted probability bings:\n",
    "       - can we explain classification by topics that they bring up?\n",
    "       - or is it just based on language used? here we would check 1,2,3-ngrams\n",
    "3. Age:\n",
    "    - aging congress: how does it affect topics that people bring up?\n",
    "4. Speaker-level analysis:\n",
    "    - cluster speakers (k-means?) by their average predicted scores in classification models?\n",
    "        - for example, a white male that is closer to women by the way they use speech? are they liberals?"
   ]
  },
  {
   "cell_type": "markdown",
   "metadata": {},
   "source": [
    "Inspiration for code:\n",
    "\n",
    "- https://developers.google.com/machine-learning/guides/text-classification/\n",
    "- https://github.com/google/eng-edu/blob/master/ml/guides/text_classification/load_data.py"
   ]
  },
  {
   "cell_type": "code",
   "execution_count": 2,
   "metadata": {},
   "outputs": [],
   "source": [
    "from __future__ import absolute_import\n",
    "from __future__ import division\n",
    "from __future__ import print_function\n",
    "\n",
    "import os\n",
    "import random\n",
    "import time\n",
    "import pickle\n",
    "\n",
    "import numpy as np\n",
    "import pandas as pd\n",
    "\n",
    "from importlib import reload\n",
    "\n",
    "import scipy.sparse"
   ]
  },
  {
   "cell_type": "code",
   "execution_count": 37,
   "metadata": {},
   "outputs": [],
   "source": [
    "from helpers import load_data\n",
    "from helpers import explore_data\n",
    "from helpers import preprocess_data\n",
    "from helpers import train_model"
   ]
  },
  {
   "cell_type": "markdown",
   "metadata": {},
   "source": [
    "## Load the data"
   ]
  },
  {
   "cell_type": "code",
   "execution_count": 4,
   "metadata": {},
   "outputs": [
    {
     "data": {
      "text/plain": [
       "'/tf/notebooks/final-project/Classification'"
      ]
     },
     "execution_count": 4,
     "metadata": {},
     "output_type": "execute_result"
    }
   ],
   "source": [
    "pwd"
   ]
  },
  {
   "cell_type": "code",
   "execution_count": 5,
   "metadata": {},
   "outputs": [
    {
     "name": "stdout",
     "output_type": "stream",
     "text": [
      "speech_id|speech\r\n",
      "970000001|The Senate vill please come to order. The Chaplain will offer the prayer. The Chaplain. the Reverend Edward L. R. Elson. D.D.. offered the following prayer: PRAYER God of our fathers and our God. who has made and preserved us a nation. we thank Thee for Thy care over us from generation to generation. and for the new era which unfolds before us. Let Thy spirit descend upon us with all Its cleansing. healing. and creative power. Make usnew persons for new times in a land newborn in spirit. May the solemn induction of the new Members of this body be a renewal of the vocatinal vows of all others. In the deliberations of this new Congress keep our motives pure. our vision clear. our patriotism undefiled. our speech chaste. our judgments fair. and our consciences unbetrayed. Help us to develop work patterns which sustain the soul. nourish the mind. and strengthen the will. And give us grace to make time for the family. for home. and for worship. What we pray for this body we pray for all others in the service of the Government. Send us each day to our tasks to do Justly.to love mercy. and to walk humbly with our God. Hear us as we pray together the prayerthe Master taught us\"Our Father who art in heaven. hallowed be Thy name. Thy kingdom come. Thy will be done in Earth. as it is in heaven. Give us this day our daily bread. And forgive us our trespasses as we forgive those who trespass against us. And lead us not into temptation. but deliver us from evil* For Thine is the kingdom. and the power. and the glory forever.\" Amen.\r\n"
     ]
    }
   ],
   "source": [
    "!head -2 /tf/notebooks/final-project/data/sample/hein-daily/speeches_097.txt"
   ]
  },
  {
   "cell_type": "code",
   "execution_count": 6,
   "metadata": {},
   "outputs": [
    {
     "name": "stdout",
     "output_type": "stream",
     "text": [
      "283399\r\n"
     ]
    }
   ],
   "source": [
    "!cat /tf/notebooks/final-project/data/sample/hein-daily/speeches_097.txt | wc -l"
   ]
  },
  {
   "cell_type": "code",
   "execution_count": 4,
   "metadata": {},
   "outputs": [],
   "source": [
    "data_path = '/tf/notebooks/final-project/data/sample/hein-daily'"
   ]
  },
  {
   "cell_type": "code",
   "execution_count": 5,
   "metadata": {},
   "outputs": [
    {
     "name": "stdout",
     "output_type": "stream",
     "text": [
      "\n",
      "File speeches_097.txt has 249718612 characters\n",
      "and 283399 speeches\n",
      "\n",
      "Speeches list has 283399 speeches\n"
     ]
    }
   ],
   "source": [
    "reload(load_data)\n",
    "all_speech_ids, all_speeches = load_data.load_speech_data(data_path)"
   ]
  },
  {
   "cell_type": "code",
   "execution_count": 6,
   "metadata": {},
   "outputs": [
    {
     "data": {
      "text/plain": [
       "(283399, 283399)"
      ]
     },
     "execution_count": 6,
     "metadata": {},
     "output_type": "execute_result"
    }
   ],
   "source": [
    "len(all_speech_ids), len(all_speeches)"
   ]
  },
  {
   "cell_type": "markdown",
   "metadata": {},
   "source": [
    "## Create target labels"
   ]
  },
  {
   "cell_type": "markdown",
   "metadata": {},
   "source": [
    "#### TODO:\n",
    "\n",
    "- Why is this taking so much time?\n",
    "- Subset on word cound here?\n",
    "- Make sampling replicable: random seed + random array of proper length"
   ]
  },
  {
   "cell_type": "code",
   "execution_count": 7,
   "metadata": {},
   "outputs": [
    {
     "name": "stdout",
     "output_type": "stream",
     "text": [
      "2914465 lines have been read\n",
      "7227 keys had duplicates and deleted\n",
      "The dictionary has 858639 keys\n",
      "\n",
      "Random congressperson: 1040034061\n",
      "char_count 321\n",
      "speaker Mr. DOGGETT\n",
      "Chamber H\n",
      "Party D\n",
      "match exact\n",
      "Ethnicity W\n",
      "Full Name DOGGETT, LLOYD\n",
      "Age 50.0\n",
      "Age_lt_med 1.0\n",
      "date 19950306\n",
      "State TX\n",
      "word_count 55\n",
      "NonWhite 0.0\n",
      "check 1\n",
      "Female 0.0\n",
      "Congress 104\n",
      "speakerid 104119240.0\n",
      "\n",
      "It took 5.5 seconds to create the dictionary\n"
     ]
    }
   ],
   "source": [
    "reload(load_data)\n",
    "start_time = time.time()\n",
    "# remove p if want to run for the full speech file\n",
    "descr = load_data.load_descr_data('/tf/notebooks/final-project/data/QA/full_descr.txt', p=0.3)\n",
    "print(\"\\nIt took {0:.1f} seconds to create the dictionary\".format(time.time()-start_time))"
   ]
  },
  {
   "cell_type": "code",
   "execution_count": 8,
   "metadata": {},
   "outputs": [
    {
     "data": {
      "text/plain": [
       "0.29461300602786655"
      ]
     },
     "execution_count": 8,
     "metadata": {},
     "output_type": "execute_result"
    }
   ],
   "source": [
    "# check if sampling worked\n",
    "len(list(descr.keys()))/2914464"
   ]
  },
  {
   "cell_type": "code",
   "execution_count": 9,
   "metadata": {},
   "outputs": [
    {
     "data": {
      "text/plain": [
       "(283399, 283399, 283399, 283399, 283399, 283399)"
      ]
     },
     "execution_count": 9,
     "metadata": {},
     "output_type": "execute_result"
    }
   ],
   "source": [
    "gender, ethnicity, age, party, chamber, congress = load_data.create_target_labels(all_speech_ids, descr)\n",
    "len(gender), len(ethnicity), len(age), len(party), len(chamber), len(congress)"
   ]
  },
  {
   "cell_type": "markdown",
   "metadata": {},
   "source": [
    "### Data QA"
   ]
  },
  {
   "cell_type": "code",
   "execution_count": 10,
   "metadata": {},
   "outputs": [
    {
     "name": "stdout",
     "output_type": "stream",
     "text": [
      "\n",
      " Gender\n",
      "Overall speech counts:\n"
     ]
    },
    {
     "data": {
      "text/html": [
       "<div>\n",
       "<style scoped>\n",
       "    .dataframe tbody tr th:only-of-type {\n",
       "        vertical-align: middle;\n",
       "    }\n",
       "\n",
       "    .dataframe tbody tr th {\n",
       "        vertical-align: top;\n",
       "    }\n",
       "\n",
       "    .dataframe thead th {\n",
       "        text-align: right;\n",
       "    }\n",
       "</style>\n",
       "<table border=\"1\" class=\"dataframe\">\n",
       "  <thead>\n",
       "    <tr style=\"text-align: right;\">\n",
       "      <th></th>\n",
       "      <th>Category</th>\n",
       "      <th>Count</th>\n",
       "    </tr>\n",
       "  </thead>\n",
       "  <tbody>\n",
       "    <tr>\n",
       "      <th>0</th>\n",
       "      <td>-1</td>\n",
       "      <td>216551</td>\n",
       "    </tr>\n",
       "    <tr>\n",
       "      <th>1</th>\n",
       "      <td>0</td>\n",
       "      <td>65477</td>\n",
       "    </tr>\n",
       "    <tr>\n",
       "      <th>2</th>\n",
       "      <td>1</td>\n",
       "      <td>1371</td>\n",
       "    </tr>\n",
       "  </tbody>\n",
       "</table>\n",
       "</div>"
      ],
      "text/plain": [
       "<IPython.core.display.HTML object>"
      ]
     },
     "metadata": {},
     "output_type": "display_data"
    },
    {
     "name": "stdout",
     "output_type": "stream",
     "text": [
      "Target group number of speeches by party:\n",
      "D: \t 664\n",
      "I: \t 0\n",
      "N: \t 0\n",
      "NA: \t -216551\n",
      "R: \t 707\n",
      "\n",
      " Ethnicity\n",
      "Overall speech counts:\n"
     ]
    },
    {
     "data": {
      "text/html": [
       "<div>\n",
       "<style scoped>\n",
       "    .dataframe tbody tr th:only-of-type {\n",
       "        vertical-align: middle;\n",
       "    }\n",
       "\n",
       "    .dataframe tbody tr th {\n",
       "        vertical-align: top;\n",
       "    }\n",
       "\n",
       "    .dataframe thead th {\n",
       "        text-align: right;\n",
       "    }\n",
       "</style>\n",
       "<table border=\"1\" class=\"dataframe\">\n",
       "  <thead>\n",
       "    <tr style=\"text-align: right;\">\n",
       "      <th></th>\n",
       "      <th>Category</th>\n",
       "      <th>Count</th>\n",
       "    </tr>\n",
       "  </thead>\n",
       "  <tbody>\n",
       "    <tr>\n",
       "      <th>0</th>\n",
       "      <td>-1</td>\n",
       "      <td>216551</td>\n",
       "    </tr>\n",
       "    <tr>\n",
       "      <th>1</th>\n",
       "      <td>0</td>\n",
       "      <td>64037</td>\n",
       "    </tr>\n",
       "    <tr>\n",
       "      <th>2</th>\n",
       "      <td>1</td>\n",
       "      <td>2811</td>\n",
       "    </tr>\n",
       "  </tbody>\n",
       "</table>\n",
       "</div>"
      ],
      "text/plain": [
       "<IPython.core.display.HTML object>"
      ]
     },
     "metadata": {},
     "output_type": "display_data"
    },
    {
     "name": "stdout",
     "output_type": "stream",
     "text": [
      "Target group number of speeches by party:\n",
      "D: \t 2405\n",
      "I: \t 0\n",
      "N: \t 45\n",
      "NA: \t -216551\n",
      "R: \t 361\n",
      "\n",
      " Age\n",
      "Overall speech counts:\n"
     ]
    },
    {
     "data": {
      "text/html": [
       "<div>\n",
       "<style scoped>\n",
       "    .dataframe tbody tr th:only-of-type {\n",
       "        vertical-align: middle;\n",
       "    }\n",
       "\n",
       "    .dataframe tbody tr th {\n",
       "        vertical-align: top;\n",
       "    }\n",
       "\n",
       "    .dataframe thead th {\n",
       "        text-align: right;\n",
       "    }\n",
       "</style>\n",
       "<table border=\"1\" class=\"dataframe\">\n",
       "  <thead>\n",
       "    <tr style=\"text-align: right;\">\n",
       "      <th></th>\n",
       "      <th>Category</th>\n",
       "      <th>Count</th>\n",
       "    </tr>\n",
       "  </thead>\n",
       "  <tbody>\n",
       "    <tr>\n",
       "      <th>0</th>\n",
       "      <td>-1</td>\n",
       "      <td>216551</td>\n",
       "    </tr>\n",
       "    <tr>\n",
       "      <th>1</th>\n",
       "      <td>0</td>\n",
       "      <td>43720</td>\n",
       "    </tr>\n",
       "    <tr>\n",
       "      <th>2</th>\n",
       "      <td>1</td>\n",
       "      <td>23128</td>\n",
       "    </tr>\n",
       "  </tbody>\n",
       "</table>\n",
       "</div>"
      ],
      "text/plain": [
       "<IPython.core.display.HTML object>"
      ]
     },
     "metadata": {},
     "output_type": "display_data"
    },
    {
     "name": "stdout",
     "output_type": "stream",
     "text": [
      "Target group number of speeches by party:\n",
      "D: \t 12400\n",
      "I: \t 0\n",
      "N: \t 45\n",
      "NA: \t -216551\n",
      "R: \t 10683\n"
     ]
    }
   ],
   "source": [
    "reload(explore_data)\n",
    "for i in [(gender, \"Gender\"), (ethnicity, \"Ethnicity\"), (age, \"Age\")]:\n",
    "    print(\"\\n\", i[1])\n",
    "    print(\"Overall speech counts:\")\n",
    "    explore_data.get_counts(i[0])\n",
    "    print(\"Target group number of speeches by party:\")\n",
    "    explore_data.get_counts_by_category(i[0], party)"
   ]
  },
  {
   "cell_type": "code",
   "execution_count": 17,
   "metadata": {},
   "outputs": [
    {
     "name": "stdout",
     "output_type": "stream",
     "text": [
      "Speaker information\n",
      "date 19820817\n",
      "match exact\n",
      "Ethnicity W\n",
      "word_count 8\n",
      "Party R\n",
      "Female 1.0\n",
      "Age_lt_med 1.0\n",
      "NonWhite 0.0\n",
      "speakerid 97109311.0\n",
      "State KS\n",
      "Age 50.0\n",
      "Chamber S\n",
      "char_count 50\n",
      "speaker Mrs. KASSEBAUM\n",
      "Full Name KASSEBAUM, NANCY\n",
      "Congress 97\n",
      "\n",
      "Mr. President. will the Senatori from Texas yield?\n"
     ]
    }
   ],
   "source": [
    "reload(explore_data)\n",
    "explore_data.random_speech(all_speeches, all_speech_ids, gender, descr)"
   ]
  },
  {
   "cell_type": "code",
   "execution_count": 12,
   "metadata": {},
   "outputs": [
    {
     "name": "stdout",
     "output_type": "stream",
     "text": [
      "Speaker information\n",
      "speakerid 97108270.0\n",
      "word_count 435\n",
      "State NY\n",
      "Age 49.0\n",
      "Full Name GARCIA, ROBERT\n",
      "Congress 97\n",
      "Party D\n",
      "match exact\n",
      "date 19820729\n",
      "Female 0.0\n",
      "char_count 2518\n",
      "Ethnicity H\n",
      "Age_lt_med 1.0\n",
      "Chamber H\n",
      "NonWhite 1.0\n",
      "speaker Mr. GARCIA\n",
      "\n",
      "Mr. Chairman. I believe the amendment is particularly appropriate at this moment. because we are toward the end of this bill. We have been at it for almost 40 hours. if not 40 hours. I think that there have been some discussions held here as it pertained to what exactly is in this package. At the same time. Mr. Speaker. that we are presently cutting care to the elderly and to the poor. the Federal Government is paying for the veterinary care of pets for military personnel. At the same time. Mr. Speaker. that we cut money for food stamps and lunches for schoolchildren. the taxpayers are paying for meals served in the Secretary of Defense. Casper Weinbergers private dining.room. At the same time that we cut education aid denying young men and women the opportunity to make it in society. we are paying for personal servants for 300 senior officers in the armed services. At the same time that we claim that only the needy should be helped and only the most worthwhile programs should be spared. we allow military teletype to be used for routine lowpriority messages of the Department of Defense. all of this at the taxpayers expense. My amendment would end the subsidies for free meals in Secretary Weinbergers dining room. for personal servants. for veterinary care. and insure that teletypes are not used for lowpriority messages. . The amendment would not impair in any way our defensive capabilities as a nation. Let me give you an example. For every meal that is served in the Secretary of Defenses dining room. and I might add that last year there were approximately 30.869 meals served at a cost of $3.97. with an additional subsidy of $16.05. in other words. every one of those meals were subsidized to the tune of $16. In terms of telecommunications. one telecommunication that was sent over the teletype service took 76 days elapsed time between the time they recieved the message and the time that the other party decided to respond. It also went so far as to transfer a monthly report showing the installations retail and services department sales and inventories. It seems to me that at this particular moment when so many people are being asked to sacrifice. that I believe that the Secretary of Defense. I believe that the petsoriginally veterinary care was solely and strictly for the purpose of taking care of animals where there was a possibility of a communicable disease between a human and an animal. but today they manicure them. they shampoo them. again all of this at taxpayers expense.\n"
     ]
    }
   ],
   "source": [
    "explore_data.random_speech(all_speeches, all_speech_ids, ethnicity, descr)"
   ]
  },
  {
   "cell_type": "code",
   "execution_count": 13,
   "metadata": {},
   "outputs": [
    {
     "name": "stdout",
     "output_type": "stream",
     "text": [
      "Speaker information\n",
      "speakerid 97107380.0\n",
      "word_count 533\n",
      "State NY\n",
      "Age 43.0\n",
      "Full Name LUNDINE, STANLEY\n",
      "Congress 97\n",
      "Party D\n",
      "match exact\n",
      "date 19820506\n",
      "Female 0.0\n",
      "char_count 3341\n",
      "Ethnicity W\n",
      "Age_lt_med 1.0\n",
      "Chamber H\n",
      "NonWhite 0.0\n",
      "speaker Mr. LUNDINE\n",
      "\n",
      "Mr. Speaker. in the upcoming weeks. this legislative body will face critical decisions on a critical environmental issuereauthorization of the Clean Air Act. During the debate on this issue we will be confronted with a choice on the one hand between streamlining our efforts to preserve existing health based standards and goals for controlling emissions from stationary and mobile sources. or on the other hand. relaxing standards and timeframes for achieving and maintaining our clean air goals. The most often relied upon justification for relaxation of existing clean air standards and goals evolves around the claims by some that environmental regulation has negative impacts on productivity and economic growth. Assertions have been made by some business groups that the Clean Air Act has cost the private sector $16 billion in compliance costs each year. but has only yielded $8 billion in benefits. In addition. the Clean Air Act is often cited as a significant contributor to jobs lost in some of our most depressed industries such as autos and steel. A close look at existing data and studies to date reveals that these contentions are unfounded. A recently completed review by the public interest economic foundation of the data available on this subject through the Environmental Protection Agency. Bureau of Economic Analysis of the Department of Commerce. U.S. Bureau of the Census. and McGraw Hill led to the following conclusions regarding the aggregate effects of the Clean Air Act on the economy: First. output has remained essentially unchanged. with only a modest reduction of approximately 0.1 percent per year. When these changes are adJusted to take into account benefits not reflected in market transactions. real output has increased. .Second. unemployment was 0.1 to 0.2 percent lower per year than It would have been without clean air legislation. Third. prices increased very slightly. from 0.1 to 0.2 percent per year. Considerations of benefits not reflected in market transactions suggests that air pollution controls have had virtually no effect on inflation. Fourth. labor productivity. as con ventionally measured. has been essentially unaffected. with a reduction of less than 1 percent per year reported by the most adverse studies. Fifth. Clean Air Act benefits have exceeded compliance costs. The most comprehensive survey to date estimates benefits of $21.4 billion. and costs of $17 billion. Sixth. compliance expenditures by the private sector have remained stable since 1975 in real terms on average less than 3 percent of gross private domestic investment. On balance. the Clean Air Act has helped us progress toward a healthier. more productive society. We would be making a serious mistake to Identify the Clean Air Act as a significant cause of our current economic difficulties. or relaxation of clean air standards as a significant factor in revitalization of our troubled industries. I. together with my colleague Congresswoman SCHNEmER have begun and will be continuing to circulate a number of dear colleagues in the weeks ahead which explore the economics of the Clean Air Act. I urge you to join us in examining this aspect of this issue carefully. When you do. I think you will find that the Clean Air Act has had a positive impact on innovation. job creation. and economic productivity.\n"
     ]
    }
   ],
   "source": [
    "explore_data.random_speech(all_speeches, all_speech_ids, age, descr)"
   ]
  },
  {
   "cell_type": "markdown",
   "metadata": {},
   "source": [
    "## Split into train, validate, test"
   ]
  },
  {
   "cell_type": "markdown",
   "metadata": {},
   "source": [
    "### Filter on party if necessary"
   ]
  },
  {
   "cell_type": "code",
   "execution_count": 28,
   "metadata": {},
   "outputs": [],
   "source": [
    "# reload(load_data)\n",
    "# all_speeches_d, all_speech_ids_d, gender_d = load_data.filter_data(all_speeches, all_speech_ids, gender, party, 'D')\n",
    "# len(all_speeches_d), len(all_speech_ids_d), len(gender_d)"
   ]
  },
  {
   "cell_type": "code",
   "execution_count": 37,
   "metadata": {},
   "outputs": [
    {
     "data": {
      "text/html": [
       "<div>\n",
       "<style scoped>\n",
       "    .dataframe tbody tr th:only-of-type {\n",
       "        vertical-align: middle;\n",
       "    }\n",
       "\n",
       "    .dataframe tbody tr th {\n",
       "        vertical-align: top;\n",
       "    }\n",
       "\n",
       "    .dataframe thead th {\n",
       "        text-align: right;\n",
       "    }\n",
       "</style>\n",
       "<table border=\"1\" class=\"dataframe\">\n",
       "  <thead>\n",
       "    <tr style=\"text-align: right;\">\n",
       "      <th></th>\n",
       "      <th>Category</th>\n",
       "      <th>Count</th>\n",
       "    </tr>\n",
       "  </thead>\n",
       "  <tbody>\n",
       "    <tr>\n",
       "      <th>0</th>\n",
       "      <td>0</td>\n",
       "      <td>103864</td>\n",
       "    </tr>\n",
       "    <tr>\n",
       "      <th>1</th>\n",
       "      <td>1</td>\n",
       "      <td>2172</td>\n",
       "    </tr>\n",
       "  </tbody>\n",
       "</table>\n",
       "</div>"
      ],
      "text/plain": [
       "<IPython.core.display.HTML object>"
      ]
     },
     "metadata": {},
     "output_type": "display_data"
    }
   ],
   "source": [
    "# reload(explore_data)\n",
    "# explore_data.get_counts(gender_d)"
   ]
  },
  {
   "cell_type": "markdown",
   "metadata": {},
   "source": [
    "### Split into train/val/test"
   ]
  },
  {
   "cell_type": "markdown",
   "metadata": {},
   "source": [
    "### Split by congress"
   ]
  },
  {
   "cell_type": "code",
   "execution_count": 9,
   "metadata": {},
   "outputs": [],
   "source": [
    "# reload(preprocess_data)\n",
    "# train, train_ids, train_target, val, val_ids, val_target, test, test_ids, test_target = preprocess_data.split_by_congress(all_speeches, all_speech_ids, gender, descr, congress)"
   ]
  },
  {
   "cell_type": "code",
   "execution_count": 11,
   "metadata": {
    "scrolled": true
   },
   "outputs": [
    {
     "name": "stdout",
     "output_type": "stream",
     "text": [
      "Training split: 501 ones and 501 zeroes\n",
      "Training speech list size: 1002\n",
      "Training target list size: 1002\n",
      "Validation split: 167 ones and 167 zeroes\n",
      "Validation speech list size: 334\n",
      "Validation target list size: 334\n",
      "Test split: 167 ones and 167 zeroes\n",
      "Test speech list size: 334\n",
      "Test target list size: 334\n"
     ]
    }
   ],
   "source": [
    "reload(preprocess_data)\n",
    "train, train_ids, train_target, val, val_ids, val_target, test, test_ids, test_target = preprocess_data.split_train_val_test(all_speeches, all_speech_ids, gender, descr)"
   ]
  },
  {
   "cell_type": "code",
   "execution_count": 12,
   "metadata": {},
   "outputs": [
    {
     "data": {
      "text/plain": [
       "(501, 167, 167)"
      ]
     },
     "execution_count": 12,
     "metadata": {},
     "output_type": "execute_result"
    }
   ],
   "source": [
    "sum(train_target), sum(val_target), sum(test_target)"
   ]
  },
  {
   "cell_type": "code",
   "execution_count": 13,
   "metadata": {},
   "outputs": [
    {
     "data": {
      "text/plain": [
       "536"
      ]
     },
     "execution_count": 13,
     "metadata": {},
     "output_type": "execute_result"
    }
   ],
   "source": [
    "# number of speeches under 30 words\n",
    "sum(np.array(gender)==1) - (sum(train_target) + sum(val_target) + sum(test_target))"
   ]
  },
  {
   "cell_type": "code",
   "execution_count": 21,
   "metadata": {},
   "outputs": [
    {
     "name": "stdout",
     "output_type": "stream",
     "text": [
      "Speaker information\n",
      "date 19820617\n",
      "match exact\n",
      "Ethnicity W\n",
      "word_count 101\n",
      "Party R\n",
      "Female 1.0\n",
      "Age_lt_med 0.0\n",
      "NonWhite 0.0\n",
      "speakerid 97106111.0\n",
      "State FL\n",
      "Age 55.0\n",
      "Chamber S\n",
      "char_count 572\n",
      "speaker Mrs. HAWKINS\n",
      "Full Name HAWKINS, PAULA\n",
      "Congress 97\n",
      "\n",
      "Mr. President. it is prepared as a resolution and it has become obvious this evening that in order to get the immediate attention needed that we will change it to an amendment in order to address the urgency of the situation of the captives. young Argentineans. who are on the Falkland Islands. who the British say they cannot feed. they cannot clothe. and they are becoming frostbitten. and as we sit here this evening comfortable in our seats. It is a sense of urgency there. and I prefer having a senseoftheSenate resolution but we were advised to make it an amendment.\n"
     ]
    }
   ],
   "source": [
    "explore_data.random_speech(train, train_ids, train_target, descr)"
   ]
  },
  {
   "cell_type": "markdown",
   "metadata": {},
   "source": [
    "## EDA on train data"
   ]
  },
  {
   "cell_type": "markdown",
   "metadata": {},
   "source": [
    "Source: https://developers.google.com/machine-learning/guides/text-classification/step-2"
   ]
  },
  {
   "cell_type": "markdown",
   "metadata": {},
   "source": [
    "### Check median number of words per sample in train/val/test"
   ]
  },
  {
   "cell_type": "code",
   "execution_count": 38,
   "metadata": {},
   "outputs": [
    {
     "data": {
      "text/plain": [
       "<module 'helpers.explore_data' from '/tf/notebooks/final-project/Classification/helpers/explore_data.py'>"
      ]
     },
     "execution_count": 38,
     "metadata": {},
     "output_type": "execute_result"
    }
   ],
   "source": [
    "reload(explore_data)"
   ]
  },
  {
   "cell_type": "code",
   "execution_count": 24,
   "metadata": {},
   "outputs": [
    {
     "data": {
      "text/plain": [
       "219.0"
      ]
     },
     "execution_count": 24,
     "metadata": {},
     "output_type": "execute_result"
    }
   ],
   "source": [
    "explore_data.get_num_words_per_sample(train)"
   ]
  },
  {
   "cell_type": "code",
   "execution_count": 25,
   "metadata": {},
   "outputs": [
    {
     "data": {
      "text/plain": [
       "226.5"
      ]
     },
     "execution_count": 25,
     "metadata": {},
     "output_type": "execute_result"
    }
   ],
   "source": [
    "explore_data.get_num_words_per_sample(val)"
   ]
  },
  {
   "cell_type": "code",
   "execution_count": 26,
   "metadata": {},
   "outputs": [
    {
     "data": {
      "text/plain": [
       "195.0"
      ]
     },
     "execution_count": 26,
     "metadata": {},
     "output_type": "execute_result"
    }
   ],
   "source": [
    "explore_data.get_num_words_per_sample(test)"
   ]
  },
  {
   "cell_type": "code",
   "execution_count": 28,
   "metadata": {},
   "outputs": [
    {
     "name": "stdout",
     "output_type": "stream",
     "text": [
      "Speech length percentiles\n",
      "     0      10     20     30     40      50      60      70      80      90   \\\n",
      "0  145.0  277.1  448.2  646.5  950.8  1301.5  1704.0  2236.6  3090.8  4753.1   \n",
      "\n",
      "       100  \n",
      "0  20507.0  \n"
     ]
    },
    {
     "data": {
      "image/png": "[encoded data removed]",
      "text/plain": [
       "<Figure size 1440x720 with 1 Axes>"
      ]
     },
     "metadata": {
      "needs_background": "light"
     },
     "output_type": "display_data"
    }
   ],
   "source": [
    "reload(explore_data)\n",
    "explore_data.plot_sample_length_distribution(train)"
   ]
  },
  {
   "cell_type": "markdown",
   "metadata": {},
   "source": [
    "### Most popular unigrams (training only)"
   ]
  },
  {
   "cell_type": "code",
   "execution_count": 32,
   "metadata": {},
   "outputs": [
    {
     "data": {
      "text/plain": [
       "199"
      ]
     },
     "execution_count": 32,
     "metadata": {},
     "output_type": "execute_result"
    }
   ],
   "source": [
    "train_sample = random.sample(train, int(len(train)*0.2))\n",
    "len(train_sample)"
   ]
  },
  {
   "cell_type": "code",
   "execution_count": 33,
   "metadata": {},
   "outputs": [
    {
     "name": "stdout",
     "output_type": "stream",
     "text": [
      "['the', 'of', 'to', 'and', 'in', 'that', 'is', 'for', 'this', 'we', 'it', 'on', 'have', 'be', 'are', 'not', 'as', 'with', 'will', 'by', 'has', 'mr', 'would', 'was', 'from', 'they', 'our', 'which', 'an', 'my', 'at', 'their', 'but', 'or', 'his', 'amendment', 'he', 'who', 'bill', 'budget', 'more', 'been', 'president', 'all', 'committee', 'there', 'people', 'time', 'do', 'if']\n"
     ]
    },
    {
     "data": {
      "image/png": "[encoded data removed]",
      "text/plain": [
       "<Figure size 1440x720 with 1 Axes>"
      ]
     },
     "metadata": {
      "needs_background": "light"
     },
     "output_type": "display_data"
    }
   ],
   "source": [
    "explore_data.plot_frequency_distribution_of_ngrams(train_sample, ngram_range=(1,1))"
   ]
  },
  {
   "cell_type": "markdown",
   "metadata": {},
   "source": [
    "### Most popular bigrams (training only)"
   ]
  },
  {
   "cell_type": "code",
   "execution_count": 34,
   "metadata": {},
   "outputs": [
    {
     "name": "stdout",
     "output_type": "stream",
     "text": [
      "['of the', 'in the', 'to the', 'it is', 'on the', 'that the', 'for the', 'by the', 'and the', 'of this', 'with the', 'to be', 'mr speaker', 'we are', 'will be', 'we have', 'at the', 'is the', 'mr president', 'that we', 'the gentleman', 'from the', 'the committee', 'the bill', 'of our', 'have been', 'do not', 'this is', 'has been', 'would be', 'this bill', 'there is', 'the united', 'in this', 'the budget', 'the american', 'new york', 'is not', 'the first', 'as the', 'my colleagues', 'united states', 'the federal', 'mr chairman', 'want to', 'this amendment', 'the house', 'that is', 'one of', 'the senate']\n"
     ]
    },
    {
     "data": {
      "image/png": "[encoded data removed]",
      "text/plain": [
       "<Figure size 1440x720 with 1 Axes>"
      ]
     },
     "metadata": {
      "needs_background": "light"
     },
     "output_type": "display_data"
    }
   ],
   "source": [
    "explore_data.plot_frequency_distribution_of_ngrams(train_sample, ngram_range=(2,2))"
   ]
  },
  {
   "cell_type": "markdown",
   "metadata": {},
   "source": [
    "### Most popular trigrams (training only)"
   ]
  },
  {
   "cell_type": "code",
   "execution_count": 35,
   "metadata": {},
   "outputs": [
    {
     "name": "stdout",
     "output_type": "stream",
     "text": [
      "['the united states', 'the gentleman from', 'would like to', 'one of the', 'the federal government', 'the fact that', 'chairman of the', 'the department of', 'members of the', 'member of the', 'in order to', 'the people of', 'part of the', 'out of the', 'my colleagues to', 'in new york', 'the soviet union', 'the committee on', 'of the senate', 'of the committee', 'of the bill', 'are going to', 'the american people', 'thank the gentleman', 'of the american', 'we do not', 'this is the', 'percent of the', 'of the united', 'of the house', 'new york city', 'the state of', 'the senator from', 'that we are', 'in support of', 'employment and training', 'this amendment is', 'that it is', 'some of the', 'rise in support', 'of the most', 'mr chairman rise', 'is going to', 'going to be', 'there is no', 'of the budget', 'fiscal year 1983', 'as well as', 'we have to', 'we are going']\n"
     ]
    },
    {
     "data": {
      "image/png": "[encoded data removed]",
      "text/plain": [
       "<Figure size 1440x720 with 1 Axes>"
      ]
     },
     "metadata": {
      "needs_background": "light"
     },
     "output_type": "display_data"
    }
   ],
   "source": [
    "explore_data.plot_frequency_distribution_of_ngrams(train_sample, ngram_range=(3,3))"
   ]
  },
  {
   "cell_type": "code",
   "execution_count": 29,
   "metadata": {},
   "outputs": [],
   "source": [
    "congress = set([str(i) for i in range(97,115)])"
   ]
  },
  {
   "cell_type": "code",
   "execution_count": 30,
   "metadata": {},
   "outputs": [
    {
     "data": {
      "text/plain": [
       "1002"
      ]
     },
     "execution_count": 30,
     "metadata": {},
     "output_type": "execute_result"
    }
   ],
   "source": [
    "len(train)"
   ]
  },
  {
   "cell_type": "code",
   "execution_count": 31,
   "metadata": {},
   "outputs": [
    {
     "data": {
      "text/plain": [
       "{'Age': '70.0',\n",
       " 'Age_lt_med': '0.0',\n",
       " 'Chamber': 'S',\n",
       " 'Congress': '111',\n",
       " 'Ethnicity': 'W',\n",
       " 'Female': '0.0',\n",
       " 'Full Name': 'ALEXANDER, LAMAR',\n",
       " 'NonWhite': '0.0',\n",
       " 'Party': 'R',\n",
       " 'State': 'TN',\n",
       " 'char_count': '1356',\n",
       " 'check': 1,\n",
       " 'date': '20090930',\n",
       " 'match': 'exact',\n",
       " 'speaker': 'Mr. ALEXANDER',\n",
       " 'speakerid': '111118281.0',\n",
       " 'word_count': '244'}"
      ]
     },
     "execution_count": 31,
     "metadata": {},
     "output_type": "execute_result"
    }
   ],
   "source": [
    "descr['1110063404']"
   ]
  },
  {
   "cell_type": "code",
   "execution_count": 28,
   "metadata": {},
   "outputs": [
    {
     "name": "stdout",
     "output_type": "stream",
     "text": [
      "\n",
      "For Congress 97 top 5 (3, 3) ngrams are:\n",
      "the united states\n",
      "would like to\n",
      "of the united\n",
      "the soviet union\n",
      "the senator from\n",
      "--------------------\n"
     ]
    }
   ],
   "source": [
    "reload(explore_data)\n",
    "explore_data.ngrams_by_category(train, train_ids, descr, congress, 'Congress', p=0.3, top_n=5)"
   ]
  },
  {
   "cell_type": "markdown",
   "metadata": {},
   "source": [
    "## N-gram model"
   ]
  },
  {
   "cell_type": "markdown",
   "metadata": {},
   "source": [
    "Inspiration for code: https://developers.google.com/machine-learning/guides/text-classification/step-3"
   ]
  },
  {
   "cell_type": "markdown",
   "metadata": {},
   "source": [
    "### Pre-processing"
   ]
  },
  {
   "cell_type": "code",
   "execution_count": 32,
   "metadata": {},
   "outputs": [],
   "source": [
    "# Vectorization parameters\n",
    "# Range (inclusive) of n-gram sizes for tokenizing text.\n",
    "NGRAM_RANGE = (1, 2)\n",
    "\n",
    "# Minimum corpus frequency below which a token will be discarded.\n",
    "MIN_DOCUMENT_FREQUENCY = 5\n",
    "\n",
    "# Maximum proportion of corpus containing a word above which a token will be discarded.\n",
    "# Helps eliminate stop words\n",
    "MAX_DOCUMENT_FREQUENCY = 0.7\n",
    "\n",
    "# Limit on the number of features. We use the top 20K features.\n",
    "TOP_K = 20000\n",
    "\n",
    "# Output number of top/bottom scoring ngrams\n",
    "TOP_N = 5\n",
    "\n",
    "vec_params = {\n",
    "    'ngram_range': NGRAM_RANGE,\n",
    "    'min_df': MIN_DOCUMENT_FREQUENCY,\n",
    "    'max_df': MAX_DOCUMENT_FREQUENCY,\n",
    "    'top_k': TOP_K,\n",
    "    'top_n': TOP_N\n",
    "}"
   ]
  },
  {
   "cell_type": "code",
   "execution_count": 33,
   "metadata": {},
   "outputs": [
    {
     "name": "stderr",
     "output_type": "stream",
     "text": [
      "/usr/local/lib/python3.5/dist-packages/sklearn/feature_extraction/text.py:1577: UserWarning: Only (<class 'numpy.float64'>, <class 'numpy.float32'>, <class 'numpy.float16'>) 'dtype' should be used. int32 'dtype' will be converted to np.float64.\n",
      "  UserWarning)\n"
     ]
    },
    {
     "name": "stdout",
     "output_type": "stream",
     "text": [
      "Total vocabulary size: 12670\n",
      "Number of stop words 161908\n",
      "\n",
      "Top 5 ngrams by differentiating score:\n",
      "mr president \t 82.1\n",
      "senator \t 51.5\n",
      "president \t 44.7\n",
      "the senator \t 40.5\n",
      "senator from \t 35.1\n",
      "\n",
      "Bottom 5 ngrams by differentiating score:\n",
      "senate judiciary \t 0.0\n",
      "newspaper \t 0.0\n",
      "to society \t 0.0\n",
      "this may \t 0.0\n",
      "myself and \t 0.0\n"
     ]
    }
   ],
   "source": [
    "reload(preprocess_data)\n",
    "train_vec, val_vec, test_vec = preprocess_data.ngram_vectorize(train, train_target, val, test, **vec_params)"
   ]
  },
  {
   "cell_type": "code",
   "execution_count": 34,
   "metadata": {},
   "outputs": [
    {
     "data": {
      "text/plain": [
       "(1002, 334, 334)"
      ]
     },
     "execution_count": 34,
     "metadata": {},
     "output_type": "execute_result"
    }
   ],
   "source": [
    "len(train), len(val), len(test)"
   ]
  },
  {
   "cell_type": "code",
   "execution_count": 35,
   "metadata": {},
   "outputs": [
    {
     "data": {
      "text/plain": [
       "((1002, 12670), (334, 12670), (334, 12670))"
      ]
     },
     "execution_count": 35,
     "metadata": {},
     "output_type": "execute_result"
    }
   ],
   "source": [
    "train_vec.shape, val_vec.shape, test_vec.shape"
   ]
  },
  {
   "cell_type": "markdown",
   "metadata": {},
   "source": [
    "### Saving processed files"
   ]
  },
  {
   "cell_type": "code",
   "execution_count": 41,
   "metadata": {},
   "outputs": [
    {
     "data": {
      "text/plain": [
       "'/tf/notebooks/final-project/Classification'"
      ]
     },
     "execution_count": 41,
     "metadata": {},
     "output_type": "execute_result"
    }
   ],
   "source": [
    "pwd"
   ]
  },
  {
   "cell_type": "code",
   "execution_count": 61,
   "metadata": {},
   "outputs": [],
   "source": [
    "data_path = '/tf/notebooks/final-project/Classification/data'"
   ]
  },
  {
   "cell_type": "code",
   "execution_count": 68,
   "metadata": {},
   "outputs": [],
   "source": [
    "scipy.sparse.save_npz(os.path.join(data_path, 'train_vec.npz'), train_vec)\n",
    "scipy.sparse.save_npz(os.path.join(data_path, 'val_vec.npz'), val_vec)\n",
    "scipy.sparse.save_npz(os.path.join(data_path, 'test_vec.npz'), test_vec)"
   ]
  },
  {
   "cell_type": "code",
   "execution_count": 69,
   "metadata": {},
   "outputs": [],
   "source": [
    "train_vec = scipy.sparse.load_npz(os.path.join(data_path, 'train_vec.npz'))\n",
    "val_vec = scipy.sparse.load_npz(os.path.join(data_path, 'val_vec.npz'))\n",
    "test_vec = scipy.sparse.load_npz(os.path.join(data_path, 'test_vec.npz'))"
   ]
  },
  {
   "cell_type": "code",
   "execution_count": 36,
   "metadata": {},
   "outputs": [
    {
     "data": {
      "text/plain": [
       "((1002, 12670), (334, 12670), (334, 12670))"
      ]
     },
     "execution_count": 36,
     "metadata": {},
     "output_type": "execute_result"
    }
   ],
   "source": [
    "train_vec.shape, val_vec.shape, test_vec.shape"
   ]
  },
  {
   "cell_type": "code",
   "execution_count": 72,
   "metadata": {},
   "outputs": [],
   "source": [
    "with open(os.path.join(data_path, 'train_list'), 'wb') as fp:\n",
    "    pickle.dump(train, fp)\n",
    "with open(os.path.join(data_path, 'train_ids'), 'wb') as fp:\n",
    "    pickle.dump(train_ids, fp)\n",
    "with open(os.path.join(data_path, 'train_target'), 'wb') as fp:\n",
    "    pickle.dump(train_target, fp)\n",
    "with open(os.path.join(data_path, 'val_list'), 'wb') as fp:\n",
    "    pickle.dump(val, fp)\n",
    "with open(os.path.join(data_path, 'val_ids'), 'wb') as fp:\n",
    "    pickle.dump(val_ids, fp)\n",
    "with open(os.path.join(data_path, 'val_target'), 'wb') as fp:\n",
    "    pickle.dump(val_target, fp)\n",
    "with open(os.path.join(data_path, 'test_list'), 'wb') as fp:\n",
    "    pickle.dump(test, fp)\n",
    "with open(os.path.join(data_path, 'test_ids'), 'wb') as fp:\n",
    "    pickle.dump(test_ids, fp)\n",
    "with open(os.path.join(data_path, 'test_target'), 'wb') as fp:\n",
    "    pickle.dump(test_target, fp)"
   ]
  },
  {
   "cell_type": "code",
   "execution_count": 73,
   "metadata": {},
   "outputs": [
    {
     "data": {
      "text/plain": [
       "(498, 166, 166)"
      ]
     },
     "execution_count": 73,
     "metadata": {},
     "output_type": "execute_result"
    }
   ],
   "source": [
    "sum(train_target), sum(val_target), sum(test_target)"
   ]
  },
  {
   "cell_type": "code",
   "execution_count": 74,
   "metadata": {},
   "outputs": [],
   "source": [
    "with open(os.path.join(data_path, 'train_list'), 'rb') as fp:\n",
    "    train = pickle.load(fp)\n",
    "with open(os.path.join(data_path, 'train_ids'), 'rb') as fp:\n",
    "    train_ids = pickle.load(fp)\n",
    "with open(os.path.join(data_path, 'train_target'), 'rb') as fp:\n",
    "    train_target = pickle.load(fp)\n",
    "with open(os.path.join(data_path, 'val_list'), 'rb') as fp:\n",
    "    val = pickle.load(fp)\n",
    "with open(os.path.join(data_path, 'val_ids'), 'rb') as fp:\n",
    "    val_ids = pickle.load(fp)\n",
    "with open(os.path.join(data_path, 'val_target'), 'rb') as fp:\n",
    "    val_target = pickle.load(fp)\n",
    "with open(os.path.join(data_path, 'test_list'), 'rb') as fp:\n",
    "    test = pickle.load(fp)\n",
    "with open(os.path.join(data_path, 'test_ids'), 'rb') as fp:\n",
    "    test_ids = pickle.load(fp)\n",
    "with open(os.path.join(data_path, 'test_target'), 'rb') as fp:\n",
    "    test_target = pickle.load(fp)"
   ]
  },
  {
   "cell_type": "code",
   "execution_count": 75,
   "metadata": {},
   "outputs": [
    {
     "data": {
      "text/plain": [
       "(498, 166, 166)"
      ]
     },
     "execution_count": 75,
     "metadata": {},
     "output_type": "execute_result"
    }
   ],
   "source": [
    "sum(train_target), sum(val_target), sum(test_target)"
   ]
  },
  {
   "cell_type": "markdown",
   "metadata": {},
   "source": [
    "### Model: Multi-Layer Perceptron (Vanilla NN)"
   ]
  },
  {
   "cell_type": "code",
   "execution_count": 40,
   "metadata": {},
   "outputs": [],
   "source": [
    "logs_base_dir = \"/tf/notebooks/final-project/logs\""
   ]
  },
  {
   "cell_type": "code",
   "execution_count": 38,
   "metadata": {},
   "outputs": [],
   "source": [
    "model_params = {\n",
    "    'learning_rate': 1e-3,\n",
    "    'epochs': 1000,\n",
    "    'batch_size': 128,\n",
    "    'layers': 2,\n",
    "    'units': 64,\n",
    "    'dropout_rate': 0.2\n",
    "}"
   ]
  },
  {
   "cell_type": "code",
   "execution_count": 41,
   "metadata": {},
   "outputs": [
    {
     "name": "stdout",
     "output_type": "stream",
     "text": [
      "WARNING:tensorflow:From /usr/local/lib/python3.5/dist-packages/tensorflow/python/keras/layers/core.py:143: calling dropout (from tensorflow.python.ops.nn_ops) with keep_prob is deprecated and will be removed in a future version.\n",
      "Instructions for updating:\n",
      "Please use `rate` instead of `keep_prob`. Rate should be set to `rate = 1 - keep_prob`.\n",
      "WARNING:tensorflow:From /usr/local/lib/python3.5/dist-packages/tensorflow/python/ops/control_flow_ops.py:423: colocate_with (from tensorflow.python.framework.ops) is deprecated and will be removed in a future version.\n",
      "Instructions for updating:\n",
      "Colocations handled automatically by placer.\n",
      "Train on 1002 samples, validate on 334 samples\n",
      "WARNING:tensorflow:From /usr/local/lib/python3.5/dist-packages/tensorflow/python/ops/math_ops.py:3066: to_int32 (from tensorflow.python.ops.math_ops) is deprecated and will be removed in a future version.\n",
      "Instructions for updating:\n",
      "Use tf.cast instead.\n",
      "Epoch 1/1000\n",
      " - 0s - loss: 0.6907 - acc: 0.5649 - val_loss: 0.6853 - val_acc: 0.6946\n",
      "Epoch 2/1000\n",
      " - 0s - loss: 0.6633 - acc: 0.8593 - val_loss: 0.6703 - val_acc: 0.7066\n",
      "Epoch 3/1000\n",
      " - 0s - loss: 0.6253 - acc: 0.8623 - val_loss: 0.6547 - val_acc: 0.7066\n",
      "Epoch 4/1000\n",
      " - 0s - loss: 0.5835 - acc: 0.8892 - val_loss: 0.6394 - val_acc: 0.7066\n",
      "Epoch 5/1000\n",
      " - 0s - loss: 0.5400 - acc: 0.9102 - val_loss: 0.6243 - val_acc: 0.7156\n",
      "Epoch 6/1000\n",
      " - 0s - loss: 0.4967 - acc: 0.9401 - val_loss: 0.6100 - val_acc: 0.7156\n",
      "Epoch 7/1000\n",
      " - 0s - loss: 0.4507 - acc: 0.9521 - val_loss: 0.5971 - val_acc: 0.7066\n",
      "Epoch 8/1000\n",
      " - 0s - loss: 0.4083 - acc: 0.9581 - val_loss: 0.5856 - val_acc: 0.7066\n",
      "Epoch 9/1000\n",
      " - 0s - loss: 0.3676 - acc: 0.9691 - val_loss: 0.5751 - val_acc: 0.7126\n",
      "Epoch 10/1000\n",
      " - 0s - loss: 0.3296 - acc: 0.9741 - val_loss: 0.5662 - val_acc: 0.7126\n",
      "Epoch 11/1000\n",
      " - 0s - loss: 0.2923 - acc: 0.9820 - val_loss: 0.5585 - val_acc: 0.7156\n",
      "Epoch 12/1000\n",
      " - 0s - loss: 0.2686 - acc: 0.9770 - val_loss: 0.5519 - val_acc: 0.7156\n",
      "Epoch 13/1000\n",
      " - 0s - loss: 0.2312 - acc: 0.9870 - val_loss: 0.5464 - val_acc: 0.7216\n",
      "Epoch 14/1000\n",
      " - 0s - loss: 0.2083 - acc: 0.9880 - val_loss: 0.5417 - val_acc: 0.7335\n",
      "Epoch 15/1000\n",
      " - 0s - loss: 0.1865 - acc: 0.9920 - val_loss: 0.5388 - val_acc: 0.7305\n",
      "Epoch 16/1000\n",
      " - 0s - loss: 0.1675 - acc: 0.9920 - val_loss: 0.5365 - val_acc: 0.7186\n",
      "Epoch 17/1000\n",
      " - 0s - loss: 0.1432 - acc: 0.9960 - val_loss: 0.5343 - val_acc: 0.7305\n",
      "Epoch 18/1000\n",
      " - 0s - loss: 0.1337 - acc: 0.9980 - val_loss: 0.5330 - val_acc: 0.7275\n",
      "Epoch 19/1000\n",
      " - 0s - loss: 0.1179 - acc: 0.9990 - val_loss: 0.5327 - val_acc: 0.7246\n",
      "Epoch 20/1000\n",
      " - 0s - loss: 0.1087 - acc: 0.9980 - val_loss: 0.5324 - val_acc: 0.7305\n",
      "Epoch 21/1000\n",
      " - 0s - loss: 0.0994 - acc: 0.9990 - val_loss: 0.5325 - val_acc: 0.7275\n",
      "Epoch 22/1000\n",
      " - 0s - loss: 0.0866 - acc: 0.9980 - val_loss: 0.5333 - val_acc: 0.7275\n",
      "Validation accuracy: 0.727544903755188, loss: 0.5333034401525281\n"
     ]
    }
   ],
   "source": [
    "reload(train_model)\n",
    "history, train_pred_probs, val_pred_probs = train_model.train_ngram_model(((train_vec, train_target), (val_vec, val_target)), logs_base_dir, **model_params)"
   ]
  },
  {
   "cell_type": "markdown",
   "metadata": {},
   "source": [
    "## Model evaluation"
   ]
  },
  {
   "cell_type": "code",
   "execution_count": 42,
   "metadata": {},
   "outputs": [
    {
     "data": {
      "text/plain": [
       "243"
      ]
     },
     "execution_count": 42,
     "metadata": {},
     "output_type": "execute_result"
    }
   ],
   "source": [
    "val_preds = val_pred_probs > 0.5\n",
    "np.sum(val_preds.flatten()==val_target)"
   ]
  },
  {
   "cell_type": "code",
   "execution_count": 43,
   "metadata": {},
   "outputs": [
    {
     "name": "stdout",
     "output_type": "stream",
     "text": [
      "Confusion matrix, without normalization\n",
      "[[121  46]\n",
      " [ 45 122]]\n"
     ]
    },
    {
     "data": {
      "text/plain": [
       "<matplotlib.axes._subplots.AxesSubplot at 0x7fcd42356470>"
      ]
     },
     "execution_count": 43,
     "metadata": {},
     "output_type": "execute_result"
    },
    {
     "data": {
      "image/png": "[encoded data removed]",
      "text/plain": [
       "<Figure size 432x288 with 2 Axes>"
      ]
     },
     "metadata": {
      "needs_background": "light"
     },
     "output_type": "display_data"
    }
   ],
   "source": [
    "reload(explore_data)\n",
    "# specify class names in 0 - 1 order\n",
    "classes = ['Male', 'Female']\n",
    "explore_data.plot_confusion_matrix(val_target, val_preds, classes, normalize=True)"
   ]
  },
  {
   "cell_type": "code",
   "execution_count": 44,
   "metadata": {
    "scrolled": false
   },
   "outputs": [
    {
     "data": {
      "image/png": "[encoded data removed]",
      "text/plain": [
       "<Figure size 720x720 with 2 Axes>"
      ]
     },
     "metadata": {
      "needs_background": "light"
     },
     "output_type": "display_data"
    }
   ],
   "source": [
    "reload(explore_data)\n",
    "explore_data.plot_calibration_curve(val_target, val_pred_probs, 'Gender')"
   ]
  },
  {
   "cell_type": "code",
   "execution_count": 45,
   "metadata": {},
   "outputs": [
    {
     "data": {
      "text/plain": [
       "0.2874251497005988"
      ]
     },
     "execution_count": 45,
     "metadata": {},
     "output_type": "execute_result"
    }
   ],
   "source": [
    "val_random = np.random.choice(a=[0,1], size=len(val_target), p = [0.7,0.3])\n",
    "val_random.sum()/val_random.shape[0]"
   ]
  },
  {
   "cell_type": "code",
   "execution_count": 49,
   "metadata": {},
   "outputs": [
    {
     "data": {
      "text/plain": [
       "(96, 96, 96)"
      ]
     },
     "execution_count": 49,
     "metadata": {},
     "output_type": "execute_result"
    }
   ],
   "source": [
    "val_sample, val_ids_sample, val_pred_probs_sample = [], [], []\n",
    "for i in range(len(val_ids)):\n",
    "    if val_random[i] == 1:\n",
    "        val_sample.append(val[i])\n",
    "        val_ids_sample.append(val_ids[i])\n",
    "        val_pred_probs_sample.append(val_pred_probs[i])\n",
    "len(val_sample), len(val_ids_sample), len(val_pred_probs_sample)"
   ]
  },
  {
   "cell_type": "code",
   "execution_count": 54,
   "metadata": {},
   "outputs": [
    {
     "name": "stdout",
     "output_type": "stream",
     "text": [
      "Finished building main df\n",
      "Finished bin 0.4\n",
      "Finished bin 0.6\n",
      "Finished bin 1.0\n"
     ]
    },
    {
     "data": {
      "text/html": [
       "<div>\n",
       "<style scoped>\n",
       "    .dataframe tbody tr th:only-of-type {\n",
       "        vertical-align: middle;\n",
       "    }\n",
       "\n",
       "    .dataframe tbody tr th {\n",
       "        vertical-align: top;\n",
       "    }\n",
       "\n",
       "    .dataframe thead th {\n",
       "        text-align: right;\n",
       "    }\n",
       "</style>\n",
       "<table border=\"1\" class=\"dataframe\">\n",
       "  <thead>\n",
       "    <tr style=\"text-align: right;\">\n",
       "      <th></th>\n",
       "      <th>Gender_F</th>\n",
       "      <th>Ethinicity_NW</th>\n",
       "      <th>AvgAge</th>\n",
       "      <th>Party_D</th>\n",
       "      <th>Chamber_H</th>\n",
       "      <th>AvgWordCount</th>\n",
       "    </tr>\n",
       "  </thead>\n",
       "  <tbody>\n",
       "    <tr>\n",
       "      <th>0.4</th>\n",
       "      <td>0.31</td>\n",
       "      <td>0.00</td>\n",
       "      <td>1.07</td>\n",
       "      <td>0.83</td>\n",
       "      <td>0.66</td>\n",
       "      <td>0.98</td>\n",
       "    </tr>\n",
       "    <tr>\n",
       "      <th>0.6</th>\n",
       "      <td>0.83</td>\n",
       "      <td>0.00</td>\n",
       "      <td>0.95</td>\n",
       "      <td>0.90</td>\n",
       "      <td>0.98</td>\n",
       "      <td>1.06</td>\n",
       "    </tr>\n",
       "    <tr>\n",
       "      <th>1.0</th>\n",
       "      <td>1.70</td>\n",
       "      <td>2.46</td>\n",
       "      <td>0.97</td>\n",
       "      <td>1.21</td>\n",
       "      <td>1.30</td>\n",
       "      <td>0.99</td>\n",
       "    </tr>\n",
       "  </tbody>\n",
       "</table>\n",
       "</div>"
      ],
      "text/plain": [
       "     Gender_F  Ethinicity_NW  AvgAge  Party_D  Chamber_H  AvgWordCount\n",
       "0.4      0.31           0.00    1.07     0.83       0.66          0.98\n",
       "0.6      0.83           0.00    0.95     0.90       0.98          1.06\n",
       "1.0      1.70           2.46    0.97     1.21       1.30          0.99"
      ]
     },
     "execution_count": 54,
     "metadata": {},
     "output_type": "execute_result"
    }
   ],
   "source": [
    "reload(explore_data)\n",
    "explore_data.check_bin_probs_distr(val_pred_probs_sample, val_ids_sample, descr)"
   ]
  },
  {
   "cell_type": "code",
   "execution_count": 59,
   "metadata": {},
   "outputs": [
    {
     "name": "stdout",
     "output_type": "stream",
     "text": [
      "\n",
      "Top 10 ngrams by differentiating score:\n",
      "ask unanimous consent that \t 17.1\n",
      "unanimous consent that \t 17.1\n",
      "ask unanimous consent \t 14.0\n",
      "the senator from \t 11.9\n",
      "in support of \t 9.4\n",
      "subcommittee on civil service \t 7.9\n",
      "on civil service \t 7.9\n",
      "and to make \t 7.9\n",
      "consent that the \t 7.6\n",
      "unanimous consent that the \t 7.6\n"
     ]
    },
    {
     "data": {
      "text/html": [
       "<div>\n",
       "<style scoped>\n",
       "    .dataframe tbody tr th:only-of-type {\n",
       "        vertical-align: middle;\n",
       "    }\n",
       "\n",
       "    .dataframe tbody tr th {\n",
       "        vertical-align: top;\n",
       "    }\n",
       "\n",
       "    .dataframe thead th {\n",
       "        text-align: right;\n",
       "    }\n",
       "</style>\n",
       "<table border=\"1\" class=\"dataframe\">\n",
       "  <thead>\n",
       "    <tr style=\"text-align: right;\">\n",
       "      <th></th>\n",
       "      <th>0.4</th>\n",
       "      <th>0.6</th>\n",
       "      <th>1.0</th>\n",
       "    </tr>\n",
       "  </thead>\n",
       "  <tbody>\n",
       "    <tr>\n",
       "      <th>and to make</th>\n",
       "      <td>0.0</td>\n",
       "      <td>4.0</td>\n",
       "      <td>0.0</td>\n",
       "    </tr>\n",
       "    <tr>\n",
       "      <th>ask unanimous consent</th>\n",
       "      <td>25.0</td>\n",
       "      <td>3.0</td>\n",
       "      <td>0.0</td>\n",
       "    </tr>\n",
       "    <tr>\n",
       "      <th>ask unanimous consent that</th>\n",
       "      <td>22.0</td>\n",
       "      <td>0.0</td>\n",
       "      <td>0.0</td>\n",
       "    </tr>\n",
       "    <tr>\n",
       "      <th>consent that the</th>\n",
       "      <td>9.0</td>\n",
       "      <td>0.0</td>\n",
       "      <td>0.0</td>\n",
       "    </tr>\n",
       "    <tr>\n",
       "      <th>in support of</th>\n",
       "      <td>2.0</td>\n",
       "      <td>6.0</td>\n",
       "      <td>25.0</td>\n",
       "    </tr>\n",
       "    <tr>\n",
       "      <th>on civil service</th>\n",
       "      <td>0.0</td>\n",
       "      <td>4.0</td>\n",
       "      <td>0.0</td>\n",
       "    </tr>\n",
       "    <tr>\n",
       "      <th>subcommittee on civil service</th>\n",
       "      <td>0.0</td>\n",
       "      <td>4.0</td>\n",
       "      <td>0.0</td>\n",
       "    </tr>\n",
       "    <tr>\n",
       "      <th>the senator from</th>\n",
       "      <td>37.0</td>\n",
       "      <td>0.0</td>\n",
       "      <td>0.0</td>\n",
       "    </tr>\n",
       "    <tr>\n",
       "      <th>unanimous consent that</th>\n",
       "      <td>22.0</td>\n",
       "      <td>0.0</td>\n",
       "      <td>0.0</td>\n",
       "    </tr>\n",
       "    <tr>\n",
       "      <th>unanimous consent that the</th>\n",
       "      <td>9.0</td>\n",
       "      <td>0.0</td>\n",
       "      <td>0.0</td>\n",
       "    </tr>\n",
       "  </tbody>\n",
       "</table>\n",
       "</div>"
      ],
      "text/plain": [
       "                                0.4  0.6   1.0\n",
       "and to make                     0.0  4.0   0.0\n",
       "ask unanimous consent          25.0  3.0   0.0\n",
       "ask unanimous consent that     22.0  0.0   0.0\n",
       "consent that the                9.0  0.0   0.0\n",
       "in support of                   2.0  6.0  25.0\n",
       "on civil service                0.0  4.0   0.0\n",
       "subcommittee on civil service   0.0  4.0   0.0\n",
       "the senator from               37.0  0.0   0.0\n",
       "unanimous consent that         22.0  0.0   0.0\n",
       "unanimous consent that the      9.0  0.0   0.0"
      ]
     },
     "execution_count": 59,
     "metadata": {},
     "output_type": "execute_result"
    }
   ],
   "source": [
    "reload(explore_data)\n",
    "explore_data.compare_ngrams(val, val_pred_probs)"
   ]
  },
  {
   "cell_type": "code",
   "execution_count": 58,
   "metadata": {},
   "outputs": [
    {
     "name": "stdout",
     "output_type": "stream",
     "text": [
      "\n",
      "In 0.4 bin top 10 ngrams:\n",
      "\n",
      "the united states\n",
      "the gentleman from\n",
      "of the united states\n",
      "of the united\n",
      "the department of\n",
      "unanimous consent that\n",
      "this is the\n",
      "of the island\n",
      "fairfax symphony orchestra\n",
      "ask unanimous consent that\n",
      "--------------------\n",
      "\n",
      "In 0.6 bin top 10 ngrams:\n",
      "\n",
      "the federal government\n",
      "the united states\n",
      "the secretary of\n",
      "the estate tax\n",
      "the washington post\n",
      "the dairy support program\n",
      "the dairy support\n",
      "for the federal\n",
      "dairy support program\n",
      "aware of the\n",
      "--------------------\n",
      "\n",
      "In 1.0 bin top 10 ngrams:\n",
      "\n",
      "the united states\n",
      "percent of the\n",
      "would like to\n",
      "out of the\n",
      "we should not\n",
      "the obey substitute\n",
      "the number of\n",
      "the federal government\n",
      "thank the gentleman\n",
      "one of the\n",
      "--------------------\n"
     ]
    }
   ],
   "source": [
    "reload(explore_data)\n",
    "explore_data.ngrams_by_bin(val_sample, val_pred_probs_sample)"
   ]
  },
  {
   "cell_type": "code",
   "execution_count": 60,
   "metadata": {
    "scrolled": false
   },
   "outputs": [
    {
     "name": "stdout",
     "output_type": "stream",
     "text": [
      "\n",
      "True positive (Predicted prob: 0.91):\n",
      "\n",
      "char_count 1473\n",
      "speaker Mrs. ROUKEMA\n",
      "Chamber H\n",
      "Party R\n",
      "match exact\n",
      "Ethnicity W\n",
      "Full Name ROUKEMA, MARGE\n",
      "Age 53.0\n",
      "Age_lt_med 0.0\n",
      "date 19820921\n",
      "State NJ\n",
      "word_count 226\n",
      "NonWhite 0.0\n",
      "check 1\n",
      "Female 1.0\n",
      "Congress 97\n",
      "speakerid 97113260.0\n",
      "\n",
      " Mr. Chairman. today I reluctantly rise in opposition to this legislation. Reluctantly because this bill contains appropriations for a number of programs which are important to my own State. as well as appropriations for transportation programs important to our country as a whole. It is unfortunate that the committee has chosen to jeopardize the funding of these vital programs by neglecting to report out a bill that represents true spending requirements. First. due to recently passed increased aviation taxes. supplemental amounts totaling $323 million will be required for FAA. facilities and equipment. and research engineering and development. Second. the committee bill does not include $61 million that will be required to increase pay and benefits for air traffic controllers once authorizing legislation is enacted. Third. because of the committees decision to transfer $9 million from the Coast Guard pollution fund to acquisiLion. construction and improvements. additional appropriations will. no doubt. be required to supplement the Coast Guard pollution fund later in the year. These are programs we have committed to funding. Yet there is neither funding in this bill. nor is there latitude to fund them later within the budget strictures. If we pass this legislation today. the end result will be a transportation bill that will eventually exceed 1983 budget ceilings by $393 million. I. therefore. urge my colleagues to join in opposing this legislation.e\n",
      "--------------------\n",
      "\n",
      "True negative (Predicted prob: 0.03):\n",
      "\n",
      "char_count 461\n",
      "speaker Mr. BAKER\n",
      "Chamber S\n",
      "Party R\n",
      "match exact\n",
      "Ethnicity W\n",
      "Full Name BAKER, HOWARD\n",
      "Age 57.0\n",
      "Age_lt_med 0.0\n",
      "date 19820812\n",
      "State TN\n",
      "word_count 76\n",
      "NonWhite 0.0\n",
      "check 1\n",
      "Female 0.0\n",
      "Congress 97\n",
      "speakerid 97104811.0\n",
      "\n",
      " Mr. President. before the Chair makes a further announcement on the immigration bill. I have been advised that all parties have cleared for consideration the budget waiver which must accompany this bill. That Is calendar.order 739. Mr. President. I ask unanimous consent. and I am advised the minority leader is agreeable to this. that the Chair now lay before the Senate Calendar order No. 739. Senate Resolution 435. the budget waiver to acetmpany S. 2222. %.\n",
      "--------------------\n",
      "\n",
      "False positive (Predicted prob: 0.97):\n",
      "\n",
      "char_count 5732\n",
      "speaker Mr. WEISS\n",
      "Chamber H\n",
      "Party D\n",
      "match exact\n",
      "Ethnicity W\n",
      "Full Name WEISS, THEODORE\n",
      "Age 55.0\n",
      "Age_lt_med 0.0\n",
      "date 19820202\n",
      "State NY\n",
      "word_count 951\n",
      "NonWhite 0.0\n",
      "check 1\n",
      "Female 0.0\n",
      "Congress 97\n",
      "speakerid 97109920.0\n",
      "\n",
      " I thank the gentleman for his very eloquent comments and for his contribution to this discussion. President Reagan has suggested that families \"vote with their feet\" if they are dissatisfied with their States social programs: I wonder if he has stopped to consider the massive disruption that such moves would cause In the lives of children who would be forced to leave behind families. friends. and familiar surroundings. The President has reassured us repeatedly. If unconvincingly. that the private sector would take over the support of those social programs that are being abandoned by the Federal Government. But is he not Indulging in wishful thinking? How can the corporate sector. whose charitable donations totaled less than $3 billion in 1980. replace the over $40 billion slashed from social programs last year alone? Resources have rarely trickled down from the haves to the havenots. The 91. million unemployed Americans cannot depend on the notoriously unreliable tricklings from above. Unemployment tears are our Nations social fabric. Not only do the children of the unemployed eat more poorly and dress less well than their more fortunate peers. they are also more often subject to abuse by tensionridden parents. witnesses to the beatings of their mothers. and likely to be in Ill health. Although we pride ourselves on being a childcentered and oriented country. sadly the facts speak otherwise. Our infant mortality rate does not even rank among the worlds top 10. Whereas only 90 of 10.000 Japanese children die before their first birthday. 130 of 10.000 American children do. And the wellbeing of our minority children Is even more scandalous. Twice as many nonwhite American Infants die during their first year of life as white infants. Investing . In children requires extraordinary faith and patience. Some harvests may not be reaped for 15 years or more. For example. it was only recently that we learned how preschoolers. who had participated in the early Head Start program of the 1960s. have been more likely to finish school than their nonHead Start peers and less likely to have needed costly special education services. The administration has launched a massive assault on this Nations social programs and its clients. Bandied about are accusations of excessive Government generosity. and the calls are heard for putting welfare clients to work. But who are these recipients of supposedly excessive Government largesse? Over onehalf of the food stamp recipients are actually children. Similarily. over 70 percent of aid to families with dependent children clients are children. Only 1 percent of those receiving AFDC benefits *are men. fathers who are either ternporarily unemployed or who are disabled. The rest are mothers. many of them with preschool age children. Whom. then. are we putting to work? If the Government would require mothers of young children to work. why have we heard no administration proposals for the expansion of daycare services that would be needed to care for the children of these women? Who. may we ask. will care for the children? One could hardly say that the AFDC families are enriching themselves at the Governments expense. despite rhetorical insinuations to that effect. A family of four receives a grand total of only $120 per month in Mississippi and $569 in Oregon. the most generous State. It is the rare family that does not abhor the dependency and degradation that is often associated with being a welfare client. Children. in particular. suffer when peers tease them about their welfare status. Let me read to you the words of a Connecticut welfare mother. and I am quoting: Before my children went to school. they thought they were like all other children. What they wore didnt make any difference to them. Then they started school. and as. small as they were. they found out they were different. Some little children. not realizing what they were saying. would poke fun at their clothes or make fun of my sons because they needed haircuts. Then all you have tried to protect them from starts building resentment in them. I have tried to explain things to them but they are too small. So all I can do Is try to make the hurts easier for them. Many times my daughter will come home from school in tears because the children tell her she is poor because she is on welfare. So now \"welfare\" Is a dirty word for her. Many a tear I have shed for the pain my children suffer because of the word \"welfare\" but until I can change It. the tears will flow. Recent changes in AFDC regulations will eliminate policies that have been successful in helping these mothers work themselves off the AFDC rolls. From now on. however. they will be unable to keep 30 cents of each dollar they earn. Now for every dollar they earn. a full AFDC dollar will be eliminated from their grants. President Reagan appears to believe that only the wealthy and powerful can benefit from incentives for productivity. Does he really believe that lowincome Americans are a different species? It Is not only from the children of the poor that he is withdrawing support. children of middleclass families will also suffer from the effects of the recent budget cutting orgy. Federal funds for elementary and secondary education have been slashed. More requests for cuts are expected. Yet. the great majority of American children (89 percent) attend our public schools and benefit from this support. Middleclass youngsters will find It increasingly difficult. and. in some cases even impossible. to attend college because of major reductions in the amount of available student aid. Many students whose families incomes fall between $14.000 and $27.000 will no longer be eligible for student aid.\n",
      "--------------------\n",
      "\n",
      "False negative (Predicted prob: 0.06):\n",
      "\n",
      "char_count 768\n",
      "speaker Mrs. KASSEBAUM\n",
      "Chamber S\n",
      "Party R\n",
      "match exact\n",
      "Ethnicity W\n",
      "Full Name KASSEBAUM, NANCY\n",
      "Age 50.0\n",
      "Age_lt_med 1.0\n",
      "date 19810327\n",
      "State KS\n",
      "word_count 140\n",
      "NonWhite 0.0\n",
      "check 1\n",
      "Female 1.0\n",
      "Congress 97\n",
      "speakerid 97109311.0\n",
      "\n",
      " Mr. President. I wish to say that I certainly agree with the Senator from Oklahoma in what he is attempting to do. But I also think following on the Senator from California questioning of where this is going to reflect in our foreign aid is a very important question. I have been advised by staff that the only way that this could be done. if the outlays figures would be insignificant cuts for moneys that have already been agreed to in principle to both Egypt and Israel. I think that we are dealing now with cuts in programs where there might already be some agreements that have had a commitment and we might be in efforts to get back into assisting other programs doing damage to commitments we have already made. Mr. President. I suggest the absence of a quorum.\n",
      "--------------------\n"
     ]
    }
   ],
   "source": [
    "reload(explore_data)\n",
    "explore_data.print_mispredictions(val_target, val_pred_probs, val, val_ids, descr)"
   ]
  },
  {
   "cell_type": "code",
   "execution_count": null,
   "metadata": {},
   "outputs": [],
   "source": []
  }
 ],
 "metadata": {
  "kernelspec": {
   "display_name": "Python 3",
   "language": "python",
   "name": "python3"
  },
  "language_info": {
   "codemirror_mode": {
    "name": "ipython",
    "version": 3
   },
   "file_extension": ".py",
   "mimetype": "text/x-python",
   "name": "python",
   "nbconvert_exporter": "python",
   "pygments_lexer": "ipython3",
   "version": "3.5.2"
  }
 },
 "nbformat": 4,
 "nbformat_minor": 2
}
