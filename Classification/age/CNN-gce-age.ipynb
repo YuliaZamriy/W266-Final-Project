{
 "cells": [
  {
   "cell_type": "code",
   "execution_count": 2,
   "metadata": {},
   "outputs": [
    {
     "data": {
      "text/plain": [
       "2"
      ]
     },
     "execution_count": 2,
     "metadata": {},
     "output_type": "execute_result"
    }
   ],
   "source": [
    "1+1"
   ]
  },
  {
   "cell_type": "code",
   "execution_count": 3,
   "metadata": {},
   "outputs": [
    {
     "data": {
      "text/html": [
       "<style>.container { width:100% !important; }</style>"
      ],
      "text/plain": [
       "<IPython.core.display.HTML object>"
      ]
     },
     "metadata": {},
     "output_type": "display_data"
    }
   ],
   "source": [
    "# increase cell width\n",
    "from IPython.core.display import display, HTML\n",
    "display(HTML(\"<style>.container { width:100% !important; }</style>\"))"
   ]
  },
  {
   "cell_type": "markdown",
   "metadata": {},
   "source": [
    "Inspiration for code:\n",
    "\n",
    "- https://developers.google.com/machine-learning/guides/text-classification/\n",
    "- https://github.com/google/eng-edu/blob/master/ml/guides/text_classification/load_data.py"
   ]
  },
  {
   "cell_type": "code",
   "execution_count": 4,
   "metadata": {},
   "outputs": [],
   "source": [
    "from __future__ import absolute_import\n",
    "from __future__ import division\n",
    "from __future__ import print_function\n",
    "\n",
    "import os\n",
    "import random\n",
    "import time\n",
    "import pickle\n",
    "import gc\n",
    "import re\n",
    "\n",
    "import numpy as np\n",
    "import pandas as pd\n",
    "\n",
    "from importlib import reload"
   ]
  },
  {
   "cell_type": "code",
   "execution_count": 5,
   "metadata": {},
   "outputs": [
    {
     "name": "stderr",
     "output_type": "stream",
     "text": [
      "/home/yulia/anaconda3/lib/python3.6/site-packages/h5py/__init__.py:36: FutureWarning: Conversion of the second argument of issubdtype from `float` to `np.floating` is deprecated. In future, it will be treated as `np.float64 == np.dtype(float).type`.\n",
      "  from ._conv import register_converters as _register_converters\n"
     ]
    }
   ],
   "source": [
    "from helpers import load_data\n",
    "from helpers import explore_data\n",
    "from helpers import preprocess_data\n",
    "from helpers import train_model"
   ]
  },
  {
   "cell_type": "code",
   "execution_count": 6,
   "metadata": {},
   "outputs": [
    {
     "data": {
      "text/plain": [
       "'1.13.0-rc2'"
      ]
     },
     "execution_count": 6,
     "metadata": {},
     "output_type": "execute_result"
    }
   ],
   "source": [
    "import tensorflow as tf\n",
    "tf.__version__"
   ]
  },
  {
   "cell_type": "markdown",
   "metadata": {},
   "source": [
    "## Load the data"
   ]
  },
  {
   "cell_type": "code",
   "execution_count": 7,
   "metadata": {},
   "outputs": [],
   "source": [
    "main_dir = '/home/yulia/W266-Final-Project/'"
   ]
  },
  {
   "cell_type": "code",
   "execution_count": 8,
   "metadata": {},
   "outputs": [],
   "source": [
    "data_path = main_dir+'data/raw/hein-daily'"
   ]
  },
  {
   "cell_type": "code",
   "execution_count": 9,
   "metadata": {},
   "outputs": [
    {
     "name": "stdout",
     "output_type": "stream",
     "text": [
      "\n",
      "File speeches_097.txt has 249718612 characters\n",
      "and 283399 speeches\n",
      "\n",
      "Speeches list has 283399 speeches\n",
      "\n",
      "File speeches_098.txt has 252071246 characters\n",
      "and 280289 speeches\n",
      "\n",
      "Speeches list has 563688 speeches\n",
      "\n",
      "File speeches_099.txt has 265326480 characters\n",
      "and 281528 speeches\n",
      "\n",
      "Speeches list has 845216 speeches\n",
      "\n",
      "File speeches_100.txt has 270610780 characters\n",
      "and 276162 speeches\n",
      "\n",
      "Speeches list has 1121378 speeches\n",
      "\n",
      "File speeches_101.txt has 261004871 characters\n",
      "and 251217 speeches\n",
      "\n",
      "Speeches list has 1372595 speeches\n",
      "\n",
      "File speeches_102.txt has 271650630 characters\n",
      "and 243092 speeches\n",
      "\n",
      "Speeches list has 1615687 speeches\n",
      "\n",
      "File speeches_103.txt has 249908822 characters\n",
      "and 235974 speeches\n",
      "\n",
      "Speeches list has 1851661 speeches\n",
      "\n",
      "File speeches_104.txt has 280355367 characters\n",
      "and 274985 speeches\n",
      "\n",
      "Speeches list has 2126646 speeches\n",
      "\n",
      "File speeches_105.txt has 235226903 characters\n",
      "and 209267 speeches\n",
      "\n",
      "Speeches list has 2335913 speeches\n",
      "\n",
      "File speeches_106.txt has 243801385 characters\n",
      "and 209648 speeches\n",
      "\n",
      "Speeches list has 2545561 speeches\n",
      "\n",
      "File speeches_107.txt has 214724318 characters\n",
      "and 180726 speeches\n",
      "\n",
      "Speeches list has 2726287 speeches\n",
      "\n",
      "File speeches_108.txt has 237009565 characters\n",
      "and 200159 speeches\n",
      "\n",
      "Speeches list has 2926446 speeches\n",
      "\n",
      "File speeches_109.txt has 226698889 characters\n",
      "and 187647 speeches\n",
      "\n",
      "Speeches list has 3114093 speeches\n",
      "\n",
      "File speeches_110.txt has 242773059 characters\n",
      "and 211367 speeches\n",
      "\n",
      "Speeches list has 3325460 speeches\n",
      "\n",
      "File speeches_111.txt has 183499959 characters\n",
      "and 154400 speeches\n",
      "\n",
      "Speeches list has 3479860 speeches\n",
      "\n",
      "File speeches_112.txt has 174117603 characters\n",
      "and 145901 speeches\n",
      "\n",
      "Speeches list has 3625761 speeches\n",
      "\n",
      "File speeches_113.txt has 153424011 characters\n",
      "and 128149 speeches\n",
      "\n",
      "Speeches list has 3753910 speeches\n",
      "\n",
      "File speeches_114.txt has 130969173 characters\n",
      "and 112291 speeches\n",
      "\n",
      "Speeches list has 3866201 speeches\n"
     ]
    }
   ],
   "source": [
    "reload(load_data)\n",
    "all_speech_ids, all_speeches = load_data.load_speech_data(data_path)"
   ]
  },
  {
   "cell_type": "code",
   "execution_count": 10,
   "metadata": {},
   "outputs": [
    {
     "data": {
      "text/plain": [
       "(3866201, 3866201)"
      ]
     },
     "execution_count": 10,
     "metadata": {},
     "output_type": "execute_result"
    }
   ],
   "source": [
    "len(all_speech_ids), len(all_speeches)"
   ]
  },
  {
   "cell_type": "markdown",
   "metadata": {},
   "source": [
    "## Create target labels"
   ]
  },
  {
   "cell_type": "code",
   "execution_count": 11,
   "metadata": {},
   "outputs": [
    {
     "name": "stdout",
     "output_type": "stream",
     "text": [
      "2914465 lines have been read\n",
      "7227 keys had duplicates and deleted\n",
      "The dictionary has 858639 keys\n",
      "\n",
      "Random congressperson: 970167231\n",
      "date 19820513\n",
      "char_count 164\n",
      "word_count 33\n",
      "speakerid 97104811.0\n",
      "Party R\n",
      "Congress 97\n",
      "Chamber S\n",
      "State TN\n",
      "Ethnicity W\n",
      "Age 57.0\n",
      "Age_lt_med 0.0\n",
      "NonWhite 0.0\n",
      "Female 0.0\n",
      "speaker Mr. BAKER\n",
      "Full Name BAKER, HOWARD\n",
      "match exact\n",
      "check 1\n",
      "\n",
      "It took 8.9 seconds to create the dictionary\n"
     ]
    }
   ],
   "source": [
    "reload(load_data)\n",
    "start_time = time.time()\n",
    "descr = load_data.load_descr_data(main_dir+'data/QA/full_descr.txt', p=0.3)\n",
    "print(\"\\nIt took {:.1f} seconds to create the dictionary\".format(time.time()-start_time))"
   ]
  },
  {
   "cell_type": "code",
   "execution_count": 12,
   "metadata": {},
   "outputs": [
    {
     "data": {
      "text/plain": [
       "0.29461300602786655"
      ]
     },
     "execution_count": 12,
     "metadata": {},
     "output_type": "execute_result"
    }
   ],
   "source": [
    "len(list(descr.keys()))/2914464"
   ]
  },
  {
   "cell_type": "code",
   "execution_count": 13,
   "metadata": {},
   "outputs": [
    {
     "data": {
      "text/plain": [
       "(3866201, 3866201, 3866201, 3866201, 3866201, 3866201)"
      ]
     },
     "execution_count": 13,
     "metadata": {},
     "output_type": "execute_result"
    }
   ],
   "source": [
    "gender, ethnicity, age, party, chamber, congress = load_data.create_target_labels(all_speech_ids, descr)\n",
    "len(gender), len(ethnicity), len(age), len(party), len(chamber), len(congress)"
   ]
  },
  {
   "cell_type": "markdown",
   "metadata": {},
   "source": [
    "## Data QA"
   ]
  },
  {
   "cell_type": "code",
   "execution_count": 14,
   "metadata": {},
   "outputs": [
    {
     "name": "stdout",
     "output_type": "stream",
     "text": [
      "\n",
      " Gender\n",
      "Overall speech counts:\n"
     ]
    },
    {
     "data": {
      "text/html": [
       "<div>\n",
       "<style scoped>\n",
       "    .dataframe tbody tr th:only-of-type {\n",
       "        vertical-align: middle;\n",
       "    }\n",
       "\n",
       "    .dataframe tbody tr th {\n",
       "        vertical-align: top;\n",
       "    }\n",
       "\n",
       "    .dataframe thead th {\n",
       "        text-align: right;\n",
       "    }\n",
       "</style>\n",
       "<table border=\"1\" class=\"dataframe\">\n",
       "  <thead>\n",
       "    <tr style=\"text-align: right;\">\n",
       "      <th></th>\n",
       "      <th>Category</th>\n",
       "      <th>Count</th>\n",
       "    </tr>\n",
       "  </thead>\n",
       "  <tbody>\n",
       "    <tr>\n",
       "      <th>0</th>\n",
       "      <td>-1</td>\n",
       "      <td>3007562</td>\n",
       "    </tr>\n",
       "    <tr>\n",
       "      <th>1</th>\n",
       "      <td>0</td>\n",
       "      <td>789148</td>\n",
       "    </tr>\n",
       "    <tr>\n",
       "      <th>2</th>\n",
       "      <td>1</td>\n",
       "      <td>69491</td>\n",
       "    </tr>\n",
       "  </tbody>\n",
       "</table>\n",
       "</div>"
      ],
      "text/plain": [
       "<IPython.core.display.HTML object>"
      ]
     },
     "metadata": {},
     "output_type": "display_data"
    },
    {
     "name": "stdout",
     "output_type": "stream",
     "text": [
      "Target group number of speeches by party:\n",
      "A: \t 0\n",
      "D: \t 50412\n",
      "I: \t 0\n",
      "N: \t 0\n",
      "NA: \t -3007562\n",
      "P: \t 0\n",
      "R: \t 19079\n",
      "\n",
      " Ethnicity\n",
      "Overall speech counts:\n"
     ]
    },
    {
     "data": {
      "text/html": [
       "<div>\n",
       "<style scoped>\n",
       "    .dataframe tbody tr th:only-of-type {\n",
       "        vertical-align: middle;\n",
       "    }\n",
       "\n",
       "    .dataframe tbody tr th {\n",
       "        vertical-align: top;\n",
       "    }\n",
       "\n",
       "    .dataframe thead th {\n",
       "        text-align: right;\n",
       "    }\n",
       "</style>\n",
       "<table border=\"1\" class=\"dataframe\">\n",
       "  <thead>\n",
       "    <tr style=\"text-align: right;\">\n",
       "      <th></th>\n",
       "      <th>Category</th>\n",
       "      <th>Count</th>\n",
       "    </tr>\n",
       "  </thead>\n",
       "  <tbody>\n",
       "    <tr>\n",
       "      <th>0</th>\n",
       "      <td>-1</td>\n",
       "      <td>3007562</td>\n",
       "    </tr>\n",
       "    <tr>\n",
       "      <th>1</th>\n",
       "      <td>0</td>\n",
       "      <td>784049</td>\n",
       "    </tr>\n",
       "    <tr>\n",
       "      <th>2</th>\n",
       "      <td>1</td>\n",
       "      <td>74590</td>\n",
       "    </tr>\n",
       "  </tbody>\n",
       "</table>\n",
       "</div>"
      ],
      "text/plain": [
       "<IPython.core.display.HTML object>"
      ]
     },
     "metadata": {},
     "output_type": "display_data"
    },
    {
     "name": "stdout",
     "output_type": "stream",
     "text": [
      "Target group number of speeches by party:\n",
      "A: \t 4\n",
      "D: \t 66088\n",
      "I: \t 27\n",
      "N: \t 89\n",
      "NA: \t -3007562\n",
      "P: \t 20\n",
      "R: \t 8362\n",
      "\n",
      " Age\n",
      "Overall speech counts:\n"
     ]
    },
    {
     "data": {
      "text/html": [
       "<div>\n",
       "<style scoped>\n",
       "    .dataframe tbody tr th:only-of-type {\n",
       "        vertical-align: middle;\n",
       "    }\n",
       "\n",
       "    .dataframe tbody tr th {\n",
       "        vertical-align: top;\n",
       "    }\n",
       "\n",
       "    .dataframe thead th {\n",
       "        text-align: right;\n",
       "    }\n",
       "</style>\n",
       "<table border=\"1\" class=\"dataframe\">\n",
       "  <thead>\n",
       "    <tr style=\"text-align: right;\">\n",
       "      <th></th>\n",
       "      <th>Category</th>\n",
       "      <th>Count</th>\n",
       "    </tr>\n",
       "  </thead>\n",
       "  <tbody>\n",
       "    <tr>\n",
       "      <th>0</th>\n",
       "      <td>-1</td>\n",
       "      <td>3007562</td>\n",
       "    </tr>\n",
       "    <tr>\n",
       "      <th>1</th>\n",
       "      <td>0</td>\n",
       "      <td>559313</td>\n",
       "    </tr>\n",
       "    <tr>\n",
       "      <th>2</th>\n",
       "      <td>1</td>\n",
       "      <td>299326</td>\n",
       "    </tr>\n",
       "  </tbody>\n",
       "</table>\n",
       "</div>"
      ],
      "text/plain": [
       "<IPython.core.display.HTML object>"
      ]
     },
     "metadata": {},
     "output_type": "display_data"
    },
    {
     "name": "stdout",
     "output_type": "stream",
     "text": [
      "Target group number of speeches by party:\n",
      "A: \t 4\n",
      "D: \t 148670\n",
      "I: \t 119\n",
      "N: \t 89\n",
      "NA: \t -3007562\n",
      "P: \t 20\n",
      "R: \t 150424\n"
     ]
    }
   ],
   "source": [
    "reload(explore_data)\n",
    "for i in [(gender, \"Gender\"), (ethnicity, \"Ethnicity\"), (age, \"Age\")]:\n",
    "    print(\"\\n\", i[1])\n",
    "    print(\"Overall speech counts:\")\n",
    "    explore_data.get_counts(i[0])\n",
    "    print(\"Target group number of speeches by party:\")\n",
    "    explore_data.get_counts_by_category(i[0], party)"
   ]
  },
  {
   "cell_type": "code",
   "execution_count": 15,
   "metadata": {},
   "outputs": [
    {
     "name": "stdout",
     "output_type": "stream",
     "text": [
      "Speaker information\n",
      "date 19991109\n",
      "char_count 213\n",
      "word_count 40\n",
      "speakerid 106121791.0\n",
      "Party D\n",
      "Congress 106\n",
      "Chamber S\n",
      "State OR\n",
      "Ethnicity W\n",
      "Age 51.0\n",
      "Age_lt_med 1.0\n",
      "NonWhite 0.0\n",
      "Female 0.0\n",
      "speaker Mr. WYDEN\n",
      "Full Name WYDEN, RON\n",
      "match exact\n",
      "check 1\n",
      "\n",
      "Mr. President. I noticed Senator GRASSLEY. who worked very hard on this bill. is trying to get a consent agreement. I will hold off if he is ready to go forward. Otherwise. I will proceed because I have the floor.\n"
     ]
    }
   ],
   "source": [
    "reload(explore_data)\n",
    "explore_data.random_speech(all_speeches, all_speech_ids, age, descr)"
   ]
  },
  {
   "cell_type": "markdown",
   "metadata": {},
   "source": [
    "# Age Model"
   ]
  },
  {
   "cell_type": "markdown",
   "metadata": {},
   "source": [
    "## Split into train, validate, test"
   ]
  },
  {
   "cell_type": "code",
   "execution_count": 16,
   "metadata": {},
   "outputs": [
    {
     "name": "stdout",
     "output_type": "stream",
     "text": [
      "Training split: 114524 ones and 114524 zeroes\n",
      "Training speech list size: 229048\n",
      "Training target list size: 229048\n",
      "Validation split: 38174 ones and 38174 zeroes\n",
      "Validation speech list size: 76348\n",
      "Validation target list size: 76348\n",
      "Test split: 38176 ones and 38176 zeroes\n",
      "Test speech list size: 76352\n",
      "Test target list size: 76352\n"
     ]
    }
   ],
   "source": [
    "reload(preprocess_data)\n",
    "train, train_ids, train_target, val, val_ids, val_target, test, test_ids, test_target = preprocess_data.split_train_val_test(all_speeches, all_speech_ids, age, descr)"
   ]
  },
  {
   "cell_type": "code",
   "execution_count": 17,
   "metadata": {},
   "outputs": [
    {
     "data": {
      "text/plain": [
       "(114524, 38174, 38176)"
      ]
     },
     "execution_count": 17,
     "metadata": {},
     "output_type": "execute_result"
    }
   ],
   "source": [
    "sum(train_target), sum(val_target), sum(test_target)"
   ]
  },
  {
   "cell_type": "code",
   "execution_count": 18,
   "metadata": {},
   "outputs": [
    {
     "data": {
      "text/plain": [
       "108452"
      ]
     },
     "execution_count": 18,
     "metadata": {},
     "output_type": "execute_result"
    }
   ],
   "source": [
    "# number of speeches under 30 words\n",
    "sum(np.array(age)==1) - (sum(train_target) + sum(val_target) + sum(test_target))"
   ]
  },
  {
   "cell_type": "code",
   "execution_count": 19,
   "metadata": {},
   "outputs": [
    {
     "name": "stdout",
     "output_type": "stream",
     "text": [
      "Speaker information\n",
      "date 19980421\n",
      "char_count 474\n",
      "word_count 88\n",
      "speakerid 105120730.0\n",
      "Party D\n",
      "Congress 105\n",
      "Chamber H\n",
      "State NJ\n",
      "Ethnicity W\n",
      "Age 47.0\n",
      "Age_lt_med 1.0\n",
      "NonWhite 0.0\n",
      "Female 0.0\n",
      "speaker Mr. PALLONE\n",
      "Full Name PALLONE, FRANK\n",
      "match exact\n",
      "check 1\n",
      "\n",
      "If I could point out another thing that is very unclear. it seems to me. and maybe the gentleman would respond to -that right -now. because he mentioned sale of a home. which is included in this proposal for the sales tax. We have people. homeowners that rely very heavily on mortgage interest deductions and also in my State. and I think many States. you can also deduct your local property taxes from your income tax. It is not at all clear to me that this would continue.\n"
     ]
    }
   ],
   "source": [
    "explore_data.random_speech(train, train_ids, train_target, descr)"
   ]
  },
  {
   "cell_type": "code",
   "execution_count": 20,
   "metadata": {},
   "outputs": [],
   "source": [
    "del all_speeches, all_speech_ids, descr"
   ]
  },
  {
   "cell_type": "markdown",
   "metadata": {},
   "source": [
    "## EDA on train data"
   ]
  },
  {
   "cell_type": "code",
   "execution_count": 21,
   "metadata": {},
   "outputs": [
    {
     "data": {
      "text/plain": [
       "230.0"
      ]
     },
     "execution_count": 21,
     "metadata": {},
     "output_type": "execute_result"
    }
   ],
   "source": [
    "explore_data.get_num_words_per_sample(train)"
   ]
  },
  {
   "cell_type": "code",
   "execution_count": 22,
   "metadata": {},
   "outputs": [
    {
     "data": {
      "text/plain": [
       "231.0"
      ]
     },
     "execution_count": 22,
     "metadata": {},
     "output_type": "execute_result"
    }
   ],
   "source": [
    "explore_data.get_num_words_per_sample(val)"
   ]
  },
  {
   "cell_type": "code",
   "execution_count": 23,
   "metadata": {},
   "outputs": [
    {
     "data": {
      "text/plain": [
       "228.0"
      ]
     },
     "execution_count": 23,
     "metadata": {},
     "output_type": "execute_result"
    }
   ],
   "source": [
    "explore_data.get_num_words_per_sample(test)"
   ]
  },
  {
   "cell_type": "code",
   "execution_count": 24,
   "metadata": {},
   "outputs": [
    {
     "name": "stdout",
     "output_type": "stream",
     "text": [
      "Speech length percentiles\n",
      "    0     10    20     30     40     50     60     70     80     90       100\n",
      "0  31.0  45.0  73.0  121.0  175.0  230.0  303.0  397.0  545.0  840.0  17835.0\n"
     ]
    },
    {
     "data": {
      "image/png": "[encoded data removed]",
      "text/plain": [
       "<Figure size 1440x720 with 1 Axes>"
      ]
     },
     "metadata": {},
     "output_type": "display_data"
    }
   ],
   "source": [
    "explore_data.plot_sample_length_distribution(train)"
   ]
  },
  {
   "cell_type": "markdown",
   "metadata": {},
   "source": [
    "## CNN Models"
   ]
  },
  {
   "cell_type": "markdown",
   "metadata": {},
   "source": [
    "### Pre-processing"
   ]
  },
  {
   "cell_type": "code",
   "execution_count": 25,
   "metadata": {},
   "outputs": [],
   "source": [
    "# Limit on the number of features. \n",
    "TOP_K = 20000\n",
    "\n",
    "# Limit on the length of text sequences. Sequences longer than this\n",
    "# will be truncated.\n",
    "# MAX_SEQUENCE_LENGTH = 100\n",
    "MAX_SEQUENCE_LENGTH = 750\n",
    "\n",
    "vec_params = {\n",
    "    'num_words': TOP_K,\n",
    "    'max_seq_length': MAX_SEQUENCE_LENGTH\n",
    "}"
   ]
  },
  {
   "cell_type": "code",
   "execution_count": 26,
   "metadata": {},
   "outputs": [
    {
     "name": "stdout",
     "output_type": "stream",
     "text": [
      "\n",
      "It took 197.2 seconds to tokenize the data\n"
     ]
    }
   ],
   "source": [
    "start_time = time.time()\n",
    "train_vec, val_vec, test_vec, word_index = preprocess_data.sequence_vectorize(train, val, test, **vec_params)\n",
    "print(\"\\nIt took {:.1f} seconds to tokenize the data\".format(time.time()-start_time))"
   ]
  },
  {
   "cell_type": "code",
   "execution_count": 27,
   "metadata": {},
   "outputs": [
    {
     "data": {
      "text/plain": [
       "(229048, 76348, 76352)"
      ]
     },
     "execution_count": 27,
     "metadata": {},
     "output_type": "execute_result"
    }
   ],
   "source": [
    "len(train), len(val), len(test)"
   ]
  },
  {
   "cell_type": "code",
   "execution_count": 28,
   "metadata": {},
   "outputs": [
    {
     "data": {
      "text/plain": [
       "(229048, 76348, 76352)"
      ]
     },
     "execution_count": 28,
     "metadata": {},
     "output_type": "execute_result"
    }
   ],
   "source": [
    "len(train_vec), len(val_vec), len(test_vec)"
   ]
  },
  {
   "cell_type": "code",
   "execution_count": 29,
   "metadata": {},
   "outputs": [
    {
     "data": {
      "text/plain": [
       "(19999, 19999, 19999)"
      ]
     },
     "execution_count": 29,
     "metadata": {},
     "output_type": "execute_result"
    }
   ],
   "source": [
    "max(map(max, train_vec)), max(map(max, val_vec)), max(map(max, test_vec))"
   ]
  },
  {
   "cell_type": "code",
   "execution_count": 30,
   "metadata": {},
   "outputs": [
    {
     "data": {
      "text/plain": [
       "568081"
      ]
     },
     "execution_count": 30,
     "metadata": {},
     "output_type": "execute_result"
    }
   ],
   "source": [
    "len(word_index)"
   ]
  },
  {
   "cell_type": "code",
   "execution_count": 31,
   "metadata": {},
   "outputs": [
    {
     "data": {
      "text/plain": [
       "(750,)"
      ]
     },
     "execution_count": 31,
     "metadata": {},
     "output_type": "execute_result"
    }
   ],
   "source": [
    "train_vec[0].shape"
   ]
  },
  {
   "cell_type": "code",
   "execution_count": 32,
   "metadata": {},
   "outputs": [
    {
     "data": {
      "text/plain": [
       "'Mr. President. I take a few minutes to make comments about a bill that I have been fooling around with for almost as many years as I have served in the Congress. I remember quite well when I was in the other body and served as chairman of the Fisheries Committee back in 1972. I hate to say how long it has been that we started working on the concept. over 20 years ago. to say that the fishing areas around the United States belong to the people of the United States. At that time. we were being literally inundated by foreign fishing fleets from Japan and other nations which saw the areas around the coastal waters of the entire United States off of our 30 coastal States as very valuable areas. They were coming in and really displacing our own American fishing men and women. and doing it at a rate that would have soon. I think. destroyed the areas of the United States as far as fisheries is concerned. We came up with the Fisheries Management Conservation Act. It was a very long and drawnout process that we entered Into to come up with this legislation that said that these waters are going to be reserved for the U.S. Industry first. and that you could only fish if you are a foreigner if you had a fishing agreement with our country that gave you an allocation of how much you could fish for. It was an interesting effort to try and. get the foreign fishermen out. We came up with an acronym. one that I was proud of coming up with. The whole premise of the bill was to \"phase out foreign fishermen.\" We called it POFF. Puffthey were gone. Today. the foreign fishermen have been essentially removed from our U.S. waters. It is mainly now being fished by American fishing men and women. and the industry is really an American industry. So now the great challenge Is not to keep the foreigners out. but rather to manage the stocks in a way that preserves them for the U.S. industry. This is what this legislation is about. All of the councils that we have around the country are composed of experts In the fishing area. men . and women who represent recreational fishermen. commercial fishermen. scientists. who serve on the fishing council. and their job is to come up with management programs for the various species. It took a long time to reach the point where we are today. Today. the challenge is sound management. You can only have good management if you have good science. You cannot come up with a fishery plan that makes sense If you do not know how many fish you have in the waters off of our coasts. Therefore. the science is Incredibly important. to have the best available scientific information about the conditions of the stock. This legislation moves in that direction to allow for even better science to be obtained. to make these decisions. I applaud the Members who have been Involved in insisting this be what our 4tandard is. In addition. the question of bycatch. something that every fisherman is affected by: If you are fishing for shrimp and catching a lot of other fish that you are not targeting. you have a bycatch. an extra catch that you are not trying to do. We need a lot more studies on bycatch. on how to prevent bycatch without destroying the fishermen who are going after a targeted species. In this legislation. there Is more work in that area as well. By and large. we have to resist the temptation for us to try and manage fisheries from here in Washington. I dont think we have a fish biologist as a Member of the Senate. We are not biologists. I dont think anybody has that background. We should make sure that the councils do the management plans. working with the National Marine Fishery Service. We have to be very careful if we try and say that the councils cannot do this or that because we in Washington. know better. The councils have the first obligation of coming up with management plans based on science. Now and then. we get inundated by one particular group of fishermen. maybe recreational fishermen. that say. \".You have to ban all catches of red snapper.\" and then the commercial boys say. \"No. you need to catch more red snapper because there are a lot more out therQ.\" We are tempted to enact amendments to legislation here in Washington that would do fishery management from the floor of the Senate or from the Commerce Committee. I suggest that that is the wrong way to do it. We ought to strengthen the councils and not weaken them. and let them come up with the proper management plans. This is an issue that never has been Democratic or Republican. its where you are from. the different areas of the northeast. the southeast. the gulf coast. and the Northwest. We have intermural battles here between Alaska and Oregon and Washington. between Texas and Louisiana and the gulf and Florida. But we have come together with this piece of legislation. I commend JOHN KERRY and TED STEVENS for their ability to bring this product to the fldor. Is it perfect? Of course not. Nothing here ever will be. But It Is a good bill and -one that makes sense. I congratulate the ranking member and the chairman of the subcommittee for their work. I support this legislation. We will monitor how It is implemented very carefully to see if further improvements can be made in the future. It has been a long time since 1976 and all those years since we tried to put this together. It is working. We can take a lot of credit and be proud of the work we have done. There is a lot more that needs to be done. and this legislation moves us in that direction. I support the legislation.'"
      ]
     },
     "execution_count": 32,
     "metadata": {},
     "output_type": "execute_result"
    }
   ],
   "source": [
    "train[2]"
   ]
  },
  {
   "cell_type": "code",
   "execution_count": 33,
   "metadata": {},
   "outputs": [
    {
     "data": {
      "text/plain": [
       "array([  96, 3462,   66,    6,    7, 1152,   10,   87,    2,   96],\n",
       "      dtype=int32)"
      ]
     },
     "execution_count": 33,
     "metadata": {},
     "output_type": "execute_result"
    }
   ],
   "source": [
    "train_vec[2][-10:]"
   ]
  },
  {
   "cell_type": "code",
   "execution_count": 34,
   "metadata": {},
   "outputs": [
    {
     "name": "stdout",
     "output_type": "stream",
     "text": [
      "legislation 96\n",
      "moves 3462\n",
      "us 66\n",
      "in 6\n",
      "that 7\n",
      "direction 1152\n",
      "i 10\n",
      "support 87\n",
      "the 2\n",
      "legislation 96\n"
     ]
    }
   ],
   "source": [
    "for word in train[2].split()[-10:]:\n",
    "    word = re.sub(r'[^\\w\\s]','',word).lower()\n",
    "    print(word, word_index[word])"
   ]
  },
  {
   "cell_type": "markdown",
   "metadata": {},
   "source": [
    "### Saving processed files"
   ]
  },
  {
   "cell_type": "code",
   "execution_count": 35,
   "metadata": {},
   "outputs": [],
   "source": [
    "token_path = main_dir+'Classification/data/tokenized/age'"
   ]
  },
  {
   "cell_type": "code",
   "execution_count": 36,
   "metadata": {},
   "outputs": [],
   "source": [
    "np.save(os.path.join(token_path, 'train_vec'), train_vec)\n",
    "np.save(os.path.join(token_path, 'val_vec'), val_vec)\n",
    "np.save(os.path.join(token_path, 'test_vec'), test_vec)"
   ]
  },
  {
   "cell_type": "code",
   "execution_count": 37,
   "metadata": {},
   "outputs": [],
   "source": [
    "pickle.dump(word_index, open(os.path.join(token_path, 'word_index.p'), 'wb'))"
   ]
  },
  {
   "cell_type": "code",
   "execution_count": 38,
   "metadata": {},
   "outputs": [],
   "source": [
    "train_vec = np.load(os.path.join(token_path, 'train_vec.npy'))\n",
    "val_vec = np.load(os.path.join(token_path, 'val_vec.npy'))\n",
    "test_vec = np.load(os.path.join(token_path, 'test_vec.npy'))"
   ]
  },
  {
   "cell_type": "code",
   "execution_count": 39,
   "metadata": {},
   "outputs": [],
   "source": [
    "word_index = pickle.load(open(os.path.join(token_path, 'word_index.p'), 'rb'))"
   ]
  },
  {
   "cell_type": "code",
   "execution_count": 40,
   "metadata": {},
   "outputs": [
    {
     "data": {
      "text/plain": [
       "(229048, 76348, 76352)"
      ]
     },
     "execution_count": 40,
     "metadata": {},
     "output_type": "execute_result"
    }
   ],
   "source": [
    "len(train_vec), len(val_vec), len(test_vec)"
   ]
  },
  {
   "cell_type": "markdown",
   "metadata": {},
   "source": [
    "## CNN model - Full Speech + Glove Embeddings"
   ]
  },
  {
   "cell_type": "code",
   "execution_count": 41,
   "metadata": {},
   "outputs": [],
   "source": [
    "logs_base_dir = main_dir + 'Classification/logs/Age'"
   ]
  },
  {
   "cell_type": "code",
   "execution_count": 42,
   "metadata": {},
   "outputs": [],
   "source": [
    "cnn_model_params = {\n",
    "    'model': 'cnn',\n",
    "    'word_index': word_index,\n",
    "    'learning_rate': 0.001,\n",
    "    'layers': 2,\n",
    "    'epochs': 1000,\n",
    "    'batch_size': 128,\n",
    "    'filters': 64,\n",
    "    'dropout_rate': 0.2,\n",
    "    'embedding_dim': 200,\n",
    "    'kernel_size': 5,\n",
    "    'pool_size': 1,\n",
    "    'max_num_words': 20000,\n",
    "    'use_pretrained_embedding': True,\n",
    "    'is_embedding_trainable': True,\n",
    "    'glove_dir': main_dir + 'data'\n",
    "}"
   ]
  },
  {
   "cell_type": "code",
   "execution_count": 43,
   "metadata": {},
   "outputs": [
    {
     "data": {
      "text/plain": [
       "9"
      ]
     },
     "execution_count": 43,
     "metadata": {},
     "output_type": "execute_result"
    }
   ],
   "source": [
    "gc.collect()"
   ]
  },
  {
   "cell_type": "code",
   "execution_count": 44,
   "metadata": {},
   "outputs": [
    {
     "name": "stdout",
     "output_type": "stream",
     "text": [
      "Found 400000 word vectors.\n",
      "It took 20.6 seconds\n",
      "Preparing embedding matrix.\n",
      "Embedding matrix has been built.\n",
      "Its shape is (20000, 200).\n",
      "It took 0.1 seconds\n",
      "WARNING:tensorflow:From /home/yulia/anaconda3/lib/python3.6/site-packages/tensorflow/python/ops/resource_variable_ops.py:435: colocate_with (from tensorflow.python.framework.ops) is deprecated and will be removed in a future version.\n",
      "Instructions for updating:\n",
      "Colocations handled automatically by placer.\n",
      "WARNING:tensorflow:From /home/yulia/anaconda3/lib/python3.6/site-packages/tensorflow/python/keras/layers/core.py:143: calling dropout (from tensorflow.python.ops.nn_ops) with keep_prob is deprecated and will be removed in a future version.\n",
      "Instructions for updating:\n",
      "Please use `rate` instead of `keep_prob`. Rate should be set to `rate = 1 - keep_prob`.\n",
      "Train on 229048 samples, validate on 76348 samples\n",
      "WARNING:tensorflow:From /home/yulia/anaconda3/lib/python3.6/site-packages/tensorflow/python/ops/math_ops.py:3066: to_int32 (from tensorflow.python.ops.math_ops) is deprecated and will be removed in a future version.\n",
      "Instructions for updating:\n",
      "Use tf.cast instead.\n",
      "WARNING:tensorflow:From /home/yulia/anaconda3/lib/python3.6/site-packages/tensorflow/python/ops/math_grad.py:102: div (from tensorflow.python.ops.math_ops) is deprecated and will be removed in a future version.\n",
      "Instructions for updating:\n",
      "Deprecated in favor of operator or tf.math.divide.\n",
      "Epoch 1/1000\n",
      " - 2222s - loss: 0.6672 - acc: 0.5983 - val_loss: 0.6532 - val_acc: 0.6204\n",
      "Epoch 2/1000\n",
      " - 2469s - loss: 0.6487 - acc: 0.6218 - val_loss: 0.6431 - val_acc: 0.6306\n",
      "Epoch 3/1000\n",
      " - 2473s - loss: 0.6334 - acc: 0.6392 - val_loss: 0.6397 - val_acc: 0.6346\n",
      "Epoch 4/1000\n",
      " - 2470s - loss: 0.6169 - acc: 0.6576 - val_loss: 0.6370 - val_acc: 0.6356\n",
      "Epoch 5/1000\n",
      " - 2470s - loss: 0.5970 - acc: 0.6765 - val_loss: 0.6428 - val_acc: 0.6272\n",
      "Epoch 6/1000\n",
      " - 2467s - loss: 0.5760 - acc: 0.6958 - val_loss: 0.6476 - val_acc: 0.6283\n",
      "Validation accuracy: 0.6282941102981567, loss: 0.6476489383066257\n"
     ]
    }
   ],
   "source": [
    "reload(train_model)\n",
    "history, train_pred_probs, val_pred_probs = train_model.train_model(((train_vec, train_target), (val_vec, val_target)), logs_base_dir, **cnn_model_params)"
   ]
  },
  {
   "cell_type": "markdown",
   "metadata": {},
   "source": [
    "### Clean up space/save outputs"
   ]
  },
  {
   "cell_type": "code",
   "execution_count": 45,
   "metadata": {},
   "outputs": [],
   "source": [
    "probs_path = main_dir+'Classification/data/probs/age/'"
   ]
  },
  {
   "cell_type": "code",
   "execution_count": 46,
   "metadata": {},
   "outputs": [],
   "source": [
    "np.save(probs_path+'val_pred_probs_cnn', val_pred_probs, allow_pickle=True, fix_imports=True)"
   ]
  },
  {
   "cell_type": "code",
   "execution_count": 47,
   "metadata": {},
   "outputs": [],
   "source": [
    "val_pred_probs = np.load(probs_path+'val_pred_probs_cnn.npy', allow_pickle=True, fix_imports=True)"
   ]
  },
  {
   "cell_type": "markdown",
   "metadata": {},
   "source": [
    "## Model Evaluation"
   ]
  },
  {
   "cell_type": "code",
   "execution_count": 48,
   "metadata": {},
   "outputs": [
    {
     "data": {
      "text/plain": [
       "0.6282941268926494"
      ]
     },
     "execution_count": 48,
     "metadata": {},
     "output_type": "execute_result"
    }
   ],
   "source": [
    "val_preds = val_pred_probs > 0.5\n",
    "np.mean(val_preds.flatten()==val_target)"
   ]
  },
  {
   "cell_type": "code",
   "execution_count": 49,
   "metadata": {},
   "outputs": [
    {
     "data": {
      "text/plain": [
       "((76348, 1), 76348)"
      ]
     },
     "execution_count": 49,
     "metadata": {},
     "output_type": "execute_result"
    }
   ],
   "source": [
    "val_preds.shape, len(val_target)"
   ]
  },
  {
   "cell_type": "code",
   "execution_count": 78,
   "metadata": {},
   "outputs": [
    {
     "name": "stdout",
     "output_type": "stream",
     "text": [
      "Confusion matrix, without normalization\n",
      "[[22506 15668]\n",
      " [12711 25463]]\n",
      "             precision    recall  f1-score   support\n",
      "\n",
      "        Old       0.64      0.59      0.61     38174\n",
      "      Young       0.62      0.67      0.64     38174\n",
      "\n",
      "avg / total       0.63      0.63      0.63     76348\n",
      "\n"
     ]
    },
    {
     "data": {
      "text/plain": [
       "<matplotlib.axes._subplots.AxesSubplot at 0x7f925e3e46a0>"
      ]
     },
     "execution_count": 78,
     "metadata": {},
     "output_type": "execute_result"
    },
    {
     "data": {
      "image/png": "[encoded data removed]",
      "text/plain": [
       "<Figure size 432x288 with 2 Axes>"
      ]
     },
     "metadata": {},
     "output_type": "display_data"
    }
   ],
   "source": [
    "reload(explore_data)\n",
    "# specify class names in 0 - 1 order\n",
    "classes = ['Old', 'Young']\n",
    "explore_data.plot_confusion_matrix(val_target, val_preds, classes, normalize=True)"
   ]
  },
  {
   "cell_type": "code",
   "execution_count": 51,
   "metadata": {},
   "outputs": [
    {
     "data": {
      "image/png": "[encoded data removed]",
      "text/plain": [
       "<Figure size 720x720 with 2 Axes>"
      ]
     },
     "metadata": {},
     "output_type": "display_data"
    }
   ],
   "source": [
    "reload(explore_data)\n",
    "explore_data.plot_calibration_curve(val_target, val_pred_probs, 'Age')"
   ]
  },
  {
   "cell_type": "code",
   "execution_count": 52,
   "metadata": {
    "scrolled": true
   },
   "outputs": [
    {
     "name": "stderr",
     "output_type": "stream",
     "text": [
      "/home/yulia/anaconda3/lib/python3.6/site-packages/numpy/lib/arraysetops.py:472: FutureWarning: elementwise comparison failed; returning scalar instead, but in the future will perform elementwise comparison\n",
      "  mask |= (ar1 == a)\n"
     ]
    },
    {
     "data": {
      "text/plain": [
       "(80226, 16)"
      ]
     },
     "execution_count": 52,
     "metadata": {},
     "output_type": "execute_result"
    }
   ],
   "source": [
    "descr_df = pd.read_csv(main_dir+'data/QA/full_descr.txt', sep=\"|\", index_col=0)\n",
    "descr_df = descr_df.loc[np.asarray(val_ids, dtype=int)]\n",
    "descr_df.shape"
   ]
  },
  {
   "cell_type": "code",
   "execution_count": 53,
   "metadata": {},
   "outputs": [
    {
     "name": "stdout",
     "output_type": "stream",
     "text": [
      "Validation sample means:\n",
      "      Gender_F  Ethinicity_NW     AvgAge   Party_D  Chamber_H  AvgWordCount\n",
      "base  0.092015       0.096453  55.847655  0.523209   0.632962    380.291851\n"
     ]
    },
    {
     "data": {
      "text/html": [
       "<div>\n",
       "<style scoped>\n",
       "    .dataframe tbody tr th:only-of-type {\n",
       "        vertical-align: middle;\n",
       "    }\n",
       "\n",
       "    .dataframe tbody tr th {\n",
       "        vertical-align: top;\n",
       "    }\n",
       "\n",
       "    .dataframe thead th {\n",
       "        text-align: right;\n",
       "    }\n",
       "</style>\n",
       "<table border=\"1\" class=\"dataframe\">\n",
       "  <thead>\n",
       "    <tr style=\"text-align: right;\">\n",
       "      <th></th>\n",
       "      <th>Gender_F</th>\n",
       "      <th>Ethinicity_NW</th>\n",
       "      <th>AvgAge</th>\n",
       "      <th>Party_D</th>\n",
       "      <th>Chamber_H</th>\n",
       "      <th>AvgWordCount</th>\n",
       "    </tr>\n",
       "  </thead>\n",
       "  <tbody>\n",
       "    <tr>\n",
       "      <th>0.4</th>\n",
       "      <td>0.76</td>\n",
       "      <td>0.75</td>\n",
       "      <td>1.07</td>\n",
       "      <td>1.02</td>\n",
       "      <td>0.39</td>\n",
       "      <td>0.98</td>\n",
       "    </tr>\n",
       "    <tr>\n",
       "      <th>0.6</th>\n",
       "      <td>1.07</td>\n",
       "      <td>1.07</td>\n",
       "      <td>1.00</td>\n",
       "      <td>1.03</td>\n",
       "      <td>1.08</td>\n",
       "      <td>1.01</td>\n",
       "    </tr>\n",
       "    <tr>\n",
       "      <th>1.0</th>\n",
       "      <td>1.12</td>\n",
       "      <td>1.13</td>\n",
       "      <td>0.94</td>\n",
       "      <td>0.95</td>\n",
       "      <td>1.42</td>\n",
       "      <td>1.00</td>\n",
       "    </tr>\n",
       "  </tbody>\n",
       "</table>\n",
       "</div>"
      ],
      "text/plain": [
       "     Gender_F  Ethinicity_NW  AvgAge  Party_D  Chamber_H  AvgWordCount\n",
       "0.4      0.76           0.75    1.07     1.02       0.39          0.98\n",
       "0.6      1.07           1.07    1.00     1.03       1.08          1.01\n",
       "1.0      1.12           1.13    0.94     0.95       1.42          1.00"
      ]
     },
     "execution_count": 53,
     "metadata": {},
     "output_type": "execute_result"
    }
   ],
   "source": [
    "reload(explore_data)\n",
    "# checking the ratios of demo variables in low-mid-high probability buckets\n",
    "explore_data.check_bin_probs_distr(val_pred_probs, \n",
    "                                   val_ids, \n",
    "                                   descr_df)"
   ]
  },
  {
   "cell_type": "code",
   "execution_count": 54,
   "metadata": {},
   "outputs": [
    {
     "name": "stdout",
     "output_type": "stream",
     "text": [
      "\n",
      "Top 10 ngrams by differentiating score:\n",
      "mr president \t 2864.4\n",
      "senator \t 2333.1\n",
      "speaker \t 2321.3\n",
      "mr speaker \t 2119.2\n",
      "unanimous consent \t 2080.1\n",
      "unanimous \t 2001.2\n",
      "ask unanimous \t 1970.5\n",
      "the gentleman \t 1909.7\n",
      "president ask \t 1901.1\n",
      "gentleman \t 1872.5\n"
     ]
    },
    {
     "data": {
      "text/html": [
       "<div>\n",
       "<style scoped>\n",
       "    .dataframe tbody tr th:only-of-type {\n",
       "        vertical-align: middle;\n",
       "    }\n",
       "\n",
       "    .dataframe tbody tr th {\n",
       "        vertical-align: top;\n",
       "    }\n",
       "\n",
       "    .dataframe thead th {\n",
       "        text-align: right;\n",
       "    }\n",
       "</style>\n",
       "<table border=\"1\" class=\"dataframe\">\n",
       "  <thead>\n",
       "    <tr style=\"text-align: right;\">\n",
       "      <th>bin</th>\n",
       "      <th>1</th>\n",
       "      <th>2</th>\n",
       "      <th>3</th>\n",
       "    </tr>\n",
       "  </thead>\n",
       "  <tbody>\n",
       "    <tr>\n",
       "      <th>ask unanimous</th>\n",
       "      <td>4102.0</td>\n",
       "      <td>2065.0</td>\n",
       "      <td>485.0</td>\n",
       "    </tr>\n",
       "    <tr>\n",
       "      <th>gentleman</th>\n",
       "      <td>1883.0</td>\n",
       "      <td>9724.0</td>\n",
       "      <td>15780.0</td>\n",
       "    </tr>\n",
       "    <tr>\n",
       "      <th>mr president</th>\n",
       "      <td>21416.0</td>\n",
       "      <td>11589.0</td>\n",
       "      <td>3865.0</td>\n",
       "    </tr>\n",
       "    <tr>\n",
       "      <th>mr speaker</th>\n",
       "      <td>5275.0</td>\n",
       "      <td>17124.0</td>\n",
       "      <td>26290.0</td>\n",
       "    </tr>\n",
       "    <tr>\n",
       "      <th>president ask</th>\n",
       "      <td>2508.0</td>\n",
       "      <td>680.0</td>\n",
       "      <td>147.0</td>\n",
       "    </tr>\n",
       "    <tr>\n",
       "      <th>senator</th>\n",
       "      <td>24481.0</td>\n",
       "      <td>11699.0</td>\n",
       "      <td>3770.0</td>\n",
       "    </tr>\n",
       "    <tr>\n",
       "      <th>speaker</th>\n",
       "      <td>6411.0</td>\n",
       "      <td>19958.0</td>\n",
       "      <td>30174.0</td>\n",
       "    </tr>\n",
       "    <tr>\n",
       "      <th>the gentleman</th>\n",
       "      <td>1637.0</td>\n",
       "      <td>9209.0</td>\n",
       "      <td>15228.0</td>\n",
       "    </tr>\n",
       "    <tr>\n",
       "      <th>unanimous</th>\n",
       "      <td>4933.0</td>\n",
       "      <td>2584.0</td>\n",
       "      <td>729.0</td>\n",
       "    </tr>\n",
       "    <tr>\n",
       "      <th>unanimous consent</th>\n",
       "      <td>4651.0</td>\n",
       "      <td>2336.0</td>\n",
       "      <td>588.0</td>\n",
       "    </tr>\n",
       "  </tbody>\n",
       "</table>\n",
       "</div>"
      ],
      "text/plain": [
       "bin                      1        2        3\n",
       "ask unanimous       4102.0   2065.0    485.0\n",
       "gentleman           1883.0   9724.0  15780.0\n",
       "mr president       21416.0  11589.0   3865.0\n",
       "mr speaker          5275.0  17124.0  26290.0\n",
       "president ask       2508.0    680.0    147.0\n",
       "senator            24481.0  11699.0   3770.0\n",
       "speaker             6411.0  19958.0  30174.0\n",
       "the gentleman       1637.0   9209.0  15228.0\n",
       "unanimous           4933.0   2584.0    729.0\n",
       "unanimous consent   4651.0   2336.0    588.0"
      ]
     },
     "execution_count": 54,
     "metadata": {},
     "output_type": "execute_result"
    }
   ],
   "source": [
    "reload(explore_data)\n",
    "explore_data.compare_ngrams(val, val_pred_probs, ngram_range=(1, 2))"
   ]
  },
  {
   "cell_type": "code",
   "execution_count": 55,
   "metadata": {
    "scrolled": false
   },
   "outputs": [
    {
     "name": "stdout",
     "output_type": "stream",
     "text": [
      "\n",
      "True positive (Predicted prob: 0.90):\n",
      "\n",
      "date               20110218\n",
      "char_count             1312\n",
      "word_count              237\n",
      "speakerid       1.12122e+08\n",
      "Party                     R\n",
      "Congress                112\n",
      "Chamber                   H\n",
      "State                    CO\n",
      "Ethnicity                 W\n",
      "Age                      56\n",
      "Age_lt_med                1\n",
      "NonWhite                  0\n",
      "Female                    0\n",
      "speaker          Mr. TIPTON\n",
      "Full Name     TIPTON, SCOTT\n",
      "match                 fuzzy\n",
      "Name: 1120010754, dtype: object\n",
      "\n",
      " Mr. Speaker. I would like to stand and pay sincere tribute to the life of Seth King. Sadly the city of Pueblo. Colorado. will have to continue on without the talents and gifts of the revered local legend. Mr. King was a barber and clinical chemist by trade. but he represented much more to the Pueblo community. The owner and operator of Kings Barber shop. Seth King cut hair for 45 years and had a positive effect on the lives of countless individuals. Mr. King moved to Pueblo as a young E287 man from the still segregated south. He wanted to pursue his dream of becoming a clinical chemist. and achieved that goal as he worked for The Colorado Mental Health Institute for 35 years. Mr. King was also a staunch supporter of the Republican Party. and was the first black man to run for the state senate in 1968. Seth King was also an active member of the Catholic Church and The Knights of Columbus. Whether cheering a customer up at the barbershop. or giving his time in faithbased outreach. he spent his lifetime improving the lives of those around him. Mr. Speaker. Pueblo may have lost a wonderful member of their community. but there is no doubt that the spirit of Seth Kings life still reverberates throughout the city. It has been a privilege to stand and pay tribute to Mr. Seth Kings accomplished life.\n",
      "--------------------\n",
      "\n",
      "True negative (Predicted prob: 0.02):\n",
      "\n",
      "date                20121114\n",
      "char_count              1521\n",
      "word_count               282\n",
      "speakerid        1.12117e+08\n",
      "Party                      D\n",
      "Congress                 112\n",
      "Chamber                    S\n",
      "State                     IA\n",
      "Ethnicity                  W\n",
      "Age                       73\n",
      "Age_lt_med                 0\n",
      "NonWhite                   0\n",
      "Female                     0\n",
      "speaker           Mr. HARKIN\n",
      "Full Name     HARKIN, THOMAS\n",
      "match                  exact\n",
      "Name: 1120134053, dtype: object\n",
      "\n",
      " Mr. President. I listened to the speeches of the majority leader and the Republican leader. I would like to add my statement of congratulations to my longtime friend Senator GRASSLEY for reaching this milestone of 11.000 votes in the U.S. Senate and to our State of Iowa and to our Nation. Senator GRASSLEY and I were elected the same year. sworn in the same day of January 1975. although he preceded me to come to the Senate by 4 years. but I can say without any fear of contradiction that Senator GRASSLEY and I have had a wonderful working relationship. Obviously. anyone who knows our records knows we dont always agree on things all the time. and that is the way it ought to be around here. we have good debates. but we have always been friends. The one thing I also know is that we have always worked together for the betterment of our State of Iowa. I think politics tends to end at that doorstep. and when it comes to Iowa. what is good for our State. we have always worked very closely. We have always had a great camaraderie. and our staffs have worked together very closely over the years. So. again. I wish to commend the senior Senator from the State of Iowa. I now have the distinction of being the most senior junior Senator in the Senate. It used to be Fritz Hollings for years. Now I am the most senior junior Senator. and I couldnt ask for a better colleague and a better friend on that side of the aisle from the State of Iowa than Senator CHUCK GRASSLEY. I congratulate him on reaching this milestone.\n",
      "--------------------\n",
      "\n",
      "False positive (Predicted prob: 0.93):\n",
      "\n",
      "date              19840517\n",
      "char_count            1433\n",
      "word_count             243\n",
      "speakerid      9.81097e+07\n",
      "Party                    D\n",
      "Congress                98\n",
      "Chamber                  H\n",
      "State                   GA\n",
      "Ethnicity                W\n",
      "Age                     57\n",
      "Age_lt_med               0\n",
      "NonWhite                 0\n",
      "Female                   0\n",
      "speaker            Mr. RAY\n",
      "Full Name     RAY, RICHARD\n",
      "match                exact\n",
      "Name: 980195982, dtype: object\n",
      "\n",
      " Mr. Speaker. I rise tonight in behalf of Family Reunion Month which not only recognizes the importance of family unity and its value to our society but also encourages those who are separated or estranged to make contact again. Family Reunion Month is particularly important to me. not only as the sponsor of the bill. but because two families in my district. John and Louise Clinkscales of Lagrange. Ga.. have a son. Kyle. who has been missing for 8 years. and Howard Sowers of Warner Robins. Ga.. whose son. Mark Leroy. has been missing for 9 years. They have experienced the heartaches that families run up against in searching* Bureaucratic redtape. no national clearinghouse of information. few leads. and lack of guidance of how to proceed. They have to live every day with the uncertainty of what happened to their loved ones. Further. this bill has national implications in that there are efforts in each of the 50 States to fill come of these needs because there is no national clearinghouse to provide assistance. Our country is just beginning to realize the depth of this problemrealizing that. as a nation. we spend more en finding missing dogs and even missing cars than on missing peopleand taking action to correct this inequity. I would like to thhnk the more than 220 of my colleagues who joined me in cosponsoring Family Reunion Month and making known their commitment to reuniting families across this great land.e\n",
      "--------------------\n",
      "\n",
      "False negative (Predicted prob: 0.09):\n",
      "\n",
      "date                20020523\n",
      "char_count             11338\n",
      "word_count              1784\n",
      "speakerid        1.07113e+08\n",
      "Party                      R\n",
      "Congress                 107\n",
      "Chamber                    S\n",
      "State                     TN\n",
      "Ethnicity                  W\n",
      "Age                       50\n",
      "Age_lt_med                 1\n",
      "NonWhite                   0\n",
      "Female                     0\n",
      "speaker            Mr. FRIST\n",
      "Full Name     FRIST, WILLIAM\n",
      "match                  exact\n",
      "Name: 1070131940, dtype: object\n",
      "\n",
      " Mr. President. we have learned a lot about terrorism since September of last year. We have learned that terrorists prey on vulnerability. Our vulnerability becomes their target. This bill reduces our vulnerability when it comes to this threat of bioterrorism and thus reduces the likelihood of an attack by reducing our vulnerability and reduces the potential damage an attack may cause by improving and strengthening our response. We have learned the goal of a bioterror attack is not only to hurt people directly but to paralyze them. to cause panic. This bill will calm the nerves and keep order in the event there is another bioterror attack. This bill addresses prevention and preparedness. as well as response. Indeed. this bill touches all areas of preparedness: Protecting our food and water. boosting medical stockpiles. and supporting our local communities and public health infrastructure. This bill emphasizes the local response and local preparedness. It recognizes that it is local people who will respond in the event of a bioterror attack. It is about whom you call when you suspect something. whom you call if you are worried about bioterrorism: The family doctors. the emergency workers. the health care professionals. Today. with this legislation we make the first people on the scene our first priority. Over 3 months after the tragedies of September 11 and slightly more than 60 days after the anthrax attacks. Congress provided a record $3 billion in emergency bioterrorism funding. This was in December of last year. This was a historic investment. As we have learned since that time. it mustbe only a downpayihent toward ensuring that America is fully prepared to respond to bioterrorism and other public health risks. Today. we take another important and very necessary step toward securing our Nation with the Public Health Security and Bioterrorism Preparedness and Response Act. It is a cohesive and comprehensive framework to improve our public health system and thereby reduce our vulnerability. I. too. thank Senator KENNEDY and Senator GREGG for their leadership and their tremendous contributions to this conference report. I thank our colleagues in the House of Representatives. primarily Chairman TAUZIN and Representative DINGELL. for their huge and important efforts. Yesterdays overwhelming vote in the House in favor of passing this conference agreement demonstrates this legislation is truly broad and bipartisan. There is no question we live today in a more dangerous world. much more dangerous than we envisioned before September 11. much more dangerous than we had envisioned before the anthraxladen letters were delivered across the east coast. We are not unprepared for a bioterror attack. but we are clearly underprepared. This bill goes a long way in boosting that preparedness and reducing the vulnerabilities. We know terrorists around the world. including alQaida. are intent on using biological weapons against us. We know more than a dozen nationsincluding Iraq. North Korea. Libya. Syriahave the capability to produce chemical and biological weapons. and many have stockpiled such biological weapons in the past. We know thousands of Soviet scientists who have the expertise to develop biological weapons are. today. unemployed. and potentially available to the highest bidder. Yes. the risk is real. We know the risk is increasing. The National Intelligence Council warns: The biological warfare capabilities of state and nonstate actors are growing worldwide. This trend leads us to believe that the risk of an attack against the United States. its interests and allies will increase in the coming years. This bill is the foundation and framework for our response. Iraq launched a robust biological program in 1985 and has admitted to producing large quantities of agents and weapons. including 19.000 liters of botulinumin fact. 10.000 liters loaded into munitionsand 8.500 liters of anthraxand 6.500 were loaded into munitions. During the gulf war. Iraq weaponized 100 bombs and 15 missile warheads with botulinum. and 50 bombs and 10 missile warheads with anthrax. Nonstate actors are also a threat. CIA Director George Tenet has been quoted recently in the New York Times as saying: Documents recovered from alQaida facilities in Afghanistan show that Osama bin Laden was pursuing a sophisticated biological weapons research program. U.S. forces discovered a facility in southern Afghanistan near Kandahar that was being built to produce biological agents. Our vulnerabilities remain high. This bill addresses reducing those vulnerabilities. Most public health departments in the United States do not have staff fully trained in bioterrorism. A recent report showed that onethird of public health departments serving 25.000 or fewer people had no Internet access. and onequarter of public health staff had no electronic or email. Today more than 99 percent of food imported into this country is never iilspected. The American people. with passage of this legislation. should rest easier. knowing that our Government is taking the steps necessary to respond to this threat at the local level. at the State level. and at the national level. This legislation will ensure that we continue to act both rapidly and appropriately to secure the Nation against future attacks on our freedom. What does the bill do? The conference agreement provides the resources nec essary to improve the training of those first responders. to those doctors. to nurses. to public health officials at the local level. They are the first line of defense. The bill authorizes $300 million both in 2002 and 2003 to strengthen the capabilities of the Centers for Disease Control and Prevention and modernize its facilities. The bill enhances our national research capabilities and helps speed the development of needed drugs. of needed vaccines. diagnostic tests. and other priority countermeasures. And the bill helps ensure that our national strategic pharmaceutical stockpile is adequate to meet the needs of America. The October anthraxladen letters underscored the importance of coordination. the importance of communication. The conference agreement puts in place structures to ensure improved government coordination. as well as improved collaboration between government and the private sector. The legislation helps us develop the stateoftheart communication infrastructilre so we can more readily and more rapidly identify and treat infectious disease outbreaks. It also helps ensure that our children and other vulnerable populations are better prepared. This conference agreement will significantly improve our ability to protect our water supply. our food supply. our Nations agriculture. and it will help better track and regulate the use of dangerous pathogens within our borders. The bill focuses on what happens at the local level. at the community level. If you are suspicious. if an attack occurs. you pick up the telephone. you call somebody. or go to a local facility. This bill underscores the importance of support at the local level. The legislation will provide significant new resources. $1.6 billion in the year 2003 alone. to strengthen our State and local public health systems. We have underinvested in our public health infrastructure in the last 30 years in this country. As the title of the bill makes clear. this legislation will not only improve -our ability to respond to bioterrorism but to other public -health risks. and emergencies as well. whether they be from other intentional acts of ter-. rorism. nuclear attacks. chemical accidents or attacks. or from naturally occurring infectious disease outbreaks. the socalled dual use of the investment that we put in public health today. I am proud to be part of this legislation. I believe that years from now America will look back upon this bill as landmark legislation. a landmark achievement. a turning point in our commitment to strengthening our defenses. focusing on biological threats. As has been mentioned by my colleagues. I am very pleased with the reauthorization of what is called the Prescription Drug User Fee Act. This important law helps make it possible for the Food and Drug Administration to hire additional manpower and expertise to -speed the drug approval process so consumers can benefit more quickly in a safe way from lifesaving drugs. I am also pleased this agreement includes the FristKennedy Emergency Access to Defibrillator Act. an act which has passed the Senate earlier this year. a provision which will provide annual grants to deploy lifesaving cardiac heart defibrillators in more public buildings. My colleague. Senator GREGG. has already recognized so many people who have participated in such an admirable way to this bill. There are items that I. too. would like to have included in this particular bill that are not in the final package. items that I think we must continue to address in the Senate and in committee. I believe we need more certainty if private industry truly is to become a partner in combating bioterrorism. To harness the genius. to harness the resources of private companies in these efforts. we should continue to find ways to protect companies from frivolous lawsuits and provide pharmaceutical research companies and others the certainty that they will not face antitrust enforcement simply because they are collaborating with the Government and their business partners to more rapidly and more rationally develop vaccines and other countermeasures. This is a solid bill. It combines sound policy and enhapced resources to better prepare our Nation and to provide security to the American people.*Once again. I commend Senator KENNEDY for his dedication and leadership. In many ways. this legislation builds upon a foundation we began about 3 years ago as we began. in a bipartisan way. to develop this issue of bioterrorism. He and I agree that protecting the American people from bioterrorist attacks and other public health threats and emergencies does require a robust. a reinvigorated public health system. I also thank and commend the ranking member of the Senate HELP Coin-. mittee. Senator GREGG. as well as the other Senate Republican conferees he has previously mentioned. Senator ENzI and Senator TIM HUTCHINSON. for the tremendous work he isdoing in the agricultural and rural elements of the bill. Other Members. Senators ROBERTS. DEWiNE. COLLINS. and HATCH. also were instrumental in drafting this important legislation. Finally. it is difficult to pass legislation of this magnitude without the assistance and diligence of dedicated staff. Most of those staff members have been recognized already. I do want to thank members of my own staff. in particular Dean Rosen. Helen Rhee. Shana Christrup. and Doug CamposOutcalt. a fellow in my office. I would also like to recognize the contributions of Vince Ventimiglia. Katy French. and Steve Irizzary of Senator GREGGS staff. David Nexon. Paul Kim. David Bowen. and David Dorsey of Senator KENNEDYS staff. Raissa Geary of Senator ENZIs staff. Kate Hull of Senator HUTCHINSONs staff. and Mike Seyfert and Lisa Meyer of Senator ROBERTS staff. Finally. with this bill we will take away one of the most formidable weapons in the terrorist arsenal. and that is our own vulnerability. I yield the floor.\n",
      "--------------------\n"
     ]
    }
   ],
   "source": [
    "reload(explore_data)\n",
    "explore_data.print_mispredictions(val_target, val_pred_probs, val, val_ids, descr_df)"
   ]
  },
  {
   "cell_type": "markdown",
   "metadata": {},
   "source": [
    "## CNN - chunking the data"
   ]
  },
  {
   "cell_type": "markdown",
   "metadata": {},
   "source": [
    "### Prepare the data"
   ]
  },
  {
   "cell_type": "code",
   "execution_count": 56,
   "metadata": {},
   "outputs": [],
   "source": [
    "chunk_len=50"
   ]
  },
  {
   "cell_type": "code",
   "execution_count": 57,
   "metadata": {},
   "outputs": [
    {
     "name": "stdout",
     "output_type": "stream",
     "text": [
      "Original data has 229048 speeches\n",
      "It was split into 1852321 chunks\n",
      "Checks on ids and target 1852321 1852321\n",
      "Original target mean 0.5\n",
      "New target mean 0.4941962003346072\n",
      "Original data has 76348 speeches\n",
      "It was split into 617897 chunks\n",
      "Checks on ids and target 617897 617897\n",
      "Original target mean 0.5\n",
      "New target mean 0.49627850596458634\n",
      "Original data has 76352 speeches\n",
      "It was split into 610677 chunks\n",
      "Checks on ids and target 610677 610677\n",
      "Original target mean 0.5\n",
      "New target mean 0.4935931760980027\n",
      "\n",
      "It took 27.7 seconds to create the dictionary\n"
     ]
    }
   ],
   "source": [
    "reload(preprocess_data)\n",
    "start_time = time.time()\n",
    "train_chunk, train_ids_chunk, train_target_chunk = preprocess_data.split_speech_to_chunks(train, train_ids, train_target, max_len=chunk_len)\n",
    "val_chunk, val_ids_chunk, val_target_chunk = preprocess_data.split_speech_to_chunks(val, val_ids, val_target, max_len=chunk_len)\n",
    "test_chunk, test_ids_chunk, test_target_chunk = preprocess_data.split_speech_to_chunks(test, test_ids, test_target, max_len=chunk_len)\n",
    "print(\"\\nIt took {:.1f} seconds to create the dictionary\".format(time.time()-start_time))"
   ]
  },
  {
   "cell_type": "code",
   "execution_count": 58,
   "metadata": {},
   "outputs": [],
   "source": [
    "# Limit on the number of features. \n",
    "TOP_K = 20000\n",
    "\n",
    "# Limit on the length of text sequences. Sequences longer than this\n",
    "# will be truncated.\n",
    "# MAX_SEQUENCE_LENGTH = 100\n",
    "MAX_SEQUENCE_LENGTH = chunk_len\n",
    "\n",
    "vec_params = {\n",
    "    'num_words': TOP_K,\n",
    "    'max_seq_length': MAX_SEQUENCE_LENGTH\n",
    "}"
   ]
  },
  {
   "cell_type": "code",
   "execution_count": 59,
   "metadata": {},
   "outputs": [
    {
     "name": "stdout",
     "output_type": "stream",
     "text": [
      "\n",
      "It took 441.1 seconds to tokenize the data\n"
     ]
    }
   ],
   "source": [
    "start_time = time.time()\n",
    "train_vec, val_vec, test_vec, word_index = preprocess_data.sequence_vectorize(train_chunk, val_chunk, test_chunk, **vec_params)\n",
    "print(\"\\nIt took {:.1f} seconds to tokenize the data\".format(time.time()-start_time))"
   ]
  },
  {
   "cell_type": "code",
   "execution_count": 60,
   "metadata": {},
   "outputs": [],
   "source": [
    "np.save(os.path.join(token_path, 'train_vec_chunk'), train_vec)\n",
    "np.save(os.path.join(token_path, 'val_vec_chunk'), val_vec)\n",
    "np.save(os.path.join(token_path, 'test_vec_chunk'), test_vec)"
   ]
  },
  {
   "cell_type": "code",
   "execution_count": 61,
   "metadata": {},
   "outputs": [],
   "source": [
    "train_vec = np.load(os.path.join(token_path, 'train_vec_chunk.npy'))\n",
    "val_vec = np.load(os.path.join(token_path, 'val_vec_chunk.npy'))\n",
    "test_vec = np.load(os.path.join(token_path, 'test_vec_chunk.npy'))"
   ]
  },
  {
   "cell_type": "code",
   "execution_count": 62,
   "metadata": {},
   "outputs": [
    {
     "data": {
      "text/plain": [
       "(1852321, 50)"
      ]
     },
     "execution_count": 62,
     "metadata": {},
     "output_type": "execute_result"
    }
   ],
   "source": [
    "train_vec.shape"
   ]
  },
  {
   "cell_type": "code",
   "execution_count": 63,
   "metadata": {},
   "outputs": [
    {
     "data": {
      "text/plain": [
       "array([   26,   112,    10,   103,     3,   178,    26,     1,    12,\n",
       "        1044,   381,    11,   128,    59,    46,    27,    47,   975,\n",
       "         644,     6,   164,   916,    25,     2,   445,   586,  2306,\n",
       "        2586,  5996,   736,  1076,     2,  2933,     5, 11732,     4,\n",
       "           2,     1,     2,     1,  3847,    29,  2419,  1189,     5,\n",
       "        1603,     6,  1222,   195,     2], dtype=int32)"
      ]
     },
     "execution_count": 63,
     "metadata": {},
     "output_type": "execute_result"
    }
   ],
   "source": [
    "train_vec[0]"
   ]
  },
  {
   "cell_type": "code",
   "execution_count": 64,
   "metadata": {},
   "outputs": [
    {
     "data": {
      "text/plain": [
       "numpy.ndarray"
      ]
     },
     "execution_count": 64,
     "metadata": {},
     "output_type": "execute_result"
    }
   ],
   "source": [
    "type(train_vec)"
   ]
  },
  {
   "cell_type": "markdown",
   "metadata": {},
   "source": [
    "### Run the model"
   ]
  },
  {
   "cell_type": "code",
   "execution_count": 65,
   "metadata": {
    "scrolled": true
   },
   "outputs": [
    {
     "name": "stdout",
     "output_type": "stream",
     "text": [
      "Found 400000 word vectors.\n",
      "It took 36.0 seconds\n",
      "Preparing embedding matrix.\n",
      "Embedding matrix has been built.\n",
      "Its shape is (20000, 200).\n",
      "It took 0.1 seconds\n",
      "Train on 1852321 samples, validate on 617897 samples\n",
      "Epoch 1/1000\n",
      " - 1658s - loss: 0.6776 - acc: 0.5668 - val_loss: 0.6732 - val_acc: 0.5775\n",
      "Epoch 2/1000\n",
      " - 1137s - loss: 0.6658 - acc: 0.5913 - val_loss: 0.6729 - val_acc: 0.5783\n",
      "Epoch 3/1000\n",
      " - 1050s - loss: 0.6592 - acc: 0.6020 - val_loss: 0.6719 - val_acc: 0.5791\n",
      "Epoch 4/1000\n",
      " - 1050s - loss: 0.6526 - acc: 0.6118 - val_loss: 0.6740 - val_acc: 0.5773\n",
      "Epoch 5/1000\n",
      " - 1053s - loss: 0.6454 - acc: 0.6211 - val_loss: 0.6756 - val_acc: 0.5754\n",
      "Validation accuracy: 0.5754292607307434, loss: 0.6756157020758051\n"
     ]
    }
   ],
   "source": [
    "history_chunk, train_pred_probs_chunk, val_pred_probs_chunk = train_model.train_model(((train_vec, train_target_chunk), (val_vec, val_target_chunk)), logs_base_dir, **cnn_model_params)"
   ]
  },
  {
   "cell_type": "code",
   "execution_count": 79,
   "metadata": {},
   "outputs": [],
   "source": [
    "np.save(probs_path+'val_pred_probs_cnn_chunk', val_pred_probs_chunk, allow_pickle=True, fix_imports=True)"
   ]
  },
  {
   "cell_type": "code",
   "execution_count": 92,
   "metadata": {},
   "outputs": [
    {
     "data": {
      "text/plain": [
       "0.5754292382063677"
      ]
     },
     "execution_count": 92,
     "metadata": {},
     "output_type": "execute_result"
    }
   ],
   "source": [
    "val_preds_chunk = val_pred_probs_chunk > 0.5\n",
    "np.mean(val_preds_chunk.flatten()==val_target_chunk)"
   ]
  },
  {
   "cell_type": "code",
   "execution_count": 68,
   "metadata": {},
   "outputs": [
    {
     "data": {
      "text/html": [
       "<div>\n",
       "<style scoped>\n",
       "    .dataframe tbody tr th:only-of-type {\n",
       "        vertical-align: middle;\n",
       "    }\n",
       "\n",
       "    .dataframe tbody tr th {\n",
       "        vertical-align: top;\n",
       "    }\n",
       "\n",
       "    .dataframe thead th {\n",
       "        text-align: right;\n",
       "    }\n",
       "</style>\n",
       "<table border=\"1\" class=\"dataframe\">\n",
       "  <thead>\n",
       "    <tr style=\"text-align: right;\">\n",
       "      <th></th>\n",
       "      <th>ids</th>\n",
       "      <th>probs_min</th>\n",
       "      <th>probs_max</th>\n",
       "      <th>probs_mean</th>\n",
       "      <th>target</th>\n",
       "      <th>preds</th>\n",
       "      <th>preds_probs_mean</th>\n",
       "      <th>preds_mean</th>\n",
       "    </tr>\n",
       "  </thead>\n",
       "  <tbody>\n",
       "    <tr>\n",
       "      <th>0</th>\n",
       "      <td>1000000059</td>\n",
       "      <td>0.487635</td>\n",
       "      <td>0.691196</td>\n",
       "      <td>0.601263</td>\n",
       "      <td>0</td>\n",
       "      <td>0.888889</td>\n",
       "      <td>1</td>\n",
       "      <td>1</td>\n",
       "    </tr>\n",
       "    <tr>\n",
       "      <th>1</th>\n",
       "      <td>1000000124</td>\n",
       "      <td>0.451890</td>\n",
       "      <td>0.544882</td>\n",
       "      <td>0.492063</td>\n",
       "      <td>1</td>\n",
       "      <td>0.333333</td>\n",
       "      <td>0</td>\n",
       "      <td>0</td>\n",
       "    </tr>\n",
       "    <tr>\n",
       "      <th>2</th>\n",
       "      <td>1000000354</td>\n",
       "      <td>0.428326</td>\n",
       "      <td>0.577475</td>\n",
       "      <td>0.500335</td>\n",
       "      <td>1</td>\n",
       "      <td>0.500000</td>\n",
       "      <td>1</td>\n",
       "      <td>0</td>\n",
       "    </tr>\n",
       "    <tr>\n",
       "      <th>3</th>\n",
       "      <td>1000000360</td>\n",
       "      <td>0.045549</td>\n",
       "      <td>0.723934</td>\n",
       "      <td>0.443347</td>\n",
       "      <td>0</td>\n",
       "      <td>0.305556</td>\n",
       "      <td>0</td>\n",
       "      <td>0</td>\n",
       "    </tr>\n",
       "    <tr>\n",
       "      <th>4</th>\n",
       "      <td>1000000452</td>\n",
       "      <td>0.431620</td>\n",
       "      <td>0.532566</td>\n",
       "      <td>0.482093</td>\n",
       "      <td>0</td>\n",
       "      <td>0.500000</td>\n",
       "      <td>0</td>\n",
       "      <td>0</td>\n",
       "    </tr>\n",
       "  </tbody>\n",
       "</table>\n",
       "</div>"
      ],
      "text/plain": [
       "          ids  probs_min  probs_max  probs_mean  target     preds  \\\n",
       "0  1000000059   0.487635   0.691196    0.601263       0  0.888889   \n",
       "1  1000000124   0.451890   0.544882    0.492063       1  0.333333   \n",
       "2  1000000354   0.428326   0.577475    0.500335       1  0.500000   \n",
       "3  1000000360   0.045549   0.723934    0.443347       0  0.305556   \n",
       "4  1000000452   0.431620   0.532566    0.482093       0  0.500000   \n",
       "\n",
       "   preds_probs_mean  preds_mean  \n",
       "0                 1           1  \n",
       "1                 0           0  \n",
       "2                 1           0  \n",
       "3                 0           0  \n",
       "4                 0           0  "
      ]
     },
     "execution_count": 68,
     "metadata": {},
     "output_type": "execute_result"
    }
   ],
   "source": [
    "pred_df = pd.DataFrame({'ids': val_ids_chunk, 'target': val_target_chunk, 'probs': val_pred_probs_chunk.flatten(), 'preds': val_preds_chunk.flatten()})\n",
    "f = {'probs': [min, max, 'mean']}\n",
    "pred_aggr_df = pred_df.groupby('ids').agg(f).reset_index()\n",
    "pred_aggr_df.columns = ['ids', 'probs_min', 'probs_max', 'probs_mean']\n",
    "pred_aggr_df = pred_aggr_df.merge(pred_df[['target', 'ids']].groupby('ids').mean().reset_index(), on='ids')\n",
    "pred_aggr_df = pred_aggr_df.merge(pred_df[['preds', 'ids']].groupby('ids').mean().reset_index(), on='ids')\n",
    "pred_aggr_df['preds_probs_mean'] = pred_aggr_df['probs_mean'].apply(lambda x: 1 if x > 0.5 else 0)\n",
    "pred_aggr_df['preds_mean'] = pred_aggr_df['preds'].apply(lambda x: 1 if x > 0.5 else 0)\n",
    "pred_aggr_df.head()"
   ]
  },
  {
   "cell_type": "code",
   "execution_count": 69,
   "metadata": {},
   "outputs": [
    {
     "data": {
      "text/plain": [
       "(0.6363493477235815, 0.6309922984230104)"
      ]
     },
     "execution_count": 69,
     "metadata": {},
     "output_type": "execute_result"
    }
   ],
   "source": [
    "np.mean(pred_aggr_df.target == pred_aggr_df.preds_probs_mean), np.mean(pred_aggr_df.target == pred_aggr_df.preds_mean)"
   ]
  },
  {
   "cell_type": "code",
   "execution_count": 90,
   "metadata": {},
   "outputs": [
    {
     "data": {
      "text/html": [
       "<div>\n",
       "<style scoped>\n",
       "    .dataframe tbody tr th:only-of-type {\n",
       "        vertical-align: middle;\n",
       "    }\n",
       "\n",
       "    .dataframe tbody tr th {\n",
       "        vertical-align: top;\n",
       "    }\n",
       "\n",
       "    .dataframe thead th {\n",
       "        text-align: right;\n",
       "    }\n",
       "</style>\n",
       "<table border=\"1\" class=\"dataframe\">\n",
       "  <thead>\n",
       "    <tr style=\"text-align: right;\">\n",
       "      <th></th>\n",
       "      <th>target_orig</th>\n",
       "      <th>ids</th>\n",
       "      <th>probs_min</th>\n",
       "      <th>probs_max</th>\n",
       "      <th>probs_mean</th>\n",
       "      <th>target</th>\n",
       "      <th>preds</th>\n",
       "      <th>preds_probs_mean</th>\n",
       "      <th>preds_mean</th>\n",
       "    </tr>\n",
       "  </thead>\n",
       "  <tbody>\n",
       "    <tr>\n",
       "      <th>0</th>\n",
       "      <td>1</td>\n",
       "      <td>1060162543</td>\n",
       "      <td>0.476404</td>\n",
       "      <td>0.665580</td>\n",
       "      <td>0.570992</td>\n",
       "      <td>1</td>\n",
       "      <td>0.500000</td>\n",
       "      <td>1</td>\n",
       "      <td>0</td>\n",
       "    </tr>\n",
       "    <tr>\n",
       "      <th>1</th>\n",
       "      <td>1</td>\n",
       "      <td>980236360</td>\n",
       "      <td>0.400324</td>\n",
       "      <td>0.828363</td>\n",
       "      <td>0.572081</td>\n",
       "      <td>1</td>\n",
       "      <td>0.739130</td>\n",
       "      <td>1</td>\n",
       "      <td>1</td>\n",
       "    </tr>\n",
       "    <tr>\n",
       "      <th>2</th>\n",
       "      <td>1</td>\n",
       "      <td>990257551</td>\n",
       "      <td>0.309233</td>\n",
       "      <td>0.472752</td>\n",
       "      <td>0.410642</td>\n",
       "      <td>1</td>\n",
       "      <td>0.000000</td>\n",
       "      <td>0</td>\n",
       "      <td>0</td>\n",
       "    </tr>\n",
       "    <tr>\n",
       "      <th>3</th>\n",
       "      <td>1</td>\n",
       "      <td>1010233637</td>\n",
       "      <td>0.424273</td>\n",
       "      <td>0.670593</td>\n",
       "      <td>0.551683</td>\n",
       "      <td>1</td>\n",
       "      <td>0.642857</td>\n",
       "      <td>1</td>\n",
       "      <td>1</td>\n",
       "    </tr>\n",
       "    <tr>\n",
       "      <th>4</th>\n",
       "      <td>1</td>\n",
       "      <td>980084907</td>\n",
       "      <td>0.309678</td>\n",
       "      <td>0.603649</td>\n",
       "      <td>0.435199</td>\n",
       "      <td>1</td>\n",
       "      <td>0.142857</td>\n",
       "      <td>0</td>\n",
       "      <td>0</td>\n",
       "    </tr>\n",
       "  </tbody>\n",
       "</table>\n",
       "</div>"
      ],
      "text/plain": [
       "   target_orig         ids  probs_min  probs_max  probs_mean  target  \\\n",
       "0            1  1060162543   0.476404   0.665580    0.570992       1   \n",
       "1            1   980236360   0.400324   0.828363    0.572081       1   \n",
       "2            1   990257551   0.309233   0.472752    0.410642       1   \n",
       "3            1  1010233637   0.424273   0.670593    0.551683       1   \n",
       "4            1   980084907   0.309678   0.603649    0.435199       1   \n",
       "\n",
       "      preds  preds_probs_mean  preds_mean  \n",
       "0  0.500000                 1           0  \n",
       "1  0.739130                 1           1  \n",
       "2  0.000000                 0           0  \n",
       "3  0.642857                 1           1  \n",
       "4  0.142857                 0           0  "
      ]
     },
     "execution_count": 90,
     "metadata": {},
     "output_type": "execute_result"
    }
   ],
   "source": [
    "original_df = pd.DataFrame({'target_orig': val_target, 'ids': val_ids})\n",
    "original_df = original_df.merge(pred_aggr_df, on=\"ids\")\n",
    "original_df.head()"
   ]
  },
  {
   "cell_type": "code",
   "execution_count": 89,
   "metadata": {},
   "outputs": [
    {
     "data": {
      "text/plain": [
       "(38174, 38174)"
      ]
     },
     "execution_count": 89,
     "metadata": {},
     "output_type": "execute_result"
    }
   ],
   "source": [
    "original_df.target_orig.sum(), original_df.target.sum()"
   ]
  },
  {
   "cell_type": "markdown",
   "metadata": {},
   "source": [
    "## Model evaluation"
   ]
  },
  {
   "cell_type": "code",
   "execution_count": 98,
   "metadata": {},
   "outputs": [],
   "source": [
    "val_pred_aggr_chunk = original_df.preds_probs_mean\n",
    "val_pred_probs_aggr_chunk = original_df.probs_mean\n",
    "# val_aggr_target = pred_aggr_df.target\n",
    "# val_aggr_ids = pred_aggr_df.ids"
   ]
  },
  {
   "cell_type": "code",
   "execution_count": 101,
   "metadata": {},
   "outputs": [],
   "source": [
    "np.save(probs_path+'val_pred_probs_cnn_aggr_chunk', val_pred_probs_aggr_chunk, allow_pickle=True, fix_imports=True)"
   ]
  },
  {
   "cell_type": "code",
   "execution_count": 99,
   "metadata": {},
   "outputs": [
    {
     "name": "stdout",
     "output_type": "stream",
     "text": [
      "Confusion matrix, without normalization\n",
      "[[19787 18387]\n",
      " [ 9377 28797]]\n",
      "             precision    recall  f1-score   support\n",
      "\n",
      "        Old       0.68      0.52      0.59     38174\n",
      "      Young       0.61      0.75      0.67     38174\n",
      "\n",
      "avg / total       0.64      0.64      0.63     76348\n",
      "\n"
     ]
    },
    {
     "data": {
      "text/plain": [
       "<matplotlib.axes._subplots.AxesSubplot at 0x7f925e36c3c8>"
      ]
     },
     "execution_count": 99,
     "metadata": {},
     "output_type": "execute_result"
    },
    {
     "data": {
      "image/png": "[encoded data removed]",
      "text/plain": [
       "<Figure size 432x288 with 2 Axes>"
      ]
     },
     "metadata": {},
     "output_type": "display_data"
    }
   ],
   "source": [
    "reload(explore_data)\n",
    "# specify class names in 0 - 1 order\n",
    "explore_data.plot_confusion_matrix(val_target, val_pred_aggr_chunk, classes, normalize=True)"
   ]
  },
  {
   "cell_type": "code",
   "execution_count": 100,
   "metadata": {
    "scrolled": false
   },
   "outputs": [
    {
     "data": {
      "image/png": "[encoded data removed]",
      "text/plain": [
       "<Figure size 720x720 with 2 Axes>"
      ]
     },
     "metadata": {},
     "output_type": "display_data"
    }
   ],
   "source": [
    "reload(explore_data)\n",
    "explore_data.plot_calibration_curve(val_target, val_pred_probs_aggr_chunk, 'Age')"
   ]
  },
  {
   "cell_type": "code",
   "execution_count": 74,
   "metadata": {
    "scrolled": true
   },
   "outputs": [
    {
     "name": "stdout",
     "output_type": "stream",
     "text": [
      "Validation sample means:\n",
      "      Gender_F  Ethinicity_NW     AvgAge   Party_D  Chamber_H  AvgWordCount\n",
      "base  0.092015       0.096453  55.847655  0.523209   0.632962    380.291851\n"
     ]
    },
    {
     "data": {
      "text/html": [
       "<div>\n",
       "<style scoped>\n",
       "    .dataframe tbody tr th:only-of-type {\n",
       "        vertical-align: middle;\n",
       "    }\n",
       "\n",
       "    .dataframe tbody tr th {\n",
       "        vertical-align: top;\n",
       "    }\n",
       "\n",
       "    .dataframe thead th {\n",
       "        text-align: right;\n",
       "    }\n",
       "</style>\n",
       "<table border=\"1\" class=\"dataframe\">\n",
       "  <thead>\n",
       "    <tr style=\"text-align: right;\">\n",
       "      <th></th>\n",
       "      <th>Gender_F</th>\n",
       "      <th>Ethinicity_NW</th>\n",
       "      <th>AvgAge</th>\n",
       "      <th>Party_D</th>\n",
       "      <th>Chamber_H</th>\n",
       "      <th>AvgWordCount</th>\n",
       "    </tr>\n",
       "  </thead>\n",
       "  <tbody>\n",
       "    <tr>\n",
       "      <th>0.4</th>\n",
       "      <td>0.44</td>\n",
       "      <td>0.61</td>\n",
       "      <td>1.11</td>\n",
       "      <td>0.96</td>\n",
       "      <td>0.13</td>\n",
       "      <td>0.34</td>\n",
       "    </tr>\n",
       "    <tr>\n",
       "      <th>0.6</th>\n",
       "      <td>1.06</td>\n",
       "      <td>1.04</td>\n",
       "      <td>1.00</td>\n",
       "      <td>1.03</td>\n",
       "      <td>1.02</td>\n",
       "      <td>1.13</td>\n",
       "    </tr>\n",
       "    <tr>\n",
       "      <th>1.0</th>\n",
       "      <td>1.03</td>\n",
       "      <td>1.03</td>\n",
       "      <td>0.91</td>\n",
       "      <td>0.87</td>\n",
       "      <td>1.46</td>\n",
       "      <td>0.66</td>\n",
       "    </tr>\n",
       "  </tbody>\n",
       "</table>\n",
       "</div>"
      ],
      "text/plain": [
       "     Gender_F  Ethinicity_NW  AvgAge  Party_D  Chamber_H  AvgWordCount\n",
       "0.4      0.44           0.61    1.11     0.96       0.13          0.34\n",
       "0.6      1.06           1.04    1.00     1.03       1.02          1.13\n",
       "1.0      1.03           1.03    0.91     0.87       1.46          0.66"
      ]
     },
     "execution_count": 74,
     "metadata": {},
     "output_type": "execute_result"
    }
   ],
   "source": [
    "reload(explore_data)\n",
    "# checking the ratios of demo variables in low-mid-high probability buckets\n",
    "explore_data.check_bin_probs_distr(val_pred_probs_aggr_chunk, \n",
    "                                   val_aggr_ids, \n",
    "                                   descr_df)"
   ]
  },
  {
   "cell_type": "code",
   "execution_count": 75,
   "metadata": {},
   "outputs": [
    {
     "name": "stdout",
     "output_type": "stream",
     "text": [
      "\n",
      "Top 10 ngrams by differentiating score:\n",
      "mr president \t 14003.0\n",
      "senator \t 12471.1\n",
      "senate \t 11635.4\n",
      "the senate \t 10399.3\n",
      "speaker \t 9501.8\n",
      "president \t 8979.3\n",
      "mr speaker \t 8370.5\n",
      "senators \t 5346.5\n",
      "gentleman \t 5174.0\n",
      "the gentleman \t 5168.5\n"
     ]
    },
    {
     "data": {
      "text/html": [
       "<div>\n",
       "<style scoped>\n",
       "    .dataframe tbody tr th:only-of-type {\n",
       "        vertical-align: middle;\n",
       "    }\n",
       "\n",
       "    .dataframe tbody tr th {\n",
       "        vertical-align: top;\n",
       "    }\n",
       "\n",
       "    .dataframe thead th {\n",
       "        text-align: right;\n",
       "    }\n",
       "</style>\n",
       "<table border=\"1\" class=\"dataframe\">\n",
       "  <thead>\n",
       "    <tr style=\"text-align: right;\">\n",
       "      <th>bin</th>\n",
       "      <th>1</th>\n",
       "      <th>2</th>\n",
       "      <th>3</th>\n",
       "    </tr>\n",
       "  </thead>\n",
       "  <tbody>\n",
       "    <tr>\n",
       "      <th>gentleman</th>\n",
       "      <td>437.0</td>\n",
       "      <td>13321.0</td>\n",
       "      <td>13629.0</td>\n",
       "    </tr>\n",
       "    <tr>\n",
       "      <th>mr president</th>\n",
       "      <td>14386.0</td>\n",
       "      <td>20006.0</td>\n",
       "      <td>2144.0</td>\n",
       "    </tr>\n",
       "    <tr>\n",
       "      <th>mr speaker</th>\n",
       "      <td>1428.0</td>\n",
       "      <td>25559.0</td>\n",
       "      <td>21338.0</td>\n",
       "    </tr>\n",
       "    <tr>\n",
       "      <th>president</th>\n",
       "      <td>21361.0</td>\n",
       "      <td>46009.0</td>\n",
       "      <td>8504.0</td>\n",
       "    </tr>\n",
       "    <tr>\n",
       "      <th>senate</th>\n",
       "      <td>14113.0</td>\n",
       "      <td>18925.0</td>\n",
       "      <td>1697.0</td>\n",
       "    </tr>\n",
       "    <tr>\n",
       "      <th>senator</th>\n",
       "      <td>17880.0</td>\n",
       "      <td>20439.0</td>\n",
       "      <td>1631.0</td>\n",
       "    </tr>\n",
       "    <tr>\n",
       "      <th>senators</th>\n",
       "      <td>4284.0</td>\n",
       "      <td>3870.0</td>\n",
       "      <td>257.0</td>\n",
       "    </tr>\n",
       "    <tr>\n",
       "      <th>speaker</th>\n",
       "      <td>1806.0</td>\n",
       "      <td>29934.0</td>\n",
       "      <td>24803.0</td>\n",
       "    </tr>\n",
       "    <tr>\n",
       "      <th>the gentleman</th>\n",
       "      <td>360.0</td>\n",
       "      <td>12338.0</td>\n",
       "      <td>13037.0</td>\n",
       "    </tr>\n",
       "    <tr>\n",
       "      <th>the senate</th>\n",
       "      <td>11547.0</td>\n",
       "      <td>15049.0</td>\n",
       "      <td>1192.0</td>\n",
       "    </tr>\n",
       "  </tbody>\n",
       "</table>\n",
       "</div>"
      ],
      "text/plain": [
       "bin                  1        2        3\n",
       "gentleman        437.0  13321.0  13629.0\n",
       "mr president   14386.0  20006.0   2144.0\n",
       "mr speaker      1428.0  25559.0  21338.0\n",
       "president      21361.0  46009.0   8504.0\n",
       "senate         14113.0  18925.0   1697.0\n",
       "senator        17880.0  20439.0   1631.0\n",
       "senators        4284.0   3870.0    257.0\n",
       "speaker         1806.0  29934.0  24803.0\n",
       "the gentleman    360.0  12338.0  13037.0\n",
       "the senate     11547.0  15049.0   1192.0"
      ]
     },
     "execution_count": 75,
     "metadata": {},
     "output_type": "execute_result"
    }
   ],
   "source": [
    "reload(explore_data)\n",
    "explore_data.compare_ngrams(val_chunk, val_pred_probs_chunk, ngram_range=(1, 2))"
   ]
  },
  {
   "cell_type": "code",
   "execution_count": 76,
   "metadata": {},
   "outputs": [
    {
     "name": "stdout",
     "output_type": "stream",
     "text": [
      "\n",
      "Top 10 ngrams by differentiating score:\n",
      "sitting right \t 26.3\n",
      "certainly also \t 20.3\n",
      "plus in \t 20.2\n",
      "support paid \t 19.6\n",
      "been substantial \t 18.8\n",
      "doing bad \t 17.8\n",
      "tradein \t 17.4\n",
      "practical problem \t 17.4\n",
      "strategy by \t 17.4\n",
      "were pending \t 17.1\n"
     ]
    },
    {
     "data": {
      "text/html": [
       "<div>\n",
       "<style scoped>\n",
       "    .dataframe tbody tr th:only-of-type {\n",
       "        vertical-align: middle;\n",
       "    }\n",
       "\n",
       "    .dataframe tbody tr th {\n",
       "        vertical-align: top;\n",
       "    }\n",
       "\n",
       "    .dataframe thead th {\n",
       "        text-align: right;\n",
       "    }\n",
       "</style>\n",
       "<table border=\"1\" class=\"dataframe\">\n",
       "  <thead>\n",
       "    <tr style=\"text-align: right;\">\n",
       "      <th>bin</th>\n",
       "      <th>1</th>\n",
       "      <th>2</th>\n",
       "      <th>3</th>\n",
       "    </tr>\n",
       "  </thead>\n",
       "  <tbody>\n",
       "    <tr>\n",
       "      <th>been substantial</th>\n",
       "      <td>9.0</td>\n",
       "      <td>6.0</td>\n",
       "      <td>4.0</td>\n",
       "    </tr>\n",
       "    <tr>\n",
       "      <th>certainly also</th>\n",
       "      <td>5.0</td>\n",
       "      <td>1.0</td>\n",
       "      <td>0.0</td>\n",
       "    </tr>\n",
       "    <tr>\n",
       "      <th>doing bad</th>\n",
       "      <td>1.0</td>\n",
       "      <td>0.0</td>\n",
       "      <td>6.0</td>\n",
       "    </tr>\n",
       "    <tr>\n",
       "      <th>plus in</th>\n",
       "      <td>7.0</td>\n",
       "      <td>4.0</td>\n",
       "      <td>0.0</td>\n",
       "    </tr>\n",
       "    <tr>\n",
       "      <th>practical problem</th>\n",
       "      <td>0.0</td>\n",
       "      <td>0.0</td>\n",
       "      <td>5.0</td>\n",
       "    </tr>\n",
       "    <tr>\n",
       "      <th>sitting right</th>\n",
       "      <td>9.0</td>\n",
       "      <td>5.0</td>\n",
       "      <td>0.0</td>\n",
       "    </tr>\n",
       "    <tr>\n",
       "      <th>strategy by</th>\n",
       "      <td>7.0</td>\n",
       "      <td>3.0</td>\n",
       "      <td>4.0</td>\n",
       "    </tr>\n",
       "    <tr>\n",
       "      <th>support paid</th>\n",
       "      <td>6.0</td>\n",
       "      <td>1.0</td>\n",
       "      <td>0.0</td>\n",
       "    </tr>\n",
       "    <tr>\n",
       "      <th>tradein</th>\n",
       "      <td>0.0</td>\n",
       "      <td>0.0</td>\n",
       "      <td>5.0</td>\n",
       "    </tr>\n",
       "    <tr>\n",
       "      <th>were pending</th>\n",
       "      <td>7.0</td>\n",
       "      <td>4.0</td>\n",
       "      <td>0.0</td>\n",
       "    </tr>\n",
       "  </tbody>\n",
       "</table>\n",
       "</div>"
      ],
      "text/plain": [
       "bin                  1    2    3\n",
       "been substantial   9.0  6.0  4.0\n",
       "certainly also     5.0  1.0  0.0\n",
       "doing bad          1.0  0.0  6.0\n",
       "plus in            7.0  4.0  0.0\n",
       "practical problem  0.0  0.0  5.0\n",
       "sitting right      9.0  5.0  0.0\n",
       "strategy by        7.0  3.0  4.0\n",
       "support paid       6.0  1.0  0.0\n",
       "tradein            0.0  0.0  5.0\n",
       "were pending       7.0  4.0  0.0"
      ]
     },
     "execution_count": 76,
     "metadata": {},
     "output_type": "execute_result"
    }
   ],
   "source": [
    "reload(explore_data)\n",
    "explore_data.compare_ngrams(val, val_pred_probs_aggr_chunk, ngram_range=(1, 2))"
   ]
  },
  {
   "cell_type": "code",
   "execution_count": null,
   "metadata": {},
   "outputs": [],
   "source": []
  }
 ],
 "metadata": {
  "kernelspec": {
   "display_name": "Python 3",
   "language": "python",
   "name": "python3"
  },
  "language_info": {
   "codemirror_mode": {
    "name": "ipython",
    "version": 3
   },
   "file_extension": ".py",
   "mimetype": "text/x-python",
   "name": "python",
   "nbconvert_exporter": "python",
   "pygments_lexer": "ipython3",
   "version": "3.5.2"
  }
 },
 "nbformat": 4,
 "nbformat_minor": 2
}
