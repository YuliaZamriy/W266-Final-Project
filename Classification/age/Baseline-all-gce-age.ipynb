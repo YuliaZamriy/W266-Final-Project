{
 "cells": [
  {
   "cell_type": "code",
   "execution_count": 1,
   "metadata": {},
   "outputs": [
    {
     "data": {
      "text/plain": [
       "2"
      ]
     },
     "execution_count": 1,
     "metadata": {},
     "output_type": "execute_result"
    }
   ],
   "source": [
    "1+1"
   ]
  },
  {
   "cell_type": "code",
   "execution_count": 2,
   "metadata": {},
   "outputs": [
    {
     "data": {
      "text/html": [
       "<style>.container { width:100% !important; }</style>"
      ],
      "text/plain": [
       "<IPython.core.display.HTML object>"
      ]
     },
     "metadata": {},
     "output_type": "display_data"
    }
   ],
   "source": [
    "# increase cell width\n",
    "from IPython.core.display import display, HTML\n",
    "display(HTML(\"<style>.container { width:100% !important; }</style>\"))"
   ]
  },
  {
   "cell_type": "markdown",
   "metadata": {},
   "source": [
    "Inspiration for code:\n",
    "\n",
    "- https://developers.google.com/machine-learning/guides/text-classification/\n",
    "- https://github.com/google/eng-edu/blob/master/ml/guides/text_classification/load_data.py"
   ]
  },
  {
   "cell_type": "code",
   "execution_count": 3,
   "metadata": {},
   "outputs": [],
   "source": [
    "from __future__ import absolute_import\n",
    "from __future__ import division\n",
    "from __future__ import print_function\n",
    "\n",
    "import os\n",
    "import random\n",
    "import time\n",
    "import pickle\n",
    "\n",
    "import numpy as np\n",
    "import pandas as pd\n",
    "\n",
    "from importlib import reload\n",
    "\n",
    "import scipy.sparse"
   ]
  },
  {
   "cell_type": "code",
   "execution_count": 4,
   "metadata": {},
   "outputs": [
    {
     "name": "stderr",
     "output_type": "stream",
     "text": [
      "/home/fbm221/anaconda3/lib/python3.6/site-packages/h5py/__init__.py:36: FutureWarning: Conversion of the second argument of issubdtype from `float` to `np.floating` is deprecated. In future, it will be treated as `np.float64 == np.dtype(float).type`.\n",
      "  from ._conv import register_converters as _register_converters\n"
     ]
    }
   ],
   "source": [
    "from helpers import load_data\n",
    "from helpers import explore_data\n",
    "from helpers import preprocess_data\n",
    "from helpers import train_model"
   ]
  },
  {
   "cell_type": "markdown",
   "metadata": {},
   "source": [
    "## Load the data"
   ]
  },
  {
   "cell_type": "code",
   "execution_count": 5,
   "metadata": {},
   "outputs": [
    {
     "data": {
      "text/plain": [
       "'/home/fbm221/W266FinalProject/Code'"
      ]
     },
     "execution_count": 5,
     "metadata": {},
     "output_type": "execute_result"
    }
   ],
   "source": [
    "pwd"
   ]
  },
  {
   "cell_type": "code",
   "execution_count": 6,
   "metadata": {},
   "outputs": [],
   "source": [
    "data_path = '/home/fbm221/W266FinalProject/Data'"
   ]
  },
  {
   "cell_type": "code",
   "execution_count": 7,
   "metadata": {},
   "outputs": [
    {
     "name": "stdout",
     "output_type": "stream",
     "text": [
      "\n",
      "File speeches_097.txt has 48234496 characters\n",
      "and 42332 speeches\n",
      "\n",
      "Speeches list has 42332 speeches\n",
      "\n",
      "File speeches_098.txt has 26214400 characters\n",
      "and 23022 speeches\n",
      "\n",
      "Speeches list has 65354 speeches\n",
      "\n",
      "File speeches_099.txt has 25165824 characters\n",
      "and 17636 speeches\n",
      "\n",
      "Speeches list has 82990 speeches\n",
      "\n",
      "File speeches_100.txt has 25165824 characters\n",
      "and 18302 speeches\n",
      "\n",
      "Speeches list has 101292 speeches\n",
      "\n",
      "File speeches_101.txt has 25165824 characters\n",
      "and 16470 speeches\n",
      "\n",
      "Speeches list has 117762 speeches\n",
      "\n",
      "File speeches_102.txt has 25165824 characters\n",
      "and 16522 speeches\n",
      "\n",
      "Speeches list has 134284 speeches\n",
      "\n",
      "File speeches_103.txt has 25165824 characters\n",
      "and 20033 speeches\n",
      "\n",
      "Speeches list has 154317 speeches\n",
      "\n",
      "File speeches_104.txt has 25165824 characters\n",
      "and 25778 speeches\n",
      "\n",
      "Speeches list has 180095 speeches\n",
      "\n",
      "File speeches_105.txt has 25165824 characters\n",
      "and 17084 speeches\n",
      "\n",
      "Speeches list has 197179 speeches\n",
      "\n",
      "File speeches_106.txt has 25165824 characters\n",
      "and 18316 speeches\n",
      "\n",
      "Speeches list has 215495 speeches\n",
      "\n",
      "File speeches_107.txt has 25165824 characters\n",
      "and 18948 speeches\n",
      "\n",
      "Speeches list has 234443 speeches\n",
      "\n",
      "File speeches_108.txt has 25165824 characters\n",
      "and 18952 speeches\n",
      "\n",
      "Speeches list has 253395 speeches\n",
      "\n",
      "File speeches_109.txt has 25165824 characters\n",
      "and 17799 speeches\n",
      "\n",
      "Speeches list has 271194 speeches\n",
      "\n",
      "File speeches_110.txt has 25165824 characters\n",
      "and 18608 speeches\n",
      "\n",
      "Speeches list has 289802 speeches\n",
      "\n",
      "File speeches_111.txt has 25165824 characters\n",
      "and 20712 speeches\n",
      "\n",
      "Speeches list has 310514 speeches\n",
      "\n",
      "File speeches_112.txt has 24117248 characters\n",
      "and 20607 speeches\n",
      "\n",
      "Speeches list has 331121 speeches\n",
      "\n",
      "File speeches_113.txt has 24117248 characters\n",
      "and 19247 speeches\n",
      "\n",
      "Speeches list has 350368 speeches\n",
      "\n",
      "File speeches_114.txt has 130969173 characters\n",
      "and 112291 speeches\n",
      "\n",
      "Speeches list has 462659 speeches\n"
     ]
    }
   ],
   "source": [
    "reload(load_data)\n",
    "all_speech_ids, all_speeches = load_data.load_speech_data(data_path)"
   ]
  },
  {
   "cell_type": "code",
   "execution_count": 8,
   "metadata": {},
   "outputs": [
    {
     "data": {
      "text/plain": [
       "(462659, 462659)"
      ]
     },
     "execution_count": 8,
     "metadata": {},
     "output_type": "execute_result"
    }
   ],
   "source": [
    "len(all_speech_ids), len(all_speeches)"
   ]
  },
  {
   "cell_type": "markdown",
   "metadata": {},
   "source": [
    "## Create target labels"
   ]
  },
  {
   "cell_type": "code",
   "execution_count": 9,
   "metadata": {},
   "outputs": [],
   "source": [
    "# OPEN descr FROM A SAVED FILE (if it was previously saved)\n",
    "outdata_path = '/home/fbm221/W266FinalProject/Data'\n",
    "#descr = pickle.load(open(os.path.join(outdata_path, 'descr.p'), 'rb'))"
   ]
  },
  {
   "cell_type": "code",
   "execution_count": 10,
   "metadata": {},
   "outputs": [],
   "source": [
    "#len(descr)"
   ]
  },
  {
   "cell_type": "code",
   "execution_count": 11,
   "metadata": {},
   "outputs": [
    {
     "name": "stdout",
     "output_type": "stream",
     "text": [
      "2906043 lines have been read\n",
      "36352 keys had duplicates and deleted\n",
      "The dictionary has 2803420 keys\n",
      "\n",
      "Random congressperson: 1090182100\n",
      "date 20061114\n",
      "char_count 278\n",
      "word_count 49\n",
      "speakerid 109112991.0\n",
      "Party R\n",
      "Congress 109\n",
      "Chamber S\n",
      "State TN\n",
      "Ethnicity W\n",
      "Age 54.0\n",
      "Age_lt_med 1.0\n",
      "NonWhite 0.0\n",
      "Female 0.0\n",
      "speaker Mr. FRIST\n",
      "Full Name FRIST, WILLIAM\n",
      "match exact\n",
      "check 1\n",
      "\n",
      "It took 22.3 seconds to create the dictionary\n"
     ]
    }
   ],
   "source": [
    "reload(load_data)\n",
    "start_time = time.time()\n",
    "# taking a 30% sample of the full description file\n",
    "descr = load_data.load_descr_data('/home/fbm221/W266FinalProject/Data/full_descr.txt')\n",
    "print(\"\\nIt took {0:.1f} seconds to create the dictionary\".format(time.time()-start_time))"
   ]
  },
  {
   "cell_type": "code",
   "execution_count": 12,
   "metadata": {},
   "outputs": [
    {
     "data": {
      "text/plain": [
       "0.9618989975515223"
      ]
     },
     "execution_count": 12,
     "metadata": {},
     "output_type": "execute_result"
    }
   ],
   "source": [
    "# check if sampling worked\n",
    "len(list(descr.keys()))/2914464"
   ]
  },
  {
   "cell_type": "code",
   "execution_count": 13,
   "metadata": {},
   "outputs": [
    {
     "data": {
      "text/plain": [
       "462659"
      ]
     },
     "execution_count": 13,
     "metadata": {},
     "output_type": "execute_result"
    }
   ],
   "source": [
    "age = load_data.create_target_labels(all_speech_ids, descr)[1]\n",
    "len(age)"
   ]
  },
  {
   "cell_type": "markdown",
   "metadata": {},
   "source": [
    "### Save descr dictionary"
   ]
  },
  {
   "cell_type": "code",
   "execution_count": 14,
   "metadata": {},
   "outputs": [],
   "source": [
    "pickle.dump(descr, open(os.path.join(outdata_path, 'descr.p'), 'wb'))"
   ]
  },
  {
   "cell_type": "markdown",
   "metadata": {},
   "source": [
    "### Data QA"
   ]
  },
  {
   "cell_type": "code",
   "execution_count": 15,
   "metadata": {},
   "outputs": [
    {
     "data": {
      "text/html": [
       "<div>\n",
       "<style scoped>\n",
       "    .dataframe tbody tr th:only-of-type {\n",
       "        vertical-align: middle;\n",
       "    }\n",
       "\n",
       "    .dataframe tbody tr th {\n",
       "        vertical-align: top;\n",
       "    }\n",
       "\n",
       "    .dataframe thead th {\n",
       "        text-align: right;\n",
       "    }\n",
       "</style>\n",
       "<table border=\"1\" class=\"dataframe\">\n",
       "  <thead>\n",
       "    <tr style=\"text-align: right;\">\n",
       "      <th></th>\n",
       "      <th>Category</th>\n",
       "      <th>Count</th>\n",
       "    </tr>\n",
       "  </thead>\n",
       "  <tbody>\n",
       "    <tr>\n",
       "      <th>0</th>\n",
       "      <td>-1</td>\n",
       "      <td>135139</td>\n",
       "    </tr>\n",
       "    <tr>\n",
       "      <th>1</th>\n",
       "      <td>0</td>\n",
       "      <td>293987</td>\n",
       "    </tr>\n",
       "    <tr>\n",
       "      <th>2</th>\n",
       "      <td>1</td>\n",
       "      <td>33533</td>\n",
       "    </tr>\n",
       "  </tbody>\n",
       "</table>\n",
       "</div>"
      ],
      "text/plain": [
       "<IPython.core.display.HTML object>"
      ]
     },
     "metadata": {},
     "output_type": "display_data"
    }
   ],
   "source": [
    "explore_data.get_counts(age)"
   ]
  },
  {
   "cell_type": "code",
   "execution_count": 16,
   "metadata": {},
   "outputs": [
    {
     "name": "stdout",
     "output_type": "stream",
     "text": [
      "Speaker information\n",
      "date 20150429\n",
      "char_count 101\n",
      "word_count 18\n",
      "speakerid 114120190.0\n",
      "Party D\n",
      "Congress 114\n",
      "Chamber H\n",
      "State CA\n",
      "Ethnicity B\n",
      "Age 70.0\n",
      "Age_lt_med 0.0\n",
      "NonWhite 1.0\n",
      "Female 1.0\n",
      "speaker Ms. JACKSON LEE\n",
      "Full Name LEE, BARBARA\n",
      "match exact\n",
      "check 1\n",
      "\n",
      "Mr. Chairman. I have an amendment at the desk. The Acting CHAIR. The Clerk will report the amendment.\n"
     ]
    }
   ],
   "source": [
    "reload(explore_data)\n",
    "explore_data.random_speech(all_speeches, all_speech_ids, age, descr)"
   ]
  },
  {
   "cell_type": "markdown",
   "metadata": {},
   "source": [
    "# age Model"
   ]
  },
  {
   "cell_type": "markdown",
   "metadata": {},
   "source": [
    "## Split into train, validate, test"
   ]
  },
  {
   "cell_type": "code",
   "execution_count": 17,
   "metadata": {},
   "outputs": [
    {
     "name": "stdout",
     "output_type": "stream",
     "text": [
      "Training split: 14140 ones and 14140 zeroes\n",
      "Training speech list size: 28280\n",
      "Training target list size: 28280\n",
      "Validation split: 4713 ones and 4713 zeroes\n",
      "Validation speech list size: 9426\n",
      "Validation target list size: 9426\n",
      "Test split: 4714 ones and 4714 zeroes\n",
      "Test speech list size: 9428\n",
      "Test target list size: 9428\n"
     ]
    }
   ],
   "source": [
    "reload(preprocess_data)\n",
    "train, train_ids, train_target, val, val_ids, val_target, test, test_ids, test_target = preprocess_data.split_train_val_test(all_speeches, all_speech_ids, age, descr)"
   ]
  },
  {
   "cell_type": "code",
   "execution_count": 18,
   "metadata": {},
   "outputs": [
    {
     "data": {
      "text/plain": [
       "(14140, 4713, 4714)"
      ]
     },
     "execution_count": 18,
     "metadata": {},
     "output_type": "execute_result"
    }
   ],
   "source": [
    "sum(train_target), sum(val_target), sum(test_target)"
   ]
  },
  {
   "cell_type": "code",
   "execution_count": 19,
   "metadata": {},
   "outputs": [
    {
     "data": {
      "text/plain": [
       "9966"
      ]
     },
     "execution_count": 19,
     "metadata": {},
     "output_type": "execute_result"
    }
   ],
   "source": [
    "# number of speeches under 30 words\n",
    "sum(np.array(age)==1) - (sum(train_target) + sum(val_target) + sum(test_target))"
   ]
  },
  {
   "cell_type": "code",
   "execution_count": 20,
   "metadata": {},
   "outputs": [
    {
     "name": "stdout",
     "output_type": "stream",
     "text": [
      "Speaker information\n",
      "date 20160621\n",
      "char_count 1165\n",
      "word_count 192\n",
      "speakerid 114123100.0\n",
      "Party D\n",
      "Congress 114\n",
      "Chamber H\n",
      "State MI\n",
      "Ethnicity B\n",
      "Age 62.0\n",
      "Age_lt_med 0.0\n",
      "NonWhite 1.0\n",
      "Female 1.0\n",
      "speaker Mrs. LAWRENCE\n",
      "Full Name LAWRENCE, BRENDA\n",
      "match exact\n",
      "check 1\n",
      "\n",
      "Mr. Speaker. I yield myself such time as I may consume. Mr. Speaker. I rise in support of H.R. 4902. a bipartisan bill sponsored by some of my colleagues on the Oversight and Government Reform Committee. Representatives HURD. CONNOLLY. and LUJAN GRISHAM. I thank them for their good work on this important legislation. This legislation would establish a uniform pay system for law enforcement officers of the Customs and Border Protections Air and Marine Operations. who are currently paid overtime pay under three different systems. and it will make it more efficient for the agency to administer staff overtime. The bill will convert the pay system for AMO officers to Law Enforcement Availability Pay. a system used by many other Federal agencies. including the FBI. DEA. and the U.S. Marshals Service. As stated by my colleague. Mr. HURD. the Congressional Budget Office estimates that this legislation will reduce AMOs costs by $2 million a year. I would also like to note that the Federal Law Enforcement Officers Association supports this legislation. I urge my colleagues to join me in supporting H.R. 4902. Mr. Speaker. I yield back the balance of my time.\n"
     ]
    }
   ],
   "source": [
    "# random speech from a train set where gender=1\n",
    "explore_data.random_speech(train, train_ids, train_target, descr)"
   ]
  },
  {
   "cell_type": "markdown",
   "metadata": {},
   "source": [
    "#### Cleanup"
   ]
  },
  {
   "cell_type": "code",
   "execution_count": 21,
   "metadata": {},
   "outputs": [
    {
     "name": "stdout",
     "output_type": "stream",
     "text": [
      "Variable          Type        Data/Info\n",
      "---------------------------------------\n",
      "HTML              type        <class 'IPython.core.display.HTML'>\n",
      "absolute_import   _Feature    _Feature((2, 5, 0, 'alpha<...>0, 0, 'alpha', 0), 16384)\n",
      "age               list        n=462659\n",
      "all_speech_ids    list        n=462659\n",
      "all_speeches      list        n=462659\n",
      "data_path         str         /home/fbm221/W266FinalProject/Data\n",
      "descr             dict        n=2803420\n",
      "display           function    <function display at 0x7f49653771e0>\n",
      "division          _Feature    _Feature((2, 2, 0, 'alpha<...> 0, 0, 'alpha', 0), 8192)\n",
      "explore_data      module      <module 'helpers.explore_<...>helpers/explore_data.py'>\n",
      "load_data         module      <module 'helpers.load_dat<...>de/helpers/load_data.py'>\n",
      "np                module      <module 'numpy' from '/ho<...>kages/numpy/__init__.py'>\n",
      "os                module      <module 'os' from '/home/<...>da3/lib/python3.6/os.py'>\n",
      "outdata_path      str         /home/fbm221/W266FinalProject/Data\n",
      "pd                module      <module 'pandas' from '/h<...>ages/pandas/__init__.py'>\n",
      "pickle            module      <module 'pickle' from '/h<...>lib/python3.6/pickle.py'>\n",
      "preprocess_data   module      <module 'helpers.preproce<...>pers/preprocess_data.py'>\n",
      "print_function    _Feature    _Feature((2, 6, 0, 'alpha<...>0, 0, 'alpha', 0), 65536)\n",
      "random            module      <module 'random' from '/h<...>lib/python3.6/random.py'>\n",
      "reload            function    <function reload at 0x7f49685fc9d8>\n",
      "scipy             module      <module 'scipy' from '/ho<...>kages/scipy/__init__.py'>\n",
      "start_time        float       1554173888.4406831\n",
      "test              list        n=9428\n",
      "test_ids          list        n=9428\n",
      "test_target       list        n=9428\n",
      "time              module      <module 'time' (built-in)>\n",
      "train             list        n=28280\n",
      "train_ids         list        n=28280\n",
      "train_model       module      <module 'helpers.train_mo<...>/helpers/train_model.py'>\n",
      "train_target      list        n=28280\n",
      "val               list        n=9426\n",
      "val_ids           list        n=9426\n",
      "val_target        list        n=9426\n"
     ]
    }
   ],
   "source": [
    "%whos"
   ]
  },
  {
   "cell_type": "code",
   "execution_count": 22,
   "metadata": {},
   "outputs": [],
   "source": [
    "del all_speech_ids"
   ]
  },
  {
   "cell_type": "code",
   "execution_count": 23,
   "metadata": {},
   "outputs": [],
   "source": [
    "del all_speeches"
   ]
  },
  {
   "cell_type": "code",
   "execution_count": 24,
   "metadata": {},
   "outputs": [],
   "source": [
    "del age"
   ]
  },
  {
   "cell_type": "markdown",
   "metadata": {},
   "source": [
    "## EDA on train data"
   ]
  },
  {
   "cell_type": "markdown",
   "metadata": {},
   "source": [
    "Source: https://developers.google.com/machine-learning/guides/text-classification/step-2"
   ]
  },
  {
   "cell_type": "markdown",
   "metadata": {},
   "source": [
    "### Check median number of words per sample in train/val/test"
   ]
  },
  {
   "cell_type": "code",
   "execution_count": 25,
   "metadata": {},
   "outputs": [
    {
     "data": {
      "text/plain": [
       "<module 'helpers.explore_data' from '/home/fbm221/W266FinalProject/Code/helpers/explore_data.py'>"
      ]
     },
     "execution_count": 25,
     "metadata": {},
     "output_type": "execute_result"
    }
   ],
   "source": [
    "reload(explore_data)"
   ]
  },
  {
   "cell_type": "code",
   "execution_count": 26,
   "metadata": {},
   "outputs": [
    {
     "data": {
      "text/plain": [
       "253.0"
      ]
     },
     "execution_count": 26,
     "metadata": {},
     "output_type": "execute_result"
    }
   ],
   "source": [
    "explore_data.get_num_words_per_sample(train)"
   ]
  },
  {
   "cell_type": "code",
   "execution_count": 27,
   "metadata": {},
   "outputs": [
    {
     "data": {
      "text/plain": [
       "256.0"
      ]
     },
     "execution_count": 27,
     "metadata": {},
     "output_type": "execute_result"
    }
   ],
   "source": [
    "explore_data.get_num_words_per_sample(val)"
   ]
  },
  {
   "cell_type": "code",
   "execution_count": 28,
   "metadata": {},
   "outputs": [
    {
     "data": {
      "text/plain": [
       "253.5"
      ]
     },
     "execution_count": 28,
     "metadata": {},
     "output_type": "execute_result"
    }
   ],
   "source": [
    "explore_data.get_num_words_per_sample(test)"
   ]
  },
  {
   "cell_type": "code",
   "execution_count": 29,
   "metadata": {},
   "outputs": [
    {
     "name": "stdout",
     "output_type": "stream",
     "text": [
      "Speech length percentiles\n",
      "    0     10    20     30     40     50     60     70     80     90       100\n",
      "0  31.0  48.0  89.0  146.0  195.0  253.0  330.0  424.0  578.0  860.0  21422.0\n"
     ]
    },
    {
     "data": {
      "image/png": "[encoded data removed]",
      "text/plain": [
       "<Figure size 1440x720 with 1 Axes>"
      ]
     },
     "metadata": {},
     "output_type": "display_data"
    }
   ],
   "source": [
    "explore_data.plot_sample_length_distribution(train)"
   ]
  },
  {
   "cell_type": "markdown",
   "metadata": {},
   "source": [
    "### Most popular unigrams (training only)"
   ]
  },
  {
   "cell_type": "code",
   "execution_count": 30,
   "metadata": {},
   "outputs": [
    {
     "data": {
      "text/plain": [
       "5656"
      ]
     },
     "execution_count": 30,
     "metadata": {},
     "output_type": "execute_result"
    }
   ],
   "source": [
    "# take a sample to avoid running out of memory\n",
    "train_sample = random.sample(train, int(len(train)*0.2))\n",
    "len(train_sample)"
   ]
  },
  {
   "cell_type": "code",
   "execution_count": 31,
   "metadata": {},
   "outputs": [
    {
     "name": "stdout",
     "output_type": "stream",
     "text": [
      "['the', 'to', 'of', 'and', 'in', 'that', 'is', 'for', 'this', 'we', 'it', 'on', 'have', 'are', 'as', 'be', 'not', 'our', 'with', 'will', 'by', 'mr', 'from', 'has', 'was', 'they', 'my', 'their', 'would', 'an', 'at', 'who', 'he', 'but', 'all', 'or', 'his', 'bill', 'president', 'which', 'do', 'people', 'there', 'speaker', 'about', 'these', 'you', 'been', 'more', 'what']\n"
     ]
    },
    {
     "data": {
      "image/png": "[encoded data removed]",
      "text/plain": [
       "<Figure size 1440x720 with 1 Axes>"
      ]
     },
     "metadata": {},
     "output_type": "display_data"
    }
   ],
   "source": [
    "explore_data.plot_frequency_distribution_of_ngrams(train_sample, ngram_range=(1,1))"
   ]
  },
  {
   "cell_type": "markdown",
   "metadata": {},
   "source": [
    "### Most popular bigrams (training only)"
   ]
  },
  {
   "cell_type": "code",
   "execution_count": 32,
   "metadata": {},
   "outputs": [
    {
     "name": "stdout",
     "output_type": "stream",
     "text": [
      "['of the', 'in the', 'to the', 'it is', 'and the', 'on the', 'for the', 'mr speaker', 'that the', 'to be', 'we are', 'we have', 'that is', 'that we', 'by the', 'with the', 'of this', 'at the', 'united states', 'the united', 'will be', 'mr president', 'is the', 'of our', 'in this', 'from the', 'this is', 'going to', 'my colleagues', 'is not', 'has been', 'this bill', 'have been', 'want to', 'the senate', 'there is', 'the house', 'to do', 'the american', 'the president', 'they are', 'one of', 'the bill', 'as the', 'do not', 'to make', 'of my', 'the gentleman', 'would be', 'the federal']\n"
     ]
    },
    {
     "data": {
      "image/png": "[encoded data removed]",
      "text/plain": [
       "<Figure size 1440x720 with 1 Axes>"
      ]
     },
     "metadata": {},
     "output_type": "display_data"
    }
   ],
   "source": [
    "explore_data.plot_frequency_distribution_of_ngrams(train_sample, ngram_range=(2,2))"
   ]
  },
  {
   "cell_type": "markdown",
   "metadata": {},
   "source": [
    "### Most popular trigrams (training only)"
   ]
  },
  {
   "cell_type": "markdown",
   "metadata": {},
   "source": [
    "#### Run this only on small samples"
   ]
  },
  {
   "cell_type": "code",
   "execution_count": 33,
   "metadata": {},
   "outputs": [
    {
     "name": "stdout",
     "output_type": "stream",
     "text": [
      "['the united states', 'one of the', 'the american people', 'the gentleman from', 'my colleagues to', 'are going to', 'would like to', 'of the united', 'mr speaker rise', 'the department of', 'as well as', 'we need to', 'urge my colleagues', 'ask unanimous consent', 'member of the', 'be able to', 'the federal government', 'unanimous consent that', 'that we have', 'is going to', 'in the united', 'there is no', 'in order to', 'percent of the', 'the committee on', 'rise today to', 'speaker rise today', 'it is not', 'of my time', 'we are going', 'some of the', 'the balance of', 'that we are', 'part of the', 'the fact that', 'the senator from', 'balance of my', 'in support of', 'of the senate', 'the people of', 'men and women', 'going to be', 'members of the', 'of the aisle', 'of the house', 'house of representatives', 'chairman of the', 'and it is', 'in the house', 'in this country']\n"
     ]
    },
    {
     "data": {
      "image/png": "[encoded data removed]",
      "text/plain": [
       "<Figure size 1440x720 with 1 Axes>"
      ]
     },
     "metadata": {},
     "output_type": "display_data"
    }
   ],
   "source": [
    "explore_data.plot_frequency_distribution_of_ngrams(train_sample, ngram_range=(3,3))"
   ]
  },
  {
   "cell_type": "code",
   "execution_count": 34,
   "metadata": {},
   "outputs": [],
   "source": [
    "congress = set([str(i) for i in range(97,115)])"
   ]
  },
  {
   "cell_type": "code",
   "execution_count": 35,
   "metadata": {
    "scrolled": false
   },
   "outputs": [
    {
     "name": "stdout",
     "output_type": "stream",
     "text": [
      "\n",
      "For Congress 113 top 5 (3, 3) ngrams are:\n",
      "the united states\n",
      "we need to\n",
      "the american people\n",
      "mr speaker rise\n",
      "one of the\n",
      "--------------------\n",
      "\n",
      "For Congress 97 top 5 (3, 3) ngrams are:\n",
      "the united states\n",
      "the senator from\n",
      "one of the\n",
      "would like to\n",
      "of the united\n",
      "--------------------\n",
      "\n",
      "For Congress 101 top 5 (3, 3) ngrams are:\n",
      "the united states\n",
      "ask unanimous consent\n",
      "unanimous consent that\n",
      "of the senate\n",
      "consent that the\n",
      "--------------------\n",
      "\n",
      "For Congress 103 top 5 (3, 3) ngrams are:\n",
      "the united states\n",
      "are going to\n",
      "one of the\n",
      "the american people\n",
      "my colleagues to\n",
      "--------------------\n",
      "\n",
      "For Congress 105 top 5 (3, 3) ngrams are:\n",
      "the united states\n",
      "one of the\n",
      "balanced budget amendment\n",
      "the balanced budget\n",
      "the american people\n",
      "--------------------\n",
      "\n",
      "For Congress 110 top 5 (3, 3) ngrams are:\n",
      "the united states\n",
      "the american people\n",
      "my colleagues to\n",
      "are going to\n",
      "we need to\n",
      "--------------------\n",
      "\n",
      "For Congress 112 top 5 (3, 3) ngrams are:\n",
      "the united states\n",
      "the american people\n",
      "are going to\n",
      "my colleagues to\n",
      "mr speaker rise\n",
      "--------------------\n",
      "\n",
      "For Congress 109 top 5 (3, 3) ngrams are:\n",
      "the united states\n",
      "one of the\n",
      "the gentleman from\n",
      "are going to\n",
      "mr speaker rise\n",
      "--------------------\n",
      "\n",
      "For Congress 102 top 5 (3, 3) ngrams are:\n",
      "the united states\n",
      "the persian gulf\n",
      "in the persian\n",
      "of the united\n",
      "men and women\n",
      "--------------------\n",
      "\n",
      "For Congress 107 top 5 (3, 3) ngrams are:\n",
      "the united states\n",
      "the gentleman from\n",
      "the death penalty\n",
      "my colleagues to\n",
      "are going to\n",
      "--------------------\n",
      "\n",
      "For Congress 99 top 5 (3, 3) ngrams are:\n",
      "the united states\n",
      "the select committee\n",
      "in the record\n",
      "would like to\n",
      "the department of\n",
      "--------------------\n",
      "\n",
      "For Congress 114 top 5 (3, 3) ngrams are:\n",
      "the united states\n",
      "the balance of\n",
      "of my time\n",
      "balance of my\n",
      "my colleagues to\n",
      "--------------------\n",
      "\n",
      "For Congress 100 top 5 (3, 3) ngrams are:\n",
      "the united states\n",
      "would like to\n",
      "one of the\n",
      "my colleagues to\n",
      "of the united\n",
      "--------------------\n",
      "\n",
      "For Congress 98 top 5 (3, 3) ngrams are:\n",
      "the united states\n",
      "the senator from\n",
      "would like to\n",
      "the soviet union\n",
      "the social security\n",
      "--------------------\n",
      "\n",
      "For Congress 108 top 5 (3, 3) ngrams are:\n",
      "the united states\n",
      "the gentleman from\n",
      "one of the\n",
      "be able to\n",
      "my colleagues to\n",
      "--------------------\n",
      "\n",
      "For Congress 104 top 5 (3, 3) ngrams are:\n",
      "balanced budget amendment\n",
      "the american people\n",
      "the balanced budget\n",
      "the gentleman from\n",
      "the united states\n",
      "--------------------\n",
      "\n",
      "For Congress 111 top 5 (3, 3) ngrams are:\n",
      "the united states\n",
      "are going to\n",
      "one of the\n",
      "my colleagues to\n",
      "will be used\n",
      "--------------------\n",
      "\n",
      "For Congress 106 top 5 (3, 3) ngrams are:\n",
      "the united states\n",
      "the gentleman from\n",
      "one of the\n",
      "be able to\n",
      "are going to\n",
      "--------------------\n"
     ]
    }
   ],
   "source": [
    "reload(explore_data)\n",
    "explore_data.ngrams_by_category(train, train_ids, descr, congress, 'Congress', p=0.3, top_n=5)"
   ]
  },
  {
   "cell_type": "markdown",
   "metadata": {},
   "source": [
    "## N-gram model"
   ]
  },
  {
   "cell_type": "markdown",
   "metadata": {},
   "source": [
    "Inspiration for code: https://developers.google.com/machine-learning/guides/text-classification/step-3"
   ]
  },
  {
   "cell_type": "markdown",
   "metadata": {},
   "source": [
    "### Pre-processing"
   ]
  },
  {
   "cell_type": "code",
   "execution_count": 36,
   "metadata": {},
   "outputs": [],
   "source": [
    "# Vectorization parameters\n",
    "# Range (inclusive) of n-gram sizes for tokenizing text.\n",
    "NGRAM_RANGE = (1, 2)\n",
    "\n",
    "# Minimum corpus frequency below which a token will be discarded.\n",
    "MIN_DOCUMENT_FREQUENCY = 5\n",
    "\n",
    "# Maximum proportion of corpus containing a word above which a token will be discarded.\n",
    "# Helps eliminate stop words\n",
    "MAX_DOCUMENT_FREQUENCY = 0.7\n",
    "\n",
    "# Limit on the number of features. We use the top 20K features.\n",
    "TOP_K = 10000\n",
    "\n",
    "# Output number of top/bottom scoring ngrams\n",
    "TOP_N = 5\n",
    "\n",
    "vec_params = {\n",
    "    'ngram_range': NGRAM_RANGE,\n",
    "    'min_df': MIN_DOCUMENT_FREQUENCY,\n",
    "    'max_df': MAX_DOCUMENT_FREQUENCY,\n",
    "    'top_k': TOP_K,\n",
    "    'top_n': TOP_N\n",
    "}"
   ]
  },
  {
   "cell_type": "code",
   "execution_count": 37,
   "metadata": {},
   "outputs": [
    {
     "name": "stdout",
     "output_type": "stream",
     "text": [
      "Total vocabulary size: 243686\n",
      "Number of stop words 1871364\n",
      "\n",
      "Top 5 ngrams by differentiating score:\n",
      "mr president \t 965.9\n",
      "senator \t 961.2\n",
      "speaker \t 709.8\n",
      "president \t 650.7\n",
      "mr speaker \t 565.5\n",
      "\n",
      "Bottom 5 ngrams by differentiating score:\n",
      "that arent \t 0.0\n",
      "rightful owners \t 0.0\n",
      "commission released \t 0.0\n",
      "too because \t 0.0\n",
      "the neediest \t 0.0\n"
     ]
    }
   ],
   "source": [
    "reload(preprocess_data)\n",
    "train_vec, val_vec, test_vec = preprocess_data.ngram_vectorize(train, train_target, val, test, **vec_params)"
   ]
  },
  {
   "cell_type": "code",
   "execution_count": 38,
   "metadata": {},
   "outputs": [
    {
     "data": {
      "text/plain": [
       "(28280, 9426, 9428)"
      ]
     },
     "execution_count": 38,
     "metadata": {},
     "output_type": "execute_result"
    }
   ],
   "source": [
    "len(train), len(val), len(test)"
   ]
  },
  {
   "cell_type": "code",
   "execution_count": 39,
   "metadata": {},
   "outputs": [
    {
     "data": {
      "text/plain": [
       "((28280, 10000), (9426, 10000), (9428, 10000))"
      ]
     },
     "execution_count": 39,
     "metadata": {},
     "output_type": "execute_result"
    }
   ],
   "source": [
    "train_vec.shape, val_vec.shape, test_vec.shape"
   ]
  },
  {
   "cell_type": "markdown",
   "metadata": {},
   "source": [
    "### Saving processed files"
   ]
  },
  {
   "cell_type": "code",
   "execution_count": 40,
   "metadata": {},
   "outputs": [
    {
     "data": {
      "text/plain": [
       "'/home/fbm221/W266FinalProject/Code'"
      ]
     },
     "execution_count": 40,
     "metadata": {},
     "output_type": "execute_result"
    }
   ],
   "source": [
    "pwd"
   ]
  },
  {
   "cell_type": "code",
   "execution_count": 43,
   "metadata": {},
   "outputs": [],
   "source": [
    "outdata_path = '/home/fbm221/W266FinalProject/saved_files/Age'"
   ]
  },
  {
   "cell_type": "code",
   "execution_count": 45,
   "metadata": {},
   "outputs": [],
   "source": [
    "scipy.sparse.save_npz(os.path.join(outdata_path, 'train_vec.npz'), train_vec)\n",
    "scipy.sparse.save_npz(os.path.join(outdata_path, 'val_vec.npz'), val_vec)\n",
    "scipy.sparse.save_npz(os.path.join(outdata_path, 'test_vec.npz'), test_vec)"
   ]
  },
  {
   "cell_type": "code",
   "execution_count": 46,
   "metadata": {},
   "outputs": [],
   "source": [
    "train_vec = scipy.sparse.load_npz(os.path.join(outdata_path, 'train_vec.npz'))\n",
    "val_vec = scipy.sparse.load_npz(os.path.join(outdata_path, 'val_vec.npz'))\n",
    "test_vec = scipy.sparse.load_npz(os.path.join(outdata_path, 'test_vec.npz'))"
   ]
  },
  {
   "cell_type": "code",
   "execution_count": 47,
   "metadata": {},
   "outputs": [],
   "source": [
    "val_vec = scipy.sparse.load_npz(os.path.join(outdata_path, 'val_vec.npz'))"
   ]
  },
  {
   "cell_type": "code",
   "execution_count": 48,
   "metadata": {},
   "outputs": [
    {
     "data": {
      "text/plain": [
       "((28280, 10000), (9426, 10000), (9428, 10000))"
      ]
     },
     "execution_count": 48,
     "metadata": {},
     "output_type": "execute_result"
    }
   ],
   "source": [
    "train_vec.shape, val_vec.shape, test_vec.shape"
   ]
  },
  {
   "cell_type": "code",
   "execution_count": 49,
   "metadata": {},
   "outputs": [],
   "source": [
    "with open(os.path.join(outdata_path, 'train_list'), 'wb') as fp:\n",
    "    pickle.dump(train, fp)\n",
    "with open(os.path.join(outdata_path, 'train_ids'), 'wb') as fp:\n",
    "    pickle.dump(train_ids, fp)\n",
    "with open(os.path.join(outdata_path, 'train_target'), 'wb') as fp:\n",
    "    pickle.dump(train_target, fp)\n",
    "with open(os.path.join(outdata_path, 'val_list'), 'wb') as fp:\n",
    "    pickle.dump(val, fp)\n",
    "with open(os.path.join(outdata_path, 'val_ids'), 'wb') as fp:\n",
    "    pickle.dump(val_ids, fp)\n",
    "with open(os.path.join(outdata_path, 'val_target'), 'wb') as fp:\n",
    "    pickle.dump(val_target, fp)\n",
    "with open(os.path.join(outdata_path, 'test_list'), 'wb') as fp:\n",
    "    pickle.dump(test, fp)\n",
    "with open(os.path.join(outdata_path, 'test_ids'), 'wb') as fp:\n",
    "    pickle.dump(test_ids, fp)\n",
    "with open(os.path.join(outdata_path, 'test_target'), 'wb') as fp:\n",
    "    pickle.dump(test_target, fp)"
   ]
  },
  {
   "cell_type": "code",
   "execution_count": 50,
   "metadata": {},
   "outputs": [
    {
     "data": {
      "text/plain": [
       "(14140, 4713, 4714)"
      ]
     },
     "execution_count": 50,
     "metadata": {},
     "output_type": "execute_result"
    }
   ],
   "source": [
    "sum(train_target), sum(val_target), sum(test_target)"
   ]
  },
  {
   "cell_type": "code",
   "execution_count": 51,
   "metadata": {},
   "outputs": [],
   "source": [
    "with open(os.path.join(outdata_path, 'train_list'), 'rb') as fp:\n",
    "    train = pickle.load(fp)\n",
    "with open(os.path.join(outdata_path, 'train_ids'), 'rb') as fp:\n",
    "    train_ids = pickle.load(fp)\n",
    "with open(os.path.join(outdata_path, 'train_target'), 'rb') as fp:\n",
    "    train_target = pickle.load(fp)"
   ]
  },
  {
   "cell_type": "code",
   "execution_count": 52,
   "metadata": {},
   "outputs": [],
   "source": [
    "with open(os.path.join(outdata_path, 'val_list'), 'rb') as fp:\n",
    "    val = pickle.load(fp)\n",
    "with open(os.path.join(outdata_path, 'val_ids'), 'rb') as fp:\n",
    "    val_ids = pickle.load(fp)\n",
    "with open(os.path.join(outdata_path, 'val_target'), 'rb') as fp:\n",
    "    val_target = pickle.load(fp)"
   ]
  },
  {
   "cell_type": "code",
   "execution_count": 53,
   "metadata": {},
   "outputs": [
    {
     "data": {
      "text/plain": [
       "(4713, 9426)"
      ]
     },
     "execution_count": 53,
     "metadata": {},
     "output_type": "execute_result"
    }
   ],
   "source": [
    "sum(val_target), len(val_target)"
   ]
  },
  {
   "cell_type": "code",
   "execution_count": 54,
   "metadata": {},
   "outputs": [],
   "source": [
    "with open(os.path.join(outdata_path, 'test_list'), 'rb') as fp:\n",
    "    test = pickle.load(fp)\n",
    "with open(os.path.join(outdata_path, 'test_ids'), 'rb') as fp:\n",
    "    test_ids = pickle.load(fp)\n",
    "with open(os.path.join(outdata_path, 'test_target'), 'rb') as fp:\n",
    "    test_target = pickle.load(fp)"
   ]
  },
  {
   "cell_type": "code",
   "execution_count": 55,
   "metadata": {},
   "outputs": [
    {
     "data": {
      "text/plain": [
       "(14140, 4713, 4714)"
      ]
     },
     "execution_count": 55,
     "metadata": {},
     "output_type": "execute_result"
    }
   ],
   "source": [
    "sum(train_target), sum(val_target), sum(test_target)"
   ]
  },
  {
   "cell_type": "markdown",
   "metadata": {},
   "source": [
    "### Model: Multi-Layer Perceptron (Vanilla NN)"
   ]
  },
  {
   "cell_type": "code",
   "execution_count": 56,
   "metadata": {},
   "outputs": [],
   "source": [
    "logs_base_dir = \"/home/fbm221/W266FinalProject/saved_files/age\""
   ]
  },
  {
   "cell_type": "code",
   "execution_count": 57,
   "metadata": {},
   "outputs": [],
   "source": [
    "ngram_model_params = {\n",
    "    'model': 'ngram',\n",
    "    'log_dir': logs_base_dir,\n",
    "    'learning_rate': 1e-3,\n",
    "    'epochs': 1000,\n",
    "    'batch_size': 128,\n",
    "    'layers': 2,\n",
    "    'units': 64,\n",
    "    'dropout_rate': 0.2\n",
    "}"
   ]
  },
  {
   "cell_type": "code",
   "execution_count": 58,
   "metadata": {},
   "outputs": [
    {
     "name": "stdout",
     "output_type": "stream",
     "text": [
      "Train on 28280 samples, validate on 9426 samples\n",
      "Epoch 1/1000\n",
      " - 6s - loss: 0.5985 - acc: 0.6993 - val_loss: 0.5564 - val_acc: 0.7168\n",
      "Epoch 2/1000\n",
      " - 6s - loss: 0.4884 - acc: 0.7718 - val_loss: 0.5304 - val_acc: 0.7369\n",
      "Epoch 3/1000\n",
      " - 6s - loss: 0.4353 - acc: 0.8005 - val_loss: 0.5283 - val_acc: 0.7357\n",
      "Epoch 4/1000\n",
      " - 6s - loss: 0.4033 - acc: 0.8169 - val_loss: 0.5320 - val_acc: 0.7386\n",
      "Epoch 5/1000\n",
      " - 6s - loss: 0.3769 - acc: 0.8295 - val_loss: 0.5441 - val_acc: 0.7345\n",
      "Validation accuracy: 0.7344578823136747, loss: 0.544071503848299\n"
     ]
    }
   ],
   "source": [
    "reload(train_model)\n",
    "history, train_pred_probs, val_pred_probs = train_model.train_model(((train_vec, train_target), (val_vec, val_target)), **ngram_model_params)"
   ]
  },
  {
   "cell_type": "code",
   "execution_count": 59,
   "metadata": {},
   "outputs": [],
   "source": [
    "np.save('/home/fbm221/W266FinalProject/saved_files/age/val_pred_probs', val_pred_probs, allow_pickle=True, fix_imports=True)"
   ]
  },
  {
   "cell_type": "markdown",
   "metadata": {},
   "source": [
    "## Model evaluation"
   ]
  },
  {
   "cell_type": "code",
   "execution_count": 60,
   "metadata": {},
   "outputs": [
    {
     "data": {
      "text/plain": [
       "6923"
      ]
     },
     "execution_count": 60,
     "metadata": {},
     "output_type": "execute_result"
    }
   ],
   "source": [
    "val_preds = val_pred_probs > 0.5\n",
    "np.sum(val_preds.flatten()==val_target)"
   ]
  },
  {
   "cell_type": "code",
   "execution_count": 61,
   "metadata": {},
   "outputs": [
    {
     "name": "stdout",
     "output_type": "stream",
     "text": [
      "Confusion matrix, without normalization\n",
      "[[3561 1152]\n",
      " [1351 3362]]\n"
     ]
    },
    {
     "data": {
      "text/plain": [
       "<matplotlib.axes._subplots.AxesSubplot at 0x7f487ea4ff98>"
      ]
     },
     "execution_count": 61,
     "metadata": {},
     "output_type": "execute_result"
    },
    {
     "data": {
      "image/png": "[encoded data removed]",
      "text/plain": [
       "<Figure size 432x288 with 2 Axes>"
      ]
     },
     "metadata": {},
     "output_type": "display_data"
    }
   ],
   "source": [
    "reload(explore_data)\n",
    "# specify class names in 0 - 1 order\n",
    "classes = ['Age gt Med', 'Age lt Med']\n",
    "explore_data.plot_confusion_matrix(val_target, val_preds, classes, normalize=True)"
   ]
  },
  {
   "cell_type": "code",
   "execution_count": 62,
   "metadata": {
    "scrolled": false
   },
   "outputs": [
    {
     "data": {
      "image/png": "[encoded data removed]",
      "text/plain": [
       "<Figure size 720x720 with 2 Axes>"
      ]
     },
     "metadata": {},
     "output_type": "display_data"
    }
   ],
   "source": [
    "reload(explore_data)\n",
    "explore_data.plot_calibration_curve(val_target, val_pred_probs, 'Age')"
   ]
  },
  {
   "cell_type": "code",
   "execution_count": 63,
   "metadata": {},
   "outputs": [],
   "source": [
    "del train, train_ids, train_pred_probs, train_target, train_vec"
   ]
  },
  {
   "cell_type": "code",
   "execution_count": 64,
   "metadata": {},
   "outputs": [],
   "source": [
    "with open(os.path.join(outdata_path, 'val_pred_probs'), 'wb') as fp:\n",
    "    pickle.dump(val_pred_probs, fp)"
   ]
  },
  {
   "cell_type": "code",
   "execution_count": 65,
   "metadata": {},
   "outputs": [],
   "source": [
    "with open(os.path.join(outdata_path, 'val_pred_probs'), 'rb') as fp:\n",
    "    val_pred_probs = pickle.load(fp)"
   ]
  },
  {
   "cell_type": "code",
   "execution_count": 66,
   "metadata": {},
   "outputs": [
    {
     "data": {
      "text/plain": [
       "(9426, 1)"
      ]
     },
     "execution_count": 66,
     "metadata": {},
     "output_type": "execute_result"
    }
   ],
   "source": [
    "val_pred_probs.shape"
   ]
  },
  {
   "cell_type": "code",
   "execution_count": 67,
   "metadata": {},
   "outputs": [
    {
     "name": "stderr",
     "output_type": "stream",
     "text": [
      "/home/fbm221/anaconda3/lib/python3.6/site-packages/numpy/lib/arraysetops.py:472: FutureWarning: elementwise comparison failed; returning scalar instead, but in the future will perform elementwise comparison\n",
      "  mask |= (ar1 == a)\n"
     ]
    },
    {
     "data": {
      "text/plain": [
       "(9426, 16)"
      ]
     },
     "execution_count": 67,
     "metadata": {},
     "output_type": "execute_result"
    }
   ],
   "source": [
    "descr_df = pd.read_csv('/home/fbm221/W266FinalProject/Data/full_descr.txt', sep=\"|\", index_col=0)\n",
    "descr_df = descr_df.loc[np.asarray(val_ids, dtype=int)]\n",
    "descr_df.shape"
   ]
  },
  {
   "cell_type": "code",
   "execution_count": 68,
   "metadata": {},
   "outputs": [
    {
     "data": {
      "text/html": [
       "<div>\n",
       "<style scoped>\n",
       "    .dataframe tbody tr th:only-of-type {\n",
       "        vertical-align: middle;\n",
       "    }\n",
       "\n",
       "    .dataframe tbody tr th {\n",
       "        vertical-align: top;\n",
       "    }\n",
       "\n",
       "    .dataframe thead th {\n",
       "        text-align: right;\n",
       "    }\n",
       "</style>\n",
       "<table border=\"1\" class=\"dataframe\">\n",
       "  <thead>\n",
       "    <tr style=\"text-align: right;\">\n",
       "      <th></th>\n",
       "      <th>date</th>\n",
       "      <th>char_count</th>\n",
       "      <th>word_count</th>\n",
       "      <th>speakerid</th>\n",
       "      <th>Party</th>\n",
       "      <th>Congress</th>\n",
       "      <th>Chamber</th>\n",
       "      <th>State</th>\n",
       "      <th>Ethnicity</th>\n",
       "      <th>Age</th>\n",
       "      <th>Age_lt_med</th>\n",
       "      <th>NonWhite</th>\n",
       "      <th>Female</th>\n",
       "      <th>speaker</th>\n",
       "      <th>Full Name</th>\n",
       "      <th>match</th>\n",
       "    </tr>\n",
       "    <tr>\n",
       "      <th>speech_id</th>\n",
       "      <th></th>\n",
       "      <th></th>\n",
       "      <th></th>\n",
       "      <th></th>\n",
       "      <th></th>\n",
       "      <th></th>\n",
       "      <th></th>\n",
       "      <th></th>\n",
       "      <th></th>\n",
       "      <th></th>\n",
       "      <th></th>\n",
       "      <th></th>\n",
       "      <th></th>\n",
       "      <th></th>\n",
       "      <th></th>\n",
       "      <th></th>\n",
       "    </tr>\n",
       "  </thead>\n",
       "  <tbody>\n",
       "    <tr>\n",
       "      <th>970034678</th>\n",
       "      <td>19810521.0</td>\n",
       "      <td>3397.0</td>\n",
       "      <td>507.0</td>\n",
       "      <td>97112170.0</td>\n",
       "      <td>D</td>\n",
       "      <td>97.0</td>\n",
       "      <td>H</td>\n",
       "      <td>OH</td>\n",
       "      <td>B</td>\n",
       "      <td>57.0</td>\n",
       "      <td>0.0</td>\n",
       "      <td>1.0</td>\n",
       "      <td>0.0</td>\n",
       "      <td>Mr. STOKES</td>\n",
       "      <td>STOKES, LOUIS</td>\n",
       "      <td>fuzzy</td>\n",
       "    </tr>\n",
       "    <tr>\n",
       "      <th>1140107584</th>\n",
       "      <td>20160712.0</td>\n",
       "      <td>3503.0</td>\n",
       "      <td>565.0</td>\n",
       "      <td>114121700.0</td>\n",
       "      <td>D</td>\n",
       "      <td>114.0</td>\n",
       "      <td>H</td>\n",
       "      <td>CA</td>\n",
       "      <td>B</td>\n",
       "      <td>78.0</td>\n",
       "      <td>0.0</td>\n",
       "      <td>1.0</td>\n",
       "      <td>1.0</td>\n",
       "      <td>Ms. MAXINE WATERS of California</td>\n",
       "      <td>WATERS, MAXINE</td>\n",
       "      <td>exact</td>\n",
       "    </tr>\n",
       "    <tr>\n",
       "      <th>1140036275</th>\n",
       "      <td>20150617.0</td>\n",
       "      <td>985.0</td>\n",
       "      <td>168.0</td>\n",
       "      <td>114121750.0</td>\n",
       "      <td>D</td>\n",
       "      <td>114.0</td>\n",
       "      <td>H</td>\n",
       "      <td>FL</td>\n",
       "      <td>B</td>\n",
       "      <td>74.0</td>\n",
       "      <td>0.0</td>\n",
       "      <td>1.0</td>\n",
       "      <td>1.0</td>\n",
       "      <td>Ms. WILSON of Florida</td>\n",
       "      <td>WILSON, FREDERICA</td>\n",
       "      <td>exact</td>\n",
       "    </tr>\n",
       "    <tr>\n",
       "      <th>1140062682</th>\n",
       "      <td>20151116.0</td>\n",
       "      <td>2802.0</td>\n",
       "      <td>528.0</td>\n",
       "      <td>114119300.0</td>\n",
       "      <td>D</td>\n",
       "      <td>114.0</td>\n",
       "      <td>H</td>\n",
       "      <td>MD</td>\n",
       "      <td>B</td>\n",
       "      <td>58.0</td>\n",
       "      <td>1.0</td>\n",
       "      <td>1.0</td>\n",
       "      <td>1.0</td>\n",
       "      <td>Ms. EDWARDS</td>\n",
       "      <td>EDWARDS, DONNA</td>\n",
       "      <td>exact</td>\n",
       "    </tr>\n",
       "    <tr>\n",
       "      <th>1030014310</th>\n",
       "      <td>19930316.0</td>\n",
       "      <td>419.0</td>\n",
       "      <td>67.0</td>\n",
       "      <td>103112360.0</td>\n",
       "      <td>D</td>\n",
       "      <td>103.0</td>\n",
       "      <td>H</td>\n",
       "      <td>MO</td>\n",
       "      <td>B</td>\n",
       "      <td>63.0</td>\n",
       "      <td>0.0</td>\n",
       "      <td>1.0</td>\n",
       "      <td>0.0</td>\n",
       "      <td>Mr. CLAY</td>\n",
       "      <td>CLAY, WILLIAM</td>\n",
       "      <td>fuzzy</td>\n",
       "    </tr>\n",
       "  </tbody>\n",
       "</table>\n",
       "</div>"
      ],
      "text/plain": [
       "                  date  char_count  word_count    speakerid Party  Congress  \\\n",
       "speech_id                                                                     \n",
       "970034678   19810521.0      3397.0       507.0   97112170.0     D      97.0   \n",
       "1140107584  20160712.0      3503.0       565.0  114121700.0     D     114.0   \n",
       "1140036275  20150617.0       985.0       168.0  114121750.0     D     114.0   \n",
       "1140062682  20151116.0      2802.0       528.0  114119300.0     D     114.0   \n",
       "1030014310  19930316.0       419.0        67.0  103112360.0     D     103.0   \n",
       "\n",
       "           Chamber State Ethnicity   Age  Age_lt_med  NonWhite  Female  \\\n",
       "speech_id                                                                \n",
       "970034678        H    OH         B  57.0         0.0       1.0     0.0   \n",
       "1140107584       H    CA         B  78.0         0.0       1.0     1.0   \n",
       "1140036275       H    FL         B  74.0         0.0       1.0     1.0   \n",
       "1140062682       H    MD         B  58.0         1.0       1.0     1.0   \n",
       "1030014310       H    MO         B  63.0         0.0       1.0     0.0   \n",
       "\n",
       "                                    speaker          Full Name  match  \n",
       "speech_id                                                              \n",
       "970034678                        Mr. STOKES      STOKES, LOUIS  fuzzy  \n",
       "1140107584  Ms. MAXINE WATERS of California     WATERS, MAXINE  exact  \n",
       "1140036275            Ms. WILSON of Florida  WILSON, FREDERICA  exact  \n",
       "1140062682                      Ms. EDWARDS     EDWARDS, DONNA  exact  \n",
       "1030014310                         Mr. CLAY      CLAY, WILLIAM  fuzzy  "
      ]
     },
     "execution_count": 68,
     "metadata": {},
     "output_type": "execute_result"
    }
   ],
   "source": [
    "descr_df.head()"
   ]
  },
  {
   "cell_type": "code",
   "execution_count": 69,
   "metadata": {},
   "outputs": [
    {
     "name": "stdout",
     "output_type": "stream",
     "text": [
      "Validation sample means:\n",
      "      Gender_F  Ethinicity_NW     AvgAge  Party_D  Chamber_H  AvgWordCount\n",
      "base  0.205283            0.5  59.894229  0.68205    0.69478    408.802461\n"
     ]
    },
    {
     "data": {
      "text/html": [
       "<div>\n",
       "<style scoped>\n",
       "    .dataframe tbody tr th:only-of-type {\n",
       "        vertical-align: middle;\n",
       "    }\n",
       "\n",
       "    .dataframe tbody tr th {\n",
       "        vertical-align: top;\n",
       "    }\n",
       "\n",
       "    .dataframe thead th {\n",
       "        text-align: right;\n",
       "    }\n",
       "</style>\n",
       "<table border=\"1\" class=\"dataframe\">\n",
       "  <thead>\n",
       "    <tr style=\"text-align: right;\">\n",
       "      <th></th>\n",
       "      <th>Gender_F</th>\n",
       "      <th>Ethinicity_NW</th>\n",
       "      <th>AvgAge</th>\n",
       "      <th>Party_D</th>\n",
       "      <th>Chamber_H</th>\n",
       "      <th>AvgWordCount</th>\n",
       "    </tr>\n",
       "  </thead>\n",
       "  <tbody>\n",
       "    <tr>\n",
       "      <th>0.4</th>\n",
       "      <td>0.47</td>\n",
       "      <td>0.49</td>\n",
       "      <td>0.99</td>\n",
       "      <td>0.78</td>\n",
       "      <td>0.71</td>\n",
       "      <td>1.08</td>\n",
       "    </tr>\n",
       "    <tr>\n",
       "      <th>0.6</th>\n",
       "      <td>0.95</td>\n",
       "      <td>0.94</td>\n",
       "      <td>0.99</td>\n",
       "      <td>1.00</td>\n",
       "      <td>1.13</td>\n",
       "      <td>0.86</td>\n",
       "    </tr>\n",
       "    <tr>\n",
       "      <th>1.0</th>\n",
       "      <td>1.60</td>\n",
       "      <td>1.57</td>\n",
       "      <td>1.01</td>\n",
       "      <td>1.24</td>\n",
       "      <td>1.27</td>\n",
       "      <td>0.97</td>\n",
       "    </tr>\n",
       "  </tbody>\n",
       "</table>\n",
       "</div>"
      ],
      "text/plain": [
       "     Gender_F  Ethinicity_NW  AvgAge  Party_D  Chamber_H  AvgWordCount\n",
       "0.4      0.47           0.49    0.99     0.78       0.71          1.08\n",
       "0.6      0.95           0.94    0.99     1.00       1.13          0.86\n",
       "1.0      1.60           1.57    1.01     1.24       1.27          0.97"
      ]
     },
     "execution_count": 69,
     "metadata": {},
     "output_type": "execute_result"
    }
   ],
   "source": [
    "reload(explore_data)\n",
    "# checking the ratios of demo variables in low-mid-high probability buckets\n",
    "explore_data.check_bin_probs_distr(val_pred_probs, \n",
    "                                   val_ids, \n",
    "                                   descr_df)"
   ]
  },
  {
   "cell_type": "code",
   "execution_count": 70,
   "metadata": {},
   "outputs": [
    {
     "name": "stdout",
     "output_type": "stream",
     "text": [
      "\n",
      "Top 10 ngrams by differentiating score:\n",
      "mr president \t 243.3\n",
      "speaker \t 178.3\n",
      "the senator \t 168.2\n",
      "senator \t 167.6\n",
      "senator from \t 153.7\n",
      "speaker rise \t 152.3\n",
      "mr speaker \t 142.0\n",
      "rise \t 126.0\n",
      "the senate \t 105.4\n",
      "president \t 102.9\n"
     ]
    },
    {
     "data": {
      "text/html": [
       "<div>\n",
       "<style scoped>\n",
       "    .dataframe tbody tr th:only-of-type {\n",
       "        vertical-align: middle;\n",
       "    }\n",
       "\n",
       "    .dataframe tbody tr th {\n",
       "        vertical-align: top;\n",
       "    }\n",
       "\n",
       "    .dataframe thead th {\n",
       "        text-align: right;\n",
       "    }\n",
       "</style>\n",
       "<table border=\"1\" class=\"dataframe\">\n",
       "  <thead>\n",
       "    <tr style=\"text-align: right;\">\n",
       "      <th>bin</th>\n",
       "      <th>1</th>\n",
       "      <th>2</th>\n",
       "      <th>3</th>\n",
       "    </tr>\n",
       "  </thead>\n",
       "  <tbody>\n",
       "    <tr>\n",
       "      <th>mr president</th>\n",
       "      <td>2621.0</td>\n",
       "      <td>427.0</td>\n",
       "      <td>642.0</td>\n",
       "    </tr>\n",
       "    <tr>\n",
       "      <th>mr speaker</th>\n",
       "      <td>2154.0</td>\n",
       "      <td>1215.0</td>\n",
       "      <td>4122.0</td>\n",
       "    </tr>\n",
       "    <tr>\n",
       "      <th>president</th>\n",
       "      <td>5725.0</td>\n",
       "      <td>1277.0</td>\n",
       "      <td>2572.0</td>\n",
       "    </tr>\n",
       "    <tr>\n",
       "      <th>rise</th>\n",
       "      <td>754.0</td>\n",
       "      <td>349.0</td>\n",
       "      <td>1348.0</td>\n",
       "    </tr>\n",
       "    <tr>\n",
       "      <th>senator</th>\n",
       "      <td>3074.0</td>\n",
       "      <td>324.0</td>\n",
       "      <td>376.0</td>\n",
       "    </tr>\n",
       "    <tr>\n",
       "      <th>senator from</th>\n",
       "      <td>883.0</td>\n",
       "      <td>41.0</td>\n",
       "      <td>32.0</td>\n",
       "    </tr>\n",
       "    <tr>\n",
       "      <th>speaker</th>\n",
       "      <td>2454.0</td>\n",
       "      <td>1370.0</td>\n",
       "      <td>4779.0</td>\n",
       "    </tr>\n",
       "    <tr>\n",
       "      <th>speaker rise</th>\n",
       "      <td>276.0</td>\n",
       "      <td>178.0</td>\n",
       "      <td>749.0</td>\n",
       "    </tr>\n",
       "    <tr>\n",
       "      <th>the senate</th>\n",
       "      <td>2044.0</td>\n",
       "      <td>375.0</td>\n",
       "      <td>565.0</td>\n",
       "    </tr>\n",
       "    <tr>\n",
       "      <th>the senator</th>\n",
       "      <td>916.0</td>\n",
       "      <td>42.0</td>\n",
       "      <td>26.0</td>\n",
       "    </tr>\n",
       "  </tbody>\n",
       "</table>\n",
       "</div>"
      ],
      "text/plain": [
       "bin                1       2       3\n",
       "mr president  2621.0   427.0   642.0\n",
       "mr speaker    2154.0  1215.0  4122.0\n",
       "president     5725.0  1277.0  2572.0\n",
       "rise           754.0   349.0  1348.0\n",
       "senator       3074.0   324.0   376.0\n",
       "senator from   883.0    41.0    32.0\n",
       "speaker       2454.0  1370.0  4779.0\n",
       "speaker rise   276.0   178.0   749.0\n",
       "the senate    2044.0   375.0   565.0\n",
       "the senator    916.0    42.0    26.0"
      ]
     },
     "execution_count": 70,
     "metadata": {},
     "output_type": "execute_result"
    }
   ],
   "source": [
    "reload(explore_data)\n",
    "explore_data.compare_ngrams(val, val_pred_probs, ngram_range=(1, 2))"
   ]
  },
  {
   "cell_type": "markdown",
   "metadata": {},
   "source": [
    "#### Run the following test on a random subset of the validation sample"
   ]
  },
  {
   "cell_type": "code",
   "execution_count": 71,
   "metadata": {},
   "outputs": [
    {
     "data": {
      "text/plain": [
       "0.10142159983025674"
      ]
     },
     "execution_count": 71,
     "metadata": {},
     "output_type": "execute_result"
    }
   ],
   "source": [
    "np.random.seed(100)\n",
    "val_random = np.random.choice(a=[0,1], size=len(val_target), p = [0.9,0.1])\n",
    "val_random.sum()/val_random.shape[0]"
   ]
  },
  {
   "cell_type": "code",
   "execution_count": 72,
   "metadata": {},
   "outputs": [
    {
     "data": {
      "text/plain": [
       "(956, 956, 956)"
      ]
     },
     "execution_count": 72,
     "metadata": {},
     "output_type": "execute_result"
    }
   ],
   "source": [
    "val_sample, val_ids_sample, val_pred_probs_sample = [], [], []\n",
    "for i in range(len(val_ids)):\n",
    "    if val_random[i] == 1:\n",
    "        val_sample.append(val[i])\n",
    "        val_ids_sample.append(val_ids[i])\n",
    "        val_pred_probs_sample.append(val_pred_probs[i])\n",
    "len(val_sample), len(val_ids_sample), len(val_pred_probs_sample)"
   ]
  },
  {
   "cell_type": "code",
   "execution_count": 73,
   "metadata": {},
   "outputs": [
    {
     "name": "stdout",
     "output_type": "stream",
     "text": [
      "\n",
      "In 0.4 bin top 10 ngrams:\n",
      "\n",
      "the united states\n",
      "are going to\n",
      "one of the\n",
      "of the united\n",
      "the senator from\n",
      "of the united states\n",
      "the american people\n",
      "the department of\n",
      "the gentleman from\n",
      "we need to\n",
      "--------------------\n",
      "\n",
      "In 0.6 bin top 10 ngrams:\n",
      "\n",
      "the united states\n",
      "one of the\n",
      "mr speaker rise\n",
      "the american people\n",
      "my colleagues to\n",
      "would like to\n",
      "the gentleman from\n",
      "the fairness doctrine\n",
      "the department of\n",
      "speaker rise today\n",
      "--------------------\n",
      "\n",
      "In 1.0 bin top 10 ngrams:\n",
      "\n",
      "the united states\n",
      "my colleagues to\n",
      "the american people\n",
      "be able to\n",
      "mr speaker rise\n",
      "in the united\n",
      "one of the\n",
      "in the united states\n",
      "the gentleman from\n",
      "are going to\n",
      "--------------------\n"
     ]
    }
   ],
   "source": [
    "reload(explore_data)\n",
    "explore_data.ngrams_by_bin(val_sample, val_pred_probs_sample)"
   ]
  },
  {
   "cell_type": "code",
   "execution_count": 74,
   "metadata": {
    "scrolled": false
   },
   "outputs": [
    {
     "name": "stdout",
     "output_type": "stream",
     "text": [
      "\n",
      "True positive (Predicted prob: 0.90):\n",
      "\n",
      "date            1.99301e+07\n",
      "char_count             1615\n",
      "word_count              255\n",
      "speakerid       1.03112e+08\n",
      "Party                     D\n",
      "Congress                103\n",
      "Chamber                   H\n",
      "State                    OH\n",
      "Ethnicity                 B\n",
      "Age                      69\n",
      "Age_lt_med                0\n",
      "NonWhite                  1\n",
      "Female                    0\n",
      "speaker          Mr. STOKES\n",
      "Full Name     STOKES, LOUIS\n",
      "match                 fuzzy\n",
      "Name: 1030002881, dtype: object\n",
      "\n",
      " Mr. Speaker. I rise today to pay tribute to a resident of my congressional district. Mr. Icabod Flewellen. Mr. Flewellen has distinguished himself as a researcher of AfricanAmerican history. In fact. he is the first person to have attempted to form an independent AfricanAmerican museum anywhere. Throughout his life. Mr. Rewellen. who is now 76 years of age. displayed a great interest in black history. He realized at an early age. however. that the history taught in school had very little to do with blacks. Flewellen attempted to fill In the gaps by collecting newspaper articles. photographs. and other historical documents. Icabod Flewellen founded the local AfricanAmerican museum in 1953. For more than 30 years. he added to an impressive collection of AfricanAmerican memorabilia. One of the biggest achievements was convincing his friend. Cleveland native and AfricanAmerican inventor. Garrett Morgan. to donate the original gas mask and traffic light he developed to the museum. Mr. Speaker. currently. the AfricanAmerican Museum is located at 1765 Crawford Road in Cleveland. The museum stands as a testament to the determination of Mr. Flewellen to share with others his pride in the contributions of AfricanAmericans to all facets of American life. Just recently. the Plain Dealer newspaper included an article on Mr. Rewellen and his distinguished career. I am pleased to bring the article to the attention of my colleagues and the Nation. Icabod Flewellen is an outstanding individual whom I am proud to recognize. I wish him much continued success. [From the Cleveland Plain Dealer. Jan. 24. 1993]\n",
      "--------------------\n",
      "\n",
      "True negative (Predicted prob: 0.09):\n",
      "\n",
      "date              2.00702e+07\n",
      "char_count               1506\n",
      "word_count                254\n",
      "speakerid         1.10118e+08\n",
      "Party                       D\n",
      "Congress                  110\n",
      "Chamber                     S\n",
      "State                      IL\n",
      "Ethnicity                   W\n",
      "Age                        64\n",
      "Age_lt_med                  0\n",
      "NonWhite                    0\n",
      "Female                      0\n",
      "speaker            Mr. DURBIN\n",
      "Full Name     DURBIN, RICHARD\n",
      "match                   exact\n",
      "Name: 1100014978, dtype: object\n",
      "\n",
      " Madam President. I rise today to congratulate the Centralia High School boys basketball team for 100 years of remarkable success. The Centralia High Orphans have earned the distinction of being one of the \"winningest\" high school basketball teams in America. The Centralia basketball program began its winning career with a 2and2 record in its inaugural 19061907 season. less than a decade after the sport had been invented. In this their 100th season. the Orphans have amassed more than 1.975 career wins. During the past 100 years. Centralia High has witnessed many legendary coaches and players. Coach Arthur Trout led the team to three State championships as well as an impressive 1941 season of 44 wins and only 2 losses. Coach Trout has an honored place in Centralia Highs history where the new school gym bears his name today. Even now. many fans fondly recall the Orphans alltime leading scorer. Dwight \"Dike\" Eddlemdn. who played for the team in the 1940s. Eddleman went on to letter in three sports at the University of Illinois. won the silver medal in t]high jump at the 1948 Paris Olympics. and played in the NBA. Other Orphans that represented Centralia in the NBA include Bobby Joe Mason. Ken McBride. and Dick Garrett. I am proud to be able to offer my congratulations to the Centralia High basketball team. Coach Randy Lincoln. and the town of Centralia. IL on reaching their 100th season. and I look forward to cherring on many more successful seasons of Orphans basketball in the future.\n",
      "--------------------\n",
      "\n",
      "False positive (Predicted prob: 0.90):\n",
      "\n",
      "date              2.01601e+07\n",
      "char_count               8918\n",
      "word_count               1501\n",
      "speakerid          1.1412e+08\n",
      "Party                       D\n",
      "Congress                  114\n",
      "Chamber                     H\n",
      "State                      MA\n",
      "Ethnicity                   W\n",
      "Age                        57\n",
      "Age_lt_med                  1\n",
      "NonWhite                    0\n",
      "Female                      0\n",
      "speaker          Mr. MCGOVERN\n",
      "Full Name     MCGOVERN, JAMES\n",
      "match                   exact\n",
      "Name: 1140071005, dtype: object\n",
      "\n",
      " I thank the gentleman from Georgia for yielding me the customary 30 minutes. Mr. Speaker. as we begin the second session of the 114th Congress. there is a long list of important issues that we could be talking about today. We could be talking about ways to support job creation. to grow the economy. to improve gun safety. to strengthen national security. to pass an immigration reform bill. and many other important priorities. Instead. we are talking about H.R. 3762. the latest attempt by House Republicans to defund Planned Parenthood and to repeal the Affordable Care Act. As our economy continues to recover. we should be focused on expanding opportunity and helping more Americans get ahead. Instead. we are starting the new year by debating a bill that. if it ever became law. would put the health care of 22 million Americans in jeopardy and would further restrict womens access to vital healthcare services. This is yet another blatant political move by Republicans to appeal to and to appease their rightwing base. Republican leaders have said it themselves. Senate Republican Whip JOHN CORNYN called this a \"political exercise.\" He said. \"I think we all recognize the President isnt likely to sign this bill so its not going to become a law.\" Then. why on earth are we wasting the American peoples time with this terrible bill? This month we have heard that Speaker RYAN \"will push to turn the House into a platform for ambitious Republican policy ideas.\" The 62nd vote to repeal or to undermine the Affordable Care Act. The llth vote to attack womens health. Really? That is the platform for ambitious Republican policy ideas? I think the American people should sue Republicans for malpractice. When Speaker RYAN took the gavel last fall. there was so much talk about a new chapter and fresh ideas. Instead. we are starting 2016 with more of the stale and politically motivated bills we have become accustomed to in this Republicancontrolled Congress. We are constantly being told by Republicans that they have better ideas and that they have a better approach to health care. Really? Where is it? I would remind my Republican friends that. in 2011. you passed a bill that actually tasked you to come up with an alternative to the Affordable Care Act. You came up with nothing. Just last year you passed another bill to come up with an alternative. and. once again. you came up with nothing. Now here we are again with a bill that repeals the Affordable Care Act and that tasks the Republicans to come up with an alternative. I am curious. Where is your alternative? Maybe it is in your notes. Is it hidden in some secret room in the Capitol? Maybe Donald Trump has it. Perhaps we should alert the Capitol Police. Better yet. maybe we could call the FBI to locate the Republican plan on health care. I remind my friends that you are in charge. You run this place. You can bring whatever you want to this House floor. Maybe you should bring a bloodhound to the House floor to try to find your alternative healthcare plan. Governing is something that my friends on the Republican side are not very good at. They are very good about saying no to everything. but they cant say yes to anything. The Republican plan on health care is. essentially. a sound bite. Their prescription is \"take two tax breaks and call me in the morning.\" Not only have the Republicans done nothing to expand health care for the American peopleand. again. they are in chargebut they have actually consistently tried to undermine health access for millions of Americans. to take health care away from people in this country. [ 1400 If the Republicans had it their way and actually repealed the Affordable Care Act. millions of young people under the age of 26 would be thrown off their parents health plans. being a woman would once again be a preexisting condition. and much more of the progress made by the ACA would be rolled back. Mr. Speaker. contrary to what we often hear from Republicans. the Affordable Care Act is not killing the economy. I know facts get in the way of their arguments. but the fact is that America has seen a record 69 straight months of job growth and all signs point to this historic growth continuing. In September 2012. when unemployment was at 8.1 percent. the Republican presidential nominee. Mitt Romney. claimed that the unemployment rate would stay at 8 percent if President Obama were reelected President. Well. President Obama was reelected President. and Mitt Romney was wrong. What actually happened? The unemployment rate has steadily dropped each year and is now at a 7year low of 5 percent. with employers adding about 210.000 jobs a month through last November as more Americans get back to work. One of the frequent Republican claims that we have heard is that businesses would shift to parttime workers to avoid the Affordable Care Acts requirement to provide healthcare coverage to fulltime employees. A new study released this week shows that the ACA resulted in little change in the number of hours worked. including the first 6 months of 2015 when the employer mandate first took effect for larger companies. As Politico noted. this study \"pokes a major hole in a beloved conservative talking pointthat ObamaCare will force employers to cut employees hours.\" The truth is that researchers found no major changes in the probability of people working fewer hours in 2013. 2014. or 2015. We have also heard Republicans claim that the ACAs expansion of Medicaid would decrease employment among lowincome workers. but another study released this week showed no major changes in the way lowincome workers fit into the labor market during the first 15 months of Medicaid expansion under ACA. Contrary to conservative talking points. the new coverage didnt push lowincome adults to switch jobs. move from fulltime to parttime work. or rush to find new jobs. In fact. the expansion of Medicaid under the Affordable Care Act has made a tremendous difference in increasing access to health care for Americas most vulnerable families. Since October of 2013. more than 12.3 million Americans have been able to get coverage thanks to the expansion of Medicaid. As a result of marketplace coverage and Medicaid expansion. hospital uncompensated care costs were reduced by an estimated $7.4 billion in 2014. resulting in huge savings for consumers across this country. That is the difference between us. Democrats believe health care is a right and my Republican friends believe it is a privilege. To make matters worse. the bill before us today would also defund Planned Parenthood. which would put millions of lowincome womenand men. I would addat risk of losing access to critical health services. The fact is that one in five women has relied on a Planned Parenthood health center for care in her lifetime. and Planned Parenthood serves 2.7 million patients each year. Additionally. Planned Parenthood clinics often serve as one of the few affordable care options available for many women and men. Cutting off access to the critical health services Planned Parenthood provides to some of our most vulnerable citizens is simply wrong. It is unconscionable. Sixtythree percent of voters. including 72 percent of independents. agree. This whole effort to defund Planned Parenthood fits the Republican pattern of targeting poor people. and. quite frankly. Mr. Speaker. it is outrageous. While our Nations community health centers do incredible work. the Republican claim that community health centers by themselves could suddenly pick up all the slack if Planned Parenthood is defunded is just not true. and my Republican friends know that. The idea that our community health centers could overnight suddenly step up and step in and cover millions of new patients is absurd. In fact. in 21 percent of the counties with a Planned Parenthood health center. Planned Parenthood is the only safety net family planning provider. Finally. let me just also voice my strong objection to the provision in this rule which extends for another year the unrestricted authority for four House committees to conduct staff depositions at any time. on any subject. for any reason. Some committees have barely used this authority in the past year. and. when they have. it has often been abused with the threat of subpoena held over peoples heads. The power to compel American citizens to provide testimony under oath should be rarely used and specifically authorized. Quite frankly. Mr. Speaker. I think the American people are tired of the partisan witch hunts that we have grown accustomed to under this Republican leadership in this House. We are starting the new year. not by working in a bipartisan way to do the peoples business. Unfortunately. we are starting the new year debating the same old same old. bills that put politics ahead of people. Mr. Speaker. that is truly sad. I reserve the balance of my time.\n",
      "--------------------\n",
      "\n",
      "False negative (Predicted prob: 0.04):\n",
      "\n",
      "date            2.01503e+07\n",
      "char_count             2736\n",
      "word_count              453\n",
      "speakerid        1.1412e+08\n",
      "Party                     D\n",
      "Congress                114\n",
      "Chamber                   S\n",
      "State                    HI\n",
      "Ethnicity             AAPIA\n",
      "Age                      69\n",
      "Age_lt_med                0\n",
      "NonWhite                  1\n",
      "Female                    1\n",
      "speaker          Ms. HIRONO\n",
      "Full Name     HIRONO, MAZIE\n",
      "match                 exact\n",
      "Name: 1140013725, dtype: object\n",
      "\n",
      " Mr. President. I wish to associate myself with the remarks of my friend from California. Senator BOXER. I rise today to speak against attempts to turn this billthe Justice for Trafficking Victims Actinto a political football. While there are many issues that may divide this Congressand certainly the issue of choice for women is one of themhuman trafficking should not be one of those divisive issues. This bill started off as a bipartisan bill. but along the way a provision was added to the bill that brings me to the floor today in opposition to that provision. Not only do I oppose the substance of that provision. but I very much object to how the provision was added to the bill unbeknownst to the sponsors of this bill such as myself. Buried in this bill is a provision that allows government to dictate a womans health care options. and this provision would limit choices for women who have been victimized by human trafficking. Women are often forced to endure rape and violence on a daily basis. That is what human trafficking is. This is an unprecedented and. I have to say. appalling expansion of governments role in womens health care decisions. The provision is antiwomen and antivictim. This body should be working to help these victims of trafficking violence. not playing politics with their lives. But that is not what we are seeing today. The truth is there are some in this body who have time and again put their own ideological agenda and need to score political points ahead of consensusdriven legislation. We have seen this before. A few weeks ago Congress came close to shutting down the Department of Homeland Securitythe third largest Department in the Federal Governmentbecause a few Members wanted to hold funding national security priorities hostage to score points against the Presidents immigration actions. We saw it during the shutdown. We saw it during the debate over the ShaheenPortman energy bill. We saw it during Congresss drawnout debate over the reauthorization of the Violence Against Women Act. yet another issue that should be free of partisan politics. This body shouldnt let ideological grandstanding on divisive issues stall and kill bipartisan legislation that will make a difference for peopleparticularly for the most vulnerable people in this country. victims of trafficking. This bill is no exception. A bill on human trafficking should not be a method of expanding the governments powers to dictate womens personal choices. womens health care decisions. I join my colleagues in urging the Senate to stop using this legislation and others like it to advance an ideological agenda. and help the women. men. and children who are being trafficked across this country. I yield the floor.\n",
      "--------------------\n"
     ]
    }
   ],
   "source": [
    "reload(explore_data)\n",
    "explore_data.print_mispredictions(val_target, val_pred_probs, val, val_ids, descr_df)"
   ]
  },
  {
   "cell_type": "code",
   "execution_count": null,
   "metadata": {},
   "outputs": [],
   "source": []
  }
 ],
 "metadata": {
  "kernelspec": {
   "display_name": "Python 3",
   "language": "python",
   "name": "python3"
  },
  "language_info": {
   "codemirror_mode": {
    "name": "ipython",
    "version": 3
   },
   "file_extension": ".py",
   "mimetype": "text/x-python",
   "name": "python",
   "nbconvert_exporter": "python",
   "pygments_lexer": "ipython3",
   "version": "3.6.5"
  }
 },
 "nbformat": 4,
 "nbformat_minor": 2
}
