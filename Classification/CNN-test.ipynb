{
 "cells": [
  {
   "cell_type": "code",
   "execution_count": 1,
   "metadata": {},
   "outputs": [
    {
     "data": {
      "text/html": [
       "<style>.container { width:100% !important; }</style>"
      ],
      "text/plain": [
       "<IPython.core.display.HTML object>"
      ]
     },
     "metadata": {},
     "output_type": "display_data"
    }
   ],
   "source": [
    "# increase cell width\n",
    "from IPython.core.display import display, HTML\n",
    "display(HTML(\"<style>.container { width:100% !important; }</style>\"))"
   ]
  },
  {
   "cell_type": "markdown",
   "metadata": {},
   "source": [
    "Inspiration for code:\n",
    "\n",
    "- https://developers.google.com/machine-learning/guides/text-classification/\n",
    "- https://github.com/google/eng-edu/blob/master/ml/guides/text_classification/load_data.py"
   ]
  },
  {
   "cell_type": "code",
   "execution_count": 1,
   "metadata": {},
   "outputs": [],
   "source": [
    "from __future__ import absolute_import\n",
    "from __future__ import division\n",
    "from __future__ import print_function\n",
    "\n",
    "import os\n",
    "import random\n",
    "import time\n",
    "import pickle\n",
    "import gc\n",
    "\n",
    "import numpy as np\n",
    "import pandas as pd\n",
    "\n",
    "from importlib import reload\n",
    "\n",
    "import scipy.sparse"
   ]
  },
  {
   "cell_type": "code",
   "execution_count": 2,
   "metadata": {},
   "outputs": [],
   "source": [
    "from helpers import load_data\n",
    "from helpers import explore_data\n",
    "from helpers import preprocess_data\n",
    "from helpers import train_model"
   ]
  },
  {
   "cell_type": "markdown",
   "metadata": {},
   "source": [
    "## Load the data"
   ]
  },
  {
   "cell_type": "code",
   "execution_count": 4,
   "metadata": {},
   "outputs": [
    {
     "data": {
      "text/plain": [
       "'/tf/notebooks/final-project/Classification'"
      ]
     },
     "execution_count": 4,
     "metadata": {},
     "output_type": "execute_result"
    }
   ],
   "source": [
    "pwd"
   ]
  },
  {
   "cell_type": "code",
   "execution_count": 5,
   "metadata": {},
   "outputs": [
    {
     "name": "stdout",
     "output_type": "stream",
     "text": [
      "speech_id|speech\r\n",
      "970000001|The Senate vill please come to order. The Chaplain will offer the prayer. The Chaplain. the Reverend Edward L. R. Elson. D.D.. offered the following prayer: PRAYER God of our fathers and our God. who has made and preserved us a nation. we thank Thee for Thy care over us from generation to generation. and for the new era which unfolds before us. Let Thy spirit descend upon us with all Its cleansing. healing. and creative power. Make usnew persons for new times in a land newborn in spirit. May the solemn induction of the new Members of this body be a renewal of the vocatinal vows of all others. In the deliberations of this new Congress keep our motives pure. our vision clear. our patriotism undefiled. our speech chaste. our judgments fair. and our consciences unbetrayed. Help us to develop work patterns which sustain the soul. nourish the mind. and strengthen the will. And give us grace to make time for the family. for home. and for worship. What we pray for this body we pray for all others in the service of the Government. Send us each day to our tasks to do Justly.to love mercy. and to walk humbly with our God. Hear us as we pray together the prayerthe Master taught us\"Our Father who art in heaven. hallowed be Thy name. Thy kingdom come. Thy will be done in Earth. as it is in heaven. Give us this day our daily bread. And forgive us our trespasses as we forgive those who trespass against us. And lead us not into temptation. but deliver us from evil* For Thine is the kingdom. and the power. and the glory forever.\" Amen.\r\n"
     ]
    }
   ],
   "source": [
    "!head -2 /tf/notebooks/final-project/data/sample/hein-daily/speeches_097.txt"
   ]
  },
  {
   "cell_type": "code",
   "execution_count": 6,
   "metadata": {},
   "outputs": [
    {
     "name": "stdout",
     "output_type": "stream",
     "text": [
      "283399\r\n"
     ]
    }
   ],
   "source": [
    "!cat /tf/notebooks/final-project/data/sample/hein-daily/speeches_097.txt | wc -l"
   ]
  },
  {
   "cell_type": "code",
   "execution_count": 6,
   "metadata": {},
   "outputs": [],
   "source": [
    "data_path = '/tf/notebooks/final-project/data/sample/hein-daily'"
   ]
  },
  {
   "cell_type": "code",
   "execution_count": 7,
   "metadata": {},
   "outputs": [
    {
     "name": "stdout",
     "output_type": "stream",
     "text": [
      "\n",
      "File speeches_097.txt has 249718612 characters\n",
      "and 283399 speeches\n",
      "\n",
      "Speeches list has 283399 speeches\n"
     ]
    }
   ],
   "source": [
    "reload(load_data)\n",
    "all_speech_ids, all_speeches = load_data.load_speech_data(data_path)"
   ]
  },
  {
   "cell_type": "code",
   "execution_count": 6,
   "metadata": {},
   "outputs": [
    {
     "data": {
      "text/plain": [
       "(283399, 283399)"
      ]
     },
     "execution_count": 6,
     "metadata": {},
     "output_type": "execute_result"
    }
   ],
   "source": [
    "len(all_speech_ids), len(all_speeches)"
   ]
  },
  {
   "cell_type": "markdown",
   "metadata": {},
   "source": [
    "## Create target labels"
   ]
  },
  {
   "cell_type": "markdown",
   "metadata": {},
   "source": [
    "#### TODO:\n",
    "\n",
    "- Why is this taking so much time?\n",
    "- Subset on word cound here?\n",
    "- Make sampling replicable: random seed + random array of proper length"
   ]
  },
  {
   "cell_type": "code",
   "execution_count": 3,
   "metadata": {},
   "outputs": [
    {
     "name": "stdout",
     "output_type": "stream",
     "text": [
      "Variable          Type        Data/Info\n",
      "---------------------------------------\n",
      "absolute_import   _Feature    _Feature((2, 5, 0, 'alpha<...>0, 0, 'alpha', 0), 16384)\n",
      "division          _Feature    _Feature((2, 2, 0, 'alpha<...> 0, 0, 'alpha', 0), 8192)\n",
      "explore_data      module      <module 'helpers.explore_<...>helpers/explore_data.py'>\n",
      "gc                module      <module 'gc' (built-in)>\n",
      "load_data         module      <module 'helpers.load_dat<...>on/helpers/load_data.py'>\n",
      "np                module      <module 'numpy' from '/us<...>kages/numpy/__init__.py'>\n",
      "os                module      <module 'os' from '/usr/lib/python3.5/os.py'>\n",
      "pd                module      <module 'pandas' from '/u<...>ages/pandas/__init__.py'>\n",
      "pickle            module      <module 'pickle' from '/u<...>lib/python3.5/pickle.py'>\n",
      "preprocess_data   module      <module 'helpers.preproce<...>pers/preprocess_data.py'>\n",
      "print_function    _Feature    _Feature((2, 6, 0, 'alpha<...>0, 0, 'alpha', 0), 65536)\n",
      "random            module      <module 'random' from '/u<...>lib/python3.5/random.py'>\n",
      "reload            function    <function reload at 0x7f5eb6709730>\n",
      "scipy             module      <module 'scipy' from '/us<...>kages/scipy/__init__.py'>\n",
      "time              module      <module 'time' (built-in)>\n",
      "train_model       module      <module 'helpers.train_mo<...>/helpers/train_model.py'>\n"
     ]
    }
   ],
   "source": [
    "%whos"
   ]
  },
  {
   "cell_type": "code",
   "execution_count": 4,
   "metadata": {},
   "outputs": [
    {
     "data": {
      "text/plain": [
       "0"
      ]
     },
     "execution_count": 4,
     "metadata": {},
     "output_type": "execute_result"
    }
   ],
   "source": [
    "gc.collect()"
   ]
  },
  {
   "cell_type": "code",
   "execution_count": 19,
   "metadata": {},
   "outputs": [],
   "source": [
    "del descr"
   ]
  },
  {
   "cell_type": "code",
   "execution_count": 2,
   "metadata": {},
   "outputs": [
    {
     "name": "stdout",
     "output_type": "stream",
     "text": [
      "2914465\r\n"
     ]
    }
   ],
   "source": [
    "!cat /tf/notebooks/final-project/data/QA/full_descr.txt | wc -l"
   ]
  },
  {
   "cell_type": "code",
   "execution_count": null,
   "metadata": {},
   "outputs": [],
   "source": [
    "# OPEN descr FROM A SAVED FILE (if it was previously saved)\n",
    "outdata_path = '/home/yulia/final-project/Classification/data'\n",
    "descr = pickle.load(open(os.path.join(outdata_path, 'descr.p'), 'rb'))"
   ]
  },
  {
   "cell_type": "markdown",
   "metadata": {},
   "source": [
    "37,617 fuzzy match speeches had multiple duplicates. Delete them from the dictionary"
   ]
  },
  {
   "cell_type": "code",
   "execution_count": 3,
   "metadata": {},
   "outputs": [
    {
     "name": "stdout",
     "output_type": "stream",
     "text": [
      "2914465 lines have been read\n",
      "37617 keys had duplicates and deleted\n",
      "The dictionary has 2808050 keys\n",
      "\n",
      "Random congressperson: 1110114679\n",
      "Age 54.0\n",
      "date 20100528\n",
      "Female 1.0\n",
      "match exact\n",
      "Party R\n",
      "Congress 111\n",
      "Chamber H\n",
      "speakerid 111117480.0\n",
      "NonWhite 0.0\n",
      "Ethnicity W\n",
      "check 1\n",
      "speaker Mrs. BACHMANN\n",
      "word_count 10\n",
      "State MN\n",
      "Full Name BACHMANN, MICHELE\n",
      "Age_lt_med 1.0\n",
      "char_count 49\n",
      "\n",
      "It took 17.8 seconds to create the dictionary\n"
     ]
    }
   ],
   "source": [
    "reload(load_data)\n",
    "start_time = time.time()\n",
    "descr = load_data.load_descr_data('/tf/notebooks/final-project/data/QA/full_descr.txt')\n",
    "print(\"\\nIt took {0:.1f} seconds to create the dictionary\".format(time.time()-start_time))"
   ]
  },
  {
   "cell_type": "code",
   "execution_count": 7,
   "metadata": {},
   "outputs": [
    {
     "data": {
      "text/plain": [
       "0.9634876258550458"
      ]
     },
     "execution_count": 7,
     "metadata": {},
     "output_type": "execute_result"
    }
   ],
   "source": [
    "# check if sampling worked\n",
    "len(list(descr.keys()))/2914464"
   ]
  },
  {
   "cell_type": "code",
   "execution_count": 10,
   "metadata": {},
   "outputs": [
    {
     "data": {
      "text/plain": [
       "(283399, 283399, 283399, 283399, 283399, 283399)"
      ]
     },
     "execution_count": 10,
     "metadata": {},
     "output_type": "execute_result"
    }
   ],
   "source": [
    "gender, ethnicity, age, party, chamber, congress = load_data.create_target_labels(all_speech_ids, descr)\n",
    "len(gender), len(ethnicity), len(age), len(party), len(chamber), len(congress)"
   ]
  },
  {
   "cell_type": "markdown",
   "metadata": {},
   "source": [
    "### Save descr dictionary"
   ]
  },
  {
   "cell_type": "code",
   "execution_count": 15,
   "metadata": {},
   "outputs": [
    {
     "data": {
      "text/plain": [
       "'/tf/notebooks/final-project/Classification'"
      ]
     },
     "execution_count": 15,
     "metadata": {},
     "output_type": "execute_result"
    }
   ],
   "source": [
    "pwd"
   ]
  },
  {
   "cell_type": "code",
   "execution_count": 16,
   "metadata": {},
   "outputs": [],
   "source": [
    "outdata_path = '/tf/notebooks/final-project/Classification/data'"
   ]
  },
  {
   "cell_type": "code",
   "execution_count": 17,
   "metadata": {},
   "outputs": [],
   "source": [
    "pickle.dump(descr, open(os.path.join(outdata_path, 'descr.p'), 'wb'))"
   ]
  },
  {
   "cell_type": "code",
   "execution_count": null,
   "metadata": {},
   "outputs": [],
   "source": [
    "descr = pickle.load(open(os.path.join(outdata_path, 'descr.p'), 'rb'))"
   ]
  },
  {
   "cell_type": "markdown",
   "metadata": {},
   "source": [
    "### Data QA"
   ]
  },
  {
   "cell_type": "code",
   "execution_count": 18,
   "metadata": {},
   "outputs": [
    {
     "name": "stdout",
     "output_type": "stream",
     "text": [
      "\n",
      " Gender\n",
      "Overall speech counts:\n"
     ]
    },
    {
     "data": {
      "text/html": [
       "<div>\n",
       "<style scoped>\n",
       "    .dataframe tbody tr th:only-of-type {\n",
       "        vertical-align: middle;\n",
       "    }\n",
       "\n",
       "    .dataframe tbody tr th {\n",
       "        vertical-align: top;\n",
       "    }\n",
       "\n",
       "    .dataframe thead th {\n",
       "        text-align: right;\n",
       "    }\n",
       "</style>\n",
       "<table border=\"1\" class=\"dataframe\">\n",
       "  <thead>\n",
       "    <tr style=\"text-align: right;\">\n",
       "      <th></th>\n",
       "      <th>Category</th>\n",
       "      <th>Count</th>\n",
       "    </tr>\n",
       "  </thead>\n",
       "  <tbody>\n",
       "    <tr>\n",
       "      <th>0</th>\n",
       "      <td>-1</td>\n",
       "      <td>216695</td>\n",
       "    </tr>\n",
       "    <tr>\n",
       "      <th>1</th>\n",
       "      <td>0</td>\n",
       "      <td>65350</td>\n",
       "    </tr>\n",
       "    <tr>\n",
       "      <th>2</th>\n",
       "      <td>1</td>\n",
       "      <td>1354</td>\n",
       "    </tr>\n",
       "  </tbody>\n",
       "</table>\n",
       "</div>"
      ],
      "text/plain": [
       "<IPython.core.display.HTML object>"
      ]
     },
     "metadata": {},
     "output_type": "display_data"
    },
    {
     "name": "stdout",
     "output_type": "stream",
     "text": [
      "Target group number of speeches by party:\n",
      "D: \t 656\n",
      "I: \t 0\n",
      "N: \t 0\n",
      "NA: \t -216695\n",
      "R: \t 698\n",
      "\n",
      " Ethnicity\n",
      "Overall speech counts:\n"
     ]
    },
    {
     "data": {
      "text/html": [
       "<div>\n",
       "<style scoped>\n",
       "    .dataframe tbody tr th:only-of-type {\n",
       "        vertical-align: middle;\n",
       "    }\n",
       "\n",
       "    .dataframe tbody tr th {\n",
       "        vertical-align: top;\n",
       "    }\n",
       "\n",
       "    .dataframe thead th {\n",
       "        text-align: right;\n",
       "    }\n",
       "</style>\n",
       "<table border=\"1\" class=\"dataframe\">\n",
       "  <thead>\n",
       "    <tr style=\"text-align: right;\">\n",
       "      <th></th>\n",
       "      <th>Category</th>\n",
       "      <th>Count</th>\n",
       "    </tr>\n",
       "  </thead>\n",
       "  <tbody>\n",
       "    <tr>\n",
       "      <th>0</th>\n",
       "      <td>-1</td>\n",
       "      <td>216695</td>\n",
       "    </tr>\n",
       "    <tr>\n",
       "      <th>1</th>\n",
       "      <td>0</td>\n",
       "      <td>63861</td>\n",
       "    </tr>\n",
       "    <tr>\n",
       "      <th>2</th>\n",
       "      <td>1</td>\n",
       "      <td>2843</td>\n",
       "    </tr>\n",
       "  </tbody>\n",
       "</table>\n",
       "</div>"
      ],
      "text/plain": [
       "<IPython.core.display.HTML object>"
      ]
     },
     "metadata": {},
     "output_type": "display_data"
    },
    {
     "name": "stdout",
     "output_type": "stream",
     "text": [
      "Target group number of speeches by party:\n",
      "D: \t 2463\n",
      "I: \t 0\n",
      "N: \t 41\n",
      "NA: \t -216695\n",
      "R: \t 339\n",
      "\n",
      " Age\n",
      "Overall speech counts:\n"
     ]
    },
    {
     "data": {
      "text/html": [
       "<div>\n",
       "<style scoped>\n",
       "    .dataframe tbody tr th:only-of-type {\n",
       "        vertical-align: middle;\n",
       "    }\n",
       "\n",
       "    .dataframe tbody tr th {\n",
       "        vertical-align: top;\n",
       "    }\n",
       "\n",
       "    .dataframe thead th {\n",
       "        text-align: right;\n",
       "    }\n",
       "</style>\n",
       "<table border=\"1\" class=\"dataframe\">\n",
       "  <thead>\n",
       "    <tr style=\"text-align: right;\">\n",
       "      <th></th>\n",
       "      <th>Category</th>\n",
       "      <th>Count</th>\n",
       "    </tr>\n",
       "  </thead>\n",
       "  <tbody>\n",
       "    <tr>\n",
       "      <th>0</th>\n",
       "      <td>-1</td>\n",
       "      <td>216695</td>\n",
       "    </tr>\n",
       "    <tr>\n",
       "      <th>1</th>\n",
       "      <td>0</td>\n",
       "      <td>43425</td>\n",
       "    </tr>\n",
       "    <tr>\n",
       "      <th>2</th>\n",
       "      <td>1</td>\n",
       "      <td>23279</td>\n",
       "    </tr>\n",
       "  </tbody>\n",
       "</table>\n",
       "</div>"
      ],
      "text/plain": [
       "<IPython.core.display.HTML object>"
      ]
     },
     "metadata": {},
     "output_type": "display_data"
    },
    {
     "name": "stdout",
     "output_type": "stream",
     "text": [
      "Target group number of speeches by party:\n",
      "D: \t 12425\n",
      "I: \t 0\n",
      "N: \t 41\n",
      "NA: \t -216695\n",
      "R: \t 10813\n"
     ]
    }
   ],
   "source": [
    "reload(explore_data)\n",
    "for i in [(gender, \"Gender\"), (ethnicity, \"Ethnicity\"), (age, \"Age\")]:\n",
    "    print(\"\\n\", i[1])\n",
    "    print(\"Overall speech counts:\")\n",
    "    explore_data.get_counts(i[0])\n",
    "    print(\"Target group number of speeches by party:\")\n",
    "    explore_data.get_counts_by_category(i[0], party)"
   ]
  },
  {
   "cell_type": "markdown",
   "metadata": {},
   "source": [
    "## Split into train, validate, test"
   ]
  },
  {
   "cell_type": "code",
   "execution_count": 22,
   "metadata": {
    "scrolled": true
   },
   "outputs": [
    {
     "name": "stdout",
     "output_type": "stream",
     "text": [
      "Training split: 499 ones and 499 zeroes\n",
      "Training speech list size: 998\n",
      "Training target list size: 998\n",
      "Validation split: 166 ones and 166 zeroes\n",
      "Validation speech list size: 332\n",
      "Validation target list size: 332\n",
      "Test split: 167 ones and 167 zeroes\n",
      "Test speech list size: 334\n",
      "Test target list size: 334\n"
     ]
    }
   ],
   "source": [
    "reload(preprocess_data)\n",
    "train, train_ids, train_target, val, val_ids, val_target, test, test_ids, test_target = preprocess_data.split_train_val_test(all_speeches, all_speech_ids, gender, descr)"
   ]
  },
  {
   "cell_type": "code",
   "execution_count": 20,
   "metadata": {},
   "outputs": [
    {
     "data": {
      "text/plain": [
       "(499, 166, 167)"
      ]
     },
     "execution_count": 20,
     "metadata": {},
     "output_type": "execute_result"
    }
   ],
   "source": [
    "sum(train_target), sum(val_target), sum(test_target)"
   ]
  },
  {
   "cell_type": "code",
   "execution_count": 21,
   "metadata": {},
   "outputs": [
    {
     "data": {
      "text/plain": [
       "522"
      ]
     },
     "execution_count": 21,
     "metadata": {},
     "output_type": "execute_result"
    }
   ],
   "source": [
    "# number of speeches under 30 words\n",
    "sum(np.array(gender)==1) - (sum(train_target) + sum(val_target) + sum(test_target))"
   ]
  },
  {
   "cell_type": "markdown",
   "metadata": {},
   "source": [
    "## CNN"
   ]
  },
  {
   "cell_type": "markdown",
   "metadata": {},
   "source": [
    "Inspiration for code: https://developers.google.com/machine-learning/guides/text-classification/step-3"
   ]
  },
  {
   "cell_type": "markdown",
   "metadata": {},
   "source": [
    "### Pre-processing"
   ]
  },
  {
   "cell_type": "code",
   "execution_count": 38,
   "metadata": {},
   "outputs": [
    {
     "data": {
      "text/plain": [
       "199.0"
      ]
     },
     "execution_count": 38,
     "metadata": {},
     "output_type": "execute_result"
    }
   ],
   "source": [
    "reload(explore_data)\n",
    "explore_data.get_num_words_per_sample(train)"
   ]
  },
  {
   "cell_type": "code",
   "execution_count": 39,
   "metadata": {},
   "outputs": [
    {
     "data": {
      "image/png": "[encoded data removed]",
      "text/plain": [
       "<Figure size 432x288 with 1 Axes>"
      ]
     },
     "metadata": {
      "needs_background": "light"
     },
     "output_type": "display_data"
    }
   ],
   "source": [
    "explore_data.plot_sample_length_distribution(train)"
   ]
  },
  {
   "cell_type": "code",
   "execution_count": 40,
   "metadata": {},
   "outputs": [],
   "source": [
    "# Limit on the number of features. \n",
    "TOP_K = 20000\n",
    "\n",
    "# Limit on the length of text sequences. Sequences longer than this\n",
    "# will be truncated.\n",
    "MAX_SEQUENCE_LENGTH = 750\n",
    "\n",
    "vec_params = {\n",
    "    'num_words': TOP_K,\n",
    "    'max_length': MAX_SEQUENCE_LENGTH\n",
    "}"
   ]
  },
  {
   "cell_type": "code",
   "execution_count": 41,
   "metadata": {},
   "outputs": [],
   "source": [
    "reload(preprocess_data)\n",
    "train_vec, val_vec, test_vec, word_index = preprocess_data.sequence_vectorize(train, val, test, **vec_params)"
   ]
  },
  {
   "cell_type": "code",
   "execution_count": 42,
   "metadata": {},
   "outputs": [
    {
     "data": {
      "text/plain": [
       "(998, 332, 334)"
      ]
     },
     "execution_count": 42,
     "metadata": {},
     "output_type": "execute_result"
    }
   ],
   "source": [
    "len(train), len(val), len(test)"
   ]
  },
  {
   "cell_type": "code",
   "execution_count": 43,
   "metadata": {},
   "outputs": [
    {
     "data": {
      "text/plain": [
       "(998, 332, 334)"
      ]
     },
     "execution_count": 43,
     "metadata": {},
     "output_type": "execute_result"
    }
   ],
   "source": [
    "len(train_vec), len(val_vec), len(test_vec)"
   ]
  },
  {
   "cell_type": "code",
   "execution_count": 44,
   "metadata": {},
   "outputs": [
    {
     "data": {
      "text/plain": [
       "(750,)"
      ]
     },
     "execution_count": 44,
     "metadata": {},
     "output_type": "execute_result"
    }
   ],
   "source": [
    "train_vec[0].shape"
   ]
  },
  {
   "cell_type": "code",
   "execution_count": 45,
   "metadata": {},
   "outputs": [
    {
     "data": {
      "text/plain": [
       "19033"
      ]
     },
     "execution_count": 45,
     "metadata": {},
     "output_type": "execute_result"
    }
   ],
   "source": [
    "word_index['conlvince']"
   ]
  },
  {
   "cell_type": "markdown",
   "metadata": {},
   "source": [
    "## SepCNN Model"
   ]
  },
  {
   "cell_type": "code",
   "execution_count": 46,
   "metadata": {},
   "outputs": [],
   "source": [
    "logs_base_dir = \"/tf/notebooks/final-project/Classification/logs\""
   ]
  },
  {
   "cell_type": "code",
   "execution_count": 66,
   "metadata": {},
   "outputs": [],
   "source": [
    "model_params = {\n",
    "    'learning_rate': 1e-3,\n",
    "    'epochs': 1000,\n",
    "    'batch_size': 128,\n",
    "    'blocks': 2,\n",
    "    'filters': 64,\n",
    "    'dropout_rate': 0.2,\n",
    "    'embedding_dim': 200,\n",
    "    'kernel_size': 3,\n",
    "    'pool_size': 1,\n",
    "    'top_k': TOP_K\n",
    "}"
   ]
  },
  {
   "cell_type": "code",
   "execution_count": 70,
   "metadata": {},
   "outputs": [
    {
     "name": "stdout",
     "output_type": "stream",
     "text": [
      "Train on 998 samples, validate on 332 samples\n",
      "Epoch 1/1000\n",
      " - 6s - loss: 0.6931 - acc: 0.5020 - val_loss: 0.6932 - val_acc: 0.5000\n",
      "Epoch 2/1000\n",
      " - 5s - loss: 0.6935 - acc: 0.4739 - val_loss: 0.6932 - val_acc: 0.5000\n",
      "Epoch 3/1000\n",
      " - 5s - loss: 0.6933 - acc: 0.4860 - val_loss: 0.6931 - val_acc: 0.5000\n",
      "Epoch 4/1000\n",
      " - 5s - loss: 0.6930 - acc: 0.4910 - val_loss: 0.6931 - val_acc: 0.5000\n",
      "Epoch 5/1000\n",
      " - 5s - loss: 0.6934 - acc: 0.5090 - val_loss: 0.6931 - val_acc: 0.5000\n",
      "Epoch 6/1000\n",
      " - 5s - loss: 0.6929 - acc: 0.5150 - val_loss: 0.6932 - val_acc: 0.5000\n",
      "Validation accuracy: 0.5, loss: 0.6931503314569772\n"
     ]
    }
   ],
   "source": [
    "reload(train_model)\n",
    "history, train_pred_probs, val_pred_probs = train_model.train_sequence_model(((train_vec, train_target), (val_vec, val_target)), word_index, logs_base_dir, **model_params)"
   ]
  },
  {
   "cell_type": "markdown",
   "metadata": {},
   "source": [
    "## Model evaluation"
   ]
  },
  {
   "cell_type": "code",
   "execution_count": 58,
   "metadata": {},
   "outputs": [
    {
     "data": {
      "text/plain": [
       "166"
      ]
     },
     "execution_count": 58,
     "metadata": {},
     "output_type": "execute_result"
    }
   ],
   "source": [
    "val_preds = val_pred_probs > 0.5\n",
    "np.sum(val_preds.flatten()==val_target)"
   ]
  },
  {
   "cell_type": "code",
   "execution_count": 59,
   "metadata": {},
   "outputs": [
    {
     "name": "stdout",
     "output_type": "stream",
     "text": [
      "Confusion matrix, without normalization\n",
      "[[166   0]\n",
      " [166   0]]\n"
     ]
    },
    {
     "data": {
      "text/plain": [
       "<matplotlib.axes._subplots.AxesSubplot at 0x7fcadc304dd8>"
      ]
     },
     "execution_count": 59,
     "metadata": {},
     "output_type": "execute_result"
    },
    {
     "data": {
      "image/png": "[encoded data removed]",
      "text/plain": [
       "<Figure size 432x288 with 2 Axes>"
      ]
     },
     "metadata": {
      "needs_background": "light"
     },
     "output_type": "display_data"
    }
   ],
   "source": [
    "reload(explore_data)\n",
    "# specify class names in 0 - 1 order\n",
    "classes = ['Male', 'Female']\n",
    "explore_data.plot_confusion_matrix(val_target, val_preds, classes, normalize=True)"
   ]
  },
  {
   "cell_type": "code",
   "execution_count": 118,
   "metadata": {
    "scrolled": false
   },
   "outputs": [
    {
     "data": {
      "image/png": "[encoded data removed]",
      "text/plain": [
       "<Figure size 720x720 with 2 Axes>"
      ]
     },
     "metadata": {
      "needs_background": "light"
     },
     "output_type": "display_data"
    }
   ],
   "source": [
    "reload(explore_data)\n",
    "explore_data.plot_calibration_curve(val_target, val_pred_probs, 'Gender')"
   ]
  },
  {
   "cell_type": "code",
   "execution_count": 25,
   "metadata": {},
   "outputs": [
    {
     "data": {
      "text/plain": [
       "0.3303030303030303"
      ]
     },
     "execution_count": 25,
     "metadata": {},
     "output_type": "execute_result"
    }
   ],
   "source": [
    "val_random = np.random.choice(a=[0,1], size=len(val_target), p = [0.7,0.3])\n",
    "val_random.sum()/val_random.shape[0]"
   ]
  },
  {
   "cell_type": "code",
   "execution_count": 40,
   "metadata": {},
   "outputs": [
    {
     "data": {
      "text/plain": [
       "((109,), (109,), (109, 1))"
      ]
     },
     "execution_count": 40,
     "metadata": {},
     "output_type": "execute_result"
    }
   ],
   "source": [
    "# val_target_sample = np.array(val_target)[val_random==1]\n",
    "val_sample = np.array(val)[val_random==1]\n",
    "val_ids_sample = np.array(val_ids)[val_random==1]\n",
    "val_pred_probs_sample = val_pred_probs[val_random==1]\n",
    "val_sample.shape, val_ids_sample.shape, val_pred_probs_sample.shape"
   ]
  },
  {
   "cell_type": "code",
   "execution_count": 48,
   "metadata": {},
   "outputs": [
    {
     "name": "stdout",
     "output_type": "stream",
     "text": [
      "Finished building main df\n",
      "Finished bin 0.4\n",
      "Finished bin 0.6\n",
      "Finished bin 1.0\n"
     ]
    },
    {
     "data": {
      "text/html": [
       "<div>\n",
       "<style scoped>\n",
       "    .dataframe tbody tr th:only-of-type {\n",
       "        vertical-align: middle;\n",
       "    }\n",
       "\n",
       "    .dataframe tbody tr th {\n",
       "        vertical-align: top;\n",
       "    }\n",
       "\n",
       "    .dataframe thead th {\n",
       "        text-align: right;\n",
       "    }\n",
       "</style>\n",
       "<table border=\"1\" class=\"dataframe\">\n",
       "  <thead>\n",
       "    <tr style=\"text-align: right;\">\n",
       "      <th></th>\n",
       "      <th>Gender_F</th>\n",
       "      <th>Ethinicity_NW</th>\n",
       "      <th>AvgAge</th>\n",
       "      <th>Party_D</th>\n",
       "      <th>Chamber_H</th>\n",
       "      <th>AvgWordCount</th>\n",
       "    </tr>\n",
       "  </thead>\n",
       "  <tbody>\n",
       "    <tr>\n",
       "      <th>0.4</th>\n",
       "      <td>0.64</td>\n",
       "      <td>0.83</td>\n",
       "      <td>1.04</td>\n",
       "      <td>0.79</td>\n",
       "      <td>0.74</td>\n",
       "      <td>0.72</td>\n",
       "    </tr>\n",
       "    <tr>\n",
       "      <th>0.6</th>\n",
       "      <td>0.88</td>\n",
       "      <td>2.06</td>\n",
       "      <td>1.00</td>\n",
       "      <td>1.05</td>\n",
       "      <td>0.95</td>\n",
       "      <td>0.95</td>\n",
       "    </tr>\n",
       "    <tr>\n",
       "      <th>1.0</th>\n",
       "      <td>1.33</td>\n",
       "      <td>0.61</td>\n",
       "      <td>0.97</td>\n",
       "      <td>1.13</td>\n",
       "      <td>1.22</td>\n",
       "      <td>1.23</td>\n",
       "    </tr>\n",
       "  </tbody>\n",
       "</table>\n",
       "</div>"
      ],
      "text/plain": [
       "     Gender_F  Ethinicity_NW  AvgAge  Party_D  Chamber_H  AvgWordCount\n",
       "0.4      0.64           0.83    1.04     0.79       0.74          0.72\n",
       "0.6      0.88           2.06    1.00     1.05       0.95          0.95\n",
       "1.0      1.33           0.61    0.97     1.13       1.22          1.23"
      ]
     },
     "execution_count": 48,
     "metadata": {},
     "output_type": "execute_result"
    }
   ],
   "source": [
    "reload(explore_data)\n",
    "explore_data.check_bin_probs_distr(val_pred_probs_sample, val_ids_sample, descr)"
   ]
  },
  {
   "cell_type": "code",
   "execution_count": 65,
   "metadata": {},
   "outputs": [
    {
     "data": {
      "text/plain": [
       "990"
      ]
     },
     "execution_count": 65,
     "metadata": {},
     "output_type": "execute_result"
    }
   ],
   "source": [
    "len(train)"
   ]
  },
  {
   "cell_type": "code",
   "execution_count": 69,
   "metadata": {},
   "outputs": [
    {
     "data": {
      "text/plain": [
       "330"
      ]
     },
     "execution_count": 69,
     "metadata": {},
     "output_type": "execute_result"
    }
   ],
   "source": [
    "len(val)"
   ]
  },
  {
   "cell_type": "code",
   "execution_count": 89,
   "metadata": {},
   "outputs": [
    {
     "name": "stdout",
     "output_type": "stream",
     "text": [
      "\n",
      "Top 10 ngrams by differentiating score:\n",
      "the senator from \t 11.0\n",
      "mr president ask \t 7.8\n",
      "we should be \t 7.6\n",
      "printed in the \t 6.7\n",
      "consent that the \t 6.7\n",
      "unanimous consent that the \t 6.7\n",
      "and it has \t 6.0\n",
      "come up with \t 6.0\n",
      "chairman rise in \t 5.9\n",
      "mr chairman rise in \t 5.9\n"
     ]
    },
    {
     "data": {
      "text/html": [
       "<div>\n",
       "<style scoped>\n",
       "    .dataframe tbody tr th:only-of-type {\n",
       "        vertical-align: middle;\n",
       "    }\n",
       "\n",
       "    .dataframe tbody tr th {\n",
       "        vertical-align: top;\n",
       "    }\n",
       "\n",
       "    .dataframe thead th {\n",
       "        text-align: right;\n",
       "    }\n",
       "</style>\n",
       "<table border=\"1\" class=\"dataframe\">\n",
       "  <thead>\n",
       "    <tr style=\"text-align: right;\">\n",
       "      <th></th>\n",
       "      <th>0.4</th>\n",
       "      <th>0.6</th>\n",
       "      <th>1.0</th>\n",
       "    </tr>\n",
       "  </thead>\n",
       "  <tbody>\n",
       "    <tr>\n",
       "      <th>and it has</th>\n",
       "      <td>0.0</td>\n",
       "      <td>4.0</td>\n",
       "      <td>0.0</td>\n",
       "    </tr>\n",
       "    <tr>\n",
       "      <th>chairman rise in</th>\n",
       "      <td>3.0</td>\n",
       "      <td>1.0</td>\n",
       "      <td>15.0</td>\n",
       "    </tr>\n",
       "    <tr>\n",
       "      <th>come up with</th>\n",
       "      <td>0.0</td>\n",
       "      <td>4.0</td>\n",
       "      <td>0.0</td>\n",
       "    </tr>\n",
       "    <tr>\n",
       "      <th>consent that the</th>\n",
       "      <td>6.0</td>\n",
       "      <td>0.0</td>\n",
       "      <td>0.0</td>\n",
       "    </tr>\n",
       "    <tr>\n",
       "      <th>mr chairman rise in</th>\n",
       "      <td>3.0</td>\n",
       "      <td>1.0</td>\n",
       "      <td>15.0</td>\n",
       "    </tr>\n",
       "    <tr>\n",
       "      <th>mr president ask</th>\n",
       "      <td>10.0</td>\n",
       "      <td>1.0</td>\n",
       "      <td>1.0</td>\n",
       "    </tr>\n",
       "    <tr>\n",
       "      <th>printed in the</th>\n",
       "      <td>9.0</td>\n",
       "      <td>1.0</td>\n",
       "      <td>1.0</td>\n",
       "    </tr>\n",
       "    <tr>\n",
       "      <th>the senator from</th>\n",
       "      <td>22.0</td>\n",
       "      <td>2.0</td>\n",
       "      <td>1.0</td>\n",
       "    </tr>\n",
       "    <tr>\n",
       "      <th>unanimous consent that the</th>\n",
       "      <td>6.0</td>\n",
       "      <td>0.0</td>\n",
       "      <td>0.0</td>\n",
       "    </tr>\n",
       "    <tr>\n",
       "      <th>we should be</th>\n",
       "      <td>0.0</td>\n",
       "      <td>5.0</td>\n",
       "      <td>0.0</td>\n",
       "    </tr>\n",
       "  </tbody>\n",
       "</table>\n",
       "</div>"
      ],
      "text/plain": [
       "                             0.4  0.6   1.0\n",
       "and it has                   0.0  4.0   0.0\n",
       "chairman rise in             3.0  1.0  15.0\n",
       "come up with                 0.0  4.0   0.0\n",
       "consent that the             6.0  0.0   0.0\n",
       "mr chairman rise in          3.0  1.0  15.0\n",
       "mr president ask            10.0  1.0   1.0\n",
       "printed in the               9.0  1.0   1.0\n",
       "the senator from            22.0  2.0   1.0\n",
       "unanimous consent that the   6.0  0.0   0.0\n",
       "we should be                 0.0  5.0   0.0"
      ]
     },
     "execution_count": 89,
     "metadata": {},
     "output_type": "execute_result"
    }
   ],
   "source": [
    "reload(explore_data)\n",
    "explore_data.compare_ngrams(val, val_pred_probs)"
   ]
  },
  {
   "cell_type": "code",
   "execution_count": 41,
   "metadata": {},
   "outputs": [
    {
     "name": "stdout",
     "output_type": "stream",
     "text": [
      "\n",
      "In 0.4 bin top 10 ngrams:\n",
      "\n",
      "would like to\n",
      "the gentleman from\n",
      "unanimous consent that\n",
      "the federal government\n",
      "of my amendment\n",
      "in order to\n",
      "in connection with\n",
      "ask unanimous consent that\n",
      "ask unanimous consent\n",
      "to do so\n",
      "--------------------\n",
      "\n",
      "In 0.6 bin top 10 ngrams:\n",
      "\n",
      "the st lawrence seaway\n",
      "the st lawrence\n",
      "st lawrence seaway\n",
      "for health planning\n",
      "the insanity defense\n",
      "the gentleman from\n",
      "that there is\n",
      "st lawrence seaway development\n",
      "percent of the\n",
      "of health care\n",
      "--------------------\n",
      "\n",
      "In 1.0 bin top 10 ngrams:\n",
      "\n",
      "would like to\n",
      "armed services committee\n",
      "the gentleman from\n",
      "the soviet union\n",
      "the armed services committee\n",
      "the armed services\n",
      "the united states\n",
      "the office of\n",
      "one of the\n",
      "urge my colleagues\n",
      "--------------------\n"
     ]
    }
   ],
   "source": [
    "reload(explore_data)\n",
    "explore_data.ngrams_by_bin(val_sample, val_pred_probs_sample)"
   ]
  },
  {
   "cell_type": "code",
   "execution_count": 57,
   "metadata": {
    "scrolled": false
   },
   "outputs": [
    {
     "name": "stdout",
     "output_type": "stream",
     "text": [
      "15\n",
      "\n",
      "True positive (Predicted prob: 0.94):\n",
      "\n",
      "speakerid 97106680.0\n",
      "Female 1.0\n",
      "Ethnicity W\n",
      "State NY\n",
      "match exact\n",
      "date 19820126\n",
      "Age 47.0\n",
      "Full Name FERRARO, GERALDINE\n",
      "word_count 270\n",
      "Chamber H\n",
      "Congress 97\n",
      "speaker Ms. FERRARO\n",
      "Party D\n",
      "Age_lt_med 1.0\n",
      "NonWhite 0.0\n",
      "char_count 1748\n",
      "\n",
      " Mr. Speaker. January 22. 1918. commemorates an important and emotional day in Ukrainian history. It was on this day that the people of the Ukraine achieved their freedom and independence from their powerful neighbors. This freedom and independence. however. was short lived. By 1920 the Ukrainian independent state was crushed by a more powerful Soviet Government. As Americans. we direct our attention to the plight of the Ukrainian people for several reasons. First. the Ukraine is the largest nonRussian nation both within the Soviet Union and all of Eastern Europe. Second. as Americans. most of us have not been subjected to harassment. arrest or persecution because of our personal beliefs. The United States has the right to question Soviet denial of fundamental freedoms to Ukrainian citizens under the 1975 Helsinki agreement. Third. after decades of occupation. the people of the Ukraine have maintained their strong love and desire for freedom and independence. The Ukrainian people may only be strengthened by the continued attention of the free world leaders and press. Only when Soviet policies are revealed and repudiated by the rest of the civilized world. will these authorities make some concessions to humanitarian principles.. The recent events in Poland. as well as the intimidation of the members of the Ukrainian Helsinki Monitoring Group. have shown time and again Soviet brutalities in the treatment of the peoples whose homelands they have invaded. I. therefore. urge my colleagues to join with other freedom loving peoples throughout the world in support of the successful efforts of the Ukrainian people to resist russification policies. American support for Ukrainian independence is traditionally important and right.e\n",
      "--------------------\n",
      "15\n",
      "\n",
      "True negative (Predicted prob: 0.06):\n",
      "\n",
      "speakerid 97114621.0\n",
      "Female 0.0\n",
      "Ethnicity W\n",
      "State WV\n",
      "match exact\n",
      "date 19810408\n",
      "Age 65.0\n",
      "Full Name BYRD, ROBERT\n",
      "word_count 87\n",
      "Chamber S\n",
      "Congress 97\n",
      "speaker Mr. ROBERT C. BYRD\n",
      "Party D\n",
      "Age_lt_med 0.0\n",
      "NonWhite 0.0\n",
      "char_count 505\n",
      "\n",
      " Mr. President. I thank my friend for his expression of interest and will say that his words of approbation are heartwarming. This is the 37th speech on the U.S. Senate that I have made. beginning I anticipate that I will probably continue throughout this year. I* do this in anticipation of the forthcoming 200th anniversary of the U.S. Senate which will be commemorated in 1989. I again thank the distinguished Senator. Mr. President. I ask that the time of this colloquy will be charged against my time.\n",
      "--------------------\n",
      "1\n",
      "\n",
      "False positive (Predicted prob: 0.94):\n",
      "\n",
      "speakerid 97109790.0\n",
      "Female 0.0\n",
      "Ethnicity W\n",
      "State IL\n",
      "match exact\n",
      "date 19820728\n",
      "Age 54.0\n",
      "Full Name SIMON, PAUL\n",
      "word_count 346\n",
      "Chamber H\n",
      "Congress 97\n",
      "speaker Mr. SIMON\n",
      "Party D\n",
      "Age_lt_med 0.0\n",
      "NonWhite 0.0\n",
      "char_count 2178\n",
      "\n",
      " Mr. Speaker. Joy Simonson has served as the first Executive Director of the National Advisory Council on Womens Education Programs since its inception in 1975. She has served capably under Presidents Ford. Carter. and Reagan in administering the policy and research activities of the Council. which evaluates the status of women and girls in education. The Council was established by Congress in 1974 with the declaration. Educational programs in the United States * * * are frequently inequitable as such programs relate to women and frequently limit the full participation of all individuals in American society. Through the able efforts of Simonson and Council members appointed by Presidents Ford and Carter. the National Advisory Council has focused on the progress and problems of women in education. In the fall of 1981. the Council produced a comprehensive review of women in education entitled \"Title IX. The Half Full. Half Empty Glass.\" This report is just one example of the important role the Council and its staff have played in advising and informing both the executive branch and Congress. It has been a nonpartisan effort focused on what I hope remains a nonpartisan issue: equity in education. Earlier this month. Joy Simonson was removed from her position as Executive Director of the Council by newly appointed Council members. Through her continuous service under both Republican and Democratic administrations. her competency and professionalism have never been questioned. Her advocacy of equity in education is also not in doubt. As chairman of the Postsecondary Education Subcommittee. I know Congress and those who agree that opportunity is an issue for all people. have lost a resource at the Advisory Council. I hope the Council continues in the thoughtful and balanced direction set by earlier members and by its first Executive Director. Joy Simonson. I have known Joy Simonson and worked with her. She represents ability. commonsense. dedicationall the things we should want in public service. and she has been rewarded with dismissal. Her dismissal is not a reflection on her. but on those smallminded individuals who chose to ignore the record.e\n",
      "--------------------\n",
      "2\n",
      "\n",
      "False negative (Predicted prob: 0.06):\n",
      "\n",
      "speakerid 97109311.0\n",
      "Female 1.0\n",
      "Ethnicity W\n",
      "State KS\n",
      "match exact\n",
      "date 19810724\n",
      "Age 50.0\n",
      "Full Name KASSEBAUM, NANCY\n",
      "word_count 84\n",
      "Chamber S\n",
      "Congress 97\n",
      "speaker Mrs. KASSEBAUM\n",
      "Party R\n",
      "Age_lt_med 1.0\n",
      "NonWhite 0.0\n",
      "char_count 484\n",
      "\n",
      " Mr. President. I thank the Senator from Wisconsin. I Join him in saying that I do think Chairman Volcker has certainly led the Federal Reserve Board with extraordinary heroism under growing criticism. but I think. as the Senator from Wisconsin points out. we are In many ways dealing with a tax bill which may well compound rather than alleviate the high interest rates under which we have been operating. I thank the Senator. Mr. President. I yield back any further time that I have.\n",
      "--------------------\n"
     ]
    }
   ],
   "source": [
    "reload(explore_data)\n",
    "explore_data.print_mispredictions(val_target, val_pred_probs, val, val_ids, descr)"
   ]
  },
  {
   "cell_type": "code",
   "execution_count": null,
   "metadata": {},
   "outputs": [],
   "source": []
  }
 ],
 "metadata": {
  "kernelspec": {
   "display_name": "Python 3",
   "language": "python",
   "name": "python3"
  },
  "language_info": {
   "codemirror_mode": {
    "name": "ipython",
    "version": 3
   },
   "file_extension": ".py",
   "mimetype": "text/x-python",
   "name": "python",
   "nbconvert_exporter": "python",
   "pygments_lexer": "ipython3",
   "version": "3.5.2"
  }
 },
 "nbformat": 4,
 "nbformat_minor": 2
}
