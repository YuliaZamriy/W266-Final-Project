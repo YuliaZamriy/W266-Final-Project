{
 "cells": [
  {
   "cell_type": "code",
   "execution_count": 1,
   "metadata": {},
   "outputs": [
    {
     "data": {
      "text/html": [
       "<style>.container { width:100% !important; }</style>"
      ],
      "text/plain": [
       "<IPython.core.display.HTML object>"
      ]
     },
     "metadata": {},
     "output_type": "display_data"
    }
   ],
   "source": [
    "# increase cell width\n",
    "from IPython.core.display import display, HTML\n",
    "display(HTML(\"<style>.container { width:100% !important; }</style>\"))"
   ]
  },
  {
   "cell_type": "markdown",
   "metadata": {},
   "source": [
    "Inspiration for code:\n",
    "\n",
    "- https://developers.google.com/machine-learning/guides/text-classification/\n",
    "- https://github.com/google/eng-edu/blob/master/ml/guides/text_classification/load_data.py"
   ]
  },
  {
   "cell_type": "code",
   "execution_count": 2,
   "metadata": {},
   "outputs": [],
   "source": [
    "from __future__ import absolute_import\n",
    "from __future__ import division\n",
    "from __future__ import print_function\n",
    "\n",
    "import os\n",
    "import random\n",
    "import time\n",
    "import pickle\n",
    "\n",
    "import numpy as np\n",
    "import pandas as pd\n",
    "\n",
    "from importlib import reload\n",
    "\n",
    "import scipy.sparse"
   ]
  },
  {
   "cell_type": "code",
   "execution_count": 3,
   "metadata": {},
   "outputs": [],
   "source": [
    "from w266_common import utils, vocabulary\n",
    "from helpers import load_data\n",
    "from helpers import explore_data\n",
    "from helpers import preprocess_data"
   ]
  },
  {
   "cell_type": "markdown",
   "metadata": {},
   "source": [
    "## Load the data"
   ]
  },
  {
   "cell_type": "code",
   "execution_count": 10,
   "metadata": {},
   "outputs": [
    {
     "data": {
      "text/plain": [
       "'/home/yulia/final-project/Classification'"
      ]
     },
     "execution_count": 10,
     "metadata": {},
     "output_type": "execute_result"
    }
   ],
   "source": [
    "pwd"
   ]
  },
  {
   "cell_type": "code",
   "execution_count": 10,
   "metadata": {},
   "outputs": [],
   "source": [
    "data_path = '/home/yulia/final-project/data/raw/hein-daily'"
   ]
  },
  {
   "cell_type": "code",
   "execution_count": 11,
   "metadata": {},
   "outputs": [
    {
     "name": "stdout",
     "output_type": "stream",
     "text": [
      "\n",
      "File speeches_097.txt has 249718612 characters\n",
      "and 283399 speeches\n",
      "\n",
      "Speeches list has 283399 speeches\n",
      "\n",
      "File speeches_098.txt has 252071246 characters\n",
      "and 280289 speeches\n",
      "\n",
      "Speeches list has 563688 speeches\n",
      "\n",
      "File speeches_099.txt has 265326480 characters\n",
      "and 281528 speeches\n",
      "\n",
      "Speeches list has 845216 speeches\n",
      "\n",
      "File speeches_100.txt has 270610780 characters\n",
      "and 276162 speeches\n",
      "\n",
      "Speeches list has 1121378 speeches\n",
      "\n",
      "File speeches_101.txt has 261004871 characters\n",
      "and 251217 speeches\n",
      "\n",
      "Speeches list has 1372595 speeches\n",
      "\n",
      "File speeches_102.txt has 271650630 characters\n",
      "and 243092 speeches\n",
      "\n",
      "Speeches list has 1615687 speeches\n",
      "\n",
      "File speeches_103.txt has 249908822 characters\n",
      "and 235974 speeches\n",
      "\n",
      "Speeches list has 1851661 speeches\n",
      "\n",
      "File speeches_104.txt has 280355367 characters\n",
      "and 274985 speeches\n",
      "\n",
      "Speeches list has 2126646 speeches\n",
      "\n",
      "File speeches_105.txt has 235226903 characters\n",
      "and 209267 speeches\n",
      "\n",
      "Speeches list has 2335913 speeches\n",
      "\n",
      "File speeches_106.txt has 243801385 characters\n",
      "and 209648 speeches\n",
      "\n",
      "Speeches list has 2545561 speeches\n",
      "\n",
      "File speeches_107.txt has 214724318 characters\n",
      "and 180726 speeches\n",
      "\n",
      "Speeches list has 2726287 speeches\n",
      "\n",
      "File speeches_108.txt has 237009565 characters\n",
      "and 200159 speeches\n",
      "\n",
      "Speeches list has 2926446 speeches\n",
      "\n",
      "File speeches_109.txt has 226698889 characters\n",
      "and 187647 speeches\n",
      "\n",
      "Speeches list has 3114093 speeches\n",
      "\n",
      "File speeches_110.txt has 242773059 characters\n",
      "and 211367 speeches\n",
      "\n",
      "Speeches list has 3325460 speeches\n",
      "\n",
      "File speeches_111.txt has 183499959 characters\n",
      "and 154400 speeches\n",
      "\n",
      "Speeches list has 3479860 speeches\n",
      "\n",
      "File speeches_112.txt has 174117603 characters\n",
      "and 145901 speeches\n",
      "\n",
      "Speeches list has 3625761 speeches\n",
      "\n",
      "File speeches_113.txt has 153424011 characters\n",
      "and 128149 speeches\n",
      "\n",
      "Speeches list has 3753910 speeches\n",
      "\n",
      "File speeches_114.txt has 130969173 characters\n",
      "and 112291 speeches\n",
      "\n",
      "Speeches list has 3866201 speeches\n"
     ]
    }
   ],
   "source": [
    "reload(load_data)\n",
    "all_speech_ids, all_speeches = load_data.load_speech_data(data_path)"
   ]
  },
  {
   "cell_type": "code",
   "execution_count": 12,
   "metadata": {},
   "outputs": [
    {
     "data": {
      "text/plain": [
       "(3866201, 3866201)"
      ]
     },
     "execution_count": 12,
     "metadata": {},
     "output_type": "execute_result"
    }
   ],
   "source": [
    "len(all_speech_ids), len(all_speeches)"
   ]
  },
  {
   "cell_type": "markdown",
   "metadata": {},
   "source": [
    "## Create target labels"
   ]
  },
  {
   "cell_type": "code",
   "execution_count": null,
   "metadata": {},
   "outputs": [],
   "source": [
    "# OPEN descr FROM A SAVED FILE (if it was previously saved)\n",
    "outdata_path = '/home/yulia/final-project/Classification/data'\n",
    "descr = pickle.load(open(os.path.join(outdata_path, 'descr.p'), 'rb'))"
   ]
  },
  {
   "cell_type": "code",
   "execution_count": 4,
   "metadata": {},
   "outputs": [
    {
     "name": "stdout",
     "output_type": "stream",
     "text": [
      "Random congressperson: 1030122784\n",
      "date 19931120\n",
      "char_count 1677\n",
      "word_count 274\n",
      "speakerid 103109801.0\n",
      "Party R\n",
      "Congress 103\n",
      "Chamber S\n",
      "State WY\n",
      "Ethnicity W\n",
      "Age 63.0\n",
      "Age_lt_med 0.0\n",
      "NonWhite 0.0\n",
      "Female 0.0\n",
      "speaker Mr. SIMPSON\n",
      "Full Name SIMPSON, ALAN\n",
      "match fuzzy\n",
      "\n",
      "It took 87.0 seconds to create the dictionary\n"
     ]
    }
   ],
   "source": [
    "reload(load_data)\n",
    "start_time = time.time()\n",
    "# taking a 30% sample of the full description file\n",
    "descr = load_data.load_descr_data('/home/yulia/final-project/data/QA/full_descr.txt', p=0.3)\n",
    "print(\"\\nIt took {0:.1f} seconds to create the dictionary\".format(time.time()-start_time))"
   ]
  },
  {
   "cell_type": "code",
   "execution_count": 5,
   "metadata": {},
   "outputs": [
    {
     "data": {
      "text/plain": [
       "0.2970405535975054"
      ]
     },
     "execution_count": 5,
     "metadata": {},
     "output_type": "execute_result"
    }
   ],
   "source": [
    "# check if sampling worked\n",
    "len(list(descr.keys()))/2914464"
   ]
  },
  {
   "cell_type": "code",
   "execution_count": 13,
   "metadata": {},
   "outputs": [
    {
     "data": {
      "text/plain": [
       "(3866201, 3866201, 3866201, 3866201, 3866201, 3866201)"
      ]
     },
     "execution_count": 13,
     "metadata": {},
     "output_type": "execute_result"
    }
   ],
   "source": [
    "gender, ethnicity, age, party, chamber, congress = load_data.create_target_labels(all_speech_ids, descr)\n",
    "len(gender), len(ethnicity), len(age), len(party), len(chamber), len(congress)"
   ]
  },
  {
   "cell_type": "markdown",
   "metadata": {},
   "source": [
    "### Save descr dictionary"
   ]
  },
  {
   "cell_type": "code",
   "execution_count": 7,
   "metadata": {},
   "outputs": [],
   "source": [
    "pickle.dump(descr, open(os.path.join(outdata_path, 'descr.p'), 'wb'))"
   ]
  },
  {
   "cell_type": "code",
   "execution_count": 8,
   "metadata": {},
   "outputs": [],
   "source": [
    "descr = pickle.load(open(os.path.join(outdata_path, 'descr.p'), 'rb'))"
   ]
  },
  {
   "cell_type": "markdown",
   "metadata": {},
   "source": [
    "### Data QA"
   ]
  },
  {
   "cell_type": "code",
   "execution_count": 14,
   "metadata": {},
   "outputs": [
    {
     "name": "stdout",
     "output_type": "stream",
     "text": [
      "\n",
      " Gender\n",
      "Overall speech counts:\n"
     ]
    },
    {
     "data": {
      "text/html": [
       "<div>\n",
       "<style scoped>\n",
       "    .dataframe tbody tr th:only-of-type {\n",
       "        vertical-align: middle;\n",
       "    }\n",
       "\n",
       "    .dataframe tbody tr th {\n",
       "        vertical-align: top;\n",
       "    }\n",
       "\n",
       "    .dataframe thead th {\n",
       "        text-align: right;\n",
       "    }\n",
       "</style>\n",
       "<table border=\"1\" class=\"dataframe\">\n",
       "  <thead>\n",
       "    <tr style=\"text-align: right;\">\n",
       "      <th></th>\n",
       "      <th>Category</th>\n",
       "      <th>Count</th>\n",
       "    </tr>\n",
       "  </thead>\n",
       "  <tbody>\n",
       "    <tr>\n",
       "      <th>0</th>\n",
       "      <td>-1</td>\n",
       "      <td>3000487</td>\n",
       "    </tr>\n",
       "    <tr>\n",
       "      <th>1</th>\n",
       "      <td>0</td>\n",
       "      <td>795961</td>\n",
       "    </tr>\n",
       "    <tr>\n",
       "      <th>2</th>\n",
       "      <td>1</td>\n",
       "      <td>69753</td>\n",
       "    </tr>\n",
       "  </tbody>\n",
       "</table>\n",
       "</div>"
      ],
      "text/plain": [
       "<IPython.core.display.HTML object>"
      ]
     },
     "metadata": {},
     "output_type": "display_data"
    },
    {
     "name": "stdout",
     "output_type": "stream",
     "text": [
      "Target group number of speeches by party:\n",
      "A: \t 0\n",
      "D: \t 50612\n",
      "I: \t 0\n",
      "N: \t 0\n",
      "NA: \t -3000487\n",
      "P: \t 0\n",
      "R: \t 19141\n",
      "\n",
      " Ethnicity\n",
      "Overall speech counts:\n"
     ]
    },
    {
     "data": {
      "text/html": [
       "<div>\n",
       "<style scoped>\n",
       "    .dataframe tbody tr th:only-of-type {\n",
       "        vertical-align: middle;\n",
       "    }\n",
       "\n",
       "    .dataframe tbody tr th {\n",
       "        vertical-align: top;\n",
       "    }\n",
       "\n",
       "    .dataframe thead th {\n",
       "        text-align: right;\n",
       "    }\n",
       "</style>\n",
       "<table border=\"1\" class=\"dataframe\">\n",
       "  <thead>\n",
       "    <tr style=\"text-align: right;\">\n",
       "      <th></th>\n",
       "      <th>Category</th>\n",
       "      <th>Count</th>\n",
       "    </tr>\n",
       "  </thead>\n",
       "  <tbody>\n",
       "    <tr>\n",
       "      <th>0</th>\n",
       "      <td>-1</td>\n",
       "      <td>3000487</td>\n",
       "    </tr>\n",
       "    <tr>\n",
       "      <th>1</th>\n",
       "      <td>0</td>\n",
       "      <td>790030</td>\n",
       "    </tr>\n",
       "    <tr>\n",
       "      <th>2</th>\n",
       "      <td>1</td>\n",
       "      <td>75684</td>\n",
       "    </tr>\n",
       "  </tbody>\n",
       "</table>\n",
       "</div>"
      ],
      "text/plain": [
       "<IPython.core.display.HTML object>"
      ]
     },
     "metadata": {},
     "output_type": "display_data"
    },
    {
     "name": "stdout",
     "output_type": "stream",
     "text": [
      "Target group number of speeches by party:\n",
      "A: \t 8\n",
      "D: \t 67277\n",
      "I: \t 23\n",
      "N: \t 97\n",
      "NA: \t -3000487\n",
      "P: \t 18\n",
      "R: \t 8261\n",
      "\n",
      " Age\n",
      "Overall speech counts:\n"
     ]
    },
    {
     "data": {
      "text/html": [
       "<div>\n",
       "<style scoped>\n",
       "    .dataframe tbody tr th:only-of-type {\n",
       "        vertical-align: middle;\n",
       "    }\n",
       "\n",
       "    .dataframe tbody tr th {\n",
       "        vertical-align: top;\n",
       "    }\n",
       "\n",
       "    .dataframe thead th {\n",
       "        text-align: right;\n",
       "    }\n",
       "</style>\n",
       "<table border=\"1\" class=\"dataframe\">\n",
       "  <thead>\n",
       "    <tr style=\"text-align: right;\">\n",
       "      <th></th>\n",
       "      <th>Category</th>\n",
       "      <th>Count</th>\n",
       "    </tr>\n",
       "  </thead>\n",
       "  <tbody>\n",
       "    <tr>\n",
       "      <th>0</th>\n",
       "      <td>-1</td>\n",
       "      <td>3000487</td>\n",
       "    </tr>\n",
       "    <tr>\n",
       "      <th>1</th>\n",
       "      <td>0</td>\n",
       "      <td>563747</td>\n",
       "    </tr>\n",
       "    <tr>\n",
       "      <th>2</th>\n",
       "      <td>1</td>\n",
       "      <td>301967</td>\n",
       "    </tr>\n",
       "  </tbody>\n",
       "</table>\n",
       "</div>"
      ],
      "text/plain": [
       "<IPython.core.display.HTML object>"
      ]
     },
     "metadata": {},
     "output_type": "display_data"
    },
    {
     "name": "stdout",
     "output_type": "stream",
     "text": [
      "Target group number of speeches by party:\n",
      "A: \t 8\n",
      "D: \t 149340\n",
      "I: \t 123\n",
      "N: \t 97\n",
      "NA: \t -3000487\n",
      "P: \t 18\n",
      "R: \t 152381\n"
     ]
    }
   ],
   "source": [
    "reload(explore_data)\n",
    "for i in [(gender, \"Gender\"), (ethnicity, \"Ethnicity\"), (age, \"Age\")]:\n",
    "    print(\"\\n\", i[1])\n",
    "    print(\"Overall speech counts:\")\n",
    "    explore_data.get_counts(i[0])\n",
    "    print(\"Target group number of speeches by party:\")\n",
    "    explore_data.get_counts_by_category(i[0], party)"
   ]
  },
  {
   "cell_type": "code",
   "execution_count": 17,
   "metadata": {},
   "outputs": [
    {
     "name": "stdout",
     "output_type": "stream",
     "text": [
      "Speaker information\n",
      "date 19830524\n",
      "char_count 2004\n",
      "word_count 346\n",
      "speakerid 98108520.0\n",
      "Party R\n",
      "Congress 98\n",
      "Chamber H\n",
      "State RI\n",
      "Ethnicity W\n",
      "Age 37.0\n",
      "Age_lt_med 1.0\n",
      "NonWhite 0.0\n",
      "Female 1.0\n",
      "speaker Mrs. SCHNEIDER\n",
      "Full Name SCHNEIDER, CLAUDINE\n",
      "match fuzzy\n",
      "\n",
      "Mr. Speaker. today the House is voting on H.R. 2807. a bill that sets a $93.2 million authorization relling for 1982 for title III of the Older Americans Act and authorizes $6.8 million for fiscal year 1982 reimbursement purposes. Title III. as you know. provides both congregate and home delivered nutritional services to millions of seniors throughout the country. In my own State of Rhode Island for instance. in 1982. 54 meal sites served over 1 million meals to seniors over the age of 60. In visiting numerous meal sites throughout the State. I have been continually impressed by the quality of food served. the level of competence displayed by the site workers. and the large number of seniors who rely on the program for their one square meal a day. For those who question the voluntary contribution scheme. let me Inform you that more seniors that not contribute the 50 cents or $1.25 that t:.y are encouraged to drop in the hat prior to each meal. Moreover. I find it comforting to know that those truly impoverished seniors are able to receive a nutritional meal at least once daily without any questions asked. From my experience. these meal sites provide seniors with not only a wellbalanced diet. once a day. 5 days a week. but also allows them an opportunity to get out of their homes and socialize. For many seniors. the meal site provides the only opportunity to gather with familiar faces and find comfort in the company of new fhund friends. While I understand the concern of many of my colleagues in calling for the need to cut the fat from many of our Federal expenditures. I strongly support the Federal commitment to the senior meals program. I was disturbed to learn during recent hearings of the Select Committee on Aging that the administration was planning to reduce congregate meals by some $28 million and home delivered meals by $3.8 million. I urge my colleagues to support the increased levels of funding to continue the good work of these valuable senior meals programs.e\n"
     ]
    }
   ],
   "source": [
    "reload(explore_data)\n",
    "explore_data.random_speech(all_speeches, all_speech_ids, gender, descr)"
   ]
  },
  {
   "cell_type": "code",
   "execution_count": 20,
   "metadata": {},
   "outputs": [
    {
     "name": "stdout",
     "output_type": "stream",
     "text": [
      "Speaker information\n",
      "date 19930223\n",
      "char_count 134\n",
      "word_count 28\n",
      "speakerid 103112360.0\n",
      "Party D\n",
      "Congress 103\n",
      "Chamber H\n",
      "State MO\n",
      "Ethnicity B\n",
      "Age 63.0\n",
      "Age_lt_med 0.0\n",
      "NonWhite 1.0\n",
      "Female 0.0\n",
      "speaker Mr. CLAY\n",
      "Full Name CLAY, WILLIAM\n",
      "match exact\n",
      "\n",
      "Mr. Speaker. I object to the vote on the ground that a quorum is not present and make the point of order that a quorum is not present.\n"
     ]
    }
   ],
   "source": [
    "explore_data.random_speech(all_speeches, all_speech_ids, ethnicity, descr)"
   ]
  },
  {
   "cell_type": "code",
   "execution_count": 22,
   "metadata": {},
   "outputs": [
    {
     "name": "stdout",
     "output_type": "stream",
     "text": [
      "Speaker information\n",
      "date 20021001\n",
      "char_count 5758\n",
      "word_count 969\n",
      "speakerid 107116070.0\n",
      "Party R\n",
      "Congress 107\n",
      "Chamber H\n",
      "State IN\n",
      "Ethnicity W\n",
      "Age 52.0\n",
      "Age_lt_med 1.0\n",
      "NonWhite 0.0\n",
      "Female 0.0\n",
      "speaker Mr. SOUDER\n",
      "Full Name SOUDER, MARK\n",
      "match exact\n",
      "\n",
      "Mr. Speaker. we have many. many difficult and complex issues that we each face every day. We just heard from the gentlewoman from Ohio . my friend and colleague. about war. Most of us spend probably the majority of our time. or at least the largest percentage of our time. dealing with economic growth and recovery. jobs. and what we need to do to help attract or keep companies in our district. and the regulatory issues. and many other things. We also work regularly on other issues that come up. For example. I am chairing a hearing Thursday on the West Nile virus which has particularly hit my hometown hard. We just had an hour debate on moral issues. But in addition to these kinds of issues. we deal inside the Federal budget with an incredible array of issues. I would like to address one tonight that is in danger of being overlooked as we address the big issues that are in front of Congress. Former President Theodore Roosevelt once said: \"Nothing short of defending this country during wartime.\" which is now. \"compares in importance with the great task of leaving this land a better land for our descendants than it is for us.\" His legacy was the National Park system. I want to talk a little bit about the financial pressures on our National Park system. This legacy is important. It is not just what we are doing today with the different pieces of legislation. but what are we going to leave for future generations. what are they going to remember America by. are they going to have the natural and cultural beauty. The Park Service manages 385 sites. has more than 83 million acres of land to manage. habitat for 168 threatened and endangered species. more than 80 million museum artifacts. some of the greatest collections of museum artifacts than other museums combined. for the most part. 1.5 million archeological sites. and 26.000 historic structures. Now. the problem that we have is that we have a shortfall of $600 million just to keep the maintenance backlog covered. which amounts to 32 percent of what the Park Service needs to fulfill its mission. and we are falling more and more deeply behind. What I wanted to address in addition to the very specific thing that a number of us have requested is that the conference committee. and the gentleman from Georgia . who just a little bit ago and I were debating on another matter have cosponsored legislation or efforts to raise the National Parks funding to $280 million. We were successful in getting an additional $118.5 million. working with the gentleman from New Mexico and the gentleman from Washington . the chairman and ranking member. And the wonderful people on the Interior Committee on Appropriations actually boosted the park funding over the Presidents request. However. the Senate bill is much less. and we need to make sure we hold that House position. Let me give an illustration of why this is so important. Earlier this month. this House passed these boundary adjustments for the Pembertons headquarters in Vicksburg National. Military Park. the George Washington Birthplace National Monument. the Santa Monica Mountains National Recreation area. the Golden Gate Recreation Area boundary adjustment. and the Allegheny Portage. Pennsylvania Railroad National Historical Park. We also did land acquisition at the Salt Lake City Museum of Natural History. Salt River Bay St. Croix. Virgin Islands and Timpanogos Cave National Monument Grand Teton land exchange. James V. Hansen Shoshone National Trail. the Mcloughlin House Preservation and the William Jefferson Clinton Birthplace. We also passed in this House a study for feasibility and inclusion of the Miami Circle site. a very expensive site. by the way. in the city of Miami. but worthwhile. Gateway Communities Cooperation. Mount Nebo Wilderness Boundary. and Bainbridge Island Japanese American Memorial. We also voted to establish Victims of Terrorist Attacks Memorial in Washington. D.C. We also asked for more funding for Historically Black Colleges and Universities. historic preservation. which could be as high as $120 million from 2003 to 2007. and we passed the Vancouver. Washington National Historic Reserve Development costs from 5 million to $25 million. Tonight. alone. on Monday night we passed the Cedar Creek Battlefield and Belle Grove Plantation National Historical Park Act. We passed the Spirit Lake and Twin Lakes Land Adjustment Act. We passed the Red Rock Canyon National Conservation Area Protection Enhancement Act of 2002. We passed tonight the Southern Campaign of the Revolution Heritage Area Study Act. We passed tonight the Andersonville National Historic Site Boundary Adjustment Act. E] 2330 We also have passed the Civil War Battlefield Preservation Act to preserve Civil War battlefields. These are -all worthy projects. but how can we stand here and pass bill after bill after bill after bill after bill to go into the National Park Service. and then say we have no more money. when we have a backlog of $600 million? There has to be some sort of accountability within this Congress. I supported these bills. I was here tonight and let them go through on unanimous consent. But then I have an obligation to say we are going to fund these efforts. because otherwise we are pulling the wool over the Americans eyes. We cannot keep saying that we are going to do this new park. this new park. this new heritage area. we are going to maintain Glacier and Yellowstone National Parks. we are going to make sure the campgrounds are up to snuff. we are going to make sure there are decent roads. we are going to make sure the resources are protected. and then not do the funding. We need to make sure we hold the House funding level. It is a critical part of our national heritage.\n"
     ]
    }
   ],
   "source": [
    "explore_data.random_speech(all_speeches, all_speech_ids, age, descr)"
   ]
  },
  {
   "cell_type": "markdown",
   "metadata": {},
   "source": [
    "# Gender Model"
   ]
  },
  {
   "cell_type": "markdown",
   "metadata": {},
   "source": [
    "## Split into train, validate, test"
   ]
  },
  {
   "cell_type": "markdown",
   "metadata": {},
   "source": [
    "### Filter on party if necessary"
   ]
  },
  {
   "cell_type": "code",
   "execution_count": 28,
   "metadata": {},
   "outputs": [],
   "source": [
    "reload(load_data)\n",
    "# all_speeches_d, all_speech_ids_d, gender_d = load_data.filter_data(all_speeches, all_speech_ids, gender, party, 'D')\n",
    "# len(all_speeches_d), len(all_speech_ids_d), len(gender_d)"
   ]
  },
  {
   "cell_type": "code",
   "execution_count": 37,
   "metadata": {},
   "outputs": [
    {
     "data": {
      "text/html": [
       "<div>\n",
       "<style scoped>\n",
       "    .dataframe tbody tr th:only-of-type {\n",
       "        vertical-align: middle;\n",
       "    }\n",
       "\n",
       "    .dataframe tbody tr th {\n",
       "        vertical-align: top;\n",
       "    }\n",
       "\n",
       "    .dataframe thead th {\n",
       "        text-align: right;\n",
       "    }\n",
       "</style>\n",
       "<table border=\"1\" class=\"dataframe\">\n",
       "  <thead>\n",
       "    <tr style=\"text-align: right;\">\n",
       "      <th></th>\n",
       "      <th>Category</th>\n",
       "      <th>Count</th>\n",
       "    </tr>\n",
       "  </thead>\n",
       "  <tbody>\n",
       "    <tr>\n",
       "      <th>0</th>\n",
       "      <td>0</td>\n",
       "      <td>103864</td>\n",
       "    </tr>\n",
       "    <tr>\n",
       "      <th>1</th>\n",
       "      <td>1</td>\n",
       "      <td>2172</td>\n",
       "    </tr>\n",
       "  </tbody>\n",
       "</table>\n",
       "</div>"
      ],
      "text/plain": [
       "<IPython.core.display.HTML object>"
      ]
     },
     "metadata": {},
     "output_type": "display_data"
    }
   ],
   "source": [
    "reload(explore_data)\n",
    "# explore_data.get_counts(gender_d)"
   ]
  },
  {
   "cell_type": "markdown",
   "metadata": {},
   "source": [
    "### Split into train/val/test"
   ]
  },
  {
   "cell_type": "markdown",
   "metadata": {},
   "source": [
    "#### Split by congress"
   ]
  },
  {
   "cell_type": "code",
   "execution_count": 9,
   "metadata": {},
   "outputs": [],
   "source": [
    "# reload(preprocess_data)\n",
    "# train, train_ids, train_target, val, val_ids, val_target, test, test_ids, test_target = preprocess_data.split_by_congress(all_speeches, all_speech_ids, gender, descr, congress)"
   ]
  },
  {
   "cell_type": "code",
   "execution_count": 15,
   "metadata": {},
   "outputs": [
    {
     "name": "stdout",
     "output_type": "stream",
     "text": [
      "Training split: 28904 ones and 28904 zeroes\n",
      "Training speech list size: 57808\n",
      "Training target list size: 57808\n",
      "Validation split: 9634 ones and 9634 zeroes\n",
      "Validation speech list size: 19268\n",
      "Validation target list size: 19268\n",
      "Test split: 9636 ones and 9636 zeroes\n",
      "Test speech list size: 19272\n",
      "Test target list size: 19272\n"
     ]
    }
   ],
   "source": [
    "reload(preprocess_data)\n",
    "train, train_ids, train_target, val, val_ids, val_target, test, test_ids, test_target = preprocess_data.split_train_val_test(all_speeches, all_speech_ids, gender, descr)"
   ]
  },
  {
   "cell_type": "code",
   "execution_count": 16,
   "metadata": {},
   "outputs": [
    {
     "data": {
      "text/plain": [
       "(28904, 9634, 9636)"
      ]
     },
     "execution_count": 16,
     "metadata": {},
     "output_type": "execute_result"
    }
   ],
   "source": [
    "sum(train_target), sum(val_target), sum(test_target)"
   ]
  },
  {
   "cell_type": "code",
   "execution_count": 17,
   "metadata": {},
   "outputs": [
    {
     "data": {
      "text/plain": [
       "21579"
      ]
     },
     "execution_count": 17,
     "metadata": {},
     "output_type": "execute_result"
    }
   ],
   "source": [
    "# number of speeches under 30 words\n",
    "sum(np.array(gender)==1) - (sum(train_target) + sum(val_target) + sum(test_target))"
   ]
  },
  {
   "cell_type": "code",
   "execution_count": 26,
   "metadata": {},
   "outputs": [
    {
     "name": "stdout",
     "output_type": "stream",
     "text": [
      "Speaker information\n",
      "date 19970430\n",
      "char_count 2766\n",
      "word_count 444\n",
      "speakerid 105115120.0\n",
      "Party R\n",
      "Congress 105\n",
      "Chamber H\n",
      "State OH\n",
      "Ethnicity W\n",
      "Age 47.0\n",
      "Age_lt_med 1.0\n",
      "NonWhite 0.0\n",
      "Female 1.0\n",
      "speaker Ms. PRYCE of Ohio\n",
      "Full Name PRYCE, DEBORAH\n",
      "match exact\n",
      "\n",
      "Mr. Speaker. I thank the distinguished vice chairman of the committee. the gentleman from California for yielding me this time. Mr. Speaker. I- rise to express my support for both this open rule and the Housing Opportunity Responsibility Act. First. I want to commend the chairman. the gentleman from New York . and the Subcommittee on Housing and Community Opportunity of the Committee on Banking and Financial Services for crafting legislation that follows our basic principles of. No. 1. making the American dream of affordable housing more attainable. No. 2. empowering individuals to improve their lives. No. 3. returning more decisionmaking authority to States and localities where it belongs. Mr. Speaker. H.R. 2 does all of these things. fundamentally changing the public housing in section 8 rental assistance programs and allowing the Federal Government to support local communities in their decisions. Under this bill. the emphasis is placed on providing the most service for the least cost. and tailoring Federal assistance to fit local needs. so the limited Federal resources are invested in ways that are likely to achieve the greatest return. Fundamental to the bill is the belief that those who receive Federal assistance share a responsibility and an obligation to pursue selfsufficiency. H.R. 2 would remove disincentives to work. while linking continued Federal assistance to a modest amount of community service each month. While I support this legislation. I am concerned that H.R. 2 falls short of fully addressing the issue of national occupancy standards. This year I cosponsored legislation introduced by the gentleman from Florida to give States the authority to set their own occupancy standards. In the absence of State law. it would allow of a standard of two persons per bedroom plus infants. As I understand it. the socalled McCollum language was originally included. but was later scaled back significantly during the markup. In my view. the housing bill offers us the perfect and appropriate opportunity to give States the flexibility and authority to set their own standards and to implement a reasonable standard in their place when States fail to take action. A major housing reform bill like H.R. 2 should take advantage of the experience and expertise of those who deal with these issues on a daily basis. I hope this might be addressed at some point in the process. Mr. Speaker. promoting safe. clean. and healthy housing is central to the American dream. especially for lowincome persons. I believe this legislation is critical to reducing the concentration of power at the Federal level that has stifled innovation and kept local housing authorities out of the decisionmaking process. I urge support of the bill and the rule.\n"
     ]
    }
   ],
   "source": [
    "# random speech from a train set where gender=1\n",
    "explore_data.random_speech(train, train_ids, train_target, descr)"
   ]
  },
  {
   "cell_type": "markdown",
   "metadata": {},
   "source": [
    "## EDA on train data"
   ]
  },
  {
   "cell_type": "markdown",
   "metadata": {},
   "source": [
    "Source: https://developers.google.com/machine-learning/guides/text-classification/step-2"
   ]
  },
  {
   "cell_type": "markdown",
   "metadata": {},
   "source": [
    "### Check median number of words per sample in train/val/test"
   ]
  },
  {
   "cell_type": "code",
   "execution_count": 27,
   "metadata": {},
   "outputs": [
    {
     "data": {
      "text/plain": [
       "<module 'helpers.explore_data' from '/home/yulia/final-project/Classification/helpers/explore_data.py'>"
      ]
     },
     "execution_count": 27,
     "metadata": {},
     "output_type": "execute_result"
    }
   ],
   "source": [
    "reload(explore_data)"
   ]
  },
  {
   "cell_type": "code",
   "execution_count": 18,
   "metadata": {},
   "outputs": [
    {
     "data": {
      "text/plain": [
       "253.0"
      ]
     },
     "execution_count": 18,
     "metadata": {},
     "output_type": "execute_result"
    }
   ],
   "source": [
    "explore_data.get_num_words_per_sample(train)"
   ]
  },
  {
   "cell_type": "code",
   "execution_count": 19,
   "metadata": {},
   "outputs": [
    {
     "data": {
      "text/plain": [
       "254.0"
      ]
     },
     "execution_count": 19,
     "metadata": {},
     "output_type": "execute_result"
    }
   ],
   "source": [
    "explore_data.get_num_words_per_sample(val)"
   ]
  },
  {
   "cell_type": "code",
   "execution_count": 20,
   "metadata": {},
   "outputs": [
    {
     "data": {
      "text/plain": [
       "254.0"
      ]
     },
     "execution_count": 20,
     "metadata": {},
     "output_type": "execute_result"
    }
   ],
   "source": [
    "explore_data.get_num_words_per_sample(test)"
   ]
  },
  {
   "cell_type": "code",
   "execution_count": 21,
   "metadata": {},
   "outputs": [
    {
     "data": {
      "image/png": "[encoded data removed]",
      "text/plain": [
       "<Figure size 432x288 with 1 Axes>"
      ]
     },
     "metadata": {},
     "output_type": "display_data"
    }
   ],
   "source": [
    "explore_data.plot_sample_length_distribution(train)"
   ]
  },
  {
   "cell_type": "markdown",
   "metadata": {},
   "source": [
    "### Most popular unigrams (training only)"
   ]
  },
  {
   "cell_type": "code",
   "execution_count": 22,
   "metadata": {},
   "outputs": [
    {
     "data": {
      "text/plain": [
       "11561"
      ]
     },
     "execution_count": 22,
     "metadata": {},
     "output_type": "execute_result"
    }
   ],
   "source": [
    "# take a sample to avoid running out of memory\n",
    "train_sample = random.sample(train, int(len(train)*0.2))\n",
    "len(train_sample)"
   ]
  },
  {
   "cell_type": "code",
   "execution_count": 23,
   "metadata": {},
   "outputs": [
    {
     "name": "stdout",
     "output_type": "stream",
     "text": [
      "['the', 'to', 'of', 'and', 'in', 'that', 'is', 'for', 'this', 'we', 'it', 'on', 'have', 'are', 'as', 'not', 'be', 'our', 'with', 'will', 'from', 'by', 'they', 'has', 'mr', 'was', 'would', 'my', 'their', 'an', 'bill', 'at', 'who', 'but', 'he', 'all', 'or', 'his', 'do', 'people', 'president', 'which', 'been', 'these', 'about', 'there', 'what', 'so', 'you', 'more']\n"
     ]
    },
    {
     "data": {
      "image/png": "[encoded data removed]",
      "text/plain": [
       "<Figure size 1440x720 with 1 Axes>"
      ]
     },
     "metadata": {},
     "output_type": "display_data"
    }
   ],
   "source": [
    "explore_data.plot_frequency_distribution_of_ngrams(train_sample, ngram_range=(1,1))"
   ]
  },
  {
   "cell_type": "markdown",
   "metadata": {},
   "source": [
    "### Most popular bigrams (training only)"
   ]
  },
  {
   "cell_type": "code",
   "execution_count": 24,
   "metadata": {},
   "outputs": [
    {
     "name": "stdout",
     "output_type": "stream",
     "text": [
      "['of the', 'in the', 'to the', 'it is', 'and the', 'on the', 'for the', 'that the', 'mr speaker', 'to be', 'we have', 'we are', 'that is', 'that we', 'by the', 'with the', 'of this', 'in this', 'united states', 'the united', 'is the', 'this bill', 'mr president', 'going to', 'at the', 'this is', 'want to', 'will be', 'of our', 'from the', 'has been', 'is not', 'my colleagues', 'have been', 'the senate', 'they are', 'the bill', 'the gentleman', 'do not', 'there is', 'to do', 'the house', 'one of', 'as the', 'the american', 'would be', 'to make', 'have to', 'the president', 'we can']\n"
     ]
    },
    {
     "data": {
      "image/png": "[encoded data removed]",
      "text/plain": [
       "<Figure size 1440x720 with 1 Axes>"
      ]
     },
     "metadata": {},
     "output_type": "display_data"
    }
   ],
   "source": [
    "explore_data.plot_frequency_distribution_of_ngrams(train_sample, ngram_range=(2,2))"
   ]
  },
  {
   "cell_type": "markdown",
   "metadata": {},
   "source": [
    "### Most popular trigrams (training only)"
   ]
  },
  {
   "cell_type": "markdown",
   "metadata": {},
   "source": [
    "#### Run this only on small samples"
   ]
  },
  {
   "cell_type": "code",
   "execution_count": 25,
   "metadata": {},
   "outputs": [
    {
     "name": "stdout",
     "output_type": "stream",
     "text": [
      "['the united states', 'the gentleman from', 'one of the', 'are going to', 'my colleagues to', 'would like to', 'the american people', 'the senator from', 'be able to', 'the department of', 'we need to', 'of the united', 'mr speaker rise', 'as well as', 'the federal government', 'urge my colleagues', 'member of the', 'we are going', 'in the united', 'is going to', 'it is not', 'that we have', 'rise today to', 'chairman of the', 'in this country', 'in order to', 'that we are', 'ask unanimous consent', 'in support of', 'there is no', 'the committee on', 'going to be', 'part of the', 'some of the', 'percent of the', 'men and women', 'speaker rise today', 'the fact that', 'the people of', 'we do not', 'the state of', 'thank the gentleman', 'we have to', 'members of the', 'and that is', 'of the senate', 'unanimous consent that', 'of the house', 'and it is', 'that is the']\n"
     ]
    },
    {
     "data": {
      "image/png": "[encoded data removed]",
      "text/plain": [
       "<Figure size 1440x720 with 1 Axes>"
      ]
     },
     "metadata": {},
     "output_type": "display_data"
    }
   ],
   "source": [
    "explore_data.plot_frequency_distribution_of_ngrams(train_sample, ngram_range=(3,3))"
   ]
  },
  {
   "cell_type": "code",
   "execution_count": 26,
   "metadata": {
    "scrolled": false
   },
   "outputs": [
    {
     "name": "stdout",
     "output_type": "stream",
     "text": [
      "\n",
      "For Congress 97 top 5 (3, 3) ngrams are:\n",
      "the united states\n",
      "would like to\n",
      "the senator from\n",
      "the gentleman from\n",
      "one of the\n",
      "--------------------\n",
      "\n",
      "For Congress 98 top 5 (3, 3) ngrams are:\n",
      "the united states\n",
      "would like to\n",
      "the gentleman from\n",
      "one of the\n",
      "the senator from\n",
      "--------------------\n",
      "\n",
      "For Congress 99 top 5 (3, 3) ngrams are:\n",
      "the united states\n",
      "would like to\n",
      "the gentleman from\n",
      "the senator from\n",
      "one of the\n",
      "--------------------\n",
      "\n",
      "For Congress 100 top 5 (3, 3) ngrams are:\n",
      "the united states\n",
      "would like to\n",
      "the gentleman from\n",
      "the senator from\n",
      "one of the\n",
      "--------------------\n",
      "\n",
      "For Congress 101 top 5 (3, 3) ngrams are:\n",
      "the united states\n",
      "the gentleman from\n",
      "would like to\n",
      "one of the\n",
      "my colleagues to\n",
      "--------------------\n",
      "\n",
      "For Congress 102 top 5 (3, 3) ngrams are:\n",
      "the united states\n",
      "the gentleman from\n",
      "would like to\n",
      "one of the\n",
      "are going to\n",
      "--------------------\n",
      "\n",
      "For Congress 103 top 5 (3, 3) ngrams are:\n",
      "the united states\n",
      "the senator from\n",
      "are going to\n",
      "the gentleman from\n",
      "one of the\n",
      "--------------------\n",
      "\n",
      "For Congress 104 top 5 (3, 3) ngrams are:\n",
      "the united states\n",
      "the gentleman from\n",
      "are going to\n",
      "the american people\n",
      "one of the\n",
      "--------------------\n",
      "\n",
      "For Congress 105 top 5 (3, 3) ngrams are:\n",
      "the united states\n",
      "the gentleman from\n",
      "my colleagues to\n",
      "one of the\n",
      "would like to\n",
      "--------------------\n",
      "\n",
      "For Congress 106 top 5 (3, 3) ngrams are:\n",
      "the united states\n",
      "the gentleman from\n",
      "my colleagues to\n",
      "one of the\n",
      "the senator from\n",
      "--------------------\n",
      "\n",
      "For Congress 107 top 5 (3, 3) ngrams are:\n",
      "the united states\n",
      "the gentleman from\n",
      "one of the\n",
      "my colleagues to\n",
      "would like to\n",
      "--------------------\n",
      "\n",
      "For Congress 108 top 5 (3, 3) ngrams are:\n",
      "the united states\n",
      "the gentleman from\n",
      "are going to\n",
      "one of the\n",
      "my colleagues to\n",
      "--------------------\n",
      "\n",
      "For Congress 109 top 5 (3, 3) ngrams are:\n",
      "the united states\n",
      "the gentleman from\n",
      "the american people\n",
      "mr speaker rise\n",
      "one of the\n",
      "--------------------\n",
      "\n",
      "For Congress 110 top 5 (3, 3) ngrams are:\n",
      "the united states\n",
      "the american people\n",
      "one of the\n",
      "my colleagues to\n",
      "would like to\n",
      "--------------------\n",
      "\n",
      "For Congress 111 top 5 (3, 3) ngrams are:\n",
      "the united states\n",
      "are going to\n",
      "the american people\n",
      "is going to\n",
      "one of the\n",
      "--------------------\n",
      "\n",
      "For Congress 112 top 5 (3, 3) ngrams are:\n",
      "the united states\n",
      "the american people\n",
      "my colleagues to\n",
      "mr speaker rise\n",
      "we need to\n",
      "--------------------\n",
      "\n",
      "For Congress 113 top 5 (3, 3) ngrams are:\n",
      "the united states\n",
      "the american people\n",
      "one of the\n",
      "we need to\n",
      "mr speaker rise\n",
      "--------------------\n",
      "\n",
      "For Congress 114 top 5 (3, 3) ngrams are:\n",
      "the united states\n",
      "my colleagues to\n",
      "mr speaker rise\n",
      "the department of\n",
      "the american people\n",
      "--------------------\n"
     ]
    }
   ],
   "source": [
    "reload(explore_data)\n",
    "explore_data.ngrams_by_category(train, train_ids, descr, congress, 'Congress', p=0.3, top_n=5)"
   ]
  },
  {
   "cell_type": "markdown",
   "metadata": {},
   "source": [
    "## N-gram model"
   ]
  },
  {
   "cell_type": "markdown",
   "metadata": {},
   "source": [
    "Inspiration for code: https://developers.google.com/machine-learning/guides/text-classification/step-3"
   ]
  },
  {
   "cell_type": "markdown",
   "metadata": {},
   "source": [
    "### Pre-processing"
   ]
  },
  {
   "cell_type": "code",
   "execution_count": 27,
   "metadata": {},
   "outputs": [],
   "source": [
    "# Vectorization parameters\n",
    "# Range (inclusive) of n-gram sizes for tokenizing text.\n",
    "NGRAM_RANGE = (1, 2)\n",
    "\n",
    "# Minimum corpus frequency below which a token will be discarded.\n",
    "MIN_DOCUMENT_FREQUENCY = 5\n",
    "\n",
    "# Maximum proportion of corpus containing a word above which a token will be discarded.\n",
    "# Helps eliminate stop words\n",
    "MAX_DOCUMENT_FREQUENCY = 0.7\n",
    "\n",
    "# Limit on the number of features. We use the top 20K features.\n",
    "TOP_K = 10000\n",
    "\n",
    "# Output number of top/bottom scoring ngrams\n",
    "TOP_N = 5\n",
    "\n",
    "model_params = {\n",
    "    'ngram_range': NGRAM_RANGE,\n",
    "    'min_df': MIN_DOCUMENT_FREQUENCY,\n",
    "    'max_df': MAX_DOCUMENT_FREQUENCY,\n",
    "    'top_k': TOP_K,\n",
    "    'top_n': TOP_N\n",
    "}"
   ]
  },
  {
   "cell_type": "code",
   "execution_count": 28,
   "metadata": {},
   "outputs": [
    {
     "name": "stdout",
     "output_type": "stream",
     "text": [
      "Total vocabulary size: 407427\n",
      "Number of stop words 3064007\n",
      "\n",
      "Top 5 ngrams by differentiating score:\n",
      "mr president \t 1755.4\n",
      "women \t 1274.7\n",
      "our \t 1136.6\n",
      "president \t 1117.8\n",
      "rise \t 1067.8\n",
      "\n",
      "Bottom 5 ngrams by differentiating score:\n",
      "harkin of \t 0.0\n",
      "box is \t 0.0\n",
      "rights violations \t 0.0\n",
      "great tribute \t 0.0\n",
      "money instead \t 0.0\n"
     ]
    }
   ],
   "source": [
    "reload(preprocess_data)\n",
    "train_vec, val_vec, test_vec = preprocess_data.ngram_vectorize(train, train_target, val, test, **model_params)"
   ]
  },
  {
   "cell_type": "code",
   "execution_count": 29,
   "metadata": {},
   "outputs": [
    {
     "data": {
      "text/plain": [
       "(57808, 19268, 19272)"
      ]
     },
     "execution_count": 29,
     "metadata": {},
     "output_type": "execute_result"
    }
   ],
   "source": [
    "len(train), len(val), len(test)"
   ]
  },
  {
   "cell_type": "code",
   "execution_count": 30,
   "metadata": {},
   "outputs": [
    {
     "data": {
      "text/plain": [
       "((57808, 10000), (19268, 10000), (19272, 10000))"
      ]
     },
     "execution_count": 30,
     "metadata": {},
     "output_type": "execute_result"
    }
   ],
   "source": [
    "train_vec.shape, val_vec.shape, test_vec.shape"
   ]
  },
  {
   "cell_type": "markdown",
   "metadata": {},
   "source": [
    "### Saving processed files"
   ]
  },
  {
   "cell_type": "code",
   "execution_count": 40,
   "metadata": {},
   "outputs": [
    {
     "data": {
      "text/plain": [
       "'/home/yulia/final-project/Classification'"
      ]
     },
     "execution_count": 40,
     "metadata": {},
     "output_type": "execute_result"
    }
   ],
   "source": [
    "pwd"
   ]
  },
  {
   "cell_type": "code",
   "execution_count": 31,
   "metadata": {},
   "outputs": [],
   "source": [
    "outdata_path = '/home/yulia/final-project/Classification/data'"
   ]
  },
  {
   "cell_type": "code",
   "execution_count": 32,
   "metadata": {},
   "outputs": [],
   "source": [
    "scipy.sparse.save_npz(os.path.join(outdata_path, 'train_vec.npz'), train_vec)\n",
    "scipy.sparse.save_npz(os.path.join(outdata_path, 'val_vec.npz'), val_vec)\n",
    "scipy.sparse.save_npz(os.path.join(outdata_path, 'test_vec.npz'), test_vec)"
   ]
  },
  {
   "cell_type": "code",
   "execution_count": 33,
   "metadata": {},
   "outputs": [],
   "source": [
    "train_vec = scipy.sparse.load_npz(os.path.join(outdata_path, 'train_vec.npz'))\n",
    "val_vec = scipy.sparse.load_npz(os.path.join(outdata_path, 'val_vec.npz'))\n",
    "test_vec = scipy.sparse.load_npz(os.path.join(outdata_path, 'test_vec.npz'))"
   ]
  },
  {
   "cell_type": "code",
   "execution_count": 34,
   "metadata": {},
   "outputs": [
    {
     "data": {
      "text/plain": [
       "((57808, 10000), (19268, 10000), (19272, 10000))"
      ]
     },
     "execution_count": 34,
     "metadata": {},
     "output_type": "execute_result"
    }
   ],
   "source": [
    "train_vec.shape, val_vec.shape, test_vec.shape"
   ]
  },
  {
   "cell_type": "code",
   "execution_count": 35,
   "metadata": {},
   "outputs": [],
   "source": [
    "with open(os.path.join(outdata_path, 'train_list'), 'wb') as fp:\n",
    "    pickle.dump(train, fp)\n",
    "with open(os.path.join(outdata_path, 'train_ids'), 'wb') as fp:\n",
    "    pickle.dump(train_ids, fp)\n",
    "with open(os.path.join(outdata_path, 'train_target'), 'wb') as fp:\n",
    "    pickle.dump(train_target, fp)\n",
    "with open(os.path.join(outdata_path, 'val_list'), 'wb') as fp:\n",
    "    pickle.dump(val, fp)\n",
    "with open(os.path.join(outdata_path, 'val_ids'), 'wb') as fp:\n",
    "    pickle.dump(val_ids, fp)\n",
    "with open(os.path.join(outdata_path, 'val_target'), 'wb') as fp:\n",
    "    pickle.dump(val_target, fp)\n",
    "with open(os.path.join(outdata_path, 'test_list'), 'wb') as fp:\n",
    "    pickle.dump(test, fp)\n",
    "with open(os.path.join(outdata_path, 'test_ids'), 'wb') as fp:\n",
    "    pickle.dump(test_ids, fp)\n",
    "with open(os.path.join(outdata_path, 'test_target'), 'wb') as fp:\n",
    "    pickle.dump(test_target, fp)"
   ]
  },
  {
   "cell_type": "code",
   "execution_count": 36,
   "metadata": {},
   "outputs": [
    {
     "data": {
      "text/plain": [
       "(28904, 9634, 9636)"
      ]
     },
     "execution_count": 36,
     "metadata": {},
     "output_type": "execute_result"
    }
   ],
   "source": [
    "sum(train_target), sum(val_target), sum(test_target)"
   ]
  },
  {
   "cell_type": "code",
   "execution_count": null,
   "metadata": {},
   "outputs": [],
   "source": [
    "with open(os.path.join(outdata_path, 'train_list'), 'rb') as fp:\n",
    "    train = pickle.load(fp)\n",
    "with open(os.path.join(outdata_path, 'train_ids'), 'rb') as fp:\n",
    "    train_ids = pickle.load(fp)\n",
    "with open(os.path.join(outdata_path, 'train_target'), 'rb') as fp:\n",
    "    train_target = pickle.load(fp)\n",
    "with open(os.path.join(outdata_path, 'val_list'), 'rb') as fp:\n",
    "    val = pickle.load(fp)\n",
    "with open(os.path.join(outdata_path, 'val_ids'), 'rb') as fp:\n",
    "    val_ids = pickle.load(fp)\n",
    "with open(os.path.join(outdata_path, 'val_target'), 'rb') as fp:\n",
    "    val_target = pickle.load(fp)\n",
    "with open(os.path.join(outdata_path, 'test_list'), 'rb') as fp:\n",
    "    test = pickle.load(fp)\n",
    "with open(os.path.join(outdata_path, 'test_ids'), 'rb') as fp:\n",
    "    test_ids = pickle.load(fp)\n",
    "with open(os.path.join(outdata_path, 'test_target'), 'rb') as fp:\n",
    "    test_target = pickle.load(fp)"
   ]
  },
  {
   "cell_type": "code",
   "execution_count": null,
   "metadata": {},
   "outputs": [],
   "source": [
    "sum(train_target), sum(val_target), sum(test_target)"
   ]
  },
  {
   "cell_type": "markdown",
   "metadata": {},
   "source": [
    "### Model: Multi-Layer Perceptron (Vanilla NN)"
   ]
  },
  {
   "cell_type": "code",
   "execution_count": 37,
   "metadata": {},
   "outputs": [
    {
     "name": "stderr",
     "output_type": "stream",
     "text": [
      "/home/yulia/anaconda3/lib/python3.6/site-packages/h5py/__init__.py:36: FutureWarning: Conversion of the second argument of issubdtype from `float` to `np.floating` is deprecated. In future, it will be treated as `np.float64 == np.dtype(float).type`.\n",
      "  from ._conv import register_converters as _register_converters\n"
     ]
    }
   ],
   "source": [
    "import tensorflow as tf\n",
    "\n",
    "from tensorflow.python.keras import models\n",
    "from tensorflow.python.keras.layers import Dense\n",
    "from tensorflow.python.keras.layers import Dropout"
   ]
  },
  {
   "cell_type": "code",
   "execution_count": 38,
   "metadata": {},
   "outputs": [],
   "source": [
    "logs_base_dir = \"/home/yulia/final-project/Classification/logs\""
   ]
  },
  {
   "cell_type": "code",
   "execution_count": 39,
   "metadata": {},
   "outputs": [],
   "source": [
    "def mlp_model(layers, units, dropout_rate, input_shape, num_classes):\n",
    "    \"\"\"\n",
    "    Creates an instance of a multi-layer perceptron model.\n",
    "\n",
    "    Arguments\n",
    "        layers: int, number of `Dense` layers in the model.\n",
    "        units: int, output dimension of the layers.\n",
    "        dropout_rate: float, percentage of input to drop at Dropout layers.\n",
    "        input_shape: tuple, shape of input to the model.\n",
    "        num_classes: int, number of output classes.\n",
    "\n",
    "    Returns\n",
    "        An MLP model instance.\n",
    "    \"\"\"\n",
    "    op_units, op_activation = 1, 'sigmoid'\n",
    "    model = models.Sequential()\n",
    "    model.add(Dropout(rate=dropout_rate, input_shape=input_shape))\n",
    "\n",
    "    for _ in range(layers-1):\n",
    "        model.add(Dense(units=units, activation='relu'))\n",
    "        model.add(Dropout(rate=dropout_rate))\n",
    "\n",
    "    model.add(Dense(units=op_units, activation=op_activation))\n",
    "    \n",
    "    return model"
   ]
  },
  {
   "cell_type": "code",
   "execution_count": 40,
   "metadata": {},
   "outputs": [],
   "source": [
    "class TimeHistory(tf.keras.callbacks.Callback):\n",
    "    \"\"\"\n",
    "    https://stackoverflow.com/questions/43178668/\n",
    "    record-the-computation-time-for-each-epoch-in-keras-during-model-fit\n",
    "    \"\"\"\n",
    "    def on_train_begin(self, logs={}):\n",
    "        self.times = []\n",
    "\n",
    "    def on_epoch_begin(self, epoch, logs={}):\n",
    "        self.epoch_time_start = time.time()\n",
    "\n",
    "    def on_epoch_end(self, epoch, logs={}):\n",
    "        self.times.append(time.time() - self.epoch_time_start)"
   ]
  },
  {
   "cell_type": "code",
   "execution_count": 41,
   "metadata": {},
   "outputs": [],
   "source": [
    "def train_ngram_model(data,\n",
    "                      learning_rate=1e-3,\n",
    "                      epochs=1000,\n",
    "                      batch_size=128,\n",
    "                      layers=2,\n",
    "                      units=64,\n",
    "                      dropout_rate=0.2):\n",
    "    \"\"\"\n",
    "    Trains n-gram model on the given dataset.\n",
    "\n",
    "    Arguments:\n",
    "        data: tuples of vectorized training and test texts and labels.\n",
    "        learning_rate: float, learning rate for training model.\n",
    "        epochs: int, number of epochs.\n",
    "        batch_size: int, number of samples per batch.\n",
    "        layers: int, number of `Dense` layers in the model.\n",
    "        units: int, output dimension of Dense layers in the model.\n",
    "        dropout_rate: float: percentage of input to drop at Dropout layers.\n",
    "\n",
    "    Returns:\n",
    "        tuple with accuracy and loss on validation data for the last interation\n",
    "    \"\"\"\n",
    "    # Get the data.\n",
    "    (x_train, train_labels), (x_val, val_labels) = data\n",
    "\n",
    "    # Verify that validation labels are in the same range as training labels.\n",
    "    num_classes = 2\n",
    "\n",
    "    # Create model instance.\n",
    "    model = mlp_model(layers=layers,\n",
    "                                  units=units,\n",
    "                                  dropout_rate=dropout_rate,\n",
    "                                  input_shape=x_train.shape[1:],\n",
    "                                  num_classes=num_classes)\n",
    "\n",
    "    # Compile model with learning parameters.\n",
    "    optimizer = tf.keras.optimizers.Adam(lr=learning_rate)\n",
    "    model.compile(optimizer=optimizer, loss='binary_crossentropy', metrics=['acc'])\n",
    "\n",
    "    # Create callback for early stopping on validation loss. If the loss does\n",
    "    # not decrease in two consecutive tries, stop training.\n",
    "    callbacks = [\n",
    "        tf.keras.callbacks.EarlyStopping(monitor='val_loss', \n",
    "                                         patience=2),\n",
    "        tf.keras.callbacks.TensorBoard(log_dir=logs_base_dir, \n",
    "                                       histogram_freq=0, \n",
    "                                       write_graph=True, \n",
    "                                       write_images=True),\n",
    "        TimeHistory()]\n",
    "\n",
    "    # Train and validate model.\n",
    "    history = model.fit(\n",
    "            x_train,\n",
    "            train_labels,\n",
    "            epochs=epochs,\n",
    "            callbacks=callbacks,\n",
    "            validation_data=(x_val, val_labels),\n",
    "            verbose=2,  # Logs once per epoch.\n",
    "            batch_size=batch_size)\n",
    "\n",
    "    # Print results.\n",
    "    history = history.history\n",
    "    print('Validation accuracy: {acc}, loss: {loss}'.format(\n",
    "            acc=history['val_acc'][-1], loss=history['val_loss'][-1]))\n",
    "    \n",
    "    train_pred_probs = model.predict(x_train)\n",
    "    val_pred_probs = model.predict(x_val)\n",
    "\n",
    "    return history, train_pred_probs, val_pred_probs"
   ]
  },
  {
   "cell_type": "code",
   "execution_count": 42,
   "metadata": {},
   "outputs": [
    {
     "name": "stdout",
     "output_type": "stream",
     "text": [
      "Train on 57808 samples, validate on 19268 samples\n",
      "Epoch 1/1000\n",
      " - 16s - loss: 0.5786 - acc: 0.7014 - val_loss: 0.5456 - val_acc: 0.7229\n",
      "Epoch 2/1000\n",
      " - 16s - loss: 0.5073 - acc: 0.7490 - val_loss: 0.5364 - val_acc: 0.7328\n",
      "Epoch 3/1000\n",
      " - 16s - loss: 0.4816 - acc: 0.7643 - val_loss: 0.5397 - val_acc: 0.7320\n",
      "Epoch 4/1000\n",
      " - 16s - loss: 0.4662 - acc: 0.7720 - val_loss: 0.5439 - val_acc: 0.7304\n",
      "Validation accuracy: 0.730433880070173, loss: 0.5438631458576473\n"
     ]
    }
   ],
   "source": [
    "history, train_pred_probs, val_pred_probs = train_ngram_model(((train_vec, train_target), (val_vec, val_target)))"
   ]
  },
  {
   "cell_type": "markdown",
   "metadata": {},
   "source": [
    "## Model evaluation"
   ]
  },
  {
   "cell_type": "code",
   "execution_count": 43,
   "metadata": {},
   "outputs": [
    {
     "data": {
      "text/plain": [
       "14074"
      ]
     },
     "execution_count": 43,
     "metadata": {},
     "output_type": "execute_result"
    }
   ],
   "source": [
    "val_preds = val_pred_probs > 0.5\n",
    "np.sum(val_preds.flatten()==val_target)"
   ]
  },
  {
   "cell_type": "code",
   "execution_count": 44,
   "metadata": {},
   "outputs": [
    {
     "name": "stdout",
     "output_type": "stream",
     "text": [
      "Confusion matrix, without normalization\n",
      "[[7014 2620]\n",
      " [2574 7060]]\n"
     ]
    },
    {
     "data": {
      "text/plain": [
       "<matplotlib.axes._subplots.AxesSubplot at 0x7f0d61912080>"
      ]
     },
     "execution_count": 44,
     "metadata": {},
     "output_type": "execute_result"
    },
    {
     "data": {
      "image/png": "[encoded data removed]",
      "text/plain": [
       "<Figure size 432x288 with 2 Axes>"
      ]
     },
     "metadata": {},
     "output_type": "display_data"
    }
   ],
   "source": [
    "reload(explore_data)\n",
    "# specify class names in 0 - 1 order\n",
    "classes = ['Male', 'Female']\n",
    "explore_data.plot_confusion_matrix(val_target, val_preds, classes, normalize=True)"
   ]
  },
  {
   "cell_type": "code",
   "execution_count": 45,
   "metadata": {
    "scrolled": false
   },
   "outputs": [
    {
     "data": {
      "image/png": "[encoded data removed]",
      "text/plain": [
       "<Figure size 720x720 with 2 Axes>"
      ]
     },
     "metadata": {},
     "output_type": "display_data"
    }
   ],
   "source": [
    "reload(explore_data)\n",
    "explore_data.plot_calibration_curve(val_target, val_pred_probs, 'Gender')"
   ]
  },
  {
   "cell_type": "markdown",
   "metadata": {},
   "source": [
    "#### Run the following test on a random subset of the validation sample"
   ]
  },
  {
   "cell_type": "code",
   "execution_count": 46,
   "metadata": {},
   "outputs": [
    {
     "data": {
      "text/plain": [
       "0.3004463358937098"
      ]
     },
     "execution_count": 46,
     "metadata": {},
     "output_type": "execute_result"
    }
   ],
   "source": [
    "val_random = np.random.choice(a=[0,1], size=len(val_target), p = [0.7,0.3])\n",
    "val_random.sum()/val_random.shape[0]"
   ]
  },
  {
   "cell_type": "code",
   "execution_count": 49,
   "metadata": {},
   "outputs": [
    {
     "data": {
      "text/plain": [
       "((5789,), (5789,), (5789, 1))"
      ]
     },
     "execution_count": 49,
     "metadata": {},
     "output_type": "execute_result"
    }
   ],
   "source": [
    "val_sample = np.array(val)[val_random==1]\n",
    "val_ids_sample = np.array(val_ids)[val_random==1]\n",
    "val_pred_probs_sample = val_pred_probs[val_random==1]\n",
    "val_sample.shape, val_ids_sample.shape, val_pred_probs_sample.shape"
   ]
  },
  {
   "cell_type": "code",
   "execution_count": 68,
   "metadata": {},
   "outputs": [
    {
     "name": "stdout",
     "output_type": "stream",
     "text": [
      "Finished building main df\n",
      "Finished bin 0.4\n",
      "Finished bin 0.6\n",
      "Finished bin 1.0\n"
     ]
    },
    {
     "data": {
      "text/html": [
       "<div>\n",
       "<style scoped>\n",
       "    .dataframe tbody tr th:only-of-type {\n",
       "        vertical-align: middle;\n",
       "    }\n",
       "\n",
       "    .dataframe tbody tr th {\n",
       "        vertical-align: top;\n",
       "    }\n",
       "\n",
       "    .dataframe thead th {\n",
       "        text-align: right;\n",
       "    }\n",
       "</style>\n",
       "<table border=\"1\" class=\"dataframe\">\n",
       "  <thead>\n",
       "    <tr style=\"text-align: right;\">\n",
       "      <th></th>\n",
       "      <th>Gender_F</th>\n",
       "      <th>Ethinicity_NW</th>\n",
       "      <th>AvgAge</th>\n",
       "      <th>Party_D</th>\n",
       "      <th>Chamber_H</th>\n",
       "      <th>AvgWordCount</th>\n",
       "    </tr>\n",
       "  </thead>\n",
       "  <tbody>\n",
       "    <tr>\n",
       "      <th>0.4</th>\n",
       "      <td>0.45</td>\n",
       "      <td>0.45</td>\n",
       "      <td>0.99</td>\n",
       "      <td>0.83</td>\n",
       "      <td>0.77</td>\n",
       "      <td>0.98</td>\n",
       "    </tr>\n",
       "    <tr>\n",
       "      <th>0.6</th>\n",
       "      <td>0.97</td>\n",
       "      <td>0.84</td>\n",
       "      <td>0.98</td>\n",
       "      <td>0.98</td>\n",
       "      <td>1.10</td>\n",
       "      <td>0.88</td>\n",
       "    </tr>\n",
       "    <tr>\n",
       "      <th>1.0</th>\n",
       "      <td>1.54</td>\n",
       "      <td>1.60</td>\n",
       "      <td>1.01</td>\n",
       "      <td>1.18</td>\n",
       "      <td>1.18</td>\n",
       "      <td>1.08</td>\n",
       "    </tr>\n",
       "  </tbody>\n",
       "</table>\n",
       "</div>"
      ],
      "text/plain": [
       "     Gender_F  Ethinicity_NW  AvgAge  Party_D  Chamber_H  AvgWordCount\n",
       "0.4      0.45           0.45    0.99     0.83       0.77          0.98\n",
       "0.6      0.97           0.84    0.98     0.98       1.10          0.88\n",
       "1.0      1.54           1.60    1.01     1.18       1.18          1.08"
      ]
     },
     "execution_count": 68,
     "metadata": {},
     "output_type": "execute_result"
    }
   ],
   "source": [
    "reload(explore_data)\n",
    "# checking the ratios of demo variables in low-mid-high probability buckets\n",
    "explore_data.check_bin_probs_distr(val_pred_probs_sample, \n",
    "                                   val_ids_sample, \n",
    "                                   descr)"
   ]
  },
  {
   "cell_type": "code",
   "execution_count": 74,
   "metadata": {},
   "outputs": [
    {
     "name": "stdout",
     "output_type": "stream",
     "text": [
      "\n",
      "Top 10 ngrams by differentiating score:\n",
      "my colleagues to \t 70.3\n",
      "mr speaker rise \t 60.1\n",
      "urge my colleagues to \t 57.4\n",
      "urge my colleagues \t 54.5\n",
      "speaker rise today \t 44.0\n",
      "unanimous consent that \t 43.0\n",
      "ask unanimous consent \t 41.0\n",
      "colleagues to support \t 39.9\n",
      "have legislative days \t 39.6\n",
      "and extend their \t 39.6\n"
     ]
    },
    {
     "data": {
      "text/html": [
       "<div>\n",
       "<style scoped>\n",
       "    .dataframe tbody tr th:only-of-type {\n",
       "        vertical-align: middle;\n",
       "    }\n",
       "\n",
       "    .dataframe tbody tr th {\n",
       "        vertical-align: top;\n",
       "    }\n",
       "\n",
       "    .dataframe thead th {\n",
       "        text-align: right;\n",
       "    }\n",
       "</style>\n",
       "<table border=\"1\" class=\"dataframe\">\n",
       "  <thead>\n",
       "    <tr style=\"text-align: right;\">\n",
       "      <th></th>\n",
       "      <th>0.4</th>\n",
       "      <th>0.6</th>\n",
       "      <th>1.0</th>\n",
       "    </tr>\n",
       "  </thead>\n",
       "  <tbody>\n",
       "    <tr>\n",
       "      <th>ask unanimous consent</th>\n",
       "      <td>253.0</td>\n",
       "      <td>74.0</td>\n",
       "      <td>92.0</td>\n",
       "    </tr>\n",
       "    <tr>\n",
       "      <th>colleagues to support</th>\n",
       "      <td>46.0</td>\n",
       "      <td>42.0</td>\n",
       "      <td>184.0</td>\n",
       "    </tr>\n",
       "    <tr>\n",
       "      <th>have legislative days</th>\n",
       "      <td>5.0</td>\n",
       "      <td>23.0</td>\n",
       "      <td>0.0</td>\n",
       "    </tr>\n",
       "    <tr>\n",
       "      <th>mr speaker rise</th>\n",
       "      <td>124.0</td>\n",
       "      <td>113.0</td>\n",
       "      <td>365.0</td>\n",
       "    </tr>\n",
       "    <tr>\n",
       "      <th>my colleagues to</th>\n",
       "      <td>180.0</td>\n",
       "      <td>154.0</td>\n",
       "      <td>517.0</td>\n",
       "    </tr>\n",
       "    <tr>\n",
       "      <th>revise and extend their</th>\n",
       "      <td>5.0</td>\n",
       "      <td>23.0</td>\n",
       "      <td>0.0</td>\n",
       "    </tr>\n",
       "    <tr>\n",
       "      <th>speaker rise today</th>\n",
       "      <td>89.0</td>\n",
       "      <td>84.0</td>\n",
       "      <td>267.0</td>\n",
       "    </tr>\n",
       "    <tr>\n",
       "      <th>unanimous consent that</th>\n",
       "      <td>221.0</td>\n",
       "      <td>66.0</td>\n",
       "      <td>67.0</td>\n",
       "    </tr>\n",
       "    <tr>\n",
       "      <th>urge my colleagues</th>\n",
       "      <td>122.0</td>\n",
       "      <td>95.0</td>\n",
       "      <td>365.0</td>\n",
       "    </tr>\n",
       "    <tr>\n",
       "      <th>urge my colleagues to</th>\n",
       "      <td>98.0</td>\n",
       "      <td>90.0</td>\n",
       "      <td>335.0</td>\n",
       "    </tr>\n",
       "  </tbody>\n",
       "</table>\n",
       "</div>"
      ],
      "text/plain": [
       "                           0.4    0.6    1.0\n",
       "ask unanimous consent    253.0   74.0   92.0\n",
       "colleagues to support     46.0   42.0  184.0\n",
       "have legislative days      5.0   23.0    0.0\n",
       "mr speaker rise          124.0  113.0  365.0\n",
       "my colleagues to         180.0  154.0  517.0\n",
       "revise and extend their    5.0   23.0    0.0\n",
       "speaker rise today        89.0   84.0  267.0\n",
       "unanimous consent that   221.0   66.0   67.0\n",
       "urge my colleagues       122.0   95.0  365.0\n",
       "urge my colleagues to     98.0   90.0  335.0"
      ]
     },
     "execution_count": 74,
     "metadata": {},
     "output_type": "execute_result"
    }
   ],
   "source": [
    "reload(explore_data)\n",
    "explore_data.compare_ngrams(val_sample, val_pred_probs_sample)"
   ]
  },
  {
   "cell_type": "code",
   "execution_count": 69,
   "metadata": {},
   "outputs": [
    {
     "name": "stdout",
     "output_type": "stream",
     "text": [
      "\n",
      "In 0.4 bin top 10 ngrams:\n",
      "\n",
      "the united states\n",
      "the gentleman from\n",
      "the senator from\n",
      "would like to\n",
      "one of the\n",
      "are going to\n",
      "chairman of the\n",
      "the american people\n",
      "ask unanimous consent\n",
      "of the senate\n",
      "--------------------\n",
      "\n",
      "In 0.6 bin top 10 ngrams:\n",
      "\n",
      "the united states\n",
      "the gentleman from\n",
      "my colleagues to\n",
      "one of the\n",
      "would like to\n",
      "are going to\n",
      "the american people\n",
      "in the united\n",
      "mr speaker rise\n",
      "in the united states\n",
      "--------------------\n",
      "\n",
      "In 1.0 bin top 10 ngrams:\n",
      "\n",
      "the united states\n",
      "my colleagues to\n",
      "the gentleman from\n",
      "one of the\n",
      "urge my colleagues\n",
      "mr speaker rise\n",
      "the american people\n",
      "urge my colleagues to\n",
      "we need to\n",
      "would like to\n",
      "--------------------\n"
     ]
    }
   ],
   "source": [
    "reload(explore_data)\n",
    "explore_data.ngrams_by_bin(val_sample, val_pred_probs_sample)"
   ]
  },
  {
   "cell_type": "code",
   "execution_count": 71,
   "metadata": {
    "scrolled": false
   },
   "outputs": [
    {
     "name": "stdout",
     "output_type": "stream",
     "text": [
      "\n",
      "True positive (Predicted prob: 0.93):\n",
      "\n",
      "date 20110118\n",
      "char_count 436\n",
      "word_count 79\n",
      "speakerid 112119920.0\n",
      "Party D\n",
      "Congress 112\n",
      "Chamber H\n",
      "State TX\n",
      "Ethnicity B\n",
      "Age 62.0\n",
      "Age_lt_med 0.0\n",
      "NonWhite 1.0\n",
      "Female 1.0\n",
      "speaker Ms. JACKSON LEE of Texas\n",
      "Full Name JACKSON LEE, SHEILA\n",
      "match exact\n",
      "\n",
      " Thank you so very much. Maybe they would not be able to withstand this onslaught on their rights because the Constitution guarantees them equal protection. And some who have insurance and some who do not would not be treated equally. And finally. let me say that in Texas. the Department of Insurance has said that this bill helps Texans. I hope my colleague from Texas will vote not to repeal this bill. I will vote \"no\" on the repeal.\n",
      "--------------------\n",
      "\n",
      "True negative (Predicted prob: 0.04):\n",
      "\n",
      "date 19930615\n",
      "char_count 238\n",
      "word_count 42\n",
      "speakerid 103118361.0\n",
      "Party R\n",
      "Congress 103\n",
      "Chamber S\n",
      "State KY\n",
      "Ethnicity W\n",
      "Age 52.0\n",
      "Age_lt_med 1.0\n",
      "NonWhite 0.0\n",
      "Female 0.0\n",
      "speaker Mr. MCCONNELL\n",
      "Full Name MCCONNELL, MITCH\n",
      "match exact\n",
      "\n",
      " Mr. President. if the majority leader will yield. we will be prepared to accept the amendment of Senator JEFFORDS and get that out of the way tonight. I do not think the DomenictCohen amendment was controversial on either side. Or was it?\n",
      "--------------------\n",
      "\n",
      "False positive (Predicted prob: 0.98):\n",
      "\n",
      "date 19920430\n",
      "char_count 3661\n",
      "word_count 600\n",
      "speakerid 102109920.0\n",
      "Party D\n",
      "Congress 102\n",
      "Chamber H\n",
      "State NY\n",
      "Ethnicity W\n",
      "Age 65.0\n",
      "Age_lt_med 0.0\n",
      "NonWhite 0.0\n",
      "Female 0.0\n",
      "speaker Mr WEIMSS\n",
      "Full Name WEISS, THEODORE\n",
      "match exact\n",
      "\n",
      " Madam Chairman. today r rise in support of I.R. 309. the Federal familft planning reauthorr. ization. We have tried since 1965 to. reauthorize this program. and for 7 years lrv a row. despite overwhelming bipartisan support. this crucial program ha been- thwarted by a ca lou& and obdurate Repablan While House. Tfks program provides Federal. ftumdi to over *.00 family plannifg clfties wich offer vital services training. aid edftation to ever 4 million lowInome women who. may have no. other access to pregnancyrelated health care. Ulfortunately. because tbdAs measure seeks. to overturn the dia% bofe gag. rof regulatibn. the fundhg of these necessary services is. threat. ened witi a Presidential veto. We can no longer allow a cordhearted ]ush. administration to. insidiously desggro one of oar most fundamental democratie r lhts the right to speak f reey. Yes. the gag rule Is. an idringe. meet of thk right. And todag we nwst recia n this. ftefom by passing thti% bilt wth. a veto proof majority. Last mmth Im an attempt to. deludthe American peoft~l. the Pesident ot tlk Unied Mates. iMtrodueed a mo fied version of Uh title X regwlhtions. ar lie haUd~f them as a. repeal od the gag rule. Hawtver. under these socailld hwW\"i title X regulatioi% physlcians cotfiue to. be. restrlkted from supplying thelr. patients. with complete. reproductive iormation. The dotor still may not counsei or refer a. patit for an abortion: so much for the Presidents promise not to interfere with the. doctorpatient relationship. Obviously. this is just another failed attempt by Mr. Bush tor talk out of both sides of is. mouth. Furthermore. the original language of the gag rule remains applicable to all title X staff. It is these health care providers who most Interact with patients and provide 9 percent of the counseling and referral of pregnancy options. By limiting the speech of these trained professionals. the patient 1s at risk of not receiving complee information. even if she asks for it. The gag rule- will inpact all women in this country. yet its. most devastato Ing affect. will be on women and teenagers from lowincome families who rely on Government assistance to obtain their health care. Bush is telling American women. that the freedom to choose an abortion has a high. price. and those who can pay. can choose. Abortion is still a legal medical pro edutre in this country. and if a woman has the money to pay for. pra-. vate health care. she- will still have every pregnancy option available to her. Sadly. economically vulnerable women. wili lose. their access to information regarding their reproductive chises Complete. pregnancy option informatian is- not all that will be denied to these 4 million women. Continued underfanding of this program deprives women od other vital health care services pruvided by these federally fuode c i&ics. For 83 percent of the women and teenagers who visit a title X clinic. these family pianring certers are. their only source of primary health care. Title Xs goal is preventive care- Yet. how can this goal be at. tained if breast and cervical cancer detection examinations. tests for sexually transmitted diseases. and HIV screenings are not available to. those wha need them. These title X restrictions will Jeop ardkwe the health of millions of poor women. young and old.. The faminy planning program must. be reauthorized.sa that. we can continue to provide economically disadvantaged women their fundamental right to unrestricted health care. services and their curistitationak right to choose an abortion. I urge my coLagues. to. overturn the gag rule by overwhelmingly showing suppowt. for H1.3 3099.\n",
      "--------------------\n",
      "\n",
      "False negative (Predicted prob: 0.05):\n",
      "\n",
      "date 19920602\n",
      "char_count 680\n",
      "word_count 104\n",
      "speakerid 102120531.0\n",
      "Party D\n",
      "Congress 102\n",
      "Chamber S\n",
      "State MD\n",
      "Ethnicity W\n",
      "Age 56.0\n",
      "Age_lt_med 0.0\n",
      "NonWhite 0.0\n",
      "Female 1.0\n",
      "speaker Ms. MIKULSKI\n",
      "Full Name MIKULSKI, BARBARA\n",
      "match exact\n",
      "\n",
      " Mr. President. this week the worlds attention will be focused on the Rio environmental summit. Unfortunately. the world has a tendency to consider various threats to the environmentglobal warming. deforestation. air and water pollutionwithout taking into account the key underlying factor behind these trends: population growth. . This weeks Economist contains an excellent editorial. which spells out the immediate threat of population Increases to the environment and to the quality of life in the developing world. I ask that excerpts from the editorial be included at this point in the RECORD. The excerpts follows: [From the Economists. May 30. 1992] THz QUESTIoN Rio FORGETS\n",
      "--------------------\n"
     ]
    }
   ],
   "source": [
    "reload(explore_data)\n",
    "explore_data.print_mispredictions(val_target, val_pred_probs, val, val_ids, descr)"
   ]
  },
  {
   "cell_type": "code",
   "execution_count": null,
   "metadata": {},
   "outputs": [],
   "source": []
  }
 ],
 "metadata": {
  "kernelspec": {
   "display_name": "Python 3",
   "language": "python",
   "name": "python3"
  },
  "language_info": {
   "codemirror_mode": {
    "name": "ipython",
    "version": 3
   },
   "file_extension": ".py",
   "mimetype": "text/x-python",
   "name": "python",
   "nbconvert_exporter": "python",
   "pygments_lexer": "ipython3",
   "version": "3.5.2"
  }
 },
 "nbformat": 4,
 "nbformat_minor": 2
}
