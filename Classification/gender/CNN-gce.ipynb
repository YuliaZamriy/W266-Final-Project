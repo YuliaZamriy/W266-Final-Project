{
 "cells": [
  {
   "cell_type": "code",
   "execution_count": 1,
   "metadata": {},
   "outputs": [
    {
     "data": {
      "text/html": [
       "<style>.container { width:100% !important; }</style>"
      ],
      "text/plain": [
       "<IPython.core.display.HTML object>"
      ]
     },
     "metadata": {},
     "output_type": "display_data"
    }
   ],
   "source": [
    "# increase cell width\n",
    "from IPython.core.display import display, HTML\n",
    "display(HTML(\"<style>.container { width:100% !important; }</style>\"))"
   ]
  },
  {
   "cell_type": "markdown",
   "metadata": {},
   "source": [
    "Inspiration for code:\n",
    "\n",
    "- https://developers.google.com/machine-learning/guides/text-classification/\n",
    "- https://github.com/google/eng-edu/blob/master/ml/guides/text_classification/load_data.py"
   ]
  },
  {
   "cell_type": "code",
   "execution_count": 2,
   "metadata": {},
   "outputs": [],
   "source": [
    "from __future__ import absolute_import\n",
    "from __future__ import division\n",
    "from __future__ import print_function\n",
    "\n",
    "import os\n",
    "import random\n",
    "import time\n",
    "import pickle\n",
    "import gc\n",
    "import re\n",
    "\n",
    "import numpy as np\n",
    "import pandas as pd\n",
    "\n",
    "from importlib import reload\n",
    "\n",
    "import scipy.sparse"
   ]
  },
  {
   "cell_type": "code",
   "execution_count": 3,
   "metadata": {},
   "outputs": [
    {
     "name": "stderr",
     "output_type": "stream",
     "text": [
      "/home/yulia/anaconda3/lib/python3.6/site-packages/h5py/__init__.py:36: FutureWarning: Conversion of the second argument of issubdtype from `float` to `np.floating` is deprecated. In future, it will be treated as `np.float64 == np.dtype(float).type`.\n",
      "  from ._conv import register_converters as _register_converters\n"
     ]
    }
   ],
   "source": [
    "from helpers import load_data\n",
    "from helpers import explore_data\n",
    "from helpers import preprocess_data\n",
    "from helpers import train_model"
   ]
  },
  {
   "cell_type": "code",
   "execution_count": null,
   "metadata": {},
   "outputs": [],
   "source": [
    "# import tensorflow as tf\n",
    "# tf.__version__"
   ]
  },
  {
   "cell_type": "markdown",
   "metadata": {},
   "source": [
    "## Load raw data"
   ]
  },
  {
   "cell_type": "code",
   "execution_count": 4,
   "metadata": {},
   "outputs": [
    {
     "data": {
      "text/plain": [
       "'/tf/notebooks/final-project/Classification'"
      ]
     },
     "execution_count": 4,
     "metadata": {},
     "output_type": "execute_result"
    }
   ],
   "source": [
    "pwd"
   ]
  },
  {
   "cell_type": "code",
   "execution_count": 5,
   "metadata": {},
   "outputs": [
    {
     "name": "stdout",
     "output_type": "stream",
     "text": [
      "speech_id|speech\r\n",
      "970000001|The Senate vill please come to order. The Chaplain will offer the prayer. The Chaplain. the Reverend Edward L. R. Elson. D.D.. offered the following prayer: PRAYER God of our fathers and our God. who has made and preserved us a nation. we thank Thee for Thy care over us from generation to generation. and for the new era which unfolds before us. Let Thy spirit descend upon us with all Its cleansing. healing. and creative power. Make usnew persons for new times in a land newborn in spirit. May the solemn induction of the new Members of this body be a renewal of the vocatinal vows of all others. In the deliberations of this new Congress keep our motives pure. our vision clear. our patriotism undefiled. our speech chaste. our judgments fair. and our consciences unbetrayed. Help us to develop work patterns which sustain the soul. nourish the mind. and strengthen the will. And give us grace to make time for the family. for home. and for worship. What we pray for this body we pray for all others in the service of the Government. Send us each day to our tasks to do Justly.to love mercy. and to walk humbly with our God. Hear us as we pray together the prayerthe Master taught us\"Our Father who art in heaven. hallowed be Thy name. Thy kingdom come. Thy will be done in Earth. as it is in heaven. Give us this day our daily bread. And forgive us our trespasses as we forgive those who trespass against us. And lead us not into temptation. but deliver us from evil* For Thine is the kingdom. and the power. and the glory forever.\" Amen.\r\n"
     ]
    }
   ],
   "source": [
    "!head -2 /tf/notebooks/final-project/data/sample/hein-daily/speeches_097.txt"
   ]
  },
  {
   "cell_type": "code",
   "execution_count": 6,
   "metadata": {},
   "outputs": [
    {
     "name": "stdout",
     "output_type": "stream",
     "text": [
      "283399\r\n"
     ]
    }
   ],
   "source": [
    "!cat /tf/notebooks/final-project/data/sample/hein-daily/speeches_097.txt | wc -l"
   ]
  },
  {
   "cell_type": "code",
   "execution_count": 5,
   "metadata": {},
   "outputs": [],
   "source": [
    "data_path = '/home/yulia/final-project/data/raw/hein-daily'"
   ]
  },
  {
   "cell_type": "code",
   "execution_count": 6,
   "metadata": {},
   "outputs": [
    {
     "name": "stdout",
     "output_type": "stream",
     "text": [
      "\n",
      "File speeches_097.txt has 249718612 characters\n",
      "and 283399 speeches\n",
      "\n",
      "Speeches list has 283399 speeches\n",
      "\n",
      "File speeches_098.txt has 252071246 characters\n",
      "and 280289 speeches\n",
      "\n",
      "Speeches list has 563688 speeches\n",
      "\n",
      "File speeches_099.txt has 265326480 characters\n",
      "and 281528 speeches\n",
      "\n",
      "Speeches list has 845216 speeches\n",
      "\n",
      "File speeches_100.txt has 270610780 characters\n",
      "and 276162 speeches\n",
      "\n",
      "Speeches list has 1121378 speeches\n",
      "\n",
      "File speeches_101.txt has 261004871 characters\n",
      "and 251217 speeches\n",
      "\n",
      "Speeches list has 1372595 speeches\n",
      "\n",
      "File speeches_102.txt has 271650630 characters\n",
      "and 243092 speeches\n",
      "\n",
      "Speeches list has 1615687 speeches\n",
      "\n",
      "File speeches_103.txt has 249908822 characters\n",
      "and 235974 speeches\n",
      "\n",
      "Speeches list has 1851661 speeches\n",
      "\n",
      "File speeches_104.txt has 280355367 characters\n",
      "and 274985 speeches\n",
      "\n",
      "Speeches list has 2126646 speeches\n",
      "\n",
      "File speeches_105.txt has 235226903 characters\n",
      "and 209267 speeches\n",
      "\n",
      "Speeches list has 2335913 speeches\n",
      "\n",
      "File speeches_106.txt has 243801385 characters\n",
      "and 209648 speeches\n",
      "\n",
      "Speeches list has 2545561 speeches\n",
      "\n",
      "File speeches_107.txt has 214724318 characters\n",
      "and 180726 speeches\n",
      "\n",
      "Speeches list has 2726287 speeches\n",
      "\n",
      "File speeches_108.txt has 237009565 characters\n",
      "and 200159 speeches\n",
      "\n",
      "Speeches list has 2926446 speeches\n",
      "\n",
      "File speeches_109.txt has 226698889 characters\n",
      "and 187647 speeches\n",
      "\n",
      "Speeches list has 3114093 speeches\n",
      "\n",
      "File speeches_110.txt has 242773059 characters\n",
      "and 211367 speeches\n",
      "\n",
      "Speeches list has 3325460 speeches\n",
      "\n",
      "File speeches_111.txt has 183499959 characters\n",
      "and 154400 speeches\n",
      "\n",
      "Speeches list has 3479860 speeches\n",
      "\n",
      "File speeches_112.txt has 174117603 characters\n",
      "and 145901 speeches\n",
      "\n",
      "Speeches list has 3625761 speeches\n",
      "\n",
      "File speeches_113.txt has 153424011 characters\n",
      "and 128149 speeches\n",
      "\n",
      "Speeches list has 3753910 speeches\n",
      "\n",
      "File speeches_114.txt has 130969173 characters\n",
      "and 112291 speeches\n",
      "\n",
      "Speeches list has 3866201 speeches\n"
     ]
    }
   ],
   "source": [
    "reload(load_data)\n",
    "all_speech_ids, all_speeches = load_data.load_speech_data(data_path)"
   ]
  },
  {
   "cell_type": "code",
   "execution_count": 7,
   "metadata": {},
   "outputs": [
    {
     "data": {
      "text/plain": [
       "(3866201, 3866201)"
      ]
     },
     "execution_count": 7,
     "metadata": {},
     "output_type": "execute_result"
    }
   ],
   "source": [
    "len(all_speech_ids), len(all_speeches)"
   ]
  },
  {
   "cell_type": "markdown",
   "metadata": {},
   "source": [
    "## Create target labels"
   ]
  },
  {
   "cell_type": "code",
   "execution_count": 2,
   "metadata": {},
   "outputs": [
    {
     "name": "stdout",
     "output_type": "stream",
     "text": [
      "2914465\r\n"
     ]
    }
   ],
   "source": [
    "!cat /tf/notebooks/final-project/data/QA/full_descr.txt | wc -l"
   ]
  },
  {
   "cell_type": "code",
   "execution_count": null,
   "metadata": {},
   "outputs": [],
   "source": [
    "# OPEN descr FROM A SAVED FILE (if it was previously saved)\n",
    "outdata_path = '/home/yulia/final-project/Classification/data'\n",
    "descr = pickle.load(open(os.path.join(outdata_path, 'descr.p'), 'rb'))"
   ]
  },
  {
   "cell_type": "markdown",
   "metadata": {},
   "source": [
    "37,617 fuzzy match speeches had multiple duplicates. Delete them from the dictionary"
   ]
  },
  {
   "cell_type": "code",
   "execution_count": 9,
   "metadata": {},
   "outputs": [
    {
     "name": "stdout",
     "output_type": "stream",
     "text": [
      "2914465 lines have been read\n",
      "37617 keys had duplicates and deleted\n",
      "The dictionary has 2808050 keys\n",
      "\n",
      "Random congressperson: 1090182100\n",
      "date 20061114\n",
      "char_count 278\n",
      "word_count 49\n",
      "speakerid 109112991.0\n",
      "Party R\n",
      "Congress 109\n",
      "Chamber S\n",
      "State TN\n",
      "Ethnicity W\n",
      "Age 54.0\n",
      "Age_lt_med 1.0\n",
      "NonWhite 0.0\n",
      "Female 0.0\n",
      "speaker Mr. FRIST\n",
      "Full Name FRIST, WILLIAM\n",
      "match exact\n",
      "check 1\n",
      "\n",
      "It took 20.8 seconds to create the dictionary\n"
     ]
    }
   ],
   "source": [
    "reload(load_data)\n",
    "start_time = time.time()\n",
    "descr = load_data.load_descr_data('/home/yulia/final-project/data/QA/full_descr.txt')\n",
    "print(\"\\nIt took {0:.1f} seconds to create the dictionary\".format(time.time()-start_time))"
   ]
  },
  {
   "cell_type": "code",
   "execution_count": 10,
   "metadata": {},
   "outputs": [
    {
     "data": {
      "text/plain": [
       "0.9634876258550458"
      ]
     },
     "execution_count": 10,
     "metadata": {},
     "output_type": "execute_result"
    }
   ],
   "source": [
    "# check if sampling worked\n",
    "len(list(descr.keys()))/2914464"
   ]
  },
  {
   "cell_type": "code",
   "execution_count": 11,
   "metadata": {},
   "outputs": [
    {
     "data": {
      "text/plain": [
       "(3866201, 3866201, 3866201, 3866201, 3866201, 3866201)"
      ]
     },
     "execution_count": 11,
     "metadata": {},
     "output_type": "execute_result"
    }
   ],
   "source": [
    "gender = load_data.create_target_labels(all_speech_ids, descr)[0]\n",
    "len(gender), len(ethnicity), len(age), len(party), len(chamber), len(congress)"
   ]
  },
  {
   "cell_type": "markdown",
   "metadata": {},
   "source": [
    "### Save descr dictionary"
   ]
  },
  {
   "cell_type": "code",
   "execution_count": 233,
   "metadata": {},
   "outputs": [],
   "source": [
    "#outdata_path = '/tf/notebooks/final-project/Classification/data'"
   ]
  },
  {
   "cell_type": "code",
   "execution_count": 12,
   "metadata": {},
   "outputs": [],
   "source": [
    "#pickle.dump(descr, open(os.path.join(outdata_path, 'descr.p'), 'wb'))"
   ]
  },
  {
   "cell_type": "code",
   "execution_count": null,
   "metadata": {},
   "outputs": [],
   "source": [
    "#descr = pickle.load(open(os.path.join(outdata_path, 'descr.p'), 'rb'))"
   ]
  },
  {
   "cell_type": "markdown",
   "metadata": {},
   "source": [
    "### Data QA"
   ]
  },
  {
   "cell_type": "code",
   "execution_count": 13,
   "metadata": {},
   "outputs": [
    {
     "name": "stdout",
     "output_type": "stream",
     "text": [
      "\n",
      " Gender\n",
      "Overall speech counts:\n"
     ]
    },
    {
     "data": {
      "text/html": [
       "<div>\n",
       "<style scoped>\n",
       "    .dataframe tbody tr th:only-of-type {\n",
       "        vertical-align: middle;\n",
       "    }\n",
       "\n",
       "    .dataframe tbody tr th {\n",
       "        vertical-align: top;\n",
       "    }\n",
       "\n",
       "    .dataframe thead th {\n",
       "        text-align: right;\n",
       "    }\n",
       "</style>\n",
       "<table border=\"1\" class=\"dataframe\">\n",
       "  <thead>\n",
       "    <tr style=\"text-align: right;\">\n",
       "      <th></th>\n",
       "      <th>Category</th>\n",
       "      <th>Count</th>\n",
       "    </tr>\n",
       "  </thead>\n",
       "  <tbody>\n",
       "    <tr>\n",
       "      <th>0</th>\n",
       "      <td>-1</td>\n",
       "      <td>1058151</td>\n",
       "    </tr>\n",
       "    <tr>\n",
       "      <th>1</th>\n",
       "      <td>0</td>\n",
       "      <td>2579578</td>\n",
       "    </tr>\n",
       "    <tr>\n",
       "      <th>2</th>\n",
       "      <td>1</td>\n",
       "      <td>228472</td>\n",
       "    </tr>\n",
       "  </tbody>\n",
       "</table>\n",
       "</div>"
      ],
      "text/plain": [
       "<IPython.core.display.HTML object>"
      ]
     },
     "metadata": {},
     "output_type": "display_data"
    },
    {
     "name": "stdout",
     "output_type": "stream",
     "text": [
      "Target group number of speeches by party:\n",
      "A: \t 0\n",
      "D: \t 165834\n",
      "I: \t 0\n",
      "N: \t 0\n",
      "NA: \t -1058151\n",
      "P: \t 0\n",
      "R: \t 62638\n",
      "\n",
      " Ethnicity\n",
      "Overall speech counts:\n"
     ]
    },
    {
     "data": {
      "text/html": [
       "<div>\n",
       "<style scoped>\n",
       "    .dataframe tbody tr th:only-of-type {\n",
       "        vertical-align: middle;\n",
       "    }\n",
       "\n",
       "    .dataframe tbody tr th {\n",
       "        vertical-align: top;\n",
       "    }\n",
       "\n",
       "    .dataframe thead th {\n",
       "        text-align: right;\n",
       "    }\n",
       "</style>\n",
       "<table border=\"1\" class=\"dataframe\">\n",
       "  <thead>\n",
       "    <tr style=\"text-align: right;\">\n",
       "      <th></th>\n",
       "      <th>Category</th>\n",
       "      <th>Count</th>\n",
       "    </tr>\n",
       "  </thead>\n",
       "  <tbody>\n",
       "    <tr>\n",
       "      <th>0</th>\n",
       "      <td>-1</td>\n",
       "      <td>1058151</td>\n",
       "    </tr>\n",
       "    <tr>\n",
       "      <th>1</th>\n",
       "      <td>0</td>\n",
       "      <td>2566825</td>\n",
       "    </tr>\n",
       "    <tr>\n",
       "      <th>2</th>\n",
       "      <td>1</td>\n",
       "      <td>241225</td>\n",
       "    </tr>\n",
       "  </tbody>\n",
       "</table>\n",
       "</div>"
      ],
      "text/plain": [
       "<IPython.core.display.HTML object>"
      ]
     },
     "metadata": {},
     "output_type": "display_data"
    },
    {
     "name": "stdout",
     "output_type": "stream",
     "text": [
      "Target group number of speeches by party:\n",
      "A: \t 21\n",
      "D: \t 213500\n",
      "I: \t 64\n",
      "N: \t 334\n",
      "NA: \t -1058151\n",
      "P: \t 53\n",
      "R: \t 27253\n",
      "\n",
      " Age\n",
      "Overall speech counts:\n"
     ]
    },
    {
     "data": {
      "text/html": [
       "<div>\n",
       "<style scoped>\n",
       "    .dataframe tbody tr th:only-of-type {\n",
       "        vertical-align: middle;\n",
       "    }\n",
       "\n",
       "    .dataframe tbody tr th {\n",
       "        vertical-align: top;\n",
       "    }\n",
       "\n",
       "    .dataframe thead th {\n",
       "        text-align: right;\n",
       "    }\n",
       "</style>\n",
       "<table border=\"1\" class=\"dataframe\">\n",
       "  <thead>\n",
       "    <tr style=\"text-align: right;\">\n",
       "      <th></th>\n",
       "      <th>Category</th>\n",
       "      <th>Count</th>\n",
       "    </tr>\n",
       "  </thead>\n",
       "  <tbody>\n",
       "    <tr>\n",
       "      <th>0</th>\n",
       "      <td>-1</td>\n",
       "      <td>1058151</td>\n",
       "    </tr>\n",
       "    <tr>\n",
       "      <th>1</th>\n",
       "      <td>0</td>\n",
       "      <td>1836698</td>\n",
       "    </tr>\n",
       "    <tr>\n",
       "      <th>2</th>\n",
       "      <td>1</td>\n",
       "      <td>971352</td>\n",
       "    </tr>\n",
       "  </tbody>\n",
       "</table>\n",
       "</div>"
      ],
      "text/plain": [
       "<IPython.core.display.HTML object>"
      ]
     },
     "metadata": {},
     "output_type": "display_data"
    },
    {
     "name": "stdout",
     "output_type": "stream",
     "text": [
      "Target group number of speeches by party:\n",
      "A: \t 21\n",
      "D: \t 482630\n",
      "I: \t 360\n",
      "N: \t 334\n",
      "NA: \t -1058151\n",
      "P: \t 53\n",
      "R: \t 487954\n"
     ]
    }
   ],
   "source": [
    "reload(explore_data)\n",
    "for i in [(gender, \"Gender\"), (ethnicity, \"Ethnicity\"), (age, \"Age\")]:\n",
    "    print(\"\\n\", i[1])\n",
    "    print(\"Overall speech counts:\")\n",
    "    explore_data.get_counts(i[0])\n",
    "    print(\"Target group number of speeches by party:\")\n",
    "    explore_data.get_counts_by_category(i[0], party)"
   ]
  },
  {
   "cell_type": "markdown",
   "metadata": {},
   "source": [
    "## Split into train, validate, test"
   ]
  },
  {
   "cell_type": "code",
   "execution_count": 14,
   "metadata": {
    "scrolled": true
   },
   "outputs": [
    {
     "name": "stdout",
     "output_type": "stream",
     "text": [
      "Training split: 94074 ones and 94074 zeroes\n",
      "Training speech list size: 188148\n",
      "Training target list size: 188148\n",
      "Validation split: 31358 ones and 31358 zeroes\n",
      "Validation speech list size: 62716\n",
      "Validation target list size: 62716\n",
      "Test split: 31358 ones and 31358 zeroes\n",
      "Test speech list size: 62716\n",
      "Test target list size: 62716\n"
     ]
    }
   ],
   "source": [
    "reload(preprocess_data)\n",
    "train, train_ids, train_target, val, val_ids, val_target, test, test_ids, test_target = preprocess_data.split_train_val_test(all_speeches, all_speech_ids, gender, descr)"
   ]
  },
  {
   "cell_type": "code",
   "execution_count": 15,
   "metadata": {},
   "outputs": [
    {
     "data": {
      "text/plain": [
       "(94074, 31358, 31358)"
      ]
     },
     "execution_count": 15,
     "metadata": {},
     "output_type": "execute_result"
    }
   ],
   "source": [
    "sum(train_target), sum(val_target), sum(test_target)"
   ]
  },
  {
   "cell_type": "code",
   "execution_count": 16,
   "metadata": {},
   "outputs": [
    {
     "data": {
      "text/plain": [
       "71682"
      ]
     },
     "execution_count": 16,
     "metadata": {},
     "output_type": "execute_result"
    }
   ],
   "source": [
    "# number of speeches under 30 words\n",
    "sum(np.array(gender)==1) - (sum(train_target) + sum(val_target) + sum(test_target))"
   ]
  },
  {
   "cell_type": "markdown",
   "metadata": {},
   "source": [
    "## Load train, validate, test"
   ]
  },
  {
   "cell_type": "code",
   "execution_count": 6,
   "metadata": {},
   "outputs": [],
   "source": [
    "outdata_path = '/home/yulia/final-project/Classification/data'"
   ]
  },
  {
   "cell_type": "code",
   "execution_count": 7,
   "metadata": {},
   "outputs": [],
   "source": [
    "with open(os.path.join(outdata_path, 'train_list'), 'rb') as fp:\n",
    "    train = pickle.load(fp)\n",
    "with open(os.path.join(outdata_path, 'train_ids'), 'rb') as fp:\n",
    "    train_ids = pickle.load(fp)\n",
    "with open(os.path.join(outdata_path, 'train_target'), 'rb') as fp:\n",
    "    train_target = pickle.load(fp)"
   ]
  },
  {
   "cell_type": "code",
   "execution_count": 8,
   "metadata": {},
   "outputs": [
    {
     "data": {
      "text/plain": [
       "94074"
      ]
     },
     "execution_count": 8,
     "metadata": {},
     "output_type": "execute_result"
    }
   ],
   "source": [
    "sum(train_target)"
   ]
  },
  {
   "cell_type": "code",
   "execution_count": 9,
   "metadata": {},
   "outputs": [],
   "source": [
    "with open(os.path.join(outdata_path, 'val_list'), 'rb') as fp:\n",
    "    val = pickle.load(fp)\n",
    "with open(os.path.join(outdata_path, 'val_ids'), 'rb') as fp:\n",
    "    val_ids = pickle.load(fp)\n",
    "with open(os.path.join(outdata_path, 'val_target'), 'rb') as fp:\n",
    "    val_target = pickle.load(fp)"
   ]
  },
  {
   "cell_type": "code",
   "execution_count": 10,
   "metadata": {},
   "outputs": [
    {
     "data": {
      "text/plain": [
       "31358"
      ]
     },
     "execution_count": 10,
     "metadata": {},
     "output_type": "execute_result"
    }
   ],
   "source": [
    "sum(val_target)"
   ]
  },
  {
   "cell_type": "code",
   "execution_count": 11,
   "metadata": {},
   "outputs": [],
   "source": [
    "with open(os.path.join(outdata_path, 'test_list'), 'rb') as fp:\n",
    "    test = pickle.load(fp)\n",
    "with open(os.path.join(outdata_path, 'test_ids'), 'rb') as fp:\n",
    "    test_ids = pickle.load(fp)\n",
    "with open(os.path.join(outdata_path, 'test_target'), 'rb') as fp:\n",
    "    test_target = pickle.load(fp)"
   ]
  },
  {
   "cell_type": "code",
   "execution_count": 12,
   "metadata": {},
   "outputs": [
    {
     "data": {
      "text/plain": [
       "31358"
      ]
     },
     "execution_count": 12,
     "metadata": {},
     "output_type": "execute_result"
    }
   ],
   "source": [
    "sum(test_target)"
   ]
  },
  {
   "cell_type": "markdown",
   "metadata": {},
   "source": [
    "## CNN"
   ]
  },
  {
   "cell_type": "markdown",
   "metadata": {},
   "source": [
    "Inspiration for code: https://developers.google.com/machine-learning/guides/text-classification/step-3"
   ]
  },
  {
   "cell_type": "markdown",
   "metadata": {},
   "source": [
    "### Pre-processing"
   ]
  },
  {
   "cell_type": "code",
   "execution_count": 17,
   "metadata": {},
   "outputs": [
    {
     "data": {
      "text/plain": [
       "249.0"
      ]
     },
     "execution_count": 17,
     "metadata": {},
     "output_type": "execute_result"
    }
   ],
   "source": [
    "reload(explore_data)\n",
    "explore_data.get_num_words_per_sample(train)"
   ]
  },
  {
   "cell_type": "code",
   "execution_count": 18,
   "metadata": {},
   "outputs": [
    {
     "name": "stdout",
     "output_type": "stream",
     "text": [
      "Speech length percentiles\n",
      "    0     10    20     30     40     50     60     70     80     90       100\n",
      "0  31.0  47.0  82.0  140.0  191.0  249.0  326.0  420.0  565.0  846.0  14321.0\n"
     ]
    },
    {
     "data": {
      "image/png": "[encoded data removed]",
      "text/plain": [
       "<Figure size 1440x720 with 1 Axes>"
      ]
     },
     "metadata": {},
     "output_type": "display_data"
    }
   ],
   "source": [
    "reload(explore_data)\n",
    "explore_data.plot_sample_length_distribution(train)"
   ]
  },
  {
   "cell_type": "markdown",
   "metadata": {},
   "source": [
    "#### OPTIONAL: Split speeches into 100-word chunks"
   ]
  },
  {
   "cell_type": "code",
   "execution_count": 207,
   "metadata": {},
   "outputs": [
    {
     "name": "stdout",
     "output_type": "stream",
     "text": [
      "Original data has 3244 speeches\n",
      "It was split into 12496 chunks\n",
      "Checks on ids and target 12496 12496\n",
      "Original target mean 0.5\n",
      "New target mean 0.5060819462227913\n"
     ]
    }
   ],
   "source": [
    "# reload(preprocess_data)\n",
    "# train_chunk, train_ids_chunk, train_target_chunk = preprocess_data.split_speech_to_chunks(train, train_ids, train_target, max_len=100)"
   ]
  },
  {
   "cell_type": "code",
   "execution_count": 197,
   "metadata": {},
   "outputs": [
    {
     "name": "stdout",
     "output_type": "stream",
     "text": [
      "Original data has 1080 speeches\n",
      "It was split into 4252 chunks\n",
      "Checks on ids and target 4252 4252\n",
      "Original target mean 0.5\n",
      "New target mean 0.47765757290686733\n"
     ]
    }
   ],
   "source": [
    "# val_chunk, val_ids_chunk, val_target_chunk = preprocess_data.split_speech_to_chunks(val, val_ids, val_target, max_len=100)"
   ]
  },
  {
   "cell_type": "code",
   "execution_count": 198,
   "metadata": {},
   "outputs": [
    {
     "name": "stdout",
     "output_type": "stream",
     "text": [
      "Original data has 1084 speeches\n",
      "It was split into 4189 chunks\n",
      "Checks on ids and target 4189 4189\n",
      "Original target mean 0.5\n",
      "New target mean 0.5301981379804249\n"
     ]
    }
   ],
   "source": [
    "# test_chunk, test_ids_chunk, test_target_chunk = preprocess_data.split_speech_to_chunks(test, test_ids, test_target, max_len=100)"
   ]
  },
  {
   "cell_type": "markdown",
   "metadata": {},
   "source": [
    "### Tokenize speeches"
   ]
  },
  {
   "cell_type": "code",
   "execution_count": 13,
   "metadata": {},
   "outputs": [],
   "source": [
    "# Limit on the number of features. \n",
    "TOP_K = 20000\n",
    "\n",
    "# Limit on the length of text sequences. Sequences longer than this\n",
    "# will be truncated.\n",
    "# MAX_SEQUENCE_LENGTH = 100\n",
    "MAX_SEQUENCE_LENGTH = 750\n",
    "\n",
    "vec_params = {\n",
    "    'num_words': TOP_K,\n",
    "    'max_seq_length': MAX_SEQUENCE_LENGTH\n",
    "}"
   ]
  },
  {
   "cell_type": "code",
   "execution_count": 32,
   "metadata": {},
   "outputs": [],
   "source": [
    "# del train_vec, val_vec, test_vec"
   ]
  },
  {
   "cell_type": "code",
   "execution_count": 14,
   "metadata": {},
   "outputs": [
    {
     "name": "stdout",
     "output_type": "stream",
     "text": [
      "\n",
      "It took 143.8 seconds to tokenize the data\n"
     ]
    }
   ],
   "source": [
    "reload(preprocess_data)\n",
    "start_time = time.time()\n",
    "train_vec, val_vec, test_vec, word_index = preprocess_data.sequence_vectorize(train, val, test, **vec_params)\n",
    "print(\"\\nIt took {:.1f} seconds to tokenize the data\".format(time.time()-start_time))"
   ]
  },
  {
   "cell_type": "code",
   "execution_count": 15,
   "metadata": {},
   "outputs": [
    {
     "data": {
      "text/plain": [
       "(188148, 62716, 62716)"
      ]
     },
     "execution_count": 15,
     "metadata": {},
     "output_type": "execute_result"
    }
   ],
   "source": [
    "len(train), len(val), len(test)"
   ]
  },
  {
   "cell_type": "code",
   "execution_count": 164,
   "metadata": {},
   "outputs": [
    {
     "data": {
      "text/plain": [
       "(12370, 4010, 4089)"
      ]
     },
     "execution_count": 164,
     "metadata": {},
     "output_type": "execute_result"
    }
   ],
   "source": [
    "#len(train_chunk), len(val_chunk), len(test_chunk)"
   ]
  },
  {
   "cell_type": "code",
   "execution_count": 16,
   "metadata": {},
   "outputs": [
    {
     "data": {
      "text/plain": [
       "(188148, 62716, 62716)"
      ]
     },
     "execution_count": 16,
     "metadata": {},
     "output_type": "execute_result"
    }
   ],
   "source": [
    "len(train_vec), len(val_vec), len(test_vec)"
   ]
  },
  {
   "cell_type": "code",
   "execution_count": 17,
   "metadata": {},
   "outputs": [
    {
     "data": {
      "text/plain": [
       "(19999, 19999, 19999)"
      ]
     },
     "execution_count": 17,
     "metadata": {},
     "output_type": "execute_result"
    }
   ],
   "source": [
    "max(map(max, train_vec)), max(map(max, val_vec)), max(map(max, test_vec))"
   ]
  },
  {
   "cell_type": "code",
   "execution_count": 18,
   "metadata": {},
   "outputs": [
    {
     "data": {
      "text/plain": [
       "474945"
      ]
     },
     "execution_count": 18,
     "metadata": {},
     "output_type": "execute_result"
    }
   ],
   "source": [
    "len(word_index)"
   ]
  },
  {
   "cell_type": "code",
   "execution_count": 19,
   "metadata": {},
   "outputs": [
    {
     "data": {
      "text/plain": [
       "(750,)"
      ]
     },
     "execution_count": 19,
     "metadata": {},
     "output_type": "execute_result"
    }
   ],
   "source": [
    "train_vec[0].shape"
   ]
  },
  {
   "cell_type": "code",
   "execution_count": 20,
   "metadata": {},
   "outputs": [
    {
     "data": {
      "text/plain": [
       "array([ 313,    4, 5086,   11,   63,    1, 1366,  343,    2,  161],\n",
       "      dtype=int32)"
      ]
     },
     "execution_count": 20,
     "metadata": {},
     "output_type": "execute_result"
    }
   ],
   "source": [
    "train_vec[0][-10:]"
   ]
  },
  {
   "cell_type": "code",
   "execution_count": 21,
   "metadata": {},
   "outputs": [
    {
     "data": {
      "text/plain": [
       "'Madam Speaker. it is my pleasure to yield 2 minutes to the distinguished gentlelady from California. Congresswoman BARBARA LEE. a member of the Committee on Appropriations and a Member with a long history of advocating for those unempovwered persons around the world.'"
      ]
     },
     "execution_count": 21,
     "metadata": {},
     "output_type": "execute_result"
    }
   ],
   "source": [
    "train[0]"
   ]
  },
  {
   "cell_type": "code",
   "execution_count": 22,
   "metadata": {},
   "outputs": [
    {
     "name": "stdout",
     "output_type": "stream",
     "text": [
      "history 313\n",
      "of 4\n",
      "advocating 5086\n",
      "for 11\n",
      "those 63\n",
      "unempovwered 167693\n",
      "persons 1366\n",
      "around 343\n",
      "the 2\n",
      "world 161\n"
     ]
    }
   ],
   "source": [
    "for word in train[0].split()[-10:]:\n",
    "    word = re.sub(r'[^\\w\\s]','',word)\n",
    "    print(word, word_index[word])"
   ]
  },
  {
   "cell_type": "markdown",
   "metadata": {},
   "source": [
    "### Saving processed files"
   ]
  },
  {
   "cell_type": "code",
   "execution_count": null,
   "metadata": {},
   "outputs": [],
   "source": [
    "#del descr"
   ]
  },
  {
   "cell_type": "code",
   "execution_count": 23,
   "metadata": {},
   "outputs": [],
   "source": [
    "token_path = '/home/yulia/final-project/Classification/data/tokenized'"
   ]
  },
  {
   "cell_type": "code",
   "execution_count": 24,
   "metadata": {},
   "outputs": [],
   "source": [
    "np.save(os.path.join(token_path, 'train_vec'), train_vec)\n",
    "np.save(os.path.join(token_path, 'val_vec'), val_vec)\n",
    "np.save(os.path.join(token_path, 'test_vec'), test_vec)"
   ]
  },
  {
   "cell_type": "code",
   "execution_count": 7,
   "metadata": {},
   "outputs": [],
   "source": [
    "train_vec = np.load(os.path.join(token_path, 'train_vec.npy'))\n",
    "val_vec = np.load(os.path.join(token_path, 'val_vec.npy'))\n",
    "test_vec = np.load(os.path.join(token_path, 'test_vec.npy'))"
   ]
  },
  {
   "cell_type": "code",
   "execution_count": 8,
   "metadata": {},
   "outputs": [
    {
     "data": {
      "text/plain": [
       "(188148, 62716, 62716)"
      ]
     },
     "execution_count": 8,
     "metadata": {},
     "output_type": "execute_result"
    }
   ],
   "source": [
    "len(train_vec), len(val_vec), len(test_vec)"
   ]
  },
  {
   "cell_type": "code",
   "execution_count": null,
   "metadata": {},
   "outputs": [],
   "source": [
    "pickle.dump(word_index, open(os.path.join(token_path, 'word_index.p'), 'wb'))"
   ]
  },
  {
   "cell_type": "code",
   "execution_count": null,
   "metadata": {},
   "outputs": [],
   "source": [
    "word_index = pickle.load(open(os.path.join(token_path, 'word_index.p'), 'rb'))"
   ]
  },
  {
   "cell_type": "code",
   "execution_count": null,
   "metadata": {},
   "outputs": [],
   "source": [
    "del descr"
   ]
  },
  {
   "cell_type": "markdown",
   "metadata": {},
   "source": [
    "## CNN Models"
   ]
  },
  {
   "cell_type": "code",
   "execution_count": 25,
   "metadata": {},
   "outputs": [],
   "source": [
    "logs_base_dir = \"/home/yulia/final-project/Classification/logs\""
   ]
  },
  {
   "cell_type": "code",
   "execution_count": 26,
   "metadata": {},
   "outputs": [],
   "source": [
    "cnn_model_params = {\n",
    "    'model': 'cnn',\n",
    "    'learning_rate': 0.001,\n",
    "    'layers': 2,\n",
    "    'epochs': 1000,\n",
    "    'batch_size': 128,\n",
    "    'filters': 64,\n",
    "    'dropout_rate': 0.2,\n",
    "    'embedding_dim': 100,\n",
    "    'kernel_size': 3,\n",
    "    'pool_size': 1,\n",
    "    'max_num_words': TOP_K,\n",
    "    'use_pretrained_embedding': True,\n",
    "    'is_embedding_trainable': True,\n",
    "    'glove_dir': '/home/yulia/final-project/data'\n",
    "}"
   ]
  },
  {
   "cell_type": "code",
   "execution_count": 179,
   "metadata": {},
   "outputs": [],
   "source": [
    "# train_shuffle = np.random.permutation(np.arange(len(train_target_chunk)))\n",
    "# train_vec = train_vec[train_shuffle]\n",
    "# train_target_chunk = np.array(train_target_chunk, dtype=int)[train_shuffle]"
   ]
  },
  {
   "cell_type": "code",
   "execution_count": 46,
   "metadata": {},
   "outputs": [],
   "source": [
    "#len(train_target_chunk), len(train_target)"
   ]
  },
  {
   "cell_type": "code",
   "execution_count": 27,
   "metadata": {},
   "outputs": [
    {
     "name": "stdout",
     "output_type": "stream",
     "text": [
      "Found 400000 word vectors.\n",
      "It took 12.5 seconds\n",
      "Preparing embedding matrix.\n",
      "20000 20000\n",
      "Embedding matrix has been built.\n",
      "Its shape is (20000, 100).\n",
      "It took 0.1 seconds\n",
      "WARNING:tensorflow:From /home/yulia/anaconda3/lib/python3.6/site-packages/tensorflow/python/ops/resource_variable_ops.py:435: colocate_with (from tensorflow.python.framework.ops) is deprecated and will be removed in a future version.\n",
      "Instructions for updating:\n",
      "Colocations handled automatically by placer.\n",
      "WARNING:tensorflow:From /home/yulia/anaconda3/lib/python3.6/site-packages/tensorflow/python/keras/layers/core.py:143: calling dropout (from tensorflow.python.ops.nn_ops) with keep_prob is deprecated and will be removed in a future version.\n",
      "Instructions for updating:\n",
      "Please use `rate` instead of `keep_prob`. Rate should be set to `rate = 1 - keep_prob`.\n",
      "Train on 188148 samples, validate on 62716 samples\n",
      "WARNING:tensorflow:From /home/yulia/anaconda3/lib/python3.6/site-packages/tensorflow/python/ops/math_ops.py:3066: to_int32 (from tensorflow.python.ops.math_ops) is deprecated and will be removed in a future version.\n",
      "Instructions for updating:\n",
      "Use tf.cast instead.\n",
      "WARNING:tensorflow:From /home/yulia/anaconda3/lib/python3.6/site-packages/tensorflow/python/ops/math_grad.py:102: div (from tensorflow.python.ops.math_ops) is deprecated and will be removed in a future version.\n",
      "Instructions for updating:\n",
      "Deprecated in favor of operator or tf.math.divide.\n",
      "Epoch 1/1000\n",
      " - 891s - loss: 0.6318 - acc: 0.6429 - val_loss: 0.6040 - val_acc: 0.6735\n",
      "Epoch 2/1000\n",
      " - 897s - loss: 0.6035 - acc: 0.6738 - val_loss: 0.5883 - val_acc: 0.6871\n",
      "Epoch 3/1000\n",
      " - 899s - loss: 0.5931 - acc: 0.6826 - val_loss: 0.5817 - val_acc: 0.6926\n",
      "Epoch 4/1000\n",
      " - 900s - loss: 0.5860 - acc: 0.6880 - val_loss: 0.5777 - val_acc: 0.6994\n",
      "Epoch 5/1000\n",
      " - 910s - loss: 0.5818 - acc: 0.6927 - val_loss: 0.5709 - val_acc: 0.7025\n",
      "Epoch 6/1000\n",
      " - 903s - loss: 0.5783 - acc: 0.6955 - val_loss: 0.5686 - val_acc: 0.7033\n",
      "Epoch 7/1000\n",
      " - 905s - loss: 0.5744 - acc: 0.6989 - val_loss: 0.5663 - val_acc: 0.7062\n",
      "Epoch 8/1000\n",
      " - 899s - loss: 0.5721 - acc: 0.7012 - val_loss: 0.5640 - val_acc: 0.7093\n",
      "Epoch 9/1000\n",
      " - 904s - loss: 0.5703 - acc: 0.7038 - val_loss: 0.5628 - val_acc: 0.7116\n",
      "Epoch 10/1000\n",
      " - 901s - loss: 0.5678 - acc: 0.7045 - val_loss: 0.5724 - val_acc: 0.6992\n",
      "Epoch 11/1000\n",
      " - 902s - loss: 0.5660 - acc: 0.7050 - val_loss: 0.5597 - val_acc: 0.7133\n",
      "Epoch 12/1000\n",
      " - 897s - loss: 0.5638 - acc: 0.7080 - val_loss: 0.5561 - val_acc: 0.7151\n",
      "Epoch 13/1000\n",
      " - 891s - loss: 0.5633 - acc: 0.7077 - val_loss: 0.5597 - val_acc: 0.7099\n",
      "Epoch 14/1000\n",
      " - 888s - loss: 0.5623 - acc: 0.7093 - val_loss: 0.5558 - val_acc: 0.7169\n",
      "Epoch 15/1000\n",
      " - 888s - loss: 0.5600 - acc: 0.7111 - val_loss: 0.5533 - val_acc: 0.7189\n",
      "Epoch 16/1000\n",
      " - 870s - loss: 0.5597 - acc: 0.7110 - val_loss: 0.5540 - val_acc: 0.7180\n",
      "Epoch 17/1000\n",
      " - 872s - loss: 0.5580 - acc: 0.7125 - val_loss: 0.5512 - val_acc: 0.7189\n",
      "Epoch 18/1000\n",
      " - 886s - loss: 0.5583 - acc: 0.7122 - val_loss: 0.5508 - val_acc: 0.7199\n",
      "Epoch 19/1000\n",
      " - 891s - loss: 0.5567 - acc: 0.7143 - val_loss: 0.5491 - val_acc: 0.7215\n",
      "Epoch 20/1000\n",
      " - 889s - loss: 0.5568 - acc: 0.7130 - val_loss: 0.5512 - val_acc: 0.7188\n",
      "Epoch 21/1000\n",
      " - 893s - loss: 0.5543 - acc: 0.7150 - val_loss: 0.5510 - val_acc: 0.7207\n",
      "Validation accuracy: 0.7206773161888123, loss: 0.5509712613353513\n"
     ]
    }
   ],
   "source": [
    "reload(train_model)\n",
    "history, train_pred_probs, val_pred_probs = train_model.train_model(((train_vec, train_target), (val_vec, val_target)), word_index, logs_base_dir, **cnn_model_params)"
   ]
  },
  {
   "cell_type": "markdown",
   "metadata": {},
   "source": [
    "### Clean up space/save outputs"
   ]
  },
  {
   "cell_type": "code",
   "execution_count": 44,
   "metadata": {},
   "outputs": [],
   "source": [
    "# del train, train_ids, train_pred_probs, train_target, train_vec"
   ]
  },
  {
   "cell_type": "code",
   "execution_count": 29,
   "metadata": {},
   "outputs": [],
   "source": [
    "probs_path = '/home/yulia/final-project/Classification/data/cnn/gender'"
   ]
  },
  {
   "cell_type": "code",
   "execution_count": 30,
   "metadata": {},
   "outputs": [],
   "source": [
    "with open(os.path.join(probs_path, 'val_pred_probs'), 'wb') as fp:\n",
    "    pickle.dump(val_pred_probs, fp)"
   ]
  },
  {
   "cell_type": "code",
   "execution_count": null,
   "metadata": {},
   "outputs": [],
   "source": [
    "with open(os.path.join(probs_path, 'val_pred_probs'), 'rb') as fp:\n",
    "    val_pred_probs = pickle.load(fp)"
   ]
  },
  {
   "cell_type": "markdown",
   "metadata": {},
   "source": [
    "## Model evaluation"
   ]
  },
  {
   "cell_type": "code",
   "execution_count": 31,
   "metadata": {},
   "outputs": [
    {
     "data": {
      "text/plain": [
       "45198"
      ]
     },
     "execution_count": 31,
     "metadata": {},
     "output_type": "execute_result"
    }
   ],
   "source": [
    "val_preds = val_pred_probs > 0.5\n",
    "np.sum(val_preds.flatten()==val_target)"
   ]
  },
  {
   "cell_type": "code",
   "execution_count": 32,
   "metadata": {},
   "outputs": [
    {
     "data": {
      "text/plain": [
       "((62716, 1), 62716)"
      ]
     },
     "execution_count": 32,
     "metadata": {},
     "output_type": "execute_result"
    }
   ],
   "source": [
    "val_preds.shape, len(val_target)"
   ]
  },
  {
   "cell_type": "code",
   "execution_count": 33,
   "metadata": {},
   "outputs": [
    {
     "name": "stdout",
     "output_type": "stream",
     "text": [
      "Confusion matrix, without normalization\n",
      "[[24431  6927]\n",
      " [10591 20767]]\n"
     ]
    },
    {
     "data": {
      "text/plain": [
       "<matplotlib.axes._subplots.AxesSubplot at 0x7f3ed7662240>"
      ]
     },
     "execution_count": 33,
     "metadata": {},
     "output_type": "execute_result"
    },
    {
     "data": {
      "image/png": "[encoded data removed]",
      "text/plain": [
       "<Figure size 432x288 with 2 Axes>"
      ]
     },
     "metadata": {},
     "output_type": "display_data"
    }
   ],
   "source": [
    "reload(explore_data)\n",
    "# specify class names in 0 - 1 order\n",
    "classes = ['Male', 'Female']\n",
    "explore_data.plot_confusion_matrix(val_target, val_preds, classes, normalize=True)"
   ]
  },
  {
   "cell_type": "code",
   "execution_count": 35,
   "metadata": {
    "scrolled": false
   },
   "outputs": [
    {
     "data": {
      "image/png": "[encoded data removed]",
      "text/plain": [
       "<Figure size 720x720 with 2 Axes>"
      ]
     },
     "metadata": {},
     "output_type": "display_data"
    }
   ],
   "source": [
    "reload(explore_data)\n",
    "explore_data.plot_calibration_curve(val_target, val_pred_probs, 'Gender')"
   ]
  },
  {
   "cell_type": "code",
   "execution_count": 34,
   "metadata": {},
   "outputs": [
    {
     "name": "stderr",
     "output_type": "stream",
     "text": [
      "/home/yulia/anaconda3/lib/python3.6/site-packages/numpy/lib/arraysetops.py:472: FutureWarning: elementwise comparison failed; returning scalar instead, but in the future will perform elementwise comparison\n",
      "  mask |= (ar1 == a)\n"
     ]
    },
    {
     "data": {
      "text/plain": [
       "(62716, 16)"
      ]
     },
     "execution_count": 34,
     "metadata": {},
     "output_type": "execute_result"
    }
   ],
   "source": [
    "descr_df = pd.read_csv('/home/yulia/final-project/data/QA/full_descr.txt', sep=\"|\", index_col=0)\n",
    "descr_df = descr_df.loc[np.asarray(val_ids, dtype=int)]\n",
    "descr_df.shape"
   ]
  },
  {
   "cell_type": "code",
   "execution_count": 36,
   "metadata": {
    "scrolled": true
   },
   "outputs": [
    {
     "name": "stdout",
     "output_type": "stream",
     "text": [
      "Validation sample means:\n",
      "      Gender_F  Ethinicity_NW     AvgAge   Party_D  Chamber_H  AvgWordCount\n",
      "base       0.5       0.173991  58.285477  0.621468   0.659816     387.29868\n"
     ]
    },
    {
     "data": {
      "text/html": [
       "<div>\n",
       "<style scoped>\n",
       "    .dataframe tbody tr th:only-of-type {\n",
       "        vertical-align: middle;\n",
       "    }\n",
       "\n",
       "    .dataframe tbody tr th {\n",
       "        vertical-align: top;\n",
       "    }\n",
       "\n",
       "    .dataframe thead th {\n",
       "        text-align: right;\n",
       "    }\n",
       "</style>\n",
       "<table border=\"1\" class=\"dataframe\">\n",
       "  <thead>\n",
       "    <tr style=\"text-align: right;\">\n",
       "      <th></th>\n",
       "      <th>Gender_F</th>\n",
       "      <th>Ethinicity_NW</th>\n",
       "      <th>AvgAge</th>\n",
       "      <th>Party_D</th>\n",
       "      <th>Chamber_H</th>\n",
       "      <th>AvgWordCount</th>\n",
       "    </tr>\n",
       "  </thead>\n",
       "  <tbody>\n",
       "    <tr>\n",
       "      <th>0.4</th>\n",
       "      <td>0.48</td>\n",
       "      <td>0.39</td>\n",
       "      <td>0.99</td>\n",
       "      <td>0.84</td>\n",
       "      <td>0.68</td>\n",
       "      <td>0.94</td>\n",
       "    </tr>\n",
       "    <tr>\n",
       "      <th>0.6</th>\n",
       "      <td>1.09</td>\n",
       "      <td>0.99</td>\n",
       "      <td>0.99</td>\n",
       "      <td>0.99</td>\n",
       "      <td>1.17</td>\n",
       "      <td>0.94</td>\n",
       "    </tr>\n",
       "    <tr>\n",
       "      <th>1.0</th>\n",
       "      <td>1.62</td>\n",
       "      <td>1.82</td>\n",
       "      <td>1.02</td>\n",
       "      <td>1.22</td>\n",
       "      <td>1.27</td>\n",
       "      <td>1.14</td>\n",
       "    </tr>\n",
       "  </tbody>\n",
       "</table>\n",
       "</div>"
      ],
      "text/plain": [
       "     Gender_F  Ethinicity_NW  AvgAge  Party_D  Chamber_H  AvgWordCount\n",
       "0.4      0.48           0.39    0.99     0.84       0.68          0.94\n",
       "0.6      1.09           0.99    0.99     0.99       1.17          0.94\n",
       "1.0      1.62           1.82    1.02     1.22       1.27          1.14"
      ]
     },
     "execution_count": 36,
     "metadata": {},
     "output_type": "execute_result"
    }
   ],
   "source": [
    "reload(explore_data)\n",
    "# checking the ratios of demo variables in low-mid-high probability buckets\n",
    "explore_data.check_bin_probs_distr(val_pred_probs, \n",
    "                                   val_ids, \n",
    "                                   descr_df)"
   ]
  },
  {
   "cell_type": "code",
   "execution_count": 38,
   "metadata": {},
   "outputs": [
    {
     "name": "stdout",
     "output_type": "stream",
     "text": [
      "\n",
      "Top 10 ngrams by differentiating score:\n",
      "rise \t 2765.8\n",
      "speaker rise \t 2256.4\n",
      "mr president \t 1900.5\n",
      "women \t 1472.8\n",
      "speaker \t 1338.6\n",
      "rise today \t 1284.8\n",
      "colleagues to \t 1146.6\n",
      "families \t 1058.2\n",
      "our \t 978.5\n",
      "mr speaker \t 943.9\n"
     ]
    },
    {
     "data": {
      "text/html": [
       "<div>\n",
       "<style scoped>\n",
       "    .dataframe tbody tr th:only-of-type {\n",
       "        vertical-align: middle;\n",
       "    }\n",
       "\n",
       "    .dataframe tbody tr th {\n",
       "        vertical-align: top;\n",
       "    }\n",
       "\n",
       "    .dataframe thead th {\n",
       "        text-align: right;\n",
       "    }\n",
       "</style>\n",
       "<table border=\"1\" class=\"dataframe\">\n",
       "  <thead>\n",
       "    <tr style=\"text-align: right;\">\n",
       "      <th>bin</th>\n",
       "      <th>1</th>\n",
       "      <th>2</th>\n",
       "      <th>3</th>\n",
       "    </tr>\n",
       "  </thead>\n",
       "  <tbody>\n",
       "    <tr>\n",
       "      <th>colleagues to</th>\n",
       "      <td>2089.0</td>\n",
       "      <td>2743.0</td>\n",
       "      <td>5130.0</td>\n",
       "    </tr>\n",
       "    <tr>\n",
       "      <th>families</th>\n",
       "      <td>2195.0</td>\n",
       "      <td>3739.0</td>\n",
       "      <td>9975.0</td>\n",
       "    </tr>\n",
       "    <tr>\n",
       "      <th>mr president</th>\n",
       "      <td>17942.0</td>\n",
       "      <td>4117.0</td>\n",
       "      <td>3216.0</td>\n",
       "    </tr>\n",
       "    <tr>\n",
       "      <th>mr speaker</th>\n",
       "      <td>10830.0</td>\n",
       "      <td>14348.0</td>\n",
       "      <td>17746.0</td>\n",
       "    </tr>\n",
       "    <tr>\n",
       "      <th>our</th>\n",
       "      <td>37790.0</td>\n",
       "      <td>37182.0</td>\n",
       "      <td>61464.0</td>\n",
       "    </tr>\n",
       "    <tr>\n",
       "      <th>rise</th>\n",
       "      <td>3356.0</td>\n",
       "      <td>4710.0</td>\n",
       "      <td>9141.0</td>\n",
       "    </tr>\n",
       "    <tr>\n",
       "      <th>rise today</th>\n",
       "      <td>1250.0</td>\n",
       "      <td>2017.0</td>\n",
       "      <td>3913.0</td>\n",
       "    </tr>\n",
       "    <tr>\n",
       "      <th>speaker</th>\n",
       "      <td>12180.0</td>\n",
       "      <td>16613.0</td>\n",
       "      <td>21643.0</td>\n",
       "    </tr>\n",
       "    <tr>\n",
       "      <th>speaker rise</th>\n",
       "      <td>905.0</td>\n",
       "      <td>2079.0</td>\n",
       "      <td>4653.0</td>\n",
       "    </tr>\n",
       "    <tr>\n",
       "      <th>women</th>\n",
       "      <td>1609.0</td>\n",
       "      <td>2665.0</td>\n",
       "      <td>17286.0</td>\n",
       "    </tr>\n",
       "  </tbody>\n",
       "</table>\n",
       "</div>"
      ],
      "text/plain": [
       "bin                  1        2        3\n",
       "colleagues to   2089.0   2743.0   5130.0\n",
       "families        2195.0   3739.0   9975.0\n",
       "mr president   17942.0   4117.0   3216.0\n",
       "mr speaker     10830.0  14348.0  17746.0\n",
       "our            37790.0  37182.0  61464.0\n",
       "rise            3356.0   4710.0   9141.0\n",
       "rise today      1250.0   2017.0   3913.0\n",
       "speaker        12180.0  16613.0  21643.0\n",
       "speaker rise     905.0   2079.0   4653.0\n",
       "women           1609.0   2665.0  17286.0"
      ]
     },
     "execution_count": 38,
     "metadata": {},
     "output_type": "execute_result"
    }
   ],
   "source": [
    "reload(explore_data)\n",
    "explore_data.compare_ngrams(val, val_pred_probs, ngram_range=(1, 2))"
   ]
  },
  {
   "cell_type": "code",
   "execution_count": 37,
   "metadata": {
    "scrolled": false
   },
   "outputs": [
    {
     "name": "stdout",
     "output_type": "stream",
     "text": [
      "\n",
      "True positive (Predicted prob: 0.90):\n",
      "\n",
      "date               20151028\n",
      "char_count             3522\n",
      "word_count              570\n",
      "speakerid       1.14121e+08\n",
      "Party                     D\n",
      "Congress                114\n",
      "Chamber                   H\n",
      "State                    CA\n",
      "Ethnicity                 W\n",
      "Age                      76\n",
      "Age_lt_med                0\n",
      "NonWhite                  0\n",
      "Female                    1\n",
      "speaker          Ms. PELOSI\n",
      "Full Name     PELOSI, NANCY\n",
      "match                 exact\n",
      "Name: 1140059079, dtype: object\n",
      "\n",
      " I thank the gentleman from Maryland for yielding and for his kind words. and I return the compliment to him. To the staff of the Budget Committee. the staff of the other committees of jurisdiction on both sides of the aisle who enabled this important agreement to come forward. thank you very much. Madam Speaker. today we are proud to come to the floor with legislation that moves America forward. affirming the full faith and credit of the United States of America. as our Constitution says should never be in doubt. and passing a budget agreement that creates jobs. protects seniors. and invests in our future. Today we cast our votes for a bipartisan budget package that represents significant progress for hardworking American families. Throughout the budget process. I am proud that Democrats have been united by our values and our determination to win progress for those hardworking American families. We showed we had the votes and the resolve to sustain the Presidents vetoes of funding bills that did not meet the needs of those people. Working with our Republican colleagues on a compromise enabled us at long last to bring to the floor a bill. a bill with which we have broken the sequester stranglehold on our national defense and our investments in goodpaying jobs and the future of America. In this agreement before the House. we achieve equal funding. we honor the principle of parity between defense and domestic priorities. We achieve equal funding increases for defense and domestic initiatives. amounting to $112 billion over the next 2 years. We prevent a 20 percent cut in disability benefits for millions of people in 2016 and extend the solvency of the Social Security Disability Insurance program. We prevent a drastic increase in Medicare part B premiums and deductibles for millions of seniors next year. And we affirm the full faith and credit of the United States is nonnegotiable and unbreakable. with a clean debt limit suspension. We push through the gridlock to provide more economic certainty and. according to the Council of Economic Advisers. create an additional 340.000 jobs in 2016 alone. Budget and senior groups and groups for disability are lining up in strong support of this agreement. As AARP wrote to congressional leadersIm sure you saw this. Mr. ROGERS. and thank you for your courageous support of this legislation. our great chairman of the Appropriations CommitteeAARP wrote. \"AARP strongly supports the bipartisan agreement you have reached to avert deep reductions in Social Security Disability Insurance benefits in 2016. and to address the imminent spike in Medicare Part B premiums which many older Americans would otherwise experience. Your efforts to reach across the aisle and together find sensible solutions to significant problems are appreciated and commended.\" Working together. Madam Speaker. Democrats and Republicans. we have found a way forward for the American people. I thank the Republican leadership for their partnership in reaching this agreement. Again. I thank the staffs of the committees of jurisdiction: the Budget Committee. the Ways and Means Committee. the Appropriations Committee. the Energy and Commerce Committee. and others. I commend our colleagues for speaking out on this important agreement. Let us pass this agreement. Lets vote \"yes\" today together. Let us pass this agreement. move swiftly to keep government open. and make progress for the American people. Madam Speaker. I urge a \"yes\" vote. and I hope it is a big strong one.\n",
      "--------------------\n",
      "\n",
      "True negative (Predicted prob: 0.08):\n",
      "\n",
      "date              19860724\n",
      "char_count             638\n",
      "word_count             112\n",
      "speakerid      9.91146e+07\n",
      "Party                    D\n",
      "Congress                99\n",
      "Chamber                  S\n",
      "State                   WV\n",
      "Ethnicity                W\n",
      "Age                     69\n",
      "Age_lt_med               0\n",
      "NonWhite                 0\n",
      "Female                   0\n",
      "speaker           Mr. BYRD\n",
      "Full Name     BYRD, ROBERT\n",
      "match                exact\n",
      "Name: 990217618, dtype: object\n",
      "\n",
      " Mr. President. I would like to discuss the 12 hours that are provided for in the television coverage resolution. I would like to discuss that with the distinguished majority leader tomorrow. because. in accordance with the resolution. I do not believe those 12 hours would begin until Tuesday and that would make for a pretty long day. I hope that we could either shorten the 12 hours for Tuesday or. if we get an objection to that. I hope the distinguished majority leader would then be prepared to provide some time on Monday for that debate so that we could come within the requirements of the resolution. We can discuss that tomorrow.\n",
      "--------------------\n",
      "\n",
      "False positive (Predicted prob: 0.90):\n",
      "\n",
      "date                19960327\n",
      "char_count              1676\n",
      "word_count               285\n",
      "speakerid        1.04112e+08\n",
      "Party                      D\n",
      "Congress                 104\n",
      "Chamber                    H\n",
      "State                     CT\n",
      "Ethnicity                  W\n",
      "Age                       48\n",
      "Age_lt_med                 1\n",
      "NonWhite                   0\n",
      "Female                     0\n",
      "speaker        Mr. GEJDENSON\n",
      "Full Name     GEJDENSON, SAM\n",
      "match                  exact\n",
      "Name: 1040194419, dtype: object\n",
      "\n",
      " Mr. Speaker. today I rise to express my opposition to H.R. 1833. the socalled \"PartialBirth\" Abortion bill. I voted against this measure last year when it was first considered by the House and I will do so again today because I do not believe that Congress is the proper authority to decide the appropriateness of a particular medical procedure. This decision should be made by a woman. her family and her physician. Further. in addition to being the first step in an allout assault on a womans right to choose. this bill is also unconstitutional since it fails to make an exception for the life and health of the mother as required by Roe v. Wade. For that reason. President Clinton has indicated that he will veto this measure. Proponents of H.R. 1833 would like the public to believe that the women who have third trimester abortions do so because after 6 months of pregnancy. they suddenly decide that they do not want a baby. This could not be further from the truth. The women I have heard speak about their experiences--MaryDorothy Line. Tammy Watts. Coreen Costello--all desperately wanted their babies. but severe fetal abnormalities left no chance of the child surviving outside of the womb. Nevertheless. they have all insisted that while their decision to have this procedure was a painful one. it was their decision. not one forced upon them by the Federal Govemment. With this in mind. it is ironic that while the Republican majority in Congress has spent much of the past year denouncing Government intervention in an individuals private life. they are intent on passing this bill which is the ultimate imposition of Govemrnment on a womans health care choices.\n",
      "--------------------\n",
      "\n",
      "False negative (Predicted prob: 0.10):\n",
      "\n",
      "date                19841003\n",
      "char_count             11606\n",
      "word_count              1930\n",
      "speakerid        9.81061e+07\n",
      "Party                      R\n",
      "Congress                  98\n",
      "Chamber                    S\n",
      "State                     FL\n",
      "Ethnicity                  W\n",
      "Age                       57\n",
      "Age_lt_med                 0\n",
      "NonWhite                   0\n",
      "Female                     1\n",
      "speaker         Mrs. HAWKINS\n",
      "Full Name     HAWKINS, PAULA\n",
      "match                  exact\n",
      "Name: 980270059, dtype: object\n",
      "\n",
      " Senators should also be aware that international trade. and particularly trade with the Caribbean and Latin America. is becoming the lifeblood of the Miami area. Miami International Airport accounts for 25 percent of the gross product of Dade County. It is the second largest cargo airport in the country. and growing rapidly. We are rapidly developing an infrastructure of international banks. freight forwarders. exporters and importers. and all of the related businesses that accompany the existence of a major trade center. All of this is dependent upon the continuation of ready access for the major and minor carriers serving these countries with whom we are doing business. This cannot be a onesided arrangement. supplied by American flag carriers only. These countries need the access and the currency their own airlines provide if they are to continue to develop their trade with us. A total of $1.2 billion in international cargo. fully 25 percent of the total cargo moving through the airport. is carried on noncompliant aircraft. There are over 6.000 jobs which would be threatened if these noncompliant carriers were suddenly denied access to the airportnot only exporters. but mechanics and service personnel. bookkeepers. and so forth. Miami airport is the major repair and maintenance depot for the entire region. and this business would be lost along with the trade if the exemptions are not granted. This issue may not be a major one for most Senators. but it is to Florida. Not only Senator CHILEs and I. but also the Miami area Members of the HouseCongressmen LEHMAN. CLAUDE PEPPER. MICA. FASCELL. SHAW. and SMITHstrongly support this exemption. We need the exemption. I am indeed sorry we have to engage the time of the Senate on this matter. The Noise Act provides sound and reasonable provisions for exemptions. conditions which I firmly believe the applicants from Miami International Airport meet. It is only the totally unreasonable failure of the Federal Aviation Administration to interpret the law in any rational fashion that brings us here today. The law provides for exemptions in .cases of the unavailability or delay in needed technology for complianceand the manufacturers of the hush kits which will bring certain models of B707s and DC8 aircraft. the majority of those covered by our language. into compliance with the law. have themselves advised us directly that they cannot receive FAA certification prior to the January 1 compliance date. Indeed. only one manufacturer has even flight tested his kit. Exemptions are also provided for valuable air service. Yet carriers who provide sole service to foreign markets have had applications for exemptions denied. A third criteria for exemptions is if compliance would cause financial havoc. Anyone with knowledge of the Latin American debt situation who examines the list of carriers seeking exemptions will immediately grasp the total impossibility of their obtaining new aircraft by the end of the year. as the FAA would require. Finally. the law requires goodfaith efforts at compliance. Here again the unreasonableness of the FAA is apparent. No one knows what they interpret this to mean. With respect to this and all other criteria of the law. the FAA has refused to adopt a rulemaking procedure to define the standards for exemption. it has refused to issue advisory guidelines as to what factors might be included in their decisionmaking. or in any other way give any guidance whatever to applicants as to what they ought to do to receive exemptions. I might add that this failure to pro. vide guidance has.not occurred in a vacuum. I personally and through my staff have spent hours in meetings with them on the issue. we have exchanged volumes of correspondence. and I have made ndmerous. specific proposals to them as to what might constitute acceptable standards. FAA and DOT have refused throughout to make any statements that might provide any specifics as to what anyone might do to receive an exemption. or to even be able to decide if they should apply. Other members of the Florida delegation have also made efforts in these directions. We have all met with the same unyielding attitude. an attitude which says in effect \"We will decide. for reasons only we will know. who. if anyone. gets an exemption.\" Mr. President. this is not how our Government is supposed to work. it is not how the President wants the Caribbean Basin Initiative to work. and as long as I have any say it is not how the Government is going to work. Faced with this situation. there was no alternative but for us to provide guidance. via legislation. as to how the matter is to be resolved. We have made a determination that the applicants from Miami meet the standards of valuable air service. and that those who must replace their aircraft would suffer financial havoc if they had to do so by the end of this year. That is clearly within the authority of the Congress. and consistent with the facts of the case. We have also made the obvious and indisputable determination that. with respect to the hush kits. the needed technology is delayed and not currently available. We have gone on to establish. in light of the FAAs failure to do so. a definition of what constitutes a good faith effort at compliance. That definition is that the applicants will make certain specified.steps toward compliance by specified dates. and that they will post immediately a bond which will be forfeited if they do not comply with the actions and dates we have provided. Those criteria are: First. for applicants who operate aircraft for which hush kits are currently under developmentcertain models of Boeing 707 and DC8 aircraftthey must have a signed contract for a hush kit within 3 months of FAA certification of two competing manufacturers for their aircraft. second. applicants who have aircraft for which no hush kits are currently under development must have contracts for compliant aircraft by the end of 1985. and third. all hush kits and new aircraft must be installed and operational by the end of 1986. We have also provided an option. which is solely discretionary with the Secretary of Transportation and which in fact does not expand current law in the area. for exemptions to other dates if the Secretary deterOctober 3. 1984 - CON mines that compliance would impose an unreasonable financial burden on a foreign applicant. and. after consultation with the State Department. that such a burden would be contrary to the foreign policy interests of the United States. We have provided that no one receiving such an exemption may increase either the frequency of service or the number of noncompliant aircraft used at Miami. Thus. they cannot gain competitive advantage over any other airport. In short. we have put together a very secific package that addresses our needs and is totally within the confines of the Noise Act. Our. exemptions follow exactly the provisions in the conference report of the Noise Act. except that we provide a shorter time period for the exemption and stricter conditions. The conference report required a plan for replacement and a signed contract for a compliant aircraft. The terms of the contract provision required a contract to be signed within 3 years of the passage of the law. and delivery of the compliant aircraft within 3 years of the signing of the contract. Our language calls for signed contracts no later than 1 year after passage of this resolution. and delivery within 1 year after that. We also require the posting of bond as a guarantee that the conditions will be met. It is our best estimate that we will be exempting approximately 96 airplanes at Miami. and only until 1986. Of these. 56 will need hush kits. which are simply not available yet. and 40 will need to be replaced. I felt we had done a good job of providing reasonable and limited exemption requirements. Yet few efforts are perfect. including ours. and a number of Senators expressed concerns over various aspects of the language we originally proposed and that the Appropriations Committee adopted. Senator CHILES and I. and our staffs. have had extensive discussions and negotiations with various Senators. and. I might add. with staff of Senators PACKWOOD and KAssEBAUM. We have developed what we believe to be a compromise proposal which reaches the concerns expressed to us. and if the motion of the Senator from Oregon is tabled. we will offer our compromise as a substitute for the committee language. The new standards will be: First. for those applicants who operate aircraft for which hush kits are currently under development. they must have a signed contract by the end of the year with a manufacturer of a kit unless they cannot obtain financing for such a contract within that time. with failure to be interpreted in accordance with the Small Business Administration standards for their loan program. second. applicants with the aircraft for which hush kits are under development who cannot obtain financing in accordance with the previous section must make arrangements to have a signed contract oy the end of 1985. third. applicants who have aircraft for which no hush kits are currently under development must have contracts for compliant aircraft by the end of 1985. and fourth. all hush kits and new aircraft must be operational by the end of 1986. This will change the criteria and deadlines for actions by those seeking exemptions. significantly tightening the conditions and shortening the lengths of the exemptions. In addition. we will limit any exemption given on foreign policy grounds to no later than the end of 1986. I believe this is a significant departure from the committees language. and it is my understanding that this does deal with a great many of the concerns that have been expressed. I would add that there is an additional reason for making the first change. in that our language dealing with 3 months after FAA certification of two competing manufacturers of hush kits was largely based on repeated assurances we received from the Department of Transportation that the hush kits would be certificated in December or January. However. we were contacted by these manufacturers. who advised us directly that this would not be the case. and that there would not be competing manufacturers certified by anywhere close to the times the Department gave us. Certifications are instead likely to come over varying dates. With this being the case. our language would provide a large. totally unintended loophole from compliance. and would also place those manufacturers who are progressing rapidly on their hush kits in a position where no one would have to sign a contract with them for a potentially long time after they were certificated. Although I have. as a matter of principle. grave doubts about the Government mandating doing business with a few firms. it seems in this case that we have no realistic choice. and so to avoid a totally unintended delay in compliance. we are requiring that applicants sign contracts for hush kits within 3 months of passage of this bill. unless they can demonstrate. according to standard Small Business Administration criteria. that they cannot obtain financing. in which case they must have a contract by the end of 1985. I would note that this financing includes financing by the hush kit manufacturer. which I understand is a possibility in many cases. Mr. President. I believe in all honesty that these changes provide a sound basis for resolving the controversy over this matter. I urge the Senate to accept our compromise language.\n",
      "--------------------\n"
     ]
    }
   ],
   "source": [
    "reload(explore_data)\n",
    "explore_data.print_mispredictions(val_target, val_pred_probs, val, val_ids, descr_df)"
   ]
  },
  {
   "cell_type": "markdown",
   "metadata": {},
   "source": [
    "#### Run the following test on a random subset of the validation sample"
   ]
  },
  {
   "cell_type": "code",
   "execution_count": 39,
   "metadata": {},
   "outputs": [
    {
     "data": {
      "text/plain": [
       "0.3023949231456088"
      ]
     },
     "execution_count": 39,
     "metadata": {},
     "output_type": "execute_result"
    }
   ],
   "source": [
    "val_random = np.random.choice(a=[0,1], size=len(val_target), p = [0.7,0.3])\n",
    "val_random.sum()/val_random.shape[0]"
   ]
  },
  {
   "cell_type": "code",
   "execution_count": 40,
   "metadata": {},
   "outputs": [
    {
     "data": {
      "text/plain": [
       "(18965, 18965, 18965)"
      ]
     },
     "execution_count": 40,
     "metadata": {},
     "output_type": "execute_result"
    }
   ],
   "source": [
    "val_sample, val_ids_sample, val_pred_probs_sample = [], [], []\n",
    "for i in range(len(val_ids)):\n",
    "    if val_random[i] == 1:\n",
    "        val_sample.append(val[i])\n",
    "        val_ids_sample.append(val_ids[i])\n",
    "        val_pred_probs_sample.append(val_pred_probs[i])\n",
    "len(val_sample), len(val_ids_sample), len(val_pred_probs_sample)"
   ]
  },
  {
   "cell_type": "code",
   "execution_count": 41,
   "metadata": {},
   "outputs": [
    {
     "name": "stdout",
     "output_type": "stream",
     "text": [
      "\n",
      "In 0.4 bin top 10 ngrams:\n",
      "\n",
      "the united states\n",
      "the senator from\n",
      "the gentleman from\n",
      "are going to\n",
      "would like to\n",
      "one of the\n",
      "ask unanimous consent\n",
      "of the united\n",
      "chairman of the\n",
      "the american people\n",
      "--------------------\n",
      "\n",
      "In 0.6 bin top 10 ngrams:\n",
      "\n",
      "the united states\n",
      "the gentleman from\n",
      "one of the\n",
      "my colleagues to\n",
      "the american people\n",
      "would like to\n",
      "are going to\n",
      "of the united\n",
      "we need to\n",
      "mr speaker rise\n",
      "--------------------\n",
      "\n",
      "In 1.0 bin top 10 ngrams:\n",
      "\n",
      "the united states\n",
      "my colleagues to\n",
      "one of the\n",
      "mr speaker rise\n",
      "urge my colleagues\n",
      "the american people\n",
      "urge my colleagues to\n",
      "we need to\n",
      "would like to\n",
      "speaker rise today\n",
      "--------------------\n"
     ]
    }
   ],
   "source": [
    "reload(explore_data)\n",
    "explore_data.ngrams_by_bin(val_sample, val_pred_probs_sample)"
   ]
  },
  {
   "cell_type": "code",
   "execution_count": null,
   "metadata": {},
   "outputs": [],
   "source": []
  }
 ],
 "metadata": {
  "kernelspec": {
   "display_name": "Python 3",
   "language": "python",
   "name": "python3"
  },
  "language_info": {
   "codemirror_mode": {
    "name": "ipython",
    "version": 3
   },
   "file_extension": ".py",
   "mimetype": "text/x-python",
   "name": "python",
   "nbconvert_exporter": "python",
   "pygments_lexer": "ipython3",
   "version": "3.5.2"
  }
 },
 "nbformat": 4,
 "nbformat_minor": 2
}
