{
 "cells": [
  {
   "cell_type": "code",
   "execution_count": 2,
   "metadata": {},
   "outputs": [
    {
     "data": {
      "text/plain": [
       "2"
      ]
     },
     "execution_count": 2,
     "metadata": {},
     "output_type": "execute_result"
    }
   ],
   "source": [
    "1+1"
   ]
  },
  {
   "cell_type": "code",
   "execution_count": 3,
   "metadata": {},
   "outputs": [
    {
     "data": {
      "text/html": [
       "<style>.container { width:100% !important; }</style>"
      ],
      "text/plain": [
       "<IPython.core.display.HTML object>"
      ]
     },
     "metadata": {},
     "output_type": "display_data"
    }
   ],
   "source": [
    "# increase cell width\n",
    "from IPython.core.display import display, HTML\n",
    "display(HTML(\"<style>.container { width:100% !important; }</style>\"))"
   ]
  },
  {
   "cell_type": "code",
   "execution_count": 4,
   "metadata": {},
   "outputs": [],
   "source": [
    "from __future__ import absolute_import\n",
    "from __future__ import division\n",
    "from __future__ import print_function\n",
    "\n",
    "import os\n",
    "import random\n",
    "import time\n",
    "import pickle\n",
    "import gc\n",
    "import re\n",
    "import itertools\n",
    "\n",
    "import numpy as np\n",
    "import pandas as pd\n",
    "\n",
    "from importlib import reload\n",
    "\n",
    "import scipy.sparse\n",
    "\n",
    "import matplotlib.pyplot as plt\n",
    "%matplotlib inline"
   ]
  },
  {
   "cell_type": "code",
   "execution_count": 5,
   "metadata": {},
   "outputs": [],
   "source": [
    "from helpers import load_data\n",
    "from helpers import explore_data\n",
    "from helpers import preprocess_data\n",
    "from helpers import train_model"
   ]
  },
  {
   "cell_type": "markdown",
   "metadata": {},
   "source": [
    "### Load validation predicted probabilities"
   ]
  },
  {
   "cell_type": "code",
   "execution_count": 6,
   "metadata": {},
   "outputs": [],
   "source": [
    "main_dir = '/tf/notebooks/'"
   ]
  },
  {
   "cell_type": "code",
   "execution_count": 7,
   "metadata": {},
   "outputs": [],
   "source": [
    "probs_path = main_dir+'final-project/Classification/data/gender'"
   ]
  },
  {
   "cell_type": "code",
   "execution_count": 8,
   "metadata": {},
   "outputs": [],
   "source": [
    "with open(os.path.join(probs_path, 'val_pred_probs_mlp_ngram'), 'rb') as fp:\n",
    "    val_pred_probs_mlp_ngram = pickle.load(fp)\n",
    "with open(os.path.join(probs_path, 'val_pred_probs_cnn_use'), 'rb') as fp:\n",
    "    val_pred_probs_cnn_use = pickle.load(fp)"
   ]
  },
  {
   "cell_type": "code",
   "execution_count": 9,
   "metadata": {},
   "outputs": [],
   "source": [
    "val_pred_probs_mlp_use_aggr_chunk = np.load(os.path.join(probs_path, 'val_pred_probs_mlp_use_aggr_chunk.npy'))\n",
    "val_pred_probs_cnn = np.load(os.path.join(probs_path, 'val_pred_probs_cnn.npy'))\n",
    "val_pred_probs_cnn_aggr_chunk = np.load(os.path.join(probs_path, 'val_pred_probs_cnn_aggr_chunk.npy'))\n",
    "val_pred_probs_sep = np.load(os.path.join(probs_path, 'val_pred_probs_sep.npy'))"
   ]
  },
  {
   "cell_type": "code",
   "execution_count": 10,
   "metadata": {},
   "outputs": [
    {
     "data": {
      "text/plain": [
       "(62716, 62716, 62716, 62716, 62716, 62716)"
      ]
     },
     "execution_count": 10,
     "metadata": {},
     "output_type": "execute_result"
    }
   ],
   "source": [
    "len(val_pred_probs_mlp_ngram), len(val_pred_probs_mlp_use_aggr_chunk), len(val_pred_probs_cnn), len(val_pred_probs_cnn_aggr_chunk), len(val_pred_probs_cnn_use), len(val_pred_probs_sep)"
   ]
  },
  {
   "cell_type": "code",
   "execution_count": 11,
   "metadata": {},
   "outputs": [],
   "source": [
    "with open(os.path.join(probs_path, 'val_ids'), 'rb') as fp:\n",
    "    val_ids = pickle.load(fp)\n",
    "with open(os.path.join(probs_path, 'val_target'), 'rb') as fp:\n",
    "    val_target = pickle.load(fp)\n",
    "with open(os.path.join(probs_path, 'val_list'), 'rb') as fp:\n",
    "    val_list = pickle.load(fp)"
   ]
  },
  {
   "cell_type": "code",
   "execution_count": 12,
   "metadata": {},
   "outputs": [
    {
     "data": {
      "text/plain": [
       "(62716, 62716, 62716)"
      ]
     },
     "execution_count": 12,
     "metadata": {},
     "output_type": "execute_result"
    }
   ],
   "source": [
    "len(val_ids), len(val_target), len(val_list)"
   ]
  },
  {
   "cell_type": "code",
   "execution_count": 13,
   "metadata": {},
   "outputs": [],
   "source": [
    "val_preds_mlp_ngram = val_pred_probs_mlp_ngram > 0.5\n",
    "val_preds_mlp_use_aggr_chunk = val_pred_probs_mlp_use_aggr_chunk > 0.5\n",
    "val_preds_cnn = val_pred_probs_cnn > 0.5\n",
    "val_preds_cnn_aggr_chunk = val_pred_probs_cnn_aggr_chunk > 0.5\n",
    "val_preds_cnn_use = val_pred_probs_cnn_use > 0.5\n",
    "val_preds_sep = val_pred_probs_sep > 0.5"
   ]
  },
  {
   "cell_type": "code",
   "execution_count": 14,
   "metadata": {},
   "outputs": [],
   "source": [
    "classes = ['Male', 'Female']"
   ]
  },
  {
   "cell_type": "code",
   "execution_count": 15,
   "metadata": {},
   "outputs": [
    {
     "name": "stdout",
     "output_type": "stream",
     "text": [
      "Confusion matrix, without normalization\n",
      "[[23166  8192]\n",
      " [ 7216 24142]]\n",
      "              precision    recall  f1-score   support\n",
      "\n",
      "        Male       0.76      0.74      0.75     31358\n",
      "      Female       0.75      0.77      0.76     31358\n",
      "\n",
      "   micro avg       0.75      0.75      0.75     62716\n",
      "   macro avg       0.75      0.75      0.75     62716\n",
      "weighted avg       0.75      0.75      0.75     62716\n",
      "\n"
     ]
    },
    {
     "data": {
      "text/plain": [
       "<matplotlib.axes._subplots.AxesSubplot at 0x7f15c64a2710>"
      ]
     },
     "execution_count": 15,
     "metadata": {},
     "output_type": "execute_result"
    },
    {
     "data": {
      "image/png": "[encoded data removed]",
      "text/plain": [
       "<Figure size 432x288 with 2 Axes>"
      ]
     },
     "metadata": {
      "needs_background": "light"
     },
     "output_type": "display_data"
    }
   ],
   "source": [
    "explore_data.plot_confusion_matrix(val_target, val_preds_mlp_ngram, classes, normalize=True)"
   ]
  },
  {
   "cell_type": "code",
   "execution_count": 16,
   "metadata": {},
   "outputs": [
    {
     "name": "stdout",
     "output_type": "stream",
     "text": [
      "Confusion matrix, without normalization\n",
      "[[22896  8462]\n",
      " [11770 19588]]\n",
      "              precision    recall  f1-score   support\n",
      "\n",
      "        Male       0.66      0.73      0.69     31358\n",
      "      Female       0.70      0.62      0.66     31358\n",
      "\n",
      "   micro avg       0.68      0.68      0.68     62716\n",
      "   macro avg       0.68      0.68      0.68     62716\n",
      "weighted avg       0.68      0.68      0.68     62716\n",
      "\n"
     ]
    },
    {
     "data": {
      "text/plain": [
       "<matplotlib.axes._subplots.AxesSubplot at 0x7f15c23773c8>"
      ]
     },
     "execution_count": 16,
     "metadata": {},
     "output_type": "execute_result"
    },
    {
     "data": {
      "image/png": "[encoded data removed]",
      "text/plain": [
       "<Figure size 432x288 with 2 Axes>"
      ]
     },
     "metadata": {
      "needs_background": "light"
     },
     "output_type": "display_data"
    }
   ],
   "source": [
    "explore_data.plot_confusion_matrix(val_target, val_preds_mlp_use_aggr_chunk, classes, normalize=True)"
   ]
  },
  {
   "cell_type": "code",
   "execution_count": 17,
   "metadata": {},
   "outputs": [
    {
     "name": "stdout",
     "output_type": "stream",
     "text": [
      "Confusion matrix, without normalization\n",
      "[[23147  8211]\n",
      " [ 8317 23041]]\n",
      "              precision    recall  f1-score   support\n",
      "\n",
      "        Male       0.74      0.74      0.74     31358\n",
      "      Female       0.74      0.73      0.74     31358\n",
      "\n",
      "   micro avg       0.74      0.74      0.74     62716\n",
      "   macro avg       0.74      0.74      0.74     62716\n",
      "weighted avg       0.74      0.74      0.74     62716\n",
      "\n"
     ]
    },
    {
     "data": {
      "text/plain": [
       "<matplotlib.axes._subplots.AxesSubplot at 0x7f15c235f198>"
      ]
     },
     "execution_count": 17,
     "metadata": {},
     "output_type": "execute_result"
    },
    {
     "data": {
      "image/png": "[encoded data removed]",
      "text/plain": [
       "<Figure size 432x288 with 2 Axes>"
      ]
     },
     "metadata": {
      "needs_background": "light"
     },
     "output_type": "display_data"
    }
   ],
   "source": [
    "explore_data.plot_confusion_matrix(val_target, val_preds_cnn, classes, normalize=True)"
   ]
  },
  {
   "cell_type": "code",
   "execution_count": 18,
   "metadata": {},
   "outputs": [
    {
     "name": "stdout",
     "output_type": "stream",
     "text": [
      "Confusion matrix, without normalization\n",
      "[[23697  7661]\n",
      " [ 8394 22964]]\n",
      "              precision    recall  f1-score   support\n",
      "\n",
      "        Male       0.74      0.76      0.75     31358\n",
      "      Female       0.75      0.73      0.74     31358\n",
      "\n",
      "   micro avg       0.74      0.74      0.74     62716\n",
      "   macro avg       0.74      0.74      0.74     62716\n",
      "weighted avg       0.74      0.74      0.74     62716\n",
      "\n"
     ]
    },
    {
     "data": {
      "text/plain": [
       "<matplotlib.axes._subplots.AxesSubplot at 0x7f15c23280f0>"
      ]
     },
     "execution_count": 18,
     "metadata": {},
     "output_type": "execute_result"
    },
    {
     "data": {
      "image/png": "[encoded data removed]",
      "text/plain": [
       "<Figure size 432x288 with 2 Axes>"
      ]
     },
     "metadata": {
      "needs_background": "light"
     },
     "output_type": "display_data"
    }
   ],
   "source": [
    "explore_data.plot_confusion_matrix(val_target, val_preds_cnn_aggr_chunk, classes, normalize=True)"
   ]
  },
  {
   "cell_type": "code",
   "execution_count": 19,
   "metadata": {},
   "outputs": [
    {
     "name": "stdout",
     "output_type": "stream",
     "text": [
      "Confusion matrix, without normalization\n",
      "[[20474 10884]\n",
      " [ 8951 22407]]\n",
      "              precision    recall  f1-score   support\n",
      "\n",
      "        Male       0.70      0.65      0.67     31358\n",
      "      Female       0.67      0.71      0.69     31358\n",
      "\n",
      "   micro avg       0.68      0.68      0.68     62716\n",
      "   macro avg       0.68      0.68      0.68     62716\n",
      "weighted avg       0.68      0.68      0.68     62716\n",
      "\n"
     ]
    },
    {
     "data": {
      "text/plain": [
       "<matplotlib.axes._subplots.AxesSubplot at 0x7f15c2285e48>"
      ]
     },
     "execution_count": 19,
     "metadata": {},
     "output_type": "execute_result"
    },
    {
     "data": {
      "image/png": "[encoded data removed]",
      "text/plain": [
       "<Figure size 432x288 with 2 Axes>"
      ]
     },
     "metadata": {
      "needs_background": "light"
     },
     "output_type": "display_data"
    }
   ],
   "source": [
    "explore_data.plot_confusion_matrix(val_target, val_preds_cnn_use, classes, normalize=True)"
   ]
  },
  {
   "cell_type": "code",
   "execution_count": 20,
   "metadata": {},
   "outputs": [
    {
     "name": "stdout",
     "output_type": "stream",
     "text": [
      "Confusion matrix, without normalization\n",
      "[[22936  8422]\n",
      " [ 8575 22783]]\n",
      "              precision    recall  f1-score   support\n",
      "\n",
      "        Male       0.73      0.73      0.73     31358\n",
      "      Female       0.73      0.73      0.73     31358\n",
      "\n",
      "   micro avg       0.73      0.73      0.73     62716\n",
      "   macro avg       0.73      0.73      0.73     62716\n",
      "weighted avg       0.73      0.73      0.73     62716\n",
      "\n"
     ]
    },
    {
     "data": {
      "text/plain": [
       "<matplotlib.axes._subplots.AxesSubplot at 0x7f15c2261a58>"
      ]
     },
     "execution_count": 20,
     "metadata": {},
     "output_type": "execute_result"
    },
    {
     "data": {
      "image/png": "[encoded data removed]",
      "text/plain": [
       "<Figure size 432x288 with 2 Axes>"
      ]
     },
     "metadata": {
      "needs_background": "light"
     },
     "output_type": "display_data"
    }
   ],
   "source": [
    "explore_data.plot_confusion_matrix(val_target, val_preds_sep, classes, normalize=True)"
   ]
  },
  {
   "cell_type": "markdown",
   "metadata": {},
   "source": [
    "### Merging predictions with descriptions"
   ]
  },
  {
   "cell_type": "code",
   "execution_count": 21,
   "metadata": {},
   "outputs": [
    {
     "name": "stderr",
     "output_type": "stream",
     "text": [
      "/usr/local/lib/python3.5/dist-packages/numpy/lib/arraysetops.py:569: FutureWarning: elementwise comparison failed; returning scalar instead, but in the future will perform elementwise comparison\n",
      "  mask |= (ar1 == a)\n"
     ]
    },
    {
     "data": {
      "text/plain": [
       "(62716, 16)"
      ]
     },
     "execution_count": 21,
     "metadata": {},
     "output_type": "execute_result"
    }
   ],
   "source": [
    "descr_df = pd.read_csv(main_dir+'final-project/data/QA/full_descr.txt', sep=\"|\", index_col=0)\n",
    "descr_df = descr_df.loc[np.asarray(val_ids, dtype=int)]\n",
    "descr_df.shape"
   ]
  },
  {
   "cell_type": "code",
   "execution_count": 22,
   "metadata": {},
   "outputs": [],
   "source": [
    "descr_df.reset_index(inplace=True)"
   ]
  },
  {
   "cell_type": "code",
   "execution_count": 23,
   "metadata": {
    "scrolled": true
   },
   "outputs": [
    {
     "data": {
      "text/html": [
       "<div>\n",
       "<style scoped>\n",
       "    .dataframe tbody tr th:only-of-type {\n",
       "        vertical-align: middle;\n",
       "    }\n",
       "\n",
       "    .dataframe tbody tr th {\n",
       "        vertical-align: top;\n",
       "    }\n",
       "\n",
       "    .dataframe thead th {\n",
       "        text-align: right;\n",
       "    }\n",
       "</style>\n",
       "<table border=\"1\" class=\"dataframe\">\n",
       "  <thead>\n",
       "    <tr style=\"text-align: right;\">\n",
       "      <th></th>\n",
       "      <th>speech_id</th>\n",
       "      <th>date</th>\n",
       "      <th>char_count</th>\n",
       "      <th>word_count</th>\n",
       "      <th>speakerid</th>\n",
       "      <th>Party</th>\n",
       "      <th>Congress</th>\n",
       "      <th>Chamber</th>\n",
       "      <th>State</th>\n",
       "      <th>Ethnicity</th>\n",
       "      <th>Age</th>\n",
       "      <th>Age_lt_med</th>\n",
       "      <th>NonWhite</th>\n",
       "      <th>Female</th>\n",
       "      <th>speaker</th>\n",
       "      <th>Full Name</th>\n",
       "      <th>match</th>\n",
       "    </tr>\n",
       "  </thead>\n",
       "  <tbody>\n",
       "    <tr>\n",
       "      <th>0</th>\n",
       "      <td>1080099024</td>\n",
       "      <td>20031030</td>\n",
       "      <td>436</td>\n",
       "      <td>70</td>\n",
       "      <td>108118820.0</td>\n",
       "      <td>D</td>\n",
       "      <td>108</td>\n",
       "      <td>H</td>\n",
       "      <td>CA</td>\n",
       "      <td>W</td>\n",
       "      <td>66.0</td>\n",
       "      <td>0.0</td>\n",
       "      <td>0.0</td>\n",
       "      <td>1.0</td>\n",
       "      <td>Mrs. CAPPS</td>\n",
       "      <td>CAPPS, LOIS</td>\n",
       "      <td>fuzzy</td>\n",
       "    </tr>\n",
       "    <tr>\n",
       "      <th>1</th>\n",
       "      <td>1080165561</td>\n",
       "      <td>20040625</td>\n",
       "      <td>6213</td>\n",
       "      <td>1056</td>\n",
       "      <td>108120190.0</td>\n",
       "      <td>D</td>\n",
       "      <td>108</td>\n",
       "      <td>H</td>\n",
       "      <td>CA</td>\n",
       "      <td>B</td>\n",
       "      <td>58.0</td>\n",
       "      <td>0.0</td>\n",
       "      <td>1.0</td>\n",
       "      <td>1.0</td>\n",
       "      <td>Ms. LEE</td>\n",
       "      <td>LEE, BARBARA</td>\n",
       "      <td>fuzzy</td>\n",
       "    </tr>\n",
       "    <tr>\n",
       "      <th>2</th>\n",
       "      <td>1090156218</td>\n",
       "      <td>20060711</td>\n",
       "      <td>1230</td>\n",
       "      <td>198</td>\n",
       "      <td>109116060.0</td>\n",
       "      <td>D</td>\n",
       "      <td>109</td>\n",
       "      <td>H</td>\n",
       "      <td>CA</td>\n",
       "      <td>H</td>\n",
       "      <td>49.0</td>\n",
       "      <td>1.0</td>\n",
       "      <td>1.0</td>\n",
       "      <td>1.0</td>\n",
       "      <td>Ms. SOLIS</td>\n",
       "      <td>SOLIS, HILDA</td>\n",
       "      <td>exact</td>\n",
       "    </tr>\n",
       "    <tr>\n",
       "      <th>3</th>\n",
       "      <td>1060121740</td>\n",
       "      <td>20000315</td>\n",
       "      <td>700</td>\n",
       "      <td>136</td>\n",
       "      <td>106117690.0</td>\n",
       "      <td>D</td>\n",
       "      <td>106</td>\n",
       "      <td>H</td>\n",
       "      <td>NY</td>\n",
       "      <td>W</td>\n",
       "      <td>56.0</td>\n",
       "      <td>0.0</td>\n",
       "      <td>0.0</td>\n",
       "      <td>1.0</td>\n",
       "      <td>Mrs. McCARTHY of New York</td>\n",
       "      <td>MCCARTHY, CAROLYN</td>\n",
       "      <td>exact</td>\n",
       "    </tr>\n",
       "    <tr>\n",
       "      <th>4</th>\n",
       "      <td>1100177577</td>\n",
       "      <td>20080623</td>\n",
       "      <td>3302</td>\n",
       "      <td>490</td>\n",
       "      <td>110114720.0</td>\n",
       "      <td>R</td>\n",
       "      <td>110</td>\n",
       "      <td>H</td>\n",
       "      <td>VA</td>\n",
       "      <td>W</td>\n",
       "      <td>59.0</td>\n",
       "      <td>0.0</td>\n",
       "      <td>0.0</td>\n",
       "      <td>1.0</td>\n",
       "      <td>Mrs. DRAKE</td>\n",
       "      <td>DRAKE, THELMA</td>\n",
       "      <td>exact</td>\n",
       "    </tr>\n",
       "  </tbody>\n",
       "</table>\n",
       "</div>"
      ],
      "text/plain": [
       "    speech_id      date  char_count  word_count    speakerid Party  Congress  \\\n",
       "0  1080099024  20031030         436          70  108118820.0     D       108   \n",
       "1  1080165561  20040625        6213        1056  108120190.0     D       108   \n",
       "2  1090156218  20060711        1230         198  109116060.0     D       109   \n",
       "3  1060121740  20000315         700         136  106117690.0     D       106   \n",
       "4  1100177577  20080623        3302         490  110114720.0     R       110   \n",
       "\n",
       "  Chamber State Ethnicity   Age  Age_lt_med  NonWhite  Female  \\\n",
       "0       H    CA         W  66.0         0.0       0.0     1.0   \n",
       "1       H    CA         B  58.0         0.0       1.0     1.0   \n",
       "2       H    CA         H  49.0         1.0       1.0     1.0   \n",
       "3       H    NY         W  56.0         0.0       0.0     1.0   \n",
       "4       H    VA         W  59.0         0.0       0.0     1.0   \n",
       "\n",
       "                     speaker          Full Name  match  \n",
       "0                 Mrs. CAPPS        CAPPS, LOIS  fuzzy  \n",
       "1                    Ms. LEE       LEE, BARBARA  fuzzy  \n",
       "2                  Ms. SOLIS       SOLIS, HILDA  exact  \n",
       "3  Mrs. McCARTHY of New York  MCCARTHY, CAROLYN  exact  \n",
       "4                 Mrs. DRAKE      DRAKE, THELMA  exact  "
      ]
     },
     "execution_count": 23,
     "metadata": {},
     "output_type": "execute_result"
    }
   ],
   "source": [
    "descr_df.head()"
   ]
  },
  {
   "cell_type": "code",
   "execution_count": 24,
   "metadata": {},
   "outputs": [
    {
     "data": {
      "text/plain": [
       "(62716, 7)"
      ]
     },
     "execution_count": 24,
     "metadata": {},
     "output_type": "execute_result"
    }
   ],
   "source": [
    "pred_df = pd.DataFrame({'ids': np.asarray(val_ids, dtype=np.int64), \n",
    "                        'pred_probs_mlp_ngram': val_pred_probs_mlp_ngram.flatten(), \n",
    "                        'pred_probs_mlp_use': val_pred_probs_mlp_use_aggr_chunk.flatten(), \n",
    "                        'pred_probs_cnn': val_pred_probs_cnn.flatten(),\n",
    "                        'pred_probs_cnn_chunk': val_pred_probs_cnn_aggr_chunk.flatten(),\n",
    "                        'pred_probs_cnn_use': val_pred_probs_cnn_use.flatten(),\n",
    "                        'pred_probs_sep': val_pred_probs_sep.flatten()})\n",
    "pred_df.shape"
   ]
  },
  {
   "cell_type": "code",
   "execution_count": 25,
   "metadata": {},
   "outputs": [
    {
     "data": {
      "text/html": [
       "<div>\n",
       "<style scoped>\n",
       "    .dataframe tbody tr th:only-of-type {\n",
       "        vertical-align: middle;\n",
       "    }\n",
       "\n",
       "    .dataframe tbody tr th {\n",
       "        vertical-align: top;\n",
       "    }\n",
       "\n",
       "    .dataframe thead th {\n",
       "        text-align: right;\n",
       "    }\n",
       "</style>\n",
       "<table border=\"1\" class=\"dataframe\">\n",
       "  <thead>\n",
       "    <tr style=\"text-align: right;\">\n",
       "      <th></th>\n",
       "      <th>ids</th>\n",
       "      <th>pred_probs_cnn</th>\n",
       "      <th>pred_probs_cnn_chunk</th>\n",
       "      <th>pred_probs_cnn_use</th>\n",
       "      <th>pred_probs_mlp_ngram</th>\n",
       "      <th>pred_probs_mlp_use</th>\n",
       "      <th>pred_probs_sep</th>\n",
       "    </tr>\n",
       "  </thead>\n",
       "  <tbody>\n",
       "    <tr>\n",
       "      <th>0</th>\n",
       "      <td>1080099024</td>\n",
       "      <td>0.617424</td>\n",
       "      <td>0.563669</td>\n",
       "      <td>0.609537</td>\n",
       "      <td>0.731255</td>\n",
       "      <td>0.587049</td>\n",
       "      <td>0.629989</td>\n",
       "    </tr>\n",
       "    <tr>\n",
       "      <th>1</th>\n",
       "      <td>1080165561</td>\n",
       "      <td>0.850616</td>\n",
       "      <td>0.539413</td>\n",
       "      <td>0.710215</td>\n",
       "      <td>0.991329</td>\n",
       "      <td>0.616921</td>\n",
       "      <td>0.733058</td>\n",
       "    </tr>\n",
       "    <tr>\n",
       "      <th>2</th>\n",
       "      <td>1090156218</td>\n",
       "      <td>0.934120</td>\n",
       "      <td>0.765542</td>\n",
       "      <td>0.959096</td>\n",
       "      <td>0.884531</td>\n",
       "      <td>0.725295</td>\n",
       "      <td>0.882182</td>\n",
       "    </tr>\n",
       "    <tr>\n",
       "      <th>3</th>\n",
       "      <td>1060121740</td>\n",
       "      <td>0.775628</td>\n",
       "      <td>0.592252</td>\n",
       "      <td>0.732315</td>\n",
       "      <td>0.643061</td>\n",
       "      <td>0.611563</td>\n",
       "      <td>0.772252</td>\n",
       "    </tr>\n",
       "    <tr>\n",
       "      <th>4</th>\n",
       "      <td>1100177577</td>\n",
       "      <td>0.506378</td>\n",
       "      <td>0.496121</td>\n",
       "      <td>0.696529</td>\n",
       "      <td>0.609319</td>\n",
       "      <td>0.509501</td>\n",
       "      <td>0.522985</td>\n",
       "    </tr>\n",
       "  </tbody>\n",
       "</table>\n",
       "</div>"
      ],
      "text/plain": [
       "          ids  pred_probs_cnn  pred_probs_cnn_chunk  pred_probs_cnn_use  \\\n",
       "0  1080099024        0.617424              0.563669            0.609537   \n",
       "1  1080165561        0.850616              0.539413            0.710215   \n",
       "2  1090156218        0.934120              0.765542            0.959096   \n",
       "3  1060121740        0.775628              0.592252            0.732315   \n",
       "4  1100177577        0.506378              0.496121            0.696529   \n",
       "\n",
       "   pred_probs_mlp_ngram  pred_probs_mlp_use  pred_probs_sep  \n",
       "0              0.731255            0.587049        0.629989  \n",
       "1              0.991329            0.616921        0.733058  \n",
       "2              0.884531            0.725295        0.882182  \n",
       "3              0.643061            0.611563        0.772252  \n",
       "4              0.609319            0.509501        0.522985  "
      ]
     },
     "execution_count": 25,
     "metadata": {},
     "output_type": "execute_result"
    }
   ],
   "source": [
    "pred_df.head()"
   ]
  },
  {
   "cell_type": "code",
   "execution_count": 27,
   "metadata": {},
   "outputs": [
    {
     "data": {
      "text/plain": [
       "(62716, 24)"
      ]
     },
     "execution_count": 27,
     "metadata": {},
     "output_type": "execute_result"
    }
   ],
   "source": [
    "descr_pred_df = descr_df.merge(pred_df, left_on='speech_id', right_on='ids')\n",
    "descr_pred_df.shape"
   ]
  },
  {
   "cell_type": "code",
   "execution_count": 28,
   "metadata": {},
   "outputs": [
    {
     "data": {
      "text/html": [
       "<div>\n",
       "<style scoped>\n",
       "    .dataframe tbody tr th:only-of-type {\n",
       "        vertical-align: middle;\n",
       "    }\n",
       "\n",
       "    .dataframe tbody tr th {\n",
       "        vertical-align: top;\n",
       "    }\n",
       "\n",
       "    .dataframe thead th {\n",
       "        text-align: right;\n",
       "    }\n",
       "</style>\n",
       "<table border=\"1\" class=\"dataframe\">\n",
       "  <thead>\n",
       "    <tr style=\"text-align: right;\">\n",
       "      <th></th>\n",
       "      <th>speech_id</th>\n",
       "      <th>date</th>\n",
       "      <th>char_count</th>\n",
       "      <th>word_count</th>\n",
       "      <th>speakerid</th>\n",
       "      <th>Party</th>\n",
       "      <th>Congress</th>\n",
       "      <th>Chamber</th>\n",
       "      <th>State</th>\n",
       "      <th>Ethnicity</th>\n",
       "      <th>...</th>\n",
       "      <th>speaker</th>\n",
       "      <th>Full Name</th>\n",
       "      <th>match</th>\n",
       "      <th>ids</th>\n",
       "      <th>pred_probs_cnn</th>\n",
       "      <th>pred_probs_cnn_chunk</th>\n",
       "      <th>pred_probs_cnn_use</th>\n",
       "      <th>pred_probs_mlp_ngram</th>\n",
       "      <th>pred_probs_mlp_use</th>\n",
       "      <th>pred_probs_sep</th>\n",
       "    </tr>\n",
       "  </thead>\n",
       "  <tbody>\n",
       "    <tr>\n",
       "      <th>0</th>\n",
       "      <td>1080099024</td>\n",
       "      <td>20031030</td>\n",
       "      <td>436</td>\n",
       "      <td>70</td>\n",
       "      <td>108118820.0</td>\n",
       "      <td>D</td>\n",
       "      <td>108</td>\n",
       "      <td>H</td>\n",
       "      <td>CA</td>\n",
       "      <td>W</td>\n",
       "      <td>...</td>\n",
       "      <td>Mrs. CAPPS</td>\n",
       "      <td>CAPPS, LOIS</td>\n",
       "      <td>fuzzy</td>\n",
       "      <td>1080099024</td>\n",
       "      <td>0.617424</td>\n",
       "      <td>0.563669</td>\n",
       "      <td>0.609537</td>\n",
       "      <td>0.731255</td>\n",
       "      <td>0.587049</td>\n",
       "      <td>0.629989</td>\n",
       "    </tr>\n",
       "    <tr>\n",
       "      <th>1</th>\n",
       "      <td>1080165561</td>\n",
       "      <td>20040625</td>\n",
       "      <td>6213</td>\n",
       "      <td>1056</td>\n",
       "      <td>108120190.0</td>\n",
       "      <td>D</td>\n",
       "      <td>108</td>\n",
       "      <td>H</td>\n",
       "      <td>CA</td>\n",
       "      <td>B</td>\n",
       "      <td>...</td>\n",
       "      <td>Ms. LEE</td>\n",
       "      <td>LEE, BARBARA</td>\n",
       "      <td>fuzzy</td>\n",
       "      <td>1080165561</td>\n",
       "      <td>0.850616</td>\n",
       "      <td>0.539413</td>\n",
       "      <td>0.710215</td>\n",
       "      <td>0.991329</td>\n",
       "      <td>0.616921</td>\n",
       "      <td>0.733058</td>\n",
       "    </tr>\n",
       "    <tr>\n",
       "      <th>2</th>\n",
       "      <td>1090156218</td>\n",
       "      <td>20060711</td>\n",
       "      <td>1230</td>\n",
       "      <td>198</td>\n",
       "      <td>109116060.0</td>\n",
       "      <td>D</td>\n",
       "      <td>109</td>\n",
       "      <td>H</td>\n",
       "      <td>CA</td>\n",
       "      <td>H</td>\n",
       "      <td>...</td>\n",
       "      <td>Ms. SOLIS</td>\n",
       "      <td>SOLIS, HILDA</td>\n",
       "      <td>exact</td>\n",
       "      <td>1090156218</td>\n",
       "      <td>0.934120</td>\n",
       "      <td>0.765542</td>\n",
       "      <td>0.959096</td>\n",
       "      <td>0.884531</td>\n",
       "      <td>0.725295</td>\n",
       "      <td>0.882182</td>\n",
       "    </tr>\n",
       "    <tr>\n",
       "      <th>3</th>\n",
       "      <td>1060121740</td>\n",
       "      <td>20000315</td>\n",
       "      <td>700</td>\n",
       "      <td>136</td>\n",
       "      <td>106117690.0</td>\n",
       "      <td>D</td>\n",
       "      <td>106</td>\n",
       "      <td>H</td>\n",
       "      <td>NY</td>\n",
       "      <td>W</td>\n",
       "      <td>...</td>\n",
       "      <td>Mrs. McCARTHY of New York</td>\n",
       "      <td>MCCARTHY, CAROLYN</td>\n",
       "      <td>exact</td>\n",
       "      <td>1060121740</td>\n",
       "      <td>0.775628</td>\n",
       "      <td>0.592252</td>\n",
       "      <td>0.732315</td>\n",
       "      <td>0.643061</td>\n",
       "      <td>0.611563</td>\n",
       "      <td>0.772252</td>\n",
       "    </tr>\n",
       "    <tr>\n",
       "      <th>4</th>\n",
       "      <td>1100177577</td>\n",
       "      <td>20080623</td>\n",
       "      <td>3302</td>\n",
       "      <td>490</td>\n",
       "      <td>110114720.0</td>\n",
       "      <td>R</td>\n",
       "      <td>110</td>\n",
       "      <td>H</td>\n",
       "      <td>VA</td>\n",
       "      <td>W</td>\n",
       "      <td>...</td>\n",
       "      <td>Mrs. DRAKE</td>\n",
       "      <td>DRAKE, THELMA</td>\n",
       "      <td>exact</td>\n",
       "      <td>1100177577</td>\n",
       "      <td>0.506378</td>\n",
       "      <td>0.496121</td>\n",
       "      <td>0.696529</td>\n",
       "      <td>0.609319</td>\n",
       "      <td>0.509501</td>\n",
       "      <td>0.522985</td>\n",
       "    </tr>\n",
       "  </tbody>\n",
       "</table>\n",
       "<p>5 rows × 24 columns</p>\n",
       "</div>"
      ],
      "text/plain": [
       "    speech_id      date  char_count  word_count    speakerid Party  Congress  \\\n",
       "0  1080099024  20031030         436          70  108118820.0     D       108   \n",
       "1  1080165561  20040625        6213        1056  108120190.0     D       108   \n",
       "2  1090156218  20060711        1230         198  109116060.0     D       109   \n",
       "3  1060121740  20000315         700         136  106117690.0     D       106   \n",
       "4  1100177577  20080623        3302         490  110114720.0     R       110   \n",
       "\n",
       "  Chamber State Ethnicity  ...                    speaker          Full Name  \\\n",
       "0       H    CA         W  ...                 Mrs. CAPPS        CAPPS, LOIS   \n",
       "1       H    CA         B  ...                    Ms. LEE       LEE, BARBARA   \n",
       "2       H    CA         H  ...                  Ms. SOLIS       SOLIS, HILDA   \n",
       "3       H    NY         W  ...  Mrs. McCARTHY of New York  MCCARTHY, CAROLYN   \n",
       "4       H    VA         W  ...                 Mrs. DRAKE      DRAKE, THELMA   \n",
       "\n",
       "   match         ids pred_probs_cnn pred_probs_cnn_chunk pred_probs_cnn_use  \\\n",
       "0  fuzzy  1080099024       0.617424             0.563669           0.609537   \n",
       "1  fuzzy  1080165561       0.850616             0.539413           0.710215   \n",
       "2  exact  1090156218       0.934120             0.765542           0.959096   \n",
       "3  exact  1060121740       0.775628             0.592252           0.732315   \n",
       "4  exact  1100177577       0.506378             0.496121           0.696529   \n",
       "\n",
       "   pred_probs_mlp_ngram  pred_probs_mlp_use  pred_probs_sep  \n",
       "0              0.731255            0.587049        0.629989  \n",
       "1              0.991329            0.616921        0.733058  \n",
       "2              0.884531            0.725295        0.882182  \n",
       "3              0.643061            0.611563        0.772252  \n",
       "4              0.609319            0.509501        0.522985  \n",
       "\n",
       "[5 rows x 24 columns]"
      ]
     },
     "execution_count": 28,
     "metadata": {},
     "output_type": "execute_result"
    }
   ],
   "source": [
    "descr_pred_df.head()"
   ]
  },
  {
   "cell_type": "code",
   "execution_count": 29,
   "metadata": {},
   "outputs": [],
   "source": [
    "preds = [\n",
    "    'pred_probs_mlp_ngram',\n",
    "    'pred_probs_mlp_use',\n",
    "    'pred_probs_cnn', \n",
    "    'pred_probs_cnn_chunk',\n",
    "    'pred_probs_cnn_use',\n",
    "    'pred_probs_sep'\n",
    "]"
   ]
  },
  {
   "cell_type": "code",
   "execution_count": 30,
   "metadata": {},
   "outputs": [
    {
     "data": {
      "text/html": [
       "<div>\n",
       "<style scoped>\n",
       "    .dataframe tbody tr th:only-of-type {\n",
       "        vertical-align: middle;\n",
       "    }\n",
       "\n",
       "    .dataframe tbody tr th {\n",
       "        vertical-align: top;\n",
       "    }\n",
       "\n",
       "    .dataframe thead th {\n",
       "        text-align: right;\n",
       "    }\n",
       "</style>\n",
       "<table border=\"1\" class=\"dataframe\">\n",
       "  <thead>\n",
       "    <tr style=\"text-align: right;\">\n",
       "      <th></th>\n",
       "      <th>pred_probs_mlp_ngram</th>\n",
       "      <th>pred_probs_mlp_use</th>\n",
       "      <th>pred_probs_cnn</th>\n",
       "      <th>pred_probs_cnn_chunk</th>\n",
       "      <th>pred_probs_cnn_use</th>\n",
       "      <th>pred_probs_sep</th>\n",
       "    </tr>\n",
       "    <tr>\n",
       "      <th>Female</th>\n",
       "      <th></th>\n",
       "      <th></th>\n",
       "      <th></th>\n",
       "      <th></th>\n",
       "      <th></th>\n",
       "      <th></th>\n",
       "    </tr>\n",
       "  </thead>\n",
       "  <tbody>\n",
       "    <tr>\n",
       "      <th>0.0</th>\n",
       "      <td>0.324046</td>\n",
       "      <td>0.434135</td>\n",
       "      <td>0.359572</td>\n",
       "      <td>0.405063</td>\n",
       "      <td>0.426884</td>\n",
       "      <td>0.345091</td>\n",
       "    </tr>\n",
       "    <tr>\n",
       "      <th>1.0</th>\n",
       "      <td>0.696933</td>\n",
       "      <td>0.529064</td>\n",
       "      <td>0.666759</td>\n",
       "      <td>0.582981</td>\n",
       "      <td>0.600667</td>\n",
       "      <td>0.668697</td>\n",
       "    </tr>\n",
       "  </tbody>\n",
       "</table>\n",
       "</div>"
      ],
      "text/plain": [
       "        pred_probs_mlp_ngram  pred_probs_mlp_use  pred_probs_cnn  \\\n",
       "Female                                                             \n",
       "0.0                 0.324046            0.434135        0.359572   \n",
       "1.0                 0.696933            0.529064        0.666759   \n",
       "\n",
       "        pred_probs_cnn_chunk  pred_probs_cnn_use  pred_probs_sep  \n",
       "Female                                                            \n",
       "0.0                 0.405063            0.426884        0.345091  \n",
       "1.0                 0.582981            0.600667        0.668697  "
      ]
     },
     "execution_count": 30,
     "metadata": {},
     "output_type": "execute_result"
    }
   ],
   "source": [
    "descr_pred_df[preds+['Female']].groupby('Female').mean()"
   ]
  },
  {
   "cell_type": "code",
   "execution_count": 32,
   "metadata": {},
   "outputs": [
    {
     "data": {
      "text/plain": [
       "63"
      ]
     },
     "execution_count": 32,
     "metadata": {},
     "output_type": "execute_result"
    }
   ],
   "source": [
    "preds_combo = []\n",
    "for i in range(1, len(preds)+1):\n",
    "    preds_combo.extend(list(itertools.combinations(preds, i)))\n",
    "len(preds_combo)"
   ]
  },
  {
   "cell_type": "code",
   "execution_count": 33,
   "metadata": {},
   "outputs": [],
   "source": [
    "preds_combo_results = []\n",
    "for i in range(len(preds_combo)):\n",
    "    temp = descr_pred_df[list(preds_combo[i])]\n",
    "    avg = temp.mean(axis=1)\n",
    "    avg_pred = avg > 0.5\n",
    "    result = np.mean(avg_pred==descr_pred_df['Female'])\n",
    "    preds_combo_results.append((preds_combo[i], result))"
   ]
  },
  {
   "cell_type": "code",
   "execution_count": 34,
   "metadata": {},
   "outputs": [],
   "source": [
    "preds_combo_results = sorted(preds_combo_results, key=lambda x: -x[1])"
   ]
  },
  {
   "cell_type": "code",
   "execution_count": 35,
   "metadata": {},
   "outputs": [
    {
     "data": {
      "text/plain": [
       "(('pred_probs_mlp_ngram', 'pred_probs_cnn', 'pred_probs_cnn_chunk'),\n",
       " 0.8281140378850692)"
      ]
     },
     "execution_count": 35,
     "metadata": {},
     "output_type": "execute_result"
    }
   ],
   "source": [
    "preds_combo_results[0]"
   ]
  },
  {
   "cell_type": "code",
   "execution_count": 36,
   "metadata": {},
   "outputs": [
    {
     "data": {
      "text/plain": [
       "0.8281140378850692"
      ]
     },
     "execution_count": 36,
     "metadata": {},
     "output_type": "execute_result"
    }
   ],
   "source": [
    "descr_pred_df['pred_probs_combo'] = descr_pred_df[list(preds_combo_results[0][0])].mean(axis=1)\n",
    "descr_pred_df['pred_combo'] = descr_pred_df['pred_probs_combo'] > 0.5\n",
    "np.mean(val_target==descr_pred_df['pred_combo'].values.flatten())"
   ]
  },
  {
   "cell_type": "markdown",
   "metadata": {},
   "source": [
    "### Save the main dataframe"
   ]
  },
  {
   "cell_type": "code",
   "execution_count": 188,
   "metadata": {},
   "outputs": [],
   "source": [
    "keep_cols = ['speech_id',\n",
    " 'date',\n",
    " 'char_count',\n",
    " 'word_count',\n",
    " 'speakerid',\n",
    " 'Party',\n",
    " 'Congress',\n",
    " 'Chamber',\n",
    " 'State',\n",
    " 'Ethnicity',\n",
    " 'Age',\n",
    " 'Age_lt_med',\n",
    " 'NonWhite',\n",
    " 'Female',\n",
    " 'speaker',\n",
    " 'Full Name',\n",
    " 'match',\n",
    " 'ids',\n",
    " 'pred_probs_combo',\n",
    " 'pred_combo']"
   ]
  },
  {
   "cell_type": "code",
   "execution_count": 190,
   "metadata": {},
   "outputs": [],
   "source": [
    "descr_pred_df[keep_cols].to_pickle(os.path.join(probs_path, 'gender_preds.pkl'))"
   ]
  },
  {
   "cell_type": "markdown",
   "metadata": {},
   "source": [
    "### Evaluating final predictions"
   ]
  },
  {
   "cell_type": "code",
   "execution_count": 37,
   "metadata": {},
   "outputs": [
    {
     "name": "stdout",
     "output_type": "stream",
     "text": [
      "Confusion matrix, without normalization\n",
      "[[25734  5624]\n",
      " [ 5156 26202]]\n",
      "              precision    recall  f1-score   support\n",
      "\n",
      "        Male       0.83      0.82      0.83     31358\n",
      "      Female       0.82      0.84      0.83     31358\n",
      "\n",
      "   micro avg       0.83      0.83      0.83     62716\n",
      "   macro avg       0.83      0.83      0.83     62716\n",
      "weighted avg       0.83      0.83      0.83     62716\n",
      "\n"
     ]
    },
    {
     "data": {
      "text/plain": [
       "<matplotlib.axes._subplots.AxesSubplot at 0x7f15c037f8d0>"
      ]
     },
     "execution_count": 37,
     "metadata": {},
     "output_type": "execute_result"
    },
    {
     "data": {
      "image/png": "[encoded data removed]",
      "text/plain": [
       "<Figure size 432x288 with 2 Axes>"
      ]
     },
     "metadata": {
      "needs_background": "light"
     },
     "output_type": "display_data"
    }
   ],
   "source": [
    "explore_data.plot_confusion_matrix(val_target, descr_pred_df['pred_combo'], classes, normalize=True)"
   ]
  },
  {
   "cell_type": "code",
   "execution_count": 38,
   "metadata": {},
   "outputs": [
    {
     "data": {
      "image/png": "[encoded data removed]",
      "text/plain": [
       "<Figure size 720x720 with 2 Axes>"
      ]
     },
     "metadata": {
      "needs_background": "light"
     },
     "output_type": "display_data"
    }
   ],
   "source": [
    "explore_data.plot_calibration_curve(val_target, descr_pred_df['pred_probs_combo'], 'Gender')"
   ]
  },
  {
   "cell_type": "code",
   "execution_count": 39,
   "metadata": {},
   "outputs": [
    {
     "name": "stdout",
     "output_type": "stream",
     "text": [
      "Validation sample means:\n",
      "      Gender_F  Ethinicity_NW     AvgAge   Party_D  Chamber_H  AvgWordCount\n",
      "base       0.5       0.173991  58.285477  0.621468   0.659816     387.29868\n"
     ]
    },
    {
     "data": {
      "text/html": [
       "<div>\n",
       "<style scoped>\n",
       "    .dataframe tbody tr th:only-of-type {\n",
       "        vertical-align: middle;\n",
       "    }\n",
       "\n",
       "    .dataframe tbody tr th {\n",
       "        vertical-align: top;\n",
       "    }\n",
       "\n",
       "    .dataframe thead th {\n",
       "        text-align: right;\n",
       "    }\n",
       "</style>\n",
       "<table border=\"1\" class=\"dataframe\">\n",
       "  <thead>\n",
       "    <tr style=\"text-align: right;\">\n",
       "      <th></th>\n",
       "      <th>Gender_F</th>\n",
       "      <th>Ethinicity_NW</th>\n",
       "      <th>AvgAge</th>\n",
       "      <th>Party_D</th>\n",
       "      <th>Chamber_H</th>\n",
       "      <th>AvgWordCount</th>\n",
       "    </tr>\n",
       "  </thead>\n",
       "  <tbody>\n",
       "    <tr>\n",
       "      <th>0.4</th>\n",
       "      <td>0.16</td>\n",
       "      <td>0.42</td>\n",
       "      <td>0.99</td>\n",
       "      <td>0.82</td>\n",
       "      <td>0.79</td>\n",
       "      <td>0.95</td>\n",
       "    </tr>\n",
       "    <tr>\n",
       "      <th>0.6</th>\n",
       "      <td>0.98</td>\n",
       "      <td>0.92</td>\n",
       "      <td>0.99</td>\n",
       "      <td>0.97</td>\n",
       "      <td>1.04</td>\n",
       "      <td>0.94</td>\n",
       "    </tr>\n",
       "    <tr>\n",
       "      <th>1.0</th>\n",
       "      <td>1.81</td>\n",
       "      <td>1.63</td>\n",
       "      <td>1.01</td>\n",
       "      <td>1.20</td>\n",
       "      <td>1.17</td>\n",
       "      <td>1.10</td>\n",
       "    </tr>\n",
       "  </tbody>\n",
       "</table>\n",
       "</div>"
      ],
      "text/plain": [
       "     Gender_F  Ethinicity_NW  AvgAge  Party_D  Chamber_H  AvgWordCount\n",
       "0.4      0.16           0.42    0.99     0.82       0.79          0.95\n",
       "0.6      0.98           0.92    0.99     0.97       1.04          0.94\n",
       "1.0      1.81           1.63    1.01     1.20       1.17          1.10"
      ]
     },
     "execution_count": 39,
     "metadata": {},
     "output_type": "execute_result"
    }
   ],
   "source": [
    "reload(explore_data)\n",
    "# checking the ratios of demo variables in low-mid-high probability buckets\n",
    "explore_data.check_bin_probs_distr(descr_pred_df['pred_probs_combo'], \n",
    "                                   val_ids, \n",
    "                                   descr_df.set_index('speech_id'))"
   ]
  },
  {
   "cell_type": "code",
   "execution_count": 184,
   "metadata": {},
   "outputs": [
    {
     "name": "stdout",
     "output_type": "stream",
     "text": [
      "\n",
      "Top 20 ngrams by differentiating score:\n"
     ]
    },
    {
     "data": {
      "text/html": [
       "<div>\n",
       "<style scoped>\n",
       "    .dataframe tbody tr th:only-of-type {\n",
       "        vertical-align: middle;\n",
       "    }\n",
       "\n",
       "    .dataframe tbody tr th {\n",
       "        vertical-align: top;\n",
       "    }\n",
       "\n",
       "    .dataframe thead th {\n",
       "        text-align: right;\n",
       "    }\n",
       "</style>\n",
       "<table border=\"1\" class=\"dataframe\">\n",
       "  <thead>\n",
       "    <tr style=\"text-align: right;\">\n",
       "      <th></th>\n",
       "      <th>ngram</th>\n",
       "      <th>&lt;0.4</th>\n",
       "      <th>&lt;0.6</th>\n",
       "      <th>&lt;1.0</th>\n",
       "      <th>score</th>\n",
       "    </tr>\n",
       "  </thead>\n",
       "  <tbody>\n",
       "    <tr>\n",
       "      <th>0</th>\n",
       "      <td>ensure</td>\n",
       "      <td>1371.0</td>\n",
       "      <td>2302.0</td>\n",
       "      <td>4086.0</td>\n",
       "      <td>342.0</td>\n",
       "    </tr>\n",
       "    <tr>\n",
       "      <th>1</th>\n",
       "      <td>woman</td>\n",
       "      <td>412.0</td>\n",
       "      <td>928.0</td>\n",
       "      <td>2568.0</td>\n",
       "      <td>268.0</td>\n",
       "    </tr>\n",
       "    <tr>\n",
       "      <th>2</th>\n",
       "      <td>proud</td>\n",
       "      <td>1310.0</td>\n",
       "      <td>1880.0</td>\n",
       "      <td>3323.0</td>\n",
       "      <td>263.0</td>\n",
       "    </tr>\n",
       "    <tr>\n",
       "      <th>3</th>\n",
       "      <td>california</td>\n",
       "      <td>1713.0</td>\n",
       "      <td>2559.0</td>\n",
       "      <td>5396.0</td>\n",
       "      <td>260.0</td>\n",
       "    </tr>\n",
       "    <tr>\n",
       "      <th>4</th>\n",
       "      <td>access</td>\n",
       "      <td>1234.0</td>\n",
       "      <td>1941.0</td>\n",
       "      <td>4029.0</td>\n",
       "      <td>248.0</td>\n",
       "    </tr>\n",
       "    <tr>\n",
       "      <th>5</th>\n",
       "      <td>ought</td>\n",
       "      <td>2258.0</td>\n",
       "      <td>906.0</td>\n",
       "      <td>544.0</td>\n",
       "      <td>246.0</td>\n",
       "    </tr>\n",
       "    <tr>\n",
       "      <th>6</th>\n",
       "      <td>communities</td>\n",
       "      <td>1445.0</td>\n",
       "      <td>2292.0</td>\n",
       "      <td>4395.0</td>\n",
       "      <td>242.0</td>\n",
       "    </tr>\n",
       "    <tr>\n",
       "      <th>7</th>\n",
       "      <td>unanimous</td>\n",
       "      <td>2786.0</td>\n",
       "      <td>1902.0</td>\n",
       "      <td>1422.0</td>\n",
       "      <td>237.0</td>\n",
       "    </tr>\n",
       "    <tr>\n",
       "      <th>8</th>\n",
       "      <td>womens</td>\n",
       "      <td>140.0</td>\n",
       "      <td>729.0</td>\n",
       "      <td>2521.0</td>\n",
       "      <td>228.0</td>\n",
       "    </tr>\n",
       "    <tr>\n",
       "      <th>9</th>\n",
       "      <td>across</td>\n",
       "      <td>1897.0</td>\n",
       "      <td>2411.0</td>\n",
       "      <td>4115.0</td>\n",
       "      <td>211.0</td>\n",
       "    </tr>\n",
       "    <tr>\n",
       "      <th>10</th>\n",
       "      <td>distinguished</td>\n",
       "      <td>3110.0</td>\n",
       "      <td>1828.0</td>\n",
       "      <td>1553.0</td>\n",
       "      <td>207.0</td>\n",
       "    </tr>\n",
       "    <tr>\n",
       "      <th>11</th>\n",
       "      <td>critical</td>\n",
       "      <td>1300.0</td>\n",
       "      <td>1870.0</td>\n",
       "      <td>3193.0</td>\n",
       "      <td>206.0</td>\n",
       "    </tr>\n",
       "    <tr>\n",
       "      <th>12</th>\n",
       "      <td>consent</td>\n",
       "      <td>2945.0</td>\n",
       "      <td>2067.0</td>\n",
       "      <td>1541.0</td>\n",
       "      <td>180.0</td>\n",
       "    </tr>\n",
       "    <tr>\n",
       "      <th>13</th>\n",
       "      <td>she</td>\n",
       "      <td>3116.0</td>\n",
       "      <td>5589.0</td>\n",
       "      <td>10506.0</td>\n",
       "      <td>175.0</td>\n",
       "    </tr>\n",
       "    <tr>\n",
       "      <th>14</th>\n",
       "      <td>young</td>\n",
       "      <td>1733.0</td>\n",
       "      <td>2331.0</td>\n",
       "      <td>4265.0</td>\n",
       "      <td>172.0</td>\n",
       "    </tr>\n",
       "    <tr>\n",
       "      <th>15</th>\n",
       "      <td>madam</td>\n",
       "      <td>1838.0</td>\n",
       "      <td>2521.0</td>\n",
       "      <td>3992.0</td>\n",
       "      <td>162.0</td>\n",
       "    </tr>\n",
       "    <tr>\n",
       "      <th>16</th>\n",
       "      <td>constituents</td>\n",
       "      <td>719.0</td>\n",
       "      <td>1050.0</td>\n",
       "      <td>1930.0</td>\n",
       "      <td>155.0</td>\n",
       "    </tr>\n",
       "    <tr>\n",
       "      <th>17</th>\n",
       "      <td>honor</td>\n",
       "      <td>1642.0</td>\n",
       "      <td>2372.0</td>\n",
       "      <td>3457.0</td>\n",
       "      <td>153.0</td>\n",
       "    </tr>\n",
       "    <tr>\n",
       "      <th>18</th>\n",
       "      <td>protect</td>\n",
       "      <td>1814.0</td>\n",
       "      <td>2403.0</td>\n",
       "      <td>3787.0</td>\n",
       "      <td>150.0</td>\n",
       "    </tr>\n",
       "    <tr>\n",
       "      <th>19</th>\n",
       "      <td>funding</td>\n",
       "      <td>2897.0</td>\n",
       "      <td>3786.0</td>\n",
       "      <td>6338.0</td>\n",
       "      <td>142.0</td>\n",
       "    </tr>\n",
       "  </tbody>\n",
       "</table>\n",
       "</div>"
      ],
      "text/plain": [
       "            ngram    <0.4    <0.6     <1.0  score\n",
       "0          ensure  1371.0  2302.0   4086.0  342.0\n",
       "1           woman   412.0   928.0   2568.0  268.0\n",
       "2           proud  1310.0  1880.0   3323.0  263.0\n",
       "3      california  1713.0  2559.0   5396.0  260.0\n",
       "4          access  1234.0  1941.0   4029.0  248.0\n",
       "5           ought  2258.0   906.0    544.0  246.0\n",
       "6     communities  1445.0  2292.0   4395.0  242.0\n",
       "7       unanimous  2786.0  1902.0   1422.0  237.0\n",
       "8          womens   140.0   729.0   2521.0  228.0\n",
       "9          across  1897.0  2411.0   4115.0  211.0\n",
       "10  distinguished  3110.0  1828.0   1553.0  207.0\n",
       "11       critical  1300.0  1870.0   3193.0  206.0\n",
       "12        consent  2945.0  2067.0   1541.0  180.0\n",
       "13            she  3116.0  5589.0  10506.0  175.0\n",
       "14          young  1733.0  2331.0   4265.0  172.0\n",
       "15          madam  1838.0  2521.0   3992.0  162.0\n",
       "16   constituents   719.0  1050.0   1930.0  155.0\n",
       "17          honor  1642.0  2372.0   3457.0  153.0\n",
       "18        protect  1814.0  2403.0   3787.0  150.0\n",
       "19        funding  2897.0  3786.0   6338.0  142.0"
      ]
     },
     "execution_count": 184,
     "metadata": {},
     "output_type": "execute_result"
    }
   ],
   "source": [
    "reload(explore_data)\n",
    "explore_data.compare_ngrams(val_list, descr_pred_df['pred_probs_combo'], \n",
    "                            ngram_range=(1, 1),\n",
    "                            top_k=20)"
   ]
  },
  {
   "cell_type": "markdown",
   "metadata": {},
   "source": [
    "## Congressperson level analysis"
   ]
  },
  {
   "cell_type": "code",
   "execution_count": 153,
   "metadata": {},
   "outputs": [
    {
     "data": {
      "text/plain": [
       "(1702, 9)"
      ]
     },
     "execution_count": 153,
     "metadata": {},
     "output_type": "execute_result"
    }
   ],
   "source": [
    "speaker_df = descr_pred_df[['Full Name', 'Party', 'State', 'Female', 'NonWhite', 'Age', 'pred_probs_combo']]\\\n",
    "                .groupby(['Full Name', 'Party', 'State', 'Female', 'NonWhite'])\\\n",
    "                .agg({'pred_probs_combo':['mean', 'count'], 'Age': ['mean']})\\\n",
    "                .reset_index()\n",
    "speaker_df.columns = ['_'.join(col) for col in speaker_df.columns]\n",
    "speaker_df['Female_pred_'] = speaker_df.pred_probs_combo_mean > 0.5\n",
    "speaker_df.shape"
   ]
  },
  {
   "cell_type": "code",
   "execution_count": 154,
   "metadata": {},
   "outputs": [
    {
     "name": "stdout",
     "output_type": "stream",
     "text": [
      "Confusion matrix, without normalization\n",
      "[[1344  136]\n",
      " [   2  220]]\n",
      "              precision    recall  f1-score   support\n",
      "\n",
      "        Male       1.00      0.91      0.95      1480\n",
      "      Female       0.62      0.99      0.76       222\n",
      "\n",
      "   micro avg       0.92      0.92      0.92      1702\n",
      "   macro avg       0.81      0.95      0.86      1702\n",
      "weighted avg       0.95      0.92      0.93      1702\n",
      "\n"
     ]
    },
    {
     "data": {
      "text/plain": [
       "<matplotlib.axes._subplots.AxesSubplot at 0x7f15c1852a20>"
      ]
     },
     "execution_count": 154,
     "metadata": {},
     "output_type": "execute_result"
    },
    {
     "data": {
      "image/png": "[encoded data removed]",
      "text/plain": [
       "<Figure size 432x288 with 2 Axes>"
      ]
     },
     "metadata": {
      "needs_background": "light"
     },
     "output_type": "display_data"
    }
   ],
   "source": [
    "explore_data.plot_confusion_matrix(speaker_df.Female_, speaker_df.Female_pred_, classes, normalize=True)"
   ]
  },
  {
   "cell_type": "code",
   "execution_count": 155,
   "metadata": {},
   "outputs": [
    {
     "data": {
      "text/plain": [
       "12.0"
      ]
     },
     "execution_count": 155,
     "metadata": {},
     "output_type": "execute_result"
    }
   ],
   "source": [
    "speaker_df.pred_probs_combo_count.median()"
   ]
  },
  {
   "cell_type": "code",
   "execution_count": 156,
   "metadata": {},
   "outputs": [
    {
     "data": {
      "text/plain": [
       "(818, 9)"
      ]
     },
     "execution_count": 156,
     "metadata": {},
     "output_type": "execute_result"
    }
   ],
   "source": [
    "speaker_med_df = speaker_df[speaker_df.pred_probs_combo_count > speaker_df.pred_probs_combo_count.median()]\n",
    "speaker_med_df.shape"
   ]
  },
  {
   "cell_type": "code",
   "execution_count": 157,
   "metadata": {},
   "outputs": [
    {
     "name": "stdout",
     "output_type": "stream",
     "text": [
      "Confusion matrix, without normalization\n",
      "[[609   9]\n",
      " [  0 200]]\n",
      "              precision    recall  f1-score   support\n",
      "\n",
      "        Male       1.00      0.99      0.99       618\n",
      "      Female       0.96      1.00      0.98       200\n",
      "\n",
      "   micro avg       0.99      0.99      0.99       818\n",
      "   macro avg       0.98      0.99      0.99       818\n",
      "weighted avg       0.99      0.99      0.99       818\n",
      "\n"
     ]
    },
    {
     "data": {
      "text/plain": [
       "<matplotlib.axes._subplots.AxesSubplot at 0x7f15b3f1a3c8>"
      ]
     },
     "execution_count": 157,
     "metadata": {},
     "output_type": "execute_result"
    },
    {
     "data": {
      "image/png": "[encoded data removed]",
      "text/plain": [
       "<Figure size 432x288 with 2 Axes>"
      ]
     },
     "metadata": {
      "needs_background": "light"
     },
     "output_type": "display_data"
    }
   ],
   "source": [
    "explore_data.plot_confusion_matrix(speaker_med_df.Female_, speaker_med_df.Female_pred_, classes, normalize=True)"
   ]
  },
  {
   "cell_type": "code",
   "execution_count": 158,
   "metadata": {},
   "outputs": [
    {
     "data": {
      "text/plain": [
       "Full Name_                CLARK, KATHERINE\n",
       "Party_                                   D\n",
       "State_                                  MA\n",
       "Female_                                  1\n",
       "NonWhite_                                0\n",
       "pred_probs_combo_mean             0.728266\n",
       "pred_probs_combo_count                  13\n",
       "Age_mean                           52.8462\n",
       "Female_pred_                          True\n",
       "Name: 285, dtype: object"
      ]
     },
     "execution_count": 158,
     "metadata": {},
     "output_type": "execute_result"
    }
   ],
   "source": [
    "tp = np.argmax(speaker_med_df[speaker_med_df.Female_==1].pred_probs_combo_mean.values)\n",
    "speaker_med_df[speaker_med_df.Female_==1].iloc[tp]"
   ]
  },
  {
   "cell_type": "code",
   "execution_count": 159,
   "metadata": {},
   "outputs": [
    {
     "data": {
      "text/plain": [
       "Full Name_                MATTINGLY, MACK\n",
       "Party_                                  R\n",
       "State_                                 GA\n",
       "Female_                                 0\n",
       "NonWhite_                               0\n",
       "pred_probs_combo_mean            0.259242\n",
       "pred_probs_combo_count                 13\n",
       "Age_mean                          53.3077\n",
       "Female_pred_                        False\n",
       "Name: 1022, dtype: object"
      ]
     },
     "execution_count": 159,
     "metadata": {},
     "output_type": "execute_result"
    }
   ],
   "source": [
    "tn = np.argmin(speaker_med_df[speaker_med_df.Female_==0].pred_probs_combo_mean.values)\n",
    "speaker_med_df[speaker_med_df.Female_==0].iloc[tn]"
   ]
  },
  {
   "cell_type": "code",
   "execution_count": 160,
   "metadata": {},
   "outputs": [
    {
     "data": {
      "text/plain": [
       "Full Name_                COLEMAN, NORM\n",
       "Party_                                R\n",
       "State_                               MN\n",
       "Female_                               0\n",
       "NonWhite_                             0\n",
       "pred_probs_combo_mean          0.542726\n",
       "pred_probs_combo_count               14\n",
       "Age_mean                        57.2857\n",
       "Female_pred_                       True\n",
       "Name: 310, dtype: object"
      ]
     },
     "execution_count": 160,
     "metadata": {},
     "output_type": "execute_result"
    }
   ],
   "source": [
    "fp = np.argmax(speaker_med_df[speaker_med_df.Female_==0].pred_probs_combo_mean.values)\n",
    "speaker_med_df[speaker_med_df.Female_==0].iloc[fp]"
   ]
  },
  {
   "cell_type": "code",
   "execution_count": 161,
   "metadata": {},
   "outputs": [
    {
     "data": {
      "text/plain": [
       "Full Name_                MARTIN, LYNN\n",
       "Party_                               R\n",
       "State_                              IL\n",
       "Female_                              1\n",
       "NonWhite_                            0\n",
       "pred_probs_combo_mean          0.52326\n",
       "pred_probs_combo_count              93\n",
       "Age_mean                       47.5806\n",
       "Female_pred_                      True\n",
       "Name: 1010, dtype: object"
      ]
     },
     "execution_count": 161,
     "metadata": {},
     "output_type": "execute_result"
    }
   ],
   "source": [
    "fn = np.argmin(speaker_med_df[speaker_med_df.Female_==1].pred_probs_combo_mean.values)\n",
    "speaker_med_df[speaker_med_df.Female_==1].iloc[fn]"
   ]
  },
  {
   "cell_type": "markdown",
   "metadata": {},
   "source": [
    "## Congress level analysis"
   ]
  },
  {
   "cell_type": "code",
   "execution_count": 143,
   "metadata": {},
   "outputs": [
    {
     "data": {
      "text/plain": [
       "(18, 5)"
      ]
     },
     "execution_count": 143,
     "metadata": {},
     "output_type": "execute_result"
    }
   ],
   "source": [
    "congress_df = descr_pred_df[['Congress', 'Female', 'pred_probs_combo', 'pred_combo']]\\\n",
    "                .groupby('Congress')\\\n",
    "                .agg({'Female': ['mean', 'sum'], 'pred_combo': ['mean']})\\\n",
    "                .reset_index()\n",
    "congress_df.columns = ['_'.join(col) for col in congress_df.columns]\n",
    "congress_df['Prediction_balance'] = congress_df.pred_combo_mean / congress_df.Female_mean\n",
    "congress_df.shape"
   ]
  },
  {
   "cell_type": "code",
   "execution_count": 144,
   "metadata": {},
   "outputs": [
    {
     "data": {
      "text/html": [
       "<div>\n",
       "<style scoped>\n",
       "    .dataframe tbody tr th:only-of-type {\n",
       "        vertical-align: middle;\n",
       "    }\n",
       "\n",
       "    .dataframe tbody tr th {\n",
       "        vertical-align: top;\n",
       "    }\n",
       "\n",
       "    .dataframe thead th {\n",
       "        text-align: right;\n",
       "    }\n",
       "</style>\n",
       "<table border=\"1\" class=\"dataframe\">\n",
       "  <thead>\n",
       "    <tr style=\"text-align: right;\">\n",
       "      <th></th>\n",
       "      <th>Congress_</th>\n",
       "      <th>Female_mean</th>\n",
       "      <th>Female_sum</th>\n",
       "      <th>pred_combo_mean</th>\n",
       "      <th>Prediction_balance</th>\n",
       "    </tr>\n",
       "  </thead>\n",
       "  <tbody>\n",
       "    <tr>\n",
       "      <th>0</th>\n",
       "      <td>97</td>\n",
       "      <td>0.180764</td>\n",
       "      <td>530.0</td>\n",
       "      <td>0.210437</td>\n",
       "      <td>1.164151</td>\n",
       "    </tr>\n",
       "    <tr>\n",
       "      <th>1</th>\n",
       "      <td>98</td>\n",
       "      <td>0.220996</td>\n",
       "      <td>661.0</td>\n",
       "      <td>0.243731</td>\n",
       "      <td>1.102874</td>\n",
       "    </tr>\n",
       "    <tr>\n",
       "      <th>2</th>\n",
       "      <td>99</td>\n",
       "      <td>0.244430</td>\n",
       "      <td>757.0</td>\n",
       "      <td>0.260575</td>\n",
       "      <td>1.066050</td>\n",
       "    </tr>\n",
       "    <tr>\n",
       "      <th>3</th>\n",
       "      <td>100</td>\n",
       "      <td>0.224104</td>\n",
       "      <td>675.0</td>\n",
       "      <td>0.254648</td>\n",
       "      <td>1.136296</td>\n",
       "    </tr>\n",
       "    <tr>\n",
       "      <th>4</th>\n",
       "      <td>101</td>\n",
       "      <td>0.293460</td>\n",
       "      <td>866.0</td>\n",
       "      <td>0.325991</td>\n",
       "      <td>1.110855</td>\n",
       "    </tr>\n",
       "  </tbody>\n",
       "</table>\n",
       "</div>"
      ],
      "text/plain": [
       "   Congress_  Female_mean  Female_sum  pred_combo_mean  Prediction_balance\n",
       "0         97     0.180764       530.0         0.210437            1.164151\n",
       "1         98     0.220996       661.0         0.243731            1.102874\n",
       "2         99     0.244430       757.0         0.260575            1.066050\n",
       "3        100     0.224104       675.0         0.254648            1.136296\n",
       "4        101     0.293460       866.0         0.325991            1.110855"
      ]
     },
     "execution_count": 144,
     "metadata": {},
     "output_type": "execute_result"
    }
   ],
   "source": [
    "congress_df.head()"
   ]
  },
  {
   "cell_type": "code",
   "execution_count": 151,
   "metadata": {},
   "outputs": [
    {
     "data": {
      "image/png": "[encoded data removed]",
      "text/plain": [
       "<Figure size 720x360 with 2 Axes>"
      ]
     },
     "metadata": {
      "needs_background": "light"
     },
     "output_type": "display_data"
    }
   ],
   "source": [
    "fig, ax1 = plt.subplots(figsize=(10, 5))\n",
    "\n",
    "color = 'tab:red'\n",
    "ax1.set_xlabel('Congress')\n",
    "ax1.set_ylabel('Female speech counts', color=color)\n",
    "ax1.plot(congress_df.Congress_, congress_df.Female_sum, color=color)\n",
    "ax1.tick_params(axis='y', labelcolor=color)\n",
    "\n",
    "ax2 = ax1.twinx()  # instantiate a second axes that shares the same x-axis\n",
    "\n",
    "color = 'tab:blue'\n",
    "ax2.set_ylabel('Predicted / Actual', color=color)  # we already handled the x-label with ax1\n",
    "ax2.plot(congress_df.Congress_, congress_df.Prediction_balance, color=color)\n",
    "ax2.tick_params(axis='y', labelcolor=color)\n",
    "\n",
    "ax2.hlines(y=1,xmin=97,xmax=114, color=color, linestyles='dashed')\n",
    "\n",
    "fig.tight_layout()  # otherwise the right y-label is slightly clipped\n",
    "plt.xticks(range(97,115))\n",
    "plt.show()"
   ]
  },
  {
   "cell_type": "code",
   "execution_count": null,
   "metadata": {},
   "outputs": [],
   "source": []
  }
 ],
 "metadata": {
  "kernelspec": {
   "display_name": "Python 3",
   "language": "python",
   "name": "python3"
  },
  "language_info": {
   "codemirror_mode": {
    "name": "ipython",
    "version": 3
   },
   "file_extension": ".py",
   "mimetype": "text/x-python",
   "name": "python",
   "nbconvert_exporter": "python",
   "pygments_lexer": "ipython3",
   "version": "3.5.2"
  }
 },
 "nbformat": 4,
 "nbformat_minor": 2
}
