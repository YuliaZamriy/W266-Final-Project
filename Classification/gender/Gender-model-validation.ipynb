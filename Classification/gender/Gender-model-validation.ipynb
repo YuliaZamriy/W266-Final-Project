{
 "cells": [
  {
   "cell_type": "code",
   "execution_count": 1,
   "metadata": {},
   "outputs": [
    {
     "data": {
      "text/plain": [
       "2"
      ]
     },
     "execution_count": 1,
     "metadata": {},
     "output_type": "execute_result"
    }
   ],
   "source": [
    "1+1"
   ]
  },
  {
   "cell_type": "code",
   "execution_count": 2,
   "metadata": {},
   "outputs": [
    {
     "data": {
      "text/html": [
       "<style>.container { width:100% !important; }</style>"
      ],
      "text/plain": [
       "<IPython.core.display.HTML object>"
      ]
     },
     "metadata": {},
     "output_type": "display_data"
    }
   ],
   "source": [
    "# increase cell width\n",
    "from IPython.core.display import display, HTML\n",
    "display(HTML(\"<style>.container { width:100% !important; }</style>\"))"
   ]
  },
  {
   "cell_type": "code",
   "execution_count": 3,
   "metadata": {},
   "outputs": [],
   "source": [
    "from __future__ import absolute_import\n",
    "from __future__ import division\n",
    "from __future__ import print_function\n",
    "\n",
    "import os\n",
    "import random\n",
    "import time\n",
    "import pickle\n",
    "import gc\n",
    "import re\n",
    "import itertools\n",
    "\n",
    "import numpy as np\n",
    "import pandas as pd\n",
    "\n",
    "from importlib import reload\n",
    "\n",
    "import scipy.sparse\n",
    "\n",
    "import matplotlib.pyplot as plt\n",
    "%matplotlib inline"
   ]
  },
  {
   "cell_type": "code",
   "execution_count": 4,
   "metadata": {},
   "outputs": [],
   "source": [
    "from helpers import load_data\n",
    "from helpers import explore_data\n",
    "from helpers import preprocess_data\n",
    "from helpers import train_model"
   ]
  },
  {
   "cell_type": "markdown",
   "metadata": {},
   "source": [
    "### Load validation predicted probabilities"
   ]
  },
  {
   "cell_type": "code",
   "execution_count": 5,
   "metadata": {},
   "outputs": [],
   "source": [
    "main_dir = '/tf/notebooks/'"
   ]
  },
  {
   "cell_type": "code",
   "execution_count": 6,
   "metadata": {},
   "outputs": [],
   "source": [
    "probs_path = main_dir+'final-project/Classification/data/gender'"
   ]
  },
  {
   "cell_type": "code",
   "execution_count": 7,
   "metadata": {},
   "outputs": [],
   "source": [
    "with open(os.path.join(probs_path, 'val_pred_probs_cnn_use'), 'rb') as fp:\n",
    "    val_pred_probs_cnn_use = pickle.load(fp)"
   ]
  },
  {
   "cell_type": "code",
   "execution_count": 8,
   "metadata": {},
   "outputs": [],
   "source": [
    "val_pred_probs_mlp_ngram = np.load(os.path.join(probs_path, 'val_pred_probs_mlp_ngram.npy'))\n",
    "val_pred_probs_mlp_use_aggr_chunk = np.load(os.path.join(probs_path, 'val_pred_probs_mlp_use_aggr_chunk.npy'))\n",
    "val_pred_probs_cnn = np.load(os.path.join(probs_path, 'val_pred_probs_cnn.npy'))\n",
    "val_pred_probs_cnn_aggr_chunk = np.load(os.path.join(probs_path, 'val_pred_probs_cnn_aggr_chunk.npy'))\n",
    "val_pred_probs_sep = np.load(os.path.join(probs_path, 'val_pred_probs_sep.npy'))"
   ]
  },
  {
   "cell_type": "code",
   "execution_count": 9,
   "metadata": {},
   "outputs": [
    {
     "data": {
      "text/plain": [
       "(62716, 62716, 62716, 62716, 62716, 62716)"
      ]
     },
     "execution_count": 9,
     "metadata": {},
     "output_type": "execute_result"
    }
   ],
   "source": [
    "len(val_pred_probs_mlp_ngram), len(val_pred_probs_mlp_use_aggr_chunk), len(val_pred_probs_cnn), len(val_pred_probs_cnn_aggr_chunk), len(val_pred_probs_cnn_use), len(val_pred_probs_sep)"
   ]
  },
  {
   "cell_type": "code",
   "execution_count": 10,
   "metadata": {},
   "outputs": [],
   "source": [
    "with open(os.path.join(probs_path, 'val_ids'), 'rb') as fp:\n",
    "    val_ids = pickle.load(fp)\n",
    "with open(os.path.join(probs_path, 'val_target'), 'rb') as fp:\n",
    "    val_target = pickle.load(fp)\n",
    "with open(os.path.join(probs_path, 'val_list'), 'rb') as fp:\n",
    "    val_list = pickle.load(fp)"
   ]
  },
  {
   "cell_type": "code",
   "execution_count": 11,
   "metadata": {},
   "outputs": [
    {
     "data": {
      "text/plain": [
       "(62716, 62716, 62716)"
      ]
     },
     "execution_count": 11,
     "metadata": {},
     "output_type": "execute_result"
    }
   ],
   "source": [
    "len(val_ids), len(val_target), len(val_list)"
   ]
  },
  {
   "cell_type": "code",
   "execution_count": 12,
   "metadata": {},
   "outputs": [],
   "source": [
    "val_preds_mlp_ngram = val_pred_probs_mlp_ngram > 0.5\n",
    "val_preds_mlp_use_aggr_chunk = val_pred_probs_mlp_use_aggr_chunk > 0.5\n",
    "val_preds_cnn = val_pred_probs_cnn > 0.5\n",
    "val_preds_cnn_aggr_chunk = val_pred_probs_cnn_aggr_chunk > 0.5\n",
    "val_preds_cnn_use = val_pred_probs_cnn_use > 0.5\n",
    "val_preds_sep = val_pred_probs_sep > 0.5"
   ]
  },
  {
   "cell_type": "code",
   "execution_count": 13,
   "metadata": {},
   "outputs": [],
   "source": [
    "classes = ['Male', 'Female']"
   ]
  },
  {
   "cell_type": "code",
   "execution_count": 14,
   "metadata": {},
   "outputs": [
    {
     "data": {
      "text/plain": [
       "0.7562344537279163"
      ]
     },
     "execution_count": 14,
     "metadata": {},
     "output_type": "execute_result"
    }
   ],
   "source": [
    "np.mean(val_target==val_preds_mlp_ngram.flatten())"
   ]
  },
  {
   "cell_type": "code",
   "execution_count": 15,
   "metadata": {},
   "outputs": [
    {
     "name": "stdout",
     "output_type": "stream",
     "text": [
      "Confusion matrix, without normalization\n",
      "[[23713  7645]\n",
      " [ 7643 23715]]\n",
      "              precision    recall  f1-score   support\n",
      "\n",
      "        Male       0.76      0.76      0.76     31358\n",
      "      Female       0.76      0.76      0.76     31358\n",
      "\n",
      "   micro avg       0.76      0.76      0.76     62716\n",
      "   macro avg       0.76      0.76      0.76     62716\n",
      "weighted avg       0.76      0.76      0.76     62716\n",
      "\n"
     ]
    },
    {
     "data": {
      "text/plain": [
       "<matplotlib.axes._subplots.AxesSubplot at 0x7fb42f2ee5c0>"
      ]
     },
     "execution_count": 15,
     "metadata": {},
     "output_type": "execute_result"
    },
    {
     "data": {
      "image/png": "[encoded data removed]",
      "text/plain": [
       "<Figure size 432x288 with 2 Axes>"
      ]
     },
     "metadata": {
      "needs_background": "light"
     },
     "output_type": "display_data"
    }
   ],
   "source": [
    "explore_data.plot_confusion_matrix(val_target, val_preds_mlp_ngram, classes, normalize=True)"
   ]
  },
  {
   "cell_type": "code",
   "execution_count": 16,
   "metadata": {},
   "outputs": [
    {
     "name": "stdout",
     "output_type": "stream",
     "text": [
      "Confusion matrix, without normalization\n",
      "[[22896  8462]\n",
      " [11770 19588]]\n",
      "              precision    recall  f1-score   support\n",
      "\n",
      "        Male       0.66      0.73      0.69     31358\n",
      "      Female       0.70      0.62      0.66     31358\n",
      "\n",
      "   micro avg       0.68      0.68      0.68     62716\n",
      "   macro avg       0.68      0.68      0.68     62716\n",
      "weighted avg       0.68      0.68      0.68     62716\n",
      "\n"
     ]
    },
    {
     "data": {
      "text/plain": [
       "<matplotlib.axes._subplots.AxesSubplot at 0x7fb42b1cdcc0>"
      ]
     },
     "execution_count": 16,
     "metadata": {},
     "output_type": "execute_result"
    },
    {
     "data": {
      "image/png": "[encoded data removed]",
      "text/plain": [
       "<Figure size 432x288 with 2 Axes>"
      ]
     },
     "metadata": {
      "needs_background": "light"
     },
     "output_type": "display_data"
    }
   ],
   "source": [
    "explore_data.plot_confusion_matrix(val_target, val_preds_mlp_use_aggr_chunk, classes, normalize=True)"
   ]
  },
  {
   "cell_type": "code",
   "execution_count": 17,
   "metadata": {},
   "outputs": [
    {
     "data": {
      "text/plain": [
       "0.735426366477454"
      ]
     },
     "execution_count": 17,
     "metadata": {},
     "output_type": "execute_result"
    }
   ],
   "source": [
    "np.mean(val_target==val_preds_cnn.flatten())"
   ]
  },
  {
   "cell_type": "code",
   "execution_count": 18,
   "metadata": {},
   "outputs": [
    {
     "name": "stdout",
     "output_type": "stream",
     "text": [
      "Confusion matrix, without normalization\n",
      "[[22023  9335]\n",
      " [ 7258 24100]]\n",
      "              precision    recall  f1-score   support\n",
      "\n",
      "        Male       0.75      0.70      0.73     31358\n",
      "      Female       0.72      0.77      0.74     31358\n",
      "\n",
      "   micro avg       0.74      0.74      0.74     62716\n",
      "   macro avg       0.74      0.74      0.74     62716\n",
      "weighted avg       0.74      0.74      0.74     62716\n",
      "\n"
     ]
    },
    {
     "data": {
      "text/plain": [
       "<matplotlib.axes._subplots.AxesSubplot at 0x7fb42b197550>"
      ]
     },
     "execution_count": 18,
     "metadata": {},
     "output_type": "execute_result"
    },
    {
     "data": {
      "image/png": "[encoded data removed]",
      "text/plain": [
       "<Figure size 432x288 with 2 Axes>"
      ]
     },
     "metadata": {
      "needs_background": "light"
     },
     "output_type": "display_data"
    }
   ],
   "source": [
    "explore_data.plot_confusion_matrix(val_target, val_preds_cnn, classes, normalize=True)"
   ]
  },
  {
   "cell_type": "code",
   "execution_count": 19,
   "metadata": {},
   "outputs": [
    {
     "data": {
      "text/plain": [
       "0.742553734294279"
      ]
     },
     "execution_count": 19,
     "metadata": {},
     "output_type": "execute_result"
    }
   ],
   "source": [
    "np.mean(val_target==val_preds_cnn_aggr_chunk.flatten())"
   ]
  },
  {
   "cell_type": "code",
   "execution_count": 20,
   "metadata": {},
   "outputs": [
    {
     "name": "stdout",
     "output_type": "stream",
     "text": [
      "Confusion matrix, without normalization\n",
      "[[22509  8849]\n",
      " [ 7297 24061]]\n",
      "              precision    recall  f1-score   support\n",
      "\n",
      "        Male       0.76      0.72      0.74     31358\n",
      "      Female       0.73      0.77      0.75     31358\n",
      "\n",
      "   micro avg       0.74      0.74      0.74     62716\n",
      "   macro avg       0.74      0.74      0.74     62716\n",
      "weighted avg       0.74      0.74      0.74     62716\n",
      "\n"
     ]
    },
    {
     "data": {
      "text/plain": [
       "<matplotlib.axes._subplots.AxesSubplot at 0x7fb42f2da710>"
      ]
     },
     "execution_count": 20,
     "metadata": {},
     "output_type": "execute_result"
    },
    {
     "data": {
      "image/png": "[encoded data removed]",
      "text/plain": [
       "<Figure size 432x288 with 2 Axes>"
      ]
     },
     "metadata": {
      "needs_background": "light"
     },
     "output_type": "display_data"
    }
   ],
   "source": [
    "explore_data.plot_confusion_matrix(val_target, val_preds_cnn_aggr_chunk, classes, normalize=True)"
   ]
  },
  {
   "cell_type": "code",
   "execution_count": 21,
   "metadata": {},
   "outputs": [
    {
     "name": "stdout",
     "output_type": "stream",
     "text": [
      "Confusion matrix, without normalization\n",
      "[[20474 10884]\n",
      " [ 8951 22407]]\n",
      "              precision    recall  f1-score   support\n",
      "\n",
      "        Male       0.70      0.65      0.67     31358\n",
      "      Female       0.67      0.71      0.69     31358\n",
      "\n",
      "   micro avg       0.68      0.68      0.68     62716\n",
      "   macro avg       0.68      0.68      0.68     62716\n",
      "weighted avg       0.68      0.68      0.68     62716\n",
      "\n"
     ]
    },
    {
     "data": {
      "text/plain": [
       "<matplotlib.axes._subplots.AxesSubplot at 0x7fb42b0cfe80>"
      ]
     },
     "execution_count": 21,
     "metadata": {},
     "output_type": "execute_result"
    },
    {
     "data": {
      "image/png": "[encoded data removed]",
      "text/plain": [
       "<Figure size 432x288 with 2 Axes>"
      ]
     },
     "metadata": {
      "needs_background": "light"
     },
     "output_type": "display_data"
    }
   ],
   "source": [
    "explore_data.plot_confusion_matrix(val_target, val_preds_cnn_use, classes, normalize=True)"
   ]
  },
  {
   "cell_type": "code",
   "execution_count": 22,
   "metadata": {},
   "outputs": [
    {
     "name": "stdout",
     "output_type": "stream",
     "text": [
      "Confusion matrix, without normalization\n",
      "[[22936  8422]\n",
      " [ 8575 22783]]\n",
      "              precision    recall  f1-score   support\n",
      "\n",
      "        Male       0.73      0.73      0.73     31358\n",
      "      Female       0.73      0.73      0.73     31358\n",
      "\n",
      "   micro avg       0.73      0.73      0.73     62716\n",
      "   macro avg       0.73      0.73      0.73     62716\n",
      "weighted avg       0.73      0.73      0.73     62716\n",
      "\n"
     ]
    },
    {
     "data": {
      "text/plain": [
       "<matplotlib.axes._subplots.AxesSubplot at 0x7fb42b0a3e80>"
      ]
     },
     "execution_count": 22,
     "metadata": {},
     "output_type": "execute_result"
    },
    {
     "data": {
      "image/png": "[encoded data removed]",
      "text/plain": [
       "<Figure size 432x288 with 2 Axes>"
      ]
     },
     "metadata": {
      "needs_background": "light"
     },
     "output_type": "display_data"
    }
   ],
   "source": [
    "explore_data.plot_confusion_matrix(val_target, val_preds_sep, classes, normalize=True)"
   ]
  },
  {
   "cell_type": "code",
   "execution_count": 23,
   "metadata": {},
   "outputs": [],
   "source": [
    "model_types = [\n",
    "    (val_pred_probs_mlp_ngram, 'MLP ngram'),\n",
    "    (val_pred_probs_mlp_use_aggr_chunk, 'MLP USE'),\n",
    "    (val_pred_probs_cnn, 'CNN'), \n",
    "    (val_pred_probs_cnn_aggr_chunk, 'CNN chunk'),\n",
    "    (val_pred_probs_cnn_use, 'CNN USE'),\n",
    "    (val_pred_probs_sep, 'sepCNN')\n",
    "]"
   ]
  },
  {
   "cell_type": "code",
   "execution_count": 24,
   "metadata": {},
   "outputs": [
    {
     "data": {
      "image/png": "[encoded data removed]",
      "text/plain": [
       "<Figure size 720x1080 with 2 Axes>"
      ]
     },
     "metadata": {
      "needs_background": "light"
     },
     "output_type": "display_data"
    }
   ],
   "source": [
    "reload(explore_data)\n",
    "explore_data.plot_compare_calibration_curves(val_target, model_types, 'Gender')"
   ]
  },
  {
   "cell_type": "code",
   "execution_count": 25,
   "metadata": {
    "scrolled": false
   },
   "outputs": [
    {
     "data": {
      "image/png": "[encoded data removed]",
      "text/plain": [
       "<Figure size 720x1080 with 2 Axes>"
      ]
     },
     "metadata": {
      "needs_background": "light"
     },
     "output_type": "display_data"
    }
   ],
   "source": [
    "model_types = [\n",
    "    (val_pred_probs_mlp_ngram, 'MLP ngram'),\n",
    "    (val_pred_probs_cnn, 'CNN'), \n",
    "    (val_pred_probs_cnn_aggr_chunk, 'CNN chunk')\n",
    "]\n",
    "explore_data.plot_compare_calibration_curves(val_target, model_types, 'Gender')"
   ]
  },
  {
   "cell_type": "code",
   "execution_count": 26,
   "metadata": {},
   "outputs": [
    {
     "name": "stdout",
     "output_type": "stream",
     "text": [
      "Confusion matrix, without normalization\n",
      "[[24020  7336]\n",
      " [ 5261 26099]]\n",
      "              precision    recall  f1-score   support\n",
      "\n",
      "        Male       0.82      0.77      0.79     31356\n",
      "      Female       0.78      0.83      0.81     31360\n",
      "\n",
      "   micro avg       0.80      0.80      0.80     62716\n",
      "   macro avg       0.80      0.80      0.80     62716\n",
      "weighted avg       0.80      0.80      0.80     62716\n",
      "\n"
     ]
    },
    {
     "data": {
      "text/plain": [
       "<matplotlib.axes._subplots.AxesSubplot at 0x7fb4296db588>"
      ]
     },
     "execution_count": 26,
     "metadata": {},
     "output_type": "execute_result"
    },
    {
     "data": {
      "image/png": "[encoded data removed]",
      "text/plain": [
       "<Figure size 432x288 with 2 Axes>"
      ]
     },
     "metadata": {
      "needs_background": "light"
     },
     "output_type": "display_data"
    }
   ],
   "source": [
    "explore_data.plot_confusion_matrix(val_preds_mlp_ngram, val_preds_cnn, classes, normalize=True)"
   ]
  },
  {
   "cell_type": "markdown",
   "metadata": {},
   "source": [
    "### Merging predictions with descriptions"
   ]
  },
  {
   "cell_type": "code",
   "execution_count": 27,
   "metadata": {},
   "outputs": [
    {
     "name": "stderr",
     "output_type": "stream",
     "text": [
      "/usr/local/lib/python3.5/dist-packages/numpy/lib/arraysetops.py:569: FutureWarning: elementwise comparison failed; returning scalar instead, but in the future will perform elementwise comparison\n",
      "  mask |= (ar1 == a)\n"
     ]
    },
    {
     "data": {
      "text/plain": [
       "(62716, 17)"
      ]
     },
     "execution_count": 27,
     "metadata": {},
     "output_type": "execute_result"
    }
   ],
   "source": [
    "descr_df = pd.read_csv(main_dir+'final-project/data/QA/full_descr.txt', sep=\"|\", index_col=0)\n",
    "descr_df = descr_df.loc[np.asarray(val_ids, dtype=int)]\n",
    "descr_df.reset_index(inplace=True)\n",
    "descr_df.shape"
   ]
  },
  {
   "cell_type": "code",
   "execution_count": 28,
   "metadata": {},
   "outputs": [
    {
     "data": {
      "text/plain": [
       "(62716, 7)"
      ]
     },
     "execution_count": 28,
     "metadata": {},
     "output_type": "execute_result"
    }
   ],
   "source": [
    "pred_df = pd.DataFrame({'ids': np.asarray(val_ids, dtype=np.int64), \n",
    "                        'pred_probs_mlp_ngram': val_pred_probs_mlp_ngram.flatten(), \n",
    "                        'pred_probs_mlp_use': val_pred_probs_mlp_use_aggr_chunk.flatten(), \n",
    "                        'pred_probs_cnn': val_pred_probs_cnn.flatten(),\n",
    "                        'pred_probs_cnn_chunk': val_pred_probs_cnn_aggr_chunk.flatten(),\n",
    "                        'pred_probs_cnn_use': val_pred_probs_cnn_use.flatten(),\n",
    "                        'pred_probs_sep': val_pred_probs_sep.flatten()})\n",
    "pred_df.shape"
   ]
  },
  {
   "cell_type": "code",
   "execution_count": 29,
   "metadata": {},
   "outputs": [
    {
     "data": {
      "text/plain": [
       "(62716, 24)"
      ]
     },
     "execution_count": 29,
     "metadata": {},
     "output_type": "execute_result"
    }
   ],
   "source": [
    "descr_pred_df = descr_df.merge(pred_df, left_on='speech_id', right_on='ids')\n",
    "descr_pred_df.shape"
   ]
  },
  {
   "cell_type": "code",
   "execution_count": 30,
   "metadata": {},
   "outputs": [
    {
     "data": {
      "text/html": [
       "<div>\n",
       "<style scoped>\n",
       "    .dataframe tbody tr th:only-of-type {\n",
       "        vertical-align: middle;\n",
       "    }\n",
       "\n",
       "    .dataframe tbody tr th {\n",
       "        vertical-align: top;\n",
       "    }\n",
       "\n",
       "    .dataframe thead th {\n",
       "        text-align: right;\n",
       "    }\n",
       "</style>\n",
       "<table border=\"1\" class=\"dataframe\">\n",
       "  <thead>\n",
       "    <tr style=\"text-align: right;\">\n",
       "      <th></th>\n",
       "      <th>speech_id</th>\n",
       "      <th>date</th>\n",
       "      <th>char_count</th>\n",
       "      <th>word_count</th>\n",
       "      <th>speakerid</th>\n",
       "      <th>Party</th>\n",
       "      <th>Congress</th>\n",
       "      <th>Chamber</th>\n",
       "      <th>State</th>\n",
       "      <th>Ethnicity</th>\n",
       "      <th>...</th>\n",
       "      <th>speaker</th>\n",
       "      <th>Full Name</th>\n",
       "      <th>match</th>\n",
       "      <th>ids</th>\n",
       "      <th>pred_probs_cnn</th>\n",
       "      <th>pred_probs_cnn_chunk</th>\n",
       "      <th>pred_probs_cnn_use</th>\n",
       "      <th>pred_probs_mlp_ngram</th>\n",
       "      <th>pred_probs_mlp_use</th>\n",
       "      <th>pred_probs_sep</th>\n",
       "    </tr>\n",
       "  </thead>\n",
       "  <tbody>\n",
       "    <tr>\n",
       "      <th>0</th>\n",
       "      <td>1080099024</td>\n",
       "      <td>20031030</td>\n",
       "      <td>436</td>\n",
       "      <td>70</td>\n",
       "      <td>108118820.0</td>\n",
       "      <td>D</td>\n",
       "      <td>108</td>\n",
       "      <td>H</td>\n",
       "      <td>CA</td>\n",
       "      <td>W</td>\n",
       "      <td>...</td>\n",
       "      <td>Mrs. CAPPS</td>\n",
       "      <td>CAPPS, LOIS</td>\n",
       "      <td>fuzzy</td>\n",
       "      <td>1080099024</td>\n",
       "      <td>0.385807</td>\n",
       "      <td>0.577375</td>\n",
       "      <td>0.609537</td>\n",
       "      <td>0.724416</td>\n",
       "      <td>0.587049</td>\n",
       "      <td>0.629989</td>\n",
       "    </tr>\n",
       "    <tr>\n",
       "      <th>1</th>\n",
       "      <td>1080165561</td>\n",
       "      <td>20040625</td>\n",
       "      <td>6213</td>\n",
       "      <td>1056</td>\n",
       "      <td>108120190.0</td>\n",
       "      <td>D</td>\n",
       "      <td>108</td>\n",
       "      <td>H</td>\n",
       "      <td>CA</td>\n",
       "      <td>B</td>\n",
       "      <td>...</td>\n",
       "      <td>Ms. LEE</td>\n",
       "      <td>LEE, BARBARA</td>\n",
       "      <td>fuzzy</td>\n",
       "      <td>1080165561</td>\n",
       "      <td>0.889116</td>\n",
       "      <td>0.542140</td>\n",
       "      <td>0.710215</td>\n",
       "      <td>0.237109</td>\n",
       "      <td>0.616921</td>\n",
       "      <td>0.733058</td>\n",
       "    </tr>\n",
       "    <tr>\n",
       "      <th>2</th>\n",
       "      <td>1090156218</td>\n",
       "      <td>20060711</td>\n",
       "      <td>1230</td>\n",
       "      <td>198</td>\n",
       "      <td>109116060.0</td>\n",
       "      <td>D</td>\n",
       "      <td>109</td>\n",
       "      <td>H</td>\n",
       "      <td>CA</td>\n",
       "      <td>H</td>\n",
       "      <td>...</td>\n",
       "      <td>Ms. SOLIS</td>\n",
       "      <td>SOLIS, HILDA</td>\n",
       "      <td>exact</td>\n",
       "      <td>1090156218</td>\n",
       "      <td>0.950747</td>\n",
       "      <td>0.773324</td>\n",
       "      <td>0.959096</td>\n",
       "      <td>0.981613</td>\n",
       "      <td>0.725295</td>\n",
       "      <td>0.882182</td>\n",
       "    </tr>\n",
       "    <tr>\n",
       "      <th>3</th>\n",
       "      <td>1060121740</td>\n",
       "      <td>20000315</td>\n",
       "      <td>700</td>\n",
       "      <td>136</td>\n",
       "      <td>106117690.0</td>\n",
       "      <td>D</td>\n",
       "      <td>106</td>\n",
       "      <td>H</td>\n",
       "      <td>NY</td>\n",
       "      <td>W</td>\n",
       "      <td>...</td>\n",
       "      <td>Mrs. McCARTHY of New York</td>\n",
       "      <td>MCCARTHY, CAROLYN</td>\n",
       "      <td>exact</td>\n",
       "      <td>1060121740</td>\n",
       "      <td>0.881191</td>\n",
       "      <td>0.627593</td>\n",
       "      <td>0.732315</td>\n",
       "      <td>0.797693</td>\n",
       "      <td>0.611563</td>\n",
       "      <td>0.772252</td>\n",
       "    </tr>\n",
       "    <tr>\n",
       "      <th>4</th>\n",
       "      <td>1100177577</td>\n",
       "      <td>20080623</td>\n",
       "      <td>3302</td>\n",
       "      <td>490</td>\n",
       "      <td>110114720.0</td>\n",
       "      <td>R</td>\n",
       "      <td>110</td>\n",
       "      <td>H</td>\n",
       "      <td>VA</td>\n",
       "      <td>W</td>\n",
       "      <td>...</td>\n",
       "      <td>Mrs. DRAKE</td>\n",
       "      <td>DRAKE, THELMA</td>\n",
       "      <td>exact</td>\n",
       "      <td>1100177577</td>\n",
       "      <td>0.520997</td>\n",
       "      <td>0.527163</td>\n",
       "      <td>0.696529</td>\n",
       "      <td>0.452258</td>\n",
       "      <td>0.509501</td>\n",
       "      <td>0.522985</td>\n",
       "    </tr>\n",
       "  </tbody>\n",
       "</table>\n",
       "<p>5 rows × 24 columns</p>\n",
       "</div>"
      ],
      "text/plain": [
       "    speech_id      date  char_count  word_count    speakerid Party  Congress  \\\n",
       "0  1080099024  20031030         436          70  108118820.0     D       108   \n",
       "1  1080165561  20040625        6213        1056  108120190.0     D       108   \n",
       "2  1090156218  20060711        1230         198  109116060.0     D       109   \n",
       "3  1060121740  20000315         700         136  106117690.0     D       106   \n",
       "4  1100177577  20080623        3302         490  110114720.0     R       110   \n",
       "\n",
       "  Chamber State Ethnicity  ...                    speaker          Full Name  \\\n",
       "0       H    CA         W  ...                 Mrs. CAPPS        CAPPS, LOIS   \n",
       "1       H    CA         B  ...                    Ms. LEE       LEE, BARBARA   \n",
       "2       H    CA         H  ...                  Ms. SOLIS       SOLIS, HILDA   \n",
       "3       H    NY         W  ...  Mrs. McCARTHY of New York  MCCARTHY, CAROLYN   \n",
       "4       H    VA         W  ...                 Mrs. DRAKE      DRAKE, THELMA   \n",
       "\n",
       "   match         ids pred_probs_cnn pred_probs_cnn_chunk pred_probs_cnn_use  \\\n",
       "0  fuzzy  1080099024       0.385807             0.577375           0.609537   \n",
       "1  fuzzy  1080165561       0.889116             0.542140           0.710215   \n",
       "2  exact  1090156218       0.950747             0.773324           0.959096   \n",
       "3  exact  1060121740       0.881191             0.627593           0.732315   \n",
       "4  exact  1100177577       0.520997             0.527163           0.696529   \n",
       "\n",
       "   pred_probs_mlp_ngram  pred_probs_mlp_use  pred_probs_sep  \n",
       "0              0.724416            0.587049        0.629989  \n",
       "1              0.237109            0.616921        0.733058  \n",
       "2              0.981613            0.725295        0.882182  \n",
       "3              0.797693            0.611563        0.772252  \n",
       "4              0.452258            0.509501        0.522985  \n",
       "\n",
       "[5 rows x 24 columns]"
      ]
     },
     "execution_count": 30,
     "metadata": {},
     "output_type": "execute_result"
    }
   ],
   "source": [
    "descr_pred_df.head()"
   ]
  },
  {
   "cell_type": "code",
   "execution_count": 31,
   "metadata": {},
   "outputs": [],
   "source": [
    "preds = [\n",
    "    'pred_probs_mlp_ngram',\n",
    "    'pred_probs_mlp_use',\n",
    "    'pred_probs_cnn', \n",
    "    'pred_probs_cnn_chunk',\n",
    "    'pred_probs_cnn_use',\n",
    "    'pred_probs_sep'\n",
    "]"
   ]
  },
  {
   "cell_type": "code",
   "execution_count": 32,
   "metadata": {},
   "outputs": [
    {
     "data": {
      "text/html": [
       "<div>\n",
       "<style scoped>\n",
       "    .dataframe tbody tr th:only-of-type {\n",
       "        vertical-align: middle;\n",
       "    }\n",
       "\n",
       "    .dataframe tbody tr th {\n",
       "        vertical-align: top;\n",
       "    }\n",
       "\n",
       "    .dataframe thead th {\n",
       "        text-align: right;\n",
       "    }\n",
       "</style>\n",
       "<table border=\"1\" class=\"dataframe\">\n",
       "  <thead>\n",
       "    <tr style=\"text-align: right;\">\n",
       "      <th></th>\n",
       "      <th>pred_probs_mlp_ngram</th>\n",
       "      <th>pred_probs_mlp_use</th>\n",
       "      <th>pred_probs_cnn</th>\n",
       "      <th>pred_probs_cnn_chunk</th>\n",
       "      <th>pred_probs_cnn_use</th>\n",
       "      <th>pred_probs_sep</th>\n",
       "    </tr>\n",
       "    <tr>\n",
       "      <th>Female</th>\n",
       "      <th></th>\n",
       "      <th></th>\n",
       "      <th></th>\n",
       "      <th></th>\n",
       "      <th></th>\n",
       "      <th></th>\n",
       "    </tr>\n",
       "  </thead>\n",
       "  <tbody>\n",
       "    <tr>\n",
       "      <th>0.0</th>\n",
       "      <td>0.314101</td>\n",
       "      <td>0.434135</td>\n",
       "      <td>0.382634</td>\n",
       "      <td>0.425101</td>\n",
       "      <td>0.426884</td>\n",
       "      <td>0.345091</td>\n",
       "    </tr>\n",
       "    <tr>\n",
       "      <th>1.0</th>\n",
       "      <td>0.683733</td>\n",
       "      <td>0.529064</td>\n",
       "      <td>0.697827</td>\n",
       "      <td>0.596889</td>\n",
       "      <td>0.600667</td>\n",
       "      <td>0.668697</td>\n",
       "    </tr>\n",
       "  </tbody>\n",
       "</table>\n",
       "</div>"
      ],
      "text/plain": [
       "        pred_probs_mlp_ngram  pred_probs_mlp_use  pred_probs_cnn  \\\n",
       "Female                                                             \n",
       "0.0                 0.314101            0.434135        0.382634   \n",
       "1.0                 0.683733            0.529064        0.697827   \n",
       "\n",
       "        pred_probs_cnn_chunk  pred_probs_cnn_use  pred_probs_sep  \n",
       "Female                                                            \n",
       "0.0                 0.425101            0.426884        0.345091  \n",
       "1.0                 0.596889            0.600667        0.668697  "
      ]
     },
     "execution_count": 32,
     "metadata": {},
     "output_type": "execute_result"
    }
   ],
   "source": [
    "descr_pred_df[preds+['Female']].groupby('Female').mean()"
   ]
  },
  {
   "cell_type": "code",
   "execution_count": 33,
   "metadata": {},
   "outputs": [
    {
     "data": {
      "text/plain": [
       "63"
      ]
     },
     "execution_count": 33,
     "metadata": {},
     "output_type": "execute_result"
    }
   ],
   "source": [
    "preds_combo = []\n",
    "for i in range(1, len(preds)+1):\n",
    "    preds_combo.extend(list(itertools.combinations(preds, i)))\n",
    "len(preds_combo)"
   ]
  },
  {
   "cell_type": "code",
   "execution_count": 34,
   "metadata": {},
   "outputs": [],
   "source": [
    "preds_combo_results = []\n",
    "for i in range(len(preds_combo)):\n",
    "    temp = descr_pred_df[list(preds_combo[i])]\n",
    "    avg = temp.mean(axis=1)\n",
    "    avg_pred = avg > 0.5\n",
    "    result = np.mean(avg_pred==descr_pred_df['Female'])\n",
    "    preds_combo_results.append((preds_combo[i], result))"
   ]
  },
  {
   "cell_type": "code",
   "execution_count": 35,
   "metadata": {},
   "outputs": [],
   "source": [
    "preds_combo_results = sorted(preds_combo_results, key=lambda x: -x[1])"
   ]
  },
  {
   "cell_type": "code",
   "execution_count": 36,
   "metadata": {},
   "outputs": [
    {
     "data": {
      "text/plain": [
       "(('pred_probs_mlp_ngram', 'pred_probs_cnn', 'pred_probs_cnn_chunk'),\n",
       " 0.765928949550354)"
      ]
     },
     "execution_count": 36,
     "metadata": {},
     "output_type": "execute_result"
    }
   ],
   "source": [
    "preds_combo_results[0]"
   ]
  },
  {
   "cell_type": "code",
   "execution_count": 37,
   "metadata": {},
   "outputs": [
    {
     "data": {
      "text/plain": [
       "0.765928949550354"
      ]
     },
     "execution_count": 37,
     "metadata": {},
     "output_type": "execute_result"
    }
   ],
   "source": [
    "descr_pred_df['pred_probs_combo'] = descr_pred_df[list(preds_combo_results[0][0])].mean(axis=1)\n",
    "descr_pred_df['pred_combo'] = descr_pred_df['pred_probs_combo'] > 0.5\n",
    "np.mean(val_target==descr_pred_df['pred_combo'].values.flatten())"
   ]
  },
  {
   "cell_type": "markdown",
   "metadata": {},
   "source": [
    "### Save the main dataframe"
   ]
  },
  {
   "cell_type": "code",
   "execution_count": 38,
   "metadata": {},
   "outputs": [],
   "source": [
    "keep_cols = ['speech_id',\n",
    " 'date',\n",
    " 'char_count',\n",
    " 'word_count',\n",
    " 'speakerid',\n",
    " 'Party',\n",
    " 'Congress',\n",
    " 'Chamber',\n",
    " 'State',\n",
    " 'Ethnicity',\n",
    " 'Age',\n",
    " 'Age_lt_med',\n",
    " 'NonWhite',\n",
    " 'Female',\n",
    " 'speaker',\n",
    " 'Full Name',\n",
    " 'match',\n",
    " 'ids',\n",
    " 'pred_probs_combo',\n",
    " 'pred_combo']"
   ]
  },
  {
   "cell_type": "code",
   "execution_count": 39,
   "metadata": {},
   "outputs": [],
   "source": [
    "descr_pred_df[keep_cols].to_pickle(os.path.join(probs_path, 'gender_preds.pkl'))"
   ]
  },
  {
   "cell_type": "markdown",
   "metadata": {},
   "source": [
    "### Evaluating final predictions"
   ]
  },
  {
   "cell_type": "code",
   "execution_count": 40,
   "metadata": {},
   "outputs": [
    {
     "name": "stdout",
     "output_type": "stream",
     "text": [
      "Confusion matrix, without normalization\n",
      "[[23368  7990]\n",
      " [ 6690 24668]]\n",
      "              precision    recall  f1-score   support\n",
      "\n",
      "        Male       0.78      0.75      0.76     31358\n",
      "      Female       0.76      0.79      0.77     31358\n",
      "\n",
      "   micro avg       0.77      0.77      0.77     62716\n",
      "   macro avg       0.77      0.77      0.77     62716\n",
      "weighted avg       0.77      0.77      0.77     62716\n",
      "\n"
     ]
    },
    {
     "data": {
      "text/plain": [
       "<matplotlib.axes._subplots.AxesSubplot at 0x7fb4277bc978>"
      ]
     },
     "execution_count": 40,
     "metadata": {},
     "output_type": "execute_result"
    },
    {
     "data": {
      "image/png": "[encoded data removed]",
      "text/plain": [
       "<Figure size 432x288 with 2 Axes>"
      ]
     },
     "metadata": {
      "needs_background": "light"
     },
     "output_type": "display_data"
    }
   ],
   "source": [
    "explore_data.plot_confusion_matrix(val_target, descr_pred_df['pred_combo'], classes, normalize=True)"
   ]
  },
  {
   "cell_type": "code",
   "execution_count": 41,
   "metadata": {},
   "outputs": [
    {
     "data": {
      "image/png": "[encoded data removed]",
      "text/plain": [
       "<Figure size 720x720 with 2 Axes>"
      ]
     },
     "metadata": {
      "needs_background": "light"
     },
     "output_type": "display_data"
    }
   ],
   "source": [
    "explore_data.plot_calibration_curve(val_target, descr_pred_df['pred_probs_combo'], 'Gender')"
   ]
  },
  {
   "cell_type": "code",
   "execution_count": 155,
   "metadata": {},
   "outputs": [
    {
     "data": {
      "image/png": "[encoded data removed]",
      "text/plain": [
       "<Figure size 432x288 with 1 Axes>"
      ]
     },
     "metadata": {
      "needs_background": "light"
     },
     "output_type": "display_data"
    }
   ],
   "source": [
    "_=plt.hist(descr_pred_df[descr_pred_df.Female==1]['pred_probs_combo'], alpha=0.5)\n",
    "_=plt.hist(descr_pred_df[descr_pred_df.Female==0]['pred_probs_combo'], alpha=0.5)\n",
    "plt.show()"
   ]
  },
  {
   "cell_type": "code",
   "execution_count": 42,
   "metadata": {},
   "outputs": [
    {
     "name": "stdout",
     "output_type": "stream",
     "text": [
      "Validation sample means:\n",
      "      Gender_F  Ethinicity_NW     AvgAge   Party_D  Chamber_H  AvgWordCount\n",
      "base       0.5       0.173991  58.285477  0.621468   0.659816     387.29868\n"
     ]
    },
    {
     "data": {
      "text/html": [
       "<div>\n",
       "<style scoped>\n",
       "    .dataframe tbody tr th:only-of-type {\n",
       "        vertical-align: middle;\n",
       "    }\n",
       "\n",
       "    .dataframe tbody tr th {\n",
       "        vertical-align: top;\n",
       "    }\n",
       "\n",
       "    .dataframe thead th {\n",
       "        text-align: right;\n",
       "    }\n",
       "</style>\n",
       "<table border=\"1\" class=\"dataframe\">\n",
       "  <thead>\n",
       "    <tr style=\"text-align: right;\">\n",
       "      <th></th>\n",
       "      <th>Gender_F</th>\n",
       "      <th>Ethinicity_NW</th>\n",
       "      <th>AvgAge</th>\n",
       "      <th>Party_D</th>\n",
       "      <th>Chamber_H</th>\n",
       "      <th>AvgWordCount</th>\n",
       "    </tr>\n",
       "  </thead>\n",
       "  <tbody>\n",
       "    <tr>\n",
       "      <th>0.4</th>\n",
       "      <td>0.31</td>\n",
       "      <td>0.62</td>\n",
       "      <td>0.99</td>\n",
       "      <td>0.88</td>\n",
       "      <td>0.91</td>\n",
       "      <td>0.96</td>\n",
       "    </tr>\n",
       "    <tr>\n",
       "      <th>0.6</th>\n",
       "      <td>0.95</td>\n",
       "      <td>0.97</td>\n",
       "      <td>1.00</td>\n",
       "      <td>0.99</td>\n",
       "      <td>0.99</td>\n",
       "      <td>1.01</td>\n",
       "    </tr>\n",
       "    <tr>\n",
       "      <th>1.0</th>\n",
       "      <td>1.64</td>\n",
       "      <td>1.35</td>\n",
       "      <td>1.01</td>\n",
       "      <td>1.12</td>\n",
       "      <td>1.09</td>\n",
       "      <td>1.03</td>\n",
       "    </tr>\n",
       "  </tbody>\n",
       "</table>\n",
       "</div>"
      ],
      "text/plain": [
       "     Gender_F  Ethinicity_NW  AvgAge  Party_D  Chamber_H  AvgWordCount\n",
       "0.4      0.31           0.62    0.99     0.88       0.91          0.96\n",
       "0.6      0.95           0.97    1.00     0.99       0.99          1.01\n",
       "1.0      1.64           1.35    1.01     1.12       1.09          1.03"
      ]
     },
     "execution_count": 42,
     "metadata": {},
     "output_type": "execute_result"
    }
   ],
   "source": [
    "reload(explore_data)\n",
    "# checking the ratios of demo variables in low-mid-high probability buckets\n",
    "explore_data.check_bin_probs_distr(descr_pred_df['pred_probs_combo'], \n",
    "                                   val_ids, \n",
    "                                   descr_df.set_index('speech_id'))"
   ]
  },
  {
   "cell_type": "code",
   "execution_count": 43,
   "metadata": {},
   "outputs": [
    {
     "name": "stdout",
     "output_type": "stream",
     "text": [
      "\n",
      "Top 20 ngrams by differentiating score:\n"
     ]
    },
    {
     "data": {
      "text/html": [
       "<div>\n",
       "<style scoped>\n",
       "    .dataframe tbody tr th:only-of-type {\n",
       "        vertical-align: middle;\n",
       "    }\n",
       "\n",
       "    .dataframe tbody tr th {\n",
       "        vertical-align: top;\n",
       "    }\n",
       "\n",
       "    .dataframe thead th {\n",
       "        text-align: right;\n",
       "    }\n",
       "</style>\n",
       "<table border=\"1\" class=\"dataframe\">\n",
       "  <thead>\n",
       "    <tr style=\"text-align: right;\">\n",
       "      <th></th>\n",
       "      <th>ngram</th>\n",
       "      <th>&lt;0.4</th>\n",
       "      <th>&lt;0.6</th>\n",
       "      <th>&lt;1.0</th>\n",
       "      <th>score</th>\n",
       "    </tr>\n",
       "  </thead>\n",
       "  <tbody>\n",
       "    <tr>\n",
       "      <th>0</th>\n",
       "      <td>ensure</td>\n",
       "      <td>2025.0</td>\n",
       "      <td>1925.0</td>\n",
       "      <td>3809.0</td>\n",
       "      <td>98.0</td>\n",
       "    </tr>\n",
       "    <tr>\n",
       "      <th>1</th>\n",
       "      <td>california</td>\n",
       "      <td>2394.0</td>\n",
       "      <td>2351.0</td>\n",
       "      <td>4923.0</td>\n",
       "      <td>83.0</td>\n",
       "    </tr>\n",
       "    <tr>\n",
       "      <th>2</th>\n",
       "      <td>woman</td>\n",
       "      <td>822.0</td>\n",
       "      <td>977.0</td>\n",
       "      <td>2109.0</td>\n",
       "      <td>67.0</td>\n",
       "    </tr>\n",
       "    <tr>\n",
       "      <th>3</th>\n",
       "      <td>proud</td>\n",
       "      <td>1795.0</td>\n",
       "      <td>1647.0</td>\n",
       "      <td>3071.0</td>\n",
       "      <td>65.0</td>\n",
       "    </tr>\n",
       "    <tr>\n",
       "      <th>4</th>\n",
       "      <td>unanimous</td>\n",
       "      <td>2502.0</td>\n",
       "      <td>1611.0</td>\n",
       "      <td>1997.0</td>\n",
       "      <td>62.0</td>\n",
       "    </tr>\n",
       "    <tr>\n",
       "      <th>5</th>\n",
       "      <td>communities</td>\n",
       "      <td>2145.0</td>\n",
       "      <td>2042.0</td>\n",
       "      <td>3945.0</td>\n",
       "      <td>58.0</td>\n",
       "    </tr>\n",
       "    <tr>\n",
       "      <th>6</th>\n",
       "      <td>ought</td>\n",
       "      <td>1700.0</td>\n",
       "      <td>1045.0</td>\n",
       "      <td>963.0</td>\n",
       "      <td>57.0</td>\n",
       "    </tr>\n",
       "    <tr>\n",
       "      <th>7</th>\n",
       "      <td>distinguished</td>\n",
       "      <td>2727.0</td>\n",
       "      <td>1674.0</td>\n",
       "      <td>2090.0</td>\n",
       "      <td>56.0</td>\n",
       "    </tr>\n",
       "    <tr>\n",
       "      <th>8</th>\n",
       "      <td>access</td>\n",
       "      <td>1876.0</td>\n",
       "      <td>1835.0</td>\n",
       "      <td>3493.0</td>\n",
       "      <td>53.0</td>\n",
       "    </tr>\n",
       "    <tr>\n",
       "      <th>9</th>\n",
       "      <td>womens</td>\n",
       "      <td>623.0</td>\n",
       "      <td>803.0</td>\n",
       "      <td>1964.0</td>\n",
       "      <td>53.0</td>\n",
       "    </tr>\n",
       "    <tr>\n",
       "      <th>10</th>\n",
       "      <td>critical</td>\n",
       "      <td>1833.0</td>\n",
       "      <td>1529.0</td>\n",
       "      <td>3001.0</td>\n",
       "      <td>48.0</td>\n",
       "    </tr>\n",
       "    <tr>\n",
       "      <th>11</th>\n",
       "      <td>consent</td>\n",
       "      <td>2632.0</td>\n",
       "      <td>1769.0</td>\n",
       "      <td>2152.0</td>\n",
       "      <td>45.0</td>\n",
       "    </tr>\n",
       "    <tr>\n",
       "      <th>12</th>\n",
       "      <td>she</td>\n",
       "      <td>4816.0</td>\n",
       "      <td>5114.0</td>\n",
       "      <td>9281.0</td>\n",
       "      <td>44.0</td>\n",
       "    </tr>\n",
       "    <tr>\n",
       "      <th>13</th>\n",
       "      <td>jobs</td>\n",
       "      <td>3947.0</td>\n",
       "      <td>3619.0</td>\n",
       "      <td>7063.0</td>\n",
       "      <td>44.0</td>\n",
       "    </tr>\n",
       "    <tr>\n",
       "      <th>14</th>\n",
       "      <td>across</td>\n",
       "      <td>2463.0</td>\n",
       "      <td>2131.0</td>\n",
       "      <td>3829.0</td>\n",
       "      <td>44.0</td>\n",
       "    </tr>\n",
       "    <tr>\n",
       "      <th>15</th>\n",
       "      <td>young</td>\n",
       "      <td>2265.0</td>\n",
       "      <td>2158.0</td>\n",
       "      <td>3906.0</td>\n",
       "      <td>44.0</td>\n",
       "    </tr>\n",
       "    <tr>\n",
       "      <th>16</th>\n",
       "      <td>protect</td>\n",
       "      <td>2330.0</td>\n",
       "      <td>1991.0</td>\n",
       "      <td>3683.0</td>\n",
       "      <td>41.0</td>\n",
       "    </tr>\n",
       "    <tr>\n",
       "      <th>17</th>\n",
       "      <td>honor</td>\n",
       "      <td>2174.0</td>\n",
       "      <td>1897.0</td>\n",
       "      <td>3400.0</td>\n",
       "      <td>40.0</td>\n",
       "    </tr>\n",
       "    <tr>\n",
       "      <th>18</th>\n",
       "      <td>together</td>\n",
       "      <td>2597.0</td>\n",
       "      <td>2114.0</td>\n",
       "      <td>3939.0</td>\n",
       "      <td>38.0</td>\n",
       "    </tr>\n",
       "    <tr>\n",
       "      <th>19</th>\n",
       "      <td>caucus</td>\n",
       "      <td>482.0</td>\n",
       "      <td>480.0</td>\n",
       "      <td>1119.0</td>\n",
       "      <td>37.0</td>\n",
       "    </tr>\n",
       "  </tbody>\n",
       "</table>\n",
       "</div>"
      ],
      "text/plain": [
       "            ngram    <0.4    <0.6    <1.0  score\n",
       "0          ensure  2025.0  1925.0  3809.0   98.0\n",
       "1      california  2394.0  2351.0  4923.0   83.0\n",
       "2           woman   822.0   977.0  2109.0   67.0\n",
       "3           proud  1795.0  1647.0  3071.0   65.0\n",
       "4       unanimous  2502.0  1611.0  1997.0   62.0\n",
       "5     communities  2145.0  2042.0  3945.0   58.0\n",
       "6           ought  1700.0  1045.0   963.0   57.0\n",
       "7   distinguished  2727.0  1674.0  2090.0   56.0\n",
       "8          access  1876.0  1835.0  3493.0   53.0\n",
       "9          womens   623.0   803.0  1964.0   53.0\n",
       "10       critical  1833.0  1529.0  3001.0   48.0\n",
       "11        consent  2632.0  1769.0  2152.0   45.0\n",
       "12            she  4816.0  5114.0  9281.0   44.0\n",
       "13           jobs  3947.0  3619.0  7063.0   44.0\n",
       "14         across  2463.0  2131.0  3829.0   44.0\n",
       "15          young  2265.0  2158.0  3906.0   44.0\n",
       "16        protect  2330.0  1991.0  3683.0   41.0\n",
       "17          honor  2174.0  1897.0  3400.0   40.0\n",
       "18       together  2597.0  2114.0  3939.0   38.0\n",
       "19         caucus   482.0   480.0  1119.0   37.0"
      ]
     },
     "execution_count": 43,
     "metadata": {},
     "output_type": "execute_result"
    }
   ],
   "source": [
    "reload(explore_data)\n",
    "explore_data.compare_ngrams(val_list, descr_pred_df['pred_probs_combo'], \n",
    "                            ngram_range=(1, 1),\n",
    "                            top_k=20)"
   ]
  },
  {
   "cell_type": "markdown",
   "metadata": {},
   "source": [
    "### Adding topics"
   ]
  },
  {
   "cell_type": "code",
   "execution_count": 44,
   "metadata": {},
   "outputs": [
    {
     "data": {
      "text/plain": [
       "(62716, 7)"
      ]
     },
     "execution_count": 44,
     "metadata": {},
     "output_type": "execute_result"
    }
   ],
   "source": [
    "ldadata_path = main_dir+'final-project/LDA/data/'\n",
    "all_speeches_topics_df = pd.read_pickle(ldadata_path+'speeches_topics_gender_36')\n",
    "all_speeches_topics_df.Speech_id = all_speeches_topics_df.Speech_id.astype('int')\n",
    "all_speeches_topics_df.shape"
   ]
  },
  {
   "cell_type": "code",
   "execution_count": 45,
   "metadata": {},
   "outputs": [
    {
     "data": {
      "text/plain": [
       "(62716, 33)"
      ]
     },
     "execution_count": 45,
     "metadata": {},
     "output_type": "execute_result"
    }
   ],
   "source": [
    "topic_pred_df = descr_pred_df.merge(all_speeches_topics_df, \n",
    "                               left_on='speech_id',\n",
    "                               right_on='Speech_id')\n",
    "topic_pred_df.shape"
   ]
  },
  {
   "cell_type": "code",
   "execution_count": 46,
   "metadata": {},
   "outputs": [],
   "source": [
    "topic_names = pd.read_csv(os.path.join(ldadata_path, 'gender_topics.txt'), sep=\"|\", header=None, names=[\"Prim_Topic\", \"Prim_Topic_Name\"])"
   ]
  },
  {
   "cell_type": "code",
   "execution_count": 47,
   "metadata": {},
   "outputs": [],
   "source": [
    "topic_pred_df = topic_pred_df.merge(topic_names, on='Prim_Topic')"
   ]
  },
  {
   "cell_type": "markdown",
   "metadata": {},
   "source": [
    "## Congressperson level analysis"
   ]
  },
  {
   "cell_type": "code",
   "execution_count": 48,
   "metadata": {},
   "outputs": [
    {
     "data": {
      "text/plain": [
       "(1702, 10)"
      ]
     },
     "execution_count": 48,
     "metadata": {},
     "output_type": "execute_result"
    }
   ],
   "source": [
    "speaker_df = topic_pred_df[['Full Name', 'Party', 'State', 'Female', 'NonWhite', 'Age', 'pred_probs_combo', 'speech_id', 'Topic_Count']]\\\n",
    "                .groupby(['Full Name', 'Party', 'State', 'Female', 'NonWhite'])\\\n",
    "                .agg({'pred_probs_combo':['mean'], 'Age': ['mean'], 'speech_id': ['count'], 'Topic_Count': ['mean']})\n",
    "speaker_df.columns = ['_'.join(col) for col in speaker_df.columns]\n",
    "speaker_df.reset_index(inplace=True)\n",
    "speaker_df['Female_pred'] = speaker_df.pred_probs_combo_mean > 0.5\n",
    "speaker_df.shape"
   ]
  },
  {
   "cell_type": "code",
   "execution_count": 49,
   "metadata": {},
   "outputs": [
    {
     "data": {
      "text/plain": [
       "0.13043478260869565"
      ]
     },
     "execution_count": 49,
     "metadata": {},
     "output_type": "execute_result"
    }
   ],
   "source": [
    "speaker_df.Female.mean()"
   ]
  },
  {
   "cell_type": "code",
   "execution_count": 50,
   "metadata": {},
   "outputs": [
    {
     "data": {
      "text/html": [
       "<div>\n",
       "<style scoped>\n",
       "    .dataframe tbody tr th:only-of-type {\n",
       "        vertical-align: middle;\n",
       "    }\n",
       "\n",
       "    .dataframe tbody tr th {\n",
       "        vertical-align: top;\n",
       "    }\n",
       "\n",
       "    .dataframe thead th {\n",
       "        text-align: right;\n",
       "    }\n",
       "</style>\n",
       "<table border=\"1\" class=\"dataframe\">\n",
       "  <thead>\n",
       "    <tr style=\"text-align: right;\">\n",
       "      <th></th>\n",
       "      <th>Full Name</th>\n",
       "      <th>Party</th>\n",
       "      <th>State</th>\n",
       "      <th>Female</th>\n",
       "      <th>NonWhite</th>\n",
       "      <th>pred_probs_combo_mean</th>\n",
       "      <th>Topic_Count_mean</th>\n",
       "      <th>speech_id_count</th>\n",
       "      <th>Age_mean</th>\n",
       "      <th>Female_pred</th>\n",
       "    </tr>\n",
       "  </thead>\n",
       "  <tbody>\n",
       "    <tr>\n",
       "      <th>0</th>\n",
       "      <td>ABDNOR, JAMES</td>\n",
       "      <td>R</td>\n",
       "      <td>SD</td>\n",
       "      <td>0.0</td>\n",
       "      <td>1.0</td>\n",
       "      <td>0.368085</td>\n",
       "      <td>7.473684</td>\n",
       "      <td>19</td>\n",
       "      <td>61.842105</td>\n",
       "      <td>False</td>\n",
       "    </tr>\n",
       "    <tr>\n",
       "      <th>1</th>\n",
       "      <td>ABERCROMBIE, NEIL</td>\n",
       "      <td>D</td>\n",
       "      <td>HI</td>\n",
       "      <td>0.0</td>\n",
       "      <td>0.0</td>\n",
       "      <td>0.338285</td>\n",
       "      <td>7.653846</td>\n",
       "      <td>26</td>\n",
       "      <td>61.000000</td>\n",
       "      <td>False</td>\n",
       "    </tr>\n",
       "    <tr>\n",
       "      <th>2</th>\n",
       "      <td>ABRAHAM, RALPH</td>\n",
       "      <td>R</td>\n",
       "      <td>LA</td>\n",
       "      <td>0.0</td>\n",
       "      <td>0.0</td>\n",
       "      <td>0.583289</td>\n",
       "      <td>9.000000</td>\n",
       "      <td>1</td>\n",
       "      <td>62.000000</td>\n",
       "      <td>True</td>\n",
       "    </tr>\n",
       "    <tr>\n",
       "      <th>3</th>\n",
       "      <td>ABRAHAM, SPENCER</td>\n",
       "      <td>R</td>\n",
       "      <td>MI</td>\n",
       "      <td>0.0</td>\n",
       "      <td>1.0</td>\n",
       "      <td>0.465042</td>\n",
       "      <td>8.181818</td>\n",
       "      <td>33</td>\n",
       "      <td>46.000000</td>\n",
       "      <td>False</td>\n",
       "    </tr>\n",
       "    <tr>\n",
       "      <th>4</th>\n",
       "      <td>ACEVEDO-VILA, ANIBAL</td>\n",
       "      <td>A</td>\n",
       "      <td>PR</td>\n",
       "      <td>0.0</td>\n",
       "      <td>1.0</td>\n",
       "      <td>0.661028</td>\n",
       "      <td>13.000000</td>\n",
       "      <td>1</td>\n",
       "      <td>40.000000</td>\n",
       "      <td>True</td>\n",
       "    </tr>\n",
       "  </tbody>\n",
       "</table>\n",
       "</div>"
      ],
      "text/plain": [
       "              Full Name Party State  Female  NonWhite  pred_probs_combo_mean  \\\n",
       "0         ABDNOR, JAMES     R    SD     0.0       1.0               0.368085   \n",
       "1     ABERCROMBIE, NEIL     D    HI     0.0       0.0               0.338285   \n",
       "2        ABRAHAM, RALPH     R    LA     0.0       0.0               0.583289   \n",
       "3      ABRAHAM, SPENCER     R    MI     0.0       1.0               0.465042   \n",
       "4  ACEVEDO-VILA, ANIBAL     A    PR     0.0       1.0               0.661028   \n",
       "\n",
       "   Topic_Count_mean  speech_id_count   Age_mean  Female_pred  \n",
       "0          7.473684               19  61.842105        False  \n",
       "1          7.653846               26  61.000000        False  \n",
       "2          9.000000                1  62.000000         True  \n",
       "3          8.181818               33  46.000000        False  \n",
       "4         13.000000                1  40.000000         True  "
      ]
     },
     "execution_count": 50,
     "metadata": {},
     "output_type": "execute_result"
    }
   ],
   "source": [
    "speaker_df.head()"
   ]
  },
  {
   "cell_type": "code",
   "execution_count": 51,
   "metadata": {},
   "outputs": [
    {
     "data": {
      "text/plain": [
       "0.9400705052878966"
      ]
     },
     "execution_count": 51,
     "metadata": {},
     "output_type": "execute_result"
    }
   ],
   "source": [
    "np.mean(speaker_df.Female==speaker_df.Female_pred)"
   ]
  },
  {
   "cell_type": "code",
   "execution_count": 52,
   "metadata": {},
   "outputs": [
    {
     "data": {
      "text/plain": [
       "0.9954954954954955"
      ]
     },
     "execution_count": 52,
     "metadata": {},
     "output_type": "execute_result"
    }
   ],
   "source": [
    "221/222"
   ]
  },
  {
   "cell_type": "code",
   "execution_count": 53,
   "metadata": {},
   "outputs": [
    {
     "name": "stdout",
     "output_type": "stream",
     "text": [
      "Confusion matrix, without normalization\n",
      "[[1379  101]\n",
      " [   1  221]]\n",
      "              precision    recall  f1-score   support\n",
      "\n",
      "        Male       1.00      0.93      0.96      1480\n",
      "      Female       0.69      1.00      0.81       222\n",
      "\n",
      "   micro avg       0.94      0.94      0.94      1702\n",
      "   macro avg       0.84      0.96      0.89      1702\n",
      "weighted avg       0.96      0.94      0.94      1702\n",
      "\n"
     ]
    },
    {
     "data": {
      "text/plain": [
       "<matplotlib.axes._subplots.AxesSubplot at 0x7fb42afafb38>"
      ]
     },
     "execution_count": 53,
     "metadata": {},
     "output_type": "execute_result"
    },
    {
     "data": {
      "image/png": "[encoded data removed]",
      "text/plain": [
       "<Figure size 432x288 with 2 Axes>"
      ]
     },
     "metadata": {
      "needs_background": "light"
     },
     "output_type": "display_data"
    }
   ],
   "source": [
    "explore_data.plot_confusion_matrix(speaker_df.Female, speaker_df.Female_pred, classes, normalize=True)"
   ]
  },
  {
   "cell_type": "code",
   "execution_count": 54,
   "metadata": {},
   "outputs": [
    {
     "data": {
      "image/png": "[encoded data removed]",
      "text/plain": [
       "<Figure size 720x720 with 2 Axes>"
      ]
     },
     "metadata": {
      "needs_background": "light"
     },
     "output_type": "display_data"
    }
   ],
   "source": [
    "explore_data.plot_calibration_curve(speaker_df.Female, speaker_df['pred_probs_combo_mean'], 'Gender')"
   ]
  },
  {
   "cell_type": "code",
   "execution_count": 159,
   "metadata": {},
   "outputs": [
    {
     "data": {
      "text/plain": [
       "['Full Name',\n",
       " 'Party',\n",
       " 'State',\n",
       " 'Female',\n",
       " 'NonWhite',\n",
       " 'pred_probs_combo_mean',\n",
       " 'Topic_Count_mean',\n",
       " 'speech_id_count',\n",
       " 'Age_mean',\n",
       " 'Female_pred']"
      ]
     },
     "execution_count": 159,
     "metadata": {},
     "output_type": "execute_result"
    }
   ],
   "source": [
    "list(speaker_df)"
   ]
  },
  {
   "cell_type": "code",
   "execution_count": 163,
   "metadata": {},
   "outputs": [
    {
     "data": {
      "image/png": "[encoded data removed]",
      "text/plain": [
       "<Figure size 432x288 with 1 Axes>"
      ]
     },
     "metadata": {
      "needs_background": "light"
     },
     "output_type": "display_data"
    }
   ],
   "source": [
    "_=plt.hist(speaker_df[speaker_df.Female==1]['pred_probs_combo_mean'], alpha=0.5)\n",
    "_=plt.hist(speaker_df[speaker_df.Female==0]['pred_probs_combo_mean'], alpha=0.5)\n",
    "plt.show()"
   ]
  },
  {
   "cell_type": "code",
   "execution_count": 165,
   "metadata": {},
   "outputs": [
    {
     "data": {
      "text/plain": [
       "12.0"
      ]
     },
     "execution_count": 165,
     "metadata": {},
     "output_type": "execute_result"
    }
   ],
   "source": [
    "speaker_df.speech_id_count.median()"
   ]
  },
  {
   "cell_type": "code",
   "execution_count": 166,
   "metadata": {},
   "outputs": [
    {
     "data": {
      "image/png": "[encoded data removed]",
      "text/plain": [
       "<Figure size 432x288 with 1 Axes>"
      ]
     },
     "metadata": {
      "needs_background": "light"
     },
     "output_type": "display_data"
    }
   ],
   "source": [
    "_=plt.hist(speaker_df[(speaker_df.Female==1) & (speaker_df.speech_id_count>speaker_df.speech_id_count.median())]['pred_probs_combo_mean'], alpha=0.5)\n",
    "_=plt.hist(speaker_df[(speaker_df.Female==0) & (speaker_df.speech_id_count>speaker_df.speech_id_count.median())]['pred_probs_combo_mean'], alpha=0.5)\n",
    "plt.show()"
   ]
  },
  {
   "cell_type": "markdown",
   "metadata": {},
   "source": [
    "#### Checking misclassifications"
   ]
  },
  {
   "cell_type": "code",
   "execution_count": 55,
   "metadata": {},
   "outputs": [
    {
     "data": {
      "text/html": [
       "<div>\n",
       "<style scoped>\n",
       "    .dataframe tbody tr th:only-of-type {\n",
       "        vertical-align: middle;\n",
       "    }\n",
       "\n",
       "    .dataframe tbody tr th {\n",
       "        vertical-align: top;\n",
       "    }\n",
       "\n",
       "    .dataframe thead th {\n",
       "        text-align: right;\n",
       "    }\n",
       "</style>\n",
       "<table border=\"1\" class=\"dataframe\">\n",
       "  <thead>\n",
       "    <tr style=\"text-align: right;\">\n",
       "      <th></th>\n",
       "      <th>Full Name</th>\n",
       "      <th>Party</th>\n",
       "      <th>State</th>\n",
       "      <th>Female</th>\n",
       "      <th>NonWhite</th>\n",
       "      <th>pred_probs_combo_mean</th>\n",
       "      <th>Topic_Count_mean</th>\n",
       "      <th>speech_id_count</th>\n",
       "      <th>Age_mean</th>\n",
       "      <th>Female_pred</th>\n",
       "    </tr>\n",
       "  </thead>\n",
       "  <tbody>\n",
       "    <tr>\n",
       "      <th>36</th>\n",
       "      <td>ASHBROOK, JEAN</td>\n",
       "      <td>R</td>\n",
       "      <td>OH</td>\n",
       "      <td>1.0</td>\n",
       "      <td>0.0</td>\n",
       "      <td>0.437581</td>\n",
       "      <td>6.0</td>\n",
       "      <td>2</td>\n",
       "      <td>48.0</td>\n",
       "      <td>False</td>\n",
       "    </tr>\n",
       "  </tbody>\n",
       "</table>\n",
       "</div>"
      ],
      "text/plain": [
       "         Full Name Party State  Female  NonWhite  pred_probs_combo_mean  \\\n",
       "36  ASHBROOK, JEAN     R    OH     1.0       0.0               0.437581   \n",
       "\n",
       "    Topic_Count_mean  speech_id_count  Age_mean  Female_pred  \n",
       "36               6.0                2      48.0        False  "
      ]
     },
     "execution_count": 55,
     "metadata": {},
     "output_type": "execute_result"
    }
   ],
   "source": [
    "speaker_df[(speaker_df.Female==1) & (speaker_df.Female_pred==0)].sort_values(by='pred_probs_combo_mean', ascending=False)"
   ]
  },
  {
   "cell_type": "code",
   "execution_count": 56,
   "metadata": {},
   "outputs": [
    {
     "data": {
      "text/html": [
       "<div>\n",
       "<style scoped>\n",
       "    .dataframe tbody tr th:only-of-type {\n",
       "        vertical-align: middle;\n",
       "    }\n",
       "\n",
       "    .dataframe tbody tr th {\n",
       "        vertical-align: top;\n",
       "    }\n",
       "\n",
       "    .dataframe thead th {\n",
       "        text-align: right;\n",
       "    }\n",
       "</style>\n",
       "<table border=\"1\" class=\"dataframe\">\n",
       "  <thead>\n",
       "    <tr style=\"text-align: right;\">\n",
       "      <th></th>\n",
       "      <th>speech_id</th>\n",
       "      <th>date</th>\n",
       "      <th>char_count</th>\n",
       "      <th>word_count</th>\n",
       "      <th>speakerid</th>\n",
       "      <th>Party</th>\n",
       "      <th>Congress</th>\n",
       "      <th>Chamber</th>\n",
       "      <th>State</th>\n",
       "      <th>Ethnicity</th>\n",
       "      <th>...</th>\n",
       "      <th>pred_probs_combo</th>\n",
       "      <th>pred_combo</th>\n",
       "      <th>Topic_Count</th>\n",
       "      <th>Prim_Topic</th>\n",
       "      <th>Prim_Topic_Contrib</th>\n",
       "      <th>Prim_Topic_Keywords</th>\n",
       "      <th>Sec_Topic</th>\n",
       "      <th>Sec_Topic_Contrib</th>\n",
       "      <th>Speech_id</th>\n",
       "      <th>Prim_Topic_Name</th>\n",
       "    </tr>\n",
       "  </thead>\n",
       "  <tbody>\n",
       "    <tr>\n",
       "      <th>1547</th>\n",
       "      <td>970261094</td>\n",
       "      <td>19821209</td>\n",
       "      <td>514</td>\n",
       "      <td>86</td>\n",
       "      <td>97105580.0</td>\n",
       "      <td>R</td>\n",
       "      <td>97</td>\n",
       "      <td>H</td>\n",
       "      <td>OH</td>\n",
       "      <td>W</td>\n",
       "      <td>...</td>\n",
       "      <td>0.276391</td>\n",
       "      <td>False</td>\n",
       "      <td>6.0</td>\n",
       "      <td>35.0</td>\n",
       "      <td>0.6</td>\n",
       "      <td>history,great,nation,day,american,live,first,w...</td>\n",
       "      <td>10.0</td>\n",
       "      <td>0.14</td>\n",
       "      <td>970261094</td>\n",
       "      <td>Great Nation</td>\n",
       "    </tr>\n",
       "    <tr>\n",
       "      <th>18902</th>\n",
       "      <td>970259753</td>\n",
       "      <td>19821208</td>\n",
       "      <td>1037</td>\n",
       "      <td>185</td>\n",
       "      <td>97105580.0</td>\n",
       "      <td>R</td>\n",
       "      <td>97</td>\n",
       "      <td>H</td>\n",
       "      <td>OH</td>\n",
       "      <td>W</td>\n",
       "      <td>...</td>\n",
       "      <td>0.598770</td>\n",
       "      <td>True</td>\n",
       "      <td>6.0</td>\n",
       "      <td>24.0</td>\n",
       "      <td>0.4</td>\n",
       "      <td>serve,service,family,honor,dr,member,life,care...</td>\n",
       "      <td>32.0</td>\n",
       "      <td>0.17</td>\n",
       "      <td>970259753</td>\n",
       "      <td>Positive Words 2</td>\n",
       "    </tr>\n",
       "  </tbody>\n",
       "</table>\n",
       "<p>2 rows × 34 columns</p>\n",
       "</div>"
      ],
      "text/plain": [
       "       speech_id      date  char_count  word_count   speakerid Party  \\\n",
       "1547   970261094  19821209         514          86  97105580.0     R   \n",
       "18902  970259753  19821208        1037         185  97105580.0     R   \n",
       "\n",
       "       Congress Chamber State Ethnicity  ...  pred_probs_combo  pred_combo  \\\n",
       "1547         97       H    OH         W  ...          0.276391       False   \n",
       "18902        97       H    OH         W  ...          0.598770        True   \n",
       "\n",
       "       Topic_Count  Prim_Topic Prim_Topic_Contrib  \\\n",
       "1547           6.0        35.0                0.6   \n",
       "18902          6.0        24.0                0.4   \n",
       "\n",
       "                                     Prim_Topic_Keywords Sec_Topic  \\\n",
       "1547   history,great,nation,day,american,live,first,w...      10.0   \n",
       "18902  serve,service,family,honor,dr,member,life,care...      32.0   \n",
       "\n",
       "       Sec_Topic_Contrib  Speech_id   Prim_Topic_Name  \n",
       "1547                0.14  970261094      Great Nation  \n",
       "18902               0.17  970259753  Positive Words 2  \n",
       "\n",
       "[2 rows x 34 columns]"
      ]
     },
     "execution_count": 56,
     "metadata": {},
     "output_type": "execute_result"
    }
   ],
   "source": [
    "topic_pred_df[topic_pred_df['Full Name']=='ASHBROOK, JEAN']"
   ]
  },
  {
   "cell_type": "code",
   "execution_count": 57,
   "metadata": {},
   "outputs": [
    {
     "data": {
      "text/plain": [
       "'Mr. Speaker. today December 9. 1982. marks the 300th anniversary of the arrival of the Ashbrook family on the continent of North America. On December 9. 1682. the familys first American. John Ashbrook. landed in Pennsylvania. having sailed from Belfast. Ireland. on the good ship Antelope. Today the descendents of John Ashbrook are observing the tricentennial of his arrival with solemn thanks for the bounty of the land to which he came and a firm resolve to cherish and defend the freedom they have found here.e'"
      ]
     },
     "execution_count": 57,
     "metadata": {},
     "output_type": "execute_result"
    }
   ],
   "source": [
    "val_list[val_ids.index('970261094')]"
   ]
  },
  {
   "cell_type": "code",
   "execution_count": 58,
   "metadata": {},
   "outputs": [
    {
     "data": {
      "text/plain": [
       "'Mr. Speaker. I would like to take this opportunity to pay tribute to a true friend and dear colleague. JOHN ROUSSELOT. I first met Mr. RoUSSELOT many years ago. when I had come to Washington with my husband. John A. When I was elected to Congress last summer. he was quick to offer any assistance he could in helping me learn my way around. and I could always turn to JOHN for advice. His activities and interests are very diverse. From the Congressional Balanced Budget Caucus to the Coalition of Peace Through Strength. JOHN RousSELOT showed his dedication and devotion to the constituents he so ably served. I admire his consistency in fighting excess Government spending and his interest in fiscal responsibility. JOHN RousSELOT is a hardworking. Intelligent man and I would like to wish him much success in the future. I also would like to say what a loss to this Congress it is to say goodby to BoB DoRNAN. a very special friend of John Ashbrooks. BoB DORNAN is a great American. and Boa. I wish you love and success in the future.'"
      ]
     },
     "execution_count": 58,
     "metadata": {},
     "output_type": "execute_result"
    }
   ],
   "source": [
    "val_list[val_ids.index('970259753')]"
   ]
  },
  {
   "cell_type": "code",
   "execution_count": 59,
   "metadata": {},
   "outputs": [
    {
     "data": {
      "text/plain": [
       "1     37\n",
       "2     26\n",
       "4     10\n",
       "5      6\n",
       "10     5\n",
       "3      5\n",
       "9      4\n",
       "8      2\n",
       "7      2\n",
       "6      2\n",
       "17     1\n",
       "16     1\n",
       "Name: speech_id_count, dtype: int64"
      ]
     },
     "execution_count": 59,
     "metadata": {},
     "output_type": "execute_result"
    }
   ],
   "source": [
    "speaker_df[(speaker_df.Female==0) & (speaker_df.Female_pred==1)].speech_id_count.value_counts()"
   ]
  },
  {
   "cell_type": "code",
   "execution_count": 60,
   "metadata": {},
   "outputs": [
    {
     "data": {
      "text/html": [
       "<div>\n",
       "<style scoped>\n",
       "    .dataframe tbody tr th:only-of-type {\n",
       "        vertical-align: middle;\n",
       "    }\n",
       "\n",
       "    .dataframe tbody tr th {\n",
       "        vertical-align: top;\n",
       "    }\n",
       "\n",
       "    .dataframe thead th {\n",
       "        text-align: right;\n",
       "    }\n",
       "</style>\n",
       "<table border=\"1\" class=\"dataframe\">\n",
       "  <thead>\n",
       "    <tr style=\"text-align: right;\">\n",
       "      <th></th>\n",
       "      <th>Full Name</th>\n",
       "      <th>Party</th>\n",
       "      <th>State</th>\n",
       "      <th>Female</th>\n",
       "      <th>NonWhite</th>\n",
       "      <th>pred_probs_combo_mean</th>\n",
       "      <th>Topic_Count_mean</th>\n",
       "      <th>speech_id_count</th>\n",
       "      <th>Age_mean</th>\n",
       "      <th>Female_pred</th>\n",
       "    </tr>\n",
       "  </thead>\n",
       "  <tbody>\n",
       "    <tr>\n",
       "      <th>61</th>\n",
       "      <td>BARBER, RON</td>\n",
       "      <td>D</td>\n",
       "      <td>AZ</td>\n",
       "      <td>0.0</td>\n",
       "      <td>0.0</td>\n",
       "      <td>0.879352</td>\n",
       "      <td>10.0</td>\n",
       "      <td>1</td>\n",
       "      <td>69.0</td>\n",
       "      <td>True</td>\n",
       "    </tr>\n",
       "    <tr>\n",
       "      <th>351</th>\n",
       "      <td>COYNE, JAMES</td>\n",
       "      <td>R</td>\n",
       "      <td>PA</td>\n",
       "      <td>0.0</td>\n",
       "      <td>0.0</td>\n",
       "      <td>0.871595</td>\n",
       "      <td>5.0</td>\n",
       "      <td>1</td>\n",
       "      <td>36.0</td>\n",
       "      <td>True</td>\n",
       "    </tr>\n",
       "    <tr>\n",
       "      <th>260</th>\n",
       "      <td>CASE, ED</td>\n",
       "      <td>D</td>\n",
       "      <td>HI</td>\n",
       "      <td>0.0</td>\n",
       "      <td>0.0</td>\n",
       "      <td>0.836456</td>\n",
       "      <td>6.0</td>\n",
       "      <td>1</td>\n",
       "      <td>54.0</td>\n",
       "      <td>True</td>\n",
       "    </tr>\n",
       "    <tr>\n",
       "      <th>1196</th>\n",
       "      <td>OWENS, WILLIAM</td>\n",
       "      <td>D</td>\n",
       "      <td>NY</td>\n",
       "      <td>0.0</td>\n",
       "      <td>0.0</td>\n",
       "      <td>0.810312</td>\n",
       "      <td>13.0</td>\n",
       "      <td>1</td>\n",
       "      <td>61.0</td>\n",
       "      <td>True</td>\n",
       "    </tr>\n",
       "    <tr>\n",
       "      <th>601</th>\n",
       "      <td>GIBSON, CHRISTOPHER</td>\n",
       "      <td>R</td>\n",
       "      <td>NY</td>\n",
       "      <td>0.0</td>\n",
       "      <td>0.0</td>\n",
       "      <td>0.792434</td>\n",
       "      <td>8.0</td>\n",
       "      <td>1</td>\n",
       "      <td>50.0</td>\n",
       "      <td>True</td>\n",
       "    </tr>\n",
       "  </tbody>\n",
       "</table>\n",
       "</div>"
      ],
      "text/plain": [
       "                Full Name Party State  Female  NonWhite  \\\n",
       "61            BARBER, RON     D    AZ     0.0       0.0   \n",
       "351          COYNE, JAMES     R    PA     0.0       0.0   \n",
       "260              CASE, ED     D    HI     0.0       0.0   \n",
       "1196       OWENS, WILLIAM     D    NY     0.0       0.0   \n",
       "601   GIBSON, CHRISTOPHER     R    NY     0.0       0.0   \n",
       "\n",
       "      pred_probs_combo_mean  Topic_Count_mean  speech_id_count  Age_mean  \\\n",
       "61                 0.879352              10.0                1      69.0   \n",
       "351                0.871595               5.0                1      36.0   \n",
       "260                0.836456               6.0                1      54.0   \n",
       "1196               0.810312              13.0                1      61.0   \n",
       "601                0.792434               8.0                1      50.0   \n",
       "\n",
       "      Female_pred  \n",
       "61           True  \n",
       "351          True  \n",
       "260          True  \n",
       "1196         True  \n",
       "601          True  "
      ]
     },
     "execution_count": 60,
     "metadata": {},
     "output_type": "execute_result"
    }
   ],
   "source": [
    "speaker_df[(speaker_df.Female==0) & (speaker_df.Female_pred==1)].sort_values(by='pred_probs_combo_mean', ascending=False).head()"
   ]
  },
  {
   "cell_type": "code",
   "execution_count": 61,
   "metadata": {},
   "outputs": [
    {
     "data": {
      "text/plain": [
       "44916    1130045661\n",
       "Name: speech_id, dtype: int64"
      ]
     },
     "execution_count": 61,
     "metadata": {},
     "output_type": "execute_result"
    }
   ],
   "source": [
    "descr_pred_df[descr_pred_df['Full Name']=='BARBER, RON'].speech_id"
   ]
  },
  {
   "cell_type": "code",
   "execution_count": 62,
   "metadata": {},
   "outputs": [
    {
     "data": {
      "text/plain": [
       "'Mr. Speaker. I rise today to honor the Tragedy Assistance Program for Survivors. The Tragedy Assistance Program for Survivors or TAPS assists families of our Armed Forces who have lost their military loved one. TAPS is a resource that provides 24/7 tragedy assistance based on a framework of peertopeer emotional support. Their programs fill the crucial need of connecting survivors with survivors to provide comfort. compassion. healing and hope in time of need. For nearly 20 years. TAPS has provided essential support to more than 40.000 military family members and those assisting them. TAPS successfully builds on the experience of survivors by connecting them as peermentors to other grieving family members in similar circumstances. However. connecting survivors is just the beginning. TAPS continues its outreach and support through grief seminars. camps for kids and physical events. The TAPS network in not a onetime liaison but a continuing support framework that provides continuous compassion and assistance to families as they grieve. Ms. Bonnie Carroll founded TAPS in 1994 after she tragically lost her husband in 1992. Brig. Gen. Tom Carroll. in a military plane crash. Sensing an unfilled need. Ms. Carroll established TAPS to ensure surviving military family members have the necessary resources to cope with their loss. Since then. Ms. Carroll has dedicated her life to supporting our surviving military families. Ms. Carroll and all of the TAPS volunteers are deserving of our highest thanks and honor.'"
      ]
     },
     "execution_count": 62,
     "metadata": {},
     "output_type": "execute_result"
    }
   ],
   "source": [
    "val_list[val_ids.index('1130045661')]"
   ]
  },
  {
   "cell_type": "code",
   "execution_count": 63,
   "metadata": {},
   "outputs": [],
   "source": [
    "keep_cols = [\n",
    "    'date',\n",
    "    'word_count',\n",
    "    'Party',\n",
    "    'Congress',\n",
    "    'Chamber',\n",
    "    'State',\n",
    "    'Ethnicity',\n",
    "    'Age',\n",
    "    'Female',\n",
    "    'Full Name',\n",
    "    'pred_probs_mlp_ngram',\n",
    "    'pred_probs_cnn',\n",
    "    'pred_probs_cnn_chunk',\n",
    "    'pred_probs_combo',\n",
    "    'Prim_Topic',\n",
    "    'Prim_Topic_Contrib',\n",
    "    'Sec_Topic',\n",
    "    'Sec_Topic_Contrib',\n",
    "]"
   ]
  },
  {
   "cell_type": "code",
   "execution_count": 64,
   "metadata": {},
   "outputs": [
    {
     "data": {
      "text/html": [
       "<div>\n",
       "<style scoped>\n",
       "    .dataframe tbody tr th:only-of-type {\n",
       "        vertical-align: middle;\n",
       "    }\n",
       "\n",
       "    .dataframe tbody tr th {\n",
       "        vertical-align: top;\n",
       "    }\n",
       "\n",
       "    .dataframe thead th {\n",
       "        text-align: right;\n",
       "    }\n",
       "</style>\n",
       "<table border=\"1\" class=\"dataframe\">\n",
       "  <thead>\n",
       "    <tr style=\"text-align: right;\">\n",
       "      <th></th>\n",
       "      <th>4334</th>\n",
       "    </tr>\n",
       "  </thead>\n",
       "  <tbody>\n",
       "    <tr>\n",
       "      <th>date</th>\n",
       "      <td>20130911</td>\n",
       "    </tr>\n",
       "    <tr>\n",
       "      <th>word_count</th>\n",
       "      <td>237</td>\n",
       "    </tr>\n",
       "    <tr>\n",
       "      <th>Party</th>\n",
       "      <td>D</td>\n",
       "    </tr>\n",
       "    <tr>\n",
       "      <th>Congress</th>\n",
       "      <td>113</td>\n",
       "    </tr>\n",
       "    <tr>\n",
       "      <th>Chamber</th>\n",
       "      <td>H</td>\n",
       "    </tr>\n",
       "    <tr>\n",
       "      <th>State</th>\n",
       "      <td>AZ</td>\n",
       "    </tr>\n",
       "    <tr>\n",
       "      <th>Ethnicity</th>\n",
       "      <td>W</td>\n",
       "    </tr>\n",
       "    <tr>\n",
       "      <th>Age</th>\n",
       "      <td>69</td>\n",
       "    </tr>\n",
       "    <tr>\n",
       "      <th>Female</th>\n",
       "      <td>0</td>\n",
       "    </tr>\n",
       "    <tr>\n",
       "      <th>Full Name</th>\n",
       "      <td>BARBER, RON</td>\n",
       "    </tr>\n",
       "    <tr>\n",
       "      <th>pred_probs_mlp_ngram</th>\n",
       "      <td>0.979709</td>\n",
       "    </tr>\n",
       "    <tr>\n",
       "      <th>pred_probs_cnn</th>\n",
       "      <td>0.95365</td>\n",
       "    </tr>\n",
       "    <tr>\n",
       "      <th>pred_probs_cnn_chunk</th>\n",
       "      <td>0.704697</td>\n",
       "    </tr>\n",
       "    <tr>\n",
       "      <th>pred_probs_combo</th>\n",
       "      <td>0.879352</td>\n",
       "    </tr>\n",
       "    <tr>\n",
       "      <th>Prim_Topic</th>\n",
       "      <td>1</td>\n",
       "    </tr>\n",
       "    <tr>\n",
       "      <th>Prim_Topic_Contrib</th>\n",
       "      <td>0.3</td>\n",
       "    </tr>\n",
       "    <tr>\n",
       "      <th>Sec_Topic</th>\n",
       "      <td>24</td>\n",
       "    </tr>\n",
       "    <tr>\n",
       "      <th>Sec_Topic_Contrib</th>\n",
       "      <td>0.19</td>\n",
       "    </tr>\n",
       "  </tbody>\n",
       "</table>\n",
       "</div>"
      ],
      "text/plain": [
       "                             4334\n",
       "date                     20130911\n",
       "word_count                    237\n",
       "Party                           D\n",
       "Congress                      113\n",
       "Chamber                         H\n",
       "State                          AZ\n",
       "Ethnicity                       W\n",
       "Age                            69\n",
       "Female                          0\n",
       "Full Name             BARBER, RON\n",
       "pred_probs_mlp_ngram     0.979709\n",
       "pred_probs_cnn            0.95365\n",
       "pred_probs_cnn_chunk     0.704697\n",
       "pred_probs_combo         0.879352\n",
       "Prim_Topic                      1\n",
       "Prim_Topic_Contrib            0.3\n",
       "Sec_Topic                      24\n",
       "Sec_Topic_Contrib            0.19"
      ]
     },
     "execution_count": 64,
     "metadata": {},
     "output_type": "execute_result"
    }
   ],
   "source": [
    "topic_pred_df[keep_cols][topic_pred_df['Full Name']=='BARBER, RON'].T"
   ]
  },
  {
   "cell_type": "code",
   "execution_count": null,
   "metadata": {},
   "outputs": [],
   "source": []
  },
  {
   "cell_type": "code",
   "execution_count": 65,
   "metadata": {},
   "outputs": [
    {
     "data": {
      "text/html": [
       "<div>\n",
       "<style scoped>\n",
       "    .dataframe tbody tr th:only-of-type {\n",
       "        vertical-align: middle;\n",
       "    }\n",
       "\n",
       "    .dataframe tbody tr th {\n",
       "        vertical-align: top;\n",
       "    }\n",
       "\n",
       "    .dataframe thead tr th {\n",
       "        text-align: left;\n",
       "    }\n",
       "\n",
       "    .dataframe thead tr:last-of-type th {\n",
       "        text-align: right;\n",
       "    }\n",
       "</style>\n",
       "<table border=\"1\" class=\"dataframe\">\n",
       "  <thead>\n",
       "    <tr>\n",
       "      <th></th>\n",
       "      <th></th>\n",
       "      <th>speech_id_count</th>\n",
       "      <th colspan=\"3\" halign=\"left\">pred_probs_combo_mean</th>\n",
       "      <th>Full Name</th>\n",
       "    </tr>\n",
       "    <tr>\n",
       "      <th></th>\n",
       "      <th></th>\n",
       "      <th>sum</th>\n",
       "      <th>min</th>\n",
       "      <th>mean</th>\n",
       "      <th>max</th>\n",
       "      <th>count</th>\n",
       "    </tr>\n",
       "    <tr>\n",
       "      <th>Female</th>\n",
       "      <th>Female_pred</th>\n",
       "      <th></th>\n",
       "      <th></th>\n",
       "      <th></th>\n",
       "      <th></th>\n",
       "      <th></th>\n",
       "    </tr>\n",
       "  </thead>\n",
       "  <tbody>\n",
       "    <tr>\n",
       "      <th rowspan=\"2\" valign=\"top\">0.0</th>\n",
       "      <th>False</th>\n",
       "      <td>31023</td>\n",
       "      <td>0.095770</td>\n",
       "      <td>0.357923</td>\n",
       "      <td>0.499647</td>\n",
       "      <td>1379</td>\n",
       "    </tr>\n",
       "    <tr>\n",
       "      <th>True</th>\n",
       "      <td>335</td>\n",
       "      <td>0.502026</td>\n",
       "      <td>0.591057</td>\n",
       "      <td>0.879352</td>\n",
       "      <td>101</td>\n",
       "    </tr>\n",
       "    <tr>\n",
       "      <th rowspan=\"2\" valign=\"top\">1.0</th>\n",
       "      <th>False</th>\n",
       "      <td>2</td>\n",
       "      <td>0.437581</td>\n",
       "      <td>0.437581</td>\n",
       "      <td>0.437581</td>\n",
       "      <td>1</td>\n",
       "    </tr>\n",
       "    <tr>\n",
       "      <th>True</th>\n",
       "      <td>31356</td>\n",
       "      <td>0.533466</td>\n",
       "      <td>0.659479</td>\n",
       "      <td>0.844141</td>\n",
       "      <td>221</td>\n",
       "    </tr>\n",
       "  </tbody>\n",
       "</table>\n",
       "</div>"
      ],
      "text/plain": [
       "                   speech_id_count pred_probs_combo_mean                      \\\n",
       "                               sum                   min      mean       max   \n",
       "Female Female_pred                                                             \n",
       "0.0    False                 31023              0.095770  0.357923  0.499647   \n",
       "       True                    335              0.502026  0.591057  0.879352   \n",
       "1.0    False                     2              0.437581  0.437581  0.437581   \n",
       "       True                  31356              0.533466  0.659479  0.844141   \n",
       "\n",
       "                   Full Name  \n",
       "                       count  \n",
       "Female Female_pred            \n",
       "0.0    False            1379  \n",
       "       True              101  \n",
       "1.0    False               1  \n",
       "       True              221  "
      ]
     },
     "execution_count": 65,
     "metadata": {},
     "output_type": "execute_result"
    }
   ],
   "source": [
    "speaker_df[['pred_probs_combo_mean','Female','Female_pred', 'Full Name', 'speech_id_count']]\\\n",
    "            .groupby(['Female','Female_pred'])\\\n",
    "            .agg({'pred_probs_combo_mean': ['min','mean','max'],\n",
    "                  'Full Name': ['count'],\n",
    "                  'speech_id_count': ['sum']})"
   ]
  },
  {
   "cell_type": "markdown",
   "metadata": {},
   "source": [
    "### Checking individual cases"
   ]
  },
  {
   "cell_type": "code",
   "execution_count": 66,
   "metadata": {},
   "outputs": [
    {
     "data": {
      "text/plain": [
       "12.0"
      ]
     },
     "execution_count": 66,
     "metadata": {},
     "output_type": "execute_result"
    }
   ],
   "source": [
    "speaker_df.speech_id_count.median()"
   ]
  },
  {
   "cell_type": "code",
   "execution_count": 67,
   "metadata": {},
   "outputs": [
    {
     "data": {
      "text/plain": [
       "(818, 10)"
      ]
     },
     "execution_count": 67,
     "metadata": {},
     "output_type": "execute_result"
    }
   ],
   "source": [
    "speaker_med_df = speaker_df[speaker_df.speech_id_count > speaker_df.speech_id_count.median()]\n",
    "speaker_med_df.shape"
   ]
  },
  {
   "cell_type": "code",
   "execution_count": 68,
   "metadata": {},
   "outputs": [
    {
     "data": {
      "text/plain": [
       "Full Name                DAHLKEMPER, KATHLEEN\n",
       "Party                                       D\n",
       "State                                      PA\n",
       "Female                                      1\n",
       "NonWhite                                    0\n",
       "pred_probs_combo_mean                0.718371\n",
       "Topic_Count_mean                      6.88462\n",
       "speech_id_count                            26\n",
       "Age_mean                                   53\n",
       "Female_pred                              True\n",
       "Name: 374, dtype: object"
      ]
     },
     "execution_count": 68,
     "metadata": {},
     "output_type": "execute_result"
    }
   ],
   "source": [
    "tp = np.argmax(speaker_med_df[speaker_med_df.Female==1].pred_probs_combo_mean.values)\n",
    "speaker_med_df[speaker_med_df.Female==1].iloc[tp]"
   ]
  },
  {
   "cell_type": "code",
   "execution_count": 69,
   "metadata": {},
   "outputs": [
    {
     "data": {
      "text/plain": [
       "Full Name                COMBEST, LARRY\n",
       "Party                                 R\n",
       "State                                TX\n",
       "Female                                0\n",
       "NonWhite                              0\n",
       "pred_probs_combo_mean          0.234317\n",
       "Topic_Count_mean                6.64286\n",
       "speech_id_count                      14\n",
       "Age_mean                        51.5714\n",
       "Female_pred                       False\n",
       "Name: 320, dtype: object"
      ]
     },
     "execution_count": 69,
     "metadata": {},
     "output_type": "execute_result"
    }
   ],
   "source": [
    "tn = np.argmin(speaker_med_df[speaker_med_df.Female==0].pred_probs_combo_mean.values)\n",
    "speaker_med_df[speaker_med_df.Female==0].iloc[tn]"
   ]
  },
  {
   "cell_type": "code",
   "execution_count": 70,
   "metadata": {},
   "outputs": [
    {
     "data": {
      "text/plain": [
       "Full Name                MANZULLO, DONALD\n",
       "Party                                   R\n",
       "State                                  IL\n",
       "Female                                  0\n",
       "NonWhite                                0\n",
       "pred_probs_combo_mean            0.521895\n",
       "Topic_Count_mean                  7.94118\n",
       "speech_id_count                        17\n",
       "Age_mean                          61.2941\n",
       "Female_pred                          True\n",
       "Name: 1000, dtype: object"
      ]
     },
     "execution_count": 70,
     "metadata": {},
     "output_type": "execute_result"
    }
   ],
   "source": [
    "fp = np.argmax(speaker_med_df[speaker_med_df.Female==0].pred_probs_combo_mean.values)\n",
    "speaker_med_df[speaker_med_df.Female==0].iloc[fp]"
   ]
  },
  {
   "cell_type": "code",
   "execution_count": 71,
   "metadata": {},
   "outputs": [
    {
     "data": {
      "text/plain": [
       "Full Name                HALVORSON, DEBORAH\n",
       "Party                                     D\n",
       "State                                    IL\n",
       "Female                                    1\n",
       "NonWhite                                  0\n",
       "pred_probs_combo_mean              0.572112\n",
       "Topic_Count_mean                    7.64706\n",
       "speech_id_count                          17\n",
       "Age_mean                                 52\n",
       "Female_pred                            True\n",
       "Name: 672, dtype: object"
      ]
     },
     "execution_count": 71,
     "metadata": {},
     "output_type": "execute_result"
    }
   ],
   "source": [
    "fn = np.argmin(speaker_med_df[speaker_med_df.Female==1].pred_probs_combo_mean.values)\n",
    "speaker_med_df[speaker_med_df.Female==1].iloc[fn]"
   ]
  },
  {
   "cell_type": "markdown",
   "metadata": {},
   "source": [
    "### Topic analysis of individual cases"
   ]
  },
  {
   "cell_type": "code",
   "execution_count": 72,
   "metadata": {},
   "outputs": [
    {
     "data": {
      "text/plain": [
       "(36, 2)"
      ]
     },
     "execution_count": 72,
     "metadata": {},
     "output_type": "execute_result"
    }
   ],
   "source": [
    "topic_share = topic_pred_df[['Prim_Topic_Name', 'speech_id']].groupby('Prim_Topic_Name').count() / topic_pred_df.shape[0]\n",
    "topic_share.columns = ['topic_share']\n",
    "topic_share.reset_index(inplace=True)\n",
    "topic_share.shape"
   ]
  },
  {
   "cell_type": "code",
   "execution_count": 73,
   "metadata": {},
   "outputs": [
    {
     "data": {
      "text/plain": [
       "(1702, 4)"
      ]
     },
     "execution_count": 73,
     "metadata": {},
     "output_type": "execute_result"
    }
   ],
   "source": [
    "topic_spkr_count = topic_pred_df[['Full Name', 'Party', 'State', 'Prim_Topic_Name']]\\\n",
    "                            .groupby(['Full Name', 'Party', 'State'])\\\n",
    "                            .Prim_Topic_Name.nunique()\\\n",
    "                            .reset_index()\n",
    "topic_spkr_count.rename(columns={\"Prim_Topic_Name\": \"Unique_Prim_Topic_count\"}, inplace=True)\n",
    "topic_spkr_count.shape"
   ]
  },
  {
   "cell_type": "code",
   "execution_count": 74,
   "metadata": {},
   "outputs": [
    {
     "data": {
      "text/plain": [
       "(62716, 34)"
      ]
     },
     "execution_count": 74,
     "metadata": {},
     "output_type": "execute_result"
    }
   ],
   "source": [
    "topic_pred_df.shape"
   ]
  },
  {
   "cell_type": "code",
   "execution_count": 75,
   "metadata": {},
   "outputs": [
    {
     "data": {
      "text/plain": [
       "(1702, 4)"
      ]
     },
     "execution_count": 75,
     "metadata": {},
     "output_type": "execute_result"
    }
   ],
   "source": [
    "topic_spkr_count.shape"
   ]
  },
  {
   "cell_type": "code",
   "execution_count": 76,
   "metadata": {},
   "outputs": [
    {
     "data": {
      "text/plain": [
       "(16644, 17)"
      ]
     },
     "execution_count": 76,
     "metadata": {},
     "output_type": "execute_result"
    }
   ],
   "source": [
    "speaker_topic_share = topic_pred_df[['Full Name', 'Party', 'State', 'Prim_Topic_Name', 'speech_id', 'pred_probs_combo']]\\\n",
    "                            .groupby(['Full Name', 'Party', 'State', 'Prim_Topic_Name'])\\\n",
    "                            .agg({'speech_id': ['count'], 'pred_probs_combo': ['mean']})\n",
    "speaker_topic_share.columns = ['_'.join(col) for col in speaker_topic_share.columns]\n",
    "speaker_topic_share.reset_index(inplace=True)\n",
    "speaker_topic_share.rename(columns={'pred_probs_combo_mean': 'speech_avg_prob', 'speech_id_count': 'Speech_cnt_spkr_by_topic'}, inplace=True)\n",
    "speaker_topic_share = speaker_topic_share.merge(speaker_df, on=['Full Name', 'Party', 'State'])\\\n",
    "                                         .merge(topic_share, on='Prim_Topic_Name')\\\n",
    "                                         .merge(topic_spkr_count, on=['Full Name', 'Party', 'State'])\n",
    "speaker_topic_share['topic_speaker_share'] = speaker_topic_share.Speech_cnt_spkr_by_topic/speaker_topic_share.speech_id_count\n",
    "speaker_topic_share['topic_share_index'] = speaker_topic_share.topic_speaker_share/speaker_topic_share.topic_share\n",
    "speaker_topic_share.shape"
   ]
  },
  {
   "cell_type": "code",
   "execution_count": 77,
   "metadata": {},
   "outputs": [
    {
     "data": {
      "text/plain": [
       "26"
      ]
     },
     "execution_count": 77,
     "metadata": {},
     "output_type": "execute_result"
    }
   ],
   "source": [
    "speaker_topic_share[speaker_topic_share['Full Name']=='DAHLKEMPER, KATHLEEN'].Speech_cnt_spkr_by_topic.sum()"
   ]
  },
  {
   "cell_type": "code",
   "execution_count": 78,
   "metadata": {},
   "outputs": [
    {
     "data": {
      "text/html": [
       "<div>\n",
       "<style scoped>\n",
       "    .dataframe tbody tr th:only-of-type {\n",
       "        vertical-align: middle;\n",
       "    }\n",
       "\n",
       "    .dataframe tbody tr th {\n",
       "        vertical-align: top;\n",
       "    }\n",
       "\n",
       "    .dataframe thead th {\n",
       "        text-align: right;\n",
       "    }\n",
       "</style>\n",
       "<table border=\"1\" class=\"dataframe\">\n",
       "  <thead>\n",
       "    <tr style=\"text-align: right;\">\n",
       "      <th></th>\n",
       "      <th>Full Name</th>\n",
       "      <th>Party</th>\n",
       "      <th>State</th>\n",
       "      <th>Prim_Topic_Name</th>\n",
       "      <th>speech_avg_prob</th>\n",
       "      <th>Speech_cnt_spkr_by_topic</th>\n",
       "      <th>Female</th>\n",
       "      <th>NonWhite</th>\n",
       "      <th>pred_probs_combo_mean</th>\n",
       "      <th>Topic_Count_mean</th>\n",
       "      <th>speech_id_count</th>\n",
       "      <th>Age_mean</th>\n",
       "      <th>Female_pred</th>\n",
       "      <th>topic_share</th>\n",
       "      <th>Unique_Prim_Topic_count</th>\n",
       "      <th>topic_speaker_share</th>\n",
       "      <th>topic_share_index</th>\n",
       "    </tr>\n",
       "  </thead>\n",
       "  <tbody>\n",
       "    <tr>\n",
       "      <th>2289</th>\n",
       "      <td>DAHLKEMPER, KATHLEEN</td>\n",
       "      <td>D</td>\n",
       "      <td>PA</td>\n",
       "      <td>Economy</td>\n",
       "      <td>0.905084</td>\n",
       "      <td>6</td>\n",
       "      <td>1.0</td>\n",
       "      <td>0.0</td>\n",
       "      <td>0.718371</td>\n",
       "      <td>6.884615</td>\n",
       "      <td>26</td>\n",
       "      <td>53.0</td>\n",
       "      <td>True</td>\n",
       "      <td>0.023248</td>\n",
       "      <td>12</td>\n",
       "      <td>0.230769</td>\n",
       "      <td>9.926559</td>\n",
       "    </tr>\n",
       "    <tr>\n",
       "      <th>2299</th>\n",
       "      <td>DAHLKEMPER, KATHLEEN</td>\n",
       "      <td>D</td>\n",
       "      <td>PA</td>\n",
       "      <td>Finance and Business</td>\n",
       "      <td>0.875510</td>\n",
       "      <td>1</td>\n",
       "      <td>1.0</td>\n",
       "      <td>0.0</td>\n",
       "      <td>0.718371</td>\n",
       "      <td>6.884615</td>\n",
       "      <td>26</td>\n",
       "      <td>53.0</td>\n",
       "      <td>True</td>\n",
       "      <td>0.010412</td>\n",
       "      <td>12</td>\n",
       "      <td>0.038462</td>\n",
       "      <td>3.693957</td>\n",
       "    </tr>\n",
       "    <tr>\n",
       "      <th>2295</th>\n",
       "      <td>DAHLKEMPER, KATHLEEN</td>\n",
       "      <td>D</td>\n",
       "      <td>PA</td>\n",
       "      <td>Foreign Policy</td>\n",
       "      <td>0.762827</td>\n",
       "      <td>1</td>\n",
       "      <td>1.0</td>\n",
       "      <td>0.0</td>\n",
       "      <td>0.718371</td>\n",
       "      <td>6.884615</td>\n",
       "      <td>26</td>\n",
       "      <td>53.0</td>\n",
       "      <td>True</td>\n",
       "      <td>0.027377</td>\n",
       "      <td>12</td>\n",
       "      <td>0.038462</td>\n",
       "      <td>1.404865</td>\n",
       "    </tr>\n",
       "    <tr>\n",
       "      <th>2288</th>\n",
       "      <td>DAHLKEMPER, KATHLEEN</td>\n",
       "      <td>D</td>\n",
       "      <td>PA</td>\n",
       "      <td>Budgets and Spending</td>\n",
       "      <td>0.732626</td>\n",
       "      <td>2</td>\n",
       "      <td>1.0</td>\n",
       "      <td>0.0</td>\n",
       "      <td>0.718371</td>\n",
       "      <td>6.884615</td>\n",
       "      <td>26</td>\n",
       "      <td>53.0</td>\n",
       "      <td>True</td>\n",
       "      <td>0.038347</td>\n",
       "      <td>12</td>\n",
       "      <td>0.076923</td>\n",
       "      <td>2.005949</td>\n",
       "    </tr>\n",
       "    <tr>\n",
       "      <th>2291</th>\n",
       "      <td>DAHLKEMPER, KATHLEEN</td>\n",
       "      <td>D</td>\n",
       "      <td>PA</td>\n",
       "      <td>Random Verbs 2</td>\n",
       "      <td>0.713979</td>\n",
       "      <td>3</td>\n",
       "      <td>1.0</td>\n",
       "      <td>0.0</td>\n",
       "      <td>0.718371</td>\n",
       "      <td>6.884615</td>\n",
       "      <td>26</td>\n",
       "      <td>53.0</td>\n",
       "      <td>True</td>\n",
       "      <td>0.150424</td>\n",
       "      <td>12</td>\n",
       "      <td>0.115385</td>\n",
       "      <td>0.767062</td>\n",
       "    </tr>\n",
       "  </tbody>\n",
       "</table>\n",
       "</div>"
      ],
      "text/plain": [
       "                 Full Name Party State       Prim_Topic_Name  speech_avg_prob  \\\n",
       "2289  DAHLKEMPER, KATHLEEN     D    PA               Economy         0.905084   \n",
       "2299  DAHLKEMPER, KATHLEEN     D    PA  Finance and Business         0.875510   \n",
       "2295  DAHLKEMPER, KATHLEEN     D    PA        Foreign Policy         0.762827   \n",
       "2288  DAHLKEMPER, KATHLEEN     D    PA  Budgets and Spending         0.732626   \n",
       "2291  DAHLKEMPER, KATHLEEN     D    PA        Random Verbs 2         0.713979   \n",
       "\n",
       "      Speech_cnt_spkr_by_topic  Female  NonWhite  pred_probs_combo_mean  \\\n",
       "2289                         6     1.0       0.0               0.718371   \n",
       "2299                         1     1.0       0.0               0.718371   \n",
       "2295                         1     1.0       0.0               0.718371   \n",
       "2288                         2     1.0       0.0               0.718371   \n",
       "2291                         3     1.0       0.0               0.718371   \n",
       "\n",
       "      Topic_Count_mean  speech_id_count  Age_mean  Female_pred  topic_share  \\\n",
       "2289          6.884615               26      53.0         True     0.023248   \n",
       "2299          6.884615               26      53.0         True     0.010412   \n",
       "2295          6.884615               26      53.0         True     0.027377   \n",
       "2288          6.884615               26      53.0         True     0.038347   \n",
       "2291          6.884615               26      53.0         True     0.150424   \n",
       "\n",
       "      Unique_Prim_Topic_count  topic_speaker_share  topic_share_index  \n",
       "2289                       12             0.230769           9.926559  \n",
       "2299                       12             0.038462           3.693957  \n",
       "2295                       12             0.038462           1.404865  \n",
       "2288                       12             0.076923           2.005949  \n",
       "2291                       12             0.115385           0.767062  "
      ]
     },
     "execution_count": 78,
     "metadata": {},
     "output_type": "execute_result"
    }
   ],
   "source": [
    "speaker_topic_share[speaker_topic_share['Full Name']=='DAHLKEMPER, KATHLEEN'].sort_values(by='speech_avg_prob', ascending=False).head()"
   ]
  },
  {
   "cell_type": "code",
   "execution_count": 79,
   "metadata": {},
   "outputs": [
    {
     "data": {
      "text/html": [
       "<div>\n",
       "<style scoped>\n",
       "    .dataframe tbody tr th:only-of-type {\n",
       "        vertical-align: middle;\n",
       "    }\n",
       "\n",
       "    .dataframe tbody tr th {\n",
       "        vertical-align: top;\n",
       "    }\n",
       "\n",
       "    .dataframe thead th {\n",
       "        text-align: right;\n",
       "    }\n",
       "</style>\n",
       "<table border=\"1\" class=\"dataframe\">\n",
       "  <thead>\n",
       "    <tr style=\"text-align: right;\">\n",
       "      <th></th>\n",
       "      <th>Full Name</th>\n",
       "      <th>Party</th>\n",
       "      <th>State</th>\n",
       "      <th>Prim_Topic_Name</th>\n",
       "      <th>speech_avg_prob</th>\n",
       "      <th>Speech_cnt_spkr_by_topic</th>\n",
       "      <th>Female</th>\n",
       "      <th>NonWhite</th>\n",
       "      <th>pred_probs_combo_mean</th>\n",
       "      <th>Topic_Count_mean</th>\n",
       "      <th>speech_id_count</th>\n",
       "      <th>Age_mean</th>\n",
       "      <th>Female_pred</th>\n",
       "      <th>topic_share</th>\n",
       "      <th>Unique_Prim_Topic_count</th>\n",
       "      <th>topic_speaker_share</th>\n",
       "      <th>topic_share_index</th>\n",
       "    </tr>\n",
       "  </thead>\n",
       "  <tbody>\n",
       "    <tr>\n",
       "      <th>15732</th>\n",
       "      <td>MANZULLO, DONALD</td>\n",
       "      <td>R</td>\n",
       "      <td>IL</td>\n",
       "      <td>Taxes and Welfare</td>\n",
       "      <td>0.896914</td>\n",
       "      <td>1</td>\n",
       "      <td>0.0</td>\n",
       "      <td>0.0</td>\n",
       "      <td>0.521895</td>\n",
       "      <td>7.941176</td>\n",
       "      <td>17</td>\n",
       "      <td>61.294118</td>\n",
       "      <td>True</td>\n",
       "      <td>0.025608</td>\n",
       "      <td>11</td>\n",
       "      <td>0.058824</td>\n",
       "      <td>2.297121</td>\n",
       "    </tr>\n",
       "    <tr>\n",
       "      <th>15735</th>\n",
       "      <td>MANZULLO, DONALD</td>\n",
       "      <td>R</td>\n",
       "      <td>IL</td>\n",
       "      <td>Positive Words 2</td>\n",
       "      <td>0.762351</td>\n",
       "      <td>1</td>\n",
       "      <td>0.0</td>\n",
       "      <td>0.0</td>\n",
       "      <td>0.521895</td>\n",
       "      <td>7.941176</td>\n",
       "      <td>17</td>\n",
       "      <td>61.294118</td>\n",
       "      <td>True</td>\n",
       "      <td>0.053798</td>\n",
       "      <td>11</td>\n",
       "      <td>0.058824</td>\n",
       "      <td>1.093413</td>\n",
       "    </tr>\n",
       "    <tr>\n",
       "      <th>15731</th>\n",
       "      <td>MANZULLO, DONALD</td>\n",
       "      <td>R</td>\n",
       "      <td>IL</td>\n",
       "      <td>Random Verbs 2</td>\n",
       "      <td>0.704511</td>\n",
       "      <td>1</td>\n",
       "      <td>0.0</td>\n",
       "      <td>0.0</td>\n",
       "      <td>0.521895</td>\n",
       "      <td>7.941176</td>\n",
       "      <td>17</td>\n",
       "      <td>61.294118</td>\n",
       "      <td>True</td>\n",
       "      <td>0.150424</td>\n",
       "      <td>11</td>\n",
       "      <td>0.058824</td>\n",
       "      <td>0.391051</td>\n",
       "    </tr>\n",
       "    <tr>\n",
       "      <th>15733</th>\n",
       "      <td>MANZULLO, DONALD</td>\n",
       "      <td>R</td>\n",
       "      <td>IL</td>\n",
       "      <td>Diplomacy and Security</td>\n",
       "      <td>0.615456</td>\n",
       "      <td>1</td>\n",
       "      <td>0.0</td>\n",
       "      <td>0.0</td>\n",
       "      <td>0.521895</td>\n",
       "      <td>7.941176</td>\n",
       "      <td>17</td>\n",
       "      <td>61.294118</td>\n",
       "      <td>True</td>\n",
       "      <td>0.031252</td>\n",
       "      <td>11</td>\n",
       "      <td>0.058824</td>\n",
       "      <td>1.882233</td>\n",
       "    </tr>\n",
       "    <tr>\n",
       "      <th>15738</th>\n",
       "      <td>MANZULLO, DONALD</td>\n",
       "      <td>R</td>\n",
       "      <td>IL</td>\n",
       "      <td>Judicial Nominations</td>\n",
       "      <td>0.596264</td>\n",
       "      <td>2</td>\n",
       "      <td>0.0</td>\n",
       "      <td>0.0</td>\n",
       "      <td>0.521895</td>\n",
       "      <td>7.941176</td>\n",
       "      <td>17</td>\n",
       "      <td>61.294118</td>\n",
       "      <td>True</td>\n",
       "      <td>0.013968</td>\n",
       "      <td>11</td>\n",
       "      <td>0.117647</td>\n",
       "      <td>8.422777</td>\n",
       "    </tr>\n",
       "  </tbody>\n",
       "</table>\n",
       "</div>"
      ],
      "text/plain": [
       "              Full Name Party State         Prim_Topic_Name  speech_avg_prob  \\\n",
       "15732  MANZULLO, DONALD     R    IL       Taxes and Welfare         0.896914   \n",
       "15735  MANZULLO, DONALD     R    IL        Positive Words 2         0.762351   \n",
       "15731  MANZULLO, DONALD     R    IL          Random Verbs 2         0.704511   \n",
       "15733  MANZULLO, DONALD     R    IL  Diplomacy and Security         0.615456   \n",
       "15738  MANZULLO, DONALD     R    IL    Judicial Nominations         0.596264   \n",
       "\n",
       "       Speech_cnt_spkr_by_topic  Female  NonWhite  pred_probs_combo_mean  \\\n",
       "15732                         1     0.0       0.0               0.521895   \n",
       "15735                         1     0.0       0.0               0.521895   \n",
       "15731                         1     0.0       0.0               0.521895   \n",
       "15733                         1     0.0       0.0               0.521895   \n",
       "15738                         2     0.0       0.0               0.521895   \n",
       "\n",
       "       Topic_Count_mean  speech_id_count   Age_mean  Female_pred  topic_share  \\\n",
       "15732          7.941176               17  61.294118         True     0.025608   \n",
       "15735          7.941176               17  61.294118         True     0.053798   \n",
       "15731          7.941176               17  61.294118         True     0.150424   \n",
       "15733          7.941176               17  61.294118         True     0.031252   \n",
       "15738          7.941176               17  61.294118         True     0.013968   \n",
       "\n",
       "       Unique_Prim_Topic_count  topic_speaker_share  topic_share_index  \n",
       "15732                       11             0.058824           2.297121  \n",
       "15735                       11             0.058824           1.093413  \n",
       "15731                       11             0.058824           0.391051  \n",
       "15733                       11             0.058824           1.882233  \n",
       "15738                       11             0.117647           8.422777  "
      ]
     },
     "execution_count": 79,
     "metadata": {},
     "output_type": "execute_result"
    }
   ],
   "source": [
    "speaker_topic_share[speaker_topic_share['Full Name']=='MANZULLO, DONALD'].sort_values(by='speech_avg_prob', ascending=False).head()"
   ]
  },
  {
   "cell_type": "code",
   "execution_count": 80,
   "metadata": {},
   "outputs": [
    {
     "data": {
      "text/plain": [
       "(36, 2)"
      ]
     },
     "execution_count": 80,
     "metadata": {},
     "output_type": "execute_result"
    }
   ],
   "source": [
    "topic_share = topic_pred_df[['Prim_Topic_Name', 'speech_id']].groupby('Prim_Topic_Name').count() / topic_pred_df.shape[0]\n",
    "topic_share.columns = ['topic_share']\n",
    "topic_share.reset_index(inplace=True)\n",
    "topic_share.shape"
   ]
  },
  {
   "cell_type": "code",
   "execution_count": 81,
   "metadata": {},
   "outputs": [
    {
     "data": {
      "text/html": [
       "<div>\n",
       "<style scoped>\n",
       "    .dataframe tbody tr th:only-of-type {\n",
       "        vertical-align: middle;\n",
       "    }\n",
       "\n",
       "    .dataframe tbody tr th {\n",
       "        vertical-align: top;\n",
       "    }\n",
       "\n",
       "    .dataframe thead th {\n",
       "        text-align: right;\n",
       "    }\n",
       "</style>\n",
       "<table border=\"1\" class=\"dataframe\">\n",
       "  <thead>\n",
       "    <tr style=\"text-align: right;\">\n",
       "      <th></th>\n",
       "      <th>Female</th>\n",
       "      <th>pred_combo</th>\n",
       "      <th>pred_speech_cnt</th>\n",
       "    </tr>\n",
       "  </thead>\n",
       "  <tbody>\n",
       "    <tr>\n",
       "      <th>0</th>\n",
       "      <td>0.0</td>\n",
       "      <td>False</td>\n",
       "      <td>23368</td>\n",
       "    </tr>\n",
       "    <tr>\n",
       "      <th>1</th>\n",
       "      <td>0.0</td>\n",
       "      <td>True</td>\n",
       "      <td>7990</td>\n",
       "    </tr>\n",
       "    <tr>\n",
       "      <th>2</th>\n",
       "      <td>1.0</td>\n",
       "      <td>False</td>\n",
       "      <td>6690</td>\n",
       "    </tr>\n",
       "    <tr>\n",
       "      <th>3</th>\n",
       "      <td>1.0</td>\n",
       "      <td>True</td>\n",
       "      <td>24668</td>\n",
       "    </tr>\n",
       "  </tbody>\n",
       "</table>\n",
       "</div>"
      ],
      "text/plain": [
       "   Female  pred_combo  pred_speech_cnt\n",
       "0     0.0       False            23368\n",
       "1     0.0        True             7990\n",
       "2     1.0       False             6690\n",
       "3     1.0        True            24668"
      ]
     },
     "execution_count": 81,
     "metadata": {},
     "output_type": "execute_result"
    }
   ],
   "source": [
    "pred_share = topic_pred_df[['Female', 'pred_combo', 'speech_id']]\\\n",
    "                    .groupby(['Female', 'pred_combo'])\\\n",
    "                    .count()\\\n",
    "                    .reset_index()\n",
    "pred_share.rename(columns = {'speech_id': 'pred_speech_cnt'}, inplace=True)\n",
    "pred_share"
   ]
  },
  {
   "cell_type": "code",
   "execution_count": 82,
   "metadata": {},
   "outputs": [
    {
     "data": {
      "text/plain": [
       "(144, 8)"
      ]
     },
     "execution_count": 82,
     "metadata": {},
     "output_type": "execute_result"
    }
   ],
   "source": [
    "topic_pred_share = topic_pred_df[['Prim_Topic_Name', 'Female', 'pred_combo', 'speech_id']]\\\n",
    "                    .groupby(['Prim_Topic_Name', 'Female', 'pred_combo'])\\\n",
    "                    .count()\\\n",
    "                    .reset_index()\n",
    "topic_pred_share.rename(columns = {'speech_id': 'topic_pred_speech_cnt'}, inplace=True)\n",
    "topic_pred_share = topic_pred_share.merge(topic_share, on='Prim_Topic_Name').merge(pred_share, on=['Female', 'pred_combo'])\n",
    "topic_pred_share['topic_pred_share'] = topic_pred_share.topic_pred_speech_cnt/topic_pred_share.pred_speech_cnt\n",
    "topic_pred_share['topic_pred_share_index'] = topic_pred_share.topic_pred_share/topic_pred_share.topic_share\n",
    "topic_pred_share.shape"
   ]
  },
  {
   "cell_type": "code",
   "execution_count": 83,
   "metadata": {},
   "outputs": [
    {
     "data": {
      "text/html": [
       "<div>\n",
       "<style scoped>\n",
       "    .dataframe tbody tr th:only-of-type {\n",
       "        vertical-align: middle;\n",
       "    }\n",
       "\n",
       "    .dataframe tbody tr th {\n",
       "        vertical-align: top;\n",
       "    }\n",
       "\n",
       "    .dataframe thead th {\n",
       "        text-align: right;\n",
       "    }\n",
       "</style>\n",
       "<table border=\"1\" class=\"dataframe\">\n",
       "  <thead>\n",
       "    <tr style=\"text-align: right;\">\n",
       "      <th></th>\n",
       "      <th>Prim_Topic_Name</th>\n",
       "      <th>Female</th>\n",
       "      <th>pred_combo</th>\n",
       "      <th>topic_pred_speech_cnt</th>\n",
       "      <th>topic_share</th>\n",
       "      <th>pred_speech_cnt</th>\n",
       "      <th>topic_pred_share</th>\n",
       "      <th>topic_pred_share_index</th>\n",
       "    </tr>\n",
       "  </thead>\n",
       "  <tbody>\n",
       "    <tr>\n",
       "      <th>126</th>\n",
       "      <td>Healthcare and Women's Health</td>\n",
       "      <td>1.0</td>\n",
       "      <td>True</td>\n",
       "      <td>568</td>\n",
       "      <td>0.014223</td>\n",
       "      <td>24668</td>\n",
       "      <td>0.023026</td>\n",
       "      <td>1.618929</td>\n",
       "    </tr>\n",
       "    <tr>\n",
       "      <th>136</th>\n",
       "      <td>Poverty and Welfare</td>\n",
       "      <td>1.0</td>\n",
       "      <td>True</td>\n",
       "      <td>255</td>\n",
       "      <td>0.006521</td>\n",
       "      <td>24668</td>\n",
       "      <td>0.010337</td>\n",
       "      <td>1.585117</td>\n",
       "    </tr>\n",
       "    <tr>\n",
       "      <th>116</th>\n",
       "      <td>Economy</td>\n",
       "      <td>1.0</td>\n",
       "      <td>True</td>\n",
       "      <td>813</td>\n",
       "      <td>0.023248</td>\n",
       "      <td>24668</td>\n",
       "      <td>0.032958</td>\n",
       "      <td>1.417677</td>\n",
       "    </tr>\n",
       "    <tr>\n",
       "      <th>110</th>\n",
       "      <td>Children's Diseases</td>\n",
       "      <td>1.0</td>\n",
       "      <td>True</td>\n",
       "      <td>822</td>\n",
       "      <td>0.023582</td>\n",
       "      <td>24668</td>\n",
       "      <td>0.033323</td>\n",
       "      <td>1.413019</td>\n",
       "    </tr>\n",
       "    <tr>\n",
       "      <th>117</th>\n",
       "      <td>Education</td>\n",
       "      <td>1.0</td>\n",
       "      <td>True</td>\n",
       "      <td>660</td>\n",
       "      <td>0.020091</td>\n",
       "      <td>24668</td>\n",
       "      <td>0.026755</td>\n",
       "      <td>1.331735</td>\n",
       "    </tr>\n",
       "  </tbody>\n",
       "</table>\n",
       "</div>"
      ],
      "text/plain": [
       "                   Prim_Topic_Name  Female  pred_combo  topic_pred_speech_cnt  \\\n",
       "126  Healthcare and Women's Health     1.0        True                    568   \n",
       "136            Poverty and Welfare     1.0        True                    255   \n",
       "116                        Economy     1.0        True                    813   \n",
       "110            Children's Diseases     1.0        True                    822   \n",
       "117                      Education     1.0        True                    660   \n",
       "\n",
       "     topic_share  pred_speech_cnt  topic_pred_share  topic_pred_share_index  \n",
       "126     0.014223            24668          0.023026                1.618929  \n",
       "136     0.006521            24668          0.010337                1.585117  \n",
       "116     0.023248            24668          0.032958                1.417677  \n",
       "110     0.023582            24668          0.033323                1.413019  \n",
       "117     0.020091            24668          0.026755                1.331735  "
      ]
     },
     "execution_count": 83,
     "metadata": {},
     "output_type": "execute_result"
    }
   ],
   "source": [
    "topic_pred_share[(topic_pred_share.Female==1) & (topic_pred_share.pred_combo==1)].sort_values(by='topic_pred_share_index', ascending=False).head()"
   ]
  },
  {
   "cell_type": "code",
   "execution_count": 84,
   "metadata": {},
   "outputs": [
    {
     "data": {
      "text/html": [
       "<div>\n",
       "<style scoped>\n",
       "    .dataframe tbody tr th:only-of-type {\n",
       "        vertical-align: middle;\n",
       "    }\n",
       "\n",
       "    .dataframe tbody tr th {\n",
       "        vertical-align: top;\n",
       "    }\n",
       "\n",
       "    .dataframe thead th {\n",
       "        text-align: right;\n",
       "    }\n",
       "</style>\n",
       "<table border=\"1\" class=\"dataframe\">\n",
       "  <thead>\n",
       "    <tr style=\"text-align: right;\">\n",
       "      <th></th>\n",
       "      <th>Prim_Topic_Name</th>\n",
       "      <th>Female</th>\n",
       "      <th>pred_combo</th>\n",
       "      <th>topic_pred_speech_cnt</th>\n",
       "      <th>topic_share</th>\n",
       "      <th>pred_speech_cnt</th>\n",
       "      <th>topic_pred_share</th>\n",
       "      <th>topic_pred_share_index</th>\n",
       "    </tr>\n",
       "  </thead>\n",
       "  <tbody>\n",
       "    <tr>\n",
       "      <th>5</th>\n",
       "      <td>Costs</td>\n",
       "      <td>0.0</td>\n",
       "      <td>False</td>\n",
       "      <td>397</td>\n",
       "      <td>0.012294</td>\n",
       "      <td>23368</td>\n",
       "      <td>0.016989</td>\n",
       "      <td>1.381952</td>\n",
       "    </tr>\n",
       "    <tr>\n",
       "      <th>4</th>\n",
       "      <td>Common Phrases</td>\n",
       "      <td>0.0</td>\n",
       "      <td>False</td>\n",
       "      <td>2023</td>\n",
       "      <td>0.065023</td>\n",
       "      <td>23368</td>\n",
       "      <td>0.086571</td>\n",
       "      <td>1.331391</td>\n",
       "    </tr>\n",
       "    <tr>\n",
       "      <th>7</th>\n",
       "      <td>Diplomacy and Security</td>\n",
       "      <td>0.0</td>\n",
       "      <td>False</td>\n",
       "      <td>909</td>\n",
       "      <td>0.031252</td>\n",
       "      <td>23368</td>\n",
       "      <td>0.038899</td>\n",
       "      <td>1.244700</td>\n",
       "    </tr>\n",
       "    <tr>\n",
       "      <th>22</th>\n",
       "      <td>Legislation</td>\n",
       "      <td>0.0</td>\n",
       "      <td>False</td>\n",
       "      <td>1788</td>\n",
       "      <td>0.063540</td>\n",
       "      <td>23368</td>\n",
       "      <td>0.076515</td>\n",
       "      <td>1.204193</td>\n",
       "    </tr>\n",
       "    <tr>\n",
       "      <th>3</th>\n",
       "      <td>Common Congressional Phrases</td>\n",
       "      <td>0.0</td>\n",
       "      <td>False</td>\n",
       "      <td>2673</td>\n",
       "      <td>0.095781</td>\n",
       "      <td>23368</td>\n",
       "      <td>0.114387</td>\n",
       "      <td>1.194258</td>\n",
       "    </tr>\n",
       "  </tbody>\n",
       "</table>\n",
       "</div>"
      ],
      "text/plain": [
       "                 Prim_Topic_Name  Female  pred_combo  topic_pred_speech_cnt  \\\n",
       "5                          Costs     0.0       False                    397   \n",
       "4                 Common Phrases     0.0       False                   2023   \n",
       "7         Diplomacy and Security     0.0       False                    909   \n",
       "22                   Legislation     0.0       False                   1788   \n",
       "3   Common Congressional Phrases     0.0       False                   2673   \n",
       "\n",
       "    topic_share  pred_speech_cnt  topic_pred_share  topic_pred_share_index  \n",
       "5      0.012294            23368          0.016989                1.381952  \n",
       "4      0.065023            23368          0.086571                1.331391  \n",
       "7      0.031252            23368          0.038899                1.244700  \n",
       "22     0.063540            23368          0.076515                1.204193  \n",
       "3      0.095781            23368          0.114387                1.194258  "
      ]
     },
     "execution_count": 84,
     "metadata": {},
     "output_type": "execute_result"
    }
   ],
   "source": [
    "topic_pred_share[(topic_pred_share.Female==0) & (topic_pred_share.pred_combo==0)].sort_values(by='topic_pred_share_index', ascending=False).head()"
   ]
  },
  {
   "cell_type": "code",
   "execution_count": 85,
   "metadata": {},
   "outputs": [
    {
     "data": {
      "text/html": [
       "<div>\n",
       "<style scoped>\n",
       "    .dataframe tbody tr th:only-of-type {\n",
       "        vertical-align: middle;\n",
       "    }\n",
       "\n",
       "    .dataframe tbody tr th {\n",
       "        vertical-align: top;\n",
       "    }\n",
       "\n",
       "    .dataframe thead th {\n",
       "        text-align: right;\n",
       "    }\n",
       "</style>\n",
       "<table border=\"1\" class=\"dataframe\">\n",
       "  <thead>\n",
       "    <tr style=\"text-align: right;\">\n",
       "      <th></th>\n",
       "      <th>Prim_Topic_Name</th>\n",
       "      <th>Female</th>\n",
       "      <th>pred_combo</th>\n",
       "      <th>topic_pred_speech_cnt</th>\n",
       "      <th>topic_share</th>\n",
       "      <th>pred_speech_cnt</th>\n",
       "      <th>topic_pred_share</th>\n",
       "      <th>topic_pred_share_index</th>\n",
       "    </tr>\n",
       "  </thead>\n",
       "  <tbody>\n",
       "    <tr>\n",
       "      <th>40</th>\n",
       "      <td>Common Phrases</td>\n",
       "      <td>0.0</td>\n",
       "      <td>True</td>\n",
       "      <td>695</td>\n",
       "      <td>0.065023</td>\n",
       "      <td>7990</td>\n",
       "      <td>0.086984</td>\n",
       "      <td>1.337732</td>\n",
       "    </tr>\n",
       "    <tr>\n",
       "      <th>68</th>\n",
       "      <td>States</td>\n",
       "      <td>0.0</td>\n",
       "      <td>True</td>\n",
       "      <td>13</td>\n",
       "      <td>0.001244</td>\n",
       "      <td>7990</td>\n",
       "      <td>0.001627</td>\n",
       "      <td>1.308219</td>\n",
       "    </tr>\n",
       "    <tr>\n",
       "      <th>41</th>\n",
       "      <td>Costs</td>\n",
       "      <td>0.0</td>\n",
       "      <td>True</td>\n",
       "      <td>127</td>\n",
       "      <td>0.012294</td>\n",
       "      <td>7990</td>\n",
       "      <td>0.015895</td>\n",
       "      <td>1.292948</td>\n",
       "    </tr>\n",
       "    <tr>\n",
       "      <th>43</th>\n",
       "      <td>Diplomacy and Security</td>\n",
       "      <td>0.0</td>\n",
       "      <td>True</td>\n",
       "      <td>306</td>\n",
       "      <td>0.031252</td>\n",
       "      <td>7990</td>\n",
       "      <td>0.038298</td>\n",
       "      <td>1.225454</td>\n",
       "    </tr>\n",
       "    <tr>\n",
       "      <th>39</th>\n",
       "      <td>Common Congressional Phrases</td>\n",
       "      <td>0.0</td>\n",
       "      <td>True</td>\n",
       "      <td>899</td>\n",
       "      <td>0.095781</td>\n",
       "      <td>7990</td>\n",
       "      <td>0.112516</td>\n",
       "      <td>1.174718</td>\n",
       "    </tr>\n",
       "  </tbody>\n",
       "</table>\n",
       "</div>"
      ],
      "text/plain": [
       "                 Prim_Topic_Name  Female  pred_combo  topic_pred_speech_cnt  \\\n",
       "40                Common Phrases     0.0        True                    695   \n",
       "68                        States     0.0        True                     13   \n",
       "41                         Costs     0.0        True                    127   \n",
       "43        Diplomacy and Security     0.0        True                    306   \n",
       "39  Common Congressional Phrases     0.0        True                    899   \n",
       "\n",
       "    topic_share  pred_speech_cnt  topic_pred_share  topic_pred_share_index  \n",
       "40     0.065023             7990          0.086984                1.337732  \n",
       "68     0.001244             7990          0.001627                1.308219  \n",
       "41     0.012294             7990          0.015895                1.292948  \n",
       "43     0.031252             7990          0.038298                1.225454  \n",
       "39     0.095781             7990          0.112516                1.174718  "
      ]
     },
     "execution_count": 85,
     "metadata": {},
     "output_type": "execute_result"
    }
   ],
   "source": [
    "topic_pred_share[(topic_pred_share.Female==0) & (topic_pred_share.pred_combo==1)].sort_values(by='topic_pred_share_index', ascending=False).head()"
   ]
  },
  {
   "cell_type": "code",
   "execution_count": 86,
   "metadata": {},
   "outputs": [
    {
     "data": {
      "text/html": [
       "<div>\n",
       "<style scoped>\n",
       "    .dataframe tbody tr th:only-of-type {\n",
       "        vertical-align: middle;\n",
       "    }\n",
       "\n",
       "    .dataframe tbody tr th {\n",
       "        vertical-align: top;\n",
       "    }\n",
       "\n",
       "    .dataframe thead th {\n",
       "        text-align: right;\n",
       "    }\n",
       "</style>\n",
       "<table border=\"1\" class=\"dataframe\">\n",
       "  <thead>\n",
       "    <tr style=\"text-align: right;\">\n",
       "      <th></th>\n",
       "      <th>Prim_Topic_Name</th>\n",
       "      <th>Female</th>\n",
       "      <th>pred_combo</th>\n",
       "      <th>topic_pred_speech_cnt</th>\n",
       "      <th>topic_share</th>\n",
       "      <th>pred_speech_cnt</th>\n",
       "      <th>topic_pred_share</th>\n",
       "      <th>topic_pred_share_index</th>\n",
       "    </tr>\n",
       "  </thead>\n",
       "  <tbody>\n",
       "    <tr>\n",
       "      <th>90</th>\n",
       "      <td>Healthcare and Women's Health</td>\n",
       "      <td>1.0</td>\n",
       "      <td>False</td>\n",
       "      <td>148</td>\n",
       "      <td>0.014223</td>\n",
       "      <td>6690</td>\n",
       "      <td>0.022123</td>\n",
       "      <td>1.555425</td>\n",
       "    </tr>\n",
       "    <tr>\n",
       "      <th>74</th>\n",
       "      <td>Children's Diseases</td>\n",
       "      <td>1.0</td>\n",
       "      <td>False</td>\n",
       "      <td>232</td>\n",
       "      <td>0.023582</td>\n",
       "      <td>6690</td>\n",
       "      <td>0.034679</td>\n",
       "      <td>1.470524</td>\n",
       "    </tr>\n",
       "    <tr>\n",
       "      <th>80</th>\n",
       "      <td>Economy</td>\n",
       "      <td>1.0</td>\n",
       "      <td>False</td>\n",
       "      <td>213</td>\n",
       "      <td>0.023248</td>\n",
       "      <td>6690</td>\n",
       "      <td>0.031839</td>\n",
       "      <td>1.369539</td>\n",
       "    </tr>\n",
       "    <tr>\n",
       "      <th>81</th>\n",
       "      <td>Education</td>\n",
       "      <td>1.0</td>\n",
       "      <td>False</td>\n",
       "      <td>183</td>\n",
       "      <td>0.020091</td>\n",
       "      <td>6690</td>\n",
       "      <td>0.027354</td>\n",
       "      <td>1.361547</td>\n",
       "    </tr>\n",
       "    <tr>\n",
       "      <th>97</th>\n",
       "      <td>Natural Disasters</td>\n",
       "      <td>1.0</td>\n",
       "      <td>False</td>\n",
       "      <td>85</td>\n",
       "      <td>0.009551</td>\n",
       "      <td>6690</td>\n",
       "      <td>0.012706</td>\n",
       "      <td>1.330284</td>\n",
       "    </tr>\n",
       "  </tbody>\n",
       "</table>\n",
       "</div>"
      ],
      "text/plain": [
       "                  Prim_Topic_Name  Female  pred_combo  topic_pred_speech_cnt  \\\n",
       "90  Healthcare and Women's Health     1.0       False                    148   \n",
       "74            Children's Diseases     1.0       False                    232   \n",
       "80                        Economy     1.0       False                    213   \n",
       "81                      Education     1.0       False                    183   \n",
       "97              Natural Disasters     1.0       False                     85   \n",
       "\n",
       "    topic_share  pred_speech_cnt  topic_pred_share  topic_pred_share_index  \n",
       "90     0.014223             6690          0.022123                1.555425  \n",
       "74     0.023582             6690          0.034679                1.470524  \n",
       "80     0.023248             6690          0.031839                1.369539  \n",
       "81     0.020091             6690          0.027354                1.361547  \n",
       "97     0.009551             6690          0.012706                1.330284  "
      ]
     },
     "execution_count": 86,
     "metadata": {},
     "output_type": "execute_result"
    }
   ],
   "source": [
    "topic_pred_share[(topic_pred_share.Female==1) & (topic_pred_share.pred_combo==0)].sort_values(by='topic_pred_share_index', ascending=False).head()"
   ]
  },
  {
   "cell_type": "markdown",
   "metadata": {},
   "source": [
    "## Congress level analysis"
   ]
  },
  {
   "cell_type": "code",
   "execution_count": 87,
   "metadata": {},
   "outputs": [
    {
     "data": {
      "text/plain": [
       "(18, 5)"
      ]
     },
     "execution_count": 87,
     "metadata": {},
     "output_type": "execute_result"
    }
   ],
   "source": [
    "congress_df = descr_pred_df[['Congress', 'Female', 'pred_probs_combo', 'pred_combo']]\\\n",
    "                .groupby('Congress')\\\n",
    "                .agg({'Female': ['mean', 'sum'], 'pred_combo': ['mean']})\\\n",
    "                .reset_index()\n",
    "congress_df.columns = ['_'.join(col) for col in congress_df.columns]\n",
    "congress_df['Prediction_balance'] = congress_df.pred_combo_mean / congress_df.Female_mean\n",
    "congress_df.shape"
   ]
  },
  {
   "cell_type": "code",
   "execution_count": 88,
   "metadata": {},
   "outputs": [
    {
     "data": {
      "text/html": [
       "<div>\n",
       "<style scoped>\n",
       "    .dataframe tbody tr th:only-of-type {\n",
       "        vertical-align: middle;\n",
       "    }\n",
       "\n",
       "    .dataframe tbody tr th {\n",
       "        vertical-align: top;\n",
       "    }\n",
       "\n",
       "    .dataframe thead th {\n",
       "        text-align: right;\n",
       "    }\n",
       "</style>\n",
       "<table border=\"1\" class=\"dataframe\">\n",
       "  <thead>\n",
       "    <tr style=\"text-align: right;\">\n",
       "      <th></th>\n",
       "      <th>Congress_</th>\n",
       "      <th>Female_mean</th>\n",
       "      <th>Female_sum</th>\n",
       "      <th>pred_combo_mean</th>\n",
       "      <th>Prediction_balance</th>\n",
       "    </tr>\n",
       "  </thead>\n",
       "  <tbody>\n",
       "    <tr>\n",
       "      <th>0</th>\n",
       "      <td>97</td>\n",
       "      <td>0.180764</td>\n",
       "      <td>530.0</td>\n",
       "      <td>0.350273</td>\n",
       "      <td>1.937736</td>\n",
       "    </tr>\n",
       "    <tr>\n",
       "      <th>1</th>\n",
       "      <td>98</td>\n",
       "      <td>0.220996</td>\n",
       "      <td>661.0</td>\n",
       "      <td>0.373788</td>\n",
       "      <td>1.691377</td>\n",
       "    </tr>\n",
       "    <tr>\n",
       "      <th>2</th>\n",
       "      <td>99</td>\n",
       "      <td>0.244430</td>\n",
       "      <td>757.0</td>\n",
       "      <td>0.388440</td>\n",
       "      <td>1.589168</td>\n",
       "    </tr>\n",
       "    <tr>\n",
       "      <th>3</th>\n",
       "      <td>100</td>\n",
       "      <td>0.224104</td>\n",
       "      <td>675.0</td>\n",
       "      <td>0.368526</td>\n",
       "      <td>1.644444</td>\n",
       "    </tr>\n",
       "    <tr>\n",
       "      <th>4</th>\n",
       "      <td>101</td>\n",
       "      <td>0.293460</td>\n",
       "      <td>866.0</td>\n",
       "      <td>0.410708</td>\n",
       "      <td>1.399538</td>\n",
       "    </tr>\n",
       "  </tbody>\n",
       "</table>\n",
       "</div>"
      ],
      "text/plain": [
       "   Congress_  Female_mean  Female_sum  pred_combo_mean  Prediction_balance\n",
       "0         97     0.180764       530.0         0.350273            1.937736\n",
       "1         98     0.220996       661.0         0.373788            1.691377\n",
       "2         99     0.244430       757.0         0.388440            1.589168\n",
       "3        100     0.224104       675.0         0.368526            1.644444\n",
       "4        101     0.293460       866.0         0.410708            1.399538"
      ]
     },
     "execution_count": 88,
     "metadata": {},
     "output_type": "execute_result"
    }
   ],
   "source": [
    "congress_df.head()"
   ]
  },
  {
   "cell_type": "code",
   "execution_count": 89,
   "metadata": {},
   "outputs": [
    {
     "data": {
      "image/png": "[encoded data removed]",
      "text/plain": [
       "<Figure size 720x360 with 2 Axes>"
      ]
     },
     "metadata": {
      "needs_background": "light"
     },
     "output_type": "display_data"
    }
   ],
   "source": [
    "fig, ax1 = plt.subplots(figsize=(10, 5))\n",
    "\n",
    "color = 'tab:red'\n",
    "ax1.set_xlabel('Congress')\n",
    "ax1.set_ylabel('Female speech counts', color=color)\n",
    "ax1.plot(congress_df.Congress_, congress_df.Female_sum, color=color)\n",
    "ax1.tick_params(axis='y', labelcolor=color)\n",
    "\n",
    "ax2 = ax1.twinx()  # instantiate a second axes that shares the same x-axis\n",
    "\n",
    "color = 'tab:blue'\n",
    "ax2.set_ylabel('Predicted / Actual', color=color)  # we already handled the x-label with ax1\n",
    "ax2.plot(congress_df.Congress_, congress_df.Prediction_balance, color=color)\n",
    "ax2.tick_params(axis='y', labelcolor=color)\n",
    "\n",
    "ax2.hlines(y=1,xmin=97,xmax=114, color=color, linestyles='dashed')\n",
    "\n",
    "fig.tight_layout()  # otherwise the right y-label is slightly clipped\n",
    "plt.xticks(range(97,115))\n",
    "plt.show()"
   ]
  },
  {
   "cell_type": "markdown",
   "metadata": {},
   "source": [
    "## Error Analysis"
   ]
  },
  {
   "cell_type": "code",
   "execution_count": 90,
   "metadata": {},
   "outputs": [
    {
     "data": {
      "text/plain": [
       "14680"
      ]
     },
     "execution_count": 90,
     "metadata": {},
     "output_type": "execute_result"
    }
   ],
   "source": [
    "ttl_mispred = descr_pred_df[(descr_pred_df.Female==1) & (descr_pred_df.pred_combo==0)].shape[0] + descr_pred_df[(descr_pred_df.Female==0) & (descr_pred_df.pred_combo==1)].shape[0]\n",
    "ttl_mispred"
   ]
  },
  {
   "cell_type": "code",
   "execution_count": 91,
   "metadata": {},
   "outputs": [
    {
     "data": {
      "text/plain": [
       "count    7990.000000\n",
       "mean        0.636055\n",
       "std         0.101263\n",
       "min         0.500014\n",
       "25%         0.552202\n",
       "50%         0.615498\n",
       "75%         0.703896\n",
       "max         0.998408\n",
       "Name: pred_probs_combo, dtype: float64"
      ]
     },
     "execution_count": 91,
     "metadata": {},
     "output_type": "execute_result"
    }
   ],
   "source": [
    "false_positives = descr_pred_df[(descr_pred_df.Female==0) & (descr_pred_df.pred_combo==1)]\n",
    "false_positives.pred_probs_combo.describe()"
   ]
  },
  {
   "cell_type": "code",
   "execution_count": 92,
   "metadata": {},
   "outputs": [
    {
     "data": {
      "text/plain": [
       "(array([1, 2]), array([3560, 4430]))"
      ]
     },
     "execution_count": 92,
     "metadata": {},
     "output_type": "execute_result"
    }
   ],
   "source": [
    "fp_binned = np.digitize(false_positives.pred_probs_combo, [0.5, 0.60, 1])\n",
    "np.unique(fp_binned, return_counts=True)"
   ]
  },
  {
   "cell_type": "code",
   "execution_count": 93,
   "metadata": {},
   "outputs": [
    {
     "data": {
      "text/plain": [
       "array([0.24250681, 0.30177112])"
      ]
     },
     "execution_count": 93,
     "metadata": {},
     "output_type": "execute_result"
    }
   ],
   "source": [
    "np.unique(fp_binned, return_counts=True)[1]/ttl_mispred"
   ]
  },
  {
   "cell_type": "code",
   "execution_count": 94,
   "metadata": {},
   "outputs": [
    {
     "data": {
      "text/plain": [
       "count    6690.000000\n",
       "mean        0.377828\n",
       "std         0.091118\n",
       "min         0.047151\n",
       "25%         0.318620\n",
       "50%         0.396254\n",
       "75%         0.453358\n",
       "max         0.499965\n",
       "Name: pred_probs_combo, dtype: float64"
      ]
     },
     "execution_count": 94,
     "metadata": {},
     "output_type": "execute_result"
    }
   ],
   "source": [
    "false_negatives = descr_pred_df[(descr_pred_df.Female==1) & (descr_pred_df.pred_combo==0)]\n",
    "false_negatives.pred_probs_combo.describe()"
   ]
  },
  {
   "cell_type": "code",
   "execution_count": 95,
   "metadata": {},
   "outputs": [
    {
     "data": {
      "text/plain": [
       "(array([1, 2]), array([3425, 3265]))"
      ]
     },
     "execution_count": 95,
     "metadata": {},
     "output_type": "execute_result"
    }
   ],
   "source": [
    "fn_binned = np.digitize(false_negatives.pred_probs_combo, [0, 0.4, 0.5])\n",
    "np.unique(fn_binned, return_counts=True)"
   ]
  },
  {
   "cell_type": "code",
   "execution_count": 96,
   "metadata": {},
   "outputs": [
    {
     "data": {
      "text/plain": [
       "array([0.23331063, 0.22241144])"
      ]
     },
     "execution_count": 96,
     "metadata": {},
     "output_type": "execute_result"
    }
   ],
   "source": [
    "np.unique(fn_binned, return_counts=True)[1]/ttl_mispred"
   ]
  },
  {
   "cell_type": "code",
   "execution_count": 97,
   "metadata": {},
   "outputs": [
    {
     "data": {
      "text/plain": [
       "0"
      ]
     },
     "execution_count": 97,
     "metadata": {},
     "output_type": "execute_result"
    }
   ],
   "source": [
    "# check sum\n",
    "np.sum(np.unique(fp_binned, return_counts=True)[1] + np.unique(fn_binned, return_counts=True)[1]) - ttl_mispred"
   ]
  },
  {
   "cell_type": "code",
   "execution_count": 98,
   "metadata": {
    "scrolled": true
   },
   "outputs": [
    {
     "data": {
      "text/plain": [
       "(15853, 26)"
      ]
     },
     "execution_count": 98,
     "metadata": {},
     "output_type": "execute_result"
    }
   ],
   "source": [
    "confusion = descr_pred_df[(descr_pred_df.pred_probs_combo>0.4) & (descr_pred_df.pred_probs_combo<0.6)]\n",
    "confusion.shape"
   ]
  },
  {
   "cell_type": "code",
   "execution_count": 99,
   "metadata": {},
   "outputs": [
    {
     "data": {
      "text/plain": [
       "(8855, 7908, 8455)"
      ]
     },
     "execution_count": 99,
     "metadata": {},
     "output_type": "execute_result"
    }
   ],
   "source": [
    "pred_mlp_ngram = list((confusion.pred_probs_mlp_ngram > 0.5) == confusion.Female)\n",
    "pred_cnn = list((confusion.pred_probs_cnn > 0.5) == confusion.Female)\n",
    "pred_cnn_chunk = list((confusion.pred_probs_cnn_chunk > 0.5) == confusion.Female)\n",
    "sum(pred_mlp_ngram), sum(pred_cnn), sum(pred_cnn_chunk)"
   ]
  },
  {
   "cell_type": "code",
   "execution_count": 100,
   "metadata": {},
   "outputs": [
    {
     "data": {
      "text/plain": [
       "0.20134990222670787"
      ]
     },
     "execution_count": 100,
     "metadata": {},
     "output_type": "execute_result"
    }
   ],
   "source": [
    "consensus = []\n",
    "for i in range(confusion.shape[0]):\n",
    "    if (pred_mlp_ngram[i]==True and pred_cnn[i]==True and pred_cnn_chunk[i]==True):\n",
    "        consensus.append(1)\n",
    "    elif (pred_mlp_ngram[i]==False and pred_cnn[i]==False and pred_cnn_chunk[i]==False):\n",
    "        consensus.append(1)\n",
    "    else:\n",
    "        consensus.append(0)\n",
    "np.mean(consensus)"
   ]
  },
  {
   "cell_type": "code",
   "execution_count": 101,
   "metadata": {},
   "outputs": [
    {
     "data": {
      "text/plain": [
       "6"
      ]
     },
     "execution_count": 101,
     "metadata": {},
     "output_type": "execute_result"
    }
   ],
   "source": [
    "consensus.index(1)"
   ]
  },
  {
   "cell_type": "code",
   "execution_count": 102,
   "metadata": {},
   "outputs": [
    {
     "data": {
      "text/html": [
       "<div>\n",
       "<style scoped>\n",
       "    .dataframe tbody tr th:only-of-type {\n",
       "        vertical-align: middle;\n",
       "    }\n",
       "\n",
       "    .dataframe tbody tr th {\n",
       "        vertical-align: top;\n",
       "    }\n",
       "\n",
       "    .dataframe thead th {\n",
       "        text-align: right;\n",
       "    }\n",
       "</style>\n",
       "<table border=\"1\" class=\"dataframe\">\n",
       "  <thead>\n",
       "    <tr style=\"text-align: right;\">\n",
       "      <th></th>\n",
       "      <th>Female</th>\n",
       "      <th>pred_probs_mlp_ngram</th>\n",
       "      <th>pred_probs_mlp_use</th>\n",
       "      <th>pred_probs_cnn</th>\n",
       "      <th>pred_probs_cnn_chunk</th>\n",
       "      <th>pred_probs_cnn_use</th>\n",
       "      <th>pred_probs_sep</th>\n",
       "    </tr>\n",
       "  </thead>\n",
       "  <tbody>\n",
       "    <tr>\n",
       "      <th>0</th>\n",
       "      <td>1.0</td>\n",
       "      <td>0.724416</td>\n",
       "      <td>0.587049</td>\n",
       "      <td>0.385807</td>\n",
       "      <td>0.577375</td>\n",
       "      <td>0.609537</td>\n",
       "      <td>0.629989</td>\n",
       "    </tr>\n",
       "    <tr>\n",
       "      <th>1</th>\n",
       "      <td>1.0</td>\n",
       "      <td>0.237109</td>\n",
       "      <td>0.616921</td>\n",
       "      <td>0.889116</td>\n",
       "      <td>0.542140</td>\n",
       "      <td>0.710215</td>\n",
       "      <td>0.733058</td>\n",
       "    </tr>\n",
       "    <tr>\n",
       "      <th>4</th>\n",
       "      <td>1.0</td>\n",
       "      <td>0.452258</td>\n",
       "      <td>0.509501</td>\n",
       "      <td>0.520997</td>\n",
       "      <td>0.527163</td>\n",
       "      <td>0.696529</td>\n",
       "      <td>0.522985</td>\n",
       "    </tr>\n",
       "    <tr>\n",
       "      <th>5</th>\n",
       "      <td>1.0</td>\n",
       "      <td>0.550680</td>\n",
       "      <td>0.392311</td>\n",
       "      <td>0.419063</td>\n",
       "      <td>0.498932</td>\n",
       "      <td>0.396969</td>\n",
       "      <td>0.399330</td>\n",
       "    </tr>\n",
       "    <tr>\n",
       "      <th>8</th>\n",
       "      <td>1.0</td>\n",
       "      <td>0.557868</td>\n",
       "      <td>0.396796</td>\n",
       "      <td>0.455712</td>\n",
       "      <td>0.447622</td>\n",
       "      <td>0.433873</td>\n",
       "      <td>0.692699</td>\n",
       "    </tr>\n",
       "    <tr>\n",
       "      <th>20</th>\n",
       "      <td>1.0</td>\n",
       "      <td>0.651400</td>\n",
       "      <td>0.466639</td>\n",
       "      <td>0.478114</td>\n",
       "      <td>0.575449</td>\n",
       "      <td>0.552587</td>\n",
       "      <td>0.619954</td>\n",
       "    </tr>\n",
       "    <tr>\n",
       "      <th>26</th>\n",
       "      <td>1.0</td>\n",
       "      <td>0.508789</td>\n",
       "      <td>0.509676</td>\n",
       "      <td>0.593348</td>\n",
       "      <td>0.612212</td>\n",
       "      <td>0.556947</td>\n",
       "      <td>0.494348</td>\n",
       "    </tr>\n",
       "  </tbody>\n",
       "</table>\n",
       "</div>"
      ],
      "text/plain": [
       "    Female  pred_probs_mlp_ngram  pred_probs_mlp_use  pred_probs_cnn  \\\n",
       "0      1.0              0.724416            0.587049        0.385807   \n",
       "1      1.0              0.237109            0.616921        0.889116   \n",
       "4      1.0              0.452258            0.509501        0.520997   \n",
       "5      1.0              0.550680            0.392311        0.419063   \n",
       "8      1.0              0.557868            0.396796        0.455712   \n",
       "20     1.0              0.651400            0.466639        0.478114   \n",
       "26     1.0              0.508789            0.509676        0.593348   \n",
       "\n",
       "    pred_probs_cnn_chunk  pred_probs_cnn_use  pred_probs_sep  \n",
       "0               0.577375            0.609537        0.629989  \n",
       "1               0.542140            0.710215        0.733058  \n",
       "4               0.527163            0.696529        0.522985  \n",
       "5               0.498932            0.396969        0.399330  \n",
       "8               0.447622            0.433873        0.692699  \n",
       "20              0.575449            0.552587        0.619954  \n",
       "26              0.612212            0.556947        0.494348  "
      ]
     },
     "execution_count": 102,
     "metadata": {},
     "output_type": "execute_result"
    }
   ],
   "source": [
    "confusion[['Female']+preds].head(7)"
   ]
  },
  {
   "cell_type": "code",
   "execution_count": 103,
   "metadata": {},
   "outputs": [
    {
     "data": {
      "text/plain": [
       "277.5"
      ]
     },
     "execution_count": 103,
     "metadata": {},
     "output_type": "execute_result"
    }
   ],
   "source": [
    "descr_pred_df[(descr_pred_df.Female==1) & (descr_pred_df.pred_combo==1)].word_count.median()"
   ]
  },
  {
   "cell_type": "code",
   "execution_count": 104,
   "metadata": {},
   "outputs": [
    {
     "data": {
      "text/plain": [
       "216.0"
      ]
     },
     "execution_count": 104,
     "metadata": {},
     "output_type": "execute_result"
    }
   ],
   "source": [
    "descr_pred_df[(descr_pred_df.Female==0) & (descr_pred_df.pred_combo==0)].word_count.median()"
   ]
  },
  {
   "cell_type": "code",
   "execution_count": 105,
   "metadata": {},
   "outputs": [
    {
     "data": {
      "text/plain": [
       "223.0"
      ]
     },
     "execution_count": 105,
     "metadata": {},
     "output_type": "execute_result"
    }
   ],
   "source": [
    "descr_pred_df[(descr_pred_df.Female==0) & (descr_pred_df.pred_combo==1)].word_count.median()"
   ]
  },
  {
   "cell_type": "code",
   "execution_count": 106,
   "metadata": {},
   "outputs": [
    {
     "data": {
      "text/plain": [
       "283.5"
      ]
     },
     "execution_count": 106,
     "metadata": {},
     "output_type": "execute_result"
    }
   ],
   "source": [
    "descr_pred_df[(descr_pred_df.Female==1) & (descr_pred_df.pred_combo==0)].word_count.median()"
   ]
  },
  {
   "cell_type": "code",
   "execution_count": 107,
   "metadata": {},
   "outputs": [
    {
     "data": {
      "text/plain": [
       "['speech_id',\n",
       " 'date',\n",
       " 'char_count',\n",
       " 'word_count',\n",
       " 'speakerid',\n",
       " 'Party',\n",
       " 'Congress',\n",
       " 'Chamber',\n",
       " 'State',\n",
       " 'Ethnicity',\n",
       " 'Age',\n",
       " 'Age_lt_med',\n",
       " 'NonWhite',\n",
       " 'Female',\n",
       " 'speaker',\n",
       " 'Full Name',\n",
       " 'match',\n",
       " 'ids',\n",
       " 'pred_probs_cnn',\n",
       " 'pred_probs_cnn_chunk',\n",
       " 'pred_probs_cnn_use',\n",
       " 'pred_probs_mlp_ngram',\n",
       " 'pred_probs_mlp_use',\n",
       " 'pred_probs_sep',\n",
       " 'pred_probs_combo',\n",
       " 'pred_combo']"
      ]
     },
     "execution_count": 107,
     "metadata": {},
     "output_type": "execute_result"
    }
   ],
   "source": [
    "list(descr_pred_df)"
   ]
  },
  {
   "cell_type": "code",
   "execution_count": 132,
   "metadata": {},
   "outputs": [],
   "source": [
    "keep_cols = [\n",
    "    'speech_id',\n",
    "    'date',\n",
    "    'word_count',\n",
    "    'Party',\n",
    "    'Congress',\n",
    "    'Chamber',\n",
    "    'State',\n",
    "    'Ethnicity',\n",
    "    'Age',\n",
    "    'Female',\n",
    "    'Full Name',\n",
    "    'pred_probs_mlp_ngram',\n",
    "    'pred_probs_cnn',\n",
    "    'pred_probs_cnn_chunk',\n",
    "    'pred_probs_combo',\n",
    "    'Prim_Topic',\n",
    "    'Prim_Topic_Contrib',\n",
    "    'Sec_Topic',\n",
    "    'Sec_Topic_Contrib',\n",
    "]"
   ]
  },
  {
   "cell_type": "code",
   "execution_count": 133,
   "metadata": {},
   "outputs": [
    {
     "data": {
      "text/html": [
       "<div>\n",
       "<style scoped>\n",
       "    .dataframe tbody tr th:only-of-type {\n",
       "        vertical-align: middle;\n",
       "    }\n",
       "\n",
       "    .dataframe tbody tr th {\n",
       "        vertical-align: top;\n",
       "    }\n",
       "\n",
       "    .dataframe thead th {\n",
       "        text-align: right;\n",
       "    }\n",
       "</style>\n",
       "<table border=\"1\" class=\"dataframe\">\n",
       "  <thead>\n",
       "    <tr style=\"text-align: right;\">\n",
       "      <th></th>\n",
       "      <th>54350</th>\n",
       "      <th>47249</th>\n",
       "      <th>36542</th>\n",
       "      <th>116</th>\n",
       "      <th>14852</th>\n",
       "    </tr>\n",
       "  </thead>\n",
       "  <tbody>\n",
       "    <tr>\n",
       "      <th>speech_id</th>\n",
       "      <td>970116749</td>\n",
       "      <td>1110109515</td>\n",
       "      <td>1090056985</td>\n",
       "      <td>1140048847</td>\n",
       "      <td>1060066498</td>\n",
       "    </tr>\n",
       "    <tr>\n",
       "      <th>date</th>\n",
       "      <td>19811119</td>\n",
       "      <td>20100518</td>\n",
       "      <td>20050719</td>\n",
       "      <td>20150909</td>\n",
       "      <td>19990726</td>\n",
       "    </tr>\n",
       "    <tr>\n",
       "      <th>word_count</th>\n",
       "      <td>503</td>\n",
       "      <td>128</td>\n",
       "      <td>83</td>\n",
       "      <td>41</td>\n",
       "      <td>654</td>\n",
       "    </tr>\n",
       "    <tr>\n",
       "      <th>Party</th>\n",
       "      <td>R</td>\n",
       "      <td>D</td>\n",
       "      <td>D</td>\n",
       "      <td>D</td>\n",
       "      <td>D</td>\n",
       "    </tr>\n",
       "    <tr>\n",
       "      <th>Congress</th>\n",
       "      <td>97</td>\n",
       "      <td>111</td>\n",
       "      <td>109</td>\n",
       "      <td>114</td>\n",
       "      <td>106</td>\n",
       "    </tr>\n",
       "    <tr>\n",
       "      <th>Chamber</th>\n",
       "      <td>S</td>\n",
       "      <td>H</td>\n",
       "      <td>S</td>\n",
       "      <td>H</td>\n",
       "      <td>H</td>\n",
       "    </tr>\n",
       "    <tr>\n",
       "      <th>State</th>\n",
       "      <td>FL</td>\n",
       "      <td>PA</td>\n",
       "      <td>CA</td>\n",
       "      <td>CA</td>\n",
       "      <td>CA</td>\n",
       "    </tr>\n",
       "    <tr>\n",
       "      <th>Ethnicity</th>\n",
       "      <td>W</td>\n",
       "      <td>W</td>\n",
       "      <td>W</td>\n",
       "      <td>H</td>\n",
       "      <td>W</td>\n",
       "    </tr>\n",
       "    <tr>\n",
       "      <th>Age</th>\n",
       "      <td>55</td>\n",
       "      <td>53</td>\n",
       "      <td>66</td>\n",
       "      <td>75</td>\n",
       "      <td>60</td>\n",
       "    </tr>\n",
       "    <tr>\n",
       "      <th>Female</th>\n",
       "      <td>1</td>\n",
       "      <td>1</td>\n",
       "      <td>1</td>\n",
       "      <td>1</td>\n",
       "      <td>1</td>\n",
       "    </tr>\n",
       "    <tr>\n",
       "      <th>Full Name</th>\n",
       "      <td>HAWKINS, PAULA</td>\n",
       "      <td>DAHLKEMPER, KATHLEEN</td>\n",
       "      <td>BOXER, BARBARA</td>\n",
       "      <td>ROYBAL-ALLARD, LUCILLE</td>\n",
       "      <td>PELOSI, NANCY</td>\n",
       "    </tr>\n",
       "    <tr>\n",
       "      <th>pred_probs_mlp_ngram</th>\n",
       "      <td>1</td>\n",
       "      <td>0.999941</td>\n",
       "      <td>0.997498</td>\n",
       "      <td>1</td>\n",
       "      <td>0.99868</td>\n",
       "    </tr>\n",
       "    <tr>\n",
       "      <th>pred_probs_cnn</th>\n",
       "      <td>0.999968</td>\n",
       "      <td>0.995847</td>\n",
       "      <td>0.99787</td>\n",
       "      <td>0.999711</td>\n",
       "      <td>0.992224</td>\n",
       "    </tr>\n",
       "    <tr>\n",
       "      <th>pred_probs_cnn_chunk</th>\n",
       "      <td>0.996535</td>\n",
       "      <td>0.998221</td>\n",
       "      <td>0.992246</td>\n",
       "      <td>0.978351</td>\n",
       "      <td>0.986429</td>\n",
       "    </tr>\n",
       "    <tr>\n",
       "      <th>pred_probs_combo</th>\n",
       "      <td>0.998834</td>\n",
       "      <td>0.998003</td>\n",
       "      <td>0.995871</td>\n",
       "      <td>0.992687</td>\n",
       "      <td>0.992444</td>\n",
       "    </tr>\n",
       "    <tr>\n",
       "      <th>Prim_Topic</th>\n",
       "      <td>16</td>\n",
       "      <td>15</td>\n",
       "      <td>18</td>\n",
       "      <td>8</td>\n",
       "      <td>10</td>\n",
       "    </tr>\n",
       "    <tr>\n",
       "      <th>Prim_Topic_Contrib</th>\n",
       "      <td>0.18</td>\n",
       "      <td>0.34</td>\n",
       "      <td>0.39</td>\n",
       "      <td>0.82</td>\n",
       "      <td>0.27</td>\n",
       "    </tr>\n",
       "    <tr>\n",
       "      <th>Sec_Topic</th>\n",
       "      <td>20</td>\n",
       "      <td>26</td>\n",
       "      <td>26</td>\n",
       "      <td>9</td>\n",
       "      <td>26</td>\n",
       "    </tr>\n",
       "    <tr>\n",
       "      <th>Sec_Topic_Contrib</th>\n",
       "      <td>0.18</td>\n",
       "      <td>0.32</td>\n",
       "      <td>0.38</td>\n",
       "      <td>0.12</td>\n",
       "      <td>0.23</td>\n",
       "    </tr>\n",
       "  </tbody>\n",
       "</table>\n",
       "</div>"
      ],
      "text/plain": [
       "                               54350                 47249           36542  \\\n",
       "speech_id                  970116749            1110109515      1090056985   \n",
       "date                        19811119              20100518        20050719   \n",
       "word_count                       503                   128              83   \n",
       "Party                              R                     D               D   \n",
       "Congress                          97                   111             109   \n",
       "Chamber                            S                     H               S   \n",
       "State                             FL                    PA              CA   \n",
       "Ethnicity                          W                     W               W   \n",
       "Age                               55                    53              66   \n",
       "Female                             1                     1               1   \n",
       "Full Name             HAWKINS, PAULA  DAHLKEMPER, KATHLEEN  BOXER, BARBARA   \n",
       "pred_probs_mlp_ngram               1              0.999941        0.997498   \n",
       "pred_probs_cnn              0.999968              0.995847         0.99787   \n",
       "pred_probs_cnn_chunk        0.996535              0.998221        0.992246   \n",
       "pred_probs_combo            0.998834              0.998003        0.995871   \n",
       "Prim_Topic                        16                    15              18   \n",
       "Prim_Topic_Contrib              0.18                  0.34            0.39   \n",
       "Sec_Topic                         20                    26              26   \n",
       "Sec_Topic_Contrib               0.18                  0.32            0.38   \n",
       "\n",
       "                                       116            14852  \n",
       "speech_id                         1140048847     1060066498  \n",
       "date                                20150909       19990726  \n",
       "word_count                                41            654  \n",
       "Party                                      D              D  \n",
       "Congress                                 114            106  \n",
       "Chamber                                    H              H  \n",
       "State                                     CA             CA  \n",
       "Ethnicity                                  H              W  \n",
       "Age                                       75             60  \n",
       "Female                                     1              1  \n",
       "Full Name             ROYBAL-ALLARD, LUCILLE  PELOSI, NANCY  \n",
       "pred_probs_mlp_ngram                       1        0.99868  \n",
       "pred_probs_cnn                      0.999711       0.992224  \n",
       "pred_probs_cnn_chunk                0.978351       0.986429  \n",
       "pred_probs_combo                    0.992687       0.992444  \n",
       "Prim_Topic                                 8             10  \n",
       "Prim_Topic_Contrib                      0.82           0.27  \n",
       "Sec_Topic                                  9             26  \n",
       "Sec_Topic_Contrib                       0.12           0.23  "
      ]
     },
     "execution_count": 133,
     "metadata": {},
     "output_type": "execute_result"
    }
   ],
   "source": [
    "topic_pred_df[keep_cols][topic_pred_df.Female==1].sort_values(by='pred_probs_combo', ascending=False).head(5).T"
   ]
  },
  {
   "cell_type": "code",
   "execution_count": 134,
   "metadata": {},
   "outputs": [
    {
     "data": {
      "text/html": [
       "<div>\n",
       "<style scoped>\n",
       "    .dataframe tbody tr th:only-of-type {\n",
       "        vertical-align: middle;\n",
       "    }\n",
       "\n",
       "    .dataframe tbody tr th {\n",
       "        vertical-align: top;\n",
       "    }\n",
       "\n",
       "    .dataframe thead th {\n",
       "        text-align: right;\n",
       "    }\n",
       "</style>\n",
       "<table border=\"1\" class=\"dataframe\">\n",
       "  <thead>\n",
       "    <tr style=\"text-align: right;\">\n",
       "      <th></th>\n",
       "      <th>34596</th>\n",
       "      <th>40412</th>\n",
       "      <th>61333</th>\n",
       "      <th>59945</th>\n",
       "      <th>9976</th>\n",
       "    </tr>\n",
       "  </thead>\n",
       "  <tbody>\n",
       "    <tr>\n",
       "      <th>speech_id</th>\n",
       "      <td>980082402</td>\n",
       "      <td>1060007744</td>\n",
       "      <td>1010037235</td>\n",
       "      <td>980049665</td>\n",
       "      <td>1070154265</td>\n",
       "    </tr>\n",
       "    <tr>\n",
       "      <th>date</th>\n",
       "      <td>19830728</td>\n",
       "      <td>19990303</td>\n",
       "      <td>19890621</td>\n",
       "      <td>19830606</td>\n",
       "      <td>20020724</td>\n",
       "    </tr>\n",
       "    <tr>\n",
       "      <th>word_count</th>\n",
       "      <td>111</td>\n",
       "      <td>55</td>\n",
       "      <td>275</td>\n",
       "      <td>507</td>\n",
       "      <td>134</td>\n",
       "    </tr>\n",
       "    <tr>\n",
       "      <th>Party</th>\n",
       "      <td>R</td>\n",
       "      <td>D</td>\n",
       "      <td>R</td>\n",
       "      <td>D</td>\n",
       "      <td>R</td>\n",
       "    </tr>\n",
       "    <tr>\n",
       "      <th>Congress</th>\n",
       "      <td>98</td>\n",
       "      <td>106</td>\n",
       "      <td>101</td>\n",
       "      <td>98</td>\n",
       "      <td>107</td>\n",
       "    </tr>\n",
       "    <tr>\n",
       "      <th>Chamber</th>\n",
       "      <td>H</td>\n",
       "      <td>H</td>\n",
       "      <td>H</td>\n",
       "      <td>H</td>\n",
       "      <td>H</td>\n",
       "    </tr>\n",
       "    <tr>\n",
       "      <th>State</th>\n",
       "      <td>PA</td>\n",
       "      <td>IL</td>\n",
       "      <td>CA</td>\n",
       "      <td>NJ</td>\n",
       "      <td>CT</td>\n",
       "    </tr>\n",
       "    <tr>\n",
       "      <th>Ethnicity</th>\n",
       "      <td>W</td>\n",
       "      <td>W</td>\n",
       "      <td>W</td>\n",
       "      <td>W</td>\n",
       "      <td>W</td>\n",
       "    </tr>\n",
       "    <tr>\n",
       "      <th>Age</th>\n",
       "      <td>44</td>\n",
       "      <td>63</td>\n",
       "      <td>49</td>\n",
       "      <td>60</td>\n",
       "      <td>57</td>\n",
       "    </tr>\n",
       "    <tr>\n",
       "      <th>Female</th>\n",
       "      <td>0</td>\n",
       "      <td>0</td>\n",
       "      <td>0</td>\n",
       "      <td>0</td>\n",
       "      <td>0</td>\n",
       "    </tr>\n",
       "    <tr>\n",
       "      <th>Full Name</th>\n",
       "      <td>RITTER, DONALD</td>\n",
       "      <td>LIPINSKI, WILLIAM</td>\n",
       "      <td>PASHAYAN, CHARLES</td>\n",
       "      <td>GUARINI, FRANK</td>\n",
       "      <td>SHAYS, CHRISTOPHER</td>\n",
       "    </tr>\n",
       "    <tr>\n",
       "      <th>pred_probs_mlp_ngram</th>\n",
       "      <td>3.72529e-06</td>\n",
       "      <td>4.17233e-07</td>\n",
       "      <td>3.21865e-06</td>\n",
       "      <td>7.7486e-07</td>\n",
       "      <td>1.54972e-06</td>\n",
       "    </tr>\n",
       "    <tr>\n",
       "      <th>pred_probs_cnn</th>\n",
       "      <td>0.00394222</td>\n",
       "      <td>0.00675017</td>\n",
       "      <td>0.0194626</td>\n",
       "      <td>0.00852457</td>\n",
       "      <td>0.0114844</td>\n",
       "    </tr>\n",
       "    <tr>\n",
       "      <th>pred_probs_cnn_chunk</th>\n",
       "      <td>0.013731</td>\n",
       "      <td>0.0202225</td>\n",
       "      <td>0.0088667</td>\n",
       "      <td>0.0225205</td>\n",
       "      <td>0.021278</td>\n",
       "    </tr>\n",
       "    <tr>\n",
       "      <th>pred_probs_combo</th>\n",
       "      <td>0.00589233</td>\n",
       "      <td>0.00899103</td>\n",
       "      <td>0.00944416</td>\n",
       "      <td>0.0103486</td>\n",
       "      <td>0.0109213</td>\n",
       "    </tr>\n",
       "    <tr>\n",
       "      <th>Prim_Topic</th>\n",
       "      <td>27</td>\n",
       "      <td>18</td>\n",
       "      <td>0</td>\n",
       "      <td>20</td>\n",
       "      <td>26</td>\n",
       "    </tr>\n",
       "    <tr>\n",
       "      <th>Prim_Topic_Contrib</th>\n",
       "      <td>0.46</td>\n",
       "      <td>0.95</td>\n",
       "      <td>0.2</td>\n",
       "      <td>0.37</td>\n",
       "      <td>0.54</td>\n",
       "    </tr>\n",
       "    <tr>\n",
       "      <th>Sec_Topic</th>\n",
       "      <td>26</td>\n",
       "      <td>-1</td>\n",
       "      <td>2</td>\n",
       "      <td>21</td>\n",
       "      <td>12</td>\n",
       "    </tr>\n",
       "    <tr>\n",
       "      <th>Sec_Topic_Contrib</th>\n",
       "      <td>0.23</td>\n",
       "      <td>0</td>\n",
       "      <td>0.18</td>\n",
       "      <td>0.28</td>\n",
       "      <td>0.24</td>\n",
       "    </tr>\n",
       "  </tbody>\n",
       "</table>\n",
       "</div>"
      ],
      "text/plain": [
       "                               34596              40412              61333  \\\n",
       "speech_id                  980082402         1060007744         1010037235   \n",
       "date                        19830728           19990303           19890621   \n",
       "word_count                       111                 55                275   \n",
       "Party                              R                  D                  R   \n",
       "Congress                          98                106                101   \n",
       "Chamber                            H                  H                  H   \n",
       "State                             PA                 IL                 CA   \n",
       "Ethnicity                          W                  W                  W   \n",
       "Age                               44                 63                 49   \n",
       "Female                             0                  0                  0   \n",
       "Full Name             RITTER, DONALD  LIPINSKI, WILLIAM  PASHAYAN, CHARLES   \n",
       "pred_probs_mlp_ngram     3.72529e-06        4.17233e-07        3.21865e-06   \n",
       "pred_probs_cnn            0.00394222         0.00675017          0.0194626   \n",
       "pred_probs_cnn_chunk        0.013731          0.0202225          0.0088667   \n",
       "pred_probs_combo          0.00589233         0.00899103         0.00944416   \n",
       "Prim_Topic                        27                 18                  0   \n",
       "Prim_Topic_Contrib              0.46               0.95                0.2   \n",
       "Sec_Topic                         26                 -1                  2   \n",
       "Sec_Topic_Contrib               0.23                  0               0.18   \n",
       "\n",
       "                               59945               9976   \n",
       "speech_id                  980049665          1070154265  \n",
       "date                        19830606            20020724  \n",
       "word_count                       507                 134  \n",
       "Party                              D                   R  \n",
       "Congress                          98                 107  \n",
       "Chamber                            H                   H  \n",
       "State                             NJ                  CT  \n",
       "Ethnicity                          W                   W  \n",
       "Age                               60                  57  \n",
       "Female                             0                   0  \n",
       "Full Name             GUARINI, FRANK  SHAYS, CHRISTOPHER  \n",
       "pred_probs_mlp_ngram      7.7486e-07         1.54972e-06  \n",
       "pred_probs_cnn            0.00852457           0.0114844  \n",
       "pred_probs_cnn_chunk       0.0225205            0.021278  \n",
       "pred_probs_combo           0.0103486           0.0109213  \n",
       "Prim_Topic                        20                  26  \n",
       "Prim_Topic_Contrib              0.37                0.54  \n",
       "Sec_Topic                         21                  12  \n",
       "Sec_Topic_Contrib               0.28                0.24  "
      ]
     },
     "execution_count": 134,
     "metadata": {},
     "output_type": "execute_result"
    }
   ],
   "source": [
    "topic_pred_df[keep_cols][topic_pred_df.Female==0].sort_values(by='pred_probs_combo', ascending=True).head(5).T"
   ]
  },
  {
   "cell_type": "code",
   "execution_count": 135,
   "metadata": {},
   "outputs": [
    {
     "data": {
      "text/html": [
       "<div>\n",
       "<style scoped>\n",
       "    .dataframe tbody tr th:only-of-type {\n",
       "        vertical-align: middle;\n",
       "    }\n",
       "\n",
       "    .dataframe tbody tr th {\n",
       "        vertical-align: top;\n",
       "    }\n",
       "\n",
       "    .dataframe thead th {\n",
       "        text-align: right;\n",
       "    }\n",
       "</style>\n",
       "<table border=\"1\" class=\"dataframe\">\n",
       "  <thead>\n",
       "    <tr style=\"text-align: right;\">\n",
       "      <th></th>\n",
       "      <th>45395</th>\n",
       "      <th>41393</th>\n",
       "      <th>3225</th>\n",
       "      <th>17804</th>\n",
       "      <th>25987</th>\n",
       "    </tr>\n",
       "  </thead>\n",
       "  <tbody>\n",
       "    <tr>\n",
       "      <th>speech_id</th>\n",
       "      <td>1000174233</td>\n",
       "      <td>1050197500</td>\n",
       "      <td>1060053005</td>\n",
       "      <td>1030190450</td>\n",
       "      <td>1020110868</td>\n",
       "    </tr>\n",
       "    <tr>\n",
       "      <th>date</th>\n",
       "      <td>19880421</td>\n",
       "      <td>19981006</td>\n",
       "      <td>19990629</td>\n",
       "      <td>19940714</td>\n",
       "      <td>19911112</td>\n",
       "    </tr>\n",
       "    <tr>\n",
       "      <th>word_count</th>\n",
       "      <td>456</td>\n",
       "      <td>398</td>\n",
       "      <td>138</td>\n",
       "      <td>901</td>\n",
       "      <td>32</td>\n",
       "    </tr>\n",
       "    <tr>\n",
       "      <th>Party</th>\n",
       "      <td>R</td>\n",
       "      <td>R</td>\n",
       "      <td>D</td>\n",
       "      <td>D</td>\n",
       "      <td>R</td>\n",
       "    </tr>\n",
       "    <tr>\n",
       "      <th>Congress</th>\n",
       "      <td>100</td>\n",
       "      <td>105</td>\n",
       "      <td>106</td>\n",
       "      <td>103</td>\n",
       "      <td>102</td>\n",
       "    </tr>\n",
       "    <tr>\n",
       "      <th>Chamber</th>\n",
       "      <td>H</td>\n",
       "      <td>H</td>\n",
       "      <td>H</td>\n",
       "      <td>H</td>\n",
       "      <td>H</td>\n",
       "    </tr>\n",
       "    <tr>\n",
       "      <th>State</th>\n",
       "      <td>TN</td>\n",
       "      <td>KS</td>\n",
       "      <td>WA</td>\n",
       "      <td>MN</td>\n",
       "      <td>CA</td>\n",
       "    </tr>\n",
       "    <tr>\n",
       "      <th>Ethnicity</th>\n",
       "      <td>W</td>\n",
       "      <td>W</td>\n",
       "      <td>W</td>\n",
       "      <td>W</td>\n",
       "      <td>W</td>\n",
       "    </tr>\n",
       "    <tr>\n",
       "      <th>Age</th>\n",
       "      <td>52</td>\n",
       "      <td>49</td>\n",
       "      <td>64</td>\n",
       "      <td>43</td>\n",
       "      <td>40</td>\n",
       "    </tr>\n",
       "    <tr>\n",
       "      <th>Female</th>\n",
       "      <td>0</td>\n",
       "      <td>0</td>\n",
       "      <td>0</td>\n",
       "      <td>0</td>\n",
       "      <td>0</td>\n",
       "    </tr>\n",
       "    <tr>\n",
       "      <th>Full Name</th>\n",
       "      <td>SUNDQUIST, DONALD</td>\n",
       "      <td>SNOWBARGER, VINCENT</td>\n",
       "      <td>MCDERMOTT, JIM</td>\n",
       "      <td>PENNY, TIMOTHY</td>\n",
       "      <td>DREIER, DAVID</td>\n",
       "    </tr>\n",
       "    <tr>\n",
       "      <th>pred_probs_mlp_ngram</th>\n",
       "      <td>1</td>\n",
       "      <td>0.991051</td>\n",
       "      <td>0.999445</td>\n",
       "      <td>0.999892</td>\n",
       "      <td>0.995493</td>\n",
       "    </tr>\n",
       "    <tr>\n",
       "      <th>pred_probs_cnn</th>\n",
       "      <td>0.999145</td>\n",
       "      <td>0.998489</td>\n",
       "      <td>0.991369</td>\n",
       "      <td>0.984614</td>\n",
       "      <td>0.989272</td>\n",
       "    </tr>\n",
       "    <tr>\n",
       "      <th>pred_probs_cnn_chunk</th>\n",
       "      <td>0.996079</td>\n",
       "      <td>0.930666</td>\n",
       "      <td>0.914203</td>\n",
       "      <td>0.900474</td>\n",
       "      <td>0.895659</td>\n",
       "    </tr>\n",
       "    <tr>\n",
       "      <th>pred_probs_combo</th>\n",
       "      <td>0.998408</td>\n",
       "      <td>0.973402</td>\n",
       "      <td>0.968339</td>\n",
       "      <td>0.96166</td>\n",
       "      <td>0.960141</td>\n",
       "    </tr>\n",
       "    <tr>\n",
       "      <th>Prim_Topic</th>\n",
       "      <td>22</td>\n",
       "      <td>18</td>\n",
       "      <td>35</td>\n",
       "      <td>32</td>\n",
       "      <td>9</td>\n",
       "    </tr>\n",
       "    <tr>\n",
       "      <th>Prim_Topic_Contrib</th>\n",
       "      <td>0.23</td>\n",
       "      <td>0.3</td>\n",
       "      <td>0.66</td>\n",
       "      <td>0.47</td>\n",
       "      <td>0.91</td>\n",
       "    </tr>\n",
       "    <tr>\n",
       "      <th>Sec_Topic</th>\n",
       "      <td>16</td>\n",
       "      <td>26</td>\n",
       "      <td>21</td>\n",
       "      <td>16</td>\n",
       "      <td>-1</td>\n",
       "    </tr>\n",
       "    <tr>\n",
       "      <th>Sec_Topic_Contrib</th>\n",
       "      <td>0.2</td>\n",
       "      <td>0.16</td>\n",
       "      <td>0.14</td>\n",
       "      <td>0.35</td>\n",
       "      <td>0</td>\n",
       "    </tr>\n",
       "  </tbody>\n",
       "</table>\n",
       "</div>"
      ],
      "text/plain": [
       "                                  45395                41393           3225   \\\n",
       "speech_id                    1000174233           1050197500      1060053005   \n",
       "date                           19880421             19981006        19990629   \n",
       "word_count                          456                  398             138   \n",
       "Party                                 R                    R               D   \n",
       "Congress                            100                  105             106   \n",
       "Chamber                               H                    H               H   \n",
       "State                                TN                   KS              WA   \n",
       "Ethnicity                             W                    W               W   \n",
       "Age                                  52                   49              64   \n",
       "Female                                0                    0               0   \n",
       "Full Name             SUNDQUIST, DONALD  SNOWBARGER, VINCENT  MCDERMOTT, JIM   \n",
       "pred_probs_mlp_ngram                  1             0.991051        0.999445   \n",
       "pred_probs_cnn                 0.999145             0.998489        0.991369   \n",
       "pred_probs_cnn_chunk           0.996079             0.930666        0.914203   \n",
       "pred_probs_combo               0.998408             0.973402        0.968339   \n",
       "Prim_Topic                           22                   18              35   \n",
       "Prim_Topic_Contrib                 0.23                  0.3            0.66   \n",
       "Sec_Topic                            16                   26              21   \n",
       "Sec_Topic_Contrib                   0.2                 0.16            0.14   \n",
       "\n",
       "                               17804          25987  \n",
       "speech_id                 1030190450     1020110868  \n",
       "date                        19940714       19911112  \n",
       "word_count                       901             32  \n",
       "Party                              D              R  \n",
       "Congress                         103            102  \n",
       "Chamber                            H              H  \n",
       "State                             MN             CA  \n",
       "Ethnicity                          W              W  \n",
       "Age                               43             40  \n",
       "Female                             0              0  \n",
       "Full Name             PENNY, TIMOTHY  DREIER, DAVID  \n",
       "pred_probs_mlp_ngram        0.999892       0.995493  \n",
       "pred_probs_cnn              0.984614       0.989272  \n",
       "pred_probs_cnn_chunk        0.900474       0.895659  \n",
       "pred_probs_combo             0.96166       0.960141  \n",
       "Prim_Topic                        32              9  \n",
       "Prim_Topic_Contrib              0.47           0.91  \n",
       "Sec_Topic                         16             -1  \n",
       "Sec_Topic_Contrib               0.35              0  "
      ]
     },
     "execution_count": 135,
     "metadata": {},
     "output_type": "execute_result"
    }
   ],
   "source": [
    "topic_pred_df[keep_cols][topic_pred_df.Female==0].sort_values(by='pred_probs_combo', ascending=False).head(5).T"
   ]
  },
  {
   "cell_type": "code",
   "execution_count": 136,
   "metadata": {},
   "outputs": [
    {
     "data": {
      "text/html": [
       "<div>\n",
       "<style scoped>\n",
       "    .dataframe tbody tr th:only-of-type {\n",
       "        vertical-align: middle;\n",
       "    }\n",
       "\n",
       "    .dataframe tbody tr th {\n",
       "        vertical-align: top;\n",
       "    }\n",
       "\n",
       "    .dataframe thead th {\n",
       "        text-align: right;\n",
       "    }\n",
       "</style>\n",
       "<table border=\"1\" class=\"dataframe\">\n",
       "  <thead>\n",
       "    <tr style=\"text-align: right;\">\n",
       "      <th></th>\n",
       "      <th>3956</th>\n",
       "      <th>54160</th>\n",
       "      <th>23305</th>\n",
       "      <th>45999</th>\n",
       "      <th>36532</th>\n",
       "    </tr>\n",
       "  </thead>\n",
       "  <tbody>\n",
       "    <tr>\n",
       "      <th>speech_id</th>\n",
       "      <td>1100121799</td>\n",
       "      <td>1070056308</td>\n",
       "      <td>1080030432</td>\n",
       "      <td>1120099064</td>\n",
       "      <td>1070053677</td>\n",
       "    </tr>\n",
       "    <tr>\n",
       "      <th>date</th>\n",
       "      <td>20071205</td>\n",
       "      <td>20010727</td>\n",
       "      <td>20030410</td>\n",
       "      <td>20120419</td>\n",
       "      <td>20010724</td>\n",
       "    </tr>\n",
       "    <tr>\n",
       "      <th>word_count</th>\n",
       "      <td>148</td>\n",
       "      <td>206</td>\n",
       "      <td>335</td>\n",
       "      <td>40</td>\n",
       "      <td>36</td>\n",
       "    </tr>\n",
       "    <tr>\n",
       "      <th>Party</th>\n",
       "      <td>R</td>\n",
       "      <td>D</td>\n",
       "      <td>D</td>\n",
       "      <td>D</td>\n",
       "      <td>D</td>\n",
       "    </tr>\n",
       "    <tr>\n",
       "      <th>Congress</th>\n",
       "      <td>110</td>\n",
       "      <td>107</td>\n",
       "      <td>108</td>\n",
       "      <td>112</td>\n",
       "      <td>107</td>\n",
       "    </tr>\n",
       "    <tr>\n",
       "      <th>Chamber</th>\n",
       "      <td>H</td>\n",
       "      <td>H</td>\n",
       "      <td>H</td>\n",
       "      <td>H</td>\n",
       "      <td>H</td>\n",
       "    </tr>\n",
       "    <tr>\n",
       "      <th>State</th>\n",
       "      <td>FL</td>\n",
       "      <td>CA</td>\n",
       "      <td>NY</td>\n",
       "      <td>CA</td>\n",
       "      <td>TX</td>\n",
       "    </tr>\n",
       "    <tr>\n",
       "      <th>Ethnicity</th>\n",
       "      <td>W</td>\n",
       "      <td>ME</td>\n",
       "      <td>W</td>\n",
       "      <td>W</td>\n",
       "      <td>B</td>\n",
       "    </tr>\n",
       "    <tr>\n",
       "      <th>Age</th>\n",
       "      <td>65</td>\n",
       "      <td>60</td>\n",
       "      <td>58</td>\n",
       "      <td>75</td>\n",
       "      <td>52</td>\n",
       "    </tr>\n",
       "    <tr>\n",
       "      <th>Female</th>\n",
       "      <td>1</td>\n",
       "      <td>1</td>\n",
       "      <td>1</td>\n",
       "      <td>1</td>\n",
       "      <td>1</td>\n",
       "    </tr>\n",
       "    <tr>\n",
       "      <th>Full Name</th>\n",
       "      <td>BROWN-WAITE, VIRGINIA</td>\n",
       "      <td>ESHOO, ANNA</td>\n",
       "      <td>MALONEY, CAROLYN</td>\n",
       "      <td>WOOLSEY, LYNN</td>\n",
       "      <td>JACKSON LEE, SHEILA</td>\n",
       "    </tr>\n",
       "    <tr>\n",
       "      <th>pred_probs_mlp_ngram</th>\n",
       "      <td>0.0246502</td>\n",
       "      <td>0.00983509</td>\n",
       "      <td>0.0106624</td>\n",
       "      <td>0.00117233</td>\n",
       "      <td>0.0229795</td>\n",
       "    </tr>\n",
       "    <tr>\n",
       "      <th>pred_probs_cnn</th>\n",
       "      <td>0.0332848</td>\n",
       "      <td>0.0185634</td>\n",
       "      <td>0.0744726</td>\n",
       "      <td>0.0763465</td>\n",
       "      <td>0.0449018</td>\n",
       "    </tr>\n",
       "    <tr>\n",
       "      <th>pred_probs_cnn_chunk</th>\n",
       "      <td>0.0835182</td>\n",
       "      <td>0.124094</td>\n",
       "      <td>0.0957997</td>\n",
       "      <td>0.146905</td>\n",
       "      <td>0.16957</td>\n",
       "    </tr>\n",
       "    <tr>\n",
       "      <th>pred_probs_combo</th>\n",
       "      <td>0.0471511</td>\n",
       "      <td>0.0508307</td>\n",
       "      <td>0.0603116</td>\n",
       "      <td>0.0748081</td>\n",
       "      <td>0.0791505</td>\n",
       "    </tr>\n",
       "    <tr>\n",
       "      <th>Prim_Topic</th>\n",
       "      <td>1</td>\n",
       "      <td>16</td>\n",
       "      <td>4</td>\n",
       "      <td>5</td>\n",
       "      <td>18</td>\n",
       "    </tr>\n",
       "    <tr>\n",
       "      <th>Prim_Topic_Contrib</th>\n",
       "      <td>0.3</td>\n",
       "      <td>0.24</td>\n",
       "      <td>0.26</td>\n",
       "      <td>0.49</td>\n",
       "      <td>0.38</td>\n",
       "    </tr>\n",
       "    <tr>\n",
       "      <th>Sec_Topic</th>\n",
       "      <td>11</td>\n",
       "      <td>2</td>\n",
       "      <td>18</td>\n",
       "      <td>4</td>\n",
       "      <td>17</td>\n",
       "    </tr>\n",
       "    <tr>\n",
       "      <th>Sec_Topic_Contrib</th>\n",
       "      <td>0.17</td>\n",
       "      <td>0.15</td>\n",
       "      <td>0.14</td>\n",
       "      <td>0.18</td>\n",
       "      <td>0.32</td>\n",
       "    </tr>\n",
       "  </tbody>\n",
       "</table>\n",
       "</div>"
      ],
      "text/plain": [
       "                                      3956         54160             23305  \\\n",
       "speech_id                        1100121799   1070056308        1080030432   \n",
       "date                               20071205     20010727          20030410   \n",
       "word_count                              148          206               335   \n",
       "Party                                     R            D                 D   \n",
       "Congress                                110          107               108   \n",
       "Chamber                                   H            H                 H   \n",
       "State                                    FL           CA                NY   \n",
       "Ethnicity                                 W           ME                 W   \n",
       "Age                                      65           60                58   \n",
       "Female                                    1            1                 1   \n",
       "Full Name             BROWN-WAITE, VIRGINIA  ESHOO, ANNA  MALONEY, CAROLYN   \n",
       "pred_probs_mlp_ngram              0.0246502   0.00983509         0.0106624   \n",
       "pred_probs_cnn                    0.0332848    0.0185634         0.0744726   \n",
       "pred_probs_cnn_chunk              0.0835182     0.124094         0.0957997   \n",
       "pred_probs_combo                  0.0471511    0.0508307         0.0603116   \n",
       "Prim_Topic                                1           16                 4   \n",
       "Prim_Topic_Contrib                      0.3         0.24              0.26   \n",
       "Sec_Topic                                11            2                18   \n",
       "Sec_Topic_Contrib                      0.17         0.15              0.14   \n",
       "\n",
       "                              45999                36532  \n",
       "speech_id                1120099064           1070053677  \n",
       "date                       20120419             20010724  \n",
       "word_count                       40                   36  \n",
       "Party                             D                    D  \n",
       "Congress                        112                  107  \n",
       "Chamber                           H                    H  \n",
       "State                            CA                   TX  \n",
       "Ethnicity                         W                    B  \n",
       "Age                              75                   52  \n",
       "Female                            1                    1  \n",
       "Full Name             WOOLSEY, LYNN  JACKSON LEE, SHEILA  \n",
       "pred_probs_mlp_ngram     0.00117233            0.0229795  \n",
       "pred_probs_cnn            0.0763465            0.0449018  \n",
       "pred_probs_cnn_chunk       0.146905              0.16957  \n",
       "pred_probs_combo          0.0748081            0.0791505  \n",
       "Prim_Topic                        5                   18  \n",
       "Prim_Topic_Contrib             0.49                 0.38  \n",
       "Sec_Topic                         4                   17  \n",
       "Sec_Topic_Contrib              0.18                 0.32  "
      ]
     },
     "execution_count": 136,
     "metadata": {},
     "output_type": "execute_result"
    }
   ],
   "source": [
    "topic_pred_df[keep_cols][topic_pred_df.Female==1].sort_values(by='pred_probs_combo', ascending=True).head(5).T"
   ]
  },
  {
   "cell_type": "markdown",
   "metadata": {},
   "source": [
    "### Confusion analysis"
   ]
  },
  {
   "cell_type": "markdown",
   "metadata": {},
   "source": [
    "#### False positives"
   ]
  },
  {
   "cell_type": "code",
   "execution_count": 137,
   "metadata": {},
   "outputs": [
    {
     "data": {
      "text/plain": [
       "'ida. Mr. Speaker. this year I introduced H.R. 92. the Veterans Timely Access to Health Care. Act. H.R. 92 makes a responsible and reasonable commitment to veterans throughout this country. Under the bill. if a veteran cannot get an appointment with a primary care physician within 30 days. that veteran may see a private physician at no additional cost. Unfortunately. the Veterans Affairs Committee refuses to move my bill and allow the House of Representatives to vote on it. This year. I have witnessed the majority leadership use veterans as a political pawn. Theyve held the Military Construction and Veterans appropriations bill.hostage. I wont allow the same thing to happen with veterans access to health care. I ask my colleagues. regardless of their party affiliation. to stand up and protect veterans as they once stood up to protect you. And I ask the leadership to move H.R. 92.'"
      ]
     },
     "execution_count": 137,
     "metadata": {},
     "output_type": "execute_result"
    }
   ],
   "source": [
    "val_list[val_ids.index('1100121799')]"
   ]
  },
  {
   "cell_type": "code",
   "execution_count": 138,
   "metadata": {
    "scrolled": true
   },
   "outputs": [
    {
     "data": {
      "text/html": [
       "<div>\n",
       "<style scoped>\n",
       "    .dataframe tbody tr th:only-of-type {\n",
       "        vertical-align: middle;\n",
       "    }\n",
       "\n",
       "    .dataframe tbody tr th {\n",
       "        vertical-align: top;\n",
       "    }\n",
       "\n",
       "    .dataframe thead th {\n",
       "        text-align: right;\n",
       "    }\n",
       "</style>\n",
       "<table border=\"1\" class=\"dataframe\">\n",
       "  <thead>\n",
       "    <tr style=\"text-align: right;\">\n",
       "      <th></th>\n",
       "      <th>speech_id</th>\n",
       "      <th>date</th>\n",
       "      <th>word_count</th>\n",
       "      <th>Party</th>\n",
       "      <th>Congress</th>\n",
       "      <th>Chamber</th>\n",
       "      <th>State</th>\n",
       "      <th>Ethnicity</th>\n",
       "      <th>Age</th>\n",
       "      <th>Female</th>\n",
       "      <th>Full Name</th>\n",
       "      <th>pred_probs_mlp_ngram</th>\n",
       "      <th>pred_probs_cnn</th>\n",
       "      <th>pred_probs_cnn_chunk</th>\n",
       "      <th>pred_probs_combo</th>\n",
       "      <th>Prim_Topic</th>\n",
       "      <th>Prim_Topic_Contrib</th>\n",
       "      <th>Sec_Topic</th>\n",
       "      <th>Sec_Topic_Contrib</th>\n",
       "    </tr>\n",
       "  </thead>\n",
       "  <tbody>\n",
       "    <tr>\n",
       "      <th>61268</th>\n",
       "      <td>1060201319</td>\n",
       "      <td>20001025</td>\n",
       "      <td>94</td>\n",
       "      <td>D</td>\n",
       "      <td>106</td>\n",
       "      <td>H</td>\n",
       "      <td>OH</td>\n",
       "      <td>W</td>\n",
       "      <td>59.0</td>\n",
       "      <td>0.0</td>\n",
       "      <td>TRAFICANT, JAMES</td>\n",
       "      <td>0.134099</td>\n",
       "      <td>0.995882</td>\n",
       "      <td>0.686402</td>\n",
       "      <td>0.605461</td>\n",
       "      <td>0.0</td>\n",
       "      <td>0.30</td>\n",
       "      <td>4.0</td>\n",
       "      <td>0.26</td>\n",
       "    </tr>\n",
       "    <tr>\n",
       "      <th>61782</th>\n",
       "      <td>1020170025</td>\n",
       "      <td>19920602</td>\n",
       "      <td>884</td>\n",
       "      <td>D</td>\n",
       "      <td>102</td>\n",
       "      <td>S</td>\n",
       "      <td>CO</td>\n",
       "      <td>W</td>\n",
       "      <td>53.0</td>\n",
       "      <td>0.0</td>\n",
       "      <td>WIRTH, TIMOTHY</td>\n",
       "      <td>0.169734</td>\n",
       "      <td>0.959034</td>\n",
       "      <td>0.756901</td>\n",
       "      <td>0.628556</td>\n",
       "      <td>3.0</td>\n",
       "      <td>0.23</td>\n",
       "      <td>13.0</td>\n",
       "      <td>0.20</td>\n",
       "    </tr>\n",
       "    <tr>\n",
       "      <th>3114</th>\n",
       "      <td>1060051891</td>\n",
       "      <td>19990624</td>\n",
       "      <td>492</td>\n",
       "      <td>D</td>\n",
       "      <td>106</td>\n",
       "      <td>S</td>\n",
       "      <td>GA</td>\n",
       "      <td>W</td>\n",
       "      <td>58.0</td>\n",
       "      <td>0.0</td>\n",
       "      <td>CLELAND, J.</td>\n",
       "      <td>0.249273</td>\n",
       "      <td>0.926122</td>\n",
       "      <td>0.639626</td>\n",
       "      <td>0.605007</td>\n",
       "      <td>35.0</td>\n",
       "      <td>0.45</td>\n",
       "      <td>24.0</td>\n",
       "      <td>0.21</td>\n",
       "    </tr>\n",
       "    <tr>\n",
       "      <th>43596</th>\n",
       "      <td>1060077739</td>\n",
       "      <td>19990909</td>\n",
       "      <td>208</td>\n",
       "      <td>D</td>\n",
       "      <td>106</td>\n",
       "      <td>H</td>\n",
       "      <td>WA</td>\n",
       "      <td>W</td>\n",
       "      <td>64.0</td>\n",
       "      <td>0.0</td>\n",
       "      <td>MCDERMOTT, JIM</td>\n",
       "      <td>0.255178</td>\n",
       "      <td>0.923630</td>\n",
       "      <td>0.803795</td>\n",
       "      <td>0.660867</td>\n",
       "      <td>34.0</td>\n",
       "      <td>0.26</td>\n",
       "      <td>16.0</td>\n",
       "      <td>0.23</td>\n",
       "    </tr>\n",
       "    <tr>\n",
       "      <th>46752</th>\n",
       "      <td>1080105832</td>\n",
       "      <td>20031112</td>\n",
       "      <td>2443</td>\n",
       "      <td>R</td>\n",
       "      <td>108</td>\n",
       "      <td>S</td>\n",
       "      <td>WY</td>\n",
       "      <td>W</td>\n",
       "      <td>60.0</td>\n",
       "      <td>0.0</td>\n",
       "      <td>ENZI, MICHAEL</td>\n",
       "      <td>0.276736</td>\n",
       "      <td>0.821695</td>\n",
       "      <td>0.773584</td>\n",
       "      <td>0.624005</td>\n",
       "      <td>5.0</td>\n",
       "      <td>0.36</td>\n",
       "      <td>26.0</td>\n",
       "      <td>0.21</td>\n",
       "    </tr>\n",
       "  </tbody>\n",
       "</table>\n",
       "</div>"
      ],
      "text/plain": [
       "        speech_id      date  word_count Party  Congress Chamber State  \\\n",
       "61268  1060201319  20001025          94     D       106       H    OH   \n",
       "61782  1020170025  19920602         884     D       102       S    CO   \n",
       "3114   1060051891  19990624         492     D       106       S    GA   \n",
       "43596  1060077739  19990909         208     D       106       H    WA   \n",
       "46752  1080105832  20031112        2443     R       108       S    WY   \n",
       "\n",
       "      Ethnicity   Age  Female         Full Name  pred_probs_mlp_ngram  \\\n",
       "61268         W  59.0     0.0  TRAFICANT, JAMES              0.134099   \n",
       "61782         W  53.0     0.0    WIRTH, TIMOTHY              0.169734   \n",
       "3114          W  58.0     0.0       CLELAND, J.              0.249273   \n",
       "43596         W  64.0     0.0    MCDERMOTT, JIM              0.255178   \n",
       "46752         W  60.0     0.0     ENZI, MICHAEL              0.276736   \n",
       "\n",
       "       pred_probs_cnn  pred_probs_cnn_chunk  pred_probs_combo  Prim_Topic  \\\n",
       "61268        0.995882              0.686402          0.605461         0.0   \n",
       "61782        0.959034              0.756901          0.628556         3.0   \n",
       "3114         0.926122              0.639626          0.605007        35.0   \n",
       "43596        0.923630              0.803795          0.660867        34.0   \n",
       "46752        0.821695              0.773584          0.624005         5.0   \n",
       "\n",
       "       Prim_Topic_Contrib  Sec_Topic  Sec_Topic_Contrib  \n",
       "61268                0.30        4.0               0.26  \n",
       "61782                0.23       13.0               0.20  \n",
       "3114                 0.45       24.0               0.21  \n",
       "43596                0.26       16.0               0.23  \n",
       "46752                0.36       26.0               0.21  "
      ]
     },
     "execution_count": 138,
     "metadata": {},
     "output_type": "execute_result"
    }
   ],
   "source": [
    "topic_pred_df[keep_cols][(topic_pred_df.pred_probs_combo>0.6) & (topic_pred_df.Female==0)].sort_values(by='pred_probs_mlp_ngram', ascending=True).head(5)"
   ]
  },
  {
   "cell_type": "code",
   "execution_count": 139,
   "metadata": {},
   "outputs": [
    {
     "data": {
      "text/plain": [
       "'Mr. Speaker. the Colorado Supreme Court threw out the 5year mandatory prison sentences for rapists and child molesters. Thus. over 100 rapists are now out on the street. Unbelievable. Naturally. many people are up in arms. and who can blame them. If that is not enough to reward criminals. my colleagues. the victims of these creeps were not even notified. Not even notified. Beam me up. Mr. Speaker. The Supreme Court of Colorado needs their heads examined by a proctologist. I yield back all the victims of the Colorado Supreme Court. Think about that.'"
      ]
     },
     "execution_count": 139,
     "metadata": {},
     "output_type": "execute_result"
    }
   ],
   "source": [
    "val_list[val_ids.index('1060201319')]"
   ]
  },
  {
   "cell_type": "code",
   "execution_count": 140,
   "metadata": {},
   "outputs": [
    {
     "data": {
      "text/html": [
       "<div>\n",
       "<style scoped>\n",
       "    .dataframe tbody tr th:only-of-type {\n",
       "        vertical-align: middle;\n",
       "    }\n",
       "\n",
       "    .dataframe tbody tr th {\n",
       "        vertical-align: top;\n",
       "    }\n",
       "\n",
       "    .dataframe thead th {\n",
       "        text-align: right;\n",
       "    }\n",
       "</style>\n",
       "<table border=\"1\" class=\"dataframe\">\n",
       "  <thead>\n",
       "    <tr style=\"text-align: right;\">\n",
       "      <th></th>\n",
       "      <th>speech_id</th>\n",
       "      <th>date</th>\n",
       "      <th>word_count</th>\n",
       "      <th>Party</th>\n",
       "      <th>Congress</th>\n",
       "      <th>Chamber</th>\n",
       "      <th>State</th>\n",
       "      <th>Ethnicity</th>\n",
       "      <th>Age</th>\n",
       "      <th>Female</th>\n",
       "      <th>Full Name</th>\n",
       "      <th>pred_probs_mlp_ngram</th>\n",
       "      <th>pred_probs_cnn</th>\n",
       "      <th>pred_probs_cnn_chunk</th>\n",
       "      <th>pred_probs_combo</th>\n",
       "      <th>Prim_Topic</th>\n",
       "      <th>Prim_Topic_Contrib</th>\n",
       "      <th>Sec_Topic</th>\n",
       "      <th>Sec_Topic_Contrib</th>\n",
       "    </tr>\n",
       "  </thead>\n",
       "  <tbody>\n",
       "    <tr>\n",
       "      <th>11066</th>\n",
       "      <td>1000121202</td>\n",
       "      <td>19871104</td>\n",
       "      <td>1534</td>\n",
       "      <td>D</td>\n",
       "      <td>100</td>\n",
       "      <td>S</td>\n",
       "      <td>HI</td>\n",
       "      <td>AAPIA</td>\n",
       "      <td>64.0</td>\n",
       "      <td>0.0</td>\n",
       "      <td>INOUYE, DANIEL</td>\n",
       "      <td>0.958832</td>\n",
       "      <td>0.191267</td>\n",
       "      <td>0.657572</td>\n",
       "      <td>0.602557</td>\n",
       "      <td>26.0</td>\n",
       "      <td>0.17</td>\n",
       "      <td>24.0</td>\n",
       "      <td>0.12</td>\n",
       "    </tr>\n",
       "    <tr>\n",
       "      <th>52751</th>\n",
       "      <td>1040178631</td>\n",
       "      <td>19960131</td>\n",
       "      <td>189</td>\n",
       "      <td>D</td>\n",
       "      <td>104</td>\n",
       "      <td>S</td>\n",
       "      <td>CT</td>\n",
       "      <td>W</td>\n",
       "      <td>54.0</td>\n",
       "      <td>0.0</td>\n",
       "      <td>LIEBERMAN, JOSEPH</td>\n",
       "      <td>0.955832</td>\n",
       "      <td>0.250855</td>\n",
       "      <td>0.673884</td>\n",
       "      <td>0.626857</td>\n",
       "      <td>13.0</td>\n",
       "      <td>0.38</td>\n",
       "      <td>35.0</td>\n",
       "      <td>0.22</td>\n",
       "    </tr>\n",
       "    <tr>\n",
       "      <th>40364</th>\n",
       "      <td>1010141846</td>\n",
       "      <td>19900418</td>\n",
       "      <td>204</td>\n",
       "      <td>R</td>\n",
       "      <td>101</td>\n",
       "      <td>H</td>\n",
       "      <td>PA</td>\n",
       "      <td>W</td>\n",
       "      <td>48.0</td>\n",
       "      <td>0.0</td>\n",
       "      <td>WALKER, ROBERT</td>\n",
       "      <td>0.988202</td>\n",
       "      <td>0.251788</td>\n",
       "      <td>0.676907</td>\n",
       "      <td>0.638966</td>\n",
       "      <td>18.0</td>\n",
       "      <td>0.43</td>\n",
       "      <td>26.0</td>\n",
       "      <td>0.40</td>\n",
       "    </tr>\n",
       "    <tr>\n",
       "      <th>40920</th>\n",
       "      <td>980012724</td>\n",
       "      <td>19830311</td>\n",
       "      <td>85</td>\n",
       "      <td>R</td>\n",
       "      <td>98</td>\n",
       "      <td>S</td>\n",
       "      <td>TN</td>\n",
       "      <td>W</td>\n",
       "      <td>59.0</td>\n",
       "      <td>0.0</td>\n",
       "      <td>BAKER, HOWARD</td>\n",
       "      <td>0.971510</td>\n",
       "      <td>0.276476</td>\n",
       "      <td>0.562423</td>\n",
       "      <td>0.603469</td>\n",
       "      <td>18.0</td>\n",
       "      <td>0.44</td>\n",
       "      <td>5.0</td>\n",
       "      <td>0.33</td>\n",
       "    </tr>\n",
       "    <tr>\n",
       "      <th>22004</th>\n",
       "      <td>1000260620</td>\n",
       "      <td>19881005</td>\n",
       "      <td>313</td>\n",
       "      <td>R</td>\n",
       "      <td>100</td>\n",
       "      <td>H</td>\n",
       "      <td>NY</td>\n",
       "      <td>W</td>\n",
       "      <td>69.0</td>\n",
       "      <td>0.0</td>\n",
       "      <td>HORTON, FRANK</td>\n",
       "      <td>0.969847</td>\n",
       "      <td>0.300230</td>\n",
       "      <td>0.609130</td>\n",
       "      <td>0.626403</td>\n",
       "      <td>24.0</td>\n",
       "      <td>0.30</td>\n",
       "      <td>18.0</td>\n",
       "      <td>0.23</td>\n",
       "    </tr>\n",
       "  </tbody>\n",
       "</table>\n",
       "</div>"
      ],
      "text/plain": [
       "        speech_id      date  word_count Party  Congress Chamber State  \\\n",
       "11066  1000121202  19871104        1534     D       100       S    HI   \n",
       "52751  1040178631  19960131         189     D       104       S    CT   \n",
       "40364  1010141846  19900418         204     R       101       H    PA   \n",
       "40920   980012724  19830311          85     R        98       S    TN   \n",
       "22004  1000260620  19881005         313     R       100       H    NY   \n",
       "\n",
       "      Ethnicity   Age  Female          Full Name  pred_probs_mlp_ngram  \\\n",
       "11066     AAPIA  64.0     0.0     INOUYE, DANIEL              0.958832   \n",
       "52751         W  54.0     0.0  LIEBERMAN, JOSEPH              0.955832   \n",
       "40364         W  48.0     0.0     WALKER, ROBERT              0.988202   \n",
       "40920         W  59.0     0.0      BAKER, HOWARD              0.971510   \n",
       "22004         W  69.0     0.0      HORTON, FRANK              0.969847   \n",
       "\n",
       "       pred_probs_cnn  pred_probs_cnn_chunk  pred_probs_combo  Prim_Topic  \\\n",
       "11066        0.191267              0.657572          0.602557        26.0   \n",
       "52751        0.250855              0.673884          0.626857        13.0   \n",
       "40364        0.251788              0.676907          0.638966        18.0   \n",
       "40920        0.276476              0.562423          0.603469        18.0   \n",
       "22004        0.300230              0.609130          0.626403        24.0   \n",
       "\n",
       "       Prim_Topic_Contrib  Sec_Topic  Sec_Topic_Contrib  \n",
       "11066                0.17       24.0               0.12  \n",
       "52751                0.38       35.0               0.22  \n",
       "40364                0.43       26.0               0.40  \n",
       "40920                0.44        5.0               0.33  \n",
       "22004                0.30       18.0               0.23  "
      ]
     },
     "execution_count": 140,
     "metadata": {},
     "output_type": "execute_result"
    }
   ],
   "source": [
    "topic_pred_df[keep_cols][(topic_pred_df.pred_probs_combo>0.6) & (topic_pred_df.Female==0)].sort_values(by='pred_probs_cnn', ascending=True).head(5)"
   ]
  },
  {
   "cell_type": "code",
   "execution_count": 141,
   "metadata": {},
   "outputs": [
    {
     "data": {
      "text/plain": [
       "'Mr. President. I rise today to honor the Enfield Fire Department on the occasion of their 100th anniversary. For the past 100 years this dedicated group of men and women have strived to ensure the safety of the community of Enfield. CT. Their dedication is evident in their unshakable commitment to self sacrifice for the security of their friends. families. and neighbors. Indeed some have given the ultimate sacrifice. giving their lives while trying to pro.tect their fellow citizens. This organizations dedication and commitment to the town of Enfield can be seen not only through the fire departmnents actions but also in the great confidence and respect the residents of Enfield place upon these men and women. Ordinary men and women asked to perform extraordinary tasks. never asking what was in it for them. The communitys faith in their fire department has not wavered in its first 100 years and will undoubtedly continue through the next century. The Enfield Fire Department has been an important stone in the foundation of the town of Enfield. The people of Connecticut thank them for their service. dedication. and contribution to their community.*'"
      ]
     },
     "execution_count": 141,
     "metadata": {},
     "output_type": "execute_result"
    }
   ],
   "source": [
    "val_list[val_ids.index('1040178631')]"
   ]
  },
  {
   "cell_type": "code",
   "execution_count": 142,
   "metadata": {},
   "outputs": [
    {
     "data": {
      "text/html": [
       "<div>\n",
       "<style scoped>\n",
       "    .dataframe tbody tr th:only-of-type {\n",
       "        vertical-align: middle;\n",
       "    }\n",
       "\n",
       "    .dataframe tbody tr th {\n",
       "        vertical-align: top;\n",
       "    }\n",
       "\n",
       "    .dataframe thead th {\n",
       "        text-align: right;\n",
       "    }\n",
       "</style>\n",
       "<table border=\"1\" class=\"dataframe\">\n",
       "  <thead>\n",
       "    <tr style=\"text-align: right;\">\n",
       "      <th></th>\n",
       "      <th>speech_id</th>\n",
       "      <th>date</th>\n",
       "      <th>word_count</th>\n",
       "      <th>Party</th>\n",
       "      <th>Congress</th>\n",
       "      <th>Chamber</th>\n",
       "      <th>State</th>\n",
       "      <th>Ethnicity</th>\n",
       "      <th>Age</th>\n",
       "      <th>Female</th>\n",
       "      <th>Full Name</th>\n",
       "      <th>pred_probs_mlp_ngram</th>\n",
       "      <th>pred_probs_cnn</th>\n",
       "      <th>pred_probs_cnn_chunk</th>\n",
       "      <th>pred_probs_combo</th>\n",
       "      <th>Prim_Topic</th>\n",
       "      <th>Prim_Topic_Contrib</th>\n",
       "      <th>Sec_Topic</th>\n",
       "      <th>Sec_Topic_Contrib</th>\n",
       "    </tr>\n",
       "  </thead>\n",
       "  <tbody>\n",
       "    <tr>\n",
       "      <th>11440</th>\n",
       "      <td>1110075725</td>\n",
       "      <td>20091223</td>\n",
       "      <td>122</td>\n",
       "      <td>R</td>\n",
       "      <td>111</td>\n",
       "      <td>S</td>\n",
       "      <td>SD</td>\n",
       "      <td>W</td>\n",
       "      <td>49.0</td>\n",
       "      <td>0.0</td>\n",
       "      <td>THUNE, JOHN</td>\n",
       "      <td>0.754134</td>\n",
       "      <td>0.759245</td>\n",
       "      <td>0.306289</td>\n",
       "      <td>0.606556</td>\n",
       "      <td>26.0</td>\n",
       "      <td>0.54</td>\n",
       "      <td>32.0</td>\n",
       "      <td>0.20</td>\n",
       "    </tr>\n",
       "    <tr>\n",
       "      <th>46576</th>\n",
       "      <td>1000045186</td>\n",
       "      <td>19870527</td>\n",
       "      <td>218</td>\n",
       "      <td>R</td>\n",
       "      <td>100</td>\n",
       "      <td>H</td>\n",
       "      <td>CA</td>\n",
       "      <td>W</td>\n",
       "      <td>55.0</td>\n",
       "      <td>0.0</td>\n",
       "      <td>DORNAN, ROBERT</td>\n",
       "      <td>0.858805</td>\n",
       "      <td>0.919752</td>\n",
       "      <td>0.368785</td>\n",
       "      <td>0.715781</td>\n",
       "      <td>5.0</td>\n",
       "      <td>0.39</td>\n",
       "      <td>18.0</td>\n",
       "      <td>0.14</td>\n",
       "    </tr>\n",
       "    <tr>\n",
       "      <th>9831</th>\n",
       "      <td>990081034</td>\n",
       "      <td>19850909</td>\n",
       "      <td>196</td>\n",
       "      <td>D</td>\n",
       "      <td>99</td>\n",
       "      <td>H</td>\n",
       "      <td>CA</td>\n",
       "      <td>W</td>\n",
       "      <td>44.0</td>\n",
       "      <td>0.0</td>\n",
       "      <td>COELHO, ANTHONY</td>\n",
       "      <td>0.669366</td>\n",
       "      <td>0.784099</td>\n",
       "      <td>0.369203</td>\n",
       "      <td>0.607556</td>\n",
       "      <td>26.0</td>\n",
       "      <td>0.56</td>\n",
       "      <td>18.0</td>\n",
       "      <td>0.19</td>\n",
       "    </tr>\n",
       "    <tr>\n",
       "      <th>20566</th>\n",
       "      <td>1050002692</td>\n",
       "      <td>19970205</td>\n",
       "      <td>37</td>\n",
       "      <td>R</td>\n",
       "      <td>105</td>\n",
       "      <td>S</td>\n",
       "      <td>UT</td>\n",
       "      <td>W</td>\n",
       "      <td>64.0</td>\n",
       "      <td>0.0</td>\n",
       "      <td>HATCH, ORRIN</td>\n",
       "      <td>0.661776</td>\n",
       "      <td>0.772831</td>\n",
       "      <td>0.369489</td>\n",
       "      <td>0.601365</td>\n",
       "      <td>24.0</td>\n",
       "      <td>0.48</td>\n",
       "      <td>9.0</td>\n",
       "      <td>0.23</td>\n",
       "    </tr>\n",
       "    <tr>\n",
       "      <th>27802</th>\n",
       "      <td>1050098000</td>\n",
       "      <td>19971107</td>\n",
       "      <td>42</td>\n",
       "      <td>R</td>\n",
       "      <td>105</td>\n",
       "      <td>S</td>\n",
       "      <td>VA</td>\n",
       "      <td>W</td>\n",
       "      <td>71.0</td>\n",
       "      <td>0.0</td>\n",
       "      <td>WARNER, JOHN</td>\n",
       "      <td>0.589597</td>\n",
       "      <td>0.894749</td>\n",
       "      <td>0.372943</td>\n",
       "      <td>0.619096</td>\n",
       "      <td>9.0</td>\n",
       "      <td>0.75</td>\n",
       "      <td>8.0</td>\n",
       "      <td>0.20</td>\n",
       "    </tr>\n",
       "  </tbody>\n",
       "</table>\n",
       "</div>"
      ],
      "text/plain": [
       "        speech_id      date  word_count Party  Congress Chamber State  \\\n",
       "11440  1110075725  20091223         122     R       111       S    SD   \n",
       "46576  1000045186  19870527         218     R       100       H    CA   \n",
       "9831    990081034  19850909         196     D        99       H    CA   \n",
       "20566  1050002692  19970205          37     R       105       S    UT   \n",
       "27802  1050098000  19971107          42     R       105       S    VA   \n",
       "\n",
       "      Ethnicity   Age  Female        Full Name  pred_probs_mlp_ngram  \\\n",
       "11440         W  49.0     0.0      THUNE, JOHN              0.754134   \n",
       "46576         W  55.0     0.0   DORNAN, ROBERT              0.858805   \n",
       "9831          W  44.0     0.0  COELHO, ANTHONY              0.669366   \n",
       "20566         W  64.0     0.0     HATCH, ORRIN              0.661776   \n",
       "27802         W  71.0     0.0     WARNER, JOHN              0.589597   \n",
       "\n",
       "       pred_probs_cnn  pred_probs_cnn_chunk  pred_probs_combo  Prim_Topic  \\\n",
       "11440        0.759245              0.306289          0.606556        26.0   \n",
       "46576        0.919752              0.368785          0.715781         5.0   \n",
       "9831         0.784099              0.369203          0.607556        26.0   \n",
       "20566        0.772831              0.369489          0.601365        24.0   \n",
       "27802        0.894749              0.372943          0.619096         9.0   \n",
       "\n",
       "       Prim_Topic_Contrib  Sec_Topic  Sec_Topic_Contrib  \n",
       "11440                0.54       32.0               0.20  \n",
       "46576                0.39       18.0               0.14  \n",
       "9831                 0.56       18.0               0.19  \n",
       "20566                0.48        9.0               0.23  \n",
       "27802                0.75        8.0               0.20  "
      ]
     },
     "execution_count": 142,
     "metadata": {},
     "output_type": "execute_result"
    }
   ],
   "source": [
    "topic_pred_df[keep_cols][(topic_pred_df.pred_probs_combo>0.6) & (topic_pred_df.Female==0)].sort_values(by='pred_probs_cnn_chunk', ascending=True).head(5)"
   ]
  },
  {
   "cell_type": "code",
   "execution_count": 143,
   "metadata": {},
   "outputs": [
    {
     "data": {
      "text/plain": [
       "'If the Senator will further yield. in addition to this revelation from the CBO. which I think does change the game and the whole debate about whether this is a budget buster. which it has been described as. in spite of the fact that our colleagues on the other side have been arguing it extends the life of Medicare. I think this statement by the CBO certainly shreds the notion that you can have it both ways. that you can double count this money. that you can spend it twice. You cant do that. I think the American people get that. which is why they believe it will add to the deficit as well. But there are other things in this bill'"
      ]
     },
     "execution_count": 143,
     "metadata": {},
     "output_type": "execute_result"
    }
   ],
   "source": [
    "val_list[val_ids.index('1110075725')]"
   ]
  },
  {
   "cell_type": "markdown",
   "metadata": {},
   "source": [
    "#### False negatives"
   ]
  },
  {
   "cell_type": "code",
   "execution_count": 144,
   "metadata": {},
   "outputs": [
    {
     "data": {
      "text/html": [
       "<div>\n",
       "<style scoped>\n",
       "    .dataframe tbody tr th:only-of-type {\n",
       "        vertical-align: middle;\n",
       "    }\n",
       "\n",
       "    .dataframe tbody tr th {\n",
       "        vertical-align: top;\n",
       "    }\n",
       "\n",
       "    .dataframe thead th {\n",
       "        text-align: right;\n",
       "    }\n",
       "</style>\n",
       "<table border=\"1\" class=\"dataframe\">\n",
       "  <thead>\n",
       "    <tr style=\"text-align: right;\">\n",
       "      <th></th>\n",
       "      <th>speech_id</th>\n",
       "      <th>date</th>\n",
       "      <th>word_count</th>\n",
       "      <th>Party</th>\n",
       "      <th>Congress</th>\n",
       "      <th>Chamber</th>\n",
       "      <th>State</th>\n",
       "      <th>Ethnicity</th>\n",
       "      <th>Age</th>\n",
       "      <th>Female</th>\n",
       "      <th>Full Name</th>\n",
       "      <th>pred_probs_mlp_ngram</th>\n",
       "      <th>pred_probs_cnn</th>\n",
       "      <th>pred_probs_cnn_chunk</th>\n",
       "      <th>pred_probs_combo</th>\n",
       "      <th>Prim_Topic</th>\n",
       "      <th>Prim_Topic_Contrib</th>\n",
       "      <th>Sec_Topic</th>\n",
       "      <th>Sec_Topic_Contrib</th>\n",
       "    </tr>\n",
       "  </thead>\n",
       "  <tbody>\n",
       "    <tr>\n",
       "      <th>19983</th>\n",
       "      <td>1080106462</td>\n",
       "      <td>20031112</td>\n",
       "      <td>232</td>\n",
       "      <td>D</td>\n",
       "      <td>108</td>\n",
       "      <td>H</td>\n",
       "      <td>GU</td>\n",
       "      <td>W</td>\n",
       "      <td>71.0</td>\n",
       "      <td>1.0</td>\n",
       "      <td>BORDALLO, MADELEINE</td>\n",
       "      <td>0.801255</td>\n",
       "      <td>0.212987</td>\n",
       "      <td>0.160900</td>\n",
       "      <td>0.391714</td>\n",
       "      <td>24.0</td>\n",
       "      <td>0.53</td>\n",
       "      <td>13.0</td>\n",
       "      <td>0.20</td>\n",
       "    </tr>\n",
       "    <tr>\n",
       "      <th>55328</th>\n",
       "      <td>1110060690</td>\n",
       "      <td>20090917</td>\n",
       "      <td>832</td>\n",
       "      <td>D</td>\n",
       "      <td>111</td>\n",
       "      <td>S</td>\n",
       "      <td>WA</td>\n",
       "      <td>W</td>\n",
       "      <td>52.0</td>\n",
       "      <td>1.0</td>\n",
       "      <td>CANTWELL, MARIA</td>\n",
       "      <td>0.724715</td>\n",
       "      <td>0.134380</td>\n",
       "      <td>0.317690</td>\n",
       "      <td>0.392262</td>\n",
       "      <td>16.0</td>\n",
       "      <td>0.37</td>\n",
       "      <td>5.0</td>\n",
       "      <td>0.28</td>\n",
       "    </tr>\n",
       "    <tr>\n",
       "      <th>13930</th>\n",
       "      <td>1120043072</td>\n",
       "      <td>20110712</td>\n",
       "      <td>220</td>\n",
       "      <td>D</td>\n",
       "      <td>112</td>\n",
       "      <td>H</td>\n",
       "      <td>CA</td>\n",
       "      <td>B</td>\n",
       "      <td>74.0</td>\n",
       "      <td>1.0</td>\n",
       "      <td>WATERS, MAXINE</td>\n",
       "      <td>0.682366</td>\n",
       "      <td>0.206815</td>\n",
       "      <td>0.280885</td>\n",
       "      <td>0.390022</td>\n",
       "      <td>19.0</td>\n",
       "      <td>0.30</td>\n",
       "      <td>34.0</td>\n",
       "      <td>0.21</td>\n",
       "    </tr>\n",
       "    <tr>\n",
       "      <th>17082</th>\n",
       "      <td>1000063698</td>\n",
       "      <td>19870629</td>\n",
       "      <td>647</td>\n",
       "      <td>R</td>\n",
       "      <td>100</td>\n",
       "      <td>H</td>\n",
       "      <td>CT</td>\n",
       "      <td>W</td>\n",
       "      <td>53.0</td>\n",
       "      <td>1.0</td>\n",
       "      <td>JOHNSON, NANCY</td>\n",
       "      <td>0.681935</td>\n",
       "      <td>0.096445</td>\n",
       "      <td>0.396172</td>\n",
       "      <td>0.391517</td>\n",
       "      <td>32.0</td>\n",
       "      <td>0.55</td>\n",
       "      <td>33.0</td>\n",
       "      <td>0.12</td>\n",
       "    </tr>\n",
       "    <tr>\n",
       "      <th>32524</th>\n",
       "      <td>1090153649</td>\n",
       "      <td>20060628</td>\n",
       "      <td>2243</td>\n",
       "      <td>R</td>\n",
       "      <td>109</td>\n",
       "      <td>S</td>\n",
       "      <td>ME</td>\n",
       "      <td>W</td>\n",
       "      <td>54.0</td>\n",
       "      <td>1.0</td>\n",
       "      <td>COLLINS, SUSAN</td>\n",
       "      <td>0.677357</td>\n",
       "      <td>0.126677</td>\n",
       "      <td>0.369738</td>\n",
       "      <td>0.391257</td>\n",
       "      <td>12.0</td>\n",
       "      <td>0.27</td>\n",
       "      <td>16.0</td>\n",
       "      <td>0.25</td>\n",
       "    </tr>\n",
       "  </tbody>\n",
       "</table>\n",
       "</div>"
      ],
      "text/plain": [
       "        speech_id      date  word_count Party  Congress Chamber State  \\\n",
       "19983  1080106462  20031112         232     D       108       H    GU   \n",
       "55328  1110060690  20090917         832     D       111       S    WA   \n",
       "13930  1120043072  20110712         220     D       112       H    CA   \n",
       "17082  1000063698  19870629         647     R       100       H    CT   \n",
       "32524  1090153649  20060628        2243     R       109       S    ME   \n",
       "\n",
       "      Ethnicity   Age  Female            Full Name  pred_probs_mlp_ngram  \\\n",
       "19983         W  71.0     1.0  BORDALLO, MADELEINE              0.801255   \n",
       "55328         W  52.0     1.0      CANTWELL, MARIA              0.724715   \n",
       "13930         B  74.0     1.0       WATERS, MAXINE              0.682366   \n",
       "17082         W  53.0     1.0       JOHNSON, NANCY              0.681935   \n",
       "32524         W  54.0     1.0       COLLINS, SUSAN              0.677357   \n",
       "\n",
       "       pred_probs_cnn  pred_probs_cnn_chunk  pred_probs_combo  Prim_Topic  \\\n",
       "19983        0.212987              0.160900          0.391714        24.0   \n",
       "55328        0.134380              0.317690          0.392262        16.0   \n",
       "13930        0.206815              0.280885          0.390022        19.0   \n",
       "17082        0.096445              0.396172          0.391517        32.0   \n",
       "32524        0.126677              0.369738          0.391257        12.0   \n",
       "\n",
       "       Prim_Topic_Contrib  Sec_Topic  Sec_Topic_Contrib  \n",
       "19983                0.53       13.0               0.20  \n",
       "55328                0.37        5.0               0.28  \n",
       "13930                0.30       34.0               0.21  \n",
       "17082                0.55       33.0               0.12  \n",
       "32524                0.27       16.0               0.25  "
      ]
     },
     "execution_count": 144,
     "metadata": {},
     "output_type": "execute_result"
    }
   ],
   "source": [
    "topic_pred_df[keep_cols][(topic_pred_df.pred_probs_combo<0.4) & (topic_pred_df.Female==1)].sort_values(by='pred_probs_mlp_ngram', ascending=False).head(5)"
   ]
  },
  {
   "cell_type": "code",
   "execution_count": 145,
   "metadata": {},
   "outputs": [
    {
     "data": {
      "text/plain": [
       "'Mr. Chairman. I oppose the gentlewomans amendment. The gentlewomans amendment would prohibit FEMA from spending any funds on television or radio commercials to promote the purchase of flood insurance. Floods are the most common natural disaster in the United States. Unfortunately. even areas that arent in floodplains experience floods sometimes. When that happens. the Federal Government provides aid to those homeowners and communities. and it is the taxpayer who pays for that aid. Under the National Flood Insurance Program. insurance premiums pay for the cost of flood damage. Therefore. if homeowners outside floodplains buy flood insurance. taxpayers wont be on the hook if their properties flood. However. in order to have these homeowners buy flood insurance. they have to learn about the program and its benefits to them. This is where radio and television advertising are helpfulessential. that is. The ads reach a wide audience and present clear facts about the availability and affordability of flood insurance. To take away FEMAs ability to let the people know whats available to them would actually place the millions of Americans who choose and are not required to purchase flood insurance at risk. Given these times of record deficits. this is simply irresponsible. That is why I urge a \"no\" vote on this amendment. Mr. Chairman. I reserve the balance of my time.'"
      ]
     },
     "execution_count": 145,
     "metadata": {},
     "output_type": "execute_result"
    }
   ],
   "source": [
    "val_list[val_ids.index('1120043072')]"
   ]
  },
  {
   "cell_type": "code",
   "execution_count": 146,
   "metadata": {},
   "outputs": [
    {
     "data": {
      "text/html": [
       "<div>\n",
       "<style scoped>\n",
       "    .dataframe tbody tr th:only-of-type {\n",
       "        vertical-align: middle;\n",
       "    }\n",
       "\n",
       "    .dataframe tbody tr th {\n",
       "        vertical-align: top;\n",
       "    }\n",
       "\n",
       "    .dataframe thead th {\n",
       "        text-align: right;\n",
       "    }\n",
       "</style>\n",
       "<table border=\"1\" class=\"dataframe\">\n",
       "  <thead>\n",
       "    <tr style=\"text-align: right;\">\n",
       "      <th></th>\n",
       "      <th>speech_id</th>\n",
       "      <th>date</th>\n",
       "      <th>word_count</th>\n",
       "      <th>Party</th>\n",
       "      <th>Congress</th>\n",
       "      <th>Chamber</th>\n",
       "      <th>State</th>\n",
       "      <th>Ethnicity</th>\n",
       "      <th>Age</th>\n",
       "      <th>Female</th>\n",
       "      <th>Full Name</th>\n",
       "      <th>pred_probs_mlp_ngram</th>\n",
       "      <th>pred_probs_cnn</th>\n",
       "      <th>pred_probs_cnn_chunk</th>\n",
       "      <th>pred_probs_combo</th>\n",
       "      <th>Prim_Topic</th>\n",
       "      <th>Prim_Topic_Contrib</th>\n",
       "      <th>Sec_Topic</th>\n",
       "      <th>Sec_Topic_Contrib</th>\n",
       "    </tr>\n",
       "  </thead>\n",
       "  <tbody>\n",
       "    <tr>\n",
       "      <th>6114</th>\n",
       "      <td>1060082630</td>\n",
       "      <td>19990922</td>\n",
       "      <td>318</td>\n",
       "      <td>D</td>\n",
       "      <td>106</td>\n",
       "      <td>H</td>\n",
       "      <td>FL</td>\n",
       "      <td>W</td>\n",
       "      <td>49.0</td>\n",
       "      <td>1.0</td>\n",
       "      <td>THURMAN, KAREN</td>\n",
       "      <td>0.019908</td>\n",
       "      <td>0.763022</td>\n",
       "      <td>0.386538</td>\n",
       "      <td>0.389823</td>\n",
       "      <td>26.0</td>\n",
       "      <td>0.47</td>\n",
       "      <td>33.0</td>\n",
       "      <td>0.11</td>\n",
       "    </tr>\n",
       "    <tr>\n",
       "      <th>50381</th>\n",
       "      <td>1100119327</td>\n",
       "      <td>20071115</td>\n",
       "      <td>371</td>\n",
       "      <td>D</td>\n",
       "      <td>110</td>\n",
       "      <td>S</td>\n",
       "      <td>CA</td>\n",
       "      <td>W</td>\n",
       "      <td>68.0</td>\n",
       "      <td>1.0</td>\n",
       "      <td>BOXER, BARBARA</td>\n",
       "      <td>0.034046</td>\n",
       "      <td>0.677659</td>\n",
       "      <td>0.247982</td>\n",
       "      <td>0.319896</td>\n",
       "      <td>13.0</td>\n",
       "      <td>0.34</td>\n",
       "      <td>21.0</td>\n",
       "      <td>0.28</td>\n",
       "    </tr>\n",
       "    <tr>\n",
       "      <th>45183</th>\n",
       "      <td>1120061050</td>\n",
       "      <td>20111012</td>\n",
       "      <td>587</td>\n",
       "      <td>R</td>\n",
       "      <td>112</td>\n",
       "      <td>H</td>\n",
       "      <td>AL</td>\n",
       "      <td>W</td>\n",
       "      <td>36.0</td>\n",
       "      <td>1.0</td>\n",
       "      <td>ROBY, MARTHA</td>\n",
       "      <td>0.017286</td>\n",
       "      <td>0.663893</td>\n",
       "      <td>0.405376</td>\n",
       "      <td>0.362185</td>\n",
       "      <td>22.0</td>\n",
       "      <td>0.44</td>\n",
       "      <td>33.0</td>\n",
       "      <td>0.19</td>\n",
       "    </tr>\n",
       "    <tr>\n",
       "      <th>15115</th>\n",
       "      <td>1040070425</td>\n",
       "      <td>19950607</td>\n",
       "      <td>233</td>\n",
       "      <td>D</td>\n",
       "      <td>104</td>\n",
       "      <td>H</td>\n",
       "      <td>NY</td>\n",
       "      <td>W</td>\n",
       "      <td>67.0</td>\n",
       "      <td>1.0</td>\n",
       "      <td>SLAUGHTER, LOUISE</td>\n",
       "      <td>0.079383</td>\n",
       "      <td>0.662156</td>\n",
       "      <td>0.396024</td>\n",
       "      <td>0.379188</td>\n",
       "      <td>10.0</td>\n",
       "      <td>0.48</td>\n",
       "      <td>0.0</td>\n",
       "      <td>0.15</td>\n",
       "    </tr>\n",
       "    <tr>\n",
       "      <th>47921</th>\n",
       "      <td>1090095976</td>\n",
       "      <td>20051207</td>\n",
       "      <td>229</td>\n",
       "      <td>R</td>\n",
       "      <td>109</td>\n",
       "      <td>H</td>\n",
       "      <td>TN</td>\n",
       "      <td>W</td>\n",
       "      <td>54.0</td>\n",
       "      <td>1.0</td>\n",
       "      <td>BLACKBURN, MARSHA</td>\n",
       "      <td>0.060741</td>\n",
       "      <td>0.652425</td>\n",
       "      <td>0.454064</td>\n",
       "      <td>0.389077</td>\n",
       "      <td>15.0</td>\n",
       "      <td>0.30</td>\n",
       "      <td>34.0</td>\n",
       "      <td>0.24</td>\n",
       "    </tr>\n",
       "  </tbody>\n",
       "</table>\n",
       "</div>"
      ],
      "text/plain": [
       "        speech_id      date  word_count Party  Congress Chamber State  \\\n",
       "6114   1060082630  19990922         318     D       106       H    FL   \n",
       "50381  1100119327  20071115         371     D       110       S    CA   \n",
       "45183  1120061050  20111012         587     R       112       H    AL   \n",
       "15115  1040070425  19950607         233     D       104       H    NY   \n",
       "47921  1090095976  20051207         229     R       109       H    TN   \n",
       "\n",
       "      Ethnicity   Age  Female          Full Name  pred_probs_mlp_ngram  \\\n",
       "6114          W  49.0     1.0     THURMAN, KAREN              0.019908   \n",
       "50381         W  68.0     1.0     BOXER, BARBARA              0.034046   \n",
       "45183         W  36.0     1.0       ROBY, MARTHA              0.017286   \n",
       "15115         W  67.0     1.0  SLAUGHTER, LOUISE              0.079383   \n",
       "47921         W  54.0     1.0  BLACKBURN, MARSHA              0.060741   \n",
       "\n",
       "       pred_probs_cnn  pred_probs_cnn_chunk  pred_probs_combo  Prim_Topic  \\\n",
       "6114         0.763022              0.386538          0.389823        26.0   \n",
       "50381        0.677659              0.247982          0.319896        13.0   \n",
       "45183        0.663893              0.405376          0.362185        22.0   \n",
       "15115        0.662156              0.396024          0.379188        10.0   \n",
       "47921        0.652425              0.454064          0.389077        15.0   \n",
       "\n",
       "       Prim_Topic_Contrib  Sec_Topic  Sec_Topic_Contrib  \n",
       "6114                 0.47       33.0               0.11  \n",
       "50381                0.34       21.0               0.28  \n",
       "45183                0.44       33.0               0.19  \n",
       "15115                0.48        0.0               0.15  \n",
       "47921                0.30       34.0               0.24  "
      ]
     },
     "execution_count": 146,
     "metadata": {},
     "output_type": "execute_result"
    }
   ],
   "source": [
    "topic_pred_df[keep_cols][(topic_pred_df.pred_probs_combo<0.4) & (topic_pred_df.Female==1)].sort_values(by='pred_probs_cnn', ascending=False).head(5)"
   ]
  },
  {
   "cell_type": "code",
   "execution_count": 147,
   "metadata": {},
   "outputs": [
    {
     "data": {
      "text/plain": [
       "'I would say to the gentleman from Texas . to go back to the letter. that kind of goes into this segment about what has happened with the U.S. and Canada and Mexico. and I know the gentleman from Maine has a scenario that actually happened in his district and then we have. again. the studies that have been done for and showing the differences between -Canada. Mexico and our districts.. which. are. again. I think. pretty profound in the differences. Maybe just a few.of them. again. use the same drugs. Canadas price for Zocor was $46.00. Mexican price was $67.00. and Floridas price was $103.00. It goes down the same way all the way through there again. It is the same thing. We are paying more. We actually pay about 81 percent difference in Florida from Canada and about 79 percent difference from Mexico. Li 2115 So we think that is interesting. Mr. Speaker. it just seems to me that when we talk about this issue. because we have these border States. and people are very aware of what is going on in other countries and the cost of this medicine. it even makes it more profound. and as the gentleman has seen in his own district what is going on. again. it is just another example of what these folks are feeling. The second thing that I would point out is that when she talks about the fact that we have enough money to do this. this is exactly what the gentleman from Maine said. and what we have talked about in all of our- meetings of this. this is budgetneutral. If we just did this. with no . cost to the Federal Government. staying within the idea that we are trying to keep our budgets balanced. we are still talking 40 percent that could be reduced for these drugs without any kind of a benefit.'"
      ]
     },
     "execution_count": 147,
     "metadata": {},
     "output_type": "execute_result"
    }
   ],
   "source": [
    "val_list[val_ids.index('1060082630')]"
   ]
  },
  {
   "cell_type": "code",
   "execution_count": 148,
   "metadata": {},
   "outputs": [
    {
     "data": {
      "text/html": [
       "<div>\n",
       "<style scoped>\n",
       "    .dataframe tbody tr th:only-of-type {\n",
       "        vertical-align: middle;\n",
       "    }\n",
       "\n",
       "    .dataframe tbody tr th {\n",
       "        vertical-align: top;\n",
       "    }\n",
       "\n",
       "    .dataframe thead th {\n",
       "        text-align: right;\n",
       "    }\n",
       "</style>\n",
       "<table border=\"1\" class=\"dataframe\">\n",
       "  <thead>\n",
       "    <tr style=\"text-align: right;\">\n",
       "      <th></th>\n",
       "      <th>speech_id</th>\n",
       "      <th>date</th>\n",
       "      <th>word_count</th>\n",
       "      <th>Party</th>\n",
       "      <th>Congress</th>\n",
       "      <th>Chamber</th>\n",
       "      <th>State</th>\n",
       "      <th>Ethnicity</th>\n",
       "      <th>Age</th>\n",
       "      <th>Female</th>\n",
       "      <th>Full Name</th>\n",
       "      <th>pred_probs_mlp_ngram</th>\n",
       "      <th>pred_probs_cnn</th>\n",
       "      <th>pred_probs_cnn_chunk</th>\n",
       "      <th>pred_probs_combo</th>\n",
       "      <th>Prim_Topic</th>\n",
       "      <th>Prim_Topic_Contrib</th>\n",
       "      <th>Sec_Topic</th>\n",
       "      <th>Sec_Topic_Contrib</th>\n",
       "    </tr>\n",
       "  </thead>\n",
       "  <tbody>\n",
       "    <tr>\n",
       "      <th>5963</th>\n",
       "      <td>1130072118</td>\n",
       "      <td>20140128</td>\n",
       "      <td>2216</td>\n",
       "      <td>D</td>\n",
       "      <td>113</td>\n",
       "      <td>S</td>\n",
       "      <td>LA</td>\n",
       "      <td>W</td>\n",
       "      <td>59.0</td>\n",
       "      <td>1.0</td>\n",
       "      <td>LANDRIEU, MARY</td>\n",
       "      <td>0.085131</td>\n",
       "      <td>0.351605</td>\n",
       "      <td>0.721960</td>\n",
       "      <td>0.386232</td>\n",
       "      <td>26.0</td>\n",
       "      <td>0.37</td>\n",
       "      <td>4.0</td>\n",
       "      <td>0.25</td>\n",
       "    </tr>\n",
       "    <tr>\n",
       "      <th>54520</th>\n",
       "      <td>1010000589</td>\n",
       "      <td>19890104</td>\n",
       "      <td>469</td>\n",
       "      <td>D</td>\n",
       "      <td>101</td>\n",
       "      <td>H</td>\n",
       "      <td>CO</td>\n",
       "      <td>W</td>\n",
       "      <td>50.0</td>\n",
       "      <td>1.0</td>\n",
       "      <td>SCHROEDER, PATRICIA</td>\n",
       "      <td>0.282990</td>\n",
       "      <td>0.070581</td>\n",
       "      <td>0.702879</td>\n",
       "      <td>0.352150</td>\n",
       "      <td>16.0</td>\n",
       "      <td>0.28</td>\n",
       "      <td>12.0</td>\n",
       "      <td>0.19</td>\n",
       "    </tr>\n",
       "    <tr>\n",
       "      <th>5170</th>\n",
       "      <td>1110027387</td>\n",
       "      <td>20090331</td>\n",
       "      <td>135</td>\n",
       "      <td>D</td>\n",
       "      <td>111</td>\n",
       "      <td>S</td>\n",
       "      <td>CA</td>\n",
       "      <td>W</td>\n",
       "      <td>70.0</td>\n",
       "      <td>1.0</td>\n",
       "      <td>BOXER, BARBARA</td>\n",
       "      <td>0.343809</td>\n",
       "      <td>0.151904</td>\n",
       "      <td>0.673026</td>\n",
       "      <td>0.389580</td>\n",
       "      <td>26.0</td>\n",
       "      <td>0.41</td>\n",
       "      <td>29.0</td>\n",
       "      <td>0.24</td>\n",
       "    </tr>\n",
       "    <tr>\n",
       "      <th>8251</th>\n",
       "      <td>1050162903</td>\n",
       "      <td>19980714</td>\n",
       "      <td>138</td>\n",
       "      <td>R</td>\n",
       "      <td>105</td>\n",
       "      <td>S</td>\n",
       "      <td>ME</td>\n",
       "      <td>W</td>\n",
       "      <td>46.0</td>\n",
       "      <td>1.0</td>\n",
       "      <td>COLLINS, SUSAN</td>\n",
       "      <td>0.107566</td>\n",
       "      <td>0.381718</td>\n",
       "      <td>0.668789</td>\n",
       "      <td>0.386025</td>\n",
       "      <td>26.0</td>\n",
       "      <td>0.33</td>\n",
       "      <td>16.0</td>\n",
       "      <td>0.13</td>\n",
       "    </tr>\n",
       "    <tr>\n",
       "      <th>48138</th>\n",
       "      <td>1120065341</td>\n",
       "      <td>20111026</td>\n",
       "      <td>261</td>\n",
       "      <td>D</td>\n",
       "      <td>112</td>\n",
       "      <td>H</td>\n",
       "      <td>NY</td>\n",
       "      <td>W</td>\n",
       "      <td>66.0</td>\n",
       "      <td>1.0</td>\n",
       "      <td>MALONEY, CAROLYN</td>\n",
       "      <td>0.210182</td>\n",
       "      <td>0.235483</td>\n",
       "      <td>0.639819</td>\n",
       "      <td>0.361828</td>\n",
       "      <td>15.0</td>\n",
       "      <td>0.33</td>\n",
       "      <td>16.0</td>\n",
       "      <td>0.21</td>\n",
       "    </tr>\n",
       "  </tbody>\n",
       "</table>\n",
       "</div>"
      ],
      "text/plain": [
       "        speech_id      date  word_count Party  Congress Chamber State  \\\n",
       "5963   1130072118  20140128        2216     D       113       S    LA   \n",
       "54520  1010000589  19890104         469     D       101       H    CO   \n",
       "5170   1110027387  20090331         135     D       111       S    CA   \n",
       "8251   1050162903  19980714         138     R       105       S    ME   \n",
       "48138  1120065341  20111026         261     D       112       H    NY   \n",
       "\n",
       "      Ethnicity   Age  Female            Full Name  pred_probs_mlp_ngram  \\\n",
       "5963          W  59.0     1.0       LANDRIEU, MARY              0.085131   \n",
       "54520         W  50.0     1.0  SCHROEDER, PATRICIA              0.282990   \n",
       "5170          W  70.0     1.0       BOXER, BARBARA              0.343809   \n",
       "8251          W  46.0     1.0       COLLINS, SUSAN              0.107566   \n",
       "48138         W  66.0     1.0     MALONEY, CAROLYN              0.210182   \n",
       "\n",
       "       pred_probs_cnn  pred_probs_cnn_chunk  pred_probs_combo  Prim_Topic  \\\n",
       "5963         0.351605              0.721960          0.386232        26.0   \n",
       "54520        0.070581              0.702879          0.352150        16.0   \n",
       "5170         0.151904              0.673026          0.389580        26.0   \n",
       "8251         0.381718              0.668789          0.386025        26.0   \n",
       "48138        0.235483              0.639819          0.361828        15.0   \n",
       "\n",
       "       Prim_Topic_Contrib  Sec_Topic  Sec_Topic_Contrib  \n",
       "5963                 0.37        4.0               0.25  \n",
       "54520                0.28       12.0               0.19  \n",
       "5170                 0.41       29.0               0.24  \n",
       "8251                 0.33       16.0               0.13  \n",
       "48138                0.33       16.0               0.21  "
      ]
     },
     "execution_count": 148,
     "metadata": {},
     "output_type": "execute_result"
    }
   ],
   "source": [
    "topic_pred_df[keep_cols][(topic_pred_df.pred_probs_combo<0.4) & (topic_pred_df.Female==1)].sort_values(by='pred_probs_cnn_chunk', ascending=False).head(5)"
   ]
  },
  {
   "cell_type": "code",
   "execution_count": 149,
   "metadata": {},
   "outputs": [
    {
     "data": {
      "text/plain": [
       "'Mr. President. there is no national energy tax proposal. Nobody I know has ever proposed it. If the purpose of this amendment is to fight a national energy tax proposal. then it is very interesting because there is no such proposal. The fact is. we have a capandtrade system in place for acid rain. I never heard one Republican come to the floor and call that a tax. It is not a tax. My friend is very concerned that energy prices will go up. I share his concern. He should vote for my amendment. As a matter of fact. I think it would be stunning if my friend didnt because I said any kind of a capandtrade system that comes forward will not increase electricity or gas prices or increase the overall burden on consumers.'"
      ]
     },
     "execution_count": 149,
     "metadata": {},
     "output_type": "execute_result"
    }
   ],
   "source": [
    "val_list[val_ids.index('1110027387')]"
   ]
  },
  {
   "cell_type": "code",
   "execution_count": null,
   "metadata": {},
   "outputs": [],
   "source": []
  }
 ],
 "metadata": {
  "kernelspec": {
   "display_name": "Python 3",
   "language": "python",
   "name": "python3"
  },
  "language_info": {
   "codemirror_mode": {
    "name": "ipython",
    "version": 3
   },
   "file_extension": ".py",
   "mimetype": "text/x-python",
   "name": "python",
   "nbconvert_exporter": "python",
   "pygments_lexer": "ipython3",
   "version": "3.5.2"
  }
 },
 "nbformat": 4,
 "nbformat_minor": 2
}
