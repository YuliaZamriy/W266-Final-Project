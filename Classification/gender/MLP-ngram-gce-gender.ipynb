{
 "cells": [
  {
   "cell_type": "code",
   "execution_count": 1,
   "metadata": {},
   "outputs": [
    {
     "data": {
      "text/plain": [
       "2"
      ]
     },
     "execution_count": 1,
     "metadata": {},
     "output_type": "execute_result"
    }
   ],
   "source": [
    "1+1"
   ]
  },
  {
   "cell_type": "code",
   "execution_count": 2,
   "metadata": {},
   "outputs": [
    {
     "data": {
      "text/html": [
       "<style>.container { width:100% !important; }</style>"
      ],
      "text/plain": [
       "<IPython.core.display.HTML object>"
      ]
     },
     "metadata": {},
     "output_type": "display_data"
    }
   ],
   "source": [
    "# increase cell width\n",
    "from IPython.core.display import display, HTML\n",
    "display(HTML(\"<style>.container { width:100% !important; }</style>\"))"
   ]
  },
  {
   "cell_type": "markdown",
   "metadata": {},
   "source": [
    "Inspiration for code:\n",
    "\n",
    "- https://developers.google.com/machine-learning/guides/text-classification/\n",
    "- https://github.com/google/eng-edu/blob/master/ml/guides/text_classification/load_data.py"
   ]
  },
  {
   "cell_type": "code",
   "execution_count": 3,
   "metadata": {},
   "outputs": [],
   "source": [
    "from __future__ import absolute_import\n",
    "from __future__ import division\n",
    "from __future__ import print_function\n",
    "\n",
    "import os\n",
    "import random\n",
    "import time\n",
    "import pickle\n",
    "\n",
    "import numpy as np\n",
    "import pandas as pd\n",
    "\n",
    "from importlib import reload\n",
    "\n",
    "import scipy.sparse"
   ]
  },
  {
   "cell_type": "code",
   "execution_count": 4,
   "metadata": {},
   "outputs": [
    {
     "name": "stderr",
     "output_type": "stream",
     "text": [
      "/home/yulia/anaconda3/lib/python3.6/site-packages/h5py/__init__.py:36: FutureWarning: Conversion of the second argument of issubdtype from `float` to `np.floating` is deprecated. In future, it will be treated as `np.float64 == np.dtype(float).type`.\n",
      "  from ._conv import register_converters as _register_converters\n"
     ]
    }
   ],
   "source": [
    "from helpers import load_data\n",
    "from helpers import explore_data\n",
    "from helpers import preprocess_data"
   ]
  },
  {
   "cell_type": "markdown",
   "metadata": {},
   "source": [
    "## Load the data"
   ]
  },
  {
   "cell_type": "code",
   "execution_count": 10,
   "metadata": {},
   "outputs": [
    {
     "data": {
      "text/plain": [
       "'/home/yulia/final-project/Classification'"
      ]
     },
     "execution_count": 10,
     "metadata": {},
     "output_type": "execute_result"
    }
   ],
   "source": [
    "pwd"
   ]
  },
  {
   "cell_type": "code",
   "execution_count": 4,
   "metadata": {},
   "outputs": [],
   "source": [
    "data_path = '/home/yulia/final-project/data/raw/hein-daily'"
   ]
  },
  {
   "cell_type": "code",
   "execution_count": 5,
   "metadata": {},
   "outputs": [
    {
     "name": "stdout",
     "output_type": "stream",
     "text": [
      "\n",
      "File speeches_097.txt has 249718612 characters\n",
      "and 283399 speeches\n",
      "\n",
      "Speeches list has 283399 speeches\n",
      "\n",
      "File speeches_098.txt has 252071246 characters\n",
      "and 280289 speeches\n",
      "\n",
      "Speeches list has 563688 speeches\n",
      "\n",
      "File speeches_099.txt has 265326480 characters\n",
      "and 281528 speeches\n",
      "\n",
      "Speeches list has 845216 speeches\n",
      "\n",
      "File speeches_100.txt has 270610780 characters\n",
      "and 276162 speeches\n",
      "\n",
      "Speeches list has 1121378 speeches\n",
      "\n",
      "File speeches_101.txt has 261004871 characters\n",
      "and 251217 speeches\n",
      "\n",
      "Speeches list has 1372595 speeches\n",
      "\n",
      "File speeches_102.txt has 271650630 characters\n",
      "and 243092 speeches\n",
      "\n",
      "Speeches list has 1615687 speeches\n",
      "\n",
      "File speeches_103.txt has 249908822 characters\n",
      "and 235974 speeches\n",
      "\n",
      "Speeches list has 1851661 speeches\n",
      "\n",
      "File speeches_104.txt has 280355367 characters\n",
      "and 274985 speeches\n",
      "\n",
      "Speeches list has 2126646 speeches\n",
      "\n",
      "File speeches_105.txt has 235226903 characters\n",
      "and 209267 speeches\n",
      "\n",
      "Speeches list has 2335913 speeches\n",
      "\n",
      "File speeches_106.txt has 243801385 characters\n",
      "and 209648 speeches\n",
      "\n",
      "Speeches list has 2545561 speeches\n",
      "\n",
      "File speeches_107.txt has 214724318 characters\n",
      "and 180726 speeches\n",
      "\n",
      "Speeches list has 2726287 speeches\n",
      "\n",
      "File speeches_108.txt has 237009565 characters\n",
      "and 200159 speeches\n",
      "\n",
      "Speeches list has 2926446 speeches\n",
      "\n",
      "File speeches_109.txt has 226698889 characters\n",
      "and 187647 speeches\n",
      "\n",
      "Speeches list has 3114093 speeches\n",
      "\n",
      "File speeches_110.txt has 242773059 characters\n",
      "and 211367 speeches\n",
      "\n",
      "Speeches list has 3325460 speeches\n",
      "\n",
      "File speeches_111.txt has 183499959 characters\n",
      "and 154400 speeches\n",
      "\n",
      "Speeches list has 3479860 speeches\n",
      "\n",
      "File speeches_112.txt has 174117603 characters\n",
      "and 145901 speeches\n",
      "\n",
      "Speeches list has 3625761 speeches\n",
      "\n",
      "File speeches_113.txt has 153424011 characters\n",
      "and 128149 speeches\n",
      "\n",
      "Speeches list has 3753910 speeches\n",
      "\n",
      "File speeches_114.txt has 130969173 characters\n",
      "and 112291 speeches\n",
      "\n",
      "Speeches list has 3866201 speeches\n"
     ]
    }
   ],
   "source": [
    "reload(load_data)\n",
    "all_speech_ids, all_speeches = load_data.load_speech_data(data_path)"
   ]
  },
  {
   "cell_type": "code",
   "execution_count": 6,
   "metadata": {},
   "outputs": [
    {
     "data": {
      "text/plain": [
       "(3866201, 3866201)"
      ]
     },
     "execution_count": 6,
     "metadata": {},
     "output_type": "execute_result"
    }
   ],
   "source": [
    "len(all_speech_ids), len(all_speeches)"
   ]
  },
  {
   "cell_type": "markdown",
   "metadata": {},
   "source": [
    "## Create target labels"
   ]
  },
  {
   "cell_type": "code",
   "execution_count": 5,
   "metadata": {},
   "outputs": [],
   "source": [
    "# OPEN descr FROM A SAVED FILE (if it was previously saved)\n",
    "outdata_path = '/home/yulia/final-project/Classification/data'\n",
    "descr = pickle.load(open(os.path.join(outdata_path, 'descr.p'), 'rb'))"
   ]
  },
  {
   "cell_type": "code",
   "execution_count": 6,
   "metadata": {},
   "outputs": [
    {
     "data": {
      "text/plain": [
       "865714"
      ]
     },
     "execution_count": 6,
     "metadata": {},
     "output_type": "execute_result"
    }
   ],
   "source": [
    "len(descr)"
   ]
  },
  {
   "cell_type": "code",
   "execution_count": 7,
   "metadata": {},
   "outputs": [
    {
     "name": "stdout",
     "output_type": "stream",
     "text": [
      "2914465 lines have been read\n",
      "37617 keys had duplicates and deleted\n",
      "The dictionary has 2808050 keys\n",
      "\n",
      "Random congressperson: 1090182100\n",
      "date 20061114\n",
      "char_count 278\n",
      "word_count 49\n",
      "speakerid 109112991.0\n",
      "Party R\n",
      "Congress 109\n",
      "Chamber S\n",
      "State TN\n",
      "Ethnicity W\n",
      "Age 54.0\n",
      "Age_lt_med 1.0\n",
      "NonWhite 0.0\n",
      "Female 0.0\n",
      "speaker Mr. FRIST\n",
      "Full Name FRIST, WILLIAM\n",
      "match exact\n",
      "check 1\n",
      "\n",
      "It took 23.1 seconds to create the dictionary\n"
     ]
    }
   ],
   "source": [
    "reload(load_data)\n",
    "start_time = time.time()\n",
    "# taking a 30% sample of the full description file\n",
    "descr = load_data.load_descr_data('/home/yulia/final-project/data/QA/full_descr.txt')\n",
    "print(\"\\nIt took {0:.1f} seconds to create the dictionary\".format(time.time()-start_time))"
   ]
  },
  {
   "cell_type": "code",
   "execution_count": 8,
   "metadata": {},
   "outputs": [
    {
     "data": {
      "text/plain": [
       "0.9634876258550458"
      ]
     },
     "execution_count": 8,
     "metadata": {},
     "output_type": "execute_result"
    }
   ],
   "source": [
    "# check if sampling worked\n",
    "len(list(descr.keys()))/2914464"
   ]
  },
  {
   "cell_type": "code",
   "execution_count": null,
   "metadata": {},
   "outputs": [],
   "source": [
    "gender = load_data.create_target_labels(all_speech_ids, descr)[0]\n",
    "len(gender)"
   ]
  },
  {
   "cell_type": "markdown",
   "metadata": {},
   "source": [
    "### Save descr dictionary"
   ]
  },
  {
   "cell_type": "code",
   "execution_count": 10,
   "metadata": {},
   "outputs": [],
   "source": [
    "pickle.dump(descr, open(os.path.join(outdata_path, 'descr.p'), 'wb'))"
   ]
  },
  {
   "cell_type": "markdown",
   "metadata": {},
   "source": [
    "### Data QA"
   ]
  },
  {
   "cell_type": "code",
   "execution_count": 11,
   "metadata": {},
   "outputs": [
    {
     "data": {
      "text/html": [
       "<div>\n",
       "<style scoped>\n",
       "    .dataframe tbody tr th:only-of-type {\n",
       "        vertical-align: middle;\n",
       "    }\n",
       "\n",
       "    .dataframe tbody tr th {\n",
       "        vertical-align: top;\n",
       "    }\n",
       "\n",
       "    .dataframe thead th {\n",
       "        text-align: right;\n",
       "    }\n",
       "</style>\n",
       "<table border=\"1\" class=\"dataframe\">\n",
       "  <thead>\n",
       "    <tr style=\"text-align: right;\">\n",
       "      <th></th>\n",
       "      <th>Category</th>\n",
       "      <th>Count</th>\n",
       "    </tr>\n",
       "  </thead>\n",
       "  <tbody>\n",
       "    <tr>\n",
       "      <th>0</th>\n",
       "      <td>-1</td>\n",
       "      <td>1058151</td>\n",
       "    </tr>\n",
       "    <tr>\n",
       "      <th>1</th>\n",
       "      <td>0</td>\n",
       "      <td>2579578</td>\n",
       "    </tr>\n",
       "    <tr>\n",
       "      <th>2</th>\n",
       "      <td>1</td>\n",
       "      <td>228472</td>\n",
       "    </tr>\n",
       "  </tbody>\n",
       "</table>\n",
       "</div>"
      ],
      "text/plain": [
       "<IPython.core.display.HTML object>"
      ]
     },
     "metadata": {},
     "output_type": "display_data"
    }
   ],
   "source": [
    "explore_data.get_counts(gender)"
   ]
  },
  {
   "cell_type": "code",
   "execution_count": 12,
   "metadata": {},
   "outputs": [
    {
     "name": "stdout",
     "output_type": "stream",
     "text": [
      "Speaker information\n",
      "date 19900910\n",
      "char_count 3680\n",
      "word_count 553\n",
      "speakerid 101121080.0\n",
      "Party R\n",
      "Congress 101\n",
      "Chamber H\n",
      "State FL\n",
      "Ethnicity H\n",
      "Age 38.0\n",
      "Age_lt_med 1.0\n",
      "NonWhite 1.0\n",
      "Female 1.0\n",
      "speaker Ms. ROS-LEHTINEN\n",
      "Full Name ROS-LEHTINEN, ILEANA\n",
      "match fuzzy\n",
      "check 1\n",
      "\n",
      "Mr. Speaker. I would like to bring to your attention the many accomplishments of the Miami Job Corps Center. which is a federally funded program contracted by RESCARE. Inc.. in Louisville. KY. Rated among the top ten Job Corps Centers in the country. the Miami Job Corps Center helps young people to overcome various problems they have experienced in their personal lives and become productive and selfsufficient citizens. The success of the Miami Job Corps is largely owed to the excellent leadership and guidance provided by Mr. Don E. DeJarnett. Mr. DeJarnett came to Miami approximately 7 years ago from Kentucky. where he was the deputy center director at the Whitney M. Young Job Corps Program. for 19 years. From his earlier position of welding instructor. Mr. DeJarnett has elevated himself to the post of director of the Miami Job Corps. The Miami Job Corps makes the dreams of such program students as Mario Hair become a reality. Mr. Hair was recently notified that he had won two firstplace National Awards in the arts and craft competition this year. Two first place trophies and a check for $600 were awarded to Mr. Hair upon his trip to Washington. DC. where the awards were presented. This achievement is one that Mr. Hair can be very proud of. as well as the Centers staff and students. The Centers Culinary Arts Program also had much to celebrate when they were placed second in the annual Region IV Food Fair competition in Jacksonville. FL. Hyacinth Welsh. instructor. Dominick Aira. manager of training and the students competed against 22 other Job Corps Centers in the region competition. The Culinary Arts Programs teamwork and dedication brought the second place trophy in the Food Preparation Program home to the Miami Job Corps Center. This is just one of the many achievements the Center has experienced since its inception. Linkages have been established to improve the Centers total operation with the following organizations: Dade County Public School System. Foster Care Program (HRS]. Project Independence Program [HRS]. Boy Scouts of America \"BSA Charter.\" National Association for Hispanic Elderly. Florida Memorial College. MiamiDade Community College [North Campus]. Metro Dade Correctional Authorities. Juvenile Justice Center. Dade Schools Adult Evening . Educational Program. U.S. Military. Goodwill Industries. U.S.D.A. Free Food Donation Program. Miami Coalition for care to the. Homeless. Senior Citizens Association ofE 2763 : Miami. Florida. Juvenile Day Treatment Program and Private Industry Council. For all their hard work and strong dedication to helping our young people and the community at large. I extend my deepest thanks to the following: Don E. DeJarnett. center director. Larry Lunsford. manager residential living. Kennedy Williams. center standards officer. Dominick Aira. manager of training. Sonja Lester. coordinator maximum benefits. Joseph Akoni. manager personnel/finance- Shirley Brayon. coordinator health services. J.P. MarcCharles. manager support services. Yenda Williams. personnel specialist. Vickie Sutton. purchasing agent. Susie Williams. comptroller assistant. Silvia Perez. secretary support services. Manny Santana. H.B.I. supervisor Yimian Abreu. center recruiter Gloria Chaparro. placement specialist. Flor Rodriguez. orientation counselor. Rosa Pache. property/warehouse officer. Dino Torres. driver/warehouse atterndant. Gloria Hernandez. executive secretary. and. Joana Tapia. secretary training. It is my sincere hope that the Miami Job Corps Center continues their superb job in educating our young people. both in terms of academics. and in matters of adult responsibility and life in general.\n"
     ]
    }
   ],
   "source": [
    "reload(explore_data)\n",
    "explore_data.random_speech(all_speeches, all_speech_ids, gender, descr)"
   ]
  },
  {
   "cell_type": "markdown",
   "metadata": {},
   "source": [
    "# Gender Model"
   ]
  },
  {
   "cell_type": "markdown",
   "metadata": {},
   "source": [
    "## Split into train, validate, test"
   ]
  },
  {
   "cell_type": "code",
   "execution_count": 13,
   "metadata": {},
   "outputs": [
    {
     "name": "stdout",
     "output_type": "stream",
     "text": [
      "Training split: 94074 ones and 94074 zeroes\n",
      "Training speech list size: 188148\n",
      "Training target list size: 188148\n",
      "Validation split: 31358 ones and 31358 zeroes\n",
      "Validation speech list size: 62716\n",
      "Validation target list size: 62716\n",
      "Test split: 31358 ones and 31358 zeroes\n",
      "Test speech list size: 62716\n",
      "Test target list size: 62716\n"
     ]
    }
   ],
   "source": [
    "reload(preprocess_data)\n",
    "train, train_ids, train_target, val, val_ids, val_target, test, test_ids, test_target = preprocess_data.split_train_val_test(all_speeches, all_speech_ids, gender, descr)"
   ]
  },
  {
   "cell_type": "code",
   "execution_count": 14,
   "metadata": {},
   "outputs": [
    {
     "data": {
      "text/plain": [
       "(94074, 31358, 31358)"
      ]
     },
     "execution_count": 14,
     "metadata": {},
     "output_type": "execute_result"
    }
   ],
   "source": [
    "sum(train_target), sum(val_target), sum(test_target)"
   ]
  },
  {
   "cell_type": "code",
   "execution_count": 15,
   "metadata": {},
   "outputs": [
    {
     "data": {
      "text/plain": [
       "71682"
      ]
     },
     "execution_count": 15,
     "metadata": {},
     "output_type": "execute_result"
    }
   ],
   "source": [
    "# number of speeches under 30 words\n",
    "sum(np.array(gender)==1) - (sum(train_target) + sum(val_target) + sum(test_target))"
   ]
  },
  {
   "cell_type": "code",
   "execution_count": 16,
   "metadata": {},
   "outputs": [
    {
     "name": "stdout",
     "output_type": "stream",
     "text": [
      "Speaker information\n",
      "date 19930727\n",
      "char_count 3065\n",
      "word_count 544\n",
      "speakerid 103120621.0\n",
      "Party D\n",
      "Congress 103\n",
      "Chamber S\n",
      "State WA\n",
      "Ethnicity W\n",
      "Age 44.0\n",
      "Age_lt_med 1.0\n",
      "NonWhite 0.0\n",
      "Female 1.0\n",
      "speaker Mrs. MURRAY\n",
      "Full Name MURRAY, PATTY\n",
      "match exact\n",
      "check 1\n",
      "\n",
      "Thank you. Mr. President. I thank my colleague for yielding me time. I thank him also for his words on this issue. He is exactly right. This is an issue of home rule. I urge my colleagues to support the committee amendment. to vote yes on this amendment. to do as the committee wisely did and to remain silent on the District of Columbias 1992 Health Care Benefits Expansion Act. A vote yes will say that this Senate will remain silent on that issue. The District of Columbia debated the issue on its own. They decided how their own funds would be spent. and this Senate has to make sure that we do not have 100 mayors of the District of Columbia but. rather. allow them to use their funds as they see fit. I think it is very important for all of us to understand that this issue affects a far greater population than often is debated on this floor. In fact. the District of Columbias 1992 Health Care Benefits Expansion Act. which would be effectively eliminated if we voted no on this issue. helps women. It helps women who are heads of families. who make up the majority of families in the District and in this Nation. It will help women who take care of extended families in the District in the AfricanAmerican. Latino and AsianAmerican communities. The District Health Care Benefits Act helps seniors--for two widows who live together and care for each other. That is why that law was put into effect. Otherwise. one of those widows may end up in a nursing home costing all of us because there is no one to care for them. Two elderly sisters. a brother and a sister are helped by this act. caring for each other. Is that not why all of us are here. so that we can allow families to stay at home and live independently and care for each other. That is what the District of Columbias 1992 Health Care Benefits Expansion Act was all about and why we as a Senate should remain silent on this issue. In fact. when the D.C. legislation was passed. it was supported by a number of groups: The District Gray Panthers. the National Council of Senior Citizens. the District Womens Legal Defense Fund. AFLCIO Metropolitan Washington Council. District of Columbia Nurses Association. District Bar Section on Criminal Law and Individual Rights. Concerned Clergy of Washington. DC. the Washington offices of the Presbyterian Church. United Methodist Church. United Church of Christ. the Christian Church. Church Women United. Friends Committee on National Legislation. Union of American Hebrew Congregations. and many others. This issue was debated fully by the D.C. Council and approved by them. and we cannot act as overseers of the decisions made on the D.C. Council and take away their home rule. But even more importantly. we have to rememTES 9503 ber that this issue goes right to the heart of what many senior citizens and women are living with today. being able to care for the people they love without being hurt by laws in the United States. I urge my colleagues to vote yes and to be silent on this issue In the D.C. appropriations legislation. I thank the Chair.\n"
     ]
    }
   ],
   "source": [
    "# random speech from a train set where gender=1\n",
    "explore_data.random_speech(train, train_ids, train_target, descr)"
   ]
  },
  {
   "cell_type": "markdown",
   "metadata": {},
   "source": [
    "#### Cleanup"
   ]
  },
  {
   "cell_type": "code",
   "execution_count": 18,
   "metadata": {},
   "outputs": [],
   "source": [
    "del all_speech_ids, all_speeches, gender"
   ]
  },
  {
   "cell_type": "markdown",
   "metadata": {},
   "source": [
    "## EDA on train data"
   ]
  },
  {
   "cell_type": "markdown",
   "metadata": {},
   "source": [
    "Source: https://developers.google.com/machine-learning/guides/text-classification/step-2"
   ]
  },
  {
   "cell_type": "markdown",
   "metadata": {},
   "source": [
    "### Check median number of words per sample in train/val/test"
   ]
  },
  {
   "cell_type": "code",
   "execution_count": 27,
   "metadata": {},
   "outputs": [
    {
     "data": {
      "text/plain": [
       "<module 'helpers.explore_data' from '/home/yulia/final-project/Classification/helpers/explore_data.py'>"
      ]
     },
     "execution_count": 27,
     "metadata": {},
     "output_type": "execute_result"
    }
   ],
   "source": [
    "reload(explore_data)"
   ]
  },
  {
   "cell_type": "code",
   "execution_count": 21,
   "metadata": {},
   "outputs": [
    {
     "data": {
      "text/plain": [
       "249.0"
      ]
     },
     "execution_count": 21,
     "metadata": {},
     "output_type": "execute_result"
    }
   ],
   "source": [
    "explore_data.get_num_words_per_sample(train)"
   ]
  },
  {
   "cell_type": "code",
   "execution_count": 22,
   "metadata": {},
   "outputs": [
    {
     "data": {
      "text/plain": [
       "248.0"
      ]
     },
     "execution_count": 22,
     "metadata": {},
     "output_type": "execute_result"
    }
   ],
   "source": [
    "explore_data.get_num_words_per_sample(val)"
   ]
  },
  {
   "cell_type": "code",
   "execution_count": 23,
   "metadata": {},
   "outputs": [
    {
     "data": {
      "text/plain": [
       "247.0"
      ]
     },
     "execution_count": 23,
     "metadata": {},
     "output_type": "execute_result"
    }
   ],
   "source": [
    "explore_data.get_num_words_per_sample(test)"
   ]
  },
  {
   "cell_type": "code",
   "execution_count": 24,
   "metadata": {},
   "outputs": [
    {
     "data": {
      "image/png": "[encoded data removed]",
      "text/plain": [
       "<Figure size 1440x720 with 1 Axes>"
      ]
     },
     "metadata": {},
     "output_type": "display_data"
    }
   ],
   "source": [
    "explore_data.plot_sample_length_distribution(train)"
   ]
  },
  {
   "cell_type": "markdown",
   "metadata": {},
   "source": [
    "### Most popular unigrams (training only)"
   ]
  },
  {
   "cell_type": "code",
   "execution_count": 22,
   "metadata": {},
   "outputs": [
    {
     "data": {
      "text/plain": [
       "11561"
      ]
     },
     "execution_count": 22,
     "metadata": {},
     "output_type": "execute_result"
    }
   ],
   "source": [
    "# take a sample to avoid running out of memory\n",
    "train_sample = random.sample(train, int(len(train)*0.2))\n",
    "len(train_sample)"
   ]
  },
  {
   "cell_type": "code",
   "execution_count": 23,
   "metadata": {},
   "outputs": [
    {
     "name": "stdout",
     "output_type": "stream",
     "text": [
      "['the', 'to', 'of', 'and', 'in', 'that', 'is', 'for', 'this', 'we', 'it', 'on', 'have', 'are', 'as', 'not', 'be', 'our', 'with', 'will', 'from', 'by', 'they', 'has', 'mr', 'was', 'would', 'my', 'their', 'an', 'bill', 'at', 'who', 'but', 'he', 'all', 'or', 'his', 'do', 'people', 'president', 'which', 'been', 'these', 'about', 'there', 'what', 'so', 'you', 'more']\n"
     ]
    },
    {
     "data": {
      "image/png": "[encoded data removed]",
      "text/plain": [
       "<Figure size 1440x720 with 1 Axes>"
      ]
     },
     "metadata": {},
     "output_type": "display_data"
    }
   ],
   "source": [
    "explore_data.plot_frequency_distribution_of_ngrams(train_sample, ngram_range=(1,1))"
   ]
  },
  {
   "cell_type": "markdown",
   "metadata": {},
   "source": [
    "### Most popular bigrams (training only)"
   ]
  },
  {
   "cell_type": "code",
   "execution_count": 24,
   "metadata": {},
   "outputs": [
    {
     "name": "stdout",
     "output_type": "stream",
     "text": [
      "['of the', 'in the', 'to the', 'it is', 'and the', 'on the', 'for the', 'that the', 'mr speaker', 'to be', 'we have', 'we are', 'that is', 'that we', 'by the', 'with the', 'of this', 'in this', 'united states', 'the united', 'is the', 'this bill', 'mr president', 'going to', 'at the', 'this is', 'want to', 'will be', 'of our', 'from the', 'has been', 'is not', 'my colleagues', 'have been', 'the senate', 'they are', 'the bill', 'the gentleman', 'do not', 'there is', 'to do', 'the house', 'one of', 'as the', 'the american', 'would be', 'to make', 'have to', 'the president', 'we can']\n"
     ]
    },
    {
     "data": {
      "image/png": "[encoded data removed]",
      "text/plain": [
       "<Figure size 1440x720 with 1 Axes>"
      ]
     },
     "metadata": {},
     "output_type": "display_data"
    }
   ],
   "source": [
    "explore_data.plot_frequency_distribution_of_ngrams(train_sample, ngram_range=(2,2))"
   ]
  },
  {
   "cell_type": "markdown",
   "metadata": {},
   "source": [
    "### Most popular trigrams (training only)"
   ]
  },
  {
   "cell_type": "markdown",
   "metadata": {},
   "source": [
    "#### Run this only on small samples"
   ]
  },
  {
   "cell_type": "code",
   "execution_count": 25,
   "metadata": {},
   "outputs": [
    {
     "name": "stdout",
     "output_type": "stream",
     "text": [
      "['the united states', 'the gentleman from', 'one of the', 'are going to', 'my colleagues to', 'would like to', 'the american people', 'the senator from', 'be able to', 'the department of', 'we need to', 'of the united', 'mr speaker rise', 'as well as', 'the federal government', 'urge my colleagues', 'member of the', 'we are going', 'in the united', 'is going to', 'it is not', 'that we have', 'rise today to', 'chairman of the', 'in this country', 'in order to', 'that we are', 'ask unanimous consent', 'in support of', 'there is no', 'the committee on', 'going to be', 'part of the', 'some of the', 'percent of the', 'men and women', 'speaker rise today', 'the fact that', 'the people of', 'we do not', 'the state of', 'thank the gentleman', 'we have to', 'members of the', 'and that is', 'of the senate', 'unanimous consent that', 'of the house', 'and it is', 'that is the']\n"
     ]
    },
    {
     "data": {
      "image/png": "[encoded data removed]",
      "text/plain": [
       "<Figure size 1440x720 with 1 Axes>"
      ]
     },
     "metadata": {},
     "output_type": "display_data"
    }
   ],
   "source": [
    "explore_data.plot_frequency_distribution_of_ngrams(train_sample, ngram_range=(3,3))"
   ]
  },
  {
   "cell_type": "code",
   "execution_count": 27,
   "metadata": {},
   "outputs": [],
   "source": [
    "congress = set([str(i) for i in range(97,115)])"
   ]
  },
  {
   "cell_type": "code",
   "execution_count": 29,
   "metadata": {
    "scrolled": false
   },
   "outputs": [
    {
     "name": "stdout",
     "output_type": "stream",
     "text": [
      "\n",
      "For Congress 108 top 5 (3, 3) ngrams are:\n",
      "the united states\n",
      "the gentleman from\n",
      "are going to\n",
      "one of the\n",
      "my colleagues to\n",
      "--------------------\n",
      "\n",
      "For Congress 101 top 5 (3, 3) ngrams are:\n",
      "the united states\n",
      "the gentleman from\n",
      "would like to\n",
      "one of the\n",
      "the senator from\n",
      "--------------------\n",
      "\n",
      "For Congress 103 top 5 (3, 3) ngrams are:\n",
      "the united states\n",
      "the gentleman from\n",
      "are going to\n",
      "the senator from\n",
      "one of the\n",
      "--------------------\n",
      "\n",
      "For Congress 104 top 5 (3, 3) ngrams are:\n",
      "the united states\n",
      "the gentleman from\n",
      "are going to\n",
      "the american people\n",
      "would like to\n",
      "--------------------\n",
      "\n",
      "For Congress 98 top 5 (3, 3) ngrams are:\n",
      "the united states\n",
      "would like to\n",
      "the gentleman from\n",
      "the senator from\n",
      "one of the\n",
      "--------------------\n",
      "\n",
      "For Congress 102 top 5 (3, 3) ngrams are:\n",
      "the united states\n",
      "the gentleman from\n",
      "would like to\n",
      "one of the\n",
      "my colleagues to\n",
      "--------------------\n",
      "\n",
      "For Congress 112 top 5 (3, 3) ngrams are:\n",
      "the united states\n",
      "the american people\n",
      "my colleagues to\n",
      "we need to\n",
      "one of the\n",
      "--------------------\n",
      "\n",
      "For Congress 109 top 5 (3, 3) ngrams are:\n",
      "the united states\n",
      "the gentleman from\n",
      "are going to\n",
      "the american people\n",
      "one of the\n",
      "--------------------\n",
      "\n",
      "For Congress 97 top 5 (3, 3) ngrams are:\n",
      "the united states\n",
      "the senator from\n",
      "would like to\n",
      "the gentleman from\n",
      "one of the\n",
      "--------------------\n",
      "\n",
      "For Congress 105 top 5 (3, 3) ngrams are:\n",
      "the united states\n",
      "the gentleman from\n",
      "one of the\n",
      "would like to\n",
      "are going to\n",
      "--------------------\n",
      "\n",
      "For Congress 110 top 5 (3, 3) ngrams are:\n",
      "the united states\n",
      "the american people\n",
      "one of the\n",
      "my colleagues to\n",
      "are going to\n",
      "--------------------\n",
      "\n",
      "For Congress 113 top 5 (3, 3) ngrams are:\n",
      "the united states\n",
      "the american people\n",
      "one of the\n",
      "my colleagues to\n",
      "mr speaker rise\n",
      "--------------------\n",
      "\n",
      "For Congress 111 top 5 (3, 3) ngrams are:\n",
      "the united states\n",
      "the american people\n",
      "one of the\n",
      "are going to\n",
      "my colleagues to\n",
      "--------------------\n",
      "\n",
      "For Congress 114 top 5 (3, 3) ngrams are:\n",
      "the united states\n",
      "my colleagues to\n",
      "mr speaker rise\n",
      "the american people\n",
      "one of the\n",
      "--------------------\n",
      "\n",
      "For Congress 99 top 5 (3, 3) ngrams are:\n",
      "the united states\n",
      "the gentleman from\n",
      "would like to\n",
      "the senator from\n",
      "one of the\n",
      "--------------------\n",
      "\n",
      "For Congress 107 top 5 (3, 3) ngrams are:\n",
      "the united states\n",
      "the gentleman from\n",
      "one of the\n",
      "my colleagues to\n",
      "would like to\n",
      "--------------------\n",
      "\n",
      "For Congress 106 top 5 (3, 3) ngrams are:\n",
      "the united states\n",
      "the gentleman from\n",
      "one of the\n",
      "my colleagues to\n",
      "are going to\n",
      "--------------------\n",
      "\n",
      "For Congress 100 top 5 (3, 3) ngrams are:\n",
      "the united states\n",
      "the gentleman from\n",
      "would like to\n",
      "one of the\n",
      "the senator from\n",
      "--------------------\n"
     ]
    }
   ],
   "source": [
    "reload(explore_data)\n",
    "explore_data.ngrams_by_category(train, train_ids, descr, congress, 'Congress', p=0.3, top_n=5)"
   ]
  },
  {
   "cell_type": "markdown",
   "metadata": {},
   "source": [
    "## N-gram model"
   ]
  },
  {
   "cell_type": "markdown",
   "metadata": {},
   "source": [
    "Inspiration for code: https://developers.google.com/machine-learning/guides/text-classification/step-3"
   ]
  },
  {
   "cell_type": "markdown",
   "metadata": {},
   "source": [
    "### Pre-processing"
   ]
  },
  {
   "cell_type": "code",
   "execution_count": 31,
   "metadata": {},
   "outputs": [],
   "source": [
    "# Vectorization parameters\n",
    "# Range (inclusive) of n-gram sizes for tokenizing text.\n",
    "NGRAM_RANGE = (1, 2)\n",
    "\n",
    "# Minimum corpus frequency below which a token will be discarded.\n",
    "MIN_DOCUMENT_FREQUENCY = 5\n",
    "\n",
    "# Maximum proportion of corpus containing a word above which a token will be discarded.\n",
    "# Helps eliminate stop words\n",
    "MAX_DOCUMENT_FREQUENCY = 0.7\n",
    "\n",
    "# Limit on the number of features. We use the top 20K features.\n",
    "TOP_K = 10000\n",
    "\n",
    "# Output number of top/bottom scoring ngrams\n",
    "TOP_N = 5\n",
    "\n",
    "vec_params = {\n",
    "    'ngram_range': NGRAM_RANGE,\n",
    "    'min_df': MIN_DOCUMENT_FREQUENCY,\n",
    "    'max_df': MAX_DOCUMENT_FREQUENCY,\n",
    "    'top_k': TOP_K,\n",
    "    'top_n': TOP_N\n",
    "}"
   ]
  },
  {
   "cell_type": "code",
   "execution_count": 32,
   "metadata": {},
   "outputs": [
    {
     "name": "stdout",
     "output_type": "stream",
     "text": [
      "Total vocabulary size: 981956\n",
      "Number of stop words 6743722\n",
      "\n",
      "Top 5 ngrams by differentiating score:\n",
      "mr president \t 6172.1\n",
      "women \t 4355.9\n",
      "president \t 3945.5\n",
      "rise \t 3786.8\n",
      "our \t 3697.8\n",
      "\n",
      "Bottom 5 ngrams by differentiating score:\n",
      "reported version \t 0.0\n",
      "conditions upon \t 0.0\n",
      "this premise \t 0.0\n",
      "has proved \t 0.0\n",
      "had risen \t 0.0\n"
     ]
    }
   ],
   "source": [
    "reload(preprocess_data)\n",
    "train_vec, val_vec, test_vec = preprocess_data.ngram_vectorize(train, train_target, val, test, **vec_params)"
   ]
  },
  {
   "cell_type": "code",
   "execution_count": 33,
   "metadata": {},
   "outputs": [
    {
     "data": {
      "text/plain": [
       "(188148, 62716, 62716)"
      ]
     },
     "execution_count": 33,
     "metadata": {},
     "output_type": "execute_result"
    }
   ],
   "source": [
    "len(train), len(val), len(test)"
   ]
  },
  {
   "cell_type": "code",
   "execution_count": 34,
   "metadata": {},
   "outputs": [
    {
     "data": {
      "text/plain": [
       "((188148, 10000), (62716, 10000), (62716, 10000))"
      ]
     },
     "execution_count": 34,
     "metadata": {},
     "output_type": "execute_result"
    }
   ],
   "source": [
    "train_vec.shape, val_vec.shape, test_vec.shape"
   ]
  },
  {
   "cell_type": "markdown",
   "metadata": {},
   "source": [
    "### Saving processed files"
   ]
  },
  {
   "cell_type": "code",
   "execution_count": 40,
   "metadata": {},
   "outputs": [
    {
     "data": {
      "text/plain": [
       "'/home/yulia/final-project/Classification'"
      ]
     },
     "execution_count": 40,
     "metadata": {},
     "output_type": "execute_result"
    }
   ],
   "source": [
    "pwd"
   ]
  },
  {
   "cell_type": "code",
   "execution_count": 5,
   "metadata": {},
   "outputs": [],
   "source": [
    "outdata_path = '/home/yulia/final-project/Classification/data'"
   ]
  },
  {
   "cell_type": "code",
   "execution_count": 36,
   "metadata": {},
   "outputs": [],
   "source": [
    "scipy.sparse.save_npz(os.path.join(outdata_path, 'train_vec.npz'), train_vec)\n",
    "scipy.sparse.save_npz(os.path.join(outdata_path, 'val_vec.npz'), val_vec)\n",
    "scipy.sparse.save_npz(os.path.join(outdata_path, 'test_vec.npz'), test_vec)"
   ]
  },
  {
   "cell_type": "code",
   "execution_count": 33,
   "metadata": {},
   "outputs": [],
   "source": [
    "train_vec = scipy.sparse.load_npz(os.path.join(outdata_path, 'train_vec.npz'))\n",
    "val_vec = scipy.sparse.load_npz(os.path.join(outdata_path, 'val_vec.npz'))\n",
    "test_vec = scipy.sparse.load_npz(os.path.join(outdata_path, 'test_vec.npz'))"
   ]
  },
  {
   "cell_type": "code",
   "execution_count": null,
   "metadata": {},
   "outputs": [],
   "source": [
    "val_vec = scipy.sparse.load_npz(os.path.join(outdata_path, 'val_vec.npz'))"
   ]
  },
  {
   "cell_type": "code",
   "execution_count": 34,
   "metadata": {},
   "outputs": [
    {
     "data": {
      "text/plain": [
       "((57808, 10000), (19268, 10000), (19272, 10000))"
      ]
     },
     "execution_count": 34,
     "metadata": {},
     "output_type": "execute_result"
    }
   ],
   "source": [
    "train_vec.shape, val_vec.shape, test_vec.shape"
   ]
  },
  {
   "cell_type": "code",
   "execution_count": 37,
   "metadata": {},
   "outputs": [],
   "source": [
    "with open(os.path.join(outdata_path, 'train_list'), 'wb') as fp:\n",
    "    pickle.dump(train, fp)\n",
    "with open(os.path.join(outdata_path, 'train_ids'), 'wb') as fp:\n",
    "    pickle.dump(train_ids, fp)\n",
    "with open(os.path.join(outdata_path, 'train_target'), 'wb') as fp:\n",
    "    pickle.dump(train_target, fp)\n",
    "with open(os.path.join(outdata_path, 'val_list'), 'wb') as fp:\n",
    "    pickle.dump(val, fp)\n",
    "with open(os.path.join(outdata_path, 'val_ids'), 'wb') as fp:\n",
    "    pickle.dump(val_ids, fp)\n",
    "with open(os.path.join(outdata_path, 'val_target'), 'wb') as fp:\n",
    "    pickle.dump(val_target, fp)\n",
    "with open(os.path.join(outdata_path, 'test_list'), 'wb') as fp:\n",
    "    pickle.dump(test, fp)\n",
    "with open(os.path.join(outdata_path, 'test_ids'), 'wb') as fp:\n",
    "    pickle.dump(test_ids, fp)\n",
    "with open(os.path.join(outdata_path, 'test_target'), 'wb') as fp:\n",
    "    pickle.dump(test_target, fp)"
   ]
  },
  {
   "cell_type": "code",
   "execution_count": 38,
   "metadata": {},
   "outputs": [
    {
     "data": {
      "text/plain": [
       "(94074, 31358, 31358)"
      ]
     },
     "execution_count": 38,
     "metadata": {},
     "output_type": "execute_result"
    }
   ],
   "source": [
    "sum(train_target), sum(val_target), sum(test_target)"
   ]
  },
  {
   "cell_type": "code",
   "execution_count": null,
   "metadata": {},
   "outputs": [],
   "source": [
    "with open(os.path.join(outdata_path, 'train_list'), 'rb') as fp:\n",
    "    train = pickle.load(fp)\n",
    "with open(os.path.join(outdata_path, 'train_ids'), 'rb') as fp:\n",
    "    train_ids = pickle.load(fp)\n",
    "with open(os.path.join(outdata_path, 'train_target'), 'rb') as fp:\n",
    "    train_target = pickle.load(fp)"
   ]
  },
  {
   "cell_type": "code",
   "execution_count": 6,
   "metadata": {},
   "outputs": [],
   "source": [
    "with open(os.path.join(outdata_path, 'val_list'), 'rb') as fp:\n",
    "    val = pickle.load(fp)\n",
    "with open(os.path.join(outdata_path, 'val_ids'), 'rb') as fp:\n",
    "    val_ids = pickle.load(fp)\n",
    "with open(os.path.join(outdata_path, 'val_target'), 'rb') as fp:\n",
    "    val_target = pickle.load(fp)"
   ]
  },
  {
   "cell_type": "code",
   "execution_count": 7,
   "metadata": {},
   "outputs": [
    {
     "data": {
      "text/plain": [
       "(31358, 62716)"
      ]
     },
     "execution_count": 7,
     "metadata": {},
     "output_type": "execute_result"
    }
   ],
   "source": [
    "sum(val_target), len(val_target)"
   ]
  },
  {
   "cell_type": "code",
   "execution_count": null,
   "metadata": {},
   "outputs": [],
   "source": [
    "with open(os.path.join(outdata_path, 'test_list'), 'rb') as fp:\n",
    "    test = pickle.load(fp)\n",
    "with open(os.path.join(outdata_path, 'test_ids'), 'rb') as fp:\n",
    "    test_ids = pickle.load(fp)\n",
    "with open(os.path.join(outdata_path, 'test_target'), 'rb') as fp:\n",
    "    test_target = pickle.load(fp)"
   ]
  },
  {
   "cell_type": "code",
   "execution_count": null,
   "metadata": {},
   "outputs": [],
   "source": [
    "sum(train_target), sum(val_target), sum(test_target)"
   ]
  },
  {
   "cell_type": "markdown",
   "metadata": {},
   "source": [
    "### Model: Multi-Layer Perceptron (Vanilla NN)"
   ]
  },
  {
   "cell_type": "code",
   "execution_count": 40,
   "metadata": {},
   "outputs": [],
   "source": [
    "logs_base_dir = \"/home/yulia/final-project/Classification/logs\""
   ]
  },
  {
   "cell_type": "code",
   "execution_count": null,
   "metadata": {},
   "outputs": [],
   "source": [
    "ngram_model_params = {\n",
    "    'model': 'ngram',\n",
    "    'log_dir': logs_base_dir,\n",
    "    'learning_rate': 1e-3,\n",
    "    'epochs': 1000,\n",
    "    'batch_size': 128,\n",
    "    'layers': 2,\n",
    "    'units': 64,\n",
    "    'dropout_rate': 0.2\n",
    "}"
   ]
  },
  {
   "cell_type": "code",
   "execution_count": 44,
   "metadata": {},
   "outputs": [
    {
     "name": "stdout",
     "output_type": "stream",
     "text": [
      "Train on 188148 samples, validate on 62716 samples\n",
      "Epoch 1/1000\n",
      " - 47s - loss: 0.5475 - acc: 0.7208 - val_loss: 0.5206 - val_acc: 0.7374\n",
      "Epoch 2/1000\n",
      " - 45s - loss: 0.5094 - acc: 0.7439 - val_loss: 0.5142 - val_acc: 0.7419\n",
      "Epoch 3/1000\n",
      " - 45s - loss: 0.4954 - acc: 0.7528 - val_loss: 0.5113 - val_acc: 0.7433\n",
      "Epoch 4/1000\n",
      " - 45s - loss: 0.4863 - acc: 0.7587 - val_loss: 0.5083 - val_acc: 0.7480\n",
      "Epoch 5/1000\n",
      " - 46s - loss: 0.4752 - acc: 0.7672 - val_loss: 0.5073 - val_acc: 0.7482\n",
      "Epoch 6/1000\n",
      " - 46s - loss: 0.4643 - acc: 0.7748 - val_loss: 0.5051 - val_acc: 0.7502\n",
      "Epoch 7/1000\n",
      " - 46s - loss: 0.4527 - acc: 0.7822 - val_loss: 0.5041 - val_acc: 0.7525\n",
      "Epoch 8/1000\n",
      " - 46s - loss: 0.4398 - acc: 0.7919 - val_loss: 0.5040 - val_acc: 0.7526\n",
      "Epoch 9/1000\n",
      " - 47s - loss: 0.4266 - acc: 0.7997 - val_loss: 0.5050 - val_acc: 0.7541\n",
      "Epoch 10/1000\n",
      " - 46s - loss: 0.4127 - acc: 0.8083 - val_loss: 0.5083 - val_acc: 0.7543\n",
      "Validation accuracy: 0.7543210664097467, loss: 0.5083065646891768\n"
     ]
    }
   ],
   "source": [
    "reload(train_model)\n",
    "history, train_pred_probs, val_pred_probs = train_model.train_model(((train_vec, train_target), (val_vec, val_target)), **ngram_model_params)"
   ]
  },
  {
   "cell_type": "markdown",
   "metadata": {},
   "source": [
    "## Model evaluation"
   ]
  },
  {
   "cell_type": "code",
   "execution_count": 45,
   "metadata": {},
   "outputs": [
    {
     "data": {
      "text/plain": [
       "47308"
      ]
     },
     "execution_count": 45,
     "metadata": {},
     "output_type": "execute_result"
    }
   ],
   "source": [
    "val_preds = val_pred_probs > 0.5\n",
    "np.sum(val_preds.flatten()==val_target)"
   ]
  },
  {
   "cell_type": "code",
   "execution_count": 46,
   "metadata": {},
   "outputs": [
    {
     "name": "stdout",
     "output_type": "stream",
     "text": [
      "Confusion matrix, without normalization\n",
      "[[23166  8192]\n",
      " [ 7216 24142]]\n"
     ]
    },
    {
     "data": {
      "text/plain": [
       "<matplotlib.axes._subplots.AxesSubplot at 0x7ff90f903ba8>"
      ]
     },
     "execution_count": 46,
     "metadata": {},
     "output_type": "execute_result"
    },
    {
     "data": {
      "image/png": "[encoded data removed]",
      "text/plain": [
       "<Figure size 432x288 with 2 Axes>"
      ]
     },
     "metadata": {},
     "output_type": "display_data"
    }
   ],
   "source": [
    "reload(explore_data)\n",
    "# specify class names in 0 - 1 order\n",
    "classes = ['Male', 'Female']\n",
    "explore_data.plot_confusion_matrix(val_target, val_preds, classes, normalize=True)"
   ]
  },
  {
   "cell_type": "code",
   "execution_count": 47,
   "metadata": {
    "scrolled": false
   },
   "outputs": [
    {
     "data": {
      "image/png": "[encoded data removed]",
      "text/plain": [
       "<Figure size 720x720 with 2 Axes>"
      ]
     },
     "metadata": {},
     "output_type": "display_data"
    }
   ],
   "source": [
    "reload(explore_data)\n",
    "explore_data.plot_calibration_curve(val_target, val_pred_probs, 'Gender')"
   ]
  },
  {
   "cell_type": "code",
   "execution_count": 49,
   "metadata": {},
   "outputs": [],
   "source": [
    "del train, train_ids, train_pred_probs, train_target, train_vec"
   ]
  },
  {
   "cell_type": "code",
   "execution_count": 53,
   "metadata": {},
   "outputs": [],
   "source": [
    "with open(os.path.join(outdata_path, 'val_pred_probs'), 'wb') as fp:\n",
    "    pickle.dump(val_pred_probs, fp)"
   ]
  },
  {
   "cell_type": "code",
   "execution_count": 8,
   "metadata": {},
   "outputs": [],
   "source": [
    "with open(os.path.join(outdata_path, 'val_pred_probs'), 'rb') as fp:\n",
    "    val_pred_probs = pickle.load(fp)"
   ]
  },
  {
   "cell_type": "code",
   "execution_count": 9,
   "metadata": {},
   "outputs": [
    {
     "data": {
      "text/plain": [
       "(62716, 1)"
      ]
     },
     "execution_count": 9,
     "metadata": {},
     "output_type": "execute_result"
    }
   ],
   "source": [
    "val_pred_probs.shape"
   ]
  },
  {
   "cell_type": "code",
   "execution_count": 10,
   "metadata": {},
   "outputs": [
    {
     "name": "stderr",
     "output_type": "stream",
     "text": [
      "/home/yulia/anaconda3/lib/python3.6/site-packages/numpy/lib/arraysetops.py:472: FutureWarning: elementwise comparison failed; returning scalar instead, but in the future will perform elementwise comparison\n",
      "  mask |= (ar1 == a)\n"
     ]
    },
    {
     "data": {
      "text/plain": [
       "(62716, 16)"
      ]
     },
     "execution_count": 10,
     "metadata": {},
     "output_type": "execute_result"
    }
   ],
   "source": [
    "descr_df = pd.read_csv('/home/yulia/final-project/data/QA/full_descr.txt', sep=\"|\", index_col=0)\n",
    "descr_df = descr_df.loc[np.asarray(val_ids, dtype=int)]\n",
    "descr_df.shape"
   ]
  },
  {
   "cell_type": "code",
   "execution_count": 11,
   "metadata": {},
   "outputs": [
    {
     "data": {
      "text/html": [
       "<div>\n",
       "<style scoped>\n",
       "    .dataframe tbody tr th:only-of-type {\n",
       "        vertical-align: middle;\n",
       "    }\n",
       "\n",
       "    .dataframe tbody tr th {\n",
       "        vertical-align: top;\n",
       "    }\n",
       "\n",
       "    .dataframe thead th {\n",
       "        text-align: right;\n",
       "    }\n",
       "</style>\n",
       "<table border=\"1\" class=\"dataframe\">\n",
       "  <thead>\n",
       "    <tr style=\"text-align: right;\">\n",
       "      <th></th>\n",
       "      <th>date</th>\n",
       "      <th>char_count</th>\n",
       "      <th>word_count</th>\n",
       "      <th>speakerid</th>\n",
       "      <th>Party</th>\n",
       "      <th>Congress</th>\n",
       "      <th>Chamber</th>\n",
       "      <th>State</th>\n",
       "      <th>Ethnicity</th>\n",
       "      <th>Age</th>\n",
       "      <th>Age_lt_med</th>\n",
       "      <th>NonWhite</th>\n",
       "      <th>Female</th>\n",
       "      <th>speaker</th>\n",
       "      <th>Full Name</th>\n",
       "      <th>match</th>\n",
       "    </tr>\n",
       "    <tr>\n",
       "      <th>speech_id</th>\n",
       "      <th></th>\n",
       "      <th></th>\n",
       "      <th></th>\n",
       "      <th></th>\n",
       "      <th></th>\n",
       "      <th></th>\n",
       "      <th></th>\n",
       "      <th></th>\n",
       "      <th></th>\n",
       "      <th></th>\n",
       "      <th></th>\n",
       "      <th></th>\n",
       "      <th></th>\n",
       "      <th></th>\n",
       "      <th></th>\n",
       "      <th></th>\n",
       "    </tr>\n",
       "  </thead>\n",
       "  <tbody>\n",
       "    <tr>\n",
       "      <th>1080099024</th>\n",
       "      <td>20031030</td>\n",
       "      <td>436</td>\n",
       "      <td>70</td>\n",
       "      <td>108118820.0</td>\n",
       "      <td>D</td>\n",
       "      <td>108</td>\n",
       "      <td>H</td>\n",
       "      <td>CA</td>\n",
       "      <td>W</td>\n",
       "      <td>66.0</td>\n",
       "      <td>0.0</td>\n",
       "      <td>0.0</td>\n",
       "      <td>1.0</td>\n",
       "      <td>Mrs. CAPPS</td>\n",
       "      <td>CAPPS, LOIS</td>\n",
       "      <td>fuzzy</td>\n",
       "    </tr>\n",
       "    <tr>\n",
       "      <th>1080165561</th>\n",
       "      <td>20040625</td>\n",
       "      <td>6213</td>\n",
       "      <td>1056</td>\n",
       "      <td>108120190.0</td>\n",
       "      <td>D</td>\n",
       "      <td>108</td>\n",
       "      <td>H</td>\n",
       "      <td>CA</td>\n",
       "      <td>B</td>\n",
       "      <td>58.0</td>\n",
       "      <td>0.0</td>\n",
       "      <td>1.0</td>\n",
       "      <td>1.0</td>\n",
       "      <td>Ms. LEE</td>\n",
       "      <td>LEE, BARBARA</td>\n",
       "      <td>fuzzy</td>\n",
       "    </tr>\n",
       "    <tr>\n",
       "      <th>1090156218</th>\n",
       "      <td>20060711</td>\n",
       "      <td>1230</td>\n",
       "      <td>198</td>\n",
       "      <td>109116060.0</td>\n",
       "      <td>D</td>\n",
       "      <td>109</td>\n",
       "      <td>H</td>\n",
       "      <td>CA</td>\n",
       "      <td>H</td>\n",
       "      <td>49.0</td>\n",
       "      <td>1.0</td>\n",
       "      <td>1.0</td>\n",
       "      <td>1.0</td>\n",
       "      <td>Ms. SOLIS</td>\n",
       "      <td>SOLIS, HILDA</td>\n",
       "      <td>exact</td>\n",
       "    </tr>\n",
       "    <tr>\n",
       "      <th>1060121740</th>\n",
       "      <td>20000315</td>\n",
       "      <td>700</td>\n",
       "      <td>136</td>\n",
       "      <td>106117690.0</td>\n",
       "      <td>D</td>\n",
       "      <td>106</td>\n",
       "      <td>H</td>\n",
       "      <td>NY</td>\n",
       "      <td>W</td>\n",
       "      <td>56.0</td>\n",
       "      <td>0.0</td>\n",
       "      <td>0.0</td>\n",
       "      <td>1.0</td>\n",
       "      <td>Mrs. McCARTHY of New York</td>\n",
       "      <td>MCCARTHY, CAROLYN</td>\n",
       "      <td>exact</td>\n",
       "    </tr>\n",
       "    <tr>\n",
       "      <th>1100177577</th>\n",
       "      <td>20080623</td>\n",
       "      <td>3302</td>\n",
       "      <td>490</td>\n",
       "      <td>110114720.0</td>\n",
       "      <td>R</td>\n",
       "      <td>110</td>\n",
       "      <td>H</td>\n",
       "      <td>VA</td>\n",
       "      <td>W</td>\n",
       "      <td>59.0</td>\n",
       "      <td>0.0</td>\n",
       "      <td>0.0</td>\n",
       "      <td>1.0</td>\n",
       "      <td>Mrs. DRAKE</td>\n",
       "      <td>DRAKE, THELMA</td>\n",
       "      <td>exact</td>\n",
       "    </tr>\n",
       "  </tbody>\n",
       "</table>\n",
       "</div>"
      ],
      "text/plain": [
       "                date  char_count  word_count    speakerid Party  Congress  \\\n",
       "speech_id                                                                   \n",
       "1080099024  20031030         436          70  108118820.0     D       108   \n",
       "1080165561  20040625        6213        1056  108120190.0     D       108   \n",
       "1090156218  20060711        1230         198  109116060.0     D       109   \n",
       "1060121740  20000315         700         136  106117690.0     D       106   \n",
       "1100177577  20080623        3302         490  110114720.0     R       110   \n",
       "\n",
       "           Chamber State Ethnicity   Age  Age_lt_med  NonWhite  Female  \\\n",
       "speech_id                                                                \n",
       "1080099024       H    CA         W  66.0         0.0       0.0     1.0   \n",
       "1080165561       H    CA         B  58.0         0.0       1.0     1.0   \n",
       "1090156218       H    CA         H  49.0         1.0       1.0     1.0   \n",
       "1060121740       H    NY         W  56.0         0.0       0.0     1.0   \n",
       "1100177577       H    VA         W  59.0         0.0       0.0     1.0   \n",
       "\n",
       "                              speaker          Full Name  match  \n",
       "speech_id                                                        \n",
       "1080099024                 Mrs. CAPPS        CAPPS, LOIS  fuzzy  \n",
       "1080165561                    Ms. LEE       LEE, BARBARA  fuzzy  \n",
       "1090156218                  Ms. SOLIS       SOLIS, HILDA  exact  \n",
       "1060121740  Mrs. McCARTHY of New York  MCCARTHY, CAROLYN  exact  \n",
       "1100177577                 Mrs. DRAKE      DRAKE, THELMA  exact  "
      ]
     },
     "execution_count": 11,
     "metadata": {},
     "output_type": "execute_result"
    }
   ],
   "source": [
    "descr_df.head()"
   ]
  },
  {
   "cell_type": "code",
   "execution_count": 56,
   "metadata": {},
   "outputs": [
    {
     "name": "stdout",
     "output_type": "stream",
     "text": [
      "Validation sample means:\n",
      "      Gender_F  Ethinicity_NW     AvgAge   Party_D  Chamber_H  AvgWordCount\n",
      "base       0.5       0.173991  58.285477  0.621468   0.659816     387.29868\n"
     ]
    },
    {
     "data": {
      "text/html": [
       "<div>\n",
       "<style scoped>\n",
       "    .dataframe tbody tr th:only-of-type {\n",
       "        vertical-align: middle;\n",
       "    }\n",
       "\n",
       "    .dataframe tbody tr th {\n",
       "        vertical-align: top;\n",
       "    }\n",
       "\n",
       "    .dataframe thead th {\n",
       "        text-align: right;\n",
       "    }\n",
       "</style>\n",
       "<table border=\"1\" class=\"dataframe\">\n",
       "  <thead>\n",
       "    <tr style=\"text-align: right;\">\n",
       "      <th></th>\n",
       "      <th>Gender_F</th>\n",
       "      <th>Ethinicity_NW</th>\n",
       "      <th>AvgAge</th>\n",
       "      <th>Party_D</th>\n",
       "      <th>Chamber_H</th>\n",
       "      <th>AvgWordCount</th>\n",
       "    </tr>\n",
       "  </thead>\n",
       "  <tbody>\n",
       "    <tr>\n",
       "      <th>0.4</th>\n",
       "      <td>0.39</td>\n",
       "      <td>0.41</td>\n",
       "      <td>0.99</td>\n",
       "      <td>0.82</td>\n",
       "      <td>0.75</td>\n",
       "      <td>0.94</td>\n",
       "    </tr>\n",
       "    <tr>\n",
       "      <th>0.6</th>\n",
       "      <td>0.97</td>\n",
       "      <td>0.83</td>\n",
       "      <td>0.98</td>\n",
       "      <td>0.93</td>\n",
       "      <td>1.11</td>\n",
       "      <td>0.83</td>\n",
       "    </tr>\n",
       "    <tr>\n",
       "      <th>1.0</th>\n",
       "      <td>1.58</td>\n",
       "      <td>1.62</td>\n",
       "      <td>1.01</td>\n",
       "      <td>1.19</td>\n",
       "      <td>1.19</td>\n",
       "      <td>1.12</td>\n",
       "    </tr>\n",
       "  </tbody>\n",
       "</table>\n",
       "</div>"
      ],
      "text/plain": [
       "     Gender_F  Ethinicity_NW  AvgAge  Party_D  Chamber_H  AvgWordCount\n",
       "0.4      0.39           0.41    0.99     0.82       0.75          0.94\n",
       "0.6      0.97           0.83    0.98     0.93       1.11          0.83\n",
       "1.0      1.58           1.62    1.01     1.19       1.19          1.12"
      ]
     },
     "execution_count": 56,
     "metadata": {},
     "output_type": "execute_result"
    }
   ],
   "source": [
    "reload(explore_data)\n",
    "# checking the ratios of demo variables in low-mid-high probability buckets\n",
    "explore_data.check_bin_probs_distr(val_pred_probs, \n",
    "                                   val_ids, \n",
    "                                   descr_df)"
   ]
  },
  {
   "cell_type": "code",
   "execution_count": 10,
   "metadata": {},
   "outputs": [
    {
     "name": "stdout",
     "output_type": "stream",
     "text": [
      "\n",
      "Top 10 ngrams by differentiating score:\n",
      "sonoma \t 11479.1\n",
      "sonoma county \t 9561.5\n",
      "the sonoma \t 4714.7\n",
      "in sonoma \t 4674.3\n",
      "of sonoma \t 3948.5\n",
      "smart security \t 3922.0\n",
      "century smart \t 3723.2\n",
      "smart stands \t 3291.8\n",
      "create smart \t 3056.8\n",
      "multilateral partnerships \t 2736.7\n"
     ]
    },
    {
     "data": {
      "text/html": [
       "<div>\n",
       "<style scoped>\n",
       "    .dataframe tbody tr th:only-of-type {\n",
       "        vertical-align: middle;\n",
       "    }\n",
       "\n",
       "    .dataframe tbody tr th {\n",
       "        vertical-align: top;\n",
       "    }\n",
       "\n",
       "    .dataframe thead th {\n",
       "        text-align: right;\n",
       "    }\n",
       "</style>\n",
       "<table border=\"1\" class=\"dataframe\">\n",
       "  <thead>\n",
       "    <tr style=\"text-align: right;\">\n",
       "      <th>bin</th>\n",
       "      <th>1</th>\n",
       "      <th>2</th>\n",
       "      <th>3</th>\n",
       "      <th>4</th>\n",
       "    </tr>\n",
       "  </thead>\n",
       "  <tbody>\n",
       "    <tr>\n",
       "      <th>century smart</th>\n",
       "      <td>0.0</td>\n",
       "      <td>0.0</td>\n",
       "      <td>1.0</td>\n",
       "      <td>8.0</td>\n",
       "    </tr>\n",
       "    <tr>\n",
       "      <th>create smart</th>\n",
       "      <td>0.0</td>\n",
       "      <td>0.0</td>\n",
       "      <td>0.0</td>\n",
       "      <td>6.0</td>\n",
       "    </tr>\n",
       "    <tr>\n",
       "      <th>in sonoma</th>\n",
       "      <td>0.0</td>\n",
       "      <td>0.0</td>\n",
       "      <td>13.0</td>\n",
       "      <td>24.0</td>\n",
       "    </tr>\n",
       "    <tr>\n",
       "      <th>multilateral partnerships</th>\n",
       "      <td>0.0</td>\n",
       "      <td>0.0</td>\n",
       "      <td>0.0</td>\n",
       "      <td>7.0</td>\n",
       "    </tr>\n",
       "    <tr>\n",
       "      <th>of sonoma</th>\n",
       "      <td>0.0</td>\n",
       "      <td>0.0</td>\n",
       "      <td>10.0</td>\n",
       "      <td>21.0</td>\n",
       "    </tr>\n",
       "    <tr>\n",
       "      <th>smart security</th>\n",
       "      <td>0.0</td>\n",
       "      <td>0.0</td>\n",
       "      <td>32.0</td>\n",
       "      <td>48.0</td>\n",
       "    </tr>\n",
       "    <tr>\n",
       "      <th>smart stands</th>\n",
       "      <td>0.0</td>\n",
       "      <td>0.0</td>\n",
       "      <td>2.0</td>\n",
       "      <td>8.0</td>\n",
       "    </tr>\n",
       "    <tr>\n",
       "      <th>sonoma</th>\n",
       "      <td>0.0</td>\n",
       "      <td>1.0</td>\n",
       "      <td>78.0</td>\n",
       "      <td>113.0</td>\n",
       "    </tr>\n",
       "    <tr>\n",
       "      <th>sonoma county</th>\n",
       "      <td>0.0</td>\n",
       "      <td>0.0</td>\n",
       "      <td>36.0</td>\n",
       "      <td>84.0</td>\n",
       "    </tr>\n",
       "    <tr>\n",
       "      <th>the sonoma</th>\n",
       "      <td>0.0</td>\n",
       "      <td>0.0</td>\n",
       "      <td>18.0</td>\n",
       "      <td>31.0</td>\n",
       "    </tr>\n",
       "  </tbody>\n",
       "</table>\n",
       "</div>"
      ],
      "text/plain": [
       "bin                          1    2     3      4\n",
       "century smart              0.0  0.0   1.0    8.0\n",
       "create smart               0.0  0.0   0.0    6.0\n",
       "in sonoma                  0.0  0.0  13.0   24.0\n",
       "multilateral partnerships  0.0  0.0   0.0    7.0\n",
       "of sonoma                  0.0  0.0  10.0   21.0\n",
       "smart security             0.0  0.0  32.0   48.0\n",
       "smart stands               0.0  0.0   2.0    8.0\n",
       "sonoma                     0.0  1.0  78.0  113.0\n",
       "sonoma county              0.0  0.0  36.0   84.0\n",
       "the sonoma                 0.0  0.0  18.0   31.0"
      ]
     },
     "execution_count": 10,
     "metadata": {},
     "output_type": "execute_result"
    }
   ],
   "source": [
    "reload(explore_data)\n",
    "explore_data.compare_ngrams(val, val_pred_probs, ngram_range=(1, 2))"
   ]
  },
  {
   "cell_type": "markdown",
   "metadata": {},
   "source": [
    "#### Run the following test on a random subset of the validation sample"
   ]
  },
  {
   "cell_type": "code",
   "execution_count": 11,
   "metadata": {},
   "outputs": [
    {
     "data": {
      "text/plain": [
       "0.10097901651891064"
      ]
     },
     "execution_count": 11,
     "metadata": {},
     "output_type": "execute_result"
    }
   ],
   "source": [
    "np.random.seed(100)\n",
    "val_random = np.random.choice(a=[0,1], size=len(val_target), p = [0.9,0.1])\n",
    "val_random.sum()/val_random.shape[0]"
   ]
  },
  {
   "cell_type": "code",
   "execution_count": 12,
   "metadata": {},
   "outputs": [
    {
     "data": {
      "text/plain": [
       "(6333, 6333, 6333)"
      ]
     },
     "execution_count": 12,
     "metadata": {},
     "output_type": "execute_result"
    }
   ],
   "source": [
    "val_sample, val_ids_sample, val_pred_probs_sample = [], [], []\n",
    "for i in range(len(val_ids)):\n",
    "    if val_random[i] == 1:\n",
    "        val_sample.append(val[i])\n",
    "        val_ids_sample.append(val_ids[i])\n",
    "        val_pred_probs_sample.append(val_pred_probs[i])\n",
    "len(val_sample), len(val_ids_sample), len(val_pred_probs_sample)"
   ]
  },
  {
   "cell_type": "code",
   "execution_count": 13,
   "metadata": {},
   "outputs": [
    {
     "name": "stdout",
     "output_type": "stream",
     "text": [
      "\n",
      "In 0.4 bin top 10 ngrams:\n",
      "\n",
      "the united states\n",
      "the senator from\n",
      "are going to\n",
      "the gentleman from\n",
      "one of the\n",
      "would like to\n",
      "we are going\n",
      "of the united\n",
      "we are going to\n",
      "is going to\n",
      "--------------------\n",
      "\n",
      "In 0.6 bin top 10 ngrams:\n",
      "\n",
      "the united states\n",
      "the gentleman from\n",
      "would like to\n",
      "my colleagues to\n",
      "one of the\n",
      "mr speaker rise\n",
      "ask unanimous consent\n",
      "rise today to\n",
      "the american people\n",
      "of the united\n",
      "--------------------\n",
      "\n",
      "In 1.0 bin top 10 ngrams:\n",
      "\n",
      "the united states\n",
      "my colleagues to\n",
      "one of the\n",
      "the american people\n",
      "mr speaker rise\n",
      "the gentleman from\n",
      "would like to\n",
      "urge my colleagues\n",
      "be able to\n",
      "we need to\n",
      "--------------------\n"
     ]
    }
   ],
   "source": [
    "reload(explore_data)\n",
    "explore_data.ngrams_by_bin(val_sample, val_pred_probs_sample)"
   ]
  },
  {
   "cell_type": "code",
   "execution_count": 12,
   "metadata": {
    "scrolled": false
   },
   "outputs": [
    {
     "name": "stdout",
     "output_type": "stream",
     "text": [
      "\n",
      "True positive (Predicted prob: 1.00):\n",
      "\n",
      "date                        19950323\n",
      "char_count                      1963\n",
      "word_count                       334\n",
      "speakerid                1.04114e+08\n",
      "Party                              R\n",
      "Congress                         104\n",
      "Chamber                            H\n",
      "State                             WA\n",
      "Ethnicity                          W\n",
      "Age                               55\n",
      "Age_lt_med                         0\n",
      "NonWhite                           0\n",
      "Female                             1\n",
      "speaker       Ms. DUNN of Washington\n",
      "Full Name             DUNN, JENNIFER\n",
      "match                          exact\n",
      "Name: 1040044513, dtype: object\n",
      "\n",
      " Mr. Chairman. on behalf of some of Americas neediest and yet valued citizens. we begin the process of ending welfare as a way of life and restoring welfare assistance to itsoriginal purpose. to provide temporary help to our neighbors in need. Air. Chairman. Americans are a generous people who have long demonstrated our commitment to help our neighbors. families and children in need. but the American people also ask for results for our efforts. To the American taxpayers who have. so far. spent $5 trillion to support what has been described by both sides in this House debate as a failed welfare system. let me assure them that our bill is a bottonup review. The Republican bill will remove the incentives that encourage welfare dependency and provide new incentives that encourage work and lift people from the cycle of poverty. As part of providing support to the soontobe working mothers. Mr. Chairman. we are offering an amendment that will provide an additional $750 million in child care funding to these parents. As people move off welfare the women with children. especially preschool children. could be caught in a trap. Rightfully they are required to enter the work force. and yet also rightfull\" 1.hey are worried about the safety . -heir children. Our amendment heps newly working mothers meet their personal responsibility obligations and address the legitimate concerns for their children. Last Saturday. Mr. Chairman. as home in Washington State I met with a group of welfare mothers at a Head Start meeting. They were unanimous and emphatic in their desire to get off welfare. but one thing they did ask for help on was the responsibility of funding day care. Help them find good day care. and they will take the responsibility of finding work in the private sector. Mr. Chairman. as a single mother who raised two sons. I know the value of good day care and the peace of mind when it is found. I urge my colleagues to support this amendment.\n",
      "--------------------\n",
      "\n",
      "True negative (Predicted prob: 0.05):\n",
      "\n",
      "date             20110304\n",
      "char_count          10878\n",
      "word_count           1999\n",
      "speakerid     1.12121e+08\n",
      "Party                   D\n",
      "Congress              112\n",
      "Chamber                 S\n",
      "State                  NV\n",
      "Ethnicity               W\n",
      "Age                    73\n",
      "Age_lt_med              0\n",
      "NonWhite                0\n",
      "Female                  0\n",
      "speaker          Mr. REID\n",
      "Full Name     REID, HARRY\n",
      "match               exact\n",
      "Name: 1120013994, dtype: object\n",
      "\n",
      " Three hundred and eightytwo pages. Well. Mr. President. I have only talked about enough to take up two or three pages. but it is full of the same kind of stuff I have talked about todaystuff that is not fair and is meanspirited. We all want to cut. I represent the State of Nevada. We are in a deep economic problem. We know. though. we have to cut things. The Presiding Officer is from the State of Connecticut. We are both members of the Democratic Party. We have supported these programs because it was the right thing to do. We recognize there is going to have to be cuts made. but we have to do it with a scalpel. not a meat cleaver. Then to hear that a Member of the House said: Well. I didnt know it was in the billeliminating and cutting drastically a program for people with emotional. mental. and physical challengesI didnt know it was in the bill. Well. there is a lot of that same type of stuff in this bill. H.R. 1. That is why it is going to be defeated here. I would say to my friends. the Republicans. I cant imagine you will all vote for this bill. We have to move beyond partisan politics and do what is right. I dont know how many. but not all Republicans will vote for that. I have been castigated in the press: Why doesnt REID allow a vote? Lets have a vote. Well. I am willing to move on that. but I couldnt do it. I had to file cloture to move to proceed to it. They wouldnt even let me do that. But we are going to get to it because I know the procedures around here. I can get to this bill. and I can do it next week. I have just talked about the tip of the iceberg with this meanspirited H.R. 1. Federal Reserve Chairman Bernanke said these cutsand there are many more like them than I have already said there arewill cost a significant number of jobs. Mark Zandi. the chief economist at Moodys and formerly the chief economic adviser for JOHN MCCAIN. has said that H.R. 1 will cost our country 700.000 jobs. These cuts place far too heavy a burden on working families. lowincome children and seniors. and it asks little. if any. sacrifice from those who rake in unnecessary taxpayerfunded subsidies they do not need. That is no way to recover. Look at oil and gas subsidies. The former head of Chevron Oil said: We dont need them. we are doing fine. Mr. President. I have been very helpful to my farm State Senators. I have helped them work their way through droughts and floods and all kinds of things. I understand how important agriculture is. But very few times in the history of our country have commodity prices been so highso high. Dont you think they could take a little nicka little nickrather than take it away from Head Start Programs and programs such as that? Our plan was filed today by Senator INOUYE. who is a very sensitive. good man. I dont need to recount who he is. but he is one of the most famous men in the history of our country. He has been in Congress a long time. but we always remember this man was a hero on the battlefields of Italy where he lost his arm and was badly injured. As a result of his heroic actions there. he received a Congressional Medal of Honor. But he is also a hero in these legislative Halls. He was one of the leaders in the Watergate hearings. and there are many other things he has done over the years to become a hero in addition to being a hero on the battlefield. The amendment we have filed is his amendment. So Democrats have a different planthe Inouye planwhich represents our different priorities. and it is supported by the President. We know we have to make cuts. I have said that this morning several times. We also know when we cut. we have to cut in a way that strengthens our economy not in a way that weakens it. We have to look carefully at the quality of these cuts and not get blinded by the quantity of the cuts. I have said before that a person could lose a lot of weightyou. I. anybody in this room. We could cut off our arms and legs. and we would have accomplished the purpose of losing a lot of weight. But no doctor would recommend it. That is what they have done with H.R. 1. No wellreasoning economist would recommend it. Our plan cuts $51 billion from President Obamas budget but in a much more responsible way. We are eliminating redundancies. ending unnecessary bureaucratic programs. and cutting funds for earmarks. We have agreed to cut funding for earmarks. I dont like that. I have told the President I dont like it. I believe we are giving up too much power to the President in getting rid of those earmarks. We have obligations to do congressionally directed funding. But I have agreed. as all of us over here have. to accept that. Remember. Mr. President. when we have a budget of $10 and we have 2/10 of 1 percent that goes to congressionally directed funding. it is still the same amount of money. It is just that the President didnt determine where that money is spent. Congress had a say in it. But we have agreed. We have agreed. We have earmarks in here. billions of dollars of them. that are going to go toward cutting the deficit. I have agreed to accept that. So ending unnecessary bureaucratic programs and cutting funding. as I have indicated. for other things. I commend my friend. Dr. COBURN. the Senator from Oklahoma. He got a GAO report that shows all kinds of redundancies and overlapping. Those are places we can cut money. Lets do it. Our plan recognizes we are not in competition to determine who can cut the most without regard for the consequences. Rather. we need to cooperate to figure out where we can cut the smartest. While the Housepassed plan is based on ideology. we believe ours is based on reality. Not ideology. but reality. These are decisions about real money to solve real problems that affect real lives. Our budget affirms our determination that we have to also reflect our values. We see our modestly recovering economy. including todays news about employers hiring at the fastest rate in a year. and the national unemployment rate fell to a nearly 2year low. We cant squander this cautiously optimistic news with counterproductive cutseliminating 700.000 jobs. I hope when we have these votes next week on H.R. 1 people will run from that. For the people who vote for that. it will take all their legislative lives and afterwards trying to live down having voted for that bill. But this is what each Senator will vote for or against next week. These votes. like all our votes. are about choices. and what I have just outlined is what these choices represent. Not to spoil the surprise. but we all know how this vote will turn out. We know neither will reach the Presidents desk as written. Republicans likely will not vote for ours. I hope they do. If it were a simple majority vote. we would win that. But Republicans have established a different standard60 votes. We accept that. So we will end up back at square 1. without consensus. without a budget for the rest of this fiscal year. and without assurance that we can keep the country running. So once these votes are behind us and everyones voice is heard. I hope each Senator and Member of Congress will find renewed motivation to do what we have needed to do since the beginning: come together. negotiate in good faith. working on consensus and compromise. Legislation is the art of compromise. Legislation is not who can flex their muscles the biggest. the longest. and the hardest. Legislation is the art of compromise. working out things for the American people. We have to acknowledge that the answer that will allow us to move forward lies somewhere between our two positions perhaps. We have to recognize that digging in ones heels threatens our fiscal footing. If one side stubbornly demands victory. everyone loses. That goes for both parties and both Chambers. This negotiation will not happen in the media. and a solution cannot be found in extreme rhetoric or unrealistic idealism. It will happen when we sit down and have an adult conversation about what our country and our constituents need. That is the only worthy exercise. How we invest taxpayer money. how we create a foundation for our future. how we articulate our priorities to our citizens and States across the country and allies around the world is not political. It is among the most practical things we do. There is no dispute among the 53 Democrats. We are willing to cut. We have cut $51 billion from our Presidents budget. As we talked about. we are willing to do more. But we are not willing to do this with a meat axe. We want to do it the right way. We want to take a scalpel and be very careful how we affect peoples lives. And when it is over with. we dont want people saying I didnt know it was in the bill. even though it affects that person as personally as anything could. When we talk about where to invest and what to cut. everyone is concerned about the budgets bottom line. When we talk about how we can get there. here is the bottom line of the negotiation process: Yes. we have to make tough choices. but that is what leadership is all about. It is true that no one here will get everything he or she wants. My friend. the Presiding Officer. was a longtime attorney general of one of ourI was going to say most famous Statesbut one of the original States. who is noted for his fairness. If an attorney general or a lawyer is noted for fairness. that person is known to be willing to compromise. That is what it is all about. It is the same in the law as it is here in the Senate. When we talk about how we can get there. the bottom line is negotiation. We have to make tough choices. But I repeat. that is what leadership is all about. Today marks 150 years since Abraham Lincoln took his first oath of office as the President of our countrywhose very existence at the time was in question. Like the incomplete Nation he had just sworn to lead. this great Capitol building was unfinished. As he addressed the Nation for the first time as President. President Lincoln stood on the east front of the Capitol building under cranes and scaffolding that represented growth and uncertainty at the same time. Now. 150 years. later the threats we face are nowhere near as dire as the Civil War Lincolns America was about to endure but his words that afternoon are useful to us to hear this afternoon. for we are again at a moment of peril in our country. Again. we will sink or swim together. As Lincoln closed that Inaugural Address 150 years ago today. he reminded a divided nation that. \"we are not enemies but friends. . . . Though passion may have strained it. it must not break our bonds of affection.\" Lincoln then famously called on us to recall the \"better angels of our nature.\" Those are his words. If we listen to his critical lesson in leadership at this critical moment in history. we will secure in our time a stronger future for this great Nation we call America.\n",
      "--------------------\n",
      "\n",
      "False positive (Predicted prob: 0.92):\n",
      "\n",
      "date                  20160210\n",
      "char_count                3094\n",
      "word_count                 570\n",
      "speakerid          1.14118e+08\n",
      "Party                        D\n",
      "Congress                   114\n",
      "Chamber                      S\n",
      "State                       MD\n",
      "Ethnicity                    W\n",
      "Age                         73\n",
      "Age_lt_med                   0\n",
      "NonWhite                     0\n",
      "Female                       0\n",
      "speaker             Mr. CARDIN\n",
      "Full Name     CARDIN, BENJAMIN\n",
      "match                    exact\n",
      "Name: 1140076885, dtype: object\n",
      "\n",
      " Madam President. I first thank Senator KAINE for his input in this legislation and so much other legislation that goes through the Senate Foreign Relations Committee. He is an extremely valuable member of our committee. a very good thinker. but more importantly he listens to others in the committee and finds a common way that we can make important national foreign policy issues bipartisan. He has done that and did that with the Iran review act in reaching a way that we could bring that together in a bipartisan manner. He was very helpful on the North Korean sanction bill that we have on the floor. so I thank Senator KAINE for his contributions. I say to Senator CORKER. I know we are getting near the end of this debate. I have been listening to this debate throughout the day. and I think it points out the best traditions of the U.S. Senate. So many Members have come to the floor in serious debate about the national security challenge that North Korea presentsnot just. as I said. to the Korean Peninsula. not just to our allies in East Asia but globallyand how U.S. leadership is going to be vitally important and we are going to act. The United States is going to act. The Senate tonight is going to pass a very strong sanctions bill. a very strong message bill that we do not intend to sit back and let North Korea proliferate their weapons of mass destruction. We also dont plan to sit back and let them commit gross violations of human rights. We will not sit back and allow them to attack our intellectual property through cyber security attacks. and we are going to act as one. united. We are going to act. Democrats and Republicans. House and Senate. We are going to work with the administration. We are going to get this done. Then. yes. we are going to go to the international community. We are going to put pressure on other countries. We know the Republic of Korea is with us. We know Japan is with us. China needs to be with us. and we are going to go and talk to China. explain and work with them so we can get international pressure to isolate the North Korean regime until they change their course. It is critically important to our security but also to the people of North Korea. I thought this debate has been in the best tradition of the U.S. Senate. Again. we had the architects. as Senator KAINE pointed out. drafting this bill. Senator CORKERS leadership clearly set the climate in our committee so we could have that type of debate. I am sorry no one here could sit in on some of Senator CORKER and Senator MENENDEZS meetings as they were negotiating the specific terms of the bill. Each had their views. but they listened to each other. They recognized that by listening to each other they could come out at the end of the day with a stronger bill. As a result of our two colleagues. we were able to reach that common ground and I think very shortly we are going to be able to show the people of in country the best traditions of the U.S. Senate on foreign policy issues. I am very proud to work with Senator CORKER and my colleagues on this bill. Thank you.\n",
      "--------------------\n",
      "\n",
      "False negative (Predicted prob: 0.01):\n",
      "\n",
      "date                19910515\n",
      "char_count              1364\n",
      "word_count               254\n",
      "speakerid         1.0211e+08\n",
      "Party                      R\n",
      "Congress                 102\n",
      "Chamber                    H\n",
      "State                     MD\n",
      "Ethnicity                  W\n",
      "Age                       69\n",
      "Age_lt_med                 0\n",
      "NonWhite                   0\n",
      "Female                     1\n",
      "speaker         Mrs. BENTLEY\n",
      "Full Name     BENTLEY, HELEN\n",
      "match                  exact\n",
      "Name: 1020033285, dtype: object\n",
      "\n",
      " The figures that the gentleman uses. I say to the gentleman from California . of going from 15 to 30 or actually 14 to 28. that additional $14 billion in exports were the component parts that the gentleman from Pennsylvania . is talking about. and in turn. over $10 billion of that came back. the additional $10 billion came back in finished product assembled down there. and the other $4 billion. as I said in my statement. was probably machinery and equipment that went down there for the transplants. So it is not really jobs. I think there is one arena andone thing we have not touched on here and that is that as we get into free trade. and let me comment on that. The gentleman from California keeps hitting on free trade. The thing I do not understand is we have talked about free trade in the United States for a long time. and the only thing I have ever seen. the only country that has ever abided by all the terms of these socalled freetrade agreements has been the United States. What we have gotten out of it primarly has been the exporting ofjobs. and that disturbs me a great deal. The other aspect of these agreements. I say to the gentleman from Pennsylvania . is that \"Made in America\" is not going to be available when we get these new agreements. There will be no more \"Made in America\" tags on any equipment. It will be \"Made in North America.\"\n",
      "--------------------\n"
     ]
    }
   ],
   "source": [
    "reload(explore_data)\n",
    "explore_data.print_mispredictions(val_target, val_pred_probs, val, val_ids, descr_df)"
   ]
  },
  {
   "cell_type": "code",
   "execution_count": null,
   "metadata": {},
   "outputs": [],
   "source": []
  }
 ],
 "metadata": {
  "kernelspec": {
   "display_name": "Python 3",
   "language": "python",
   "name": "python3"
  },
  "language_info": {
   "codemirror_mode": {
    "name": "ipython",
    "version": 3
   },
   "file_extension": ".py",
   "mimetype": "text/x-python",
   "name": "python",
   "nbconvert_exporter": "python",
   "pygments_lexer": "ipython3",
   "version": "3.5.2"
  }
 },
 "nbformat": 4,
 "nbformat_minor": 2
}
