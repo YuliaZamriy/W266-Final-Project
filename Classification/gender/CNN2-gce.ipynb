{
 "cells": [
  {
   "cell_type": "code",
   "execution_count": 1,
   "metadata": {},
   "outputs": [
    {
     "data": {
      "text/html": [
       "<style>.container { width:100% !important; }</style>"
      ],
      "text/plain": [
       "<IPython.core.display.HTML object>"
      ]
     },
     "metadata": {},
     "output_type": "display_data"
    }
   ],
   "source": [
    "# increase cell width\n",
    "from IPython.core.display import display, HTML\n",
    "display(HTML(\"<style>.container { width:100% !important; }</style>\"))"
   ]
  },
  {
   "cell_type": "markdown",
   "metadata": {},
   "source": [
    "Inspiration for code:\n",
    "\n",
    "- https://developers.google.com/machine-learning/guides/text-classification/\n",
    "- https://github.com/google/eng-edu/blob/master/ml/guides/text_classification/load_data.py"
   ]
  },
  {
   "cell_type": "code",
   "execution_count": 2,
   "metadata": {},
   "outputs": [],
   "source": [
    "from __future__ import absolute_import\n",
    "from __future__ import division\n",
    "from __future__ import print_function\n",
    "\n",
    "import os\n",
    "import random\n",
    "import time\n",
    "import pickle\n",
    "import gc\n",
    "import re\n",
    "\n",
    "import numpy as np\n",
    "import pandas as pd\n",
    "\n",
    "from importlib import reload\n",
    "\n",
    "import scipy.sparse"
   ]
  },
  {
   "cell_type": "code",
   "execution_count": 3,
   "metadata": {},
   "outputs": [
    {
     "name": "stderr",
     "output_type": "stream",
     "text": [
      "/home/yulia/anaconda3/lib/python3.6/site-packages/h5py/__init__.py:36: FutureWarning: Conversion of the second argument of issubdtype from `float` to `np.floating` is deprecated. In future, it will be treated as `np.float64 == np.dtype(float).type`.\n",
      "  from ._conv import register_converters as _register_converters\n"
     ]
    }
   ],
   "source": [
    "from helpers import load_data\n",
    "from helpers import explore_data\n",
    "from helpers import preprocess_data\n",
    "from helpers import train_model"
   ]
  },
  {
   "cell_type": "code",
   "execution_count": null,
   "metadata": {},
   "outputs": [],
   "source": [
    "# import tensorflow as tf\n",
    "# tf.__version__"
   ]
  },
  {
   "cell_type": "markdown",
   "metadata": {},
   "source": [
    "## Load train, validate, test"
   ]
  },
  {
   "cell_type": "code",
   "execution_count": 4,
   "metadata": {},
   "outputs": [],
   "source": [
    "main_dir = '/home/yulia/'"
   ]
  },
  {
   "cell_type": "code",
   "execution_count": 18,
   "metadata": {},
   "outputs": [],
   "source": [
    "outdata_path = main_dir+'final-project/Classification/data'"
   ]
  },
  {
   "cell_type": "code",
   "execution_count": 19,
   "metadata": {},
   "outputs": [],
   "source": [
    "with open(os.path.join(outdata_path, 'train_list'), 'rb') as fp:\n",
    "    train = pickle.load(fp)\n",
    "with open(os.path.join(outdata_path, 'train_ids'), 'rb') as fp:\n",
    "    train_ids = pickle.load(fp)\n",
    "with open(os.path.join(outdata_path, 'train_target'), 'rb') as fp:\n",
    "    train_target = pickle.load(fp)"
   ]
  },
  {
   "cell_type": "code",
   "execution_count": 20,
   "metadata": {},
   "outputs": [
    {
     "data": {
      "text/plain": [
       "94074"
      ]
     },
     "execution_count": 20,
     "metadata": {},
     "output_type": "execute_result"
    }
   ],
   "source": [
    "sum(train_target)"
   ]
  },
  {
   "cell_type": "code",
   "execution_count": 21,
   "metadata": {},
   "outputs": [],
   "source": [
    "with open(os.path.join(outdata_path, 'val_list'), 'rb') as fp:\n",
    "    val = pickle.load(fp)\n",
    "with open(os.path.join(outdata_path, 'val_ids'), 'rb') as fp:\n",
    "    val_ids = pickle.load(fp)\n",
    "with open(os.path.join(outdata_path, 'val_target'), 'rb') as fp:\n",
    "    val_target = pickle.load(fp)"
   ]
  },
  {
   "cell_type": "code",
   "execution_count": 22,
   "metadata": {},
   "outputs": [
    {
     "data": {
      "text/plain": [
       "31358"
      ]
     },
     "execution_count": 22,
     "metadata": {},
     "output_type": "execute_result"
    }
   ],
   "source": [
    "sum(val_target)"
   ]
  },
  {
   "cell_type": "code",
   "execution_count": 12,
   "metadata": {},
   "outputs": [],
   "source": [
    "with open(os.path.join(outdata_path, 'test_list'), 'rb') as fp:\n",
    "    test = pickle.load(fp)\n",
    "with open(os.path.join(outdata_path, 'test_ids'), 'rb') as fp:\n",
    "    test_ids = pickle.load(fp)\n",
    "with open(os.path.join(outdata_path, 'test_target'), 'rb') as fp:\n",
    "    test_target = pickle.load(fp)"
   ]
  },
  {
   "cell_type": "code",
   "execution_count": 13,
   "metadata": {},
   "outputs": [
    {
     "data": {
      "text/plain": [
       "31358"
      ]
     },
     "execution_count": 13,
     "metadata": {},
     "output_type": "execute_result"
    }
   ],
   "source": [
    "sum(test_target)"
   ]
  },
  {
   "cell_type": "code",
   "execution_count": 14,
   "metadata": {},
   "outputs": [],
   "source": [
    "token_path = '/home/yulia/final-project/Classification/data/tokenized'"
   ]
  },
  {
   "cell_type": "code",
   "execution_count": 15,
   "metadata": {},
   "outputs": [],
   "source": [
    "train_vec = np.load(os.path.join(token_path, 'train_vec.npy'))\n",
    "val_vec = np.load(os.path.join(token_path, 'val_vec.npy'))\n",
    "test_vec = np.load(os.path.join(token_path, 'test_vec.npy'))"
   ]
  },
  {
   "cell_type": "code",
   "execution_count": 20,
   "metadata": {},
   "outputs": [],
   "source": [
    "word_index = pickle.load(open(os.path.join(token_path, 'word_index.p'), 'rb'))"
   ]
  },
  {
   "cell_type": "markdown",
   "metadata": {},
   "source": [
    "## CNN Models"
   ]
  },
  {
   "cell_type": "code",
   "execution_count": 21,
   "metadata": {},
   "outputs": [],
   "source": [
    "logs_base_dir = main_dir + 'final-project/Classification/logs'"
   ]
  },
  {
   "cell_type": "code",
   "execution_count": 22,
   "metadata": {},
   "outputs": [],
   "source": [
    "cnn_model_params = {\n",
    "    'model': 'cnn',\n",
    "    'word_index': word_index,\n",
    "    'learning_rate': 0.001,\n",
    "    'layers': 2,\n",
    "    'epochs': 1000,\n",
    "    'batch_size': 128,\n",
    "    'filters': 64,\n",
    "    'dropout_rate': 0.2,\n",
    "    'embedding_dim': 200,\n",
    "    'kernel_size': 5,\n",
    "    'pool_size': 1,\n",
    "    'max_num_words': 20000,\n",
    "    'use_pretrained_embedding': True,\n",
    "    'is_embedding_trainable': True,\n",
    "    'glove_dir': main_dir + 'final-project/data'\n",
    "}"
   ]
  },
  {
   "cell_type": "code",
   "execution_count": 23,
   "metadata": {},
   "outputs": [
    {
     "name": "stdout",
     "output_type": "stream",
     "text": [
      "Found 400000 word vectors.\n",
      "It took 25.7 seconds\n",
      "Preparing embedding matrix.\n",
      "20000 20000\n",
      "Embedding matrix has been built.\n",
      "Its shape is (20000, 200).\n",
      "It took 0.0 seconds\n",
      "WARNING:tensorflow:From /home/yulia/anaconda3/lib/python3.6/site-packages/tensorflow/python/ops/resource_variable_ops.py:435: colocate_with (from tensorflow.python.framework.ops) is deprecated and will be removed in a future version.\n",
      "Instructions for updating:\n",
      "Colocations handled automatically by placer.\n",
      "WARNING:tensorflow:From /home/yulia/anaconda3/lib/python3.6/site-packages/tensorflow/python/keras/layers/core.py:143: calling dropout (from tensorflow.python.ops.nn_ops) with keep_prob is deprecated and will be removed in a future version.\n",
      "Instructions for updating:\n",
      "Please use `rate` instead of `keep_prob`. Rate should be set to `rate = 1 - keep_prob`.\n",
      "Train on 188148 samples, validate on 62716 samples\n",
      "WARNING:tensorflow:From /home/yulia/anaconda3/lib/python3.6/site-packages/tensorflow/python/ops/math_ops.py:3066: to_int32 (from tensorflow.python.ops.math_ops) is deprecated and will be removed in a future version.\n",
      "Instructions for updating:\n",
      "Use tf.cast instead.\n",
      "WARNING:tensorflow:From /home/yulia/anaconda3/lib/python3.6/site-packages/tensorflow/python/ops/math_grad.py:102: div (from tensorflow.python.ops.math_ops) is deprecated and will be removed in a future version.\n",
      "Instructions for updating:\n",
      "Deprecated in favor of operator or tf.math.divide.\n",
      "Epoch 1/1000\n",
      " - 1164s - loss: 0.6026 - acc: 0.6718 - val_loss: 0.5638 - val_acc: 0.7077\n",
      "Epoch 2/1000\n",
      " - 1149s - loss: 0.5469 - acc: 0.7222 - val_loss: 0.5427 - val_acc: 0.7289\n",
      "Epoch 3/1000\n",
      " - 1148s - loss: 0.5222 - acc: 0.7403 - val_loss: 0.5340 - val_acc: 0.7325\n",
      "Epoch 4/1000\n",
      " - 1148s - loss: 0.5023 - acc: 0.7546 - val_loss: 0.5270 - val_acc: 0.7357\n",
      "Epoch 5/1000\n",
      " - 1147s - loss: 0.4842 - acc: 0.7666 - val_loss: 0.5260 - val_acc: 0.7378\n",
      "Epoch 6/1000\n",
      " - 1146s - loss: 0.4659 - acc: 0.7782 - val_loss: 0.5347 - val_acc: 0.7294\n",
      "Epoch 7/1000\n",
      " - 1145s - loss: 0.4481 - acc: 0.7889 - val_loss: 0.5289 - val_acc: 0.7371\n",
      "Validation accuracy: 0.7371165156364441, loss: 0.5288818918310628\n"
     ]
    }
   ],
   "source": [
    "reload(train_model)\n",
    "history, train_pred_probs, val_pred_probs = train_model.train_model(((train_vec, train_target), (val_vec, val_target)), logs_base_dir, **cnn_model_params)"
   ]
  },
  {
   "cell_type": "markdown",
   "metadata": {},
   "source": [
    "### Clean up space/save outputs"
   ]
  },
  {
   "cell_type": "code",
   "execution_count": 5,
   "metadata": {},
   "outputs": [],
   "source": [
    "probs_path = main_dir + 'final-project/Classification/data/cnn/gender'"
   ]
  },
  {
   "cell_type": "code",
   "execution_count": 27,
   "metadata": {},
   "outputs": [],
   "source": [
    "with open(os.path.join(probs_path, 'val_pred_probs2'), 'wb') as fp:\n",
    "    pickle.dump(val_pred_probs, fp)"
   ]
  },
  {
   "cell_type": "code",
   "execution_count": null,
   "metadata": {},
   "outputs": [],
   "source": [
    "with open(os.path.join(probs_path, 'val_pred_probs2'), 'rb') as fp:\n",
    "    val_pred_probs = pickle.load(fp)"
   ]
  },
  {
   "cell_type": "markdown",
   "metadata": {},
   "source": [
    "## Model Evaluation"
   ]
  },
  {
   "cell_type": "code",
   "execution_count": 47,
   "metadata": {},
   "outputs": [
    {
     "data": {
      "text/plain": [
       "0.7371165252886026"
      ]
     },
     "execution_count": 47,
     "metadata": {},
     "output_type": "execute_result"
    }
   ],
   "source": [
    "val_preds = val_pred_probs > 0.5\n",
    "np.mean(val_preds.flatten()==val_target)"
   ]
  },
  {
   "cell_type": "code",
   "execution_count": 48,
   "metadata": {},
   "outputs": [
    {
     "data": {
      "text/plain": [
       "((62716, 1), 62716)"
      ]
     },
     "execution_count": 48,
     "metadata": {},
     "output_type": "execute_result"
    }
   ],
   "source": [
    "val_preds.shape, len(val_target)"
   ]
  },
  {
   "cell_type": "code",
   "execution_count": 49,
   "metadata": {},
   "outputs": [
    {
     "name": "stdout",
     "output_type": "stream",
     "text": [
      "Confusion matrix, without normalization\n",
      "[[23939  7419]\n",
      " [ 9068 22290]]\n",
      "             precision    recall  f1-score   support\n",
      "\n",
      "       Male       0.73      0.76      0.74     31358\n",
      "     Female       0.75      0.71      0.73     31358\n",
      "\n",
      "avg / total       0.74      0.74      0.74     62716\n",
      "\n"
     ]
    },
    {
     "data": {
      "text/plain": [
       "<matplotlib.axes._subplots.AxesSubplot at 0x7effb6a562e8>"
      ]
     },
     "execution_count": 49,
     "metadata": {},
     "output_type": "execute_result"
    },
    {
     "data": {
      "image/png": "[encoded data removed]",
      "text/plain": [
       "<Figure size 432x288 with 2 Axes>"
      ]
     },
     "metadata": {},
     "output_type": "display_data"
    }
   ],
   "source": [
    "reload(explore_data)\n",
    "# specify class names in 0 - 1 order\n",
    "classes = ['Male', 'Female']\n",
    "explore_data.plot_confusion_matrix(val_target, val_preds, classes, normalize=True)"
   ]
  },
  {
   "cell_type": "code",
   "execution_count": 51,
   "metadata": {},
   "outputs": [
    {
     "data": {
      "image/png": "[encoded data removed]",
      "text/plain": [
       "<Figure size 720x720 with 2 Axes>"
      ]
     },
     "metadata": {},
     "output_type": "display_data"
    }
   ],
   "source": [
    "reload(explore_data)\n",
    "explore_data.plot_calibration_curve(val_target, val_pred_probs, 'Gender')"
   ]
  },
  {
   "cell_type": "code",
   "execution_count": 52,
   "metadata": {},
   "outputs": [
    {
     "name": "stderr",
     "output_type": "stream",
     "text": [
      "/home/yulia/anaconda3/lib/python3.6/site-packages/numpy/lib/arraysetops.py:472: FutureWarning: elementwise comparison failed; returning scalar instead, but in the future will perform elementwise comparison\n",
      "  mask |= (ar1 == a)\n"
     ]
    },
    {
     "data": {
      "text/plain": [
       "(62716, 16)"
      ]
     },
     "execution_count": 52,
     "metadata": {},
     "output_type": "execute_result"
    }
   ],
   "source": [
    "descr_df = pd.read_csv('/home/yulia/final-project/data/QA/full_descr.txt', sep=\"|\", index_col=0)\n",
    "descr_df = descr_df.loc[np.asarray(val_ids, dtype=int)]\n",
    "descr_df.shape"
   ]
  },
  {
   "cell_type": "code",
   "execution_count": 53,
   "metadata": {},
   "outputs": [
    {
     "name": "stdout",
     "output_type": "stream",
     "text": [
      "Validation sample means:\n",
      "      Gender_F  Ethinicity_NW     AvgAge   Party_D  Chamber_H  AvgWordCount\n",
      "base       0.5       0.173991  58.285477  0.621468   0.659816     387.29868\n"
     ]
    },
    {
     "data": {
      "text/html": [
       "<div>\n",
       "<style scoped>\n",
       "    .dataframe tbody tr th:only-of-type {\n",
       "        vertical-align: middle;\n",
       "    }\n",
       "\n",
       "    .dataframe tbody tr th {\n",
       "        vertical-align: top;\n",
       "    }\n",
       "\n",
       "    .dataframe thead th {\n",
       "        text-align: right;\n",
       "    }\n",
       "</style>\n",
       "<table border=\"1\" class=\"dataframe\">\n",
       "  <thead>\n",
       "    <tr style=\"text-align: right;\">\n",
       "      <th></th>\n",
       "      <th>Gender_F</th>\n",
       "      <th>Ethinicity_NW</th>\n",
       "      <th>AvgAge</th>\n",
       "      <th>Party_D</th>\n",
       "      <th>Chamber_H</th>\n",
       "      <th>AvgWordCount</th>\n",
       "    </tr>\n",
       "  </thead>\n",
       "  <tbody>\n",
       "    <tr>\n",
       "      <th>0.4</th>\n",
       "      <td>0.45</td>\n",
       "      <td>0.46</td>\n",
       "      <td>0.99</td>\n",
       "      <td>0.83</td>\n",
       "      <td>0.76</td>\n",
       "      <td>0.94</td>\n",
       "    </tr>\n",
       "    <tr>\n",
       "      <th>0.6</th>\n",
       "      <td>1.05</td>\n",
       "      <td>0.94</td>\n",
       "      <td>0.99</td>\n",
       "      <td>0.97</td>\n",
       "      <td>1.11</td>\n",
       "      <td>0.89</td>\n",
       "    </tr>\n",
       "    <tr>\n",
       "      <th>1.0</th>\n",
       "      <td>1.58</td>\n",
       "      <td>1.63</td>\n",
       "      <td>1.01</td>\n",
       "      <td>1.20</td>\n",
       "      <td>1.21</td>\n",
       "      <td>1.13</td>\n",
       "    </tr>\n",
       "  </tbody>\n",
       "</table>\n",
       "</div>"
      ],
      "text/plain": [
       "     Gender_F  Ethinicity_NW  AvgAge  Party_D  Chamber_H  AvgWordCount\n",
       "0.4      0.45           0.46    0.99     0.83       0.76          0.94\n",
       "0.6      1.05           0.94    0.99     0.97       1.11          0.89\n",
       "1.0      1.58           1.63    1.01     1.20       1.21          1.13"
      ]
     },
     "execution_count": 53,
     "metadata": {},
     "output_type": "execute_result"
    }
   ],
   "source": [
    "reload(explore_data)\n",
    "# checking the ratios of demo variables in low-mid-high probability buckets\n",
    "explore_data.check_bin_probs_distr(val_pred_probs, \n",
    "                                   val_ids, \n",
    "                                   descr_df)"
   ]
  },
  {
   "cell_type": "code",
   "execution_count": 54,
   "metadata": {},
   "outputs": [
    {
     "name": "stdout",
     "output_type": "stream",
     "text": [
      "\n",
      "Top 10 ngrams by differentiating score:\n",
      "rise \t 1796.7\n",
      "mr president \t 1320.3\n",
      "speaker rise \t 1309.2\n",
      "women \t 1066.0\n",
      "rise today \t 905.7\n",
      "our \t 783.5\n",
      "colleagues to \t 776.7\n",
      "their \t 714.1\n",
      "families \t 704.0\n",
      "speaker \t 695.4\n"
     ]
    },
    {
     "data": {
      "text/html": [
       "<div>\n",
       "<style scoped>\n",
       "    .dataframe tbody tr th:only-of-type {\n",
       "        vertical-align: middle;\n",
       "    }\n",
       "\n",
       "    .dataframe tbody tr th {\n",
       "        vertical-align: top;\n",
       "    }\n",
       "\n",
       "    .dataframe thead th {\n",
       "        text-align: right;\n",
       "    }\n",
       "</style>\n",
       "<table border=\"1\" class=\"dataframe\">\n",
       "  <thead>\n",
       "    <tr style=\"text-align: right;\">\n",
       "      <th>bin</th>\n",
       "      <th>1</th>\n",
       "      <th>2</th>\n",
       "      <th>3</th>\n",
       "    </tr>\n",
       "  </thead>\n",
       "  <tbody>\n",
       "    <tr>\n",
       "      <th>colleagues to</th>\n",
       "      <td>2502.0</td>\n",
       "      <td>1795.0</td>\n",
       "      <td>5665.0</td>\n",
       "    </tr>\n",
       "    <tr>\n",
       "      <th>families</th>\n",
       "      <td>2996.0</td>\n",
       "      <td>2370.0</td>\n",
       "      <td>10543.0</td>\n",
       "    </tr>\n",
       "    <tr>\n",
       "      <th>mr president</th>\n",
       "      <td>17035.0</td>\n",
       "      <td>3308.0</td>\n",
       "      <td>4932.0</td>\n",
       "    </tr>\n",
       "    <tr>\n",
       "      <th>our</th>\n",
       "      <td>41036.0</td>\n",
       "      <td>24253.0</td>\n",
       "      <td>71147.0</td>\n",
       "    </tr>\n",
       "    <tr>\n",
       "      <th>rise</th>\n",
       "      <td>4210.0</td>\n",
       "      <td>2971.0</td>\n",
       "      <td>10026.0</td>\n",
       "    </tr>\n",
       "    <tr>\n",
       "      <th>rise today</th>\n",
       "      <td>1641.0</td>\n",
       "      <td>1184.0</td>\n",
       "      <td>4355.0</td>\n",
       "    </tr>\n",
       "    <tr>\n",
       "      <th>speaker</th>\n",
       "      <td>15025.0</td>\n",
       "      <td>10938.0</td>\n",
       "      <td>24473.0</td>\n",
       "    </tr>\n",
       "    <tr>\n",
       "      <th>speaker rise</th>\n",
       "      <td>1496.0</td>\n",
       "      <td>1263.0</td>\n",
       "      <td>4878.0</td>\n",
       "    </tr>\n",
       "    <tr>\n",
       "      <th>their</th>\n",
       "      <td>27181.0</td>\n",
       "      <td>15880.0</td>\n",
       "      <td>45061.0</td>\n",
       "    </tr>\n",
       "    <tr>\n",
       "      <th>women</th>\n",
       "      <td>1959.0</td>\n",
       "      <td>1786.0</td>\n",
       "      <td>17815.0</td>\n",
       "    </tr>\n",
       "  </tbody>\n",
       "</table>\n",
       "</div>"
      ],
      "text/plain": [
       "bin                  1        2        3\n",
       "colleagues to   2502.0   1795.0   5665.0\n",
       "families        2996.0   2370.0  10543.0\n",
       "mr president   17035.0   3308.0   4932.0\n",
       "our            41036.0  24253.0  71147.0\n",
       "rise            4210.0   2971.0  10026.0\n",
       "rise today      1641.0   1184.0   4355.0\n",
       "speaker        15025.0  10938.0  24473.0\n",
       "speaker rise    1496.0   1263.0   4878.0\n",
       "their          27181.0  15880.0  45061.0\n",
       "women           1959.0   1786.0  17815.0"
      ]
     },
     "execution_count": 54,
     "metadata": {},
     "output_type": "execute_result"
    }
   ],
   "source": [
    "reload(explore_data)\n",
    "explore_data.compare_ngrams(val, val_pred_probs, ngram_range=(1, 2))"
   ]
  },
  {
   "cell_type": "code",
   "execution_count": 55,
   "metadata": {
    "scrolled": false
   },
   "outputs": [
    {
     "name": "stdout",
     "output_type": "stream",
     "text": [
      "\n",
      "True positive (Predicted prob: 0.92):\n",
      "\n",
      "date               19980324\n",
      "char_count             1057\n",
      "word_count              181\n",
      "speakerid       1.05121e+08\n",
      "Party                     D\n",
      "Congress                105\n",
      "Chamber                   H\n",
      "State                    CA\n",
      "Ethnicity                 W\n",
      "Age                      58\n",
      "Age_lt_med                0\n",
      "NonWhite                  0\n",
      "Female                    1\n",
      "speaker          Ms. PELOSI\n",
      "Full Name     PELOSI, NANCY\n",
      "match                 exact\n",
      "Name: 1050119748, dtype: object\n",
      "\n",
      " Mr. Speaker. sadly I rise to call to the attention of my colleagues the passing of a good friend of working people in America. Jimmy Herman. Jimmy Herman is one of the most respected and beloved labor leaders in .San Francisco history. and he died on Friday. He was the president emeritus of the International Longshoremens and Warehousemens Union. Jimmy was known for his enormous compassion. commitment to workers rights and social justice. His life was truly about justice. He was also an extraordinary orator who inspired thousands to take up the cause of workers rights. justice for farm workers. peace in Vietnam. to name a few. His death marks the end of an historic era in the labor history of the San Francisco Bay area and our Nation. Jimmy devoted his life to building a strong. democratic and multiracial trade union. Since the big strike of 1934. the ILWU has provided democratic and strong representation that gives voice. and that is \"democratic\" with a small \"d\". Mr. Speaker. to the aspirations of working people up and down the West Coast.\n",
      "--------------------\n",
      "\n",
      "True negative (Predicted prob: 0.09):\n",
      "\n",
      "date                  19971009\n",
      "char_count                4472\n",
      "word_count                 725\n",
      "speakerid          1.05113e+08\n",
      "Party                        R\n",
      "Congress                   105\n",
      "Chamber                      S\n",
      "State                       AK\n",
      "Ethnicity                    W\n",
      "Age                         65\n",
      "Age_lt_med                   0\n",
      "NonWhite                     0\n",
      "Female                       0\n",
      "speaker          Mr. MURKOWSKI\n",
      "Full Name     MURKOWSKI, FRANK\n",
      "match                    exact\n",
      "Name: 1050088322, dtype: object\n",
      "\n",
      " Mr. President. as Congress prepares to leave for the Columbus Day recess. I notice that there are other celebrations going on around Washington. including \"National Day\" celebrations in Chinatown. These celebrations brought to mind several issues that I wanted to share with my colleagues regarding United States relations with Taiwan. As Washington prepares for the State visit of President Jiang Zemin of the Peoples Republic of China. some press reports have speculated that the issue of Taiwan might be on the summit agenda. First. let me say that I welcome the visit of President Jiang. Highlevel dialogue with the Chinese should be regular and routine. and this summit presents an opportunity to discuss many issues of mutual concern to our two countries. But let me add that improving relations with the PRC need not. and indeed. should not. come at the expense of our relationship with Taiwan. Therefore. I sent a letter. signed by 10 of my colleagues including Majority Leader TRENT LOTT. Minority Leader TOM DASCHLE. chairman of the Foreign Relations Committee JESSE HELMS. and East Asia and the Pacific Subcommittee Chairman CRAIG THOMAS. to President Clinton urging him to oppose any efforts at the summit by the PRC leadership to diminish American support for Taiwan. Mr. President. I ask that a copy of that letter be printed in the RECORD. Mr. President. I wish President Clinton and his administration success at the upcoming summit. and I urge him to respect the views of me and my colleagues. which I think represents the views of many Americans. that our support for Taiwans democracy and freedom cannot be sacrificed. I also want to use this opportunity to express my gratitude to Secretary of State Madeleine Albright for her efforts to consult more closely with Members of Congress with regard to issues related to Taiwan. I refer specifically to consultations regarding the recent selection of Richard Clarence Bush III as Chairman of the American Institute in Taiwan [AIT]. Some of my colleagues. Senate Foreign Relations Committee Chairman JESSE HELMS. in particular. will remember that the consultation process did not work when the prior AIT Chairman. Mr. James Wood. was selected. Mr. James Wood resigned from his position on January 1997 among various charges and countercharges with regard to foreign contributions during the election campaign. I leave the legitimacy of those charges to the investigators. but I simply wanted to note that congressional concerns: regarding Mr. Wood were ignored by our State Department. In response to this incident. I considered offering an amendment to the State Department authorization legislation that would have required establishing a post within the State Department that would be directly responsible for Taiwan Affairs. As part of ne. gotiations over that amendment. I had the opportunity to discuss with the Secretary my dissatisfaction with the consultation process on matters relating to Taiwan. The Secretary promised that she would rectify this situation and would in the future consult with Congress prior to naming future officers of AIT. She followed up on this oral promise with a letter dated July 30. 1997. that states that if the Foreign Relations Committee \"expresses reservations about a prospective trustee. we will undertake to discuss and Tesolve the matter fufly with the Committee before proceeding.\" Mr. President. I ask that a copy of the July 30 letter be printed in the RECORD. The Secretary held to her word and consulted with me and others prior to the selection of Richard Bush. I must admit. Mr. President-. that this was an easy case. Mr. Bush is a talented individual who is well qualified to take this sensitive position. I had the opportunity to negotiate with Mr. Bush when he was advising Congressman LEE HAMILTON on Taiwanrelated issues. and I found him wellspoken and honest. I look forward to the opportunity to continue to work -with him in his new role. I hope that Mr. Bush will use his new position to further strengthen and enhance United States relations with the people and the Government of Taiwan. Taiwan is our eighth largest trading partner. and I am confident that trade will increase further when Taiwan joins the World Trade Organization. In addition. I encourage the administration to send highlevel officials to Taiwan to further strengthen our relationship and to work out the occasional disputes that cloud our relationship. The letters follow:\n",
      "--------------------\n",
      "\n",
      "False positive (Predicted prob: 0.99):\n",
      "\n",
      "date                 19920219\n",
      "char_count               1870\n",
      "word_count                331\n",
      "speakerid         1.02112e+08\n",
      "Party                       R\n",
      "Congress                  102\n",
      "Chamber                     H\n",
      "State                      NY\n",
      "Ethnicity                   W\n",
      "Age                        62\n",
      "Age_lt_med                  0\n",
      "NonWhite                    0\n",
      "Female                      0\n",
      "speaker           Mr. SOLOMON\n",
      "Full Name     SOLOMON, GERALD\n",
      "match                   fuzzy\n",
      "Name: 1020137116, dtype: object\n",
      "\n",
      " Mr. Speaker. Id like all of you to join me in wishing a happy birthday to an extraordinary lady. She certainly is one of President Bushs \"points of light.\" I like to call them quiet American heroes. men or women who. without fanfare and glory. give generously of themselves to their communities and neighbors. Her name is Margaret Lyke. Everyone at Harrison Elementary School in South Glens Falls. NY thinks Mrs. Lyke is the greatest. and I can see why. For 14 years she has come to the school in the morning to help the children. This could take the form of drill work and oral reading. or just helping a youngster catch up after an absence. Or it could be tucking bananas and granola bars away in her purse for those who missed breakfast She is adored as everyones kindly extra grandmother. School officials care enough to advise her to stay at home during inclement weather which might make travel hazardous. Probably several hundred parents owe Mrs. Lyke a debt of gratitude. But thats not all. Mr. Speaker. Ever since shes been in this area. Mrs. Lyke also has been active in the South Glens Falls Methodist Church. serving as its advisory board secretary and having played a major role in the fund drive to pay off the mortgage on the new building. She also delivered meals on wheels for the Glens Falls Hospital and for the Moreau Community Center. She and her husband were also wellknown for helping drive elderly people to shopping centers. church. or medical appointments. As Is almost always the case with such special people. she was fully involved with her own family. She and her husband. the late Smith Lyke. raised three sons. Mr. Lyke. I might add. was an active member in American Legion Post No. 553. As her friends join in honoring her on her birthday March 31st. please join me in wishing this special person a happy birthday and many happy returns.\n",
      "--------------------\n",
      "\n",
      "False negative (Predicted prob: 0.09):\n",
      "\n",
      "date                    20041004\n",
      "char_count                   454\n",
      "word_count                    73\n",
      "speakerid            1.08118e+08\n",
      "Party                          D\n",
      "Congress                     108\n",
      "Chamber                        H\n",
      "State                         VI\n",
      "Ethnicity                      B\n",
      "Age                           59\n",
      "Age_lt_med                     0\n",
      "NonWhite                       1\n",
      "Female                         1\n",
      "speaker         Mrs. CHRISTENSEN\n",
      "Full Name     CHRISTENSEN, DONNA\n",
      "match                      exact\n",
      "Name: 1080188094, dtype: object\n",
      "\n",
      " Mr. Speaker. I want to begin by commending my friend and colleague on the Committee on Resources. the gentleman from Texas . for introducing this bill and for working hard to secure its passage. The community leaders in the Brownsville. Texas. area also deserve recognition .for the decision to use water desalinization and water recycling as tools to stabilize their water supplies and reduce the impact of drought. We strongly support this legislation.\n",
      "--------------------\n"
     ]
    }
   ],
   "source": [
    "reload(explore_data)\n",
    "explore_data.print_mispredictions(val_target, val_pred_probs, val, val_ids, descr_df)"
   ]
  },
  {
   "cell_type": "markdown",
   "metadata": {},
   "source": [
    "## CNN - chunking the data"
   ]
  },
  {
   "cell_type": "markdown",
   "metadata": {},
   "source": [
    "### Prepare the data"
   ]
  },
  {
   "cell_type": "code",
   "execution_count": 23,
   "metadata": {},
   "outputs": [],
   "source": [
    "chunk_len=50"
   ]
  },
  {
   "cell_type": "code",
   "execution_count": 25,
   "metadata": {},
   "outputs": [
    {
     "name": "stdout",
     "output_type": "stream",
     "text": [
      "Original data has 188148 speeches\n",
      "It was split into 1561543 chunks\n",
      "Checks on ids and target 1561543 1561543\n",
      "Original target mean 0.5\n",
      "New target mean 0.5147050065223948\n",
      "Original data has 62716 speeches\n",
      "It was split into 515514 chunks\n",
      "Checks on ids and target 515514 515514\n",
      "Original target mean 0.5\n",
      "New target mean 0.5173845909131469\n"
     ]
    }
   ],
   "source": [
    "reload(preprocess_data)\n",
    "train_chunk, train_ids_chunk, train_target_chunk = preprocess_data.split_speech_to_chunks(train, train_ids, train_target, max_len=chunk_len)\n",
    "val_chunk, val_ids_chunk, val_target_chunk = preprocess_data.split_speech_to_chunks(val, val_ids, val_target, max_len=chunk_len)"
   ]
  },
  {
   "cell_type": "code",
   "execution_count": 31,
   "metadata": {},
   "outputs": [],
   "source": [
    "# Limit on the number of features. \n",
    "TOP_K = 20000\n",
    "\n",
    "# Limit on the length of text sequences. Sequences longer than this\n",
    "# will be truncated.\n",
    "# MAX_SEQUENCE_LENGTH = 100\n",
    "MAX_SEQUENCE_LENGTH = chunk_len\n",
    "\n",
    "vec_params = {\n",
    "    'num_words': TOP_K,\n",
    "    'max_seq_length': MAX_SEQUENCE_LENGTH\n",
    "}"
   ]
  },
  {
   "cell_type": "code",
   "execution_count": 32,
   "metadata": {},
   "outputs": [
    {
     "name": "stdout",
     "output_type": "stream",
     "text": [
      "\n",
      "It took 204.4 seconds to tokenize the data\n"
     ]
    }
   ],
   "source": [
    "start_time = time.time()\n",
    "train_vec, val_vec, test_vec, word_index = preprocess_data.sequence_vectorize(train_chunk, val_chunk, test_chunk, **vec_params)\n",
    "print(\"\\nIt took {:.1f} seconds to tokenize the data\".format(time.time()-start_time))"
   ]
  },
  {
   "cell_type": "code",
   "execution_count": 68,
   "metadata": {},
   "outputs": [],
   "source": [
    "token_path = '/home/yulia/final-project/Classification/data/tokenized'"
   ]
  },
  {
   "cell_type": "code",
   "execution_count": 70,
   "metadata": {},
   "outputs": [],
   "source": [
    "np.save(os.path.join(token_path, 'train_vec_chunk'), train_vec)\n",
    "np.save(os.path.join(token_path, 'val_vec_chunk'), val_vec)\n",
    "np.save(os.path.join(token_path, 'test_vec_chunk'), test_vec)"
   ]
  },
  {
   "cell_type": "code",
   "execution_count": null,
   "metadata": {},
   "outputs": [],
   "source": [
    "train_vec = np.load(os.path.join(token_path, 'train_vec_chunk.npy'))\n",
    "val_vec = np.load(os.path.join(token_path, 'val_vec_chunk.npy'))\n",
    "test_vec = np.load(os.path.join(token_path, 'test_vec_chunk.npy'))"
   ]
  },
  {
   "cell_type": "code",
   "execution_count": 83,
   "metadata": {},
   "outputs": [
    {
     "data": {
      "text/plain": [
       "(1561543, 50)"
      ]
     },
     "execution_count": 83,
     "metadata": {},
     "output_type": "execute_result"
    }
   ],
   "source": [
    "train_vec.shape"
   ]
  },
  {
   "cell_type": "code",
   "execution_count": 84,
   "metadata": {},
   "outputs": [
    {
     "data": {
      "text/plain": [
       "array([   0,    0,    0,    0,    0,    0,    0,    0,  306,   55,   14,\n",
       "          9,   32, 1812,    3,  253,  194,  681,    3,    2,  429, 5085,\n",
       "         24,  278, 2259, 2766, 2484,    7,  222,    4,    2,   89,   15,\n",
       "        402,    5,    7,  222,   22,    7,  247,  313,    4, 5086,   11,\n",
       "         63,    1, 1366,  343,    2,  161], dtype=int32)"
      ]
     },
     "execution_count": 84,
     "metadata": {},
     "output_type": "execute_result"
    }
   ],
   "source": [
    "train_vec[0]"
   ]
  },
  {
   "cell_type": "code",
   "execution_count": 85,
   "metadata": {},
   "outputs": [
    {
     "data": {
      "text/plain": [
       "numpy.ndarray"
      ]
     },
     "execution_count": 85,
     "metadata": {},
     "output_type": "execute_result"
    }
   ],
   "source": [
    "type(train_vec)"
   ]
  },
  {
   "cell_type": "markdown",
   "metadata": {},
   "source": [
    "### Run the model"
   ]
  },
  {
   "cell_type": "code",
   "execution_count": 33,
   "metadata": {},
   "outputs": [
    {
     "name": "stdout",
     "output_type": "stream",
     "text": [
      "Found 400000 word vectors.\n",
      "It took 22.2 seconds\n",
      "Preparing embedding matrix.\n",
      "20000 20000\n",
      "Embedding matrix has been built.\n",
      "Its shape is (20000, 200).\n",
      "It took 0.0 seconds\n",
      "Train on 1561543 samples, validate on 515514 samples\n",
      "Epoch 1/1000\n",
      " - 787s - loss: 0.6190 - acc: 0.6540 - val_loss: 0.6120 - val_acc: 0.6626\n",
      "Epoch 2/1000\n",
      " - 786s - loss: 0.5976 - acc: 0.6769 - val_loss: 0.6073 - val_acc: 0.6683\n",
      "Epoch 3/1000\n",
      " - 785s - loss: 0.5878 - acc: 0.6857 - val_loss: 0.6048 - val_acc: 0.6712\n",
      "Epoch 4/1000\n",
      " - 786s - loss: 0.5787 - acc: 0.6936 - val_loss: 0.6046 - val_acc: 0.6715\n",
      "Epoch 5/1000\n",
      " - 786s - loss: 0.5694 - acc: 0.7020 - val_loss: 0.6038 - val_acc: 0.6718\n",
      "Epoch 6/1000\n",
      " - 787s - loss: 0.5600 - acc: 0.7090 - val_loss: 0.6058 - val_acc: 0.6718\n",
      "Epoch 7/1000\n",
      " - 785s - loss: 0.5507 - acc: 0.7161 - val_loss: 0.6071 - val_acc: 0.6708\n",
      "Validation accuracy: 0.6707907319068909, loss: 0.6070530459252929\n"
     ]
    }
   ],
   "source": [
    "history_chunk, train_pred_probs_chunk, val_pred_probs_chunk = train_model.train_model(((train_vec, train_target_chunk), (val_vec, val_target_chunk)), logs_base_dir, **cnn_model_params)"
   ]
  },
  {
   "cell_type": "code",
   "execution_count": 34,
   "metadata": {},
   "outputs": [],
   "source": [
    "with open(os.path.join(probs_path, 'val_pred_probs_chunk'), 'wb') as fp:\n",
    "    pickle.dump(val_pred_probs_chunk, fp)"
   ]
  },
  {
   "cell_type": "code",
   "execution_count": 27,
   "metadata": {},
   "outputs": [
    {
     "data": {
      "text/plain": [
       "0.6707907059750075"
      ]
     },
     "execution_count": 27,
     "metadata": {},
     "output_type": "execute_result"
    }
   ],
   "source": [
    "val_preds_chunk = val_pred_probs_chunk > 0.5\n",
    "np.mean(val_preds_chunk.flatten()==val_target_chunk)"
   ]
  },
  {
   "cell_type": "code",
   "execution_count": 28,
   "metadata": {},
   "outputs": [
    {
     "data": {
      "text/html": [
       "<div>\n",
       "<style scoped>\n",
       "    .dataframe tbody tr th:only-of-type {\n",
       "        vertical-align: middle;\n",
       "    }\n",
       "\n",
       "    .dataframe tbody tr th {\n",
       "        vertical-align: top;\n",
       "    }\n",
       "\n",
       "    .dataframe thead th {\n",
       "        text-align: right;\n",
       "    }\n",
       "</style>\n",
       "<table border=\"1\" class=\"dataframe\">\n",
       "  <thead>\n",
       "    <tr style=\"text-align: right;\">\n",
       "      <th></th>\n",
       "      <th>ids</th>\n",
       "      <th>probs_min</th>\n",
       "      <th>probs_max</th>\n",
       "      <th>probs_mean</th>\n",
       "      <th>target</th>\n",
       "      <th>preds</th>\n",
       "      <th>preds_probs_mean</th>\n",
       "      <th>preds_mean</th>\n",
       "    </tr>\n",
       "  </thead>\n",
       "  <tbody>\n",
       "    <tr>\n",
       "      <th>0</th>\n",
       "      <td>1000000344</td>\n",
       "      <td>0.119916</td>\n",
       "      <td>0.719327</td>\n",
       "      <td>0.544768</td>\n",
       "      <td>0</td>\n",
       "      <td>0.75</td>\n",
       "      <td>1</td>\n",
       "      <td>1</td>\n",
       "    </tr>\n",
       "    <tr>\n",
       "      <th>1</th>\n",
       "      <td>1000000363</td>\n",
       "      <td>0.035663</td>\n",
       "      <td>0.547337</td>\n",
       "      <td>0.317551</td>\n",
       "      <td>0</td>\n",
       "      <td>0.10</td>\n",
       "      <td>0</td>\n",
       "      <td>0</td>\n",
       "    </tr>\n",
       "    <tr>\n",
       "      <th>2</th>\n",
       "      <td>1000000554</td>\n",
       "      <td>0.041156</td>\n",
       "      <td>0.248933</td>\n",
       "      <td>0.145044</td>\n",
       "      <td>0</td>\n",
       "      <td>0.00</td>\n",
       "      <td>0</td>\n",
       "      <td>0</td>\n",
       "    </tr>\n",
       "    <tr>\n",
       "      <th>3</th>\n",
       "      <td>1000000582</td>\n",
       "      <td>0.119989</td>\n",
       "      <td>0.456109</td>\n",
       "      <td>0.262303</td>\n",
       "      <td>0</td>\n",
       "      <td>0.00</td>\n",
       "      <td>0</td>\n",
       "      <td>0</td>\n",
       "    </tr>\n",
       "    <tr>\n",
       "      <th>4</th>\n",
       "      <td>1000000732</td>\n",
       "      <td>0.143419</td>\n",
       "      <td>0.663259</td>\n",
       "      <td>0.320443</td>\n",
       "      <td>0</td>\n",
       "      <td>0.25</td>\n",
       "      <td>0</td>\n",
       "      <td>0</td>\n",
       "    </tr>\n",
       "  </tbody>\n",
       "</table>\n",
       "</div>"
      ],
      "text/plain": [
       "          ids  probs_min  probs_max  probs_mean  target  preds  \\\n",
       "0  1000000344   0.119916   0.719327    0.544768       0   0.75   \n",
       "1  1000000363   0.035663   0.547337    0.317551       0   0.10   \n",
       "2  1000000554   0.041156   0.248933    0.145044       0   0.00   \n",
       "3  1000000582   0.119989   0.456109    0.262303       0   0.00   \n",
       "4  1000000732   0.143419   0.663259    0.320443       0   0.25   \n",
       "\n",
       "   preds_probs_mean  preds_mean  \n",
       "0                 1           1  \n",
       "1                 0           0  \n",
       "2                 0           0  \n",
       "3                 0           0  \n",
       "4                 0           0  "
      ]
     },
     "execution_count": 28,
     "metadata": {},
     "output_type": "execute_result"
    }
   ],
   "source": [
    "pred_df = pd.DataFrame({'ids': val_ids_chunk, 'target': val_target_chunk, 'probs': val_pred_probs_chunk.flatten(), 'preds': val_preds_chunk.flatten()})\n",
    "f = {'probs': [min, max, 'mean']}\n",
    "pred_aggr_df = pred_df.groupby('ids').agg(f).reset_index()\n",
    "pred_aggr_df.columns = ['ids', 'probs_min', 'probs_max', 'probs_mean']\n",
    "pred_aggr_df = pred_aggr_df.merge(pred_df[['target', 'ids']].groupby('ids').mean().reset_index(), on='ids')\n",
    "pred_aggr_df = pred_aggr_df.merge(pred_df[['preds', 'ids']].groupby('ids').mean().reset_index(), on='ids')\n",
    "pred_aggr_df['preds_probs_mean'] = pred_aggr_df['probs_mean'].apply(lambda x: 1 if x > 0.5 else 0)\n",
    "pred_aggr_df['preds_mean'] = pred_aggr_df['preds'].apply(lambda x: 1 if x > 0.5 else 0)\n",
    "pred_aggr_df.head()"
   ]
  },
  {
   "cell_type": "code",
   "execution_count": 29,
   "metadata": {},
   "outputs": [
    {
     "data": {
      "text/plain": [
       "(0.7448976337776644, 0.7293513616939856)"
      ]
     },
     "execution_count": 29,
     "metadata": {},
     "output_type": "execute_result"
    }
   ],
   "source": [
    "np.mean(pred_aggr_df.target == pred_aggr_df.preds_probs_mean), np.mean(pred_aggr_df.target == pred_aggr_df.preds_mean)"
   ]
  },
  {
   "cell_type": "markdown",
   "metadata": {},
   "source": [
    "## Model evaluation"
   ]
  },
  {
   "cell_type": "code",
   "execution_count": 30,
   "metadata": {},
   "outputs": [],
   "source": [
    "val_preds_chunk = pred_aggr_df.preds_probs_mean\n",
    "val_pred_probs_aggr_chunk = pred_aggr_df.probs_mean\n",
    "val_aggr_target = pred_aggr_df.target\n",
    "val_aggr_ids = pred_aggr_df.ids"
   ]
  },
  {
   "cell_type": "code",
   "execution_count": 39,
   "metadata": {},
   "outputs": [],
   "source": [
    "with open(os.path.join(probs_path, 'val_pred_probs_aggr_chunk'), 'wb') as fp:\n",
    "    pickle.dump(list(val_pred_probs_aggr_chunk.values), fp)"
   ]
  },
  {
   "cell_type": "code",
   "execution_count": 32,
   "metadata": {},
   "outputs": [
    {
     "name": "stdout",
     "output_type": "stream",
     "text": [
      "Confusion matrix, without normalization\n",
      "[[22620  8738]\n",
      " [ 7261 24097]]\n",
      "             precision    recall  f1-score   support\n",
      "\n",
      "       Male       0.76      0.72      0.74     31358\n",
      "     Female       0.73      0.77      0.75     31358\n",
      "\n",
      "avg / total       0.75      0.74      0.74     62716\n",
      "\n"
     ]
    },
    {
     "data": {
      "text/plain": [
       "<matplotlib.axes._subplots.AxesSubplot at 0x7f56ce96e748>"
      ]
     },
     "execution_count": 32,
     "metadata": {},
     "output_type": "execute_result"
    },
    {
     "data": {
      "image/png": "[encoded data removed]",
      "text/plain": [
       "<Figure size 432x288 with 2 Axes>"
      ]
     },
     "metadata": {},
     "output_type": "display_data"
    }
   ],
   "source": [
    "reload(explore_data)\n",
    "# specify class names in 0 - 1 order\n",
    "classes = ['Male', 'Female']\n",
    "explore_data.plot_confusion_matrix(val_aggr_target, val_preds_chunk, classes, normalize=True)"
   ]
  },
  {
   "cell_type": "code",
   "execution_count": 63,
   "metadata": {
    "scrolled": false
   },
   "outputs": [
    {
     "data": {
      "image/png": "[encoded data removed]",
      "text/plain": [
       "<Figure size 720x720 with 2 Axes>"
      ]
     },
     "metadata": {},
     "output_type": "display_data"
    }
   ],
   "source": [
    "reload(explore_data)\n",
    "explore_data.plot_calibration_curve(val_aggr_target, val_pred_probs_aggr_chunk, 'Gender')"
   ]
  },
  {
   "cell_type": "code",
   "execution_count": 65,
   "metadata": {
    "scrolled": true
   },
   "outputs": [
    {
     "name": "stdout",
     "output_type": "stream",
     "text": [
      "Validation sample means:\n",
      "      Gender_F  Ethinicity_NW     AvgAge   Party_D  Chamber_H  AvgWordCount\n",
      "base       0.5       0.173991  58.285477  0.621468   0.659816     387.29868\n"
     ]
    },
    {
     "data": {
      "text/html": [
       "<div>\n",
       "<style scoped>\n",
       "    .dataframe tbody tr th:only-of-type {\n",
       "        vertical-align: middle;\n",
       "    }\n",
       "\n",
       "    .dataframe tbody tr th {\n",
       "        vertical-align: top;\n",
       "    }\n",
       "\n",
       "    .dataframe thead th {\n",
       "        text-align: right;\n",
       "    }\n",
       "</style>\n",
       "<table border=\"1\" class=\"dataframe\">\n",
       "  <thead>\n",
       "    <tr style=\"text-align: right;\">\n",
       "      <th></th>\n",
       "      <th>Gender_F</th>\n",
       "      <th>Ethinicity_NW</th>\n",
       "      <th>AvgAge</th>\n",
       "      <th>Party_D</th>\n",
       "      <th>Chamber_H</th>\n",
       "      <th>AvgWordCount</th>\n",
       "    </tr>\n",
       "  </thead>\n",
       "  <tbody>\n",
       "    <tr>\n",
       "      <th>0.4</th>\n",
       "      <td>0.31</td>\n",
       "      <td>0.34</td>\n",
       "      <td>0.99</td>\n",
       "      <td>0.80</td>\n",
       "      <td>0.66</td>\n",
       "      <td>0.78</td>\n",
       "    </tr>\n",
       "    <tr>\n",
       "      <th>0.6</th>\n",
       "      <td>0.98</td>\n",
       "      <td>0.83</td>\n",
       "      <td>0.99</td>\n",
       "      <td>0.95</td>\n",
       "      <td>1.06</td>\n",
       "      <td>1.12</td>\n",
       "    </tr>\n",
       "    <tr>\n",
       "      <th>1.0</th>\n",
       "      <td>1.65</td>\n",
       "      <td>1.81</td>\n",
       "      <td>1.02</td>\n",
       "      <td>1.25</td>\n",
       "      <td>1.22</td>\n",
       "      <td>1.03</td>\n",
       "    </tr>\n",
       "  </tbody>\n",
       "</table>\n",
       "</div>"
      ],
      "text/plain": [
       "     Gender_F  Ethinicity_NW  AvgAge  Party_D  Chamber_H  AvgWordCount\n",
       "0.4      0.31           0.34    0.99     0.80       0.66          0.78\n",
       "0.6      0.98           0.83    0.99     0.95       1.06          1.12\n",
       "1.0      1.65           1.81    1.02     1.25       1.22          1.03"
      ]
     },
     "execution_count": 65,
     "metadata": {},
     "output_type": "execute_result"
    }
   ],
   "source": [
    "reload(explore_data)\n",
    "# checking the ratios of demo variables in low-mid-high probability buckets\n",
    "explore_data.check_bin_probs_distr(val_pred_probs_aggr_chunk, \n",
    "                                   val_aggr_ids, \n",
    "                                   descr_df)"
   ]
  },
  {
   "cell_type": "code",
   "execution_count": 81,
   "metadata": {},
   "outputs": [
    {
     "name": "stdout",
     "output_type": "stream",
     "text": [
      "\n",
      "Top 10 ngrams by differentiating score:\n",
      "women \t 7330.1\n",
      "mr president \t 5971.0\n",
      "our \t 5162.0\n",
      "president \t 4202.8\n",
      "children \t 4151.9\n",
      "families \t 3156.8\n",
      "her \t 2822.3\n",
      "health \t 2524.0\n",
      "their \t 2426.8\n",
      "senate \t 2418.1\n"
     ]
    },
    {
     "data": {
      "text/html": [
       "<div>\n",
       "<style scoped>\n",
       "    .dataframe tbody tr th:only-of-type {\n",
       "        vertical-align: middle;\n",
       "    }\n",
       "\n",
       "    .dataframe tbody tr th {\n",
       "        vertical-align: top;\n",
       "    }\n",
       "\n",
       "    .dataframe thead th {\n",
       "        text-align: right;\n",
       "    }\n",
       "</style>\n",
       "<table border=\"1\" class=\"dataframe\">\n",
       "  <thead>\n",
       "    <tr style=\"text-align: right;\">\n",
       "      <th>bin</th>\n",
       "      <th>1</th>\n",
       "      <th>2</th>\n",
       "      <th>3</th>\n",
       "    </tr>\n",
       "  </thead>\n",
       "  <tbody>\n",
       "    <tr>\n",
       "      <th>children</th>\n",
       "      <td>1693.0</td>\n",
       "      <td>5260.0</td>\n",
       "      <td>16408.0</td>\n",
       "    </tr>\n",
       "    <tr>\n",
       "      <th>families</th>\n",
       "      <td>1228.0</td>\n",
       "      <td>3623.0</td>\n",
       "      <td>11058.0</td>\n",
       "    </tr>\n",
       "    <tr>\n",
       "      <th>health</th>\n",
       "      <td>3806.0</td>\n",
       "      <td>8155.0</td>\n",
       "      <td>18177.0</td>\n",
       "    </tr>\n",
       "    <tr>\n",
       "      <th>her</th>\n",
       "      <td>2045.0</td>\n",
       "      <td>5359.0</td>\n",
       "      <td>17178.0</td>\n",
       "    </tr>\n",
       "    <tr>\n",
       "      <th>mr president</th>\n",
       "      <td>15037.0</td>\n",
       "      <td>5642.0</td>\n",
       "      <td>4377.0</td>\n",
       "    </tr>\n",
       "    <tr>\n",
       "      <th>our</th>\n",
       "      <td>24478.0</td>\n",
       "      <td>41626.0</td>\n",
       "      <td>70332.0</td>\n",
       "    </tr>\n",
       "    <tr>\n",
       "      <th>president</th>\n",
       "      <td>26312.0</td>\n",
       "      <td>16313.0</td>\n",
       "      <td>13079.0</td>\n",
       "    </tr>\n",
       "    <tr>\n",
       "      <th>senate</th>\n",
       "      <td>13035.0</td>\n",
       "      <td>7480.0</td>\n",
       "      <td>5508.0</td>\n",
       "    </tr>\n",
       "    <tr>\n",
       "      <th>their</th>\n",
       "      <td>16499.0</td>\n",
       "      <td>28819.0</td>\n",
       "      <td>42804.0</td>\n",
       "    </tr>\n",
       "    <tr>\n",
       "      <th>women</th>\n",
       "      <td>744.0</td>\n",
       "      <td>2343.0</td>\n",
       "      <td>18473.0</td>\n",
       "    </tr>\n",
       "  </tbody>\n",
       "</table>\n",
       "</div>"
      ],
      "text/plain": [
       "bin                 1        2        3\n",
       "children       1693.0   5260.0  16408.0\n",
       "families       1228.0   3623.0  11058.0\n",
       "health         3806.0   8155.0  18177.0\n",
       "her            2045.0   5359.0  17178.0\n",
       "mr president  15037.0   5642.0   4377.0\n",
       "our           24478.0  41626.0  70332.0\n",
       "president     26312.0  16313.0  13079.0\n",
       "senate        13035.0   7480.0   5508.0\n",
       "their         16499.0  28819.0  42804.0\n",
       "women           744.0   2343.0  18473.0"
      ]
     },
     "execution_count": 81,
     "metadata": {},
     "output_type": "execute_result"
    }
   ],
   "source": [
    "reload(explore_data)\n",
    "explore_data.compare_ngrams(val_chunk, val_pred_probs_chunk, ngram_range=(1, 2))"
   ]
  },
  {
   "cell_type": "code",
   "execution_count": 82,
   "metadata": {},
   "outputs": [
    {
     "name": "stdout",
     "output_type": "stream",
     "text": [
      "\n",
      "Top 10 ngrams by differentiating score:\n",
      "mr president \t 5971.0\n",
      "the senate \t 2382.3\n",
      "the senator \t 2348.8\n",
      "senator from \t 2333.0\n",
      "of the \t 1827.5\n",
      "ought to \t 1628.6\n",
      "the senator from \t 1614.4\n",
      "women and \t 1306.0\n",
      "speaker rise \t 1245.1\n",
      "the distinguished \t 1223.8\n"
     ]
    },
    {
     "data": {
      "text/html": [
       "<div>\n",
       "<style scoped>\n",
       "    .dataframe tbody tr th:only-of-type {\n",
       "        vertical-align: middle;\n",
       "    }\n",
       "\n",
       "    .dataframe tbody tr th {\n",
       "        vertical-align: top;\n",
       "    }\n",
       "\n",
       "    .dataframe thead th {\n",
       "        text-align: right;\n",
       "    }\n",
       "</style>\n",
       "<table border=\"1\" class=\"dataframe\">\n",
       "  <thead>\n",
       "    <tr style=\"text-align: right;\">\n",
       "      <th>bin</th>\n",
       "      <th>1</th>\n",
       "      <th>2</th>\n",
       "      <th>3</th>\n",
       "    </tr>\n",
       "  </thead>\n",
       "  <tbody>\n",
       "    <tr>\n",
       "      <th>mr president</th>\n",
       "      <td>15037.0</td>\n",
       "      <td>5642.0</td>\n",
       "      <td>4377.0</td>\n",
       "    </tr>\n",
       "    <tr>\n",
       "      <th>of the</th>\n",
       "      <td>68707.0</td>\n",
       "      <td>62651.0</td>\n",
       "      <td>62203.0</td>\n",
       "    </tr>\n",
       "    <tr>\n",
       "      <th>ought to</th>\n",
       "      <td>2636.0</td>\n",
       "      <td>588.0</td>\n",
       "      <td>196.0</td>\n",
       "    </tr>\n",
       "    <tr>\n",
       "      <th>senator from</th>\n",
       "      <td>6122.0</td>\n",
       "      <td>1758.0</td>\n",
       "      <td>890.0</td>\n",
       "    </tr>\n",
       "    <tr>\n",
       "      <th>speaker rise</th>\n",
       "      <td>945.0</td>\n",
       "      <td>1802.0</td>\n",
       "      <td>4873.0</td>\n",
       "    </tr>\n",
       "    <tr>\n",
       "      <th>the distinguished</th>\n",
       "      <td>2379.0</td>\n",
       "      <td>625.0</td>\n",
       "      <td>399.0</td>\n",
       "    </tr>\n",
       "    <tr>\n",
       "      <th>the senate</th>\n",
       "      <td>10676.0</td>\n",
       "      <td>5803.0</td>\n",
       "      <td>4064.0</td>\n",
       "    </tr>\n",
       "    <tr>\n",
       "      <th>the senator</th>\n",
       "      <td>6598.0</td>\n",
       "      <td>2042.0</td>\n",
       "      <td>1028.0</td>\n",
       "    </tr>\n",
       "    <tr>\n",
       "      <th>the senator from</th>\n",
       "      <td>4689.0</td>\n",
       "      <td>1469.0</td>\n",
       "      <td>743.0</td>\n",
       "    </tr>\n",
       "    <tr>\n",
       "      <th>women and</th>\n",
       "      <td>73.0</td>\n",
       "      <td>241.0</td>\n",
       "      <td>2240.0</td>\n",
       "    </tr>\n",
       "  </tbody>\n",
       "</table>\n",
       "</div>"
      ],
      "text/plain": [
       "bin                      1        2        3\n",
       "mr president       15037.0   5642.0   4377.0\n",
       "of the             68707.0  62651.0  62203.0\n",
       "ought to            2636.0    588.0    196.0\n",
       "senator from        6122.0   1758.0    890.0\n",
       "speaker rise         945.0   1802.0   4873.0\n",
       "the distinguished   2379.0    625.0    399.0\n",
       "the senate         10676.0   5803.0   4064.0\n",
       "the senator         6598.0   2042.0   1028.0\n",
       "the senator from    4689.0   1469.0    743.0\n",
       "women and             73.0    241.0   2240.0"
      ]
     },
     "execution_count": 82,
     "metadata": {},
     "output_type": "execute_result"
    }
   ],
   "source": [
    "reload(explore_data)\n",
    "explore_data.compare_ngrams(val_chunk, val_pred_probs_chunk, ngram_range=(2, 3))"
   ]
  },
  {
   "cell_type": "code",
   "execution_count": null,
   "metadata": {},
   "outputs": [],
   "source": []
  }
 ],
 "metadata": {
  "kernelspec": {
   "display_name": "Python 3",
   "language": "python",
   "name": "python3"
  },
  "language_info": {
   "codemirror_mode": {
    "name": "ipython",
    "version": 3
   },
   "file_extension": ".py",
   "mimetype": "text/x-python",
   "name": "python",
   "nbconvert_exporter": "python",
   "pygments_lexer": "ipython3",
   "version": "3.5.2"
  }
 },
 "nbformat": 4,
 "nbformat_minor": 2
}
