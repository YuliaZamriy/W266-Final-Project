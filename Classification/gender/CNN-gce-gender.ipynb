{
 "cells": [
  {
   "cell_type": "code",
   "execution_count": 4,
   "metadata": {},
   "outputs": [
    {
     "data": {
      "text/html": [
       "<style>.container { width:100% !important; }</style>"
      ],
      "text/plain": [
       "<IPython.core.display.HTML object>"
      ]
     },
     "metadata": {},
     "output_type": "display_data"
    }
   ],
   "source": [
    "# increase cell width\n",
    "from IPython.core.display import display, HTML\n",
    "display(HTML(\"<style>.container { width:100% !important; }</style>\"))"
   ]
  },
  {
   "cell_type": "markdown",
   "metadata": {},
   "source": [
    "Inspiration for code:\n",
    "\n",
    "- https://developers.google.com/machine-learning/guides/text-classification/\n",
    "- https://github.com/google/eng-edu/blob/master/ml/guides/text_classification/load_data.py"
   ]
  },
  {
   "cell_type": "code",
   "execution_count": 5,
   "metadata": {},
   "outputs": [],
   "source": [
    "from __future__ import absolute_import\n",
    "from __future__ import division\n",
    "from __future__ import print_function\n",
    "\n",
    "import os\n",
    "import random\n",
    "import time\n",
    "import pickle\n",
    "import gc\n",
    "import re\n",
    "\n",
    "import numpy as np\n",
    "import pandas as pd\n",
    "\n",
    "from importlib import reload"
   ]
  },
  {
   "cell_type": "code",
   "execution_count": 6,
   "metadata": {},
   "outputs": [
    {
     "name": "stderr",
     "output_type": "stream",
     "text": [
      "/home/yulia/anaconda3/lib/python3.6/site-packages/h5py/__init__.py:36: FutureWarning: Conversion of the second argument of issubdtype from `float` to `np.floating` is deprecated. In future, it will be treated as `np.float64 == np.dtype(float).type`.\n",
      "  from ._conv import register_converters as _register_converters\n"
     ]
    }
   ],
   "source": [
    "from helpers import load_data\n",
    "from helpers import explore_data\n",
    "from helpers import preprocess_data\n",
    "from helpers import train_model"
   ]
  },
  {
   "cell_type": "code",
   "execution_count": 7,
   "metadata": {},
   "outputs": [
    {
     "data": {
      "text/plain": [
       "'1.13.0-rc2'"
      ]
     },
     "execution_count": 7,
     "metadata": {},
     "output_type": "execute_result"
    }
   ],
   "source": [
    "import tensorflow as tf\n",
    "tf.__version__"
   ]
  },
  {
   "cell_type": "markdown",
   "metadata": {},
   "source": [
    "## Load the data"
   ]
  },
  {
   "cell_type": "code",
   "execution_count": 8,
   "metadata": {},
   "outputs": [],
   "source": [
    "main_dir = '/home/yulia/W266-Final-Project/'"
   ]
  },
  {
   "cell_type": "code",
   "execution_count": 9,
   "metadata": {},
   "outputs": [],
   "source": [
    "data_path = main_dir+'data/raw/hein-daily'"
   ]
  },
  {
   "cell_type": "code",
   "execution_count": 10,
   "metadata": {},
   "outputs": [
    {
     "name": "stdout",
     "output_type": "stream",
     "text": [
      "\n",
      "File speeches_097.txt has 249718612 characters\n",
      "and 283399 speeches\n",
      "\n",
      "Speeches list has 283399 speeches\n",
      "\n",
      "File speeches_098.txt has 252071246 characters\n",
      "and 280289 speeches\n",
      "\n",
      "Speeches list has 563688 speeches\n",
      "\n",
      "File speeches_099.txt has 265326480 characters\n",
      "and 281528 speeches\n",
      "\n",
      "Speeches list has 845216 speeches\n",
      "\n",
      "File speeches_100.txt has 270610780 characters\n",
      "and 276162 speeches\n",
      "\n",
      "Speeches list has 1121378 speeches\n",
      "\n",
      "File speeches_101.txt has 261004871 characters\n",
      "and 251217 speeches\n",
      "\n",
      "Speeches list has 1372595 speeches\n",
      "\n",
      "File speeches_102.txt has 271650630 characters\n",
      "and 243092 speeches\n",
      "\n",
      "Speeches list has 1615687 speeches\n",
      "\n",
      "File speeches_103.txt has 249908822 characters\n",
      "and 235974 speeches\n",
      "\n",
      "Speeches list has 1851661 speeches\n",
      "\n",
      "File speeches_104.txt has 280355367 characters\n",
      "and 274985 speeches\n",
      "\n",
      "Speeches list has 2126646 speeches\n",
      "\n",
      "File speeches_105.txt has 235226903 characters\n",
      "and 209267 speeches\n",
      "\n",
      "Speeches list has 2335913 speeches\n",
      "\n",
      "File speeches_106.txt has 243801385 characters\n",
      "and 209648 speeches\n",
      "\n",
      "Speeches list has 2545561 speeches\n",
      "\n",
      "File speeches_107.txt has 214724318 characters\n",
      "and 180726 speeches\n",
      "\n",
      "Speeches list has 2726287 speeches\n",
      "\n",
      "File speeches_108.txt has 237009565 characters\n",
      "and 200159 speeches\n",
      "\n",
      "Speeches list has 2926446 speeches\n",
      "\n",
      "File speeches_109.txt has 226698889 characters\n",
      "and 187647 speeches\n",
      "\n",
      "Speeches list has 3114093 speeches\n",
      "\n",
      "File speeches_110.txt has 242773059 characters\n",
      "and 211367 speeches\n",
      "\n",
      "Speeches list has 3325460 speeches\n",
      "\n",
      "File speeches_111.txt has 183499959 characters\n",
      "and 154400 speeches\n",
      "\n",
      "Speeches list has 3479860 speeches\n",
      "\n",
      "File speeches_112.txt has 174117603 characters\n",
      "and 145901 speeches\n",
      "\n",
      "Speeches list has 3625761 speeches\n",
      "\n",
      "File speeches_113.txt has 153424011 characters\n",
      "and 128149 speeches\n",
      "\n",
      "Speeches list has 3753910 speeches\n",
      "\n",
      "File speeches_114.txt has 130969173 characters\n",
      "and 112291 speeches\n",
      "\n",
      "Speeches list has 3866201 speeches\n"
     ]
    }
   ],
   "source": [
    "reload(load_data)\n",
    "all_speech_ids, all_speeches = load_data.load_speech_data(data_path)"
   ]
  },
  {
   "cell_type": "code",
   "execution_count": 11,
   "metadata": {},
   "outputs": [
    {
     "data": {
      "text/plain": [
       "(3866201, 3866201)"
      ]
     },
     "execution_count": 11,
     "metadata": {},
     "output_type": "execute_result"
    }
   ],
   "source": [
    "len(all_speech_ids), len(all_speeches)"
   ]
  },
  {
   "cell_type": "markdown",
   "metadata": {},
   "source": [
    "## Create target labels"
   ]
  },
  {
   "cell_type": "code",
   "execution_count": 12,
   "metadata": {},
   "outputs": [
    {
     "name": "stdout",
     "output_type": "stream",
     "text": [
      "2914465 lines have been read\n",
      "37617 keys had duplicates and deleted\n",
      "The dictionary has 2808050 keys\n",
      "\n",
      "Random congressperson: 1090182100\n",
      "date 20061114\n",
      "char_count 278\n",
      "word_count 49\n",
      "speakerid 109112991.0\n",
      "Party R\n",
      "Congress 109\n",
      "Chamber S\n",
      "State TN\n",
      "Ethnicity W\n",
      "Age 54.0\n",
      "Age_lt_med 1.0\n",
      "NonWhite 0.0\n",
      "Female 0.0\n",
      "speaker Mr. FRIST\n",
      "Full Name FRIST, WILLIAM\n",
      "match exact\n",
      "check 1\n",
      "\n",
      "It took 36.6 seconds to create the dictionary\n"
     ]
    }
   ],
   "source": [
    "reload(load_data)\n",
    "start_time = time.time()\n",
    "descr = load_data.load_descr_data(main_dir+'data/QA/full_descr.txt')\n",
    "print(\"\\nIt took {:.1f} seconds to create the dictionary\".format(time.time()-start_time))"
   ]
  },
  {
   "cell_type": "code",
   "execution_count": 13,
   "metadata": {},
   "outputs": [
    {
     "data": {
      "text/plain": [
       "0.9634876258550458"
      ]
     },
     "execution_count": 13,
     "metadata": {},
     "output_type": "execute_result"
    }
   ],
   "source": [
    "len(list(descr.keys()))/2914464"
   ]
  },
  {
   "cell_type": "code",
   "execution_count": 14,
   "metadata": {},
   "outputs": [
    {
     "data": {
      "text/plain": [
       "(3866201, 3866201, 3866201, 3866201, 3866201, 3866201)"
      ]
     },
     "execution_count": 14,
     "metadata": {},
     "output_type": "execute_result"
    }
   ],
   "source": [
    "gender, ethnicity, age, party, chamber, congress = load_data.create_target_labels(all_speech_ids, descr)\n",
    "len(gender), len(ethnicity), len(age), len(party), len(chamber), len(congress)"
   ]
  },
  {
   "cell_type": "markdown",
   "metadata": {},
   "source": [
    "## Data QA"
   ]
  },
  {
   "cell_type": "code",
   "execution_count": 15,
   "metadata": {},
   "outputs": [
    {
     "name": "stdout",
     "output_type": "stream",
     "text": [
      "\n",
      " Gender\n",
      "Overall speech counts:\n"
     ]
    },
    {
     "data": {
      "text/html": [
       "<div>\n",
       "<style scoped>\n",
       "    .dataframe tbody tr th:only-of-type {\n",
       "        vertical-align: middle;\n",
       "    }\n",
       "\n",
       "    .dataframe tbody tr th {\n",
       "        vertical-align: top;\n",
       "    }\n",
       "\n",
       "    .dataframe thead th {\n",
       "        text-align: right;\n",
       "    }\n",
       "</style>\n",
       "<table border=\"1\" class=\"dataframe\">\n",
       "  <thead>\n",
       "    <tr style=\"text-align: right;\">\n",
       "      <th></th>\n",
       "      <th>Category</th>\n",
       "      <th>Count</th>\n",
       "    </tr>\n",
       "  </thead>\n",
       "  <tbody>\n",
       "    <tr>\n",
       "      <th>0</th>\n",
       "      <td>-1</td>\n",
       "      <td>1058151</td>\n",
       "    </tr>\n",
       "    <tr>\n",
       "      <th>1</th>\n",
       "      <td>0</td>\n",
       "      <td>2579578</td>\n",
       "    </tr>\n",
       "    <tr>\n",
       "      <th>2</th>\n",
       "      <td>1</td>\n",
       "      <td>228472</td>\n",
       "    </tr>\n",
       "  </tbody>\n",
       "</table>\n",
       "</div>"
      ],
      "text/plain": [
       "<IPython.core.display.HTML object>"
      ]
     },
     "metadata": {},
     "output_type": "display_data"
    },
    {
     "name": "stdout",
     "output_type": "stream",
     "text": [
      "Target group number of speeches by party:\n",
      "A: \t 0\n",
      "D: \t 165834\n",
      "I: \t 0\n",
      "N: \t 0\n",
      "NA: \t -1058151\n",
      "P: \t 0\n",
      "R: \t 62638\n",
      "\n",
      " Ethnicity\n",
      "Overall speech counts:\n"
     ]
    },
    {
     "data": {
      "text/html": [
       "<div>\n",
       "<style scoped>\n",
       "    .dataframe tbody tr th:only-of-type {\n",
       "        vertical-align: middle;\n",
       "    }\n",
       "\n",
       "    .dataframe tbody tr th {\n",
       "        vertical-align: top;\n",
       "    }\n",
       "\n",
       "    .dataframe thead th {\n",
       "        text-align: right;\n",
       "    }\n",
       "</style>\n",
       "<table border=\"1\" class=\"dataframe\">\n",
       "  <thead>\n",
       "    <tr style=\"text-align: right;\">\n",
       "      <th></th>\n",
       "      <th>Category</th>\n",
       "      <th>Count</th>\n",
       "    </tr>\n",
       "  </thead>\n",
       "  <tbody>\n",
       "    <tr>\n",
       "      <th>0</th>\n",
       "      <td>-1</td>\n",
       "      <td>1058151</td>\n",
       "    </tr>\n",
       "    <tr>\n",
       "      <th>1</th>\n",
       "      <td>0</td>\n",
       "      <td>2566825</td>\n",
       "    </tr>\n",
       "    <tr>\n",
       "      <th>2</th>\n",
       "      <td>1</td>\n",
       "      <td>241225</td>\n",
       "    </tr>\n",
       "  </tbody>\n",
       "</table>\n",
       "</div>"
      ],
      "text/plain": [
       "<IPython.core.display.HTML object>"
      ]
     },
     "metadata": {},
     "output_type": "display_data"
    },
    {
     "name": "stdout",
     "output_type": "stream",
     "text": [
      "Target group number of speeches by party:\n",
      "A: \t 21\n",
      "D: \t 213500\n",
      "I: \t 64\n",
      "N: \t 334\n",
      "NA: \t -1058151\n",
      "P: \t 53\n",
      "R: \t 27253\n",
      "\n",
      " Age\n",
      "Overall speech counts:\n"
     ]
    },
    {
     "data": {
      "text/html": [
       "<div>\n",
       "<style scoped>\n",
       "    .dataframe tbody tr th:only-of-type {\n",
       "        vertical-align: middle;\n",
       "    }\n",
       "\n",
       "    .dataframe tbody tr th {\n",
       "        vertical-align: top;\n",
       "    }\n",
       "\n",
       "    .dataframe thead th {\n",
       "        text-align: right;\n",
       "    }\n",
       "</style>\n",
       "<table border=\"1\" class=\"dataframe\">\n",
       "  <thead>\n",
       "    <tr style=\"text-align: right;\">\n",
       "      <th></th>\n",
       "      <th>Category</th>\n",
       "      <th>Count</th>\n",
       "    </tr>\n",
       "  </thead>\n",
       "  <tbody>\n",
       "    <tr>\n",
       "      <th>0</th>\n",
       "      <td>-1</td>\n",
       "      <td>1058151</td>\n",
       "    </tr>\n",
       "    <tr>\n",
       "      <th>1</th>\n",
       "      <td>0</td>\n",
       "      <td>1836698</td>\n",
       "    </tr>\n",
       "    <tr>\n",
       "      <th>2</th>\n",
       "      <td>1</td>\n",
       "      <td>971352</td>\n",
       "    </tr>\n",
       "  </tbody>\n",
       "</table>\n",
       "</div>"
      ],
      "text/plain": [
       "<IPython.core.display.HTML object>"
      ]
     },
     "metadata": {},
     "output_type": "display_data"
    },
    {
     "name": "stdout",
     "output_type": "stream",
     "text": [
      "Target group number of speeches by party:\n",
      "A: \t 21\n",
      "D: \t 482630\n",
      "I: \t 360\n",
      "N: \t 334\n",
      "NA: \t -1058151\n",
      "P: \t 53\n",
      "R: \t 487954\n"
     ]
    }
   ],
   "source": [
    "reload(explore_data)\n",
    "for i in [(gender, \"Gender\"), (ethnicity, \"Ethnicity\"), (age, \"Age\")]:\n",
    "    print(\"\\n\", i[1])\n",
    "    print(\"Overall speech counts:\")\n",
    "    explore_data.get_counts(i[0])\n",
    "    print(\"Target group number of speeches by party:\")\n",
    "    explore_data.get_counts_by_category(i[0], party)"
   ]
  },
  {
   "cell_type": "code",
   "execution_count": 16,
   "metadata": {},
   "outputs": [
    {
     "name": "stdout",
     "output_type": "stream",
     "text": [
      "Speaker information\n",
      "date 19900910\n",
      "char_count 3680\n",
      "word_count 553\n",
      "speakerid 101121080.0\n",
      "Party R\n",
      "Congress 101\n",
      "Chamber H\n",
      "State FL\n",
      "Ethnicity H\n",
      "Age 38.0\n",
      "Age_lt_med 1.0\n",
      "NonWhite 1.0\n",
      "Female 1.0\n",
      "speaker Ms. ROS-LEHTINEN\n",
      "Full Name ROS-LEHTINEN, ILEANA\n",
      "match fuzzy\n",
      "check 1\n",
      "\n",
      "Mr. Speaker. I would like to bring to your attention the many accomplishments of the Miami Job Corps Center. which is a federally funded program contracted by RESCARE. Inc.. in Louisville. KY. Rated among the top ten Job Corps Centers in the country. the Miami Job Corps Center helps young people to overcome various problems they have experienced in their personal lives and become productive and selfsufficient citizens. The success of the Miami Job Corps is largely owed to the excellent leadership and guidance provided by Mr. Don E. DeJarnett. Mr. DeJarnett came to Miami approximately 7 years ago from Kentucky. where he was the deputy center director at the Whitney M. Young Job Corps Program. for 19 years. From his earlier position of welding instructor. Mr. DeJarnett has elevated himself to the post of director of the Miami Job Corps. The Miami Job Corps makes the dreams of such program students as Mario Hair become a reality. Mr. Hair was recently notified that he had won two firstplace National Awards in the arts and craft competition this year. Two first place trophies and a check for $600 were awarded to Mr. Hair upon his trip to Washington. DC. where the awards were presented. This achievement is one that Mr. Hair can be very proud of. as well as the Centers staff and students. The Centers Culinary Arts Program also had much to celebrate when they were placed second in the annual Region IV Food Fair competition in Jacksonville. FL. Hyacinth Welsh. instructor. Dominick Aira. manager of training and the students competed against 22 other Job Corps Centers in the region competition. The Culinary Arts Programs teamwork and dedication brought the second place trophy in the Food Preparation Program home to the Miami Job Corps Center. This is just one of the many achievements the Center has experienced since its inception. Linkages have been established to improve the Centers total operation with the following organizations: Dade County Public School System. Foster Care Program (HRS]. Project Independence Program [HRS]. Boy Scouts of America \"BSA Charter.\" National Association for Hispanic Elderly. Florida Memorial College. MiamiDade Community College [North Campus]. Metro Dade Correctional Authorities. Juvenile Justice Center. Dade Schools Adult Evening . Educational Program. U.S. Military. Goodwill Industries. U.S.D.A. Free Food Donation Program. Miami Coalition for care to the. Homeless. Senior Citizens Association ofE 2763 : Miami. Florida. Juvenile Day Treatment Program and Private Industry Council. For all their hard work and strong dedication to helping our young people and the community at large. I extend my deepest thanks to the following: Don E. DeJarnett. center director. Larry Lunsford. manager residential living. Kennedy Williams. center standards officer. Dominick Aira. manager of training. Sonja Lester. coordinator maximum benefits. Joseph Akoni. manager personnel/finance- Shirley Brayon. coordinator health services. J.P. MarcCharles. manager support services. Yenda Williams. personnel specialist. Vickie Sutton. purchasing agent. Susie Williams. comptroller assistant. Silvia Perez. secretary support services. Manny Santana. H.B.I. supervisor Yimian Abreu. center recruiter Gloria Chaparro. placement specialist. Flor Rodriguez. orientation counselor. Rosa Pache. property/warehouse officer. Dino Torres. driver/warehouse atterndant. Gloria Hernandez. executive secretary. and. Joana Tapia. secretary training. It is my sincere hope that the Miami Job Corps Center continues their superb job in educating our young people. both in terms of academics. and in matters of adult responsibility and life in general.\n"
     ]
    }
   ],
   "source": [
    "reload(explore_data)\n",
    "explore_data.random_speech(all_speeches, all_speech_ids, gender, descr)"
   ]
  },
  {
   "cell_type": "markdown",
   "metadata": {},
   "source": [
    "# Gender Model"
   ]
  },
  {
   "cell_type": "markdown",
   "metadata": {},
   "source": [
    "## Split into train, validate, test"
   ]
  },
  {
   "cell_type": "code",
   "execution_count": 17,
   "metadata": {},
   "outputs": [
    {
     "name": "stdout",
     "output_type": "stream",
     "text": [
      "Training split: 94074 ones and 94074 zeroes\n",
      "Training speech list size: 188148\n",
      "Training target list size: 188148\n",
      "Validation split: 31358 ones and 31358 zeroes\n",
      "Validation speech list size: 62716\n",
      "Validation target list size: 62716\n",
      "Test split: 31358 ones and 31358 zeroes\n",
      "Test speech list size: 62716\n",
      "Test target list size: 62716\n"
     ]
    }
   ],
   "source": [
    "reload(preprocess_data)\n",
    "train, train_ids, train_target, val, val_ids, val_target, test, test_ids, test_target = preprocess_data.split_train_val_test(all_speeches, all_speech_ids, gender, descr)"
   ]
  },
  {
   "cell_type": "code",
   "execution_count": 18,
   "metadata": {},
   "outputs": [
    {
     "data": {
      "text/plain": [
       "(94074, 31358, 31358)"
      ]
     },
     "execution_count": 18,
     "metadata": {},
     "output_type": "execute_result"
    }
   ],
   "source": [
    "sum(train_target), sum(val_target), sum(test_target)"
   ]
  },
  {
   "cell_type": "code",
   "execution_count": 19,
   "metadata": {},
   "outputs": [
    {
     "data": {
      "text/plain": [
       "71682"
      ]
     },
     "execution_count": 19,
     "metadata": {},
     "output_type": "execute_result"
    }
   ],
   "source": [
    "# number of speeches under 30 words\n",
    "sum(np.array(gender)==1) - (sum(train_target) + sum(val_target) + sum(test_target))"
   ]
  },
  {
   "cell_type": "code",
   "execution_count": 20,
   "metadata": {},
   "outputs": [
    {
     "name": "stdout",
     "output_type": "stream",
     "text": [
      "Speaker information\n",
      "date 19850618\n",
      "char_count 666\n",
      "word_count 99\n",
      "speakerid 99108370.0\n",
      "Party R\n",
      "Congress 99\n",
      "Chamber H\n",
      "State IL\n",
      "Ethnicity W\n",
      "Age 47.0\n",
      "Age_lt_med 1.0\n",
      "NonWhite 0.0\n",
      "Female 1.0\n",
      "speaker Mrs. MARTIN of Illinois\n",
      "Full Name MARTIN, LYNN\n",
      "match fuzzy\n",
      "check 1\n",
      "\n",
      "Mr. Speaker. throughout the HouseSenate budget conference. Mr. DOMENic and Mr. GRAY have been shadowboxing over the issue of reconciliation instructions. This has not received much attention during the budget debate. No one quite understands it and it sounds a bit boring. Reconciliation gives the individual committees of the House and Senate the maximum power and leverage to implement the savings in spending that the Congress wishes. The final recommendation on every individual program is reserved absolutely td the committees with jurisdiction over the programs. After all. a nice juicy divorce between committees sounds much more exciting than reconciliation.\n"
     ]
    }
   ],
   "source": [
    "explore_data.random_speech(train, train_ids, train_target, descr)"
   ]
  },
  {
   "cell_type": "code",
   "execution_count": 21,
   "metadata": {},
   "outputs": [],
   "source": [
    "del all_speeches, all_speech_ids, descr"
   ]
  },
  {
   "cell_type": "markdown",
   "metadata": {},
   "source": [
    "## EDA on train data"
   ]
  },
  {
   "cell_type": "code",
   "execution_count": 22,
   "metadata": {},
   "outputs": [
    {
     "data": {
      "text/plain": [
       "249.0"
      ]
     },
     "execution_count": 22,
     "metadata": {},
     "output_type": "execute_result"
    }
   ],
   "source": [
    "explore_data.get_num_words_per_sample(train)"
   ]
  },
  {
   "cell_type": "code",
   "execution_count": 23,
   "metadata": {},
   "outputs": [
    {
     "data": {
      "text/plain": [
       "250.0"
      ]
     },
     "execution_count": 23,
     "metadata": {},
     "output_type": "execute_result"
    }
   ],
   "source": [
    "explore_data.get_num_words_per_sample(val)"
   ]
  },
  {
   "cell_type": "code",
   "execution_count": 24,
   "metadata": {},
   "outputs": [
    {
     "data": {
      "text/plain": [
       "248.0"
      ]
     },
     "execution_count": 24,
     "metadata": {},
     "output_type": "execute_result"
    }
   ],
   "source": [
    "explore_data.get_num_words_per_sample(test)"
   ]
  },
  {
   "cell_type": "code",
   "execution_count": 25,
   "metadata": {},
   "outputs": [
    {
     "name": "stdout",
     "output_type": "stream",
     "text": [
      "Speech length percentiles\n",
      "    0     10    20     30     40     50     60     70     80     90       100\n",
      "0  31.0  47.0  82.0  140.0  191.0  249.0  326.0  420.0  565.0  846.0  14321.0\n"
     ]
    },
    {
     "data": {
      "image/png": "[encoded data removed]",
      "text/plain": [
       "<Figure size 1440x720 with 1 Axes>"
      ]
     },
     "metadata": {},
     "output_type": "display_data"
    }
   ],
   "source": [
    "explore_data.plot_sample_length_distribution(train)"
   ]
  },
  {
   "cell_type": "markdown",
   "metadata": {},
   "source": [
    "## CNN Models"
   ]
  },
  {
   "cell_type": "markdown",
   "metadata": {},
   "source": [
    "### Pre-processing"
   ]
  },
  {
   "cell_type": "code",
   "execution_count": 26,
   "metadata": {},
   "outputs": [],
   "source": [
    "# Limit on the number of features. \n",
    "TOP_K = 20000\n",
    "\n",
    "# Limit on the length of text sequences. Sequences longer than this\n",
    "# will be truncated.\n",
    "# MAX_SEQUENCE_LENGTH = 100\n",
    "MAX_SEQUENCE_LENGTH = 750\n",
    "\n",
    "vec_params = {\n",
    "    'num_words': TOP_K,\n",
    "    'max_seq_length': MAX_SEQUENCE_LENGTH\n",
    "}"
   ]
  },
  {
   "cell_type": "code",
   "execution_count": 27,
   "metadata": {},
   "outputs": [
    {
     "name": "stdout",
     "output_type": "stream",
     "text": [
      "\n",
      "It took 175.0 seconds to tokenize the data\n"
     ]
    }
   ],
   "source": [
    "start_time = time.time()\n",
    "train_vec, val_vec, test_vec, word_index = preprocess_data.sequence_vectorize(train, val, test, **vec_params)\n",
    "print(\"\\nIt took {:.1f} seconds to tokenize the data\".format(time.time()-start_time))"
   ]
  },
  {
   "cell_type": "code",
   "execution_count": 28,
   "metadata": {},
   "outputs": [
    {
     "data": {
      "text/plain": [
       "(188148, 62716, 62716)"
      ]
     },
     "execution_count": 28,
     "metadata": {},
     "output_type": "execute_result"
    }
   ],
   "source": [
    "len(train), len(val), len(test)"
   ]
  },
  {
   "cell_type": "code",
   "execution_count": 29,
   "metadata": {},
   "outputs": [
    {
     "data": {
      "text/plain": [
       "(188148, 62716, 62716)"
      ]
     },
     "execution_count": 29,
     "metadata": {},
     "output_type": "execute_result"
    }
   ],
   "source": [
    "len(train_vec), len(val_vec), len(test_vec)"
   ]
  },
  {
   "cell_type": "code",
   "execution_count": 30,
   "metadata": {},
   "outputs": [
    {
     "data": {
      "text/plain": [
       "(19999, 19999, 19999)"
      ]
     },
     "execution_count": 30,
     "metadata": {},
     "output_type": "execute_result"
    }
   ],
   "source": [
    "max(map(max, train_vec)), max(map(max, val_vec)), max(map(max, test_vec))"
   ]
  },
  {
   "cell_type": "code",
   "execution_count": 31,
   "metadata": {},
   "outputs": [
    {
     "data": {
      "text/plain": [
       "476686"
      ]
     },
     "execution_count": 31,
     "metadata": {},
     "output_type": "execute_result"
    }
   ],
   "source": [
    "len(word_index)"
   ]
  },
  {
   "cell_type": "code",
   "execution_count": 32,
   "metadata": {},
   "outputs": [
    {
     "data": {
      "text/plain": [
       "(750,)"
      ]
     },
     "execution_count": 32,
     "metadata": {},
     "output_type": "execute_result"
    }
   ],
   "source": [
    "train_vec[0].shape"
   ]
  },
  {
   "cell_type": "code",
   "execution_count": 33,
   "metadata": {},
   "outputs": [
    {
     "data": {
      "text/plain": [
       "'Mr. Speaker. today I join my colleagues. our fellow Americans. and people around the world to offer our prayers to the families of those lost or injured in yesterdays unspeakable crimes. We stand here in solidarity with the President. who represents this Nation and its resolve to hunt down those responsible and bring them to justice. No one should doubt our unity and our commitment to rebuild in the wake of this deliberate tragedy. To the thousands of Americans who have lost loved ones or still wait in vigil for the missing. we offer prayers and hope for you who were devastated by yesterdays events. You have suffered an incredible personal tragedy and receive our sympathy for bearing the brunt of this assault on our Nation. To the people of New York. you demonstrated the finest heroism and humanity during the direst hour. Thousands of you risked your lives to help others as smoke. ash and debris rained on you. Thousands more of you streamed into blood donation centers to meet an incredible demand. saving countless more lives. Your spirit and resilience make our city and our country great. Together we will rebuild our city even greater than it was before. To the American people. we feel the same pain and anger you feel as we stand witness together to these terrible events. and we support the effort to find those who aided or abetted these crimes. They will be found. and they will be brought to justice. So today. Mr. Speaker. I encourage all Americans to reach out to one another for support on this difficult day. For in our unity. we find our greatest strength to steel ourselves for the challenges that face us.'"
      ]
     },
     "execution_count": 33,
     "metadata": {},
     "output_type": "execute_result"
    }
   ],
   "source": [
    "train[0]"
   ]
  },
  {
   "cell_type": "code",
   "execution_count": 34,
   "metadata": {},
   "outputs": [
    {
     "data": {
      "text/plain": [
       "array([1609,    3, 2432, 1242,   11,    2, 1173,    8,  588,   61],\n",
       "      dtype=int32)"
      ]
     },
     "execution_count": 34,
     "metadata": {},
     "output_type": "execute_result"
    }
   ],
   "source": [
    "train_vec[0][-10:]"
   ]
  },
  {
   "cell_type": "code",
   "execution_count": 35,
   "metadata": {},
   "outputs": [],
   "source": [
    "# for word in train[0].split()[-10:]:\n",
    "#     word = re.sub(r'[^\\w\\s]','',word)\n",
    "#     print(word, word_index[word])"
   ]
  },
  {
   "cell_type": "markdown",
   "metadata": {},
   "source": [
    "### Saving processed files"
   ]
  },
  {
   "cell_type": "code",
   "execution_count": 36,
   "metadata": {},
   "outputs": [],
   "source": [
    "token_path = main_dir+'Classification/data/tokenized/gender'"
   ]
  },
  {
   "cell_type": "code",
   "execution_count": 37,
   "metadata": {},
   "outputs": [],
   "source": [
    "np.save(os.path.join(token_path, 'train_vec'), train_vec)\n",
    "np.save(os.path.join(token_path, 'val_vec'), val_vec)\n",
    "np.save(os.path.join(token_path, 'test_vec'), test_vec)"
   ]
  },
  {
   "cell_type": "code",
   "execution_count": 38,
   "metadata": {},
   "outputs": [],
   "source": [
    "pickle.dump(word_index, open(os.path.join(token_path, 'word_index.p'), 'wb'))"
   ]
  },
  {
   "cell_type": "code",
   "execution_count": 39,
   "metadata": {},
   "outputs": [],
   "source": [
    "train_vec = np.load(os.path.join(token_path, 'train_vec.npy'))\n",
    "val_vec = np.load(os.path.join(token_path, 'val_vec.npy'))\n",
    "test_vec = np.load(os.path.join(token_path, 'test_vec.npy'))"
   ]
  },
  {
   "cell_type": "code",
   "execution_count": 40,
   "metadata": {},
   "outputs": [],
   "source": [
    "word_index = pickle.load(open(os.path.join(token_path, 'word_index.p'), 'rb'))"
   ]
  },
  {
   "cell_type": "code",
   "execution_count": 41,
   "metadata": {},
   "outputs": [
    {
     "data": {
      "text/plain": [
       "(188148, 62716, 62716)"
      ]
     },
     "execution_count": 41,
     "metadata": {},
     "output_type": "execute_result"
    }
   ],
   "source": [
    "len(train_vec), len(val_vec), len(test_vec)"
   ]
  },
  {
   "cell_type": "markdown",
   "metadata": {},
   "source": [
    "## CNN model - Full Speech + Glove Embeddings"
   ]
  },
  {
   "cell_type": "code",
   "execution_count": 42,
   "metadata": {},
   "outputs": [],
   "source": [
    "logs_base_dir = main_dir + 'Classification/logs/gender'"
   ]
  },
  {
   "cell_type": "code",
   "execution_count": 43,
   "metadata": {},
   "outputs": [],
   "source": [
    "cnn_model_params = {\n",
    "    'model': 'cnn',\n",
    "    'word_index': word_index,\n",
    "    'learning_rate': 0.001,\n",
    "    'layers': 2,\n",
    "    'epochs': 1000,\n",
    "    'batch_size': 128,\n",
    "    'filters': 64,\n",
    "    'dropout_rate': 0.2,\n",
    "    'embedding_dim': 200,\n",
    "    'kernel_size': 5,\n",
    "    'pool_size': 1,\n",
    "    'max_num_words': 20000,\n",
    "    'use_pretrained_embedding': True,\n",
    "    'is_embedding_trainable': True,\n",
    "    'glove_dir': main_dir + 'data'\n",
    "}"
   ]
  },
  {
   "cell_type": "code",
   "execution_count": 44,
   "metadata": {},
   "outputs": [
    {
     "name": "stdout",
     "output_type": "stream",
     "text": [
      "Found 400000 word vectors.\n",
      "It took 20.0 seconds\n",
      "Preparing embedding matrix.\n",
      "Embedding matrix has been built.\n",
      "Its shape is (20000, 200).\n",
      "It took 0.1 seconds\n",
      "WARNING:tensorflow:From /home/yulia/anaconda3/lib/python3.6/site-packages/tensorflow/python/ops/resource_variable_ops.py:435: colocate_with (from tensorflow.python.framework.ops) is deprecated and will be removed in a future version.\n",
      "Instructions for updating:\n",
      "Colocations handled automatically by placer.\n",
      "WARNING:tensorflow:From /home/yulia/anaconda3/lib/python3.6/site-packages/tensorflow/python/keras/layers/core.py:143: calling dropout (from tensorflow.python.ops.nn_ops) with keep_prob is deprecated and will be removed in a future version.\n",
      "Instructions for updating:\n",
      "Please use `rate` instead of `keep_prob`. Rate should be set to `rate = 1 - keep_prob`.\n",
      "Train on 188148 samples, validate on 62716 samples\n",
      "WARNING:tensorflow:From /home/yulia/anaconda3/lib/python3.6/site-packages/tensorflow/python/ops/math_ops.py:3066: to_int32 (from tensorflow.python.ops.math_ops) is deprecated and will be removed in a future version.\n",
      "Instructions for updating:\n",
      "Use tf.cast instead.\n",
      "WARNING:tensorflow:From /home/yulia/anaconda3/lib/python3.6/site-packages/tensorflow/python/ops/math_grad.py:102: div (from tensorflow.python.ops.math_ops) is deprecated and will be removed in a future version.\n",
      "Instructions for updating:\n",
      "Deprecated in favor of operator or tf.math.divide.\n",
      "Epoch 1/1000\n",
      " - 1276s - loss: 0.6030 - acc: 0.6695 - val_loss: 0.5568 - val_acc: 0.7197\n",
      "Epoch 2/1000\n",
      " - 1276s - loss: 0.5475 - acc: 0.7207 - val_loss: 0.5511 - val_acc: 0.7210\n",
      "Epoch 3/1000\n",
      " - 1258s - loss: 0.5222 - acc: 0.7404 - val_loss: 0.5307 - val_acc: 0.7383\n",
      "Epoch 4/1000\n",
      " - 1248s - loss: 0.5022 - acc: 0.7543 - val_loss: 0.5277 - val_acc: 0.7385\n",
      "Epoch 5/1000\n",
      " - 1249s - loss: 0.4836 - acc: 0.7660 - val_loss: 0.5217 - val_acc: 0.7398\n",
      "Epoch 6/1000\n",
      " - 1245s - loss: 0.4640 - acc: 0.7790 - val_loss: 0.5278 - val_acc: 0.7369\n",
      "Epoch 7/1000\n",
      " - 1245s - loss: 0.4451 - acc: 0.7913 - val_loss: 0.5297 - val_acc: 0.7365\n",
      "Validation accuracy: 0.7364627718925476, loss: 0.5297118257492414\n"
     ]
    }
   ],
   "source": [
    "reload(train_model)\n",
    "history, train_pred_probs, val_pred_probs = train_model.train_model(((train_vec, train_target), (val_vec, val_target)), logs_base_dir, **cnn_model_params)"
   ]
  },
  {
   "cell_type": "markdown",
   "metadata": {},
   "source": [
    "### Clean up space/save outputs"
   ]
  },
  {
   "cell_type": "code",
   "execution_count": 45,
   "metadata": {},
   "outputs": [],
   "source": [
    "probs_path = main_dir+'Classification/data/probs/gender/'"
   ]
  },
  {
   "cell_type": "code",
   "execution_count": 46,
   "metadata": {},
   "outputs": [],
   "source": [
    "np.save(probs_path+'val_pred_probs_cnn', val_pred_probs, allow_pickle=True, fix_imports=True)"
   ]
  },
  {
   "cell_type": "code",
   "execution_count": 47,
   "metadata": {},
   "outputs": [],
   "source": [
    "val_pred_probs = np.load(probs_path+'val_pred_probs_cnn.npy', allow_pickle=True, fix_imports=True)"
   ]
  },
  {
   "cell_type": "markdown",
   "metadata": {},
   "source": [
    "## Model Evaluation"
   ]
  },
  {
   "cell_type": "code",
   "execution_count": 48,
   "metadata": {},
   "outputs": [
    {
     "data": {
      "text/plain": [
       "0.7364627846163658"
      ]
     },
     "execution_count": 48,
     "metadata": {},
     "output_type": "execute_result"
    }
   ],
   "source": [
    "val_preds = val_pred_probs > 0.5\n",
    "np.mean(val_preds.flatten()==val_target)"
   ]
  },
  {
   "cell_type": "code",
   "execution_count": 49,
   "metadata": {},
   "outputs": [
    {
     "data": {
      "text/plain": [
       "((62716, 1), 62716)"
      ]
     },
     "execution_count": 49,
     "metadata": {},
     "output_type": "execute_result"
    }
   ],
   "source": [
    "val_preds.shape, len(val_target)"
   ]
  },
  {
   "cell_type": "code",
   "execution_count": 50,
   "metadata": {},
   "outputs": [
    {
     "data": {
      "text/plain": [
       "array([31252])"
      ]
     },
     "execution_count": 50,
     "metadata": {},
     "output_type": "execute_result"
    }
   ],
   "source": [
    "sum(val_preds)"
   ]
  },
  {
   "cell_type": "code",
   "execution_count": 51,
   "metadata": {},
   "outputs": [
    {
     "name": "stdout",
     "output_type": "stream",
     "text": [
      "Confusion matrix, without normalization\n",
      "[[23147  8211]\n",
      " [ 8317 23041]]\n",
      "             precision    recall  f1-score   support\n",
      "\n",
      "       Male       0.74      0.74      0.74     31358\n",
      "     Female       0.74      0.73      0.74     31358\n",
      "\n",
      "avg / total       0.74      0.74      0.74     62716\n",
      "\n"
     ]
    },
    {
     "data": {
      "text/plain": [
       "<matplotlib.axes._subplots.AxesSubplot at 0x7fbe68ce6748>"
      ]
     },
     "execution_count": 51,
     "metadata": {},
     "output_type": "execute_result"
    },
    {
     "data": {
      "image/png": "[encoded data removed]",
      "text/plain": [
       "<Figure size 432x288 with 2 Axes>"
      ]
     },
     "metadata": {},
     "output_type": "display_data"
    }
   ],
   "source": [
    "reload(explore_data)\n",
    "# specify class names in 0 - 1 order\n",
    "classes = ['Male', 'Female']\n",
    "explore_data.plot_confusion_matrix(val_target, val_preds, classes, normalize=True)"
   ]
  },
  {
   "cell_type": "code",
   "execution_count": 52,
   "metadata": {},
   "outputs": [
    {
     "data": {
      "image/png": "[encoded data removed]",
      "text/plain": [
       "<Figure size 720x720 with 2 Axes>"
      ]
     },
     "metadata": {},
     "output_type": "display_data"
    }
   ],
   "source": [
    "reload(explore_data)\n",
    "explore_data.plot_calibration_curve(val_target, val_pred_probs, 'Gender')"
   ]
  },
  {
   "cell_type": "code",
   "execution_count": 53,
   "metadata": {
    "scrolled": true
   },
   "outputs": [
    {
     "name": "stderr",
     "output_type": "stream",
     "text": [
      "/home/yulia/anaconda3/lib/python3.6/site-packages/numpy/lib/arraysetops.py:472: FutureWarning: elementwise comparison failed; returning scalar instead, but in the future will perform elementwise comparison\n",
      "  mask |= (ar1 == a)\n"
     ]
    },
    {
     "data": {
      "text/plain": [
       "(62716, 16)"
      ]
     },
     "execution_count": 53,
     "metadata": {},
     "output_type": "execute_result"
    }
   ],
   "source": [
    "descr_df = pd.read_csv(main_dir+'data/QA/full_descr.txt', sep=\"|\", index_col=0)\n",
    "descr_df = descr_df.loc[np.asarray(val_ids, dtype=int)]\n",
    "descr_df.shape"
   ]
  },
  {
   "cell_type": "code",
   "execution_count": 54,
   "metadata": {},
   "outputs": [
    {
     "name": "stdout",
     "output_type": "stream",
     "text": [
      "Validation sample means:\n",
      "      Gender_F  Ethinicity_NW     AvgAge   Party_D  Chamber_H  AvgWordCount\n",
      "base       0.5        0.17549  58.248453  0.621101   0.659624    392.229001\n"
     ]
    },
    {
     "data": {
      "text/html": [
       "<div>\n",
       "<style scoped>\n",
       "    .dataframe tbody tr th:only-of-type {\n",
       "        vertical-align: middle;\n",
       "    }\n",
       "\n",
       "    .dataframe tbody tr th {\n",
       "        vertical-align: top;\n",
       "    }\n",
       "\n",
       "    .dataframe thead th {\n",
       "        text-align: right;\n",
       "    }\n",
       "</style>\n",
       "<table border=\"1\" class=\"dataframe\">\n",
       "  <thead>\n",
       "    <tr style=\"text-align: right;\">\n",
       "      <th></th>\n",
       "      <th>Gender_F</th>\n",
       "      <th>Ethinicity_NW</th>\n",
       "      <th>AvgAge</th>\n",
       "      <th>Party_D</th>\n",
       "      <th>Chamber_H</th>\n",
       "      <th>AvgWordCount</th>\n",
       "    </tr>\n",
       "  </thead>\n",
       "  <tbody>\n",
       "    <tr>\n",
       "      <th>0.4</th>\n",
       "      <td>0.42</td>\n",
       "      <td>0.44</td>\n",
       "      <td>0.99</td>\n",
       "      <td>0.84</td>\n",
       "      <td>0.76</td>\n",
       "      <td>0.94</td>\n",
       "    </tr>\n",
       "    <tr>\n",
       "      <th>0.6</th>\n",
       "      <td>1.00</td>\n",
       "      <td>0.90</td>\n",
       "      <td>0.99</td>\n",
       "      <td>0.96</td>\n",
       "      <td>1.08</td>\n",
       "      <td>0.86</td>\n",
       "    </tr>\n",
       "    <tr>\n",
       "      <th>1.0</th>\n",
       "      <td>1.56</td>\n",
       "      <td>1.60</td>\n",
       "      <td>1.01</td>\n",
       "      <td>1.18</td>\n",
       "      <td>1.19</td>\n",
       "      <td>1.13</td>\n",
       "    </tr>\n",
       "  </tbody>\n",
       "</table>\n",
       "</div>"
      ],
      "text/plain": [
       "     Gender_F  Ethinicity_NW  AvgAge  Party_D  Chamber_H  AvgWordCount\n",
       "0.4      0.42           0.44    0.99     0.84       0.76          0.94\n",
       "0.6      1.00           0.90    0.99     0.96       1.08          0.86\n",
       "1.0      1.56           1.60    1.01     1.18       1.19          1.13"
      ]
     },
     "execution_count": 54,
     "metadata": {},
     "output_type": "execute_result"
    }
   ],
   "source": [
    "reload(explore_data)\n",
    "# checking the ratios of demo variables in low-mid-high probability buckets\n",
    "explore_data.check_bin_probs_distr(val_pred_probs, \n",
    "                                   val_ids, \n",
    "                                   descr_df)"
   ]
  },
  {
   "cell_type": "code",
   "execution_count": 55,
   "metadata": {},
   "outputs": [
    {
     "name": "stdout",
     "output_type": "stream",
     "text": [
      "\n",
      "Top 10 ngrams by differentiating score:\n",
      "rise \t 2141.2\n",
      "speaker rise \t 1593.9\n",
      "rise today \t 1148.3\n",
      "mr president \t 1057.1\n",
      "women \t 997.2\n",
      "colleagues to \t 947.0\n",
      "our \t 813.5\n",
      "speaker \t 732.1\n",
      "their \t 729.3\n",
      "support \t 726.9\n"
     ]
    },
    {
     "data": {
      "text/html": [
       "<div>\n",
       "<style scoped>\n",
       "    .dataframe tbody tr th:only-of-type {\n",
       "        vertical-align: middle;\n",
       "    }\n",
       "\n",
       "    .dataframe tbody tr th {\n",
       "        vertical-align: top;\n",
       "    }\n",
       "\n",
       "    .dataframe thead th {\n",
       "        text-align: right;\n",
       "    }\n",
       "</style>\n",
       "<table border=\"1\" class=\"dataframe\">\n",
       "  <thead>\n",
       "    <tr style=\"text-align: right;\">\n",
       "      <th>bin</th>\n",
       "      <th>1</th>\n",
       "      <th>2</th>\n",
       "      <th>3</th>\n",
       "    </tr>\n",
       "  </thead>\n",
       "  <tbody>\n",
       "    <tr>\n",
       "      <th>colleagues to</th>\n",
       "      <td>2103.0</td>\n",
       "      <td>1742.0</td>\n",
       "      <td>6106.0</td>\n",
       "    </tr>\n",
       "    <tr>\n",
       "      <th>mr president</th>\n",
       "      <td>15686.0</td>\n",
       "      <td>3761.0</td>\n",
       "      <td>5968.0</td>\n",
       "    </tr>\n",
       "    <tr>\n",
       "      <th>our</th>\n",
       "      <td>37875.0</td>\n",
       "      <td>24948.0</td>\n",
       "      <td>75860.0</td>\n",
       "    </tr>\n",
       "    <tr>\n",
       "      <th>rise</th>\n",
       "      <td>3549.0</td>\n",
       "      <td>2906.0</td>\n",
       "      <td>10746.0</td>\n",
       "    </tr>\n",
       "    <tr>\n",
       "      <th>rise today</th>\n",
       "      <td>1332.0</td>\n",
       "      <td>1146.0</td>\n",
       "      <td>4741.0</td>\n",
       "    </tr>\n",
       "    <tr>\n",
       "      <th>speaker</th>\n",
       "      <td>13538.0</td>\n",
       "      <td>10528.0</td>\n",
       "      <td>25861.0</td>\n",
       "    </tr>\n",
       "    <tr>\n",
       "      <th>speaker rise</th>\n",
       "      <td>1167.0</td>\n",
       "      <td>1203.0</td>\n",
       "      <td>5250.0</td>\n",
       "    </tr>\n",
       "    <tr>\n",
       "      <th>support</th>\n",
       "      <td>10129.0</td>\n",
       "      <td>6988.0</td>\n",
       "      <td>20906.0</td>\n",
       "    </tr>\n",
       "    <tr>\n",
       "      <th>their</th>\n",
       "      <td>25164.0</td>\n",
       "      <td>16014.0</td>\n",
       "      <td>47474.0</td>\n",
       "    </tr>\n",
       "    <tr>\n",
       "      <th>women</th>\n",
       "      <td>1667.0</td>\n",
       "      <td>1755.0</td>\n",
       "      <td>17854.0</td>\n",
       "    </tr>\n",
       "  </tbody>\n",
       "</table>\n",
       "</div>"
      ],
      "text/plain": [
       "bin                  1        2        3\n",
       "colleagues to   2103.0   1742.0   6106.0\n",
       "mr president   15686.0   3761.0   5968.0\n",
       "our            37875.0  24948.0  75860.0\n",
       "rise            3549.0   2906.0  10746.0\n",
       "rise today      1332.0   1146.0   4741.0\n",
       "speaker        13538.0  10528.0  25861.0\n",
       "speaker rise    1167.0   1203.0   5250.0\n",
       "support        10129.0   6988.0  20906.0\n",
       "their          25164.0  16014.0  47474.0\n",
       "women           1667.0   1755.0  17854.0"
      ]
     },
     "execution_count": 55,
     "metadata": {},
     "output_type": "execute_result"
    }
   ],
   "source": [
    "reload(explore_data)\n",
    "explore_data.compare_ngrams(val, val_pred_probs, ngram_range=(1, 2))"
   ]
  },
  {
   "cell_type": "code",
   "execution_count": 56,
   "metadata": {
    "scrolled": false
   },
   "outputs": [
    {
     "name": "stdout",
     "output_type": "stream",
     "text": [
      "\n",
      "True positive (Predicted prob: 0.97):\n",
      "\n",
      "date             20010621\n",
      "char_count           1632\n",
      "word_count            272\n",
      "speakerid     1.07119e+08\n",
      "Party                   D\n",
      "Congress              107\n",
      "Chamber                 H\n",
      "State                  CA\n",
      "Ethnicity              ME\n",
      "Age                    60\n",
      "Age_lt_med              0\n",
      "NonWhite                1\n",
      "Female                  1\n",
      "speaker         Ms. ESHOO\n",
      "Full Name     ESHOO, ANNA\n",
      "match               fuzzy\n",
      "Name: 1070041709, dtype: object\n",
      "\n",
      " Mr. Speaker. I rise today to pay tribute to a distinguished American. and longtime constituent of Californias 14th Congressional DistrictAnn Dawson Torrey. who passed away on May 25. 2001. A lifelong Democrat and a staunch defender of womens rights. Ann Torrey was born in Hollywood. California on December 1. 1911. As a child she learned an early and important lessonthe power of civic activism. While still an infant. Anns mother pyshed her in a baby carriage during the historic marches for womens suffrage. Ann Torrey also understood the power of an educationshe devoted much of her adult life to teaching young women and men to succeed in their societies. Between 1937 and 1949. Ann Torrey taught students in Monterey. California. Shanghai. China and Menlo Park. California. From 1949 to 1976 she distinguished herself as an elementary school teacher in the Redwood City School District. Ann Torrey was proud to be a teacher and believed firmly in the value of an education for all. A graduate of the University of California at Berkeley. Ann Torrey received her teaching credential from San Jose State University. In 1966. she went back to school to earn her Masters in Education at Stanford University. A longtime resident of Redwood City. California. Ann Torrey moved to State College. Pennsylvania in 1998 in order to be closer to her grandchildren. Mr. Speaker. our nations children lost an important role model and a selfless teacher with the passing of Ann Torrey. I ask my colleagues to join me in paying tribute to a great and good woman. and offer the condolences of the entire House of Representatives to her family.\n",
      "--------------------\n",
      "\n",
      "True negative (Predicted prob: 0.05):\n",
      "\n",
      "date                 19920729\n",
      "char_count                807\n",
      "word_count                152\n",
      "speakerid         1.02109e+08\n",
      "Party                       R\n",
      "Congress                  102\n",
      "Chamber                     S\n",
      "State                      WY\n",
      "Ethnicity                   W\n",
      "Age                        59\n",
      "Age_lt_med                  0\n",
      "NonWhite                    0\n",
      "Female                      0\n",
      "speaker            Mr. WALLOP\n",
      "Full Name     WALLOP, MALCOLM\n",
      "match                   exact\n",
      "Name: 1020197750, dtype: object\n",
      "\n",
      " Mr. President. all the people on our side who have amendments have been notified that the bill is open for amendment. that the progress. which has been good all day. is now stalled. I think it is unfair to other Senators. We approach the hour of half past 6. the time is going by. and no amendments are offered. I would Join with my colleague from Louisiana in believing that after a short period of time Senators may not be serious in their intent to offer these amendments. and that we ought to go to third reading. I share with my colleague. from Louisiana a desire to wrap up this bill and would hope that if any Senator is serious about offering an amendment they would show up and do It. otherwise I will Join the Senator In the move to third reading. Mr. President. I suggest the absence of a quorum.\n",
      "--------------------\n",
      "\n",
      "False positive (Predicted prob: 0.91):\n",
      "\n",
      "date                  20050316\n",
      "char_count                5119\n",
      "word_count                 804\n",
      "speakerid          1.09119e+08\n",
      "Party                        D\n",
      "Congress                   109\n",
      "Chamber                      H\n",
      "State                       MD\n",
      "Ethnicity                    B\n",
      "Age                         55\n",
      "Age_lt_med                   1\n",
      "NonWhite                     1\n",
      "Female                       0\n",
      "speaker           Mr. CUMMINGS\n",
      "Full Name     CUMMINGS, ELIJAH\n",
      "match                    exact\n",
      "Name: 1090014094, dtype: object\n",
      "\n",
      " Mr. Chairman. I thank the gentlewoman for yielding me time. As a member of the Joint Economic Committee. I rise today to speak on the economic policies of the budget resolution. Mr. Chairman. both the Bush and Republican budgets suffer from the same infirmities. fiscal irresponsibility and selfserving and outoftouch priorities. Both are wholly inadequate to meet the needs of our Nation and will pass along mounting deficits and debts to generations yet unborn. First. the 5year Republican budget will result in a deficit of $376 billion in 2006. $44 million over the Presidents projection. The Republicans budget proposal also has many cost omissions. because they know that their deficit numbers explode after 5 years. As such. this budget does not take into account the cost of fixing the AMT. which will cost at least $642 billion. It does not take into account the $774 billion needed to pay for the Presidents muchtalked about but yet unveiled Social Security privatization plan. I suppose the Republican budget proposal deserves a little credit for hiking its deficit projection as it at least includes $50 million in 2006 for the wars in Afghanistan and in Iraq. The Presidents budget proposal contained zero dollars. As a matter of fact. it reported that the costs could not be known. However. both figures are fantasy. The realistic figure over the next 10 years. in addition to the $80 billion that we just passed in the supplemental. is likely to be $384 billion. To pay for its misguided policies. the House budget resolution cuts nondefense discretionary spending by $12 billion below the amount needed in fiscal 2006 just to maintain current spending levels. and it cuts spending on mandatory domestic programs by $8 billion. To add insult to injury. the Republican budget provides $18 billion in additional tax cuts. These misguided tax cuts will actually cost much more when the tax cuts actually expire in 2010. In fact. 97 percent of these tax cuts will benefit taxpayers with incomes above $200.000. I think most reasonable people can agree that these priorities are not Americas priorities. While little good can be said about the Bush administrations budget. it at least provides detailed information on the programs it seeks to cut. The House resolution shrouds its cuts in darkness. leaving the American people to wonder what vital programs will find their way to the ch6ppinig block next. Both the Republican and Bush budget proposals are travesties. When the Bush administration took office. the Nation was experiencing record surpluses. It has managed to turn a $521 billion surplus into a $367 billion deficit. In contrast. the Spratt alternative .budget. as well as the Congressional Black Caucus alternative budget that we will consider tomorrow. focus national spending on priorities that benefit all Americans and get us on the road to economic recovery. They do this by funding key domestic priorities which address the needs of working families while fully supporting the national defense and protection of our homeland and preserving Medicaid. Social Security. pension programs and student loans. Let me speak particularly about the budget developed by the Congressional Black Caucus which\" corrects the irresponsible fiscal and economic policies contained in the House budget resolution by supporting existing programs that are essential to closing disparities. creating opportunities and helping our citizens build their future. It will get our country on the road to recovery. while funding meaningful national priorities for our children. for our seniors. for our veterans and for our communities. Importantly. the Congressional Black Caucus budget supports these priorities. while also meeting our obligation to our troops in Iraq and in Afghanistan. The CBC budget funds community development programs. including restoring funding to the Community Development Block Grant Program and supporting increased funding for elderly and disabled housing programs. The Congressional Black Caucus budget will also restore funding for veterans health care. rather than imposing new copayments on them for essential services and prescription drugs. Importantly. the Congressional Black Caucus budget will reduce the budget deficit by $167 billion during the next 5 years below the deficit that will be produced by the House budget resolution. Mr. Chairman. theiRepublican budget cuts educational. housing and health programs for our children. while bequeathing to them a public debt that has increased by $1.268 trillion over the last 4 years and that will exceed $4.6 trillion even before we begin fiscal year These actions are not only irresponsible. they are unconscionable. In the end. one can only conclude that the Republican budget balances itself on the backs of Americans who can least afford it. I urge the administration to reconsider its illconceived economic policies. The Congressional Black Caucus budget is the ultimate expression of our national priorities. and our priorities must be our children. our families. our elderly and our veterans and. of course. our soldiers.\n",
      "--------------------\n",
      "\n",
      "False negative (Predicted prob: 0.05):\n",
      "\n",
      "date                19840523\n",
      "char_count              4605\n",
      "word_count               791\n",
      "speakerid        9.81088e+07\n",
      "Party                      D\n",
      "Congress                  98\n",
      "Chamber                    H\n",
      "State                     MD\n",
      "Ethnicity                  W\n",
      "Age                       52\n",
      "Age_lt_med                 0\n",
      "NonWhite                   0\n",
      "Female                     1\n",
      "speaker           Mrs. BYRON\n",
      "Full Name     BYRON, BEVERLY\n",
      "match                  exact\n",
      "Name: 980199813, dtype: object\n",
      "\n",
      " Mr. Chairman. this amendment to the McCurdy substitute will restrict the number of U.S. ASAT tests conducted in the future to no more than the number of tests that have already been conducted by the Soviet Union on their ASAT system. which has been in operation for about a 10year period. Although the exact II 4720 number of tests by the Soviets is classified. it is estimated that the Soviets have conducted between 12 and 18 tests on their system. The United States would be limited to the same number of tests under the conditions of this amendment as long as the Soviet Union refrains from conducting further tests. Thus. as long as the Soviet Union continues to refrain from testing their ASAT weapons. the U.S. ASAT test program will be capped at an equal number of tests. If the Soviet Union resumes their ASAT testing. the restrictions placed on the U.S. test program by this amendment would be lifted. In short. this amendment is designed to place a cap on the ASAT testing by the United States and the Soviet Union at an equal number. It is designed to cap this activity at a parity level and allow neither side an advantage. This should pave the way for beneficial arms control In this area. I am extremely concerned about the potential for our space area. I am extremely concerned about the ASAT situation as we find it now. But I am also extremely concerned about where we are as far as compared to the Soviets. I am convinced that we need to take all the possible steps to insure that space is used for peaceful purposes. This includes. in addition to the civilian space program. protection of our vital military activities such as reconnaissance. communications. early warning of strategic attacks. Intelligence and monitoring compliance with our arms control agreements that are now in effect. Therefore. I agree with the thrust of my colleagues amendment that would seek to limit the capabilities to attack satellites or use space for offensive purposes. However. we cannot ignore the fact that the Soviet Union has the worlds only ASAT system. with the capability to attack our lowaltitude satellites right now and has tested this system many times over in the last decade. Moreover. It is my understanding that the Soviets have capability with certain of their satellites to target U.S. and allied naval forces. that is. satellites designed to accurately locate our ships and pass this information on to submarines and aircraft to permit them to attack at large standoff distances. hundreds of miles. with cruise missiles. While I deplore the need to develop and field this type of capability. I also believe that we put ourselves at a serious disadvantage and. in fact. encourage the Soviet use of space for hostile purposes if we do not carry through with our prograa to achieve at least the same level of confidence in our ASAT system that the Soviets have in theirs. For this reason. I am offering the following amendment to the McCurdy substitute that would provide for restraint by the United States in ASAT testing. The United States would be allowed to conduct the same number of tests as the Soviet Union has already conducted with their coorbital antisatellite interceptor weapons system. While it is true that the U.S. MV system is based on more modern technology. the missions of the two systems are about the same. In fact. each has. I am told. some advantage over the other. The report by the Office of Technology Assessment points out that in any case neither system poses a severe military threat to the other side or. therefore. to the possibilities for future space arms control. By permitting the United States to reach an equal footing with the Soviets. but without presenting a major threat. we can seek to cap the situation and to limit ASAT development while we sort out what further space arms control measures would serve the United States and allied security and stability. My amendment to allow the United States an equal number of tests of our ASAT should also serve to strengthen our bargaining position in any future ASAT negotiations with the Soviet Union. I believe that it is a fair solution and one that will encourage both the administration and the Soviets to address seriously the possibilities for practical space arms control measures. Mr. Chairman. I further believe very strongly that at the soonest possible time we need to get to the table to address this very serious issue before It becomes a more serious issue. I believe very strongly. before we have a problem. that it is much better to get it addressed and get the negotiations started.\n",
      "--------------------\n"
     ]
    }
   ],
   "source": [
    "reload(explore_data)\n",
    "explore_data.print_mispredictions(val_target, val_pred_probs, val, val_ids, descr_df)"
   ]
  },
  {
   "cell_type": "markdown",
   "metadata": {},
   "source": [
    "## CNN - chunking the data"
   ]
  },
  {
   "cell_type": "markdown",
   "metadata": {},
   "source": [
    "### Prepare the data"
   ]
  },
  {
   "cell_type": "code",
   "execution_count": 57,
   "metadata": {},
   "outputs": [],
   "source": [
    "chunk_len=50"
   ]
  },
  {
   "cell_type": "code",
   "execution_count": 58,
   "metadata": {},
   "outputs": [
    {
     "name": "stdout",
     "output_type": "stream",
     "text": [
      "Original data has 188148 speeches\n",
      "It was split into 1557233 chunks\n",
      "Checks on ids and target 1557233 1557233\n",
      "Original target mean 0.5\n",
      "New target mean 0.5144747125189358\n",
      "Original data has 62716 speeches\n",
      "It was split into 521540 chunks\n",
      "Checks on ids and target 521540 521540\n",
      "Original target mean 0.5\n",
      "New target mean 0.5181059937876289\n",
      "Original data has 62716 speeches\n",
      "It was split into 522421 chunks\n",
      "Checks on ids and target 522421 522421\n",
      "Original target mean 0.5\n",
      "New target mean 0.5162503038736957\n",
      "\n",
      "It took 14.7 seconds to create the dictionary\n"
     ]
    }
   ],
   "source": [
    "reload(preprocess_data)\n",
    "start_time = time.time()\n",
    "train_chunk, train_ids_chunk, train_target_chunk = preprocess_data.split_speech_to_chunks(train, train_ids, train_target, max_len=chunk_len)\n",
    "val_chunk, val_ids_chunk, val_target_chunk = preprocess_data.split_speech_to_chunks(val, val_ids, val_target, max_len=chunk_len)\n",
    "test_chunk, test_ids_chunk, test_target_chunk = preprocess_data.split_speech_to_chunks(test, test_ids, test_target, max_len=chunk_len)\n",
    "print(\"\\nIt took {:.1f} seconds to create the dictionary\".format(time.time()-start_time))"
   ]
  },
  {
   "cell_type": "code",
   "execution_count": 59,
   "metadata": {},
   "outputs": [],
   "source": [
    "# Limit on the number of features. \n",
    "TOP_K = 20000\n",
    "\n",
    "# Limit on the length of text sequences. Sequences longer than this\n",
    "# will be truncated.\n",
    "# MAX_SEQUENCE_LENGTH = 100\n",
    "MAX_SEQUENCE_LENGTH = chunk_len\n",
    "\n",
    "vec_params = {\n",
    "    'num_words': TOP_K,\n",
    "    'max_seq_length': MAX_SEQUENCE_LENGTH\n",
    "}"
   ]
  },
  {
   "cell_type": "code",
   "execution_count": 60,
   "metadata": {},
   "outputs": [
    {
     "name": "stdout",
     "output_type": "stream",
     "text": [
      "\n",
      "It took 223.9 seconds to tokenize the data\n"
     ]
    }
   ],
   "source": [
    "start_time = time.time()\n",
    "train_vec, val_vec, test_vec, word_index = preprocess_data.sequence_vectorize(train_chunk, val_chunk, test_chunk, **vec_params)\n",
    "print(\"\\nIt took {:.1f} seconds to tokenize the data\".format(time.time()-start_time))"
   ]
  },
  {
   "cell_type": "code",
   "execution_count": 61,
   "metadata": {},
   "outputs": [],
   "source": [
    "np.save(os.path.join(token_path, 'train_vec_chunk'), train_vec)\n",
    "np.save(os.path.join(token_path, 'val_vec_chunk'), val_vec)\n",
    "np.save(os.path.join(token_path, 'test_vec_chunk'), test_vec)"
   ]
  },
  {
   "cell_type": "code",
   "execution_count": 62,
   "metadata": {},
   "outputs": [],
   "source": [
    "train_vec = np.load(os.path.join(token_path, 'train_vec_chunk.npy'))\n",
    "val_vec = np.load(os.path.join(token_path, 'val_vec_chunk.npy'))\n",
    "test_vec = np.load(os.path.join(token_path, 'test_vec_chunk.npy'))"
   ]
  },
  {
   "cell_type": "code",
   "execution_count": 63,
   "metadata": {},
   "outputs": [
    {
     "data": {
      "text/plain": [
       "(1557233, 50)"
      ]
     },
     "execution_count": 63,
     "metadata": {},
     "output_type": "execute_result"
    }
   ],
   "source": [
    "train_vec.shape"
   ]
  },
  {
   "cell_type": "code",
   "execution_count": 64,
   "metadata": {},
   "outputs": [
    {
     "data": {
      "text/plain": [
       "array([   28,    55,    69,    10,   324,    32,   109,    21,  1349,\n",
       "         171,     5,    43,   335,     2,   162,     3,   550,    21,\n",
       "        3351,     3,     2,   188,     4,    65,   497,    39,  2613,\n",
       "           6,  6475, 10448,  1417,    13,   515,   124,     6,  5362,\n",
       "          22,     2,    47,    36,  1249,    12,   189,     5,    73,\n",
       "        1743,     3,  6983,   242,    65], dtype=int32)"
      ]
     },
     "execution_count": 64,
     "metadata": {},
     "output_type": "execute_result"
    }
   ],
   "source": [
    "train_vec[0]"
   ]
  },
  {
   "cell_type": "code",
   "execution_count": 65,
   "metadata": {},
   "outputs": [
    {
     "data": {
      "text/plain": [
       "numpy.ndarray"
      ]
     },
     "execution_count": 65,
     "metadata": {},
     "output_type": "execute_result"
    }
   ],
   "source": [
    "type(train_vec)"
   ]
  },
  {
   "cell_type": "markdown",
   "metadata": {},
   "source": [
    "### Run the model"
   ]
  },
  {
   "cell_type": "code",
   "execution_count": 66,
   "metadata": {},
   "outputs": [
    {
     "name": "stdout",
     "output_type": "stream",
     "text": [
      "Found 400000 word vectors.\n",
      "It took 21.7 seconds\n",
      "Preparing embedding matrix.\n",
      "Embedding matrix has been built.\n",
      "Its shape is (20000, 200).\n",
      "It took 0.1 seconds\n",
      "Train on 1557233 samples, validate on 521540 samples\n",
      "Epoch 1/1000\n",
      " - 885s - loss: 0.6196 - acc: 0.6532 - val_loss: 0.6116 - val_acc: 0.6666\n",
      "Epoch 2/1000\n",
      " - 893s - loss: 0.5985 - acc: 0.6757 - val_loss: 0.6055 - val_acc: 0.6725\n",
      "Epoch 3/1000\n",
      " - 888s - loss: 0.5889 - acc: 0.6847 - val_loss: 0.6063 - val_acc: 0.6700\n",
      "Epoch 4/1000\n",
      " - 892s - loss: 0.5792 - acc: 0.6928 - val_loss: 0.6044 - val_acc: 0.6746\n",
      "Epoch 5/1000\n",
      " - 888s - loss: 0.5698 - acc: 0.7012 - val_loss: 0.6012 - val_acc: 0.6732\n",
      "Epoch 6/1000\n",
      " - 887s - loss: 0.5600 - acc: 0.7090 - val_loss: 0.6029 - val_acc: 0.6736\n",
      "Epoch 7/1000\n",
      " - 891s - loss: 0.5508 - acc: 0.7159 - val_loss: 0.6044 - val_acc: 0.6737\n",
      "Validation accuracy: 0.6737220287322998, loss: 0.6044381352168\n"
     ]
    }
   ],
   "source": [
    "history_chunk, train_pred_probs_chunk, val_pred_probs_chunk = train_model.train_model(((train_vec, train_target_chunk), (val_vec, val_target_chunk)), logs_base_dir, **cnn_model_params)"
   ]
  },
  {
   "cell_type": "code",
   "execution_count": 67,
   "metadata": {},
   "outputs": [],
   "source": [
    "np.save(probs_path+'val_pred_probs_cnn_chunk', val_pred_probs_chunk, allow_pickle=True, fix_imports=True)"
   ]
  },
  {
   "cell_type": "code",
   "execution_count": 68,
   "metadata": {},
   "outputs": [
    {
     "data": {
      "text/plain": [
       "0.673722053917245"
      ]
     },
     "execution_count": 68,
     "metadata": {},
     "output_type": "execute_result"
    }
   ],
   "source": [
    "val_preds_chunk = val_pred_probs_chunk > 0.5\n",
    "np.mean(val_preds_chunk.flatten()==val_target_chunk)"
   ]
  },
  {
   "cell_type": "code",
   "execution_count": 69,
   "metadata": {},
   "outputs": [
    {
     "data": {
      "text/plain": [
       "(521540, 1)"
      ]
     },
     "execution_count": 69,
     "metadata": {},
     "output_type": "execute_result"
    }
   ],
   "source": [
    "val_preds_chunk.shape"
   ]
  },
  {
   "cell_type": "code",
   "execution_count": 70,
   "metadata": {},
   "outputs": [
    {
     "data": {
      "text/plain": [
       "array([264568])"
      ]
     },
     "execution_count": 70,
     "metadata": {},
     "output_type": "execute_result"
    }
   ],
   "source": [
    "sum(val_preds_chunk)"
   ]
  },
  {
   "cell_type": "code",
   "execution_count": 71,
   "metadata": {},
   "outputs": [
    {
     "data": {
      "text/html": [
       "<div>\n",
       "<style scoped>\n",
       "    .dataframe tbody tr th:only-of-type {\n",
       "        vertical-align: middle;\n",
       "    }\n",
       "\n",
       "    .dataframe tbody tr th {\n",
       "        vertical-align: top;\n",
       "    }\n",
       "\n",
       "    .dataframe thead th {\n",
       "        text-align: right;\n",
       "    }\n",
       "</style>\n",
       "<table border=\"1\" class=\"dataframe\">\n",
       "  <thead>\n",
       "    <tr style=\"text-align: right;\">\n",
       "      <th></th>\n",
       "      <th>ids</th>\n",
       "      <th>probs_min</th>\n",
       "      <th>probs_max</th>\n",
       "      <th>probs_mean</th>\n",
       "      <th>target</th>\n",
       "      <th>preds</th>\n",
       "      <th>preds_probs_mean</th>\n",
       "      <th>preds_mean</th>\n",
       "    </tr>\n",
       "  </thead>\n",
       "  <tbody>\n",
       "    <tr>\n",
       "      <th>0</th>\n",
       "      <td>1000000354</td>\n",
       "      <td>0.094680</td>\n",
       "      <td>0.624882</td>\n",
       "      <td>0.328274</td>\n",
       "      <td>0</td>\n",
       "      <td>0.166667</td>\n",
       "      <td>0</td>\n",
       "      <td>0</td>\n",
       "    </tr>\n",
       "    <tr>\n",
       "      <th>1</th>\n",
       "      <td>1000000454</td>\n",
       "      <td>0.263967</td>\n",
       "      <td>0.263967</td>\n",
       "      <td>0.263967</td>\n",
       "      <td>0</td>\n",
       "      <td>0.000000</td>\n",
       "      <td>0</td>\n",
       "      <td>0</td>\n",
       "    </tr>\n",
       "    <tr>\n",
       "      <th>2</th>\n",
       "      <td>1000000541</td>\n",
       "      <td>0.082468</td>\n",
       "      <td>0.525563</td>\n",
       "      <td>0.254600</td>\n",
       "      <td>0</td>\n",
       "      <td>0.037037</td>\n",
       "      <td>0</td>\n",
       "      <td>0</td>\n",
       "    </tr>\n",
       "    <tr>\n",
       "      <th>3</th>\n",
       "      <td>1000000727</td>\n",
       "      <td>0.126574</td>\n",
       "      <td>0.563237</td>\n",
       "      <td>0.311737</td>\n",
       "      <td>0</td>\n",
       "      <td>0.142857</td>\n",
       "      <td>0</td>\n",
       "      <td>0</td>\n",
       "    </tr>\n",
       "    <tr>\n",
       "      <th>4</th>\n",
       "      <td>1000000738</td>\n",
       "      <td>0.295573</td>\n",
       "      <td>0.522612</td>\n",
       "      <td>0.402547</td>\n",
       "      <td>0</td>\n",
       "      <td>0.142857</td>\n",
       "      <td>0</td>\n",
       "      <td>0</td>\n",
       "    </tr>\n",
       "  </tbody>\n",
       "</table>\n",
       "</div>"
      ],
      "text/plain": [
       "          ids  probs_min  probs_max  probs_mean  target     preds  \\\n",
       "0  1000000354   0.094680   0.624882    0.328274       0  0.166667   \n",
       "1  1000000454   0.263967   0.263967    0.263967       0  0.000000   \n",
       "2  1000000541   0.082468   0.525563    0.254600       0  0.037037   \n",
       "3  1000000727   0.126574   0.563237    0.311737       0  0.142857   \n",
       "4  1000000738   0.295573   0.522612    0.402547       0  0.142857   \n",
       "\n",
       "   preds_probs_mean  preds_mean  \n",
       "0                 0           0  \n",
       "1                 0           0  \n",
       "2                 0           0  \n",
       "3                 0           0  \n",
       "4                 0           0  "
      ]
     },
     "execution_count": 71,
     "metadata": {},
     "output_type": "execute_result"
    }
   ],
   "source": [
    "pred_df = pd.DataFrame({'ids': val_ids_chunk, 'target': val_target_chunk, 'probs': val_pred_probs_chunk.flatten(), 'preds': val_preds_chunk.flatten()})\n",
    "f = {'probs': [min, max, 'mean']}\n",
    "pred_aggr_df = pred_df.groupby('ids').agg(f).reset_index()\n",
    "pred_aggr_df.columns = ['ids', 'probs_min', 'probs_max', 'probs_mean']\n",
    "pred_aggr_df = pred_aggr_df.merge(pred_df[['target', 'ids']].groupby('ids').mean().reset_index(), on='ids')\n",
    "pred_aggr_df = pred_aggr_df.merge(pred_df[['preds', 'ids']].groupby('ids').mean().reset_index(), on='ids')\n",
    "pred_aggr_df['preds_probs_mean'] = pred_aggr_df['probs_mean'].apply(lambda x: 1 if x > 0.5 else 0)\n",
    "pred_aggr_df['preds_mean'] = pred_aggr_df['preds'].apply(lambda x: 1 if x > 0.5 else 0)\n",
    "pred_aggr_df.head()"
   ]
  },
  {
   "cell_type": "code",
   "execution_count": 72,
   "metadata": {},
   "outputs": [
    {
     "data": {
      "text/plain": [
       "(0.7440047196887557, 0.7275495886217234)"
      ]
     },
     "execution_count": 72,
     "metadata": {},
     "output_type": "execute_result"
    }
   ],
   "source": [
    "np.mean(pred_aggr_df.target == pred_aggr_df.preds_probs_mean), np.mean(pred_aggr_df.target == pred_aggr_df.preds_mean)"
   ]
  },
  {
   "cell_type": "code",
   "execution_count": 73,
   "metadata": {},
   "outputs": [
    {
     "data": {
      "text/html": [
       "<div>\n",
       "<style scoped>\n",
       "    .dataframe tbody tr th:only-of-type {\n",
       "        vertical-align: middle;\n",
       "    }\n",
       "\n",
       "    .dataframe tbody tr th {\n",
       "        vertical-align: top;\n",
       "    }\n",
       "\n",
       "    .dataframe thead th {\n",
       "        text-align: right;\n",
       "    }\n",
       "</style>\n",
       "<table border=\"1\" class=\"dataframe\">\n",
       "  <thead>\n",
       "    <tr style=\"text-align: right;\">\n",
       "      <th></th>\n",
       "      <th>target_orig</th>\n",
       "      <th>ids</th>\n",
       "      <th>probs_min</th>\n",
       "      <th>probs_max</th>\n",
       "      <th>probs_mean</th>\n",
       "      <th>target</th>\n",
       "      <th>preds</th>\n",
       "      <th>preds_probs_mean</th>\n",
       "      <th>preds_mean</th>\n",
       "    </tr>\n",
       "  </thead>\n",
       "  <tbody>\n",
       "    <tr>\n",
       "      <th>0</th>\n",
       "      <td>1</td>\n",
       "      <td>1090179235</td>\n",
       "      <td>0.483563</td>\n",
       "      <td>0.729592</td>\n",
       "      <td>0.563669</td>\n",
       "      <td>1</td>\n",
       "      <td>0.750000</td>\n",
       "      <td>1</td>\n",
       "      <td>1</td>\n",
       "    </tr>\n",
       "    <tr>\n",
       "      <th>1</th>\n",
       "      <td>1</td>\n",
       "      <td>1090044795</td>\n",
       "      <td>0.478815</td>\n",
       "      <td>0.573090</td>\n",
       "      <td>0.539413</td>\n",
       "      <td>1</td>\n",
       "      <td>0.666667</td>\n",
       "      <td>1</td>\n",
       "      <td>1</td>\n",
       "    </tr>\n",
       "    <tr>\n",
       "      <th>2</th>\n",
       "      <td>1</td>\n",
       "      <td>1020046081</td>\n",
       "      <td>0.382570</td>\n",
       "      <td>0.926295</td>\n",
       "      <td>0.765542</td>\n",
       "      <td>1</td>\n",
       "      <td>0.800000</td>\n",
       "      <td>1</td>\n",
       "      <td>1</td>\n",
       "    </tr>\n",
       "    <tr>\n",
       "      <th>3</th>\n",
       "      <td>1</td>\n",
       "      <td>1090124860</td>\n",
       "      <td>0.435683</td>\n",
       "      <td>0.845979</td>\n",
       "      <td>0.592252</td>\n",
       "      <td>1</td>\n",
       "      <td>0.833333</td>\n",
       "      <td>1</td>\n",
       "      <td>1</td>\n",
       "    </tr>\n",
       "    <tr>\n",
       "      <th>4</th>\n",
       "      <td>1</td>\n",
       "      <td>1140096300</td>\n",
       "      <td>0.257996</td>\n",
       "      <td>0.604481</td>\n",
       "      <td>0.496121</td>\n",
       "      <td>1</td>\n",
       "      <td>0.800000</td>\n",
       "      <td>0</td>\n",
       "      <td>1</td>\n",
       "    </tr>\n",
       "  </tbody>\n",
       "</table>\n",
       "</div>"
      ],
      "text/plain": [
       "   target_orig         ids  probs_min  probs_max  probs_mean  target  \\\n",
       "0            1  1090179235   0.483563   0.729592    0.563669       1   \n",
       "1            1  1090044795   0.478815   0.573090    0.539413       1   \n",
       "2            1  1020046081   0.382570   0.926295    0.765542       1   \n",
       "3            1  1090124860   0.435683   0.845979    0.592252       1   \n",
       "4            1  1140096300   0.257996   0.604481    0.496121       1   \n",
       "\n",
       "      preds  preds_probs_mean  preds_mean  \n",
       "0  0.750000                 1           1  \n",
       "1  0.666667                 1           1  \n",
       "2  0.800000                 1           1  \n",
       "3  0.833333                 1           1  \n",
       "4  0.800000                 0           1  "
      ]
     },
     "execution_count": 73,
     "metadata": {},
     "output_type": "execute_result"
    }
   ],
   "source": [
    "original_df = pd.DataFrame({'target_orig': val_target, 'ids': val_ids})\n",
    "original_df = original_df.merge(pred_aggr_df, on=\"ids\")\n",
    "original_df.head()"
   ]
  },
  {
   "cell_type": "code",
   "execution_count": 74,
   "metadata": {},
   "outputs": [
    {
     "data": {
      "text/plain": [
       "(31358, 31358)"
      ]
     },
     "execution_count": 74,
     "metadata": {},
     "output_type": "execute_result"
    }
   ],
   "source": [
    "original_df.target_orig.sum(), original_df.target.sum()"
   ]
  },
  {
   "cell_type": "markdown",
   "metadata": {},
   "source": [
    "## Model evaluation"
   ]
  },
  {
   "cell_type": "code",
   "execution_count": 75,
   "metadata": {},
   "outputs": [],
   "source": [
    "val_pred_aggr_chunk = original_df.preds_probs_mean\n",
    "val_pred_probs_aggr_chunk = original_df.probs_mean\n",
    "# val_aggr_target = pred_aggr_df.target\n",
    "# val_aggr_ids = pred_aggr_df.ids"
   ]
  },
  {
   "cell_type": "code",
   "execution_count": 76,
   "metadata": {},
   "outputs": [],
   "source": [
    "np.save(probs_path+'val_pred_probs_cnn_aggr_chunk', val_pred_probs_aggr_chunk, allow_pickle=True, fix_imports=True)"
   ]
  },
  {
   "cell_type": "code",
   "execution_count": 77,
   "metadata": {},
   "outputs": [
    {
     "name": "stdout",
     "output_type": "stream",
     "text": [
      "Confusion matrix, without normalization\n",
      "[[23697  7661]\n",
      " [ 8394 22964]]\n",
      "             precision    recall  f1-score   support\n",
      "\n",
      "       Male       0.74      0.76      0.75     31358\n",
      "     Female       0.75      0.73      0.74     31358\n",
      "\n",
      "avg / total       0.74      0.74      0.74     62716\n",
      "\n"
     ]
    },
    {
     "data": {
      "text/plain": [
       "<matplotlib.axes._subplots.AxesSubplot at 0x7fbd4d45df60>"
      ]
     },
     "execution_count": 77,
     "metadata": {},
     "output_type": "execute_result"
    },
    {
     "data": {
      "image/png": "[encoded data removed]",
      "text/plain": [
       "<Figure size 432x288 with 2 Axes>"
      ]
     },
     "metadata": {},
     "output_type": "display_data"
    }
   ],
   "source": [
    "reload(explore_data)\n",
    "# specify class names in 0 - 1 order\n",
    "explore_data.plot_confusion_matrix(val_target, val_pred_aggr_chunk, classes, normalize=True)"
   ]
  },
  {
   "cell_type": "code",
   "execution_count": 79,
   "metadata": {
    "scrolled": false
   },
   "outputs": [
    {
     "data": {
      "image/png": "[encoded data removed]",
      "text/plain": [
       "<Figure size 720x720 with 2 Axes>"
      ]
     },
     "metadata": {},
     "output_type": "display_data"
    }
   ],
   "source": [
    "reload(explore_data)\n",
    "explore_data.plot_calibration_curve(val_target, val_pred_probs_aggr_chunk, 'Gender')"
   ]
  },
  {
   "cell_type": "code",
   "execution_count": 81,
   "metadata": {
    "scrolled": true
   },
   "outputs": [
    {
     "name": "stdout",
     "output_type": "stream",
     "text": [
      "Validation sample means:\n",
      "      Gender_F  Ethinicity_NW     AvgAge   Party_D  Chamber_H  AvgWordCount\n",
      "base       0.5        0.17549  58.248453  0.621101   0.659624    392.229001\n"
     ]
    },
    {
     "data": {
      "text/html": [
       "<div>\n",
       "<style scoped>\n",
       "    .dataframe tbody tr th:only-of-type {\n",
       "        vertical-align: middle;\n",
       "    }\n",
       "\n",
       "    .dataframe tbody tr th {\n",
       "        vertical-align: top;\n",
       "    }\n",
       "\n",
       "    .dataframe thead th {\n",
       "        text-align: right;\n",
       "    }\n",
       "</style>\n",
       "<table border=\"1\" class=\"dataframe\">\n",
       "  <thead>\n",
       "    <tr style=\"text-align: right;\">\n",
       "      <th></th>\n",
       "      <th>Gender_F</th>\n",
       "      <th>Ethinicity_NW</th>\n",
       "      <th>AvgAge</th>\n",
       "      <th>Party_D</th>\n",
       "      <th>Chamber_H</th>\n",
       "      <th>AvgWordCount</th>\n",
       "    </tr>\n",
       "  </thead>\n",
       "  <tbody>\n",
       "    <tr>\n",
       "      <th>0.4</th>\n",
       "      <td>0.33</td>\n",
       "      <td>0.37</td>\n",
       "      <td>0.99</td>\n",
       "      <td>0.82</td>\n",
       "      <td>0.70</td>\n",
       "      <td>0.81</td>\n",
       "    </tr>\n",
       "    <tr>\n",
       "      <th>0.6</th>\n",
       "      <td>1.03</td>\n",
       "      <td>0.89</td>\n",
       "      <td>0.99</td>\n",
       "      <td>0.96</td>\n",
       "      <td>1.07</td>\n",
       "      <td>1.12</td>\n",
       "    </tr>\n",
       "    <tr>\n",
       "      <th>1.0</th>\n",
       "      <td>1.68</td>\n",
       "      <td>1.85</td>\n",
       "      <td>1.03</td>\n",
       "      <td>1.25</td>\n",
       "      <td>1.22</td>\n",
       "      <td>1.01</td>\n",
       "    </tr>\n",
       "  </tbody>\n",
       "</table>\n",
       "</div>"
      ],
      "text/plain": [
       "     Gender_F  Ethinicity_NW  AvgAge  Party_D  Chamber_H  AvgWordCount\n",
       "0.4      0.33           0.37    0.99     0.82       0.70          0.81\n",
       "0.6      1.03           0.89    0.99     0.96       1.07          1.12\n",
       "1.0      1.68           1.85    1.03     1.25       1.22          1.01"
      ]
     },
     "execution_count": 81,
     "metadata": {},
     "output_type": "execute_result"
    }
   ],
   "source": [
    "reload(explore_data)\n",
    "# checking the ratios of demo variables in low-mid-high probability buckets\n",
    "explore_data.check_bin_probs_distr(val_pred_probs_aggr_chunk, \n",
    "                                   val_ids, \n",
    "                                   descr_df)"
   ]
  },
  {
   "cell_type": "code",
   "execution_count": 82,
   "metadata": {},
   "outputs": [
    {
     "name": "stdout",
     "output_type": "stream",
     "text": [
      "\n",
      "Top 10 ngrams by differentiating score:\n",
      "rise \t 1738.9\n",
      "women \t 1488.0\n",
      "speaker rise \t 1433.4\n",
      "rise today \t 1234.9\n",
      "mr president \t 1026.7\n",
      "speaker \t 916.8\n",
      "their \t 894.5\n",
      "families \t 866.2\n",
      "colleagues to \t 863.4\n",
      "lives \t 825.6\n"
     ]
    },
    {
     "data": {
      "text/html": [
       "<div>\n",
       "<style scoped>\n",
       "    .dataframe tbody tr th:only-of-type {\n",
       "        vertical-align: middle;\n",
       "    }\n",
       "\n",
       "    .dataframe tbody tr th {\n",
       "        vertical-align: top;\n",
       "    }\n",
       "\n",
       "    .dataframe thead th {\n",
       "        text-align: right;\n",
       "    }\n",
       "</style>\n",
       "<table border=\"1\" class=\"dataframe\">\n",
       "  <thead>\n",
       "    <tr style=\"text-align: right;\">\n",
       "      <th>bin</th>\n",
       "      <th>1</th>\n",
       "      <th>2</th>\n",
       "      <th>3</th>\n",
       "    </tr>\n",
       "  </thead>\n",
       "  <tbody>\n",
       "    <tr>\n",
       "      <th>colleagues to</th>\n",
       "      <td>1308.0</td>\n",
       "      <td>4357.0</td>\n",
       "      <td>4286.0</td>\n",
       "    </tr>\n",
       "    <tr>\n",
       "      <th>families</th>\n",
       "      <td>934.0</td>\n",
       "      <td>6268.0</td>\n",
       "      <td>8209.0</td>\n",
       "    </tr>\n",
       "    <tr>\n",
       "      <th>lives</th>\n",
       "      <td>753.0</td>\n",
       "      <td>3896.0</td>\n",
       "      <td>4497.0</td>\n",
       "    </tr>\n",
       "    <tr>\n",
       "      <th>mr president</th>\n",
       "      <td>12711.0</td>\n",
       "      <td>9364.0</td>\n",
       "      <td>3340.0</td>\n",
       "    </tr>\n",
       "    <tr>\n",
       "      <th>rise</th>\n",
       "      <td>2289.0</td>\n",
       "      <td>7518.0</td>\n",
       "      <td>7394.0</td>\n",
       "    </tr>\n",
       "    <tr>\n",
       "      <th>rise today</th>\n",
       "      <td>696.0</td>\n",
       "      <td>2991.0</td>\n",
       "      <td>3532.0</td>\n",
       "    </tr>\n",
       "    <tr>\n",
       "      <th>speaker</th>\n",
       "      <td>8415.0</td>\n",
       "      <td>23899.0</td>\n",
       "      <td>17613.0</td>\n",
       "    </tr>\n",
       "    <tr>\n",
       "      <th>speaker rise</th>\n",
       "      <td>695.0</td>\n",
       "      <td>3116.0</td>\n",
       "      <td>3809.0</td>\n",
       "    </tr>\n",
       "    <tr>\n",
       "      <th>their</th>\n",
       "      <td>14490.0</td>\n",
       "      <td>42398.0</td>\n",
       "      <td>31764.0</td>\n",
       "    </tr>\n",
       "    <tr>\n",
       "      <th>women</th>\n",
       "      <td>659.0</td>\n",
       "      <td>4520.0</td>\n",
       "      <td>16097.0</td>\n",
       "    </tr>\n",
       "  </tbody>\n",
       "</table>\n",
       "</div>"
      ],
      "text/plain": [
       "bin                  1        2        3\n",
       "colleagues to   1308.0   4357.0   4286.0\n",
       "families         934.0   6268.0   8209.0\n",
       "lives            753.0   3896.0   4497.0\n",
       "mr president   12711.0   9364.0   3340.0\n",
       "rise            2289.0   7518.0   7394.0\n",
       "rise today       696.0   2991.0   3532.0\n",
       "speaker         8415.0  23899.0  17613.0\n",
       "speaker rise     695.0   3116.0   3809.0\n",
       "their          14490.0  42398.0  31764.0\n",
       "women            659.0   4520.0  16097.0"
      ]
     },
     "execution_count": 82,
     "metadata": {},
     "output_type": "execute_result"
    }
   ],
   "source": [
    "reload(explore_data)\n",
    "explore_data.compare_ngrams(val, val_pred_probs_aggr_chunk, ngram_range=(1, 2))"
   ]
  },
  {
   "cell_type": "code",
   "execution_count": null,
   "metadata": {},
   "outputs": [],
   "source": []
  }
 ],
 "metadata": {
  "kernelspec": {
   "display_name": "Python 3",
   "language": "python",
   "name": "python3"
  },
  "language_info": {
   "codemirror_mode": {
    "name": "ipython",
    "version": 3
   },
   "file_extension": ".py",
   "mimetype": "text/x-python",
   "name": "python",
   "nbconvert_exporter": "python",
   "pygments_lexer": "ipython3",
   "version": "3.5.2"
  }
 },
 "nbformat": 4,
 "nbformat_minor": 2
}
