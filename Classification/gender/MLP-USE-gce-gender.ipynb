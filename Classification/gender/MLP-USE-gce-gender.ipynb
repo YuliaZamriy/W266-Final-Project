{
 "cells": [
  {
   "cell_type": "code",
   "execution_count": 3,
   "metadata": {},
   "outputs": [
    {
     "data": {
      "text/plain": [
       "2"
      ]
     },
     "execution_count": 3,
     "metadata": {},
     "output_type": "execute_result"
    }
   ],
   "source": [
    "1+1"
   ]
  },
  {
   "cell_type": "code",
   "execution_count": 4,
   "metadata": {},
   "outputs": [
    {
     "data": {
      "text/html": [
       "<style>.container { width:100% !important; }</style>"
      ],
      "text/plain": [
       "<IPython.core.display.HTML object>"
      ]
     },
     "metadata": {},
     "output_type": "display_data"
    }
   ],
   "source": [
    "# increase cell width\n",
    "from IPython.core.display import display, HTML\n",
    "display(HTML(\"<style>.container { width:100% !important; }</style>\"))"
   ]
  },
  {
   "cell_type": "code",
   "execution_count": 5,
   "metadata": {},
   "outputs": [],
   "source": [
    "# !pip install --quiet tensorflow-hub\n",
    "# !pip install --quiet seaborn"
   ]
  },
  {
   "cell_type": "code",
   "execution_count": 6,
   "metadata": {},
   "outputs": [],
   "source": [
    "import tensorflow as tf\n",
    "import tensorflow_hub as hub\n",
    "import matplotlib.pyplot as plt\n",
    "import numpy as np\n",
    "import os\n",
    "import pandas as pd\n",
    "import re\n",
    "import seaborn as sns"
   ]
  },
  {
   "cell_type": "code",
   "execution_count": 7,
   "metadata": {},
   "outputs": [],
   "source": [
    "from __future__ import absolute_import\n",
    "from __future__ import division\n",
    "from __future__ import print_function\n",
    "\n",
    "import os\n",
    "import random\n",
    "import time\n",
    "import pickle\n",
    "import gc\n",
    "import re\n",
    "\n",
    "import numpy as np\n",
    "import pandas as pd\n",
    "\n",
    "from importlib import reload\n",
    "\n",
    "import scipy.sparse"
   ]
  },
  {
   "cell_type": "code",
   "execution_count": 8,
   "metadata": {},
   "outputs": [],
   "source": [
    "from helpers import load_data\n",
    "from helpers import explore_data\n",
    "from helpers import preprocess_data\n",
    "from helpers import train_model"
   ]
  },
  {
   "cell_type": "code",
   "execution_count": 9,
   "metadata": {},
   "outputs": [],
   "source": [
    "module_url = \"https://tfhub.dev/google/universal-sentence-encoder/2\" #@param [\"https://tfhub.dev/google/universal-sentence-encoder/2\", \"https://tfhub.dev/google/universal-sentence-encoder-large/3\"]"
   ]
  },
  {
   "cell_type": "code",
   "execution_count": 10,
   "metadata": {},
   "outputs": [
    {
     "name": "stdout",
     "output_type": "stream",
     "text": [
      "WARNING:tensorflow:From /home/yulia/anaconda3/lib/python3.6/site-packages/tensorflow/python/ops/control_flow_ops.py:3632: colocate_with (from tensorflow.python.framework.ops) is deprecated and will be removed in a future version.\n",
      "Instructions for updating:\n",
      "Colocations handled automatically by placer.\n"
     ]
    },
    {
     "name": "stderr",
     "output_type": "stream",
     "text": [
      "W0405 12:55:45.813895 140131594917696 deprecation.py:323] From /home/yulia/anaconda3/lib/python3.6/site-packages/tensorflow/python/ops/control_flow_ops.py:3632: colocate_with (from tensorflow.python.framework.ops) is deprecated and will be removed in a future version.\n",
      "Instructions for updating:\n",
      "Colocations handled automatically by placer.\n"
     ]
    }
   ],
   "source": [
    "# Import the Universal Sentence Encoder's TF Hub module\n",
    "embed = hub.Module(module_url)"
   ]
  },
  {
   "cell_type": "code",
   "execution_count": 11,
   "metadata": {},
   "outputs": [
    {
     "data": {
      "text/plain": [
       "tensorflow_hub.module.Module"
      ]
     },
     "execution_count": 11,
     "metadata": {},
     "output_type": "execute_result"
    }
   ],
   "source": [
    "type(embed)"
   ]
  },
  {
   "cell_type": "code",
   "execution_count": 12,
   "metadata": {},
   "outputs": [],
   "source": [
    "main_dir = '/home/yulia/W266-Final-Project/'"
   ]
  },
  {
   "cell_type": "code",
   "execution_count": 13,
   "metadata": {},
   "outputs": [],
   "source": [
    "data_path = main_dir+'data/raw/hein-daily'"
   ]
  },
  {
   "cell_type": "code",
   "execution_count": 14,
   "metadata": {},
   "outputs": [
    {
     "name": "stdout",
     "output_type": "stream",
     "text": [
      "\n",
      "File speeches_097.txt has 249718612 characters\n",
      "and 283399 speeches\n",
      "\n",
      "Speeches list has 283399 speeches\n",
      "\n",
      "File speeches_098.txt has 252071246 characters\n",
      "and 280289 speeches\n",
      "\n",
      "Speeches list has 563688 speeches\n",
      "\n",
      "File speeches_099.txt has 265326480 characters\n",
      "and 281528 speeches\n",
      "\n",
      "Speeches list has 845216 speeches\n",
      "\n",
      "File speeches_100.txt has 270610780 characters\n",
      "and 276162 speeches\n",
      "\n",
      "Speeches list has 1121378 speeches\n",
      "\n",
      "File speeches_101.txt has 261004871 characters\n",
      "and 251217 speeches\n",
      "\n",
      "Speeches list has 1372595 speeches\n",
      "\n",
      "File speeches_102.txt has 271650630 characters\n",
      "and 243092 speeches\n",
      "\n",
      "Speeches list has 1615687 speeches\n",
      "\n",
      "File speeches_103.txt has 249908822 characters\n",
      "and 235974 speeches\n",
      "\n",
      "Speeches list has 1851661 speeches\n",
      "\n",
      "File speeches_104.txt has 280355367 characters\n",
      "and 274985 speeches\n",
      "\n",
      "Speeches list has 2126646 speeches\n",
      "\n",
      "File speeches_105.txt has 235226903 characters\n",
      "and 209267 speeches\n",
      "\n",
      "Speeches list has 2335913 speeches\n",
      "\n",
      "File speeches_106.txt has 243801385 characters\n",
      "and 209648 speeches\n",
      "\n",
      "Speeches list has 2545561 speeches\n",
      "\n",
      "File speeches_107.txt has 214724318 characters\n",
      "and 180726 speeches\n",
      "\n",
      "Speeches list has 2726287 speeches\n",
      "\n",
      "File speeches_108.txt has 237009565 characters\n",
      "and 200159 speeches\n",
      "\n",
      "Speeches list has 2926446 speeches\n",
      "\n",
      "File speeches_109.txt has 226698889 characters\n",
      "and 187647 speeches\n",
      "\n",
      "Speeches list has 3114093 speeches\n",
      "\n",
      "File speeches_110.txt has 242773059 characters\n",
      "and 211367 speeches\n",
      "\n",
      "Speeches list has 3325460 speeches\n",
      "\n",
      "File speeches_111.txt has 183499959 characters\n",
      "and 154400 speeches\n",
      "\n",
      "Speeches list has 3479860 speeches\n",
      "\n",
      "File speeches_112.txt has 174117603 characters\n",
      "and 145901 speeches\n",
      "\n",
      "Speeches list has 3625761 speeches\n",
      "\n",
      "File speeches_113.txt has 153424011 characters\n",
      "and 128149 speeches\n",
      "\n",
      "Speeches list has 3753910 speeches\n",
      "\n",
      "File speeches_114.txt has 130969173 characters\n",
      "and 112291 speeches\n",
      "\n",
      "Speeches list has 3866201 speeches\n"
     ]
    }
   ],
   "source": [
    "all_speech_ids, all_speeches = load_data.load_speech_data(data_path)"
   ]
  },
  {
   "cell_type": "code",
   "execution_count": 15,
   "metadata": {},
   "outputs": [
    {
     "name": "stdout",
     "output_type": "stream",
     "text": [
      "2914465 lines have been read\n",
      "37617 keys had duplicates and deleted\n",
      "The dictionary has 2808050 keys\n",
      "\n",
      "Random congressperson: 1090182100\n",
      "date 20061114\n",
      "char_count 278\n",
      "word_count 49\n",
      "speakerid 109112991.0\n",
      "Party R\n",
      "Congress 109\n",
      "Chamber S\n",
      "State TN\n",
      "Ethnicity W\n",
      "Age 54.0\n",
      "Age_lt_med 1.0\n",
      "NonWhite 0.0\n",
      "Female 0.0\n",
      "speaker Mr. FRIST\n",
      "Full Name FRIST, WILLIAM\n",
      "match exact\n",
      "check 1\n",
      "\n",
      "It took 26.1 seconds to create the dictionary\n"
     ]
    }
   ],
   "source": [
    "reload(load_data)\n",
    "start_time = time.time()\n",
    "descr = load_data.load_descr_data(main_dir+'data/QA/full_descr.txt')\n",
    "print(\"\\nIt took {0:.1f} seconds to create the dictionary\".format(time.time()-start_time))"
   ]
  },
  {
   "cell_type": "code",
   "execution_count": 16,
   "metadata": {},
   "outputs": [
    {
     "data": {
      "text/plain": [
       "3866201"
      ]
     },
     "execution_count": 16,
     "metadata": {},
     "output_type": "execute_result"
    }
   ],
   "source": [
    "gender = load_data.create_target_labels(all_speech_ids, descr)[0]\n",
    "len(gender)"
   ]
  },
  {
   "cell_type": "code",
   "execution_count": 17,
   "metadata": {},
   "outputs": [
    {
     "name": "stdout",
     "output_type": "stream",
     "text": [
      "Training split: 94074 ones and 94074 zeroes\n",
      "Training speech list size: 188148\n",
      "Training target list size: 188148\n",
      "Validation split: 31358 ones and 31358 zeroes\n",
      "Validation speech list size: 62716\n",
      "Validation target list size: 62716\n",
      "Test split: 31358 ones and 31358 zeroes\n",
      "Test speech list size: 62716\n",
      "Test target list size: 62716\n"
     ]
    }
   ],
   "source": [
    "train, train_ids, train_target, val, val_ids, val_target, test, test_ids, test_target = preprocess_data.split_train_val_test(all_speeches, all_speech_ids, gender, descr)"
   ]
  },
  {
   "cell_type": "code",
   "execution_count": 18,
   "metadata": {},
   "outputs": [],
   "source": [
    "chunk_len=30"
   ]
  },
  {
   "cell_type": "code",
   "execution_count": 19,
   "metadata": {},
   "outputs": [
    {
     "name": "stdout",
     "output_type": "stream",
     "text": [
      "Original data has 188148 speeches\n",
      "It was split into 2541572 chunks\n",
      "Checks on ids and target 2541572 2541572\n",
      "Original target mean 0.5\n",
      "New target mean 0.5144335867722811\n"
     ]
    }
   ],
   "source": [
    "reload(preprocess_data)\n",
    "train_chunk, train_ids_chunk, train_target_chunk = preprocess_data.split_speech_to_chunks(train, train_ids, train_target, max_len=chunk_len)"
   ]
  },
  {
   "cell_type": "code",
   "execution_count": 20,
   "metadata": {},
   "outputs": [
    {
     "name": "stdout",
     "output_type": "stream",
     "text": [
      "Original data has 62716 speeches\n",
      "It was split into 851633 chunks\n",
      "Checks on ids and target 851633 851633\n",
      "Original target mean 0.5\n",
      "New target mean 0.5181163717235007\n"
     ]
    }
   ],
   "source": [
    "val_chunk, val_ids_chunk, val_target_chunk = preprocess_data.split_speech_to_chunks(val, val_ids, val_target, max_len=chunk_len)"
   ]
  },
  {
   "cell_type": "code",
   "execution_count": 21,
   "metadata": {},
   "outputs": [
    {
     "data": {
      "text/plain": [
       "['Mr. Speaker. today I join my colleagues. our fellow Americans. and people around the world to offer our prayers to the families of those lost or injured in yesterdays unspeakable',\n",
       " 'crimes. We stand here in solidarity with the President. who represents this Nation and its resolve to hunt down those responsible and bring them to justice. No one should doubt']"
      ]
     },
     "execution_count": 21,
     "metadata": {},
     "output_type": "execute_result"
    }
   ],
   "source": [
    "train_chunk[:2]"
   ]
  },
  {
   "cell_type": "code",
   "execution_count": 22,
   "metadata": {},
   "outputs": [],
   "source": [
    "del descr"
   ]
  },
  {
   "cell_type": "code",
   "execution_count": 23,
   "metadata": {},
   "outputs": [
    {
     "name": "stdout",
     "output_type": "stream",
     "text": [
      "INFO:tensorflow:Saver not created because there are no variables in the graph to restore\n"
     ]
    },
    {
     "name": "stderr",
     "output_type": "stream",
     "text": [
      "I0405 13:02:23.069400 140131594917696 saver.py:1483] Saver not created because there are no variables in the graph to restore\n"
     ]
    },
    {
     "name": "stdout",
     "output_type": "stream",
     "text": [
      "\n",
      "It took 335.6 seconds to create embeddings\n",
      "INFO:tensorflow:Saver not created because there are no variables in the graph to restore\n"
     ]
    },
    {
     "name": "stderr",
     "output_type": "stream",
     "text": [
      "I0405 13:07:48.288657 140131594917696 saver.py:1483] Saver not created because there are no variables in the graph to restore\n"
     ]
    },
    {
     "name": "stdout",
     "output_type": "stream",
     "text": [
      "\n",
      "It took 322.6 seconds to create embeddings\n",
      "INFO:tensorflow:Saver not created because there are no variables in the graph to restore\n"
     ]
    },
    {
     "name": "stderr",
     "output_type": "stream",
     "text": [
      "I0405 13:13:10.325346 140131594917696 saver.py:1483] Saver not created because there are no variables in the graph to restore\n"
     ]
    },
    {
     "name": "stdout",
     "output_type": "stream",
     "text": [
      "\n",
      "It took 323.6 seconds to create embeddings\n",
      "INFO:tensorflow:Saver not created because there are no variables in the graph to restore\n"
     ]
    },
    {
     "name": "stderr",
     "output_type": "stream",
     "text": [
      "I0405 13:18:38.020271 140131594917696 saver.py:1483] Saver not created because there are no variables in the graph to restore\n"
     ]
    },
    {
     "name": "stdout",
     "output_type": "stream",
     "text": [
      "\n",
      "It took 327.8 seconds to create embeddings\n",
      "INFO:tensorflow:Saver not created because there are no variables in the graph to restore\n"
     ]
    },
    {
     "name": "stderr",
     "output_type": "stream",
     "text": [
      "I0405 13:24:17.398830 140131594917696 saver.py:1483] Saver not created because there are no variables in the graph to restore\n"
     ]
    },
    {
     "name": "stdout",
     "output_type": "stream",
     "text": [
      "\n",
      "It took 337.3 seconds to create embeddings\n",
      "INFO:tensorflow:Saver not created because there are no variables in the graph to restore\n"
     ]
    },
    {
     "name": "stderr",
     "output_type": "stream",
     "text": [
      "I0405 13:29:53.247094 140131594917696 saver.py:1483] Saver not created because there are no variables in the graph to restore\n"
     ]
    },
    {
     "name": "stdout",
     "output_type": "stream",
     "text": [
      "\n",
      "It took 333.4 seconds to create embeddings\n",
      "INFO:tensorflow:Saver not created because there are no variables in the graph to restore\n"
     ]
    },
    {
     "name": "stderr",
     "output_type": "stream",
     "text": [
      "I0405 13:35:33.533809 140131594917696 saver.py:1483] Saver not created because there are no variables in the graph to restore\n"
     ]
    },
    {
     "name": "stdout",
     "output_type": "stream",
     "text": [
      "\n",
      "It took 338.0 seconds to create embeddings\n",
      "INFO:tensorflow:Saver not created because there are no variables in the graph to restore\n"
     ]
    },
    {
     "name": "stderr",
     "output_type": "stream",
     "text": [
      "I0405 13:41:16.094871 140131594917696 saver.py:1483] Saver not created because there are no variables in the graph to restore\n"
     ]
    },
    {
     "name": "stdout",
     "output_type": "stream",
     "text": [
      "\n",
      "It took 339.1 seconds to create embeddings\n",
      "INFO:tensorflow:Saver not created because there are no variables in the graph to restore\n"
     ]
    },
    {
     "name": "stderr",
     "output_type": "stream",
     "text": [
      "I0405 13:46:56.939590 140131594917696 saver.py:1483] Saver not created because there are no variables in the graph to restore\n"
     ]
    },
    {
     "name": "stdout",
     "output_type": "stream",
     "text": [
      "\n",
      "It took 339.6 seconds to create embeddings\n",
      "INFO:tensorflow:Saver not created because there are no variables in the graph to restore\n"
     ]
    },
    {
     "name": "stderr",
     "output_type": "stream",
     "text": [
      "I0405 13:52:47.229255 140131594917696 saver.py:1483] Saver not created because there are no variables in the graph to restore\n"
     ]
    },
    {
     "name": "stdout",
     "output_type": "stream",
     "text": [
      "\n",
      "It took 346.3 seconds to create embeddings\n",
      "INFO:tensorflow:Saver not created because there are no variables in the graph to restore\n"
     ]
    },
    {
     "name": "stderr",
     "output_type": "stream",
     "text": [
      "I0405 13:54:18.895430 140131594917696 saver.py:1483] Saver not created because there are no variables in the graph to restore\n"
     ]
    },
    {
     "name": "stdout",
     "output_type": "stream",
     "text": [
      "\n",
      "It took 33.1 seconds to create embeddings\n"
     ]
    }
   ],
   "source": [
    "batches = list(range(0, len(train_chunk), int(len(train_chunk)/10)))\n",
    "train_emb = np.empty([0,512])\n",
    "\n",
    "for i in range(len(batches)):\n",
    "    if i < len(batches) - 1:\n",
    "        start_time = time.time()\n",
    "        with tf.Session() as session:\n",
    "            session.run([tf.global_variables_initializer(), tf.tables_initializer()])\n",
    "            temp = session.run(embed(train_chunk[batches[i]:batches[i+1]]))\n",
    "        print(\"\\nIt took {0:.1f} seconds to create embeddings\".format(time.time()-start_time))\n",
    "    if i == len(batches) - 1:\n",
    "        start_time = time.time()\n",
    "        with tf.Session() as session:\n",
    "            session.run([tf.global_variables_initializer(), tf.tables_initializer()])\n",
    "            temp = session.run(embed(train_chunk[batches[i]:]))\n",
    "        print(\"\\nIt took {0:.1f} seconds to create embeddings\".format(time.time()-start_time))      \n",
    "    train_emb = np.concatenate((train_emb, temp), axis=0)"
   ]
  },
  {
   "cell_type": "code",
   "execution_count": 24,
   "metadata": {},
   "outputs": [
    {
     "data": {
      "text/plain": [
       "(2541572, 512)"
      ]
     },
     "execution_count": 24,
     "metadata": {},
     "output_type": "execute_result"
    }
   ],
   "source": [
    "train_emb.shape"
   ]
  },
  {
   "cell_type": "code",
   "execution_count": 25,
   "metadata": {},
   "outputs": [],
   "source": [
    "del temp"
   ]
  },
  {
   "cell_type": "code",
   "execution_count": 26,
   "metadata": {},
   "outputs": [],
   "source": [
    "#train_emb.shape"
   ]
  },
  {
   "cell_type": "code",
   "execution_count": 27,
   "metadata": {},
   "outputs": [],
   "source": [
    "outdata_path = main_dir+'Classification/data/splits/gender'"
   ]
  },
  {
   "cell_type": "code",
   "execution_count": 28,
   "metadata": {},
   "outputs": [],
   "source": [
    "with open(os.path.join(outdata_path, 'train_target_chunk'), 'wb') as fp:\n",
    "    pickle.dump(train_target_chunk, fp)\n",
    "with open(os.path.join(outdata_path, 'val_target_chunk'), 'wb') as fp:\n",
    "    pickle.dump(val_target_chunk, fp)"
   ]
  },
  {
   "cell_type": "code",
   "execution_count": 29,
   "metadata": {},
   "outputs": [],
   "source": [
    "with open(os.path.join(outdata_path, 'val_ids_chunk'), 'wb') as fp:\n",
    "    pickle.dump(val_ids_chunk, fp)"
   ]
  },
  {
   "cell_type": "code",
   "execution_count": 30,
   "metadata": {},
   "outputs": [],
   "source": [
    "# with open(os.path.join(outdata_path, 'train_target_chunk'), 'rb') as fp:\n",
    "#     train_target_chunk = pickle.load(fp)\n",
    "# with open(os.path.join(outdata_path, 'val_target_chunk'), 'rb') as fp:\n",
    "#     val_target_chunk = pickle.load(fp)"
   ]
  },
  {
   "cell_type": "code",
   "execution_count": 35,
   "metadata": {},
   "outputs": [
    {
     "data": {
      "text/plain": [
       "0"
      ]
     },
     "execution_count": 35,
     "metadata": {},
     "output_type": "execute_result"
    }
   ],
   "source": [
    "gc.collect()"
   ]
  },
  {
   "cell_type": "code",
   "execution_count": 34,
   "metadata": {},
   "outputs": [],
   "source": [
    "with open(os.path.join(outdata_path, 'train_emb30'), 'wb') as fp:\n",
    "    pickle.dump(train_emb[:1000000], fp)\n",
    "with open(os.path.join(outdata_path, 'train_emb30_p2'), 'wb') as fp:\n",
    "    pickle.dump(train_emb[1000000:2000000], fp)\n",
    "with open(os.path.join(outdata_path, 'train_emb30_p3'), 'wb') as fp:\n",
    "    pickle.dump(train_emb[2000000:], fp)"
   ]
  },
  {
   "cell_type": "code",
   "execution_count": null,
   "metadata": {},
   "outputs": [],
   "source": [
    "# with open(os.path.join(outdata_path, 'train_emb30'), 'rb') as fp:\n",
    "#     train_emb = pickle.load(fp)\n",
    "# with open(os.path.join(outdata_path, 'train_emb30_p2'), 'rb') as fp:\n",
    "#     train_emb2 = pickle.load(fp)"
   ]
  },
  {
   "cell_type": "code",
   "execution_count": null,
   "metadata": {},
   "outputs": [],
   "source": [
    "# train_emb = np.concatenate((train_emb, train_emb2), axis=0)\n",
    "# train_emb.shape"
   ]
  },
  {
   "cell_type": "code",
   "execution_count": 36,
   "metadata": {},
   "outputs": [
    {
     "name": "stdout",
     "output_type": "stream",
     "text": [
      "INFO:tensorflow:Saver not created because there are no variables in the graph to restore\n"
     ]
    },
    {
     "name": "stderr",
     "output_type": "stream",
     "text": [
      "I0406 00:45:31.961392 140131594917696 saver.py:1483] Saver not created because there are no variables in the graph to restore\n"
     ]
    },
    {
     "name": "stdout",
     "output_type": "stream",
     "text": [
      "\n",
      "It took 407.8 seconds to create embeddings\n",
      "INFO:tensorflow:Saver not created because there are no variables in the graph to restore\n"
     ]
    },
    {
     "name": "stderr",
     "output_type": "stream",
     "text": [
      "I0406 00:52:16.924420 140131594917696 saver.py:1483] Saver not created because there are no variables in the graph to restore\n"
     ]
    },
    {
     "name": "stdout",
     "output_type": "stream",
     "text": [
      "\n",
      "It took 403.0 seconds to create embeddings\n",
      "INFO:tensorflow:Saver not created because there are no variables in the graph to restore\n"
     ]
    },
    {
     "name": "stderr",
     "output_type": "stream",
     "text": [
      "I0406 00:59:06.864733 140131594917696 saver.py:1483] Saver not created because there are no variables in the graph to restore\n"
     ]
    },
    {
     "name": "stdout",
     "output_type": "stream",
     "text": [
      "\n",
      "It took 408.0 seconds to create embeddings\n",
      "INFO:tensorflow:Saver not created because there are no variables in the graph to restore\n"
     ]
    },
    {
     "name": "stderr",
     "output_type": "stream",
     "text": [
      "I0406 01:00:54.799352 140131594917696 saver.py:1483] Saver not created because there are no variables in the graph to restore\n"
     ]
    },
    {
     "name": "stdout",
     "output_type": "stream",
     "text": [
      "\n",
      "It took 42.0 seconds to create embeddings\n"
     ]
    }
   ],
   "source": [
    "batches = list(range(0, len(val_chunk), int(len(val_chunk)/3)))\n",
    "val_emb = np.empty([0,512])\n",
    "\n",
    "for i in range(len(batches)):\n",
    "    if i < len(batches) - 1:\n",
    "        start_time = time.time()\n",
    "        with tf.Session() as session:\n",
    "            session.run([tf.global_variables_initializer(), tf.tables_initializer()])\n",
    "            temp = session.run(embed(val_chunk[batches[i]:batches[i+1]]))\n",
    "        print(\"\\nIt took {0:.1f} seconds to create embeddings\".format(time.time()-start_time))\n",
    "    if i == len(batches) - 1:\n",
    "        start_time = time.time()\n",
    "        with tf.Session() as session:\n",
    "            session.run([tf.global_variables_initializer(), tf.tables_initializer()])\n",
    "            temp = session.run(embed(val_chunk[batches[i]:]))\n",
    "        print(\"\\nIt took {0:.1f} seconds to create embeddings\".format(time.time()-start_time))      \n",
    "    val_emb = np.concatenate((val_emb, temp), axis=0)"
   ]
  },
  {
   "cell_type": "code",
   "execution_count": 37,
   "metadata": {},
   "outputs": [
    {
     "data": {
      "text/plain": [
       "(851633, 512)"
      ]
     },
     "execution_count": 37,
     "metadata": {},
     "output_type": "execute_result"
    }
   ],
   "source": [
    "val_emb.shape"
   ]
  },
  {
   "cell_type": "code",
   "execution_count": 38,
   "metadata": {},
   "outputs": [],
   "source": [
    "del temp, train, val, test, all_speech_ids, all_speeches, train_chunk, val_chunk"
   ]
  },
  {
   "cell_type": "code",
   "execution_count": 39,
   "metadata": {},
   "outputs": [
    {
     "data": {
      "text/plain": [
       "0"
      ]
     },
     "execution_count": 39,
     "metadata": {},
     "output_type": "execute_result"
    }
   ],
   "source": [
    "gc.collect()"
   ]
  },
  {
   "cell_type": "code",
   "execution_count": 40,
   "metadata": {},
   "outputs": [],
   "source": [
    "with open(os.path.join(outdata_path, 'val_emb30'), 'wb') as fp:\n",
    "    pickle.dump(val_emb[:283877], fp)\n",
    "with open(os.path.join(outdata_path, 'val_emb30_p2'), 'wb') as fp:\n",
    "    pickle.dump(val_emb[283877:567754], fp)\n",
    "with open(os.path.join(outdata_path, 'val_emb30_p3'), 'wb') as fp:\n",
    "    pickle.dump(val_emb[567754:], fp)"
   ]
  },
  {
   "cell_type": "code",
   "execution_count": null,
   "metadata": {},
   "outputs": [],
   "source": [
    "# with open(os.path.join(outdata_path, 'val_emb30'), 'rb') as fp:\n",
    "#     val_emb = pickle.load(fp)\n",
    "# with open(os.path.join(outdata_path, 'val_emb30_p2'), 'rb') as fp:\n",
    "#     val_emb2 = pickle.load(fp)\n",
    "# with open(os.path.join(outdata_path, 'val_emb30_p3'), 'rb') as fp:\n",
    "#     val_emb3 = pickle.load(fp)"
   ]
  },
  {
   "cell_type": "code",
   "execution_count": null,
   "metadata": {},
   "outputs": [],
   "source": [
    "# val_emb = np.concatenate((val_emb, val_emb2, val_emb3), axis=0)\n",
    "# val_emb.shape"
   ]
  },
  {
   "cell_type": "code",
   "execution_count": null,
   "metadata": {},
   "outputs": [],
   "source": [
    "gc.collect()"
   ]
  },
  {
   "cell_type": "code",
   "execution_count": 44,
   "metadata": {},
   "outputs": [
    {
     "data": {
      "text/plain": [
       "(512,)"
      ]
     },
     "execution_count": 44,
     "metadata": {},
     "output_type": "execute_result"
    }
   ],
   "source": [
    "train_emb[0].shape"
   ]
  },
  {
   "cell_type": "code",
   "execution_count": 45,
   "metadata": {},
   "outputs": [],
   "source": [
    "logs_base_dir = main_dir+\"final-project/Classification/logs/gender\""
   ]
  },
  {
   "cell_type": "code",
   "execution_count": 46,
   "metadata": {},
   "outputs": [],
   "source": [
    "mlp_model_params = {\n",
    "    'model': 'mlp',\n",
    "    'learning_rate': 0.001,\n",
    "    'epochs': 1000,\n",
    "    'batch_size': 128,\n",
    "    'layers': 2,\n",
    "    'units': 128,\n",
    "    'dropout_rate': 0.2\n",
    "}"
   ]
  },
  {
   "cell_type": "code",
   "execution_count": 47,
   "metadata": {},
   "outputs": [
    {
     "name": "stdout",
     "output_type": "stream",
     "text": [
      "WARNING:tensorflow:From /home/yulia/anaconda3/lib/python3.6/site-packages/tensorflow/python/keras/layers/core.py:143: calling dropout (from tensorflow.python.ops.nn_ops) with keep_prob is deprecated and will be removed in a future version.\n",
      "Instructions for updating:\n",
      "Please use `rate` instead of `keep_prob`. Rate should be set to `rate = 1 - keep_prob`.\n"
     ]
    },
    {
     "name": "stderr",
     "output_type": "stream",
     "text": [
      "W0406 01:04:12.346141 140131594917696 deprecation.py:506] From /home/yulia/anaconda3/lib/python3.6/site-packages/tensorflow/python/keras/layers/core.py:143: calling dropout (from tensorflow.python.ops.nn_ops) with keep_prob is deprecated and will be removed in a future version.\n",
      "Instructions for updating:\n",
      "Please use `rate` instead of `keep_prob`. Rate should be set to `rate = 1 - keep_prob`.\n"
     ]
    },
    {
     "name": "stdout",
     "output_type": "stream",
     "text": [
      "Train on 2541572 samples, validate on 851633 samples\n",
      "WARNING:tensorflow:From /home/yulia/anaconda3/lib/python3.6/site-packages/tensorflow/python/ops/math_ops.py:3066: to_int32 (from tensorflow.python.ops.math_ops) is deprecated and will be removed in a future version.\n",
      "Instructions for updating:\n",
      "Use tf.cast instead.\n"
     ]
    },
    {
     "name": "stderr",
     "output_type": "stream",
     "text": [
      "W0406 01:04:12.884389 140131594917696 deprecation.py:323] From /home/yulia/anaconda3/lib/python3.6/site-packages/tensorflow/python/ops/math_ops.py:3066: to_int32 (from tensorflow.python.ops.math_ops) is deprecated and will be removed in a future version.\n",
      "Instructions for updating:\n",
      "Use tf.cast instead.\n"
     ]
    },
    {
     "name": "stdout",
     "output_type": "stream",
     "text": [
      "Epoch 1/1000\n",
      " - 178s - loss: 0.6555 - acc: 0.6095 - val_loss: 0.6492 - val_acc: 0.6178\n",
      "Epoch 2/1000\n",
      " - 148s - loss: 0.6521 - acc: 0.6143 - val_loss: 0.6477 - val_acc: 0.6199\n",
      "Epoch 3/1000\n",
      " - 151s - loss: 0.6508 - acc: 0.6164 - val_loss: 0.6470 - val_acc: 0.6211\n",
      "Epoch 4/1000\n",
      " - 148s - loss: 0.6502 - acc: 0.6171 - val_loss: 0.6468 - val_acc: 0.6214\n",
      "Epoch 5/1000\n",
      " - 150s - loss: 0.6496 - acc: 0.6177 - val_loss: 0.6457 - val_acc: 0.6227\n",
      "Epoch 6/1000\n",
      " - 150s - loss: 0.6491 - acc: 0.6183 - val_loss: 0.6455 - val_acc: 0.6226\n",
      "Epoch 7/1000\n",
      " - 148s - loss: 0.6488 - acc: 0.6188 - val_loss: 0.6455 - val_acc: 0.6228\n",
      "Epoch 8/1000\n",
      " - 148s - loss: 0.6484 - acc: 0.6192 - val_loss: 0.6452 - val_acc: 0.6234\n",
      "Epoch 9/1000\n",
      " - 147s - loss: 0.6481 - acc: 0.6201 - val_loss: 0.6459 - val_acc: 0.6233\n",
      "Epoch 10/1000\n",
      " - 148s - loss: 0.6478 - acc: 0.6204 - val_loss: 0.6464 - val_acc: 0.6221\n",
      "Validation accuracy: 0.6220836639404297, loss: 0.6463579719046348\n"
     ]
    }
   ],
   "source": [
    "reload(train_model)\n",
    "history, train_pred_probs, val_pred_probs = train_model.train_model(((train_emb, train_target_chunk), (val_emb, val_target_chunk)), logs_base_dir, **mlp_model_params)"
   ]
  },
  {
   "cell_type": "code",
   "execution_count": 48,
   "metadata": {},
   "outputs": [
    {
     "data": {
      "text/plain": [
       "529787"
      ]
     },
     "execution_count": 48,
     "metadata": {},
     "output_type": "execute_result"
    }
   ],
   "source": [
    "val_preds = val_pred_probs > 0.5\n",
    "np.sum(val_preds.flatten()==val_target_chunk)"
   ]
  },
  {
   "cell_type": "code",
   "execution_count": 68,
   "metadata": {},
   "outputs": [],
   "source": [
    "probs_path = main_dir+\"Classification/data/probs/gender/\""
   ]
  },
  {
   "cell_type": "code",
   "execution_count": 69,
   "metadata": {},
   "outputs": [],
   "source": [
    "np.save(probs_path+'val_pred_probs_mlp_use_chunk', val_pred_probs, allow_pickle=True, fix_imports=True)"
   ]
  },
  {
   "cell_type": "code",
   "execution_count": 50,
   "metadata": {},
   "outputs": [],
   "source": [
    "with open(os.path.join(probs_path, 'val_pred_probs_mlp_use_chunk'), 'wb') as fp:\n",
    "    pickle.dump(val_pred_probs, fp)"
   ]
  },
  {
   "cell_type": "code",
   "execution_count": 51,
   "metadata": {},
   "outputs": [],
   "source": [
    "pred_df = pd.DataFrame({'ids': val_ids_chunk, 'target': val_target_chunk, 'probs': val_pred_probs.flatten(), 'preds': val_preds.flatten()})"
   ]
  },
  {
   "cell_type": "code",
   "execution_count": 52,
   "metadata": {},
   "outputs": [
    {
     "data": {
      "text/html": [
       "<div>\n",
       "<style scoped>\n",
       "    .dataframe tbody tr th:only-of-type {\n",
       "        vertical-align: middle;\n",
       "    }\n",
       "\n",
       "    .dataframe tbody tr th {\n",
       "        vertical-align: top;\n",
       "    }\n",
       "\n",
       "    .dataframe thead th {\n",
       "        text-align: right;\n",
       "    }\n",
       "</style>\n",
       "<table border=\"1\" class=\"dataframe\">\n",
       "  <thead>\n",
       "    <tr style=\"text-align: right;\">\n",
       "      <th></th>\n",
       "      <th>ids</th>\n",
       "      <th>probs_min</th>\n",
       "      <th>probs_max</th>\n",
       "      <th>probs_mean</th>\n",
       "      <th>target</th>\n",
       "      <th>preds</th>\n",
       "      <th>preds_probs_mean</th>\n",
       "      <th>preds_mean</th>\n",
       "    </tr>\n",
       "  </thead>\n",
       "  <tbody>\n",
       "    <tr>\n",
       "      <th>0</th>\n",
       "      <td>1000000354</td>\n",
       "      <td>0.262059</td>\n",
       "      <td>0.636449</td>\n",
       "      <td>0.437099</td>\n",
       "      <td>0</td>\n",
       "      <td>0.200000</td>\n",
       "      <td>0</td>\n",
       "      <td>0</td>\n",
       "    </tr>\n",
       "    <tr>\n",
       "      <th>1</th>\n",
       "      <td>1000000454</td>\n",
       "      <td>0.330816</td>\n",
       "      <td>0.360109</td>\n",
       "      <td>0.345463</td>\n",
       "      <td>0</td>\n",
       "      <td>0.000000</td>\n",
       "      <td>0</td>\n",
       "      <td>0</td>\n",
       "    </tr>\n",
       "    <tr>\n",
       "      <th>2</th>\n",
       "      <td>1000000541</td>\n",
       "      <td>0.226093</td>\n",
       "      <td>0.661604</td>\n",
       "      <td>0.403032</td>\n",
       "      <td>0</td>\n",
       "      <td>0.177778</td>\n",
       "      <td>0</td>\n",
       "      <td>0</td>\n",
       "    </tr>\n",
       "    <tr>\n",
       "      <th>3</th>\n",
       "      <td>1000000727</td>\n",
       "      <td>0.312327</td>\n",
       "      <td>0.606940</td>\n",
       "      <td>0.499194</td>\n",
       "      <td>0</td>\n",
       "      <td>0.636364</td>\n",
       "      <td>0</td>\n",
       "      <td>1</td>\n",
       "    </tr>\n",
       "    <tr>\n",
       "      <th>4</th>\n",
       "      <td>1000000738</td>\n",
       "      <td>0.292938</td>\n",
       "      <td>0.584792</td>\n",
       "      <td>0.465462</td>\n",
       "      <td>0</td>\n",
       "      <td>0.454545</td>\n",
       "      <td>0</td>\n",
       "      <td>0</td>\n",
       "    </tr>\n",
       "  </tbody>\n",
       "</table>\n",
       "</div>"
      ],
      "text/plain": [
       "          ids  probs_min  probs_max  probs_mean  target     preds  \\\n",
       "0  1000000354   0.262059   0.636449    0.437099       0  0.200000   \n",
       "1  1000000454   0.330816   0.360109    0.345463       0  0.000000   \n",
       "2  1000000541   0.226093   0.661604    0.403032       0  0.177778   \n",
       "3  1000000727   0.312327   0.606940    0.499194       0  0.636364   \n",
       "4  1000000738   0.292938   0.584792    0.465462       0  0.454545   \n",
       "\n",
       "   preds_probs_mean  preds_mean  \n",
       "0                 0           0  \n",
       "1                 0           0  \n",
       "2                 0           0  \n",
       "3                 0           1  \n",
       "4                 0           0  "
      ]
     },
     "execution_count": 52,
     "metadata": {},
     "output_type": "execute_result"
    }
   ],
   "source": [
    "f = {'probs': [min, max, 'mean']}\n",
    "pred_aggr_df = pred_df.groupby('ids').agg(f).reset_index()\n",
    "pred_aggr_df.columns = ['ids', 'probs_min', 'probs_max', 'probs_mean']\n",
    "pred_aggr_df = pred_aggr_df.merge(pred_df[['target', 'ids']].groupby('ids').mean().reset_index(), on='ids')\n",
    "pred_aggr_df = pred_aggr_df.merge(pred_df[['preds', 'ids']].groupby('ids').mean().reset_index(), on='ids')\n",
    "pred_aggr_df['preds_probs_mean'] = pred_aggr_df['probs_mean'].apply(lambda x: 1 if x > 0.5 else 0)\n",
    "pred_aggr_df['preds_mean'] = pred_aggr_df['preds'].apply(lambda x: 1 if x > 0.5 else 0)\n",
    "pred_aggr_df.head()"
   ]
  },
  {
   "cell_type": "code",
   "execution_count": 53,
   "metadata": {},
   "outputs": [
    {
     "data": {
      "text/plain": [
       "0.6220836909795652"
      ]
     },
     "execution_count": 53,
     "metadata": {},
     "output_type": "execute_result"
    }
   ],
   "source": [
    "np.mean(val_target_chunk == val_preds.flatten())"
   ]
  },
  {
   "cell_type": "code",
   "execution_count": 54,
   "metadata": {},
   "outputs": [
    {
     "data": {
      "text/plain": [
       "0.6774028955928312"
      ]
     },
     "execution_count": 54,
     "metadata": {},
     "output_type": "execute_result"
    }
   ],
   "source": [
    "np.mean(pred_aggr_df.target == pred_aggr_df.preds_probs_mean)"
   ]
  },
  {
   "cell_type": "code",
   "execution_count": 55,
   "metadata": {},
   "outputs": [
    {
     "data": {
      "text/plain": [
       "0.6670706039926015"
      ]
     },
     "execution_count": 55,
     "metadata": {},
     "output_type": "execute_result"
    }
   ],
   "source": [
    "np.mean(pred_aggr_df.target == pred_aggr_df.preds_mean)"
   ]
  },
  {
   "cell_type": "code",
   "execution_count": 56,
   "metadata": {},
   "outputs": [
    {
     "data": {
      "text/html": [
       "<div>\n",
       "<style scoped>\n",
       "    .dataframe tbody tr th:only-of-type {\n",
       "        vertical-align: middle;\n",
       "    }\n",
       "\n",
       "    .dataframe tbody tr th {\n",
       "        vertical-align: top;\n",
       "    }\n",
       "\n",
       "    .dataframe thead th {\n",
       "        text-align: right;\n",
       "    }\n",
       "</style>\n",
       "<table border=\"1\" class=\"dataframe\">\n",
       "  <thead>\n",
       "    <tr style=\"text-align: right;\">\n",
       "      <th></th>\n",
       "      <th>target_orig</th>\n",
       "      <th>ids</th>\n",
       "      <th>probs_min</th>\n",
       "      <th>probs_max</th>\n",
       "      <th>probs_mean</th>\n",
       "      <th>target</th>\n",
       "      <th>preds</th>\n",
       "      <th>preds_probs_mean</th>\n",
       "      <th>preds_mean</th>\n",
       "    </tr>\n",
       "  </thead>\n",
       "  <tbody>\n",
       "    <tr>\n",
       "      <th>0</th>\n",
       "      <td>1</td>\n",
       "      <td>1090179235</td>\n",
       "      <td>0.521554</td>\n",
       "      <td>0.694736</td>\n",
       "      <td>0.587049</td>\n",
       "      <td>1</td>\n",
       "      <td>1.000000</td>\n",
       "      <td>1</td>\n",
       "      <td>1</td>\n",
       "    </tr>\n",
       "    <tr>\n",
       "      <th>1</th>\n",
       "      <td>1</td>\n",
       "      <td>1090044795</td>\n",
       "      <td>0.514718</td>\n",
       "      <td>0.694571</td>\n",
       "      <td>0.616921</td>\n",
       "      <td>1</td>\n",
       "      <td>1.000000</td>\n",
       "      <td>1</td>\n",
       "      <td>1</td>\n",
       "    </tr>\n",
       "    <tr>\n",
       "      <th>2</th>\n",
       "      <td>1</td>\n",
       "      <td>1020046081</td>\n",
       "      <td>0.463161</td>\n",
       "      <td>0.933303</td>\n",
       "      <td>0.725295</td>\n",
       "      <td>1</td>\n",
       "      <td>0.750000</td>\n",
       "      <td>1</td>\n",
       "      <td>1</td>\n",
       "    </tr>\n",
       "    <tr>\n",
       "      <th>3</th>\n",
       "      <td>1</td>\n",
       "      <td>1090124860</td>\n",
       "      <td>0.421073</td>\n",
       "      <td>0.725589</td>\n",
       "      <td>0.611563</td>\n",
       "      <td>1</td>\n",
       "      <td>0.888889</td>\n",
       "      <td>1</td>\n",
       "      <td>1</td>\n",
       "    </tr>\n",
       "    <tr>\n",
       "      <th>4</th>\n",
       "      <td>1</td>\n",
       "      <td>1140096300</td>\n",
       "      <td>0.267103</td>\n",
       "      <td>0.675954</td>\n",
       "      <td>0.509501</td>\n",
       "      <td>1</td>\n",
       "      <td>0.500000</td>\n",
       "      <td>1</td>\n",
       "      <td>0</td>\n",
       "    </tr>\n",
       "  </tbody>\n",
       "</table>\n",
       "</div>"
      ],
      "text/plain": [
       "   target_orig         ids  probs_min  probs_max  probs_mean  target  \\\n",
       "0            1  1090179235   0.521554   0.694736    0.587049       1   \n",
       "1            1  1090044795   0.514718   0.694571    0.616921       1   \n",
       "2            1  1020046081   0.463161   0.933303    0.725295       1   \n",
       "3            1  1090124860   0.421073   0.725589    0.611563       1   \n",
       "4            1  1140096300   0.267103   0.675954    0.509501       1   \n",
       "\n",
       "      preds  preds_probs_mean  preds_mean  \n",
       "0  1.000000                 1           1  \n",
       "1  1.000000                 1           1  \n",
       "2  0.750000                 1           1  \n",
       "3  0.888889                 1           1  \n",
       "4  0.500000                 1           0  "
      ]
     },
     "execution_count": 56,
     "metadata": {},
     "output_type": "execute_result"
    }
   ],
   "source": [
    "original_df = pd.DataFrame({'target_orig': val_target, 'ids': val_ids})\n",
    "original_df = original_df.merge(pred_aggr_df, on=\"ids\")\n",
    "original_df.head()"
   ]
  },
  {
   "cell_type": "code",
   "execution_count": 57,
   "metadata": {},
   "outputs": [
    {
     "data": {
      "text/plain": [
       "(31358, 31358)"
      ]
     },
     "execution_count": 57,
     "metadata": {},
     "output_type": "execute_result"
    }
   ],
   "source": [
    "original_df.target_orig.sum(), original_df.target.sum()"
   ]
  },
  {
   "cell_type": "code",
   "execution_count": 58,
   "metadata": {},
   "outputs": [],
   "source": [
    "val_pred_mlp_use_aggr_chunk = original_df.preds_probs_mean\n",
    "val_pred_probs_mlp_use_aggr_chunk = original_df.probs_mean"
   ]
  },
  {
   "cell_type": "code",
   "execution_count": 67,
   "metadata": {},
   "outputs": [
    {
     "data": {
      "text/plain": [
       "'/home/yulia/W266-Final-Project/Classification/data/probs/gender'"
      ]
     },
     "execution_count": 67,
     "metadata": {},
     "output_type": "execute_result"
    }
   ],
   "source": [
    "probs_path"
   ]
  },
  {
   "cell_type": "code",
   "execution_count": 70,
   "metadata": {},
   "outputs": [],
   "source": [
    "np.save(probs_path+'val_pred_probs_mlp_use_aggr_chunk', val_pred_probs_mlp_use_aggr_chunk, allow_pickle=True, fix_imports=True)"
   ]
  },
  {
   "cell_type": "code",
   "execution_count": 62,
   "metadata": {},
   "outputs": [
    {
     "name": "stdout",
     "output_type": "stream",
     "text": [
      "Confusion matrix, without normalization\n",
      "[[22896  8462]\n",
      " [11770 19588]]\n",
      "             precision    recall  f1-score   support\n",
      "\n",
      "       Male       0.66      0.73      0.69     31358\n",
      "     Female       0.70      0.62      0.66     31358\n",
      "\n",
      "avg / total       0.68      0.68      0.68     62716\n",
      "\n"
     ]
    },
    {
     "data": {
      "text/plain": [
       "<matplotlib.axes._subplots.AxesSubplot at 0x7f72611c1b70>"
      ]
     },
     "execution_count": 62,
     "metadata": {},
     "output_type": "execute_result"
    },
    {
     "data": {
      "image/png": "[encoded data removed]",
      "text/plain": [
       "<Figure size 432x288 with 2 Axes>"
      ]
     },
     "metadata": {},
     "output_type": "display_data"
    }
   ],
   "source": [
    "# specify class names in 0 - 1 order\n",
    "classes = ['Male', 'Female']\n",
    "explore_data.plot_confusion_matrix(pred_aggr_df.target, pred_aggr_df.preds_probs_mean, classes, normalize=True)"
   ]
  },
  {
   "cell_type": "code",
   "execution_count": 63,
   "metadata": {},
   "outputs": [
    {
     "name": "stdout",
     "output_type": "stream",
     "text": [
      "Confusion matrix, without normalization\n",
      "[[22896  8462]\n",
      " [11770 19588]]\n",
      "             precision    recall  f1-score   support\n",
      "\n",
      "       Male       0.66      0.73      0.69     31358\n",
      "     Female       0.70      0.62      0.66     31358\n",
      "\n",
      "avg / total       0.68      0.68      0.68     62716\n",
      "\n"
     ]
    },
    {
     "data": {
      "text/plain": [
       "<matplotlib.axes._subplots.AxesSubplot at 0x7f72611c1128>"
      ]
     },
     "execution_count": 63,
     "metadata": {},
     "output_type": "execute_result"
    },
    {
     "data": {
      "image/png": "[encoded data removed]",
      "text/plain": [
       "<Figure size 432x288 with 2 Axes>"
      ]
     },
     "metadata": {},
     "output_type": "display_data"
    }
   ],
   "source": [
    "explore_data.plot_confusion_matrix(val_target, val_pred_mlp_use_aggr_chunk, classes, normalize=True)"
   ]
  },
  {
   "cell_type": "code",
   "execution_count": 64,
   "metadata": {
    "scrolled": false
   },
   "outputs": [
    {
     "name": "stdout",
     "output_type": "stream",
     "text": [
      "Confusion matrix, without normalization\n",
      "[[23505  7853]\n",
      " [13027 18331]]\n",
      "             precision    recall  f1-score   support\n",
      "\n",
      "       Male       0.64      0.75      0.69     31358\n",
      "     Female       0.70      0.58      0.64     31358\n",
      "\n",
      "avg / total       0.67      0.67      0.66     62716\n",
      "\n"
     ]
    },
    {
     "data": {
      "text/plain": [
       "<matplotlib.axes._subplots.AxesSubplot at 0x7f7269e3d860>"
      ]
     },
     "execution_count": 64,
     "metadata": {},
     "output_type": "execute_result"
    },
    {
     "data": {
      "image/png": "[encoded data removed]",
      "text/plain": [
       "<Figure size 432x288 with 2 Axes>"
      ]
     },
     "metadata": {},
     "output_type": "display_data"
    }
   ],
   "source": [
    "explore_data.plot_confusion_matrix(pred_aggr_df.target, pred_aggr_df.preds_mean, classes, normalize=True)"
   ]
  },
  {
   "cell_type": "code",
   "execution_count": null,
   "metadata": {},
   "outputs": [],
   "source": []
  }
 ],
 "metadata": {
  "kernelspec": {
   "display_name": "Python 3",
   "language": "python",
   "name": "python3"
  },
  "language_info": {
   "codemirror_mode": {
    "name": "ipython",
    "version": 3
   },
   "file_extension": ".py",
   "mimetype": "text/x-python",
   "name": "python",
   "nbconvert_exporter": "python",
   "pygments_lexer": "ipython3",
   "version": "3.5.2"
  }
 },
 "nbformat": 4,
 "nbformat_minor": 2
}
