{
 "cells": [
  {
   "cell_type": "code",
   "execution_count": 4,
   "metadata": {},
   "outputs": [
    {
     "data": {
      "text/html": [
       "<style>.container { width:100% !important; }</style>"
      ],
      "text/plain": [
       "<IPython.core.display.HTML object>"
      ]
     },
     "metadata": {},
     "output_type": "display_data"
    }
   ],
   "source": [
    "# increase cell width\n",
    "from IPython.core.display import display, HTML\n",
    "display(HTML(\"<style>.container { width:100% !important; }</style>\"))"
   ]
  },
  {
   "cell_type": "markdown",
   "metadata": {},
   "source": [
    "Inspiration for code:\n",
    "\n",
    "- https://developers.google.com/machine-learning/guides/text-classification/\n",
    "- https://github.com/google/eng-edu/blob/master/ml/guides/text_classification/load_data.py"
   ]
  },
  {
   "cell_type": "code",
   "execution_count": 5,
   "metadata": {},
   "outputs": [],
   "source": [
    "from __future__ import absolute_import\n",
    "from __future__ import division\n",
    "from __future__ import print_function\n",
    "\n",
    "import os\n",
    "import random\n",
    "import time\n",
    "import pickle\n",
    "import gc\n",
    "import re\n",
    "\n",
    "import numpy as np\n",
    "import pandas as pd\n",
    "\n",
    "from importlib import reload"
   ]
  },
  {
   "cell_type": "code",
   "execution_count": 6,
   "metadata": {},
   "outputs": [
    {
     "name": "stderr",
     "output_type": "stream",
     "text": [
      "/home/yulia/anaconda3/lib/python3.6/site-packages/h5py/__init__.py:36: FutureWarning: Conversion of the second argument of issubdtype from `float` to `np.floating` is deprecated. In future, it will be treated as `np.float64 == np.dtype(float).type`.\n",
      "  from ._conv import register_converters as _register_converters\n"
     ]
    }
   ],
   "source": [
    "from helpers import load_data\n",
    "from helpers import explore_data\n",
    "from helpers import preprocess_data\n",
    "from helpers import train_model"
   ]
  },
  {
   "cell_type": "code",
   "execution_count": 4,
   "metadata": {},
   "outputs": [
    {
     "data": {
      "text/plain": [
       "'1.13.0-rc2'"
      ]
     },
     "execution_count": 4,
     "metadata": {},
     "output_type": "execute_result"
    }
   ],
   "source": [
    "import tensorflow as tf\n",
    "tf.__version__"
   ]
  },
  {
   "cell_type": "code",
   "execution_count": 2,
   "metadata": {},
   "outputs": [],
   "source": [
    "main_dir = '/home/yulia/W266-Final-Project/'"
   ]
  },
  {
   "cell_type": "code",
   "execution_count": 13,
   "metadata": {},
   "outputs": [],
   "source": [
    "data_path = main_dir+'data/raw/hein-daily'"
   ]
  },
  {
   "cell_type": "markdown",
   "metadata": {},
   "source": [
    "## Load processed files"
   ]
  },
  {
   "cell_type": "code",
   "execution_count": 19,
   "metadata": {},
   "outputs": [],
   "source": [
    "outdata_path = main_dir+'Classification/data/splits/gender'"
   ]
  },
  {
   "cell_type": "code",
   "execution_count": 20,
   "metadata": {},
   "outputs": [],
   "source": [
    "with open(os.path.join(outdata_path, 'train_list'), 'rb') as fp:\n",
    "    train = pickle.load(fp)\n",
    "with open(os.path.join(outdata_path, 'train_ids'), 'rb') as fp:\n",
    "    train_ids = pickle.load(fp)\n",
    "with open(os.path.join(outdata_path, 'train_target'), 'rb') as fp:\n",
    "    train_target = pickle.load(fp)"
   ]
  },
  {
   "cell_type": "code",
   "execution_count": 21,
   "metadata": {},
   "outputs": [],
   "source": [
    "with open(os.path.join(outdata_path, 'val_list'), 'rb') as fp:\n",
    "    val = pickle.load(fp)\n",
    "with open(os.path.join(outdata_path, 'val_ids'), 'rb') as fp:\n",
    "    val_ids = pickle.load(fp)\n",
    "with open(os.path.join(outdata_path, 'val_target'), 'rb') as fp:\n",
    "    val_target = pickle.load(fp)"
   ]
  },
  {
   "cell_type": "code",
   "execution_count": 3,
   "metadata": {},
   "outputs": [],
   "source": [
    "token_path = main_dir+'Classification/data/tokenized/gender'"
   ]
  },
  {
   "cell_type": "code",
   "execution_count": 7,
   "metadata": {},
   "outputs": [],
   "source": [
    "train_vec = np.load(os.path.join(token_path, 'train_vec.npy'))\n",
    "val_vec = np.load(os.path.join(token_path, 'val_vec.npy'))\n",
    "test_vec = np.load(os.path.join(token_path, 'test_vec.npy'))"
   ]
  },
  {
   "cell_type": "code",
   "execution_count": 26,
   "metadata": {},
   "outputs": [],
   "source": [
    "word_index = pickle.load(open(os.path.join(token_path, 'word_index.p'), 'rb'))"
   ]
  },
  {
   "cell_type": "code",
   "execution_count": 8,
   "metadata": {},
   "outputs": [
    {
     "data": {
      "text/plain": [
       "(188148, 62716, 62716)"
      ]
     },
     "execution_count": 8,
     "metadata": {},
     "output_type": "execute_result"
    }
   ],
   "source": [
    "len(train_vec), len(val_vec), len(test_vec)"
   ]
  },
  {
   "cell_type": "markdown",
   "metadata": {},
   "source": [
    "## CNN model - Full Speech + Glove Embeddings"
   ]
  },
  {
   "cell_type": "code",
   "execution_count": 24,
   "metadata": {},
   "outputs": [],
   "source": [
    "logs_base_dir = main_dir + 'Classification/logs/gender'"
   ]
  },
  {
   "cell_type": "code",
   "execution_count": 40,
   "metadata": {},
   "outputs": [],
   "source": [
    "sepcnn_model_params = {\n",
    "    'model': 'sepcnn',\n",
    "    'word_index': word_index,\n",
    "    'learning_rate': 0.001,\n",
    "    'layers': 2,\n",
    "    'epochs': 1000,\n",
    "    'batch_size': 128,\n",
    "    'blocks': 2,\n",
    "    'filters': 64,\n",
    "    'dropout_rate': 0.2,\n",
    "    'embedding_dim': 200,\n",
    "    'kernel_size': 5,\n",
    "    'pool_size': 3,\n",
    "    'max_num_words': 20000,\n",
    "    'use_pretrained_embedding': True,\n",
    "    'is_embedding_trainable': True,\n",
    "    'glove_dir': main_dir + 'data'\n",
    "}"
   ]
  },
  {
   "cell_type": "code",
   "execution_count": 42,
   "metadata": {},
   "outputs": [
    {
     "name": "stdout",
     "output_type": "stream",
     "text": [
      "Found 400000 word vectors.\n",
      "It took 23.4 seconds\n",
      "Preparing embedding matrix.\n",
      "Embedding matrix has been built.\n",
      "Its shape is (20000, 200).\n",
      "It took 0.1 seconds\n",
      "Train on 188148 samples, validate on 62716 samples\n",
      "Epoch 1/1000\n",
      " - 842s - loss: 0.6126 - acc: 0.6533 - val_loss: 0.5547 - val_acc: 0.7207\n",
      "Epoch 2/1000\n",
      " - 841s - loss: 0.5402 - acc: 0.7313 - val_loss: 0.5449 - val_acc: 0.7257\n",
      "Epoch 3/1000\n",
      " - 843s - loss: 0.5112 - acc: 0.7482 - val_loss: 0.5469 - val_acc: 0.7285\n",
      "Epoch 4/1000\n",
      " - 842s - loss: 0.4881 - acc: 0.7617 - val_loss: 0.5412 - val_acc: 0.7337\n",
      "Epoch 5/1000\n",
      " - 843s - loss: 0.4673 - acc: 0.7749 - val_loss: 0.5554 - val_acc: 0.7302\n",
      "Epoch 6/1000\n",
      " - 845s - loss: 0.4441 - acc: 0.7869 - val_loss: 0.5741 - val_acc: 0.7283\n",
      "Validation accuracy: 0.7282671332359314, loss: 0.5740976932553796\n"
     ]
    }
   ],
   "source": [
    "reload(train_model)\n",
    "history, train_pred_probs, val_pred_probs = train_model.train_model(((train_vec, train_target), (val_vec, val_target)), logs_base_dir, **sepcnn_model_params)"
   ]
  },
  {
   "cell_type": "markdown",
   "metadata": {},
   "source": [
    "### Clean up space/save outputs"
   ]
  },
  {
   "cell_type": "code",
   "execution_count": 43,
   "metadata": {},
   "outputs": [],
   "source": [
    "probs_path = main_dir+'Classification/data/probs/gender/'"
   ]
  },
  {
   "cell_type": "code",
   "execution_count": 44,
   "metadata": {},
   "outputs": [],
   "source": [
    "np.save(probs_path+'val_pred_probs_sep_glove', val_pred_probs, allow_pickle=True, fix_imports=True)"
   ]
  },
  {
   "cell_type": "code",
   "execution_count": 45,
   "metadata": {},
   "outputs": [],
   "source": [
    "val_pred_probs = np.load(probs_path+'val_pred_probs_sep_glove.npy', allow_pickle=True, fix_imports=True)"
   ]
  },
  {
   "cell_type": "markdown",
   "metadata": {},
   "source": [
    "## Model Evaluation"
   ]
  },
  {
   "cell_type": "code",
   "execution_count": 46,
   "metadata": {},
   "outputs": [
    {
     "data": {
      "text/plain": [
       "0.7282671088717393"
      ]
     },
     "execution_count": 46,
     "metadata": {},
     "output_type": "execute_result"
    }
   ],
   "source": [
    "val_preds = val_pred_probs > 0.5\n",
    "np.mean(val_preds.flatten()==val_target)"
   ]
  },
  {
   "cell_type": "code",
   "execution_count": 47,
   "metadata": {},
   "outputs": [
    {
     "data": {
      "text/plain": [
       "((62716, 1), 62716)"
      ]
     },
     "execution_count": 47,
     "metadata": {},
     "output_type": "execute_result"
    }
   ],
   "source": [
    "val_preds.shape, len(val_target)"
   ]
  },
  {
   "cell_type": "code",
   "execution_count": 48,
   "metadata": {},
   "outputs": [
    {
     "data": {
      "text/plain": [
       "array([32150])"
      ]
     },
     "execution_count": 48,
     "metadata": {},
     "output_type": "execute_result"
    }
   ],
   "source": [
    "sum(val_preds)"
   ]
  },
  {
   "cell_type": "code",
   "execution_count": 49,
   "metadata": {},
   "outputs": [
    {
     "name": "stdout",
     "output_type": "stream",
     "text": [
      "Confusion matrix, without normalization\n",
      "[[22441  8917]\n",
      " [ 8125 23233]]\n",
      "             precision    recall  f1-score   support\n",
      "\n",
      "       Male       0.73      0.72      0.72     31358\n",
      "     Female       0.72      0.74      0.73     31358\n",
      "\n",
      "avg / total       0.73      0.73      0.73     62716\n",
      "\n"
     ]
    },
    {
     "data": {
      "text/plain": [
       "<matplotlib.axes._subplots.AxesSubplot at 0x7fe18b9e93c8>"
      ]
     },
     "execution_count": 49,
     "metadata": {},
     "output_type": "execute_result"
    },
    {
     "data": {
      "image/png": "[encoded data removed]",
      "text/plain": [
       "<Figure size 432x288 with 2 Axes>"
      ]
     },
     "metadata": {},
     "output_type": "display_data"
    }
   ],
   "source": [
    "reload(explore_data)\n",
    "# specify class names in 0 - 1 order\n",
    "classes = ['Male', 'Female']\n",
    "explore_data.plot_confusion_matrix(val_target, val_preds, classes, normalize=True)"
   ]
  },
  {
   "cell_type": "code",
   "execution_count": 50,
   "metadata": {},
   "outputs": [
    {
     "data": {
      "image/png": "[encoded data removed]",
      "text/plain": [
       "<Figure size 720x720 with 2 Axes>"
      ]
     },
     "metadata": {},
     "output_type": "display_data"
    }
   ],
   "source": [
    "reload(explore_data)\n",
    "explore_data.plot_calibration_curve(val_target, val_pred_probs, 'Gender')"
   ]
  },
  {
   "cell_type": "code",
   "execution_count": 51,
   "metadata": {
    "scrolled": true
   },
   "outputs": [
    {
     "name": "stderr",
     "output_type": "stream",
     "text": [
      "/home/yulia/anaconda3/lib/python3.6/site-packages/numpy/lib/arraysetops.py:472: FutureWarning: elementwise comparison failed; returning scalar instead, but in the future will perform elementwise comparison\n",
      "  mask |= (ar1 == a)\n"
     ]
    },
    {
     "data": {
      "text/plain": [
       "(62716, 16)"
      ]
     },
     "execution_count": 51,
     "metadata": {},
     "output_type": "execute_result"
    }
   ],
   "source": [
    "descr_df = pd.read_csv(main_dir+'data/QA/full_descr.txt', sep=\"|\", index_col=0)\n",
    "descr_df = descr_df.loc[np.asarray(val_ids, dtype=int)]\n",
    "descr_df.shape"
   ]
  },
  {
   "cell_type": "code",
   "execution_count": 52,
   "metadata": {},
   "outputs": [
    {
     "name": "stdout",
     "output_type": "stream",
     "text": [
      "Validation sample means:\n",
      "      Gender_F  Ethinicity_NW     AvgAge   Party_D  Chamber_H  AvgWordCount\n",
      "base       0.5        0.17549  58.248453  0.621101   0.659624    392.229001\n"
     ]
    },
    {
     "data": {
      "text/html": [
       "<div>\n",
       "<style scoped>\n",
       "    .dataframe tbody tr th:only-of-type {\n",
       "        vertical-align: middle;\n",
       "    }\n",
       "\n",
       "    .dataframe tbody tr th {\n",
       "        vertical-align: top;\n",
       "    }\n",
       "\n",
       "    .dataframe thead th {\n",
       "        text-align: right;\n",
       "    }\n",
       "</style>\n",
       "<table border=\"1\" class=\"dataframe\">\n",
       "  <thead>\n",
       "    <tr style=\"text-align: right;\">\n",
       "      <th></th>\n",
       "      <th>Gender_F</th>\n",
       "      <th>Ethinicity_NW</th>\n",
       "      <th>AvgAge</th>\n",
       "      <th>Party_D</th>\n",
       "      <th>Chamber_H</th>\n",
       "      <th>AvgWordCount</th>\n",
       "    </tr>\n",
       "  </thead>\n",
       "  <tbody>\n",
       "    <tr>\n",
       "      <th>0.4</th>\n",
       "      <td>0.45</td>\n",
       "      <td>0.46</td>\n",
       "      <td>0.99</td>\n",
       "      <td>0.84</td>\n",
       "      <td>0.76</td>\n",
       "      <td>1.01</td>\n",
       "    </tr>\n",
       "    <tr>\n",
       "      <th>0.6</th>\n",
       "      <td>0.98</td>\n",
       "      <td>0.86</td>\n",
       "      <td>0.99</td>\n",
       "      <td>0.94</td>\n",
       "      <td>1.09</td>\n",
       "      <td>0.64</td>\n",
       "    </tr>\n",
       "    <tr>\n",
       "      <th>1.0</th>\n",
       "      <td>1.53</td>\n",
       "      <td>1.57</td>\n",
       "      <td>1.01</td>\n",
       "      <td>1.17</td>\n",
       "      <td>1.19</td>\n",
       "      <td>1.14</td>\n",
       "    </tr>\n",
       "  </tbody>\n",
       "</table>\n",
       "</div>"
      ],
      "text/plain": [
       "     Gender_F  Ethinicity_NW  AvgAge  Party_D  Chamber_H  AvgWordCount\n",
       "0.4      0.45           0.46    0.99     0.84       0.76          1.01\n",
       "0.6      0.98           0.86    0.99     0.94       1.09          0.64\n",
       "1.0      1.53           1.57    1.01     1.17       1.19          1.14"
      ]
     },
     "execution_count": 52,
     "metadata": {},
     "output_type": "execute_result"
    }
   ],
   "source": [
    "reload(explore_data)\n",
    "# checking the ratios of demo variables in low-mid-high probability buckets\n",
    "explore_data.check_bin_probs_distr(val_pred_probs, \n",
    "                                   val_ids, \n",
    "                                   descr_df)"
   ]
  },
  {
   "cell_type": "code",
   "execution_count": 53,
   "metadata": {},
   "outputs": [
    {
     "name": "stdout",
     "output_type": "stream",
     "text": [
      "\n",
      "Top 10 ngrams by differentiating score:\n",
      "toledos \t 1784.9\n",
      "shawnee \t 1727.8\n",
      "overland \t 1699.6\n",
      "ks \t 1678.0\n",
      "cathedral \t 1628.5\n",
      "toledo \t 1615.3\n",
      "messrs \t 1565.7\n",
      "eleanor \t 1510.3\n",
      "west high \t 1487.9\n",
      "payne of \t 1430.9\n"
     ]
    },
    {
     "data": {
      "text/html": [
       "<div>\n",
       "<style scoped>\n",
       "    .dataframe tbody tr th:only-of-type {\n",
       "        vertical-align: middle;\n",
       "    }\n",
       "\n",
       "    .dataframe tbody tr th {\n",
       "        vertical-align: top;\n",
       "    }\n",
       "\n",
       "    .dataframe thead th {\n",
       "        text-align: right;\n",
       "    }\n",
       "</style>\n",
       "<table border=\"1\" class=\"dataframe\">\n",
       "  <thead>\n",
       "    <tr style=\"text-align: right;\">\n",
       "      <th>bin</th>\n",
       "      <th>1</th>\n",
       "      <th>2</th>\n",
       "      <th>3</th>\n",
       "      <th>4</th>\n",
       "    </tr>\n",
       "  </thead>\n",
       "  <tbody>\n",
       "    <tr>\n",
       "      <th>cathedral</th>\n",
       "      <td>34.0</td>\n",
       "      <td>11.0</td>\n",
       "      <td>59.0</td>\n",
       "      <td>27.0</td>\n",
       "    </tr>\n",
       "    <tr>\n",
       "      <th>eleanor</th>\n",
       "      <td>15.0</td>\n",
       "      <td>15.0</td>\n",
       "      <td>89.0</td>\n",
       "      <td>21.0</td>\n",
       "    </tr>\n",
       "    <tr>\n",
       "      <th>ks</th>\n",
       "      <td>37.0</td>\n",
       "      <td>11.0</td>\n",
       "      <td>56.0</td>\n",
       "      <td>71.0</td>\n",
       "    </tr>\n",
       "    <tr>\n",
       "      <th>messrs</th>\n",
       "      <td>14.0</td>\n",
       "      <td>3.0</td>\n",
       "      <td>168.0</td>\n",
       "      <td>63.0</td>\n",
       "    </tr>\n",
       "    <tr>\n",
       "      <th>overland</th>\n",
       "      <td>5.0</td>\n",
       "      <td>2.0</td>\n",
       "      <td>3.0</td>\n",
       "      <td>23.0</td>\n",
       "    </tr>\n",
       "    <tr>\n",
       "      <th>payne of</th>\n",
       "      <td>2.0</td>\n",
       "      <td>1.0</td>\n",
       "      <td>2.0</td>\n",
       "      <td>5.0</td>\n",
       "    </tr>\n",
       "    <tr>\n",
       "      <th>shawnee</th>\n",
       "      <td>4.0</td>\n",
       "      <td>1.0</td>\n",
       "      <td>5.0</td>\n",
       "      <td>37.0</td>\n",
       "    </tr>\n",
       "    <tr>\n",
       "      <th>toledo</th>\n",
       "      <td>21.0</td>\n",
       "      <td>5.0</td>\n",
       "      <td>331.0</td>\n",
       "      <td>44.0</td>\n",
       "    </tr>\n",
       "    <tr>\n",
       "      <th>toledos</th>\n",
       "      <td>0.0</td>\n",
       "      <td>0.0</td>\n",
       "      <td>23.0</td>\n",
       "      <td>7.0</td>\n",
       "    </tr>\n",
       "    <tr>\n",
       "      <th>west high</th>\n",
       "      <td>3.0</td>\n",
       "      <td>3.0</td>\n",
       "      <td>5.0</td>\n",
       "      <td>11.0</td>\n",
       "    </tr>\n",
       "  </tbody>\n",
       "</table>\n",
       "</div>"
      ],
      "text/plain": [
       "bin           1     2      3     4\n",
       "cathedral  34.0  11.0   59.0  27.0\n",
       "eleanor    15.0  15.0   89.0  21.0\n",
       "ks         37.0  11.0   56.0  71.0\n",
       "messrs     14.0   3.0  168.0  63.0\n",
       "overland    5.0   2.0    3.0  23.0\n",
       "payne of    2.0   1.0    2.0   5.0\n",
       "shawnee     4.0   1.0    5.0  37.0\n",
       "toledo     21.0   5.0  331.0  44.0\n",
       "toledos     0.0   0.0   23.0   7.0\n",
       "west high   3.0   3.0    5.0  11.0"
      ]
     },
     "execution_count": 53,
     "metadata": {},
     "output_type": "execute_result"
    }
   ],
   "source": [
    "reload(explore_data)\n",
    "explore_data.compare_ngrams(val, val_pred_probs, ngram_range=(1, 2))"
   ]
  },
  {
   "cell_type": "code",
   "execution_count": 54,
   "metadata": {
    "scrolled": false
   },
   "outputs": [
    {
     "name": "stdout",
     "output_type": "stream",
     "text": [
      "\n",
      "True positive (Predicted prob: 0.98):\n",
      "\n",
      "date                 20160711\n",
      "char_count               3809\n",
      "word_count                646\n",
      "speakerid          1.1412e+08\n",
      "Party                       D\n",
      "Congress                  114\n",
      "Chamber                     H\n",
      "State                      CA\n",
      "Ethnicity                   B\n",
      "Age                        70\n",
      "Age_lt_med                  0\n",
      "NonWhite                    1\n",
      "Female                      1\n",
      "speaker       Ms. JACKSON LEE\n",
      "Full Name        LEE, BARBARA\n",
      "match                   exact\n",
      "Name: 1140107178, dtype: object\n",
      "\n",
      " Mr. Chairman. let me thank the gentleman from Georgia for his leadership of the subcommittee from which this legislation. I believe. has found its journey. Let me also acknowledge my colleague from Texas. On the Judiciary Committee. we have the benefit of the counsel of nonlawyers. It is a new phenomenon. When I first came on. we had only lawyers on the committee. But as a lawyer who remembers sitting in an administrative procedure law class by a seasoned senior professor at the University of Virginia Law School. I remember he was embedded for decades. and managed to make the Administrative Procedure Act interesting. And the one thing I knew. even as a younger law student. the APA. for 70 yearsat that time it hadnt reached 70had served and guided administrative agencies and the affected public in a manner that is flexible enough to accommodate the variety of agencies operating under it. inclusive of changes through time. So what saddens me as a person who enjoyed many aspects of law school and understands and enjoys the deliberation of issues dealing with the question of law is the complete skewing in spite of my friends who view this as remedy. And I would just like to offer them my thoughts as to why this is not: because the legislation would allow Federal courts reviewing an agency action to conduct a de novo review of all relevant questions of law without deferring to the legal interpretation of the agency. Now. let me be very clear. I am a student of the three branches of government. I appreciate my colleaguesin this instance. Republicansconcern about the sanctity of the three branches of government as evidenced by the Constitution. But in that structure. we developed agencies to have expertise. not to not be challenged. but to have expertise. And I want those listening to understand that I respect that expertise. but I respect the challenge. But what this particular legislation is doing is that de novo. my friends. of course. is starting from scratch. So that means a regulation by the Department of Homeland SecurityI am on the Homeland Security Committee. this agency created after 9111. And in the backdrop of what we have faced. the heinous acts of Dallas. 5 fallen officers. 12 persons shotnow. we cant claim this recent incident. Allow me to offer my sympathy to those in Michigan. two bailiffs. and I dont know how many others may be shot and killed. But we know that we are in a different framework of dealing with security in this country. Some of these are a regulatory scheme through the Homeland Security Department. Transportation Security Administration. And to take that expertise on behalf of the American people and. as they say. throw the baby out with the bathwater. say to the courts that do not have a discernible expertiseour judges are quite skilled. but they are not the experts in every aspect of how this government runs. Members of Congress have to brief themselves to be able to assess what is going on in the government. and we have that responsibility. But you are asking the courts now to undo every regulation and become the expert on Federal lands. public lands. on Environmental Protection Agency issues. on Health and Human Services issues. on issues dealing with homeland security. on issues dealing with education. This is untenable. Mr. Chairman. This will not work. And I just want to cite to you from a number of groups that have come together. The Coalition for Sensible Safeguards says: \"Congress should be looking for ways to strengthen our countrys regulatory system by identifying gaps and instituting new safeguards for the public. Unfortunately. this legislation does the opposite by ensuring more delays.\" Let me clarify their language. because I will go a little further. I would be willing to look at filling the holes.\n",
      "--------------------\n",
      "\n",
      "True negative (Predicted prob: 0.05):\n",
      "\n",
      "date              19860721\n",
      "char_count             618\n",
      "word_count             108\n",
      "speakerid      9.91083e+07\n",
      "Party                    R\n",
      "Congress                99\n",
      "Chamber                  S\n",
      "State                   PA\n",
      "Ethnicity                W\n",
      "Age                     48\n",
      "Age_lt_med               1\n",
      "NonWhite                 0\n",
      "Female                   0\n",
      "speaker          Mr. HEINZ\n",
      "Full Name     HEINZ, HENRY\n",
      "match                exact\n",
      "Name: 990215126, dtype: object\n",
      "\n",
      " I am not trying to trap the Senator from Colorado. I was unclear as to what he meant to say. I assume he meant to say that there are not circumstancesand he and I can argue over whether it is one or many or zillions or in betweenbut there are not circumstances where the Eximbank is providing an important adjunct that business and banks cannot provide. which is to meet foreign competition of foreign government .export credit financing facilities. Absent that. it could have an adverse effect on business in the United States. I assume that the Senator from Colorado is not for adverse impact on American businesses.\n",
      "--------------------\n",
      "\n",
      "False positive (Predicted prob: 0.96):\n",
      "\n",
      "date                   20070920\n",
      "char_count                15402\n",
      "word_count                 2600\n",
      "speakerid           1.10114e+08\n",
      "Party                         D\n",
      "Congress                    110\n",
      "Chamber                       S\n",
      "State                        CT\n",
      "Ethnicity                     W\n",
      "Age                          64\n",
      "Age_lt_med                    0\n",
      "NonWhite                      0\n",
      "Female                        0\n",
      "speaker                Mr. DODD\n",
      "Full Name     DODD, CHRISTOPHER\n",
      "match                     exact\n",
      "Name: 1100096803, dtype: object\n",
      "\n",
      " Mr. President. let me say to both my colleague from Wisconsin and my colleague from Arizona. I was. the floor manager of the McCainFeingold campaign finance reform legislation. I feel as though. in a sense here. I am assuming the role again as the manager between the McCain and Feingold camps on this question. They were two people who joined forces together on a critical issue before our country. and I was honored and pleased to manage the legislation which was named for them. We find ourselves here again on a different subject matter and assuming different roles. I am not managing the issue. but I would be remiss if I didnt also express my deep respect for my colleague. the Senator from- Wisconsin. for his leadership and my affection and respect for my colleague from Arizona. with whom I have worked on a number of issues over the years. I rise in support of the FeingoldReid amendment. I believe it is a very important amendment. This may be the critical vote. candidly. on whether we are going to persist over the coming .months. until January 2009. in a policy that has failedor whether we can actually make a difference here. and change the direction of this policy. and give our Nation a sense of new hope. new optimism. and give those who have served so valiantly an opportunity to come home or to engage in an area where their leadership is needed. This is the moment. This may be the one opportunity we have between now and 2009 to make a difference on this issue. This is no small proposal. this is a serious one. For those who would like to wish it were a little bit this way or that way. that is no reason to be against it. Senator FEINGOLD. once again. has offered us an opportunity here to make a difference in this policy. This may be the one real opportunity we get to do that. My *hope is that in the next hour and a half. those who are listening to this debate. thinking about this. will understand the moment before us. and take advantage of this opportunity. and make a decision that could affect the future of our country in this century. Out of 2 full days General Petraeus spent testifying before Congress. I think the most telling exchange took only four lines. There were hearings that went on in the House of Representatives. We had hearings in the -Foreign Relations Committee and hearings in the Armed Services Cornmittee. There were very good questions raised by members of both parties. but I commend my colleague -from Virginia. Senator JOHN WARNER.. the former chairman of the Armed Services Committee. the ranking member today. for his simple question. We have often seen this happen in history. It is one simple sentence. one simple questionnot the complicated. multiphrase question. which gets into all the nuances and details of an issuethat will shed the most light on where we stand. I Senator. MCCAIN said something a minute ago with which Itotally agree. and Senator FEINGOLD reiterated it. The primary purpose. the fundamental issue before this body. before every. Member here and certainly before the President of the United States. is the issue of the safety and security of our country. That is our paramount responsibility above all elseto keep our country safe and secure. So the fourline question that was raised to General Petraeus in his testimony on September 11 was the most important question. in many ways. that was asked of him. Senator Warner: Do you feel that [the Iraq war] is making America safer? General Petraeus: I believe that this is indeed the best course of action to achieve our objectives in Iraq. Senator Warner: Does it make America safer? General Petraeus: I dont know. actually. \"I dont know. actually.\" It could be the epitaph of this war. And to the families of the 3.791 men and women who lost their lives in Iraq. it must be cold comfort indeed that the commanding general has not even convinced himself that this war serves our security. But in another sense. General Petraeus gave precisely the right answer. He has no opinion because it is his job to have none. His jobis to execute a missionwork that he has done with great fortitude and intellect. But the job of deciding whether the mission serves our interestsdeciding what our interests are. deciding what the mission itself will bethat is a task for the generals superiorsthat is. the President of the United States. this body and the other. and the American people. who are our superiors. This amendment is our best attemptmaybe the only attemptto give voice to their shared conclusion: that our current course has failed to make Iraq safer. has failed to make America safer. and so must change dramatically. The amendment would accomplish two critical things. One: Redeploy combat forces from Iraq. Two: Focus those forces remaining on counterterrorism. training Iraqi forces. and force protection for U.S. personnel and infrastructure. I will not rehearse for you the administrations evershifting justifications and stalling and stonewalling that have brought us. with a battered military and an equally battered reputation. to this sad point. It is enough to say that they have been given every chance.. For months and months. they denied that there was a civil war in Iraq. Then. when denial became impossible. and when the bipartisan Iraq Study Group report gave them a unique chance to change course. they scrapped the report and gambled on a surge. Then we were told that. despite the administrations catastrophic policy failures. we should take their word for itthat we couldnt judge this new tactics success until American forces had \"surged\" to their maximum levels. And that would take up 6 months. Once the surge was at full force. we were told yet again that the time wasnt right. that we had to withhold judgment again and wait until General Petraeuss report. And last week. General Petraus came before Congress and told usto wait some more. For what? Early this month. Comptroller General David Walker testified that \"the primary point of the surge was to improve security . . . in order to provide political breathing room\" for the Iraqi Ggvernment. Seven hundred American service men and women sacrificed their lives for that breathing room. and nearly 4.400 took wounds for it. What has the Iraqi Government done with it? It failed to meet its own political benchmarks. failed to enact oil legislation. gustained a mass resignation of Sunni politicians. leaving more than half of its cabinet seats vacant. and enjoyed a monthlong vacation. At the height of the surge. a BBC poll reported that 60 percent of Iraqisand 93 percent of Sunnisthink it is justified to kill American troops. It is no surprise that Walker concluded that \"as of this point in time. [the surge] has not achieved its desired outcome.\" That is what the surge has gotten us. What has it gotten Iraqis? At the very best. a reduction in violence to stillcatastrophic early006 levels. And even so. the statistics we saw last week.were extremely subjectas are all statisticsto the biases of those compiling and categorizing them. According to the Washington Post. \"Intelligence analysts . . . are puzzled over how the military designated attacks as combat. sectarian. or. criminal \"-difficult categorizations that. I might add. make all the difference to selling the surge as success. or recognizing it as a failure. Comptroller General Walker added that \"there are several different sources in the administration on violence. and those sources do not agree.\" One intelligence official put it succinctly: \"Depending on which numbers you pick. you get a different outcome.\" In that context. it is significant that the military cannot track. and does not track. ShiiteonShiite and SunnionSunni violence. And in Baghdad alone. according to the Iraqi Red Crescent. \"almost a. million people . . . SS11792 have fled their homes in search of security. shelter. water. electricity. functioning schools or jobs to support their families.\" And those are the results with the surgea surge that. given the exhausted state of our military. cannot physically be sustained. The administrations supporters need to explain to us: Without the surge. what could possibly happen. that has not taken place already. to bring political reconciliation to Iraq? What more could possibly happen to quell the violence between and among Iraqs Sunnis and Shiites? What new development could possibly change the face of this war? We all know the honest answers to those questions. And so the choice- we have today is not. as some would have it. between victory and defeat. That has never been the issue. We can choose indefinite war for invisible gains. or we can choose to cut our losses here and recognize that there is a better opportunity with a different course of action. I cant remember a more painful choice in all my years in this body. But to govern is to make just such painful choices. without fear or flinching. And I believe the American people are far ahead of us on this issuetheyve made their choice. We must make ours as their Representatives. This amendment seeks to put that choice into action and to stop Iraqs downward spiral. First. it sets firm and enforceable timelines for the phased redeployment of combat troops out of Iraq. The redeployed forces would be comprised of a majority of the deployed Army Brigade Combat Teams and the Marine Expeditionary Force currently in theater. Some may claim that such a redeployment is logistically impossible within the timeframes laid out in the amendment. But I would remind them that in the rampup to the first gulf war. the Department of Defense coordinated the movement of over 500.000 troops. and 10 million tons of cargo and fuel in the same timeframe that this amendment grants to redeploy a force onefifth the size. In January of 19911 month alonethe Transportation Command moved 132.000 troops and 910.000 tons of equipment. So it is clear that we have the wherewithal to end this war. if Congress could find the will. At the same time. we cannot simply wish the conflict away. We do have enemies in Iraq. enemies equally committed to killing Americans and sowing sectarian violence. That is why this amendment carves out exceptions to the general redeplQyment. Using the name of alQaida is a means to frighten Americans into buying a far broader agenda of continuous occupation. Its no coincidence that. in President Bushs televised remarks on Iraq last week. the word \"alQaida\" crossed his lips some 12 times in a speech roughly 15 minutes long. The amendment makes three noncombat exceptions: first. conducting counterterrorism operations. second. training and Iraqi forces. and third. protecting U.S. personnel and infrastructure. It is beyond clear that continuing our course in Iraq harms America in the broader fight against terrorism. In an article in the Financial Times. Gideon Rachman summarized the keyways the war in Iraq has actually strengthened terrorism: by -diverting resources from fighting alQaida in Afghanistan. by turningIraq into a failed state and terroristincubator. by delivering alQaida a potent recruiting tool. and by harming Americas standing with its traditional allies. whose cooperation is necessary to foil terrorists. All four reasons are clearly being enhanced because of our continued military presence in Iraq. On the other side of the coin. tightly focusing our Iraq mission actually aids our security in the long run. That certainly is the case when you consider the quote from a recent IPS article on CENTCOMs commander. ADM William FallonGeneral Petraeuss superior. I might add. Admiral Fallon \"believed the United States should be withdrawing troops from Iraq urgently. largely because he saw greater dangers elsewhere in the region.\" With alQaida reconstituting itself on the PakistanAfghan border. I could not agree more. With redeployment complete. I want our military to begin to regather its strength. After a onetime redeployment cost estimated by the Congressional . Budget Office at $7 billion. which is about equal to this wars cost every month. our Armed Forces will have the resources needed to prepare for future challenges. Those resources are sorely needed. Long. arduous deployments are not only testing the morale of our troops and families. they are taxing critical stocks of aircraft. vehicles. and other equipment. Twothirds of the U.S. Armytwothirds of the U.S. Armyis unable to report for combat duty. According to the National Guard Bureau Chief. LTG Steven Blum. \"88 percent\"-his words. not mine-\"88 percent of the Army National Guard forces that are back here in the United States are very poorly equipped today.\" That shortage affects National Guard units in every State. and every one of our colleagues knows it. It is the picture of a military that has been ground into the dirt. unit by unit. machine by machine. soldier by soldier. Do the Presidents supporters think this can go on forever? Will they come to this floorand claim we are invulnerable? If General Petraeus does not know. actually. whether this war is making us safer. lets ask another question: Is this war endangering our security? Our militarys top generals and admirals know the answer to that question. They have submitted to Congress a list of critical priorities that President Bushs budget ignores. As we squander billions of dollars every week in Iraq. they are calling out for help to meet our militarys needs to repair the damage this administration has caused. Our top generals and admirals know better than anyone how deeply our military is hurting. We must meet these obligations to our warfighters because it is. in the end. our obligation to keep safe the people we represent. As I said at the outset. the question from Senator JOHN WARNERthe simple. oneline question asked of General Petraeuswas the single most important question asked during 2 days of. hedrings: Are we safer? The answer. tragically. is no. What a disaster if this war of choice ultimately left us unready and unarmed to fight a war we did not choose. Clear data. long experience. and common sense tell us all how to answer the question that General Petraeus could not. I do not blame him for staying silent. It is his duty. irF that moment. to be agnostic. I understand that. But it is our duty not to be agnostic. We do not have that luxury as Members of the Senate charged with the responsibility of deciding whether this conflict goes on. We cannot remain silent. We cannot beg off the answer to that question: Are we safer? Are we more secure? We know what the answer is. Now we bear the responsibility to this generation and to history to answer the question. It is our duty to choose. a duty to choose at this moment. even when there is heartache in either hand. I choose to draw the line here because I cannot stand to lose one more life in the name of misplaced hope and blind faith. I call on our colleagues. both Democrats and Republicans. not to lose this moment. This will be the only moment. I suspect. before January of 2009 to answer this question. How many more lives will be irreparably damaged and lost because we failed to answer the question posed by our colleague from Wisconsin. which I am proud to join him in asking today. Let us bring this tragic chapter in our history to a close and offer new hope to this country. and the Iraqis. and that desperate region. I yield the floor.\n",
      "--------------------\n",
      "\n",
      "False negative (Predicted prob: 0.01):\n",
      "\n",
      "date                 20151117\n",
      "char_count               5953\n",
      "word_count               1067\n",
      "speakerid         1.14122e+08\n",
      "Party                       D\n",
      "Congress                  114\n",
      "Chamber                     S\n",
      "State                      ND\n",
      "Ethnicity                   W\n",
      "Age                        61\n",
      "Age_lt_med                  0\n",
      "NonWhite                    0\n",
      "Female                      1\n",
      "speaker          Ms. HEITKAMP\n",
      "Full Name     HEITKAMP, HEIDI\n",
      "match                   exact\n",
      "Name: 1140063218, dtype: object\n",
      "\n",
      " Mr. President. I want to express my great thanks to my colleague from West Virginia. Senator CAPITO. who has been absolutely a champion on this issue. but also a champion on looking at new technologies and a champion to actually see what we can do moving forward with the great innovation that is the history of this country and the history of coal country. If you look over the life of the Clean Air Act. you will see literally billions of dollars of investment in cleaner energy. billions of dollars of investment in pollution control. billions of dollars of commitment to the environment by the industries we represent. whether it is a utility industry that has an interesting resource mix that includes coal or whether it is those facilities that utilize the energy looking at energy efficiency. The numbers that Senator CAPITO gave you in terms of Americas achievement on reduction of CO2 happened without any involvement or any interference by the Environmental Protection Agency. North Dakotas situation is unique as it relates to the Clean Power Plan rules. and that is why North Dakota filed its own separate piece of litigation because we have a different story to tell. I believe. a story that involves lignite. which isnt the coal that is mined in West Virginia. but it certainly. for those of us in the center of the country. has become an important fuel source for a generation of electricity for generations. When you look at it and you think about where we are with fuel sources. you remember that there was a period of time when utility companies in this country were told you cannot use natural gas to generate electricity and. as a result. billions of dollars of investment were deployed to find a way to have a redundant. reliable. and affordable source of energy. and that redundant. reliable. and affordable source of energy was coal. Now things have transitioned. North Dakota is truly all of the above as it relates to our energy resources in this country and providing the electricity and the reliability of our electricity in the region. When we look at where we are right now. we have created an incredible level of uncertainty for utility companies in this country. What do I mean by that? If you are sitting as a member of the board of directors in a utility company right now and know you are going to have baseload growth moving forward. how do you build out your resources to meet the demand. which is required by our regulatory environment? Now you are told: Look. by this year. those of you in North Dakota have to reduce your CO2 output by 45 percent. Guess what. The original rule. as drafted. had an 11percent reduction. and now we are up to 44 percent. In what world is that an appropriate leap as we move forward in terms of looking at compliance with this new regulation? The EPA is not authorized to issue rules that are impossible. The baseline and fundamental principle of both the Clean Air Act and the Clean Water Act is about using the best available technologywhat is actually there and commercially available in that space. I have sat down with people who run utility companies in my State. and they have told me it is virtually impossible. Not only do we have a rule that is impossible. but we have an issue that I think the good Senator from West Virginia talked about that is even more serious. We have one agency of the Federal Government not empowered by any law in this country basically controlling our energy deployment. our electrical deployment. We have ignored FERC. and we have ignored all the other agencies that are responsible for the transmission of electricity. If you look at the history of this country and compare our history with many of our competitors across the world. the one thing we do better than our competitors is our reliable electricity. No matter what time of the day it is. you can reach over and turn on a light switch in the United States of America and the lights come on. If you are building a new manufacturing facility and need new energy. that energy is made available to you. Having electricity deployed at the end of the mile in my State. which can be as remote as another 20. 30 miles away from anyone else is a miracle. That is really a miracle of the commitment we have made to make sure we have power in America. This rule jeopardizes that commitment. This rule is wrongheaded and it is a dramatic change from the draft rule. especially as it relates to the State of North Dakota. This rule represents an attitude that says: We dont care what the law says. We dont care that you have rejected cap and trade. We dont care that you have rejected a carbon tax. We are going to unilaterally adopt those public policies as public policies in America. I dont think any of that should happen. I think it is time that we push back at all levels. As I said many times on the floor. whether it is the waters of the United States or the Clean Power Plan rule. the challenge we have is trying to do what this Congress is responsible for doing. which is to legislate. It is not to have a fight about whether we like the EPA or not. It is not to have a fight about whether this rule is right or not. It is about the appropriate public policy. When we simply leave it to the regulatory agencies. we end up with litigation and uncertainty for those people sitting in the boardroom who have a critical responsibility for delivering power in the United States of America. I gladly join my colleague from West Virginia as we pursue this matter. I think we all know that this legislation will likely pass. We also know what the likely outcome will be once it reaches the Presidents desk. We need to continue to have these conversations. We need to continue to talk about what the consequences are. not just for the coal miners in West Virginia and North Dakota but for the redundant. reliable. and affordable delivery of electricity in our country. With that. I yield the floor.\n",
      "--------------------\n"
     ]
    }
   ],
   "source": [
    "reload(explore_data)\n",
    "explore_data.print_mispredictions(val_target, val_pred_probs, val, val_ids, descr_df)"
   ]
  },
  {
   "cell_type": "code",
   "execution_count": null,
   "metadata": {},
   "outputs": [],
   "source": []
  }
 ],
 "metadata": {
  "kernelspec": {
   "display_name": "Python 3",
   "language": "python",
   "name": "python3"
  },
  "language_info": {
   "codemirror_mode": {
    "name": "ipython",
    "version": 3
   },
   "file_extension": ".py",
   "mimetype": "text/x-python",
   "name": "python",
   "nbconvert_exporter": "python",
   "pygments_lexer": "ipython3",
   "version": "3.6.5"
  }
 },
 "nbformat": 4,
 "nbformat_minor": 2
}
