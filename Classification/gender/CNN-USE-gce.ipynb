{
 "cells": [
  {
   "cell_type": "code",
   "execution_count": 1,
   "metadata": {},
   "outputs": [
    {
     "data": {
      "text/plain": [
       "2"
      ]
     },
     "execution_count": 1,
     "metadata": {},
     "output_type": "execute_result"
    }
   ],
   "source": [
    "1+1"
   ]
  },
  {
   "cell_type": "code",
   "execution_count": 2,
   "metadata": {},
   "outputs": [
    {
     "data": {
      "text/html": [
       "<style>.container { width:100% !important; }</style>"
      ],
      "text/plain": [
       "<IPython.core.display.HTML object>"
      ]
     },
     "metadata": {},
     "output_type": "display_data"
    }
   ],
   "source": [
    "# increase cell width\n",
    "from IPython.core.display import display, HTML\n",
    "display(HTML(\"<style>.container { width:100% !important; }</style>\"))"
   ]
  },
  {
   "cell_type": "code",
   "execution_count": 5,
   "metadata": {},
   "outputs": [],
   "source": [
    "# !pip install --quiet tensorflow-hub\n",
    "# !pip install --quiet seaborn"
   ]
  },
  {
   "cell_type": "code",
   "execution_count": 2,
   "metadata": {},
   "outputs": [
    {
     "name": "stderr",
     "output_type": "stream",
     "text": [
      "/home/yulia/anaconda3/lib/python3.6/site-packages/h5py/__init__.py:36: FutureWarning: Conversion of the second argument of issubdtype from `float` to `np.floating` is deprecated. In future, it will be treated as `np.float64 == np.dtype(float).type`.\n",
      "  from ._conv import register_converters as _register_converters\n",
      "WARNING: Logging before flag parsing goes to stderr.\n",
      "W0402 22:53:11.388453 140350233954112 __init__.py:56] Some hub symbols are not available because TensorFlow version is less than 1.14\n"
     ]
    }
   ],
   "source": [
    "import tensorflow as tf\n",
    "import tensorflow_hub as hub\n",
    "import matplotlib.pyplot as plt\n",
    "import seaborn as sns"
   ]
  },
  {
   "cell_type": "code",
   "execution_count": 3,
   "metadata": {},
   "outputs": [],
   "source": [
    "from __future__ import absolute_import\n",
    "from __future__ import division\n",
    "from __future__ import print_function\n",
    "\n",
    "import os\n",
    "import random\n",
    "import time\n",
    "import pickle\n",
    "import gc\n",
    "import re\n",
    "import itertools\n",
    "\n",
    "import numpy as np\n",
    "import pandas as pd\n",
    "\n",
    "from importlib import reload"
   ]
  },
  {
   "cell_type": "code",
   "execution_count": 4,
   "metadata": {},
   "outputs": [],
   "source": [
    "from helpers import load_data\n",
    "from helpers import explore_data\n",
    "from helpers import preprocess_data\n",
    "from helpers import train_model"
   ]
  },
  {
   "cell_type": "markdown",
   "metadata": {},
   "source": [
    "## Load the data"
   ]
  },
  {
   "cell_type": "code",
   "execution_count": 5,
   "metadata": {},
   "outputs": [],
   "source": [
    "main_dir = '/home/yulia/'"
   ]
  },
  {
   "cell_type": "code",
   "execution_count": 6,
   "metadata": {},
   "outputs": [],
   "source": [
    "data_path = main_dir+'final-project/data/raw/hein-daily'"
   ]
  },
  {
   "cell_type": "code",
   "execution_count": 7,
   "metadata": {},
   "outputs": [
    {
     "name": "stdout",
     "output_type": "stream",
     "text": [
      "\n",
      "File speeches_097.txt has 249718612 characters\n",
      "and 283399 speeches\n",
      "\n",
      "Speeches list has 283399 speeches\n",
      "\n",
      "File speeches_098.txt has 252071246 characters\n",
      "and 280289 speeches\n",
      "\n",
      "Speeches list has 563688 speeches\n",
      "\n",
      "File speeches_099.txt has 265326480 characters\n",
      "and 281528 speeches\n",
      "\n",
      "Speeches list has 845216 speeches\n",
      "\n",
      "File speeches_100.txt has 270610780 characters\n",
      "and 276162 speeches\n",
      "\n",
      "Speeches list has 1121378 speeches\n",
      "\n",
      "File speeches_101.txt has 261004871 characters\n",
      "and 251217 speeches\n",
      "\n",
      "Speeches list has 1372595 speeches\n",
      "\n",
      "File speeches_102.txt has 271650630 characters\n",
      "and 243092 speeches\n",
      "\n",
      "Speeches list has 1615687 speeches\n",
      "\n",
      "File speeches_103.txt has 249908822 characters\n",
      "and 235974 speeches\n",
      "\n",
      "Speeches list has 1851661 speeches\n",
      "\n",
      "File speeches_104.txt has 280355367 characters\n",
      "and 274985 speeches\n",
      "\n",
      "Speeches list has 2126646 speeches\n",
      "\n",
      "File speeches_105.txt has 235226903 characters\n",
      "and 209267 speeches\n",
      "\n",
      "Speeches list has 2335913 speeches\n",
      "\n",
      "File speeches_106.txt has 243801385 characters\n",
      "and 209648 speeches\n",
      "\n",
      "Speeches list has 2545561 speeches\n",
      "\n",
      "File speeches_107.txt has 214724318 characters\n",
      "and 180726 speeches\n",
      "\n",
      "Speeches list has 2726287 speeches\n",
      "\n",
      "File speeches_108.txt has 237009565 characters\n",
      "and 200159 speeches\n",
      "\n",
      "Speeches list has 2926446 speeches\n",
      "\n",
      "File speeches_109.txt has 226698889 characters\n",
      "and 187647 speeches\n",
      "\n",
      "Speeches list has 3114093 speeches\n",
      "\n",
      "File speeches_110.txt has 242773059 characters\n",
      "and 211367 speeches\n",
      "\n",
      "Speeches list has 3325460 speeches\n",
      "\n",
      "File speeches_111.txt has 183499959 characters\n",
      "and 154400 speeches\n",
      "\n",
      "Speeches list has 3479860 speeches\n",
      "\n",
      "File speeches_112.txt has 174117603 characters\n",
      "and 145901 speeches\n",
      "\n",
      "Speeches list has 3625761 speeches\n",
      "\n",
      "File speeches_113.txt has 153424011 characters\n",
      "and 128149 speeches\n",
      "\n",
      "Speeches list has 3753910 speeches\n",
      "\n",
      "File speeches_114.txt has 130969173 characters\n",
      "and 112291 speeches\n",
      "\n",
      "Speeches list has 3866201 speeches\n"
     ]
    }
   ],
   "source": [
    "all_speech_ids, all_speeches = load_data.load_speech_data(data_path)"
   ]
  },
  {
   "cell_type": "code",
   "execution_count": 8,
   "metadata": {},
   "outputs": [
    {
     "name": "stdout",
     "output_type": "stream",
     "text": [
      "2914465 lines have been read\n",
      "37617 keys had duplicates and deleted\n",
      "The dictionary has 2808050 keys\n",
      "\n",
      "Random congressperson: 1090182100\n",
      "date 20061114\n",
      "char_count 278\n",
      "word_count 49\n",
      "speakerid 109112991.0\n",
      "Party R\n",
      "Congress 109\n",
      "Chamber S\n",
      "State TN\n",
      "Ethnicity W\n",
      "Age 54.0\n",
      "Age_lt_med 1.0\n",
      "NonWhite 0.0\n",
      "Female 0.0\n",
      "speaker Mr. FRIST\n",
      "Full Name FRIST, WILLIAM\n",
      "match exact\n",
      "check 1\n",
      "\n",
      "It took 23.7 seconds to create the dictionary\n"
     ]
    }
   ],
   "source": [
    "reload(load_data)\n",
    "start_time = time.time()\n",
    "descr = load_data.load_descr_data(main_dir+'final-project/data/QA/full_descr.txt')\n",
    "print(\"\\nIt took {0:.1f} seconds to create the dictionary\".format(time.time()-start_time))"
   ]
  },
  {
   "cell_type": "code",
   "execution_count": 9,
   "metadata": {},
   "outputs": [
    {
     "data": {
      "text/plain": [
       "3866201"
      ]
     },
     "execution_count": 9,
     "metadata": {},
     "output_type": "execute_result"
    }
   ],
   "source": [
    "gender = load_data.create_target_labels(all_speech_ids, descr)[0]\n",
    "len(gender)"
   ]
  },
  {
   "cell_type": "code",
   "execution_count": 10,
   "metadata": {},
   "outputs": [
    {
     "name": "stdout",
     "output_type": "stream",
     "text": [
      "Training split: 94074 ones and 94074 zeroes\n",
      "Training speech list size: 188148\n",
      "Training target list size: 188148\n",
      "Validation split: 31358 ones and 31358 zeroes\n",
      "Validation speech list size: 62716\n",
      "Validation target list size: 62716\n",
      "Test split: 31358 ones and 31358 zeroes\n",
      "Test speech list size: 62716\n",
      "Test target list size: 62716\n"
     ]
    }
   ],
   "source": [
    "train, train_ids, train_target, val, val_ids, val_target, test, test_ids, test_target = preprocess_data.split_train_val_test(all_speeches, all_speech_ids, gender, descr)"
   ]
  },
  {
   "cell_type": "code",
   "execution_count": 11,
   "metadata": {},
   "outputs": [],
   "source": [
    "del descr, all_speech_ids, all_speeches, test, test_ids, test_target"
   ]
  },
  {
   "cell_type": "code",
   "execution_count": 22,
   "metadata": {},
   "outputs": [
    {
     "data": {
      "text/plain": [
       "0"
      ]
     },
     "execution_count": 22,
     "metadata": {},
     "output_type": "execute_result"
    }
   ],
   "source": [
    "gc.collect()"
   ]
  },
  {
   "cell_type": "markdown",
   "metadata": {},
   "source": [
    "### Split it in chunks"
   ]
  },
  {
   "cell_type": "code",
   "execution_count": 14,
   "metadata": {},
   "outputs": [],
   "source": [
    "chunk_len=30"
   ]
  },
  {
   "cell_type": "code",
   "execution_count": 15,
   "metadata": {},
   "outputs": [
    {
     "name": "stdout",
     "output_type": "stream",
     "text": [
      "Original data has 188148 speeches\n",
      "It was split into 2541572 chunks\n",
      "Checks on ids and target 2541572 2541572\n",
      "Original target mean 0.5\n",
      "New target mean 0.5144335867722811\n",
      "Original data has 62716 speeches\n",
      "It was split into 851633 chunks\n",
      "Checks on ids and target 851633 851633\n",
      "Original target mean 0.5\n",
      "New target mean 0.5181163717235007\n"
     ]
    }
   ],
   "source": [
    "train_chunk, train_ids_chunk, train_target_chunk = preprocess_data.split_speech_to_chunks(train, train_ids, train_target, max_len=chunk_len)\n",
    "val_chunk, val_ids_chunk, val_target_chunk = preprocess_data.split_speech_to_chunks(val, val_ids, val_target, max_len=chunk_len)"
   ]
  },
  {
   "cell_type": "markdown",
   "metadata": {},
   "source": [
    "### Load processed data with sentence embeddings (processed during MLP stage)"
   ]
  },
  {
   "cell_type": "code",
   "execution_count": 16,
   "metadata": {},
   "outputs": [],
   "source": [
    "outdata_path = main_dir+'final-project/Classification/data'"
   ]
  },
  {
   "cell_type": "code",
   "execution_count": 84,
   "metadata": {},
   "outputs": [],
   "source": [
    "with open(os.path.join(outdata_path, 'train_emb30'), 'rb') as fp:\n",
    "    train_emb = pickle.load(fp)\n",
    "with open(os.path.join(outdata_path, 'train_emb30_p2'), 'rb') as fp:\n",
    "    train_emb2 = pickle.load(fp)"
   ]
  },
  {
   "cell_type": "code",
   "execution_count": 85,
   "metadata": {},
   "outputs": [
    {
     "data": {
      "text/plain": [
       "(2541572, 512)"
      ]
     },
     "execution_count": 85,
     "metadata": {},
     "output_type": "execute_result"
    }
   ],
   "source": [
    "train_emb = np.concatenate((train_emb, train_emb2), axis=0)\n",
    "train_emb.shape"
   ]
  },
  {
   "cell_type": "code",
   "execution_count": 19,
   "metadata": {},
   "outputs": [],
   "source": [
    "with open(os.path.join(outdata_path, 'val_emb30'), 'rb') as fp:\n",
    "    val_emb = pickle.load(fp)\n",
    "with open(os.path.join(outdata_path, 'val_emb30_p2'), 'rb') as fp:\n",
    "    val_emb2 = pickle.load(fp)\n",
    "with open(os.path.join(outdata_path, 'val_emb30_p3'), 'rb') as fp:\n",
    "    val_emb3 = pickle.load(fp)"
   ]
  },
  {
   "cell_type": "code",
   "execution_count": 20,
   "metadata": {},
   "outputs": [
    {
     "data": {
      "text/plain": [
       "(851633, 512)"
      ]
     },
     "execution_count": 20,
     "metadata": {},
     "output_type": "execute_result"
    }
   ],
   "source": [
    "val_emb = np.concatenate((val_emb, val_emb2, val_emb3), axis=0)\n",
    "val_emb.shape"
   ]
  },
  {
   "cell_type": "code",
   "execution_count": 23,
   "metadata": {},
   "outputs": [],
   "source": [
    "del train_emb2, val_emb2, val_emb3"
   ]
  },
  {
   "cell_type": "code",
   "execution_count": 87,
   "metadata": {},
   "outputs": [
    {
     "data": {
      "text/plain": [
       "210"
      ]
     },
     "execution_count": 87,
     "metadata": {},
     "output_type": "execute_result"
    }
   ],
   "source": [
    "gc.collect()"
   ]
  },
  {
   "cell_type": "code",
   "execution_count": 25,
   "metadata": {},
   "outputs": [
    {
     "data": {
      "text/plain": [
       "188148"
      ]
     },
     "execution_count": 25,
     "metadata": {},
     "output_type": "execute_result"
    }
   ],
   "source": [
    "len(train_ids)"
   ]
  },
  {
   "cell_type": "markdown",
   "metadata": {},
   "source": [
    "### Reshape the data for CNN"
   ]
  },
  {
   "cell_type": "code",
   "execution_count": 72,
   "metadata": {},
   "outputs": [
    {
     "data": {
      "text/plain": [
       "639"
      ]
     },
     "execution_count": 72,
     "metadata": {},
     "output_type": "execute_result"
    }
   ],
   "source": [
    "gc.collect()"
   ]
  },
  {
   "cell_type": "code",
   "execution_count": 49,
   "metadata": {},
   "outputs": [],
   "source": [
    "def reshape_chunked_speech(data_emb, ids, ids_chunk, target, max_num_chunks=25, emb_dim=100):\n",
    "    \n",
    "    id_dict = {k:[] for k in ids} \n",
    "    for i in range(len(ids_chunk)):\n",
    "        if ids_chunk[i] in id_dict:\n",
    "            id_dict[ids_chunk[i]].append(data_emb[i][:emb_dim]) \n",
    "    \n",
    "    data_list, new_ids = [], []\n",
    "    for speech_id in id_dict:\n",
    "        new_ids.append(speech_id)\n",
    "        chunks = id_dict[speech_id].copy()\n",
    "        if len(chunks) < max_num_chunks:\n",
    "            padding = (max_num_chunks - len(id_dict[speech_id])) * [[0]*emb_dim]\n",
    "            chunks.extend(padding)\n",
    "            data_list.append(chunks)\n",
    "        else:\n",
    "            data_list.append(chunks[:max_num_chunks])    \n",
    "    \n",
    "    del id_dict\n",
    "    \n",
    "    data_list_flat = list(itertools.chain.from_iterable(data_list))\n",
    "    data_array = np.reshape(np.array(data_list_flat), [len(ids), -1, emb_dim])\n",
    "    print(\"Input data shape:\", data_array.shape)\n",
    "    \n",
    "    new_target = [target[ids.index(new_ids[i])] for i in range(len(ids))]\n",
    "    print(\"Target shape\", len(new_target))\n",
    "    \n",
    "    return data_array, new_target, new_ids"
   ]
  },
  {
   "cell_type": "code",
   "execution_count": 75,
   "metadata": {},
   "outputs": [],
   "source": [
    "def reshape_batches(data_emb, ids, ids_chunk, target, batch_size=10, n_chunks=25, e_dim=100):\n",
    "    \n",
    "    batches = list(range(0, len(ids), int(len(ids)/batch_size)))\n",
    "    \n",
    "    data_vec = np.empty([0,n_chunks,e_dim])\n",
    "    target_vec, ids_vec = [], []\n",
    "    for i in range(len(batches)):\n",
    "        start_time = time.time()\n",
    "        if i < len(batches) - 1:\n",
    "            data_batch, target_batch, ids_batch = reshape_chunked_speech(data_emb, ids[batches[i]:batches[i+1]], ids_chunk, target[batches[i]:batches[i+1]], n_chunks, e_dim)\n",
    "        if i == len(batches) - 1:\n",
    "            data_batch, target_batch, ids_batch = reshape_chunked_speech(data_emb, ids[batches[i]:], ids_chunk, target[batches[i]:], n_chunks, e_dim)\n",
    "        data_vec = np.concatenate((data_vec, data_batch), axis=0)\n",
    "        target_vec.extend(target_batch)\n",
    "        ids_vec.extend(ids_batch)\n",
    "        print(\"It took {:.1f} seconds to process the batch {}\\n\".format(time.time()-start_time, i+1))     \n",
    "    \n",
    "    return data_vec, target_vec, ids_vec"
   ]
  },
  {
   "cell_type": "code",
   "execution_count": 88,
   "metadata": {},
   "outputs": [
    {
     "name": "stdout",
     "output_type": "stream",
     "text": [
      "Input data shape: (18814, 25, 100)\n",
      "Target shape 18814\n",
      "It took 12.4 seconds to process the batch 1\n",
      "\n",
      "Input data shape: (18814, 25, 100)\n",
      "Target shape 18814\n",
      "It took 12.9 seconds to process the batch 2\n",
      "\n",
      "Input data shape: (18814, 25, 100)\n",
      "Target shape 18814\n",
      "It took 12.5 seconds to process the batch 3\n",
      "\n",
      "Input data shape: (18814, 25, 100)\n",
      "Target shape 18814\n",
      "It took 13.1 seconds to process the batch 4\n",
      "\n",
      "Input data shape: (18814, 25, 100)\n",
      "Target shape 18814\n",
      "It took 12.6 seconds to process the batch 5\n",
      "\n",
      "Input data shape: (18814, 25, 100)\n",
      "Target shape 18814\n",
      "It took 14.4 seconds to process the batch 6\n",
      "\n",
      "Input data shape: (18814, 25, 100)\n",
      "Target shape 18814\n",
      "It took 14.3 seconds to process the batch 7\n",
      "\n",
      "Input data shape: (18814, 25, 100)\n",
      "Target shape 18814\n",
      "It took 14.1 seconds to process the batch 8\n",
      "\n",
      "Input data shape: (18814, 25, 100)\n",
      "Target shape 18814\n",
      "It took 14.8 seconds to process the batch 9\n",
      "\n",
      "Input data shape: (18814, 25, 100)\n",
      "Target shape 18814\n",
      "It took 14.6 seconds to process the batch 10\n",
      "\n",
      "Input data shape: (8, 25, 100)\n",
      "Target shape 8\n",
      "It took 1.5 seconds to process the batch 11\n",
      "\n"
     ]
    }
   ],
   "source": [
    "n_chunks = 25\n",
    "e_dim = 100\n",
    "batch_size = 10\n",
    "\n",
    "train_vec, train_target_vec, train_ids_vec = reshape_batches(train_emb, train_ids, train_ids_chunk, train_target, batch_size, n_chunks, e_dim)"
   ]
  },
  {
   "cell_type": "code",
   "execution_count": 89,
   "metadata": {},
   "outputs": [
    {
     "data": {
      "text/plain": [
       "((188148, 25, 100), 188148, 188148)"
      ]
     },
     "execution_count": 89,
     "metadata": {},
     "output_type": "execute_result"
    }
   ],
   "source": [
    "train_vec.shape, len(train_target_vec), len(train_ids_vec)"
   ]
  },
  {
   "cell_type": "code",
   "execution_count": 90,
   "metadata": {},
   "outputs": [
    {
     "data": {
      "text/plain": [
       "(188148, 188148, 188148)"
      ]
     },
     "execution_count": 90,
     "metadata": {},
     "output_type": "execute_result"
    }
   ],
   "source": [
    "len(train), len(train_target), len(train_ids)"
   ]
  },
  {
   "cell_type": "code",
   "execution_count": 91,
   "metadata": {},
   "outputs": [
    {
     "data": {
      "text/plain": [
       "(94074, 94074)"
      ]
     },
     "execution_count": 91,
     "metadata": {},
     "output_type": "execute_result"
    }
   ],
   "source": [
    "sum(train_target_vec), sum(train_target)"
   ]
  },
  {
   "cell_type": "code",
   "execution_count": 92,
   "metadata": {},
   "outputs": [],
   "source": [
    "del train_emb"
   ]
  },
  {
   "cell_type": "code",
   "execution_count": 93,
   "metadata": {},
   "outputs": [
    {
     "data": {
      "text/plain": [
       "0"
      ]
     },
     "execution_count": 93,
     "metadata": {},
     "output_type": "execute_result"
    }
   ],
   "source": [
    "gc.collect()"
   ]
  },
  {
   "cell_type": "code",
   "execution_count": 76,
   "metadata": {},
   "outputs": [
    {
     "name": "stdout",
     "output_type": "stream",
     "text": [
      "Input data shape: (15679, 25, 100)\n",
      "Target shape 15679\n",
      "It took 9.2 seconds to process the batch 1\n",
      "\n",
      "Input data shape: (15679, 25, 100)\n",
      "Target shape 15679\n",
      "It took 8.8 seconds to process the batch 2\n",
      "\n",
      "Input data shape: (15679, 25, 100)\n",
      "Target shape 15679\n",
      "It took 10.1 seconds to process the batch 3\n",
      "\n",
      "Input data shape: (15679, 25, 100)\n",
      "Target shape 15679\n",
      "It took 9.6 seconds to process the batch 4\n",
      "\n"
     ]
    }
   ],
   "source": [
    "n_chunks = 25\n",
    "e_dim = 100\n",
    "batch_size = 4\n",
    "\n",
    "val_vec, val_target_vec, val_ids_vec = reshape_batches(val_emb, val_ids, val_ids_chunk, val_target, batch_size, n_chunks, e_dim)"
   ]
  },
  {
   "cell_type": "code",
   "execution_count": 77,
   "metadata": {},
   "outputs": [
    {
     "data": {
      "text/plain": [
       "((62716, 25, 100), 62716, 62716)"
      ]
     },
     "execution_count": 77,
     "metadata": {},
     "output_type": "execute_result"
    }
   ],
   "source": [
    "val_vec.shape, len(val_target_vec), len(val_ids_vec)"
   ]
  },
  {
   "cell_type": "code",
   "execution_count": 78,
   "metadata": {},
   "outputs": [
    {
     "data": {
      "text/plain": [
       "(62716, 62716, 62716)"
      ]
     },
     "execution_count": 78,
     "metadata": {},
     "output_type": "execute_result"
    }
   ],
   "source": [
    "len(val), len(val_target), len(val_ids)"
   ]
  },
  {
   "cell_type": "code",
   "execution_count": 80,
   "metadata": {},
   "outputs": [
    {
     "data": {
      "text/plain": [
       "(31358, 31358)"
      ]
     },
     "execution_count": 80,
     "metadata": {},
     "output_type": "execute_result"
    }
   ],
   "source": [
    "sum(val_target_vec), sum(val_target)"
   ]
  },
  {
   "cell_type": "code",
   "execution_count": 94,
   "metadata": {},
   "outputs": [],
   "source": [
    "del val_emb"
   ]
  },
  {
   "cell_type": "markdown",
   "metadata": {},
   "source": [
    "## CNN Model"
   ]
  },
  {
   "cell_type": "code",
   "execution_count": 64,
   "metadata": {},
   "outputs": [],
   "source": [
    "logs_base_dir = main_dir+\"final-project/Classification/logs\""
   ]
  },
  {
   "cell_type": "code",
   "execution_count": 65,
   "metadata": {},
   "outputs": [],
   "source": [
    "cnn_model_params = {\n",
    "    'model': 'cnn',\n",
    "    'learning_rate': 0.001,\n",
    "    'layers': 2,\n",
    "    'epochs': 1000,\n",
    "    'batch_size': 128,\n",
    "    'filters': 64,\n",
    "    'dropout_rate': 0.2,\n",
    "    'kernel_size': 5,\n",
    "    'pool_size': 1\n",
    "}"
   ]
  },
  {
   "cell_type": "code",
   "execution_count": 95,
   "metadata": {
    "scrolled": false
   },
   "outputs": [
    {
     "name": "stdout",
     "output_type": "stream",
     "text": [
      "Train on 188148 samples, validate on 62716 samples\n",
      "Epoch 1/1000\n",
      " - 32s - loss: 0.6285 - acc: 0.6450 - val_loss: 0.6154 - val_acc: 0.6611\n",
      "Epoch 2/1000\n",
      " - 30s - loss: 0.6144 - acc: 0.6600 - val_loss: 0.6094 - val_acc: 0.6671\n",
      "Epoch 3/1000\n",
      " - 31s - loss: 0.6084 - acc: 0.6669 - val_loss: 0.6085 - val_acc: 0.6663\n",
      "Epoch 4/1000\n",
      " - 31s - loss: 0.6039 - acc: 0.6708 - val_loss: 0.5993 - val_acc: 0.6761\n",
      "Epoch 5/1000\n",
      " - 30s - loss: 0.6005 - acc: 0.6736 - val_loss: 0.6017 - val_acc: 0.6748\n",
      "Epoch 6/1000\n",
      " - 31s - loss: 0.5983 - acc: 0.6764 - val_loss: 0.5947 - val_acc: 0.6786\n",
      "Epoch 7/1000\n",
      " - 30s - loss: 0.5953 - acc: 0.6786 - val_loss: 0.5941 - val_acc: 0.6805\n",
      "Epoch 8/1000\n",
      " - 31s - loss: 0.5936 - acc: 0.6814 - val_loss: 0.5940 - val_acc: 0.6815\n",
      "Epoch 9/1000\n",
      " - 31s - loss: 0.5908 - acc: 0.6827 - val_loss: 0.5962 - val_acc: 0.6787\n",
      "Epoch 10/1000\n",
      " - 32s - loss: 0.5905 - acc: 0.6840 - val_loss: 0.5933 - val_acc: 0.6824\n",
      "Epoch 11/1000\n",
      " - 30s - loss: 0.5884 - acc: 0.6859 - val_loss: 0.5930 - val_acc: 0.6799\n",
      "Epoch 12/1000\n",
      " - 30s - loss: 0.5872 - acc: 0.6859 - val_loss: 0.5929 - val_acc: 0.6829\n",
      "Epoch 13/1000\n",
      " - 30s - loss: 0.5861 - acc: 0.6877 - val_loss: 0.5937 - val_acc: 0.6817\n",
      "Epoch 14/1000\n",
      " - 30s - loss: 0.5851 - acc: 0.6876 - val_loss: 0.5928 - val_acc: 0.6816\n",
      "Epoch 15/1000\n",
      " - 30s - loss: 0.5831 - acc: 0.6897 - val_loss: 0.5931 - val_acc: 0.6817\n",
      "Epoch 16/1000\n",
      " - 30s - loss: 0.5827 - acc: 0.6904 - val_loss: 0.5911 - val_acc: 0.6826\n",
      "Epoch 17/1000\n",
      " - 31s - loss: 0.5817 - acc: 0.6895 - val_loss: 0.5935 - val_acc: 0.6824\n",
      "Epoch 18/1000\n",
      " - 31s - loss: 0.5807 - acc: 0.6907 - val_loss: 0.5915 - val_acc: 0.6837\n",
      "Validation accuracy: 0.6837330460548401, loss: 0.5914923238795329\n"
     ]
    }
   ],
   "source": [
    "reload(train_model)\n",
    "history, train_pred_probs, val_pred_probs = train_model.train_model(((train_vec, np.array(train_target_vec)), (val_vec, np.array(val_target_vec))), logs_base_dir, **cnn_model_params)"
   ]
  },
  {
   "cell_type": "code",
   "execution_count": 99,
   "metadata": {},
   "outputs": [],
   "source": [
    "probs_path = main_dir + 'final-project/Classification/data/cnn/gender'"
   ]
  },
  {
   "cell_type": "code",
   "execution_count": 100,
   "metadata": {},
   "outputs": [],
   "source": [
    "with open(os.path.join(probs_path, 'val_pred_probs_use'), 'wb') as fp:\n",
    "    pickle.dump(val_pred_probs, fp)"
   ]
  },
  {
   "cell_type": "code",
   "execution_count": 97,
   "metadata": {},
   "outputs": [
    {
     "data": {
      "text/plain": [
       "42881"
      ]
     },
     "execution_count": 97,
     "metadata": {},
     "output_type": "execute_result"
    }
   ],
   "source": [
    "val_preds = val_pred_probs > 0.5\n",
    "np.sum(val_preds.flatten()==val_target_vec)"
   ]
  },
  {
   "cell_type": "code",
   "execution_count": 98,
   "metadata": {},
   "outputs": [
    {
     "name": "stdout",
     "output_type": "stream",
     "text": [
      "Confusion matrix, without normalization\n",
      "[[20474 10884]\n",
      " [ 8951 22407]]\n",
      "             precision    recall  f1-score   support\n",
      "\n",
      "       Male       0.70      0.65      0.67     31358\n",
      "     Female       0.67      0.71      0.69     31358\n",
      "\n",
      "avg / total       0.68      0.68      0.68     62716\n",
      "\n"
     ]
    },
    {
     "data": {
      "text/plain": [
       "<matplotlib.axes._subplots.AxesSubplot at 0x7fa57c0560b8>"
      ]
     },
     "execution_count": 98,
     "metadata": {},
     "output_type": "execute_result"
    },
    {
     "data": {
      "image/png": "[encoded data removed]",
      "text/plain": [
       "<Figure size 432x288 with 2 Axes>"
      ]
     },
     "metadata": {},
     "output_type": "display_data"
    }
   ],
   "source": [
    "reload(explore_data)\n",
    "# specify class names in 0 - 1 order\n",
    "classes = ['Male', 'Female']\n",
    "explore_data.plot_confusion_matrix(val_target_vec, val_preds, classes, normalize=True)"
   ]
  },
  {
   "cell_type": "code",
   "execution_count": 101,
   "metadata": {},
   "outputs": [
    {
     "data": {
      "image/png": "[encoded data removed]",
      "text/plain": [
       "<Figure size 720x720 with 2 Axes>"
      ]
     },
     "metadata": {},
     "output_type": "display_data"
    }
   ],
   "source": [
    "reload(explore_data)\n",
    "explore_data.plot_calibration_curve(val_target_vec, val_pred_probs, 'Gender')"
   ]
  },
  {
   "cell_type": "code",
   "execution_count": null,
   "metadata": {},
   "outputs": [],
   "source": []
  }
 ],
 "metadata": {
  "kernelspec": {
   "display_name": "Python 3",
   "language": "python",
   "name": "python3"
  },
  "language_info": {
   "codemirror_mode": {
    "name": "ipython",
    "version": 3
   },
   "file_extension": ".py",
   "mimetype": "text/x-python",
   "name": "python",
   "nbconvert_exporter": "python",
   "pygments_lexer": "ipython3",
   "version": "3.6.5"
  }
 },
 "nbformat": 4,
 "nbformat_minor": 2
}
