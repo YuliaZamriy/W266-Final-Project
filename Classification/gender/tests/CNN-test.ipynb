{
 "cells": [
  {
   "cell_type": "code",
   "execution_count": 1,
   "metadata": {},
   "outputs": [
    {
     "data": {
      "text/html": [
       "<style>.container { width:100% !important; }</style>"
      ],
      "text/plain": [
       "<IPython.core.display.HTML object>"
      ]
     },
     "metadata": {},
     "output_type": "display_data"
    }
   ],
   "source": [
    "# increase cell width\n",
    "from IPython.core.display import display, HTML\n",
    "display(HTML(\"<style>.container { width:100% !important; }</style>\"))"
   ]
  },
  {
   "cell_type": "markdown",
   "metadata": {},
   "source": [
    "Inspiration for code:\n",
    "\n",
    "- https://developers.google.com/machine-learning/guides/text-classification/\n",
    "- https://github.com/google/eng-edu/blob/master/ml/guides/text_classification/load_data.py"
   ]
  },
  {
   "cell_type": "code",
   "execution_count": 1,
   "metadata": {},
   "outputs": [],
   "source": [
    "from __future__ import absolute_import\n",
    "from __future__ import division\n",
    "from __future__ import print_function\n",
    "\n",
    "import os\n",
    "import random\n",
    "import time\n",
    "import pickle\n",
    "import gc\n",
    "import re\n",
    "\n",
    "import numpy as np\n",
    "import pandas as pd\n",
    "\n",
    "from importlib import reload\n",
    "\n",
    "import scipy.sparse"
   ]
  },
  {
   "cell_type": "code",
   "execution_count": 2,
   "metadata": {},
   "outputs": [],
   "source": [
    "from helpers import load_data\n",
    "from helpers import explore_data\n",
    "from helpers import preprocess_data\n",
    "from helpers import train_model"
   ]
  },
  {
   "cell_type": "markdown",
   "metadata": {},
   "source": [
    "## Load the data"
   ]
  },
  {
   "cell_type": "code",
   "execution_count": 4,
   "metadata": {},
   "outputs": [
    {
     "data": {
      "text/plain": [
       "'/tf/notebooks/final-project/Classification'"
      ]
     },
     "execution_count": 4,
     "metadata": {},
     "output_type": "execute_result"
    }
   ],
   "source": [
    "pwd"
   ]
  },
  {
   "cell_type": "code",
   "execution_count": 5,
   "metadata": {},
   "outputs": [
    {
     "name": "stdout",
     "output_type": "stream",
     "text": [
      "speech_id|speech\r\n",
      "970000001|The Senate vill please come to order. The Chaplain will offer the prayer. The Chaplain. the Reverend Edward L. R. Elson. D.D.. offered the following prayer: PRAYER God of our fathers and our God. who has made and preserved us a nation. we thank Thee for Thy care over us from generation to generation. and for the new era which unfolds before us. Let Thy spirit descend upon us with all Its cleansing. healing. and creative power. Make usnew persons for new times in a land newborn in spirit. May the solemn induction of the new Members of this body be a renewal of the vocatinal vows of all others. In the deliberations of this new Congress keep our motives pure. our vision clear. our patriotism undefiled. our speech chaste. our judgments fair. and our consciences unbetrayed. Help us to develop work patterns which sustain the soul. nourish the mind. and strengthen the will. And give us grace to make time for the family. for home. and for worship. What we pray for this body we pray for all others in the service of the Government. Send us each day to our tasks to do Justly.to love mercy. and to walk humbly with our God. Hear us as we pray together the prayerthe Master taught us\"Our Father who art in heaven. hallowed be Thy name. Thy kingdom come. Thy will be done in Earth. as it is in heaven. Give us this day our daily bread. And forgive us our trespasses as we forgive those who trespass against us. And lead us not into temptation. but deliver us from evil* For Thine is the kingdom. and the power. and the glory forever.\" Amen.\r\n"
     ]
    }
   ],
   "source": [
    "!head -2 /tf/notebooks/final-project/data/sample/hein-daily/speeches_097.txt"
   ]
  },
  {
   "cell_type": "code",
   "execution_count": 6,
   "metadata": {},
   "outputs": [
    {
     "name": "stdout",
     "output_type": "stream",
     "text": [
      "283399\r\n"
     ]
    }
   ],
   "source": [
    "!cat /tf/notebooks/final-project/data/sample/hein-daily/speeches_097.txt | wc -l"
   ]
  },
  {
   "cell_type": "code",
   "execution_count": 3,
   "metadata": {},
   "outputs": [],
   "source": [
    "data_path = '/tf/notebooks/final-project/data/sample/hein-daily'"
   ]
  },
  {
   "cell_type": "code",
   "execution_count": 46,
   "metadata": {},
   "outputs": [
    {
     "name": "stdout",
     "output_type": "stream",
     "text": [
      "\n",
      "File speeches_097.txt has 249718612 characters\n",
      "and 283399 speeches\n",
      "\n",
      "Speeches list has 283399 speeches\n"
     ]
    }
   ],
   "source": [
    "reload(load_data)\n",
    "all_speech_ids, all_speeches = load_data.load_speech_data(data_path)"
   ]
  },
  {
   "cell_type": "code",
   "execution_count": 6,
   "metadata": {},
   "outputs": [
    {
     "data": {
      "text/plain": [
       "(283399, 283399)"
      ]
     },
     "execution_count": 6,
     "metadata": {},
     "output_type": "execute_result"
    }
   ],
   "source": [
    "len(all_speech_ids), len(all_speeches)"
   ]
  },
  {
   "cell_type": "markdown",
   "metadata": {},
   "source": [
    "## Create target labels"
   ]
  },
  {
   "cell_type": "code",
   "execution_count": 2,
   "metadata": {},
   "outputs": [
    {
     "name": "stdout",
     "output_type": "stream",
     "text": [
      "2914465\r\n"
     ]
    }
   ],
   "source": [
    "!cat /tf/notebooks/final-project/data/QA/full_descr.txt | wc -l"
   ]
  },
  {
   "cell_type": "code",
   "execution_count": 8,
   "metadata": {},
   "outputs": [],
   "source": [
    "# OPEN descr FROM A SAVED FILE (if it was previously saved)\n",
    "# outdata_path = '/tf/notebooks/final-project/Classification/data'\n",
    "# descr = pickle.load(open(os.path.join(outdata_path, 'descr.p'), 'rb'))"
   ]
  },
  {
   "cell_type": "markdown",
   "metadata": {},
   "source": [
    "37,617 fuzzy match speeches had multiple duplicates. Delete them from the dictionary"
   ]
  },
  {
   "cell_type": "code",
   "execution_count": 47,
   "metadata": {},
   "outputs": [
    {
     "name": "stdout",
     "output_type": "stream",
     "text": [
      "2914465 lines have been read\n",
      "37617 keys had duplicates and deleted\n",
      "The dictionary has 2808050 keys\n",
      "\n",
      "Random congressperson: 1020219407\n",
      "speaker Mr. SYMMS\n",
      "char_count 68\n",
      "speakerid 102108021.0\n",
      "Ethnicity W\n",
      "word_count 13\n",
      "NonWhite 0.0\n",
      "Age_lt_med 0.0\n",
      "Congress 102\n",
      "match exact\n",
      "Party R\n",
      "date 19920918\n",
      "State ID\n",
      "Full Name SYMMS, STEVEN\n",
      "Age 54.0\n",
      "Female 0.0\n",
      "check 1\n",
      "Chamber S\n",
      "\n",
      "It took 16.8 seconds to create the dictionary\n"
     ]
    }
   ],
   "source": [
    "reload(load_data)\n",
    "start_time = time.time()\n",
    "descr = load_data.load_descr_data('/tf/notebooks/final-project/data/QA/full_descr.txt')\n",
    "print(\"\\nIt took {0:.1f} seconds to create the dictionary\".format(time.time()-start_time))"
   ]
  },
  {
   "cell_type": "code",
   "execution_count": 48,
   "metadata": {},
   "outputs": [
    {
     "data": {
      "text/plain": [
       "0.9634876258550458"
      ]
     },
     "execution_count": 48,
     "metadata": {},
     "output_type": "execute_result"
    }
   ],
   "source": [
    "# check if sampling worked\n",
    "len(list(descr.keys()))/2914464"
   ]
  },
  {
   "cell_type": "code",
   "execution_count": 49,
   "metadata": {},
   "outputs": [
    {
     "data": {
      "text/plain": [
       "283399"
      ]
     },
     "execution_count": 49,
     "metadata": {},
     "output_type": "execute_result"
    }
   ],
   "source": [
    "gender = load_data.create_target_labels(all_speech_ids, descr)[0]\n",
    "len(gender)"
   ]
  },
  {
   "cell_type": "markdown",
   "metadata": {},
   "source": [
    "### Save descr dictionary"
   ]
  },
  {
   "cell_type": "code",
   "execution_count": 233,
   "metadata": {},
   "outputs": [],
   "source": [
    "#outdata_path = '/tf/notebooks/final-project/Classification/data'"
   ]
  },
  {
   "cell_type": "code",
   "execution_count": 12,
   "metadata": {},
   "outputs": [],
   "source": [
    "#pickle.dump(descr, open(os.path.join(outdata_path, 'descr.p'), 'wb'))"
   ]
  },
  {
   "cell_type": "code",
   "execution_count": null,
   "metadata": {},
   "outputs": [],
   "source": [
    "#descr = pickle.load(open(os.path.join(outdata_path, 'descr.p'), 'rb'))"
   ]
  },
  {
   "cell_type": "markdown",
   "metadata": {},
   "source": [
    "### Data QA"
   ]
  },
  {
   "cell_type": "code",
   "execution_count": 12,
   "metadata": {},
   "outputs": [
    {
     "data": {
      "text/html": [
       "<div>\n",
       "<style scoped>\n",
       "    .dataframe tbody tr th:only-of-type {\n",
       "        vertical-align: middle;\n",
       "    }\n",
       "\n",
       "    .dataframe tbody tr th {\n",
       "        vertical-align: top;\n",
       "    }\n",
       "\n",
       "    .dataframe thead th {\n",
       "        text-align: right;\n",
       "    }\n",
       "</style>\n",
       "<table border=\"1\" class=\"dataframe\">\n",
       "  <thead>\n",
       "    <tr style=\"text-align: right;\">\n",
       "      <th></th>\n",
       "      <th>Category</th>\n",
       "      <th>Count</th>\n",
       "    </tr>\n",
       "  </thead>\n",
       "  <tbody>\n",
       "    <tr>\n",
       "      <th>0</th>\n",
       "      <td>-1</td>\n",
       "      <td>64727</td>\n",
       "    </tr>\n",
       "    <tr>\n",
       "      <th>1</th>\n",
       "      <td>0</td>\n",
       "      <td>214221</td>\n",
       "    </tr>\n",
       "    <tr>\n",
       "      <th>2</th>\n",
       "      <td>1</td>\n",
       "      <td>4451</td>\n",
       "    </tr>\n",
       "  </tbody>\n",
       "</table>\n",
       "</div>"
      ],
      "text/plain": [
       "<IPython.core.display.HTML object>"
      ]
     },
     "metadata": {},
     "output_type": "display_data"
    }
   ],
   "source": [
    "explore_data.get_counts(gender)"
   ]
  },
  {
   "cell_type": "markdown",
   "metadata": {},
   "source": [
    "## Split into train, validate, test"
   ]
  },
  {
   "cell_type": "code",
   "execution_count": 50,
   "metadata": {
    "scrolled": true
   },
   "outputs": [
    {
     "name": "stdout",
     "output_type": "stream",
     "text": [
      "Training split: 1622 ones and 1622 zeroes\n",
      "Training speech list size: 3244\n",
      "Training target list size: 3244\n",
      "Validation split: 540 ones and 540 zeroes\n",
      "Validation speech list size: 1080\n",
      "Validation target list size: 1080\n",
      "Test split: 542 ones and 542 zeroes\n",
      "Test speech list size: 1084\n",
      "Test target list size: 1084\n"
     ]
    }
   ],
   "source": [
    "reload(preprocess_data)\n",
    "train, train_ids, train_target, val, val_ids, val_target, test, test_ids, test_target = preprocess_data.split_train_val_test(all_speeches, all_speech_ids, gender, descr)"
   ]
  },
  {
   "cell_type": "code",
   "execution_count": 14,
   "metadata": {},
   "outputs": [
    {
     "data": {
      "text/plain": [
       "(1622, 540, 542)"
      ]
     },
     "execution_count": 14,
     "metadata": {},
     "output_type": "execute_result"
    }
   ],
   "source": [
    "sum(train_target), sum(val_target), sum(test_target)"
   ]
  },
  {
   "cell_type": "code",
   "execution_count": 15,
   "metadata": {},
   "outputs": [
    {
     "data": {
      "text/plain": [
       "1747"
      ]
     },
     "execution_count": 15,
     "metadata": {},
     "output_type": "execute_result"
    }
   ],
   "source": [
    "# number of speeches under 30 words\n",
    "sum(np.array(gender)==1) - (sum(train_target) + sum(val_target) + sum(test_target))"
   ]
  },
  {
   "cell_type": "markdown",
   "metadata": {},
   "source": [
    "## CNN"
   ]
  },
  {
   "cell_type": "markdown",
   "metadata": {},
   "source": [
    "Inspiration for code: https://developers.google.com/machine-learning/guides/text-classification/step-3"
   ]
  },
  {
   "cell_type": "markdown",
   "metadata": {},
   "source": [
    "### Pre-processing"
   ]
  },
  {
   "cell_type": "code",
   "execution_count": 16,
   "metadata": {},
   "outputs": [
    {
     "data": {
      "text/plain": [
       "207.5"
      ]
     },
     "execution_count": 16,
     "metadata": {},
     "output_type": "execute_result"
    }
   ],
   "source": [
    "reload(explore_data)\n",
    "explore_data.get_num_words_per_sample(train)"
   ]
  },
  {
   "cell_type": "code",
   "execution_count": 17,
   "metadata": {},
   "outputs": [
    {
     "name": "stdout",
     "output_type": "stream",
     "text": [
      "Speech length percentiles\n",
      "    0     10    20     30     40     50     60     70     80     90      100\n",
      "0  31.0  45.0  68.0  103.0  154.0  207.5  274.0  363.0  503.0  750.7  8435.0\n"
     ]
    },
    {
     "data": {
      "image/png": "[encoded data removed]",
      "text/plain": [
       "<Figure size 1440x720 with 1 Axes>"
      ]
     },
     "metadata": {
      "needs_background": "light"
     },
     "output_type": "display_data"
    }
   ],
   "source": [
    "reload(explore_data)\n",
    "explore_data.plot_sample_length_distribution(train)"
   ]
  },
  {
   "cell_type": "markdown",
   "metadata": {},
   "source": [
    "#### OPTIONAL: Split speeches into 100-word chunks"
   ]
  },
  {
   "cell_type": "code",
   "execution_count": 207,
   "metadata": {},
   "outputs": [
    {
     "name": "stdout",
     "output_type": "stream",
     "text": [
      "Original data has 3244 speeches\n",
      "It was split into 12496 chunks\n",
      "Checks on ids and target 12496 12496\n",
      "Original target mean 0.5\n",
      "New target mean 0.5060819462227913\n"
     ]
    }
   ],
   "source": [
    "# reload(preprocess_data)\n",
    "# train_chunk, train_ids_chunk, train_target_chunk = preprocess_data.split_speech_to_chunks(train, train_ids, train_target, max_len=100)"
   ]
  },
  {
   "cell_type": "code",
   "execution_count": 197,
   "metadata": {},
   "outputs": [
    {
     "name": "stdout",
     "output_type": "stream",
     "text": [
      "Original data has 1080 speeches\n",
      "It was split into 4252 chunks\n",
      "Checks on ids and target 4252 4252\n",
      "Original target mean 0.5\n",
      "New target mean 0.47765757290686733\n"
     ]
    }
   ],
   "source": [
    "# val_chunk, val_ids_chunk, val_target_chunk = preprocess_data.split_speech_to_chunks(val, val_ids, val_target, max_len=100)"
   ]
  },
  {
   "cell_type": "code",
   "execution_count": 198,
   "metadata": {},
   "outputs": [
    {
     "name": "stdout",
     "output_type": "stream",
     "text": [
      "Original data has 1084 speeches\n",
      "It was split into 4189 chunks\n",
      "Checks on ids and target 4189 4189\n",
      "Original target mean 0.5\n",
      "New target mean 0.5301981379804249\n"
     ]
    }
   ],
   "source": [
    "# test_chunk, test_ids_chunk, test_target_chunk = preprocess_data.split_speech_to_chunks(test, test_ids, test_target, max_len=100)"
   ]
  },
  {
   "cell_type": "markdown",
   "metadata": {},
   "source": [
    "### Tokenize speeches"
   ]
  },
  {
   "cell_type": "code",
   "execution_count": 51,
   "metadata": {},
   "outputs": [],
   "source": [
    "# Limit on the number of features. \n",
    "TOP_K = 20000\n",
    "\n",
    "# Limit on the length of text sequences. Sequences longer than this\n",
    "# will be truncated.\n",
    "# MAX_SEQUENCE_LENGTH = 100\n",
    "MAX_SEQUENCE_LENGTH = 750\n",
    "\n",
    "vec_params = {\n",
    "    'num_words': TOP_K,\n",
    "    'max_seq_length': MAX_SEQUENCE_LENGTH\n",
    "}"
   ]
  },
  {
   "cell_type": "code",
   "execution_count": 52,
   "metadata": {},
   "outputs": [
    {
     "name": "stdout",
     "output_type": "stream",
     "text": [
      "\n",
      "It took 1.9 seconds to tokenize the data\n"
     ]
    }
   ],
   "source": [
    "reload(preprocess_data)\n",
    "start_time = time.time()\n",
    "train_vec, val_vec, test_vec, word_index = preprocess_data.sequence_vectorize(train, val, test, **vec_params)\n",
    "print(\"\\nIt took {0:.1f} seconds to tokenize the data\".format(time.time()-start_time))"
   ]
  },
  {
   "cell_type": "code",
   "execution_count": 10,
   "metadata": {},
   "outputs": [
    {
     "data": {
      "text/plain": [
       "(750,)"
      ]
     },
     "execution_count": 10,
     "metadata": {},
     "output_type": "execute_result"
    }
   ],
   "source": [
    "max(val_vec, key=len).shape"
   ]
  },
  {
   "cell_type": "code",
   "execution_count": 11,
   "metadata": {},
   "outputs": [
    {
     "data": {
      "text/plain": [
       "(19999, 19984, 19984)"
      ]
     },
     "execution_count": 11,
     "metadata": {},
     "output_type": "execute_result"
    }
   ],
   "source": [
    "max(map(max, train_vec)), max(map(max, val_vec)), max(map(max, test_vec))"
   ]
  },
  {
   "cell_type": "code",
   "execution_count": 20,
   "metadata": {},
   "outputs": [
    {
     "data": {
      "text/plain": [
       "(3244, 1080, 1084)"
      ]
     },
     "execution_count": 20,
     "metadata": {},
     "output_type": "execute_result"
    }
   ],
   "source": [
    "len(train), len(val), len(test)"
   ]
  },
  {
   "cell_type": "code",
   "execution_count": 164,
   "metadata": {},
   "outputs": [
    {
     "data": {
      "text/plain": [
       "(12370, 4010, 4089)"
      ]
     },
     "execution_count": 164,
     "metadata": {},
     "output_type": "execute_result"
    }
   ],
   "source": [
    "#len(train_chunk), len(val_chunk), len(test_chunk)"
   ]
  },
  {
   "cell_type": "code",
   "execution_count": 21,
   "metadata": {},
   "outputs": [
    {
     "data": {
      "text/plain": [
       "(3244, 1080, 1084)"
      ]
     },
     "execution_count": 21,
     "metadata": {},
     "output_type": "execute_result"
    }
   ],
   "source": [
    "len(train_vec), len(val_vec), len(test_vec)"
   ]
  },
  {
   "cell_type": "code",
   "execution_count": 22,
   "metadata": {},
   "outputs": [
    {
     "data": {
      "text/plain": [
       "(750,)"
      ]
     },
     "execution_count": 22,
     "metadata": {},
     "output_type": "execute_result"
    }
   ],
   "source": [
    "train_vec[0].shape"
   ]
  },
  {
   "cell_type": "code",
   "execution_count": 23,
   "metadata": {},
   "outputs": [
    {
     "data": {
      "text/plain": [
       "array([  52, 3587,   52,  906,   63,   14,    5,   14,    9,   48],\n",
       "      dtype=int32)"
      ]
     },
     "execution_count": 23,
     "metadata": {},
     "output_type": "execute_result"
    }
   ],
   "source": [
    "train_vec[0][-10:]"
   ]
  },
  {
   "cell_type": "code",
   "execution_count": 24,
   "metadata": {},
   "outputs": [
    {
     "data": {
      "text/plain": [
       "'Mr. Speaker. I want to compliment the gentleman from California for his comments. I think one of the things that he and the gentleman from Wisconsin were pointing out is that they had some perfecting punendments to the Commission that would have made it better. I think some of the things that people worried about were the calendar days rather than legislative days. the November 15 date. the two Houses having to turn it down. and so forth. That really did make it look a little suspicious. I understand the gentleman being angry about people portraying it as an automatic pay increase. but I think when it was put in both reconciliation and the supplemental with those kinds of things it did come across that way. and it is really too bad. The gentleman is correct. This must be argued openly. It must be argued out front. It must be dealt with by this body. There is no way to find some magic pay fairy who is going to say. \"Here. take it. you have to have it. even if you do not want it.\" I think that is a dream. but it is not going to happen. We have to deal with this in an upfront method. I think the methods that happened right before the election made it a little suspicious. It is too bad that the gentleman did not get to offer his amendment that he and the gentleman from Wisconsin prepared. But I hope you do them in an A ugus t 18. 1982 open. upfront way. and we start on a new foot with this in the next session so that everybody can testify. can talk about it. and it is there.'"
      ]
     },
     "execution_count": 24,
     "metadata": {},
     "output_type": "execute_result"
    }
   ],
   "source": [
    "train[0]"
   ]
  },
  {
   "cell_type": "code",
   "execution_count": 27,
   "metadata": {},
   "outputs": [],
   "source": [
    "#train_chunk[0]"
   ]
  },
  {
   "cell_type": "code",
   "execution_count": 25,
   "metadata": {},
   "outputs": [
    {
     "name": "stdout",
     "output_type": "stream",
     "text": [
      "can 52\n",
      "testify 3587\n",
      "can 52\n",
      "talk 906\n",
      "about 63\n",
      "it 14\n",
      "and 5\n",
      "it 14\n",
      "is 9\n",
      "there 48\n"
     ]
    }
   ],
   "source": [
    "for word in train[0].split()[-10:]:\n",
    "    word = re.sub(r'[^\\w\\s]','',word)\n",
    "    print(word, word_index[word])"
   ]
  },
  {
   "cell_type": "code",
   "execution_count": 26,
   "metadata": {},
   "outputs": [
    {
     "data": {
      "text/plain": [
       "40496"
      ]
     },
     "execution_count": 26,
     "metadata": {},
     "output_type": "execute_result"
    }
   ],
   "source": [
    "len(word_index)"
   ]
  },
  {
   "cell_type": "markdown",
   "metadata": {},
   "source": [
    "### Saving processed files"
   ]
  },
  {
   "cell_type": "code",
   "execution_count": 54,
   "metadata": {},
   "outputs": [],
   "source": [
    "token_path = '/tf/notebooks/final-project/Classification/data/tokenized'"
   ]
  },
  {
   "cell_type": "code",
   "execution_count": 56,
   "metadata": {},
   "outputs": [],
   "source": [
    "np.save(os.path.join(token_path, 'train_vec'), train_vec)\n",
    "np.save(os.path.join(token_path, 'val_vec'), val_vec)\n",
    "np.save(os.path.join(token_path, 'test_vec'), test_vec)"
   ]
  },
  {
   "cell_type": "code",
   "execution_count": 57,
   "metadata": {},
   "outputs": [],
   "source": [
    "train_vec = np.load(os.path.join(token_path, 'train_vec.npy'))\n",
    "val_vec = np.load(os.path.join(token_path, 'val_vec.npy'))\n",
    "test_vec = np.load(os.path.join(token_path, 'test_vec.npy'))"
   ]
  },
  {
   "cell_type": "code",
   "execution_count": 58,
   "metadata": {},
   "outputs": [
    {
     "data": {
      "text/plain": [
       "(3244, 1080, 1084)"
      ]
     },
     "execution_count": 58,
     "metadata": {},
     "output_type": "execute_result"
    }
   ],
   "source": [
    "len(train_vec), len(val_vec), len(test_vec)"
   ]
  },
  {
   "cell_type": "code",
   "execution_count": 59,
   "metadata": {},
   "outputs": [],
   "source": [
    "del descr"
   ]
  },
  {
   "cell_type": "markdown",
   "metadata": {},
   "source": [
    "## CNN Models"
   ]
  },
  {
   "cell_type": "code",
   "execution_count": 17,
   "metadata": {},
   "outputs": [],
   "source": [
    "logs_base_dir = \"/tf/notebooks/final-project/Classification/logs\""
   ]
  },
  {
   "cell_type": "code",
   "execution_count": 19,
   "metadata": {},
   "outputs": [],
   "source": [
    "cnn_model_params = {\n",
    "    'model': 'cnn',\n",
    "    'learning_rate': 0.001,\n",
    "    'layers': 2,\n",
    "    'epochs': 1000,\n",
    "    'batch_size': 128,\n",
    "    'filters': 64,\n",
    "    'dropout_rate': 0.2,\n",
    "    'embedding_dim': 100,\n",
    "    'kernel_size': 3,\n",
    "    'pool_size': 1,\n",
    "    'max_num_words': TOP_K,\n",
    "    'use_pretrained_embedding': False,\n",
    "    'is_embedding_trainable': True,\n",
    "    'glove_dir': '/tf/notebooks/final-project/data'\n",
    "}"
   ]
  },
  {
   "cell_type": "code",
   "execution_count": 20,
   "metadata": {},
   "outputs": [],
   "source": [
    "# train_shuffle = np.random.permutation(np.arange(len(train_target_chunk)))\n",
    "# train_vec = train_vec[train_shuffle]\n",
    "# train_target_chunk = np.array(train_target_chunk, dtype=int)[train_shuffle]"
   ]
  },
  {
   "cell_type": "code",
   "execution_count": 21,
   "metadata": {},
   "outputs": [],
   "source": [
    "#len(train_target_chunk), len(train_target)"
   ]
  },
  {
   "cell_type": "code",
   "execution_count": 22,
   "metadata": {},
   "outputs": [
    {
     "data": {
      "text/plain": [
       "40496"
      ]
     },
     "execution_count": 22,
     "metadata": {},
     "output_type": "execute_result"
    }
   ],
   "source": [
    "len(word_index)"
   ]
  },
  {
   "cell_type": "code",
   "execution_count": 23,
   "metadata": {},
   "outputs": [
    {
     "name": "stdout",
     "output_type": "stream",
     "text": [
      "WARNING:tensorflow:From /usr/local/lib/python3.5/dist-packages/tensorflow/python/ops/resource_variable_ops.py:435: colocate_with (from tensorflow.python.framework.ops) is deprecated and will be removed in a future version.\n",
      "Instructions for updating:\n",
      "Colocations handled automatically by placer.\n",
      "WARNING:tensorflow:From /usr/local/lib/python3.5/dist-packages/tensorflow/python/keras/layers/core.py:143: calling dropout (from tensorflow.python.ops.nn_ops) with keep_prob is deprecated and will be removed in a future version.\n",
      "Instructions for updating:\n",
      "Please use `rate` instead of `keep_prob`. Rate should be set to `rate = 1 - keep_prob`.\n",
      "Train on 3244 samples, validate on 1080 samples\n",
      "WARNING:tensorflow:From /usr/local/lib/python3.5/dist-packages/tensorflow/python/ops/math_ops.py:3066: to_int32 (from tensorflow.python.ops.math_ops) is deprecated and will be removed in a future version.\n",
      "Instructions for updating:\n",
      "Use tf.cast instead.\n",
      "WARNING:tensorflow:From /usr/local/lib/python3.5/dist-packages/tensorflow/python/ops/math_grad.py:102: div (from tensorflow.python.ops.math_ops) is deprecated and will be removed in a future version.\n",
      "Instructions for updating:\n",
      "Deprecated in favor of operator or tf.math.divide.\n",
      "Epoch 1/1000\n",
      " - 10s - loss: 0.6924 - acc: 0.5188 - val_loss: 0.6905 - val_acc: 0.5037\n",
      "Epoch 2/1000\n",
      " - 10s - loss: 0.6868 - acc: 0.5684 - val_loss: 0.6742 - val_acc: 0.6713\n",
      "Epoch 3/1000\n",
      " - 10s - loss: 0.6576 - acc: 0.6421 - val_loss: 0.6152 - val_acc: 0.6574\n",
      "Epoch 4/1000\n",
      " - 10s - loss: 0.6139 - acc: 0.6625 - val_loss: 0.6004 - val_acc: 0.6870\n",
      "Epoch 5/1000\n",
      " - 10s - loss: 0.5854 - acc: 0.7016 - val_loss: 0.5898 - val_acc: 0.6907\n",
      "Epoch 6/1000\n",
      " - 9s - loss: 0.5428 - acc: 0.7361 - val_loss: 0.5877 - val_acc: 0.6685\n",
      "Epoch 7/1000\n",
      " - 9s - loss: 0.4610 - acc: 0.7956 - val_loss: 0.5998 - val_acc: 0.6963\n",
      "Epoch 8/1000\n",
      " - 10s - loss: 0.3451 - acc: 0.8597 - val_loss: 0.6615 - val_acc: 0.6630\n",
      "Validation accuracy: 0.6629629731178284, loss: 0.6615114340075741\n"
     ]
    }
   ],
   "source": [
    "reload(train_model)\n",
    "history, train_pred_probs, val_pred_probs = train_model.train_model(((train_vec, train_target), (val_vec, val_target)), word_index, logs_base_dir, **cnn_model_params)"
   ]
  },
  {
   "cell_type": "code",
   "execution_count": 61,
   "metadata": {},
   "outputs": [],
   "source": [
    "sepcnn_model_params = {\n",
    "    'model': 'sepcnn',\n",
    "    'blocks': 2,\n",
    "    'learning_rate': 0.001,\n",
    "    'epochs': 1000,\n",
    "    'batch_size': 128,\n",
    "    'filters': 64,\n",
    "    'dropout_rate': 0.2,\n",
    "    'embedding_dim': 200,\n",
    "    'kernel_size': 3,\n",
    "    'pool_size': 3,\n",
    "    'max_num_words': TOP_K,\n",
    "    'use_pretrained_embedding': True,\n",
    "    'is_embedding_trainable': True,\n",
    "    'glove_dir': '/tf/notebooks/final-project/data'\n",
    "}"
   ]
  },
  {
   "cell_type": "code",
   "execution_count": 62,
   "metadata": {},
   "outputs": [
    {
     "name": "stdout",
     "output_type": "stream",
     "text": [
      "Found 400000 word vectors.\n",
      "It took 16.7 seconds\n",
      "Preparing embedding matrix.\n",
      "Embedding matrix has been built.\n",
      "Its shape is (20000, 200).\n",
      "It took 0.0 seconds\n",
      "Train on 3244 samples, validate on 1080 samples\n",
      "Epoch 1/1000\n",
      " - 10s - loss: 0.6933 - acc: 0.5034 - val_loss: 0.6932 - val_acc: 0.5000\n",
      "Epoch 2/1000\n",
      " - 9s - loss: 0.6931 - acc: 0.5028 - val_loss: 0.6932 - val_acc: 0.5000\n",
      "Epoch 3/1000\n",
      " - 9s - loss: 0.6932 - acc: 0.4988 - val_loss: 0.6932 - val_acc: 0.5000\n",
      "Epoch 4/1000\n",
      " - 10s - loss: 0.6933 - acc: 0.5037 - val_loss: 0.6932 - val_acc: 0.5000\n",
      "Validation accuracy: 0.5, loss: 0.6931798842218188\n"
     ]
    }
   ],
   "source": [
    "reload(train_model)\n",
    "history_sep, train_pred_probs_sep, val_pred_probs_sep = train_model.train_model(((train_vec, train_target), (val_vec, val_target)), word_index, logs_base_dir, **sepcnn_model_params)"
   ]
  },
  {
   "cell_type": "markdown",
   "metadata": {},
   "source": [
    "### Clean up space/save outputs"
   ]
  },
  {
   "cell_type": "code",
   "execution_count": 24,
   "metadata": {},
   "outputs": [],
   "source": [
    "del train, train_ids, train_pred_probs, train_target, train_vec"
   ]
  },
  {
   "cell_type": "code",
   "execution_count": 25,
   "metadata": {},
   "outputs": [],
   "source": [
    "probs_path = '/tf/notebooks/final-project/Classification/data/cnn/gender'"
   ]
  },
  {
   "cell_type": "code",
   "execution_count": 26,
   "metadata": {},
   "outputs": [],
   "source": [
    "with open(os.path.join(probs_path, 'val_pred_probs'), 'wb') as fp:\n",
    "    pickle.dump(val_pred_probs, fp)"
   ]
  },
  {
   "cell_type": "code",
   "execution_count": 27,
   "metadata": {},
   "outputs": [],
   "source": [
    "with open(os.path.join(probs_path, 'val_pred_probs'), 'rb') as fp:\n",
    "    val_pred_probs = pickle.load(fp)"
   ]
  },
  {
   "cell_type": "markdown",
   "metadata": {},
   "source": [
    "## Model evaluation"
   ]
  },
  {
   "cell_type": "code",
   "execution_count": 28,
   "metadata": {},
   "outputs": [
    {
     "data": {
      "text/plain": [
       "716"
      ]
     },
     "execution_count": 28,
     "metadata": {},
     "output_type": "execute_result"
    }
   ],
   "source": [
    "val_preds = val_pred_probs > 0.5\n",
    "np.sum(val_preds.flatten()==val_target)"
   ]
  },
  {
   "cell_type": "code",
   "execution_count": 29,
   "metadata": {},
   "outputs": [
    {
     "data": {
      "text/plain": [
       "((1080, 1), 1080)"
      ]
     },
     "execution_count": 29,
     "metadata": {},
     "output_type": "execute_result"
    }
   ],
   "source": [
    "val_preds.shape, len(val_target)"
   ]
  },
  {
   "cell_type": "code",
   "execution_count": 30,
   "metadata": {},
   "outputs": [
    {
     "name": "stdout",
     "output_type": "stream",
     "text": [
      "Confusion matrix, without normalization\n",
      "[[366 174]\n",
      " [190 350]]\n"
     ]
    },
    {
     "data": {
      "text/plain": [
       "<matplotlib.axes._subplots.AxesSubplot at 0x7f64afbc6b70>"
      ]
     },
     "execution_count": 30,
     "metadata": {},
     "output_type": "execute_result"
    },
    {
     "data": {
      "image/png": "[encoded data removed]",
      "text/plain": [
       "<Figure size 432x288 with 2 Axes>"
      ]
     },
     "metadata": {
      "needs_background": "light"
     },
     "output_type": "display_data"
    }
   ],
   "source": [
    "reload(explore_data)\n",
    "# specify class names in 0 - 1 order\n",
    "classes = ['Male', 'Female']\n",
    "explore_data.plot_confusion_matrix(val_target, val_preds, classes, normalize=True)"
   ]
  },
  {
   "cell_type": "code",
   "execution_count": 31,
   "metadata": {
    "scrolled": false
   },
   "outputs": [
    {
     "data": {
      "image/png": "[encoded data removed]",
      "text/plain": [
       "<Figure size 720x720 with 2 Axes>"
      ]
     },
     "metadata": {
      "needs_background": "light"
     },
     "output_type": "display_data"
    }
   ],
   "source": [
    "reload(explore_data)\n",
    "explore_data.plot_calibration_curve(val_target, val_pred_probs, 'Gender')"
   ]
  },
  {
   "cell_type": "code",
   "execution_count": 32,
   "metadata": {},
   "outputs": [
    {
     "name": "stderr",
     "output_type": "stream",
     "text": [
      "/usr/local/lib/python3.5/dist-packages/numpy/lib/arraysetops.py:569: FutureWarning: elementwise comparison failed; returning scalar instead, but in the future will perform elementwise comparison\n",
      "  mask |= (ar1 == a)\n"
     ]
    },
    {
     "data": {
      "text/plain": [
       "(1080, 16)"
      ]
     },
     "execution_count": 32,
     "metadata": {},
     "output_type": "execute_result"
    }
   ],
   "source": [
    "descr_df = pd.read_csv('/tf/notebooks/final-project/data/QA/full_descr.txt', sep=\"|\", index_col=0)\n",
    "descr_df = descr_df.loc[np.asarray(val_ids, dtype=int)]\n",
    "descr_df.shape"
   ]
  },
  {
   "cell_type": "code",
   "execution_count": 33,
   "metadata": {
    "scrolled": true
   },
   "outputs": [
    {
     "name": "stdout",
     "output_type": "stream",
     "text": [
      "Validation sample means:\n",
      "      Gender_F  Ethinicity_NW     AvgAge   Party_D  Chamber_H  AvgWordCount\n",
      "base       0.5       0.056481  52.249074  0.494444   0.710185    343.353704\n"
     ]
    },
    {
     "data": {
      "text/html": [
       "<div>\n",
       "<style scoped>\n",
       "    .dataframe tbody tr th:only-of-type {\n",
       "        vertical-align: middle;\n",
       "    }\n",
       "\n",
       "    .dataframe tbody tr th {\n",
       "        vertical-align: top;\n",
       "    }\n",
       "\n",
       "    .dataframe thead th {\n",
       "        text-align: right;\n",
       "    }\n",
       "</style>\n",
       "<table border=\"1\" class=\"dataframe\">\n",
       "  <thead>\n",
       "    <tr style=\"text-align: right;\">\n",
       "      <th></th>\n",
       "      <th>Gender_F</th>\n",
       "      <th>Ethinicity_NW</th>\n",
       "      <th>AvgAge</th>\n",
       "      <th>Party_D</th>\n",
       "      <th>Chamber_H</th>\n",
       "      <th>AvgWordCount</th>\n",
       "    </tr>\n",
       "  </thead>\n",
       "  <tbody>\n",
       "    <tr>\n",
       "      <th>0.4</th>\n",
       "      <td>0.61</td>\n",
       "      <td>0.97</td>\n",
       "      <td>1.03</td>\n",
       "      <td>0.90</td>\n",
       "      <td>0.63</td>\n",
       "      <td>0.88</td>\n",
       "    </tr>\n",
       "    <tr>\n",
       "      <th>0.6</th>\n",
       "      <td>1.02</td>\n",
       "      <td>0.78</td>\n",
       "      <td>0.98</td>\n",
       "      <td>0.93</td>\n",
       "      <td>1.18</td>\n",
       "      <td>1.29</td>\n",
       "    </tr>\n",
       "    <tr>\n",
       "      <th>1.0</th>\n",
       "      <td>1.40</td>\n",
       "      <td>1.13</td>\n",
       "      <td>0.98</td>\n",
       "      <td>1.14</td>\n",
       "      <td>1.31</td>\n",
       "      <td>1.01</td>\n",
       "    </tr>\n",
       "  </tbody>\n",
       "</table>\n",
       "</div>"
      ],
      "text/plain": [
       "     Gender_F  Ethinicity_NW  AvgAge  Party_D  Chamber_H  AvgWordCount\n",
       "0.4      0.61           0.97    1.03     0.90       0.63          0.88\n",
       "0.6      1.02           0.78    0.98     0.93       1.18          1.29\n",
       "1.0      1.40           1.13    0.98     1.14       1.31          1.01"
      ]
     },
     "execution_count": 33,
     "metadata": {},
     "output_type": "execute_result"
    }
   ],
   "source": [
    "reload(explore_data)\n",
    "# checking the ratios of demo variables in low-mid-high probability buckets\n",
    "explore_data.check_bin_probs_distr(val_pred_probs, \n",
    "                                   val_ids, \n",
    "                                   descr_df)"
   ]
  },
  {
   "cell_type": "code",
   "execution_count": 34,
   "metadata": {},
   "outputs": [
    {
     "name": "stdout",
     "output_type": "stream",
     "text": [
      "\n",
      "Top 10 ngrams by differentiating score:\n",
      "senator \t 37.6\n",
      "the senator \t 35.4\n",
      "senator from \t 34.7\n",
      "chairman rise \t 25.3\n",
      "mr president \t 23.6\n",
      "women \t 21.3\n",
      "mr chairman \t 20.2\n",
      "mr speaker \t 20.1\n",
      "rise in \t 19.5\n",
      "the distinguished \t 18.6\n"
     ]
    },
    {
     "data": {
      "text/html": [
       "<div>\n",
       "<style scoped>\n",
       "    .dataframe tbody tr th:only-of-type {\n",
       "        vertical-align: middle;\n",
       "    }\n",
       "\n",
       "    .dataframe tbody tr th {\n",
       "        vertical-align: top;\n",
       "    }\n",
       "\n",
       "    .dataframe thead th {\n",
       "        text-align: right;\n",
       "    }\n",
       "</style>\n",
       "<table border=\"1\" class=\"dataframe\">\n",
       "  <thead>\n",
       "    <tr style=\"text-align: right;\">\n",
       "      <th>bin</th>\n",
       "      <th>1</th>\n",
       "      <th>2</th>\n",
       "      <th>3</th>\n",
       "    </tr>\n",
       "  </thead>\n",
       "  <tbody>\n",
       "    <tr>\n",
       "      <th>chairman rise</th>\n",
       "      <td>2.0</td>\n",
       "      <td>5.0</td>\n",
       "      <td>46.0</td>\n",
       "    </tr>\n",
       "    <tr>\n",
       "      <th>mr chairman</th>\n",
       "      <td>61.0</td>\n",
       "      <td>42.0</td>\n",
       "      <td>187.0</td>\n",
       "    </tr>\n",
       "    <tr>\n",
       "      <th>mr president</th>\n",
       "      <td>360.0</td>\n",
       "      <td>71.0</td>\n",
       "      <td>46.0</td>\n",
       "    </tr>\n",
       "    <tr>\n",
       "      <th>mr speaker</th>\n",
       "      <td>176.0</td>\n",
       "      <td>143.0</td>\n",
       "      <td>312.0</td>\n",
       "    </tr>\n",
       "    <tr>\n",
       "      <th>rise in</th>\n",
       "      <td>16.0</td>\n",
       "      <td>19.0</td>\n",
       "      <td>72.0</td>\n",
       "    </tr>\n",
       "    <tr>\n",
       "      <th>senator</th>\n",
       "      <td>337.0</td>\n",
       "      <td>31.0</td>\n",
       "      <td>33.0</td>\n",
       "    </tr>\n",
       "    <tr>\n",
       "      <th>senator from</th>\n",
       "      <td>171.0</td>\n",
       "      <td>7.0</td>\n",
       "      <td>3.0</td>\n",
       "    </tr>\n",
       "    <tr>\n",
       "      <th>the distinguished</th>\n",
       "      <td>58.0</td>\n",
       "      <td>5.0</td>\n",
       "      <td>7.0</td>\n",
       "    </tr>\n",
       "    <tr>\n",
       "      <th>the senator</th>\n",
       "      <td>177.0</td>\n",
       "      <td>6.0</td>\n",
       "      <td>6.0</td>\n",
       "    </tr>\n",
       "    <tr>\n",
       "      <th>women</th>\n",
       "      <td>8.0</td>\n",
       "      <td>10.0</td>\n",
       "      <td>175.0</td>\n",
       "    </tr>\n",
       "  </tbody>\n",
       "</table>\n",
       "</div>"
      ],
      "text/plain": [
       "bin                    1      2      3\n",
       "chairman rise        2.0    5.0   46.0\n",
       "mr chairman         61.0   42.0  187.0\n",
       "mr president       360.0   71.0   46.0\n",
       "mr speaker         176.0  143.0  312.0\n",
       "rise in             16.0   19.0   72.0\n",
       "senator            337.0   31.0   33.0\n",
       "senator from       171.0    7.0    3.0\n",
       "the distinguished   58.0    5.0    7.0\n",
       "the senator        177.0    6.0    6.0\n",
       "women                8.0   10.0  175.0"
      ]
     },
     "execution_count": 34,
     "metadata": {},
     "output_type": "execute_result"
    }
   ],
   "source": [
    "reload(explore_data)\n",
    "explore_data.compare_ngrams(val, val_pred_probs, ngram_range=(1, 2))"
   ]
  },
  {
   "cell_type": "code",
   "execution_count": 35,
   "metadata": {
    "scrolled": false
   },
   "outputs": [
    {
     "name": "stdout",
     "output_type": "stream",
     "text": [
      "\n",
      "True negative (Predicted prob: 0.09):\n",
      "\n",
      "date                   19810718\n",
      "char_count                  206\n",
      "word_count                   35\n",
      "speakerid           9.71069e+07\n",
      "Party                         D\n",
      "Congress                     97\n",
      "Chamber                       S\n",
      "State                        WI\n",
      "Ethnicity                     W\n",
      "Age                          67\n",
      "Age_lt_med                    0\n",
      "NonWhite                      0\n",
      "Female                        0\n",
      "speaker            Mr. PROXMIRE\n",
      "Full Name     PROXMIRE, WILLIAM\n",
      "match                     exact\n",
      "Name: 970059307, dtype: object\n",
      "\n",
      " Let us take this alleged relation to exports. An American citizen is living in Tokyo and working for Toyota actively promoting the export of Toyotas to the United States. Would he qualify for the exclusion?\n",
      "--------------------\n",
      "\n",
      "False positive (Predicted prob: 0.95):\n",
      "\n",
      "date                     19820317\n",
      "char_count                    308\n",
      "word_count                     50\n",
      "speakerid             9.71089e+07\n",
      "Party                           R\n",
      "Congress                       97\n",
      "Chamber                         H\n",
      "State                          CA\n",
      "Ethnicity                       W\n",
      "Age                            53\n",
      "Age_lt_med                      0\n",
      "NonWhite                        0\n",
      "Female                          0\n",
      "speaker            Mr. DANNEMEYER\n",
      "Full Name     DANNEMEYER, WILLIAM\n",
      "match                       fuzzy\n",
      "Name: 970147850, dtype: object\n",
      "\n",
      " Mr. Speaker. as the debate over the safety of Washington National Airport wages on. I would like to insert the following editorial reply into the RECORD for the edification of my colleagues. This thoughtprovoking article is from the Washington Posts March 13. 1982 issue: [The Washington Post. Mar. 13. 1982]\n",
      "--------------------\n",
      "\n",
      "True positive (Predicted prob: 0.97):\n",
      "\n",
      "date                     19810709\n",
      "char_count                    533\n",
      "word_count                    100\n",
      "speakerid             9.71115e+07\n",
      "Party                           D\n",
      "Congress                       97\n",
      "Chamber                         H\n",
      "State                          CO\n",
      "Ethnicity                       W\n",
      "Age                            42\n",
      "Age_lt_med                      1\n",
      "NonWhite                        0\n",
      "Female                          1\n",
      "speaker            Mrs. SCHROEDER\n",
      "Full Name     SCHROEDER, PATRICIA\n",
      "match                       exact\n",
      "Name: 970052720, dtype: object\n",
      "\n",
      " Mr. Chairman. If the gentleman will yield further. I have been on this committee for 8 years and every year we have had a hold. It Is not like we just discovered weapons systems this year. We have had very complex weapons systems coming on every year. Part of the problem has been there is so much of the bureaucracy over there getting In our way that it is taking us longer and longer to get them from paper through production. so In a way we have got scrolls and everything else that are 40somefeet long showing all those problems.\n",
      "--------------------\n",
      "\n",
      "False negative (Predicted prob: 0.04):\n",
      "\n",
      "date                     19820812\n",
      "char_count                    545\n",
      "word_count                     92\n",
      "speakerid             9.71115e+07\n",
      "Party                           D\n",
      "Congress                       97\n",
      "Chamber                         H\n",
      "State                          CO\n",
      "Ethnicity                       W\n",
      "Age                            42\n",
      "Age_lt_med                      1\n",
      "NonWhite                        0\n",
      "Female                          1\n",
      "speaker            Mrs. SCHROEDER\n",
      "Full Name     SCHROEDER, PATRICIA\n",
      "match                       exact\n",
      "Name: 970222883, dtype: object\n",
      "\n",
      " Well. further reserving the right to object. the way I understand the Senator from Alaskas amendment. there are 30 calendar days to veto the pay increase once the President recommends it. The problem we could get into is. if his recommendations come over when we are inot in session. since the amendment says \"calendar days\" and not \"legislative days.\" the gentlemans position that the pay raise would be automatic is right. The pay raise would be automatic if there are no legislative days during that 30day period. So the gentleman is correct.\n",
      "--------------------\n"
     ]
    }
   ],
   "source": [
    "reload(explore_data)\n",
    "explore_data.print_mispredictions(val_target, val_pred_probs, val, val_ids, descr_df)"
   ]
  },
  {
   "cell_type": "markdown",
   "metadata": {},
   "source": [
    "#### Run the following test on a random subset of the validation sample"
   ]
  },
  {
   "cell_type": "code",
   "execution_count": 37,
   "metadata": {},
   "outputs": [
    {
     "data": {
      "text/plain": [
       "0.3037037037037037"
      ]
     },
     "execution_count": 37,
     "metadata": {},
     "output_type": "execute_result"
    }
   ],
   "source": [
    "val_random = np.random.choice(a=[0,1], size=len(val_target), p = [0.7,0.3])\n",
    "val_random.sum()/val_random.shape[0]"
   ]
  },
  {
   "cell_type": "code",
   "execution_count": 38,
   "metadata": {},
   "outputs": [
    {
     "data": {
      "text/plain": [
       "(328, 328, 328)"
      ]
     },
     "execution_count": 38,
     "metadata": {},
     "output_type": "execute_result"
    }
   ],
   "source": [
    "val_sample, val_ids_sample, val_pred_probs_sample = [], [], []\n",
    "for i in range(len(val_ids)):\n",
    "    if val_random[i] == 1:\n",
    "        val_sample.append(val[i])\n",
    "        val_ids_sample.append(val_ids[i])\n",
    "        val_pred_probs_sample.append(val_pred_probs[i])\n",
    "len(val_sample), len(val_ids_sample), len(val_pred_probs_sample)"
   ]
  },
  {
   "cell_type": "code",
   "execution_count": 39,
   "metadata": {},
   "outputs": [
    {
     "name": "stdout",
     "output_type": "stream",
     "text": [
      "\n",
      "In 0.4 bin top 10 ngrams:\n",
      "\n",
      "the senator from\n",
      "the united states\n",
      "would like to\n",
      "the committee on\n",
      "the gentleman from\n",
      "in order to\n",
      "thank the gentleman\n",
      "members of the\n",
      "one of the\n",
      "in this country\n",
      "--------------------\n",
      "\n",
      "In 0.6 bin top 10 ngrams:\n",
      "\n",
      "the united states\n",
      "would like to\n",
      "the soviet union\n",
      "the gentleman from\n",
      "the chairman of\n",
      "of the senate\n",
      "it is not\n",
      "chairman of the\n",
      "because of the\n",
      "the number of\n",
      "--------------------\n",
      "\n",
      "In 1.0 bin top 10 ngrams:\n",
      "\n",
      "the united states\n",
      "would like to\n",
      "the gentleman from\n",
      "the american people\n",
      "my colleagues to\n",
      "the federal government\n",
      "the social security\n",
      "percent of the\n",
      "thank the gentleman\n",
      "members of the\n",
      "--------------------\n"
     ]
    }
   ],
   "source": [
    "reload(explore_data)\n",
    "explore_data.ngrams_by_bin(val_sample, val_pred_probs_sample)"
   ]
  },
  {
   "cell_type": "code",
   "execution_count": 36,
   "metadata": {},
   "outputs": [
    {
     "name": "stdout",
     "output_type": "stream",
     "text": [
      "\n",
      "Top 10 ngrams by differentiating score:\n",
      "the senator from \t 29.0\n",
      "mr chairman rise \t 25.3\n",
      "mr chairman rise in \t 23.7\n",
      "chairman rise in \t 23.7\n",
      "chairman rise in support \t 16.7\n",
      "rise in support \t 16.4\n",
      "rise in support of \t 15.7\n",
      "in support of \t 15.0\n",
      "my colleagues to \t 12.9\n",
      "mr president ask \t 12.6\n"
     ]
    },
    {
     "data": {
      "text/html": [
       "<div>\n",
       "<style scoped>\n",
       "    .dataframe tbody tr th:only-of-type {\n",
       "        vertical-align: middle;\n",
       "    }\n",
       "\n",
       "    .dataframe tbody tr th {\n",
       "        vertical-align: top;\n",
       "    }\n",
       "\n",
       "    .dataframe thead th {\n",
       "        text-align: right;\n",
       "    }\n",
       "</style>\n",
       "<table border=\"1\" class=\"dataframe\">\n",
       "  <thead>\n",
       "    <tr style=\"text-align: right;\">\n",
       "      <th>bin</th>\n",
       "      <th>1</th>\n",
       "      <th>2</th>\n",
       "      <th>3</th>\n",
       "    </tr>\n",
       "  </thead>\n",
       "  <tbody>\n",
       "    <tr>\n",
       "      <th>chairman rise in</th>\n",
       "      <td>1.0</td>\n",
       "      <td>5.0</td>\n",
       "      <td>42.0</td>\n",
       "    </tr>\n",
       "    <tr>\n",
       "      <th>chairman rise in support</th>\n",
       "      <td>1.0</td>\n",
       "      <td>1.0</td>\n",
       "      <td>26.0</td>\n",
       "    </tr>\n",
       "    <tr>\n",
       "      <th>in support of</th>\n",
       "      <td>19.0</td>\n",
       "      <td>12.0</td>\n",
       "      <td>65.0</td>\n",
       "    </tr>\n",
       "    <tr>\n",
       "      <th>mr chairman rise</th>\n",
       "      <td>2.0</td>\n",
       "      <td>5.0</td>\n",
       "      <td>46.0</td>\n",
       "    </tr>\n",
       "    <tr>\n",
       "      <th>mr chairman rise in</th>\n",
       "      <td>1.0</td>\n",
       "      <td>5.0</td>\n",
       "      <td>42.0</td>\n",
       "    </tr>\n",
       "    <tr>\n",
       "      <th>mr president ask</th>\n",
       "      <td>34.0</td>\n",
       "      <td>2.0</td>\n",
       "      <td>7.0</td>\n",
       "    </tr>\n",
       "    <tr>\n",
       "      <th>my colleagues to</th>\n",
       "      <td>17.0</td>\n",
       "      <td>14.0</td>\n",
       "      <td>59.0</td>\n",
       "    </tr>\n",
       "    <tr>\n",
       "      <th>rise in support</th>\n",
       "      <td>11.0</td>\n",
       "      <td>6.0</td>\n",
       "      <td>49.0</td>\n",
       "    </tr>\n",
       "    <tr>\n",
       "      <th>rise in support of</th>\n",
       "      <td>11.0</td>\n",
       "      <td>6.0</td>\n",
       "      <td>48.0</td>\n",
       "    </tr>\n",
       "    <tr>\n",
       "      <th>the senator from</th>\n",
       "      <td>133.0</td>\n",
       "      <td>3.0</td>\n",
       "      <td>2.0</td>\n",
       "    </tr>\n",
       "  </tbody>\n",
       "</table>\n",
       "</div>"
      ],
      "text/plain": [
       "bin                           1     2     3\n",
       "chairman rise in            1.0   5.0  42.0\n",
       "chairman rise in support    1.0   1.0  26.0\n",
       "in support of              19.0  12.0  65.0\n",
       "mr chairman rise            2.0   5.0  46.0\n",
       "mr chairman rise in         1.0   5.0  42.0\n",
       "mr president ask           34.0   2.0   7.0\n",
       "my colleagues to           17.0  14.0  59.0\n",
       "rise in support            11.0   6.0  49.0\n",
       "rise in support of         11.0   6.0  48.0\n",
       "the senator from          133.0   3.0   2.0"
      ]
     },
     "execution_count": 36,
     "metadata": {},
     "output_type": "execute_result"
    }
   ],
   "source": [
    "reload(explore_data)\n",
    "explore_data.compare_ngrams(val, val_pred_probs, ngram_range=(3, 4))"
   ]
  },
  {
   "cell_type": "code",
   "execution_count": null,
   "metadata": {},
   "outputs": [],
   "source": []
  },
  {
   "cell_type": "code",
   "execution_count": null,
   "metadata": {},
   "outputs": [],
   "source": []
  }
 ],
 "metadata": {
  "kernelspec": {
   "display_name": "Python 3",
   "language": "python",
   "name": "python3"
  },
  "language_info": {
   "codemirror_mode": {
    "name": "ipython",
    "version": 3
   },
   "file_extension": ".py",
   "mimetype": "text/x-python",
   "name": "python",
   "nbconvert_exporter": "python",
   "pygments_lexer": "ipython3",
   "version": "3.5.2"
  }
 },
 "nbformat": 4,
 "nbformat_minor": 2
}
