{
 "cells": [
  {
   "cell_type": "code",
   "execution_count": 1,
   "metadata": {},
   "outputs": [
    {
     "data": {
      "text/html": [
       "<style>.container { width:100% !important; }</style>"
      ],
      "text/plain": [
       "<IPython.core.display.HTML object>"
      ]
     },
     "metadata": {},
     "output_type": "display_data"
    }
   ],
   "source": [
    "# increase cell width\n",
    "from IPython.core.display import display, HTML\n",
    "display(HTML(\"<style>.container { width:100% !important; }</style>\"))"
   ]
  },
  {
   "cell_type": "markdown",
   "metadata": {},
   "source": [
    "## TODO:\n",
    "\n",
    "1. Data: \n",
    "    - **done** create script to combine all congresses\n",
    "    - **done** create a party and chamber lists for addtional support\n",
    "    - **done** create congress number list\n",
    "\n",
    "2. Train/Val/Test split:\n",
    "    -  **done** Put into a separate module\n",
    "    -  **done** Add an option to select a party or chapter\n",
    "    - **memory error** Split train/val/test by congress to avoid time bias\n",
    "    - Play with hyperparameters:\n",
    "        - word_count\n",
    "        - random_splits: allocate more to training?\n",
    "        - increase balance ratio?\n",
    "\n",
    "3. EDA:\n",
    "    - Targets by party: should we run gender/ethnicity on Ds only?\n",
    "\n",
    "4. Vectorization:\n",
    "    - Tune hyper parameters:\n",
    "        - ngram_range: 1, 3\n",
    "        - change vocabulary size\n",
    "    - Add outputs:\n",
    "        - **done** stop words\n",
    "        - **done** lowest scoring words\n",
    "        - **done** top n 5 by congress\n",
    "\n",
    "5. Ngram model:\n",
    "    - Tune hyper parameters:\n",
    "        - use GridSearch?\n",
    "        - activation function\n",
    "        - learning rate\n",
    "        - batch size\n",
    "        - layers\n",
    "        - units\n",
    "        - dropout rate\n",
    "        - any other regularization (there is significant overfit)\n",
    "    - Run model:\n",
    "        - for each congress\n",
    "        - add one congress at a time\n",
    "           - hypothesis: is accuracy improving due to more data or more diversity?\n",
    "        - run only for Ds?\n",
    "    - Outputs:\n",
    "        - **done** how to output predicted probablity?\n",
    "    - Model validation:\n",
    "        - **done** build a separate function so it can be used with different models:\n",
    "            - **done** input: predicted probability; actual labels; data (val or test?)\n",
    "        - **done** chart distribution of the predicted probability \n",
    "        - **done** bin predicted probabilities into:\n",
    "            - **done** 0:0.4, 0.4:0.6, 0.6:1?\n",
    "            - **done** accuracy in each bin\n",
    "            - **done** crosstab them with various demos (party, chamber, age, year)\n",
    "            - **done** get 1,2,3-grams for each bin\n",
    "        - **done** output examples of speeches with scores close to 1 and close to 0 that are mispredicted vs predicted correctly\n",
    "        - Accuracy/loss by congress\n",
    "        - Accuracy/loss as congresses added\n",
    "            - save them and plot them\n",
    "\n",
    "### Long term:\n",
    "\n",
    "1. classificaiton models:\n",
    "    - ngram vanilla NN\n",
    "    - CNN\n",
    "    - sentence embeddings\n",
    "    - some other models\n",
    "    - does it help to combine the results ensemble? if they make different mistakes, it should.\n",
    "2. Create a topics model:\n",
    "    - on raw data before classification\n",
    "    - on groups based on predicted probability bings:\n",
    "       - can we explain classification by topics that they bring up?\n",
    "       - or is it just based on language used? here we would check 1,2,3-ngrams\n",
    "3. Age:\n",
    "    - aging congress: how does it affect topics that people bring up?\n",
    "4. Speaker-level analysis:\n",
    "    - cluster speakers (k-means?) by their average predicted scores in classification models?\n",
    "        - for example, a white male that is closer to women by the way they use speech? are they liberals?"
   ]
  },
  {
   "cell_type": "markdown",
   "metadata": {},
   "source": [
    "Inspiration for code:\n",
    "\n",
    "- https://developers.google.com/machine-learning/guides/text-classification/\n",
    "- https://github.com/google/eng-edu/blob/master/ml/guides/text_classification/load_data.py"
   ]
  },
  {
   "cell_type": "code",
   "execution_count": 2,
   "metadata": {},
   "outputs": [],
   "source": [
    "from __future__ import absolute_import\n",
    "from __future__ import division\n",
    "from __future__ import print_function\n",
    "\n",
    "import os\n",
    "import random\n",
    "import time\n",
    "import pickle\n",
    "\n",
    "import numpy as np\n",
    "import pandas as pd\n",
    "\n",
    "from importlib import reload\n",
    "\n",
    "import scipy.sparse"
   ]
  },
  {
   "cell_type": "code",
   "execution_count": 3,
   "metadata": {},
   "outputs": [],
   "source": [
    "from helpers import load_data\n",
    "from helpers import explore_data\n",
    "from helpers import preprocess_data\n",
    "from helpers import train_model"
   ]
  },
  {
   "cell_type": "markdown",
   "metadata": {},
   "source": [
    "## Load the data"
   ]
  },
  {
   "cell_type": "code",
   "execution_count": 4,
   "metadata": {},
   "outputs": [
    {
     "data": {
      "text/plain": [
       "'/tf/notebooks/final-project/Classification'"
      ]
     },
     "execution_count": 4,
     "metadata": {},
     "output_type": "execute_result"
    }
   ],
   "source": [
    "pwd"
   ]
  },
  {
   "cell_type": "code",
   "execution_count": 5,
   "metadata": {},
   "outputs": [
    {
     "name": "stdout",
     "output_type": "stream",
     "text": [
      "speech_id|speech\r\n",
      "970000001|The Senate vill please come to order. The Chaplain will offer the prayer. The Chaplain. the Reverend Edward L. R. Elson. D.D.. offered the following prayer: PRAYER God of our fathers and our God. who has made and preserved us a nation. we thank Thee for Thy care over us from generation to generation. and for the new era which unfolds before us. Let Thy spirit descend upon us with all Its cleansing. healing. and creative power. Make usnew persons for new times in a land newborn in spirit. May the solemn induction of the new Members of this body be a renewal of the vocatinal vows of all others. In the deliberations of this new Congress keep our motives pure. our vision clear. our patriotism undefiled. our speech chaste. our judgments fair. and our consciences unbetrayed. Help us to develop work patterns which sustain the soul. nourish the mind. and strengthen the will. And give us grace to make time for the family. for home. and for worship. What we pray for this body we pray for all others in the service of the Government. Send us each day to our tasks to do Justly.to love mercy. and to walk humbly with our God. Hear us as we pray together the prayerthe Master taught us\"Our Father who art in heaven. hallowed be Thy name. Thy kingdom come. Thy will be done in Earth. as it is in heaven. Give us this day our daily bread. And forgive us our trespasses as we forgive those who trespass against us. And lead us not into temptation. but deliver us from evil* For Thine is the kingdom. and the power. and the glory forever.\" Amen.\r\n"
     ]
    }
   ],
   "source": [
    "!head -2 /tf/notebooks/final-project/data/sample/hein-daily/speeches_097.txt"
   ]
  },
  {
   "cell_type": "code",
   "execution_count": 6,
   "metadata": {},
   "outputs": [
    {
     "name": "stdout",
     "output_type": "stream",
     "text": [
      "283399\r\n"
     ]
    }
   ],
   "source": [
    "!cat /tf/notebooks/final-project/data/sample/hein-daily/speeches_097.txt | wc -l"
   ]
  },
  {
   "cell_type": "code",
   "execution_count": 4,
   "metadata": {},
   "outputs": [],
   "source": [
    "data_path = '/tf/notebooks/final-project/data/sample/hein-daily'"
   ]
  },
  {
   "cell_type": "code",
   "execution_count": 5,
   "metadata": {},
   "outputs": [
    {
     "name": "stdout",
     "output_type": "stream",
     "text": [
      "\n",
      "File speeches_097.txt has 249718612 characters\n",
      "and 283399 speeches\n",
      "\n",
      "Speeches list has 283399 speeches\n"
     ]
    }
   ],
   "source": [
    "reload(load_data)\n",
    "all_speech_ids, all_speeches = load_data.load_speech_data(data_path)"
   ]
  },
  {
   "cell_type": "code",
   "execution_count": 6,
   "metadata": {},
   "outputs": [
    {
     "data": {
      "text/plain": [
       "(283399, 283399)"
      ]
     },
     "execution_count": 6,
     "metadata": {},
     "output_type": "execute_result"
    }
   ],
   "source": [
    "len(all_speech_ids), len(all_speeches)"
   ]
  },
  {
   "cell_type": "markdown",
   "metadata": {},
   "source": [
    "## Create target labels"
   ]
  },
  {
   "cell_type": "markdown",
   "metadata": {},
   "source": [
    "#### TODO:\n",
    "\n",
    "- Why is this taking so much time?\n",
    "- Subset on word cound here?\n",
    "- Make sampling replicable: random seed + random array of proper length"
   ]
  },
  {
   "cell_type": "code",
   "execution_count": 6,
   "metadata": {},
   "outputs": [
    {
     "name": "stdout",
     "output_type": "stream",
     "text": [
      "2914465 lines have been read\n",
      "7227 keys had duplicates and deleted\n",
      "The dictionary has 858639 keys\n",
      "\n",
      "Random congressperson: 1020093004\n",
      "Chamber H\n",
      "State PA\n",
      "check 1\n",
      "Age 63.0\n",
      "Full Name COUGHLIN, ROBERT\n",
      "Age_lt_med 0.0\n",
      "match exact\n",
      "NonWhite 0.0\n",
      "word_count 10\n",
      "Congress 102\n",
      "date 19911009\n",
      "speaker Mr. COUGHLIN\n",
      "speakerid 102108890.0\n",
      "Female 0.0\n",
      "Ethnicity W\n",
      "Party R\n",
      "char_count 53\n",
      "\n",
      "It took 6.7 seconds to create the dictionary\n"
     ]
    }
   ],
   "source": [
    "reload(load_data)\n",
    "start_time = time.time()\n",
    "# remove p if want to run for the full speech file\n",
    "descr = load_data.load_descr_data('/tf/notebooks/final-project/data/QA/full_descr.txt', p=0.3)\n",
    "print(\"\\nIt took {0:.1f} seconds to create the dictionary\".format(time.time()-start_time))"
   ]
  },
  {
   "cell_type": "code",
   "execution_count": 7,
   "metadata": {},
   "outputs": [
    {
     "data": {
      "text/plain": [
       "0.29461300602786655"
      ]
     },
     "execution_count": 7,
     "metadata": {},
     "output_type": "execute_result"
    }
   ],
   "source": [
    "# check if sampling worked\n",
    "len(list(descr.keys()))/2914464"
   ]
  },
  {
   "cell_type": "code",
   "execution_count": 8,
   "metadata": {},
   "outputs": [
    {
     "data": {
      "text/plain": [
       "(283399, 283399, 283399, 283399, 283399, 283399)"
      ]
     },
     "execution_count": 8,
     "metadata": {},
     "output_type": "execute_result"
    }
   ],
   "source": [
    "gender, ethnicity, age, party, chamber, congress = load_data.create_target_labels(all_speech_ids, descr)\n",
    "len(gender), len(ethnicity), len(age), len(party), len(chamber), len(congress)"
   ]
  },
  {
   "cell_type": "code",
   "execution_count": 13,
   "metadata": {},
   "outputs": [
    {
     "data": {
      "text/plain": [
       "(array(['D', 'I', 'N', 'NA', 'R'], dtype='<U2'),\n",
       " array([ 32281,    272,     45, 216551,  34250]))"
      ]
     },
     "execution_count": 13,
     "metadata": {},
     "output_type": "execute_result"
    }
   ],
   "source": [
    "np.unique(np.array(party), return_counts=True)"
   ]
  },
  {
   "cell_type": "code",
   "execution_count": 14,
   "metadata": {},
   "outputs": [
    {
     "data": {
      "text/plain": [
       "283399"
      ]
     },
     "execution_count": 14,
     "metadata": {},
     "output_type": "execute_result"
    }
   ],
   "source": [
    "party_dummy = []\n",
    "for p in range(len(party)):\n",
    "    if party[p] == 'D':\n",
    "        party_dummy.append(1)\n",
    "    elif party[p] == 'R':\n",
    "        party_dummy.append(0)\n",
    "    else:\n",
    "        party_dummy.append(-1)\n",
    "len(party_dummy)"
   ]
  },
  {
   "cell_type": "code",
   "execution_count": 15,
   "metadata": {},
   "outputs": [
    {
     "data": {
      "text/plain": [
       "(array([-1,  0,  1]), array([216868,  34250,  32281]))"
      ]
     },
     "execution_count": 15,
     "metadata": {},
     "output_type": "execute_result"
    }
   ],
   "source": [
    "np.unique(np.array(party_dummy), return_counts=True)"
   ]
  },
  {
   "cell_type": "markdown",
   "metadata": {},
   "source": [
    "### Data QA"
   ]
  },
  {
   "cell_type": "code",
   "execution_count": 9,
   "metadata": {},
   "outputs": [
    {
     "name": "stdout",
     "output_type": "stream",
     "text": [
      "\n",
      " Gender\n",
      "Overall speech counts:\n"
     ]
    },
    {
     "data": {
      "text/html": [
       "<div>\n",
       "<style scoped>\n",
       "    .dataframe tbody tr th:only-of-type {\n",
       "        vertical-align: middle;\n",
       "    }\n",
       "\n",
       "    .dataframe tbody tr th {\n",
       "        vertical-align: top;\n",
       "    }\n",
       "\n",
       "    .dataframe thead th {\n",
       "        text-align: right;\n",
       "    }\n",
       "</style>\n",
       "<table border=\"1\" class=\"dataframe\">\n",
       "  <thead>\n",
       "    <tr style=\"text-align: right;\">\n",
       "      <th></th>\n",
       "      <th>Category</th>\n",
       "      <th>Count</th>\n",
       "    </tr>\n",
       "  </thead>\n",
       "  <tbody>\n",
       "    <tr>\n",
       "      <th>0</th>\n",
       "      <td>-1</td>\n",
       "      <td>216551</td>\n",
       "    </tr>\n",
       "    <tr>\n",
       "      <th>1</th>\n",
       "      <td>0</td>\n",
       "      <td>65477</td>\n",
       "    </tr>\n",
       "    <tr>\n",
       "      <th>2</th>\n",
       "      <td>1</td>\n",
       "      <td>1371</td>\n",
       "    </tr>\n",
       "  </tbody>\n",
       "</table>\n",
       "</div>"
      ],
      "text/plain": [
       "<IPython.core.display.HTML object>"
      ]
     },
     "metadata": {},
     "output_type": "display_data"
    },
    {
     "name": "stdout",
     "output_type": "stream",
     "text": [
      "Target group number of speeches by party:\n",
      "D: \t 664\n",
      "I: \t 0\n",
      "N: \t 0\n",
      "NA: \t -216551\n",
      "R: \t 707\n",
      "\n",
      " Ethnicity\n",
      "Overall speech counts:\n"
     ]
    },
    {
     "data": {
      "text/html": [
       "<div>\n",
       "<style scoped>\n",
       "    .dataframe tbody tr th:only-of-type {\n",
       "        vertical-align: middle;\n",
       "    }\n",
       "\n",
       "    .dataframe tbody tr th {\n",
       "        vertical-align: top;\n",
       "    }\n",
       "\n",
       "    .dataframe thead th {\n",
       "        text-align: right;\n",
       "    }\n",
       "</style>\n",
       "<table border=\"1\" class=\"dataframe\">\n",
       "  <thead>\n",
       "    <tr style=\"text-align: right;\">\n",
       "      <th></th>\n",
       "      <th>Category</th>\n",
       "      <th>Count</th>\n",
       "    </tr>\n",
       "  </thead>\n",
       "  <tbody>\n",
       "    <tr>\n",
       "      <th>0</th>\n",
       "      <td>-1</td>\n",
       "      <td>216551</td>\n",
       "    </tr>\n",
       "    <tr>\n",
       "      <th>1</th>\n",
       "      <td>0</td>\n",
       "      <td>64037</td>\n",
       "    </tr>\n",
       "    <tr>\n",
       "      <th>2</th>\n",
       "      <td>1</td>\n",
       "      <td>2811</td>\n",
       "    </tr>\n",
       "  </tbody>\n",
       "</table>\n",
       "</div>"
      ],
      "text/plain": [
       "<IPython.core.display.HTML object>"
      ]
     },
     "metadata": {},
     "output_type": "display_data"
    },
    {
     "name": "stdout",
     "output_type": "stream",
     "text": [
      "Target group number of speeches by party:\n",
      "D: \t 2405\n",
      "I: \t 0\n",
      "N: \t 45\n",
      "NA: \t -216551\n",
      "R: \t 361\n",
      "\n",
      " Age\n",
      "Overall speech counts:\n"
     ]
    },
    {
     "data": {
      "text/html": [
       "<div>\n",
       "<style scoped>\n",
       "    .dataframe tbody tr th:only-of-type {\n",
       "        vertical-align: middle;\n",
       "    }\n",
       "\n",
       "    .dataframe tbody tr th {\n",
       "        vertical-align: top;\n",
       "    }\n",
       "\n",
       "    .dataframe thead th {\n",
       "        text-align: right;\n",
       "    }\n",
       "</style>\n",
       "<table border=\"1\" class=\"dataframe\">\n",
       "  <thead>\n",
       "    <tr style=\"text-align: right;\">\n",
       "      <th></th>\n",
       "      <th>Category</th>\n",
       "      <th>Count</th>\n",
       "    </tr>\n",
       "  </thead>\n",
       "  <tbody>\n",
       "    <tr>\n",
       "      <th>0</th>\n",
       "      <td>-1</td>\n",
       "      <td>216551</td>\n",
       "    </tr>\n",
       "    <tr>\n",
       "      <th>1</th>\n",
       "      <td>0</td>\n",
       "      <td>43720</td>\n",
       "    </tr>\n",
       "    <tr>\n",
       "      <th>2</th>\n",
       "      <td>1</td>\n",
       "      <td>23128</td>\n",
       "    </tr>\n",
       "  </tbody>\n",
       "</table>\n",
       "</div>"
      ],
      "text/plain": [
       "<IPython.core.display.HTML object>"
      ]
     },
     "metadata": {},
     "output_type": "display_data"
    },
    {
     "name": "stdout",
     "output_type": "stream",
     "text": [
      "Target group number of speeches by party:\n",
      "D: \t 12400\n",
      "I: \t 0\n",
      "N: \t 45\n",
      "NA: \t -216551\n",
      "R: \t 10683\n"
     ]
    }
   ],
   "source": [
    "reload(explore_data)\n",
    "for i in [(gender, \"Gender\"), (ethnicity, \"Ethnicity\"), (age, \"Age\")]:\n",
    "    print(\"\\n\", i[1])\n",
    "    print(\"Overall speech counts:\")\n",
    "    explore_data.get_counts(i[0])\n",
    "    print(\"Target group number of speeches by party:\")\n",
    "    explore_data.get_counts_by_category(i[0], party)"
   ]
  },
  {
   "cell_type": "code",
   "execution_count": 17,
   "metadata": {},
   "outputs": [
    {
     "name": "stdout",
     "output_type": "stream",
     "text": [
      "Speaker information\n",
      "date 19820817\n",
      "match exact\n",
      "Ethnicity W\n",
      "word_count 8\n",
      "Party R\n",
      "Female 1.0\n",
      "Age_lt_med 1.0\n",
      "NonWhite 0.0\n",
      "speakerid 97109311.0\n",
      "State KS\n",
      "Age 50.0\n",
      "Chamber S\n",
      "char_count 50\n",
      "speaker Mrs. KASSEBAUM\n",
      "Full Name KASSEBAUM, NANCY\n",
      "Congress 97\n",
      "\n",
      "Mr. President. will the Senatori from Texas yield?\n"
     ]
    }
   ],
   "source": [
    "reload(explore_data)\n",
    "explore_data.random_speech(all_speeches, all_speech_ids, gender, descr)"
   ]
  },
  {
   "cell_type": "code",
   "execution_count": 12,
   "metadata": {},
   "outputs": [
    {
     "name": "stdout",
     "output_type": "stream",
     "text": [
      "Speaker information\n",
      "speakerid 97108270.0\n",
      "word_count 435\n",
      "State NY\n",
      "Age 49.0\n",
      "Full Name GARCIA, ROBERT\n",
      "Congress 97\n",
      "Party D\n",
      "match exact\n",
      "date 19820729\n",
      "Female 0.0\n",
      "char_count 2518\n",
      "Ethnicity H\n",
      "Age_lt_med 1.0\n",
      "Chamber H\n",
      "NonWhite 1.0\n",
      "speaker Mr. GARCIA\n",
      "\n",
      "Mr. Chairman. I believe the amendment is particularly appropriate at this moment. because we are toward the end of this bill. We have been at it for almost 40 hours. if not 40 hours. I think that there have been some discussions held here as it pertained to what exactly is in this package. At the same time. Mr. Speaker. that we are presently cutting care to the elderly and to the poor. the Federal Government is paying for the veterinary care of pets for military personnel. At the same time. Mr. Speaker. that we cut money for food stamps and lunches for schoolchildren. the taxpayers are paying for meals served in the Secretary of Defense. Casper Weinbergers private dining.room. At the same time that we cut education aid denying young men and women the opportunity to make it in society. we are paying for personal servants for 300 senior officers in the armed services. At the same time that we claim that only the needy should be helped and only the most worthwhile programs should be spared. we allow military teletype to be used for routine lowpriority messages of the Department of Defense. all of this at the taxpayers expense. My amendment would end the subsidies for free meals in Secretary Weinbergers dining room. for personal servants. for veterinary care. and insure that teletypes are not used for lowpriority messages. . The amendment would not impair in any way our defensive capabilities as a nation. Let me give you an example. For every meal that is served in the Secretary of Defenses dining room. and I might add that last year there were approximately 30.869 meals served at a cost of $3.97. with an additional subsidy of $16.05. in other words. every one of those meals were subsidized to the tune of $16. In terms of telecommunications. one telecommunication that was sent over the teletype service took 76 days elapsed time between the time they recieved the message and the time that the other party decided to respond. It also went so far as to transfer a monthly report showing the installations retail and services department sales and inventories. It seems to me that at this particular moment when so many people are being asked to sacrifice. that I believe that the Secretary of Defense. I believe that the petsoriginally veterinary care was solely and strictly for the purpose of taking care of animals where there was a possibility of a communicable disease between a human and an animal. but today they manicure them. they shampoo them. again all of this at taxpayers expense.\n"
     ]
    }
   ],
   "source": [
    "explore_data.random_speech(all_speeches, all_speech_ids, ethnicity, descr)"
   ]
  },
  {
   "cell_type": "code",
   "execution_count": 13,
   "metadata": {},
   "outputs": [
    {
     "name": "stdout",
     "output_type": "stream",
     "text": [
      "Speaker information\n",
      "speakerid 97107380.0\n",
      "word_count 533\n",
      "State NY\n",
      "Age 43.0\n",
      "Full Name LUNDINE, STANLEY\n",
      "Congress 97\n",
      "Party D\n",
      "match exact\n",
      "date 19820506\n",
      "Female 0.0\n",
      "char_count 3341\n",
      "Ethnicity W\n",
      "Age_lt_med 1.0\n",
      "Chamber H\n",
      "NonWhite 0.0\n",
      "speaker Mr. LUNDINE\n",
      "\n",
      "Mr. Speaker. in the upcoming weeks. this legislative body will face critical decisions on a critical environmental issuereauthorization of the Clean Air Act. During the debate on this issue we will be confronted with a choice on the one hand between streamlining our efforts to preserve existing health based standards and goals for controlling emissions from stationary and mobile sources. or on the other hand. relaxing standards and timeframes for achieving and maintaining our clean air goals. The most often relied upon justification for relaxation of existing clean air standards and goals evolves around the claims by some that environmental regulation has negative impacts on productivity and economic growth. Assertions have been made by some business groups that the Clean Air Act has cost the private sector $16 billion in compliance costs each year. but has only yielded $8 billion in benefits. In addition. the Clean Air Act is often cited as a significant contributor to jobs lost in some of our most depressed industries such as autos and steel. A close look at existing data and studies to date reveals that these contentions are unfounded. A recently completed review by the public interest economic foundation of the data available on this subject through the Environmental Protection Agency. Bureau of Economic Analysis of the Department of Commerce. U.S. Bureau of the Census. and McGraw Hill led to the following conclusions regarding the aggregate effects of the Clean Air Act on the economy: First. output has remained essentially unchanged. with only a modest reduction of approximately 0.1 percent per year. When these changes are adJusted to take into account benefits not reflected in market transactions. real output has increased. .Second. unemployment was 0.1 to 0.2 percent lower per year than It would have been without clean air legislation. Third. prices increased very slightly. from 0.1 to 0.2 percent per year. Considerations of benefits not reflected in market transactions suggests that air pollution controls have had virtually no effect on inflation. Fourth. labor productivity. as con ventionally measured. has been essentially unaffected. with a reduction of less than 1 percent per year reported by the most adverse studies. Fifth. Clean Air Act benefits have exceeded compliance costs. The most comprehensive survey to date estimates benefits of $21.4 billion. and costs of $17 billion. Sixth. compliance expenditures by the private sector have remained stable since 1975 in real terms on average less than 3 percent of gross private domestic investment. On balance. the Clean Air Act has helped us progress toward a healthier. more productive society. We would be making a serious mistake to Identify the Clean Air Act as a significant cause of our current economic difficulties. or relaxation of clean air standards as a significant factor in revitalization of our troubled industries. I. together with my colleague Congresswoman SCHNEmER have begun and will be continuing to circulate a number of dear colleagues in the weeks ahead which explore the economics of the Clean Air Act. I urge you to join us in examining this aspect of this issue carefully. When you do. I think you will find that the Clean Air Act has had a positive impact on innovation. job creation. and economic productivity.\n"
     ]
    }
   ],
   "source": [
    "explore_data.random_speech(all_speeches, all_speech_ids, age, descr)"
   ]
  },
  {
   "cell_type": "markdown",
   "metadata": {},
   "source": [
    "## Split into train, validate, test"
   ]
  },
  {
   "cell_type": "markdown",
   "metadata": {},
   "source": [
    "### Filter on party if necessary"
   ]
  },
  {
   "cell_type": "code",
   "execution_count": 28,
   "metadata": {},
   "outputs": [],
   "source": [
    "# reload(load_data)\n",
    "# all_speeches_d, all_speech_ids_d, gender_d = load_data.filter_data(all_speeches, all_speech_ids, gender, party, 'D')\n",
    "# len(all_speeches_d), len(all_speech_ids_d), len(gender_d)"
   ]
  },
  {
   "cell_type": "code",
   "execution_count": 37,
   "metadata": {},
   "outputs": [
    {
     "data": {
      "text/html": [
       "<div>\n",
       "<style scoped>\n",
       "    .dataframe tbody tr th:only-of-type {\n",
       "        vertical-align: middle;\n",
       "    }\n",
       "\n",
       "    .dataframe tbody tr th {\n",
       "        vertical-align: top;\n",
       "    }\n",
       "\n",
       "    .dataframe thead th {\n",
       "        text-align: right;\n",
       "    }\n",
       "</style>\n",
       "<table border=\"1\" class=\"dataframe\">\n",
       "  <thead>\n",
       "    <tr style=\"text-align: right;\">\n",
       "      <th></th>\n",
       "      <th>Category</th>\n",
       "      <th>Count</th>\n",
       "    </tr>\n",
       "  </thead>\n",
       "  <tbody>\n",
       "    <tr>\n",
       "      <th>0</th>\n",
       "      <td>0</td>\n",
       "      <td>103864</td>\n",
       "    </tr>\n",
       "    <tr>\n",
       "      <th>1</th>\n",
       "      <td>1</td>\n",
       "      <td>2172</td>\n",
       "    </tr>\n",
       "  </tbody>\n",
       "</table>\n",
       "</div>"
      ],
      "text/plain": [
       "<IPython.core.display.HTML object>"
      ]
     },
     "metadata": {},
     "output_type": "display_data"
    }
   ],
   "source": [
    "# reload(explore_data)\n",
    "# explore_data.get_counts(gender_d)"
   ]
  },
  {
   "cell_type": "markdown",
   "metadata": {},
   "source": [
    "### Split into train/val/test"
   ]
  },
  {
   "cell_type": "markdown",
   "metadata": {},
   "source": [
    "### Split by congress"
   ]
  },
  {
   "cell_type": "code",
   "execution_count": 9,
   "metadata": {},
   "outputs": [],
   "source": [
    "# reload(preprocess_data)\n",
    "# train, train_ids, train_target, val, val_ids, val_target, test, test_ids, test_target = preprocess_data.split_by_congress(all_speeches, all_speech_ids, gender, descr, congress)"
   ]
  },
  {
   "cell_type": "code",
   "execution_count": 8,
   "metadata": {
    "scrolled": true
   },
   "outputs": [
    {
     "name": "stdout",
     "output_type": "stream",
     "text": [
      "Training split: 501 ones and 501 zeroes\n",
      "Training speech list size: 1002\n",
      "Training target list size: 1002\n",
      "Validation split: 167 ones and 167 zeroes\n",
      "Validation speech list size: 334\n",
      "Validation target list size: 334\n",
      "Test split: 167 ones and 167 zeroes\n",
      "Test speech list size: 334\n",
      "Test target list size: 334\n"
     ]
    }
   ],
   "source": [
    "reload(preprocess_data)\n",
    "train, train_ids, train_target, val, val_ids, val_target, test, test_ids, test_target = preprocess_data.split_train_val_test(all_speeches, all_speech_ids, gender, descr)"
   ]
  },
  {
   "cell_type": "code",
   "execution_count": 11,
   "metadata": {},
   "outputs": [
    {
     "data": {
      "text/plain": [
       "(501, 167, 167)"
      ]
     },
     "execution_count": 11,
     "metadata": {},
     "output_type": "execute_result"
    }
   ],
   "source": [
    "sum(train_target), sum(val_target), sum(test_target)"
   ]
  },
  {
   "cell_type": "code",
   "execution_count": 13,
   "metadata": {},
   "outputs": [
    {
     "data": {
      "text/plain": [
       "536"
      ]
     },
     "execution_count": 13,
     "metadata": {},
     "output_type": "execute_result"
    }
   ],
   "source": [
    "# number of speeches under 30 words\n",
    "sum(np.array(gender)==1) - (sum(train_target) + sum(val_target) + sum(test_target))"
   ]
  },
  {
   "cell_type": "code",
   "execution_count": 21,
   "metadata": {},
   "outputs": [
    {
     "name": "stdout",
     "output_type": "stream",
     "text": [
      "Speaker information\n",
      "date 19820617\n",
      "match exact\n",
      "Ethnicity W\n",
      "word_count 101\n",
      "Party R\n",
      "Female 1.0\n",
      "Age_lt_med 0.0\n",
      "NonWhite 0.0\n",
      "speakerid 97106111.0\n",
      "State FL\n",
      "Age 55.0\n",
      "Chamber S\n",
      "char_count 572\n",
      "speaker Mrs. HAWKINS\n",
      "Full Name HAWKINS, PAULA\n",
      "Congress 97\n",
      "\n",
      "Mr. President. it is prepared as a resolution and it has become obvious this evening that in order to get the immediate attention needed that we will change it to an amendment in order to address the urgency of the situation of the captives. young Argentineans. who are on the Falkland Islands. who the British say they cannot feed. they cannot clothe. and they are becoming frostbitten. and as we sit here this evening comfortable in our seats. It is a sense of urgency there. and I prefer having a senseoftheSenate resolution but we were advised to make it an amendment.\n"
     ]
    }
   ],
   "source": [
    "explore_data.random_speech(train, train_ids, train_target, descr)"
   ]
  },
  {
   "cell_type": "markdown",
   "metadata": {},
   "source": [
    "## EDA on train data"
   ]
  },
  {
   "cell_type": "markdown",
   "metadata": {},
   "source": [
    "Source: https://developers.google.com/machine-learning/guides/text-classification/step-2"
   ]
  },
  {
   "cell_type": "markdown",
   "metadata": {},
   "source": [
    "### Check median number of words per sample in train/val/test"
   ]
  },
  {
   "cell_type": "code",
   "execution_count": 38,
   "metadata": {},
   "outputs": [
    {
     "data": {
      "text/plain": [
       "<module 'helpers.explore_data' from '/tf/notebooks/final-project/Classification/helpers/explore_data.py'>"
      ]
     },
     "execution_count": 38,
     "metadata": {},
     "output_type": "execute_result"
    }
   ],
   "source": [
    "reload(explore_data)"
   ]
  },
  {
   "cell_type": "code",
   "execution_count": 24,
   "metadata": {},
   "outputs": [
    {
     "data": {
      "text/plain": [
       "219.0"
      ]
     },
     "execution_count": 24,
     "metadata": {},
     "output_type": "execute_result"
    }
   ],
   "source": [
    "explore_data.get_num_words_per_sample(train)"
   ]
  },
  {
   "cell_type": "code",
   "execution_count": 25,
   "metadata": {},
   "outputs": [
    {
     "data": {
      "text/plain": [
       "226.5"
      ]
     },
     "execution_count": 25,
     "metadata": {},
     "output_type": "execute_result"
    }
   ],
   "source": [
    "explore_data.get_num_words_per_sample(val)"
   ]
  },
  {
   "cell_type": "code",
   "execution_count": 26,
   "metadata": {},
   "outputs": [
    {
     "data": {
      "text/plain": [
       "195.0"
      ]
     },
     "execution_count": 26,
     "metadata": {},
     "output_type": "execute_result"
    }
   ],
   "source": [
    "explore_data.get_num_words_per_sample(test)"
   ]
  },
  {
   "cell_type": "code",
   "execution_count": 28,
   "metadata": {},
   "outputs": [
    {
     "name": "stdout",
     "output_type": "stream",
     "text": [
      "Speech length percentiles\n",
      "     0      10     20     30     40      50      60      70      80      90   \\\n",
      "0  145.0  277.1  448.2  646.5  950.8  1301.5  1704.0  2236.6  3090.8  4753.1   \n",
      "\n",
      "       100  \n",
      "0  20507.0  \n"
     ]
    },
    {
     "data": {
      "image/png": "[encoded data removed]",
      "text/plain": [
       "<Figure size 1440x720 with 1 Axes>"
      ]
     },
     "metadata": {
      "needs_background": "light"
     },
     "output_type": "display_data"
    }
   ],
   "source": [
    "reload(explore_data)\n",
    "explore_data.plot_sample_length_distribution(train)"
   ]
  },
  {
   "cell_type": "markdown",
   "metadata": {},
   "source": [
    "### Most popular unigrams (training only)"
   ]
  },
  {
   "cell_type": "code",
   "execution_count": 32,
   "metadata": {},
   "outputs": [
    {
     "data": {
      "text/plain": [
       "199"
      ]
     },
     "execution_count": 32,
     "metadata": {},
     "output_type": "execute_result"
    }
   ],
   "source": [
    "train_sample = random.sample(train, int(len(train)*0.2))\n",
    "len(train_sample)"
   ]
  },
  {
   "cell_type": "code",
   "execution_count": 33,
   "metadata": {},
   "outputs": [
    {
     "name": "stdout",
     "output_type": "stream",
     "text": [
      "['the', 'of', 'to', 'and', 'in', 'that', 'is', 'for', 'this', 'we', 'it', 'on', 'have', 'be', 'are', 'not', 'as', 'with', 'will', 'by', 'has', 'mr', 'would', 'was', 'from', 'they', 'our', 'which', 'an', 'my', 'at', 'their', 'but', 'or', 'his', 'amendment', 'he', 'who', 'bill', 'budget', 'more', 'been', 'president', 'all', 'committee', 'there', 'people', 'time', 'do', 'if']\n"
     ]
    },
    {
     "data": {
      "image/png": "[encoded data removed]",
      "text/plain": [
       "<Figure size 1440x720 with 1 Axes>"
      ]
     },
     "metadata": {
      "needs_background": "light"
     },
     "output_type": "display_data"
    }
   ],
   "source": [
    "explore_data.plot_frequency_distribution_of_ngrams(train_sample, ngram_range=(1,1))"
   ]
  },
  {
   "cell_type": "markdown",
   "metadata": {},
   "source": [
    "### Most popular bigrams (training only)"
   ]
  },
  {
   "cell_type": "code",
   "execution_count": 34,
   "metadata": {},
   "outputs": [
    {
     "name": "stdout",
     "output_type": "stream",
     "text": [
      "['of the', 'in the', 'to the', 'it is', 'on the', 'that the', 'for the', 'by the', 'and the', 'of this', 'with the', 'to be', 'mr speaker', 'we are', 'will be', 'we have', 'at the', 'is the', 'mr president', 'that we', 'the gentleman', 'from the', 'the committee', 'the bill', 'of our', 'have been', 'do not', 'this is', 'has been', 'would be', 'this bill', 'there is', 'the united', 'in this', 'the budget', 'the american', 'new york', 'is not', 'the first', 'as the', 'my colleagues', 'united states', 'the federal', 'mr chairman', 'want to', 'this amendment', 'the house', 'that is', 'one of', 'the senate']\n"
     ]
    },
    {
     "data": {
      "image/png": "[encoded data removed]",
      "text/plain": [
       "<Figure size 1440x720 with 1 Axes>"
      ]
     },
     "metadata": {
      "needs_background": "light"
     },
     "output_type": "display_data"
    }
   ],
   "source": [
    "explore_data.plot_frequency_distribution_of_ngrams(train_sample, ngram_range=(2,2))"
   ]
  },
  {
   "cell_type": "markdown",
   "metadata": {},
   "source": [
    "### Most popular trigrams (training only)"
   ]
  },
  {
   "cell_type": "code",
   "execution_count": 35,
   "metadata": {},
   "outputs": [
    {
     "name": "stdout",
     "output_type": "stream",
     "text": [
      "['the united states', 'the gentleman from', 'would like to', 'one of the', 'the federal government', 'the fact that', 'chairman of the', 'the department of', 'members of the', 'member of the', 'in order to', 'the people of', 'part of the', 'out of the', 'my colleagues to', 'in new york', 'the soviet union', 'the committee on', 'of the senate', 'of the committee', 'of the bill', 'are going to', 'the american people', 'thank the gentleman', 'of the american', 'we do not', 'this is the', 'percent of the', 'of the united', 'of the house', 'new york city', 'the state of', 'the senator from', 'that we are', 'in support of', 'employment and training', 'this amendment is', 'that it is', 'some of the', 'rise in support', 'of the most', 'mr chairman rise', 'is going to', 'going to be', 'there is no', 'of the budget', 'fiscal year 1983', 'as well as', 'we have to', 'we are going']\n"
     ]
    },
    {
     "data": {
      "image/png": "[encoded data removed]",
      "text/plain": [
       "<Figure size 1440x720 with 1 Axes>"
      ]
     },
     "metadata": {
      "needs_background": "light"
     },
     "output_type": "display_data"
    }
   ],
   "source": [
    "explore_data.plot_frequency_distribution_of_ngrams(train_sample, ngram_range=(3,3))"
   ]
  },
  {
   "cell_type": "code",
   "execution_count": 29,
   "metadata": {},
   "outputs": [],
   "source": [
    "congress = set([str(i) for i in range(97,115)])"
   ]
  },
  {
   "cell_type": "code",
   "execution_count": 30,
   "metadata": {},
   "outputs": [
    {
     "data": {
      "text/plain": [
       "1002"
      ]
     },
     "execution_count": 30,
     "metadata": {},
     "output_type": "execute_result"
    }
   ],
   "source": [
    "len(train)"
   ]
  },
  {
   "cell_type": "code",
   "execution_count": 31,
   "metadata": {},
   "outputs": [
    {
     "data": {
      "text/plain": [
       "{'Age': '70.0',\n",
       " 'Age_lt_med': '0.0',\n",
       " 'Chamber': 'S',\n",
       " 'Congress': '111',\n",
       " 'Ethnicity': 'W',\n",
       " 'Female': '0.0',\n",
       " 'Full Name': 'ALEXANDER, LAMAR',\n",
       " 'NonWhite': '0.0',\n",
       " 'Party': 'R',\n",
       " 'State': 'TN',\n",
       " 'char_count': '1356',\n",
       " 'check': 1,\n",
       " 'date': '20090930',\n",
       " 'match': 'exact',\n",
       " 'speaker': 'Mr. ALEXANDER',\n",
       " 'speakerid': '111118281.0',\n",
       " 'word_count': '244'}"
      ]
     },
     "execution_count": 31,
     "metadata": {},
     "output_type": "execute_result"
    }
   ],
   "source": [
    "descr['1110063404']"
   ]
  },
  {
   "cell_type": "code",
   "execution_count": 28,
   "metadata": {},
   "outputs": [
    {
     "name": "stdout",
     "output_type": "stream",
     "text": [
      "\n",
      "For Congress 97 top 5 (3, 3) ngrams are:\n",
      "the united states\n",
      "would like to\n",
      "of the united\n",
      "the soviet union\n",
      "the senator from\n",
      "--------------------\n"
     ]
    }
   ],
   "source": [
    "reload(explore_data)\n",
    "explore_data.ngrams_by_category(train, train_ids, descr, congress, 'Congress', p=0.3, top_n=5)"
   ]
  },
  {
   "cell_type": "markdown",
   "metadata": {},
   "source": [
    "## N-gram model"
   ]
  },
  {
   "cell_type": "markdown",
   "metadata": {},
   "source": [
    "Inspiration for code: https://developers.google.com/machine-learning/guides/text-classification/step-3"
   ]
  },
  {
   "cell_type": "markdown",
   "metadata": {},
   "source": [
    "### Pre-processing"
   ]
  },
  {
   "cell_type": "code",
   "execution_count": 9,
   "metadata": {},
   "outputs": [],
   "source": [
    "# Vectorization parameters\n",
    "# Range (inclusive) of n-gram sizes for tokenizing text.\n",
    "NGRAM_RANGE = (1, 2)\n",
    "\n",
    "# Minimum corpus frequency below which a token will be discarded.\n",
    "MIN_DOCUMENT_FREQUENCY = 5\n",
    "\n",
    "# Maximum proportion of corpus containing a word above which a token will be discarded.\n",
    "# Helps eliminate stop words\n",
    "MAX_DOCUMENT_FREQUENCY = 0.7\n",
    "\n",
    "# Limit on the number of features. We use the top 20K features.\n",
    "TOP_K = 20000\n",
    "\n",
    "# Output number of top/bottom scoring ngrams\n",
    "TOP_N = 5\n",
    "\n",
    "vec_params = {\n",
    "    'ngram_range': NGRAM_RANGE,\n",
    "    'min_df': MIN_DOCUMENT_FREQUENCY,\n",
    "    'max_df': MAX_DOCUMENT_FREQUENCY,\n",
    "    'top_k': TOP_K,\n",
    "    'top_n': TOP_N\n",
    "}"
   ]
  },
  {
   "cell_type": "markdown",
   "metadata": {},
   "source": [
    "## TODO: find a way to extract features to use for model validation (instead of recalculating them in compare_ngrams, ngrams_by_bin"
   ]
  },
  {
   "cell_type": "code",
   "execution_count": 10,
   "metadata": {},
   "outputs": [
    {
     "name": "stderr",
     "output_type": "stream",
     "text": [
      "/usr/local/lib/python3.5/dist-packages/sklearn/feature_extraction/text.py:1577: UserWarning: Only (<class 'numpy.float64'>, <class 'numpy.float32'>, <class 'numpy.float16'>) 'dtype' should be used. int32 'dtype' will be converted to np.float64.\n",
      "  UserWarning)\n"
     ]
    },
    {
     "name": "stdout",
     "output_type": "stream",
     "text": [
      "Total vocabulary size: 12469\n",
      "Number of stop words 157763\n",
      "\n",
      "Top 5 ngrams by differentiating score:\n",
      "mr president \t 92.2\n",
      "president \t 55.9\n",
      "senator \t 49.6\n",
      "distinguished \t 35.9\n",
      "the senator \t 33.8\n",
      "\n",
      "Bottom 5 ngrams by differentiating score:\n",
      "treaty \t 0.0\n",
      "well as \t 0.0\n",
      "president was \t 0.0\n",
      "of foreign \t 0.0\n",
      "levels for \t 0.0\n"
     ]
    }
   ],
   "source": [
    "reload(preprocess_data)\n",
    "train_vec, val_vec, test_vec = preprocess_data.ngram_vectorize(train, train_target, val, test, **vec_params)"
   ]
  },
  {
   "cell_type": "code",
   "execution_count": 34,
   "metadata": {},
   "outputs": [
    {
     "data": {
      "text/plain": [
       "(1002, 334, 334)"
      ]
     },
     "execution_count": 34,
     "metadata": {},
     "output_type": "execute_result"
    }
   ],
   "source": [
    "len(train), len(val), len(test)"
   ]
  },
  {
   "cell_type": "code",
   "execution_count": 14,
   "metadata": {},
   "outputs": [
    {
     "data": {
      "text/plain": [
       "((1002, 12469), (334, 12469), (334, 12469))"
      ]
     },
     "execution_count": 14,
     "metadata": {},
     "output_type": "execute_result"
    }
   ],
   "source": [
    "train_vec.shape, val_vec.shape, test_vec.shape"
   ]
  },
  {
   "cell_type": "markdown",
   "metadata": {},
   "source": [
    "### Saving processed files"
   ]
  },
  {
   "cell_type": "code",
   "execution_count": 41,
   "metadata": {},
   "outputs": [
    {
     "data": {
      "text/plain": [
       "'/tf/notebooks/final-project/Classification'"
      ]
     },
     "execution_count": 41,
     "metadata": {},
     "output_type": "execute_result"
    }
   ],
   "source": [
    "pwd"
   ]
  },
  {
   "cell_type": "code",
   "execution_count": 61,
   "metadata": {},
   "outputs": [],
   "source": [
    "data_path = '/tf/notebooks/final-project/Classification/data'"
   ]
  },
  {
   "cell_type": "code",
   "execution_count": 68,
   "metadata": {},
   "outputs": [],
   "source": [
    "scipy.sparse.save_npz(os.path.join(data_path, 'train_vec.npz'), train_vec)\n",
    "scipy.sparse.save_npz(os.path.join(data_path, 'val_vec.npz'), val_vec)\n",
    "scipy.sparse.save_npz(os.path.join(data_path, 'test_vec.npz'), test_vec)"
   ]
  },
  {
   "cell_type": "code",
   "execution_count": 69,
   "metadata": {},
   "outputs": [],
   "source": [
    "train_vec = scipy.sparse.load_npz(os.path.join(data_path, 'train_vec.npz'))\n",
    "val_vec = scipy.sparse.load_npz(os.path.join(data_path, 'val_vec.npz'))\n",
    "test_vec = scipy.sparse.load_npz(os.path.join(data_path, 'test_vec.npz'))"
   ]
  },
  {
   "cell_type": "code",
   "execution_count": 36,
   "metadata": {},
   "outputs": [
    {
     "data": {
      "text/plain": [
       "((1002, 12670), (334, 12670), (334, 12670))"
      ]
     },
     "execution_count": 36,
     "metadata": {},
     "output_type": "execute_result"
    }
   ],
   "source": [
    "train_vec.shape, val_vec.shape, test_vec.shape"
   ]
  },
  {
   "cell_type": "code",
   "execution_count": 72,
   "metadata": {},
   "outputs": [],
   "source": [
    "with open(os.path.join(data_path, 'train_list'), 'wb') as fp:\n",
    "    pickle.dump(train, fp)\n",
    "with open(os.path.join(data_path, 'train_ids'), 'wb') as fp:\n",
    "    pickle.dump(train_ids, fp)\n",
    "with open(os.path.join(data_path, 'train_target'), 'wb') as fp:\n",
    "    pickle.dump(train_target, fp)\n",
    "with open(os.path.join(data_path, 'val_list'), 'wb') as fp:\n",
    "    pickle.dump(val, fp)\n",
    "with open(os.path.join(data_path, 'val_ids'), 'wb') as fp:\n",
    "    pickle.dump(val_ids, fp)\n",
    "with open(os.path.join(data_path, 'val_target'), 'wb') as fp:\n",
    "    pickle.dump(val_target, fp)\n",
    "with open(os.path.join(data_path, 'test_list'), 'wb') as fp:\n",
    "    pickle.dump(test, fp)\n",
    "with open(os.path.join(data_path, 'test_ids'), 'wb') as fp:\n",
    "    pickle.dump(test_ids, fp)\n",
    "with open(os.path.join(data_path, 'test_target'), 'wb') as fp:\n",
    "    pickle.dump(test_target, fp)"
   ]
  },
  {
   "cell_type": "code",
   "execution_count": 73,
   "metadata": {},
   "outputs": [
    {
     "data": {
      "text/plain": [
       "(498, 166, 166)"
      ]
     },
     "execution_count": 73,
     "metadata": {},
     "output_type": "execute_result"
    }
   ],
   "source": [
    "sum(train_target), sum(val_target), sum(test_target)"
   ]
  },
  {
   "cell_type": "code",
   "execution_count": 74,
   "metadata": {},
   "outputs": [],
   "source": [
    "with open(os.path.join(data_path, 'train_list'), 'rb') as fp:\n",
    "    train = pickle.load(fp)\n",
    "with open(os.path.join(data_path, 'train_ids'), 'rb') as fp:\n",
    "    train_ids = pickle.load(fp)\n",
    "with open(os.path.join(data_path, 'train_target'), 'rb') as fp:\n",
    "    train_target = pickle.load(fp)\n",
    "with open(os.path.join(data_path, 'val_list'), 'rb') as fp:\n",
    "    val = pickle.load(fp)\n",
    "with open(os.path.join(data_path, 'val_ids'), 'rb') as fp:\n",
    "    val_ids = pickle.load(fp)\n",
    "with open(os.path.join(data_path, 'val_target'), 'rb') as fp:\n",
    "    val_target = pickle.load(fp)\n",
    "with open(os.path.join(data_path, 'test_list'), 'rb') as fp:\n",
    "    test = pickle.load(fp)\n",
    "with open(os.path.join(data_path, 'test_ids'), 'rb') as fp:\n",
    "    test_ids = pickle.load(fp)\n",
    "with open(os.path.join(data_path, 'test_target'), 'rb') as fp:\n",
    "    test_target = pickle.load(fp)"
   ]
  },
  {
   "cell_type": "code",
   "execution_count": 75,
   "metadata": {},
   "outputs": [
    {
     "data": {
      "text/plain": [
       "(498, 166, 166)"
      ]
     },
     "execution_count": 75,
     "metadata": {},
     "output_type": "execute_result"
    }
   ],
   "source": [
    "sum(train_target), sum(val_target), sum(test_target)"
   ]
  },
  {
   "cell_type": "markdown",
   "metadata": {},
   "source": [
    "### Model: Multi-Layer Perceptron (Vanilla NN)"
   ]
  },
  {
   "cell_type": "code",
   "execution_count": 11,
   "metadata": {},
   "outputs": [],
   "source": [
    "logs_base_dir = \"/tf/notebooks/final-project/logs\""
   ]
  },
  {
   "cell_type": "code",
   "execution_count": 13,
   "metadata": {},
   "outputs": [],
   "source": [
    "ngram_model_params = {\n",
    "    'model': 'ngram',\n",
    "    'log_dir': logs_base_dir,\n",
    "    'learning_rate': 1e-3,\n",
    "    'epochs': 1000,\n",
    "    'batch_size': 128,\n",
    "    'layers': 2,\n",
    "    'units': 64,\n",
    "    'dropout_rate': 0.2\n",
    "}"
   ]
  },
  {
   "cell_type": "code",
   "execution_count": 14,
   "metadata": {},
   "outputs": [
    {
     "name": "stdout",
     "output_type": "stream",
     "text": [
      "WARNING:tensorflow:From /usr/local/lib/python3.5/dist-packages/tensorflow/python/keras/layers/core.py:143: calling dropout (from tensorflow.python.ops.nn_ops) with keep_prob is deprecated and will be removed in a future version.\n",
      "Instructions for updating:\n",
      "Please use `rate` instead of `keep_prob`. Rate should be set to `rate = 1 - keep_prob`.\n",
      "WARNING:tensorflow:From /usr/local/lib/python3.5/dist-packages/tensorflow/python/ops/control_flow_ops.py:423: colocate_with (from tensorflow.python.framework.ops) is deprecated and will be removed in a future version.\n",
      "Instructions for updating:\n",
      "Colocations handled automatically by placer.\n",
      "Train on 1002 samples, validate on 334 samples\n",
      "WARNING:tensorflow:From /usr/local/lib/python3.5/dist-packages/tensorflow/python/ops/math_ops.py:3066: to_int32 (from tensorflow.python.ops.math_ops) is deprecated and will be removed in a future version.\n",
      "Instructions for updating:\n",
      "Use tf.cast instead.\n",
      "Epoch 1/1000\n",
      " - 0s - loss: 0.6906 - acc: 0.5549 - val_loss: 0.6857 - val_acc: 0.6078\n",
      "Epoch 2/1000\n",
      " - 0s - loss: 0.6615 - acc: 0.8044 - val_loss: 0.6724 - val_acc: 0.6467\n",
      "Epoch 3/1000\n",
      " - 0s - loss: 0.6233 - acc: 0.8752 - val_loss: 0.6571 - val_acc: 0.6856\n",
      "Epoch 4/1000\n",
      " - 0s - loss: 0.5777 - acc: 0.8962 - val_loss: 0.6433 - val_acc: 0.6976\n",
      "Epoch 5/1000\n",
      " - 0s - loss: 0.5301 - acc: 0.9291 - val_loss: 0.6298 - val_acc: 0.6886\n",
      "Epoch 6/1000\n",
      " - 0s - loss: 0.4848 - acc: 0.9381 - val_loss: 0.6173 - val_acc: 0.7006\n",
      "Epoch 7/1000\n",
      " - 0s - loss: 0.4438 - acc: 0.9541 - val_loss: 0.6067 - val_acc: 0.6946\n",
      "Epoch 8/1000\n",
      " - 0s - loss: 0.3970 - acc: 0.9641 - val_loss: 0.5980 - val_acc: 0.7066\n",
      "Epoch 9/1000\n",
      " - 0s - loss: 0.3567 - acc: 0.9711 - val_loss: 0.5919 - val_acc: 0.7096\n",
      "Epoch 10/1000\n",
      " - 0s - loss: 0.3206 - acc: 0.9780 - val_loss: 0.5865 - val_acc: 0.7096\n",
      "Epoch 11/1000\n",
      " - 0s - loss: 0.2840 - acc: 0.9800 - val_loss: 0.5824 - val_acc: 0.7066\n",
      "Epoch 12/1000\n",
      " - 0s - loss: 0.2567 - acc: 0.9890 - val_loss: 0.5802 - val_acc: 0.7036\n",
      "Epoch 13/1000\n",
      " - 0s - loss: 0.2289 - acc: 0.9900 - val_loss: 0.5793 - val_acc: 0.7066\n",
      "Epoch 14/1000\n",
      " - 0s - loss: 0.2012 - acc: 0.9940 - val_loss: 0.5790 - val_acc: 0.7006\n",
      "Epoch 15/1000\n",
      " - 0s - loss: 0.1810 - acc: 0.9950 - val_loss: 0.5795 - val_acc: 0.6976\n",
      "Epoch 16/1000\n",
      " - 0s - loss: 0.1622 - acc: 0.9950 - val_loss: 0.5820 - val_acc: 0.6976\n",
      "Validation accuracy: 0.697604775428772, loss: 0.5819725733317301\n"
     ]
    }
   ],
   "source": [
    "reload(train_model)\n",
    "history, train_pred_probs, val_pred_probs = train_model.train_model(((train_vec, train_target), (val_vec, val_target)), **ngram_model_params)"
   ]
  },
  {
   "cell_type": "markdown",
   "metadata": {},
   "source": [
    "## Model evaluation"
   ]
  },
  {
   "cell_type": "code",
   "execution_count": 15,
   "metadata": {},
   "outputs": [
    {
     "data": {
      "text/plain": [
       "233"
      ]
     },
     "execution_count": 15,
     "metadata": {},
     "output_type": "execute_result"
    }
   ],
   "source": [
    "val_preds = val_pred_probs > 0.5\n",
    "np.sum(val_preds.flatten()==val_target)"
   ]
  },
  {
   "cell_type": "code",
   "execution_count": 16,
   "metadata": {},
   "outputs": [
    {
     "name": "stdout",
     "output_type": "stream",
     "text": [
      "Confusion matrix, without normalization\n",
      "[[109  58]\n",
      " [ 43 124]]\n"
     ]
    },
    {
     "data": {
      "text/plain": [
       "<matplotlib.axes._subplots.AxesSubplot at 0x7f4cdf8ed198>"
      ]
     },
     "execution_count": 16,
     "metadata": {},
     "output_type": "execute_result"
    },
    {
     "data": {
      "image/png": "[encoded data removed]",
      "text/plain": [
       "<Figure size 432x288 with 2 Axes>"
      ]
     },
     "metadata": {
      "needs_background": "light"
     },
     "output_type": "display_data"
    }
   ],
   "source": [
    "reload(explore_data)\n",
    "# specify class names in 0 - 1 order\n",
    "classes = ['Male', 'Female']\n",
    "explore_data.plot_confusion_matrix(val_target, val_preds, classes, normalize=True)"
   ]
  },
  {
   "cell_type": "code",
   "execution_count": 17,
   "metadata": {
    "scrolled": false
   },
   "outputs": [
    {
     "data": {
      "image/png": "[encoded data removed]",
      "text/plain": [
       "<Figure size 720x720 with 2 Axes>"
      ]
     },
     "metadata": {
      "needs_background": "light"
     },
     "output_type": "display_data"
    }
   ],
   "source": [
    "reload(explore_data)\n",
    "explore_data.plot_calibration_curve(val_target, val_pred_probs, 'Gender')"
   ]
  },
  {
   "cell_type": "code",
   "execution_count": 45,
   "metadata": {},
   "outputs": [
    {
     "data": {
      "text/plain": [
       "0.2874251497005988"
      ]
     },
     "execution_count": 45,
     "metadata": {},
     "output_type": "execute_result"
    }
   ],
   "source": [
    "val_random = np.random.choice(a=[0,1], size=len(val_target), p = [0.7,0.3])\n",
    "val_random.sum()/val_random.shape[0]"
   ]
  },
  {
   "cell_type": "code",
   "execution_count": 49,
   "metadata": {},
   "outputs": [
    {
     "data": {
      "text/plain": [
       "(96, 96, 96)"
      ]
     },
     "execution_count": 49,
     "metadata": {},
     "output_type": "execute_result"
    }
   ],
   "source": [
    "val_sample, val_ids_sample, val_pred_probs_sample = [], [], []\n",
    "for i in range(len(val_ids)):\n",
    "    if val_random[i] == 1:\n",
    "        val_sample.append(val[i])\n",
    "        val_ids_sample.append(val_ids[i])\n",
    "        val_pred_probs_sample.append(val_pred_probs[i])\n",
    "len(val_sample), len(val_ids_sample), len(val_pred_probs_sample)"
   ]
  },
  {
   "cell_type": "code",
   "execution_count": 18,
   "metadata": {},
   "outputs": [
    {
     "name": "stderr",
     "output_type": "stream",
     "text": [
      "/usr/local/lib/python3.5/dist-packages/numpy/lib/arraysetops.py:569: FutureWarning: elementwise comparison failed; returning scalar instead, but in the future will perform elementwise comparison\n",
      "  mask |= (ar1 == a)\n"
     ]
    },
    {
     "data": {
      "text/plain": [
       "(337, 16)"
      ]
     },
     "execution_count": 18,
     "metadata": {},
     "output_type": "execute_result"
    }
   ],
   "source": [
    "descr_df = pd.read_csv('../data/QA/full_descr.txt', sep=\"|\", index_col=0)\n",
    "descr_df = descr_df.loc[np.asarray(val_ids, dtype=int)]\n",
    "descr_df.shape"
   ]
  },
  {
   "cell_type": "code",
   "execution_count": 19,
   "metadata": {},
   "outputs": [
    {
     "name": "stdout",
     "output_type": "stream",
     "text": [
      "Validation sample means:\n",
      "      Gender_F  Ethinicity_NW   AvgAge   Party_D  Chamber_H  AvgWordCount\n",
      "base  0.495549       0.053412  51.4273  0.519288   0.724036    384.501484\n"
     ]
    },
    {
     "data": {
      "text/html": [
       "<div>\n",
       "<style scoped>\n",
       "    .dataframe tbody tr th:only-of-type {\n",
       "        vertical-align: middle;\n",
       "    }\n",
       "\n",
       "    .dataframe tbody tr th {\n",
       "        vertical-align: top;\n",
       "    }\n",
       "\n",
       "    .dataframe thead th {\n",
       "        text-align: right;\n",
       "    }\n",
       "</style>\n",
       "<table border=\"1\" class=\"dataframe\">\n",
       "  <thead>\n",
       "    <tr style=\"text-align: right;\">\n",
       "      <th></th>\n",
       "      <th>Gender_F</th>\n",
       "      <th>Ethinicity_NW</th>\n",
       "      <th>AvgAge</th>\n",
       "      <th>Party_D</th>\n",
       "      <th>Chamber_H</th>\n",
       "      <th>AvgWordCount</th>\n",
       "    </tr>\n",
       "  </thead>\n",
       "  <tbody>\n",
       "    <tr>\n",
       "      <th>0.4</th>\n",
       "      <td>0.48</td>\n",
       "      <td>0.85</td>\n",
       "      <td>1.05</td>\n",
       "      <td>0.89</td>\n",
       "      <td>0.58</td>\n",
       "      <td>0.85</td>\n",
       "    </tr>\n",
       "    <tr>\n",
       "      <th>0.6</th>\n",
       "      <td>0.97</td>\n",
       "      <td>1.26</td>\n",
       "      <td>1.01</td>\n",
       "      <td>1.08</td>\n",
       "      <td>1.10</td>\n",
       "      <td>0.96</td>\n",
       "    </tr>\n",
       "    <tr>\n",
       "      <th>1.0</th>\n",
       "      <td>1.43</td>\n",
       "      <td>0.95</td>\n",
       "      <td>0.96</td>\n",
       "      <td>1.03</td>\n",
       "      <td>1.27</td>\n",
       "      <td>1.15</td>\n",
       "    </tr>\n",
       "  </tbody>\n",
       "</table>\n",
       "</div>"
      ],
      "text/plain": [
       "     Gender_F  Ethinicity_NW  AvgAge  Party_D  Chamber_H  AvgWordCount\n",
       "0.4      0.48           0.85    1.05     0.89       0.58          0.85\n",
       "0.6      0.97           1.26    1.01     1.08       1.10          0.96\n",
       "1.0      1.43           0.95    0.96     1.03       1.27          1.15"
      ]
     },
     "execution_count": 19,
     "metadata": {},
     "output_type": "execute_result"
    }
   ],
   "source": [
    "reload(explore_data)\n",
    "explore_data.check_bin_probs_distr(val_pred_probs, val_ids, descr_df)"
   ]
  },
  {
   "cell_type": "markdown",
   "metadata": {},
   "source": [
    "### TODO: add prob means by bin"
   ]
  },
  {
   "cell_type": "code",
   "execution_count": 20,
   "metadata": {},
   "outputs": [
    {
     "name": "stdout",
     "output_type": "stream",
     "text": [
      "\n",
      "Top 10 ngrams by differentiating score:\n",
      "the senator from \t 17.2\n",
      "ask unanimous consent \t 13.8\n",
      "ask unanimous consent that \t 11.8\n",
      "unanimous consent that \t 11.8\n",
      "in support of \t 9.0\n",
      "unanimous consent that the \t 8.8\n",
      "consent that the \t 8.8\n",
      "mr chairman rise in \t 7.0\n",
      "chairman rise in \t 7.0\n",
      "that is what \t 6.9\n"
     ]
    },
    {
     "data": {
      "text/html": [
       "<div>\n",
       "<style scoped>\n",
       "    .dataframe tbody tr th:only-of-type {\n",
       "        vertical-align: middle;\n",
       "    }\n",
       "\n",
       "    .dataframe tbody tr th {\n",
       "        vertical-align: top;\n",
       "    }\n",
       "\n",
       "    .dataframe thead th {\n",
       "        text-align: right;\n",
       "    }\n",
       "</style>\n",
       "<table border=\"1\" class=\"dataframe\">\n",
       "  <thead>\n",
       "    <tr style=\"text-align: right;\">\n",
       "      <th>bin</th>\n",
       "      <th>1</th>\n",
       "      <th>2</th>\n",
       "      <th>3</th>\n",
       "    </tr>\n",
       "  </thead>\n",
       "  <tbody>\n",
       "    <tr>\n",
       "      <th>ask unanimous consent</th>\n",
       "      <td>20.0</td>\n",
       "      <td>2.0</td>\n",
       "      <td>4.0</td>\n",
       "    </tr>\n",
       "    <tr>\n",
       "      <th>ask unanimous consent that</th>\n",
       "      <td>16.0</td>\n",
       "      <td>2.0</td>\n",
       "      <td>2.0</td>\n",
       "    </tr>\n",
       "    <tr>\n",
       "      <th>chairman rise in</th>\n",
       "      <td>1.0</td>\n",
       "      <td>1.0</td>\n",
       "      <td>13.0</td>\n",
       "    </tr>\n",
       "    <tr>\n",
       "      <th>consent that the</th>\n",
       "      <td>11.0</td>\n",
       "      <td>1.0</td>\n",
       "      <td>1.0</td>\n",
       "    </tr>\n",
       "    <tr>\n",
       "      <th>in support of</th>\n",
       "      <td>2.0</td>\n",
       "      <td>7.0</td>\n",
       "      <td>24.0</td>\n",
       "    </tr>\n",
       "    <tr>\n",
       "      <th>mr chairman rise in</th>\n",
       "      <td>1.0</td>\n",
       "      <td>1.0</td>\n",
       "      <td>13.0</td>\n",
       "    </tr>\n",
       "    <tr>\n",
       "      <th>that is what</th>\n",
       "      <td>9.0</td>\n",
       "      <td>0.0</td>\n",
       "      <td>0.0</td>\n",
       "    </tr>\n",
       "    <tr>\n",
       "      <th>the senator from</th>\n",
       "      <td>37.0</td>\n",
       "      <td>4.0</td>\n",
       "      <td>1.0</td>\n",
       "    </tr>\n",
       "    <tr>\n",
       "      <th>unanimous consent that</th>\n",
       "      <td>16.0</td>\n",
       "      <td>2.0</td>\n",
       "      <td>2.0</td>\n",
       "    </tr>\n",
       "    <tr>\n",
       "      <th>unanimous consent that the</th>\n",
       "      <td>11.0</td>\n",
       "      <td>1.0</td>\n",
       "      <td>1.0</td>\n",
       "    </tr>\n",
       "  </tbody>\n",
       "</table>\n",
       "</div>"
      ],
      "text/plain": [
       "bin                            1    2     3\n",
       "ask unanimous consent       20.0  2.0   4.0\n",
       "ask unanimous consent that  16.0  2.0   2.0\n",
       "chairman rise in             1.0  1.0  13.0\n",
       "consent that the            11.0  1.0   1.0\n",
       "in support of                2.0  7.0  24.0\n",
       "mr chairman rise in          1.0  1.0  13.0\n",
       "that is what                 9.0  0.0   0.0\n",
       "the senator from            37.0  4.0   1.0\n",
       "unanimous consent that      16.0  2.0   2.0\n",
       "unanimous consent that the  11.0  1.0   1.0"
      ]
     },
     "execution_count": 20,
     "metadata": {},
     "output_type": "execute_result"
    }
   ],
   "source": [
    "reload(explore_data)\n",
    "explore_data.compare_ngrams(val, val_pred_probs)"
   ]
  },
  {
   "cell_type": "code",
   "execution_count": 58,
   "metadata": {},
   "outputs": [
    {
     "name": "stdout",
     "output_type": "stream",
     "text": [
      "\n",
      "In 0.4 bin top 10 ngrams:\n",
      "\n",
      "the united states\n",
      "the gentleman from\n",
      "of the united states\n",
      "of the united\n",
      "the department of\n",
      "unanimous consent that\n",
      "this is the\n",
      "of the island\n",
      "fairfax symphony orchestra\n",
      "ask unanimous consent that\n",
      "--------------------\n",
      "\n",
      "In 0.6 bin top 10 ngrams:\n",
      "\n",
      "the federal government\n",
      "the united states\n",
      "the secretary of\n",
      "the estate tax\n",
      "the washington post\n",
      "the dairy support program\n",
      "the dairy support\n",
      "for the federal\n",
      "dairy support program\n",
      "aware of the\n",
      "--------------------\n",
      "\n",
      "In 1.0 bin top 10 ngrams:\n",
      "\n",
      "the united states\n",
      "percent of the\n",
      "would like to\n",
      "out of the\n",
      "we should not\n",
      "the obey substitute\n",
      "the number of\n",
      "the federal government\n",
      "thank the gentleman\n",
      "one of the\n",
      "--------------------\n"
     ]
    }
   ],
   "source": [
    "reload(explore_data)\n",
    "explore_data.ngrams_by_bin(val_sample, val_pred_probs_sample)"
   ]
  },
  {
   "cell_type": "code",
   "execution_count": 45,
   "metadata": {
    "scrolled": false
   },
   "outputs": [
    {
     "name": "stdout",
     "output_type": "stream",
     "text": [
      "\n",
      "False negative (Predicted prob: 0.08):\n",
      "\n",
      "date                  19821214\n",
      "char_count                 191\n",
      "word_count                  35\n",
      "speakerid          9.71093e+07\n",
      "Party                        R\n",
      "Congress                    97\n",
      "Chamber                      S\n",
      "State                       KS\n",
      "Ethnicity                    W\n",
      "Age                         50\n",
      "Age_lt_med                   1\n",
      "NonWhite                     0\n",
      "Female                       1\n",
      "speaker         Mrs. KASSEBAUM\n",
      "Full Name     KASSEBAUM, NANCY\n",
      "match                    exact\n",
      "Name: 970264542, dtype: object\n",
      "\n",
      " Mr. President. I state to the minority leader that I have no problem yielding the floor. with the assurance that we would be able to continue in the order of debate. The Senator from Missouri\n",
      "--------------------\n",
      "\n",
      "True negative (Predicted prob: 0.07):\n",
      "\n",
      "date              19820915\n",
      "char_count             769\n",
      "word_count             144\n",
      "speakerid      9.71182e+07\n",
      "Party                    R\n",
      "Congress                97\n",
      "Chamber                  S\n",
      "State                   UT\n",
      "Ethnicity                W\n",
      "Age                     48\n",
      "Age_lt_med               1\n",
      "NonWhite                 0\n",
      "Female                   0\n",
      "speaker          Mr. HATCH\n",
      "Full Name     HATCH, ORRIN\n",
      "match                exact\n",
      "Name: 970233939, dtype: object\n",
      "\n",
      " It has never been my understanding that the Senator from Oregon was going to filibuster this amendment. He has been willing to go forward with it. He and I have chatted a number of times about this. He has always been willing to go forward with -it. I think he would be in favor of an up or down vote. I do not know just how many votes we would have gotten. I believe that we may have done quite well. although not the requisite twothirds. I appreciate that. We had an agreement. a unanimousconsent agreement. to vote this up or down after an 8hour time limit but it failed because of the objection of another Member. The debate early next year will be the first unencumbered. full substantive debate on the public policy of abortion in this body. I look forward to it.\n",
      "--------------------\n",
      "\n",
      "False positive (Predicted prob: 0.92):\n",
      "\n",
      "date                   19820804\n",
      "char_count                14236\n",
      "word_count                 2101\n",
      "speakerid           9.71083e+07\n",
      "Party                         D\n",
      "Congress                     97\n",
      "Chamber                       H\n",
      "State                        CA\n",
      "Ethnicity                     B\n",
      "Age                          75\n",
      "Age_lt_med                    0\n",
      "NonWhite                      1\n",
      "Female                        0\n",
      "speaker             Mr. HAWKINS\n",
      "Full Name     HAWKINS, AUGUSTUS\n",
      "match                     exact\n",
      "Name: 970215677, dtype: object\n",
      "\n",
      " Mr. Chairman. the Job Training Partnership Act provides this House the first opportunity to address directly our most serious domestic problemwidspread and persistent unemployment. In other recent measures such as the housing and defense proposals. employment was only a secondary consideration. While critically Important to relieve real distress. extended unemployment insurance and other benefit programs address only the effects of severe joblessness. By providing skill training and employment assistance to enable unskilled workers to compete in the labor force and by retraining displaced experienced workers. this bill will dilectly assist minority youth. laidoff autoworkers. older workers. women. and veterans alike to obtain permanent private sector jobs. The Job Training Partnership Act is not offered as a cureall for pervasive unemployment. It is but one step in a comprehensive overall policy to put Americans to work and meet our national objectives. This bill is not a job creation billit is a training bill. Public service employment is not included in this proposal. Other job creating measures in the public and private sectors as well as monetary and fiscal policies designed to foster economic growth must be undertaken in conjunction with this job training proposal. Mr. Chairman. no issue more clearly impacts on the Nations capacity for economic growth than the ability of its work force to meet the needs of a changing economy. It has been estimated that fully half of the office and factory jobs will be replaced or significantly altered by the end of the century. The changes and contractions now being experienced in our industrial base due to changing demand. technology and international competition will have ramifications for the labor force which will be more farreaching than any event since the Industrial Revolution. H.R. 5320 is a complete replacement for the Comprehensive Employment and Training Act which expires at the end of this fiscal year. The bill reflects the lessons learned from our national employment and training initiatives since the Manpower Development and Training Act was enacted in 1962. The new proposal provides a comprehensive and flexible framework for addressing the two most critical problems in the labor force: unskilled. inexperienced. economically disadvantaged. individuals and skilled workers who have become displaced because of changing technology. imports or structural changes in the economy. In an economy which is increasingly measured by microchips. unskilled. economically disadvantaged individuals find fewer opportunities in the decreasing number of jobs which do not require technical competence or specific skills. A reading of the classified ads for computer technicians. nurses. mechanics and other specialists will illustrate this gap. The social and economic costs of Joblessness among this segment of the labor force are well documented. The second group is made up of the growing phenomenon of displaced workers: workers who have many years of attachment to the labor force but who find themselves unemployed as structural changes in the economy decrease demand for their particular skills or for the industries which have employed them for their working careers. The Congressional Budget Office estimates that approximately 1.2 million workers are unemployed workers from declining occupations. This estimate includes large numbers of older workers who may experience the greatest difficulty in transferring their skills and job tenure to new employment. The tales of autoworkers displaced after 30 years at GM or Chrysler are legion. Similar stories can be told about miners. workers in glass. chemical. rubber. or steel industries. It has been estimated. for example. that the steel industry will lose 100.000 permanent Jobs by 1990. The unemployment which results from these dislocations has a lasting impact on the workers. some of whom never recover their economic status. and on their communities which lose the base of their economic support. The Job Training Partnership Act seeks to build on the experience and accomplishments of the expiring Comprehensive Employment and Training Act while making needed improvements to assure a more effective and responsive job training system. The bill takes major new directions to assure greater effectiveness in preparing individuals for unsubsidized. permanent private sector employment. First. the proposal provides a comprehensive approach by targeting to both the economically disadvantaged and the displaced worker. by coordinating services among the various education. training. and employment institutions. including vocational education. the Employment Service. and the WIN program. and by strengthening the labor market information services so vital to an effective manpower strategy. Second. the proposal gives clearly defined and complementary responsibilities to Federal. State. and local governments. Local communities provide training and employment services to individuals based on local economic conditions and the needs of the community. State government performs the vital role of coordinating all employmentrelated programs in the State. providing labor market information and services to special populations in the State. the Federal Government establishes broad policy and performance guidelines. conducts research. demonstration and evaluation. and administers employment and training services to national target groups including migrants and Indians. Third. the proposal emphasizes training for private sector- jobs by establishing an equal partnership be. tween local government and private business and industry. The equal partnership concept in the conmiittee bill provides continued protection of the public interest while assuring that training and employment services lead to permanent jobs in the private sector. Fourth. the new approach gives maximum flexibility to local communities to determine the type of services to be provided. Previous categorical programs for the economically disadvantaged are consolidated into a single grant with approximately half of the funds to be used for services to youth. In place of prescriptive Federal requirements dictating how funds should be spent. the new proposal holds recipients accountable for performance by establishing binding performance standards which take into account differing local economic conditions. Future funding is predicated on the ability of local communities and subcontractors to meet these standards. The measure before you was developed after intensive review by the Subcommittee on Employment Opportunities and the Committee on Education and Labor. The committee conducted informal seminars. public hearings and site visits to training project for the past 2 years to probe the defects of the present program and develop strong alternatives to assure an effective. stable job training program. From the outset. this legislation was developed with the participation and cooperation of the minority members of the committee. Many of the outstanding provisions of the bill before you were incorporated from proposals developed by Mr. JEFFORDS. whose support and contributions as ranking minority member of the Employment Opportunities Subcommittee. assured that the bipartisan measure which emerged from committee was the strongest possible response to structural unemployment. This bill follows a tradition of bipartisan cooperation on job training legislation. Since 1962. when John Kennedy signed the Manpower Development and Training Act. every administration. Republican and Democrat. has recognized the need for a strong Federal mandate to provide job training opportunities to enable unemployed and underemployed workers obtain the skills necessary to compete in a constantly evolving economy. Richard Nixon called the Comprehensive Employment and Training Act of 1973 \"one of the finest pieces of legislation to reach my desk.\" Unfortunately. the view Is not shared by the present administration. This administration would abdicate Federal responsibility for overseeing a job training network and directing a national manpower strategy and would turn over this responsibility to the State governments. It is no mere coincidence that the proposal to give responsibility for job training programs to the States is accompanied by massive reductions in Federal funding for all employment and training efforts: This administration proposed the elimination of the older Americans community service employment program. the elimination of the WIN program for training welfare recipients. the drastic reduction of jobtraining funds under CETA. and reductions in funding for the Employment Services and for vocational education. While no administration jobtraining proposal was introduced in the House. the administration is now opposing the bill carefully crafted by the Education and Labor Committee with bipartisan support. The administration seeks sweeping changes to the House bill which would have the effect of undermining the balanced nature of the committee bill. The changes which the administration is seeking are: First. eliminate the authorization of $5.4 billion for 1983 funding. second. turn over t8 the States the Federal responsibility for monitoring and overseeing the administration of the jobtraining system and give the Governor designation and approval authority over local decisionmaking. third. give private industry the ultimate responsibility and authority to plan and implement the publicly funded jobtraining programs. fourth. drastically reduce the amount of funding which can be used for supportive services and administrative expenses. and fifth. prohibit the payment of any wages or stipends in connection with these training activities. I think it is important for my colleagues to understand just how the bill before them addresses the concerns raised by the administration: First. with respect to funding. the authorization in the committee bill is a ceiling adopted by the committee in recognition of the mandate to cut expenditures while preserving a minimum level necessary to assure the operation of a national job training system. This level of funding is less than half the amount expended in 1979. for example. when the rate of unemployment was only 5.8 percent. The committee recognized that funding for these programs will be determined by the appropriation process. but believed it necessary to provide guidance on the minimum level of funding necessary to allow efficient operation of a national program. Second. with regard to the State role in job training programs. the committee bill provides a greatly enhanced role for the Governor and the State government in coordinating the job training programs with other employment related programs in the State. The committee believes this is essential to maximize scarce resources and to assure that job training programs are consistent with overall State economic development strategies. The bill also gives the Governor new and substantial responsibility for administering programs of job search assistance. retraining. and other assistance to displaced workers. This will enable the Governor to quickly respond to mass layoffs. plant closures or other major job loss in any area of the State. Third. with respect to the role of private business. the committee bill creates an equal partnership between local governments and a businessdominated private industry council in each service delivery area. Development of the local job training plan and decisions on how funds will be administered are to be determined jointly. Any effort to shift the balance or responsibility to one party in this public/private partnership will undercut the ability of local communities to develop programs to meet their own peculiar needs. Fourth. the administration would require that not more than 30 percent of the funds could be used for the costs of administration. supportive services to participants and other employment assistance. The committee bill already reduces the limitation on administrative costs from 20 percent to 15 percent. The committee believed this reduced level will be made possible due to grant consolidation and simplification of administrative procedures. Any further reduction would be fiscally irresponsible and might result in inadequate monitoring of program activities. Further. the bill recognizes that economically disadvantaged Individuals need supportive services to enable them to participate in training programs. To deny assistance in the form of child care. transportation costs or other essential services will prevent those most in need from obtaining the training they need to become productive. taxpaying citizens. Fifth. with respect to wages and allowances. the only wages which are permitted are those provided in connection with a training activity. This bill does not authorize public service employment. As training is targeted to economically disadvantaged individuals. the bill provides for subsistence stipends to enable these individuals to enroll in fulltime training activities. Th6 amount of the stipend is determined on the basis of need. CRS estimates that the average per participant stipend will be only $1.32 per hour on the basis of the familyincome determination in the bill. Prohibiting the use of funds for allowances or stipends will mean that only those individuals with the means to support themselves and their families will be able to participate in training activities. It will also likely result in more shortterm training. when all the evidence points to the increased benefits of longer term training. In summary. the Job Training Partnership Act is a balanced. bipartisan measure which is designed to relieve presistent and pervasive structural unemployment. It protects Federal funds by assuring that only those in need receive financial assistance while in training and hold recipients accountable for program outcomes. assures active. meaningful participation by the business community and provides. a balanced and complimentary relationship among Federal. State and local responsibilities. I urge my colleagues support for the committee bill.\n",
      "--------------------\n",
      "\n",
      "True positive (Predicted prob: 0.91):\n",
      "\n",
      "date             19811214\n",
      "char_count           3707\n",
      "word_count            601\n",
      "speakerid     9.71096e+07\n",
      "Party                   D\n",
      "Congress               97\n",
      "Chamber                 H\n",
      "State                  OH\n",
      "Ethnicity               W\n",
      "Age                    42\n",
      "Age_lt_med              1\n",
      "NonWhite                0\n",
      "Female                  1\n",
      "speaker         Ms. OAKAR\n",
      "Full Name     OAKAR, MARY\n",
      "match               fuzzy\n",
      "Name: 970129680, dtype: object\n",
      "\n",
      " Mr. Speaker. in the past year and a half. Poland has been undergoing a remarkable social transformation. What began as a series of worker strikes over - food price Increases In August 1980. soon developed Into a broadbased. nationwide movement to abolish censorship. restore democracy and personal liberties. and win a greater measure of national independence for the country. Polands \"renewal. became possible thruugh the unshakable unity of the Polish people in the face of threats from the central government and from the Kremlin. This unity was harnessed and given direction by the Solidarity workers union. enabling the Polish people to stand up even to the highly publicized Red Army and Warsaw Pact maneuvers of last year and earlier this year which seemed likely to develop Into an actual invasion of the country. The cost of the social transforma-. tion. the \"renewal.\" In Poland has been high. The strikes which demonstrated the strength of the Polish masses. also sapped the strength of the Polish economy that was already in trouble because of the Inefficient system Imposed by Moscow on the Polish people nearly 40 years ago. Conditions have-.not been made easier by the Soviet manipulation of the flow of goods in and out of Poland In the past year. This has created shortages that were then blamed on Solidarity. Since the central government has been unwilling to try any meaningful reforms. the situation in Poland became stalemated. In recent months. Poland has hovered on the edge of economic collapse brought on by stubborn confrontation. Hardship became the daily lot of the Polish people. It is the price that Poles have thus far been willing to pay to achieve greater liberties and political independence from Moscow. Over the past weekend. the central Polish government has taken steps to break the political stalemate by force. Nearly all communications have been cut off between Poland and the outside world. Under the cover of a news blackout. the Army then went to work arresting hundreds of Polish citizens. The Kremlin Is no doubt pleased with the return to massive repressions. For those concerned with peace and freedom In the world. however. the situation In Poland is a matter of grave concern. The Polish people have historically been courageous and resourceful. That courage has been amply demonstrated in the past year and a half. Because of ideological constraints. though. their resourcefulness was never given a chance to unfold. So much energy was dissipated in political confrontationalways with an eye cast eastward toward the Kremlinthat the real problems of Poland were never ad. dressed. Now the. typical Soviet solutionbrute forceis going to be tried. It is my fervent prayer that the measures adopted by Premier Moiciech Jaruzelski and the newly formed Military Cou~ncil will be short lived. The Polish people have too much talent and vigor to be permanently harnessed by a military regime. The spirit generated by Solidarity was leading to the Independence and eventual prosperity of the Polish nation. The unhealthy influence and threats of intervention by outside powersspecifically the Soviet Unionhas again stifled the potential of a great nation. It should be clear by now that political arrests and force only postpone a solution to national problems. A permanent solution to Polands problems can only be achieved with the free expression of the Ideas. talents and energies of her people. Let people everywhere who are free to speak their minds come to -the defense of the -Polish workers and her patriotic citizenry. Peace. prosperity. and freedoma are the key to continued peace. prosperity. and the development of freedom In Europe and In the world.*\n",
      "--------------------\n"
     ]
    }
   ],
   "source": [
    "reload(explore_data)\n",
    "explore_data.print_mispredictions(val_target, val_pred_probs, val, val_ids, descr_df)"
   ]
  },
  {
   "cell_type": "code",
   "execution_count": null,
   "metadata": {},
   "outputs": [],
   "source": []
  }
 ],
 "metadata": {
  "kernelspec": {
   "display_name": "Python 3",
   "language": "python",
   "name": "python3"
  },
  "language_info": {
   "codemirror_mode": {
    "name": "ipython",
    "version": 3
   },
   "file_extension": ".py",
   "mimetype": "text/x-python",
   "name": "python",
   "nbconvert_exporter": "python",
   "pygments_lexer": "ipython3",
   "version": "3.5.2"
  }
 },
 "nbformat": 4,
 "nbformat_minor": 2
}
