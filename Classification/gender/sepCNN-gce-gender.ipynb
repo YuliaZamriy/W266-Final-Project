{
 "cells": [
  {
   "cell_type": "code",
   "execution_count": 4,
   "metadata": {},
   "outputs": [
    {
     "data": {
      "text/html": [
       "<style>.container { width:100% !important; }</style>"
      ],
      "text/plain": [
       "<IPython.core.display.HTML object>"
      ]
     },
     "metadata": {},
     "output_type": "display_data"
    }
   ],
   "source": [
    "# increase cell width\n",
    "from IPython.core.display import display, HTML\n",
    "display(HTML(\"<style>.container { width:100% !important; }</style>\"))"
   ]
  },
  {
   "cell_type": "markdown",
   "metadata": {},
   "source": [
    "Inspiration for code:\n",
    "\n",
    "- https://developers.google.com/machine-learning/guides/text-classification/\n",
    "- https://github.com/google/eng-edu/blob/master/ml/guides/text_classification/load_data.py"
   ]
  },
  {
   "cell_type": "code",
   "execution_count": 5,
   "metadata": {},
   "outputs": [],
   "source": [
    "from __future__ import absolute_import\n",
    "from __future__ import division\n",
    "from __future__ import print_function\n",
    "\n",
    "import os\n",
    "import random\n",
    "import time\n",
    "import pickle\n",
    "import gc\n",
    "import re\n",
    "\n",
    "import numpy as np\n",
    "import pandas as pd\n",
    "\n",
    "from importlib import reload"
   ]
  },
  {
   "cell_type": "code",
   "execution_count": 6,
   "metadata": {},
   "outputs": [
    {
     "name": "stderr",
     "output_type": "stream",
     "text": [
      "/home/yulia/anaconda3/lib/python3.6/site-packages/h5py/__init__.py:36: FutureWarning: Conversion of the second argument of issubdtype from `float` to `np.floating` is deprecated. In future, it will be treated as `np.float64 == np.dtype(float).type`.\n",
      "  from ._conv import register_converters as _register_converters\n"
     ]
    }
   ],
   "source": [
    "from helpers import load_data\n",
    "from helpers import explore_data\n",
    "from helpers import preprocess_data\n",
    "from helpers import train_model"
   ]
  },
  {
   "cell_type": "code",
   "execution_count": 4,
   "metadata": {},
   "outputs": [
    {
     "data": {
      "text/plain": [
       "'1.13.0-rc2'"
      ]
     },
     "execution_count": 4,
     "metadata": {},
     "output_type": "execute_result"
    }
   ],
   "source": [
    "import tensorflow as tf\n",
    "tf.__version__"
   ]
  },
  {
   "cell_type": "code",
   "execution_count": 2,
   "metadata": {},
   "outputs": [],
   "source": [
    "main_dir = '/home/yulia/W266-Final-Project/'"
   ]
  },
  {
   "cell_type": "code",
   "execution_count": 13,
   "metadata": {},
   "outputs": [],
   "source": [
    "data_path = main_dir+'data/raw/hein-daily'"
   ]
  },
  {
   "cell_type": "markdown",
   "metadata": {},
   "source": [
    "## Load processed files"
   ]
  },
  {
   "cell_type": "code",
   "execution_count": 19,
   "metadata": {},
   "outputs": [],
   "source": [
    "outdata_path = main_dir+'Classification/data/splits/gender'"
   ]
  },
  {
   "cell_type": "code",
   "execution_count": 20,
   "metadata": {},
   "outputs": [],
   "source": [
    "with open(os.path.join(outdata_path, 'train_list'), 'rb') as fp:\n",
    "    train = pickle.load(fp)\n",
    "with open(os.path.join(outdata_path, 'train_ids'), 'rb') as fp:\n",
    "    train_ids = pickle.load(fp)\n",
    "with open(os.path.join(outdata_path, 'train_target'), 'rb') as fp:\n",
    "    train_target = pickle.load(fp)"
   ]
  },
  {
   "cell_type": "code",
   "execution_count": 21,
   "metadata": {},
   "outputs": [],
   "source": [
    "with open(os.path.join(outdata_path, 'val_list'), 'rb') as fp:\n",
    "    val = pickle.load(fp)\n",
    "with open(os.path.join(outdata_path, 'val_ids'), 'rb') as fp:\n",
    "    val_ids = pickle.load(fp)\n",
    "with open(os.path.join(outdata_path, 'val_target'), 'rb') as fp:\n",
    "    val_target = pickle.load(fp)"
   ]
  },
  {
   "cell_type": "code",
   "execution_count": 3,
   "metadata": {},
   "outputs": [],
   "source": [
    "token_path = main_dir+'Classification/data/tokenized/gender'"
   ]
  },
  {
   "cell_type": "code",
   "execution_count": 7,
   "metadata": {},
   "outputs": [],
   "source": [
    "train_vec = np.load(os.path.join(token_path, 'train_vec.npy'))\n",
    "val_vec = np.load(os.path.join(token_path, 'val_vec.npy'))\n",
    "test_vec = np.load(os.path.join(token_path, 'test_vec.npy'))"
   ]
  },
  {
   "cell_type": "code",
   "execution_count": 26,
   "metadata": {},
   "outputs": [],
   "source": [
    "word_index = pickle.load(open(os.path.join(token_path, 'word_index.p'), 'rb'))"
   ]
  },
  {
   "cell_type": "code",
   "execution_count": 8,
   "metadata": {},
   "outputs": [
    {
     "data": {
      "text/plain": [
       "(188148, 62716, 62716)"
      ]
     },
     "execution_count": 8,
     "metadata": {},
     "output_type": "execute_result"
    }
   ],
   "source": [
    "len(train_vec), len(val_vec), len(test_vec)"
   ]
  },
  {
   "cell_type": "markdown",
   "metadata": {},
   "source": [
    "## CNN model - Full Speech + Glove Embeddings"
   ]
  },
  {
   "cell_type": "code",
   "execution_count": 24,
   "metadata": {},
   "outputs": [],
   "source": [
    "logs_base_dir = main_dir + 'Classification/logs/gender'"
   ]
  },
  {
   "cell_type": "code",
   "execution_count": 27,
   "metadata": {},
   "outputs": [],
   "source": [
    "sepcnn_model_params = {\n",
    "    'model': 'sepcnn',\n",
    "    'word_index': word_index,\n",
    "    'learning_rate': 0.001,\n",
    "    'layers': 2,\n",
    "    'epochs': 1000,\n",
    "    'batch_size': 128,\n",
    "    'blocks': 2,\n",
    "    'filters': 64,\n",
    "    'dropout_rate': 0.2,\n",
    "    'embedding_dim': 200,\n",
    "    'kernel_size': 5,\n",
    "    'pool_size': 3,\n",
    "    'max_num_words': 20000,\n",
    "    'use_pretrained_embedding': False,\n",
    "    'is_embedding_trainable': True\n",
    "}"
   ]
  },
  {
   "cell_type": "code",
   "execution_count": 28,
   "metadata": {},
   "outputs": [
    {
     "name": "stdout",
     "output_type": "stream",
     "text": [
      "WARNING:tensorflow:From /home/yulia/anaconda3/lib/python3.6/site-packages/tensorflow/python/ops/resource_variable_ops.py:435: colocate_with (from tensorflow.python.framework.ops) is deprecated and will be removed in a future version.\n",
      "Instructions for updating:\n",
      "Colocations handled automatically by placer.\n",
      "WARNING:tensorflow:From /home/yulia/anaconda3/lib/python3.6/site-packages/tensorflow/python/keras/layers/core.py:143: calling dropout (from tensorflow.python.ops.nn_ops) with keep_prob is deprecated and will be removed in a future version.\n",
      "Instructions for updating:\n",
      "Please use `rate` instead of `keep_prob`. Rate should be set to `rate = 1 - keep_prob`.\n",
      "Train on 188148 samples, validate on 62716 samples\n",
      "WARNING:tensorflow:From /home/yulia/anaconda3/lib/python3.6/site-packages/tensorflow/python/ops/math_ops.py:3066: to_int32 (from tensorflow.python.ops.math_ops) is deprecated and will be removed in a future version.\n",
      "Instructions for updating:\n",
      "Use tf.cast instead.\n",
      "Epoch 1/1000\n",
      " - 852s - loss: 0.6851 - acc: 0.5214 - val_loss: 0.5937 - val_acc: 0.6881\n",
      "Epoch 2/1000\n",
      " - 841s - loss: 0.5610 - acc: 0.7167 - val_loss: 0.5447 - val_acc: 0.7307\n",
      "Epoch 3/1000\n",
      " - 833s - loss: 0.5133 - acc: 0.7501 - val_loss: 0.5435 - val_acc: 0.7288\n",
      "Epoch 4/1000\n",
      " - 833s - loss: 0.4825 - acc: 0.7680 - val_loss: 0.5443 - val_acc: 0.7317\n",
      "Epoch 5/1000\n",
      " - 833s - loss: 0.4527 - acc: 0.7840 - val_loss: 0.5707 - val_acc: 0.7290\n",
      "Validation accuracy: 0.7289846539497375, loss: 0.5707138606545359\n"
     ]
    }
   ],
   "source": [
    "reload(train_model)\n",
    "history, train_pred_probs, val_pred_probs = train_model.train_model(((train_vec, train_target), (val_vec, val_target)), logs_base_dir, **sepcnn_model_params)"
   ]
  },
  {
   "cell_type": "markdown",
   "metadata": {},
   "source": [
    "### Clean up space/save outputs"
   ]
  },
  {
   "cell_type": "code",
   "execution_count": 29,
   "metadata": {},
   "outputs": [],
   "source": [
    "probs_path = main_dir+'Classification/data/probs/gender/'"
   ]
  },
  {
   "cell_type": "code",
   "execution_count": 30,
   "metadata": {},
   "outputs": [],
   "source": [
    "np.save(probs_path+'val_pred_probs_sep', val_pred_probs, allow_pickle=True, fix_imports=True)"
   ]
  },
  {
   "cell_type": "code",
   "execution_count": 47,
   "metadata": {},
   "outputs": [],
   "source": [
    "val_pred_probs = np.load(probs_path+'val_pred_probs_sep.npy', allow_pickle=True, fix_imports=True)"
   ]
  },
  {
   "cell_type": "markdown",
   "metadata": {},
   "source": [
    "## Model Evaluation"
   ]
  },
  {
   "cell_type": "code",
   "execution_count": 31,
   "metadata": {},
   "outputs": [
    {
     "data": {
      "text/plain": [
       "0.7289846291217552"
      ]
     },
     "execution_count": 31,
     "metadata": {},
     "output_type": "execute_result"
    }
   ],
   "source": [
    "val_preds = val_pred_probs > 0.5\n",
    "np.mean(val_preds.flatten()==val_target)"
   ]
  },
  {
   "cell_type": "code",
   "execution_count": 32,
   "metadata": {},
   "outputs": [
    {
     "data": {
      "text/plain": [
       "((62716, 1), 62716)"
      ]
     },
     "execution_count": 32,
     "metadata": {},
     "output_type": "execute_result"
    }
   ],
   "source": [
    "val_preds.shape, len(val_target)"
   ]
  },
  {
   "cell_type": "code",
   "execution_count": 33,
   "metadata": {},
   "outputs": [
    {
     "data": {
      "text/plain": [
       "array([31205])"
      ]
     },
     "execution_count": 33,
     "metadata": {},
     "output_type": "execute_result"
    }
   ],
   "source": [
    "sum(val_preds)"
   ]
  },
  {
   "cell_type": "code",
   "execution_count": 34,
   "metadata": {},
   "outputs": [
    {
     "name": "stdout",
     "output_type": "stream",
     "text": [
      "Confusion matrix, without normalization\n",
      "[[22936  8422]\n",
      " [ 8575 22783]]\n",
      "             precision    recall  f1-score   support\n",
      "\n",
      "       Male       0.73      0.73      0.73     31358\n",
      "     Female       0.73      0.73      0.73     31358\n",
      "\n",
      "avg / total       0.73      0.73      0.73     62716\n",
      "\n"
     ]
    },
    {
     "data": {
      "text/plain": [
       "<matplotlib.axes._subplots.AxesSubplot at 0x7fe1784ec4a8>"
      ]
     },
     "execution_count": 34,
     "metadata": {},
     "output_type": "execute_result"
    },
    {
     "data": {
      "image/png": "[encoded data removed]",
      "text/plain": [
       "<Figure size 432x288 with 2 Axes>"
      ]
     },
     "metadata": {},
     "output_type": "display_data"
    }
   ],
   "source": [
    "reload(explore_data)\n",
    "# specify class names in 0 - 1 order\n",
    "classes = ['Male', 'Female']\n",
    "explore_data.plot_confusion_matrix(val_target, val_preds, classes, normalize=True)"
   ]
  },
  {
   "cell_type": "code",
   "execution_count": 35,
   "metadata": {},
   "outputs": [
    {
     "data": {
      "image/png": "[encoded data removed]",
      "text/plain": [
       "<Figure size 720x720 with 2 Axes>"
      ]
     },
     "metadata": {},
     "output_type": "display_data"
    }
   ],
   "source": [
    "reload(explore_data)\n",
    "explore_data.plot_calibration_curve(val_target, val_pred_probs, 'Gender')"
   ]
  },
  {
   "cell_type": "code",
   "execution_count": 36,
   "metadata": {
    "scrolled": true
   },
   "outputs": [
    {
     "name": "stderr",
     "output_type": "stream",
     "text": [
      "/home/yulia/anaconda3/lib/python3.6/site-packages/numpy/lib/arraysetops.py:472: FutureWarning: elementwise comparison failed; returning scalar instead, but in the future will perform elementwise comparison\n",
      "  mask |= (ar1 == a)\n"
     ]
    },
    {
     "data": {
      "text/plain": [
       "(62716, 16)"
      ]
     },
     "execution_count": 36,
     "metadata": {},
     "output_type": "execute_result"
    }
   ],
   "source": [
    "descr_df = pd.read_csv(main_dir+'data/QA/full_descr.txt', sep=\"|\", index_col=0)\n",
    "descr_df = descr_df.loc[np.asarray(val_ids, dtype=int)]\n",
    "descr_df.shape"
   ]
  },
  {
   "cell_type": "code",
   "execution_count": 37,
   "metadata": {},
   "outputs": [
    {
     "name": "stdout",
     "output_type": "stream",
     "text": [
      "Validation sample means:\n",
      "      Gender_F  Ethinicity_NW     AvgAge   Party_D  Chamber_H  AvgWordCount\n",
      "base       0.5        0.17549  58.248453  0.621101   0.659624    392.229001\n"
     ]
    },
    {
     "data": {
      "text/html": [
       "<div>\n",
       "<style scoped>\n",
       "    .dataframe tbody tr th:only-of-type {\n",
       "        vertical-align: middle;\n",
       "    }\n",
       "\n",
       "    .dataframe tbody tr th {\n",
       "        vertical-align: top;\n",
       "    }\n",
       "\n",
       "    .dataframe thead th {\n",
       "        text-align: right;\n",
       "    }\n",
       "</style>\n",
       "<table border=\"1\" class=\"dataframe\">\n",
       "  <thead>\n",
       "    <tr style=\"text-align: right;\">\n",
       "      <th></th>\n",
       "      <th>Gender_F</th>\n",
       "      <th>Ethinicity_NW</th>\n",
       "      <th>AvgAge</th>\n",
       "      <th>Party_D</th>\n",
       "      <th>Chamber_H</th>\n",
       "      <th>AvgWordCount</th>\n",
       "    </tr>\n",
       "  </thead>\n",
       "  <tbody>\n",
       "    <tr>\n",
       "      <th>0.4</th>\n",
       "      <td>0.46</td>\n",
       "      <td>0.46</td>\n",
       "      <td>0.99</td>\n",
       "      <td>0.84</td>\n",
       "      <td>0.74</td>\n",
       "      <td>1.02</td>\n",
       "    </tr>\n",
       "    <tr>\n",
       "      <th>0.6</th>\n",
       "      <td>1.00</td>\n",
       "      <td>0.89</td>\n",
       "      <td>0.99</td>\n",
       "      <td>0.96</td>\n",
       "      <td>1.12</td>\n",
       "      <td>0.65</td>\n",
       "    </tr>\n",
       "    <tr>\n",
       "      <th>1.0</th>\n",
       "      <td>1.54</td>\n",
       "      <td>1.59</td>\n",
       "      <td>1.01</td>\n",
       "      <td>1.17</td>\n",
       "      <td>1.20</td>\n",
       "      <td>1.15</td>\n",
       "    </tr>\n",
       "  </tbody>\n",
       "</table>\n",
       "</div>"
      ],
      "text/plain": [
       "     Gender_F  Ethinicity_NW  AvgAge  Party_D  Chamber_H  AvgWordCount\n",
       "0.4      0.46           0.46    0.99     0.84       0.74          1.02\n",
       "0.6      1.00           0.89    0.99     0.96       1.12          0.65\n",
       "1.0      1.54           1.59    1.01     1.17       1.20          1.15"
      ]
     },
     "execution_count": 37,
     "metadata": {},
     "output_type": "execute_result"
    }
   ],
   "source": [
    "reload(explore_data)\n",
    "# checking the ratios of demo variables in low-mid-high probability buckets\n",
    "explore_data.check_bin_probs_distr(val_pred_probs, \n",
    "                                   val_ids, \n",
    "                                   descr_df)"
   ]
  },
  {
   "cell_type": "code",
   "execution_count": 38,
   "metadata": {},
   "outputs": [
    {
     "name": "stdout",
     "output_type": "stream",
     "text": [
      "\n",
      "Top 10 ngrams by differentiating score:\n",
      "toledos \t 2379.9\n",
      "shawnee \t 2303.4\n",
      "overland \t 2264.9\n",
      "ks \t 2235.6\n",
      "messrs \t 2082.4\n",
      "toledo \t 2039.8\n",
      "eleanor \t 2006.6\n",
      "west high \t 1976.8\n",
      "payne of \t 1899.5\n",
      "south high \t 1816.9\n"
     ]
    },
    {
     "data": {
      "text/html": [
       "<div>\n",
       "<style scoped>\n",
       "    .dataframe tbody tr th:only-of-type {\n",
       "        vertical-align: middle;\n",
       "    }\n",
       "\n",
       "    .dataframe tbody tr th {\n",
       "        vertical-align: top;\n",
       "    }\n",
       "\n",
       "    .dataframe thead th {\n",
       "        text-align: right;\n",
       "    }\n",
       "</style>\n",
       "<table border=\"1\" class=\"dataframe\">\n",
       "  <thead>\n",
       "    <tr style=\"text-align: right;\">\n",
       "      <th>bin</th>\n",
       "      <th>1</th>\n",
       "      <th>2</th>\n",
       "      <th>3</th>\n",
       "      <th>4</th>\n",
       "    </tr>\n",
       "  </thead>\n",
       "  <tbody>\n",
       "    <tr>\n",
       "      <th>eleanor</th>\n",
       "      <td>18.0</td>\n",
       "      <td>14.0</td>\n",
       "      <td>87.0</td>\n",
       "      <td>21.0</td>\n",
       "    </tr>\n",
       "    <tr>\n",
       "      <th>ks</th>\n",
       "      <td>38.0</td>\n",
       "      <td>19.0</td>\n",
       "      <td>47.0</td>\n",
       "      <td>71.0</td>\n",
       "    </tr>\n",
       "    <tr>\n",
       "      <th>messrs</th>\n",
       "      <td>13.0</td>\n",
       "      <td>2.0</td>\n",
       "      <td>170.0</td>\n",
       "      <td>63.0</td>\n",
       "    </tr>\n",
       "    <tr>\n",
       "      <th>overland</th>\n",
       "      <td>7.0</td>\n",
       "      <td>0.0</td>\n",
       "      <td>3.0</td>\n",
       "      <td>23.0</td>\n",
       "    </tr>\n",
       "    <tr>\n",
       "      <th>payne of</th>\n",
       "      <td>1.0</td>\n",
       "      <td>1.0</td>\n",
       "      <td>3.0</td>\n",
       "      <td>5.0</td>\n",
       "    </tr>\n",
       "    <tr>\n",
       "      <th>shawnee</th>\n",
       "      <td>5.0</td>\n",
       "      <td>0.0</td>\n",
       "      <td>5.0</td>\n",
       "      <td>37.0</td>\n",
       "    </tr>\n",
       "    <tr>\n",
       "      <th>south high</th>\n",
       "      <td>2.0</td>\n",
       "      <td>1.0</td>\n",
       "      <td>7.0</td>\n",
       "      <td>8.0</td>\n",
       "    </tr>\n",
       "    <tr>\n",
       "      <th>toledo</th>\n",
       "      <td>25.0</td>\n",
       "      <td>7.0</td>\n",
       "      <td>326.0</td>\n",
       "      <td>43.0</td>\n",
       "    </tr>\n",
       "    <tr>\n",
       "      <th>toledos</th>\n",
       "      <td>1.0</td>\n",
       "      <td>0.0</td>\n",
       "      <td>22.0</td>\n",
       "      <td>7.0</td>\n",
       "    </tr>\n",
       "    <tr>\n",
       "      <th>west high</th>\n",
       "      <td>6.0</td>\n",
       "      <td>0.0</td>\n",
       "      <td>5.0</td>\n",
       "      <td>11.0</td>\n",
       "    </tr>\n",
       "  </tbody>\n",
       "</table>\n",
       "</div>"
      ],
      "text/plain": [
       "bin            1     2      3     4\n",
       "eleanor     18.0  14.0   87.0  21.0\n",
       "ks          38.0  19.0   47.0  71.0\n",
       "messrs      13.0   2.0  170.0  63.0\n",
       "overland     7.0   0.0    3.0  23.0\n",
       "payne of     1.0   1.0    3.0   5.0\n",
       "shawnee      5.0   0.0    5.0  37.0\n",
       "south high   2.0   1.0    7.0   8.0\n",
       "toledo      25.0   7.0  326.0  43.0\n",
       "toledos      1.0   0.0   22.0   7.0\n",
       "west high    6.0   0.0    5.0  11.0"
      ]
     },
     "execution_count": 38,
     "metadata": {},
     "output_type": "execute_result"
    }
   ],
   "source": [
    "reload(explore_data)\n",
    "explore_data.compare_ngrams(val, val_pred_probs, ngram_range=(1, 2))"
   ]
  },
  {
   "cell_type": "code",
   "execution_count": 39,
   "metadata": {
    "scrolled": false
   },
   "outputs": [
    {
     "name": "stdout",
     "output_type": "stream",
     "text": [
      "\n",
      "True positive (Predicted prob: 0.93):\n",
      "\n",
      "date                          20050714\n",
      "char_count                        5972\n",
      "word_count                        1103\n",
      "speakerid                   1.0912e+08\n",
      "Party                                D\n",
      "Congress                           109\n",
      "Chamber                              H\n",
      "State                               TX\n",
      "Ethnicity                            B\n",
      "Age                                 56\n",
      "Age_lt_med                           1\n",
      "NonWhite                             1\n",
      "Female                               1\n",
      "speaker       Ms. JACKSON-LEE of Texas\n",
      "Full Name          JACKSON LEE, SHEILA\n",
      "match                            exact\n",
      "Name: 1090055372, dtype: object\n",
      "\n",
      " Madam Speaker. today I speak about the ravages of war. I also say to my colleagues that there is no claim of being unpatriotic when you desire to speak of peace. The ravages of war can generate much devastation. not only in our domestic society. but also internationally. I rise today. first of all. to pay tribute to a young man who lived in my community who was buried today. a young officer in the United States military. enlisted personnel. young and bright and committed to serving his country. In actuality. he died serving his country. l 1545 Mr. Speaker. it was not by the ordinary manner in which you might have thought he may have lost his life. he did not suffer a wound. but he was a casualty of war. For he was sent into Iraq already ailing. but because of the need for the recruiting numbers and the necessity of meeting quotas. he was sent to Iraq. And he served ably. But he was carried out on a stretcher. because. unfortunately. he suffered liver failure. No matter how our young men and women. enlisted personnel. Reservists and National Guard lose their life in the line of battle. we owe them a great debt of gratitude. And so to his mother today as she buried her son. I offered to her my deepest sympathy. Unfortunately. things do not work a lot of times when we think of the way our government should. and that is why I account or say that this is part of the ravages of war. The hospital system failed Nathaniel Parker. from the hospital system. the military system. the veterans system failed him. maybe because they had a billion dollar shortfall. But when he went to the hospital to receive treatment. he was turned away. I will not allow that to stand. because I will be taking his case and calling for an investigation. because I do not want one single soldier to come home and face the doors of the hospitals being shut in their face. The ravages of war also find that children are being killed. How sad it is to find that soldiers who simply wanted to engage children in Iraq were the cause or the genesis of children. because of a horrible suicide bomber. an evil person. yes. but because of the existence of our military there and the children coming to them to receive candy. much of what I have seen when I visited the soldiers. because they care and they love. the soldiers were endangered. the children were endangered. and we saw the killing of children in Iraq. the ravages of war. And then of course in the last 24 hours. the Green Zone that is supposed to be safe. the very place that I slept while I was in Iraq. had two explosions. So that means that our command and our soldiers that come there for comfort. our contractors are not safe. The ravages of war. The explosions in the Green Zone. There is no safety in Iraq. And then when you talk to the Iraqi people. they say. We have no running water. we have no electricity. we cannot send our children to school. Meeting with women there. they said that they are in fear of their lives. and their children cannot go to school. There is no solution that seems to be to bring about peace. And then. of course. there is discussion of whether or not our military should be inside Iraq or really at the borders to stop the insurgents or those who come to do terrorists acts from coming inside into the country. Most importantly. as we give the deepest sympathy to our friends in London. England. we offer to our prayers to their families. We realize that the terrorism was not one that came inside. it existed inside the country. and we realize that that terrorism is what we should be focused on. and the fact that Iraq continues to churn in the minds of those who think that we are not the great Nation that we are. it continues to foster in the minds of those that they should do evil things. And so it is important for the President and this administration to set a timeline. not a date certain. but a timeline to bring our troops home. For the families who are now distraught. the Reservists and the National Guard families who cannot make ends meet. and. of course. for a war that is churning in the minds of those who believe that that is all that America represents. it churns. it permeates. it sours. and it turns into evil acts. It is important for this Nation to stand up and acknowledge that Iraq must take the leadership of its own country. We might be able to stay on the border. but the constant jeopardy of our young men and women on the front lines. not because they are not brave. not because they are not courageous. because we have no plan. we have no solution. and they become targets of evilness. the children become targets of evilness because we represent a certain force in Iraq. The war was based upon misdirection and untruth. and so it is hard to be able to be liberators when there are no weapons of mass destruction. I would simply argue that we must come together. and I am delighted to be on the bipartisan legislation that speaks about an orderly timeline. And I hope if we ever take this country to war again. whatever president it may be. Democratic or Republican. that we will do so with a constitutional vote under the Constitution. because we recognize when America is at war. we come together as one. we support our troops. But the way that we go to war is the key. And victory will come to those who understand process and understand plan and understand solution and understand exit strategies. success strategies. And so. Madam Speaker. I think it is important. as I pay tribute to Nathaniel Parker who was buried today. a young soldier who served his country in Iraq. that we say to the Nathaniel Parkers whose medical system here in the United States failed him. not on our clock. not on our watch will this ever happen again. not at Abu Ghraib. or not the tragedies of loss of life. not anything that spoils the Democratic thrust of America. It will not be on our clock. And I ask my colleagues to work with us to bring our troops home. a\n",
      "--------------------\n",
      "\n",
      "True negative (Predicted prob: 0.06):\n",
      "\n",
      "date              20070418\n",
      "char_count            2187\n",
      "word_count             351\n",
      "speakerid      1.10121e+08\n",
      "Party                    D\n",
      "Congress               110\n",
      "Chamber                  H\n",
      "State                   CA\n",
      "Ethnicity                W\n",
      "Age                     48\n",
      "Age_lt_med               1\n",
      "NonWhite                 0\n",
      "Female                   0\n",
      "speaker         Mr. SCHIFF\n",
      "Full Name     SCHIFF, ADAM\n",
      "match                fuzzy\n",
      "Name: 1100035021, dtype: object\n",
      "\n",
      " Madam Speaker. I rise today to honor Dr. James Kossler. Dr. Kossler has served the community for more than 40 years in education. During this time. he devoted 19 years to Pasadena City College (PCC). 12 of which he served as President. Dr. Kossler has dedicated himself to the promotion of student success and educational achievement. Raised in Lynwood. California. Dr. Kossler received his bachelors degree in philosophy and english from Saint Johns College. Califomia. and later earned a baccalaureate in theology and cannon law from Gregorian University. Rome. Italy. He then obtained his Master of Science degree in school management. and his Doctor of Education degree in institutional management from Pepperdine University. Dr. Kossler taught at numerous high schools in the Los Angeles area and also held positions at East Los Angeles College. the University of Southern California. Pepperdine University. and Long Beach City College before serving as Vice President of PCC in 1988. Since then. he has served as a member of the Chancellors Task Force on the Community College Budget. the State Commission on Athletics. and the Community College Leagues Commission on Legislation and Finance. Along with his involvement in education. Dr. Kossler is also an active member in the Rotary Club of Pasadena. the Pasadena Senior Center. and the YWCA. In October 1995. the Pasadena Area Community College District Board of Trustees appointed Dr. Kossler as the 10th President of PCC. Throughout his 12year tenure as President. he advocated a vision that PCC would be a leamingcentered institution that focused on improving the performance standards for students. Dr. Kossler aspired to increase the success of students in the completion of courses. number of degrees and certificates awarded. and the number of students transferring to 4year institutions. I ask all Members to join with me in congratulating Dr. James Kossler for his dedicated service and commitment to the promotion of education. I am sure that each person positively affected by Dr. Kosslers service will also join me in wishing him much joy in the years to come and thank him for his time. his energy. and his efforts.\n",
      "--------------------\n",
      "\n",
      "False positive (Predicted prob: 0.99):\n",
      "\n",
      "date                   19931120\n",
      "char_count                19719\n",
      "word_count                 3436\n",
      "speakerid           1.03117e+08\n",
      "Party                         D\n",
      "Congress                    103\n",
      "Chamber                       S\n",
      "State                        WV\n",
      "Ethnicity                     W\n",
      "Age                          57\n",
      "Age_lt_med                    0\n",
      "NonWhite                      0\n",
      "Female                        0\n",
      "speaker         Mr. ROCKEFELLER\n",
      "Full Name     ROCKEFELLER, JOHN\n",
      "match                     fuzzy\n",
      "Name: 1030122775, dtype: object\n",
      "\n",
      " Mr. President. with great pride. today I become an original cosponsor of President Clintons Health Care Security Act of 1993to join him and my colleagues in putting forward legislation that when enacted will guarantee every American health care that can never be taken away. And I congratulate the First Lady and her dedicated staff for leading the intense and crucial effort that has brought us to this historic point. I mean it when I say that it would be Impossible for me to express the enormous hope that I have as I submit my name as a cosponsor of this legislation. We are making history in this chamber today. We are all committing ourselves to help enact health care reform that delivers on the Presidents rocksolid. nonnegotiable principles of health security. quality. choice. simplicity. savings. and responsibility. Americans deserve no less. It Is our responsibility to take this body of work that the President has presented and fashion it into a law that will truly. systemically. reform our health care system--guaranteeing universal access and coverage for all. and the cost containment our system needs. As we join together to introduce this legislation. it seems appropriate to reflect on what has made systemic health care reform a burning passion for me. Thirty years ago. as a VISTA worker. I went to Emmons. WVa small coal camp town deep in the West Virginia hills. Like so many West Virginians. the families there worked hard sunup to sundown. Just to scratch out a living. My time in Emmons was more rewarding and productive than I can ever convey. We built a library. We pulled down an abandoned school house in another town. brought the boards back -one by one to Emmons. and built a community center. We started a preschool. We won a hard fight just to get the school bus to stop at Emmons. But for all we accomplished. there were things that could not be changed. One was that for all their hard work and strong values. the people of Emmons could never. ever feel secure about their health. There were no guarantees that if they really needed medical care. they could afford it. That struck me as being just plain wrong. In a country as great as ourswith the prosperity and the opportunity we have faith inpeople can work hard their whole lives. pay their fair share of taxes. play by the rules. and still not have peace of mind about -their health. That was true then. it is true today. After VISTA. and because of my time in Emmons. I decided to make public service my career and West Virginia my home. I served in the legislature. and was Governor for two terms. Throughout. I struggled with the health care needs of West Virginians. With rural hospitals that arent paid enough to care for the people that need them. With the cruelty of finding out that losing ones Job also means losing ones health insurance. With parents who have told me what its like to choose between taking a sick child to the doctor or putting food on the table. With families who are ruined when a grandparent gets Alzheimers. and they find out this country still doesnt have a decent longterm care policy. Thats why I decided. after coming to the Senate. that I would focus on health care issues. Soon. I found myself chairing something called the Pepper Commission. We took our charge very seriously. and produced a bold blueprint for health reform and longterm care. We helped to put the health care issue where it belongs on the public agendafront and center. Americans are now demanding aotion. Our health care system is broken. and it is long past the time to insist on a repair Job. Health care consumes nearly onefifth of our economy. yet remains a wasteful. insecure. and bloated machine that just plain doesnt work. Our prosperity. our standard of living. our job security. our optimism for the future have been worn away by paperwork. fraud. waste. loopholes. fine print. and a torrent of cost increases that threaten to wash away every family. business. and budget we build. We spend $1 trillion on health care todaymore than on health care than on defense. education. and Social Security pensions combined--and it will be $2 trillion by 2000. Yet we have -over 2.000.000 Americans losing their health Insurance each month. And of those. one million will go without insurance for halfayear and 100.000 will never get their insurance back. And let me tell you the truly shocking part of all this--the vast majority of the people who lose their health care coverage are middleclass Americans who pay premitims. work hard. play by the rules. One West Virginian. a man who works in a small upholstery factory. put it all into clear perspective when he told me he never expected to pay nothing for health care. but he sure didnt expect it to be his biggest expense. exceeding his mortgage and car payments. \"I cant enjoy my good health.\" he said to me. \"for fear of bad health.\" And looking beyond each familys fears. we as a Nation are being weighed down by outofcontrol health costs. Look at our auto industryGeneral Motors. Food. and Chrysler all pay far more in health costs for their workers than their Japanese counterparts. in some cases over 300 percent more. The stickerprices on American cars account more for autoworkers health care costs than for the steel in the cars. I steadfastly believe that if you are antihealth care reform. you are anticompetitiveness. antiJobs. and antigrowth. Thats why I will be fighting with every ounce of my energy to help enact the Presidents health care reform plan. Because it will offer people like the West Virginia upholstery worker. the people that my colleagues and I are sworn to represent. our families and our friends. and every single American some basic. valuable things. again: security. choice. savings. simplicity. quality. and responsibility. The principles of President Clintons health care plan will remain. no matter what kind of legislative compromises on mechanics or details result down the road. they will be the bottom line that every American will wind up with: Securityof health coverage you can never lose. of having benefits that will never be taken away. No redilning. no arbitrary cancellations. no getting dumped for a preexisting condition. or unemployment. or any other reason. Choiceto go to the doctors we choose. Most consumer choices will increase under this plan. Savingsa system that ends health care hyperinflation and puts consumers in the health care drivers seat. Instead of each household or one small business looking for health coverage one at a time. theyll be part of an alliance that give you real clout. The message sent to insurance companies is. \"If you want our business. youll have to earn -our broader cost containment effort& Iead it. States like West Virginia know the tho Simplicity--elmination of the red- hurdles that we face in our current sys- way tape that drive us all--octors. nurses. tern to insuring that care is available her and patients--absolutely crazy. Every to those who need it. Having an appro- sult American will have a computerized priately trained health care workforce. to a health care LD. card that. when pre-. one that emphasizes primary care. is fore sented to a doctor or hospital. will critical to making this whole reform act. offer entire medical histories and pro- Initiative work on the ground. Incen- thrc files and after treatment will allow for tves -need to he changed In this area. this direct electronic billing to a health In- and in enhancing the attractiveness of beir surer. No forms. No -paperwork. No end- primary care In general. The Preal- tee less iphone calls and bureaucracy. dents bill -.i a good first step. our Quality--consumars will be given As Chairman of the Medicare and TI quality \"report cards\" and all plans Long TFerm Care Subcommittee. I have plar wil have to meet national quality a special .obligation to insure that re- detA standards. and form improves the health care avail- plax Responslbility--regaxdless of what -able to older Americans. The Presl- ever the final plan Is. those who do pay for dents prescription drug benefit. and set health care -will no longer pay for those the important new home and commu- awa who do not. nity based care program will go a long port The Presidents plan is not perfect. way. to providing the medicine and the I There are some things that I would -kind of care that the -people -who rely soul like. and others. too. JIm sure. to seb on Medicare need most. along with dis- ashe strengthened. or modifled. But thats abled Americans. I will. of course. be legi understandable. This bill Is still our paying special attention to these areas 103d master blueprint. as they move through the legislative The Understand that this Is the most in- process. How the Medicare program for tricate. complicated subject. It is far and health care reform intersect is M and away the most difficult subject something we need to carefully under- todi that I have worked on In my lifetime stand en that we are sure that we are Hea as a public servant. as a state rep- 4oing all we can to promote the health mal resentative. as a Governor. as a rep- of our senior citizens. and protect the I resentative .of the people -of West. Vir- fundamental mission af the Medicare agal ginia in the United States Congress. It program. to b affects in some way more than one- As the one of the leaders in the Sen- of le fifth of our entire economy. It asks ate of liability reform. the malpractice the people to learn to do business a new and tort reform provisions that the will way or -handle health care In a new President proposes are very Important as 1 wayandchange is never easy. -to me. He has worked hard to deliver the It :Is understandable -that there are on his promise to include meaningful tion provisions.In this legislation that I. or tort reform In his health care reform me -my colleagues. will want -to aee proposal. Now it is up to -Congress to for changed. rearranged. -added. -ordeleted. review t.. and see if there am areas seci Thats to be expected. But the -test that should be -improved upon- I intend T] should he whether ar not -this -plan is a to work with all my colleagues to ex- a ni vast. vast -improvement over what we plore -that -question. tee have today. The answer to that is un- There are many other parts of this tha questionably yes. legislation that :1 care deeply about. heal There are so many provisions In this Hundreds of qluestions will need to be live legislation that are critical to me. answered to the satisfaction of those of heal Many are an outgrowth of the work us who are responsible for voting on It that I have done as Chairman -of the the final details. What are the appro- i Medicare and Long Term Care Sub- priate roles of the States and the Fed- heal committee on the Senate Finance oral Government In assuring quality. am Committee. Many are based on What affordable health care is available to agre Ive learned from the experiences and all? How do -we make sure that this sys- tak the needs. of my own State of West tern is Implemented in a way that uni- dis Virginia. versal access to health care s available eves For example.the eaidents reforms just as soon as possible? How do we in- tive of our healh professional workforce sure that alliances build on the effl- I.1 and the restructuring of graduate med- ciencies in the private market. and a w tcal education training to -provide more have -the necessary accountability so we primary care practitioners are based. that they serve the best interests of all heal in large part. ron legislation that I In- citizens? Are the discounts adequate to Stal troduced earlier in this year. my .Pri- insure that we are providing the help I h mary Care Wnrkforce Reform Act. I am that many smal businesses.and low .in- care heartened by the lresidents commit- came familles- wil need to participate Moi ment to improve -the production and In -this new system? -There are so .many heal distribution of primarycare practition- questions and It will be our duty to her ers. and to take responsibility for see- work through the answers to be sure nem lug to it that providers are practicing that the final product achieves cur M where we eed them most. I rm -very shared goals. Now have a text that we nan much looking forward to doing more.on can turn to. The health .care reform jobs this front. to correct the serious mal- legislative process is officially under- ins distribution of providers that we :have way. to h today. and to stop the oversupply of I -have no delusions. It wil take a to J physicians that Is so detrimental to great deal of taurage. and continued bha S 1i811 lership from our President. and ae of us in Congress. to clange our s. We will have to stop and rmenat every turn that the scariest rea of.all are If we do nothing or fail .chieve the fimdamental goals of re. We should have the courage to and fear the consequences of wing up our hands. and allowing country to be practically alone in ig unable to find a way to guaranthe security of health care forall of citizens. hese Clinton health care reform is the only plan presented in this Ll and with this care. It is the only to be submitted that guarantees ry single American a comprehensive of benefits that can never be taken yin way that .can engender the supthat we need. pledge to dedicate my heart and in the days. and weeks and months ad. to helping see to It that this elation -passes before the historic - -Congress completes Its work. re isno more Important priority America. or this Senator. r. DODD. Mr. President. I rise Ly as a proud cosponsor of the lth Security Act. -which was forly introduced today. have said before and I will repeat In todaythis bill has the potential e one of the most Important pieces egislation considered by Congress in 20th century. Its effect. I believe. be as far reaching and significant the Social Security legislation of 1930s and the civil rights legislaof the 1960s. Like these other sures. It is based on the principles which this Nation standsAlgnity. trity. and justice. he Health Security Act will provide ew and desperately needed guaranfor all Americans. It -will guarantee t regardless of your job. your Ith. your family. or where you -you will have the security of Ith care coverage. has become clear that there is an leasingly strong consensus for lth care reform In this country. I .not suggesting . that everyone ees on what form this change .should e. There Is certainly a great deal Df greement on this point. But nearly yone agrees thatchange is imperai like to ahare with you the story of oman that I believe illustrates why so desperately need comprehensive lth care reform in the United tes. Earlier this -week. at a hearing aired .on maternal and child health needs. Lynn Morrison of Stone Lntaln. GA. told how our present lth -care system failed to .support and her family when she was -in I. 5. Morrison learned she was pregt shortly after she had changed Her new job did mot offer health rance. but allowed her to be -closer er fret daughters school. She tried seeure moverage through ker tmnd policy. but coverage was denied because her pregnancy was considered a preexisting condition. Lynn Morrison. crying as she testified. said she had wanted to get her baby off to a healthy start. She was worried because she was 32 years old and feared that the pregnancy might be complicated. She tried numerous ways to get care. she even got a temporary Medicaid card. but no doctors would see her. Eventually. In her fifth month of pregnancy. she found a package prenatal plan for uninsured women at significant cost to her and her family. Although it was a great relief to have secured this care. she had needed it earlier. As she had feared. her pregnancy was complicated: She went into premature labor twice and was hospitalized. As stories like this one demonstrate. the case for reform is clear and compelling. We simply cannot continue as we are now. Our health care system Is badly broken. It prevents women like Lynn Morrison from receiving prenatal care that they desperately need. The system labels pregnancy a preexisting condition and denies women prenatal care that we all know would save dollars and prevent health problems down the road. This system works against our Nations families. and it leaves too many people without coverage. We must fix it. The current session of Congress began with good news for our Nations families when we passed the Family and Medical Leave Act. and the President signed it into law. I hope when this Congress comes to an end. we will have more good news for the Nations families--comprehensive reform that meets the needs of all Americans. I see the Presidents plan as the best hope for achieving this end. and that is why I decided to become an original cosponsor of the Health Security Act. I agree with the six critical principles on which the Presidents proposal is based: Security. savings. quality. choice. simplicity. and responsibility. Other plans fall short on one or more of these standards. and each is critical for true reform. More than any other element. I believe that we must ensure that coverage is universal. All Americans must receive the health care that they need when they need it. We must ensure that a pregnant woman will not have to wait until her fifth month of pregnancy to receive prenatal care. Some proposals on the table do not include this assurance. and I find them unacceptable. I am an enthusiastic participant in this effort because of the tone that the debate has taken so far. I firmly believe that this should not be a partisan cause. The President and First Lady know this and have demonstrated a sincere willingness to listen to criticism and suggestions and take them into account. We as Members of Congress also know this. and the American people know this. The issues at stake are simply too serious to be held hostage by partisan bickering. Republicans and Democrats. doctors and patients. small businesses and large corporationsall agree that reform is imperative. I hope we will seize this opportunity. form a broadbased consensus about the shape of reform. and give the American people what they are demanding: A health care system that works for everyone without runaway costs. To be sure. we will not agree on every aspect of this proposal. There are certainly parts of the Presidents plan about which I have reservations about. I will watch these provisions carefully. and I may try to modify them as we consider the bill. I am sure that the same is true for the other cosponsors of the bill. But we cannot allow specific objections to small parts of the plan to derail the entire effort. We must see the introduction of the Health Security Act as the beginning of the process. not its end. In the months ahead. we will be working together to shape this legislation to make sure that we create the best plan possible. As we begin formal consideration of the bill. I will continue to focus specifically on preventive care and the unique needs of pregnant women and children. as I have in the past. We can no longer afford to neglect prenatal care or allow policies to define pregnancy as a preexisting condition. We can no longer afford to neglect child immunizations. We can no longer accept the risk of neglecting the health of adolescents. I want to work toward a reform plan that provides solid benefits in these areas and contains provisions to make sure the benefits reach those who need them. We must act now to provide the American people with the health care system they need and the health care system they deserve. I urge my colleagues to support the Health Security Act\n",
      "--------------------\n",
      "\n",
      "False negative (Predicted prob: 0.02):\n",
      "\n",
      "date                          20070625\n",
      "char_count                        5917\n",
      "word_count                         941\n",
      "speakerid                   1.1012e+08\n",
      "Party                                D\n",
      "Congress                           110\n",
      "Chamber                              H\n",
      "State                               TX\n",
      "Ethnicity                            B\n",
      "Age                                 58\n",
      "Age_lt_med                           1\n",
      "NonWhite                             1\n",
      "Female                               1\n",
      "speaker       Ms. JACKSON-LEE of Texas\n",
      "Full Name          JACKSON LEE, SHEILA\n",
      "match                            exact\n",
      "Name: 1100064380, dtype: object\n",
      "\n",
      " Mr. Speaker. I rise in strong support of H.R. 2286. the \"Bail Bond Fairness Act of 2007.\" I urge my colleagues to join me in voting to report this legislation favorably to the House. I am confident that working together we can address and resolve the real challenges regarding bail bond practices in the Federal judiciary. H.R. 2286 reforms the current practice of placing performancebased pretrial release conditions on bail bonds. This practice apparently has had the unintended consequence of prompting some commercial bond underwriters to avoid the Federal system and placing a heavy risk on family and friends of defendants who would collateralize property to satisfy a bond. As a result. many defendants are being incarcerated pending disposition of their criminal cases who would otherwise not be confined. H.R. 2286 restores bail bonds to their historic purpose by prohibiting the forfeiture of a bail bond in all situations except for a defendants failure to appear. It does this by amending Rule 46(f)(1) of the Federal Rules of Criminal Procedure by striking \"a condition of the bond is breached\" and inserting \"the defendant fails to appear physically before the court.\" The bill. however. preserves a judges ability to revoke a defendants bail status and order pretrial detention should a defendant violate any condition of pretrial release. Mr. Speaker. to better understand the problems in the Federal bail bond system and to evaluate the efficacy of the H.R. 2286. this subcommittee held a legislative hearing at which we heard from an impressive panel of witnesses. which included: The Hon. ROBERT WEXLER. Congressman. Florida 19th District. the Hon. Ric KELLER. Congressman. Florida 8th District. Ms. Linda Braswell. . MCBA. Braswell Surety Services. Inc.. Stuart. Florida. and Hon. Tommy E. Miller. Magistrate. United States District Court. Eastern Virginia. Mr. Speaker. it is important for us to remember that the right to bail is guaranteed by the Eighth Amendment to the U.S. Constitution. Historically. the sole purpose of affording bail to a defendant is to ensure the defendants appearance in court. In recent years. however. Federal judges have taken to merging the purposes of bail with other conditions of release and in many cases have been ordering bonds forfeited even in cases in which the defendant actually appears in court as ordered. The bail is ordered forfeited by the court upon a determination by the court that the defendant failed to comply with some collateral condition of release. In support of these forfeiture determinations judges rely on Federal Rule of Criminal Procedure 46(f) as authority. For example. if the defendant uses illegal drugs. fails to maintain a job. travels beyond a certain area. the defendants bail may be revoked. and the defendant returned to jail and the bond forfeited. Federal Rule of Criminal Procedure 46(f) has been upheld by the courts against challenge. For example. in United States v. Vaccaro. 51 F.3d 189 (9th Cir. 1995). the court held that the rule 46(f) authorized bond forfeiture for violation of collateral conditions of release and not simply for failure to appear. Moreover. courts have cited congressional failure to act to change this ruling as ratification that it is correct. . Mr. Speaker. the consequences of forfeiting bond as a method of monitoring a defendants performance rather than for its historically narrowly tailored purpose are several. First. because bond writers are forced to consider the defendants performance and behavior while on pretrial release. the risk to bond agents has increased dramatically. forcing them to adhere to strict underwriting guidelines. The strict guidelines adversely and disproportionately affect poor and disadvantaged defendants by exacerbating the difficulty in obtaining pretrial release. This means. of course. that only defendants with significant assets are afforded the benefits of pretrial release. Poor defendants are therefore incarcerated before conviction. even those who pose no significant risk of flight and no threat to the public. Second. family members of the defendant or anyone willing to raise collateral to help procure a bail bond for a loved one are also put at undue risk. This is because a person who puts up his or her home or other assets as collateral may nevertheless lose their property even if the defendant attends court appearances and is not a threat to the community. Thus. fewer friends and family are willing to assist in procuring a bond and those who do may unjustly lose their assets. Mr. Speaker. a third unintended consequence of this practice of bail forfeiture for collateral pretrial release violations places an undue financial burden and physical strain on the prison system. Last. revoking a defendants bond for performance issue such as unemployment reduces considerably a defendants incentive to make court appearances. Consequently. bond revocation for a performance matter has created a flight risk of a de- fendant who otherwise may not have been. In short. placing performancebased conditions on. a bail bond strays from the historic purpose of a bail bond. which is to ensure the appearance of a defendant before the court as ordered. The avowed intent of H.R. 2286. sponsored by Congressman WEXLER. is to restore bail bonds to their historic purpose by prohibiting the forfeiture of a bail bond in all situations except for a defendants failureto appear. It does this by amending Rule 46(f)(1) of the Federal Rules of Criminal Procedure by striking \"a condition of the bond is breached\" and inserting \"the defendant fails to -appear physically before the court.\" The bill. however. preserves a judges ability to revoke a defendants bail status and order pretrial detention should a defendant violate any condition of pretrial release. Mr. Speaker. I urge all members to support this much needed and thoughtful legislation.\n",
      "--------------------\n"
     ]
    }
   ],
   "source": [
    "reload(explore_data)\n",
    "explore_data.print_mispredictions(val_target, val_pred_probs, val, val_ids, descr_df)"
   ]
  },
  {
   "cell_type": "code",
   "execution_count": null,
   "metadata": {},
   "outputs": [],
   "source": []
  }
 ],
 "metadata": {
  "kernelspec": {
   "display_name": "Python 3",
   "language": "python",
   "name": "python3"
  },
  "language_info": {
   "codemirror_mode": {
    "name": "ipython",
    "version": 3
   },
   "file_extension": ".py",
   "mimetype": "text/x-python",
   "name": "python",
   "nbconvert_exporter": "python",
   "pygments_lexer": "ipython3",
   "version": "3.5.2"
  }
 },
 "nbformat": 4,
 "nbformat_minor": 2
}
