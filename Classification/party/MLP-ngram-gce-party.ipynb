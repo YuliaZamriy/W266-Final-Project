{
 "cells": [
  {
   "cell_type": "code",
   "execution_count": 1,
   "metadata": {},
   "outputs": [
    {
     "data": {
      "text/html": [
       "<style>.container { width:100% !important; }</style>"
      ],
      "text/plain": [
       "<IPython.core.display.HTML object>"
      ]
     },
     "metadata": {},
     "output_type": "display_data"
    }
   ],
   "source": [
    "# increase cell width\n",
    "from IPython.core.display import display, HTML\n",
    "display(HTML(\"<style>.container { width:100% !important; }</style>\"))"
   ]
  },
  {
   "cell_type": "markdown",
   "metadata": {},
   "source": [
    "Inspiration for code:\n",
    "\n",
    "- https://developers.google.com/machine-learning/guides/text-classification/\n",
    "- https://github.com/google/eng-edu/blob/master/ml/guides/text_classification/load_data.py"
   ]
  },
  {
   "cell_type": "code",
   "execution_count": 2,
   "metadata": {},
   "outputs": [],
   "source": [
    "from __future__ import absolute_import\n",
    "from __future__ import division\n",
    "from __future__ import print_function\n",
    "\n",
    "import os\n",
    "import random\n",
    "import time\n",
    "import pickle\n",
    "\n",
    "import numpy as np\n",
    "import pandas as pd\n",
    "\n",
    "from importlib import reload\n",
    "\n",
    "import scipy.sparse"
   ]
  },
  {
   "cell_type": "code",
   "execution_count": 4,
   "metadata": {},
   "outputs": [
    {
     "name": "stderr",
     "output_type": "stream",
     "text": [
      "/home/yulia/anaconda3/lib/python3.6/site-packages/h5py/__init__.py:36: FutureWarning: Conversion of the second argument of issubdtype from `float` to `np.floating` is deprecated. In future, it will be treated as `np.float64 == np.dtype(float).type`.\n",
      "  from ._conv import register_converters as _register_converters\n"
     ]
    }
   ],
   "source": [
    "from helpers import load_data\n",
    "from helpers import explore_data\n",
    "from helpers import preprocess_data\n",
    "from helpers import train_model"
   ]
  },
  {
   "cell_type": "markdown",
   "metadata": {},
   "source": [
    "## Load the data"
   ]
  },
  {
   "cell_type": "code",
   "execution_count": 5,
   "metadata": {},
   "outputs": [],
   "source": [
    "main_dir = '/home/yulia/W266-Final-Project/'"
   ]
  },
  {
   "cell_type": "code",
   "execution_count": 6,
   "metadata": {},
   "outputs": [],
   "source": [
    "data_path = main_dir+'data/raw/hein-daily'"
   ]
  },
  {
   "cell_type": "code",
   "execution_count": 7,
   "metadata": {},
   "outputs": [
    {
     "name": "stdout",
     "output_type": "stream",
     "text": [
      "\n",
      "File speeches_097.txt has 249718612 characters\n",
      "and 283399 speeches\n",
      "\n",
      "Speeches list has 283399 speeches\n",
      "\n",
      "File speeches_098.txt has 252071246 characters\n",
      "and 280289 speeches\n",
      "\n",
      "Speeches list has 563688 speeches\n",
      "\n",
      "File speeches_099.txt has 265326480 characters\n",
      "and 281528 speeches\n",
      "\n",
      "Speeches list has 845216 speeches\n",
      "\n",
      "File speeches_100.txt has 270610780 characters\n",
      "and 276162 speeches\n",
      "\n",
      "Speeches list has 1121378 speeches\n",
      "\n",
      "File speeches_101.txt has 261004871 characters\n",
      "and 251217 speeches\n",
      "\n",
      "Speeches list has 1372595 speeches\n",
      "\n",
      "File speeches_102.txt has 271650630 characters\n",
      "and 243092 speeches\n",
      "\n",
      "Speeches list has 1615687 speeches\n",
      "\n",
      "File speeches_103.txt has 249908822 characters\n",
      "and 235974 speeches\n",
      "\n",
      "Speeches list has 1851661 speeches\n",
      "\n",
      "File speeches_104.txt has 280355367 characters\n",
      "and 274985 speeches\n",
      "\n",
      "Speeches list has 2126646 speeches\n",
      "\n",
      "File speeches_105.txt has 235226903 characters\n",
      "and 209267 speeches\n",
      "\n",
      "Speeches list has 2335913 speeches\n",
      "\n",
      "File speeches_106.txt has 243801385 characters\n",
      "and 209648 speeches\n",
      "\n",
      "Speeches list has 2545561 speeches\n",
      "\n",
      "File speeches_107.txt has 214724318 characters\n",
      "and 180726 speeches\n",
      "\n",
      "Speeches list has 2726287 speeches\n",
      "\n",
      "File speeches_108.txt has 237009565 characters\n",
      "and 200159 speeches\n",
      "\n",
      "Speeches list has 2926446 speeches\n",
      "\n",
      "File speeches_109.txt has 226698889 characters\n",
      "and 187647 speeches\n",
      "\n",
      "Speeches list has 3114093 speeches\n",
      "\n",
      "File speeches_110.txt has 242773059 characters\n",
      "and 211367 speeches\n",
      "\n",
      "Speeches list has 3325460 speeches\n",
      "\n",
      "File speeches_111.txt has 183499959 characters\n",
      "and 154400 speeches\n",
      "\n",
      "Speeches list has 3479860 speeches\n",
      "\n",
      "File speeches_112.txt has 174117603 characters\n",
      "and 145901 speeches\n",
      "\n",
      "Speeches list has 3625761 speeches\n",
      "\n",
      "File speeches_113.txt has 153424011 characters\n",
      "and 128149 speeches\n",
      "\n",
      "Speeches list has 3753910 speeches\n",
      "\n",
      "File speeches_114.txt has 130969173 characters\n",
      "and 112291 speeches\n",
      "\n",
      "Speeches list has 3866201 speeches\n"
     ]
    }
   ],
   "source": [
    "reload(load_data)\n",
    "all_speech_ids, all_speeches = load_data.load_speech_data(data_path)"
   ]
  },
  {
   "cell_type": "code",
   "execution_count": 8,
   "metadata": {},
   "outputs": [
    {
     "data": {
      "text/plain": [
       "(3866201, 3866201)"
      ]
     },
     "execution_count": 8,
     "metadata": {},
     "output_type": "execute_result"
    }
   ],
   "source": [
    "len(all_speech_ids), len(all_speeches)"
   ]
  },
  {
   "cell_type": "markdown",
   "metadata": {},
   "source": [
    "## Create target labels"
   ]
  },
  {
   "cell_type": "markdown",
   "metadata": {},
   "source": [
    "### Create 30% sample because party model has more data where target = 1"
   ]
  },
  {
   "cell_type": "code",
   "execution_count": 9,
   "metadata": {},
   "outputs": [
    {
     "name": "stdout",
     "output_type": "stream",
     "text": [
      "2914465 lines have been read\n",
      "7227 keys had duplicates and deleted\n",
      "The dictionary has 858639 keys\n",
      "\n",
      "Random congressperson: 970167231\n",
      "date 19820513\n",
      "char_count 164\n",
      "word_count 33\n",
      "speakerid 97104811.0\n",
      "Party R\n",
      "Congress 97\n",
      "Chamber S\n",
      "State TN\n",
      "Ethnicity W\n",
      "Age 57.0\n",
      "Age_lt_med 0.0\n",
      "NonWhite 0.0\n",
      "Female 0.0\n",
      "speaker Mr. BAKER\n",
      "Full Name BAKER, HOWARD\n",
      "match exact\n",
      "check 1\n",
      "\n",
      "It took 11.7 seconds to create the dictionary\n"
     ]
    }
   ],
   "source": [
    "reload(load_data)\n",
    "start_time = time.time()\n",
    "descr = load_data.load_descr_data(main_dir+'data/QA/full_descr.txt', p=0.3)\n",
    "print(\"\\nIt took {:.1f} seconds to create the dictionary\".format(time.time()-start_time))"
   ]
  },
  {
   "cell_type": "code",
   "execution_count": 10,
   "metadata": {},
   "outputs": [
    {
     "data": {
      "text/plain": [
       "0.29461300602786655"
      ]
     },
     "execution_count": 10,
     "metadata": {},
     "output_type": "execute_result"
    }
   ],
   "source": [
    "# check if sampling worked\n",
    "len(list(descr.keys()))/2914464"
   ]
  },
  {
   "cell_type": "code",
   "execution_count": 11,
   "metadata": {},
   "outputs": [
    {
     "data": {
      "text/plain": [
       "(3866201, 3866201, 3866201, 3866201, 3866201, 3866201)"
      ]
     },
     "execution_count": 11,
     "metadata": {},
     "output_type": "execute_result"
    }
   ],
   "source": [
    "gender, ethnicity, age, party, chamber, congress = load_data.create_target_labels(all_speech_ids, descr)\n",
    "len(gender), len(ethnicity), len(age), len(party), len(chamber), len(congress)"
   ]
  },
  {
   "cell_type": "code",
   "execution_count": 12,
   "metadata": {},
   "outputs": [
    {
     "data": {
      "text/plain": [
       "(array(['A', 'D', 'I', 'N', 'NA', 'P', 'R'], dtype='<U2'),\n",
       " array([      4,  448302,    2265,      89, 3007562,      20,  407959]))"
      ]
     },
     "execution_count": 12,
     "metadata": {},
     "output_type": "execute_result"
    }
   ],
   "source": [
    "np.unique(np.array(party), return_counts=True)"
   ]
  },
  {
   "cell_type": "code",
   "execution_count": 13,
   "metadata": {},
   "outputs": [
    {
     "data": {
      "text/plain": [
       "3866201"
      ]
     },
     "execution_count": 13,
     "metadata": {},
     "output_type": "execute_result"
    }
   ],
   "source": [
    "party_dummy = []\n",
    "for p in range(len(party)):\n",
    "    if party[p] == 'D':\n",
    "        party_dummy.append(1)\n",
    "    elif party[p] == 'R':\n",
    "        party_dummy.append(0)\n",
    "    else:\n",
    "        party_dummy.append(-1)\n",
    "len(party_dummy)"
   ]
  },
  {
   "cell_type": "markdown",
   "metadata": {},
   "source": [
    "### Data QA"
   ]
  },
  {
   "cell_type": "code",
   "execution_count": 14,
   "metadata": {},
   "outputs": [
    {
     "data": {
      "text/html": [
       "<div>\n",
       "<style scoped>\n",
       "    .dataframe tbody tr th:only-of-type {\n",
       "        vertical-align: middle;\n",
       "    }\n",
       "\n",
       "    .dataframe tbody tr th {\n",
       "        vertical-align: top;\n",
       "    }\n",
       "\n",
       "    .dataframe thead th {\n",
       "        text-align: right;\n",
       "    }\n",
       "</style>\n",
       "<table border=\"1\" class=\"dataframe\">\n",
       "  <thead>\n",
       "    <tr style=\"text-align: right;\">\n",
       "      <th></th>\n",
       "      <th>Category</th>\n",
       "      <th>Count</th>\n",
       "    </tr>\n",
       "  </thead>\n",
       "  <tbody>\n",
       "    <tr>\n",
       "      <th>0</th>\n",
       "      <td>-1</td>\n",
       "      <td>3009940</td>\n",
       "    </tr>\n",
       "    <tr>\n",
       "      <th>1</th>\n",
       "      <td>0</td>\n",
       "      <td>407959</td>\n",
       "    </tr>\n",
       "    <tr>\n",
       "      <th>2</th>\n",
       "      <td>1</td>\n",
       "      <td>448302</td>\n",
       "    </tr>\n",
       "  </tbody>\n",
       "</table>\n",
       "</div>"
      ],
      "text/plain": [
       "<IPython.core.display.HTML object>"
      ]
     },
     "metadata": {},
     "output_type": "display_data"
    }
   ],
   "source": [
    "explore_data.get_counts(party_dummy)"
   ]
  },
  {
   "cell_type": "code",
   "execution_count": 15,
   "metadata": {},
   "outputs": [
    {
     "name": "stdout",
     "output_type": "stream",
     "text": [
      "Speaker information\n",
      "date 19920810\n",
      "char_count 2277\n",
      "word_count 366\n",
      "speakerid 102115370.0\n",
      "Party D\n",
      "Congress 102\n",
      "Chamber H\n",
      "State VA\n",
      "Ethnicity W\n",
      "Age 46.0\n",
      "Age_lt_med 1.0\n",
      "NonWhite 0.0\n",
      "Female 0.0\n",
      "speaker Mr. BOUCHER\n",
      "Full Name BOUCHER, FREDERICK\n",
      "match exact\n",
      "check 1\n",
      "\n",
      "Mr. Speaker. H.R. days after enactment. 3360 Is designed to protect the Amer- The amendment in the nature of a ican public. Despite the availability substitute under consideration repand affordability of automatic sprin- resents an agreement between the kler systems and smoke detectors. the Science Committee and the CommitUnited States continues to have an un- tees on Public Works and Transporacceptably high fire death rate. Fire Is tation and Banking. Finance. and the third leading cause of accidental Urban Affairs. to which the bill was death. accounting for more than 5.500 jointly referred. deaths each year. This Is a rate that is I would like to thank Mr. ROE. chair50 percent higher than most of the in- man of the Committee on Public Works dustrialized nations of the world. And and Transportation. and Mr. SAVAGE. the great majority of fire deaths in the chairman of the Subcommittee on PubUnited States occur among the elderly lic Buildings and Grounds. for their and children age 14 and younger. prompt consideration of this legislaThe bill will enable the Federal Gov- tion and also for their two very conernment to set an example in the area structive amendments regarding the isof fire safety and. by its own actions. suance of regulations by the General encourage the private sector to make Services Administration and agency regreater use of the technology that has porting requirements. I would also like been proven to save lives. H.R. 3360 to express my gratitude to the ranking will. for the first time. establish mini- Republican member of the Committee mum standards of fire safety for Fed- on Public Works and Transportation. eral office space In both Government- Mr. HAMMERScHMIDT. and also to the owned and leased buildings. and in ranking Republican member of the many categories of federally assisted Subcommittee on Public Buildings and housing. Grounds. Mr. INHOFE. According to the National Fire Pro- The Committee on Banking. Finance. tection Association. there has never and Urban Affairs has also made imporbeen a multiple loss of life--involving tant contributions to the bill.-I would three or more fatalities--in a building like to thank Mr. GONZALEZ. the chairwith an operational sprinkler system. man of the Committee. Mr. WYLIE. the\n"
     ]
    }
   ],
   "source": [
    "reload(explore_data)\n",
    "explore_data.random_speech(all_speeches, all_speech_ids, party_dummy, descr)"
   ]
  },
  {
   "cell_type": "markdown",
   "metadata": {},
   "source": [
    "# Age Model"
   ]
  },
  {
   "cell_type": "markdown",
   "metadata": {},
   "source": [
    "## Split into train, validate, test"
   ]
  },
  {
   "cell_type": "code",
   "execution_count": 17,
   "metadata": {},
   "outputs": [
    {
     "name": "stdout",
     "output_type": "stream",
     "text": [
      "Training split: 161472 ones and 141987 zeroes\n",
      "Training speech list size: 303459\n",
      "Training target list size: 303459\n",
      "Validation split: 53824 ones and 47329 zeroes\n",
      "Validation speech list size: 101153\n",
      "Validation target list size: 101153\n",
      "Test split: 53825 ones and 47329 zeroes\n",
      "Test speech list size: 101154\n",
      "Test target list size: 101154\n"
     ]
    }
   ],
   "source": [
    "reload(preprocess_data)\n",
    "train, train_ids, train_target, val, val_ids, val_target, test, test_ids, test_target = preprocess_data.split_train_val_test(all_speeches, all_speech_ids, party_dummy, descr)"
   ]
  },
  {
   "cell_type": "code",
   "execution_count": 18,
   "metadata": {},
   "outputs": [
    {
     "data": {
      "text/plain": [
       "(161472, 53824, 53825)"
      ]
     },
     "execution_count": 18,
     "metadata": {},
     "output_type": "execute_result"
    }
   ],
   "source": [
    "sum(train_target), sum(val_target), sum(test_target)"
   ]
  },
  {
   "cell_type": "code",
   "execution_count": 19,
   "metadata": {},
   "outputs": [
    {
     "data": {
      "text/plain": [
       "179181"
      ]
     },
     "execution_count": 19,
     "metadata": {},
     "output_type": "execute_result"
    }
   ],
   "source": [
    "# number of speeches under 30 words\n",
    "sum(np.array(party_dummy)==1) - (sum(train_target) + sum(val_target) + sum(test_target))"
   ]
  },
  {
   "cell_type": "code",
   "execution_count": 20,
   "metadata": {},
   "outputs": [
    {
     "name": "stdout",
     "output_type": "stream",
     "text": [
      "Speaker information\n",
      "date 19960522\n",
      "char_count 196\n",
      "word_count 40\n",
      "speakerid 104109021.0\n",
      "Party D\n",
      "Congress 104\n",
      "Chamber S\n",
      "State NE\n",
      "Ethnicity W\n",
      "Age 75.0\n",
      "Age_lt_med 0.0\n",
      "NonWhite 0.0\n",
      "Female 0.0\n",
      "speaker Mr. EXON\n",
      "Full Name EXON, J.\n",
      "match exact\n",
      "check 1\n",
      "\n",
      "I am not sure the Senator from Iowa heard. I think the Chair was asking him to proceed. The next amendment up is No. 23 on my list. which is No. 4011 by Senator HARKIN. The Senator has 30 seconds.\n"
     ]
    }
   ],
   "source": [
    "# random speech from a train set where target=1\n",
    "explore_data.random_speech(train, train_ids, train_target, descr)"
   ]
  },
  {
   "cell_type": "markdown",
   "metadata": {},
   "source": [
    "## EDA on train data"
   ]
  },
  {
   "cell_type": "markdown",
   "metadata": {},
   "source": [
    "Source: https://developers.google.com/machine-learning/guides/text-classification/step-2"
   ]
  },
  {
   "cell_type": "markdown",
   "metadata": {},
   "source": [
    "### Check median number of words per sample in train/val/test"
   ]
  },
  {
   "cell_type": "code",
   "execution_count": 21,
   "metadata": {},
   "outputs": [
    {
     "data": {
      "text/plain": [
       "227.0"
      ]
     },
     "execution_count": 21,
     "metadata": {},
     "output_type": "execute_result"
    }
   ],
   "source": [
    "explore_data.get_num_words_per_sample(train)"
   ]
  },
  {
   "cell_type": "code",
   "execution_count": 22,
   "metadata": {},
   "outputs": [
    {
     "data": {
      "text/plain": [
       "227.0"
      ]
     },
     "execution_count": 22,
     "metadata": {},
     "output_type": "execute_result"
    }
   ],
   "source": [
    "explore_data.get_num_words_per_sample(val)"
   ]
  },
  {
   "cell_type": "code",
   "execution_count": 23,
   "metadata": {},
   "outputs": [
    {
     "data": {
      "text/plain": [
       "228.0"
      ]
     },
     "execution_count": 23,
     "metadata": {},
     "output_type": "execute_result"
    }
   ],
   "source": [
    "explore_data.get_num_words_per_sample(test)"
   ]
  },
  {
   "cell_type": "code",
   "execution_count": 24,
   "metadata": {},
   "outputs": [
    {
     "name": "stdout",
     "output_type": "stream",
     "text": [
      "Speech length percentiles\n",
      "    0     10    20     30     40     50     60     70     80     90       100\n",
      "0  31.0  44.0  70.0  116.0  170.0  227.0  302.0  397.0  545.0  841.0  17835.0\n"
     ]
    },
    {
     "data": {
      "image/png": "[encoded data removed]",
      "text/plain": [
       "<Figure size 1440x720 with 1 Axes>"
      ]
     },
     "metadata": {},
     "output_type": "display_data"
    }
   ],
   "source": [
    "explore_data.plot_sample_length_distribution(train)"
   ]
  },
  {
   "cell_type": "code",
   "execution_count": 25,
   "metadata": {},
   "outputs": [],
   "source": [
    "train_party = [descr[train_ids[i]]['Party'] for i in range(len(train_ids))]"
   ]
  },
  {
   "cell_type": "code",
   "execution_count": 26,
   "metadata": {},
   "outputs": [
    {
     "name": "stdout",
     "output_type": "stream",
     "text": [
      "D: \t 161472\n",
      "R: \t 0\n"
     ]
    }
   ],
   "source": [
    "explore_data.get_counts_by_category(train_target, train_party)"
   ]
  },
  {
   "cell_type": "markdown",
   "metadata": {},
   "source": [
    "### Most popular ngrams (training only) - exluding stop words"
   ]
  },
  {
   "cell_type": "code",
   "execution_count": 27,
   "metadata": {},
   "outputs": [
    {
     "data": {
      "text/plain": [
       "60691"
      ]
     },
     "execution_count": 27,
     "metadata": {},
     "output_type": "execute_result"
    }
   ],
   "source": [
    "# take a sample to avoid running out of memory\n",
    "train_sample = random.sample(train, int(len(train)*0.2))\n",
    "len(train_sample)"
   ]
  },
  {
   "cell_type": "code",
   "execution_count": 28,
   "metadata": {},
   "outputs": [
    {
     "name": "stdout",
     "output_type": "stream",
     "text": [
      "['we', 'it', 'have', 'are', 'not', 'be', 'as', 'with', 'our', 'will', 'from', 'by', 'has', 'they', 'was', 'would', 'an', 'my', 'at', 'their', 'bill', 'but', 'or', 'who', 'he', 'do', 'all', 'president', 'which', 'his', 'there', 'what', 'been', 'if', 'about', 'people', 'you', 'these', 'so', 'more', 'time', 'one', 'can', 'speaker', 'amendment', 'years', 'those', 'no', 'other', 'when']\n"
     ]
    },
    {
     "data": {
      "image/png": "[encoded data removed]",
      "text/plain": [
       "<Figure size 1440x720 with 1 Axes>"
      ]
     },
     "metadata": {},
     "output_type": "display_data"
    }
   ],
   "source": [
    "explore_data.plot_frequency_distribution_of_ngrams(train_sample, ngram_range=(1,1))"
   ]
  },
  {
   "cell_type": "code",
   "execution_count": 29,
   "metadata": {},
   "outputs": [
    {
     "name": "stdout",
     "output_type": "stream",
     "text": [
      "['in the', 'to the', 'it is', 'on the', 'and the', 'for the', 'that the', 'to be', 'we have', 'we are', 'that is', 'mr speaker', 'by the', 'that we', 'with the', 'mr president', 'of this', 'going to', 'in this', 'united states', 'the united', 'is the', 'the senate', 'at the', 'will be', 'this bill', 'from the', 'has been', 'is not', 'this is', 'have been', 'want to', 'of our', 'do not', 'the gentleman', 'there is', 'the bill', 'my colleagues', 'they are', 'to do', 'the house', 'would be', 'one of', 'as the', 'the president', 'the american', 'have to', 'to make', 'we can', 'the federal']\n"
     ]
    },
    {
     "data": {
      "image/png": "[encoded data removed]",
      "text/plain": [
       "<Figure size 1440x720 with 1 Axes>"
      ]
     },
     "metadata": {},
     "output_type": "display_data"
    }
   ],
   "source": [
    "explore_data.plot_frequency_distribution_of_ngrams(train_sample, ngram_range=(2,2))"
   ]
  },
  {
   "cell_type": "code",
   "execution_count": 30,
   "metadata": {},
   "outputs": [
    {
     "name": "stdout",
     "output_type": "stream",
     "text": [
      "['the united states', 'the gentleman from', 'are going to', 'one of the', 'would like to', 'the senator from', 'the american people', 'my colleagues to', 'of the united', 'the department of', 'we are going', 'is going to', 'it is not', 'ask unanimous consent', 'we need to', 'as well as', 'the federal government', 'be able to', 'chairman of the', 'that we have', 'going to be', 'of the senate', 'member of the', 'the committee on', 'in order to', 'in this country', 'unanimous consent that', 'there is no', 'urge my colleagues', 'in the united', 'mr speaker rise', 'that we are', 'some of the', 'we do not', 'that is the', 'part of the', 'percent of the', 'members of the', 'the fact that', 'rise today to', 'in the senate', 'in support of', 'the people of', 'of the house', 'and that is', 'we have to', 'thank the gentleman', 'on the floor', 'of the aisle', 'the state of']\n"
     ]
    },
    {
     "data": {
      "image/png": "[encoded data removed]",
      "text/plain": [
       "<Figure size 1440x720 with 1 Axes>"
      ]
     },
     "metadata": {},
     "output_type": "display_data"
    }
   ],
   "source": [
    "explore_data.plot_frequency_distribution_of_ngrams(train_sample, ngram_range=(3,3))"
   ]
  },
  {
   "cell_type": "code",
   "execution_count": 31,
   "metadata": {},
   "outputs": [],
   "source": [
    "congress = set([str(i) for i in range(97,115)])"
   ]
  },
  {
   "cell_type": "code",
   "execution_count": 32,
   "metadata": {
    "scrolled": false
   },
   "outputs": [
    {
     "name": "stdout",
     "output_type": "stream",
     "text": [
      "\n",
      "For Congress 109 top 5 (3, 3) ngrams are:\n",
      "the united states\n",
      "one of the\n",
      "are going to\n",
      "the gentleman from\n",
      "the american people\n",
      "--------------------\n",
      "\n",
      "For Congress 100 top 5 (3, 3) ngrams are:\n",
      "the united states\n",
      "the senator from\n",
      "the gentleman from\n",
      "would like to\n",
      "one of the\n",
      "--------------------\n",
      "\n",
      "For Congress 111 top 5 (3, 3) ngrams are:\n",
      "the united states\n",
      "the american people\n",
      "are going to\n",
      "one of the\n",
      "is going to\n",
      "--------------------\n",
      "\n",
      "For Congress 101 top 5 (3, 3) ngrams are:\n",
      "the united states\n",
      "the gentleman from\n",
      "the senator from\n",
      "would like to\n",
      "one of the\n",
      "--------------------\n",
      "\n",
      "For Congress 110 top 5 (3, 3) ngrams are:\n",
      "the united states\n",
      "are going to\n",
      "one of the\n",
      "the american people\n",
      "we need to\n",
      "--------------------\n",
      "\n",
      "For Congress 113 top 5 (3, 3) ngrams are:\n",
      "the united states\n",
      "the american people\n",
      "one of the\n",
      "mr speaker rise\n",
      "are going to\n",
      "--------------------\n",
      "\n",
      "For Congress 99 top 5 (3, 3) ngrams are:\n",
      "the united states\n",
      "the gentleman from\n",
      "the senator from\n",
      "would like to\n",
      "one of the\n",
      "--------------------\n",
      "\n",
      "For Congress 103 top 5 (3, 3) ngrams are:\n",
      "the united states\n",
      "the gentleman from\n",
      "are going to\n",
      "the senator from\n",
      "one of the\n",
      "--------------------\n",
      "\n",
      "For Congress 102 top 5 (3, 3) ngrams are:\n",
      "the united states\n",
      "the gentleman from\n",
      "the senator from\n",
      "one of the\n",
      "would like to\n",
      "--------------------\n",
      "\n",
      "For Congress 104 top 5 (3, 3) ngrams are:\n",
      "the united states\n",
      "are going to\n",
      "the gentleman from\n",
      "the american people\n",
      "the senator from\n",
      "--------------------\n",
      "\n",
      "For Congress 108 top 5 (3, 3) ngrams are:\n",
      "the united states\n",
      "the gentleman from\n",
      "are going to\n",
      "one of the\n",
      "the senator from\n",
      "--------------------\n",
      "\n",
      "For Congress 97 top 5 (3, 3) ngrams are:\n",
      "the united states\n",
      "the senator from\n",
      "would like to\n",
      "the gentleman from\n",
      "one of the\n",
      "--------------------\n",
      "\n",
      "For Congress 105 top 5 (3, 3) ngrams are:\n",
      "the united states\n",
      "the gentleman from\n",
      "are going to\n",
      "one of the\n",
      "would like to\n",
      "--------------------\n",
      "\n",
      "For Congress 107 top 5 (3, 3) ngrams are:\n",
      "the united states\n",
      "the gentleman from\n",
      "are going to\n",
      "one of the\n",
      "the senator from\n",
      "--------------------\n",
      "\n",
      "For Congress 98 top 5 (3, 3) ngrams are:\n",
      "the united states\n",
      "the senator from\n",
      "the gentleman from\n",
      "would like to\n",
      "one of the\n",
      "--------------------\n",
      "\n",
      "For Congress 114 top 5 (3, 3) ngrams are:\n",
      "the united states\n",
      "mr speaker rise\n",
      "are going to\n",
      "speaker rise today\n",
      "one of the\n",
      "--------------------\n",
      "\n",
      "For Congress 106 top 5 (3, 3) ngrams are:\n",
      "the united states\n",
      "the gentleman from\n",
      "one of the\n",
      "are going to\n",
      "would like to\n",
      "--------------------\n",
      "\n",
      "For Congress 112 top 5 (3, 3) ngrams are:\n",
      "the united states\n",
      "the american people\n",
      "one of the\n",
      "we need to\n",
      "are going to\n",
      "--------------------\n"
     ]
    }
   ],
   "source": [
    "reload(explore_data)\n",
    "explore_data.ngrams_by_category(train, train_ids, descr, congress, 'Congress', p=0.3, top_n=5)"
   ]
  },
  {
   "cell_type": "code",
   "execution_count": 33,
   "metadata": {},
   "outputs": [
    {
     "name": "stdout",
     "output_type": "stream",
     "text": [
      "\n",
      "For Party D top 10 (3, 3) ngrams are:\n",
      "the united states\n",
      "the gentleman from\n",
      "one of the\n",
      "are going to\n",
      "the senator from\n",
      "would like to\n",
      "my colleagues to\n",
      "the american people\n",
      "of the united\n",
      "the department of\n",
      "--------------------\n",
      "\n",
      "For Party R top 10 (3, 3) ngrams are:\n",
      "the united states\n",
      "the gentleman from\n",
      "are going to\n",
      "the senator from\n",
      "would like to\n",
      "one of the\n",
      "the american people\n",
      "of the united\n",
      "is going to\n",
      "we are going\n",
      "--------------------\n"
     ]
    }
   ],
   "source": [
    "explore_data.ngrams_by_category(train, train_ids, descr, {'D','R'}, 'Party', p=0.3, top_n=10)"
   ]
  },
  {
   "cell_type": "code",
   "execution_count": 34,
   "metadata": {},
   "outputs": [],
   "source": [
    "del all_speeches, all_speech_ids, descr"
   ]
  },
  {
   "cell_type": "markdown",
   "metadata": {},
   "source": [
    "## N-gram model"
   ]
  },
  {
   "cell_type": "markdown",
   "metadata": {},
   "source": [
    "Inspiration for code: https://developers.google.com/machine-learning/guides/text-classification/step-3"
   ]
  },
  {
   "cell_type": "markdown",
   "metadata": {},
   "source": [
    "### Pre-processing"
   ]
  },
  {
   "cell_type": "code",
   "execution_count": 35,
   "metadata": {},
   "outputs": [],
   "source": [
    "# Vectorization parameters\n",
    "# Range (inclusive) of n-gram sizes for tokenizing text.\n",
    "NGRAM_RANGE = (1, 2)\n",
    "\n",
    "# Minimum corpus frequency below which a token will be discarded.\n",
    "MIN_DOCUMENT_FREQUENCY = 5\n",
    "\n",
    "# Maximum proportion of corpus containing a word above which a token will be discarded.\n",
    "# Helps eliminate stop words\n",
    "MAX_DOCUMENT_FREQUENCY = 0.7\n",
    "\n",
    "# Limit on the number of features. We use the top 20K features.\n",
    "TOP_K = 10000\n",
    "\n",
    "# Output number of top/bottom scoring ngrams\n",
    "TOP_N = 5\n",
    "\n",
    "vec_params = {\n",
    "    'ngram_range': NGRAM_RANGE,\n",
    "    'min_df': MIN_DOCUMENT_FREQUENCY,\n",
    "    'max_df': MAX_DOCUMENT_FREQUENCY,\n",
    "    'top_k': TOP_K,\n",
    "    'top_n': TOP_N\n",
    "}"
   ]
  },
  {
   "cell_type": "code",
   "execution_count": 36,
   "metadata": {},
   "outputs": [
    {
     "name": "stdout",
     "output_type": "stream",
     "text": [
      "Total vocabulary size: 1355920\n",
      "Number of stop words 9402237\n",
      "\n",
      "Top 5 ngrams by differentiating score:\n",
      "republican \t 1139.5\n",
      "spending \t 925.2\n",
      "the republican \t 905.4\n",
      "taxes \t 792.4\n",
      "the republicans \t 788.3\n",
      "\n",
      "Bottom 5 ngrams by differentiating score:\n",
      "coburn of \t 0.0\n",
      "individual plant \t 0.0\n",
      "discussed within \t 0.0\n",
      "employeremployee relationship \t 0.0\n",
      "criminal to \t 0.0\n",
      "\n",
      "It took 1140.9 seconds to create the dictionary\n"
     ]
    }
   ],
   "source": [
    "reload(preprocess_data)\n",
    "start_time = time.time()\n",
    "train_vec, val_vec, test_vec = preprocess_data.ngram_vectorize(train, train_target, val, test, **vec_params)\n",
    "print(\"\\nIt took {:.1f} seconds to create the dictionary\".format(time.time()-start_time))"
   ]
  },
  {
   "cell_type": "code",
   "execution_count": 37,
   "metadata": {},
   "outputs": [
    {
     "data": {
      "text/plain": [
       "(303459, 101153, 101154)"
      ]
     },
     "execution_count": 37,
     "metadata": {},
     "output_type": "execute_result"
    }
   ],
   "source": [
    "len(train), len(val), len(test)"
   ]
  },
  {
   "cell_type": "code",
   "execution_count": 38,
   "metadata": {},
   "outputs": [
    {
     "data": {
      "text/plain": [
       "((303459, 10000), (101153, 10000), (101154, 10000))"
      ]
     },
     "execution_count": 38,
     "metadata": {},
     "output_type": "execute_result"
    }
   ],
   "source": [
    "train_vec.shape, val_vec.shape, test_vec.shape"
   ]
  },
  {
   "cell_type": "markdown",
   "metadata": {},
   "source": [
    "### Saving processed files"
   ]
  },
  {
   "cell_type": "code",
   "execution_count": 39,
   "metadata": {},
   "outputs": [],
   "source": [
    "vecdata_path = main_dir+'Classification/data/vectorized/party'"
   ]
  },
  {
   "cell_type": "code",
   "execution_count": 40,
   "metadata": {},
   "outputs": [],
   "source": [
    "scipy.sparse.save_npz(os.path.join(vecdata_path, 'train_vec.npz'), train_vec)\n",
    "scipy.sparse.save_npz(os.path.join(vecdata_path, 'val_vec.npz'), val_vec)\n",
    "scipy.sparse.save_npz(os.path.join(vecdata_path, 'test_vec.npz'), test_vec)"
   ]
  },
  {
   "cell_type": "code",
   "execution_count": 48,
   "metadata": {},
   "outputs": [],
   "source": [
    "train_vec = scipy.sparse.load_npz(os.path.join(vecdata_path, 'train_vec.npz'))\n",
    "val_vec = scipy.sparse.load_npz(os.path.join(vecdata_path, 'val_vec.npz'))\n",
    "test_vec = scipy.sparse.load_npz(os.path.join(vecdata_path, 'test_vec.npz'))"
   ]
  },
  {
   "cell_type": "code",
   "execution_count": 41,
   "metadata": {},
   "outputs": [
    {
     "data": {
      "text/plain": [
       "((303459, 10000), (101153, 10000), (101154, 10000))"
      ]
     },
     "execution_count": 41,
     "metadata": {},
     "output_type": "execute_result"
    }
   ],
   "source": [
    "train_vec.shape, val_vec.shape, test_vec.shape"
   ]
  },
  {
   "cell_type": "code",
   "execution_count": 42,
   "metadata": {},
   "outputs": [],
   "source": [
    "outdata_path = main_dir+'Classification/data/splits/party'"
   ]
  },
  {
   "cell_type": "code",
   "execution_count": 43,
   "metadata": {},
   "outputs": [],
   "source": [
    "with open(os.path.join(outdata_path, 'train_list'), 'wb') as fp:\n",
    "    pickle.dump(train, fp)\n",
    "with open(os.path.join(outdata_path, 'train_ids'), 'wb') as fp:\n",
    "    pickle.dump(train_ids, fp)\n",
    "with open(os.path.join(outdata_path, 'train_target'), 'wb') as fp:\n",
    "    pickle.dump(train_target, fp)\n",
    "with open(os.path.join(outdata_path, 'val_list'), 'wb') as fp:\n",
    "    pickle.dump(val, fp)\n",
    "with open(os.path.join(outdata_path, 'val_ids'), 'wb') as fp:\n",
    "    pickle.dump(val_ids, fp)\n",
    "with open(os.path.join(outdata_path, 'val_target'), 'wb') as fp:\n",
    "    pickle.dump(val_target, fp)\n",
    "with open(os.path.join(outdata_path, 'test_list'), 'wb') as fp:\n",
    "    pickle.dump(test, fp)\n",
    "with open(os.path.join(outdata_path, 'test_ids'), 'wb') as fp:\n",
    "    pickle.dump(test_ids, fp)\n",
    "with open(os.path.join(outdata_path, 'test_target'), 'wb') as fp:\n",
    "    pickle.dump(test_target, fp)"
   ]
  },
  {
   "cell_type": "code",
   "execution_count": 44,
   "metadata": {},
   "outputs": [
    {
     "data": {
      "text/plain": [
       "(161472, 53824, 53825)"
      ]
     },
     "execution_count": 44,
     "metadata": {},
     "output_type": "execute_result"
    }
   ],
   "source": [
    "sum(train_target), sum(val_target), sum(test_target)"
   ]
  },
  {
   "cell_type": "code",
   "execution_count": 53,
   "metadata": {},
   "outputs": [],
   "source": [
    "with open(os.path.join(outdata_path, 'train_list'), 'rb') as fp:\n",
    "    train = pickle.load(fp)\n",
    "with open(os.path.join(outdata_path, 'train_ids'), 'rb') as fp:\n",
    "    train_ids = pickle.load(fp)\n",
    "with open(os.path.join(outdata_path, 'train_target'), 'rb') as fp:\n",
    "    train_target = pickle.load(fp)"
   ]
  },
  {
   "cell_type": "code",
   "execution_count": 54,
   "metadata": {},
   "outputs": [],
   "source": [
    "with open(os.path.join(outdata_path, 'val_list'), 'rb') as fp:\n",
    "    val = pickle.load(fp)\n",
    "with open(os.path.join(outdata_path, 'val_ids'), 'rb') as fp:\n",
    "    val_ids = pickle.load(fp)\n",
    "with open(os.path.join(outdata_path, 'val_target'), 'rb') as fp:\n",
    "    val_target = pickle.load(fp)"
   ]
  },
  {
   "cell_type": "code",
   "execution_count": 45,
   "metadata": {},
   "outputs": [
    {
     "data": {
      "text/plain": [
       "(53824, 101153)"
      ]
     },
     "execution_count": 45,
     "metadata": {},
     "output_type": "execute_result"
    }
   ],
   "source": [
    "sum(val_target), len(val_target)"
   ]
  },
  {
   "cell_type": "code",
   "execution_count": 56,
   "metadata": {},
   "outputs": [],
   "source": [
    "with open(os.path.join(outdata_path, 'test_list'), 'rb') as fp:\n",
    "    test = pickle.load(fp)\n",
    "with open(os.path.join(outdata_path, 'test_ids'), 'rb') as fp:\n",
    "    test_ids = pickle.load(fp)\n",
    "with open(os.path.join(outdata_path, 'test_target'), 'rb') as fp:\n",
    "    test_target = pickle.load(fp)"
   ]
  },
  {
   "cell_type": "code",
   "execution_count": 46,
   "metadata": {},
   "outputs": [
    {
     "data": {
      "text/plain": [
       "(161472, 53824, 53825)"
      ]
     },
     "execution_count": 46,
     "metadata": {},
     "output_type": "execute_result"
    }
   ],
   "source": [
    "sum(train_target), sum(val_target), sum(test_target)"
   ]
  },
  {
   "cell_type": "markdown",
   "metadata": {},
   "source": [
    "### Model: Multi-Layer Perceptron (Vanilla NN)"
   ]
  },
  {
   "cell_type": "code",
   "execution_count": 47,
   "metadata": {},
   "outputs": [],
   "source": [
    "logs_base_dir = main_dir + 'Classification/logs/Party'"
   ]
  },
  {
   "cell_type": "code",
   "execution_count": 48,
   "metadata": {},
   "outputs": [],
   "source": [
    "ngram_model_params = {\n",
    "    'model': 'mlp',\n",
    "    'learning_rate': 0.001,\n",
    "    'epochs': 1000,\n",
    "    'batch_size': 128,\n",
    "    'layers': 2,\n",
    "    'units': 64,\n",
    "    'dropout_rate': 0.2\n",
    "}"
   ]
  },
  {
   "cell_type": "code",
   "execution_count": 49,
   "metadata": {},
   "outputs": [
    {
     "name": "stdout",
     "output_type": "stream",
     "text": [
      "WARNING:tensorflow:From /home/yulia/anaconda3/lib/python3.6/site-packages/tensorflow/python/keras/layers/core.py:143: calling dropout (from tensorflow.python.ops.nn_ops) with keep_prob is deprecated and will be removed in a future version.\n",
      "Instructions for updating:\n",
      "Please use `rate` instead of `keep_prob`. Rate should be set to `rate = 1 - keep_prob`.\n",
      "WARNING:tensorflow:From /home/yulia/anaconda3/lib/python3.6/site-packages/tensorflow/python/ops/control_flow_ops.py:423: colocate_with (from tensorflow.python.framework.ops) is deprecated and will be removed in a future version.\n",
      "Instructions for updating:\n",
      "Colocations handled automatically by placer.\n",
      "Train on 303459 samples, validate on 101153 samples\n",
      "WARNING:tensorflow:From /home/yulia/anaconda3/lib/python3.6/site-packages/tensorflow/python/ops/math_ops.py:3066: to_int32 (from tensorflow.python.ops.math_ops) is deprecated and will be removed in a future version.\n",
      "Instructions for updating:\n",
      "Use tf.cast instead.\n",
      "Epoch 1/1000\n",
      " - 52s - loss: 0.6003 - acc: 0.6564 - val_loss: 0.5777 - val_acc: 0.6725\n",
      "Epoch 2/1000\n",
      " - 50s - loss: 0.5639 - acc: 0.6842 - val_loss: 0.5708 - val_acc: 0.6762\n",
      "Epoch 3/1000\n",
      " - 51s - loss: 0.5522 - acc: 0.6942 - val_loss: 0.5677 - val_acc: 0.6818\n",
      "Epoch 4/1000\n",
      " - 50s - loss: 0.5428 - acc: 0.7027 - val_loss: 0.5658 - val_acc: 0.6839\n",
      "Epoch 5/1000\n",
      " - 50s - loss: 0.5318 - acc: 0.7136 - val_loss: 0.5662 - val_acc: 0.6868\n",
      "Epoch 6/1000\n",
      " - 50s - loss: 0.5224 - acc: 0.7230 - val_loss: 0.5644 - val_acc: 0.6890\n",
      "Epoch 7/1000\n",
      " - 39s - loss: 0.5118 - acc: 0.7310 - val_loss: 0.5653 - val_acc: 0.6888\n",
      "Epoch 8/1000\n",
      " - 39s - loss: 0.4997 - acc: 0.7418 - val_loss: 0.5661 - val_acc: 0.6885\n",
      "Validation accuracy: 0.6884818077087402, loss: 0.5660977663244825\n"
     ]
    }
   ],
   "source": [
    "reload(train_model)\n",
    "history, train_pred_probs, val_pred_probs = train_model.train_model(((train_vec, train_target), (val_vec, val_target)), logs_base_dir, **ngram_model_params)"
   ]
  },
  {
   "cell_type": "code",
   "execution_count": 50,
   "metadata": {},
   "outputs": [],
   "source": [
    "probs_path = main_dir+'Classification/data/probs/party/'"
   ]
  },
  {
   "cell_type": "code",
   "execution_count": 51,
   "metadata": {},
   "outputs": [],
   "source": [
    "np.save(probs_path+'val_pred_probs_mlp_ngram', val_pred_probs, allow_pickle=True, fix_imports=True)"
   ]
  },
  {
   "cell_type": "code",
   "execution_count": 56,
   "metadata": {},
   "outputs": [],
   "source": [
    "val_pred_probs = np.load(probs_path+'val_pred_probs_mlp_ngram.npy', allow_pickle=True, fix_imports=True)"
   ]
  },
  {
   "cell_type": "markdown",
   "metadata": {},
   "source": [
    "## Model evaluation"
   ]
  },
  {
   "cell_type": "code",
   "execution_count": 52,
   "metadata": {},
   "outputs": [
    {
     "data": {
      "text/plain": [
       "69642"
      ]
     },
     "execution_count": 52,
     "metadata": {},
     "output_type": "execute_result"
    }
   ],
   "source": [
    "val_preds = val_pred_probs > 0.5\n",
    "np.sum(val_preds.flatten()==val_target)"
   ]
  },
  {
   "cell_type": "code",
   "execution_count": 53,
   "metadata": {},
   "outputs": [
    {
     "name": "stdout",
     "output_type": "stream",
     "text": [
      "Confusion matrix, without normalization\n",
      "[[31089 16240]\n",
      " [15271 38553]]\n",
      "             precision    recall  f1-score   support\n",
      "\n",
      "      White       0.67      0.66      0.66     47329\n",
      "  Non-White       0.70      0.72      0.71     53824\n",
      "\n",
      "avg / total       0.69      0.69      0.69    101153\n",
      "\n"
     ]
    },
    {
     "data": {
      "text/plain": [
       "<matplotlib.axes._subplots.AxesSubplot at 0x7fbe726bcf60>"
      ]
     },
     "execution_count": 53,
     "metadata": {},
     "output_type": "execute_result"
    },
    {
     "data": {
      "image/png": "[encoded data removed]",
      "text/plain": [
       "<Figure size 432x288 with 2 Axes>"
      ]
     },
     "metadata": {},
     "output_type": "display_data"
    }
   ],
   "source": [
    "reload(explore_data)\n",
    "# specify class names in 0 - 1 order\n",
    "classes = ['White', 'Non-White']\n",
    "explore_data.plot_confusion_matrix(val_target, val_preds, classes, normalize=True)"
   ]
  },
  {
   "cell_type": "code",
   "execution_count": 55,
   "metadata": {
    "scrolled": false
   },
   "outputs": [
    {
     "data": {
      "image/png": "[encoded data removed]",
      "text/plain": [
       "<Figure size 720x720 with 2 Axes>"
      ]
     },
     "metadata": {},
     "output_type": "display_data"
    }
   ],
   "source": [
    "reload(explore_data)\n",
    "explore_data.plot_calibration_curve(val_target, val_pred_probs, 'Party')"
   ]
  },
  {
   "cell_type": "code",
   "execution_count": 56,
   "metadata": {},
   "outputs": [],
   "source": [
    "del train, train_ids, train_pred_probs, train_target, train_vec"
   ]
  },
  {
   "cell_type": "code",
   "execution_count": 57,
   "metadata": {},
   "outputs": [
    {
     "name": "stderr",
     "output_type": "stream",
     "text": [
      "/home/yulia/anaconda3/lib/python3.6/site-packages/numpy/lib/arraysetops.py:472: FutureWarning: elementwise comparison failed; returning scalar instead, but in the future will perform elementwise comparison\n",
      "  mask |= (ar1 == a)\n"
     ]
    },
    {
     "data": {
      "text/plain": [
       "(106095, 16)"
      ]
     },
     "execution_count": 57,
     "metadata": {},
     "output_type": "execute_result"
    }
   ],
   "source": [
    "descr_df = pd.read_csv(main_dir+'data/QA/full_descr.txt', sep=\"|\", index_col=0)\n",
    "descr_df = descr_df.loc[np.asarray(val_ids, dtype=int)]\n",
    "descr_df.shape"
   ]
  },
  {
   "cell_type": "code",
   "execution_count": 58,
   "metadata": {},
   "outputs": [
    {
     "data": {
      "text/html": [
       "<div>\n",
       "<style scoped>\n",
       "    .dataframe tbody tr th:only-of-type {\n",
       "        vertical-align: middle;\n",
       "    }\n",
       "\n",
       "    .dataframe tbody tr th {\n",
       "        vertical-align: top;\n",
       "    }\n",
       "\n",
       "    .dataframe thead th {\n",
       "        text-align: right;\n",
       "    }\n",
       "</style>\n",
       "<table border=\"1\" class=\"dataframe\">\n",
       "  <thead>\n",
       "    <tr style=\"text-align: right;\">\n",
       "      <th></th>\n",
       "      <th>date</th>\n",
       "      <th>char_count</th>\n",
       "      <th>word_count</th>\n",
       "      <th>speakerid</th>\n",
       "      <th>Party</th>\n",
       "      <th>Congress</th>\n",
       "      <th>Chamber</th>\n",
       "      <th>State</th>\n",
       "      <th>Ethnicity</th>\n",
       "      <th>Age</th>\n",
       "      <th>Age_lt_med</th>\n",
       "      <th>NonWhite</th>\n",
       "      <th>Female</th>\n",
       "      <th>speaker</th>\n",
       "      <th>Full Name</th>\n",
       "      <th>match</th>\n",
       "    </tr>\n",
       "    <tr>\n",
       "      <th>speech_id</th>\n",
       "      <th></th>\n",
       "      <th></th>\n",
       "      <th></th>\n",
       "      <th></th>\n",
       "      <th></th>\n",
       "      <th></th>\n",
       "      <th></th>\n",
       "      <th></th>\n",
       "      <th></th>\n",
       "      <th></th>\n",
       "      <th></th>\n",
       "      <th></th>\n",
       "      <th></th>\n",
       "      <th></th>\n",
       "      <th></th>\n",
       "      <th></th>\n",
       "    </tr>\n",
       "  </thead>\n",
       "  <tbody>\n",
       "    <tr>\n",
       "      <th>1020203893</th>\n",
       "      <td>19920805</td>\n",
       "      <td>403</td>\n",
       "      <td>77</td>\n",
       "      <td>102108191.0</td>\n",
       "      <td>D</td>\n",
       "      <td>102</td>\n",
       "      <td>S</td>\n",
       "      <td>AZ</td>\n",
       "      <td>W</td>\n",
       "      <td>55.0</td>\n",
       "      <td>0.0</td>\n",
       "      <td>0.0</td>\n",
       "      <td>0.0</td>\n",
       "      <td>Mr. DECONCINI</td>\n",
       "      <td>DECONCINI, DENNIS</td>\n",
       "      <td>exact</td>\n",
       "    </tr>\n",
       "    <tr>\n",
       "      <th>1030062300</th>\n",
       "      <td>19930721</td>\n",
       "      <td>799</td>\n",
       "      <td>139</td>\n",
       "      <td>103120531.0</td>\n",
       "      <td>D</td>\n",
       "      <td>103</td>\n",
       "      <td>S</td>\n",
       "      <td>MD</td>\n",
       "      <td>W</td>\n",
       "      <td>58.0</td>\n",
       "      <td>0.0</td>\n",
       "      <td>0.0</td>\n",
       "      <td>1.0</td>\n",
       "      <td>Ms. MIKULSKI</td>\n",
       "      <td>MIKULSKI, BARBARA</td>\n",
       "      <td>exact</td>\n",
       "    </tr>\n",
       "    <tr>\n",
       "      <th>1100205980</th>\n",
       "      <td>20080927</td>\n",
       "      <td>1178</td>\n",
       "      <td>226</td>\n",
       "      <td>110116630.0</td>\n",
       "      <td>D</td>\n",
       "      <td>110</td>\n",
       "      <td>H</td>\n",
       "      <td>CA</td>\n",
       "      <td>W</td>\n",
       "      <td>67.0</td>\n",
       "      <td>0.0</td>\n",
       "      <td>0.0</td>\n",
       "      <td>0.0</td>\n",
       "      <td>Mr. BERMAN</td>\n",
       "      <td>BERMAN, HOWARD</td>\n",
       "      <td>exact</td>\n",
       "    </tr>\n",
       "    <tr>\n",
       "      <th>990019658</th>\n",
       "      <td>19850404</td>\n",
       "      <td>2935</td>\n",
       "      <td>516</td>\n",
       "      <td>99114400.0</td>\n",
       "      <td>D</td>\n",
       "      <td>99</td>\n",
       "      <td>H</td>\n",
       "      <td>NY</td>\n",
       "      <td>B</td>\n",
       "      <td>50.0</td>\n",
       "      <td>1.0</td>\n",
       "      <td>1.0</td>\n",
       "      <td>0.0</td>\n",
       "      <td>Mr. OWENS</td>\n",
       "      <td>OWENS, MAJOR</td>\n",
       "      <td>fuzzy</td>\n",
       "    </tr>\n",
       "    <tr>\n",
       "      <th>1130043981</th>\n",
       "      <td>20130801</td>\n",
       "      <td>1205</td>\n",
       "      <td>234</td>\n",
       "      <td>113120621.0</td>\n",
       "      <td>D</td>\n",
       "      <td>113</td>\n",
       "      <td>S</td>\n",
       "      <td>WA</td>\n",
       "      <td>W</td>\n",
       "      <td>64.0</td>\n",
       "      <td>0.0</td>\n",
       "      <td>0.0</td>\n",
       "      <td>1.0</td>\n",
       "      <td>Mrs. MURRAY</td>\n",
       "      <td>MURRAY, PATTY</td>\n",
       "      <td>exact</td>\n",
       "    </tr>\n",
       "  </tbody>\n",
       "</table>\n",
       "</div>"
      ],
      "text/plain": [
       "                date  char_count  word_count    speakerid Party  Congress  \\\n",
       "speech_id                                                                   \n",
       "1020203893  19920805         403          77  102108191.0     D       102   \n",
       "1030062300  19930721         799         139  103120531.0     D       103   \n",
       "1100205980  20080927        1178         226  110116630.0     D       110   \n",
       "990019658   19850404        2935         516   99114400.0     D        99   \n",
       "1130043981  20130801        1205         234  113120621.0     D       113   \n",
       "\n",
       "           Chamber State Ethnicity   Age  Age_lt_med  NonWhite  Female  \\\n",
       "speech_id                                                                \n",
       "1020203893       S    AZ         W  55.0         0.0       0.0     0.0   \n",
       "1030062300       S    MD         W  58.0         0.0       0.0     1.0   \n",
       "1100205980       H    CA         W  67.0         0.0       0.0     0.0   \n",
       "990019658        H    NY         B  50.0         1.0       1.0     0.0   \n",
       "1130043981       S    WA         W  64.0         0.0       0.0     1.0   \n",
       "\n",
       "                  speaker          Full Name  match  \n",
       "speech_id                                            \n",
       "1020203893  Mr. DECONCINI  DECONCINI, DENNIS  exact  \n",
       "1030062300   Ms. MIKULSKI  MIKULSKI, BARBARA  exact  \n",
       "1100205980     Mr. BERMAN     BERMAN, HOWARD  exact  \n",
       "990019658       Mr. OWENS       OWENS, MAJOR  fuzzy  \n",
       "1130043981    Mrs. MURRAY      MURRAY, PATTY  exact  "
      ]
     },
     "execution_count": 58,
     "metadata": {},
     "output_type": "execute_result"
    }
   ],
   "source": [
    "descr_df.head()"
   ]
  },
  {
   "cell_type": "code",
   "execution_count": 59,
   "metadata": {},
   "outputs": [
    {
     "name": "stdout",
     "output_type": "stream",
     "text": [
      "Validation sample means:\n",
      "      Gender_F  Ethinicity_NW     AvgAge   Party_D  Chamber_H  AvgWordCount\n",
      "base  0.091673       0.098836  57.724436  0.529214     0.6059    381.480277\n"
     ]
    },
    {
     "data": {
      "text/html": [
       "<div>\n",
       "<style scoped>\n",
       "    .dataframe tbody tr th:only-of-type {\n",
       "        vertical-align: middle;\n",
       "    }\n",
       "\n",
       "    .dataframe tbody tr th {\n",
       "        vertical-align: top;\n",
       "    }\n",
       "\n",
       "    .dataframe thead th {\n",
       "        text-align: right;\n",
       "    }\n",
       "</style>\n",
       "<table border=\"1\" class=\"dataframe\">\n",
       "  <thead>\n",
       "    <tr style=\"text-align: right;\">\n",
       "      <th></th>\n",
       "      <th>Gender_F</th>\n",
       "      <th>Ethinicity_NW</th>\n",
       "      <th>AvgAge</th>\n",
       "      <th>Party_D</th>\n",
       "      <th>Chamber_H</th>\n",
       "      <th>AvgWordCount</th>\n",
       "    </tr>\n",
       "  </thead>\n",
       "  <tbody>\n",
       "    <tr>\n",
       "      <th>0.4</th>\n",
       "      <td>0.63</td>\n",
       "      <td>0.52</td>\n",
       "      <td>0.99</td>\n",
       "      <td>0.48</td>\n",
       "      <td>0.95</td>\n",
       "      <td>1.08</td>\n",
       "    </tr>\n",
       "    <tr>\n",
       "      <th>0.6</th>\n",
       "      <td>0.77</td>\n",
       "      <td>0.81</td>\n",
       "      <td>1.00</td>\n",
       "      <td>0.96</td>\n",
       "      <td>0.97</td>\n",
       "      <td>0.76</td>\n",
       "    </tr>\n",
       "    <tr>\n",
       "      <th>1.0</th>\n",
       "      <td>1.50</td>\n",
       "      <td>1.56</td>\n",
       "      <td>1.01</td>\n",
       "      <td>1.45</td>\n",
       "      <td>1.06</td>\n",
       "      <td>1.16</td>\n",
       "    </tr>\n",
       "  </tbody>\n",
       "</table>\n",
       "</div>"
      ],
      "text/plain": [
       "     Gender_F  Ethinicity_NW  AvgAge  Party_D  Chamber_H  AvgWordCount\n",
       "0.4      0.63           0.52    0.99     0.48       0.95          1.08\n",
       "0.6      0.77           0.81    1.00     0.96       0.97          0.76\n",
       "1.0      1.50           1.56    1.01     1.45       1.06          1.16"
      ]
     },
     "execution_count": 59,
     "metadata": {},
     "output_type": "execute_result"
    }
   ],
   "source": [
    "reload(explore_data)\n",
    "# checking the ratios of demo variables in low-mid-high probability buckets\n",
    "explore_data.check_bin_probs_distr(val_pred_probs, \n",
    "                                   val_ids, \n",
    "                                   descr_df)"
   ]
  },
  {
   "cell_type": "code",
   "execution_count": 60,
   "metadata": {},
   "outputs": [
    {
     "name": "stdout",
     "output_type": "stream",
     "text": [
      "\n",
      "Top 10 ngrams by differentiating score:\n",
      "service ambassadors \t 23564.8\n",
      "the arvada \t 23318.7\n",
      "ridge service \t 23318.7\n",
      "arvada wheat \t 23318.7\n",
      "overcome adversities \t 22857.9\n",
      "attained with \t 21978.4\n",
      "levels strive \t 21915.7\n",
      "youth award \t 21360.7\n",
      "ambassadors for \t 21359.6\n",
      "adversities the \t 21066.7\n"
     ]
    },
    {
     "data": {
      "text/html": [
       "<div>\n",
       "<style scoped>\n",
       "    .dataframe tbody tr th:only-of-type {\n",
       "        vertical-align: middle;\n",
       "    }\n",
       "\n",
       "    .dataframe tbody tr th {\n",
       "        vertical-align: top;\n",
       "    }\n",
       "\n",
       "    .dataframe thead th {\n",
       "        text-align: right;\n",
       "    }\n",
       "</style>\n",
       "<table border=\"1\" class=\"dataframe\">\n",
       "  <thead>\n",
       "    <tr style=\"text-align: right;\">\n",
       "      <th>bin</th>\n",
       "      <th>1</th>\n",
       "      <th>2</th>\n",
       "      <th>3</th>\n",
       "      <th>4</th>\n",
       "    </tr>\n",
       "  </thead>\n",
       "  <tbody>\n",
       "    <tr>\n",
       "      <th>adversities the</th>\n",
       "      <td>0.0</td>\n",
       "      <td>0.0</td>\n",
       "      <td>2.0</td>\n",
       "      <td>40.0</td>\n",
       "    </tr>\n",
       "    <tr>\n",
       "      <th>ambassadors for</th>\n",
       "      <td>2.0</td>\n",
       "      <td>1.0</td>\n",
       "      <td>8.0</td>\n",
       "      <td>82.0</td>\n",
       "    </tr>\n",
       "    <tr>\n",
       "      <th>arvada wheat</th>\n",
       "      <td>0.0</td>\n",
       "      <td>0.0</td>\n",
       "      <td>1.0</td>\n",
       "      <td>81.0</td>\n",
       "    </tr>\n",
       "    <tr>\n",
       "      <th>attained with</th>\n",
       "      <td>1.0</td>\n",
       "      <td>0.0</td>\n",
       "      <td>1.0</td>\n",
       "      <td>41.0</td>\n",
       "    </tr>\n",
       "    <tr>\n",
       "      <th>levels strive</th>\n",
       "      <td>0.0</td>\n",
       "      <td>0.0</td>\n",
       "      <td>1.0</td>\n",
       "      <td>40.0</td>\n",
       "    </tr>\n",
       "    <tr>\n",
       "      <th>overcome adversities</th>\n",
       "      <td>0.0</td>\n",
       "      <td>0.0</td>\n",
       "      <td>1.0</td>\n",
       "      <td>41.0</td>\n",
       "    </tr>\n",
       "    <tr>\n",
       "      <th>ridge service</th>\n",
       "      <td>0.0</td>\n",
       "      <td>0.0</td>\n",
       "      <td>1.0</td>\n",
       "      <td>81.0</td>\n",
       "    </tr>\n",
       "    <tr>\n",
       "      <th>service ambassadors</th>\n",
       "      <td>0.0</td>\n",
       "      <td>0.0</td>\n",
       "      <td>1.0</td>\n",
       "      <td>82.0</td>\n",
       "    </tr>\n",
       "    <tr>\n",
       "      <th>the arvada</th>\n",
       "      <td>0.0</td>\n",
       "      <td>0.0</td>\n",
       "      <td>1.0</td>\n",
       "      <td>81.0</td>\n",
       "    </tr>\n",
       "    <tr>\n",
       "      <th>youth award</th>\n",
       "      <td>0.0</td>\n",
       "      <td>1.0</td>\n",
       "      <td>8.0</td>\n",
       "      <td>82.0</td>\n",
       "    </tr>\n",
       "  </tbody>\n",
       "</table>\n",
       "</div>"
      ],
      "text/plain": [
       "bin                     1    2    3     4\n",
       "adversities the       0.0  0.0  2.0  40.0\n",
       "ambassadors for       2.0  1.0  8.0  82.0\n",
       "arvada wheat          0.0  0.0  1.0  81.0\n",
       "attained with         1.0  0.0  1.0  41.0\n",
       "levels strive         0.0  0.0  1.0  40.0\n",
       "overcome adversities  0.0  0.0  1.0  41.0\n",
       "ridge service         0.0  0.0  1.0  81.0\n",
       "service ambassadors   0.0  0.0  1.0  82.0\n",
       "the arvada            0.0  0.0  1.0  81.0\n",
       "youth award           0.0  1.0  8.0  82.0"
      ]
     },
     "execution_count": 60,
     "metadata": {},
     "output_type": "execute_result"
    }
   ],
   "source": [
    "reload(explore_data)\n",
    "explore_data.compare_ngrams(val, val_pred_probs, ngram_range=(1, 2))"
   ]
  },
  {
   "cell_type": "code",
   "execution_count": 68,
   "metadata": {
    "scrolled": false
   },
   "outputs": [
    {
     "name": "stdout",
     "output_type": "stream",
     "text": [
      "\n",
      "True positive (Predicted prob: 1.00):\n",
      "\n",
      "date                       20080618\n",
      "char_count                     4560\n",
      "word_count                      812\n",
      "speakerid               1.10119e+08\n",
      "Party                             R\n",
      "Congress                        110\n",
      "Chamber                           H\n",
      "State                            AZ\n",
      "Ethnicity                         W\n",
      "Age                              51\n",
      "Age_lt_med                        1\n",
      "NonWhite                          0\n",
      "Female                            0\n",
      "speaker       Mr. FRANKS of Arizona\n",
      "Full Name             FRANKS, TRENT\n",
      "match                         exact\n",
      "Name: 1100175910, dtype: object\n",
      "\n",
      " Madam Speaker. I stand once again before this House with yet another Sunset Memorial. It is June 18. 2008 in the land of the free and the home of the brave. and before the sun sets today in America. almost 4.000 more defenseless unborn children were killed by abortion on demand. Thats just today. Madam Speaker. Thats more than the number of innocent lives lost on September 11 in this country. only it happens every day. It has now been exactly 12.931 days since the tragedy called Roe v. Wade was first handed down. Since then. the very foundation of this Nation has been stained by the blood of almost 50 million of its own children. Some of them. Madam Speaker. cried and screamed as they died. but because it was amniotic fluid passing over the vocal cords instead of air. we couldnt hear them. All of them had at least four things in common. First. they were each just little babies who had done nothing wrong to anyone. and each one of them died a nameless and lonely death. And each one of their mothers. whether she realizes it or not. will never be quite the same. And all the gifts that these children might have brought to humanity are now lost forever. Yet even in the glare of such tragedy. this generation still clings to a blind. invincible ignorance while history repeats itself and our own silent genocide mercilessly annihilates the most helpless of all victims. those yet unborn. Madam Speaker. perhaps its time for those of us in this Chamber to remind ourselves of why we are really all here. Thomas Jefferson said. \"The care of human life and its happiness and not its destruction is the chief and only object of good government.\" The phrase in the 14th Amendment capsulizes our entire Constitution. It says. \"No State shall deprive any person of life. liberty or property without due process of law.\" Madam Speaker. protecting the lives of our innocent citizens and their constitutional rights is why we are all here. The bedrock foundation of this Republic is the clarion declaration of the selfevident truth that all human beings are created equal and endowed by their Creator with the unalienable rights of life. liberty and the pursuit of happiness. Every conflict and battle our Nation has ever faced can be traced to our commitment to this core. selfevident truth. It has made us the beacon of hope for the entire world. Madam Speaker. it is who we are. And yet today another day has passed. and we in this body have failed again to honor that foundational commitment. We have failed our sworn oath and our Godgiven responsibility as we broke faith with nearly 4.000 more innocent American babies who died today without the protection we should have given them. And it seems so sad to me. Madam Speaker. that this Sunset Memorial may be the only acknowledgement or remembrance these children who died today will ever have in this Chamber. So as a small gesture. I would ask those in the Chamber who are inclined to join me for a moment of silent memorial to these lost little Americans. So Madam Speaker. let me conclude this Sunset Memorial in the hope that perhaps someone new who heard it tonight will finally embrace the truth that abortion really does kill little babies. that it hurts mothers in ways that we can never express. and that 12.931 days spent killing nearly 50 million unborn children in America is enough. and that it is time that we stood up together again. and remembered that we are the same America that rejected human slavery and marched into Europe to arrest the Nazi Holocaust. and we are still courageous and compassionate enough to find a better way for mothers and their unborn babies than abortion on demand. Madam Speaker. as we consider the plight -of unborn America tonight. may we each remind ourselves that our own days in this sunshine of life are also numbered and that all too soon each one of us will walk from these Chambers for the very last time. And if it should be that this Congress is allowed to convene on yet another day to come. -may that be the day when we finally hear the cries of innocent unborn children. May that be the day when we find the humanity. the courage. and the will to embrace together our human and our constitutional duty to protect these. the least of our tiny. little American brothers and sisters from this murderous scourge upon our Nation called abortion on demand. It is June 18. 2008. 12.931 days since Roe versus Wade first stained the foundation of this Nation with the blood of its own children. this in the land of the free and the home of the brave.\n",
      "--------------------\n",
      "\n",
      "True negative (Predicted prob: 0.05):\n",
      "\n",
      "date                19860320\n",
      "char_count               534\n",
      "word_count                99\n",
      "speakerid        9.91109e+07\n",
      "Party                      D\n",
      "Congress                  99\n",
      "Chamber                    H\n",
      "State                     MS\n",
      "Ethnicity                  W\n",
      "Age                       76\n",
      "Age_lt_med                 0\n",
      "NonWhite                   0\n",
      "Female                     0\n",
      "speaker          Mr. WHITTEN\n",
      "Full Name     WHITTEN, JAMIE\n",
      "match                  exact\n",
      "Name: 990167449, dtype: object\n",
      "\n",
      " I have been assured that it will be carried out. but may I say it will depend on the terms of the contract. Let me direct my attention to the Commodity Credit Corporation. The budget request this year was that we take all controls off for the Commodity Credit Corporationtake off all controls. We have not done that. but we do. in Government. give more and more jobs to the Commodity Credit Corporation. Of course. our committee can only do what we are asked to do and that is to keep the Corporation where it can handle its business.\n",
      "--------------------\n",
      "\n",
      "False positive (Predicted prob: 0.98):\n",
      "\n",
      "date                                    20080214\n",
      "char_count                                  1786\n",
      "word_count                                   309\n",
      "speakerid                             1.1012e+08\n",
      "Party                                          D\n",
      "Congress                                     110\n",
      "Chamber                                        H\n",
      "State                                         TX\n",
      "Ethnicity                                      B\n",
      "Age                                           73\n",
      "Age_lt_med                                     0\n",
      "NonWhite                                       1\n",
      "Female                                         1\n",
      "speaker       Ms. EDDIE BERNICE JOHNSON of Texas\n",
      "Full Name                         JOHNSON, EDDIE\n",
      "match                                      fuzzy\n",
      "Name: 1100137805, dtype: object\n",
      "\n",
      " Madam Speaker. I rise today to pay tribute to a longtime civic and political leader from East HoustonDebbie Haley of Terrellwho died recently at the age of 72. Mrs. Haley was an outstanding citizen who devoted a lifetime to helping those in her community. and she will be missed by all those who knew her. Leona Deborah Penn Haley was born on February 24. 1935. in Queens. a borough of New York City. the daughter of Edward and Rella Penn. She was a.graduate of Queens College. From 1958 to 1966. Haley taught in elementary schools in New York and Nashville. TN. In 1968. Haley and her husband. a physician. moved to Houston. Mrs. Haley emphasized education as the key to advancing minority interests. Founder of the Texas Black Caucus. in 1976. she was a delegate to the Democratic National Convention. Debbie Haley was also a president of the Cultural Arts Council of Houston and Harris County. For years. she also was a board member of the United Negro College Fund. Madam Speaker. Debbie Haleys commitment to her community. her legacy of generosity. and her selflessness serve as an example to all Americans. It is people like Debbie. working together in communities in Texas that make our Nation so great. We can celebrate the power of one individual. Debbie Haley. by bringing the best out of all us in our neighbors. our community. and our Nation. In addition to her son Anthony. survivors include her husband. Ronald Haley of Houston. two other sons. Sean Haley of Pearland and Kyle Haley of North Hollywood. Calif.. and a daughter. Rhonda Sewell of Sugar Land. She was wellloved and wellrespected in Houston and Texas. and she will be missed by all those who knew her. Madam Speaker. I am honored today to pay a final tribute to this outstanding community leader. Debbie Haley.\n",
      "--------------------\n",
      "\n",
      "False negative (Predicted prob: 0.04):\n",
      "\n",
      "date               19931101\n",
      "char_count             2570\n",
      "word_count              451\n",
      "speakerid       1.03115e+08\n",
      "Party                     D\n",
      "Congress                103\n",
      "Chamber                   S\n",
      "State                    DE\n",
      "Ethnicity                 W\n",
      "Age                      52\n",
      "Age_lt_med                1\n",
      "NonWhite                  0\n",
      "Female                    0\n",
      "speaker           Mr. BIDEN\n",
      "Full Name     BIDEN, JOSEPH\n",
      "match                 exact\n",
      "Name: 1030107131, dtype: object\n",
      "\n",
      " Mr. President. I may be in the minority here in that I find myself somewhat confused. I understand what the subpoena Is seeking. but I am not quite sure I understand whether there are any boundaries here at all. I listened with great interest to the question of the Senator from Maine. and I listened with great interest to the question of the Senator from Nebraska. I thought when the members of the committee. for all of whom I have great respect. and I am truly thankful they have the Job and I do not--being chairman of another committee that occasionally has contentious issues before us Is bad enough. This one I would not want on a bet. Having said that. I am I thought and maybe. again. I may be the only one with this dilemma. but I thought that originally the purpose of the agreement that is in dispute. whether the agreement Is. as characterized by Senator PACKWOODs counselat some point. I guess. if this goes to court. he is going to contest the characterization of the agreement they made as unanimously characterized by the committee. But let us assume for the moment that the committees characterization is correct. which I am prepared to do for the moment. As I understand it. you learned at some point of the diaries and at some point you thought that it were useful to have those diaries to determine whether or not any of the allegations that were formally brought against Senator PACKWOOD were. in fact. going to be corroborated or disproved or at least have evidence offered that may contradict the charges made in those diaries. So you entered into an agreement because we keep talking about the agreement here and. as I understand the agreement you entered into. you said there were three things that would be exempted from your consideration. able to be redacted by counsel. and you trusted Senator PACKWOOD and his counsel to determine whether anything fell within these three categories. And the categories were attorneyclient privilege. doctorpatient privilege. and the one that I am a little confused on personalfamily related matters. Now my first question is. Did you accept those three categories because you thought that they were the .only things that he would have a right in court to resist making public to you. or did you set out those three categories because what you meant to do was proscribe what you should look at for the purposes of only looking at the charges brought against Senator PACKWOOD? That is my first question. I ask that to the vice Chair as well as the Chair or anyone on the committee if you could answer that.\n",
      "--------------------\n"
     ]
    }
   ],
   "source": [
    "reload(explore_data)\n",
    "explore_data.print_mispredictions(val_target, val_pred_probs, val, val_ids, descr_df)"
   ]
  },
  {
   "cell_type": "code",
   "execution_count": null,
   "metadata": {},
   "outputs": [],
   "source": []
  }
 ],
 "metadata": {
  "kernelspec": {
   "display_name": "Python 3",
   "language": "python",
   "name": "python3"
  },
  "language_info": {
   "codemirror_mode": {
    "name": "ipython",
    "version": 3
   },
   "file_extension": ".py",
   "mimetype": "text/x-python",
   "name": "python",
   "nbconvert_exporter": "python",
   "pygments_lexer": "ipython3",
   "version": "3.5.2"
  }
 },
 "nbformat": 4,
 "nbformat_minor": 2
}
