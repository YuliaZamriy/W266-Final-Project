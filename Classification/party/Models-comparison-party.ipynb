{
 "cells": [
  {
   "cell_type": "code",
   "execution_count": 1,
   "metadata": {},
   "outputs": [
    {
     "data": {
      "text/html": [
       "<style>.container { width:100% !important; }</style>"
      ],
      "text/plain": [
       "<IPython.core.display.HTML object>"
      ]
     },
     "metadata": {},
     "output_type": "display_data"
    }
   ],
   "source": [
    "# increase cell width\n",
    "from IPython.core.display import display, HTML\n",
    "display(HTML(\"<style>.container { width:100% !important; }</style>\"))"
   ]
  },
  {
   "cell_type": "code",
   "execution_count": 2,
   "metadata": {},
   "outputs": [],
   "source": [
    "from __future__ import absolute_import\n",
    "from __future__ import division\n",
    "from __future__ import print_function\n",
    "\n",
    "import os\n",
    "import random\n",
    "import time\n",
    "import pickle\n",
    "import gc\n",
    "import re\n",
    "import itertools\n",
    "\n",
    "import numpy as np\n",
    "import pandas as pd\n",
    "\n",
    "from importlib import reload\n",
    "\n",
    "import scipy.sparse\n",
    "\n",
    "import matplotlib.pyplot as plt\n",
    "%matplotlib inline"
   ]
  },
  {
   "cell_type": "code",
   "execution_count": 3,
   "metadata": {},
   "outputs": [],
   "source": [
    "from helpers import load_data\n",
    "from helpers import explore_data\n",
    "from helpers import preprocess_data\n",
    "from helpers import train_model"
   ]
  },
  {
   "cell_type": "markdown",
   "metadata": {},
   "source": [
    "### Load validation predicted probabilities"
   ]
  },
  {
   "cell_type": "code",
   "execution_count": 4,
   "metadata": {},
   "outputs": [],
   "source": [
    "main_dir = '/tf/notebooks/'"
   ]
  },
  {
   "cell_type": "code",
   "execution_count": 5,
   "metadata": {},
   "outputs": [],
   "source": [
    "probs_path = main_dir+'final-project/Classification/data/party'"
   ]
  },
  {
   "cell_type": "code",
   "execution_count": 6,
   "metadata": {},
   "outputs": [],
   "source": [
    "val_pred_probs_mlp_ngram = np.load(os.path.join(probs_path, 'val_pred_probs_mlp_ngram.npy'))\n",
    "val_pred_probs_cnn = np.load(os.path.join(probs_path, 'val_pred_probs_cnn.npy'))\n",
    "val_pred_probs_cnn_aggr_chunk = np.load(os.path.join(probs_path, 'val_pred_probs_cnn_aggr_chunk.npy'))"
   ]
  },
  {
   "cell_type": "code",
   "execution_count": 7,
   "metadata": {},
   "outputs": [
    {
     "data": {
      "text/plain": [
       "(101153, 101153, 101153)"
      ]
     },
     "execution_count": 7,
     "metadata": {},
     "output_type": "execute_result"
    }
   ],
   "source": [
    "len(val_pred_probs_mlp_ngram), len(val_pred_probs_cnn), len(val_pred_probs_cnn_aggr_chunk)"
   ]
  },
  {
   "cell_type": "code",
   "execution_count": 8,
   "metadata": {},
   "outputs": [],
   "source": [
    "with open(os.path.join(probs_path, 'val_ids'), 'rb') as fp:\n",
    "    val_ids = pickle.load(fp)\n",
    "with open(os.path.join(probs_path, 'val_target'), 'rb') as fp:\n",
    "    val_target = pickle.load(fp)\n",
    "with open(os.path.join(probs_path, 'val_list'), 'rb') as fp:\n",
    "    val_list = pickle.load(fp)"
   ]
  },
  {
   "cell_type": "code",
   "execution_count": 9,
   "metadata": {},
   "outputs": [
    {
     "data": {
      "text/plain": [
       "(101153, 101153, 101153)"
      ]
     },
     "execution_count": 9,
     "metadata": {},
     "output_type": "execute_result"
    }
   ],
   "source": [
    "len(val_ids), len(val_target), len(val_list)"
   ]
  },
  {
   "cell_type": "code",
   "execution_count": 10,
   "metadata": {},
   "outputs": [],
   "source": [
    "val_preds_mlp_ngram = val_pred_probs_mlp_ngram > 0.5\n",
    "val_preds_cnn = val_pred_probs_cnn > 0.5\n",
    "val_preds_cnn_aggr_chunk = val_pred_probs_cnn_aggr_chunk > 0.5"
   ]
  },
  {
   "cell_type": "code",
   "execution_count": 11,
   "metadata": {},
   "outputs": [
    {
     "data": {
      "text/plain": [
       "(array([54793]), array([56555]), 56545)"
      ]
     },
     "execution_count": 11,
     "metadata": {},
     "output_type": "execute_result"
    }
   ],
   "source": [
    "sum(val_preds_mlp_ngram), sum(val_preds_cnn), sum(val_preds_cnn_aggr_chunk)"
   ]
  },
  {
   "cell_type": "code",
   "execution_count": 12,
   "metadata": {},
   "outputs": [],
   "source": [
    "classes = ['Republican', 'Democrat']"
   ]
  },
  {
   "cell_type": "code",
   "execution_count": 13,
   "metadata": {},
   "outputs": [
    {
     "name": "stdout",
     "output_type": "stream",
     "text": [
      "Confusion matrix, without normalization\n",
      "[[31089 16240]\n",
      " [15271 38553]]\n",
      "              precision    recall  f1-score   support\n",
      "\n",
      "  Republican       0.67      0.66      0.66     47329\n",
      "    Democrat       0.70      0.72      0.71     53824\n",
      "\n",
      "   micro avg       0.69      0.69      0.69    101153\n",
      "   macro avg       0.69      0.69      0.69    101153\n",
      "weighted avg       0.69      0.69      0.69    101153\n",
      "\n"
     ]
    },
    {
     "data": {
      "text/plain": [
       "<matplotlib.axes._subplots.AxesSubplot at 0x7f05046598d0>"
      ]
     },
     "execution_count": 13,
     "metadata": {},
     "output_type": "execute_result"
    },
    {
     "data": {
      "image/png": "[encoded data removed]",
      "text/plain": [
       "<Figure size 432x288 with 2 Axes>"
      ]
     },
     "metadata": {
      "needs_background": "light"
     },
     "output_type": "display_data"
    }
   ],
   "source": [
    "explore_data.plot_confusion_matrix(val_target, val_preds_mlp_ngram, classes, normalize=True)"
   ]
  },
  {
   "cell_type": "code",
   "execution_count": 14,
   "metadata": {},
   "outputs": [
    {
     "name": "stdout",
     "output_type": "stream",
     "text": [
      "Confusion matrix, without normalization\n",
      "[[28560 18769]\n",
      " [16038 37786]]\n",
      "              precision    recall  f1-score   support\n",
      "\n",
      "  Republican       0.64      0.60      0.62     47329\n",
      "    Democrat       0.67      0.70      0.68     53824\n",
      "\n",
      "   micro avg       0.66      0.66      0.66    101153\n",
      "   macro avg       0.65      0.65      0.65    101153\n",
      "weighted avg       0.66      0.66      0.66    101153\n",
      "\n"
     ]
    },
    {
     "data": {
      "text/plain": [
       "<matplotlib.axes._subplots.AxesSubplot at 0x7f04adb07198>"
      ]
     },
     "execution_count": 14,
     "metadata": {},
     "output_type": "execute_result"
    },
    {
     "data": {
      "image/png": "[encoded data removed]",
      "text/plain": [
       "<Figure size 432x288 with 2 Axes>"
      ]
     },
     "metadata": {
      "needs_background": "light"
     },
     "output_type": "display_data"
    }
   ],
   "source": [
    "explore_data.plot_confusion_matrix(val_target, val_preds_cnn, classes, normalize=True)"
   ]
  },
  {
   "cell_type": "code",
   "execution_count": 15,
   "metadata": {},
   "outputs": [
    {
     "name": "stdout",
     "output_type": "stream",
     "text": [
      "Confusion matrix, without normalization\n",
      "[[29534 17795]\n",
      " [15074 38750]]\n",
      "              precision    recall  f1-score   support\n",
      "\n",
      "  Republican       0.66      0.62      0.64     47329\n",
      "    Democrat       0.69      0.72      0.70     53824\n",
      "\n",
      "   micro avg       0.68      0.68      0.68    101153\n",
      "   macro avg       0.67      0.67      0.67    101153\n",
      "weighted avg       0.67      0.68      0.67    101153\n",
      "\n"
     ]
    },
    {
     "data": {
      "text/plain": [
       "<matplotlib.axes._subplots.AxesSubplot at 0x7f04b22147b8>"
      ]
     },
     "execution_count": 15,
     "metadata": {},
     "output_type": "execute_result"
    },
    {
     "data": {
      "image/png": "[encoded data removed]",
      "text/plain": [
       "<Figure size 432x288 with 2 Axes>"
      ]
     },
     "metadata": {
      "needs_background": "light"
     },
     "output_type": "display_data"
    }
   ],
   "source": [
    "explore_data.plot_confusion_matrix(val_target, val_preds_cnn_aggr_chunk, classes, normalize=True)"
   ]
  },
  {
   "cell_type": "code",
   "execution_count": 33,
   "metadata": {},
   "outputs": [
    {
     "data": {
      "text/plain": [
       "(106095, 17)"
      ]
     },
     "execution_count": 33,
     "metadata": {},
     "output_type": "execute_result"
    }
   ],
   "source": [
    "descr_df = pd.read_csv(main_dir+'final-project/data/QA/full_descr.txt', sep=\"|\", index_col=0)\n",
    "descr_df = descr_df.loc[np.asarray(val_ids, dtype=int)]\n",
    "descr_df.reset_index(inplace=True)\n",
    "# descr_df.drop_duplicates('speech_id', inplace=True)\n",
    "descr_df.shape"
   ]
  },
  {
   "cell_type": "code",
   "execution_count": 72,
   "metadata": {},
   "outputs": [
    {
     "data": {
      "text/plain": [
       "D    175\n",
       "Name: Party, dtype: int64"
      ]
     },
     "execution_count": 72,
     "metadata": {},
     "output_type": "execute_result"
    }
   ],
   "source": [
    "descr_df[descr_df['Full Name']=='HASTINGS, ALCEE'].Party.value_counts()"
   ]
  },
  {
   "cell_type": "code",
   "execution_count": 74,
   "metadata": {},
   "outputs": [
    {
     "data": {
      "text/html": [
       "<div>\n",
       "<style scoped>\n",
       "    .dataframe tbody tr th:only-of-type {\n",
       "        vertical-align: middle;\n",
       "    }\n",
       "\n",
       "    .dataframe tbody tr th {\n",
       "        vertical-align: top;\n",
       "    }\n",
       "\n",
       "    .dataframe thead th {\n",
       "        text-align: right;\n",
       "    }\n",
       "</style>\n",
       "<table border=\"1\" class=\"dataframe\">\n",
       "  <thead>\n",
       "    <tr style=\"text-align: right;\">\n",
       "      <th></th>\n",
       "      <th>speech_id</th>\n",
       "      <th>date</th>\n",
       "      <th>char_count</th>\n",
       "      <th>word_count</th>\n",
       "      <th>speakerid</th>\n",
       "      <th>Party</th>\n",
       "      <th>Congress</th>\n",
       "      <th>Chamber</th>\n",
       "      <th>State</th>\n",
       "      <th>Ethnicity</th>\n",
       "      <th>Age</th>\n",
       "      <th>Age_lt_med</th>\n",
       "      <th>NonWhite</th>\n",
       "      <th>Female</th>\n",
       "      <th>speaker</th>\n",
       "      <th>Full Name</th>\n",
       "      <th>match</th>\n",
       "    </tr>\n",
       "  </thead>\n",
       "  <tbody>\n",
       "    <tr>\n",
       "      <th>702</th>\n",
       "      <td>1120025509</td>\n",
       "      <td>20110502</td>\n",
       "      <td>1275</td>\n",
       "      <td>222</td>\n",
       "      <td>112119720.0</td>\n",
       "      <td>D</td>\n",
       "      <td>112</td>\n",
       "      <td>H</td>\n",
       "      <td>FL</td>\n",
       "      <td>B</td>\n",
       "      <td>76.0</td>\n",
       "      <td>0.0</td>\n",
       "      <td>1.0</td>\n",
       "      <td>0.0</td>\n",
       "      <td>Mr. HASTINGS of Florida</td>\n",
       "      <td>HASTINGS, ALCEE</td>\n",
       "      <td>fuzzy</td>\n",
       "    </tr>\n",
       "    <tr>\n",
       "      <th>1162</th>\n",
       "      <td>1090180057</td>\n",
       "      <td>20060929</td>\n",
       "      <td>3282</td>\n",
       "      <td>555</td>\n",
       "      <td>109119720.0</td>\n",
       "      <td>D</td>\n",
       "      <td>109</td>\n",
       "      <td>H</td>\n",
       "      <td>FL</td>\n",
       "      <td>B</td>\n",
       "      <td>70.0</td>\n",
       "      <td>0.0</td>\n",
       "      <td>1.0</td>\n",
       "      <td>0.0</td>\n",
       "      <td>Mr. HASTINGS of Florida</td>\n",
       "      <td>HASTINGS, ALCEE</td>\n",
       "      <td>exact</td>\n",
       "    </tr>\n",
       "    <tr>\n",
       "      <th>1543</th>\n",
       "      <td>1070166436</td>\n",
       "      <td>20020926</td>\n",
       "      <td>192</td>\n",
       "      <td>36</td>\n",
       "      <td>107119720.0</td>\n",
       "      <td>D</td>\n",
       "      <td>107</td>\n",
       "      <td>H</td>\n",
       "      <td>FL</td>\n",
       "      <td>B</td>\n",
       "      <td>66.0</td>\n",
       "      <td>0.0</td>\n",
       "      <td>1.0</td>\n",
       "      <td>0.0</td>\n",
       "      <td>Mr. HASTINGS of Florida</td>\n",
       "      <td>HASTINGS, ALCEE</td>\n",
       "      <td>exact</td>\n",
       "    </tr>\n",
       "    <tr>\n",
       "      <th>2101</th>\n",
       "      <td>1140045958</td>\n",
       "      <td>20150728</td>\n",
       "      <td>1755</td>\n",
       "      <td>294</td>\n",
       "      <td>114119720.0</td>\n",
       "      <td>D</td>\n",
       "      <td>114</td>\n",
       "      <td>H</td>\n",
       "      <td>FL</td>\n",
       "      <td>B</td>\n",
       "      <td>80.0</td>\n",
       "      <td>0.0</td>\n",
       "      <td>1.0</td>\n",
       "      <td>0.0</td>\n",
       "      <td>MR. HASTINGS</td>\n",
       "      <td>HASTINGS, ALCEE</td>\n",
       "      <td>exact</td>\n",
       "    </tr>\n",
       "    <tr>\n",
       "      <th>2108</th>\n",
       "      <td>1120093362</td>\n",
       "      <td>20120321</td>\n",
       "      <td>774</td>\n",
       "      <td>152</td>\n",
       "      <td>112119720.0</td>\n",
       "      <td>D</td>\n",
       "      <td>112</td>\n",
       "      <td>H</td>\n",
       "      <td>FL</td>\n",
       "      <td>B</td>\n",
       "      <td>76.0</td>\n",
       "      <td>0.0</td>\n",
       "      <td>1.0</td>\n",
       "      <td>0.0</td>\n",
       "      <td>Mr. HASTINGS of Florida</td>\n",
       "      <td>HASTINGS, ALCEE</td>\n",
       "      <td>exact</td>\n",
       "    </tr>\n",
       "  </tbody>\n",
       "</table>\n",
       "</div>"
      ],
      "text/plain": [
       "       speech_id      date  char_count  word_count    speakerid Party  \\\n",
       "702   1120025509  20110502        1275         222  112119720.0     D   \n",
       "1162  1090180057  20060929        3282         555  109119720.0     D   \n",
       "1543  1070166436  20020926         192          36  107119720.0     D   \n",
       "2101  1140045958  20150728        1755         294  114119720.0     D   \n",
       "2108  1120093362  20120321         774         152  112119720.0     D   \n",
       "\n",
       "      Congress Chamber State Ethnicity   Age  Age_lt_med  NonWhite  Female  \\\n",
       "702        112       H    FL         B  76.0         0.0       1.0     0.0   \n",
       "1162       109       H    FL         B  70.0         0.0       1.0     0.0   \n",
       "1543       107       H    FL         B  66.0         0.0       1.0     0.0   \n",
       "2101       114       H    FL         B  80.0         0.0       1.0     0.0   \n",
       "2108       112       H    FL         B  76.0         0.0       1.0     0.0   \n",
       "\n",
       "                      speaker        Full Name  match  \n",
       "702   Mr. HASTINGS of Florida  HASTINGS, ALCEE  fuzzy  \n",
       "1162  Mr. HASTINGS of Florida  HASTINGS, ALCEE  exact  \n",
       "1543  Mr. HASTINGS of Florida  HASTINGS, ALCEE  exact  \n",
       "2101             MR. HASTINGS  HASTINGS, ALCEE  exact  \n",
       "2108  Mr. HASTINGS of Florida  HASTINGS, ALCEE  exact  "
      ]
     },
     "execution_count": 74,
     "metadata": {},
     "output_type": "execute_result"
    }
   ],
   "source": [
    "descr_df[descr_df['Full Name']=='HASTINGS, ALCEE'].head()"
   ]
  },
  {
   "cell_type": "code",
   "execution_count": 36,
   "metadata": {},
   "outputs": [
    {
     "data": {
      "text/plain": [
       "(4942, 17)"
      ]
     },
     "execution_count": 36,
     "metadata": {},
     "output_type": "execute_result"
    }
   ],
   "source": [
    "descr_df[descr_df.duplicated('speech_id')].shape"
   ]
  },
  {
   "cell_type": "code",
   "execution_count": 37,
   "metadata": {},
   "outputs": [
    {
     "data": {
      "text/plain": [
       "(3313, 17)"
      ]
     },
     "execution_count": 37,
     "metadata": {},
     "output_type": "execute_result"
    }
   ],
   "source": [
    "descr_df[descr_df.duplicated(['speech_id','Party'])].shape"
   ]
  },
  {
   "cell_type": "code",
   "execution_count": 38,
   "metadata": {},
   "outputs": [
    {
     "data": {
      "text/plain": [
       "(101153, 5)"
      ]
     },
     "execution_count": 38,
     "metadata": {},
     "output_type": "execute_result"
    }
   ],
   "source": [
    "pred_df = pd.DataFrame({'ids': np.asarray(val_ids, dtype=np.int64), \n",
    "                        'Party_model': np.asarray(val_target, dtype=np.int), \n",
    "                        'pred_probs_mlp_ngram': val_pred_probs_mlp_ngram.flatten(), \n",
    "                        'pred_probs_cnn': val_pred_probs_cnn.flatten(),\n",
    "                        'pred_probs_cnn_chunk': val_pred_probs_cnn_aggr_chunk.flatten()})\n",
    "pred_df.shape"
   ]
  },
  {
   "cell_type": "code",
   "execution_count": 82,
   "metadata": {},
   "outputs": [],
   "source": [
    "check_ids = np.asarray(val_ids, dtype=np.int64)\n",
    "check_target = np.asarray(val_target, dtype=np.int)\n",
    "check_d = descr_df[descr_df['Full Name']=='HASTINGS, ALCEE'].speech_id.values"
   ]
  },
  {
   "cell_type": "code",
   "execution_count": 87,
   "metadata": {},
   "outputs": [
    {
     "data": {
      "text/html": [
       "<div>\n",
       "<style scoped>\n",
       "    .dataframe tbody tr th:only-of-type {\n",
       "        vertical-align: middle;\n",
       "    }\n",
       "\n",
       "    .dataframe tbody tr th {\n",
       "        vertical-align: top;\n",
       "    }\n",
       "\n",
       "    .dataframe thead th {\n",
       "        text-align: right;\n",
       "    }\n",
       "</style>\n",
       "<table border=\"1\" class=\"dataframe\">\n",
       "  <thead>\n",
       "    <tr style=\"text-align: right;\">\n",
       "      <th></th>\n",
       "      <th>speech_id</th>\n",
       "      <th>date</th>\n",
       "      <th>char_count</th>\n",
       "      <th>word_count</th>\n",
       "      <th>speakerid</th>\n",
       "      <th>Party</th>\n",
       "      <th>Congress</th>\n",
       "      <th>Chamber</th>\n",
       "      <th>State</th>\n",
       "      <th>Ethnicity</th>\n",
       "      <th>Age</th>\n",
       "      <th>Age_lt_med</th>\n",
       "      <th>NonWhite</th>\n",
       "      <th>Female</th>\n",
       "      <th>speaker</th>\n",
       "      <th>Full Name</th>\n",
       "      <th>match</th>\n",
       "    </tr>\n",
       "  </thead>\n",
       "  <tbody>\n",
       "    <tr>\n",
       "      <th>57977</th>\n",
       "      <td>1110014306</td>\n",
       "      <td>20090213</td>\n",
       "      <td>1983</td>\n",
       "      <td>337</td>\n",
       "      <td>111119720.0</td>\n",
       "      <td>D</td>\n",
       "      <td>111</td>\n",
       "      <td>H</td>\n",
       "      <td>FL</td>\n",
       "      <td>B</td>\n",
       "      <td>74.0</td>\n",
       "      <td>0.0</td>\n",
       "      <td>1.0</td>\n",
       "      <td>0.0</td>\n",
       "      <td>Mr.. HASTINGS of Florida</td>\n",
       "      <td>HASTINGS, ALCEE</td>\n",
       "      <td>fuzzy</td>\n",
       "    </tr>\n",
       "    <tr>\n",
       "      <th>57978</th>\n",
       "      <td>1110014306</td>\n",
       "      <td>20090213</td>\n",
       "      <td>1983</td>\n",
       "      <td>337</td>\n",
       "      <td>111117640.0</td>\n",
       "      <td>R</td>\n",
       "      <td>111</td>\n",
       "      <td>H</td>\n",
       "      <td>WA</td>\n",
       "      <td>W</td>\n",
       "      <td>69.0</td>\n",
       "      <td>0.0</td>\n",
       "      <td>0.0</td>\n",
       "      <td>0.0</td>\n",
       "      <td>Mr.. HASTINGS of Florida</td>\n",
       "      <td>HASTINGS, DOC</td>\n",
       "      <td>fuzzy</td>\n",
       "    </tr>\n",
       "  </tbody>\n",
       "</table>\n",
       "</div>"
      ],
      "text/plain": [
       "        speech_id      date  char_count  word_count    speakerid Party  \\\n",
       "57977  1110014306  20090213        1983         337  111119720.0     D   \n",
       "57978  1110014306  20090213        1983         337  111117640.0     R   \n",
       "\n",
       "       Congress Chamber State Ethnicity   Age  Age_lt_med  NonWhite  Female  \\\n",
       "57977       111       H    FL         B  74.0         0.0       1.0     0.0   \n",
       "57978       111       H    WA         W  69.0         0.0       0.0     0.0   \n",
       "\n",
       "                        speaker        Full Name  match  \n",
       "57977  Mr.. HASTINGS of Florida  HASTINGS, ALCEE  fuzzy  \n",
       "57978  Mr.. HASTINGS of Florida    HASTINGS, DOC  fuzzy  "
      ]
     },
     "execution_count": 87,
     "metadata": {},
     "output_type": "execute_result"
    }
   ],
   "source": [
    "descr_df[descr_df.speech_id==1110014306]"
   ]
  },
  {
   "cell_type": "code",
   "execution_count": 85,
   "metadata": {},
   "outputs": [
    {
     "name": "stdout",
     "output_type": "stream",
     "text": [
      "1110014306\n",
      "1120096995\n",
      "1070060138\n",
      "1110091559\n",
      "1130115420\n",
      "1070003247\n",
      "1050047810\n",
      "1040189154\n",
      "1070166337\n",
      "1100016253\n",
      "1110071223\n",
      "1080007397\n",
      "1050036410\n",
      "1100180758\n",
      "1100090299\n",
      "1110127592\n",
      "1120006336\n",
      "1130001848\n",
      "1100088930\n",
      "1070035488\n",
      "1070155382\n",
      "1120107729\n",
      "1120061743\n",
      "1120046469\n",
      "1090053078\n",
      "1120030048\n",
      "1120112149\n",
      "1090024384\n",
      "1120080299\n",
      "1100158799\n",
      "1130116706\n",
      "1080123377\n",
      "1110132392\n",
      "1090043213\n",
      "1130022822\n"
     ]
    }
   ],
   "source": [
    "for i in range(len(check_d)):\n",
    "    if check_target[val_ids.index(str(check_d[i]))] == 0:\n",
    "        print(check_d[i])"
   ]
  },
  {
   "cell_type": "code",
   "execution_count": 80,
   "metadata": {},
   "outputs": [
    {
     "data": {
      "text/plain": [
       "101153"
      ]
     },
     "execution_count": 80,
     "metadata": {},
     "output_type": "execute_result"
    }
   ],
   "source": [
    "pred_df.ids.nunique()"
   ]
  },
  {
   "cell_type": "code",
   "execution_count": 39,
   "metadata": {},
   "outputs": [
    {
     "data": {
      "text/plain": [
       "1    53824\n",
       "0    47329\n",
       "Name: Party_model, dtype: int64"
      ]
     },
     "execution_count": 39,
     "metadata": {},
     "output_type": "execute_result"
    }
   ],
   "source": [
    "pred_df.Party_model.value_counts()"
   ]
  },
  {
   "cell_type": "code",
   "execution_count": 88,
   "metadata": {},
   "outputs": [
    {
     "data": {
      "text/plain": [
       "(106095, 22)"
      ]
     },
     "execution_count": 88,
     "metadata": {},
     "output_type": "execute_result"
    }
   ],
   "source": [
    "descr_pred_df = descr_df.merge(pred_df, left_on='speech_id', right_on='ids')\n",
    "descr_pred_df.shape"
   ]
  },
  {
   "cell_type": "code",
   "execution_count": 89,
   "metadata": {},
   "outputs": [
    {
     "data": {
      "text/plain": [
       "(4942, 22)"
      ]
     },
     "execution_count": 89,
     "metadata": {},
     "output_type": "execute_result"
    }
   ],
   "source": [
    "descr_pred_df[descr_pred_df.duplicated(['speech_id','Party_model'])].shape"
   ]
  },
  {
   "cell_type": "code",
   "execution_count": 105,
   "metadata": {},
   "outputs": [
    {
     "data": {
      "text/plain": [
       "(101153, 25)"
      ]
     },
     "execution_count": 105,
     "metadata": {},
     "output_type": "execute_result"
    }
   ],
   "source": [
    "descr_pred_df.drop_duplicates(['speech_id'], inplace=True)\n",
    "descr_pred_df.reset_index(inplace=True)\n",
    "descr_pred_df.shape"
   ]
  },
  {
   "cell_type": "code",
   "execution_count": 106,
   "metadata": {},
   "outputs": [
    {
     "data": {
      "text/plain": [
       "1    53824\n",
       "0    47329\n",
       "Name: Party_model, dtype: int64"
      ]
     },
     "execution_count": 106,
     "metadata": {},
     "output_type": "execute_result"
    }
   ],
   "source": [
    "descr_pred_df.Party_model.value_counts()"
   ]
  },
  {
   "cell_type": "code",
   "execution_count": 107,
   "metadata": {},
   "outputs": [
    {
     "data": {
      "text/html": [
       "<div>\n",
       "<style scoped>\n",
       "    .dataframe tbody tr th:only-of-type {\n",
       "        vertical-align: middle;\n",
       "    }\n",
       "\n",
       "    .dataframe tbody tr th {\n",
       "        vertical-align: top;\n",
       "    }\n",
       "\n",
       "    .dataframe thead th {\n",
       "        text-align: right;\n",
       "    }\n",
       "</style>\n",
       "<table border=\"1\" class=\"dataframe\">\n",
       "  <thead>\n",
       "    <tr style=\"text-align: right;\">\n",
       "      <th>Party_model</th>\n",
       "      <th>0</th>\n",
       "      <th>1</th>\n",
       "    </tr>\n",
       "    <tr>\n",
       "      <th>Party</th>\n",
       "      <th></th>\n",
       "      <th></th>\n",
       "    </tr>\n",
       "  </thead>\n",
       "  <tbody>\n",
       "    <tr>\n",
       "      <th>D</th>\n",
       "      <td>421</td>\n",
       "      <td>53467</td>\n",
       "    </tr>\n",
       "    <tr>\n",
       "      <th>I</th>\n",
       "      <td>4</td>\n",
       "      <td>1</td>\n",
       "    </tr>\n",
       "    <tr>\n",
       "      <th>R</th>\n",
       "      <td>46904</td>\n",
       "      <td>356</td>\n",
       "    </tr>\n",
       "  </tbody>\n",
       "</table>\n",
       "</div>"
      ],
      "text/plain": [
       "Party_model      0      1\n",
       "Party                    \n",
       "D              421  53467\n",
       "I                4      1\n",
       "R            46904    356"
      ]
     },
     "execution_count": 107,
     "metadata": {},
     "output_type": "execute_result"
    }
   ],
   "source": [
    "pd.crosstab(descr_pred_df.Party, descr_pred_df.Party_model)"
   ]
  },
  {
   "cell_type": "code",
   "execution_count": 108,
   "metadata": {},
   "outputs": [
    {
     "data": {
      "text/plain": [
       "1    132\n",
       "0     30\n",
       "Name: Party_model, dtype: int64"
      ]
     },
     "execution_count": 108,
     "metadata": {},
     "output_type": "execute_result"
    }
   ],
   "source": [
    "descr_pred_df[descr_pred_df['Full Name']=='HASTINGS, ALCEE'].Party_model.value_counts()"
   ]
  },
  {
   "cell_type": "code",
   "execution_count": 110,
   "metadata": {},
   "outputs": [
    {
     "data": {
      "text/plain": [
       "(101153, 25)"
      ]
     },
     "execution_count": 110,
     "metadata": {},
     "output_type": "execute_result"
    }
   ],
   "source": [
    "descr_pred_df.shape"
   ]
  },
  {
   "cell_type": "code",
   "execution_count": 112,
   "metadata": {},
   "outputs": [],
   "source": [
    "party_dummy = []\n",
    "for p in range(descr_pred_df.shape[0]):\n",
    "    if descr_pred_df.Party[p] == 'D':\n",
    "        party_dummy.append(1)\n",
    "    else:\n",
    "        party_dummy.append(0)\n",
    "len(party_dummy)\n",
    "descr_pred_df['Party_dummy'] = party_dummy"
   ]
  },
  {
   "cell_type": "code",
   "execution_count": 95,
   "metadata": {},
   "outputs": [],
   "source": [
    "preds = [\n",
    "    'pred_probs_mlp_ngram',\n",
    "    'pred_probs_cnn', \n",
    "    'pred_probs_cnn_chunk'\n",
    "]"
   ]
  },
  {
   "cell_type": "code",
   "execution_count": 113,
   "metadata": {},
   "outputs": [
    {
     "data": {
      "text/html": [
       "<div>\n",
       "<style scoped>\n",
       "    .dataframe tbody tr th:only-of-type {\n",
       "        vertical-align: middle;\n",
       "    }\n",
       "\n",
       "    .dataframe tbody tr th {\n",
       "        vertical-align: top;\n",
       "    }\n",
       "\n",
       "    .dataframe thead th {\n",
       "        text-align: right;\n",
       "    }\n",
       "</style>\n",
       "<table border=\"1\" class=\"dataframe\">\n",
       "  <thead>\n",
       "    <tr style=\"text-align: right;\">\n",
       "      <th></th>\n",
       "      <th>pred_probs_mlp_ngram</th>\n",
       "      <th>pred_probs_cnn</th>\n",
       "      <th>pred_probs_cnn_chunk</th>\n",
       "    </tr>\n",
       "    <tr>\n",
       "      <th>Party</th>\n",
       "      <th></th>\n",
       "      <th></th>\n",
       "      <th></th>\n",
       "    </tr>\n",
       "  </thead>\n",
       "  <tbody>\n",
       "    <tr>\n",
       "      <th>D</th>\n",
       "      <td>0.641810</td>\n",
       "      <td>0.615958</td>\n",
       "      <td>0.560174</td>\n",
       "    </tr>\n",
       "    <tr>\n",
       "      <th>I</th>\n",
       "      <td>0.535552</td>\n",
       "      <td>0.491995</td>\n",
       "      <td>0.532681</td>\n",
       "    </tr>\n",
       "    <tr>\n",
       "      <th>R</th>\n",
       "      <td>0.394023</td>\n",
       "      <td>0.426366</td>\n",
       "      <td>0.463500</td>\n",
       "    </tr>\n",
       "  </tbody>\n",
       "</table>\n",
       "</div>"
      ],
      "text/plain": [
       "       pred_probs_mlp_ngram  pred_probs_cnn  pred_probs_cnn_chunk\n",
       "Party                                                            \n",
       "D                  0.641810        0.615958              0.560174\n",
       "I                  0.535552        0.491995              0.532681\n",
       "R                  0.394023        0.426366              0.463500"
      ]
     },
     "execution_count": 113,
     "metadata": {},
     "output_type": "execute_result"
    }
   ],
   "source": [
    "descr_pred_df[preds+['Party']].groupby('Party').mean()"
   ]
  },
  {
   "cell_type": "code",
   "execution_count": 114,
   "metadata": {},
   "outputs": [
    {
     "data": {
      "text/html": [
       "<div>\n",
       "<style scoped>\n",
       "    .dataframe tbody tr th:only-of-type {\n",
       "        vertical-align: middle;\n",
       "    }\n",
       "\n",
       "    .dataframe tbody tr th {\n",
       "        vertical-align: top;\n",
       "    }\n",
       "\n",
       "    .dataframe thead th {\n",
       "        text-align: right;\n",
       "    }\n",
       "</style>\n",
       "<table border=\"1\" class=\"dataframe\">\n",
       "  <thead>\n",
       "    <tr style=\"text-align: right;\">\n",
       "      <th></th>\n",
       "      <th>pred_probs_mlp_ngram</th>\n",
       "      <th>pred_probs_cnn</th>\n",
       "      <th>pred_probs_cnn_chunk</th>\n",
       "    </tr>\n",
       "    <tr>\n",
       "      <th>Party_dummy</th>\n",
       "      <th></th>\n",
       "      <th></th>\n",
       "      <th></th>\n",
       "    </tr>\n",
       "  </thead>\n",
       "  <tbody>\n",
       "    <tr>\n",
       "      <th>0</th>\n",
       "      <td>0.394038</td>\n",
       "      <td>0.426373</td>\n",
       "      <td>0.463507</td>\n",
       "    </tr>\n",
       "    <tr>\n",
       "      <th>1</th>\n",
       "      <td>0.641810</td>\n",
       "      <td>0.615958</td>\n",
       "      <td>0.560174</td>\n",
       "    </tr>\n",
       "  </tbody>\n",
       "</table>\n",
       "</div>"
      ],
      "text/plain": [
       "             pred_probs_mlp_ngram  pred_probs_cnn  pred_probs_cnn_chunk\n",
       "Party_dummy                                                            \n",
       "0                        0.394038        0.426373              0.463507\n",
       "1                        0.641810        0.615958              0.560174"
      ]
     },
     "execution_count": 114,
     "metadata": {},
     "output_type": "execute_result"
    }
   ],
   "source": [
    "descr_pred_df[preds+['Party_dummy']].groupby('Party_dummy').mean()"
   ]
  },
  {
   "cell_type": "code",
   "execution_count": 115,
   "metadata": {},
   "outputs": [
    {
     "data": {
      "text/plain": [
       "7"
      ]
     },
     "execution_count": 115,
     "metadata": {},
     "output_type": "execute_result"
    }
   ],
   "source": [
    "preds_combo = []\n",
    "for i in range(1, len(preds)+1):\n",
    "    preds_combo.extend(list(itertools.combinations(preds, i)))\n",
    "len(preds_combo)"
   ]
  },
  {
   "cell_type": "code",
   "execution_count": 116,
   "metadata": {},
   "outputs": [],
   "source": [
    "preds_combo_results = []\n",
    "for i in range(len(preds_combo)):\n",
    "    temp = descr_pred_df[list(preds_combo[i])]\n",
    "    avg = temp.mean(axis=1)\n",
    "    avg_pred = avg > 0.5\n",
    "    result = np.mean(avg_pred==descr_pred_df['Party_dummy'])\n",
    "    preds_combo_results.append((preds_combo[i], result))"
   ]
  },
  {
   "cell_type": "code",
   "execution_count": 117,
   "metadata": {},
   "outputs": [
    {
     "data": {
      "text/plain": [
       "[(('pred_probs_mlp_ngram', 'pred_probs_cnn_chunk'), 0.698773145630876),\n",
       " (('pred_probs_mlp_ngram', 'pred_probs_cnn', 'pred_probs_cnn_chunk'),\n",
       "  0.6981305547042599),\n",
       " (('pred_probs_mlp_ngram', 'pred_probs_cnn'), 0.6935335580753907),\n",
       " (('pred_probs_mlp_ngram',), 0.6886004369618302),\n",
       " (('pred_probs_cnn_chunk',), 0.6752740897452374),\n",
       " (('pred_probs_cnn', 'pred_probs_cnn_chunk'), 0.6712109378861725),\n",
       " (('pred_probs_cnn',), 0.6560161339752651)]"
      ]
     },
     "execution_count": 117,
     "metadata": {},
     "output_type": "execute_result"
    }
   ],
   "source": [
    "preds_combo_results = sorted(preds_combo_results, key=lambda x: -x[1])\n",
    "preds_combo_results"
   ]
  },
  {
   "cell_type": "code",
   "execution_count": 119,
   "metadata": {},
   "outputs": [
    {
     "data": {
      "text/plain": [
       "0.6987929176593872"
      ]
     },
     "execution_count": 119,
     "metadata": {},
     "output_type": "execute_result"
    }
   ],
   "source": [
    "descr_pred_df['pred_probs_combo'] = descr_pred_df[list(preds_combo_results[0][0])].mean(axis=1)\n",
    "descr_pred_df['pred_combo'] = descr_pred_df['pred_probs_combo'] > 0.5\n",
    "np.mean(val_target==descr_pred_df['pred_combo'].values.flatten())"
   ]
  },
  {
   "cell_type": "markdown",
   "metadata": {},
   "source": [
    "### Save the main dataframe"
   ]
  },
  {
   "cell_type": "code",
   "execution_count": 136,
   "metadata": {},
   "outputs": [],
   "source": [
    "keep_cols = ['speech_id',\n",
    " 'date',\n",
    " 'char_count',\n",
    " 'word_count',\n",
    " 'speakerid',\n",
    " 'Party',\n",
    " 'Congress',\n",
    " 'Chamber',\n",
    " 'State',\n",
    " 'Ethnicity',\n",
    " 'Age',\n",
    " 'Age_lt_med',\n",
    " 'NonWhite',\n",
    " 'Female',\n",
    " 'speaker',\n",
    " 'Full Name',\n",
    " 'match',\n",
    " 'ids',\n",
    " 'pred_probs_combo',\n",
    " 'pred_combo']"
   ]
  },
  {
   "cell_type": "code",
   "execution_count": 137,
   "metadata": {},
   "outputs": [],
   "source": [
    "descr_pred_df[keep_cols].to_pickle(os.path.join(probs_path, 'party_preds.pkl'))"
   ]
  },
  {
   "cell_type": "markdown",
   "metadata": {},
   "source": [
    "### Evaluating final predictions"
   ]
  },
  {
   "cell_type": "code",
   "execution_count": 120,
   "metadata": {},
   "outputs": [
    {
     "name": "stdout",
     "output_type": "stream",
     "text": [
      "Confusion matrix, without normalization\n",
      "[[31362 15967]\n",
      " [14501 39323]]\n",
      "              precision    recall  f1-score   support\n",
      "\n",
      "  Republican       0.68      0.66      0.67     47329\n",
      "    Democrat       0.71      0.73      0.72     53824\n",
      "\n",
      "   micro avg       0.70      0.70      0.70    101153\n",
      "   macro avg       0.70      0.70      0.70    101153\n",
      "weighted avg       0.70      0.70      0.70    101153\n",
      "\n"
     ]
    },
    {
     "data": {
      "text/plain": [
       "<matplotlib.axes._subplots.AxesSubplot at 0x7f04ac2ddfd0>"
      ]
     },
     "execution_count": 120,
     "metadata": {},
     "output_type": "execute_result"
    },
    {
     "data": {
      "image/png": "[encoded data removed]",
      "text/plain": [
       "<Figure size 432x288 with 2 Axes>"
      ]
     },
     "metadata": {
      "needs_background": "light"
     },
     "output_type": "display_data"
    }
   ],
   "source": [
    "explore_data.plot_confusion_matrix(val_target, descr_pred_df['pred_combo'], classes, normalize=True)"
   ]
  },
  {
   "cell_type": "code",
   "execution_count": 121,
   "metadata": {},
   "outputs": [
    {
     "data": {
      "image/png": "[encoded data removed]",
      "text/plain": [
       "<Figure size 720x720 with 2 Axes>"
      ]
     },
     "metadata": {
      "needs_background": "light"
     },
     "output_type": "display_data"
    }
   ],
   "source": [
    "explore_data.plot_calibration_curve(val_target, descr_pred_df['pred_probs_combo'], 'Party')"
   ]
  },
  {
   "cell_type": "code",
   "execution_count": 122,
   "metadata": {},
   "outputs": [
    {
     "name": "stdout",
     "output_type": "stream",
     "text": [
      "Validation sample means:\n",
      "      Gender_F  Ethinicity_NW     AvgAge   Party_D  Chamber_H  AvgWordCount\n",
      "base  0.091673       0.098836  57.724436  0.529214     0.6059    381.480277\n"
     ]
    },
    {
     "data": {
      "text/html": [
       "<div>\n",
       "<style scoped>\n",
       "    .dataframe tbody tr th:only-of-type {\n",
       "        vertical-align: middle;\n",
       "    }\n",
       "\n",
       "    .dataframe tbody tr th {\n",
       "        vertical-align: top;\n",
       "    }\n",
       "\n",
       "    .dataframe thead th {\n",
       "        text-align: right;\n",
       "    }\n",
       "</style>\n",
       "<table border=\"1\" class=\"dataframe\">\n",
       "  <thead>\n",
       "    <tr style=\"text-align: right;\">\n",
       "      <th></th>\n",
       "      <th>Gender_F</th>\n",
       "      <th>Ethinicity_NW</th>\n",
       "      <th>AvgAge</th>\n",
       "      <th>Party_D</th>\n",
       "      <th>Chamber_H</th>\n",
       "      <th>AvgWordCount</th>\n",
       "    </tr>\n",
       "  </thead>\n",
       "  <tbody>\n",
       "    <tr>\n",
       "      <th>0.4</th>\n",
       "      <td>0.61</td>\n",
       "      <td>0.47</td>\n",
       "      <td>0.99</td>\n",
       "      <td>0.36</td>\n",
       "      <td>0.97</td>\n",
       "      <td>1.11</td>\n",
       "    </tr>\n",
       "    <tr>\n",
       "      <th>0.6</th>\n",
       "      <td>0.77</td>\n",
       "      <td>0.79</td>\n",
       "      <td>1.00</td>\n",
       "      <td>0.96</td>\n",
       "      <td>0.97</td>\n",
       "      <td>0.82</td>\n",
       "    </tr>\n",
       "    <tr>\n",
       "      <th>1.0</th>\n",
       "      <td>1.65</td>\n",
       "      <td>1.73</td>\n",
       "      <td>1.01</td>\n",
       "      <td>1.53</td>\n",
       "      <td>1.08</td>\n",
       "      <td>1.21</td>\n",
       "    </tr>\n",
       "  </tbody>\n",
       "</table>\n",
       "</div>"
      ],
      "text/plain": [
       "     Gender_F  Ethinicity_NW  AvgAge  Party_D  Chamber_H  AvgWordCount\n",
       "0.4      0.61           0.47    0.99     0.36       0.97          1.11\n",
       "0.6      0.77           0.79    1.00     0.96       0.97          0.82\n",
       "1.0      1.65           1.73    1.01     1.53       1.08          1.21"
      ]
     },
     "execution_count": 122,
     "metadata": {},
     "output_type": "execute_result"
    }
   ],
   "source": [
    "reload(explore_data)\n",
    "# checking the ratios of demo variables in low-mid-high probability buckets\n",
    "explore_data.check_bin_probs_distr(descr_pred_df['pred_probs_combo'], \n",
    "                                   val_ids, \n",
    "                                   descr_df.set_index('speech_id'))"
   ]
  },
  {
   "cell_type": "code",
   "execution_count": 138,
   "metadata": {},
   "outputs": [
    {
     "name": "stdout",
     "output_type": "stream",
     "text": [
      "\n",
      "Top 20 ngrams by differentiating score:\n"
     ]
    },
    {
     "data": {
      "text/html": [
       "<div>\n",
       "<style scoped>\n",
       "    .dataframe tbody tr th:only-of-type {\n",
       "        vertical-align: middle;\n",
       "    }\n",
       "\n",
       "    .dataframe tbody tr th {\n",
       "        vertical-align: top;\n",
       "    }\n",
       "\n",
       "    .dataframe thead th {\n",
       "        text-align: right;\n",
       "    }\n",
       "</style>\n",
       "<table border=\"1\" class=\"dataframe\">\n",
       "  <thead>\n",
       "    <tr style=\"text-align: right;\">\n",
       "      <th></th>\n",
       "      <th>ngram</th>\n",
       "      <th>&lt;0.4</th>\n",
       "      <th>&lt;0.6</th>\n",
       "      <th>&lt;1.0</th>\n",
       "      <th>score</th>\n",
       "    </tr>\n",
       "  </thead>\n",
       "  <tbody>\n",
       "    <tr>\n",
       "      <th>0</th>\n",
       "      <td>spending</td>\n",
       "      <td>9397.0</td>\n",
       "      <td>3989.0</td>\n",
       "      <td>4365.0</td>\n",
       "      <td>876.0</td>\n",
       "    </tr>\n",
       "    <tr>\n",
       "      <th>1</th>\n",
       "      <td>republican</td>\n",
       "      <td>2541.0</td>\n",
       "      <td>2471.0</td>\n",
       "      <td>7853.0</td>\n",
       "      <td>753.0</td>\n",
       "    </tr>\n",
       "    <tr>\n",
       "      <th>2</th>\n",
       "      <td>families</td>\n",
       "      <td>3728.0</td>\n",
       "      <td>4381.0</td>\n",
       "      <td>9850.0</td>\n",
       "      <td>736.0</td>\n",
       "    </tr>\n",
       "    <tr>\n",
       "      <th>3</th>\n",
       "      <td>taxes</td>\n",
       "      <td>5508.0</td>\n",
       "      <td>2265.0</td>\n",
       "      <td>2451.0</td>\n",
       "      <td>570.0</td>\n",
       "    </tr>\n",
       "    <tr>\n",
       "      <th>4</th>\n",
       "      <td>spend</td>\n",
       "      <td>3184.0</td>\n",
       "      <td>1878.0</td>\n",
       "      <td>2005.0</td>\n",
       "      <td>505.0</td>\n",
       "    </tr>\n",
       "    <tr>\n",
       "      <th>5</th>\n",
       "      <td>lives</td>\n",
       "      <td>2275.0</td>\n",
       "      <td>3808.0</td>\n",
       "      <td>5542.0</td>\n",
       "      <td>503.0</td>\n",
       "    </tr>\n",
       "    <tr>\n",
       "      <th>6</th>\n",
       "      <td>republicans</td>\n",
       "      <td>2042.0</td>\n",
       "      <td>1319.0</td>\n",
       "      <td>4509.0</td>\n",
       "      <td>492.0</td>\n",
       "    </tr>\n",
       "    <tr>\n",
       "      <th>7</th>\n",
       "      <td>women</td>\n",
       "      <td>2594.0</td>\n",
       "      <td>4854.0</td>\n",
       "      <td>9824.0</td>\n",
       "      <td>484.0</td>\n",
       "    </tr>\n",
       "    <tr>\n",
       "      <th>8</th>\n",
       "      <td>education</td>\n",
       "      <td>4099.0</td>\n",
       "      <td>6195.0</td>\n",
       "      <td>11872.0</td>\n",
       "      <td>484.0</td>\n",
       "    </tr>\n",
       "    <tr>\n",
       "      <th>9</th>\n",
       "      <td>democrat</td>\n",
       "      <td>1310.0</td>\n",
       "      <td>460.0</td>\n",
       "      <td>542.0</td>\n",
       "      <td>422.0</td>\n",
       "    </tr>\n",
       "    <tr>\n",
       "      <th>10</th>\n",
       "      <td>cuts</td>\n",
       "      <td>1840.0</td>\n",
       "      <td>1601.0</td>\n",
       "      <td>5276.0</td>\n",
       "      <td>421.0</td>\n",
       "    </tr>\n",
       "    <tr>\n",
       "      <th>11</th>\n",
       "      <td>communities</td>\n",
       "      <td>1521.0</td>\n",
       "      <td>3087.0</td>\n",
       "      <td>5101.0</td>\n",
       "      <td>409.0</td>\n",
       "    </tr>\n",
       "    <tr>\n",
       "      <th>12</th>\n",
       "      <td>democrats</td>\n",
       "      <td>2942.0</td>\n",
       "      <td>1293.0</td>\n",
       "      <td>2463.0</td>\n",
       "      <td>400.0</td>\n",
       "    </tr>\n",
       "    <tr>\n",
       "      <th>13</th>\n",
       "      <td>across</td>\n",
       "      <td>2830.0</td>\n",
       "      <td>3247.0</td>\n",
       "      <td>4747.0</td>\n",
       "      <td>399.0</td>\n",
       "    </tr>\n",
       "    <tr>\n",
       "      <th>14</th>\n",
       "      <td>actually</td>\n",
       "      <td>3135.0</td>\n",
       "      <td>2454.0</td>\n",
       "      <td>2343.0</td>\n",
       "      <td>396.0</td>\n",
       "    </tr>\n",
       "    <tr>\n",
       "      <th>15</th>\n",
       "      <td>lot</td>\n",
       "      <td>4375.0</td>\n",
       "      <td>3530.0</td>\n",
       "      <td>3650.0</td>\n",
       "      <td>392.0</td>\n",
       "    </tr>\n",
       "    <tr>\n",
       "      <th>16</th>\n",
       "      <td>economy</td>\n",
       "      <td>4708.0</td>\n",
       "      <td>3707.0</td>\n",
       "      <td>6417.0</td>\n",
       "      <td>391.0</td>\n",
       "    </tr>\n",
       "    <tr>\n",
       "      <th>17</th>\n",
       "      <td>her</td>\n",
       "      <td>5358.0</td>\n",
       "      <td>9226.0</td>\n",
       "      <td>15494.0</td>\n",
       "      <td>382.0</td>\n",
       "    </tr>\n",
       "    <tr>\n",
       "      <th>18</th>\n",
       "      <td>workers</td>\n",
       "      <td>1865.0</td>\n",
       "      <td>2853.0</td>\n",
       "      <td>6868.0</td>\n",
       "      <td>377.0</td>\n",
       "    </tr>\n",
       "    <tr>\n",
       "      <th>19</th>\n",
       "      <td>things</td>\n",
       "      <td>5214.0</td>\n",
       "      <td>4720.0</td>\n",
       "      <td>4426.0</td>\n",
       "      <td>376.0</td>\n",
       "    </tr>\n",
       "  </tbody>\n",
       "</table>\n",
       "</div>"
      ],
      "text/plain": [
       "          ngram    <0.4    <0.6     <1.0  score\n",
       "0      spending  9397.0  3989.0   4365.0  876.0\n",
       "1    republican  2541.0  2471.0   7853.0  753.0\n",
       "2      families  3728.0  4381.0   9850.0  736.0\n",
       "3         taxes  5508.0  2265.0   2451.0  570.0\n",
       "4         spend  3184.0  1878.0   2005.0  505.0\n",
       "5         lives  2275.0  3808.0   5542.0  503.0\n",
       "6   republicans  2042.0  1319.0   4509.0  492.0\n",
       "7         women  2594.0  4854.0   9824.0  484.0\n",
       "8     education  4099.0  6195.0  11872.0  484.0\n",
       "9      democrat  1310.0   460.0    542.0  422.0\n",
       "10         cuts  1840.0  1601.0   5276.0  421.0\n",
       "11  communities  1521.0  3087.0   5101.0  409.0\n",
       "12    democrats  2942.0  1293.0   2463.0  400.0\n",
       "13       across  2830.0  3247.0   4747.0  399.0\n",
       "14     actually  3135.0  2454.0   2343.0  396.0\n",
       "15          lot  4375.0  3530.0   3650.0  392.0\n",
       "16      economy  4708.0  3707.0   6417.0  391.0\n",
       "17          her  5358.0  9226.0  15494.0  382.0\n",
       "18      workers  1865.0  2853.0   6868.0  377.0\n",
       "19       things  5214.0  4720.0   4426.0  376.0"
      ]
     },
     "execution_count": 138,
     "metadata": {},
     "output_type": "execute_result"
    }
   ],
   "source": [
    "reload(explore_data)\n",
    "explore_data.compare_ngrams(val_list, descr_pred_df['pred_probs_combo'], \n",
    "                            ngram_range=(1, 1),\n",
    "                            top_k=20)"
   ]
  },
  {
   "cell_type": "markdown",
   "metadata": {},
   "source": [
    "## Congressperson level analysis"
   ]
  },
  {
   "cell_type": "code",
   "execution_count": 124,
   "metadata": {},
   "outputs": [
    {
     "data": {
      "text/plain": [
       "(1778, 9)"
      ]
     },
     "execution_count": 124,
     "metadata": {},
     "output_type": "execute_result"
    }
   ],
   "source": [
    "speaker_df = descr_pred_df[['Full Name', 'Party_dummy', 'State', 'Female', 'NonWhite', 'Age', 'pred_probs_combo']]\\\n",
    "                .groupby(['Full Name', 'Party_dummy', 'State', 'Female', 'NonWhite'])\\\n",
    "                .agg({'pred_probs_combo':['mean', 'count'], 'Age': ['mean']})\\\n",
    "                .reset_index()\n",
    "speaker_df.columns = ['_'.join(col) for col in speaker_df.columns]\n",
    "speaker_df['Party_pred_'] = speaker_df.pred_probs_combo_mean > 0.5\n",
    "speaker_df.shape"
   ]
  },
  {
   "cell_type": "code",
   "execution_count": 125,
   "metadata": {},
   "outputs": [
    {
     "name": "stdout",
     "output_type": "stream",
     "text": [
      "Confusion matrix, without normalization\n",
      "[[738 160]\n",
      " [ 65 815]]\n",
      "              precision    recall  f1-score   support\n",
      "\n",
      "  Republican       0.92      0.82      0.87       898\n",
      "    Democrat       0.84      0.93      0.88       880\n",
      "\n",
      "   micro avg       0.87      0.87      0.87      1778\n",
      "   macro avg       0.88      0.87      0.87      1778\n",
      "weighted avg       0.88      0.87      0.87      1778\n",
      "\n"
     ]
    },
    {
     "data": {
      "text/plain": [
       "<matplotlib.axes._subplots.AxesSubplot at 0x7f04aa8dec88>"
      ]
     },
     "execution_count": 125,
     "metadata": {},
     "output_type": "execute_result"
    },
    {
     "data": {
      "image/png": "[encoded data removed]",
      "text/plain": [
       "<Figure size 432x288 with 2 Axes>"
      ]
     },
     "metadata": {
      "needs_background": "light"
     },
     "output_type": "display_data"
    }
   ],
   "source": [
    "explore_data.plot_confusion_matrix(speaker_df.Party_dummy_, speaker_df.Party_pred_, classes, normalize=True)"
   ]
  },
  {
   "cell_type": "code",
   "execution_count": 126,
   "metadata": {},
   "outputs": [
    {
     "data": {
      "text/plain": [
       "25.0"
      ]
     },
     "execution_count": 126,
     "metadata": {},
     "output_type": "execute_result"
    }
   ],
   "source": [
    "speaker_df.pred_probs_combo_count.median()"
   ]
  },
  {
   "cell_type": "code",
   "execution_count": 127,
   "metadata": {},
   "outputs": [
    {
     "data": {
      "text/plain": [
       "(874, 9)"
      ]
     },
     "execution_count": 127,
     "metadata": {},
     "output_type": "execute_result"
    }
   ],
   "source": [
    "speaker_med_df = speaker_df[speaker_df.pred_probs_combo_count > speaker_df.pred_probs_combo_count.median()]\n",
    "speaker_med_df.shape"
   ]
  },
  {
   "cell_type": "code",
   "execution_count": 128,
   "metadata": {},
   "outputs": [
    {
     "name": "stdout",
     "output_type": "stream",
     "text": [
      "Confusion matrix, without normalization\n",
      "[[364  51]\n",
      " [  8 451]]\n",
      "              precision    recall  f1-score   support\n",
      "\n",
      "  Republican       0.98      0.88      0.93       415\n",
      "    Democrat       0.90      0.98      0.94       459\n",
      "\n",
      "   micro avg       0.93      0.93      0.93       874\n",
      "   macro avg       0.94      0.93      0.93       874\n",
      "weighted avg       0.94      0.93      0.93       874\n",
      "\n"
     ]
    },
    {
     "data": {
      "text/plain": [
       "<matplotlib.axes._subplots.AxesSubplot at 0x7f04ad32e860>"
      ]
     },
     "execution_count": 128,
     "metadata": {},
     "output_type": "execute_result"
    },
    {
     "data": {
      "image/png": "[encoded data removed]",
      "text/plain": [
       "<Figure size 432x288 with 2 Axes>"
      ]
     },
     "metadata": {
      "needs_background": "light"
     },
     "output_type": "display_data"
    }
   ],
   "source": [
    "explore_data.plot_confusion_matrix(speaker_med_df.Party_dummy_, speaker_med_df.Party_pred_, classes, normalize=True)"
   ]
  },
  {
   "cell_type": "code",
   "execution_count": 129,
   "metadata": {},
   "outputs": [
    {
     "data": {
      "text/plain": [
       "Full Name_                PERLMUTTER, ED\n",
       "Party_dummy_                           1\n",
       "State_                                CO\n",
       "Female_                                0\n",
       "NonWhite_                              0\n",
       "Age_mean                         59.4242\n",
       "pred_probs_combo_mean           0.782569\n",
       "pred_probs_combo_count                99\n",
       "Party_pred_                         True\n",
       "Name: 1289, dtype: object"
      ]
     },
     "execution_count": 129,
     "metadata": {},
     "output_type": "execute_result"
    }
   ],
   "source": [
    "tp = np.argmax(speaker_med_df[speaker_med_df.Party_dummy_==1].pred_probs_combo_mean.values)\n",
    "speaker_med_df[speaker_med_df.Party_dummy_==1].iloc[tp]"
   ]
  },
  {
   "cell_type": "code",
   "execution_count": 130,
   "metadata": {},
   "outputs": [
    {
     "data": {
      "text/plain": [
       "Full Name_                GRAVES, SAM\n",
       "Party_dummy_                        0\n",
       "State_                             MO\n",
       "Female_                             0\n",
       "NonWhite_                           0\n",
       "Age_mean                      45.2407\n",
       "pred_probs_combo_mean        0.133414\n",
       "pred_probs_combo_count            108\n",
       "Party_pred_                     False\n",
       "Name: 662, dtype: object"
      ]
     },
     "execution_count": 130,
     "metadata": {},
     "output_type": "execute_result"
    }
   ],
   "source": [
    "tn = np.argmin(speaker_med_df[speaker_med_df.Party_dummy_==0].pred_probs_combo_mean.values)\n",
    "speaker_med_df[speaker_med_df.Party_dummy_==0].iloc[tn]"
   ]
  },
  {
   "cell_type": "code",
   "execution_count": 131,
   "metadata": {},
   "outputs": [
    {
     "data": {
      "text/plain": [
       "Full Name_                MILLER, CLARENCE\n",
       "Party_dummy_                             0\n",
       "State_                                  OH\n",
       "Female_                                  0\n",
       "NonWhite_                                0\n",
       "Age_mean                             70.16\n",
       "pred_probs_combo_mean             0.608429\n",
       "pred_probs_combo_count                  50\n",
       "Party_pred_                           True\n",
       "Name: 1146, dtype: object"
      ]
     },
     "execution_count": 131,
     "metadata": {},
     "output_type": "execute_result"
    }
   ],
   "source": [
    "fp = np.argmax(speaker_med_df[speaker_med_df.Party_dummy_==0].pred_probs_combo_mean.values)\n",
    "speaker_med_df[speaker_med_df.Party_dummy_==0].iloc[fp]"
   ]
  },
  {
   "cell_type": "code",
   "execution_count": 132,
   "metadata": {},
   "outputs": [
    {
     "data": {
      "text/plain": [
       "Full Name_                ZORINSKY, EDWARD\n",
       "Party_dummy_                             1\n",
       "State_                                  NE\n",
       "Female_                                  0\n",
       "NonWhite_                                0\n",
       "Age_mean                           56.5625\n",
       "pred_probs_combo_mean             0.439708\n",
       "pred_probs_combo_count                  32\n",
       "Party_pred_                          False\n",
       "Name: 1776, dtype: object"
      ]
     },
     "execution_count": 132,
     "metadata": {},
     "output_type": "execute_result"
    }
   ],
   "source": [
    "fn = np.argmin(speaker_med_df[speaker_med_df.Party_dummy_==1].pred_probs_combo_mean.values)\n",
    "speaker_med_df[speaker_med_df.Party_dummy_==1].iloc[fn]"
   ]
  },
  {
   "cell_type": "markdown",
   "metadata": {},
   "source": [
    "## Congress level analysis"
   ]
  },
  {
   "cell_type": "code",
   "execution_count": 134,
   "metadata": {},
   "outputs": [
    {
     "data": {
      "text/plain": [
       "(18, 5)"
      ]
     },
     "execution_count": 134,
     "metadata": {},
     "output_type": "execute_result"
    }
   ],
   "source": [
    "congress_df = descr_pred_df[['Congress', 'Party_dummy', 'pred_probs_combo', 'pred_combo']]\\\n",
    "                .groupby('Congress')\\\n",
    "                .agg({'Party_dummy': ['mean', 'sum'], 'pred_combo': ['mean']})\\\n",
    "                .reset_index()\n",
    "congress_df.columns = ['_'.join(col) for col in congress_df.columns]\n",
    "congress_df['Prediction_balance'] = congress_df.pred_combo_mean / congress_df.Party_dummy_mean\n",
    "congress_df.shape"
   ]
  },
  {
   "cell_type": "code",
   "execution_count": 135,
   "metadata": {},
   "outputs": [
    {
     "data": {
      "image/png": "[encoded data removed]",
      "text/plain": [
       "<Figure size 720x360 with 2 Axes>"
      ]
     },
     "metadata": {
      "needs_background": "light"
     },
     "output_type": "display_data"
    }
   ],
   "source": [
    "fig, ax1 = plt.subplots(figsize=(10, 5))\n",
    "\n",
    "color = 'tab:red'\n",
    "ax1.set_xlabel('Congress')\n",
    "ax1.set_ylabel('Democrat speech counts', color=color)\n",
    "ax1.plot(congress_df.Congress_, congress_df.Party_dummy_sum, color=color)\n",
    "ax1.tick_params(axis='y', labelcolor=color)\n",
    "\n",
    "ax2 = ax1.twinx()  # instantiate a second axes that shares the same x-axis\n",
    "\n",
    "color = 'tab:blue'\n",
    "ax2.set_ylabel('Predicted / Actual', color=color)  # we already handled the x-label with ax1\n",
    "ax2.plot(congress_df.Congress_, congress_df.Prediction_balance, color=color)\n",
    "ax2.tick_params(axis='y', labelcolor=color)\n",
    "\n",
    "ax2.hlines(y=1,xmin=97,xmax=114, color=color, linestyles='dashed')\n",
    "\n",
    "fig.tight_layout()  # otherwise the right y-label is slightly clipped\n",
    "plt.xticks(range(97,115))\n",
    "plt.show()"
   ]
  },
  {
   "cell_type": "code",
   "execution_count": null,
   "metadata": {},
   "outputs": [],
   "source": []
  }
 ],
 "metadata": {
  "kernelspec": {
   "display_name": "Python 3",
   "language": "python",
   "name": "python3"
  },
  "language_info": {
   "codemirror_mode": {
    "name": "ipython",
    "version": 3
   },
   "file_extension": ".py",
   "mimetype": "text/x-python",
   "name": "python",
   "nbconvert_exporter": "python",
   "pygments_lexer": "ipython3",
   "version": "3.5.2"
  }
 },
 "nbformat": 4,
 "nbformat_minor": 2
}
