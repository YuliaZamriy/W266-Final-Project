{
 "cells": [
  {
   "cell_type": "code",
   "execution_count": 1,
   "metadata": {},
   "outputs": [
    {
     "data": {
      "text/html": [
       "<style>.container { width:100% !important; }</style>"
      ],
      "text/plain": [
       "<IPython.core.display.HTML object>"
      ]
     },
     "metadata": {},
     "output_type": "display_data"
    }
   ],
   "source": [
    "# increase cell width\n",
    "from IPython.core.display import display, HTML\n",
    "display(HTML(\"<style>.container { width:100% !important; }</style>\"))"
   ]
  },
  {
   "cell_type": "markdown",
   "metadata": {},
   "source": [
    "Inspiration for code:\n",
    "\n",
    "- https://developers.google.com/machine-learning/guides/text-classification/\n",
    "- https://github.com/google/eng-edu/blob/master/ml/guides/text_classification/load_data.py"
   ]
  },
  {
   "cell_type": "code",
   "execution_count": 2,
   "metadata": {},
   "outputs": [],
   "source": [
    "from __future__ import absolute_import\n",
    "from __future__ import division\n",
    "from __future__ import print_function\n",
    "\n",
    "import os\n",
    "import random\n",
    "import time\n",
    "import pickle\n",
    "import gc\n",
    "import re\n",
    "\n",
    "import numpy as np\n",
    "import pandas as pd\n",
    "\n",
    "from importlib import reload"
   ]
  },
  {
   "cell_type": "code",
   "execution_count": 3,
   "metadata": {},
   "outputs": [
    {
     "name": "stderr",
     "output_type": "stream",
     "text": [
      "/home/yulia/anaconda3/lib/python3.6/site-packages/h5py/__init__.py:36: FutureWarning: Conversion of the second argument of issubdtype from `float` to `np.floating` is deprecated. In future, it will be treated as `np.float64 == np.dtype(float).type`.\n",
      "  from ._conv import register_converters as _register_converters\n"
     ]
    }
   ],
   "source": [
    "from helpers import load_data\n",
    "from helpers import explore_data\n",
    "from helpers import preprocess_data\n",
    "from helpers import train_model"
   ]
  },
  {
   "cell_type": "code",
   "execution_count": 4,
   "metadata": {},
   "outputs": [
    {
     "data": {
      "text/plain": [
       "'1.13.0-rc2'"
      ]
     },
     "execution_count": 4,
     "metadata": {},
     "output_type": "execute_result"
    }
   ],
   "source": [
    "import tensorflow as tf\n",
    "tf.__version__"
   ]
  },
  {
   "cell_type": "markdown",
   "metadata": {},
   "source": [
    "## Load the data"
   ]
  },
  {
   "cell_type": "code",
   "execution_count": 5,
   "metadata": {},
   "outputs": [],
   "source": [
    "main_dir = '/home/yulia/W266-Final-Project/'"
   ]
  },
  {
   "cell_type": "code",
   "execution_count": 6,
   "metadata": {},
   "outputs": [],
   "source": [
    "data_path = main_dir+'data/raw/hein-daily'"
   ]
  },
  {
   "cell_type": "code",
   "execution_count": 7,
   "metadata": {},
   "outputs": [
    {
     "name": "stdout",
     "output_type": "stream",
     "text": [
      "\n",
      "File speeches_097.txt has 249718612 characters\n",
      "and 283399 speeches\n",
      "\n",
      "Speeches list has 283399 speeches\n",
      "\n",
      "File speeches_098.txt has 252071246 characters\n",
      "and 280289 speeches\n",
      "\n",
      "Speeches list has 563688 speeches\n",
      "\n",
      "File speeches_099.txt has 265326480 characters\n",
      "and 281528 speeches\n",
      "\n",
      "Speeches list has 845216 speeches\n",
      "\n",
      "File speeches_100.txt has 270610780 characters\n",
      "and 276162 speeches\n",
      "\n",
      "Speeches list has 1121378 speeches\n",
      "\n",
      "File speeches_101.txt has 261004871 characters\n",
      "and 251217 speeches\n",
      "\n",
      "Speeches list has 1372595 speeches\n",
      "\n",
      "File speeches_102.txt has 271650630 characters\n",
      "and 243092 speeches\n",
      "\n",
      "Speeches list has 1615687 speeches\n",
      "\n",
      "File speeches_103.txt has 249908822 characters\n",
      "and 235974 speeches\n",
      "\n",
      "Speeches list has 1851661 speeches\n",
      "\n",
      "File speeches_104.txt has 280355367 characters\n",
      "and 274985 speeches\n",
      "\n",
      "Speeches list has 2126646 speeches\n",
      "\n",
      "File speeches_105.txt has 235226903 characters\n",
      "and 209267 speeches\n",
      "\n",
      "Speeches list has 2335913 speeches\n",
      "\n",
      "File speeches_106.txt has 243801385 characters\n",
      "and 209648 speeches\n",
      "\n",
      "Speeches list has 2545561 speeches\n",
      "\n",
      "File speeches_107.txt has 214724318 characters\n",
      "and 180726 speeches\n",
      "\n",
      "Speeches list has 2726287 speeches\n",
      "\n",
      "File speeches_108.txt has 237009565 characters\n",
      "and 200159 speeches\n",
      "\n",
      "Speeches list has 2926446 speeches\n",
      "\n",
      "File speeches_109.txt has 226698889 characters\n",
      "and 187647 speeches\n",
      "\n",
      "Speeches list has 3114093 speeches\n",
      "\n",
      "File speeches_110.txt has 242773059 characters\n",
      "and 211367 speeches\n",
      "\n",
      "Speeches list has 3325460 speeches\n",
      "\n",
      "File speeches_111.txt has 183499959 characters\n",
      "and 154400 speeches\n",
      "\n",
      "Speeches list has 3479860 speeches\n",
      "\n",
      "File speeches_112.txt has 174117603 characters\n",
      "and 145901 speeches\n",
      "\n",
      "Speeches list has 3625761 speeches\n",
      "\n",
      "File speeches_113.txt has 153424011 characters\n",
      "and 128149 speeches\n",
      "\n",
      "Speeches list has 3753910 speeches\n",
      "\n",
      "File speeches_114.txt has 130969173 characters\n",
      "and 112291 speeches\n",
      "\n",
      "Speeches list has 3866201 speeches\n"
     ]
    }
   ],
   "source": [
    "reload(load_data)\n",
    "all_speech_ids, all_speeches = load_data.load_speech_data(data_path)"
   ]
  },
  {
   "cell_type": "code",
   "execution_count": 8,
   "metadata": {},
   "outputs": [
    {
     "data": {
      "text/plain": [
       "(3866201, 3866201)"
      ]
     },
     "execution_count": 8,
     "metadata": {},
     "output_type": "execute_result"
    }
   ],
   "source": [
    "len(all_speech_ids), len(all_speeches)"
   ]
  },
  {
   "cell_type": "markdown",
   "metadata": {},
   "source": [
    "## Create target labels"
   ]
  },
  {
   "cell_type": "code",
   "execution_count": 9,
   "metadata": {},
   "outputs": [
    {
     "name": "stdout",
     "output_type": "stream",
     "text": [
      "2914465 lines have been read\n",
      "7227 keys had duplicates and deleted\n",
      "The dictionary has 858639 keys\n",
      "\n",
      "Random congressperson: 970167231\n",
      "date 19820513\n",
      "char_count 164\n",
      "word_count 33\n",
      "speakerid 97104811.0\n",
      "Party R\n",
      "Congress 97\n",
      "Chamber S\n",
      "State TN\n",
      "Ethnicity W\n",
      "Age 57.0\n",
      "Age_lt_med 0.0\n",
      "NonWhite 0.0\n",
      "Female 0.0\n",
      "speaker Mr. BAKER\n",
      "Full Name BAKER, HOWARD\n",
      "match exact\n",
      "check 1\n",
      "\n",
      "It took 8.3 seconds to create the dictionary\n"
     ]
    }
   ],
   "source": [
    "reload(load_data)\n",
    "start_time = time.time()\n",
    "descr = load_data.load_descr_data(main_dir+'data/QA/full_descr.txt',p=0.3)\n",
    "print(\"\\nIt took {:.1f} seconds to create the dictionary\".format(time.time()-start_time))"
   ]
  },
  {
   "cell_type": "code",
   "execution_count": 10,
   "metadata": {},
   "outputs": [
    {
     "data": {
      "text/plain": [
       "0.29461300602786655"
      ]
     },
     "execution_count": 10,
     "metadata": {},
     "output_type": "execute_result"
    }
   ],
   "source": [
    "len(list(descr.keys()))/2914464"
   ]
  },
  {
   "cell_type": "code",
   "execution_count": 11,
   "metadata": {},
   "outputs": [
    {
     "data": {
      "text/plain": [
       "(3866201, 3866201, 3866201, 3866201, 3866201, 3866201)"
      ]
     },
     "execution_count": 11,
     "metadata": {},
     "output_type": "execute_result"
    }
   ],
   "source": [
    "gender, ethnicity, age, party, chamber, congress = load_data.create_target_labels(all_speech_ids, descr)\n",
    "len(gender), len(ethnicity), len(age), len(party), len(chamber), len(congress)"
   ]
  },
  {
   "cell_type": "code",
   "execution_count": 12,
   "metadata": {},
   "outputs": [
    {
     "data": {
      "text/plain": [
       "(array(['A', 'D', 'I', 'N', 'NA', 'P', 'R'], dtype='<U2'),\n",
       " array([      4,  448302,    2265,      89, 3007562,      20,  407959]))"
      ]
     },
     "execution_count": 12,
     "metadata": {},
     "output_type": "execute_result"
    }
   ],
   "source": [
    "np.unique(np.array(party), return_counts=True)"
   ]
  },
  {
   "cell_type": "code",
   "execution_count": 13,
   "metadata": {},
   "outputs": [
    {
     "data": {
      "text/plain": [
       "3866201"
      ]
     },
     "execution_count": 13,
     "metadata": {},
     "output_type": "execute_result"
    }
   ],
   "source": [
    "party_dummy = []\n",
    "for p in range(len(party)):\n",
    "    if party[p] == 'D':\n",
    "        party_dummy.append(1)\n",
    "    elif party[p] == 'R':\n",
    "        party_dummy.append(0)\n",
    "    else:\n",
    "        party_dummy.append(-1)\n",
    "len(party_dummy)"
   ]
  },
  {
   "cell_type": "markdown",
   "metadata": {},
   "source": [
    "## Data QA"
   ]
  },
  {
   "cell_type": "code",
   "execution_count": 14,
   "metadata": {},
   "outputs": [
    {
     "data": {
      "text/html": [
       "<div>\n",
       "<style scoped>\n",
       "    .dataframe tbody tr th:only-of-type {\n",
       "        vertical-align: middle;\n",
       "    }\n",
       "\n",
       "    .dataframe tbody tr th {\n",
       "        vertical-align: top;\n",
       "    }\n",
       "\n",
       "    .dataframe thead th {\n",
       "        text-align: right;\n",
       "    }\n",
       "</style>\n",
       "<table border=\"1\" class=\"dataframe\">\n",
       "  <thead>\n",
       "    <tr style=\"text-align: right;\">\n",
       "      <th></th>\n",
       "      <th>Category</th>\n",
       "      <th>Count</th>\n",
       "    </tr>\n",
       "  </thead>\n",
       "  <tbody>\n",
       "    <tr>\n",
       "      <th>0</th>\n",
       "      <td>-1</td>\n",
       "      <td>3009940</td>\n",
       "    </tr>\n",
       "    <tr>\n",
       "      <th>1</th>\n",
       "      <td>0</td>\n",
       "      <td>407959</td>\n",
       "    </tr>\n",
       "    <tr>\n",
       "      <th>2</th>\n",
       "      <td>1</td>\n",
       "      <td>448302</td>\n",
       "    </tr>\n",
       "  </tbody>\n",
       "</table>\n",
       "</div>"
      ],
      "text/plain": [
       "<IPython.core.display.HTML object>"
      ]
     },
     "metadata": {},
     "output_type": "display_data"
    }
   ],
   "source": [
    "explore_data.get_counts(party_dummy)"
   ]
  },
  {
   "cell_type": "code",
   "execution_count": 15,
   "metadata": {},
   "outputs": [
    {
     "name": "stdout",
     "output_type": "stream",
     "text": [
      "Speaker information\n",
      "date 19920810\n",
      "char_count 2277\n",
      "word_count 366\n",
      "speakerid 102115370.0\n",
      "Party D\n",
      "Congress 102\n",
      "Chamber H\n",
      "State VA\n",
      "Ethnicity W\n",
      "Age 46.0\n",
      "Age_lt_med 1.0\n",
      "NonWhite 0.0\n",
      "Female 0.0\n",
      "speaker Mr. BOUCHER\n",
      "Full Name BOUCHER, FREDERICK\n",
      "match exact\n",
      "check 1\n",
      "\n",
      "Mr. Speaker. H.R. days after enactment. 3360 Is designed to protect the Amer- The amendment in the nature of a ican public. Despite the availability substitute under consideration repand affordability of automatic sprin- resents an agreement between the kler systems and smoke detectors. the Science Committee and the CommitUnited States continues to have an un- tees on Public Works and Transporacceptably high fire death rate. Fire Is tation and Banking. Finance. and the third leading cause of accidental Urban Affairs. to which the bill was death. accounting for more than 5.500 jointly referred. deaths each year. This Is a rate that is I would like to thank Mr. ROE. chair50 percent higher than most of the in- man of the Committee on Public Works dustrialized nations of the world. And and Transportation. and Mr. SAVAGE. the great majority of fire deaths in the chairman of the Subcommittee on PubUnited States occur among the elderly lic Buildings and Grounds. for their and children age 14 and younger. prompt consideration of this legislaThe bill will enable the Federal Gov- tion and also for their two very conernment to set an example in the area structive amendments regarding the isof fire safety and. by its own actions. suance of regulations by the General encourage the private sector to make Services Administration and agency regreater use of the technology that has porting requirements. I would also like been proven to save lives. H.R. 3360 to express my gratitude to the ranking will. for the first time. establish mini- Republican member of the Committee mum standards of fire safety for Fed- on Public Works and Transportation. eral office space In both Government- Mr. HAMMERScHMIDT. and also to the owned and leased buildings. and in ranking Republican member of the many categories of federally assisted Subcommittee on Public Buildings and housing. Grounds. Mr. INHOFE. According to the National Fire Pro- The Committee on Banking. Finance. tection Association. there has never and Urban Affairs has also made imporbeen a multiple loss of life--involving tant contributions to the bill.-I would three or more fatalities--in a building like to thank Mr. GONZALEZ. the chairwith an operational sprinkler system. man of the Committee. Mr. WYLIE. the\n"
     ]
    }
   ],
   "source": [
    "explore_data.random_speech(all_speeches, all_speech_ids, party_dummy, descr)"
   ]
  },
  {
   "cell_type": "markdown",
   "metadata": {},
   "source": [
    "# Party Model"
   ]
  },
  {
   "cell_type": "markdown",
   "metadata": {},
   "source": [
    "## Split into train, validate, test"
   ]
  },
  {
   "cell_type": "code",
   "execution_count": 16,
   "metadata": {},
   "outputs": [
    {
     "name": "stdout",
     "output_type": "stream",
     "text": [
      "Training split: 161472 ones and 141987 zeroes\n",
      "Training speech list size: 303459\n",
      "Training target list size: 303459\n",
      "Validation split: 53824 ones and 47329 zeroes\n",
      "Validation speech list size: 101153\n",
      "Validation target list size: 101153\n",
      "Test split: 53825 ones and 47329 zeroes\n",
      "Test speech list size: 101154\n",
      "Test target list size: 101154\n"
     ]
    }
   ],
   "source": [
    "reload(preprocess_data)\n",
    "train, train_ids, train_target, val, val_ids, val_target, test, test_ids, test_target = preprocess_data.split_train_val_test(all_speeches, all_speech_ids, party_dummy, descr)"
   ]
  },
  {
   "cell_type": "code",
   "execution_count": 17,
   "metadata": {},
   "outputs": [
    {
     "data": {
      "text/plain": [
       "(161472, 53824, 53825)"
      ]
     },
     "execution_count": 17,
     "metadata": {},
     "output_type": "execute_result"
    }
   ],
   "source": [
    "sum(train_target), sum(val_target), sum(test_target)"
   ]
  },
  {
   "cell_type": "code",
   "execution_count": 18,
   "metadata": {},
   "outputs": [
    {
     "data": {
      "text/plain": [
       "179181"
      ]
     },
     "execution_count": 18,
     "metadata": {},
     "output_type": "execute_result"
    }
   ],
   "source": [
    "# number of speeches under 30 words\n",
    "sum(np.array(party_dummy)==1) - (sum(train_target) + sum(val_target) + sum(test_target))"
   ]
  },
  {
   "cell_type": "code",
   "execution_count": 19,
   "metadata": {},
   "outputs": [
    {
     "name": "stdout",
     "output_type": "stream",
     "text": [
      "Speaker information\n",
      "date 19960522\n",
      "char_count 196\n",
      "word_count 40\n",
      "speakerid 104109021.0\n",
      "Party D\n",
      "Congress 104\n",
      "Chamber S\n",
      "State NE\n",
      "Ethnicity W\n",
      "Age 75.0\n",
      "Age_lt_med 0.0\n",
      "NonWhite 0.0\n",
      "Female 0.0\n",
      "speaker Mr. EXON\n",
      "Full Name EXON, J.\n",
      "match exact\n",
      "check 1\n",
      "\n",
      "I am not sure the Senator from Iowa heard. I think the Chair was asking him to proceed. The next amendment up is No. 23 on my list. which is No. 4011 by Senator HARKIN. The Senator has 30 seconds.\n"
     ]
    }
   ],
   "source": [
    "explore_data.random_speech(train, train_ids, train_target, descr)"
   ]
  },
  {
   "cell_type": "code",
   "execution_count": 20,
   "metadata": {},
   "outputs": [],
   "source": [
    "del all_speeches, all_speech_ids, descr"
   ]
  },
  {
   "cell_type": "markdown",
   "metadata": {},
   "source": [
    "## EDA on train data"
   ]
  },
  {
   "cell_type": "code",
   "execution_count": 21,
   "metadata": {},
   "outputs": [
    {
     "data": {
      "text/plain": [
       "227.0"
      ]
     },
     "execution_count": 21,
     "metadata": {},
     "output_type": "execute_result"
    }
   ],
   "source": [
    "explore_data.get_num_words_per_sample(train)"
   ]
  },
  {
   "cell_type": "code",
   "execution_count": 22,
   "metadata": {},
   "outputs": [
    {
     "data": {
      "text/plain": [
       "227.0"
      ]
     },
     "execution_count": 22,
     "metadata": {},
     "output_type": "execute_result"
    }
   ],
   "source": [
    "explore_data.get_num_words_per_sample(val)"
   ]
  },
  {
   "cell_type": "code",
   "execution_count": 23,
   "metadata": {},
   "outputs": [
    {
     "data": {
      "text/plain": [
       "228.0"
      ]
     },
     "execution_count": 23,
     "metadata": {},
     "output_type": "execute_result"
    }
   ],
   "source": [
    "explore_data.get_num_words_per_sample(test)"
   ]
  },
  {
   "cell_type": "code",
   "execution_count": 24,
   "metadata": {},
   "outputs": [
    {
     "name": "stdout",
     "output_type": "stream",
     "text": [
      "Speech length percentiles\n",
      "    0     10    20     30     40     50     60     70     80     90       100\n",
      "0  31.0  44.0  70.0  116.0  170.0  227.0  302.0  397.0  545.0  841.0  17835.0\n"
     ]
    },
    {
     "data": {
      "image/png": "[encoded data removed]",
      "text/plain": [
       "<Figure size 1440x720 with 1 Axes>"
      ]
     },
     "metadata": {},
     "output_type": "display_data"
    }
   ],
   "source": [
    "explore_data.plot_sample_length_distribution(train)"
   ]
  },
  {
   "cell_type": "markdown",
   "metadata": {},
   "source": [
    "## CNN Models"
   ]
  },
  {
   "cell_type": "markdown",
   "metadata": {},
   "source": [
    "### Pre-processing"
   ]
  },
  {
   "cell_type": "code",
   "execution_count": 25,
   "metadata": {},
   "outputs": [],
   "source": [
    "# Limit on the number of features. \n",
    "TOP_K = 20000\n",
    "\n",
    "# Limit on the length of text sequences. Sequences longer than this\n",
    "# will be truncated.\n",
    "# MAX_SEQUENCE_LENGTH = 100\n",
    "MAX_SEQUENCE_LENGTH = 750\n",
    "\n",
    "vec_params = {\n",
    "    'num_words': TOP_K,\n",
    "    'max_seq_length': MAX_SEQUENCE_LENGTH\n",
    "}"
   ]
  },
  {
   "cell_type": "code",
   "execution_count": 26,
   "metadata": {},
   "outputs": [
    {
     "name": "stdout",
     "output_type": "stream",
     "text": [
      "\n",
      "It took 266.0 seconds to tokenize the data\n"
     ]
    }
   ],
   "source": [
    "start_time = time.time()\n",
    "train_vec, val_vec, test_vec, word_index = preprocess_data.sequence_vectorize(train, val, test, **vec_params)\n",
    "print(\"\\nIt took {:.1f} seconds to tokenize the data\".format(time.time()-start_time))"
   ]
  },
  {
   "cell_type": "code",
   "execution_count": 27,
   "metadata": {},
   "outputs": [
    {
     "data": {
      "text/plain": [
       "(303459, 101153, 101154)"
      ]
     },
     "execution_count": 27,
     "metadata": {},
     "output_type": "execute_result"
    }
   ],
   "source": [
    "len(train), len(val), len(test)"
   ]
  },
  {
   "cell_type": "code",
   "execution_count": 28,
   "metadata": {},
   "outputs": [
    {
     "data": {
      "text/plain": [
       "(303459, 101153, 101154)"
      ]
     },
     "execution_count": 28,
     "metadata": {},
     "output_type": "execute_result"
    }
   ],
   "source": [
    "len(train_vec), len(val_vec), len(test_vec)"
   ]
  },
  {
   "cell_type": "code",
   "execution_count": 29,
   "metadata": {},
   "outputs": [
    {
     "data": {
      "text/plain": [
       "(19999, 19999, 19999)"
      ]
     },
     "execution_count": 29,
     "metadata": {},
     "output_type": "execute_result"
    }
   ],
   "source": [
    "max(map(max, train_vec)), max(map(max, val_vec)), max(map(max, test_vec))"
   ]
  },
  {
   "cell_type": "code",
   "execution_count": 30,
   "metadata": {},
   "outputs": [
    {
     "data": {
      "text/plain": [
       "689308"
      ]
     },
     "execution_count": 30,
     "metadata": {},
     "output_type": "execute_result"
    }
   ],
   "source": [
    "len(word_index)"
   ]
  },
  {
   "cell_type": "code",
   "execution_count": 31,
   "metadata": {},
   "outputs": [
    {
     "data": {
      "text/plain": [
       "(750,)"
      ]
     },
     "execution_count": 31,
     "metadata": {},
     "output_type": "execute_result"
    }
   ],
   "source": [
    "train_vec[0].shape"
   ]
  },
  {
   "cell_type": "code",
   "execution_count": 35,
   "metadata": {},
   "outputs": [
    {
     "data": {
      "text/plain": [
       "'Mr. President. for more than twocenturies. the U.S. Marine Corps has exemplified the highest virtues of loyalty. service. and sacrifice. From the walls of Tunn Tavern during the Revolution to the far reaches of the Pacific. from the jungles of Vietnam to the vast expanse of the Arabian desert. and from the walls of Camp Rhino and the sand of the Kandahar Airport to Guantanamo Bay. Americas Marines have shown the world the meaning of \"Semper Fi.\" Through the long march of our history. few military organizations have been held in such high esteem as the U.S. Marine Corps. Our Marine Corps is composed of men and women of great character. They are smart. tough. dedicated. and faithful. truly the best America has to offer. For 226 years. they have stood for all that is great about this Nation: honor. courage. and commitment. Their values. sense of courage. and quiet. steadfast character remain timeless and valuable commodities for a time in which our Nation faces the greatest challenge of a generation. I have seen our Marines in action. and I am confident that no obstacle can block their determined path to victory. Through their great history. Marines have protected Americas interests. struggled against our countrys foes. and remained at the forefront of our nations efforts to maintain global peace and stability. In hundreds of distant lands. from Nicaragua to Lebanon. from Saudi Arabia to Somalia. and from Afghanistan to Cuba. Marines restored and maintained order. aided people in distress. provided protection for the weak. and upheld the values that have come to define our country on the world stage. Many made the ultimate sacrifice in the service of their country. and we honor their memory. I am proud to represent the State of Louisiana. a land which is steeped in Corps history. When the British attacked American forces on the fields of Chalmette outside of New Orleans. a contingent of Marines contributed to an ultimate American victory. This engagement came to be known as the Battle of New Orleans. and served as a powerful statement of American boldness on the battlefield. It gives me great pride to have the city of New Orleans host the headquarters of the Fourth Marine Division which commands more than 104.000 Reserve Marines nationwide. I am truly grateful for the services that our reserves perform every month. A Marine Corps reservist serves his country an average of 36 days a year. These men and women are of a truly superior caliber. as they dedicate over a month of the year to national service while working hard in the private sector. getting an education. and raising their families. .I would like to extend my personal commendation to the Marines of Bravo Company. First Battalion. Twentythird Marines as they conclude their deployment to Guantanamo Bay. I want to assure you that the members of the U.S. Senate and the Senate Committee on Armed Services are personally grateful for your service. Our Nations freedom was won through the toil and sweat of -thousands of volunteers who dropped their plows and left their families during the revolution. After they had proved themselves in the realm of battle. they went back to their fields and their families and created our civic institutions. You Marines are the rightful heirs to their tradition. and I trust that our Nation can rely on you to defend our freedom. As we set out in this new century. the importance of our Marine Corps has never been more clear. Tomorrow. as today and for generations past. the razor sharp readiness of the United States Marine Corps serves as a beacon to Americas friends and a warning to our enemies. promising swift action. great victories and richer traditions yet to come. On this day. I offer my warmest gratitude to Bravo Company. First Battalion. Twentythird Marines and all who wear the eagle. globe and anchor. and to the families who also serve by supporting them.'"
      ]
     },
     "execution_count": 35,
     "metadata": {},
     "output_type": "execute_result"
    }
   ],
   "source": [
    "train[1]"
   ]
  },
  {
   "cell_type": "code",
   "execution_count": 36,
   "metadata": {},
   "outputs": [
    {
     "data": {
      "text/plain": [
       "array([   5,    3,    2,  248,   38,   84,  508,   25, 1086,   91],\n",
       "      dtype=int32)"
      ]
     },
     "execution_count": 36,
     "metadata": {},
     "output_type": "execute_result"
    }
   ],
   "source": [
    "train_vec[1][-10:]"
   ]
  },
  {
   "cell_type": "code",
   "execution_count": 37,
   "metadata": {},
   "outputs": [
    {
     "name": "stdout",
     "output_type": "stream",
     "text": [
      "and 5\n",
      "to 3\n",
      "the 2\n",
      "families 248\n",
      "who 38\n",
      "also 84\n",
      "serve 508\n",
      "by 25\n",
      "supporting 1086\n",
      "them 91\n"
     ]
    }
   ],
   "source": [
    "for word in train[1].split()[-10:]:\n",
    "    word = re.sub(r'[^\\w\\s]','',word)\n",
    "    print(word, word_index[word])"
   ]
  },
  {
   "cell_type": "markdown",
   "metadata": {},
   "source": [
    "### Saving processed files"
   ]
  },
  {
   "cell_type": "code",
   "execution_count": 38,
   "metadata": {},
   "outputs": [],
   "source": [
    "token_path = main_dir+'Classification/data/tokenized/party'"
   ]
  },
  {
   "cell_type": "code",
   "execution_count": 39,
   "metadata": {},
   "outputs": [],
   "source": [
    "np.save(os.path.join(token_path, 'train_vec'), train_vec)\n",
    "np.save(os.path.join(token_path, 'val_vec'), val_vec)\n",
    "np.save(os.path.join(token_path, 'test_vec'), test_vec)"
   ]
  },
  {
   "cell_type": "code",
   "execution_count": 40,
   "metadata": {},
   "outputs": [],
   "source": [
    "pickle.dump(word_index, open(os.path.join(token_path, 'word_index.p'), 'wb'))"
   ]
  },
  {
   "cell_type": "code",
   "execution_count": null,
   "metadata": {},
   "outputs": [],
   "source": [
    "train_vec = np.load(os.path.join(token_path, 'train_vec.npy'))\n",
    "val_vec = np.load(os.path.join(token_path, 'val_vec.npy'))\n",
    "test_vec = np.load(os.path.join(token_path, 'test_vec.npy'))"
   ]
  },
  {
   "cell_type": "code",
   "execution_count": null,
   "metadata": {},
   "outputs": [],
   "source": [
    "word_index = pickle.load(open(os.path.join(token_path, 'word_index.p'), 'rb'))"
   ]
  },
  {
   "cell_type": "code",
   "execution_count": 41,
   "metadata": {},
   "outputs": [
    {
     "data": {
      "text/plain": [
       "(303459, 101153, 101154)"
      ]
     },
     "execution_count": 41,
     "metadata": {},
     "output_type": "execute_result"
    }
   ],
   "source": [
    "len(train_vec), len(val_vec), len(test_vec)"
   ]
  },
  {
   "cell_type": "markdown",
   "metadata": {},
   "source": [
    "## CNN model - Full Speech + Glove Embeddings"
   ]
  },
  {
   "cell_type": "code",
   "execution_count": 42,
   "metadata": {},
   "outputs": [],
   "source": [
    "logs_base_dir = main_dir + 'Classification/logs/Party'"
   ]
  },
  {
   "cell_type": "code",
   "execution_count": 43,
   "metadata": {},
   "outputs": [],
   "source": [
    "cnn_model_params = {\n",
    "    'model': 'cnn',\n",
    "    'word_index': word_index,\n",
    "    'learning_rate': 0.001,\n",
    "    'layers': 2,\n",
    "    'epochs': 1000,\n",
    "    'batch_size': 128,\n",
    "    'filters': 64,\n",
    "    'dropout_rate': 0.2,\n",
    "    'embedding_dim': 200,\n",
    "    'kernel_size': 5,\n",
    "    'pool_size': 1,\n",
    "    'max_num_words': 20000,\n",
    "    'use_pretrained_embedding': True,\n",
    "    'is_embedding_trainable': True,\n",
    "    'glove_dir': main_dir + 'data'\n",
    "}"
   ]
  },
  {
   "cell_type": "code",
   "execution_count": 44,
   "metadata": {},
   "outputs": [
    {
     "name": "stdout",
     "output_type": "stream",
     "text": [
      "Found 400000 word vectors.\n",
      "It took 23.1 seconds\n",
      "Preparing embedding matrix.\n",
      "Embedding matrix has been built.\n",
      "Its shape is (20000, 200).\n",
      "It took 0.1 seconds\n",
      "WARNING:tensorflow:From /home/yulia/anaconda3/lib/python3.6/site-packages/tensorflow/python/ops/resource_variable_ops.py:435: colocate_with (from tensorflow.python.framework.ops) is deprecated and will be removed in a future version.\n",
      "Instructions for updating:\n",
      "Colocations handled automatically by placer.\n",
      "WARNING:tensorflow:From /home/yulia/anaconda3/lib/python3.6/site-packages/tensorflow/python/keras/layers/core.py:143: calling dropout (from tensorflow.python.ops.nn_ops) with keep_prob is deprecated and will be removed in a future version.\n",
      "Instructions for updating:\n",
      "Please use `rate` instead of `keep_prob`. Rate should be set to `rate = 1 - keep_prob`.\n",
      "Train on 303459 samples, validate on 101153 samples\n",
      "WARNING:tensorflow:From /home/yulia/anaconda3/lib/python3.6/site-packages/tensorflow/python/ops/math_ops.py:3066: to_int32 (from tensorflow.python.ops.math_ops) is deprecated and will be removed in a future version.\n",
      "Instructions for updating:\n",
      "Use tf.cast instead.\n",
      "WARNING:tensorflow:From /home/yulia/anaconda3/lib/python3.6/site-packages/tensorflow/python/ops/math_grad.py:102: div (from tensorflow.python.ops.math_ops) is deprecated and will be removed in a future version.\n",
      "Instructions for updating:\n",
      "Deprecated in favor of operator or tf.math.divide.\n",
      "Epoch 1/1000\n",
      " - 3480s - loss: 0.6694 - acc: 0.5711 - val_loss: 0.6361 - val_acc: 0.6241\n",
      "Epoch 2/1000\n",
      " - 3559s - loss: 0.6193 - acc: 0.6381 - val_loss: 0.6114 - val_acc: 0.6478\n",
      "Epoch 3/1000\n",
      " - 3607s - loss: 0.5913 - acc: 0.6674 - val_loss: 0.6022 - val_acc: 0.6543\n",
      "Epoch 4/1000\n",
      " - 3569s - loss: 0.5705 - acc: 0.6873 - val_loss: 0.5985 - val_acc: 0.6559\n",
      "Epoch 5/1000\n",
      " - 3610s - loss: 0.5508 - acc: 0.7041 - val_loss: 0.5974 - val_acc: 0.6580\n",
      "Epoch 6/1000\n",
      " - 3565s - loss: 0.5293 - acc: 0.7215 - val_loss: 0.5999 - val_acc: 0.6565\n",
      "Epoch 7/1000\n",
      " - 3570s - loss: 0.5087 - acc: 0.7367 - val_loss: 0.6037 - val_acc: 0.6559\n",
      "Validation accuracy: 0.6558974981307983, loss: 0.6037465290563732\n"
     ]
    }
   ],
   "source": [
    "reload(train_model)\n",
    "history, train_pred_probs, val_pred_probs = train_model.train_model(((train_vec, train_target), (val_vec, val_target)), logs_base_dir, **cnn_model_params)"
   ]
  },
  {
   "cell_type": "markdown",
   "metadata": {},
   "source": [
    "### Clean up space/save outputs"
   ]
  },
  {
   "cell_type": "code",
   "execution_count": 45,
   "metadata": {},
   "outputs": [],
   "source": [
    "probs_path = main_dir+'Classification/data/probs/party/'"
   ]
  },
  {
   "cell_type": "code",
   "execution_count": 46,
   "metadata": {},
   "outputs": [],
   "source": [
    "np.save(probs_path+'val_pred_probs_cnn', val_pred_probs, allow_pickle=True, fix_imports=True)"
   ]
  },
  {
   "cell_type": "code",
   "execution_count": 47,
   "metadata": {},
   "outputs": [],
   "source": [
    "val_pred_probs = np.load(probs_path+'val_pred_probs_cnn.npy', allow_pickle=True, fix_imports=True)"
   ]
  },
  {
   "cell_type": "markdown",
   "metadata": {},
   "source": [
    "## Model Evaluation"
   ]
  },
  {
   "cell_type": "code",
   "execution_count": 48,
   "metadata": {},
   "outputs": [
    {
     "data": {
      "text/plain": [
       "0.6558975018041976"
      ]
     },
     "execution_count": 48,
     "metadata": {},
     "output_type": "execute_result"
    }
   ],
   "source": [
    "val_preds = val_pred_probs > 0.5\n",
    "np.mean(val_preds.flatten()==val_target)"
   ]
  },
  {
   "cell_type": "code",
   "execution_count": 49,
   "metadata": {},
   "outputs": [
    {
     "data": {
      "text/plain": [
       "((101153, 1), 101153)"
      ]
     },
     "execution_count": 49,
     "metadata": {},
     "output_type": "execute_result"
    }
   ],
   "source": [
    "val_preds.shape, len(val_target)"
   ]
  },
  {
   "cell_type": "code",
   "execution_count": 83,
   "metadata": {},
   "outputs": [
    {
     "name": "stdout",
     "output_type": "stream",
     "text": [
      "Confusion matrix, without normalization\n",
      "[[28560 18769]\n",
      " [16038 37786]]\n",
      "             precision    recall  f1-score   support\n",
      "\n",
      " Republican       0.64      0.60      0.62     47329\n",
      "   Democrat       0.67      0.70      0.68     53824\n",
      "\n",
      "avg / total       0.66      0.66      0.66    101153\n",
      "\n"
     ]
    },
    {
     "data": {
      "text/plain": [
       "<matplotlib.axes._subplots.AxesSubplot at 0x7f08bcbfc2b0>"
      ]
     },
     "execution_count": 83,
     "metadata": {},
     "output_type": "execute_result"
    },
    {
     "data": {
      "image/png": "[encoded data removed]",
      "text/plain": [
       "<Figure size 432x288 with 2 Axes>"
      ]
     },
     "metadata": {},
     "output_type": "display_data"
    }
   ],
   "source": [
    "reload(explore_data)\n",
    "# specify class names in 0 - 1 order\n",
    "classes = ['Republican', 'Democrat']\n",
    "explore_data.plot_confusion_matrix(val_target, val_preds, classes, normalize=True)"
   ]
  },
  {
   "cell_type": "code",
   "execution_count": 51,
   "metadata": {},
   "outputs": [
    {
     "data": {
      "image/png": "[encoded data removed]",
      "text/plain": [
       "<Figure size 720x720 with 2 Axes>"
      ]
     },
     "metadata": {},
     "output_type": "display_data"
    }
   ],
   "source": [
    "reload(explore_data)\n",
    "explore_data.plot_calibration_curve(val_target, val_pred_probs, 'Party')"
   ]
  },
  {
   "cell_type": "code",
   "execution_count": 52,
   "metadata": {
    "scrolled": true
   },
   "outputs": [
    {
     "name": "stderr",
     "output_type": "stream",
     "text": [
      "/home/yulia/anaconda3/lib/python3.6/site-packages/numpy/lib/arraysetops.py:472: FutureWarning: elementwise comparison failed; returning scalar instead, but in the future will perform elementwise comparison\n",
      "  mask |= (ar1 == a)\n"
     ]
    },
    {
     "data": {
      "text/plain": [
       "(106095, 16)"
      ]
     },
     "execution_count": 52,
     "metadata": {},
     "output_type": "execute_result"
    }
   ],
   "source": [
    "descr_df = pd.read_csv(main_dir+'data/QA/full_descr.txt', sep=\"|\", index_col=0)\n",
    "descr_df = descr_df.loc[np.asarray(val_ids, dtype=int)]\n",
    "descr_df.shape"
   ]
  },
  {
   "cell_type": "code",
   "execution_count": 53,
   "metadata": {},
   "outputs": [
    {
     "name": "stdout",
     "output_type": "stream",
     "text": [
      "Validation sample means:\n",
      "      Gender_F  Ethinicity_NW     AvgAge   Party_D  Chamber_H  AvgWordCount\n",
      "base  0.091673       0.098836  57.724436  0.529214     0.6059    381.480277\n"
     ]
    },
    {
     "data": {
      "text/html": [
       "<div>\n",
       "<style scoped>\n",
       "    .dataframe tbody tr th:only-of-type {\n",
       "        vertical-align: middle;\n",
       "    }\n",
       "\n",
       "    .dataframe tbody tr th {\n",
       "        vertical-align: top;\n",
       "    }\n",
       "\n",
       "    .dataframe thead th {\n",
       "        text-align: right;\n",
       "    }\n",
       "</style>\n",
       "<table border=\"1\" class=\"dataframe\">\n",
       "  <thead>\n",
       "    <tr style=\"text-align: right;\">\n",
       "      <th></th>\n",
       "      <th>Gender_F</th>\n",
       "      <th>Ethinicity_NW</th>\n",
       "      <th>AvgAge</th>\n",
       "      <th>Party_D</th>\n",
       "      <th>Chamber_H</th>\n",
       "      <th>AvgWordCount</th>\n",
       "    </tr>\n",
       "  </thead>\n",
       "  <tbody>\n",
       "    <tr>\n",
       "      <th>0.4</th>\n",
       "      <td>0.69</td>\n",
       "      <td>0.59</td>\n",
       "      <td>0.99</td>\n",
       "      <td>0.55</td>\n",
       "      <td>0.99</td>\n",
       "      <td>1.10</td>\n",
       "    </tr>\n",
       "    <tr>\n",
       "      <th>0.6</th>\n",
       "      <td>0.79</td>\n",
       "      <td>0.80</td>\n",
       "      <td>1.00</td>\n",
       "      <td>0.96</td>\n",
       "      <td>0.95</td>\n",
       "      <td>0.71</td>\n",
       "    </tr>\n",
       "    <tr>\n",
       "      <th>1.0</th>\n",
       "      <td>1.45</td>\n",
       "      <td>1.52</td>\n",
       "      <td>1.01</td>\n",
       "      <td>1.38</td>\n",
       "      <td>1.06</td>\n",
       "      <td>1.22</td>\n",
       "    </tr>\n",
       "  </tbody>\n",
       "</table>\n",
       "</div>"
      ],
      "text/plain": [
       "     Gender_F  Ethinicity_NW  AvgAge  Party_D  Chamber_H  AvgWordCount\n",
       "0.4      0.69           0.59    0.99     0.55       0.99          1.10\n",
       "0.6      0.79           0.80    1.00     0.96       0.95          0.71\n",
       "1.0      1.45           1.52    1.01     1.38       1.06          1.22"
      ]
     },
     "execution_count": 53,
     "metadata": {},
     "output_type": "execute_result"
    }
   ],
   "source": [
    "reload(explore_data)\n",
    "# checking the ratios of demo variables in low-mid-high probability buckets\n",
    "explore_data.check_bin_probs_distr(val_pred_probs, \n",
    "                                   val_ids, \n",
    "                                   descr_df)"
   ]
  },
  {
   "cell_type": "code",
   "execution_count": 54,
   "metadata": {},
   "outputs": [
    {
     "name": "stdout",
     "output_type": "stream",
     "text": [
      "\n",
      "Top 10 ngrams by differentiating score:\n",
      "in the \t 1040.6\n",
      "their \t 1032.9\n",
      "as \t 976.4\n",
      "today \t 974.7\n",
      "with \t 947.4\n",
      "has \t 936.1\n",
      "by \t 920.5\n",
      "our \t 912.4\n",
      "for the \t 868.6\n",
      "and the \t 853.7\n"
     ]
    },
    {
     "data": {
      "text/html": [
       "<div>\n",
       "<style scoped>\n",
       "    .dataframe tbody tr th:only-of-type {\n",
       "        vertical-align: middle;\n",
       "    }\n",
       "\n",
       "    .dataframe tbody tr th {\n",
       "        vertical-align: top;\n",
       "    }\n",
       "\n",
       "    .dataframe thead th {\n",
       "        text-align: right;\n",
       "    }\n",
       "</style>\n",
       "<table border=\"1\" class=\"dataframe\">\n",
       "  <thead>\n",
       "    <tr style=\"text-align: right;\">\n",
       "      <th>bin</th>\n",
       "      <th>1</th>\n",
       "      <th>2</th>\n",
       "      <th>3</th>\n",
       "    </tr>\n",
       "  </thead>\n",
       "  <tbody>\n",
       "    <tr>\n",
       "      <th>and the</th>\n",
       "      <td>25677.0</td>\n",
       "      <td>22112.0</td>\n",
       "      <td>38174.0</td>\n",
       "    </tr>\n",
       "    <tr>\n",
       "      <th>as</th>\n",
       "      <td>70559.0</td>\n",
       "      <td>62711.0</td>\n",
       "      <td>101922.0</td>\n",
       "    </tr>\n",
       "    <tr>\n",
       "      <th>by</th>\n",
       "      <td>53860.0</td>\n",
       "      <td>45068.0</td>\n",
       "      <td>77578.0</td>\n",
       "    </tr>\n",
       "    <tr>\n",
       "      <th>for the</th>\n",
       "      <td>24192.0</td>\n",
       "      <td>21351.0</td>\n",
       "      <td>36864.0</td>\n",
       "    </tr>\n",
       "    <tr>\n",
       "      <th>has</th>\n",
       "      <td>49679.0</td>\n",
       "      <td>43526.0</td>\n",
       "      <td>72915.0</td>\n",
       "    </tr>\n",
       "    <tr>\n",
       "      <th>in the</th>\n",
       "      <td>62363.0</td>\n",
       "      <td>53258.0</td>\n",
       "      <td>91063.0</td>\n",
       "    </tr>\n",
       "    <tr>\n",
       "      <th>our</th>\n",
       "      <td>55916.0</td>\n",
       "      <td>46238.0</td>\n",
       "      <td>89062.0</td>\n",
       "    </tr>\n",
       "    <tr>\n",
       "      <th>their</th>\n",
       "      <td>37239.0</td>\n",
       "      <td>29475.0</td>\n",
       "      <td>58634.0</td>\n",
       "    </tr>\n",
       "    <tr>\n",
       "      <th>today</th>\n",
       "      <td>17191.0</td>\n",
       "      <td>13744.0</td>\n",
       "      <td>25257.0</td>\n",
       "    </tr>\n",
       "    <tr>\n",
       "      <th>with</th>\n",
       "      <td>63221.0</td>\n",
       "      <td>55444.0</td>\n",
       "      <td>91095.0</td>\n",
       "    </tr>\n",
       "  </tbody>\n",
       "</table>\n",
       "</div>"
      ],
      "text/plain": [
       "bin            1        2         3\n",
       "and the  25677.0  22112.0   38174.0\n",
       "as       70559.0  62711.0  101922.0\n",
       "by       53860.0  45068.0   77578.0\n",
       "for the  24192.0  21351.0   36864.0\n",
       "has      49679.0  43526.0   72915.0\n",
       "in the   62363.0  53258.0   91063.0\n",
       "our      55916.0  46238.0   89062.0\n",
       "their    37239.0  29475.0   58634.0\n",
       "today    17191.0  13744.0   25257.0\n",
       "with     63221.0  55444.0   91095.0"
      ]
     },
     "execution_count": 54,
     "metadata": {},
     "output_type": "execute_result"
    }
   ],
   "source": [
    "reload(explore_data)\n",
    "explore_data.compare_ngrams(val, val_pred_probs, ngram_range=(1, 2))"
   ]
  },
  {
   "cell_type": "code",
   "execution_count": 55,
   "metadata": {
    "scrolled": false
   },
   "outputs": [
    {
     "name": "stdout",
     "output_type": "stream",
     "text": [
      "\n",
      "True positive (Predicted prob: 0.92):\n",
      "\n",
      "date             20151203\n",
      "char_count           6520\n",
      "word_count           1179\n",
      "speakerid     1.14121e+08\n",
      "Party                   D\n",
      "Congress              114\n",
      "Chamber                 S\n",
      "State                  NV\n",
      "Ethnicity               W\n",
      "Age                    77\n",
      "Age_lt_med              0\n",
      "NonWhite                0\n",
      "Female                  0\n",
      "speaker          Mr. REID\n",
      "Full Name     REID, HARRY\n",
      "match               exact\n",
      "Name: 1140066510, dtype: object\n",
      "\n",
      " Mr. President. I hope all Members of CongressDemocrats and Republicans. Members of the House and Senatetake a long. hard look this morning. maybe in the mirror. and ask themselves: Where do I stand? Yet again our country is faced with another sickening act of gun violence. Yesterdays shooting rampage took the lives of 14 people and wounded at least 17 more. a number of those grievously injured. That wasnt the only shooting yesterday. a gunman in Georgia killed a woman and injured three others. So where do we stand? We have an epidemic of gun violence in America. and it is nothing less than sickening. Fort Hood. 13 dead. Tucson. 6 dead. Carson City. 4 dead. Aurora. 12 dead. Newtown. 20 little children. 6 educators. the Navy Yard in Washington. DC. 12 dead. Las Vegas. 3 dead. two of whom were police officers. And I have heard this talk: Oh. it is so unusual. a husband and wife. These three people killed in Las Vegas were killed by a husbandandwife team. In Charleston. nine dead. Moneta. VA. two deadon live television. he came to kill two people. At Umpqua Community College. nine dead. Colorado Springs. three dead. That tragic list is nowhere close to being comprehensive. The one in Georgia yesterdayone dead. two wounded. It hardly made the press. But the ones I just mentioned are a few that we picked up earlier this morning in my office. It would be very difficult to list all the mass killings that have taken place in recent years. Why? Because we are 337 days into 2015 and we have had at least 355 mass shootings355 mass shootings in 337 days. We are averaging more than one a day. Two months ago I came to the floor very sad. I was here mourning the murder of innocent community college students attending class in Roseburg. OR. I said then that each time our Nation endures one of these mass killings. we go through the same routine. First we are shocked. Then we ask questions about the killers. their motives. and how they got their hands on those guns. Then we wonder. what could we have done to prevent this terrible thing from happening? As I said. the disturbing part is that we dont do anything. We dont do anything. We. as the legislative body of this country. do nothing. So I have a question for every Member of this body: How can we live with ourselves for failing to do the things that we know will reduce gun violence? Will it get rid of all of it? Of course not. But will it reduce it? Yes. We are complicit through our inaction. and if we continue to fail to act. we will be complicit today and every day into the future. We will keep ending up right where we are. mourning innocent victims in San Bernardino. CA. or Charleston or Newtown. When victims turn to us for leadership and help. we will have nothing to show but empty hands and a few empty gestures. It is despicable. For far too long we have done nothing. even as the gun violence shakes our Nation to its core. We must do something. We can start by passing improved background check legislation. Is it asking too much that if someone is crazy or a criminal. they shouldnt be able to walk into any gun shop and buy a gun? Of course not. But that is the law in America. I know the thought of upsetting the National Rifle Association scares everybodyoh. especially my Republican colleagues. Do you know what scares the American people? Gun violence. These mass shootings at holiday parties frighten the American people. Is it unreasonable that they are frightened? Of course not. People are afraid to go to a movie theater or to a concert. The bill before the Senate today is to get rid of ObamaCare. and everybody knows it is just a gesture in futility. They have tried it 60 times or 48 timesI dont know. we lost trackin the House. and every time. the same answer: No. In the Senate. we have done it 14. 15 timesalways the same answer. Einstein said the definition of \"insanity\" is when someone does the same thing over and over again knowing they are going to get the same result. So we are wasting our time today. Everyone knows the result. But we have the opportunity to cast a vote here todayor we will shortlybecause we are focused on doing something. People on this side of the aisle are focused on doing something to stop this gun violence. and we are going to force amendments to that end todaynot many but a few. We will try to do something. anything. Are we going to vote on expanded background checks? Shouldnt we do that at least? We are going to vote to prevent criminals convicted of harassing womens health clinics from buying a gun. owning a gun. Senators will have to decide where they stand on these amendments. Do they stand with babies who were killed in Connecticut. families who want to do nothing more than go about their day without the daily threat of shootings? My friends in Nevada. two police officers in uniform sitting down to have a lunch break. and two people walk in behind them and shoot them in the back of the head and kill them. They went over to Walmart and killed another person. People are afraid. There was a time in my legislative career that I tried to work with the National Rifle Association. but the NRA today is a far cry from the sportsmens organization I once supported. The NRA once called mandatory background checks \"reasonable.\" That is what they said. I am not making this up. But now its leadership and organization have transformed into a quasimilitant wing of the Republican Party. They are being pushed more and more into the camp of guns for everybody anytime they want them. and they are being pushed by thethey have a competitor now: Gun Owners of America. Those who choose to do the NRAs bidding will be held accountable by our constituents. Their vote against these sensible measures will be a stain for all of the American people to see. Something has to be done. We must take a stand. The American people are desperately looking for helpsome help. any help. It will never be possible to prevent every shooting. We know that. But we have a responsibility to try. There are certain things we can do. If someone is mentally deranged and a criminal. should they be able to walk in and buy a gun anyplace? Of course not. We have a responsibility as lawmakers to enact commonsense reforms that have been proven to stop attacks and save lives. I hope Republicans will find the courage to join with us and pass meaningful legislation to prevent further gun violence. I apologize for speaking before the Republican leader. but I was told he was going to be late.\n",
      "--------------------\n",
      "\n",
      "True negative (Predicted prob: 0.09):\n",
      "\n",
      "date             19860731\n",
      "char_count           7598\n",
      "word_count           1323\n",
      "speakerid     9.91119e+07\n",
      "Party                   R\n",
      "Congress               99\n",
      "Chamber                 S\n",
      "State                  TX\n",
      "Ethnicity               W\n",
      "Age                    44\n",
      "Age_lt_med              1\n",
      "NonWhite                0\n",
      "Female                  0\n",
      "speaker         Mr. GRAMM\n",
      "Full Name     GRAMM, PHIL\n",
      "match               exact\n",
      "Name: 990222024, dtype: object\n",
      "\n",
      " Mr. President. I rise in opposition to the amendment. I would like to define for my colleagues where we are and what this amendment represents. The Senator from Colorado is responding to our predicament basically as follows: In the GrammRudmanHollings bill. we responded to 5 years of gridlock and 20 years of deficits by imposing discipline on Congress. I never cease to be amazed. Mr. President. at how people can call imposed discipline which forces choice an escape from choice. Let me say to my distinguished colleague from Colorado that there is one thing that GrammRudmanHollings I and II do do in terms of the Congress of the United States. It takes away one choice. On that point we agree. It takes away the choice to do nothing. It takes away the choice to engage in this political game of having the President send budgets to Congress which we merrily throw out the window and then we do not do anything. The system which the distinguished Senator from Colorado proposes that we stay with is a system which has produced $200 billion deficits. doubled the Federal debt. and now imperils a recovery which has brought jobs and hope and opportunity to our people. The GrammRudmanHollings bill does take away one choice. The choice it takes away is the choice not to choose. the choice to pass the burden of nonchoice onto our children and grandchildren in terms of higher debt. onto the economy in terms of higher interest rates. onto the working people of America in overvalued dollars that destroy. our ability to compete on the world market. Those choices are taken away. ii 1110 To those who say Congress should not be constrained. let Congress do as it chooses. let me respond that the whole genius of the American system has been the genius to restrain government. The brilliance of the American system is that It denies Congress the ability to do things. It sets out parameters in which choices occur. and in the best tradition of that system the GrammRudmanHollings bill sets out parameters and those parameters are that for this 5year emergency periodand I believe. Mr. President. that people of America believe this is an emergencywe take freedom away from the President. We force the President to submit budgets which over 5 years lower the deficit in equal amounts to zero In fiscal year 1991. calendar year 1990. the third year of the last budget that Ronald Reagan will submit as President. We take away the freedom of Congress to adopt budgets that are meaningless. that are nonbinding. that are nonenforceable. and that do not address the problem we face. because we force Congress through the imposition of rule changes to consider only budgets that meet the targets. We make it not in order to even bring a budget to the floor of the Senate that does not meet the targets. We make amendments zero sum in the deficit. Is that taking away the necessity of choosing? Quite the contrary. Mr. President. That is forcing choice. In fact. we saw it every day on the tax bill. Because of GrammRudmanHollings. on the tax bill. when somebody wanted to do something for some special interest group. they faced a problem. and the problem was there is no free lunch. The whole world knows it. Only the U.S. Congress refuses to accept that fact. If somebody wanted to add a benefit for some special interest group. the had to pay for it. I do not think it is any miracle. Mr. President. when they had to pay for it we had very few amendments adopted. indeed. As a result. we adopted a bill that represents the first step in 40 years for tax fairness for the people who do the work and pay the taxes and pull the wagon and make America work. Finally. we make the budget binding. Is that refusing to make choices? Quite the contrary. Mr. President. Not only have we written bad budgets for the last 5 years. but we have not enforced those budgets. I hope our colleagues understand that on average we have overspent our budgets by about $2 billion a month every month for the last 5 years. Making budgets binding is not escaping responsibility. It is imposing responsibility. If the American people really understood the budget process that existed before GrammRudmanHollings. they would realize what a fraud this whole charade has been. The budgets are not binding. They do not mean anything in terms of imposing restraints on the individual appropriations and authorization committees. They have absolutely no relevance in the final analysis except on the final figure. so we wait around and pass all the dogs and then we wait for some mothers milk program and we have that program become the one that breaches the deficit. and everybody says. \"Im for fiscal responsibility but I cant vote against this bill.\" And we bust the budget. the deficit goes on. and the people bear the burden. Under the GrammRudmanHollings bill. the budget is binding down to the 302(b) levels. which means down to the subcommittee levels. So we not only make Congress write tough budgets. which is not escaping responsibilityfar from itbut we make those budgets binding. Then at the end of the budget process. at the beginning of the fiscal year. we have an assessment as to whether we met the targets. We have a truthinbudgeting procedure. so that we have a check on Congress in making up solutions to problems by sending them away. Now. the distinguished Senator from Colorado has said that GrammRudmanHollings II is imperfect. I do not think that ought to come as a shock. So far as I am aware. all three authors are imperfect. and so the fact that the solution Is imperfect should have been expected. But let me say to the Senator from Colorado that the fact that our solution is imperfect does not mean no action is called for. Quite the contrary. It is an imperfect solution. but it is a dramatic improvement on simply pretending that the problem does not exist. We continually hear. \"We are letting bureaucrats make the tough decisions.\" That is baloney. We set up a green eyeshade function with checks and balances so that a determination is made about the deficit. We set up in law and define in great detail how acrosstheboard cuts will be made if the deficit number is breached. The bureaucrats do not make the cuts. We made the cuts by adopting GrammRudmanHollings. The bureaucrats simply provide truth in budgeting in a green eyeshade. technical function. That does not mean the technical function is unimportant. In fact. to say the green eyeshade functions are unimportant is to fail to recognize that the world is dominated by little else than green eyeshade functions. As government has become more important in our lives. our lives have been run by little else than bureaucrats with green eyeshades. But it is Congress that wrote the law which says if we do not meet the targets. if we do not have the courage to make the decisions. an acrosstheboard cut goes into effect. But. my colleagues. that Is not the end of the story. because then Congress has 45 days after the cuts are announced before they go Into effect. and the procedure is established so that during that period any action we take to lower the deficit counts toward offsetting those automatic cuts. Now. I ask my colleagues. when an automatic cut has been announced and we have the right. the obligation. the duty and the ability to do something about it. is that escaping responsibility? Quite the contrary. That is putting the fat in the fire where it belongs. Now. our distinguished colleague from Colorado may think that he can go out and run for President after refusing to do anything and letting an automatic cut go---.\n",
      "--------------------\n",
      "\n",
      "False positive (Predicted prob: 0.92):\n",
      "\n",
      "date              19831006\n",
      "char_count            1697\n",
      "word_count             278\n",
      "speakerid      9.81070e+07\n",
      "Party                    R\n",
      "Congress                98\n",
      "Chamber                  H\n",
      "State                   KS\n",
      "Ethnicity                W\n",
      "Age                     65\n",
      "Age_lt_med               0\n",
      "NonWhite                 0\n",
      "Female                   0\n",
      "speaker           Mr. WINN\n",
      "Full Name     WINN, EDWARD\n",
      "match                exact\n",
      "Name: 980110581, dtype: object\n",
      "\n",
      " Mr. Speaker. yesterday the free world celebrated the announcement that the Nobel Peace Prize for 1983 will be awarded to Lech Walesa. leader of Polands banned Solidarity trade union. In hearing the news. Lech Walesa called It a \"prize for Solidarity.\" a description that demonstrates his selfless attitude in his quest for the freedom of his people. It might seem a bit odd to award a peace prize to a leader still in the thick of battle. No. Lech Walesa has not yet achieved his goal of peace for the Polish people ... but he has proPosed peaceful methods to reconcile tile conflict in Poland. He has taken peaceful acticn to make his homeland free from dise:ord and malcontent. The Nobel Peace Prize announcement comes as good news for Solidarities embattled supporters who. under the leadership of Lech Walesa. have persevered through many Governmeritimposed trials in their efforts to have free and Independent trade unions. To them. the Nobel Peace Prize represents a moral victory and provides newmomentum as they continue to work for their cause. Lech Walesa is their champion. a genuine Polish folk hero. whose personal sacrafices have translated Into tremendous gains for Poles. But his Impact has not been limited to within Polands borders. Lech Walesa has touched the lives of people throughout the world. He has made us more appreciative of our own freedoms. and he has helped us to guard against their infringement. Both the United States and Japan have recognized his courag. ous contributions by awarding him honorary national citizenship. And now. with the annoucement of the Nobel Peace Prize for 1983. Lech Welesa will receive the internationral recognition he rightly deserves.*\n",
      "--------------------\n",
      "\n",
      "False negative (Predicted prob: 0.01):\n",
      "\n",
      "date             20030617\n",
      "char_count           5510\n",
      "word_count            957\n",
      "speakerid     1.08117e+08\n",
      "Party                   D\n",
      "Congress              108\n",
      "Chamber                 S\n",
      "State                  MA\n",
      "Ethnicity               W\n",
      "Age                    61\n",
      "Age_lt_med              0\n",
      "NonWhite                0\n",
      "Female                  0\n",
      "speaker         Mr. KERRY\n",
      "Full Name     KERRY, JOHN\n",
      "match               exact\n",
      "Name: 1080053102, dtype: object\n",
      "\n",
      " Mr. President. since its inception. the United Service Organization what we all know as the USO has worked to bring a piece of home to the members of our armed forces wherever they may find themselves. From Bob Hopes legendary tours to the latest cybercanteens that allow service members to stay in contact with family and friends via email. the USO works tirelessly to provide simple pleasures to those who venture into harms way. As the population of the armed forces has changed. so too have the services offered by the USO. Today. this great organization provides childcare services for kids whose parents are deployed. travel assistance for the family of wounded service members. prepaid phone cards. the everpopular celebrity tours. and countless other services for our troops and their families. Recently. my staff and the staff of Senator KENNEDY had very close contact with the personnel and services of the USO through its New England offices in Boston. Several weeks ago. our staff was contacted by the family of an American soldier who had become gravely ill in Iraq. She had been evacuated to the American hospital at Landstuhl. Germany. where doctors determined she was near death. She was so ill that her doctors ordered her medically retired. making her daughter eligible for retirement benefits. But that reclassification also meant that the Army could no longer pay. for her familys travel to Germany to be at her bedside. That decision. made for all the right reasons. had the unintentional and regrettable consequence of bringing only mere grief to a family already and I introduced the Local Law Enforcement Act. a bill that would add new categories to current hate crimes law. sending a signal that violence of any kind Is unacceptable in our society. I would like to describe a terrible crime that occurred in Germantown. MD. A 16yearold ArabAmerican girl was physically attacked by a group of unknown young adults on the Campus of Montgomery College on September. 14. 2001. This was the first of three hate crimes targeting the student and her family. On September 21. her family was out driving when unknown assailants threw a firecracker in front of their car. On September 28. vandals smashed the rear window of the familys minivan while it was parked in front of their home. I believe that governments first duty is to defend its citizens. to defend them against the harms that come out of hate. The Local Law Enforcement Enhancement Act is a symbol that can become substance. I believe that by passing this legislation and changing current law. we can change hearts and minds as well. gra. pplLin wli t1 prUpetU U oUs l5 RALLY AGAINST HATE their loved one. And that is when USONew England Mrs. FEINSTEIN. Mr. President. I and its director. Alice Harkins. got in- wish to acknowledge the efforts of my volved. When the situation was ex- colleagues and many others participlained to her. Alice replied simply. pating in the Rally Against Hate on \"Were going to do this. This is why we Capitol Hill today. exist.\" And. as promised. the USONew The rally has been organized by SenEngland found the money and paid for ators EDWARD KENNEDY and GORDON the soldiers family to travel to Ger- SMITH. along with the Human Rights many. Campaign and its coalition partners. to Alice Harkins and her capable staff show support and build momentum for at USONew England represent the best passage of Federal hate crimes legislaof us. Through their vigorous efforts. tion. \"The Local Law Enforcement Entheir determination. and their simple hancement Act.\" desire to help those who serve in our Also participating in the rally today military. they inspire us all. They are is a very brave and amazing conpeople who recognize whats right. and stituent of mine. Trev Broudy. Trev is who show their love of country and a handsome 34year old actor from their love for those who serve with West Hollywood. CA. and he is also the deeds as well as words. victim of a hate crime motivated by The USO receives no financial sup- his sexual orientation. port from the U.S. Government. Its On September 1. 2003. Trev was hugsuccess is due to the countless volun- ging and saying goodbye to his friend. teers who contribute time and energy Teddy Ulett. on the street in West Holfor the men and women of the Armed lywvood when two men jumped out of a Forces in times of war and peace and car without warning and began swingthe generosity of sponsors who make ing at Trevs head with a baseball bat its operation possible. and an iron pipe. I know I express the sentiment of the After the attack. Trev was rushed to Senate and current and former mem- CedarsSinai Medical Center where bers of the Armed Forces when I say doctors cleaned away pieces of skull thank you. USO. for your efforts to from the back of his head and pieced bring a slice of home to those on the together other parts of skull that had frontlines and for remembering their been crushed. He was then placed in an families while they are away. We induced coma for over a week to guard should all aspire to make such a con- against swelling of his brain. tribution. Fortunately. the people of Today. Trev looks and sounds fine. the USO. people like Alice Harkins. do. although he will never fully recover And we can all be grateful.o from the attack. He has said. \"People assume because I look all right and Im healthy and Im walking and Im talkLOCAL LAW ENFORCEMENT ACT ing. Im all better. but Im not.\" OF 2003 When Trev finally left the hospital-\n",
      "--------------------\n"
     ]
    }
   ],
   "source": [
    "reload(explore_data)\n",
    "explore_data.print_mispredictions(val_target, val_pred_probs, val, val_ids, descr_df)"
   ]
  },
  {
   "cell_type": "markdown",
   "metadata": {},
   "source": [
    "## CNN - chunking the data"
   ]
  },
  {
   "cell_type": "markdown",
   "metadata": {},
   "source": [
    "### Prepare the data"
   ]
  },
  {
   "cell_type": "code",
   "execution_count": 56,
   "metadata": {},
   "outputs": [],
   "source": [
    "chunk_len=50"
   ]
  },
  {
   "cell_type": "code",
   "execution_count": 57,
   "metadata": {},
   "outputs": [
    {
     "name": "stdout",
     "output_type": "stream",
     "text": [
      "Original data has 303459 speeches\n",
      "It was split into 2443603 chunks\n",
      "Checks on ids and target 2443603 2443603\n",
      "Original target mean 0.5321048312951667\n",
      "New target mean 0.5447693426469029\n",
      "Original data has 101153 speeches\n",
      "It was split into 819712 chunks\n",
      "Checks on ids and target 819712 819712\n",
      "Original target mean 0.5321048312951667\n",
      "New target mean 0.5479839260618363\n",
      "Original data has 101154 speeches\n",
      "It was split into 819495 chunks\n",
      "Checks on ids and target 819495 819495\n",
      "Original target mean 0.5321094568677462\n",
      "New target mean 0.5499813909785904\n",
      "\n",
      "It took 36.1 seconds to create the dictionary\n"
     ]
    }
   ],
   "source": [
    "reload(preprocess_data)\n",
    "start_time = time.time()\n",
    "train_chunk, train_ids_chunk, train_target_chunk = preprocess_data.split_speech_to_chunks(train, train_ids, train_target, max_len=chunk_len)\n",
    "val_chunk, val_ids_chunk, val_target_chunk = preprocess_data.split_speech_to_chunks(val, val_ids, val_target, max_len=chunk_len)\n",
    "test_chunk, test_ids_chunk, test_target_chunk = preprocess_data.split_speech_to_chunks(test, test_ids, test_target, max_len=chunk_len)\n",
    "print(\"\\nIt took {:.1f} seconds to create the dictionary\".format(time.time()-start_time))"
   ]
  },
  {
   "cell_type": "code",
   "execution_count": 58,
   "metadata": {},
   "outputs": [],
   "source": [
    "# Limit on the number of features. \n",
    "TOP_K = 20000\n",
    "\n",
    "# Limit on the length of text sequences. Sequences longer than this\n",
    "# will be truncated.\n",
    "# MAX_SEQUENCE_LENGTH = 100\n",
    "MAX_SEQUENCE_LENGTH = chunk_len\n",
    "\n",
    "vec_params = {\n",
    "    'num_words': TOP_K,\n",
    "    'max_seq_length': MAX_SEQUENCE_LENGTH\n",
    "}"
   ]
  },
  {
   "cell_type": "code",
   "execution_count": 59,
   "metadata": {},
   "outputs": [
    {
     "name": "stdout",
     "output_type": "stream",
     "text": [
      "\n",
      "It took 560.6 seconds to tokenize the data\n"
     ]
    }
   ],
   "source": [
    "start_time = time.time()\n",
    "train_vec, val_vec, test_vec, word_index = preprocess_data.sequence_vectorize(train_chunk, val_chunk, test_chunk, **vec_params)\n",
    "print(\"\\nIt took {:.1f} seconds to tokenize the data\".format(time.time()-start_time))"
   ]
  },
  {
   "cell_type": "code",
   "execution_count": 60,
   "metadata": {},
   "outputs": [],
   "source": [
    "np.save(os.path.join(token_path, 'train_vec_chunk'), train_vec)\n",
    "np.save(os.path.join(token_path, 'val_vec_chunk'), val_vec)\n",
    "np.save(os.path.join(token_path, 'test_vec_chunk'), test_vec)"
   ]
  },
  {
   "cell_type": "code",
   "execution_count": 61,
   "metadata": {},
   "outputs": [],
   "source": [
    "train_vec = np.load(os.path.join(token_path, 'train_vec_chunk.npy'))\n",
    "val_vec = np.load(os.path.join(token_path, 'val_vec_chunk.npy'))\n",
    "test_vec = np.load(os.path.join(token_path, 'test_vec_chunk.npy'))"
   ]
  },
  {
   "cell_type": "code",
   "execution_count": 62,
   "metadata": {},
   "outputs": [
    {
     "data": {
      "text/plain": [
       "(2443603, 50)"
      ]
     },
     "execution_count": 62,
     "metadata": {},
     "output_type": "execute_result"
    }
   ],
   "source": [
    "train_vec.shape"
   ]
  },
  {
   "cell_type": "code",
   "execution_count": 63,
   "metadata": {},
   "outputs": [
    {
     "data": {
      "text/plain": [
       "array([   26,    42,     2,  2926,   369, 15810,    96,     7,    23,\n",
       "         257,     2,   420,     6,    60,   873,    61,  1777,     6,\n",
       "           2,   115,   202,    48,    11,   694,  1799,    35,   144,\n",
       "          18,   346,     8,   138,     3,   304,    37,  2723,    70,\n",
       "         128,   497,     6,     2,    60,   873,  1802,    30,     2,\n",
       "          35,  3605,     2,  2926,   369], dtype=int32)"
      ]
     },
     "execution_count": 63,
     "metadata": {},
     "output_type": "execute_result"
    }
   ],
   "source": [
    "train_vec[0]"
   ]
  },
  {
   "cell_type": "code",
   "execution_count": 64,
   "metadata": {},
   "outputs": [
    {
     "data": {
      "text/plain": [
       "numpy.ndarray"
      ]
     },
     "execution_count": 64,
     "metadata": {},
     "output_type": "execute_result"
    }
   ],
   "source": [
    "type(train_vec)"
   ]
  },
  {
   "cell_type": "markdown",
   "metadata": {},
   "source": [
    "### Run the model"
   ]
  },
  {
   "cell_type": "code",
   "execution_count": 68,
   "metadata": {},
   "outputs": [
    {
     "data": {
      "text/plain": [
       "0"
      ]
     },
     "execution_count": 68,
     "metadata": {},
     "output_type": "execute_result"
    }
   ],
   "source": [
    "gc.collect()"
   ]
  },
  {
   "cell_type": "code",
   "execution_count": 69,
   "metadata": {},
   "outputs": [
    {
     "name": "stdout",
     "output_type": "stream",
     "text": [
      "Found 400000 word vectors.\n",
      "It took 33.3 seconds\n",
      "Preparing embedding matrix.\n",
      "Embedding matrix has been built.\n",
      "Its shape is (20000, 200).\n",
      "It took 0.1 seconds\n",
      "Train on 2443603 samples, validate on 819712 samples\n",
      "Epoch 1/1000\n",
      " - 2455s - loss: 0.6580 - acc: 0.5968 - val_loss: 0.6502 - val_acc: 0.6094\n",
      "Epoch 2/1000\n",
      " - 2451s - loss: 0.6409 - acc: 0.6205 - val_loss: 0.6457 - val_acc: 0.6127\n",
      "Epoch 3/1000\n",
      " - 2454s - loss: 0.6328 - acc: 0.6299 - val_loss: 0.6442 - val_acc: 0.6152\n",
      "Epoch 4/1000\n",
      " - 2444s - loss: 0.6260 - acc: 0.6375 - val_loss: 0.6434 - val_acc: 0.6162\n",
      "Epoch 5/1000\n",
      " - 2456s - loss: 0.6189 - acc: 0.6452 - val_loss: 0.6426 - val_acc: 0.6166\n",
      "Epoch 6/1000\n",
      " - 2461s - loss: 0.6123 - acc: 0.6516 - val_loss: 0.6438 - val_acc: 0.6161\n",
      "Epoch 7/1000\n",
      " - 1951s - loss: 0.6059 - acc: 0.6582 - val_loss: 0.6462 - val_acc: 0.6149\n",
      "Validation accuracy: 0.6148903369903564, loss: 0.6461591653009268\n"
     ]
    }
   ],
   "source": [
    "history_chunk, train_pred_probs_chunk, val_pred_probs_chunk = train_model.train_model(((train_vec, train_target_chunk), (val_vec, val_target_chunk)), logs_base_dir, **cnn_model_params)"
   ]
  },
  {
   "cell_type": "code",
   "execution_count": 82,
   "metadata": {},
   "outputs": [],
   "source": [
    "np.save(probs_path+'val_pred_probs_cnn_chunk', val_pred_probs_chunk, allow_pickle=True, fix_imports=True)"
   ]
  },
  {
   "cell_type": "code",
   "execution_count": 71,
   "metadata": {},
   "outputs": [
    {
     "data": {
      "text/plain": [
       "0.6148903517332917"
      ]
     },
     "execution_count": 71,
     "metadata": {},
     "output_type": "execute_result"
    }
   ],
   "source": [
    "val_preds_chunk = val_pred_probs_chunk > 0.5\n",
    "np.mean(val_preds_chunk.flatten()==val_target_chunk)"
   ]
  },
  {
   "cell_type": "code",
   "execution_count": 72,
   "metadata": {},
   "outputs": [
    {
     "data": {
      "text/html": [
       "<div>\n",
       "<style scoped>\n",
       "    .dataframe tbody tr th:only-of-type {\n",
       "        vertical-align: middle;\n",
       "    }\n",
       "\n",
       "    .dataframe tbody tr th {\n",
       "        vertical-align: top;\n",
       "    }\n",
       "\n",
       "    .dataframe thead th {\n",
       "        text-align: right;\n",
       "    }\n",
       "</style>\n",
       "<table border=\"1\" class=\"dataframe\">\n",
       "  <thead>\n",
       "    <tr style=\"text-align: right;\">\n",
       "      <th></th>\n",
       "      <th>ids</th>\n",
       "      <th>probs_min</th>\n",
       "      <th>probs_max</th>\n",
       "      <th>probs_mean</th>\n",
       "      <th>target</th>\n",
       "      <th>preds</th>\n",
       "      <th>preds_probs_mean</th>\n",
       "      <th>preds_mean</th>\n",
       "    </tr>\n",
       "  </thead>\n",
       "  <tbody>\n",
       "    <tr>\n",
       "      <th>0</th>\n",
       "      <td>1000000136</td>\n",
       "      <td>0.388373</td>\n",
       "      <td>0.769508</td>\n",
       "      <td>0.553549</td>\n",
       "      <td>0</td>\n",
       "      <td>0.666667</td>\n",
       "      <td>1</td>\n",
       "      <td>1</td>\n",
       "    </tr>\n",
       "    <tr>\n",
       "      <th>1</th>\n",
       "      <td>1000000164</td>\n",
       "      <td>0.465058</td>\n",
       "      <td>0.465058</td>\n",
       "      <td>0.465058</td>\n",
       "      <td>1</td>\n",
       "      <td>0.000000</td>\n",
       "      <td>0</td>\n",
       "      <td>0</td>\n",
       "    </tr>\n",
       "    <tr>\n",
       "      <th>2</th>\n",
       "      <td>1000000280</td>\n",
       "      <td>0.447063</td>\n",
       "      <td>0.488115</td>\n",
       "      <td>0.467589</td>\n",
       "      <td>0</td>\n",
       "      <td>0.000000</td>\n",
       "      <td>0</td>\n",
       "      <td>0</td>\n",
       "    </tr>\n",
       "    <tr>\n",
       "      <th>3</th>\n",
       "      <td>1000000329</td>\n",
       "      <td>0.428595</td>\n",
       "      <td>0.956551</td>\n",
       "      <td>0.600979</td>\n",
       "      <td>1</td>\n",
       "      <td>0.500000</td>\n",
       "      <td>1</td>\n",
       "      <td>0</td>\n",
       "    </tr>\n",
       "    <tr>\n",
       "      <th>4</th>\n",
       "      <td>1000000342</td>\n",
       "      <td>0.379418</td>\n",
       "      <td>0.897738</td>\n",
       "      <td>0.606922</td>\n",
       "      <td>1</td>\n",
       "      <td>0.916667</td>\n",
       "      <td>1</td>\n",
       "      <td>1</td>\n",
       "    </tr>\n",
       "  </tbody>\n",
       "</table>\n",
       "</div>"
      ],
      "text/plain": [
       "          ids  probs_min  probs_max  probs_mean  target     preds  \\\n",
       "0  1000000136   0.388373   0.769508    0.553549       0  0.666667   \n",
       "1  1000000164   0.465058   0.465058    0.465058       1  0.000000   \n",
       "2  1000000280   0.447063   0.488115    0.467589       0  0.000000   \n",
       "3  1000000329   0.428595   0.956551    0.600979       1  0.500000   \n",
       "4  1000000342   0.379418   0.897738    0.606922       1  0.916667   \n",
       "\n",
       "   preds_probs_mean  preds_mean  \n",
       "0                 1           1  \n",
       "1                 0           0  \n",
       "2                 0           0  \n",
       "3                 1           0  \n",
       "4                 1           1  "
      ]
     },
     "execution_count": 72,
     "metadata": {},
     "output_type": "execute_result"
    }
   ],
   "source": [
    "pred_df = pd.DataFrame({'ids': val_ids_chunk, 'target': val_target_chunk, 'probs': val_pred_probs_chunk.flatten(), 'preds': val_preds_chunk.flatten()})\n",
    "f = {'probs': [min, max, 'mean']}\n",
    "pred_aggr_df = pred_df.groupby('ids').agg(f).reset_index()\n",
    "pred_aggr_df.columns = ['ids', 'probs_min', 'probs_max', 'probs_mean']\n",
    "pred_aggr_df = pred_aggr_df.merge(pred_df[['target', 'ids']].groupby('ids').mean().reset_index(), on='ids')\n",
    "pred_aggr_df = pred_aggr_df.merge(pred_df[['preds', 'ids']].groupby('ids').mean().reset_index(), on='ids')\n",
    "pred_aggr_df['preds_probs_mean'] = pred_aggr_df['probs_mean'].apply(lambda x: 1 if x > 0.5 else 0)\n",
    "pred_aggr_df['preds_mean'] = pred_aggr_df['preds'].apply(lambda x: 1 if x > 0.5 else 0)\n",
    "pred_aggr_df.head()"
   ]
  },
  {
   "cell_type": "code",
   "execution_count": 73,
   "metadata": {},
   "outputs": [
    {
     "data": {
      "text/plain": [
       "(0.6750565974316135, 0.6585172955819403)"
      ]
     },
     "execution_count": 73,
     "metadata": {},
     "output_type": "execute_result"
    }
   ],
   "source": [
    "np.mean(pred_aggr_df.target == pred_aggr_df.preds_probs_mean), np.mean(pred_aggr_df.target == pred_aggr_df.preds_mean)"
   ]
  },
  {
   "cell_type": "code",
   "execution_count": 86,
   "metadata": {},
   "outputs": [
    {
     "data": {
      "text/html": [
       "<div>\n",
       "<style scoped>\n",
       "    .dataframe tbody tr th:only-of-type {\n",
       "        vertical-align: middle;\n",
       "    }\n",
       "\n",
       "    .dataframe tbody tr th {\n",
       "        vertical-align: top;\n",
       "    }\n",
       "\n",
       "    .dataframe thead th {\n",
       "        text-align: right;\n",
       "    }\n",
       "</style>\n",
       "<table border=\"1\" class=\"dataframe\">\n",
       "  <thead>\n",
       "    <tr style=\"text-align: right;\">\n",
       "      <th></th>\n",
       "      <th>target_orig</th>\n",
       "      <th>ids</th>\n",
       "      <th>probs_min</th>\n",
       "      <th>probs_max</th>\n",
       "      <th>probs_mean</th>\n",
       "      <th>target</th>\n",
       "      <th>preds</th>\n",
       "      <th>preds_probs_mean</th>\n",
       "      <th>preds_mean</th>\n",
       "    </tr>\n",
       "  </thead>\n",
       "  <tbody>\n",
       "    <tr>\n",
       "      <th>0</th>\n",
       "      <td>1</td>\n",
       "      <td>1020203893</td>\n",
       "      <td>0.357674</td>\n",
       "      <td>0.511737</td>\n",
       "      <td>0.434706</td>\n",
       "      <td>1</td>\n",
       "      <td>0.500000</td>\n",
       "      <td>0</td>\n",
       "      <td>0</td>\n",
       "    </tr>\n",
       "    <tr>\n",
       "      <th>1</th>\n",
       "      <td>1</td>\n",
       "      <td>1030062300</td>\n",
       "      <td>0.464899</td>\n",
       "      <td>0.688740</td>\n",
       "      <td>0.563689</td>\n",
       "      <td>1</td>\n",
       "      <td>0.666667</td>\n",
       "      <td>1</td>\n",
       "      <td>1</td>\n",
       "    </tr>\n",
       "    <tr>\n",
       "      <th>2</th>\n",
       "      <td>1</td>\n",
       "      <td>1100205980</td>\n",
       "      <td>0.441567</td>\n",
       "      <td>0.576299</td>\n",
       "      <td>0.500880</td>\n",
       "      <td>1</td>\n",
       "      <td>0.400000</td>\n",
       "      <td>1</td>\n",
       "      <td>0</td>\n",
       "    </tr>\n",
       "    <tr>\n",
       "      <th>3</th>\n",
       "      <td>1</td>\n",
       "      <td>990019658</td>\n",
       "      <td>0.468098</td>\n",
       "      <td>0.854251</td>\n",
       "      <td>0.676247</td>\n",
       "      <td>1</td>\n",
       "      <td>0.909091</td>\n",
       "      <td>1</td>\n",
       "      <td>1</td>\n",
       "    </tr>\n",
       "    <tr>\n",
       "      <th>4</th>\n",
       "      <td>1</td>\n",
       "      <td>1130043981</td>\n",
       "      <td>0.426884</td>\n",
       "      <td>0.698572</td>\n",
       "      <td>0.536981</td>\n",
       "      <td>1</td>\n",
       "      <td>0.600000</td>\n",
       "      <td>1</td>\n",
       "      <td>1</td>\n",
       "    </tr>\n",
       "  </tbody>\n",
       "</table>\n",
       "</div>"
      ],
      "text/plain": [
       "   target_orig         ids  probs_min  probs_max  probs_mean  target  \\\n",
       "0            1  1020203893   0.357674   0.511737    0.434706       1   \n",
       "1            1  1030062300   0.464899   0.688740    0.563689       1   \n",
       "2            1  1100205980   0.441567   0.576299    0.500880       1   \n",
       "3            1   990019658   0.468098   0.854251    0.676247       1   \n",
       "4            1  1130043981   0.426884   0.698572    0.536981       1   \n",
       "\n",
       "      preds  preds_probs_mean  preds_mean  \n",
       "0  0.500000                 0           0  \n",
       "1  0.666667                 1           1  \n",
       "2  0.400000                 1           0  \n",
       "3  0.909091                 1           1  \n",
       "4  0.600000                 1           1  "
      ]
     },
     "execution_count": 86,
     "metadata": {},
     "output_type": "execute_result"
    }
   ],
   "source": [
    "original_df = pd.DataFrame({'target_orig': val_target, 'ids': val_ids})\n",
    "original_df = original_df.merge(pred_aggr_df, on=\"ids\")\n",
    "original_df.head()"
   ]
  },
  {
   "cell_type": "code",
   "execution_count": 87,
   "metadata": {},
   "outputs": [
    {
     "data": {
      "text/plain": [
       "(53824, 53824)"
      ]
     },
     "execution_count": 87,
     "metadata": {},
     "output_type": "execute_result"
    }
   ],
   "source": [
    "original_df.target_orig.sum(), original_df.target.sum()"
   ]
  },
  {
   "cell_type": "markdown",
   "metadata": {},
   "source": [
    "## Model evaluation"
   ]
  },
  {
   "cell_type": "code",
   "execution_count": 88,
   "metadata": {},
   "outputs": [],
   "source": [
    "val_pred_aggr_chunk = original_df.preds_probs_mean\n",
    "val_pred_probs_aggr_chunk = original_df.probs_mean\n",
    "# val_aggr_target = pred_aggr_df.target\n",
    "# val_aggr_ids = pred_aggr_df.ids"
   ]
  },
  {
   "cell_type": "code",
   "execution_count": 95,
   "metadata": {},
   "outputs": [],
   "source": [
    "np.save(probs_path+'val_pred_probs_cnn_aggr_chunk', val_pred_probs_aggr_chunk, allow_pickle=True, fix_imports=True)"
   ]
  },
  {
   "cell_type": "code",
   "execution_count": 94,
   "metadata": {},
   "outputs": [
    {
     "name": "stdout",
     "output_type": "stream",
     "text": [
      "Confusion matrix, without normalization\n",
      "[[29534 17795]\n",
      " [15074 38750]]\n",
      "             precision    recall  f1-score   support\n",
      "\n",
      " Republican       0.66      0.62      0.64     47329\n",
      "   Democrat       0.69      0.72      0.70     53824\n",
      "\n",
      "avg / total       0.67      0.68      0.67    101153\n",
      "\n"
     ]
    },
    {
     "data": {
      "text/plain": [
       "<matplotlib.axes._subplots.AxesSubplot at 0x7f075371c908>"
      ]
     },
     "execution_count": 94,
     "metadata": {},
     "output_type": "execute_result"
    },
    {
     "data": {
      "image/png": "[encoded data removed]",
      "text/plain": [
       "<Figure size 432x288 with 2 Axes>"
      ]
     },
     "metadata": {},
     "output_type": "display_data"
    }
   ],
   "source": [
    "reload(explore_data)\n",
    "# specify class names in 0 - 1 order\n",
    "explore_data.plot_confusion_matrix(val_target, val_pred_aggr_chunk, classes, normalize=True)"
   ]
  },
  {
   "cell_type": "code",
   "execution_count": 92,
   "metadata": {
    "scrolled": false
   },
   "outputs": [
    {
     "data": {
      "image/png": "[encoded data removed]",
      "text/plain": [
       "<Figure size 720x720 with 2 Axes>"
      ]
     },
     "metadata": {},
     "output_type": "display_data"
    }
   ],
   "source": [
    "reload(explore_data)\n",
    "explore_data.plot_calibration_curve(val_target, val_pred_probs_aggr_chunk, 'Party')"
   ]
  },
  {
   "cell_type": "code",
   "execution_count": 78,
   "metadata": {
    "scrolled": true
   },
   "outputs": [
    {
     "name": "stdout",
     "output_type": "stream",
     "text": [
      "Validation sample means:\n",
      "      Gender_F  Ethinicity_NW     AvgAge   Party_D  Chamber_H  AvgWordCount\n",
      "base  0.091673       0.098836  57.724436  0.529214     0.6059    381.480277\n"
     ]
    },
    {
     "data": {
      "text/html": [
       "<div>\n",
       "<style scoped>\n",
       "    .dataframe tbody tr th:only-of-type {\n",
       "        vertical-align: middle;\n",
       "    }\n",
       "\n",
       "    .dataframe tbody tr th {\n",
       "        vertical-align: top;\n",
       "    }\n",
       "\n",
       "    .dataframe thead th {\n",
       "        text-align: right;\n",
       "    }\n",
       "</style>\n",
       "<table border=\"1\" class=\"dataframe\">\n",
       "  <thead>\n",
       "    <tr style=\"text-align: right;\">\n",
       "      <th></th>\n",
       "      <th>Gender_F</th>\n",
       "      <th>Ethinicity_NW</th>\n",
       "      <th>AvgAge</th>\n",
       "      <th>Party_D</th>\n",
       "      <th>Chamber_H</th>\n",
       "      <th>AvgWordCount</th>\n",
       "    </tr>\n",
       "  </thead>\n",
       "  <tbody>\n",
       "    <tr>\n",
       "      <th>0.4</th>\n",
       "      <td>0.63</td>\n",
       "      <td>0.47</td>\n",
       "      <td>0.99</td>\n",
       "      <td>0.34</td>\n",
       "      <td>1.02</td>\n",
       "      <td>0.76</td>\n",
       "    </tr>\n",
       "    <tr>\n",
       "      <th>0.6</th>\n",
       "      <td>0.84</td>\n",
       "      <td>0.82</td>\n",
       "      <td>1.00</td>\n",
       "      <td>0.96</td>\n",
       "      <td>0.96</td>\n",
       "      <td>1.05</td>\n",
       "    </tr>\n",
       "    <tr>\n",
       "      <th>1.0</th>\n",
       "      <td>1.82</td>\n",
       "      <td>1.97</td>\n",
       "      <td>1.02</td>\n",
       "      <td>1.55</td>\n",
       "      <td>1.11</td>\n",
       "      <td>0.97</td>\n",
       "    </tr>\n",
       "  </tbody>\n",
       "</table>\n",
       "</div>"
      ],
      "text/plain": [
       "     Gender_F  Ethinicity_NW  AvgAge  Party_D  Chamber_H  AvgWordCount\n",
       "0.4      0.63           0.47    0.99     0.34       1.02          0.76\n",
       "0.6      0.84           0.82    1.00     0.96       0.96          1.05\n",
       "1.0      1.82           1.97    1.02     1.55       1.11          0.97"
      ]
     },
     "execution_count": 78,
     "metadata": {},
     "output_type": "execute_result"
    }
   ],
   "source": [
    "reload(explore_data)\n",
    "# checking the ratios of demo variables in low-mid-high probability buckets\n",
    "explore_data.check_bin_probs_distr(val_pred_probs_aggr_chunk, \n",
    "                                   val_aggr_ids, \n",
    "                                   descr_df)"
   ]
  },
  {
   "cell_type": "code",
   "execution_count": 79,
   "metadata": {},
   "outputs": [
    {
     "name": "stdout",
     "output_type": "stream",
     "text": [
      "\n",
      "Top 10 ngrams by differentiating score:\n",
      "spending \t 4815.4\n",
      "tax \t 2688.5\n",
      "republican \t 2680.5\n",
      "health \t 2519.8\n",
      "taxes \t 2445.2\n",
      "community \t 2142.4\n",
      "that \t 2109.7\n",
      "workers \t 2098.0\n",
      "government \t 2035.9\n",
      "the republican \t 2004.5\n"
     ]
    },
    {
     "data": {
      "text/html": [
       "<div>\n",
       "<style scoped>\n",
       "    .dataframe tbody tr th:only-of-type {\n",
       "        vertical-align: middle;\n",
       "    }\n",
       "\n",
       "    .dataframe tbody tr th {\n",
       "        vertical-align: top;\n",
       "    }\n",
       "\n",
       "    .dataframe thead th {\n",
       "        text-align: right;\n",
       "    }\n",
       "</style>\n",
       "<table border=\"1\" class=\"dataframe\">\n",
       "  <thead>\n",
       "    <tr style=\"text-align: right;\">\n",
       "      <th>bin</th>\n",
       "      <th>1</th>\n",
       "      <th>2</th>\n",
       "      <th>3</th>\n",
       "    </tr>\n",
       "  </thead>\n",
       "  <tbody>\n",
       "    <tr>\n",
       "      <th>community</th>\n",
       "      <td>3463.0</td>\n",
       "      <td>10374.0</td>\n",
       "      <td>12518.0</td>\n",
       "    </tr>\n",
       "    <tr>\n",
       "      <th>government</th>\n",
       "      <td>14193.0</td>\n",
       "      <td>21640.0</td>\n",
       "      <td>8766.0</td>\n",
       "    </tr>\n",
       "    <tr>\n",
       "      <th>health</th>\n",
       "      <td>5415.0</td>\n",
       "      <td>14636.0</td>\n",
       "      <td>18197.0</td>\n",
       "    </tr>\n",
       "    <tr>\n",
       "      <th>republican</th>\n",
       "      <td>2205.0</td>\n",
       "      <td>3181.0</td>\n",
       "      <td>7479.0</td>\n",
       "    </tr>\n",
       "    <tr>\n",
       "      <th>spending</th>\n",
       "      <td>9376.0</td>\n",
       "      <td>6030.0</td>\n",
       "      <td>2345.0</td>\n",
       "    </tr>\n",
       "    <tr>\n",
       "      <th>tax</th>\n",
       "      <td>13626.0</td>\n",
       "      <td>12212.0</td>\n",
       "      <td>10572.0</td>\n",
       "    </tr>\n",
       "    <tr>\n",
       "      <th>taxes</th>\n",
       "      <td>5239.0</td>\n",
       "      <td>3411.0</td>\n",
       "      <td>1574.0</td>\n",
       "    </tr>\n",
       "    <tr>\n",
       "      <th>that</th>\n",
       "      <td>146057.0</td>\n",
       "      <td>386169.0</td>\n",
       "      <td>167669.0</td>\n",
       "    </tr>\n",
       "    <tr>\n",
       "      <th>the republican</th>\n",
       "      <td>662.0</td>\n",
       "      <td>1142.0</td>\n",
       "      <td>3750.0</td>\n",
       "    </tr>\n",
       "    <tr>\n",
       "      <th>workers</th>\n",
       "      <td>965.0</td>\n",
       "      <td>3812.0</td>\n",
       "      <td>6809.0</td>\n",
       "    </tr>\n",
       "  </tbody>\n",
       "</table>\n",
       "</div>"
      ],
      "text/plain": [
       "bin                    1         2         3\n",
       "community         3463.0   10374.0   12518.0\n",
       "government       14193.0   21640.0    8766.0\n",
       "health            5415.0   14636.0   18197.0\n",
       "republican        2205.0    3181.0    7479.0\n",
       "spending          9376.0    6030.0    2345.0\n",
       "tax              13626.0   12212.0   10572.0\n",
       "taxes             5239.0    3411.0    1574.0\n",
       "that            146057.0  386169.0  167669.0\n",
       "the republican     662.0    1142.0    3750.0\n",
       "workers            965.0    3812.0    6809.0"
      ]
     },
     "execution_count": 79,
     "metadata": {},
     "output_type": "execute_result"
    }
   ],
   "source": [
    "reload(explore_data)\n",
    "explore_data.compare_ngrams(val_chunk, val_pred_probs_chunk, ngram_range=(1, 2))"
   ]
  },
  {
   "cell_type": "code",
   "execution_count": 80,
   "metadata": {},
   "outputs": [
    {
     "name": "stdout",
     "output_type": "stream",
     "text": [
      "\n",
      "Top 10 ngrams by differentiating score:\n",
      "signature the \t 19.0\n",
      "impassioned speech \t 18.6\n",
      "vietnam think \t 18.6\n",
      "paid her \t 18.3\n",
      "increasing problem \t 17.1\n",
      "million prescriptions \t 16.8\n",
      "empirical data \t 16.4\n",
      "approxi \t 15.6\n",
      "properly represented \t 15.4\n",
      "lowest percent \t 15.4\n"
     ]
    },
    {
     "data": {
      "text/html": [
       "<div>\n",
       "<style scoped>\n",
       "    .dataframe tbody tr th:only-of-type {\n",
       "        vertical-align: middle;\n",
       "    }\n",
       "\n",
       "    .dataframe tbody tr th {\n",
       "        vertical-align: top;\n",
       "    }\n",
       "\n",
       "    .dataframe thead th {\n",
       "        text-align: right;\n",
       "    }\n",
       "</style>\n",
       "<table border=\"1\" class=\"dataframe\">\n",
       "  <thead>\n",
       "    <tr style=\"text-align: right;\">\n",
       "      <th>bin</th>\n",
       "      <th>1</th>\n",
       "      <th>2</th>\n",
       "      <th>3</th>\n",
       "    </tr>\n",
       "  </thead>\n",
       "  <tbody>\n",
       "    <tr>\n",
       "      <th>approxi</th>\n",
       "      <td>7.0</td>\n",
       "      <td>1.0</td>\n",
       "      <td>3.0</td>\n",
       "    </tr>\n",
       "    <tr>\n",
       "      <th>empirical data</th>\n",
       "      <td>9.0</td>\n",
       "      <td>5.0</td>\n",
       "      <td>0.0</td>\n",
       "    </tr>\n",
       "    <tr>\n",
       "      <th>impassioned speech</th>\n",
       "      <td>5.0</td>\n",
       "      <td>0.0</td>\n",
       "      <td>0.0</td>\n",
       "    </tr>\n",
       "    <tr>\n",
       "      <th>increasing problem</th>\n",
       "      <td>9.0</td>\n",
       "      <td>6.0</td>\n",
       "      <td>0.0</td>\n",
       "    </tr>\n",
       "    <tr>\n",
       "      <th>lowest percent</th>\n",
       "      <td>6.0</td>\n",
       "      <td>1.0</td>\n",
       "      <td>1.0</td>\n",
       "    </tr>\n",
       "    <tr>\n",
       "      <th>million prescriptions</th>\n",
       "      <td>6.0</td>\n",
       "      <td>0.0</td>\n",
       "      <td>0.0</td>\n",
       "    </tr>\n",
       "    <tr>\n",
       "      <th>paid her</th>\n",
       "      <td>6.0</td>\n",
       "      <td>1.0</td>\n",
       "      <td>0.0</td>\n",
       "    </tr>\n",
       "    <tr>\n",
       "      <th>properly represented</th>\n",
       "      <td>6.0</td>\n",
       "      <td>1.0</td>\n",
       "      <td>1.0</td>\n",
       "    </tr>\n",
       "    <tr>\n",
       "      <th>signature the</th>\n",
       "      <td>12.0</td>\n",
       "      <td>8.0</td>\n",
       "      <td>1.0</td>\n",
       "    </tr>\n",
       "    <tr>\n",
       "      <th>vietnam think</th>\n",
       "      <td>5.0</td>\n",
       "      <td>0.0</td>\n",
       "      <td>0.0</td>\n",
       "    </tr>\n",
       "  </tbody>\n",
       "</table>\n",
       "</div>"
      ],
      "text/plain": [
       "bin                       1    2    3\n",
       "approxi                 7.0  1.0  3.0\n",
       "empirical data          9.0  5.0  0.0\n",
       "impassioned speech      5.0  0.0  0.0\n",
       "increasing problem      9.0  6.0  0.0\n",
       "lowest percent          6.0  1.0  1.0\n",
       "million prescriptions   6.0  0.0  0.0\n",
       "paid her                6.0  1.0  0.0\n",
       "properly represented    6.0  1.0  1.0\n",
       "signature the          12.0  8.0  1.0\n",
       "vietnam think           5.0  0.0  0.0"
      ]
     },
     "execution_count": 80,
     "metadata": {},
     "output_type": "execute_result"
    }
   ],
   "source": [
    "reload(explore_data)\n",
    "explore_data.compare_ngrams(val, val_pred_probs_aggr_chunk, ngram_range=(1, 2))"
   ]
  },
  {
   "cell_type": "code",
   "execution_count": 81,
   "metadata": {},
   "outputs": [
    {
     "data": {
      "text/plain": [
       "(101153, 101153, 101153, (101153,))"
      ]
     },
     "execution_count": 81,
     "metadata": {},
     "output_type": "execute_result"
    }
   ],
   "source": [
    "len(val_target), len(val), len(val_ids), val_pred_probs_aggr_chunk.shape"
   ]
  },
  {
   "cell_type": "code",
   "execution_count": null,
   "metadata": {},
   "outputs": [],
   "source": []
  }
 ],
 "metadata": {
  "kernelspec": {
   "display_name": "Python 3",
   "language": "python",
   "name": "python3"
  },
  "language_info": {
   "codemirror_mode": {
    "name": "ipython",
    "version": 3
   },
   "file_extension": ".py",
   "mimetype": "text/x-python",
   "name": "python",
   "nbconvert_exporter": "python",
   "pygments_lexer": "ipython3",
   "version": "3.5.2"
  }
 },
 "nbformat": 4,
 "nbformat_minor": 2
}
