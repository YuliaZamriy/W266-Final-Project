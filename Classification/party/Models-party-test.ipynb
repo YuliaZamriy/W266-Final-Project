{
 "cells": [
  {
   "cell_type": "code",
   "execution_count": 25,
   "metadata": {},
   "outputs": [
    {
     "data": {
      "text/html": [
       "<style>.container { width:100% !important; }</style>"
      ],
      "text/plain": [
       "<IPython.core.display.HTML object>"
      ]
     },
     "metadata": {},
     "output_type": "display_data"
    }
   ],
   "source": [
    "# increase cell width\n",
    "from IPython.core.display import display, HTML\n",
    "display(HTML(\"<style>.container { width:100% !important; }</style>\"))"
   ]
  },
  {
   "cell_type": "code",
   "execution_count": 26,
   "metadata": {},
   "outputs": [],
   "source": [
    "from __future__ import absolute_import\n",
    "from __future__ import division\n",
    "from __future__ import print_function\n",
    "\n",
    "import os\n",
    "import random\n",
    "import time\n",
    "import pickle\n",
    "import gc\n",
    "import re\n",
    "import itertools\n",
    "\n",
    "import numpy as np\n",
    "import pandas as pd\n",
    "\n",
    "from importlib import reload\n",
    "\n",
    "import scipy.sparse\n",
    "\n",
    "import matplotlib.pyplot as plt\n",
    "%matplotlib inline"
   ]
  },
  {
   "cell_type": "code",
   "execution_count": 27,
   "metadata": {},
   "outputs": [],
   "source": [
    "from helpers import load_data\n",
    "from helpers import explore_data\n",
    "from helpers import preprocess_data\n",
    "from helpers import train_model"
   ]
  },
  {
   "cell_type": "markdown",
   "metadata": {},
   "source": [
    "### Load validation predicted probabilities"
   ]
  },
  {
   "cell_type": "code",
   "execution_count": 28,
   "metadata": {},
   "outputs": [],
   "source": [
    "main_dir = '/tf/notebooks/'"
   ]
  },
  {
   "cell_type": "code",
   "execution_count": 29,
   "metadata": {},
   "outputs": [],
   "source": [
    "probs_path = main_dir+'final-project/Classification/data/party'"
   ]
  },
  {
   "cell_type": "code",
   "execution_count": 30,
   "metadata": {},
   "outputs": [],
   "source": [
    "test_pred_probs_mlp_ngram = np.load(os.path.join(probs_path, 'test_pred_probs_mlp_ngram.npy'))\n",
    "test_pred_probs_cnn = np.load(os.path.join(probs_path, 'test_pred_probs_cnn.npy'))\n",
    "test_pred_probs_cnn_aggr_chunk = np.load(os.path.join(probs_path, 'test_pred_probs_cnn_aggr_chunk.npy'))"
   ]
  },
  {
   "cell_type": "code",
   "execution_count": 31,
   "metadata": {},
   "outputs": [
    {
     "data": {
      "text/plain": [
       "(101154, 101154, 101154)"
      ]
     },
     "execution_count": 31,
     "metadata": {},
     "output_type": "execute_result"
    }
   ],
   "source": [
    "len(test_pred_probs_mlp_ngram), len(test_pred_probs_cnn), len(test_pred_probs_cnn_aggr_chunk)"
   ]
  },
  {
   "cell_type": "code",
   "execution_count": 32,
   "metadata": {},
   "outputs": [],
   "source": [
    "with open(os.path.join(probs_path, 'test_ids'), 'rb') as fp:\n",
    "    test_ids = pickle.load(fp)\n",
    "with open(os.path.join(probs_path, 'test_target'), 'rb') as fp:\n",
    "    test_target = pickle.load(fp)\n",
    "with open(os.path.join(probs_path, 'test_list'), 'rb') as fp:\n",
    "    test_list = pickle.load(fp)"
   ]
  },
  {
   "cell_type": "code",
   "execution_count": 33,
   "metadata": {},
   "outputs": [
    {
     "data": {
      "text/plain": [
       "(101154, 101154, 101154)"
      ]
     },
     "execution_count": 33,
     "metadata": {},
     "output_type": "execute_result"
    }
   ],
   "source": [
    "len(test_ids), len(test_target), len(test_list)"
   ]
  },
  {
   "cell_type": "code",
   "execution_count": 34,
   "metadata": {},
   "outputs": [
    {
     "data": {
      "text/plain": [
       "(106168, 17)"
      ]
     },
     "execution_count": 34,
     "metadata": {},
     "output_type": "execute_result"
    }
   ],
   "source": [
    "descr_df = pd.read_csv(main_dir+'final-project/data/QA/full_descr.txt', sep=\"|\", index_col=0)\n",
    "descr_df = descr_df.loc[np.asarray(test_ids, dtype=int)]\n",
    "descr_df.reset_index(inplace=True)\n",
    "# descr_df.drop_duplicates('speech_id', inplace=True)\n",
    "descr_df.shape"
   ]
  },
  {
   "cell_type": "code",
   "execution_count": 35,
   "metadata": {},
   "outputs": [
    {
     "data": {
      "text/plain": [
       "(101154, 5)"
      ]
     },
     "execution_count": 35,
     "metadata": {},
     "output_type": "execute_result"
    }
   ],
   "source": [
    "pred_df = pd.DataFrame({'ids': np.asarray(test_ids, dtype=np.int64), \n",
    "                        'Party_model': np.asarray(test_target, dtype=np.int), \n",
    "                        'pred_probs_mlp_ngram': test_pred_probs_mlp_ngram.flatten(), \n",
    "                        'pred_probs_cnn': test_pred_probs_cnn.flatten(),\n",
    "                        'pred_probs_cnn_chunk': test_pred_probs_cnn_aggr_chunk.flatten()})\n",
    "pred_df.shape"
   ]
  },
  {
   "cell_type": "code",
   "execution_count": 36,
   "metadata": {},
   "outputs": [
    {
     "data": {
      "text/plain": [
       "(101154, 23)"
      ]
     },
     "execution_count": 36,
     "metadata": {},
     "output_type": "execute_result"
    }
   ],
   "source": [
    "descr_pred_df = descr_df.merge(pred_df, left_on='speech_id', right_on='ids')\n",
    "descr_pred_df.drop_duplicates(['speech_id'], inplace=True)\n",
    "descr_pred_df.reset_index(inplace=True)\n",
    "descr_pred_df.shape"
   ]
  },
  {
   "cell_type": "code",
   "execution_count": 37,
   "metadata": {},
   "outputs": [
    {
     "data": {
      "text/plain": [
       "1    53825\n",
       "0    47329\n",
       "Name: Party_model, dtype: int64"
      ]
     },
     "execution_count": 37,
     "metadata": {},
     "output_type": "execute_result"
    }
   ],
   "source": [
    "descr_pred_df.Party_model.value_counts()"
   ]
  },
  {
   "cell_type": "code",
   "execution_count": 38,
   "metadata": {},
   "outputs": [
    {
     "data": {
      "text/html": [
       "<div>\n",
       "<style scoped>\n",
       "    .dataframe tbody tr th:only-of-type {\n",
       "        vertical-align: middle;\n",
       "    }\n",
       "\n",
       "    .dataframe tbody tr th {\n",
       "        vertical-align: top;\n",
       "    }\n",
       "\n",
       "    .dataframe thead th {\n",
       "        text-align: right;\n",
       "    }\n",
       "</style>\n",
       "<table border=\"1\" class=\"dataframe\">\n",
       "  <thead>\n",
       "    <tr style=\"text-align: right;\">\n",
       "      <th>Party_model</th>\n",
       "      <th>0</th>\n",
       "      <th>1</th>\n",
       "    </tr>\n",
       "    <tr>\n",
       "      <th>Party</th>\n",
       "      <th></th>\n",
       "      <th></th>\n",
       "    </tr>\n",
       "  </thead>\n",
       "  <tbody>\n",
       "    <tr>\n",
       "      <th>D</th>\n",
       "      <td>386</td>\n",
       "      <td>53468</td>\n",
       "    </tr>\n",
       "    <tr>\n",
       "      <th>I</th>\n",
       "      <td>0</td>\n",
       "      <td>1</td>\n",
       "    </tr>\n",
       "    <tr>\n",
       "      <th>R</th>\n",
       "      <td>46943</td>\n",
       "      <td>356</td>\n",
       "    </tr>\n",
       "  </tbody>\n",
       "</table>\n",
       "</div>"
      ],
      "text/plain": [
       "Party_model      0      1\n",
       "Party                    \n",
       "D              386  53468\n",
       "I                0      1\n",
       "R            46943    356"
      ]
     },
     "execution_count": 38,
     "metadata": {},
     "output_type": "execute_result"
    }
   ],
   "source": [
    "pd.crosstab(descr_pred_df.Party, descr_pred_df.Party_model)"
   ]
  },
  {
   "cell_type": "code",
   "execution_count": 39,
   "metadata": {},
   "outputs": [],
   "source": [
    "party_dummy = []\n",
    "for p in range(descr_pred_df.shape[0]):\n",
    "    if descr_pred_df.Party[p] == 'D':\n",
    "        party_dummy.append(1)\n",
    "    else:\n",
    "        party_dummy.append(0)\n",
    "len(party_dummy)\n",
    "descr_pred_df['Party_dummy'] = party_dummy"
   ]
  },
  {
   "cell_type": "code",
   "execution_count": 40,
   "metadata": {},
   "outputs": [],
   "source": [
    "preds = [\n",
    "    'pred_probs_mlp_ngram',\n",
    "    'pred_probs_cnn', \n",
    "    'pred_probs_cnn_chunk'\n",
    "]"
   ]
  },
  {
   "cell_type": "code",
   "execution_count": 41,
   "metadata": {},
   "outputs": [
    {
     "data": {
      "text/html": [
       "<div>\n",
       "<style scoped>\n",
       "    .dataframe tbody tr th:only-of-type {\n",
       "        vertical-align: middle;\n",
       "    }\n",
       "\n",
       "    .dataframe tbody tr th {\n",
       "        vertical-align: top;\n",
       "    }\n",
       "\n",
       "    .dataframe thead th {\n",
       "        text-align: right;\n",
       "    }\n",
       "</style>\n",
       "<table border=\"1\" class=\"dataframe\">\n",
       "  <thead>\n",
       "    <tr style=\"text-align: right;\">\n",
       "      <th></th>\n",
       "      <th>pred_probs_mlp_ngram</th>\n",
       "      <th>pred_probs_cnn</th>\n",
       "      <th>pred_probs_cnn_chunk</th>\n",
       "    </tr>\n",
       "    <tr>\n",
       "      <th>Party</th>\n",
       "      <th></th>\n",
       "      <th></th>\n",
       "      <th></th>\n",
       "    </tr>\n",
       "  </thead>\n",
       "  <tbody>\n",
       "    <tr>\n",
       "      <th>D</th>\n",
       "      <td>0.632407</td>\n",
       "      <td>0.609240</td>\n",
       "      <td>0.574856</td>\n",
       "    </tr>\n",
       "    <tr>\n",
       "      <th>I</th>\n",
       "      <td>0.515586</td>\n",
       "      <td>0.575303</td>\n",
       "      <td>0.553232</td>\n",
       "    </tr>\n",
       "    <tr>\n",
       "      <th>R</th>\n",
       "      <td>0.387195</td>\n",
       "      <td>0.419822</td>\n",
       "      <td>0.484470</td>\n",
       "    </tr>\n",
       "  </tbody>\n",
       "</table>\n",
       "</div>"
      ],
      "text/plain": [
       "       pred_probs_mlp_ngram  pred_probs_cnn  pred_probs_cnn_chunk\n",
       "Party                                                            \n",
       "D                  0.632407        0.609240              0.574856\n",
       "I                  0.515586        0.575303              0.553232\n",
       "R                  0.387195        0.419822              0.484470"
      ]
     },
     "execution_count": 41,
     "metadata": {},
     "output_type": "execute_result"
    }
   ],
   "source": [
    "descr_pred_df[preds+['Party']].groupby('Party').mean()"
   ]
  },
  {
   "cell_type": "code",
   "execution_count": 42,
   "metadata": {},
   "outputs": [
    {
     "data": {
      "text/html": [
       "<div>\n",
       "<style scoped>\n",
       "    .dataframe tbody tr th:only-of-type {\n",
       "        vertical-align: middle;\n",
       "    }\n",
       "\n",
       "    .dataframe tbody tr th {\n",
       "        vertical-align: top;\n",
       "    }\n",
       "\n",
       "    .dataframe thead th {\n",
       "        text-align: right;\n",
       "    }\n",
       "</style>\n",
       "<table border=\"1\" class=\"dataframe\">\n",
       "  <thead>\n",
       "    <tr style=\"text-align: right;\">\n",
       "      <th></th>\n",
       "      <th>pred_probs_mlp_ngram</th>\n",
       "      <th>pred_probs_cnn</th>\n",
       "      <th>pred_probs_cnn_chunk</th>\n",
       "    </tr>\n",
       "    <tr>\n",
       "      <th>Party_dummy</th>\n",
       "      <th></th>\n",
       "      <th></th>\n",
       "      <th></th>\n",
       "    </tr>\n",
       "  </thead>\n",
       "  <tbody>\n",
       "    <tr>\n",
       "      <th>0</th>\n",
       "      <td>0.387198</td>\n",
       "      <td>0.419825</td>\n",
       "      <td>0.484472</td>\n",
       "    </tr>\n",
       "    <tr>\n",
       "      <th>1</th>\n",
       "      <td>0.632407</td>\n",
       "      <td>0.609240</td>\n",
       "      <td>0.574856</td>\n",
       "    </tr>\n",
       "  </tbody>\n",
       "</table>\n",
       "</div>"
      ],
      "text/plain": [
       "             pred_probs_mlp_ngram  pred_probs_cnn  pred_probs_cnn_chunk\n",
       "Party_dummy                                                            \n",
       "0                        0.387198        0.419825              0.484472\n",
       "1                        0.632407        0.609240              0.574856"
      ]
     },
     "execution_count": 42,
     "metadata": {},
     "output_type": "execute_result"
    }
   ],
   "source": [
    "descr_pred_df[preds+['Party_dummy']].groupby('Party_dummy').mean()"
   ]
  },
  {
   "cell_type": "code",
   "execution_count": 43,
   "metadata": {},
   "outputs": [
    {
     "data": {
      "text/plain": [
       "0.6977084445498942"
      ]
     },
     "execution_count": 43,
     "metadata": {},
     "output_type": "execute_result"
    }
   ],
   "source": [
    "descr_pred_df['pred_probs_combo'] = descr_pred_df[preds].mean(axis=1)\n",
    "descr_pred_df['pred_combo'] = descr_pred_df['pred_probs_combo'] > 0.5\n",
    "np.mean(test_target==descr_pred_df['pred_combo'].values.flatten())"
   ]
  },
  {
   "cell_type": "markdown",
   "metadata": {},
   "source": [
    "### Save the main dataframe"
   ]
  },
  {
   "cell_type": "code",
   "execution_count": 44,
   "metadata": {},
   "outputs": [],
   "source": [
    "keep_cols = ['speech_id',\n",
    " 'date',\n",
    " 'char_count',\n",
    " 'word_count',\n",
    " 'speakerid',\n",
    " 'Party',\n",
    " 'Congress',\n",
    " 'Chamber',\n",
    " 'State',\n",
    " 'Ethnicity',\n",
    " 'Age',\n",
    " 'Age_lt_med',\n",
    " 'NonWhite',\n",
    " 'Female',\n",
    " 'speaker',\n",
    " 'Full Name',\n",
    " 'match',\n",
    " 'ids',\n",
    " 'pred_probs_combo',\n",
    " 'pred_combo']"
   ]
  },
  {
   "cell_type": "code",
   "execution_count": 45,
   "metadata": {},
   "outputs": [],
   "source": [
    "descr_pred_df[keep_cols].to_pickle(os.path.join(probs_path, 'test_party_preds.pkl'))"
   ]
  },
  {
   "cell_type": "markdown",
   "metadata": {},
   "source": [
    "### Evaluating final predictions"
   ]
  },
  {
   "cell_type": "code",
   "execution_count": 46,
   "metadata": {},
   "outputs": [],
   "source": [
    "classes = ['Republican', 'Democrat']"
   ]
  },
  {
   "cell_type": "code",
   "execution_count": 47,
   "metadata": {
    "scrolled": false
   },
   "outputs": [
    {
     "name": "stdout",
     "output_type": "stream",
     "text": [
      "Confusion matrix, without normalization\n",
      "[[30919 16410]\n",
      " [14168 39657]]\n",
      "              precision    recall  f1-score   support\n",
      "\n",
      "  Republican       0.69      0.65      0.67     47329\n",
      "    Democrat       0.71      0.74      0.72     53825\n",
      "\n",
      "   micro avg       0.70      0.70      0.70    101154\n",
      "   macro avg       0.70      0.70      0.70    101154\n",
      "weighted avg       0.70      0.70      0.70    101154\n",
      "\n"
     ]
    },
    {
     "data": {
      "text/plain": [
       "<matplotlib.axes._subplots.AxesSubplot at 0x7fca0529c6a0>"
      ]
     },
     "execution_count": 47,
     "metadata": {},
     "output_type": "execute_result"
    },
    {
     "data": {
      "image/png": "[encoded data removed]",
      "text/plain": [
       "<Figure size 432x288 with 2 Axes>"
      ]
     },
     "metadata": {
      "needs_background": "light"
     },
     "output_type": "display_data"
    }
   ],
   "source": [
    "explore_data.plot_confusion_matrix(test_target, descr_pred_df['pred_combo'], classes, normalize=True)"
   ]
  },
  {
   "cell_type": "code",
   "execution_count": 48,
   "metadata": {},
   "outputs": [
    {
     "data": {
      "image/png": "[encoded data removed]",
      "text/plain": [
       "<Figure size 720x720 with 2 Axes>"
      ]
     },
     "metadata": {
      "needs_background": "light"
     },
     "output_type": "display_data"
    }
   ],
   "source": [
    "explore_data.plot_calibration_curve(test_target, descr_pred_df['pred_probs_combo'], 'Party')"
   ]
  },
  {
   "cell_type": "code",
   "execution_count": 49,
   "metadata": {},
   "outputs": [
    {
     "name": "stdout",
     "output_type": "stream",
     "text": [
      "Validation sample means:\n",
      "      Gender_F  Ethinicity_NW     AvgAge   Party_D  Chamber_H  AvgWordCount\n",
      "base  0.092033       0.098787  57.688823  0.529039     0.6062     381.44163\n"
     ]
    },
    {
     "data": {
      "text/html": [
       "<div>\n",
       "<style scoped>\n",
       "    .dataframe tbody tr th:only-of-type {\n",
       "        vertical-align: middle;\n",
       "    }\n",
       "\n",
       "    .dataframe tbody tr th {\n",
       "        vertical-align: top;\n",
       "    }\n",
       "\n",
       "    .dataframe thead th {\n",
       "        text-align: right;\n",
       "    }\n",
       "</style>\n",
       "<table border=\"1\" class=\"dataframe\">\n",
       "  <thead>\n",
       "    <tr style=\"text-align: right;\">\n",
       "      <th></th>\n",
       "      <th>Gender_F</th>\n",
       "      <th>Ethinicity_NW</th>\n",
       "      <th>AvgAge</th>\n",
       "      <th>Party_D</th>\n",
       "      <th>Chamber_H</th>\n",
       "      <th>AvgWordCount</th>\n",
       "    </tr>\n",
       "  </thead>\n",
       "  <tbody>\n",
       "    <tr>\n",
       "      <th>0.4</th>\n",
       "      <td>0.60</td>\n",
       "      <td>0.46</td>\n",
       "      <td>0.98</td>\n",
       "      <td>0.35</td>\n",
       "      <td>1.00</td>\n",
       "      <td>1.17</td>\n",
       "    </tr>\n",
       "    <tr>\n",
       "      <th>0.6</th>\n",
       "      <td>0.79</td>\n",
       "      <td>0.80</td>\n",
       "      <td>1.00</td>\n",
       "      <td>0.95</td>\n",
       "      <td>0.95</td>\n",
       "      <td>0.79</td>\n",
       "    </tr>\n",
       "    <tr>\n",
       "      <th>1.0</th>\n",
       "      <td>1.62</td>\n",
       "      <td>1.71</td>\n",
       "      <td>1.01</td>\n",
       "      <td>1.54</td>\n",
       "      <td>1.07</td>\n",
       "      <td>1.21</td>\n",
       "    </tr>\n",
       "  </tbody>\n",
       "</table>\n",
       "</div>"
      ],
      "text/plain": [
       "     Gender_F  Ethinicity_NW  AvgAge  Party_D  Chamber_H  AvgWordCount\n",
       "0.4      0.60           0.46    0.98     0.35       1.00          1.17\n",
       "0.6      0.79           0.80    1.00     0.95       0.95          0.79\n",
       "1.0      1.62           1.71    1.01     1.54       1.07          1.21"
      ]
     },
     "execution_count": 49,
     "metadata": {},
     "output_type": "execute_result"
    }
   ],
   "source": [
    "reload(explore_data)\n",
    "# checking the ratios of demo variables in low-mid-high probability buckets\n",
    "explore_data.check_bin_probs_distr(descr_pred_df['pred_probs_combo'], \n",
    "                                   test_ids, \n",
    "                                   descr_df.set_index('speech_id'))"
   ]
  },
  {
   "cell_type": "code",
   "execution_count": 50,
   "metadata": {},
   "outputs": [
    {
     "name": "stdout",
     "output_type": "stream",
     "text": [
      "\n",
      "Top 20 ngrams by differentiating score:\n"
     ]
    },
    {
     "data": {
      "text/html": [
       "<div>\n",
       "<style scoped>\n",
       "    .dataframe tbody tr th:only-of-type {\n",
       "        vertical-align: middle;\n",
       "    }\n",
       "\n",
       "    .dataframe tbody tr th {\n",
       "        vertical-align: top;\n",
       "    }\n",
       "\n",
       "    .dataframe thead th {\n",
       "        text-align: right;\n",
       "    }\n",
       "</style>\n",
       "<table border=\"1\" class=\"dataframe\">\n",
       "  <thead>\n",
       "    <tr style=\"text-align: right;\">\n",
       "      <th></th>\n",
       "      <th>ngram</th>\n",
       "      <th>&lt;0.4</th>\n",
       "      <th>&lt;0.6</th>\n",
       "      <th>&lt;1.0</th>\n",
       "      <th>score</th>\n",
       "    </tr>\n",
       "  </thead>\n",
       "  <tbody>\n",
       "    <tr>\n",
       "      <th>0</th>\n",
       "      <td>republican</td>\n",
       "      <td>2251.0</td>\n",
       "      <td>2610.0</td>\n",
       "      <td>8080.0</td>\n",
       "      <td>855.0</td>\n",
       "    </tr>\n",
       "    <tr>\n",
       "      <th>1</th>\n",
       "      <td>spending</td>\n",
       "      <td>9487.0</td>\n",
       "      <td>4192.0</td>\n",
       "      <td>4302.0</td>\n",
       "      <td>792.0</td>\n",
       "    </tr>\n",
       "    <tr>\n",
       "      <th>2</th>\n",
       "      <td>taxes</td>\n",
       "      <td>6293.0</td>\n",
       "      <td>2264.0</td>\n",
       "      <td>2269.0</td>\n",
       "      <td>731.0</td>\n",
       "    </tr>\n",
       "    <tr>\n",
       "      <th>3</th>\n",
       "      <td>families</td>\n",
       "      <td>3938.0</td>\n",
       "      <td>4391.0</td>\n",
       "      <td>9428.0</td>\n",
       "      <td>720.0</td>\n",
       "    </tr>\n",
       "    <tr>\n",
       "      <th>4</th>\n",
       "      <td>women</td>\n",
       "      <td>2571.0</td>\n",
       "      <td>4734.0</td>\n",
       "      <td>9729.0</td>\n",
       "      <td>496.0</td>\n",
       "    </tr>\n",
       "    <tr>\n",
       "      <th>5</th>\n",
       "      <td>lives</td>\n",
       "      <td>2279.0</td>\n",
       "      <td>3772.0</td>\n",
       "      <td>5480.0</td>\n",
       "      <td>495.0</td>\n",
       "    </tr>\n",
       "    <tr>\n",
       "      <th>6</th>\n",
       "      <td>spend</td>\n",
       "      <td>3255.0</td>\n",
       "      <td>2036.0</td>\n",
       "      <td>1877.0</td>\n",
       "      <td>493.0</td>\n",
       "    </tr>\n",
       "    <tr>\n",
       "      <th>7</th>\n",
       "      <td>republicans</td>\n",
       "      <td>1914.0</td>\n",
       "      <td>1475.0</td>\n",
       "      <td>4641.0</td>\n",
       "      <td>488.0</td>\n",
       "    </tr>\n",
       "    <tr>\n",
       "      <th>8</th>\n",
       "      <td>tax</td>\n",
       "      <td>15531.0</td>\n",
       "      <td>8771.0</td>\n",
       "      <td>12679.0</td>\n",
       "      <td>450.0</td>\n",
       "    </tr>\n",
       "    <tr>\n",
       "      <th>9</th>\n",
       "      <td>education</td>\n",
       "      <td>4113.0</td>\n",
       "      <td>6138.0</td>\n",
       "      <td>11399.0</td>\n",
       "      <td>430.0</td>\n",
       "    </tr>\n",
       "    <tr>\n",
       "      <th>10</th>\n",
       "      <td>cuts</td>\n",
       "      <td>1884.0</td>\n",
       "      <td>1806.0</td>\n",
       "      <td>5405.0</td>\n",
       "      <td>428.0</td>\n",
       "    </tr>\n",
       "    <tr>\n",
       "      <th>11</th>\n",
       "      <td>things</td>\n",
       "      <td>5243.0</td>\n",
       "      <td>4960.0</td>\n",
       "      <td>4120.0</td>\n",
       "      <td>425.0</td>\n",
       "    </tr>\n",
       "    <tr>\n",
       "      <th>12</th>\n",
       "      <td>democrat</td>\n",
       "      <td>1359.0</td>\n",
       "      <td>546.0</td>\n",
       "      <td>407.0</td>\n",
       "      <td>421.0</td>\n",
       "    </tr>\n",
       "    <tr>\n",
       "      <th>13</th>\n",
       "      <td>across</td>\n",
       "      <td>2791.0</td>\n",
       "      <td>3332.0</td>\n",
       "      <td>4690.0</td>\n",
       "      <td>412.0</td>\n",
       "    </tr>\n",
       "    <tr>\n",
       "      <th>14</th>\n",
       "      <td>economy</td>\n",
       "      <td>4341.0</td>\n",
       "      <td>3829.0</td>\n",
       "      <td>6359.0</td>\n",
       "      <td>407.0</td>\n",
       "    </tr>\n",
       "    <tr>\n",
       "      <th>15</th>\n",
       "      <td>workers</td>\n",
       "      <td>1700.0</td>\n",
       "      <td>2834.0</td>\n",
       "      <td>7089.0</td>\n",
       "      <td>400.0</td>\n",
       "    </tr>\n",
       "    <tr>\n",
       "      <th>16</th>\n",
       "      <td>communities</td>\n",
       "      <td>1718.0</td>\n",
       "      <td>2963.0</td>\n",
       "      <td>5088.0</td>\n",
       "      <td>396.0</td>\n",
       "    </tr>\n",
       "    <tr>\n",
       "      <th>17</th>\n",
       "      <td>millions</td>\n",
       "      <td>1512.0</td>\n",
       "      <td>1820.0</td>\n",
       "      <td>3169.0</td>\n",
       "      <td>396.0</td>\n",
       "    </tr>\n",
       "    <tr>\n",
       "      <th>18</th>\n",
       "      <td>actually</td>\n",
       "      <td>3051.0</td>\n",
       "      <td>2587.0</td>\n",
       "      <td>2283.0</td>\n",
       "      <td>383.0</td>\n",
       "    </tr>\n",
       "    <tr>\n",
       "      <th>19</th>\n",
       "      <td>lot</td>\n",
       "      <td>4392.0</td>\n",
       "      <td>4026.0</td>\n",
       "      <td>3369.0</td>\n",
       "      <td>372.0</td>\n",
       "    </tr>\n",
       "  </tbody>\n",
       "</table>\n",
       "</div>"
      ],
      "text/plain": [
       "          ngram     <0.4    <0.6     <1.0  score\n",
       "0    republican   2251.0  2610.0   8080.0  855.0\n",
       "1      spending   9487.0  4192.0   4302.0  792.0\n",
       "2         taxes   6293.0  2264.0   2269.0  731.0\n",
       "3      families   3938.0  4391.0   9428.0  720.0\n",
       "4         women   2571.0  4734.0   9729.0  496.0\n",
       "5         lives   2279.0  3772.0   5480.0  495.0\n",
       "6         spend   3255.0  2036.0   1877.0  493.0\n",
       "7   republicans   1914.0  1475.0   4641.0  488.0\n",
       "8           tax  15531.0  8771.0  12679.0  450.0\n",
       "9     education   4113.0  6138.0  11399.0  430.0\n",
       "10         cuts   1884.0  1806.0   5405.0  428.0\n",
       "11       things   5243.0  4960.0   4120.0  425.0\n",
       "12     democrat   1359.0   546.0    407.0  421.0\n",
       "13       across   2791.0  3332.0   4690.0  412.0\n",
       "14      economy   4341.0  3829.0   6359.0  407.0\n",
       "15      workers   1700.0  2834.0   7089.0  400.0\n",
       "16  communities   1718.0  2963.0   5088.0  396.0\n",
       "17     millions   1512.0  1820.0   3169.0  396.0\n",
       "18     actually   3051.0  2587.0   2283.0  383.0\n",
       "19          lot   4392.0  4026.0   3369.0  372.0"
      ]
     },
     "execution_count": 50,
     "metadata": {},
     "output_type": "execute_result"
    }
   ],
   "source": [
    "reload(explore_data)\n",
    "explore_data.compare_ngrams(test_list, descr_pred_df['pred_probs_combo'], \n",
    "                            ngram_range=(1, 1),\n",
    "                            top_k=20)"
   ]
  },
  {
   "cell_type": "markdown",
   "metadata": {},
   "source": [
    "## Congressperson level analysis"
   ]
  },
  {
   "cell_type": "code",
   "execution_count": 51,
   "metadata": {},
   "outputs": [
    {
     "data": {
      "text/plain": [
       "(1778, 9)"
      ]
     },
     "execution_count": 51,
     "metadata": {},
     "output_type": "execute_result"
    }
   ],
   "source": [
    "speaker_df = descr_pred_df[['Full Name', 'Party_dummy', 'State', 'Female', 'NonWhite', 'Age', 'pred_probs_combo']]\\\n",
    "                .groupby(['Full Name', 'Party_dummy', 'State', 'Female', 'NonWhite'])\\\n",
    "                .agg({'pred_probs_combo':['mean', 'count'], 'Age': ['mean']})\\\n",
    "                .reset_index()\n",
    "speaker_df.columns = ['_'.join(col) for col in speaker_df.columns]\n",
    "speaker_df['Party_pred_'] = speaker_df.pred_probs_combo_mean > 0.5\n",
    "speaker_df.shape"
   ]
  },
  {
   "cell_type": "code",
   "execution_count": 52,
   "metadata": {},
   "outputs": [
    {
     "name": "stdout",
     "output_type": "stream",
     "text": [
      "Confusion matrix, without normalization\n",
      "[[728 167]\n",
      " [ 61 822]]\n",
      "              precision    recall  f1-score   support\n",
      "\n",
      "  Republican       0.92      0.81      0.86       895\n",
      "    Democrat       0.83      0.93      0.88       883\n",
      "\n",
      "   micro avg       0.87      0.87      0.87      1778\n",
      "   macro avg       0.88      0.87      0.87      1778\n",
      "weighted avg       0.88      0.87      0.87      1778\n",
      "\n"
     ]
    },
    {
     "data": {
      "text/plain": [
       "<matplotlib.axes._subplots.AxesSubplot at 0x7fca06e77e10>"
      ]
     },
     "execution_count": 52,
     "metadata": {},
     "output_type": "execute_result"
    },
    {
     "data": {
      "image/png": "[encoded data removed]",
      "text/plain": [
       "<Figure size 432x288 with 2 Axes>"
      ]
     },
     "metadata": {
      "needs_background": "light"
     },
     "output_type": "display_data"
    }
   ],
   "source": [
    "explore_data.plot_confusion_matrix(speaker_df.Party_dummy_, speaker_df.Party_pred_, classes, normalize=True)"
   ]
  },
  {
   "cell_type": "code",
   "execution_count": 53,
   "metadata": {},
   "outputs": [
    {
     "data": {
      "text/plain": [
       "26.0"
      ]
     },
     "execution_count": 53,
     "metadata": {},
     "output_type": "execute_result"
    }
   ],
   "source": [
    "speaker_df.pred_probs_combo_count.median()"
   ]
  },
  {
   "cell_type": "code",
   "execution_count": 54,
   "metadata": {},
   "outputs": [
    {
     "data": {
      "text/plain": [
       "(871, 9)"
      ]
     },
     "execution_count": 54,
     "metadata": {},
     "output_type": "execute_result"
    }
   ],
   "source": [
    "speaker_med_df = speaker_df[speaker_df.pred_probs_combo_count > speaker_df.pred_probs_combo_count.median()]\n",
    "speaker_med_df.shape"
   ]
  },
  {
   "cell_type": "code",
   "execution_count": 55,
   "metadata": {},
   "outputs": [
    {
     "name": "stdout",
     "output_type": "stream",
     "text": [
      "Confusion matrix, without normalization\n",
      "[[358  57]\n",
      " [  7 449]]\n",
      "              precision    recall  f1-score   support\n",
      "\n",
      "  Republican       0.98      0.86      0.92       415\n",
      "    Democrat       0.89      0.98      0.93       456\n",
      "\n",
      "   micro avg       0.93      0.93      0.93       871\n",
      "   macro avg       0.93      0.92      0.93       871\n",
      "weighted avg       0.93      0.93      0.93       871\n",
      "\n"
     ]
    },
    {
     "data": {
      "text/plain": [
       "<matplotlib.axes._subplots.AxesSubplot at 0x7fca070f05f8>"
      ]
     },
     "execution_count": 55,
     "metadata": {},
     "output_type": "execute_result"
    },
    {
     "data": {
      "image/png": "[encoded data removed]",
      "text/plain": [
       "<Figure size 432x288 with 2 Axes>"
      ]
     },
     "metadata": {
      "needs_background": "light"
     },
     "output_type": "display_data"
    }
   ],
   "source": [
    "explore_data.plot_confusion_matrix(speaker_med_df.Party_dummy_, speaker_med_df.Party_pred_, classes, normalize=True)"
   ]
  },
  {
   "cell_type": "code",
   "execution_count": 56,
   "metadata": {},
   "outputs": [
    {
     "data": {
      "text/plain": [
       "Full Name_                PERLMUTTER, ED\n",
       "Party_dummy_                           1\n",
       "State_                                CO\n",
       "Female_                                0\n",
       "NonWhite_                              0\n",
       "Age_mean                         58.9785\n",
       "pred_probs_combo_mean           0.829016\n",
       "pred_probs_combo_count                93\n",
       "Party_pred_                         True\n",
       "Name: 1289, dtype: object"
      ]
     },
     "execution_count": 56,
     "metadata": {},
     "output_type": "execute_result"
    }
   ],
   "source": [
    "tp = np.argmax(speaker_med_df[speaker_med_df.Party_dummy_==1].pred_probs_combo_mean.values)\n",
    "speaker_med_df[speaker_med_df.Party_dummy_==1].iloc[tp]"
   ]
  },
  {
   "cell_type": "code",
   "execution_count": 57,
   "metadata": {},
   "outputs": [
    {
     "data": {
      "text/plain": [
       "Full Name_                GRAVES, SAM\n",
       "Party_dummy_                        0\n",
       "State_                             MO\n",
       "Female_                             0\n",
       "NonWhite_                           0\n",
       "Age_mean                       45.885\n",
       "pred_probs_combo_mean         0.10719\n",
       "pred_probs_combo_count            113\n",
       "Party_pred_                     False\n",
       "Name: 665, dtype: object"
      ]
     },
     "execution_count": 57,
     "metadata": {},
     "output_type": "execute_result"
    }
   ],
   "source": [
    "tn = np.argmin(speaker_med_df[speaker_med_df.Party_dummy_==0].pred_probs_combo_mean.values)\n",
    "speaker_med_df[speaker_med_df.Party_dummy_==0].iloc[tn]"
   ]
  },
  {
   "cell_type": "code",
   "execution_count": 58,
   "metadata": {},
   "outputs": [
    {
     "data": {
      "text/plain": [
       "Full Name_                CAPITO, SHELLEY\n",
       "Party_dummy_                            0\n",
       "State_                                 WV\n",
       "Female_                                 1\n",
       "NonWhite_                               0\n",
       "Age_mean                          55.7442\n",
       "pred_probs_combo_mean            0.601958\n",
       "pred_probs_combo_count                 43\n",
       "Party_pred_                          True\n",
       "Name: 252, dtype: object"
      ]
     },
     "execution_count": 58,
     "metadata": {},
     "output_type": "execute_result"
    }
   ],
   "source": [
    "fp = np.argmax(speaker_med_df[speaker_med_df.Party_dummy_==0].pred_probs_combo_mean.values)\n",
    "speaker_med_df[speaker_med_df.Party_dummy_==0].iloc[fp]"
   ]
  },
  {
   "cell_type": "code",
   "execution_count": 59,
   "metadata": {},
   "outputs": [
    {
     "data": {
      "text/plain": [
       "Full Name_                RAY, RICHARD\n",
       "Party_dummy_                         1\n",
       "State_                              GA\n",
       "Female_                              0\n",
       "NonWhite_                            0\n",
       "Age_mean                       61.6452\n",
       "pred_probs_combo_mean         0.459825\n",
       "pred_probs_combo_count              31\n",
       "Party_pred_                      False\n",
       "Name: 1347, dtype: object"
      ]
     },
     "execution_count": 59,
     "metadata": {},
     "output_type": "execute_result"
    }
   ],
   "source": [
    "fn = np.argmin(speaker_med_df[speaker_med_df.Party_dummy_==1].pred_probs_combo_mean.values)\n",
    "speaker_med_df[speaker_med_df.Party_dummy_==1].iloc[fn]"
   ]
  },
  {
   "cell_type": "markdown",
   "metadata": {},
   "source": [
    "## Congress level analysis"
   ]
  },
  {
   "cell_type": "code",
   "execution_count": 60,
   "metadata": {},
   "outputs": [
    {
     "data": {
      "text/plain": [
       "(18, 5)"
      ]
     },
     "execution_count": 60,
     "metadata": {},
     "output_type": "execute_result"
    }
   ],
   "source": [
    "congress_df = descr_pred_df[['Congress', 'Party_dummy', 'pred_probs_combo', 'pred_combo']]\\\n",
    "                .groupby('Congress')\\\n",
    "                .agg({'Party_dummy': ['mean', 'sum'], 'pred_combo': ['mean']})\\\n",
    "                .reset_index()\n",
    "congress_df.columns = ['_'.join(col) for col in congress_df.columns]\n",
    "congress_df['Prediction_balance'] = congress_df.pred_combo_mean / congress_df.Party_dummy_mean\n",
    "congress_df.shape"
   ]
  },
  {
   "cell_type": "code",
   "execution_count": 61,
   "metadata": {},
   "outputs": [
    {
     "data": {
      "image/png": "[encoded data removed]",
      "text/plain": [
       "<Figure size 720x360 with 2 Axes>"
      ]
     },
     "metadata": {
      "needs_background": "light"
     },
     "output_type": "display_data"
    }
   ],
   "source": [
    "fig, ax1 = plt.subplots(figsize=(10, 5))\n",
    "\n",
    "color = 'tab:red'\n",
    "ax1.set_xlabel('Congress')\n",
    "ax1.set_ylabel('Democrat speech counts', color=color)\n",
    "ax1.plot(congress_df.Congress_, congress_df.Party_dummy_sum, color=color)\n",
    "ax1.tick_params(axis='y', labelcolor=color)\n",
    "\n",
    "ax2 = ax1.twinx()  # instantiate a second axes that shares the same x-axis\n",
    "\n",
    "color = 'tab:blue'\n",
    "ax2.set_ylabel('Predicted / Actual', color=color)  # we already handled the x-label with ax1\n",
    "ax2.plot(congress_df.Congress_, congress_df.Prediction_balance, color=color)\n",
    "ax2.tick_params(axis='y', labelcolor=color)\n",
    "\n",
    "ax2.hlines(y=1,xmin=97,xmax=114, color=color, linestyles='dashed')\n",
    "\n",
    "fig.tight_layout()  # otherwise the right y-label is slightly clipped\n",
    "plt.xticks(range(97,115))\n",
    "plt.show()"
   ]
  },
  {
   "cell_type": "code",
   "execution_count": null,
   "metadata": {},
   "outputs": [],
   "source": []
  }
 ],
 "metadata": {
  "kernelspec": {
   "display_name": "Python 3",
   "language": "python",
   "name": "python3"
  },
  "language_info": {
   "codemirror_mode": {
    "name": "ipython",
    "version": 3
   },
   "file_extension": ".py",
   "mimetype": "text/x-python",
   "name": "python",
   "nbconvert_exporter": "python",
   "pygments_lexer": "ipython3",
   "version": "3.5.2"
  }
 },
 "nbformat": 4,
 "nbformat_minor": 2
}
