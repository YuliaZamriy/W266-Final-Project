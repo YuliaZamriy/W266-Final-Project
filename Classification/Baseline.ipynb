{
 "cells": [
  {
   "cell_type": "code",
   "execution_count": 1,
   "metadata": {},
   "outputs": [
    {
     "data": {
      "text/html": [
       "<style>.container { width:100% !important; }</style>"
      ],
      "text/plain": [
       "<IPython.core.display.HTML object>"
      ]
     },
     "metadata": {},
     "output_type": "display_data"
    }
   ],
   "source": [
    "# increase cell width\n",
    "from IPython.core.display import display, HTML\n",
    "display(HTML(\"<style>.container { width:100% !important; }</style>\"))"
   ]
  },
  {
   "cell_type": "markdown",
   "metadata": {},
   "source": [
    "## TODO:\n",
    "\n",
    "1. Data: \n",
    "    - **done** create script to combine all congresses\n",
    "    - **done** create a party and chamber lists for addtional support\n",
    "    - **done** create congress number list\n",
    "\n",
    "2. Train/Val/Test split:\n",
    "    - Put into a separate module\n",
    "    - Add an option to select a party or chapter\n",
    "    - Split train/val/test by congress to avoid time bias\n",
    "    - Play with hyperparameters:\n",
    "        - word_count\n",
    "        - random_splits: allocate more to training?\n",
    "        - increase balance ratio?\n",
    "\n",
    "3. EDA:\n",
    "    - Targets by party: should we run gender/ethnicity on Ds only?\n",
    "\n",
    "4. Vectorization:\n",
    "    - Tune hyper parameters:\n",
    "        - ngram_range: 1, 3\n",
    "        - change vocabulary size\n",
    "    - Add outputs:\n",
    "        - stop words\n",
    "        - lowest scoring words\n",
    "        - top 5/bottom 5 by congress\n",
    "\n",
    "5. Ngram model:\n",
    "    - Tune hyper parameters:\n",
    "        - use GridSearch?\n",
    "        - activation function\n",
    "        - learning rate\n",
    "        - batch size\n",
    "        - layers\n",
    "        - units\n",
    "        - dropout rate\n",
    "        - any other regularization (there is significant overfit)\n",
    "    - Run model:\n",
    "        - for each congress\n",
    "        - add one congress at a time\n",
    "           - hypothesis: is accuracy improving due to more data or more diversity?\n",
    "        - run only for Ds?\n",
    "    - Outputs:\n",
    "        - how to output predicted probablity?\n",
    "    - Model validation:\n",
    "        - build a separate function so it can be used with different models:\n",
    "            - input: predicted probability; actual labels; data (val or test?)\n",
    "        - chart distribution of the predicted probability \n",
    "        - bin predicted probabilities into:\n",
    "            - 0:0.4, 0.4:0.6, 0.6:1?\n",
    "            - accuracy in each bin\n",
    "            - crosstab them with various demos (party, chamber, age, year)\n",
    "            - get 1,2,3-grams for each bin\n",
    "        - output examples of speeches with scores close to 1 and close to 0 that are mispredicted vs predicted correctly\n",
    "        - Accuracy/loss by congress\n",
    "        - Accuracy/loss as congresses added\n",
    "            - save them and plot them\n",
    "\n",
    "### Long term:\n",
    "\n",
    "1. classificaiton models:\n",
    "    - ngram vanilla NN\n",
    "    - CNN\n",
    "    - some other models\n",
    "    - does it help to combine the results ensemble? if they make different mistakes, it should.\n",
    "2. Create a topics model:\n",
    "    - on raw data before classification\n",
    "    - on groups based on predicted probability bings:\n",
    "       - can we explain classification by topics that they bring up?\n",
    "       - or is it just based on language used? here we would check 1,2,3-ngrams\n",
    "3. Age:\n",
    "    - aging congress: how does it affect topics that people bring up?\n",
    "4. Speaker-level analysis:\n",
    "    - cluster speakers (k-means?) by their average predicted scores in classification models?\n",
    "        - for example, a white male that is closer to women by the way they use speech? are they liberals?"
   ]
  },
  {
   "cell_type": "markdown",
   "metadata": {},
   "source": [
    "Inspiration for code:\n",
    "\n",
    "- https://developers.google.com/machine-learning/guides/text-classification/\n",
    "- https://github.com/google/eng-edu/blob/master/ml/guides/text_classification/load_data.py"
   ]
  },
  {
   "cell_type": "code",
   "execution_count": 4,
   "metadata": {},
   "outputs": [],
   "source": [
    "from __future__ import absolute_import\n",
    "from __future__ import division\n",
    "from __future__ import print_function\n",
    "\n",
    "import os\n",
    "import random\n",
    "\n",
    "import numpy as np\n",
    "import pandas as pd\n",
    "\n",
    "from importlib import reload\n",
    "\n",
    "import nltk, re, pprint\n",
    "from nltk import word_tokenize"
   ]
  },
  {
   "cell_type": "code",
   "execution_count": 5,
   "metadata": {},
   "outputs": [],
   "source": [
    "from w266_common import utils, vocabulary\n",
    "from helpers import load_data\n",
    "from helpers import explore_data"
   ]
  },
  {
   "cell_type": "markdown",
   "metadata": {},
   "source": [
    "## Load the data"
   ]
  },
  {
   "cell_type": "code",
   "execution_count": 4,
   "metadata": {},
   "outputs": [
    {
     "data": {
      "text/plain": [
       "'/tf/notebooks/final-project/Classification'"
      ]
     },
     "execution_count": 4,
     "metadata": {},
     "output_type": "execute_result"
    }
   ],
   "source": [
    "pwd"
   ]
  },
  {
   "cell_type": "code",
   "execution_count": 5,
   "metadata": {},
   "outputs": [
    {
     "name": "stdout",
     "output_type": "stream",
     "text": [
      "speech_id|speech\r\n",
      "970000001|The Senate vill please come to order. The Chaplain will offer the prayer. The Chaplain. the Reverend Edward L. R. Elson. D.D.. offered the following prayer: PRAYER God of our fathers and our God. who has made and preserved us a nation. we thank Thee for Thy care over us from generation to generation. and for the new era which unfolds before us. Let Thy spirit descend upon us with all Its cleansing. healing. and creative power. Make usnew persons for new times in a land newborn in spirit. May the solemn induction of the new Members of this body be a renewal of the vocatinal vows of all others. In the deliberations of this new Congress keep our motives pure. our vision clear. our patriotism undefiled. our speech chaste. our judgments fair. and our consciences unbetrayed. Help us to develop work patterns which sustain the soul. nourish the mind. and strengthen the will. And give us grace to make time for the family. for home. and for worship. What we pray for this body we pray for all others in the service of the Government. Send us each day to our tasks to do Justly.to love mercy. and to walk humbly with our God. Hear us as we pray together the prayerthe Master taught us\"Our Father who art in heaven. hallowed be Thy name. Thy kingdom come. Thy will be done in Earth. as it is in heaven. Give us this day our daily bread. And forgive us our trespasses as we forgive those who trespass against us. And lead us not into temptation. but deliver us from evil* For Thine is the kingdom. and the power. and the glory forever.\" Amen.\r\n"
     ]
    }
   ],
   "source": [
    "!head -2 /tf/notebooks/final-project/data/sample/hein-daily/speeches_097.txt"
   ]
  },
  {
   "cell_type": "code",
   "execution_count": 6,
   "metadata": {},
   "outputs": [
    {
     "name": "stdout",
     "output_type": "stream",
     "text": [
      "283399\r\n"
     ]
    }
   ],
   "source": [
    "!cat /tf/notebooks/final-project/data/sample/hein-daily/speeches_097.txt | wc -l"
   ]
  },
  {
   "cell_type": "code",
   "execution_count": null,
   "metadata": {},
   "outputs": [],
   "source": [
    "filepath = '/tf/notebooks/final-project/data/sample/hein-daily/speeches_097.txt'\n",
    "with open(filepath, 'rb') as f:\n",
    "    raw = f.read().decode(errors='replace')"
   ]
  },
  {
   "cell_type": "code",
   "execution_count": 8,
   "metadata": {},
   "outputs": [
    {
     "data": {
      "text/plain": [
       "(str, 249718612)"
      ]
     },
     "execution_count": 8,
     "metadata": {},
     "output_type": "execute_result"
    }
   ],
   "source": [
    "type(raw), len(raw)"
   ]
  },
  {
   "cell_type": "code",
   "execution_count": 9,
   "metadata": {},
   "outputs": [
    {
     "data": {
      "text/plain": [
       "16"
      ]
     },
     "execution_count": 9,
     "metadata": {},
     "output_type": "execute_result"
    }
   ],
   "source": [
    "raw.find('\\n')"
   ]
  },
  {
   "cell_type": "code",
   "execution_count": 10,
   "metadata": {},
   "outputs": [
    {
     "data": {
      "text/plain": [
       "'speech_id|speech'"
      ]
     },
     "execution_count": 10,
     "metadata": {},
     "output_type": "execute_result"
    }
   ],
   "source": [
    "raw[:16]"
   ]
  },
  {
   "cell_type": "code",
   "execution_count": 11,
   "metadata": {},
   "outputs": [],
   "source": [
    "raw = raw.split('\\n')[1:]"
   ]
  },
  {
   "cell_type": "code",
   "execution_count": 12,
   "metadata": {},
   "outputs": [
    {
     "data": {
      "text/plain": [
       "283399"
      ]
     },
     "execution_count": 12,
     "metadata": {},
     "output_type": "execute_result"
    }
   ],
   "source": [
    "len(raw)"
   ]
  },
  {
   "cell_type": "code",
   "execution_count": 13,
   "metadata": {},
   "outputs": [
    {
     "data": {
      "text/plain": [
       "['970000001|The Senate vill please come to order. The Chaplain will offer the prayer. The Chaplain. the Reverend Edward L. R. Elson. D.D.. offered the following prayer: PRAYER God of our fathers and our God. who has made and preserved us a nation. we thank Thee for Thy care over us from generation to generation. and for the new era which unfolds before us. Let Thy spirit descend upon us with all Its cleansing. healing. and creative power. Make usnew persons for new times in a land newborn in spirit. May the solemn induction of the new Members of this body be a renewal of the vocatinal vows of all others. In the deliberations of this new Congress keep our motives pure. our vision clear. our patriotism undefiled. our speech chaste. our judgments fair. and our consciences unbetrayed. Help us to develop work patterns which sustain the soul. nourish the mind. and strengthen the will. And give us grace to make time for the family. for home. and for worship. What we pray for this body we pray for all others in the service of the Government. Send us each day to our tasks to do Justly.to love mercy. and to walk humbly with our God. Hear us as we pray together the prayerthe Master taught us\"Our Father who art in heaven. hallowed be Thy name. Thy kingdom come. Thy will be done in Earth. as it is in heaven. Give us this day our daily bread. And forgive us our trespasses as we forgive those who trespass against us. And lead us not into temptation. but deliver us from evil* For Thine is the kingdom. and the power. and the glory forever.\" Amen.',\n",
       " '970000002|The Chair lays before the Senate letters of resignation of two Senators and certificates of appointment of two Senators to fill the vacancies caused by thesi resignations. Without objection. the reading will be waived. and the documents will be printed in the RECORD. The documents ordered to be printed in the RECORD. are as follows:']"
      ]
     },
     "execution_count": 13,
     "metadata": {},
     "output_type": "execute_result"
    }
   ],
   "source": [
    "raw[:2]"
   ]
  },
  {
   "cell_type": "code",
   "execution_count": 14,
   "metadata": {},
   "outputs": [],
   "source": [
    "speech_ids, speeches = [], []\n",
    "for speech in raw:\n",
    "    speech = speech.split('|')\n",
    "    # skipping empty rows\n",
    "    if speech:\n",
    "        speech_ids.append(speech[0])\n",
    "        # some speeches have pipes in them\n",
    "        speeches.append(' '.join(speech[1:]))"
   ]
  },
  {
   "cell_type": "code",
   "execution_count": 15,
   "metadata": {
    "scrolled": true
   },
   "outputs": [
    {
     "data": {
      "text/plain": [
       "(283399, 283399)"
      ]
     },
     "execution_count": 15,
     "metadata": {},
     "output_type": "execute_result"
    }
   ],
   "source": [
    "len(speech_ids), len(speeches)"
   ]
  },
  {
   "cell_type": "code",
   "execution_count": 16,
   "metadata": {},
   "outputs": [
    {
     "data": {
      "text/plain": [
       "'970000001'"
      ]
     },
     "execution_count": 16,
     "metadata": {},
     "output_type": "execute_result"
    }
   ],
   "source": [
    "speech_ids[0]"
   ]
  },
  {
   "cell_type": "markdown",
   "metadata": {},
   "source": [
    "## Create target labels"
   ]
  },
  {
   "cell_type": "code",
   "execution_count": 17,
   "metadata": {},
   "outputs": [
    {
     "name": "stdout",
     "output_type": "stream",
     "text": [
      "README.md                ethicity_aapia.txt        \u001b[0m\u001b[01;36mgs_connect.py\u001b[0m@\r\n",
      "\u001b[01;34m__pycache__\u001b[0m/             ethicity_black.txt        \u001b[01;32mhein_daily_qa.sh\u001b[0m*\r\n",
      "\u001b[01;32mcnt_speaker_id.sh\u001b[0m*       ethicity_hispanic.txt     hein_daily_qa.txt\r\n",
      "cnt_speaker_id.txt       full_descr.txt            nltk.ipynb\r\n",
      "collecting_demo.ipynb    full_descr.zip            speakermap_qa.ipynb\r\n",
      "congresspeople_age.txt   \u001b[01;32mfull_speakermap.py\u001b[0m*       \u001b[01;32mspeakermap_qa.py\u001b[0m*\r\n",
      "congresspeople_demo.txt  full_speakermap.txt       speakermap_qa.txt\r\n",
      "congresspeople_id.txt    full_speakermap_demo.txt  speech_descr_qa.ipynb\r\n"
     ]
    }
   ],
   "source": [
    "ls /tf/notebooks/final-project/data/QA"
   ]
  },
  {
   "cell_type": "code",
   "execution_count": 18,
   "metadata": {},
   "outputs": [],
   "source": [
    "descr = {}\n",
    "with open('/tf/notebooks/final-project/data/QA/full_descr.txt') as f:\n",
    "    for line in f:\n",
    "        line = line.strip().split('|')\n",
    "        if line[0] == 'speech_id':\n",
    "            keys = line[1:]\n",
    "        else:\n",
    "            descr[line[0]] = {k:v for k,v in zip(keys, line[1:])}"
   ]
  },
  {
   "cell_type": "code",
   "execution_count": 19,
   "metadata": {},
   "outputs": [
    {
     "data": {
      "text/plain": [
       "{'Age': '63.0',\n",
       " 'Age_lt_med': '0.0',\n",
       " 'Chamber': 'S',\n",
       " 'Congress': '97',\n",
       " 'Ethnicity': 'W',\n",
       " 'Female': '0.0',\n",
       " 'Full Name': 'PERCY, CHARLES',\n",
       " 'NonWhite': '0.0',\n",
       " 'Party': 'R',\n",
       " 'State': 'IL',\n",
       " 'char_count': '201',\n",
       " 'date': '19810105',\n",
       " 'match': 'exact',\n",
       " 'speaker': 'Mr. PERCY',\n",
       " 'speakerid': '97105301.0',\n",
       " 'word_count': '34'}"
      ]
     },
     "execution_count": 19,
     "metadata": {},
     "output_type": "execute_result"
    }
   ],
   "source": [
    "descr['970000005']"
   ]
  },
  {
   "cell_type": "code",
   "execution_count": 20,
   "metadata": {},
   "outputs": [
    {
     "data": {
      "text/plain": [
       "220819"
      ]
     },
     "execution_count": 20,
     "metadata": {},
     "output_type": "execute_result"
    }
   ],
   "source": [
    "descr97 = []\n",
    "for s in descr:\n",
    "    if s[:2] == '97':\n",
    "        descr97.append(s)\n",
    "len(descr97)"
   ]
  },
  {
   "cell_type": "code",
   "execution_count": 21,
   "metadata": {},
   "outputs": [],
   "source": [
    "descr97.sort()"
   ]
  },
  {
   "cell_type": "code",
   "execution_count": 22,
   "metadata": {},
   "outputs": [
    {
     "data": {
      "text/plain": [
       "('970000005', '970283398')"
      ]
     },
     "execution_count": 22,
     "metadata": {},
     "output_type": "execute_result"
    }
   ],
   "source": [
    "descr97[0], descr97[-1]"
   ]
  },
  {
   "cell_type": "code",
   "execution_count": 23,
   "metadata": {},
   "outputs": [
    {
     "data": {
      "text/plain": [
       "0.7791805899103385"
      ]
     },
     "execution_count": 23,
     "metadata": {},
     "output_type": "execute_result"
    }
   ],
   "source": [
    "# percent of speeches that matched speaker ids\n",
    "len(descr97)/len(speech_ids)"
   ]
  },
  {
   "cell_type": "code",
   "execution_count": 24,
   "metadata": {},
   "outputs": [],
   "source": [
    "gender, ethnicity, age = [], [], []\n",
    "for i in speech_ids:\n",
    "    gender.append(int(float(descr.get(i, {}).get('Female', '-1'))))\n",
    "    ethnicity.append(int(float(descr.get(i, {}).get('NonWhite', '-1'))))\n",
    "    age.append(int(float(descr.get(i, {}).get('Age_lt_med', '-1'))))"
   ]
  },
  {
   "cell_type": "code",
   "execution_count": 25,
   "metadata": {},
   "outputs": [
    {
     "data": {
      "text/plain": [
       "(283399, 283399, 283399)"
      ]
     },
     "execution_count": 25,
     "metadata": {},
     "output_type": "execute_result"
    }
   ],
   "source": [
    "len(gender), len(ethnicity), len(age)"
   ]
  },
  {
   "cell_type": "code",
   "execution_count": 26,
   "metadata": {},
   "outputs": [
    {
     "name": "stdout",
     "output_type": "stream",
     "text": [
      "gender\n"
     ]
    },
    {
     "data": {
      "text/html": [
       "<div>\n",
       "<style scoped>\n",
       "    .dataframe tbody tr th:only-of-type {\n",
       "        vertical-align: middle;\n",
       "    }\n",
       "\n",
       "    .dataframe tbody tr th {\n",
       "        vertical-align: top;\n",
       "    }\n",
       "\n",
       "    .dataframe thead th {\n",
       "        text-align: right;\n",
       "    }\n",
       "</style>\n",
       "<table border=\"1\" class=\"dataframe\">\n",
       "  <thead>\n",
       "    <tr style=\"text-align: right;\">\n",
       "      <th></th>\n",
       "      <th>Category</th>\n",
       "      <th>Count</th>\n",
       "    </tr>\n",
       "  </thead>\n",
       "  <tbody>\n",
       "    <tr>\n",
       "      <th>0</th>\n",
       "      <td>-1</td>\n",
       "      <td>62580</td>\n",
       "    </tr>\n",
       "    <tr>\n",
       "      <th>1</th>\n",
       "      <td>0</td>\n",
       "      <td>216368</td>\n",
       "    </tr>\n",
       "    <tr>\n",
       "      <th>2</th>\n",
       "      <td>1</td>\n",
       "      <td>4451</td>\n",
       "    </tr>\n",
       "  </tbody>\n",
       "</table>\n",
       "</div>"
      ],
      "text/plain": [
       "<IPython.core.display.HTML object>"
      ]
     },
     "metadata": {},
     "output_type": "display_data"
    },
    {
     "name": "stdout",
     "output_type": "stream",
     "text": [
      "ethnicity\n"
     ]
    },
    {
     "data": {
      "text/html": [
       "<div>\n",
       "<style scoped>\n",
       "    .dataframe tbody tr th:only-of-type {\n",
       "        vertical-align: middle;\n",
       "    }\n",
       "\n",
       "    .dataframe tbody tr th {\n",
       "        vertical-align: top;\n",
       "    }\n",
       "\n",
       "    .dataframe thead th {\n",
       "        text-align: right;\n",
       "    }\n",
       "</style>\n",
       "<table border=\"1\" class=\"dataframe\">\n",
       "  <thead>\n",
       "    <tr style=\"text-align: right;\">\n",
       "      <th></th>\n",
       "      <th>Category</th>\n",
       "      <th>Count</th>\n",
       "    </tr>\n",
       "  </thead>\n",
       "  <tbody>\n",
       "    <tr>\n",
       "      <th>0</th>\n",
       "      <td>-1</td>\n",
       "      <td>62580</td>\n",
       "    </tr>\n",
       "    <tr>\n",
       "      <th>1</th>\n",
       "      <td>0</td>\n",
       "      <td>211468</td>\n",
       "    </tr>\n",
       "    <tr>\n",
       "      <th>2</th>\n",
       "      <td>1</td>\n",
       "      <td>9351</td>\n",
       "    </tr>\n",
       "  </tbody>\n",
       "</table>\n",
       "</div>"
      ],
      "text/plain": [
       "<IPython.core.display.HTML object>"
      ]
     },
     "metadata": {},
     "output_type": "display_data"
    },
    {
     "name": "stdout",
     "output_type": "stream",
     "text": [
      "age\n"
     ]
    },
    {
     "data": {
      "text/html": [
       "<div>\n",
       "<style scoped>\n",
       "    .dataframe tbody tr th:only-of-type {\n",
       "        vertical-align: middle;\n",
       "    }\n",
       "\n",
       "    .dataframe tbody tr th {\n",
       "        vertical-align: top;\n",
       "    }\n",
       "\n",
       "    .dataframe thead th {\n",
       "        text-align: right;\n",
       "    }\n",
       "</style>\n",
       "<table border=\"1\" class=\"dataframe\">\n",
       "  <thead>\n",
       "    <tr style=\"text-align: right;\">\n",
       "      <th></th>\n",
       "      <th>Category</th>\n",
       "      <th>Count</th>\n",
       "    </tr>\n",
       "  </thead>\n",
       "  <tbody>\n",
       "    <tr>\n",
       "      <th>0</th>\n",
       "      <td>-1</td>\n",
       "      <td>62580</td>\n",
       "    </tr>\n",
       "    <tr>\n",
       "      <th>1</th>\n",
       "      <td>0</td>\n",
       "      <td>143811</td>\n",
       "    </tr>\n",
       "    <tr>\n",
       "      <th>2</th>\n",
       "      <td>1</td>\n",
       "      <td>77008</td>\n",
       "    </tr>\n",
       "  </tbody>\n",
       "</table>\n",
       "</div>"
      ],
      "text/plain": [
       "<IPython.core.display.HTML object>"
      ]
     },
     "metadata": {},
     "output_type": "display_data"
    }
   ],
   "source": [
    "def get_counts(lst):\n",
    "    \"\"\"\n",
    "    Checks the distribution of target variables\n",
    "    \"\"\"\n",
    "    unique, counts = np.unique(lst[0], return_counts=True)\n",
    "    M = np.concatenate((unique.astype(int), counts.astype(int))).reshape((2,3)).T\n",
    "    print(lst[1])\n",
    "    utils.pretty_print_matrix(M, cols=['Category', 'Count'], dtype=int)\n",
    "\n",
    "for i in [(gender, \"gender\"), (ethnicity, \"ethnicity\"), (age, \"age\")]:\n",
    "    get_counts(i)"
   ]
  },
  {
   "cell_type": "markdown",
   "metadata": {},
   "source": [
    "### Data QA"
   ]
  },
  {
   "cell_type": "code",
   "execution_count": 27,
   "metadata": {},
   "outputs": [],
   "source": [
    "def random_speech(data, ids, target, value):\n",
    "    \"\"\"\n",
    "    Prints a random speech for a specific target value\n",
    "    \n",
    "    Args:\n",
    "        data: list of speeches\n",
    "        ids: list of speech ids\n",
    "        target: list of 0,1 \n",
    "        value: int, 0 or 1\n",
    "    \"\"\"\n",
    "    r = np.random.choice(np.array(ids)[np.array(target)==value])\n",
    "    print(\"Speaker information\")\n",
    "    for i in descr[r]:\n",
    "        print(i, descr[r][i])\n",
    "    print()\n",
    "    print(data[ids.index(r)])"
   ]
  },
  {
   "cell_type": "code",
   "execution_count": 28,
   "metadata": {},
   "outputs": [
    {
     "name": "stdout",
     "output_type": "stream",
     "text": [
      "Speaker information\n",
      "Ethnicity W\n",
      "char_count 495\n",
      "Chamber H\n",
      "word_count 82\n",
      "State NY\n",
      "Age_lt_med 1.0\n",
      "Age 47.0\n",
      "NonWhite 0.0\n",
      "Congress 97\n",
      "speakerid 97106680.0\n",
      "match exact\n",
      "speaker Ms. FERRARO\n",
      "Full Name FERRARO, GERALDINE\n",
      "Female 1.0\n",
      "date 19820615\n",
      "Party D\n",
      "\n",
      "Mr. Chairman. I thank the gentleman for yielding. If the New York City Police were taken off the extraordinary protection and Treasury were required to provide the protective services for diplomats as they are required by treaties to do. it would cost the Federal Government $20 million in the first year and $14 million for each additional year thereafter. and in addition to that. they still would not be providing all the extraordinary protection the New York City Police have been providing.\n"
     ]
    }
   ],
   "source": [
    "random_speech(speeches, speech_ids, gender, 1)"
   ]
  },
  {
   "cell_type": "code",
   "execution_count": 29,
   "metadata": {},
   "outputs": [
    {
     "name": "stdout",
     "output_type": "stream",
     "text": [
      "Speaker information\n",
      "Ethnicity H\n",
      "char_count 2539\n",
      "Chamber H\n",
      "word_count 442\n",
      "State CA\n",
      "Age_lt_med 0.0\n",
      "Age 66.0\n",
      "NonWhite 1.0\n",
      "Congress 97\n",
      "speakerid 97109720.0\n",
      "match exact\n",
      "speaker Mr. ROYBAL\n",
      "Full Name ROYBAL, EDWARD\n",
      "Female 0.0\n",
      "date 19821218\n",
      "Party D\n",
      "\n",
      "Mr. Chairman. I move to strike the requisite number of words. Mr. Chairman. I think that one can say at this point that we can agree with all the previous speakers because each one of them have made excellent points. but I would like to get back to the amendment now before the House. I would like to try to get some understanding of the opposition that has arisen on the part of the gentleman from Texas and the gentleman from Texas . Before I do that. I would like to set the stage for the questions that will follow. On page 4. line 19 of the bill. it states as follows: The person or entityThis means the employermust attest. under penalty of perjury and on a form designated or established by the Attorney General by regulation. that It has verified that the individual is eligible to be employed (or recruited or referred for employment) In the United States by examinIng the IndividualsUnited States passport. or Social 8ecurity account number card or certificate of birth in the United States or establishing United States nationality at birthAnd then it goes on to sayalien documentation. identification. and telecommunication card. or similar fraud resistant card issued by the Attorney General to aliens and designated for use for this purpose. Then there Is another section which appears on page 5. line 22. and it says: The individual must attest. under penalty of perjury and on the form designated or established for purposes of paragraph (1). that the Individual is a citizen of the United States. Taking those sections together. I think that it actually means that even U.S. citizens will somewhere down the line have to go to some designated place and prove that they were born. and if they were born in the United States they would be deemed to be American citizens. Now. the argument that we have had so far seems to indicate that only aliens will be affected by these sanctions. That is not true. American citizens are also included and it is quite possible that the telecommunicatiun card or any other fraudresistant card issued by the Attorney General could be made an article that mpst be carried by every American citizen or every person. every resident in the United States. Now. let us go back to the point where an individual is seeking employment. What does the amendment actually do? What are the objections? Instead of answering those questions myself. I would like to ask the author of the amendment and then ask anyone in opposition to it to try to explain to this House just exactly what the situation is.\n"
     ]
    }
   ],
   "source": [
    "random_speech(speeches, speech_ids, ethnicity, 1)"
   ]
  },
  {
   "cell_type": "code",
   "execution_count": 30,
   "metadata": {},
   "outputs": [
    {
     "name": "stdout",
     "output_type": "stream",
     "text": [
      "Speaker information\n",
      "Ethnicity W\n",
      "char_count 2514\n",
      "Chamber S\n",
      "word_count 452\n",
      "State MI\n",
      "Age_lt_med 1.0\n",
      "Age 48.0\n",
      "NonWhite 0.0\n",
      "Congress 97\n",
      "speakerid 97117441.0\n",
      "match exact\n",
      "speaker Mr. LEVIN\n",
      "Full Name LEVIN, CARL\n",
      "Female 0.0\n",
      "date 19820805\n",
      "Party D\n",
      "\n",
      "Mr. President. I thank my friend from Ohio. First -of all. I thank him and all those who worked so hard on this resolution. The matter of supplemental benefits is a matter of national policy. We have for 30 consecutive months worked with doubledigit unemployment. Since January 40.000 people in Michigan have exhausted their extended benefits. We justAimply need desperately this supplemental unemployment benefit. I hope this is the second from the last step on this road. It is obviously not the last step. but we need that final step. The Senator from Kansas has put his finger on it. That last step. if it is going to be made. is going to have to be made in conference. and we look forward to his leadership in that regard. Just to give you some Idea of the depth of this problem nationwide. in January of this year 9.000 people exhausted their benefits In this country. By March. in the month of March. 38.000 people had exhausted their benefits. and by May. in the month of May. 134.000 people had exhausted their benefits. a jump from 9.000 in January to 134.000 in May. and that figure represents a 41percent increase in the number of people who have exhausted their benefits compared to May of the prior year. We have been fiddling around here in Washington while people are suffering back home. And I am afraid that that is the hard. basic truth. that while hundreds of thousands of people are exhausting their benefits all they get from Washington is that they should vote with their feet. movesomewhere else where there is not a job or they should read the want ads. It Is time for us to take some action on this. It was done twice in the 1970s when unemployment was a lot less than It is now. In 1971. we had a supplemental unemployment program and the unemployment rate was 5.5 percent. In 1974. we had a supplemental unemployment program and the rate was 7.2 percent unemployment. Well. the rate is 9.5 percent. It is almost twice what it was in 1971 and signficantly higher than it was in 1974. In both of those years. we had supplemental unemployment programs. There is no logic which dictates that when the need for action is greater that the momentum for action should be less. Mr. President. I hope. with the leadership that we have seen here today from the Senators from Ohio. Pennsylvania. Kansas. and others. that this is going to be the second from the last step and that the final step will be taken in the conference which is so ably chaired by the Senator from Kansas. I thank the Chair.\n"
     ]
    }
   ],
   "source": [
    "random_speech(speeches, speech_ids, age, 1)"
   ]
  },
  {
   "cell_type": "markdown",
   "metadata": {},
   "source": [
    "## Split into train, validate, test"
   ]
  },
  {
   "cell_type": "code",
   "execution_count": 1,
   "metadata": {},
   "outputs": [],
   "source": [
    "def filter_data(data, ids, target, filter, value):\n",
    "    data_f, ids_f, target_f = [], [], []\n",
    "    for i in range(len(target)):\n",
    "        if filter[i] == value:\n",
    "            data_f.append(data[i])\n",
    "            ids_f.append(ids[i])\n",
    "            target_f.append(target[i])\n",
    "\n",
    "    return data_f, ids_f, target_f"
   ]
  },
  {
   "cell_type": "code",
   "execution_count": null,
   "metadata": {},
   "outputs": [],
   "source": []
  },
  {
   "cell_type": "code",
   "execution_count": 31,
   "metadata": {},
   "outputs": [],
   "source": [
    "def split_train_val_test(data, ids, target, balance, splits, word_count=30):\n",
    "    \"\"\"\n",
    "    Splits speeches into train, validation and test samples\n",
    "    \n",
    "    Args:\n",
    "        data: list of speeches\n",
    "        ids: list of speech ids\n",
    "        target: list of target values (0,1,-1)\n",
    "        balance: desired ratio of 0s to 1s\n",
    "        splits: list of floats for [train, validation, test] splits\n",
    "    \n",
    "    Kwards:\n",
    "        word_count: min number of words in the speech\n",
    "    \n",
    "    Returns:\n",
    "        tuple of lists: train speeches, speech ids and target, \n",
    "                        validation speeches, speech ids and target, \n",
    "                        test speeches, speech ids and target\n",
    "    \"\"\"\n",
    "    \n",
    "    # initialize lists to hold speeches\n",
    "    ones, zeroes = [], []\n",
    "    ones_ids, zeroes_ids = [], []\n",
    "    \n",
    "    for i in range(len(target)):\n",
    "        # -1 indicated non-matched speeches. They are dropped\n",
    "        # select only speeches that have at least min\n",
    "        # desired length\n",
    "        if (target[i] != -1) and (int(descr[ids[i]]['word_count']) > word_count):\n",
    "            if target[i] == 1:\n",
    "                ones.append(data[i])\n",
    "                ones_ids.append(ids[i])\n",
    "            elif target[i] == 0:\n",
    "                zeroes.append(data[i])\n",
    "                zeroes_ids.append(data[i])\n",
    "    \n",
    "    # get lengths of train, validation and test lists\n",
    "    train_ones_len = int(len(ones)*splits[0])\n",
    "    val_ones_len = int(len(ones)*splits[1])\n",
    "    test_ones_len = len(ones) - train_ones_len - val_ones_len\n",
    "    \n",
    "    if int(len(ones)*balance) < len(zeroes):\n",
    "        train_zeroes_len = int(train_ones_len*balance)\n",
    "        val_zeroes_len = int(val_ones_len*balance)\n",
    "        test_zeroes_len = int(test_ones_len*balance)\n",
    "    else:\n",
    "        train_zeroes_len = int(len(zeroes)*splits[0])\n",
    "        val_zeroes_len = int(len(zeroes)*splits[1])\n",
    "        test_zeroes_len = len(zeroes) - train_zeroes_len - test_zeroes_len\n",
    "    \n",
    "    # create randomly shuffled indices\n",
    "    random.seed(100)    \n",
    "    ones_shuffled = np.random.permutation(np.arange(len(ones)))\n",
    "    zeroes_shuffled = np.random.permutation(np.arange(len(zeroes)))\n",
    "    \n",
    "    # subset lists of speeches based on shuffled indices\n",
    "    train_ones = [ones[i] for i in ones_shuffled[:train_ones_len]]\n",
    "    val_ones = [ones[i] for i in ones_shuffled[train_ones_len:-test_ones_len]]\n",
    "    test_ones = [ones[i] for i in ones_shuffled[-test_ones_len:]]\n",
    "\n",
    "    train_ones_ids = [ones_ids[i] for i in ones_shuffled[:train_ones_len]]\n",
    "    val_ones_ids = [ones_ids[i] for i in ones_shuffled[train_ones_len:-test_ones_len]]\n",
    "    test_ones_ids = [ones_ids[i] for i in ones_shuffled[-test_ones_len:]]\n",
    "\n",
    "    train_zeroes = [zeroes[i] for i in zeroes_shuffled[:train_zeroes_len]]\n",
    "    val_zeroes = [zeroes[i] for i in zeroes_shuffled[train_zeroes_len:train_zeroes_len+val_zeroes_len]]\n",
    "    test_zeroes = [zeroes[i] for i in zeroes_shuffled[-test_zeroes_len:]]\n",
    "\n",
    "    train_zeroes_ids = [zeroes_ids[i] for i in zeroes_shuffled[:train_zeroes_len]]\n",
    "    val_zeroes_ids = [zeroes_ids[i] for i in zeroes_shuffled[train_zeroes_len:train_zeroes_len+val_zeroes_len]]\n",
    "    test_zeroes_ids = [zeroes_ids[i] for i in zeroes_shuffled[-test_zeroes_len:]]\n",
    "\n",
    "    # combine lists\n",
    "    train = train_ones + train_zeroes\n",
    "    val = val_ones + val_zeroes\n",
    "    test = test_ones + test_zeroes\n",
    "\n",
    "    train_ids = train_ones_ids + train_zeroes_ids\n",
    "    val_ids = val_ones_ids + val_zeroes_ids\n",
    "    test_ids = test_ones_ids + test_zeroes_ids\n",
    "\n",
    "    # create target lists\n",
    "    train_target = [1]*len(train_ones) + [0]*len(train_zeroes)\n",
    "    val_target = [1]*len(val_ones) + [0]*len(val_zeroes)\n",
    "    test_target = [1]*len(test_ones) + [0]*len(test_zeroes)\n",
    "\n",
    "    print(\"Training split: {} ones and {} zeroes\".format(train_ones_len, train_zeroes_len))\n",
    "    print(\"Training speech list size: {}\".format(len(train)))\n",
    "    print(\"Training target list size: {}\".format(len(train_target)))\n",
    "\n",
    "    print(\"Validation split: {} ones and {} zeroes\".format(val_ones_len, val_zeroes_len))\n",
    "    print(\"Validation speech list size: {}\".format(len(val)))\n",
    "    print(\"Validation target list size: {}\".format(len(val_target)))    \n",
    "    \n",
    "    print(\"Test split: {} ones and {} zeroes\".format(test_ones_len, test_zeroes_len))\n",
    "    print(\"Test speech list size: {}\".format(len(test)))\n",
    "    print(\"Test target list size: {}\".format(len(test_target)))\n",
    "\n",
    "    return train, train_ids, train_target, val, val_ids, val_target, test, test_ids, test_target"
   ]
  },
  {
   "cell_type": "code",
   "execution_count": 32,
   "metadata": {},
   "outputs": [
    {
     "name": "stdout",
     "output_type": "stream",
     "text": [
      "Training split: 1622 ones and 1622 zeroes\n",
      "Training speech list size: 3244\n",
      "Training target list size: 3244\n",
      "Validation split: 540 ones and 540 zeroes\n",
      "Validation speech list size: 1080\n",
      "Validation target list size: 1080\n",
      "Test split: 542 ones and 542 zeroes\n",
      "Test speech list size: 1084\n",
      "Test target list size: 1084\n"
     ]
    }
   ],
   "source": [
    "random_splits = [0.6, 0.2, 0.2]\n",
    "train, train_ids, train_target, val, val_ids, val_target, test, test_ids, test_target = split_train_val_test(speeches, speech_ids, gender, 1, random_splits)"
   ]
  },
  {
   "cell_type": "code",
   "execution_count": 33,
   "metadata": {},
   "outputs": [
    {
     "data": {
      "text/plain": [
       "(1622, 540, 542)"
      ]
     },
     "execution_count": 33,
     "metadata": {},
     "output_type": "execute_result"
    }
   ],
   "source": [
    "sum(train_target), sum(val_target), sum(test_target)"
   ]
  },
  {
   "cell_type": "code",
   "execution_count": 34,
   "metadata": {},
   "outputs": [
    {
     "data": {
      "text/plain": [
       "1747"
      ]
     },
     "execution_count": 34,
     "metadata": {},
     "output_type": "execute_result"
    }
   ],
   "source": [
    "# number of speeches under 30 words\n",
    "sum(np.array(gender)==1) - (sum(train_target) + sum(val_target) + sum(test_target))"
   ]
  },
  {
   "cell_type": "code",
   "execution_count": 35,
   "metadata": {},
   "outputs": [
    {
     "name": "stdout",
     "output_type": "stream",
     "text": [
      "Speaker information\n",
      "Ethnicity W\n",
      "char_count 1029\n",
      "Chamber H\n",
      "word_count 188\n",
      "State CO\n",
      "Age_lt_med 1.0\n",
      "Age 42.0\n",
      "NonWhite 0.0\n",
      "Congress 97\n",
      "speakerid 97111540.0\n",
      "match exact\n",
      "speaker Mrs. SCHROEDER\n",
      "Full Name SCHROEDER, PATRICIA\n",
      "Female 1.0\n",
      "date 19810730\n",
      "Party D\n",
      "\n",
      "Mr. Chairman. I offer an amendment to prohibit any part of an appropriation for the President and the Executive Office from going for gifts to Members of Congress for the purpose of Influencing their votes on legislation. Today may be the most important day to discuss this issue. Earlier this year. when the budget was under discussion. the President Invited wavering Members down to the White House. gave them a pair of cuff links. and they came back to the Hill wavering no more. Just last weekend. the President upped the ante on the tax bill by taking a group of Members in a spiffy Army helicopter to Camp David for hot dogs and hamburgers. A month ago. the President tried to buy Memberss votes for cuff links. a few days ago. he moved to hot dogs. What Is next? jelly beans? Well. unless anyone cares to disagree. I can say that I do not think any Member of Congress would sell his vote for a hot dog. And. the President ought to stop using the taxpayers hardearned money to attempt to buy something which cannot be sold.\n"
     ]
    }
   ],
   "source": [
    "random_speech(train, train_ids, train_target, 1)"
   ]
  },
  {
   "cell_type": "code",
   "execution_count": 36,
   "metadata": {},
   "outputs": [
    {
     "name": "stdout",
     "output_type": "stream",
     "text": [
      "Speaker information\n",
      "Ethnicity W\n",
      "char_count 1522\n",
      "Chamber H\n",
      "word_count 267\n",
      "State LA\n",
      "Age_lt_med 0.0\n",
      "Age 66.0\n",
      "NonWhite 0.0\n",
      "Congress 97\n",
      "speakerid 97108080.0\n",
      "match exact\n",
      "speaker Mrs. BOGGS\n",
      "Full Name BOGGS, CORINNE\n",
      "Female 1.0\n",
      "date 19810915\n",
      "Party D\n",
      "\n",
      "Mr. Speaker. it Is with deep sympathy that I mourn. the death of Catherine Norrell. I am among those who had the good fortune to enjoy her friendship as well as that of her husband. the late William Norrell. Both were Members of this House. and both did a superb job of service to the people of Arkansas and the people of the United States. I greatly admired Catherines own spirit of enthusiasm and her unending support of Bill during his 22 years in office. She was behind him all the way. with an ear to listen and a hand to help. So strong was her desire to see the people of Arkansas grow and prosper and so deep was her conviction in Bills plans to make this happen that upon Bills death she ran In a hotly contested race to represent the Sixth District of Arkansas. Catherine was also a leader among congressional wives and at the time of Bills death she was president of the September 25. IY81 Congressional Club. I enjoyed working with her In the Womens National Democratic Club. the Democratic Congressional Wives Forum. and the Congressional Club. We in this Congress would do well to emulate Catherine Norrell. Her dedication to cause and belief In her people and their ideas are the fundamentals upon which this great Nation was foundedthey are the groundwork for all relationships of mutual respect and cooperation. My special expressions of affection and condolence reach out to Judy. the Norrells dear and accomplished daughter. who has inherited her parents love for our Nation and respect for this House.*\n"
     ]
    }
   ],
   "source": [
    "random_speech(val, val_ids, val_target, 1)"
   ]
  },
  {
   "cell_type": "code",
   "execution_count": 37,
   "metadata": {},
   "outputs": [
    {
     "name": "stdout",
     "output_type": "stream",
     "text": [
      "Speaker information\n",
      "Ethnicity W\n",
      "char_count 2054\n",
      "Chamber H\n",
      "word_count 323\n",
      "State NY\n",
      "Age_lt_med 1.0\n",
      "Age 47.0\n",
      "NonWhite 0.0\n",
      "Congress 97\n",
      "speakerid 97106680.0\n",
      "match fuzzy\n",
      "speaker Ms. FERRARO\n",
      "Full Name FERRARO, GERALDINE\n",
      "Female 1.0\n",
      "date 19810518\n",
      "Party D\n",
      "\n",
      "Mr. Speaker. I would like to take this opportunity to offer my congratulations on the 50th anniversary of Grover Cleveland High School. Education is the foundation upon which a society is built. Quality education is the foundation upon which a great society is built. For half a century Grover Cleveland High School has been educating the young people of the Ridgewood community. Grover Cleveland offers students the opportunity to excel in the academic. vocational. and athletic areas. Grover Cleveland High School opened in September 1931. under the leadership of Dr. Charles A. Tonsor. Dr. Tonsor maintained extensive ties with the community during his entire tenure. In June 1955. Dr. Tonsor retired and was followed by Mr. Edward Kramer. Mr. Kramer continued the traditions of Dr. Tonsor until 1966. The next principal was Dr. P:hilip L. Groisser who left the school in 1971. Dr. Groisser is presently the superintendent of high schools for Brooklyn. Since 1971 the principal has been Mr. Myron L. Liebrader. The school has continued to meet the needs of the young in the community. The educational programs have changed with the times to meet the demand and needs of the business and academic worlds. The commitment to the community continues. The students of Grover Cleveland are extensively involved in volunteer work with the RidgewoodBushwick Senior Citizens. Wyckoff Heights Hospital. and the local elementary schools. Students attending Grover Cleveland are involved in the advanced placement program. which allows students to earn a full year of college credit while still in high school. the bilingual program. the foreign language program allowing students to excel in the area of French. Spanish. German. and Italian. and recent renovations In the shop area has allowed for programs in home economics. catering. graphics. and auto mechanics. The administration. staff. and studentsboth past and presentof Grover Cleveland High School are to be commended for their fine record of academic excellence in our community.e Remarks May 18. 1981\n"
     ]
    }
   ],
   "source": [
    "random_speech(test, test_ids, test_target, 1)"
   ]
  },
  {
   "cell_type": "markdown",
   "metadata": {},
   "source": [
    "## EDA on train data"
   ]
  },
  {
   "cell_type": "markdown",
   "metadata": {},
   "source": [
    "Source: https://developers.google.com/machine-learning/guides/text-classification/step-2"
   ]
  },
  {
   "cell_type": "markdown",
   "metadata": {},
   "source": [
    "### Check median number of words per sample in train/val/test"
   ]
  },
  {
   "cell_type": "code",
   "execution_count": 38,
   "metadata": {},
   "outputs": [
    {
     "data": {
      "text/plain": [
       "<module 'helpers.explore_data' from '/tf/notebooks/final-project/Classification/helpers/explore_data.py'>"
      ]
     },
     "execution_count": 38,
     "metadata": {},
     "output_type": "execute_result"
    }
   ],
   "source": [
    "reload(explore_data)"
   ]
  },
  {
   "cell_type": "code",
   "execution_count": 39,
   "metadata": {},
   "outputs": [
    {
     "data": {
      "text/plain": [
       "210.0"
      ]
     },
     "execution_count": 39,
     "metadata": {},
     "output_type": "execute_result"
    }
   ],
   "source": [
    "explore_data.get_num_words_per_sample(train)"
   ]
  },
  {
   "cell_type": "code",
   "execution_count": 40,
   "metadata": {},
   "outputs": [
    {
     "data": {
      "text/plain": [
       "196.5"
      ]
     },
     "execution_count": 40,
     "metadata": {},
     "output_type": "execute_result"
    }
   ],
   "source": [
    "explore_data.get_num_words_per_sample(val)"
   ]
  },
  {
   "cell_type": "code",
   "execution_count": 41,
   "metadata": {},
   "outputs": [
    {
     "data": {
      "text/plain": [
       "207.0"
      ]
     },
     "execution_count": 41,
     "metadata": {},
     "output_type": "execute_result"
    }
   ],
   "source": [
    "explore_data.get_num_words_per_sample(test)"
   ]
  },
  {
   "cell_type": "code",
   "execution_count": 42,
   "metadata": {},
   "outputs": [
    {
     "data": {
      "image/png": "[encoded data removed]",
      "text/plain": [
       "<Figure size 432x288 with 1 Axes>"
      ]
     },
     "metadata": {
      "needs_background": "light"
     },
     "output_type": "display_data"
    }
   ],
   "source": [
    "explore_data.plot_sample_length_distribution(train)"
   ]
  },
  {
   "cell_type": "markdown",
   "metadata": {},
   "source": [
    "### Most popular unigrams (training only)"
   ]
  },
  {
   "cell_type": "code",
   "execution_count": 43,
   "metadata": {},
   "outputs": [
    {
     "name": "stdout",
     "output_type": "stream",
     "text": [
      "['the', 'of', 'to', 'and', 'in', 'that', 'is', 'for', 'this', 'we', 'it', 'on', 'have', 'be', 'are', 'as', 'not', 'by', 'with', 'will', 'our', 'mr', 'has', 'from', 'would', 'was', 'an', 'which', 'my', 'at', 'they', 'their', 'or', 'who', 'but', 'all', 'been', 'president', 'he', 'bill', 'these', 'his', 'if', 'do', 'people', 'there', 'more', 'can', 'amendment', 'one']\n"
     ]
    },
    {
     "data": {
      "image/png": "[encoded data removed]",
      "text/plain": [
       "<Figure size 1440x720 with 1 Axes>"
      ]
     },
     "metadata": {
      "needs_background": "light"
     },
     "output_type": "display_data"
    }
   ],
   "source": [
    "explore_data.plot_frequency_distribution_of_ngrams(train, ngram_range=(1,1))"
   ]
  },
  {
   "cell_type": "markdown",
   "metadata": {},
   "source": [
    "### Most popular bigrams (training only)"
   ]
  },
  {
   "cell_type": "code",
   "execution_count": 44,
   "metadata": {},
   "outputs": [
    {
     "name": "stdout",
     "output_type": "stream",
     "text": [
      "['of the', 'in the', 'to the', 'it is', 'that the', 'for the', 'and the', 'on the', 'by the', 'mr speaker', 'of this', 'to be', 'with the', 'we are', 'we have', 'mr president', 'that we', 'will be', 'has been', 'of our', 'the gentleman', 'in this', 'from the', 'the united', 'is the', 'united states', 'would be', 'that is', 'at the', 'have been', 'the house', 'do not', 'mr chairman', 'is not', 'my colleagues', 'there is', 'the federal', 'the senate', 'the committee', 'as the', 'this is', 'this bill', 'like to', 'want to', 'the bill', 'one of', 'the president', 'would like', 'going to', 'they are']\n"
     ]
    },
    {
     "data": {
      "image/png": "[encoded data removed]",
      "text/plain": [
       "<Figure size 1440x720 with 1 Axes>"
      ]
     },
     "metadata": {
      "needs_background": "light"
     },
     "output_type": "display_data"
    }
   ],
   "source": [
    "explore_data.plot_frequency_distribution_of_ngrams(train, ngram_range=(2,2))"
   ]
  },
  {
   "cell_type": "markdown",
   "metadata": {},
   "source": [
    "### Most popular trigrams (training only)"
   ]
  },
  {
   "cell_type": "code",
   "execution_count": 45,
   "metadata": {},
   "outputs": [
    {
     "name": "stdout",
     "output_type": "stream",
     "text": [
      "['the united states', 'would like to', 'the gentleman from', 'the senator from', 'one of the', 'the soviet union', 'the federal government', 'chairman of the', 'the department of', 'of the united', 'percent of the', 'my colleagues to', 'as well as', 'of the house', 'in support of', 'there is no', 'the people of', 'are going to', 'the american people', 'in order to', 'the fact that', 'member of the', 'thank the gentleman', 'some of the', 'members of the', 'urge my colleagues', 'in the record', 'part of the', 'ask unanimous consent', 'the committee on', 'in the united', 'that we are', 'we do not', 'it is not', 'in this country', 'support of the', 'be able to', 'that we have', 'mr speaker the', 'of the committee', 'mr chairman rise', 'of the senate', 'because of the', 'the gentleman for', 'of my colleagues', 'unanimous consent that', 'think it is', 'of the bill', 'rise in support', 'that it is']\n"
     ]
    },
    {
     "data": {
      "image/png": "[encoded data removed]",
      "text/plain": [
       "<Figure size 1440x720 with 1 Axes>"
      ]
     },
     "metadata": {
      "needs_background": "light"
     },
     "output_type": "display_data"
    }
   ],
   "source": [
    "explore_data.plot_frequency_distribution_of_ngrams(train, ngram_range=(3,3))"
   ]
  },
  {
   "cell_type": "markdown",
   "metadata": {},
   "source": [
    "## N-gram model"
   ]
  },
  {
   "cell_type": "markdown",
   "metadata": {},
   "source": [
    "Inspiration for code: https://developers.google.com/machine-learning/guides/text-classification/step-3"
   ]
  },
  {
   "cell_type": "code",
   "execution_count": 46,
   "metadata": {},
   "outputs": [],
   "source": [
    "from sklearn.feature_extraction.text import TfidfVectorizer\n",
    "from sklearn.feature_selection import SelectKBest\n",
    "from sklearn.feature_selection import f_classif"
   ]
  },
  {
   "cell_type": "code",
   "execution_count": 47,
   "metadata": {},
   "outputs": [],
   "source": [
    "from tensorflow.python.keras import models\n",
    "from tensorflow.python.keras.layers import Dense\n",
    "from tensorflow.python.keras.layers import Dropout"
   ]
  },
  {
   "cell_type": "code",
   "execution_count": 48,
   "metadata": {},
   "outputs": [],
   "source": [
    "import tensorflow as tf"
   ]
  },
  {
   "cell_type": "markdown",
   "metadata": {},
   "source": [
    "### Pre-processing"
   ]
  },
  {
   "cell_type": "code",
   "execution_count": 49,
   "metadata": {},
   "outputs": [],
   "source": [
    "# Vectorization parameters\n",
    "# Range (inclusive) of n-gram sizes for tokenizing text.\n",
    "NGRAM_RANGE = (1, 2)\n",
    "\n",
    "# Limit on the number of features. We use the top 20K features.\n",
    "TOP_K = 20000\n",
    "\n",
    "# Whether text should be split into word or character n-grams.\n",
    "# One of 'word', 'char'.\n",
    "TOKEN_MODE = 'word'\n",
    "\n",
    "# Minimum corpus frequency below which a token will be discarded.\n",
    "MIN_DOCUMENT_FREQUENCY = 5\n",
    "\n",
    "# Maximum proportion of corpus containing a word above which a token will be discarded.\n",
    "# Helps eliminate stop words\n",
    "MAX_DOCUMENT_FREQUENCY = 0.7"
   ]
  },
  {
   "cell_type": "code",
   "execution_count": 50,
   "metadata": {},
   "outputs": [],
   "source": [
    "def ngram_vectorize(train_texts, train_labels, val_texts):\n",
    "    \"\"\"\n",
    "    Vectorizes texts as n-gram vectors.\n",
    "\n",
    "    1 text = 1 tf-idf vector the length of vocabulary of ngrams.\n",
    "\n",
    "    Arguments:\n",
    "        train_texts: list, training text strings.\n",
    "        train_labels: np.ndarray, training labels.\n",
    "        val_texts: list, validation text strings.\n",
    "\n",
    "    Returns:\n",
    "        x_train, x_val: vectorized training and validation texts\n",
    "    \"\"\"\n",
    "    # Create keyword arguments to pass to the 'tf-idf' vectorizer.\n",
    "    kwargs = {\n",
    "            'ngram_range': NGRAM_RANGE,  # Use 1-grams + 2-grams.\n",
    "            'dtype': 'int32',\n",
    "            'strip_accents': 'unicode',\n",
    "            'decode_error': 'replace',\n",
    "            'analyzer': TOKEN_MODE,  # Split text into word tokens.\n",
    "            'min_df': MIN_DOCUMENT_FREQUENCY,\n",
    "            'max_df': MAX_DOCUMENT_FREQUENCY,\n",
    "    }\n",
    "    vectorizer = TfidfVectorizer(**kwargs)\n",
    "\n",
    "    # Learn vocabulary from training texts and vectorize training texts.\n",
    "    x_train = vectorizer.fit_transform(train_texts)\n",
    "    print(\"Total vocabulary size: {}\".format(len(vectorizer.vocabulary_)))\n",
    "    \n",
    "    # Vectorize validation texts.\n",
    "    x_val = vectorizer.transform(val_texts)\n",
    "\n",
    "    # Select top 'k' of the vectorized features.\n",
    "    selector = SelectKBest(f_classif, k=min(TOP_K, x_train.shape[1]))\n",
    "    selector.fit(x_train, train_labels)\n",
    "    x_train = selector.transform(x_train).astype(dtype=np.float32)\n",
    "    x_val = selector.transform(x_val).astype(dtype=np.float32)\n",
    "    \n",
    "    top_words = np.array(vectorizer.get_feature_names())[np.argsort(selector.scores_)[::-1]][:20]\n",
    "    top_scores = selector.scores_[np.argsort(selector.scores_)[::-1]][:20]\n",
    "    print(\"\\nTop 20 words by differentiating score:\")\n",
    "    for i in range(len(top_words)):\n",
    "        print(top_words[i], \"\\t\", round(top_scores[i], 1))\n",
    "    \n",
    "    return x_train, x_val"
   ]
  },
  {
   "cell_type": "code",
   "execution_count": 51,
   "metadata": {},
   "outputs": [
    {
     "name": "stderr",
     "output_type": "stream",
     "text": [
      "/usr/local/lib/python3.5/dist-packages/sklearn/feature_extraction/text.py:1577: UserWarning: Only (<class 'numpy.float64'>, <class 'numpy.float32'>, <class 'numpy.float16'>) 'dtype' should be used. int32 'dtype' will be converted to np.float64.\n",
      "  UserWarning)\n"
     ]
    },
    {
     "name": "stdout",
     "output_type": "stream",
     "text": [
      "Total vocabulary size: 34739\n",
      "\n",
      "Top 20 words by differentiating score:\n",
      "mr president \t 311.6\n",
      "senator \t 169.2\n",
      "president \t 168.9\n",
      "the senator \t 133.4\n",
      "senator from \t 115.9\n",
      "women \t 83.5\n",
      "the senate \t 76.6\n",
      "consent \t 74.3\n",
      "senate \t 70.6\n",
      "distinguished \t 68.3\n",
      "unanimous consent \t 67.7\n",
      "ask unanimous \t 65.6\n",
      "senators \t 64.7\n",
      "the distinguished \t 64.4\n",
      "unanimous \t 62.2\n",
      "people \t 54.6\n",
      "consent that \t 54.6\n",
      "speaker \t 49.1\n",
      "mr speaker \t 45.3\n",
      "are \t 43.9\n"
     ]
    }
   ],
   "source": [
    "train_vec, val_vec = ngram_vectorize(train, train_target, val)"
   ]
  },
  {
   "cell_type": "code",
   "execution_count": 52,
   "metadata": {},
   "outputs": [
    {
     "data": {
      "text/plain": [
       "(3244, 1080)"
      ]
     },
     "execution_count": 52,
     "metadata": {},
     "output_type": "execute_result"
    }
   ],
   "source": [
    "len(train), len(val)"
   ]
  },
  {
   "cell_type": "code",
   "execution_count": 53,
   "metadata": {},
   "outputs": [
    {
     "data": {
      "text/plain": [
       "((3244, 20000), (1080, 20000))"
      ]
     },
     "execution_count": 53,
     "metadata": {},
     "output_type": "execute_result"
    }
   ],
   "source": [
    "train_vec.shape, val_vec.shape"
   ]
  },
  {
   "cell_type": "markdown",
   "metadata": {},
   "source": [
    "### Model: Multi-Layer Perceptron (Vanilla NN)"
   ]
  },
  {
   "cell_type": "code",
   "execution_count": 54,
   "metadata": {},
   "outputs": [],
   "source": [
    "def mlp_model(layers, units, dropout_rate, input_shape, num_classes):\n",
    "    \"\"\"\n",
    "    Creates an instance of a multi-layer perceptron model.\n",
    "\n",
    "    Arguments\n",
    "        layers: int, number of `Dense` layers in the model.\n",
    "        units: int, output dimension of the layers.\n",
    "        dropout_rate: float, percentage of input to drop at Dropout layers.\n",
    "        input_shape: tuple, shape of input to the model.\n",
    "        num_classes: int, number of output classes.\n",
    "\n",
    "    Returns\n",
    "        An MLP model instance.\n",
    "    \"\"\"\n",
    "    op_units, op_activation = 1, 'sigmoid'\n",
    "    model = models.Sequential()\n",
    "    model.add(Dropout(rate=dropout_rate, input_shape=input_shape))\n",
    "\n",
    "    for _ in range(layers-1):\n",
    "        model.add(Dense(units=units, activation='relu'))\n",
    "        model.add(Dropout(rate=dropout_rate))\n",
    "\n",
    "    model.add(Dense(units=op_units, activation=op_activation))\n",
    "    \n",
    "    return model"
   ]
  },
  {
   "cell_type": "code",
   "execution_count": 55,
   "metadata": {},
   "outputs": [],
   "source": [
    "def train_ngram_model(data,\n",
    "                      learning_rate=1e-3,\n",
    "                      epochs=1000,\n",
    "                      batch_size=128,\n",
    "                      layers=2,\n",
    "                      units=64,\n",
    "                      dropout_rate=0.2):\n",
    "    \"\"\"\n",
    "    Trains n-gram model on the given dataset.\n",
    "\n",
    "    Arguments:\n",
    "        data: tuples of vectorized training and test texts and labels.\n",
    "        learning_rate: float, learning rate for training model.\n",
    "        epochs: int, number of epochs.\n",
    "        batch_size: int, number of samples per batch.\n",
    "        layers: int, number of `Dense` layers in the model.\n",
    "        units: int, output dimension of Dense layers in the model.\n",
    "        dropout_rate: float: percentage of input to drop at Dropout layers.\n",
    "\n",
    "    Returns:\n",
    "        tuple with accuracy and loss on validation data for the last interation\n",
    "    \"\"\"\n",
    "    # Get the data.\n",
    "    (x_train, train_labels), (x_val, val_labels) = data\n",
    "\n",
    "    # Verify that validation labels are in the same range as training labels.\n",
    "    num_classes = 2\n",
    "\n",
    "    # Create model instance.\n",
    "    model = mlp_model(layers=layers,\n",
    "                                  units=units,\n",
    "                                  dropout_rate=dropout_rate,\n",
    "                                  input_shape=x_train.shape[1:],\n",
    "                                  num_classes=num_classes)\n",
    "\n",
    "    # Compile model with learning parameters.\n",
    "    optimizer = tf.keras.optimizers.Adam(lr=learning_rate)\n",
    "    model.compile(optimizer=optimizer, loss='binary_crossentropy', metrics=['acc'])\n",
    "\n",
    "    # Create callback for early stopping on validation loss. If the loss does\n",
    "    # not decrease in two consecutive tries, stop training.\n",
    "    callbacks = [tf.keras.callbacks.EarlyStopping(\n",
    "        monitor='val_loss', patience=2)]\n",
    "\n",
    "    # Train and validate model.\n",
    "    history = model.fit(\n",
    "            x_train,\n",
    "            train_labels,\n",
    "            epochs=epochs,\n",
    "            callbacks=callbacks,\n",
    "            validation_data=(x_val, val_labels),\n",
    "            verbose=2,  # Logs once per epoch.\n",
    "            batch_size=batch_size)\n",
    "\n",
    "    # Print results.\n",
    "    history = history.history\n",
    "    print('Validation accuracy: {acc}, loss: {loss}'.format(\n",
    "            acc=history['val_acc'][-1], loss=history['val_loss'][-1]))\n",
    "\n",
    "    # Save model.\n",
    "#     model.save('C97_mlp_model.h5')\n",
    "    \n",
    "    return history['val_acc'][-1], history['val_loss'][-1]"
   ]
  },
  {
   "cell_type": "code",
   "execution_count": 56,
   "metadata": {},
   "outputs": [
    {
     "name": "stdout",
     "output_type": "stream",
     "text": [
      "WARNING:tensorflow:From /usr/local/lib/python3.5/dist-packages/tensorflow/python/keras/layers/core.py:143: calling dropout (from tensorflow.python.ops.nn_ops) with keep_prob is deprecated and will be removed in a future version.\n",
      "Instructions for updating:\n",
      "Please use `rate` instead of `keep_prob`. Rate should be set to `rate = 1 - keep_prob`.\n",
      "WARNING:tensorflow:From /usr/local/lib/python3.5/dist-packages/tensorflow/python/ops/control_flow_ops.py:423: colocate_with (from tensorflow.python.framework.ops) is deprecated and will be removed in a future version.\n",
      "Instructions for updating:\n",
      "Colocations handled automatically by placer.\n",
      "Train on 3244 samples, validate on 1080 samples\n",
      "WARNING:tensorflow:From /usr/local/lib/python3.5/dist-packages/tensorflow/python/ops/math_ops.py:3066: to_int32 (from tensorflow.python.ops.math_ops) is deprecated and will be removed in a future version.\n",
      "Instructions for updating:\n",
      "Use tf.cast instead.\n",
      "Epoch 1/1000\n",
      " - 1s - loss: 0.6754 - acc: 0.6751 - val_loss: 0.6564 - val_acc: 0.6963\n",
      "Epoch 2/1000\n",
      " - 1s - loss: 0.5903 - acc: 0.8428 - val_loss: 0.6112 - val_acc: 0.7250\n",
      "Epoch 3/1000\n",
      " - 1s - loss: 0.4944 - acc: 0.8927 - val_loss: 0.5743 - val_acc: 0.7315\n",
      "Epoch 4/1000\n",
      " - 1s - loss: 0.4054 - acc: 0.9195 - val_loss: 0.5478 - val_acc: 0.7361\n",
      "Epoch 5/1000\n",
      " - 1s - loss: 0.3297 - acc: 0.9387 - val_loss: 0.5339 - val_acc: 0.7370\n",
      "Epoch 6/1000\n",
      " - 1s - loss: 0.2704 - acc: 0.9572 - val_loss: 0.5262 - val_acc: 0.7398\n",
      "Epoch 7/1000\n",
      " - 1s - loss: 0.2211 - acc: 0.9676 - val_loss: 0.5230 - val_acc: 0.7343\n",
      "Epoch 8/1000\n",
      " - 1s - loss: 0.1803 - acc: 0.9812 - val_loss: 0.5244 - val_acc: 0.7315\n",
      "Epoch 9/1000\n",
      " - 1s - loss: 0.1507 - acc: 0.9840 - val_loss: 0.5277 - val_acc: 0.7287\n",
      "Validation accuracy: 0.7287036776542664, loss: 0.5277308088761788\n"
     ]
    },
    {
     "data": {
      "text/plain": [
       "(0.7287037, 0.5277308088761788)"
      ]
     },
     "execution_count": 56,
     "metadata": {},
     "output_type": "execute_result"
    }
   ],
   "source": [
    "train_ngram_model(((train_vec, train_target), (val_vec, val_target)))"
   ]
  },
  {
   "cell_type": "code",
   "execution_count": null,
   "metadata": {},
   "outputs": [],
   "source": []
  }
 ],
 "metadata": {
  "kernelspec": {
   "display_name": "Python 3",
   "language": "python",
   "name": "python3"
  },
  "language_info": {
   "codemirror_mode": {
    "name": "ipython",
    "version": 3
   },
   "file_extension": ".py",
   "mimetype": "text/x-python",
   "name": "python",
   "nbconvert_exporter": "python",
   "pygments_lexer": "ipython3",
   "version": "3.5.2"
  }
 },
 "nbformat": 4,
 "nbformat_minor": 2
}
