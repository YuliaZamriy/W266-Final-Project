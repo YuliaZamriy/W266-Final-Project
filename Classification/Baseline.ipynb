{
 "cells": [
  {
   "cell_type": "markdown",
   "metadata": {},
   "source": [
    "## TODO:\n",
    "\n",
    "1. Data: \n",
    "    - create script to combine all congresses\n",
    "    - create a party and chamber lists for addtional support\n",
    "    - create congress number list\n",
    "\n",
    "2. Train/Val/Test split:\n",
    "    - Put into a separate module\n",
    "    - Add an option to select a party or chapter\n",
    "    - Split train/val/test by congress to avoid time bias\n",
    "    - Play with hyperparameters:\n",
    "        - word_count\n",
    "        - random_splits: allocate more to training?\n",
    "        - increase balance ratio?\n",
    "\n",
    "3. EDA:\n",
    "    - Targets by party: should we run gender/ethnicity on Ds only?\n",
    "\n",
    "4. Vectorization:\n",
    "    - Tune hyper parameters:\n",
    "        - ngram_range: 1, 3\n",
    "        - change vocabulary size\n",
    "    - Add outputs:\n",
    "        - stop words\n",
    "        - lowest scoring words\n",
    "        - top 5/bottom 5 by congress\n",
    "\n",
    "5. Ngram model:\n",
    "    - Tune hyper parameters:\n",
    "        - use GridSearch?\n",
    "        - activation function\n",
    "        - learning rate\n",
    "        - batch size\n",
    "        - layers\n",
    "        - units\n",
    "        - dropout rate\n",
    "        - any other regularization (there is significant overfit)\n",
    "    - Run model:\n",
    "        - for each congress\n",
    "        - add one congress at a time\n",
    "           - hypothesis: is accuracy improving due to more data or more diversity?\n",
    "        - run only for Ds?\n",
    "    - Outputs:\n",
    "        - how to output predicted probablity?\n",
    "    - Model validation:\n",
    "        - build a separate function so it can be used with different models:\n",
    "            - input: predicted probability; actual labels; data (val or test?)\n",
    "        - chart distribution of the predicted probability \n",
    "        - bin predicted probabilities into:\n",
    "            - 0:0.4, 0.4:0.6, 0.6:1?\n",
    "            - accuracy in each bin\n",
    "            - crosstab them with various demos (party, chamber, age, year)\n",
    "            - get 1,2,3-grams for each bin\n",
    "        - output examples of speeches with scores close to 1 and close to 0 that are mispredicted vs predicted correctly\n",
    "        - Accuracy/loss by congress\n",
    "        - Accuracy/loss as congresses added\n",
    "            - save them and plot them\n",
    "\n",
    "### Long term:\n",
    "\n",
    "1. classificaiton models:\n",
    "    - ngram vanilla NN\n",
    "    - CNN\n",
    "    - some other models\n",
    "    - does it help to combine the results ensemble? if they make different mistakes, it should.\n",
    "2. Create a topics model:\n",
    "    - on raw data before classification\n",
    "    - on groups based on predicted probability bings:\n",
    "       - can we explain classification by topics that they bring up?\n",
    "       - or is it just based on language used? here we would check 1,2,3-ngrams\n",
    "3. Age:\n",
    "    - aging congress: how does it affect topics that people bring up?\n",
    "4. Speaker-level analysis:\n",
    "    - cluster speakers (k-means?) by their average predicted scores in classification models?\n",
    "        - for example, a white male that is closer to women by the way they use speech? are they liberals?"
   ]
  },
  {
   "cell_type": "markdown",
   "metadata": {},
   "source": [
    "Inspiration for code: https://github.com/google/eng-edu/blob/master/ml/guides/text_classification/load_data.py"
   ]
  },
  {
   "cell_type": "code",
   "execution_count": 1,
   "metadata": {},
   "outputs": [
    {
     "data": {
      "text/html": [
       "<style>.container { width:100% !important; }</style>"
      ],
      "text/plain": [
       "<IPython.core.display.HTML object>"
      ]
     },
     "metadata": {},
     "output_type": "display_data"
    }
   ],
   "source": [
    "# increase cell width\n",
    "from IPython.core.display import display, HTML\n",
    "display(HTML(\"<style>.container { width:100% !important; }</style>\"))"
   ]
  },
  {
   "cell_type": "code",
   "execution_count": 2,
   "metadata": {},
   "outputs": [],
   "source": [
    "from __future__ import absolute_import\n",
    "from __future__ import division\n",
    "from __future__ import print_function\n",
    "\n",
    "import os\n",
    "import random\n",
    "\n",
    "import numpy as np\n",
    "import pandas as pd\n",
    "\n",
    "from importlib import reload\n",
    "\n",
    "import nltk, re, pprint\n",
    "from nltk import word_tokenize"
   ]
  },
  {
   "cell_type": "code",
   "execution_count": 70,
   "metadata": {},
   "outputs": [],
   "source": [
    "from w266_common import utils, vocabulary\n",
    "from helpers import explore_data"
   ]
  },
  {
   "cell_type": "markdown",
   "metadata": {},
   "source": [
    "## Load the data"
   ]
  },
  {
   "cell_type": "code",
   "execution_count": 5,
   "metadata": {},
   "outputs": [
    {
     "data": {
      "text/plain": [
       "'/tf/notebooks/final-project/Classification'"
      ]
     },
     "execution_count": 5,
     "metadata": {},
     "output_type": "execute_result"
    }
   ],
   "source": [
    "pwd"
   ]
  },
  {
   "cell_type": "code",
   "execution_count": 4,
   "metadata": {},
   "outputs": [
    {
     "name": "stdout",
     "output_type": "stream",
     "text": [
      "speech_id|speech\r\n",
      "970000001|The Senate vill please come to order. The Chaplain will offer the prayer. The Chaplain. the Reverend Edward L. R. Elson. D.D.. offered the following prayer: PRAYER God of our fathers and our God. who has made and preserved us a nation. we thank Thee for Thy care over us from generation to generation. and for the new era which unfolds before us. Let Thy spirit descend upon us with all Its cleansing. healing. and creative power. Make usnew persons for new times in a land newborn in spirit. May the solemn induction of the new Members of this body be a renewal of the vocatinal vows of all others. In the deliberations of this new Congress keep our motives pure. our vision clear. our patriotism undefiled. our speech chaste. our judgments fair. and our consciences unbetrayed. Help us to develop work patterns which sustain the soul. nourish the mind. and strengthen the will. And give us grace to make time for the family. for home. and for worship. What we pray for this body we pray for all others in the service of the Government. Send us each day to our tasks to do Justly.to love mercy. and to walk humbly with our God. Hear us as we pray together the prayerthe Master taught us\"Our Father who art in heaven. hallowed be Thy name. Thy kingdom come. Thy will be done in Earth. as it is in heaven. Give us this day our daily bread. And forgive us our trespasses as we forgive those who trespass against us. And lead us not into temptation. but deliver us from evil* For Thine is the kingdom. and the power. and the glory forever.\" Amen.\r\n"
     ]
    }
   ],
   "source": [
    "!head -2 /tf/notebooks/final-project/data/sample/hein-daily/speeches_097.txt"
   ]
  },
  {
   "cell_type": "code",
   "execution_count": 15,
   "metadata": {},
   "outputs": [
    {
     "name": "stdout",
     "output_type": "stream",
     "text": [
      "283399\r\n"
     ]
    }
   ],
   "source": [
    "!cat /tf/notebooks/final-project/data/sample/hein-daily/speeches_097.txt | wc -l"
   ]
  },
  {
   "cell_type": "code",
   "execution_count": 13,
   "metadata": {},
   "outputs": [],
   "source": [
    "filepath = '/tf/notebooks/final-project/data/sample/hein-daily/speeches_097.txt'\n",
    "with open(filepath, 'rb') as f:\n",
    "    raw = f.read().decode(errors='replace')"
   ]
  },
  {
   "cell_type": "code",
   "execution_count": 14,
   "metadata": {},
   "outputs": [
    {
     "data": {
      "text/plain": [
       "(str, 249718612)"
      ]
     },
     "execution_count": 14,
     "metadata": {},
     "output_type": "execute_result"
    }
   ],
   "source": [
    "type(raw), len(raw)"
   ]
  },
  {
   "cell_type": "code",
   "execution_count": 9,
   "metadata": {},
   "outputs": [
    {
     "data": {
      "text/plain": [
       "16"
      ]
     },
     "execution_count": 9,
     "metadata": {},
     "output_type": "execute_result"
    }
   ],
   "source": [
    "raw.find('\\n')"
   ]
  },
  {
   "cell_type": "code",
   "execution_count": 8,
   "metadata": {},
   "outputs": [
    {
     "data": {
      "text/plain": [
       "'speech_id|speech'"
      ]
     },
     "execution_count": 8,
     "metadata": {},
     "output_type": "execute_result"
    }
   ],
   "source": [
    "raw[:16]"
   ]
  },
  {
   "cell_type": "code",
   "execution_count": 16,
   "metadata": {},
   "outputs": [],
   "source": [
    "raw = raw.split('\\n')[1:]"
   ]
  },
  {
   "cell_type": "code",
   "execution_count": 12,
   "metadata": {},
   "outputs": [
    {
     "data": {
      "text/plain": [
       "249718612"
      ]
     },
     "execution_count": 12,
     "metadata": {},
     "output_type": "execute_result"
    }
   ],
   "source": [
    "len(raw)"
   ]
  },
  {
   "cell_type": "code",
   "execution_count": 22,
   "metadata": {},
   "outputs": [
    {
     "data": {
      "text/plain": [
       "['970000001|The Senate vill please come to order. The Chaplain will offer the prayer. The Chaplain. the Reverend Edward L. R. Elson. D.D.. offered the following prayer: PRAYER God of our fathers and our God. who has made and preserved us a nation. we thank Thee for Thy care over us from generation to generation. and for the new era which unfolds before us. Let Thy spirit descend upon us with all Its cleansing. healing. and creative power. Make usnew persons for new times in a land newborn in spirit. May the solemn induction of the new Members of this body be a renewal of the vocatinal vows of all others. In the deliberations of this new Congress keep our motives pure. our vision clear. our patriotism undefiled. our speech chaste. our judgments fair. and our consciences unbetrayed. Help us to develop work patterns which sustain the soul. nourish the mind. and strengthen the will. And give us grace to make time for the family. for home. and for worship. What we pray for this body we pray for all others in the service of the Government. Send us each day to our tasks to do Justly.to love mercy. and to walk humbly with our God. Hear us as we pray together the prayerthe Master taught us\"Our Father who art in heaven. hallowed be Thy name. Thy kingdom come. Thy will be done in Earth. as it is in heaven. Give us this day our daily bread. And forgive us our trespasses as we forgive those who trespass against us. And lead us not into temptation. but deliver us from evil* For Thine is the kingdom. and the power. and the glory forever.\" Amen.',\n",
       " '970000002|The Chair lays before the Senate letters of resignation of two Senators and certificates of appointment of two Senators to fill the vacancies caused by thesi resignations. Without objection. the reading will be waived. and the documents will be printed in the RECORD. The documents ordered to be printed in the RECORD. are as follows:']"
      ]
     },
     "execution_count": 22,
     "metadata": {},
     "output_type": "execute_result"
    }
   ],
   "source": [
    "raw[:2]"
   ]
  },
  {
   "cell_type": "code",
   "execution_count": 17,
   "metadata": {},
   "outputs": [],
   "source": [
    "speech_ids, speeches = [], []\n",
    "for speech in raw:\n",
    "    speech = speech.split('|')\n",
    "    # skipping empty rows\n",
    "    if speech:\n",
    "        speech_ids.append(speech[0])\n",
    "        # some speeches have pipes in them\n",
    "        speeches.append(' '.join(speech[1:]))"
   ]
  },
  {
   "cell_type": "code",
   "execution_count": 18,
   "metadata": {
    "scrolled": true
   },
   "outputs": [
    {
     "data": {
      "text/plain": [
       "(283399, 283399)"
      ]
     },
     "execution_count": 18,
     "metadata": {},
     "output_type": "execute_result"
    }
   ],
   "source": [
    "len(speech_ids), len(speeches)"
   ]
  },
  {
   "cell_type": "code",
   "execution_count": 60,
   "metadata": {},
   "outputs": [
    {
     "data": {
      "text/plain": [
       "'970000001'"
      ]
     },
     "execution_count": 60,
     "metadata": {},
     "output_type": "execute_result"
    }
   ],
   "source": [
    "speech_ids[0]"
   ]
  },
  {
   "cell_type": "markdown",
   "metadata": {},
   "source": [
    "## Create target labels"
   ]
  },
  {
   "cell_type": "code",
   "execution_count": 40,
   "metadata": {},
   "outputs": [
    {
     "name": "stdout",
     "output_type": "stream",
     "text": [
      "README.md                ethicity_aapia.txt        \u001b[0m\u001b[01;36mgs_connect.py\u001b[0m@\r\n",
      "\u001b[01;34m__pycache__\u001b[0m/             ethicity_black.txt        \u001b[01;32mhein_daily_qa.sh\u001b[0m*\r\n",
      "\u001b[01;32mcnt_speaker_id.sh\u001b[0m*       ethicity_hispanic.txt     hein_daily_qa.txt\r\n",
      "cnt_speaker_id.txt       full_descr.txt            nltk.ipynb\r\n",
      "collecting_demo.ipynb    full_descr.zip            speakermap_qa.ipynb\r\n",
      "congresspeople_age.txt   \u001b[01;32mfull_speakermap.py\u001b[0m*       \u001b[01;32mspeakermap_qa.py\u001b[0m*\r\n",
      "congresspeople_demo.txt  full_speakermap.txt       speakermap_qa.txt\r\n",
      "congresspeople_id.txt    full_speakermap_demo.txt  speech_descr_qa.ipynb\r\n"
     ]
    }
   ],
   "source": [
    "ls /tf/notebooks/final-project/data/QA"
   ]
  },
  {
   "cell_type": "code",
   "execution_count": 19,
   "metadata": {},
   "outputs": [],
   "source": [
    "descr = {}\n",
    "with open('/tf/notebooks/final-project/data/QA/full_descr.txt') as f:\n",
    "    for line in f:\n",
    "        line = line.strip().split('|')\n",
    "        if line[0] == 'speech_id':\n",
    "            keys = line[1:]\n",
    "        else:\n",
    "            descr[line[0]] = {k:v for k,v in zip(keys, line[1:])}"
   ]
  },
  {
   "cell_type": "code",
   "execution_count": 20,
   "metadata": {},
   "outputs": [
    {
     "data": {
      "text/plain": [
       "{'Age': '63.0',\n",
       " 'Age_lt_med': '0.0',\n",
       " 'Chamber': 'S',\n",
       " 'Congress': '97',\n",
       " 'Ethnicity': 'W',\n",
       " 'Female': '0.0',\n",
       " 'Full Name': 'PERCY, CHARLES',\n",
       " 'NonWhite': '0.0',\n",
       " 'Party': 'R',\n",
       " 'State': 'IL',\n",
       " 'char_count': '201',\n",
       " 'date': '19810105',\n",
       " 'match': 'exact',\n",
       " 'speaker': 'Mr. PERCY',\n",
       " 'speakerid': '97105301.0',\n",
       " 'word_count': '34'}"
      ]
     },
     "execution_count": 20,
     "metadata": {},
     "output_type": "execute_result"
    }
   ],
   "source": [
    "descr['970000005']"
   ]
  },
  {
   "cell_type": "code",
   "execution_count": 53,
   "metadata": {},
   "outputs": [
    {
     "data": {
      "text/plain": [
       "220819"
      ]
     },
     "execution_count": 53,
     "metadata": {},
     "output_type": "execute_result"
    }
   ],
   "source": [
    "descr97 = []\n",
    "for s in descr:\n",
    "    if s[:2] == '97':\n",
    "        descr97.append(s)\n",
    "len(descr97)"
   ]
  },
  {
   "cell_type": "code",
   "execution_count": 55,
   "metadata": {},
   "outputs": [],
   "source": [
    "descr97.sort()"
   ]
  },
  {
   "cell_type": "code",
   "execution_count": 56,
   "metadata": {},
   "outputs": [
    {
     "data": {
      "text/plain": [
       "('970000005', '970283398')"
      ]
     },
     "execution_count": 56,
     "metadata": {},
     "output_type": "execute_result"
    }
   ],
   "source": [
    "descr97[0], descr97[-1]"
   ]
  },
  {
   "cell_type": "code",
   "execution_count": 61,
   "metadata": {},
   "outputs": [
    {
     "data": {
      "text/plain": [
       "0.7791805899103385"
      ]
     },
     "execution_count": 61,
     "metadata": {},
     "output_type": "execute_result"
    }
   ],
   "source": [
    "# percent of speeches that matched speaker ids\n",
    "len(descr97)/len(speech_ids)"
   ]
  },
  {
   "cell_type": "code",
   "execution_count": 21,
   "metadata": {},
   "outputs": [],
   "source": [
    "gender, ethnicity, age = [], [], []\n",
    "for i in speech_ids:\n",
    "    gender.append(int(float(descr.get(i, {}).get('Female', '-1'))))\n",
    "    ethnicity.append(int(float(descr.get(i, {}).get('NonWhite', '-1'))))\n",
    "    age.append(int(float(descr.get(i, {}).get('Age_lt_med', '-1'))))"
   ]
  },
  {
   "cell_type": "code",
   "execution_count": 22,
   "metadata": {},
   "outputs": [
    {
     "data": {
      "text/plain": [
       "(283399, 283399, 283399)"
      ]
     },
     "execution_count": 22,
     "metadata": {},
     "output_type": "execute_result"
    }
   ],
   "source": [
    "len(gender), len(ethnicity), len(age)"
   ]
  },
  {
   "cell_type": "code",
   "execution_count": 23,
   "metadata": {},
   "outputs": [
    {
     "name": "stdout",
     "output_type": "stream",
     "text": [
      "gender\n"
     ]
    },
    {
     "data": {
      "text/html": [
       "<div>\n",
       "<style scoped>\n",
       "    .dataframe tbody tr th:only-of-type {\n",
       "        vertical-align: middle;\n",
       "    }\n",
       "\n",
       "    .dataframe tbody tr th {\n",
       "        vertical-align: top;\n",
       "    }\n",
       "\n",
       "    .dataframe thead th {\n",
       "        text-align: right;\n",
       "    }\n",
       "</style>\n",
       "<table border=\"1\" class=\"dataframe\">\n",
       "  <thead>\n",
       "    <tr style=\"text-align: right;\">\n",
       "      <th></th>\n",
       "      <th>Category</th>\n",
       "      <th>Count</th>\n",
       "    </tr>\n",
       "  </thead>\n",
       "  <tbody>\n",
       "    <tr>\n",
       "      <th>0</th>\n",
       "      <td>-1</td>\n",
       "      <td>62580</td>\n",
       "    </tr>\n",
       "    <tr>\n",
       "      <th>1</th>\n",
       "      <td>0</td>\n",
       "      <td>216368</td>\n",
       "    </tr>\n",
       "    <tr>\n",
       "      <th>2</th>\n",
       "      <td>1</td>\n",
       "      <td>4451</td>\n",
       "    </tr>\n",
       "  </tbody>\n",
       "</table>\n",
       "</div>"
      ],
      "text/plain": [
       "<IPython.core.display.HTML object>"
      ]
     },
     "metadata": {},
     "output_type": "display_data"
    },
    {
     "name": "stdout",
     "output_type": "stream",
     "text": [
      "ethnicity\n"
     ]
    },
    {
     "data": {
      "text/html": [
       "<div>\n",
       "<style scoped>\n",
       "    .dataframe tbody tr th:only-of-type {\n",
       "        vertical-align: middle;\n",
       "    }\n",
       "\n",
       "    .dataframe tbody tr th {\n",
       "        vertical-align: top;\n",
       "    }\n",
       "\n",
       "    .dataframe thead th {\n",
       "        text-align: right;\n",
       "    }\n",
       "</style>\n",
       "<table border=\"1\" class=\"dataframe\">\n",
       "  <thead>\n",
       "    <tr style=\"text-align: right;\">\n",
       "      <th></th>\n",
       "      <th>Category</th>\n",
       "      <th>Count</th>\n",
       "    </tr>\n",
       "  </thead>\n",
       "  <tbody>\n",
       "    <tr>\n",
       "      <th>0</th>\n",
       "      <td>-1</td>\n",
       "      <td>62580</td>\n",
       "    </tr>\n",
       "    <tr>\n",
       "      <th>1</th>\n",
       "      <td>0</td>\n",
       "      <td>211468</td>\n",
       "    </tr>\n",
       "    <tr>\n",
       "      <th>2</th>\n",
       "      <td>1</td>\n",
       "      <td>9351</td>\n",
       "    </tr>\n",
       "  </tbody>\n",
       "</table>\n",
       "</div>"
      ],
      "text/plain": [
       "<IPython.core.display.HTML object>"
      ]
     },
     "metadata": {},
     "output_type": "display_data"
    },
    {
     "name": "stdout",
     "output_type": "stream",
     "text": [
      "age\n"
     ]
    },
    {
     "data": {
      "text/html": [
       "<div>\n",
       "<style scoped>\n",
       "    .dataframe tbody tr th:only-of-type {\n",
       "        vertical-align: middle;\n",
       "    }\n",
       "\n",
       "    .dataframe tbody tr th {\n",
       "        vertical-align: top;\n",
       "    }\n",
       "\n",
       "    .dataframe thead th {\n",
       "        text-align: right;\n",
       "    }\n",
       "</style>\n",
       "<table border=\"1\" class=\"dataframe\">\n",
       "  <thead>\n",
       "    <tr style=\"text-align: right;\">\n",
       "      <th></th>\n",
       "      <th>Category</th>\n",
       "      <th>Count</th>\n",
       "    </tr>\n",
       "  </thead>\n",
       "  <tbody>\n",
       "    <tr>\n",
       "      <th>0</th>\n",
       "      <td>-1</td>\n",
       "      <td>62580</td>\n",
       "    </tr>\n",
       "    <tr>\n",
       "      <th>1</th>\n",
       "      <td>0</td>\n",
       "      <td>143811</td>\n",
       "    </tr>\n",
       "    <tr>\n",
       "      <th>2</th>\n",
       "      <td>1</td>\n",
       "      <td>77008</td>\n",
       "    </tr>\n",
       "  </tbody>\n",
       "</table>\n",
       "</div>"
      ],
      "text/plain": [
       "<IPython.core.display.HTML object>"
      ]
     },
     "metadata": {},
     "output_type": "display_data"
    }
   ],
   "source": [
    "def get_counts(lst):\n",
    "    \"\"\"\n",
    "    Checks the distribution of target variables\n",
    "    \"\"\"\n",
    "    unique, counts = np.unique(lst[0], return_counts=True)\n",
    "    M = np.concatenate((unique.astype(int), counts.astype(int))).reshape((2,3)).T\n",
    "    print(lst[1])\n",
    "    utils.pretty_print_matrix(M, cols=['Category', 'Count'], dtype=int)\n",
    "\n",
    "for i in [(gender, \"gender\"), (ethnicity, \"ethnicity\"), (age, \"age\")]:\n",
    "    get_counts(i)"
   ]
  },
  {
   "cell_type": "markdown",
   "metadata": {},
   "source": [
    "### Data QA"
   ]
  },
  {
   "cell_type": "code",
   "execution_count": 24,
   "metadata": {},
   "outputs": [],
   "source": [
    "def random_speech(data, ids, target, value):\n",
    "    \"\"\"\n",
    "    Prints a random speech for a specific target value\n",
    "    \n",
    "    Args:\n",
    "        data: list of speeches\n",
    "        ids: list of speech ids\n",
    "        target: list of 0,1 \n",
    "        value: int, 0 or 1\n",
    "    \"\"\"\n",
    "    r = np.random.choice(np.array(ids)[np.array(target)==value])\n",
    "    print(\"Speaker information\")\n",
    "    for i in descr[r]:\n",
    "        print(i, descr[r][i])\n",
    "    print()\n",
    "    print(data[ids.index(r)])"
   ]
  },
  {
   "cell_type": "code",
   "execution_count": 25,
   "metadata": {},
   "outputs": [
    {
     "name": "stdout",
     "output_type": "stream",
     "text": [
      "Speaker information\n",
      "speaker Mrs. KASSEBAUM\n",
      "Ethnicity W\n",
      "Chamber S\n",
      "State KS\n",
      "match exact\n",
      "Party R\n",
      "speakerid 97109311.0\n",
      "Age 50.0\n",
      "Age_lt_med 1.0\n",
      "date 19810604\n",
      "char_count 2485\n",
      "word_count 390\n",
      "Full Name KASSEBAUM, NANCY\n",
      "Female 1.0\n",
      "Congress 97\n",
      "NonWhite 0.0\n",
      "\n",
      "Mr. President. there can be little question that Government spending has made a major contribution to the economic problems we are facing today. In recognition of this. most Americans have supported a broadbased program to reduce the growth of the Federal budget. While many laudable Federal programs may be affected by these budget cuts. it has been heartening to note that American citizens are willing to bear their share of the burden now in anticipation of a future recovery. It is clear that Members of Congress and the executive branch should not expect the rest of the country to cut back when they exempt themselves from sacrifice. As a demonstration of this belief. the Senate has supported the Presidents decision to recommend no pay raise for senior Government officials and Members of Congress. Numerous other spending areas will require examination. and chief among them is the cost to the Government of providing for former Presidents. For the first time In history. we are spending more for the support of former Presidents than for the White House itself. With a projected cost of $22 million for his fiscal year. there is now widespread taxpayer sentiment that expenditures for maintaining exPresidents are out of control. I am pleased to join as a cosponsor of the Former Presidents Facilities and Services Reform Act of 1981. This carefully written legislation limits the services and allowances provided for former Presidents and their wives. children. staff. or survivors. and insures that Federal funds are not used for personal political or incomegenerating activities. It provides Secret Service protection for the former President for 8 years only. unless the determination. is made that a serious need exists. Finally. the bill places particular emphasis on controlling the enormous expense of the presidential library system without jeopardizing the systems important place in our Nations heritage. Americans realize that Presidents continue In public life long after leaving office. Because of the demands that continue to be present. they indeed do require adequate security and assistance in filling requests connected with their role as former Chief Executives. Because of their years of service to this country. their welldeserved right to an appropriate pension Is unquestioned. I am convinced that this legislation balances our responsibilities. both to former Presidents who have served us and to frustrated taxpayers who continue to pay the bills.*\n"
     ]
    }
   ],
   "source": [
    "random_speech(speeches, speech_ids, gender, 1)"
   ]
  },
  {
   "cell_type": "code",
   "execution_count": 28,
   "metadata": {},
   "outputs": [
    {
     "name": "stdout",
     "output_type": "stream",
     "text": [
      "Speaker information\n",
      "speaker Mrs. COLLINS of Illinois\n",
      "Ethnicity B\n",
      "Chamber H\n",
      "State IL\n",
      "match fuzzy\n",
      "Party D\n",
      "speakerid 97111080.0\n",
      "Age 51.0\n",
      "Age_lt_med 0.0\n",
      "date 19810205\n",
      "char_count 3511\n",
      "word_count 574\n",
      "Full Name COLLINS, CARDISS\n",
      "Female 1.0\n",
      "Congress 97\n",
      "NonWhite 1.0\n",
      "\n",
      "Mr. Speaker. it is with immense pleasure and pride that I rise to pay tribute to the outstanding and sensitive leader of Loyola Universijy of Chicago and a constituent. Rev. Raymond C. Baumhart. On February 7. 1981. the alumni of Loyola University will honor the leadership and administration of a man who for 10 years served his university and surrounding Chicago community with Insight and excellence excelled by none. Reverend Baumhart. a distinguished man in his own right. a very talented and gifted writer. Is equally at home in theology and philosophy as he is in the business world. Father Baumhart has written extensively on business ethics and educational administration. He wrote the book.. \"An Honest Profit: What Businessmen Say About Ethics In Business\" (Holt. Rinehart. 1968). and coauthored \"Cases In Business Ethics\" (AppletonCentury. 1968.). HIS articles have appeared in numerous magazines. Including America. Harvard Business Review. Social Order. and Printers Ink. He Is a member of the Commercial Club of Chicago. the Economic Club of Chicago. the Tavern Club. the Chicago Committee. the MidAn irlca Club. Beta Gamnma Sigma. and the Friends Committee of the Latino Institute of Chicago. He was Cardinal OHara lecturer at Notre Dame University. and Is the recipient of the Order of Cavalier award from the Republic of Italy. the Rale Medallion from Boston College. and an honorary doctor of laws degree from Illinois College. He also serves on the board of directors of the Jewel Cos.. Inc.-since 1973. and the Continental Illinois Banksince 1976. He was a member of the American Management Associations theologians advisory council (196460). and served as a consultant to the Fabricast Division of General Motors in Bedford. Ind. (1957). and to the National Conference of Christian Emploers & Managers (196367). By utilizing \"the Jesuit flavored eon- cern for the individual.\" Reverend Baumhart h as combined Job training. emphasis on humanities and arts. and adhering to budget limits to make Loyola a firstrate Institution. An institution sporting a new science facility. modern law school. research into such topics as neurology to the epistles of St. Paul. He has done it all and he had done it well. In closing. I would like to share with my colleagues and Loyola alumni and friends a copy of a letter written to Father latumhart last year by Archbishop John Cardinal Cody: DEARI FATHER BAUMHART: Although I cannot be present In person to greet you and offer my congratulations as you round out ten years as President of Loyola University on July 31. 1980. I assure you that I will be jc.nt with you. your brother Jesuits and friends In offering my thanks to you for all that you have done for the great metropolitan area of Chicago. the Archdiocese. Loyola University. the pri sts. religious. brothers and lay people who iave benefited by your services as President of the University. These have been indeed ten eventful years and under your guidance and leadership. the University has risen to new heights. both as an important community service as well as an Institution to which the Church can rightfully express its sincere appreciations. This I do as the Chief Shepherd of two and onehalf million Catholics. and I hope and pray that the growth and development of Loyola University and all its affiliates wili continue to expand. Wishing you personally an abundance of blessings as you continue your dedicated service. I am. dear Father Baumhart. Very gratefully yours In Christ.\n"
     ]
    }
   ],
   "source": [
    "random_speech(speeches, speech_ids, ethnicity, 1)"
   ]
  },
  {
   "cell_type": "code",
   "execution_count": 30,
   "metadata": {},
   "outputs": [
    {
     "name": "stdout",
     "output_type": "stream",
     "text": [
      "Speaker information\n",
      "speaker Mr. BONKER\n",
      "Ethnicity W\n",
      "Chamber H\n",
      "State WA\n",
      "match fuzzy\n",
      "Party D\n",
      "speakerid 97107640.0\n",
      "Age 45.0\n",
      "Age_lt_med 1.0\n",
      "date 19810804\n",
      "char_count 1572\n",
      "word_count 239\n",
      "Full Name BONKER, DON\n",
      "Female 0.0\n",
      "Congress 97\n",
      "NonWhite 0.0\n",
      "\n",
      "Mr. Speaker. with todays House passage of the conferE 4005 ence report on the tax cut. President Reagan now has had 100 percent of his economic program approved by the Congress. The President has accomplished this radical turnaround In American economic policy in Just 6 short months. Although much of the impact of the deep cuts to social. health. and educational programs will be felt almost immediately In the months ahead. the most profoundly Important repercussions of the Presidents program will not be apparent for a number of years. Recently. an article in one of the leading newspapers of the Pacific Northwest. the Seattle PostIntelligencer. offered a glimpse of what these longterm repercussions might be. The vision is a sobering one. and I commend it to the attention of my colleagues. In the article. Prof. Arval Morris of the University of Washington School of Law argues that President Reagans program represents a wholesale shift away from the enhancement of our Nations greatest resourcethe energy and creativity of the American peopletoward a concentration upon the machinery. capital Investment. industrial plant. and all the other trappings of our manufacturingbased economy of the 1940s which represents economic recovery to the Reagan White House. Professor Morris analysis exposes the poverty of the administrations shortsighted policy of pursuing immediate budgetary savings through slashes to social program spending. without regard to the consequencesand. ironically. higher costsin the future. [From the Seattle Postintelligence. July 23. 1981]\n"
     ]
    }
   ],
   "source": [
    "random_speech(speeches, speech_ids, age, 1)"
   ]
  },
  {
   "cell_type": "markdown",
   "metadata": {},
   "source": [
    "## Split into train, validate, test"
   ]
  },
  {
   "cell_type": "code",
   "execution_count": 51,
   "metadata": {},
   "outputs": [],
   "source": [
    "def split_train_val_test(data, ids, target, balance, splits, word_count=30):\n",
    "    \"\"\"\n",
    "    Splits speeches into train, validation and test samples\n",
    "    \n",
    "    Args:\n",
    "        data: list of speeches\n",
    "        ids: list of speech ids\n",
    "        target: list of target values (0,1,-1)\n",
    "        balance: desired ratio of 0s to 1s\n",
    "        splits: list of floats for [train, validation, test] splits\n",
    "    \n",
    "    Kwards:\n",
    "        word_count: min number of words in the speech\n",
    "    \n",
    "    Returns:\n",
    "        tuple of lists: train speeches, speech ids and target, \n",
    "                        validation speeches, speech ids and target, \n",
    "                        test speeches, speech ids and target\n",
    "    \"\"\"\n",
    "    \n",
    "    # initialize lists to hold speeches\n",
    "    ones, zeroes = [], []\n",
    "    ones_ids, zeroes_ids = [], []\n",
    "    \n",
    "    for i in range(len(target)):\n",
    "        # -1 indicated non-matched speeches. They are dropped\n",
    "        # select only speeches that have at least min\n",
    "        # desired length\n",
    "        if (target[i] != -1) and (int(descr[ids[i]]['word_count']) > word_count):\n",
    "            if target[i] == 1:\n",
    "                ones.append(data[i])\n",
    "                ones_ids.append(ids[i])\n",
    "            elif target[i] == 0:\n",
    "                zeroes.append(data[i])\n",
    "                zeroes_ids.append(data[i])\n",
    "    \n",
    "    # get lengths of train, validation and test lists\n",
    "    train_ones_len = int(len(ones)*splits[0])\n",
    "    val_ones_len = int(len(ones)*splits[1])\n",
    "    test_ones_len = len(ones) - train_ones_len - val_ones_len\n",
    "    \n",
    "    if int(len(ones)*balance) < len(zeroes):\n",
    "        train_zeroes_len = int(train_ones_len*balance)\n",
    "        val_zeroes_len = int(val_ones_len*balance)\n",
    "        test_zeroes_len = int(test_ones_len*balance)\n",
    "    else:\n",
    "        train_zeroes_len = int(len(zeroes)*splits[0])\n",
    "        val_zeroes_len = int(len(zeroes)*splits[1])\n",
    "        test_zeroes_len = len(zeroes) - train_zeroes_len - test_zeroes_len\n",
    "    \n",
    "    # create randomly shuffled indices\n",
    "    random.seed(100)    \n",
    "    ones_shuffled = np.random.permutation(np.arange(len(ones)))\n",
    "    zeroes_shuffled = np.random.permutation(np.arange(len(zeroes)))\n",
    "    \n",
    "    # subset lists of speeches based on shuffled indices\n",
    "    train_ones = [ones[i] for i in ones_shuffled[:train_ones_len]]\n",
    "    val_ones = [ones[i] for i in ones_shuffled[train_ones_len:-test_ones_len]]\n",
    "    test_ones = [ones[i] for i in ones_shuffled[-test_ones_len:]]\n",
    "\n",
    "    train_ones_ids = [ones_ids[i] for i in ones_shuffled[:train_ones_len]]\n",
    "    val_ones_ids = [ones_ids[i] for i in ones_shuffled[train_ones_len:-test_ones_len]]\n",
    "    test_ones_ids = [ones_ids[i] for i in ones_shuffled[-test_ones_len:]]\n",
    "\n",
    "    train_zeroes = [zeroes[i] for i in zeroes_shuffled[:train_zeroes_len]]\n",
    "    val_zeroes = [zeroes[i] for i in zeroes_shuffled[train_zeroes_len:train_zeroes_len+val_zeroes_len]]\n",
    "    test_zeroes = [zeroes[i] for i in zeroes_shuffled[-test_zeroes_len:]]\n",
    "\n",
    "    train_zeroes_ids = [zeroes_ids[i] for i in zeroes_shuffled[:train_zeroes_len]]\n",
    "    val_zeroes_ids = [zeroes_ids[i] for i in zeroes_shuffled[train_zeroes_len:train_zeroes_len+val_zeroes_len]]\n",
    "    test_zeroes_ids = [zeroes_ids[i] for i in zeroes_shuffled[-test_zeroes_len:]]\n",
    "\n",
    "    # combine lists\n",
    "    train = train_ones + train_zeroes\n",
    "    val = val_ones + val_zeroes\n",
    "    test = test_ones + test_zeroes\n",
    "\n",
    "    train_ids = train_ones_ids + train_zeroes_ids\n",
    "    val_ids = val_ones_ids + val_zeroes_ids\n",
    "    test_ids = test_ones_ids + test_zeroes_ids\n",
    "\n",
    "    # create target lists\n",
    "    train_target = [1]*len(train_ones) + [0]*len(train_zeroes)\n",
    "    val_target = [1]*len(val_ones) + [0]*len(val_zeroes)\n",
    "    test_target = [1]*len(test_ones) + [0]*len(test_zeroes)\n",
    "\n",
    "    print(\"Training split: {} ones and {} zeroes\".format(train_ones_len, train_zeroes_len))\n",
    "    print(\"Training speech list size: {}\".format(len(train)))\n",
    "    print(\"Training target list size: {}\".format(len(train_target)))\n",
    "\n",
    "    print(\"Validation split: {} ones and {} zeroes\".format(val_ones_len, val_zeroes_len))\n",
    "    print(\"Validation speech list size: {}\".format(len(val)))\n",
    "    print(\"Validation target list size: {}\".format(len(val_target)))    \n",
    "    \n",
    "    print(\"Test split: {} ones and {} zeroes\".format(test_ones_len, test_zeroes_len))\n",
    "    print(\"Test speech list size: {}\".format(len(test)))\n",
    "    print(\"Test target list size: {}\".format(len(test_target)))\n",
    "\n",
    "    return train, train_ids, train_target, val, val_ids, val_target, test, test_ids, test_target"
   ]
  },
  {
   "cell_type": "code",
   "execution_count": 52,
   "metadata": {},
   "outputs": [
    {
     "name": "stdout",
     "output_type": "stream",
     "text": [
      "Training split: 1622 ones and 1622 zeroes\n",
      "Training speech list size: 3244\n",
      "Training target list size: 3244\n",
      "Validation split: 540 ones and 540 zeroes\n",
      "Validation speech list size: 1080\n",
      "Validation target list size: 1080\n",
      "Test split: 542 ones and 542 zeroes\n",
      "Test speech list size: 1084\n",
      "Test target list size: 1084\n"
     ]
    }
   ],
   "source": [
    "random_splits = [0.6, 0.2, 0.2]\n",
    "train, train_ids, train_target, val, val_ids, val_target, test, test_ids, test_target = split_train_val_test(speeches, speech_ids, gender, 1, random_splits)"
   ]
  },
  {
   "cell_type": "code",
   "execution_count": 53,
   "metadata": {},
   "outputs": [
    {
     "data": {
      "text/plain": [
       "(1622, 540, 542)"
      ]
     },
     "execution_count": 53,
     "metadata": {},
     "output_type": "execute_result"
    }
   ],
   "source": [
    "sum(train_target), sum(val_target), sum(test_target)"
   ]
  },
  {
   "cell_type": "code",
   "execution_count": 58,
   "metadata": {},
   "outputs": [
    {
     "data": {
      "text/plain": [
       "1747"
      ]
     },
     "execution_count": 58,
     "metadata": {},
     "output_type": "execute_result"
    }
   ],
   "source": [
    "# number of speeches under 30 words\n",
    "sum(np.array(gender)==1) - (sum(train_target) + sum(val_target) + sum(test_target))"
   ]
  },
  {
   "cell_type": "code",
   "execution_count": 59,
   "metadata": {},
   "outputs": [
    {
     "name": "stdout",
     "output_type": "stream",
     "text": [
      "Speaker information\n",
      "speaker Mrs. SCHROEDER\n",
      "Ethnicity W\n",
      "Chamber H\n",
      "State CO\n",
      "match exact\n",
      "Party D\n",
      "speakerid 97111540.0\n",
      "Age 42.0\n",
      "Age_lt_med 1.0\n",
      "date 19820527\n",
      "char_count 940\n",
      "word_count 152\n",
      "Full Name SCHROEDER, PATRICIA\n",
      "Female 1.0\n",
      "Congress 97\n",
      "NonWhite 0.0\n",
      "\n",
      "Mr. Chairman. I move to strike the last word. Mr. Chairman. I use this time and and would like to address a question to the distinguished chairman of the Budget Committee. Section 307 of the Latta substitute says. \"It is the sense of Congress that reductions in Federal employment should be accomplished by attrition only.\" As chairwoman of the Subcominttee on Civil Service. I know that involuntary methods of reducing the cost of the workforce. such as through reductions in force. more commonly known as RIFs. and furloughs are tremendously costly. both in dollars and in employee productivity. Mr. Chairman. I agree with section 307 of the Latta substitute and think this administrations war against Federal employees gives the lie to its professed desire to cut costs. Because section 307 repudiates the actions of this administration. should those of us who are concerned about the productivity of the Federal workforce support Latta?\n"
     ]
    }
   ],
   "source": [
    "random_speech(train, train_ids, train_target, 1)"
   ]
  },
  {
   "cell_type": "code",
   "execution_count": 60,
   "metadata": {},
   "outputs": [
    {
     "name": "stdout",
     "output_type": "stream",
     "text": [
      "Speaker information\n",
      "speaker Mrs. BYRON\n",
      "Ethnicity W\n",
      "Chamber H\n",
      "State MD\n",
      "match fuzzy\n",
      "Party D\n",
      "speakerid 97108830.0\n",
      "Age 50.0\n",
      "Age_lt_med 1.0\n",
      "date 19820811\n",
      "char_count 5295\n",
      "word_count 839\n",
      "Full Name BYRON, BEVERLY\n",
      "Female 1.0\n",
      "Congress 97\n",
      "NonWhite 0.0\n",
      "\n",
      "Mr. Speaker. I rise today to alert my colleagues in the House to the operations of the organization responsible for coordinating international exports. and to the need to change the orientation of this important group. The organization to which I refer is the Coordinating Committee for Multilateral Export Controls. This group. known as COCOM. was organized in 1949 and began operation in early 1950. By 1953. COCOM attained the membership that has survived to this day. being the NATO nations less Iceland and including Japan. The broad purpose of COCOM is to coordinate the restrictions on the sale and export of materials and technology to the Communist bloc. COCOM operates by formulating lists of goods and technologies that the member countries agree should not be exported to the Communist bloc. The lists are comprised of technical specifications for controlled categories of equipment and technologies. The specifications are then applied by each member country to restrict their own exports. When a country recognizes that a proposed export to a Communist bloc country would conflict with a COCOM list specification. the country can either deny permission for the export or apply for an exception to the COCOM controls. COCOM lists are divided into three general areas: A munitions list which includes overtly military items. an atomic energy list which covers materials and reactor technology. and an industrial/commercial list. The controls exercised under this last category. the industrial/commercial list. cause the highest degree of international interest and. sometimes. unrest. Control of industrial and commercial items is based on the observation that these items have the propensity to be used in both civilian and military applications. the shorthand for this class of items and their related technologies is dual use. It is essential to keep in mind that it is the risk that a proposed export will be applied to a military purpose that underlies the COCOM controls on these items. For example. a precision grinding machine proposed for export to the Soviets for manufacturing steam turLine blades could be diverted to producing better blades for military jet engines. Let me return for a moment to the status of COCOM to illustrate a problem that needs a solution. COCOM is a voluntary organization. with no treaty status or enforcement mechanism. and indeed very little visibility at all. Some members do not officially acknowledge their participation. This loose status. while it may 6e politically desirable in some countries. leads to actions which are dangerously contrary to the purpose of COCOM. In the export of dualuse items. there is an attitude among hightechnology exporters along the following lines: \"If the Soviets can get the goods or technology from another source. why should my country prohibit the export?\" In other words. a perception of lack of coordinated control is used as a basis to further diminish control. This is indeed a powerful argument. But instead of following it to its logical conclusion. the abolishment of all international security controls in favor of business opportunity. I believe that this Nation should take the lead in restating the basis of COCOM and should work toward an internationally recognized status for this important organization. The basis of COCOM. that of controlling and coordinating Western exports in favor of international security. remains viable and appropriate today. even as it did in 1950. The Strategic Trade Act of 1982. includes a clear mandate to increase the U.S. participation in COCOM and to seek treaty status for this organization. Increased emphasis on COCOM control. and the awareness that it implies an international policy. can produce more effective controls on the flow of technology to the Soviet military machine. Along with increasing U.S. participation in COCOM. our bill seeks a reorlentation in the policy basis for the U.S. participation. Other countries have perceived that U.S. actions in COCOM have been economically motivated to create market advantages for U.S. companies. Recognizing that the fundamental basis of COCOM is international security. the Strategic Trade Act enhances the military review of COCOMlist exports and the overall military presence in the COCOM process. By stressing the military security aspects of COCOM. the United States can underscore the fact that COCOM must be viewed as a security organization. In taking this lead. and by showing that increased military review of COCOM procedures is valuable and appropriate. the Strategic Trade Act is intended to induce COCOM members to increase their military involvement in the export process. Indeed. a recent article in the Baltimore Sun includes an assertion by a COCOM expert that most of the COCOM members do not now Include military experts in their COCOM delegations. In summary. I observe that loose controls lead to international insecurity. The United States must take the lead to tighten controls. The Strategic Trade Act provides a means for accomplishing this worthwhile end. I see no reason why we should finance such a . large defense budget in the United States. and then tolerate an export policy from our allies which eventually reduces our security and the security of the free world.e\n"
     ]
    }
   ],
   "source": [
    "random_speech(val, val_ids, val_target, 1)"
   ]
  },
  {
   "cell_type": "code",
   "execution_count": 61,
   "metadata": {},
   "outputs": [
    {
     "name": "stdout",
     "output_type": "stream",
     "text": [
      "Speaker information\n",
      "speaker Mrs. COLLIN\n",
      "Ethnicity B\n",
      "Chamber H\n",
      "State IL\n",
      "match exact\n",
      "Party D\n",
      "speakerid 97111080.0\n",
      "Age 51.0\n",
      "Age_lt_med 0.0\n",
      "date 19811214\n",
      "char_count 277\n",
      "word_count 49\n",
      "Full Name COLLINS, CARDISS\n",
      "Female 1.0\n",
      "Congress 97\n",
      "NonWhite 1.0\n",
      "\n",
      "% of Illinois. Mr. Chairman. I rise in support of H.R. 4700. the Standby Petroleum Emergency Authority Act of 1981. I support this legislation not so much for what it contains in the form of specific authority but rather as an affirmation of the committees concern for the fate\n"
     ]
    }
   ],
   "source": [
    "random_speech(test, test_ids, test_target, 1)"
   ]
  },
  {
   "cell_type": "markdown",
   "metadata": {},
   "source": [
    "## EDA on train data"
   ]
  },
  {
   "cell_type": "markdown",
   "metadata": {},
   "source": [
    "Source: https://developers.google.com/machine-learning/guides/text-classification/step-2"
   ]
  },
  {
   "cell_type": "markdown",
   "metadata": {},
   "source": [
    "### Check median number of words per sample in train/val/test"
   ]
  },
  {
   "cell_type": "code",
   "execution_count": 92,
   "metadata": {},
   "outputs": [
    {
     "data": {
      "text/plain": [
       "<module 'helpers.explore_data' from '/tf/notebooks/final-project/Classification/helpers/explore_data.py'>"
      ]
     },
     "execution_count": 92,
     "metadata": {},
     "output_type": "execute_result"
    }
   ],
   "source": [
    "reload(explore_data)"
   ]
  },
  {
   "cell_type": "code",
   "execution_count": 62,
   "metadata": {},
   "outputs": [
    {
     "data": {
      "text/plain": [
       "208.0"
      ]
     },
     "execution_count": 62,
     "metadata": {},
     "output_type": "execute_result"
    }
   ],
   "source": [
    "explore_data.get_num_words_per_sample(train)"
   ]
  },
  {
   "cell_type": "code",
   "execution_count": 63,
   "metadata": {},
   "outputs": [
    {
     "data": {
      "text/plain": [
       "213.5"
      ]
     },
     "execution_count": 63,
     "metadata": {},
     "output_type": "execute_result"
    }
   ],
   "source": [
    "explore_data.get_num_words_per_sample(val)"
   ]
  },
  {
   "cell_type": "code",
   "execution_count": 64,
   "metadata": {},
   "outputs": [
    {
     "data": {
      "text/plain": [
       "216.0"
      ]
     },
     "execution_count": 64,
     "metadata": {},
     "output_type": "execute_result"
    }
   ],
   "source": [
    "explore_data.get_num_words_per_sample(test)"
   ]
  },
  {
   "cell_type": "code",
   "execution_count": 76,
   "metadata": {},
   "outputs": [
    {
     "data": {
      "image/png": "[encoded data removed]",
      "text/plain": [
       "<Figure size 432x288 with 1 Axes>"
      ]
     },
     "metadata": {
      "needs_background": "light"
     },
     "output_type": "display_data"
    }
   ],
   "source": [
    "explore_data.plot_sample_length_distribution(train)"
   ]
  },
  {
   "cell_type": "markdown",
   "metadata": {},
   "source": [
    "### Most popular unigrams (training only)"
   ]
  },
  {
   "cell_type": "code",
   "execution_count": 88,
   "metadata": {},
   "outputs": [
    {
     "name": "stdout",
     "output_type": "stream",
     "text": [
      "['the', 'of', 'to', 'and', 'in', 'that', 'is', 'for', 'this', 'we', 'it', 'on', 'be', 'have', 'are', 'not', 'as', 'by', 'with', 'will', 'has', 'our', 'mr', 'would', 'from', 'which', 'was', 'an', 'at', 'they', 'my', 'their', 'or', 'but', 'been', 'all', 'who', 'he', 'his', 'president', 'these', 'bill', 'if', 'do', 'there', 'amendment', 'more', 'people', 'one', 'can']\n"
     ]
    },
    {
     "data": {
      "image/png": "[encoded data removed]",
      "text/plain": [
       "<Figure size 1440x720 with 1 Axes>"
      ]
     },
     "metadata": {
      "needs_background": "light"
     },
     "output_type": "display_data"
    }
   ],
   "source": [
    "explore_data.plot_frequency_distribution_of_ngrams(train, ngram_range=(1,1))"
   ]
  },
  {
   "cell_type": "markdown",
   "metadata": {},
   "source": [
    "### Most popular bigrams (training only)"
   ]
  },
  {
   "cell_type": "code",
   "execution_count": 89,
   "metadata": {},
   "outputs": [
    {
     "name": "stdout",
     "output_type": "stream",
     "text": [
      "['of the', 'in the', 'to the', 'it is', 'that the', 'for the', 'and the', 'on the', 'by the', 'mr speaker', 'to be', 'with the', 'of this', 'we have', 'we are', 'mr president', 'that we', 'will be', 'in this', 'has been', 'from the', 'united states', 'the gentleman', 'the united', 'have been', 'is the', 'of our', 'at the', 'would be', 'that is', 'the house', 'is not', 'the senate', 'do not', 'mr chairman', 'there is', 'my colleagues', 'the federal', 'the bill', 'one of', 'the committee', 'as the', 'this is', 'like to', 'this bill', 'going to', 'want to', 'the american', 'the president', 'would like']\n"
     ]
    },
    {
     "data": {
      "image/png": "[encoded data removed]",
      "text/plain": [
       "<Figure size 1440x720 with 1 Axes>"
      ]
     },
     "metadata": {
      "needs_background": "light"
     },
     "output_type": "display_data"
    }
   ],
   "source": [
    "explore_data.plot_frequency_distribution_of_ngrams(train, ngram_range=(2,2))"
   ]
  },
  {
   "cell_type": "markdown",
   "metadata": {},
   "source": [
    "### Most popular trigrams (training only)"
   ]
  },
  {
   "cell_type": "code",
   "execution_count": 90,
   "metadata": {},
   "outputs": [
    {
     "name": "stdout",
     "output_type": "stream",
     "text": [
      "['the united states', 'would like to', 'the gentleman from', 'one of the', 'the senator from', 'the soviet union', 'the department of', 'the federal government', 'of the united', 'percent of the', 'chairman of the', 'in support of', 'members of the', 'the american people', 'as well as', 'of the house', 'in order to', 'my colleagues to', 'there is no', 'the fact that', 'are going to', 'the people of', 'part of the', 'some of the', 'in the united', 'it is not', 'ask unanimous consent', 'thank the gentleman', 'in the record', 'of the senate', 'the committee on', 'be able to', 'that it is', 'in this country', 'support of the', 'member of the', 'of the bill', 'urge my colleagues', 'that we have', 'that we are', 'think it is', 'in the house', 'unanimous consent that', 'we do not', 'of my colleagues', 'it is the', 'the gentleman for', 'of the american', 'rise in support', 'of the committee']\n"
     ]
    },
    {
     "data": {
      "image/png": "[encoded data removed]",
      "text/plain": [
       "<Figure size 1440x720 with 1 Axes>"
      ]
     },
     "metadata": {
      "needs_background": "light"
     },
     "output_type": "display_data"
    }
   ],
   "source": [
    "explore_data.plot_frequency_distribution_of_ngrams(train, ngram_range=(3,3))"
   ]
  },
  {
   "cell_type": "markdown",
   "metadata": {},
   "source": [
    "## N-gram model"
   ]
  },
  {
   "cell_type": "markdown",
   "metadata": {},
   "source": [
    "Inspiration for code: https://developers.google.com/machine-learning/guides/text-classification/step-3"
   ]
  },
  {
   "cell_type": "code",
   "execution_count": 94,
   "metadata": {},
   "outputs": [],
   "source": [
    "from sklearn.feature_extraction.text import TfidfVectorizer\n",
    "from sklearn.feature_selection import SelectKBest\n",
    "from sklearn.feature_selection import f_classif"
   ]
  },
  {
   "cell_type": "code",
   "execution_count": 125,
   "metadata": {},
   "outputs": [],
   "source": [
    "from tensorflow.python.keras import models\n",
    "from tensorflow.python.keras.layers import Dense\n",
    "from tensorflow.python.keras.layers import Dropout"
   ]
  },
  {
   "cell_type": "code",
   "execution_count": 134,
   "metadata": {},
   "outputs": [],
   "source": [
    "import tensorflow as tf"
   ]
  },
  {
   "cell_type": "markdown",
   "metadata": {},
   "source": [
    "### Pre-processing"
   ]
  },
  {
   "cell_type": "code",
   "execution_count": 95,
   "metadata": {},
   "outputs": [],
   "source": [
    "# Vectorization parameters\n",
    "# Range (inclusive) of n-gram sizes for tokenizing text.\n",
    "NGRAM_RANGE = (1, 2)\n",
    "\n",
    "# Limit on the number of features. We use the top 20K features.\n",
    "TOP_K = 20000\n",
    "\n",
    "# Whether text should be split into word or character n-grams.\n",
    "# One of 'word', 'char'.\n",
    "TOKEN_MODE = 'word'\n",
    "\n",
    "# Minimum corpus frequency below which a token will be discarded.\n",
    "MIN_DOCUMENT_FREQUENCY = 5\n",
    "\n",
    "# Maximum proportion of corpus containing a word above which a token will be discarded.\n",
    "# Helps eliminate stop words\n",
    "MAX_DOCUMENT_FREQUENCY = 0.7"
   ]
  },
  {
   "cell_type": "code",
   "execution_count": 185,
   "metadata": {},
   "outputs": [],
   "source": [
    "def ngram_vectorize(train_texts, train_labels, val_texts):\n",
    "    \"\"\"\n",
    "    Vectorizes texts as n-gram vectors.\n",
    "\n",
    "    1 text = 1 tf-idf vector the length of vocabulary of ngrams.\n",
    "\n",
    "    Arguments:\n",
    "        train_texts: list, training text strings.\n",
    "        train_labels: np.ndarray, training labels.\n",
    "        val_texts: list, validation text strings.\n",
    "\n",
    "    Returns:\n",
    "        x_train, x_val: vectorized training and validation texts\n",
    "    \"\"\"\n",
    "    # Create keyword arguments to pass to the 'tf-idf' vectorizer.\n",
    "    kwargs = {\n",
    "            'ngram_range': NGRAM_RANGE,  # Use 1-grams + 2-grams.\n",
    "            'dtype': 'int32',\n",
    "            'strip_accents': 'unicode',\n",
    "            'decode_error': 'replace',\n",
    "            'analyzer': TOKEN_MODE,  # Split text into word tokens.\n",
    "            'min_df': MIN_DOCUMENT_FREQUENCY,\n",
    "            'max_df': MAX_DOCUMENT_FREQUENCY,\n",
    "    }\n",
    "    vectorizer = TfidfVectorizer(**kwargs)\n",
    "\n",
    "    # Learn vocabulary from training texts and vectorize training texts.\n",
    "    x_train = vectorizer.fit_transform(train_texts)\n",
    "    print(\"Total vocabulary size: {}\".format(len(vectorizer.vocabulary_)))\n",
    "    \n",
    "    # Vectorize validation texts.\n",
    "    x_val = vectorizer.transform(val_texts)\n",
    "\n",
    "    # Select top 'k' of the vectorized features.\n",
    "    selector = SelectKBest(f_classif, k=min(TOP_K, x_train.shape[1]))\n",
    "    selector.fit(x_train, train_labels)\n",
    "    x_train = selector.transform(x_train).astype(dtype=np.float32)\n",
    "    x_val = selector.transform(x_val).astype(dtype=np.float32)\n",
    "    \n",
    "    top_words = np.array(vectorizer.get_feature_names())[np.argsort(selector.scores_)[::-1]][:20]\n",
    "    top_scores = selector.scores_[np.argsort(selector.scores_)[::-1]][:20]\n",
    "    print(\"\\nTop 20 words by differentiating score:\")\n",
    "    for i in range(len(top_words)):\n",
    "        print(top_words[i], \"\\t\", round(top_scores[i], 1))\n",
    "    \n",
    "    return x_train, x_val"
   ]
  },
  {
   "cell_type": "code",
   "execution_count": 186,
   "metadata": {},
   "outputs": [
    {
     "name": "stderr",
     "output_type": "stream",
     "text": [
      "/usr/local/lib/python3.5/dist-packages/sklearn/feature_extraction/text.py:1577: UserWarning: Only (<class 'numpy.float64'>, <class 'numpy.float32'>, <class 'numpy.float16'>) 'dtype' should be used. int32 'dtype' will be converted to np.float64.\n",
      "  UserWarning)\n"
     ]
    },
    {
     "name": "stdout",
     "output_type": "stream",
     "text": [
      "Total vocabulary size: 107259\n",
      "\n",
      "Top 20 words by differentiating score:\n",
      "mr president \t 327.8\n",
      "president \t 208.4\n",
      "senator \t 177.9\n",
      "the senator \t 141.0\n",
      "the senate \t 111.5\n",
      "senate \t 108.6\n",
      "senator from \t 106.0\n",
      "speaker \t 84.4\n",
      "mr speaker \t 82.6\n",
      "rise in \t 74.7\n",
      "women \t 73.5\n",
      "rise \t 61.0\n",
      "senators \t 59.6\n",
      "distinguished \t 59.5\n",
      "the distinguished \t 58.5\n",
      "support of \t 47.9\n",
      "unanimous \t 46.7\n",
      "unanimous consent \t 46.5\n",
      "her \t 45.2\n",
      "consent \t 43.6\n"
     ]
    }
   ],
   "source": [
    "train_vec, val_vec = ngram_vectorize(train, train_target, val)"
   ]
  },
  {
   "cell_type": "code",
   "execution_count": 108,
   "metadata": {},
   "outputs": [
    {
     "data": {
      "text/plain": [
       "(3244, 1080)"
      ]
     },
     "execution_count": 108,
     "metadata": {},
     "output_type": "execute_result"
    }
   ],
   "source": [
    "len(train), len(val)"
   ]
  },
  {
   "cell_type": "code",
   "execution_count": 107,
   "metadata": {},
   "outputs": [
    {
     "data": {
      "text/plain": [
       "((3244, 20000), (1080, 20000))"
      ]
     },
     "execution_count": 107,
     "metadata": {},
     "output_type": "execute_result"
    }
   ],
   "source": [
    "train_vec.shape, val_vec.shape"
   ]
  },
  {
   "cell_type": "markdown",
   "metadata": {},
   "source": [
    "### Model: Multi-Layer Perceptron (Vanilla NN)"
   ]
  },
  {
   "cell_type": "code",
   "execution_count": 126,
   "metadata": {},
   "outputs": [],
   "source": [
    "def mlp_model(layers, units, dropout_rate, input_shape, num_classes):\n",
    "    \"\"\"\n",
    "    Creates an instance of a multi-layer perceptron model.\n",
    "\n",
    "    Arguments\n",
    "        layers: int, number of `Dense` layers in the model.\n",
    "        units: int, output dimension of the layers.\n",
    "        dropout_rate: float, percentage of input to drop at Dropout layers.\n",
    "        input_shape: tuple, shape of input to the model.\n",
    "        num_classes: int, number of output classes.\n",
    "\n",
    "    Returns\n",
    "        An MLP model instance.\n",
    "    \"\"\"\n",
    "    op_units, op_activation = 1, 'sigmoid'\n",
    "    model = models.Sequential()\n",
    "    model.add(Dropout(rate=dropout_rate, input_shape=input_shape))\n",
    "\n",
    "    for _ in range(layers-1):\n",
    "        model.add(Dense(units=units, activation='relu'))\n",
    "        model.add(Dropout(rate=dropout_rate))\n",
    "\n",
    "    model.add(Dense(units=op_units, activation=op_activation))\n",
    "    \n",
    "    return model"
   ]
  },
  {
   "cell_type": "code",
   "execution_count": 189,
   "metadata": {},
   "outputs": [],
   "source": [
    "def train_ngram_model(data,\n",
    "                      learning_rate=1e-3,\n",
    "                      epochs=1000,\n",
    "                      batch_size=128,\n",
    "                      layers=2,\n",
    "                      units=64,\n",
    "                      dropout_rate=0.2):\n",
    "    \"\"\"\n",
    "    Trains n-gram model on the given dataset.\n",
    "\n",
    "    Arguments:\n",
    "        data: tuples of vectorized training and test texts and labels.\n",
    "        learning_rate: float, learning rate for training model.\n",
    "        epochs: int, number of epochs.\n",
    "        batch_size: int, number of samples per batch.\n",
    "        layers: int, number of `Dense` layers in the model.\n",
    "        units: int, output dimension of Dense layers in the model.\n",
    "        dropout_rate: float: percentage of input to drop at Dropout layers.\n",
    "\n",
    "    Returns:\n",
    "        tuple with accuracy and loss on validation data for the last interation\n",
    "    \"\"\"\n",
    "    # Get the data.\n",
    "    (x_train, train_labels), (x_val, val_labels) = data\n",
    "\n",
    "    # Verify that validation labels are in the same range as training labels.\n",
    "    num_classes = 2\n",
    "\n",
    "    # Create model instance.\n",
    "    model = mlp_model(layers=layers,\n",
    "                                  units=units,\n",
    "                                  dropout_rate=dropout_rate,\n",
    "                                  input_shape=x_train.shape[1:],\n",
    "                                  num_classes=num_classes)\n",
    "\n",
    "    # Compile model with learning parameters.\n",
    "    optimizer = tf.keras.optimizers.Adam(lr=learning_rate)\n",
    "    model.compile(optimizer=optimizer, loss='binary_crossentropy', metrics=['acc'])\n",
    "\n",
    "    # Create callback for early stopping on validation loss. If the loss does\n",
    "    # not decrease in two consecutive tries, stop training.\n",
    "    callbacks = [tf.keras.callbacks.EarlyStopping(\n",
    "        monitor='val_loss', patience=2)]\n",
    "\n",
    "    # Train and validate model.\n",
    "    history = model.fit(\n",
    "            x_train,\n",
    "            train_labels,\n",
    "            epochs=epochs,\n",
    "            callbacks=callbacks,\n",
    "            validation_data=(x_val, val_labels),\n",
    "            verbose=2,  # Logs once per epoch.\n",
    "            batch_size=batch_size)\n",
    "\n",
    "    # Print results.\n",
    "    history = history.history\n",
    "    print('Validation accuracy: {acc}, loss: {loss}'.format(\n",
    "            acc=history['val_acc'][-1], loss=history['val_loss'][-1]))\n",
    "\n",
    "    # Save model.\n",
    "#     model.save('C97_mlp_model.h5')\n",
    "    \n",
    "    return history['val_acc'][-1], history['val_loss'][-1]"
   ]
  },
  {
   "cell_type": "code",
   "execution_count": 190,
   "metadata": {},
   "outputs": [
    {
     "name": "stdout",
     "output_type": "stream",
     "text": [
      "Train on 3244 samples, validate on 1080 samples\n",
      "Epoch 1/1000\n",
      "3244/3244 - 1s - loss: 0.6746 - acc: 0.7367 - val_loss: 0.6577 - val_acc: 0.7120\n",
      "Epoch 2/1000\n",
      "3244/3244 - 1s - loss: 0.5990 - acc: 0.8570 - val_loss: 0.6142 - val_acc: 0.7204\n",
      "Epoch 3/1000\n",
      "3244/3244 - 1s - loss: 0.5100 - acc: 0.8915 - val_loss: 0.5753 - val_acc: 0.7296\n",
      "Epoch 4/1000\n",
      "3244/3244 - 1s - loss: 0.4281 - acc: 0.9103 - val_loss: 0.5464 - val_acc: 0.7426\n",
      "Epoch 5/1000\n",
      "3244/3244 - 1s - loss: 0.3572 - acc: 0.9266 - val_loss: 0.5281 - val_acc: 0.7481\n",
      "Epoch 6/1000\n",
      "3244/3244 - 1s - loss: 0.2963 - acc: 0.9473 - val_loss: 0.5156 - val_acc: 0.7509\n",
      "Epoch 7/1000\n",
      "3244/3244 - 1s - loss: 0.2526 - acc: 0.9578 - val_loss: 0.5088 - val_acc: 0.7500\n",
      "Epoch 8/1000\n",
      "3244/3244 - 1s - loss: 0.2154 - acc: 0.9630 - val_loss: 0.5067 - val_acc: 0.7528\n",
      "Epoch 9/1000\n",
      "3244/3244 - 0s - loss: 0.1838 - acc: 0.9698 - val_loss: 0.5057 - val_acc: 0.7519\n",
      "Epoch 10/1000\n",
      "3244/3244 - 0s - loss: 0.1586 - acc: 0.9738 - val_loss: 0.5052 - val_acc: 0.7519\n",
      "Epoch 11/1000\n",
      "3244/3244 - 1s - loss: 0.1355 - acc: 0.9834 - val_loss: 0.5063 - val_acc: 0.7500\n",
      "Epoch 12/1000\n",
      "3244/3244 - 0s - loss: 0.1184 - acc: 0.9840 - val_loss: 0.5084 - val_acc: 0.7463\n",
      "Validation accuracy: 0.7462962865829468, loss: 0.5084469492788668\n"
     ]
    },
    {
     "data": {
      "text/plain": [
       "(0.7462963, 0.5084469492788668)"
      ]
     },
     "execution_count": 190,
     "metadata": {},
     "output_type": "execute_result"
    }
   ],
   "source": [
    "train_ngram_model(((train_vec, train_target), (val_vec, val_target)))"
   ]
  },
  {
   "cell_type": "code",
   "execution_count": null,
   "metadata": {},
   "outputs": [],
   "source": []
  }
 ],
 "metadata": {
  "kernelspec": {
   "display_name": "Python 3",
   "language": "python",
   "name": "python3"
  },
  "language_info": {
   "codemirror_mode": {
    "name": "ipython",
    "version": 3
   },
   "file_extension": ".py",
   "mimetype": "text/x-python",
   "name": "python",
   "nbconvert_exporter": "python",
   "pygments_lexer": "ipython3",
   "version": "3.5.2"
  }
 },
 "nbformat": 4,
 "nbformat_minor": 2
}
