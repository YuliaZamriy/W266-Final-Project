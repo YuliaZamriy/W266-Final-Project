{
 "cells": [
  {
   "cell_type": "code",
   "execution_count": 68,
   "metadata": {},
   "outputs": [
    {
     "data": {
      "text/html": [
       "<style>.container { width:100% !important; }</style>"
      ],
      "text/plain": [
       "<IPython.core.display.HTML object>"
      ]
     },
     "metadata": {},
     "output_type": "display_data"
    }
   ],
   "source": [
    "# increase cell width\n",
    "from IPython.core.display import display, HTML\n",
    "display(HTML(\"<style>.container { width:100% !important; }</style>\"))"
   ]
  },
  {
   "cell_type": "markdown",
   "metadata": {},
   "source": [
    "Inspiration for code:\n",
    "\n",
    "- https://developers.google.com/machine-learning/guides/text-classification/\n",
    "- https://github.com/google/eng-edu/blob/master/ml/guides/text_classification/load_data.py"
   ]
  },
  {
   "cell_type": "code",
   "execution_count": 69,
   "metadata": {},
   "outputs": [],
   "source": [
    "from __future__ import absolute_import\n",
    "from __future__ import division\n",
    "from __future__ import print_function\n",
    "\n",
    "import os\n",
    "import random\n",
    "import time\n",
    "import pickle\n",
    "\n",
    "import numpy as np\n",
    "import pandas as pd\n",
    "\n",
    "from importlib import reload\n",
    "\n",
    "import scipy.sparse"
   ]
  },
  {
   "cell_type": "code",
   "execution_count": 70,
   "metadata": {},
   "outputs": [],
   "source": [
    "from helpers import load_data\n",
    "from helpers import explore_data\n",
    "from helpers import preprocess_data\n",
    "from helpers import train_model"
   ]
  },
  {
   "cell_type": "markdown",
   "metadata": {},
   "source": [
    "## Load the data"
   ]
  },
  {
   "cell_type": "code",
   "execution_count": 71,
   "metadata": {},
   "outputs": [
    {
     "data": {
      "text/plain": [
       "'/Users/fariamardhani/Berkeley/W266/W266-Final-Project/Classification'"
      ]
     },
     "execution_count": 71,
     "metadata": {},
     "output_type": "execute_result"
    }
   ],
   "source": [
    "pwd"
   ]
  },
  {
   "cell_type": "code",
   "execution_count": 72,
   "metadata": {},
   "outputs": [
    {
     "name": "stdout",
     "output_type": "stream",
     "text": [
      "speech_id|speech\r\n",
      "970000001|The Senate vill please come to order. The Chaplain will offer the prayer. The Chaplain. the Reverend Edward L. R. Elson. D.D.. offered the following prayer: PRAYER God of our fathers and our God. who has made and preserved us a nation. we thank Thee for Thy care over us from generation to generation. and for the new era which unfolds before us. Let Thy spirit descend upon us with all Its cleansing. healing. and creative power. Make usnew persons for new times in a land newborn in spirit. May the solemn induction of the new Members of this body be a renewal of the vocatinal vows of all others. In the deliberations of this new Congress keep our motives pure. our vision clear. our patriotism undefiled. our speech chaste. our judgments fair. and our consciences unbetrayed. Help us to develop work patterns which sustain the soul. nourish the mind. and strengthen the will. And give us grace to make time for the family. for home. and for worship. What we pray for this body we pray for all others in the service of the Government. Send us each day to our tasks to do Justly.to love mercy. and to walk humbly with our God. Hear us as we pray together the prayerthe Master taught us\"Our Father who art in heaven. hallowed be Thy name. Thy kingdom come. Thy will be done in Earth. as it is in heaven. Give us this day our daily bread. And forgive us our trespasses as we forgive those who trespass against us. And lead us not into temptation. but deliver us from evil* For Thine is the kingdom. and the power. and the glory forever.\" Amen.\r\n"
     ]
    }
   ],
   "source": [
    "!head -2 ../../FinalProject/hein-daily/sample/speeches_097.txt"
   ]
  },
  {
   "cell_type": "code",
   "execution_count": 73,
   "metadata": {},
   "outputs": [
    {
     "name": "stdout",
     "output_type": "stream",
     "text": [
      "  283399\r\n"
     ]
    }
   ],
   "source": [
    "!cat ../../FinalProject/hein-daily/Sample/speeches_097.txt | wc -l"
   ]
  },
  {
   "cell_type": "code",
   "execution_count": 74,
   "metadata": {},
   "outputs": [],
   "source": [
    "data_path = '../../FinalProject/hein-daily/Sample'"
   ]
  },
  {
   "cell_type": "code",
   "execution_count": 75,
   "metadata": {},
   "outputs": [
    {
     "name": "stdout",
     "output_type": "stream",
     "text": [
      "\n",
      "File speeches_097.txt has 249718612 characters\n",
      "and 283399 speeches\n",
      "\n",
      "Speeches list has 283399 speeches\n"
     ]
    }
   ],
   "source": [
    "reload(load_data)\n",
    "all_speech_ids, all_speeches = load_data.load_speech_data(data_path)"
   ]
  },
  {
   "cell_type": "code",
   "execution_count": 76,
   "metadata": {},
   "outputs": [
    {
     "data": {
      "text/plain": [
       "(283399, 283399)"
      ]
     },
     "execution_count": 76,
     "metadata": {},
     "output_type": "execute_result"
    }
   ],
   "source": [
    "len(all_speech_ids), len(all_speeches)"
   ]
  },
  {
   "cell_type": "markdown",
   "metadata": {},
   "source": [
    "## Create target labels"
   ]
  },
  {
   "cell_type": "markdown",
   "metadata": {},
   "source": [
    "#### TODO:\n",
    "\n",
    "- Why is this taking so much time?\n",
    "- Subset on word cound here?\n",
    "- Make sampling replicable: random seed + random array of proper length"
   ]
  },
  {
   "cell_type": "code",
   "execution_count": 77,
   "metadata": {},
   "outputs": [
    {
     "name": "stdout",
     "output_type": "stream",
     "text": [
      "2914465 lines have been read\n",
      "7227 keys had duplicates and deleted\n",
      "The dictionary has 858639 keys\n",
      "\n",
      "Random congressperson: 970167231\n",
      "date 19820513\n",
      "char_count 164\n",
      "word_count 33\n",
      "speakerid 97104811.0\n",
      "Party R\n",
      "Congress 97\n",
      "Chamber S\n",
      "State TN\n",
      "Ethnicity W\n",
      "Age 57.0\n",
      "Age_lt_med 0.0\n",
      "NonWhite 0.0\n",
      "Female 0.0\n",
      "speaker Mr. BAKER\n",
      "Full Name BAKER, HOWARD\n",
      "match exact\n",
      "check 1\n",
      "\n",
      "It took 6.7 seconds to create the dictionary\n"
     ]
    }
   ],
   "source": [
    "reload(load_data)\n",
    "start_time = time.time()\n",
    "# remove p if want to run for the full speech file\n",
    "descr = load_data.load_descr_data('../data/QA/full_descr.txt', p=0.3)\n",
    "print(\"\\nIt took {0:.1f} seconds to create the dictionary\".format(time.time()-start_time))"
   ]
  },
  {
   "cell_type": "code",
   "execution_count": 78,
   "metadata": {},
   "outputs": [
    {
     "data": {
      "text/plain": [
       "('970000005',\n",
       " {'date': '19810105',\n",
       "  'char_count': '201',\n",
       "  'word_count': '34',\n",
       "  'speakerid': '97105301.0',\n",
       "  'Party': 'R',\n",
       "  'Congress': '97',\n",
       "  'Chamber': 'S',\n",
       "  'State': 'IL',\n",
       "  'Ethnicity': 'W',\n",
       "  'Age': '63.0',\n",
       "  'Age_lt_med': '0.0',\n",
       "  'NonWhite': '0.0',\n",
       "  'Female': '0.0',\n",
       "  'speaker': 'Mr. PERCY',\n",
       "  'Full Name': 'PERCY, CHARLES',\n",
       "  'match': 'exact',\n",
       "  'check': 1})"
      ]
     },
     "execution_count": 78,
     "metadata": {},
     "output_type": "execute_result"
    }
   ],
   "source": [
    "next(iter(descr.items()))"
   ]
  },
  {
   "cell_type": "code",
   "execution_count": 79,
   "metadata": {},
   "outputs": [
    {
     "data": {
      "text/plain": [
       "0.29461300602786655"
      ]
     },
     "execution_count": 79,
     "metadata": {},
     "output_type": "execute_result"
    }
   ],
   "source": [
    "# check if sampling worked\n",
    "len(list(descr.keys()))/2914464"
   ]
  },
  {
   "cell_type": "code",
   "execution_count": 80,
   "metadata": {},
   "outputs": [
    {
     "data": {
      "text/plain": [
       "(283399, 283399, 283399, 283399, 283399, 283399)"
      ]
     },
     "execution_count": 80,
     "metadata": {},
     "output_type": "execute_result"
    }
   ],
   "source": [
    "gender, ethnicity, age, party, chamber, congress = load_data.create_target_labels(all_speech_ids, descr)\n",
    "len(gender), len(ethnicity), len(age), len(party), len(chamber), len(congress)"
   ]
  },
  {
   "cell_type": "code",
   "execution_count": 92,
   "metadata": {},
   "outputs": [
    {
     "data": {
      "text/plain": [
       "283399"
      ]
     },
     "execution_count": 92,
     "metadata": {},
     "output_type": "execute_result"
    }
   ],
   "source": [
    "party_dummy = []\n",
    "for p in range(len(party)):\n",
    "    if party[p] == 'D':\n",
    "        party_dummy.append(1)\n",
    "    elif party[p] == 'R':\n",
    "        party_dummy.append(0)\n",
    "    else:\n",
    "        party_dummy.append(-1)\n",
    "len(party_dummy)"
   ]
  },
  {
   "cell_type": "code",
   "execution_count": 93,
   "metadata": {},
   "outputs": [
    {
     "data": {
      "text/plain": [
       "(array([-1,  0,  1]), array([216868,  34250,  32281]))"
      ]
     },
     "execution_count": 93,
     "metadata": {},
     "output_type": "execute_result"
    }
   ],
   "source": [
    "np.unique(np.array(party_dummy), return_counts=True)"
   ]
  },
  {
   "cell_type": "markdown",
   "metadata": {},
   "source": [
    "### Data QA"
   ]
  },
  {
   "cell_type": "code",
   "execution_count": 83,
   "metadata": {},
   "outputs": [
    {
     "name": "stdout",
     "output_type": "stream",
     "text": [
      "\n",
      " Gender\n",
      "Overall speech counts:\n"
     ]
    },
    {
     "data": {
      "text/html": [
       "<div>\n",
       "<style scoped>\n",
       "    .dataframe tbody tr th:only-of-type {\n",
       "        vertical-align: middle;\n",
       "    }\n",
       "\n",
       "    .dataframe tbody tr th {\n",
       "        vertical-align: top;\n",
       "    }\n",
       "\n",
       "    .dataframe thead th {\n",
       "        text-align: right;\n",
       "    }\n",
       "</style>\n",
       "<table border=\"1\" class=\"dataframe\">\n",
       "  <thead>\n",
       "    <tr style=\"text-align: right;\">\n",
       "      <th></th>\n",
       "      <th>Category</th>\n",
       "      <th>Count</th>\n",
       "    </tr>\n",
       "  </thead>\n",
       "  <tbody>\n",
       "    <tr>\n",
       "      <th>0</th>\n",
       "      <td>-1</td>\n",
       "      <td>216551</td>\n",
       "    </tr>\n",
       "    <tr>\n",
       "      <th>1</th>\n",
       "      <td>0</td>\n",
       "      <td>65477</td>\n",
       "    </tr>\n",
       "    <tr>\n",
       "      <th>2</th>\n",
       "      <td>1</td>\n",
       "      <td>1371</td>\n",
       "    </tr>\n",
       "  </tbody>\n",
       "</table>\n",
       "</div>"
      ],
      "text/plain": [
       "<IPython.core.display.HTML object>"
      ]
     },
     "metadata": {},
     "output_type": "display_data"
    },
    {
     "name": "stdout",
     "output_type": "stream",
     "text": [
      "Target group number of speeches by party:\n",
      "D: \t 664\n",
      "I: \t 0\n",
      "N: \t 0\n",
      "NA: \t -216551\n",
      "R: \t 707\n",
      "\n",
      " Ethnicity\n",
      "Overall speech counts:\n"
     ]
    },
    {
     "data": {
      "text/html": [
       "<div>\n",
       "<style scoped>\n",
       "    .dataframe tbody tr th:only-of-type {\n",
       "        vertical-align: middle;\n",
       "    }\n",
       "\n",
       "    .dataframe tbody tr th {\n",
       "        vertical-align: top;\n",
       "    }\n",
       "\n",
       "    .dataframe thead th {\n",
       "        text-align: right;\n",
       "    }\n",
       "</style>\n",
       "<table border=\"1\" class=\"dataframe\">\n",
       "  <thead>\n",
       "    <tr style=\"text-align: right;\">\n",
       "      <th></th>\n",
       "      <th>Category</th>\n",
       "      <th>Count</th>\n",
       "    </tr>\n",
       "  </thead>\n",
       "  <tbody>\n",
       "    <tr>\n",
       "      <th>0</th>\n",
       "      <td>-1</td>\n",
       "      <td>216551</td>\n",
       "    </tr>\n",
       "    <tr>\n",
       "      <th>1</th>\n",
       "      <td>0</td>\n",
       "      <td>64037</td>\n",
       "    </tr>\n",
       "    <tr>\n",
       "      <th>2</th>\n",
       "      <td>1</td>\n",
       "      <td>2811</td>\n",
       "    </tr>\n",
       "  </tbody>\n",
       "</table>\n",
       "</div>"
      ],
      "text/plain": [
       "<IPython.core.display.HTML object>"
      ]
     },
     "metadata": {},
     "output_type": "display_data"
    },
    {
     "name": "stdout",
     "output_type": "stream",
     "text": [
      "Target group number of speeches by party:\n",
      "D: \t 2405\n",
      "I: \t 0\n",
      "N: \t 45\n",
      "NA: \t -216551\n",
      "R: \t 361\n",
      "\n",
      " Age\n",
      "Overall speech counts:\n"
     ]
    },
    {
     "data": {
      "text/html": [
       "<div>\n",
       "<style scoped>\n",
       "    .dataframe tbody tr th:only-of-type {\n",
       "        vertical-align: middle;\n",
       "    }\n",
       "\n",
       "    .dataframe tbody tr th {\n",
       "        vertical-align: top;\n",
       "    }\n",
       "\n",
       "    .dataframe thead th {\n",
       "        text-align: right;\n",
       "    }\n",
       "</style>\n",
       "<table border=\"1\" class=\"dataframe\">\n",
       "  <thead>\n",
       "    <tr style=\"text-align: right;\">\n",
       "      <th></th>\n",
       "      <th>Category</th>\n",
       "      <th>Count</th>\n",
       "    </tr>\n",
       "  </thead>\n",
       "  <tbody>\n",
       "    <tr>\n",
       "      <th>0</th>\n",
       "      <td>-1</td>\n",
       "      <td>216551</td>\n",
       "    </tr>\n",
       "    <tr>\n",
       "      <th>1</th>\n",
       "      <td>0</td>\n",
       "      <td>43720</td>\n",
       "    </tr>\n",
       "    <tr>\n",
       "      <th>2</th>\n",
       "      <td>1</td>\n",
       "      <td>23128</td>\n",
       "    </tr>\n",
       "  </tbody>\n",
       "</table>\n",
       "</div>"
      ],
      "text/plain": [
       "<IPython.core.display.HTML object>"
      ]
     },
     "metadata": {},
     "output_type": "display_data"
    },
    {
     "name": "stdout",
     "output_type": "stream",
     "text": [
      "Target group number of speeches by party:\n",
      "D: \t 12400\n",
      "I: \t 0\n",
      "N: \t 45\n",
      "NA: \t -216551\n",
      "R: \t 10683\n"
     ]
    }
   ],
   "source": [
    "reload(explore_data)\n",
    "for i in [(gender, \"Gender\"), (ethnicity, \"Ethnicity\"), (age, \"Age\")]:\n",
    "    print(\"\\n\", i[1])\n",
    "    print(\"Overall speech counts:\")\n",
    "    explore_data.get_counts(i[0])\n",
    "    print(\"Target group number of speeches by party:\")\n",
    "    explore_data.get_counts_by_category(i[0], party)"
   ]
  },
  {
   "cell_type": "code",
   "execution_count": 84,
   "metadata": {},
   "outputs": [
    {
     "name": "stdout",
     "output_type": "stream",
     "text": [
      "Speaker information\n",
      "date 19810616\n",
      "char_count 1326\n",
      "word_count 250\n",
      "speakerid 97111540.0\n",
      "Party D\n",
      "Congress 97\n",
      "Chamber H\n",
      "State CO\n",
      "Ethnicity W\n",
      "Age 42.0\n",
      "Age_lt_med 1.0\n",
      "NonWhite 0.0\n",
      "Female 1.0\n",
      "speaker Mrs. SCHROEDER\n",
      "Full Name SCHROEDER, PATRICIA\n",
      "match exact\n",
      "check 1\n",
      "\n",
      "Mr. Speaker. I hate to say this. but ever since I got here. I have been waiting for a motherhood issue. This Is it. I can not imagine any mother voting any way but for the resolution. I was very. very. very surprised by the administrations action on infant formula. I commend the committee for reporting this resolution because I think it is very important that the legislative body go on record as saying to tihe world that we think the administration made a mistake. I think it will send a special signal to the world right now because this body is tending to want to act like the administrations rowing team on every issue and if we are willing to stand tip and say on this issue we think they made a mistake. we have the courage to say it. I believe in free speech. but I think the free speech of our GovernII 2949 ments health professionals should certainly be listened to and honored as much as the right of free speech for multinationals. Once the multinationals get a woman to buy their formula it is only a matter of days before she has to buy formula. for her milk dries up. She has no other choice then and this is not a normal consumer situation. I think a \"yes\" vote is the only way we can help erase the black eye we got in the international community and show that not everyone in America is against motherhood.\n"
     ]
    }
   ],
   "source": [
    "reload(explore_data)\n",
    "explore_data.random_speech(all_speeches, all_speech_ids, gender, descr)"
   ]
  },
  {
   "cell_type": "code",
   "execution_count": 85,
   "metadata": {},
   "outputs": [
    {
     "name": "stdout",
     "output_type": "stream",
     "text": [
      "Speaker information\n",
      "date 19810408\n",
      "char_count 2012\n",
      "word_count 318\n",
      "speakerid 97105561.0\n",
      "Party R\n",
      "Congress 97\n",
      "Chamber S\n",
      "State SD\n",
      "Ethnicity ME\n",
      "Age 59.0\n",
      "Age_lt_med 0.0\n",
      "NonWhite 1.0\n",
      "Female 0.0\n",
      "speaker Mr. ABDNOR\n",
      "Full Name ABDNOR, JAMES\n",
      "match exact\n",
      "check 1\n",
      "\n",
      "Mr. President. today Senator PRESSLER and I are introducing legislation to reauthorize the Belle Fourche project in South Dakota as a unit of the PickSloan Missouri Basin program. The Belle Fourche project went into operation In 1908. and 73 years later most of the structures in the irrigation project have reached their design life and are badly in need of repair. In fact. there have been five accidental deaths In the last 5 years that might have been averted with the rroject improvements to be provided through this legislation. For example. because of the absence of handrails district employees have actually slipped from the structures and fallen into the canals. Modernization and Improvements of the 57.000acre project will produce significant benefits according to a January 1981. Water and Power Resources Service draft report. Reliability will be restored to the system and annual operations and maintenance costs will be reduced by $30.000. Reduced seepage and operational waste will save approxiS 3706 Co mately 20.000 acrefeet of water annually and will result in the reclaiming of agriculture lands affected by the seepage. The proposed changes would provide safety features for the protection of human life and would insure the continued social and economic welfare of the people in Butte and Meade Counties who depend upon the project for their livelihood. Finally. because of uncertainty surrounding the Federal Governments position on reclamation acreage limitations. we have included a section in the legislation that addresses that issue. The specific limitations we provide in section 6 are both reasonable in the absence of a national policy and acceptable to the users in the Belle Fourche Irrigation district. Since many States have similar problems involving the need for better utilization of water resources. I am hopeful my colleagues will see the need and agree that we ought to act promptly to provide for the modernization of the Belle Fourche irrigation project.* By Mr. GARN:\n"
     ]
    }
   ],
   "source": [
    "explore_data.random_speech(all_speeches, all_speech_ids, ethnicity, descr)"
   ]
  },
  {
   "cell_type": "code",
   "execution_count": 86,
   "metadata": {},
   "outputs": [
    {
     "name": "stdout",
     "output_type": "stream",
     "text": [
      "Speaker information\n",
      "date 19811216\n",
      "char_count 73\n",
      "word_count 16\n",
      "speakerid 97108191.0\n",
      "Party D\n",
      "Congress 97\n",
      "Chamber S\n",
      "State AZ\n",
      "Ethnicity W\n",
      "Age 45.0\n",
      "Age_lt_med 1.0\n",
      "NonWhite 0.0\n",
      "Female 0.0\n",
      "speaker Mr. DECONCINI\n",
      "Full Name DECONCINI, DENNIS\n",
      "match exact\n",
      "check 1\n",
      "\n",
      "I am advised there Is no revenue loss. at least no one here knows of any.\n"
     ]
    }
   ],
   "source": [
    "explore_data.random_speech(all_speeches, all_speech_ids, age, descr)"
   ]
  },
  {
   "cell_type": "markdown",
   "metadata": {},
   "source": [
    "## Split into train, validate, test"
   ]
  },
  {
   "cell_type": "markdown",
   "metadata": {},
   "source": [
    "### Filter on party if necessary"
   ]
  },
  {
   "cell_type": "code",
   "execution_count": 87,
   "metadata": {},
   "outputs": [],
   "source": [
    "# reload(load_data)\n",
    "# all_speeches_d, all_speech_ids_d, gender_d = load_data.filter_data(all_speeches, all_speech_ids, gender, party, 'D')\n",
    "# len(all_speeches_d), len(all_speech_ids_d), len(gender_d)"
   ]
  },
  {
   "cell_type": "code",
   "execution_count": 88,
   "metadata": {},
   "outputs": [],
   "source": [
    "# reload(explore_data)\n",
    "# explore_data.get_counts(gender_d)"
   ]
  },
  {
   "cell_type": "markdown",
   "metadata": {},
   "source": [
    "### Split into train/val/test"
   ]
  },
  {
   "cell_type": "markdown",
   "metadata": {},
   "source": [
    "### Split by congress"
   ]
  },
  {
   "cell_type": "code",
   "execution_count": 89,
   "metadata": {},
   "outputs": [],
   "source": [
    "# reload(preprocess_data)\n",
    "# train, train_ids, train_target, val, val_ids, val_target, test, test_ids, test_target = preprocess_data.split_by_congress(all_speeches, all_speech_ids, gender, descr, congress)"
   ]
  },
  {
   "cell_type": "code",
   "execution_count": 97,
   "metadata": {
    "scrolled": true
   },
   "outputs": [
    {
     "name": "stdout",
     "output_type": "stream",
     "text": [
      "Training split: 10442 ones and 10399 zeroes\n",
      "Training speech list size: 20841\n",
      "Training target list size: 20841\n",
      "Validation split: 3480 ones and 3466 zeroes\n",
      "Validation speech list size: 6946\n",
      "Validation target list size: 6946\n",
      "Test split: 3482 ones and 3468 zeroes\n",
      "Test speech list size: 6950\n",
      "Test target list size: 6950\n"
     ]
    }
   ],
   "source": [
    "reload(preprocess_data)\n",
    "train, train_ids, train_target, val, val_ids, val_target, test, test_ids, test_target = preprocess_data.split_train_val_test(all_speeches, all_speech_ids, party_dummy, descr)"
   ]
  },
  {
   "cell_type": "code",
   "execution_count": 98,
   "metadata": {},
   "outputs": [
    {
     "data": {
      "text/plain": [
       "(10442, 3480, 3482)"
      ]
     },
     "execution_count": 98,
     "metadata": {},
     "output_type": "execute_result"
    }
   ],
   "source": [
    "sum(train_target), sum(val_target), sum(test_target)"
   ]
  },
  {
   "cell_type": "code",
   "execution_count": 99,
   "metadata": {},
   "outputs": [
    {
     "data": {
      "text/plain": [
       "5724"
      ]
     },
     "execution_count": 99,
     "metadata": {},
     "output_type": "execute_result"
    }
   ],
   "source": [
    "# number of speeches under 30 words\n",
    "sum(np.array(age)==1) - (sum(train_target) + sum(val_target) + sum(test_target))"
   ]
  },
  {
   "cell_type": "code",
   "execution_count": 100,
   "metadata": {},
   "outputs": [
    {
     "name": "stdout",
     "output_type": "stream",
     "text": [
      "Speaker information\n",
      "date 19811211\n",
      "char_count 274\n",
      "word_count 51\n",
      "speakerid 97106510.0\n",
      "Party D\n",
      "Congress 97\n",
      "Chamber H\n",
      "State TX\n",
      "Ethnicity W\n",
      "Age 59.0\n",
      "Age_lt_med 0.0\n",
      "NonWhite 0.0\n",
      "Female 0.0\n",
      "speaker Mr. WHITE\n",
      "Full Name WHITE, RICHARD\n",
      "match exact\n",
      "check 1\n",
      "\n",
      "Mr. Speaker. If the gentleman will yield. I do not know that it has. This is a routine procedure. We have gone through the hearing. The committee has reported out the bUi. Of course. It.. still would have to go through Rules before the bill could come before the full House.\n"
     ]
    }
   ],
   "source": [
    "explore_data.random_speech(train, train_ids, train_target, descr)"
   ]
  },
  {
   "cell_type": "markdown",
   "metadata": {},
   "source": [
    "## EDA on train data"
   ]
  },
  {
   "cell_type": "markdown",
   "metadata": {},
   "source": [
    "Source: https://developers.google.com/machine-learning/guides/text-classification/step-2"
   ]
  },
  {
   "cell_type": "markdown",
   "metadata": {},
   "source": [
    "### Check median number of words per sample in train/val/test"
   ]
  },
  {
   "cell_type": "code",
   "execution_count": 101,
   "metadata": {},
   "outputs": [
    {
     "data": {
      "text/plain": [
       "<module 'helpers.explore_data' from '/Users/fariamardhani/Berkeley/W266/W266-Final-Project/Classification/helpers/explore_data.py'>"
      ]
     },
     "execution_count": 101,
     "metadata": {},
     "output_type": "execute_result"
    }
   ],
   "source": [
    "reload(explore_data)"
   ]
  },
  {
   "cell_type": "code",
   "execution_count": 102,
   "metadata": {},
   "outputs": [
    {
     "data": {
      "text/plain": [
       "177.0"
      ]
     },
     "execution_count": 102,
     "metadata": {},
     "output_type": "execute_result"
    }
   ],
   "source": [
    "explore_data.get_num_words_per_sample(train)"
   ]
  },
  {
   "cell_type": "code",
   "execution_count": 103,
   "metadata": {},
   "outputs": [
    {
     "data": {
      "text/plain": [
       "177.0"
      ]
     },
     "execution_count": 103,
     "metadata": {},
     "output_type": "execute_result"
    }
   ],
   "source": [
    "explore_data.get_num_words_per_sample(val)"
   ]
  },
  {
   "cell_type": "code",
   "execution_count": 104,
   "metadata": {},
   "outputs": [
    {
     "data": {
      "text/plain": [
       "177.0"
      ]
     },
     "execution_count": 104,
     "metadata": {},
     "output_type": "execute_result"
    }
   ],
   "source": [
    "explore_data.get_num_words_per_sample(test)"
   ]
  },
  {
   "cell_type": "code",
   "execution_count": 105,
   "metadata": {},
   "outputs": [
    {
     "name": "stdout",
     "output_type": "stream",
     "text": [
      "Speech length percentiles\n",
      "    0     10    20    30     40     50     60     70     80     90      100\n",
      "0  31.0  41.0  58.0  84.0  123.0  177.0  241.0  332.0  467.0  749.0  8421.0\n"
     ]
    },
    {
     "data": {
      "image/png": "[encoded data removed]",
      "text/plain": [
       "<Figure size 1440x720 with 1 Axes>"
      ]
     },
     "metadata": {},
     "output_type": "display_data"
    }
   ],
   "source": [
    "reload(explore_data)\n",
    "explore_data.plot_sample_length_distribution(train)"
   ]
  },
  {
   "cell_type": "markdown",
   "metadata": {},
   "source": [
    "### Most popular unigrams (training only)"
   ]
  },
  {
   "cell_type": "code",
   "execution_count": 106,
   "metadata": {},
   "outputs": [
    {
     "data": {
      "text/plain": [
       "4168"
      ]
     },
     "execution_count": 106,
     "metadata": {},
     "output_type": "execute_result"
    }
   ],
   "source": [
    "train_sample = random.sample(train, int(len(train)*0.2))\n",
    "len(train_sample)"
   ]
  },
  {
   "cell_type": "code",
   "execution_count": 107,
   "metadata": {},
   "outputs": [
    {
     "name": "stdout",
     "output_type": "stream",
     "text": [
      "['the', 'of', 'to', 'and', 'in', 'that', 'is', 'for', 'this', 'it', 'we', 'on', 'be', 'have', 'not', 'as', 'are', 'by', 'with', 'will', 'mr', 'from', 'would', 'has', 'our', 'which', 'was', 'an', 'president', 'at', 'or', 'my', 'they', 'but', 'their', 'been', 'he', 'all', 'his', 'do', 'if', 'bill', 'there', 'who', 'these', 'amendment', 'one', 'committee', 'more', 'time']\n"
     ]
    },
    {
     "data": {
      "image/png": "[encoded data removed]",
      "text/plain": [
       "<Figure size 1440x720 with 1 Axes>"
      ]
     },
     "metadata": {},
     "output_type": "display_data"
    }
   ],
   "source": [
    "explore_data.plot_frequency_distribution_of_ngrams(train_sample, ngram_range=(1,1))"
   ]
  },
  {
   "cell_type": "markdown",
   "metadata": {},
   "source": [
    "### Most popular bigrams (training only)"
   ]
  },
  {
   "cell_type": "code",
   "execution_count": 108,
   "metadata": {},
   "outputs": [
    {
     "name": "stdout",
     "output_type": "stream",
     "text": [
      "['of the', 'in the', 'to the', 'it is', 'that the', 'on the', 'for the', 'and the', 'by the', 'mr president', 'to be', 'with the', 'of this', 'mr speaker', 'we are', 'we have', 'that we', 'will be', 'in this', 'that is', 'has been', 'from the', 'would be', 'the senate', 'the united', 'is the', 'united states', 'at the', 'the gentleman', 'have been', 'do not', 'is not', 'going to', 'the house', 'the senator', 'of our', 'there is', 'senator from', 'my colleagues', 'as the', 'the committee', 'the federal', 'the president', 'this is', 'the bill', 'this bill', 'one of', 'want to', 'that it', 'under the']\n"
     ]
    },
    {
     "data": {
      "image/png": "[encoded data removed]",
      "text/plain": [
       "<Figure size 1440x720 with 1 Axes>"
      ]
     },
     "metadata": {},
     "output_type": "display_data"
    }
   ],
   "source": [
    "explore_data.plot_frequency_distribution_of_ngrams(train_sample, ngram_range=(2,2))"
   ]
  },
  {
   "cell_type": "markdown",
   "metadata": {},
   "source": [
    "### Most popular trigrams (training only)"
   ]
  },
  {
   "cell_type": "code",
   "execution_count": 109,
   "metadata": {},
   "outputs": [
    {
     "name": "stdout",
     "output_type": "stream",
     "text": [
      "['the united states', 'the senator from', 'would like to', 'the gentleman from', 'one of the', 'the soviet union', 'are going to', 'chairman of the', 'of the united', 'ask unanimous consent', 'the department of', 'in the record', 'is going to', 'as well as', 'percent of the', 'unanimous consent that', 'there is no', 'member of the', 'the fact that', 'the committee on', 'members of the', 'the federal government', 'of the house', 'the american people', 'that it is', 'in this country', 'my colleagues to', 'in order to', 'of the senate', 'part of the', 'it is not', 'going to be', 'we are going', 'be able to', 'that we are', 'we do not', 'of the committee', 'some of the', 'urge my colleagues', 'that we have', 'it would be', 'the people of', 'the secretary of', 'mr president the', 'of my colleagues', 'in the house', 'in the united', 'mr president ask', 'thank the gentleman', 'printed in the']\n"
     ]
    },
    {
     "data": {
      "image/png": "[encoded data removed]",
      "text/plain": [
       "<Figure size 1440x720 with 1 Axes>"
      ]
     },
     "metadata": {},
     "output_type": "display_data"
    }
   ],
   "source": [
    "explore_data.plot_frequency_distribution_of_ngrams(train_sample, ngram_range=(3,3))"
   ]
  },
  {
   "cell_type": "code",
   "execution_count": 110,
   "metadata": {},
   "outputs": [],
   "source": [
    "congress = set([str(i) for i in range(97,115)])"
   ]
  },
  {
   "cell_type": "code",
   "execution_count": 111,
   "metadata": {},
   "outputs": [
    {
     "data": {
      "text/plain": [
       "20841"
      ]
     },
     "execution_count": 111,
     "metadata": {},
     "output_type": "execute_result"
    }
   ],
   "source": [
    "len(train)"
   ]
  },
  {
   "cell_type": "code",
   "execution_count": 112,
   "metadata": {},
   "outputs": [
    {
     "data": {
      "text/plain": [
       "{'date': '20090930',\n",
       " 'char_count': '1356',\n",
       " 'word_count': '244',\n",
       " 'speakerid': '111118281.0',\n",
       " 'Party': 'R',\n",
       " 'Congress': '111',\n",
       " 'Chamber': 'S',\n",
       " 'State': 'TN',\n",
       " 'Ethnicity': 'W',\n",
       " 'Age': '70.0',\n",
       " 'Age_lt_med': '0.0',\n",
       " 'NonWhite': '0.0',\n",
       " 'Female': '0.0',\n",
       " 'speaker': 'Mr. ALEXANDER',\n",
       " 'Full Name': 'ALEXANDER, LAMAR',\n",
       " 'match': 'exact',\n",
       " 'check': 1}"
      ]
     },
     "execution_count": 112,
     "metadata": {},
     "output_type": "execute_result"
    }
   ],
   "source": [
    "descr['1110063404']"
   ]
  },
  {
   "cell_type": "code",
   "execution_count": 113,
   "metadata": {},
   "outputs": [
    {
     "name": "stdout",
     "output_type": "stream",
     "text": [
      "\n",
      "For Congress 97 top 5 (3, 3) ngrams are:\n",
      "the united states\n",
      "the senator from\n",
      "would like to\n",
      "the gentleman from\n",
      "one of the\n",
      "--------------------\n"
     ]
    }
   ],
   "source": [
    "reload(explore_data)\n",
    "explore_data.ngrams_by_category(train, train_ids, descr, congress, 'Congress', p=0.3, top_n=5)"
   ]
  },
  {
   "cell_type": "markdown",
   "metadata": {},
   "source": [
    "## N-gram model"
   ]
  },
  {
   "cell_type": "markdown",
   "metadata": {},
   "source": [
    "Inspiration for code: https://developers.google.com/machine-learning/guides/text-classification/step-3"
   ]
  },
  {
   "cell_type": "markdown",
   "metadata": {},
   "source": [
    "### Pre-processing"
   ]
  },
  {
   "cell_type": "code",
   "execution_count": 114,
   "metadata": {},
   "outputs": [],
   "source": [
    "# Vectorization parameters\n",
    "# Range (inclusive) of n-gram sizes for tokenizing text.\n",
    "NGRAM_RANGE = (1, 2)\n",
    "\n",
    "# Minimum corpus frequency below which a token will be discarded.\n",
    "MIN_DOCUMENT_FREQUENCY = 5\n",
    "\n",
    "# Maximum proportion of corpus containing a word above which a token will be discarded.\n",
    "# Helps eliminate stop words\n",
    "MAX_DOCUMENT_FREQUENCY = 0.7\n",
    "\n",
    "# Limit on the number of features. We use the top 20K features.\n",
    "TOP_K = 20000\n",
    "\n",
    "# Output number of top/bottom scoring ngrams\n",
    "TOP_N = 5\n",
    "\n",
    "vec_params = {\n",
    "    'ngram_range': NGRAM_RANGE,\n",
    "    'min_df': MIN_DOCUMENT_FREQUENCY,\n",
    "    'max_df': MAX_DOCUMENT_FREQUENCY,\n",
    "    'top_k': TOP_K,\n",
    "    'top_n': TOP_N\n",
    "}"
   ]
  },
  {
   "cell_type": "code",
   "execution_count": 115,
   "metadata": {},
   "outputs": [
    {
     "name": "stdout",
     "output_type": "stream",
     "text": [
      "Total vocabulary size: 157288\n",
      "Number of stop words 1320512\n",
      "\n",
      "Top 5 ngrams by differentiating score:\n",
      "mr president \t 783.6\n",
      "president \t 399.7\n",
      "president ask \t 393.6\n",
      "the senate \t 298.7\n",
      "senate \t 295.7\n",
      "\n",
      "Bottom 5 ngrams by differentiating score:\n",
      "comrades \t 0.0\n",
      "are completely \t 0.0\n",
      "attaining \t 0.0\n",
      "island sound \t 0.0\n",
      "with financial \t 0.0\n"
     ]
    }
   ],
   "source": [
    "reload(preprocess_data)\n",
    "train_vec, val_vec, test_vec = preprocess_data.ngram_vectorize(train, train_target, val, test, **vec_params)"
   ]
  },
  {
   "cell_type": "code",
   "execution_count": 116,
   "metadata": {},
   "outputs": [
    {
     "data": {
      "text/plain": [
       "(20841, 6946, 6950)"
      ]
     },
     "execution_count": 116,
     "metadata": {},
     "output_type": "execute_result"
    }
   ],
   "source": [
    "len(train), len(val), len(test)"
   ]
  },
  {
   "cell_type": "code",
   "execution_count": 117,
   "metadata": {},
   "outputs": [
    {
     "data": {
      "text/plain": [
       "((20841, 20000), (6946, 20000), (6950, 20000))"
      ]
     },
     "execution_count": 117,
     "metadata": {},
     "output_type": "execute_result"
    }
   ],
   "source": [
    "train_vec.shape, val_vec.shape, test_vec.shape"
   ]
  },
  {
   "cell_type": "markdown",
   "metadata": {},
   "source": [
    "### Saving processed files"
   ]
  },
  {
   "cell_type": "code",
   "execution_count": 118,
   "metadata": {},
   "outputs": [
    {
     "data": {
      "text/plain": [
       "'/Users/fariamardhani/Berkeley/W266/W266-Final-Project/Classification'"
      ]
     },
     "execution_count": 118,
     "metadata": {},
     "output_type": "execute_result"
    }
   ],
   "source": [
    "pwd"
   ]
  },
  {
   "cell_type": "code",
   "execution_count": 119,
   "metadata": {},
   "outputs": [],
   "source": [
    "data_path = '../../FinalProject/saved_files'"
   ]
  },
  {
   "cell_type": "code",
   "execution_count": 120,
   "metadata": {},
   "outputs": [],
   "source": [
    "scipy.sparse.save_npz(os.path.join(data_path, 'train_vec.npz'), train_vec)\n",
    "scipy.sparse.save_npz(os.path.join(data_path, 'val_vec.npz'), val_vec)\n",
    "scipy.sparse.save_npz(os.path.join(data_path, 'test_vec.npz'), test_vec)"
   ]
  },
  {
   "cell_type": "code",
   "execution_count": 121,
   "metadata": {},
   "outputs": [],
   "source": [
    "train_vec = scipy.sparse.load_npz(os.path.join(data_path, 'train_vec.npz'))\n",
    "val_vec = scipy.sparse.load_npz(os.path.join(data_path, 'val_vec.npz'))\n",
    "test_vec = scipy.sparse.load_npz(os.path.join(data_path, 'test_vec.npz'))"
   ]
  },
  {
   "cell_type": "code",
   "execution_count": 122,
   "metadata": {},
   "outputs": [
    {
     "data": {
      "text/plain": [
       "((20841, 20000), (6946, 20000), (6950, 20000))"
      ]
     },
     "execution_count": 122,
     "metadata": {},
     "output_type": "execute_result"
    }
   ],
   "source": [
    "train_vec.shape, val_vec.shape, test_vec.shape"
   ]
  },
  {
   "cell_type": "code",
   "execution_count": 123,
   "metadata": {},
   "outputs": [],
   "source": [
    "with open(os.path.join(data_path, 'train_list'), 'wb') as fp:\n",
    "    pickle.dump(train, fp)\n",
    "with open(os.path.join(data_path, 'train_ids'), 'wb') as fp:\n",
    "    pickle.dump(train_ids, fp)\n",
    "with open(os.path.join(data_path, 'train_target'), 'wb') as fp:\n",
    "    pickle.dump(train_target, fp)\n",
    "with open(os.path.join(data_path, 'val_list'), 'wb') as fp:\n",
    "    pickle.dump(val, fp)\n",
    "with open(os.path.join(data_path, 'val_ids'), 'wb') as fp:\n",
    "    pickle.dump(val_ids, fp)\n",
    "with open(os.path.join(data_path, 'val_target'), 'wb') as fp:\n",
    "    pickle.dump(val_target, fp)\n",
    "with open(os.path.join(data_path, 'test_list'), 'wb') as fp:\n",
    "    pickle.dump(test, fp)\n",
    "with open(os.path.join(data_path, 'test_ids'), 'wb') as fp:\n",
    "    pickle.dump(test_ids, fp)\n",
    "with open(os.path.join(data_path, 'test_target'), 'wb') as fp:\n",
    "    pickle.dump(test_target, fp)"
   ]
  },
  {
   "cell_type": "code",
   "execution_count": 124,
   "metadata": {},
   "outputs": [
    {
     "data": {
      "text/plain": [
       "(10442, 3480, 3482)"
      ]
     },
     "execution_count": 124,
     "metadata": {},
     "output_type": "execute_result"
    }
   ],
   "source": [
    "sum(train_target), sum(val_target), sum(test_target)"
   ]
  },
  {
   "cell_type": "code",
   "execution_count": 125,
   "metadata": {},
   "outputs": [],
   "source": [
    "with open(os.path.join(data_path, 'train_list'), 'rb') as fp:\n",
    "    train = pickle.load(fp)\n",
    "with open(os.path.join(data_path, 'train_ids'), 'rb') as fp:\n",
    "    train_ids = pickle.load(fp)\n",
    "with open(os.path.join(data_path, 'train_target'), 'rb') as fp:\n",
    "    train_target = pickle.load(fp)\n",
    "with open(os.path.join(data_path, 'val_list'), 'rb') as fp:\n",
    "    val = pickle.load(fp)\n",
    "with open(os.path.join(data_path, 'val_ids'), 'rb') as fp:\n",
    "    val_ids = pickle.load(fp)\n",
    "with open(os.path.join(data_path, 'val_target'), 'rb') as fp:\n",
    "    val_target = pickle.load(fp)\n",
    "with open(os.path.join(data_path, 'test_list'), 'rb') as fp:\n",
    "    test = pickle.load(fp)\n",
    "with open(os.path.join(data_path, 'test_ids'), 'rb') as fp:\n",
    "    test_ids = pickle.load(fp)\n",
    "with open(os.path.join(data_path, 'test_target'), 'rb') as fp:\n",
    "    test_target = pickle.load(fp)"
   ]
  },
  {
   "cell_type": "code",
   "execution_count": 126,
   "metadata": {},
   "outputs": [
    {
     "data": {
      "text/plain": [
       "(10442, 3480, 3482)"
      ]
     },
     "execution_count": 126,
     "metadata": {},
     "output_type": "execute_result"
    }
   ],
   "source": [
    "sum(train_target), sum(val_target), sum(test_target)"
   ]
  },
  {
   "cell_type": "markdown",
   "metadata": {},
   "source": [
    "### Model: Multi-Layer Perceptron (Vanilla NN)"
   ]
  },
  {
   "cell_type": "code",
   "execution_count": 127,
   "metadata": {},
   "outputs": [],
   "source": [
    "logs_base_dir = '../../FinalProject/logs'"
   ]
  },
  {
   "cell_type": "code",
   "execution_count": 128,
   "metadata": {},
   "outputs": [],
   "source": [
    "ngram_model_params = {\n",
    "    'model': 'ngram',\n",
    "    'log_dir': logs_base_dir,\n",
    "    'learning_rate': 1e-3,\n",
    "    'epochs': 1000,\n",
    "    'batch_size': 128,\n",
    "    'layers': 2,\n",
    "    'units': 64,\n",
    "    'dropout_rate': 0.2\n",
    "}"
   ]
  },
  {
   "cell_type": "code",
   "execution_count": 129,
   "metadata": {},
   "outputs": [
    {
     "name": "stdout",
     "output_type": "stream",
     "text": [
      "Train on 20841 samples, validate on 6946 samples\n",
      "Epoch 1/1000\n",
      " - 23s - loss: 0.6334 - acc: 0.6499 - val_loss: 0.6175 - val_acc: 0.6362\n",
      "Epoch 2/1000\n",
      " - 22s - loss: 0.4980 - acc: 0.7878 - val_loss: 0.6054 - val_acc: 0.6463\n",
      "Epoch 3/1000\n",
      " - 22s - loss: 0.3904 - acc: 0.8530 - val_loss: 0.6203 - val_acc: 0.6447\n",
      "Epoch 4/1000\n",
      " - 23s - loss: 0.3148 - acc: 0.8863 - val_loss: 0.6514 - val_acc: 0.6418\n",
      "Validation accuracy: 0.6418082349210454, loss: 0.6514308869306683\n"
     ]
    }
   ],
   "source": [
    "reload(train_model)\n",
    "history, train_pred_probs, val_pred_probs = train_model.train_model(((train_vec, train_target), (val_vec, val_target)), **ngram_model_params)"
   ]
  },
  {
   "cell_type": "markdown",
   "metadata": {},
   "source": [
    "## Model evaluation"
   ]
  },
  {
   "cell_type": "code",
   "execution_count": 130,
   "metadata": {},
   "outputs": [
    {
     "data": {
      "text/plain": [
       "4458"
      ]
     },
     "execution_count": 130,
     "metadata": {},
     "output_type": "execute_result"
    }
   ],
   "source": [
    "val_preds = val_pred_probs > 0.5\n",
    "np.sum(val_preds.flatten()==val_target)"
   ]
  },
  {
   "cell_type": "code",
   "execution_count": 132,
   "metadata": {},
   "outputs": [
    {
     "name": "stdout",
     "output_type": "stream",
     "text": [
      "Confusion matrix, without normalization\n",
      "[[2062 1404]\n",
      " [1084 2396]]\n"
     ]
    },
    {
     "data": {
      "text/plain": [
       "<matplotlib.axes._subplots.AxesSubplot at 0x1a84d89a58>"
      ]
     },
     "execution_count": 132,
     "metadata": {},
     "output_type": "execute_result"
    },
    {
     "data": {
      "image/png": "[encoded data removed]",
      "text/plain": [
       "<Figure size 432x288 with 2 Axes>"
      ]
     },
     "metadata": {},
     "output_type": "display_data"
    }
   ],
   "source": [
    "reload(explore_data)\n",
    "# specify class names in 0 - 1 order\n",
    "classes = ['R', 'D']\n",
    "explore_data.plot_confusion_matrix(val_target, val_preds, classes, normalize=True)"
   ]
  },
  {
   "cell_type": "code",
   "execution_count": 133,
   "metadata": {
    "scrolled": false
   },
   "outputs": [
    {
     "data": {
      "image/png": "[encoded data removed]",
      "text/plain": [
       "<Figure size 720x720 with 2 Axes>"
      ]
     },
     "metadata": {},
     "output_type": "display_data"
    }
   ],
   "source": [
    "reload(explore_data)\n",
    "explore_data.plot_calibration_curve(val_target, val_pred_probs, 'Party')"
   ]
  },
  {
   "cell_type": "code",
   "execution_count": 134,
   "metadata": {},
   "outputs": [
    {
     "data": {
      "text/plain": [
       "0.29945292254534983"
      ]
     },
     "execution_count": 134,
     "metadata": {},
     "output_type": "execute_result"
    }
   ],
   "source": [
    "val_random = np.random.choice(a=[0,1], size=len(val_target), p = [0.7,0.3])\n",
    "val_random.sum()/val_random.shape[0]"
   ]
  },
  {
   "cell_type": "code",
   "execution_count": 135,
   "metadata": {},
   "outputs": [
    {
     "data": {
      "text/plain": [
       "(2080, 2080, 2080)"
      ]
     },
     "execution_count": 135,
     "metadata": {},
     "output_type": "execute_result"
    }
   ],
   "source": [
    "val_sample, val_ids_sample, val_pred_probs_sample = [], [], []\n",
    "for i in range(len(val_ids)):\n",
    "    if val_random[i] == 1:\n",
    "        val_sample.append(val[i])\n",
    "        val_ids_sample.append(val_ids[i])\n",
    "        val_pred_probs_sample.append(val_pred_probs[i])\n",
    "len(val_sample), len(val_ids_sample), len(val_pred_probs_sample)"
   ]
  },
  {
   "cell_type": "code",
   "execution_count": 136,
   "metadata": {},
   "outputs": [
    {
     "name": "stderr",
     "output_type": "stream",
     "text": [
      "/anaconda3/lib/python3.6/site-packages/numpy/lib/arraysetops.py:472: FutureWarning: elementwise comparison failed; returning scalar instead, but in the future will perform elementwise comparison\n",
      "  mask |= (ar1 == a)\n"
     ]
    },
    {
     "data": {
      "text/plain": [
       "(2914464, 16)"
      ]
     },
     "execution_count": 136,
     "metadata": {},
     "output_type": "execute_result"
    }
   ],
   "source": [
    "descr_df = pd.read_csv('../data/QA/full_descr.txt', sep=\"|\", index_col=0)\n",
    "descr_df.shape"
   ]
  },
  {
   "cell_type": "code",
   "execution_count": 137,
   "metadata": {},
   "outputs": [
    {
     "name": "stdout",
     "output_type": "stream",
     "text": [
      "Validation sample means:\n",
      "      Gender_F  Ethinicity_NW     AvgAge   Party_D  Chamber_H  AvgWordCount\n",
      "base  0.079474       0.087358  58.324787  0.520156   0.563685    232.456109\n"
     ]
    },
    {
     "data": {
      "text/html": [
       "<div>\n",
       "<style scoped>\n",
       "    .dataframe tbody tr th:only-of-type {\n",
       "        vertical-align: middle;\n",
       "    }\n",
       "\n",
       "    .dataframe tbody tr th {\n",
       "        vertical-align: top;\n",
       "    }\n",
       "\n",
       "    .dataframe thead th {\n",
       "        text-align: right;\n",
       "    }\n",
       "</style>\n",
       "<table border=\"1\" class=\"dataframe\">\n",
       "  <thead>\n",
       "    <tr style=\"text-align: right;\">\n",
       "      <th></th>\n",
       "      <th>Gender_F</th>\n",
       "      <th>Ethinicity_NW</th>\n",
       "      <th>AvgAge</th>\n",
       "      <th>Party_D</th>\n",
       "      <th>Chamber_H</th>\n",
       "      <th>AvgWordCount</th>\n",
       "    </tr>\n",
       "  </thead>\n",
       "  <tbody>\n",
       "    <tr>\n",
       "      <th>0.4</th>\n",
       "      <td>0.12</td>\n",
       "      <td>0.29</td>\n",
       "      <td>0.94</td>\n",
       "      <td>0.60</td>\n",
       "      <td>0.59</td>\n",
       "      <td>1.08</td>\n",
       "    </tr>\n",
       "    <tr>\n",
       "      <th>0.6</th>\n",
       "      <td>0.34</td>\n",
       "      <td>0.44</td>\n",
       "      <td>0.91</td>\n",
       "      <td>0.94</td>\n",
       "      <td>1.00</td>\n",
       "      <td>1.29</td>\n",
       "    </tr>\n",
       "    <tr>\n",
       "      <th>1.0</th>\n",
       "      <td>0.37</td>\n",
       "      <td>0.77</td>\n",
       "      <td>0.91</td>\n",
       "      <td>1.27</td>\n",
       "      <td>1.20</td>\n",
       "      <td>1.70</td>\n",
       "    </tr>\n",
       "  </tbody>\n",
       "</table>\n",
       "</div>"
      ],
      "text/plain": [
       "     Gender_F  Ethinicity_NW  AvgAge  Party_D  Chamber_H  AvgWordCount\n",
       "0.4      0.12           0.29    0.94     0.60       0.59          1.08\n",
       "0.6      0.34           0.44    0.91     0.94       1.00          1.29\n",
       "1.0      0.37           0.77    0.91     1.27       1.20          1.70"
      ]
     },
     "execution_count": 137,
     "metadata": {},
     "output_type": "execute_result"
    }
   ],
   "source": [
    "reload(explore_data)\n",
    "explore_data.check_bin_probs_distr(val_pred_probs, val_ids, descr_df)"
   ]
  },
  {
   "cell_type": "code",
   "execution_count": 138,
   "metadata": {},
   "outputs": [
    {
     "name": "stdout",
     "output_type": "stream",
     "text": [
      "\n",
      "Top 10 ngrams by differentiating score:\n",
      "president ask unanimous consent \t 93.1\n",
      "president ask unanimous \t 88.4\n",
      "mr president ask unanimous \t 84.2\n",
      "mr president ask \t 73.5\n",
      "unanimous consent that \t 69.1\n",
      "ask unanimous consent that \t 68.2\n",
      "ask unanimous consent \t 64.5\n",
      "mr speaker ask \t 56.4\n",
      "speaker ask unanimous \t 52.2\n",
      "mr speaker ask unanimous \t 51.5\n"
     ]
    },
    {
     "data": {
      "text/html": [
       "<div>\n",
       "<style scoped>\n",
       "    .dataframe tbody tr th:only-of-type {\n",
       "        vertical-align: middle;\n",
       "    }\n",
       "\n",
       "    .dataframe tbody tr th {\n",
       "        vertical-align: top;\n",
       "    }\n",
       "\n",
       "    .dataframe thead th {\n",
       "        text-align: right;\n",
       "    }\n",
       "</style>\n",
       "<table border=\"1\" class=\"dataframe\">\n",
       "  <thead>\n",
       "    <tr style=\"text-align: right;\">\n",
       "      <th>bin</th>\n",
       "      <th>1</th>\n",
       "      <th>2</th>\n",
       "      <th>3</th>\n",
       "    </tr>\n",
       "  </thead>\n",
       "  <tbody>\n",
       "    <tr>\n",
       "      <th>ask unanimous consent</th>\n",
       "      <td>376.0</td>\n",
       "      <td>94.0</td>\n",
       "      <td>217.0</td>\n",
       "    </tr>\n",
       "    <tr>\n",
       "      <th>ask unanimous consent that</th>\n",
       "      <td>317.0</td>\n",
       "      <td>74.0</td>\n",
       "      <td>158.0</td>\n",
       "    </tr>\n",
       "    <tr>\n",
       "      <th>mr president ask</th>\n",
       "      <td>223.0</td>\n",
       "      <td>47.0</td>\n",
       "      <td>72.0</td>\n",
       "    </tr>\n",
       "    <tr>\n",
       "      <th>mr president ask unanimous</th>\n",
       "      <td>188.0</td>\n",
       "      <td>31.0</td>\n",
       "      <td>42.0</td>\n",
       "    </tr>\n",
       "    <tr>\n",
       "      <th>mr speaker ask</th>\n",
       "      <td>3.0</td>\n",
       "      <td>6.0</td>\n",
       "      <td>107.0</td>\n",
       "    </tr>\n",
       "    <tr>\n",
       "      <th>mr speaker ask unanimous</th>\n",
       "      <td>1.0</td>\n",
       "      <td>5.0</td>\n",
       "      <td>93.0</td>\n",
       "    </tr>\n",
       "    <tr>\n",
       "      <th>president ask unanimous</th>\n",
       "      <td>197.0</td>\n",
       "      <td>34.0</td>\n",
       "      <td>43.0</td>\n",
       "    </tr>\n",
       "    <tr>\n",
       "      <th>president ask unanimous consent</th>\n",
       "      <td>196.0</td>\n",
       "      <td>31.0</td>\n",
       "      <td>40.0</td>\n",
       "    </tr>\n",
       "    <tr>\n",
       "      <th>speaker ask unanimous</th>\n",
       "      <td>1.0</td>\n",
       "      <td>5.0</td>\n",
       "      <td>94.0</td>\n",
       "    </tr>\n",
       "    <tr>\n",
       "      <th>unanimous consent that</th>\n",
       "      <td>325.0</td>\n",
       "      <td>79.0</td>\n",
       "      <td>160.0</td>\n",
       "    </tr>\n",
       "  </tbody>\n",
       "</table>\n",
       "</div>"
      ],
      "text/plain": [
       "bin                                  1     2      3\n",
       "ask unanimous consent            376.0  94.0  217.0\n",
       "ask unanimous consent that       317.0  74.0  158.0\n",
       "mr president ask                 223.0  47.0   72.0\n",
       "mr president ask unanimous       188.0  31.0   42.0\n",
       "mr speaker ask                     3.0   6.0  107.0\n",
       "mr speaker ask unanimous           1.0   5.0   93.0\n",
       "president ask unanimous          197.0  34.0   43.0\n",
       "president ask unanimous consent  196.0  31.0   40.0\n",
       "speaker ask unanimous              1.0   5.0   94.0\n",
       "unanimous consent that           325.0  79.0  160.0"
      ]
     },
     "execution_count": 138,
     "metadata": {},
     "output_type": "execute_result"
    }
   ],
   "source": [
    "reload(explore_data)\n",
    "explore_data.compare_ngrams(val, val_pred_probs)"
   ]
  },
  {
   "cell_type": "code",
   "execution_count": 139,
   "metadata": {},
   "outputs": [
    {
     "name": "stdout",
     "output_type": "stream",
     "text": [
      "\n",
      "In 0.4 bin top 10 ngrams:\n",
      "\n",
      "the senator from\n",
      "the united states\n",
      "ask unanimous consent\n",
      "unanimous consent that\n",
      "ask unanimous consent that\n",
      "of the senate\n",
      "would like to\n",
      "the federal government\n",
      "the department of\n",
      "mr president ask\n",
      "--------------------\n",
      "\n",
      "In 0.6 bin top 10 ngrams:\n",
      "\n",
      "the united states\n",
      "the senator from\n",
      "the department of\n",
      "would like to\n",
      "the gentleman from\n",
      "chairman of the\n",
      "the soviet union\n",
      "one of the\n",
      "are going to\n",
      "of the united\n",
      "--------------------\n",
      "\n",
      "In 1.0 bin top 10 ngrams:\n",
      "\n",
      "the united states\n",
      "would like to\n",
      "the gentleman from\n",
      "one of the\n",
      "the department of\n",
      "of the united\n",
      "are going to\n",
      "the senator from\n",
      "the federal government\n",
      "chairman of the\n",
      "--------------------\n"
     ]
    }
   ],
   "source": [
    "reload(explore_data)\n",
    "explore_data.ngrams_by_bin(val_sample, val_pred_probs_sample)"
   ]
  },
  {
   "cell_type": "code",
   "execution_count": 140,
   "metadata": {
    "scrolled": false
   },
   "outputs": [
    {
     "name": "stdout",
     "output_type": "stream",
     "text": [
      "\n",
      "True positive (Predicted prob: 0.95):\n",
      "\n",
      "date                 19810729\n",
      "char_count               5423\n",
      "word_count                891\n",
      "speakerid         9.71099e+07\n",
      "Party                       D\n",
      "Congress                   97\n",
      "Chamber                     H\n",
      "State                      NY\n",
      "Ethnicity                   W\n",
      "Age                        55\n",
      "Age_lt_med                  0\n",
      "NonWhite                    0\n",
      "Female                      0\n",
      "speaker            Mr. WVEISS\n",
      "Full Name     WEISS, THEODORE\n",
      "match                   exact\n",
      "Name: 970069928, dtype: object\n",
      "\n",
      " Mr. Chairman. the only bill that is consonant with national economic justice Is the Udall substitute. I urge its adoption. Mr. Chairman. In todays debate on the Tax Incentive Act of 1981. we are really confronted with the task of choosing between two slightly different versions of voodoo economics. My colleagues will recall that It was Candidate GEORGE HusH who coined the term \"voodoo economics\" to describe a policy of reducing taxes during a period of sustained Inflation and unbalanced budgets. Our economy is plagued by high inflation. highinterest rates. and slow growth in gross national product. Yet the administration plans to stimulate savings and investment with a tax cut which favors big business and people with incomes over $50.000 per year. With only 3.6 percent of the population earning over $50.000 per year. it Is doubtful that those relatively few people will effectively stimulate the economy by discontinuing their use of high yield money market funds and the like and concentrating this additional cash in a savings bank. Most of those below the $50.000 level will not receive a tax cut large enough to offset the Influence of inflation. and those who do will likely be forced to spend those few Inflationeroded dollars rather than save them. We should end up with Increased consumer spending. which would do nothing to decrease Inflation. In addition. the President would have us approve massive. multimillion dollar giveaways to people and industries who simply do not warrant this treatment. For example. oil companies would receive approximately $20 billion In tax giveaways under the Republican substitute. Once again. the Federal Government wvould be forced to increase its own borrowing to fund the huge deficit these tax cuts will create. A budget deficit of at least $60 billion in fiscal year 1982. the result of Reaganomics. would obviously preclude a balanced budget even after the enormous budget cuts which the administration has foisted upon the Nation. The Federal Government would be forced to borrow money to meet its financial obligation.. By competing with the private sector for credit. thle Federal Government would unintentionally create even higher Interest ratesinterest which must eventually be paid back on loans and which will drive the Federal debt to over a trillion dollars. H.R. 4242. the tax proposal reported by the Ways and Means Committee is flawed for many of the same reasons. It Is a massive tax cut during a period of sustained Inflation. and it Is being presented at a time when the mood of the administration continues to favor massive spending levels on defense. In any other time. this proposal would be overwhelmingly rejected by a Democratic Congress. Although the- Ways and Means tax plan does target the $10.0004$50.000 per year income earners with Its individual tax rate cuts. It also includes huge giveaways to big business. For example. It contains virtually the same provision of royaltyowner credit for oil companies as the Republican bill which gives royaltyowners a $2.500 credit for 1981. Another provisions would provide for an exemption from windfall profit tax which. by the year 1986. should cost the Federal Government between $1 and $2 billion annually in giveaways to the oil companies. Those who will pay for these giveaways are the. citizens who face massive cuts In health services. social security. school aid. food stamps. college grantsand loans. unemployment compensation and the other social programs the administration has sought to slash. The Ways and Means bill Is only a pale limitation of the Reagan proposal. If either bill passes. thle President has won and the people have lost. Only one tax cut proposal before us today offers anything approaching real tax equity. In its first year. the UdalObeyReuss substitute would provide larger actual tax reductions to 77 percent of all taxpayers than they would receive under the first 12 months of the administration bill. Lower and middle Income Americans realize more relief uinder this bill. Yet the Udall bill acknowledges how unwise it would be to force tax cuts In upcoming years. when we have no certain knowledge of the economys perfotimance. It keeps the borrowing of the Treasury to a minimum. and refuses to engage In the sham of a tax break with borrowed money. In addition. the Udall package elimi. nates the Christmas tree items that have been laden upon the other two bills to benefit the oil companies tax straddlers. and others. While cutting taxes enough to offset Inflations impact. the Udall bill makes possible a balanced budget for next yearsomething neither the Presidents tior the Ways and Means package would accomplish. it makes surpluses possible In subsequent years. at which time further tax cuts could be made If the economy has Improved enough to make them prudent. All in all. it helps put the Government back on a careful. pay as you go path. Earlier this year. I labeled the Reagan budget as the drop dead. America budget. The Reagan tax program combined with a 5year defense buildup costing a total of $ 1.635 trillion nails the lid on the coffin of the American economy. In the attempt to ward off economic chaos Mr. Reagan will be coming back next year demanding Increasingly savage cuts in domestic programs. He will be insisting on additional cuts in social security benefits. America will rue the day of this great Reagan tax victory.\n",
      "--------------------\n",
      "\n",
      "True negative (Predicted prob: 0.00):\n",
      "\n",
      "date                19810727\n",
      "char_count              1130\n",
      "word_count               179\n",
      "speakerid        9.71053e+07\n",
      "Party                      R\n",
      "Congress                  97\n",
      "Chamber                    S\n",
      "State                     IL\n",
      "Ethnicity                  W\n",
      "Age                       63\n",
      "Age_lt_med                 0\n",
      "NonWhite                   0\n",
      "Female                     0\n",
      "speaker            Mr. PERCY\n",
      "Full Name     PERCY, CHARLES\n",
      "match                  exact\n",
      "Name: 970066593, dtype: object\n",
      "\n",
      " Mr. President. section 36 (b) of the Arms Export Contr1 Act requires that Congress receive advance notification of proposed arms sales under that act In excess of $25 million. or In the case of major defense equipment as defined in the act. those in excess of $7 million. Upon receipt of such notification. the Congress has 30 calendar days durIng which the sale may be prohibited by means of a concurrent resolution. The provision stipulates that. in the Senate. the notification of proposed sales shall be sent to the chairman of the Foreign Relations Committee. Pursuant to an informal understanding. the Department of Defense has agreed to provide the committee with a preliminary notification 20 days before transmittal of the official notification. The official notification will be printed in the RECORD in accordance with previous practice. I wish to Inform Members of the Senate that nine such notifications have been received. Interested Senators may inquire as to the details of these preliminary notifications at the offices of the Committee on Foreign Relations. room 4229. Dirksen Building. The notification follows:\n",
      "--------------------\n",
      "\n",
      "False positive (Predicted prob: 0.99):\n",
      "\n",
      "date                19811110\n",
      "char_count             35095\n",
      "word_count              3539\n",
      "speakerid        9.71082e+07\n",
      "Party                      R\n",
      "Congress                  97\n",
      "Chamber                    H\n",
      "State                     NJ\n",
      "Ethnicity                  W\n",
      "Age                       41\n",
      "Age_lt_med                 1\n",
      "NonWhite                   0\n",
      "Female                     0\n",
      "speaker          Mr. COURTER\n",
      "Full Name     COURTER, JAMES\n",
      "match                  fuzzy\n",
      "Name: 970109023, dtype: object\n",
      "\n",
      " Mr. Speaker. I have introduced legislation to create a new uniform. leaseback program for the residents of the Delaware Water Gap National Recreational Area. I believe that this legislation establishes a reasonable and hunlane policy for the people of this portion of the Delaware Valley. who deserve a clear policy after living with the Indecision of the Federal Government for nearly two decades. The Delaware Water Gap National Recreational Area was originally conceived as a complement to the Tocks Island Dam project. and was later Incorporated into the Wild and Scenic Rivers System in 1978. Since 1965. when the Army Corps of Engineers began acquiring properties for the Tocks Island Dam project and the surrounding national recreational area. many residents have left the area. The remaining tenants who lease their land from the National Park Service are in three categories: Approximately 15 residents hold life estate rights. 70 yearround residents hold 5year specialuse permits along with a verbal assurance of renewal upon the expiration of the 5year term. and 142 seasonal residents hold 2year special use permits which expire on December 31. 1981. and face eviction on January 1. 1982. The diverse terms of the leases for the various residents exists because the land was acquired at different times by different Federal agencies. The seasonal residents now face eviction on January 1. 1982. It is my belief that the eviction of these residents will not bring about any useful purpose. for further development of the park is far from complete. In addition. by no stretch of the Imagination are the residents impeding development of the park or blocking public access to the area. The recreation area Is currently being enjoyed by many visitors. and the local residents have. on many occasions. been both helpful and Instructive to visitors in the area. Their absence at this point could only be detrimental by encouraging increased vandalism and arson in the area. I have therefore introduced a bill to allow the seasonal residents the opportunity to retain their leases. and to grant longterm security to the yearround residents whose leases will expire In 3 years. My bill. H.R. 4865. would give the Department of the Interior legal authority to continue renting to the residents. which it currently does not have. This bill would establish the terms of an equitable and clearcut. lifelong leaseback policy for all of the leaseholders. seasonal and year round. In the recreational area providing their property meets minimum health and safety standards. If this legislation is enacted. the Secretary of the Interior will. within 30 days. give notice of the extension of the lease until May 16. 1982. by which time residents are given the opportunity to undertake any corrective measures to conform with minimum health and safety standards. The residents would then be notified In writing of a possible life long lease If their dwellings comply with the standards agreed upon. The terms of the lease include an arrangment whereby the lease shall not be terminated before the death of the resident and shall be set at the fair market rental value. adjusted annually according to the Consumer Price Index. This policy. if implemented. would continue to give the Secretary of the Interior the right to terminate the lease if the residents fail to conform to the standards during the term of the lease. and the lease could not be passed on to the next generation. This legislation would not only address the current situation. but would continue to assure that siniilar leaseback rights be given to anyone in the area whose land is acquired in the future. If no legislative action is taken In the very near future to implement a uniform leaseback policy In this area. the evictions of the seasonal residents will go ahead as planned. I believe that these 142 seasonal residents. as well. as the approximately 70 yearround residents. should be allowed the opportunity to remain in their homes. Although the number of citizens facing eviction is by no means large. the principle behind the decision is very Importanit. The Federal Governments treatment of the people of the valley. since the original conception of the Tocks Island Dam. has been. to say the least. far from exemplary. Past circumstances cannot be changed. nor can past mistakes be corrected. But we can make the effort to set forth a clear and fair policy for these citizens. and I believe that this legislation I have introduced gives us the opportunity to make such a policy. I would welcome the support of my colleagues. The text of H.R. 4865 follows: H.R. 4865 A bill to direct the Secretary of the Interior to offer lifetime leases to certain individuals leasing dwellings in the Delaware Water Gap National Recreation Area. and for other purposes Be it enacted by the Senate and House of Representatives of the United States of America in Congress assembled. That (a) section 2 of the Act entitled \"An Act to auth arIze establishment of the Delaware Water Gap National Recreation Area. and for other purposes\". approved September 1. 1965 (16 U.S.C. 460o1). is amended by adding at the end the following new subsection: \"(e)(1) Not earlier than May 1. 1982. and not later than May 15. 1982. the Secretary of the Interior shall make a written offer to any individual who leases any dwelling owned by the United States within the exterior boundaries of the area depicted on the drawing referred to in subsection (a) of this section to enter into a new lease with respect to such dwelling. If such dwelling. on the date such offer Is made. conforms to minimum health and safety standards. The lease so offered shall Include terxvis providIng that\"(A) except as provided in subparagraph (C) of this paragraph. such lease shall not terminate before the death of such Individual or the death of such individuals spouse. whichever occurs later: \"(B3) the rent payable under such lease shall be equal to the fair market rental value of such dwelling on the date such offer Is made. increased annually according to the percent rise during the year involved in the Consumer Price Index published by the Bureau of Labor Statistics. and \"(C) such lease may be terminated by th: Secretary if such dwelling. after due notice and opportunity for corrective measures is given to such individual. fails to conform to minimum health and safety standards. \"(2) Not later than thirty days after the date of the enactment of this subsection. the Secretary. In writing\"(A) shall notify any individual who. on the date of the enactment of this subsection. leases any dwelling owned by the United States within the exterior boundaries of the area depicted on the drawing referred to in subsection (a) of this section what. If eny. measures are necessary to bring such dwelling Into conformity with minimum health and safety stan~dards. and \"1(B) if the lease such Individual holds on such dwelling will terminate before May 16. 1982. shall make an offer to such individual to extend such lease until May 16. 1982. or until an offer Is made under paragraph (1) of this subsection. whichever occurs first. \"1(3) For purposes of this subsection\"(A) the term dwelling means any singlefamily dwelling. together with any appurtenant building. andI \"(B3) the term minimum health and safety standards shall have the meaning given to ~Remnaiks E 5247 It by the Secretary after considering the health and safety requirements applicable to similar dwellings In localities near to tile national recreation area.\". (b) The fifth sentence of section 2(a) of the Act entitled \"An Act to authorize thle es. tablishment of the Delaware Water Gap National Recreation Area. and for other purposes\". approved September 1. 1965. Is amended by striking out \"may\" and Inserting In leu thereof \"shall\".. REPRESENTATIVE. STATE. AND CAPITOL Office No. Office No. OFFICE Coughlin. Lawrence (Pa.).................................. 2467 Glnn. Bo (Ga.)..................................................... 2135 (As furnished by the Clerk of the House.) Courter. James A. (N.J)..................................... 325 Glickman. Dan (Kans.)...................................... 1507 Coyne. James K. (Pa.)........................................ 1513 Goldwater. Barry M.. Jr. (Calif.)...................... 2240 (NorE.-Room numbers with 3 digits are in the Coyne. William J. (Pa.)...................................... 611 Gonzalez. Henry B. (Tex.)................................ 2252 Cannon House Office Building. 4 digits beginning Craig. Larry E. (Idaho)...................................... 515 Goodling. William F. (Pa.)................................ 109 with I are in the Longworth House Office Building. Crane. Daniel B. (Ill.)........................................ 115 Gore. Albert. Jr. (Tenn.)................................... 1131 and 4 digits beginning with 2 are in the Rayburn Crane. Philip M. (111.)......................................... 1035 Gradison. Willis D.. Jr. (Ohio)......................... 1117 House Officee Building. Washington. D.C. 20515.) Crockett. George W.. Jr. (Mich.)...................... 1531 Oramm. Phil (Tex.)............................................ 1721 [Democrats in roman (242). Republicans in Italics DAmours. Norman E. (N.H.).................. 2242 Gray. William H.. III (Pa.)................................ 421 (DemocratsDaniel. Dan (Va.)..................... 238 GaWlia.. I P..................429 GenBll( (192). vacant (1). total 435.] Daniel. Robert W. Jr. (Va.)..................23 Green. Bill (N.Y.).............................................. 1417 Office No. Danielson. George E. (Calif.)................ . 2265 Gregg. Judd (N.H.).............................................. 503 Addabbo. Joseph P. (N.Y.)................ 2256 Dannemeyer. William X. (Calif.)........... . 1032 Grisham. Wayne (Calif.)................................... 120 Akaka. Daniel K. (Hawaii)................................ 1510 Daschle. Thomas A. (S. Dak.).......................... 439 Guarini. Frknk J. (N.J.)..................................... 1530 Albosta. Donald Joseph (Mich.)....................... 1318 Daub. Hal (Nebr.)............................................. 1008 Gunderson. Steve (Wis.).................................... 416 Alexander. Bill (Ark.)......................................... 201 Davis. Robert W. (Mich)................................. 1224 Hagedorn. Tom (Minn.)................................... 2344 Anderson. Glenn M. (Calif.) ............................. 2329 Deckard. Joel (Ind.)........................................... 125 Hall. Ralph M. (Tex.)......................................... 1223 Andrews. Ike (N.C.)............................................ 2201 de la Garza. E (Tex.).......................................... 1434 Hall. Sam B.. Jr. (Tex.)...................................... 318 Annunzio. Frank (Ill.)........................................ 2303 Dellums. Ronald V. (Calif.).............................. 2136 Hall. Tony P. (Ohio)........................................... 1728 Anthony. Beryl. Jr. (Ark.)................................. 213 de Lugo. Ron I (V.I.) ....................... .......... 2443 Hamilton. Lee H. (Ind.).................................. 2187 Applegate. Douglas (Ohio)................................ 435 DeNardis. Lawrence J. (Conn.) ........................ 1429 Hammerachmidt. John Paul (Ark.) ................. 2207 Archer. Bill (Tex.)............................................... 1135 Derrick. Butler (S.C.)........................................ .133 Hence. Kent (Tex.)............................................. 1039 Ashbrook. John M. (Ohio).................................. 1436 Derwinski. Edward J. (Ill.)................................ 1401 Hansen. George (Idaho)..................................... 1125 Aspin. Les (Wis.)................................................. 442 Dickinson. William L. (Ala.)............................ 2406 Hansen. James V. (Utah)................................... 1407 Atkinson. Eugene V. Pa.).................................. 412 Dicks. Norman D. (Wash.) ................................ 1122 Iarkin. Tom (Iowa)............................................ 2411 AuCoin. Les (Oreg.)........................................... 2446 Dingell. John D. (Mich.)................................ 2221 Hartnet. Thomas F. (S.C.)................................ 509 Badham. Robert E. (Calif.)................................ 1108 Dixon. Julian C. (Calif.).................................... 423 Hatcher. Charles (Ga.) 1726 Bafalis. L. A. (Skip) (Fla.)................................ 2433 Donnelly. Brian J. (Mass.)............................. 1019 Hawkins. Augustus P. (Ca ................... 2371 Bailey. Don (Pa.)............................................... 116 Dorgan. Byron L. (N. Dak.).............................. 427 Hksg\"s(af\".\"\"2 Bailey. Wcndell (Mo.)......................................... 504 Dornan. Robert K. (Calif.)................................ 332 Heckler. Margaret M. (Mass.)............................ 2312 Barnard. Doug. Jr. (Ga.).................................... 236 Dougherty. Charles F. (Pa.)............................... 422 Hefner. W. G. (Bill) (N.C.)................................ 2161 Barnes. Michael D. (Md.).................................. 1607 Dowdy. Wayne (Miss.)....................................... 1631 Ief tel. Cecil (Cec) (Hawaii).............................. 1030 Beard. Robin L. (Tenn.) .................................... 229 Downey. Thomas J. (N.Y.)............................... 303 Hendon. Bill (N.C.)............................................. 212 Bedell. Berkley (Iowa)....................................... 2440 Dreier. David (Calif.)......................................... 1641 Hertel. Dennis M. (Mich.)................................. 1017 Bellenson. Anthony C. (Calif.)...................... 1025 Duncan. John J. (Tenn.)................................. 2458 Hightower. Jack (Tex.).................................... 2348 Benedict. Cleve (W. Va.)........... ....... 1229 Dunn. Jim (Mich.)............................................ 1630 Hiler. John (Ind.)............................................ 1338 Benjamin. Adam. Jr. (Ind.)............................... 410 Dwyer. Bernard J. (N.J.) .................................. 437 Hillis. Elwood (Ind.)........................................... 2336 Bennett. Charles E. (Fla.)................................. 2107 Dymally. Mervyn M. (Calif.)............................. 1116 Holland. Ken (S.C.).......................................... 2431 Bereuter. Douglas K. (Nebr.)............................. 1314 Dyson. Roy (Md.)............................................. 1020 Hollenbeck. Harold C. (N.J.)............................. 1526 Bethune. Ed (Ark.).............................................. 1535 Early. Joseph D. (Mass.).................... ....... 2349 Holt Marjorie S. (Md.)....................................... 2412 Bevill. Tom (Ala.)................................................ 2302 Eckart. Dennis E. (Ohio).................................. 1222 Hopkins. Larry J. (Ky.).................................... 331 Biaggi. Mario (N.Y.)........................................... 2428 Edgar. Bob (Pa.)................................................. 2442 Horton. Frank (N.Y.) ......................................... 2229 Bingham. Jonathan B. (N.Y.)........................... 2262 Edwards. Don (Calif.)......................................... 2307 Howard. James J. (N.J.)..................................... 2245 Blanchard. James J. (Mich.)............................. 2453 Edwards. Jack (Ala.)........................... ....... 2369 Hoyer. Steny H. (Md.)........................................ 1631 Bliley. Thomas J.. Jr. (Va.)................................ 214 Edwards. Mickey (Okla.)................................... 208 Hubbard. Carroll. Jr. (Ky.)............................... 2244 Boggs. Lindy (Mrs. Hale) (La.)......................... 2353 Emerson. Bill (Mo.)............................................ 418 Huckaby. Jerry (La.) . ................... 228 Boland. Edward P. (Mass.)................................ 2426 Emery. David F. (Maine)............................... 2437 Bolling. Richard (Mo.)....................................... 2365 English. Glenn (Okla.).................................. 104 Hughes. William J. (N.J.).................................. 436 Boner. William Hill (Tenn.).............................. 118 Erdahl. Arlen (Minn.)...................................... 1518 Hunter. Duncan (Calif.).................................... 415 Bonior. David E. (Mich.).................................... 1130 Erlenborn. John N. (Ill.).................................... 2206 Hutto. Earl (Fla.)........................ ................. 330 Bonker. Don (Wash.) ......................................... 434 Ertel. Allen E. (Pa.)............................................ 1211 Hyde. Henry J. (Ill.)............................................ 1203 Bouquard. Marilyn Lloyd (Tenn.)................... 2334 Evans. Billy Lee (Ga.)........................................ 113 Ireland. Andy (Fla.).......................................... 1124 Bowen. David R. (Miss.) .................................... 2421 Evans. Cooper (Iowa)........................................ 317 Jacobs. Andrew. Jr. (Ind.)................................. 1533 Breaux. John B. (La.)...................................... 21 9 Evans. David W. (Ind.)................................. 438 Jeffords. James M. (Vt.)..................................... 1524 Brinkley. Jack (Ga.)........................................... 2470 Evans. Thomas B.. Jr. (Del.)............................. 316 Jeffries. Jim (Kans.)........................................... 424 Brodhead. William M. (Mich.).......................... 1114 Fary. John 0. (Ill.)............................................. 1121 Jenkins. Ed (Ga.)................................................ 217 Brooks. Jack (Tex.)............................................. 2449 Fascell. Dante B. (Fla.)...................................... 2354 Johnston. Eugene (N.C.).................................... 128 Broomfield. Win. S. (Mich.)............................ 2306 Fauntroy. Walter E.3(D.C.)............................. 2350 Jones. Ed (Tenn.)................................................ 108 Brown. Clarence J. (Ohio).............................. 2217 Fazlo. Vic (Calif.)................................................ 1421 Jones. James R. (Okla.)..................................... 203 Brown. George E.. Jr. (Calif.)........................... 2342 Fenwick. Millicent (N.J.).................................. 1230 Jones. Walter B. (N.C.)..................................... 241 Brown. Hank (Colo.).......................................... 1319 Ferraro. Geraldine A. (N.Y.)... . ................ 312 Kastenmeler. Robert W. (Wis.)........................ 2232 Broyhill. James T. (N.C.)................................... 2340 Fiedler. Bobbi (Calif.).................... 1724 Burgener. Clair W. (Calif.).................. ............ 343 Fields. Jack (Tex.)............ . ... 510 Kazen. Abraham. Jr. (Tex.) ................2408 Burton. John L. (Calif.)..................................... 1714 Findley. Paul (Ill.) .......................................... 2113 Kemp. Jack F. (N.Y.)........................................ 2235 Burton. Phillip (Calif.) ....... ............ 2304 Fish. Hamilton. Jr. (N.Y.)............................... 2227 Kildee. Dale E. (Mich.).................................... 314 Butler. M. Caldwell (Va.)................................... 2330 Fithian. Floyd J. (Ind.)..................................... 1210 Kindness. Thomas N. (Ohio)............................. 2434 Byron. Beverly B. (Md.)..................................... 1216 Flippo. Ronnie G. (Ala.)................................ 405 Kogovsek. Ray (Colo.) ..................................... 430 Campbell. Carroll A.. Jr. (S.C.)......................... 408 Florio. James J. (N.J.)...................................... 1740 Kramer. Ken (Colo.)........................................... 114 Carman. Gregory W. (N.Y.) .............................. 1729 Foglietta. Thomas M. (Pa.)............................... 1217 LaFalce. John J. (N.Y.).................... 2447 Carney. William (N.Y.)...................................... 1113 Foley. Thomas S. (Wash.)................................. 1201 Lagomarsino. Robert J. (Calif.)........................ 2332 Chappell. Bill. Jr. (Fla.)..................................... 2468 Ford. Harold E. (Tenn.)..................................... 2445 Lantos. Tom (Calif.)........................................... 1123 Chappie. Gene (Calif.)....................................... 1730 Ford. William D. (Mich.)................................. 239 Latta. Delbert L. (Ohio)..................................... 2309 Cheney. Dick (Wyo.)........................................... 225 Forsythe. Edwin B. (N.J.)................................. 2210 Leach. Jim (Iowa)............................................... 1406 Chisholm. Shirley (N.Y.)................................... 2182 Fountain. L. H. (N.C.)........................................ 2188 Leath. Marvin (Tex.).......................................... 330 Clausen. Don H. (Calif.).................................... 2308 Fowler. Wyche. Jr. (Ga.).................................. 1504 LeBoutillier. John (N.Y.)................................... 417 Clay. William (Bill) (Mo.).................................. 2264 Frank. Barney (Mass.)...................................... 1609 Lee. Gary A. (N.Y.)............................................. 322 Clinger. William F.. Jr. (Pa.) ............................ 1221 Frenzel. Bill (Minn.)........................................... 1026 Lehman. William (Fla.) 2347 Coats. Dan (Ind.)............................................... 1427 Frost. Martin (Tex.).......................................... 1238 Lelan. ikea (ex.).247 Coelho. Tony (Calif.) ......................................... 216 Fuqua. Don (Fla.)............................................... 2269 Leland. Mickey (Tx.) ..................... 419 Coleman. E. Thomas (Mo.)................................ 1527 Garcia. Robert (N.Y.)........................................ 223 Lent. Norman F. (N.Y.)...................................... 2228 Collins. Cardiss (Ill.)........................................... 2438 Gaydos. Joseph M. (Pa.).................................... 2366 Levitas. Elliott H. (Ga.)................................... 2416 Collins. James Al. (Tex.).................................... 2419 GeJdenson. Sam (Conn.)................................... 1503 Lewis. Jerry (Calif.)............................................ 327 Conable. Barber B.. Jr (N.Y.)........................... 237 Gephardt. Richard A. (Mo.)............................ 218 Livingston. Bob (La.)........................................ 206 Conle. Silvio 0. (Mass.)..................................... 2300 Gibbons. Sam (Fla.)........................................... 2204 Loefler. Tom (Tex.)............................................ 1212 Conyers. John. Jr. (Mich.)................ 2313 Gilman. Benjamin A. (N.Y.)............................ 2160 Long. Clarence D. (Md.).................................... 2405 Corcoran. Tom (111.)........................................... 1107 Gingrich. Newt (Ga.).................... ........... 1005 Long. Gillis W. (La.)........................................... 2311 Corrada. BaltasarI(P.R.).................................. 1410 Lott. Trent (Miss.)............................................... 2400 Lowery. Bill (Calif.)............................................ 1331 Delegate from the Virgin Islands. Lowry. Mike (Wash.).......................................... 1206 Resident Commissioner from Puerto Rico. 3Delegate from the District of Columbia. Lujan. Manuel. Jr. (N. Mex.)............................ 1323 Office No. Luken. Thomas A. (Ohio)................. 240 Ludine. Stanley N. (N.Y.)............................... 231 Lunaren. Dan (Calif.).................................. 328 McClory. Robert (Ill.)......................................... 2109 McCloskey. Paul N.. Jr. (Calif.)............ 205 McCollum.. Bill(Fla.) ......................................... 1313 McCurdy. Dave (Okla.).................. 313 McDade. Joseph M. (Pa.).................................... 2370 McDonald. Larry (Ga.).................. 103 McEwen. Bob (Ohio)................... 507 McGrath. Raymond J. (N.Y.)............................ 506 McHugh. Matthew F. (N.Y.)............... 306 McKinney. Stewart B. (Conn.)......................... 106 Madigan. Edward R. (Ill.)................................. 2457 Markey. Edward J. (Mass.)............................... 403 Marks. Marc L. (Pa.)..................... 1424 Marlenee. Ron (Mont.).................. 409 Marriott. Dan (Utah).................................. 1133 Martin. David OB. (N.Y.) ........... 502......... 502 Martin. James G. (N.C.)..................................... 341 Martin. Lynn (Ill.).............. ... 1208 Matsui. Robert T. (Calif.)................. 329 Mattox. Jim (Tex.)............................................ 1111 Mavroules. Nicholas (Mass.).............. 1204 Mazzoll. Romano L. (Ky.)................................. 2246 Mica. Dan (Fla.).................... 131 Michel. Robert H. (Ill.)....................................... 2112 Mikulski. Barbara A. (Md.)............... 407 Miller. Clarence E. (Ohio)................................. 2208 Miller. George (Calif.)................... 2422 Mineta. Norman Y. (Calif.).............................. 2352 Minish. Joseph 0. (N.J.).................................... 2162 Mitchell. Donald J. (N.Y.) ................................. 2305 Mitchell. Parren J. (Md.)................. 2367 Molrldey. Joe (Mass.)................... 221 Mofett. Anthony Toby (Conn.)............. 127 Molinart. Guy V (N.Y.).................................... 601 Mollohan. Robert H. (W. Va.)............. 339 Montgomery. 0. V. (Sonny) (Miss.) ................ 2184 Moore. W. Henson (La.).................. 2404 Moorhead. Carlos J. (Calif.)............... 2346 Morrison. Sid (Wash.).................... 1330 Mottl. Ronald M. (Ohio)................................... 2459 Murphy. Austin J. (Pa.)................. 204 Murtha. John P. (Pa.)................... 2423 Myers. John T. (Ind.)........................ 2301 Napier. John L. (S.C.)................... 1631 Natcher. William H. (Ky.)................. 2333 Neal. Stephen L. (N.C.).................. 2463 Nelligan. James L. (Pa.).................. 1711 Nelson. Bill (Fla.).................. 307 Nichols. Bill (Ala.).................... 2417 Nowak. Henry J. (N.Y.) ................. 1514 Oakar. Mary Rose (Ohio)................ 107 Oberstar. James L. (Minn.)............................... 2351 Obey. David R. (W is.) ........................................ 2230 OBrien. George M. (Ill.).................................... 2439 ONeill. Thomas P.. Jr. (Mass.)............ 2231 Ottinger. Richard L. (N.Y.)............................... 2241 Oxley. Michael 0. (Ohio).................. 1724 Panetta. Leon E. (Calif.).................. 431 Parriu. Stan (Va.)................................................ 428 Pashayan. Charles. Jr. (Calif.).............. 129 Patman. Bill (Tex.).................... 1408 Patterson. Jerry M. (Calif.)............................... 2238 Paul. Ron (Tex.).................................................. 1234 Pease. Donald J. (Ohio)................. 1127 Pepper. Claude (Fla.).................... 2239 Perkins. Carl D. (Ky.)................... 2328 Petri. Thomas E. (Wis.) .................. 1024 Peyser. Peter A. (N.Y.).................. 301 Pickle. J. J. (Tex.)............................................... 242 Porter. John Edward (Ill.)................................. 1529 Price. M elvin (I11.)............................................... 2110 Pritchard. Joel (Wash.)................... 2263 Pursell. Carl D. (Mich.).................... . 1414 Quillen. James H. (Jimmy) (Tenn.)................. 102 Rahall. Nick Joe. II (W. Va.).............. 440 Railsback. Tom (IIl.) .................... 2104 Rangel. Charles B. (N.Y.).................................. 2432 Ratchford. William R. (Conn.)............ 432 Regula. Ralph (Ohio).......................... 401 Reuss. Henry S. (W is.)....................................... 2413 Rhodes. John J. (Ariz.)....................................... 2310 Richmond. Frederick W. (N.Y.)....................... 1707 Rinaldo. Matthew J. (N.J.)............... 2338 Ritter. Don (Pa.)................................................. 124 Roberts. Clint (S. Dak.)................... 1009 Office No. Roberts. Pat (Kans.) ........................................... 1428 Robinson. J. Kenneth (Va.)............................... 2233 Rodino. Peter W.. Jr. (N.J.) .............................. 2462 Roe. Robert A.. (N.J.)......................................... 2243 Roemer. Buddy (La.).......................................... 1725 Rogers. Hqrold (Ky.)................... 413 Rose. Charles (N.C.)........................................... 2435 Rosenthal. Benjamin S. (N.Y.)......................... 2372 Rostenkowski. Dan (Ill.)................. 2111 Roth. Toby (W is.)............................................... 215 Roukema. Marge (N.J.).................. 226 Rousselot. John H. (Calif.)............... 2133 Roybal. Edward R. (Calif.)............... 2211 Rudd. Eldon (Ariz.).................... 1110 Russo. Marty (Ill.)..................... 2464 Sabo. Martin Olav (Minn.)............................. 426 St Germain. Fernand J. (R.I.).......................... 2108 Santini. Jim (Nev.).............................................. 2429 Savage. G us (Ill.) ................................................ 1233 Sawyer. Harold S. (Mich.)................................. 123 Scheuer. James H. (N.Y.)................ 2402 Schneider. Claudine (R.I.)................................. 1431 Schroeder. Patricia (Colo.)................................ 2410 SchulAe. Richard T. (Pa.).................. 2444 Schumer. Charles E. (N.Y.)............... 126 Selberling. John P. (Ohio)............................ 1225 Sensenbrenner. F. James. Jr. (Wis.)......... 315 Shamansky. Bob (Ohio).................................... 1022 Shannon. James M. (Mass.)............... 224 Sharp. Philip R. (Ind.).................. 2452 Shaw. N. Clay. Jr. (Fla.)................ 1213 Shelby. Richard C. (Ala.)................ 1705 Shumway. Norman D. (Calif.).............. 1228 Shuster Bud (Pa.)............................................... 2455 Si[lande. MarkD. (Mich.)............... 1022 Simon. Paul (Ill.) ........................................... 227 Skeen. Joe (N. Mex.)....................................... 1508 Skelton. Ike (M o.) ............................................... 1404 Smith. Albert Lee. Jr. (Ala.)............................... 1723 Smith. Ch ristopher H. (N.J.)............................. 513 Smith. Denny (Oreg.)................... 1207 Smith. Joseph P. (Pa.)................................. 1630 Smith. Neal (Iowa)....................................... 2373 Smith. Virginia (Nebr.).................. 2202 Snowe. Olympia J. (Maine)................ 130 Snyder. Gene (Ky.) ............................................. 2185 Solars. Stephen J. (N.Y.).................. 1536 Solomon. Gerald B. H. (N.Y.).............. 323 Spence. Floyd (B.C.)............................................ 2427 Stangeland. Arlan (Minn.)................................. 1519 Stanton. J. William (Ohio).............................. 2460 Stark. Fortney H. (Pete) (Calif.)............. 1034 Staton. David Michael (W. Va.)....................... 425 Stenholm. Charles W. (Tex.)............................ 1232 Stokes. Louis (Ohio)........................................... 2465 Stratton. Samuel S. (N.Y.)................ 2205 Studds. Gerry E. (Mass.)................................... 1501 Stump. Bob (Ariz.).............................................. 211 Sunia. Fof I. F.4 (Am. Samoa).............. 1709 Swift. Al (W ash.)................................................. 1511 Synar. Mike (OkIa.) ............................................ 1713 Tauke. Thomas J. (Iowa)................. 319 Tauzin. W. J. (Billy) (La.)................ 222 Taylor. Gene (Mo.).............................................. 2430 Thomas. William M. (Calif.).............. 324 Traxler. Bob (Mich.).................... 2448 Trible. Paul S.. Jr. (Va.).................. 320 Udall. Morris K. (Ariz.).................. 235 Vander Jagt. Guy (Mich.). ................ 2409 Vento. Bruce F. (Minn.).................. 230 Volkmer. Harold L. (Mo.)............... 1007 Walgren. Doug (Pa.)...................................... 117 Walker. Robert S. (Pa.)....................................... 1028 Wampler. William C. (Va.)................ 2407 Washington. Harold (Ill.).................................. 1610 Watkins. Wes (Okla.)................... 137 Waxman. Henry A. (Calif.)............................... 2418 Weaver. James (Oreg.)....................................... 1226 W eber. Ed (Ohio)................................................. 512 Weber Vin (Minn.)..................... 514 W eiss. Ted (N.Y.) ................................................ 132 White. Richard C. (Tex.).................. 2186 Whitehurst. G. William (Va.)............................ 2409 Whitley. Charles (N.C.).................. 404 Whittaker. Bob (Kans.)................... 516 Whitten. Jamie L. (Miss.)................. 2314 Williams. Lyle (Ohio)................... 1004 Williams. Pat (Mont.)......................................... 1512 Delegate from American Samoa. Office No. Wilson. Charles (Tex.).................. 1214 Winn. Larry. Jr. (Kans.).................................... 2208 W irth. Timothy E. (Colo.)................................. 2454 Wolf. Frank R. (Va.).................... 414 W olpe. Howard (M ich.)...................................... 1118 Won Pat. Antonio Borja * (Guam)................... 2441 Wortfley. George C. (N.Y.)................ 508 W right. Jim (Tex.).............................................. 1236 W yden. Ron (Oreg.)........................................... 1440 Wylie. Chalmers P. (Ohio)................................. 2335 Yates. Sidney R. (Ill.) ........................................ 2234 Yatron. Gus (Pa.)................................................ 2207 Young. C. I. Bill (la.) .................. 22016 Young. Don (Alaska).......................................... 2331 Young. Robert A. (Mo.)............................... 1317 Zablocki. Clement J. (W is.)............................... 2183 Zeferetti. Leo C. (N.Y.)...................................... 2436 Delegate from Guam.\n",
      "--------------------\n",
      "\n",
      "False negative (Predicted prob: 0.09):\n",
      "\n",
      "date                  19820819\n",
      "char_count                1809\n",
      "word_count                 308\n",
      "speakerid          9.71092e+07\n",
      "Party                        D\n",
      "Congress                    97\n",
      "Chamber                      H\n",
      "State                       KY\n",
      "Ethnicity                    W\n",
      "Age                         45\n",
      "Age_lt_med                   1\n",
      "NonWhite                     0\n",
      "Female                       0\n",
      "speaker            Mr. HUBBARD\n",
      "Full Name     HUBBARD, CARROLL\n",
      "match                    exact\n",
      "Name: 970229115, dtype: object\n",
      "\n",
      " Mr. Speaker. I thank the chairman of the subcommittee for yielding this time to me. Having heard my colleagues in their recent comments. I feel compelled to speak about the Paducah. Ky.. airport in my district. but there are many other problems in my district which are even greater than the problems of the Paducah airport. Mr. Speaker. let me assure you that high interest rates and unemployment across our country are two serious problems that we need to continue to address ourselves to this afternoon. In my own Kentucky district. high interest rates and unemployment have been devastating. My constituents want a balanced budget. However. they want less government spending and not higher taxes. I sincerely believe that the tax bill that we are voting on this afternoon is unconstitutional. It did not originate In the House of Representatives as required by our U.S. Constitution. Every word in House bill 4961 originated In the Senate. and it now comes to us after conference. I repeat what the voters of this country so loudly said in November 1980. which is that the people want less government spending. less government controls. and less taxes. Could it be that we today would inflict upon our people higher taxes instead of cutting back on government spending? It is impossible for me to vote western Kentuckians the biggest tax increase in history while my constituents see their current tax dollars going overseas to foreign countries. some of which are not even friendly to the United States. I urge my colleagues to think seriously before they vote. This should not be a vote on whether or not we go along with the President. but whether we go along with the great majority of the American people who do not awant higher taxes. They want a balanced budget by way of reduced Federal spending.\n",
      "--------------------\n"
     ]
    }
   ],
   "source": [
    "reload(explore_data)\n",
    "explore_data.print_mispredictions(val_target, val_pred_probs, val, val_ids, descr_df)"
   ]
  },
  {
   "cell_type": "code",
   "execution_count": null,
   "metadata": {},
   "outputs": [],
   "source": []
  }
 ],
 "metadata": {
  "kernelspec": {
   "display_name": "Python 3",
   "language": "python",
   "name": "python3"
  },
  "language_info": {
   "codemirror_mode": {
    "name": "ipython",
    "version": 3
   },
   "file_extension": ".py",
   "mimetype": "text/x-python",
   "name": "python",
   "nbconvert_exporter": "python",
   "pygments_lexer": "ipython3",
   "version": "3.6.5"
  }
 },
 "nbformat": 4,
 "nbformat_minor": 2
}
