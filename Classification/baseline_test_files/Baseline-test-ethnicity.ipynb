{
 "cells": [
  {
   "cell_type": "code",
   "execution_count": 3,
   "metadata": {},
   "outputs": [
    {
     "data": {
      "text/html": [
       "<style>.container { width:100% !important; }</style>"
      ],
      "text/plain": [
       "<IPython.core.display.HTML object>"
      ]
     },
     "metadata": {},
     "output_type": "display_data"
    }
   ],
   "source": [
    "# increase cell width\n",
    "from IPython.core.display import display, HTML\n",
    "display(HTML(\"<style>.container { width:100% !important; }</style>\"))"
   ]
  },
  {
   "cell_type": "markdown",
   "metadata": {},
   "source": [
    "Inspiration for code:\n",
    "\n",
    "- https://developers.google.com/machine-learning/guides/text-classification/\n",
    "- https://github.com/google/eng-edu/blob/master/ml/guides/text_classification/load_data.py"
   ]
  },
  {
   "cell_type": "code",
   "execution_count": 4,
   "metadata": {},
   "outputs": [],
   "source": [
    "from __future__ import absolute_import\n",
    "from __future__ import division\n",
    "from __future__ import print_function\n",
    "\n",
    "import os\n",
    "import random\n",
    "import time\n",
    "import pickle\n",
    "\n",
    "import numpy as np\n",
    "import pandas as pd\n",
    "\n",
    "from importlib import reload\n",
    "\n",
    "import scipy.sparse"
   ]
  },
  {
   "cell_type": "code",
   "execution_count": 5,
   "metadata": {},
   "outputs": [
    {
     "name": "stderr",
     "output_type": "stream",
     "text": [
      "/anaconda3/lib/python3.6/site-packages/h5py/__init__.py:36: FutureWarning: Conversion of the second argument of issubdtype from `float` to `np.floating` is deprecated. In future, it will be treated as `np.float64 == np.dtype(float).type`.\n",
      "  from ._conv import register_converters as _register_converters\n"
     ]
    }
   ],
   "source": [
    "from helpers import load_data\n",
    "from helpers import explore_data\n",
    "from helpers import preprocess_data\n",
    "from helpers import train_model"
   ]
  },
  {
   "cell_type": "markdown",
   "metadata": {},
   "source": [
    "## Load the data"
   ]
  },
  {
   "cell_type": "code",
   "execution_count": 6,
   "metadata": {},
   "outputs": [
    {
     "data": {
      "text/plain": [
       "'/Users/fariamardhani/Berkeley/W266/W266-Final-Project/Classification'"
      ]
     },
     "execution_count": 6,
     "metadata": {},
     "output_type": "execute_result"
    }
   ],
   "source": [
    "pwd"
   ]
  },
  {
   "cell_type": "code",
   "execution_count": 9,
   "metadata": {},
   "outputs": [
    {
     "name": "stdout",
     "output_type": "stream",
     "text": [
      "speech_id|speech\r\n",
      "970000001|The Senate vill please come to order. The Chaplain will offer the prayer. The Chaplain. the Reverend Edward L. R. Elson. D.D.. offered the following prayer: PRAYER God of our fathers and our God. who has made and preserved us a nation. we thank Thee for Thy care over us from generation to generation. and for the new era which unfolds before us. Let Thy spirit descend upon us with all Its cleansing. healing. and creative power. Make usnew persons for new times in a land newborn in spirit. May the solemn induction of the new Members of this body be a renewal of the vocatinal vows of all others. In the deliberations of this new Congress keep our motives pure. our vision clear. our patriotism undefiled. our speech chaste. our judgments fair. and our consciences unbetrayed. Help us to develop work patterns which sustain the soul. nourish the mind. and strengthen the will. And give us grace to make time for the family. for home. and for worship. What we pray for this body we pray for all others in the service of the Government. Send us each day to our tasks to do Justly.to love mercy. and to walk humbly with our God. Hear us as we pray together the prayerthe Master taught us\"Our Father who art in heaven. hallowed be Thy name. Thy kingdom come. Thy will be done in Earth. as it is in heaven. Give us this day our daily bread. And forgive us our trespasses as we forgive those who trespass against us. And lead us not into temptation. but deliver us from evil* For Thine is the kingdom. and the power. and the glory forever.\" Amen.\r\n"
     ]
    }
   ],
   "source": [
    "!head -2 ../../FinalProject/hein-daily/sample/speeches_097.txt"
   ]
  },
  {
   "cell_type": "code",
   "execution_count": 10,
   "metadata": {},
   "outputs": [
    {
     "name": "stdout",
     "output_type": "stream",
     "text": [
      "  283399\r\n"
     ]
    }
   ],
   "source": [
    "!cat ../../FinalProject/hein-daily/sample/speeches_097.txt | wc -l"
   ]
  },
  {
   "cell_type": "code",
   "execution_count": 11,
   "metadata": {},
   "outputs": [],
   "source": [
    "data_path = '../../FinalProject/hein-daily/Sample'"
   ]
  },
  {
   "cell_type": "code",
   "execution_count": 12,
   "metadata": {},
   "outputs": [
    {
     "name": "stdout",
     "output_type": "stream",
     "text": [
      "\n",
      "File speeches_097.txt has 249718612 characters\n",
      "and 283399 speeches\n",
      "\n",
      "Speeches list has 283399 speeches\n"
     ]
    }
   ],
   "source": [
    "reload(load_data)\n",
    "all_speech_ids, all_speeches = load_data.load_speech_data(data_path)"
   ]
  },
  {
   "cell_type": "code",
   "execution_count": 13,
   "metadata": {},
   "outputs": [
    {
     "data": {
      "text/plain": [
       "(283399, 283399)"
      ]
     },
     "execution_count": 13,
     "metadata": {},
     "output_type": "execute_result"
    }
   ],
   "source": [
    "len(all_speech_ids), len(all_speeches)"
   ]
  },
  {
   "cell_type": "markdown",
   "metadata": {},
   "source": [
    "## Create target labels"
   ]
  },
  {
   "cell_type": "markdown",
   "metadata": {},
   "source": [
    "#### TODO:\n",
    "\n",
    "- Why is this taking so much time?\n",
    "- Subset on word cound here?\n",
    "- Make sampling replicable: random seed + random array of proper length"
   ]
  },
  {
   "cell_type": "code",
   "execution_count": 14,
   "metadata": {},
   "outputs": [
    {
     "name": "stdout",
     "output_type": "stream",
     "text": [
      "2914465 lines have been read\n",
      "37617 keys had duplicates and deleted\n",
      "The dictionary has 2808050 keys\n",
      "\n",
      "Random congressperson: 1090182100\n",
      "date 20061114\n",
      "char_count 278\n",
      "word_count 49\n",
      "speakerid 109112991.0\n",
      "Party R\n",
      "Congress 109\n",
      "Chamber S\n",
      "State TN\n",
      "Ethnicity W\n",
      "Age 54.0\n",
      "Age_lt_med 1.0\n",
      "NonWhite 0.0\n",
      "Female 0.0\n",
      "speaker Mr. FRIST\n",
      "Full Name FRIST, WILLIAM\n",
      "match exact\n",
      "check 1\n",
      "\n",
      "It took 24.4 seconds to create the dictionary\n"
     ]
    }
   ],
   "source": [
    "reload(load_data)\n",
    "start_time = time.time()\n",
    "# remove p if want to run for the full speech file\n",
    "descr = load_data.load_descr_data('../data/QA/full_descr.txt')\n",
    "print(\"\\nIt took {0:.1f} seconds to create the dictionary\".format(time.time()-start_time))"
   ]
  },
  {
   "cell_type": "code",
   "execution_count": 15,
   "metadata": {},
   "outputs": [
    {
     "data": {
      "text/plain": [
       "0.9634876258550458"
      ]
     },
     "execution_count": 15,
     "metadata": {},
     "output_type": "execute_result"
    }
   ],
   "source": [
    "# check if sampling worked\n",
    "len(list(descr.keys()))/2914464"
   ]
  },
  {
   "cell_type": "code",
   "execution_count": 16,
   "metadata": {},
   "outputs": [
    {
     "data": {
      "text/plain": [
       "(283399, 283399, 283399, 283399, 283399, 283399)"
      ]
     },
     "execution_count": 16,
     "metadata": {},
     "output_type": "execute_result"
    }
   ],
   "source": [
    "gender, ethnicity, age, party, chamber, congress = load_data.create_target_labels(all_speech_ids, descr)\n",
    "len(gender), len(ethnicity), len(age), len(party), len(chamber), len(congress)"
   ]
  },
  {
   "cell_type": "markdown",
   "metadata": {},
   "source": [
    "### Data QA"
   ]
  },
  {
   "cell_type": "code",
   "execution_count": 17,
   "metadata": {},
   "outputs": [
    {
     "name": "stdout",
     "output_type": "stream",
     "text": [
      "\n",
      " Gender\n",
      "Overall speech counts:\n"
     ]
    },
    {
     "data": {
      "text/html": [
       "<div>\n",
       "<style scoped>\n",
       "    .dataframe tbody tr th:only-of-type {\n",
       "        vertical-align: middle;\n",
       "    }\n",
       "\n",
       "    .dataframe tbody tr th {\n",
       "        vertical-align: top;\n",
       "    }\n",
       "\n",
       "    .dataframe thead th {\n",
       "        text-align: right;\n",
       "    }\n",
       "</style>\n",
       "<table border=\"1\" class=\"dataframe\">\n",
       "  <thead>\n",
       "    <tr style=\"text-align: right;\">\n",
       "      <th></th>\n",
       "      <th>Category</th>\n",
       "      <th>Count</th>\n",
       "    </tr>\n",
       "  </thead>\n",
       "  <tbody>\n",
       "    <tr>\n",
       "      <th>0</th>\n",
       "      <td>-1</td>\n",
       "      <td>64727</td>\n",
       "    </tr>\n",
       "    <tr>\n",
       "      <th>1</th>\n",
       "      <td>0</td>\n",
       "      <td>214221</td>\n",
       "    </tr>\n",
       "    <tr>\n",
       "      <th>2</th>\n",
       "      <td>1</td>\n",
       "      <td>4451</td>\n",
       "    </tr>\n",
       "  </tbody>\n",
       "</table>\n",
       "</div>"
      ],
      "text/plain": [
       "<IPython.core.display.HTML object>"
      ]
     },
     "metadata": {},
     "output_type": "display_data"
    },
    {
     "name": "stdout",
     "output_type": "stream",
     "text": [
      "Target group number of speeches by party:\n",
      "D: \t 2172\n",
      "I: \t 0\n",
      "N: \t 0\n",
      "NA: \t -64727\n",
      "R: \t 2279\n",
      "\n",
      " Ethnicity\n",
      "Overall speech counts:\n"
     ]
    },
    {
     "data": {
      "text/html": [
       "<div>\n",
       "<style scoped>\n",
       "    .dataframe tbody tr th:only-of-type {\n",
       "        vertical-align: middle;\n",
       "    }\n",
       "\n",
       "    .dataframe tbody tr th {\n",
       "        vertical-align: top;\n",
       "    }\n",
       "\n",
       "    .dataframe thead th {\n",
       "        text-align: right;\n",
       "    }\n",
       "</style>\n",
       "<table border=\"1\" class=\"dataframe\">\n",
       "  <thead>\n",
       "    <tr style=\"text-align: right;\">\n",
       "      <th></th>\n",
       "      <th>Category</th>\n",
       "      <th>Count</th>\n",
       "    </tr>\n",
       "  </thead>\n",
       "  <tbody>\n",
       "    <tr>\n",
       "      <th>0</th>\n",
       "      <td>-1</td>\n",
       "      <td>64727</td>\n",
       "    </tr>\n",
       "    <tr>\n",
       "      <th>1</th>\n",
       "      <td>0</td>\n",
       "      <td>209473</td>\n",
       "    </tr>\n",
       "    <tr>\n",
       "      <th>2</th>\n",
       "      <td>1</td>\n",
       "      <td>9199</td>\n",
       "    </tr>\n",
       "  </tbody>\n",
       "</table>\n",
       "</div>"
      ],
      "text/plain": [
       "<IPython.core.display.HTML object>"
      ]
     },
     "metadata": {},
     "output_type": "display_data"
    },
    {
     "name": "stdout",
     "output_type": "stream",
     "text": [
      "Target group number of speeches by party:\n",
      "D: \t 7832\n",
      "I: \t 0\n",
      "N: \t 186\n",
      "NA: \t -64727\n",
      "R: \t 1181\n",
      "\n",
      " Age\n",
      "Overall speech counts:\n"
     ]
    },
    {
     "data": {
      "text/html": [
       "<div>\n",
       "<style scoped>\n",
       "    .dataframe tbody tr th:only-of-type {\n",
       "        vertical-align: middle;\n",
       "    }\n",
       "\n",
       "    .dataframe tbody tr th {\n",
       "        vertical-align: top;\n",
       "    }\n",
       "\n",
       "    .dataframe thead th {\n",
       "        text-align: right;\n",
       "    }\n",
       "</style>\n",
       "<table border=\"1\" class=\"dataframe\">\n",
       "  <thead>\n",
       "    <tr style=\"text-align: right;\">\n",
       "      <th></th>\n",
       "      <th>Category</th>\n",
       "      <th>Count</th>\n",
       "    </tr>\n",
       "  </thead>\n",
       "  <tbody>\n",
       "    <tr>\n",
       "      <th>0</th>\n",
       "      <td>-1</td>\n",
       "      <td>64727</td>\n",
       "    </tr>\n",
       "    <tr>\n",
       "      <th>1</th>\n",
       "      <td>0</td>\n",
       "      <td>142904</td>\n",
       "    </tr>\n",
       "    <tr>\n",
       "      <th>2</th>\n",
       "      <td>1</td>\n",
       "      <td>75768</td>\n",
       "    </tr>\n",
       "  </tbody>\n",
       "</table>\n",
       "</div>"
      ],
      "text/plain": [
       "<IPython.core.display.HTML object>"
      ]
     },
     "metadata": {},
     "output_type": "display_data"
    },
    {
     "name": "stdout",
     "output_type": "stream",
     "text": [
      "Target group number of speeches by party:\n",
      "D: \t 40729\n",
      "I: \t 0\n",
      "N: \t 186\n",
      "NA: \t -64727\n",
      "R: \t 34853\n"
     ]
    }
   ],
   "source": [
    "reload(explore_data)\n",
    "for i in [(gender, \"Gender\"), (ethnicity, \"Ethnicity\"), (age, \"Age\")]:\n",
    "    print(\"\\n\", i[1])\n",
    "    print(\"Overall speech counts:\")\n",
    "    explore_data.get_counts(i[0])\n",
    "    print(\"Target group number of speeches by party:\")\n",
    "    explore_data.get_counts_by_category(i[0], party)"
   ]
  },
  {
   "cell_type": "code",
   "execution_count": 18,
   "metadata": {},
   "outputs": [
    {
     "name": "stdout",
     "output_type": "stream",
     "text": [
      "Speaker information\n",
      "date 19810714\n",
      "char_count 39\n",
      "word_count 7\n",
      "speakerid 97105780.0\n",
      "Party D\n",
      "Congress 97\n",
      "Chamber H\n",
      "State NY\n",
      "Ethnicity B\n",
      "Age 58.0\n",
      "Age_lt_med 0.0\n",
      "NonWhite 1.0\n",
      "Female 1.0\n",
      "speaker Mrs. CHISHOLM\n",
      "Full Name CHISHOLM, SHIRLEY\n",
      "match exact\n",
      "check 1\n",
      "\n",
      "I yield to the gentleman from Michigan.\n"
     ]
    }
   ],
   "source": [
    "reload(explore_data)\n",
    "explore_data.random_speech(all_speeches, all_speech_ids, gender, descr)"
   ]
  },
  {
   "cell_type": "code",
   "execution_count": 19,
   "metadata": {},
   "outputs": [
    {
     "name": "stdout",
     "output_type": "stream",
     "text": [
      "Speaker information\n",
      "date 19811005\n",
      "char_count 789\n",
      "word_count 151\n",
      "speakerid 97106770.0\n",
      "Party D\n",
      "Congress 97\n",
      "Chamber H\n",
      "State TX\n",
      "Ethnicity ME\n",
      "Age 63.0\n",
      "Age_lt_med 0.0\n",
      "NonWhite 1.0\n",
      "Female 0.0\n",
      "speaker Mr. KAZEN\n",
      "Full Name KAZEN, ABRAHAM\n",
      "match exact\n",
      "check 1\n",
      "\n",
      "Mr. Chairman. let me just tell the gentleman that as far as that point Is concerned. there are some people living in this country who would deserve American citizenship to be granted by takh..g the exam in their own language. This House has at various times passed such a bill to exempt certain people from taking the exam in English. but the other body has killed that bill. Let me tell the gentleman. coming from where I come from in South Texas. that we have a lot of aliens who would make wonderful citizens. who have lived here all their lives. who have given sons in the service of this country. and who are glad to be here. And as one alien mother told me when I went to the funeral of a Vietnam service man \"Estoy Argullosa I am proud to have given this country the life of a son.\"\n"
     ]
    }
   ],
   "source": [
    "explore_data.random_speech(all_speeches, all_speech_ids, ethnicity, descr)"
   ]
  },
  {
   "cell_type": "code",
   "execution_count": 20,
   "metadata": {},
   "outputs": [
    {
     "name": "stdout",
     "output_type": "stream",
     "text": [
      "Speaker information\n",
      "date 19820616\n",
      "char_count 125\n",
      "word_count 22\n",
      "speakerid 97110150.0\n",
      "Party D\n",
      "Congress 97\n",
      "Chamber H\n",
      "State SC\n",
      "Ethnicity W\n",
      "Age 46.0\n",
      "Age_lt_med 1.0\n",
      "NonWhite 0.0\n",
      "Female 0.0\n",
      "speaker Mr. DERRICK\n",
      "Full Name DERRICK, BUTLER\n",
      "match exact\n",
      "check 1\n",
      "\n",
      "Mr. Speaker. by di rection of the Committee on Rules. I call up House Resolution 503 and ask for its immediate consideration.\n"
     ]
    }
   ],
   "source": [
    "explore_data.random_speech(all_speeches, all_speech_ids, age, descr)"
   ]
  },
  {
   "cell_type": "markdown",
   "metadata": {},
   "source": [
    "## Split into train, validate, test"
   ]
  },
  {
   "cell_type": "markdown",
   "metadata": {},
   "source": [
    "### Filter on party if necessary"
   ]
  },
  {
   "cell_type": "code",
   "execution_count": 21,
   "metadata": {},
   "outputs": [],
   "source": [
    "# reload(load_data)\n",
    "# all_speeches_d, all_speech_ids_d, gender_d = load_data.filter_data(all_speeches, all_speech_ids, gender, party, 'D')\n",
    "# len(all_speeches_d), len(all_speech_ids_d), len(gender_d)"
   ]
  },
  {
   "cell_type": "code",
   "execution_count": 22,
   "metadata": {},
   "outputs": [],
   "source": [
    "# reload(explore_data)\n",
    "# explore_data.get_counts(gender_d)"
   ]
  },
  {
   "cell_type": "markdown",
   "metadata": {},
   "source": [
    "### Split into train/val/test"
   ]
  },
  {
   "cell_type": "markdown",
   "metadata": {},
   "source": [
    "### Split by congress"
   ]
  },
  {
   "cell_type": "code",
   "execution_count": 23,
   "metadata": {},
   "outputs": [],
   "source": [
    "# reload(preprocess_data)\n",
    "# train, train_ids, train_target, val, val_ids, val_target, test, test_ids, test_target = preprocess_data.split_by_congress(all_speeches, all_speech_ids, gender, descr, congress)"
   ]
  },
  {
   "cell_type": "code",
   "execution_count": 24,
   "metadata": {
    "scrolled": true
   },
   "outputs": [
    {
     "name": "stdout",
     "output_type": "stream",
     "text": [
      "Training split: 3195 ones and 3195 zeroes\n",
      "Training speech list size: 6390\n",
      "Training target list size: 6390\n",
      "Validation split: 1065 ones and 1065 zeroes\n",
      "Validation speech list size: 2130\n",
      "Validation target list size: 2130\n",
      "Test split: 1066 ones and 1066 zeroes\n",
      "Test speech list size: 2132\n",
      "Test target list size: 2132\n"
     ]
    }
   ],
   "source": [
    "reload(preprocess_data)\n",
    "train, train_ids, train_target, val, val_ids, val_target, test, test_ids, test_target = preprocess_data.split_train_val_test(all_speeches, all_speech_ids, ethnicity, descr)"
   ]
  },
  {
   "cell_type": "code",
   "execution_count": 25,
   "metadata": {},
   "outputs": [
    {
     "data": {
      "text/plain": [
       "(3195, 1065, 1066)"
      ]
     },
     "execution_count": 25,
     "metadata": {},
     "output_type": "execute_result"
    }
   ],
   "source": [
    "sum(train_target), sum(val_target), sum(test_target)"
   ]
  },
  {
   "cell_type": "code",
   "execution_count": 26,
   "metadata": {},
   "outputs": [
    {
     "data": {
      "text/plain": [
       "3873"
      ]
     },
     "execution_count": 26,
     "metadata": {},
     "output_type": "execute_result"
    }
   ],
   "source": [
    "# number of speeches under 30 words\n",
    "sum(np.array(ethnicity)==1) - (sum(train_target) + sum(val_target) + sum(test_target))"
   ]
  },
  {
   "cell_type": "code",
   "execution_count": 27,
   "metadata": {},
   "outputs": [
    {
     "name": "stdout",
     "output_type": "stream",
     "text": [
      "Speaker information\n",
      "date 19820722\n",
      "char_count 1094\n",
      "word_count 176\n",
      "speakerid 97104231.0\n",
      "Party R\n",
      "Congress 97\n",
      "Chamber S\n",
      "State CA\n",
      "Ethnicity AAPIA\n",
      "Age 76.0\n",
      "Age_lt_med 0.0\n",
      "NonWhite 1.0\n",
      "Female 0.0\n",
      "speaker Mr. HAYAKAWA\n",
      "Full Name HAYAKAWA, SAMUEL\n",
      "match exact\n",
      "check 1\n",
      "\n",
      "Mr. President. I ani offering this amendment. along with Senators CRANSTON. DAMATO. HAWKINS. and MURKOWSKI to correct a problem created by a requirement in this bill that will cost the State of California $4 million and will have a similar impact on many other States. Specifically. this amendment modifies the requirement that State and local governments notify during the month of January. taxpayers that any refund they may have received in the previous tax year is taxable as income to the Federal Government. Because the bill requires notification only during January. States will have to make a separate mailing to all taxpayers. at considerable cost. In mailing fees alone. this provision will cost California taxpayers. as I said before. $4 million. This amendment simply allows States to notify taxpayers sometime prior to the end of January. With this degree of flexibility. States could enclose the notice with the refund check. or .with other tax information mailings. Thus. States would not be required to incur additional mailing expenses. but the intent of the bill would be met.\n"
     ]
    }
   ],
   "source": [
    "explore_data.random_speech(train, train_ids, train_target, descr)"
   ]
  },
  {
   "cell_type": "markdown",
   "metadata": {},
   "source": [
    "## EDA on train data"
   ]
  },
  {
   "cell_type": "markdown",
   "metadata": {},
   "source": [
    "Source: https://developers.google.com/machine-learning/guides/text-classification/step-2"
   ]
  },
  {
   "cell_type": "markdown",
   "metadata": {},
   "source": [
    "### Check median number of words per sample in train/val/test"
   ]
  },
  {
   "cell_type": "code",
   "execution_count": 28,
   "metadata": {},
   "outputs": [
    {
     "data": {
      "text/plain": [
       "<module 'helpers.explore_data' from '/Users/fariamardhani/Berkeley/W266/W266-Final-Project/Classification/helpers/explore_data.py'>"
      ]
     },
     "execution_count": 28,
     "metadata": {},
     "output_type": "execute_result"
    }
   ],
   "source": [
    "reload(explore_data)"
   ]
  },
  {
   "cell_type": "code",
   "execution_count": 29,
   "metadata": {},
   "outputs": [
    {
     "data": {
      "text/plain": [
       "207.0"
      ]
     },
     "execution_count": 29,
     "metadata": {},
     "output_type": "execute_result"
    }
   ],
   "source": [
    "explore_data.get_num_words_per_sample(train)"
   ]
  },
  {
   "cell_type": "code",
   "execution_count": 30,
   "metadata": {},
   "outputs": [
    {
     "data": {
      "text/plain": [
       "205.0"
      ]
     },
     "execution_count": 30,
     "metadata": {},
     "output_type": "execute_result"
    }
   ],
   "source": [
    "explore_data.get_num_words_per_sample(val)"
   ]
  },
  {
   "cell_type": "code",
   "execution_count": 31,
   "metadata": {},
   "outputs": [
    {
     "data": {
      "text/plain": [
       "186.5"
      ]
     },
     "execution_count": 31,
     "metadata": {},
     "output_type": "execute_result"
    }
   ],
   "source": [
    "explore_data.get_num_words_per_sample(test)"
   ]
  },
  {
   "cell_type": "code",
   "execution_count": 32,
   "metadata": {},
   "outputs": [
    {
     "name": "stdout",
     "output_type": "stream",
     "text": [
      "Speech length percentiles\n",
      "    0     10    20    30     40     50     60     70     80     90      100\n",
      "0  31.0  43.0  63.0  98.0  149.0  207.0  279.4  373.0  524.0  827.0  6274.0\n"
     ]
    },
    {
     "data": {
      "image/png": "[encoded data removed]",
      "text/plain": [
       "<Figure size 1440x720 with 1 Axes>"
      ]
     },
     "metadata": {},
     "output_type": "display_data"
    }
   ],
   "source": [
    "reload(explore_data)\n",
    "explore_data.plot_sample_length_distribution(train)"
   ]
  },
  {
   "cell_type": "markdown",
   "metadata": {},
   "source": [
    "### Most popular unigrams (training only)"
   ]
  },
  {
   "cell_type": "code",
   "execution_count": 33,
   "metadata": {},
   "outputs": [
    {
     "data": {
      "text/plain": [
       "1278"
      ]
     },
     "execution_count": 33,
     "metadata": {},
     "output_type": "execute_result"
    }
   ],
   "source": [
    "train_sample = random.sample(train, int(len(train)*0.2))\n",
    "len(train_sample)"
   ]
  },
  {
   "cell_type": "code",
   "execution_count": 34,
   "metadata": {},
   "outputs": [
    {
     "name": "stdout",
     "output_type": "stream",
     "text": [
      "['the', 'of', 'to', 'and', 'in', 'that', 'is', 'for', 'this', 'it', 'we', 'be', 'on', 'have', 'as', 'not', 'are', 'by', 'with', 'will', 'has', 'mr', 'our', 'from', 'would', 'an', 'which', 'was', 'or', 'at', 'my', 'they', 'president', 'but', 'all', 'who', 'their', 'he', 'his', 'been', 'bill', 'these', 'if', 'do', 'there', 'more', 'its', 'one', 'committee', 'can']\n"
     ]
    },
    {
     "data": {
      "image/png": "[encoded data removed]",
      "text/plain": [
       "<Figure size 1440x720 with 1 Axes>"
      ]
     },
     "metadata": {},
     "output_type": "display_data"
    }
   ],
   "source": [
    "explore_data.plot_frequency_distribution_of_ngrams(train_sample, ngram_range=(1,1))"
   ]
  },
  {
   "cell_type": "markdown",
   "metadata": {},
   "source": [
    "### Most popular bigrams (training only)"
   ]
  },
  {
   "cell_type": "code",
   "execution_count": 35,
   "metadata": {},
   "outputs": [
    {
     "name": "stdout",
     "output_type": "stream",
     "text": [
      "['of the', 'in the', 'to the', 'it is', 'that the', 'for the', 'and the', 'on the', 'by the', 'to be', 'mr speaker', 'of this', 'with the', 'mr president', 'we are', 'we have', 'will be', 'that we', 'the united', 'united states', 'from the', 'in this', 'that is', 'has been', 'is the', 'of our', 'at the', 'the house', 'have been', 'do not', 'the gentleman', 'the senate', 'is not', 'would be', 'my colleagues', 'the federal', 'there is', 'the committee', 'as the', 'this is', 'the president', 'the bill', 'percent of', 'one of', 'this bill', 'mr chairman', 'that it', 'the congress', 'going to', 'fiscal year']\n"
     ]
    },
    {
     "data": {
      "image/png": "[encoded data removed]",
      "text/plain": [
       "<Figure size 1440x720 with 1 Axes>"
      ]
     },
     "metadata": {},
     "output_type": "display_data"
    }
   ],
   "source": [
    "explore_data.plot_frequency_distribution_of_ngrams(train_sample, ngram_range=(2,2))"
   ]
  },
  {
   "cell_type": "markdown",
   "metadata": {},
   "source": [
    "### Most popular trigrams (training only)"
   ]
  },
  {
   "cell_type": "code",
   "execution_count": 36,
   "metadata": {},
   "outputs": [
    {
     "name": "stdout",
     "output_type": "stream",
     "text": [
      "['the united states', 'would like to', 'one of the', 'the gentleman from', 'the department of', 'of the united', 'percent of the', 'the federal government', 'chairman of the', 'ask unanimous consent', 'the senator from', 'in the record', 'unanimous consent that', 'the soviet union', 'the fact that', 'the committee on', 'in order to', 'members of the', 'in this country', 'that it is', 'my colleagues to', 'the american people', 'there is no', 'as well as', 'member of the', 'of the house', 'it is not', 'in the united', 'we do not', 'part of the', 'are going to', 'of my colleagues', 'urge my colleagues', 'that we are', 'that we have', 'printed in the', 'of the committee', 'it is the', 'be able to', 'of the federal', 'the state of', 'president of the', 'the people of', 'for fiscal year', 'the federal reserve', 'mr speaker the', 'in support of', 'with respect to', 'in the house', 'be printed in']\n"
     ]
    },
    {
     "data": {
      "image/png": "[encoded data removed]",
      "text/plain": [
       "<Figure size 1440x720 with 1 Axes>"
      ]
     },
     "metadata": {},
     "output_type": "display_data"
    }
   ],
   "source": [
    "explore_data.plot_frequency_distribution_of_ngrams(train_sample, ngram_range=(3,3))"
   ]
  },
  {
   "cell_type": "code",
   "execution_count": 37,
   "metadata": {},
   "outputs": [],
   "source": [
    "congress = set([str(i) for i in range(97,115)])"
   ]
  },
  {
   "cell_type": "code",
   "execution_count": 38,
   "metadata": {},
   "outputs": [
    {
     "data": {
      "text/plain": [
       "6390"
      ]
     },
     "execution_count": 38,
     "metadata": {},
     "output_type": "execute_result"
    }
   ],
   "source": [
    "len(train)"
   ]
  },
  {
   "cell_type": "code",
   "execution_count": 39,
   "metadata": {},
   "outputs": [
    {
     "data": {
      "text/plain": [
       "{'date': '20090930',\n",
       " 'char_count': '1356',\n",
       " 'word_count': '244',\n",
       " 'speakerid': '111118281.0',\n",
       " 'Party': 'R',\n",
       " 'Congress': '111',\n",
       " 'Chamber': 'S',\n",
       " 'State': 'TN',\n",
       " 'Ethnicity': 'W',\n",
       " 'Age': '70.0',\n",
       " 'Age_lt_med': '0.0',\n",
       " 'NonWhite': '0.0',\n",
       " 'Female': '0.0',\n",
       " 'speaker': 'Mr. ALEXANDER',\n",
       " 'Full Name': 'ALEXANDER, LAMAR',\n",
       " 'match': 'exact',\n",
       " 'check': 1}"
      ]
     },
     "execution_count": 39,
     "metadata": {},
     "output_type": "execute_result"
    }
   ],
   "source": [
    "descr['1110063404']"
   ]
  },
  {
   "cell_type": "code",
   "execution_count": 40,
   "metadata": {},
   "outputs": [
    {
     "name": "stdout",
     "output_type": "stream",
     "text": [
      "\n",
      "For Congress 97 top 5 (3, 3) ngrams are:\n",
      "the united states\n",
      "would like to\n",
      "the gentleman from\n",
      "one of the\n",
      "of the united\n",
      "--------------------\n"
     ]
    }
   ],
   "source": [
    "reload(explore_data)\n",
    "explore_data.ngrams_by_category(train, train_ids, descr, congress, 'Congress', p=0.3, top_n=5)"
   ]
  },
  {
   "cell_type": "markdown",
   "metadata": {},
   "source": [
    "## N-gram model"
   ]
  },
  {
   "cell_type": "markdown",
   "metadata": {},
   "source": [
    "Inspiration for code: https://developers.google.com/machine-learning/guides/text-classification/step-3"
   ]
  },
  {
   "cell_type": "markdown",
   "metadata": {},
   "source": [
    "### Pre-processing"
   ]
  },
  {
   "cell_type": "code",
   "execution_count": 41,
   "metadata": {},
   "outputs": [],
   "source": [
    "# Vectorization parameters\n",
    "# Range (inclusive) of n-gram sizes for tokenizing text.\n",
    "NGRAM_RANGE = (1, 2)\n",
    "\n",
    "# Minimum corpus frequency below which a token will be discarded.\n",
    "MIN_DOCUMENT_FREQUENCY = 5\n",
    "\n",
    "# Maximum proportion of corpus containing a word above which a token will be discarded.\n",
    "# Helps eliminate stop words\n",
    "MAX_DOCUMENT_FREQUENCY = 0.7\n",
    "\n",
    "# Limit on the number of features. We use the top 20K features.\n",
    "TOP_K = 20000\n",
    "\n",
    "# Output number of top/bottom scoring ngrams\n",
    "TOP_N = 5\n",
    "\n",
    "vec_params = {\n",
    "    'ngram_range': NGRAM_RANGE,\n",
    "    'min_df': MIN_DOCUMENT_FREQUENCY,\n",
    "    'max_df': MAX_DOCUMENT_FREQUENCY,\n",
    "    'top_k': TOP_K,\n",
    "    'top_n': TOP_N\n",
    "}"
   ]
  },
  {
   "cell_type": "code",
   "execution_count": 42,
   "metadata": {},
   "outputs": [
    {
     "name": "stdout",
     "output_type": "stream",
     "text": [
      "Total vocabulary size: 66405\n",
      "Number of stop words 623766\n",
      "\n",
      "Top 5 ngrams by differentiating score:\n",
      "mr president \t 315.0\n",
      "senator \t 296.4\n",
      "the senator \t 234.1\n",
      "senator from \t 223.3\n",
      "president \t 202.1\n",
      "\n",
      "Bottom 5 ngrams by differentiating score:\n",
      "museum of \t 0.0\n",
      "stage for \t 0.0\n",
      "here or \t 0.0\n",
      "much from \t 0.0\n",
      "at both \t 0.0\n"
     ]
    }
   ],
   "source": [
    "reload(preprocess_data)\n",
    "train_vec, val_vec, test_vec = preprocess_data.ngram_vectorize(train, train_target, val, test, **vec_params)"
   ]
  },
  {
   "cell_type": "code",
   "execution_count": 43,
   "metadata": {},
   "outputs": [
    {
     "data": {
      "text/plain": [
       "(6390, 2130, 2132)"
      ]
     },
     "execution_count": 43,
     "metadata": {},
     "output_type": "execute_result"
    }
   ],
   "source": [
    "len(train), len(val), len(test)"
   ]
  },
  {
   "cell_type": "code",
   "execution_count": 44,
   "metadata": {},
   "outputs": [
    {
     "data": {
      "text/plain": [
       "((6390, 20000), (2130, 20000), (2132, 20000))"
      ]
     },
     "execution_count": 44,
     "metadata": {},
     "output_type": "execute_result"
    }
   ],
   "source": [
    "train_vec.shape, val_vec.shape, test_vec.shape"
   ]
  },
  {
   "cell_type": "markdown",
   "metadata": {},
   "source": [
    "### Saving processed files"
   ]
  },
  {
   "cell_type": "code",
   "execution_count": 45,
   "metadata": {},
   "outputs": [
    {
     "data": {
      "text/plain": [
       "'/Users/fariamardhani/Berkeley/W266/W266-Final-Project/Classification'"
      ]
     },
     "execution_count": 45,
     "metadata": {},
     "output_type": "execute_result"
    }
   ],
   "source": [
    "pwd"
   ]
  },
  {
   "cell_type": "code",
   "execution_count": 55,
   "metadata": {},
   "outputs": [],
   "source": [
    "data_path = '/Users/fariamardhani/Berkeley/W266/FinalProject/saved_files'"
   ]
  },
  {
   "cell_type": "code",
   "execution_count": 56,
   "metadata": {},
   "outputs": [],
   "source": [
    "scipy.sparse.save_npz(os.path.join(data_path, 'train_vec.npz'), train_vec)\n",
    "scipy.sparse.save_npz(os.path.join(data_path, 'val_vec.npz'), val_vec)\n",
    "scipy.sparse.save_npz(os.path.join(data_path, 'test_vec.npz'), test_vec)"
   ]
  },
  {
   "cell_type": "code",
   "execution_count": 57,
   "metadata": {},
   "outputs": [],
   "source": [
    "train_vec = scipy.sparse.load_npz(os.path.join(data_path, 'train_vec.npz'))\n",
    "val_vec = scipy.sparse.load_npz(os.path.join(data_path, 'val_vec.npz'))\n",
    "test_vec = scipy.sparse.load_npz(os.path.join(data_path, 'test_vec.npz'))"
   ]
  },
  {
   "cell_type": "code",
   "execution_count": 58,
   "metadata": {},
   "outputs": [
    {
     "data": {
      "text/plain": [
       "((6390, 20000), (2130, 20000), (2132, 20000))"
      ]
     },
     "execution_count": 58,
     "metadata": {},
     "output_type": "execute_result"
    }
   ],
   "source": [
    "train_vec.shape, val_vec.shape, test_vec.shape"
   ]
  },
  {
   "cell_type": "code",
   "execution_count": 60,
   "metadata": {},
   "outputs": [],
   "source": [
    "with open(os.path.join(data_path, 'train_list'), 'wb') as fp:\n",
    "    pickle.dump(train, fp)\n",
    "with open(os.path.join(data_path, 'train_ids'), 'wb') as fp:\n",
    "    pickle.dump(train_ids, fp)\n",
    "with open(os.path.join(data_path, 'train_target'), 'wb') as fp:\n",
    "    pickle.dump(train_target, fp)\n",
    "with open(os.path.join(data_path, 'val_list'), 'wb') as fp:\n",
    "    pickle.dump(val, fp)\n",
    "with open(os.path.join(data_path, 'val_ids'), 'wb') as fp:\n",
    "    pickle.dump(val_ids, fp)\n",
    "with open(os.path.join(data_path, 'val_target'), 'wb') as fp:\n",
    "    pickle.dump(val_target, fp)\n",
    "with open(os.path.join(data_path, 'test_list'), 'wb') as fp:\n",
    "    pickle.dump(test, fp)\n",
    "with open(os.path.join(data_path, 'test_ids'), 'wb') as fp:\n",
    "    pickle.dump(test_ids, fp)\n",
    "with open(os.path.join(data_path, 'test_target'), 'wb') as fp:\n",
    "    pickle.dump(test_target, fp)"
   ]
  },
  {
   "cell_type": "code",
   "execution_count": 61,
   "metadata": {},
   "outputs": [
    {
     "data": {
      "text/plain": [
       "(3195, 1065, 1066)"
      ]
     },
     "execution_count": 61,
     "metadata": {},
     "output_type": "execute_result"
    }
   ],
   "source": [
    "sum(train_target), sum(val_target), sum(test_target)"
   ]
  },
  {
   "cell_type": "code",
   "execution_count": 62,
   "metadata": {},
   "outputs": [],
   "source": [
    "with open(os.path.join(data_path, 'train_list'), 'rb') as fp:\n",
    "    train = pickle.load(fp)\n",
    "with open(os.path.join(data_path, 'train_ids'), 'rb') as fp:\n",
    "    train_ids = pickle.load(fp)\n",
    "with open(os.path.join(data_path, 'train_target'), 'rb') as fp:\n",
    "    train_target = pickle.load(fp)\n",
    "with open(os.path.join(data_path, 'val_list'), 'rb') as fp:\n",
    "    val = pickle.load(fp)\n",
    "with open(os.path.join(data_path, 'val_ids'), 'rb') as fp:\n",
    "    val_ids = pickle.load(fp)\n",
    "with open(os.path.join(data_path, 'val_target'), 'rb') as fp:\n",
    "    val_target = pickle.load(fp)\n",
    "with open(os.path.join(data_path, 'test_list'), 'rb') as fp:\n",
    "    test = pickle.load(fp)\n",
    "with open(os.path.join(data_path, 'test_ids'), 'rb') as fp:\n",
    "    test_ids = pickle.load(fp)\n",
    "with open(os.path.join(data_path, 'test_target'), 'rb') as fp:\n",
    "    test_target = pickle.load(fp)"
   ]
  },
  {
   "cell_type": "code",
   "execution_count": 63,
   "metadata": {},
   "outputs": [
    {
     "data": {
      "text/plain": [
       "(3195, 1065, 1066)"
      ]
     },
     "execution_count": 63,
     "metadata": {},
     "output_type": "execute_result"
    }
   ],
   "source": [
    "sum(train_target), sum(val_target), sum(test_target)"
   ]
  },
  {
   "cell_type": "markdown",
   "metadata": {},
   "source": [
    "### Model: Multi-Layer Perceptron (Vanilla NN)"
   ]
  },
  {
   "cell_type": "code",
   "execution_count": 64,
   "metadata": {},
   "outputs": [],
   "source": [
    "logs_base_dir = '/Users/fariamardhani/Berkeley/W266/FinalProject/logs'"
   ]
  },
  {
   "cell_type": "code",
   "execution_count": 65,
   "metadata": {},
   "outputs": [],
   "source": [
    "ngram_model_params = {\n",
    "    'model': 'ngram',\n",
    "    'log_dir': logs_base_dir,\n",
    "    'learning_rate': 1e-3,\n",
    "    'epochs': 1000,\n",
    "    'batch_size': 128,\n",
    "    'layers': 2,\n",
    "    'units': 64,\n",
    "    'dropout_rate': 0.2\n",
    "}"
   ]
  },
  {
   "cell_type": "code",
   "execution_count": 66,
   "metadata": {},
   "outputs": [
    {
     "name": "stdout",
     "output_type": "stream",
     "text": [
      "Train on 6390 samples, validate on 2130 samples\n",
      "Epoch 1/1000\n",
      " - 8s - loss: 0.6580 - acc: 0.7038 - val_loss: 0.6368 - val_acc: 0.6723\n",
      "Epoch 2/1000\n",
      " - 7s - loss: 0.5345 - acc: 0.8239 - val_loss: 0.5863 - val_acc: 0.6948\n",
      "Epoch 3/1000\n",
      " - 7s - loss: 0.4208 - acc: 0.8814 - val_loss: 0.5603 - val_acc: 0.7000\n",
      "Epoch 4/1000\n",
      " - 7s - loss: 0.3345 - acc: 0.9108 - val_loss: 0.5504 - val_acc: 0.7070\n",
      "Epoch 5/1000\n",
      " - 7s - loss: 0.2668 - acc: 0.9362 - val_loss: 0.5469 - val_acc: 0.7141\n",
      "Epoch 6/1000\n",
      " - 7s - loss: 0.2142 - acc: 0.9516 - val_loss: 0.5496 - val_acc: 0.7080\n",
      "Epoch 7/1000\n",
      " - 7s - loss: 0.1777 - acc: 0.9642 - val_loss: 0.5551 - val_acc: 0.7056\n",
      "Validation accuracy: 0.7056338034325362, loss: 0.5551263951919448\n"
     ]
    }
   ],
   "source": [
    "reload(train_model)\n",
    "history, train_pred_probs, val_pred_probs = train_model.train_model(((train_vec, train_target), (val_vec, val_target)), **ngram_model_params)"
   ]
  },
  {
   "cell_type": "markdown",
   "metadata": {},
   "source": [
    "## Model evaluation"
   ]
  },
  {
   "cell_type": "code",
   "execution_count": 67,
   "metadata": {},
   "outputs": [
    {
     "data": {
      "text/plain": [
       "1503"
      ]
     },
     "execution_count": 67,
     "metadata": {},
     "output_type": "execute_result"
    }
   ],
   "source": [
    "val_preds = val_pred_probs > 0.5\n",
    "np.sum(val_preds.flatten()==val_target)"
   ]
  },
  {
   "cell_type": "code",
   "execution_count": 68,
   "metadata": {},
   "outputs": [
    {
     "name": "stdout",
     "output_type": "stream",
     "text": [
      "Confusion matrix, without normalization\n",
      "[[742 323]\n",
      " [304 761]]\n"
     ]
    },
    {
     "data": {
      "text/plain": [
       "<matplotlib.axes._subplots.AxesSubplot at 0x1aceff1f60>"
      ]
     },
     "execution_count": 68,
     "metadata": {},
     "output_type": "execute_result"
    },
    {
     "data": {
      "image/png": "[encoded data removed]",
      "text/plain": [
       "<Figure size 432x288 with 2 Axes>"
      ]
     },
     "metadata": {},
     "output_type": "display_data"
    }
   ],
   "source": [
    "reload(explore_data)\n",
    "# specify class names in 0 - 1 order\n",
    "classes = ['White', 'NonWhite']\n",
    "explore_data.plot_confusion_matrix(val_target, val_preds, classes, normalize=True)"
   ]
  },
  {
   "cell_type": "code",
   "execution_count": 69,
   "metadata": {
    "scrolled": false
   },
   "outputs": [
    {
     "data": {
      "image/png": "[encoded data removed]",
      "text/plain": [
       "<Figure size 720x720 with 2 Axes>"
      ]
     },
     "metadata": {},
     "output_type": "display_data"
    }
   ],
   "source": [
    "reload(explore_data)\n",
    "explore_data.plot_calibration_curve(val_target, val_pred_probs, 'Ethnicity')"
   ]
  },
  {
   "cell_type": "code",
   "execution_count": 70,
   "metadata": {},
   "outputs": [
    {
     "data": {
      "text/plain": [
       "0.30985915492957744"
      ]
     },
     "execution_count": 70,
     "metadata": {},
     "output_type": "execute_result"
    }
   ],
   "source": [
    "val_random = np.random.choice(a=[0,1], size=len(val_target), p = [0.7,0.3])\n",
    "val_random.sum()/val_random.shape[0]"
   ]
  },
  {
   "cell_type": "code",
   "execution_count": 71,
   "metadata": {},
   "outputs": [
    {
     "data": {
      "text/plain": [
       "(660, 660, 660)"
      ]
     },
     "execution_count": 71,
     "metadata": {},
     "output_type": "execute_result"
    }
   ],
   "source": [
    "val_sample, val_ids_sample, val_pred_probs_sample = [], [], []\n",
    "for i in range(len(val_ids)):\n",
    "    if val_random[i] == 1:\n",
    "        val_sample.append(val[i])\n",
    "        val_ids_sample.append(val_ids[i])\n",
    "        val_pred_probs_sample.append(val_pred_probs[i])\n",
    "len(val_sample), len(val_ids_sample), len(val_pred_probs_sample)"
   ]
  },
  {
   "cell_type": "code",
   "execution_count": 72,
   "metadata": {},
   "outputs": [
    {
     "name": "stderr",
     "output_type": "stream",
     "text": [
      "/anaconda3/lib/python3.6/site-packages/numpy/lib/arraysetops.py:472: FutureWarning: elementwise comparison failed; returning scalar instead, but in the future will perform elementwise comparison\n",
      "  mask |= (ar1 == a)\n"
     ]
    },
    {
     "data": {
      "text/plain": [
       "(2914464, 16)"
      ]
     },
     "execution_count": 72,
     "metadata": {},
     "output_type": "execute_result"
    }
   ],
   "source": [
    "descr_df = pd.read_csv('../data/QA/full_descr.txt', sep=\"|\", index_col=0)\n",
    "descr_df.shape"
   ]
  },
  {
   "cell_type": "code",
   "execution_count": 73,
   "metadata": {},
   "outputs": [
    {
     "name": "stdout",
     "output_type": "stream",
     "text": [
      "Validation sample means:\n",
      "      Gender_F  Ethinicity_NW     AvgAge   Party_D  Chamber_H  AvgWordCount\n",
      "base  0.079474       0.087358  58.324787  0.520156   0.563685    232.456109\n"
     ]
    },
    {
     "data": {
      "text/html": [
       "<div>\n",
       "<style scoped>\n",
       "    .dataframe tbody tr th:only-of-type {\n",
       "        vertical-align: middle;\n",
       "    }\n",
       "\n",
       "    .dataframe tbody tr th {\n",
       "        vertical-align: top;\n",
       "    }\n",
       "\n",
       "    .dataframe thead th {\n",
       "        text-align: right;\n",
       "    }\n",
       "</style>\n",
       "<table border=\"1\" class=\"dataframe\">\n",
       "  <thead>\n",
       "    <tr style=\"text-align: right;\">\n",
       "      <th></th>\n",
       "      <th>Gender_F</th>\n",
       "      <th>Ethinicity_NW</th>\n",
       "      <th>AvgAge</th>\n",
       "      <th>Party_D</th>\n",
       "      <th>Chamber_H</th>\n",
       "      <th>AvgWordCount</th>\n",
       "    </tr>\n",
       "  </thead>\n",
       "  <tbody>\n",
       "    <tr>\n",
       "      <th>0.4</th>\n",
       "      <td>0.13</td>\n",
       "      <td>2.75</td>\n",
       "      <td>0.94</td>\n",
       "      <td>0.99</td>\n",
       "      <td>0.77</td>\n",
       "      <td>1.24</td>\n",
       "    </tr>\n",
       "    <tr>\n",
       "      <th>0.6</th>\n",
       "      <td>0.24</td>\n",
       "      <td>5.94</td>\n",
       "      <td>0.93</td>\n",
       "      <td>1.30</td>\n",
       "      <td>1.27</td>\n",
       "      <td>1.36</td>\n",
       "    </tr>\n",
       "    <tr>\n",
       "      <th>1.0</th>\n",
       "      <td>0.34</td>\n",
       "      <td>8.55</td>\n",
       "      <td>0.94</td>\n",
       "      <td>1.55</td>\n",
       "      <td>1.45</td>\n",
       "      <td>1.83</td>\n",
       "    </tr>\n",
       "  </tbody>\n",
       "</table>\n",
       "</div>"
      ],
      "text/plain": [
       "     Gender_F  Ethinicity_NW  AvgAge  Party_D  Chamber_H  AvgWordCount\n",
       "0.4      0.13           2.75    0.94     0.99       0.77          1.24\n",
       "0.6      0.24           5.94    0.93     1.30       1.27          1.36\n",
       "1.0      0.34           8.55    0.94     1.55       1.45          1.83"
      ]
     },
     "execution_count": 73,
     "metadata": {},
     "output_type": "execute_result"
    }
   ],
   "source": [
    "reload(explore_data)\n",
    "explore_data.check_bin_probs_distr(val_pred_probs, val_ids, descr_df)"
   ]
  },
  {
   "cell_type": "code",
   "execution_count": 79,
   "metadata": {},
   "outputs": [],
   "source": [
    "np.save('/Users/fariamardhani/Berkeley/W266/FinalProject/saved_files/val_pred_probs', val_pred_probs, allow_pickle=True, fix_imports=True)"
   ]
  },
  {
   "cell_type": "code",
   "execution_count": 127,
   "metadata": {},
   "outputs": [
    {
     "name": "stdout",
     "output_type": "stream",
     "text": [
      "\n",
      "Top 10 ngrams by differentiating score:\n",
      "the senator from \t 11.6\n",
      "our national security \t 10.4\n",
      "the distinguished senator \t 10.2\n",
      "the distinguished senator from \t 10.0\n",
      "distinguished senator from \t 9.5\n",
      "one of the \t 9.1\n",
      "the soviet union \t 8.5\n",
      "mr president ask \t 8.4\n",
      "president ask unanimous \t 6.8\n",
      "president ask unanimous consent \t 6.8\n"
     ]
    },
    {
     "data": {
      "text/html": [
       "<div>\n",
       "<style scoped>\n",
       "    .dataframe tbody tr th:only-of-type {\n",
       "        vertical-align: middle;\n",
       "    }\n",
       "\n",
       "    .dataframe tbody tr th {\n",
       "        vertical-align: top;\n",
       "    }\n",
       "\n",
       "    .dataframe thead th {\n",
       "        text-align: right;\n",
       "    }\n",
       "</style>\n",
       "<table border=\"1\" class=\"dataframe\">\n",
       "  <thead>\n",
       "    <tr style=\"text-align: right;\">\n",
       "      <th>bin</th>\n",
       "      <th>1</th>\n",
       "      <th>2</th>\n",
       "      <th>3</th>\n",
       "    </tr>\n",
       "  </thead>\n",
       "  <tbody>\n",
       "    <tr>\n",
       "      <th>distinguished senator from</th>\n",
       "      <td>26.0</td>\n",
       "      <td>0.0</td>\n",
       "      <td>2.0</td>\n",
       "    </tr>\n",
       "    <tr>\n",
       "      <th>mr president ask</th>\n",
       "      <td>16.0</td>\n",
       "      <td>1.0</td>\n",
       "      <td>3.0</td>\n",
       "    </tr>\n",
       "    <tr>\n",
       "      <th>one of the</th>\n",
       "      <td>13.0</td>\n",
       "      <td>22.0</td>\n",
       "      <td>56.0</td>\n",
       "    </tr>\n",
       "    <tr>\n",
       "      <th>our national security</th>\n",
       "      <td>0.0</td>\n",
       "      <td>12.0</td>\n",
       "      <td>1.0</td>\n",
       "    </tr>\n",
       "    <tr>\n",
       "      <th>president ask unanimous</th>\n",
       "      <td>14.0</td>\n",
       "      <td>1.0</td>\n",
       "      <td>3.0</td>\n",
       "    </tr>\n",
       "    <tr>\n",
       "      <th>president ask unanimous consent</th>\n",
       "      <td>14.0</td>\n",
       "      <td>1.0</td>\n",
       "      <td>3.0</td>\n",
       "    </tr>\n",
       "    <tr>\n",
       "      <th>the distinguished senator</th>\n",
       "      <td>27.0</td>\n",
       "      <td>1.0</td>\n",
       "      <td>2.0</td>\n",
       "    </tr>\n",
       "    <tr>\n",
       "      <th>the distinguished senator from</th>\n",
       "      <td>25.0</td>\n",
       "      <td>0.0</td>\n",
       "      <td>2.0</td>\n",
       "    </tr>\n",
       "    <tr>\n",
       "      <th>the senator from</th>\n",
       "      <td>53.0</td>\n",
       "      <td>5.0</td>\n",
       "      <td>9.0</td>\n",
       "    </tr>\n",
       "    <tr>\n",
       "      <th>the soviet union</th>\n",
       "      <td>39.0</td>\n",
       "      <td>4.0</td>\n",
       "      <td>3.0</td>\n",
       "    </tr>\n",
       "  </tbody>\n",
       "</table>\n",
       "</div>"
      ],
      "text/plain": [
       "bin                                 1     2     3\n",
       "distinguished senator from       26.0   0.0   2.0\n",
       "mr president ask                 16.0   1.0   3.0\n",
       "one of the                       13.0  22.0  56.0\n",
       "our national security             0.0  12.0   1.0\n",
       "president ask unanimous          14.0   1.0   3.0\n",
       "president ask unanimous consent  14.0   1.0   3.0\n",
       "the distinguished senator        27.0   1.0   2.0\n",
       "the distinguished senator from   25.0   0.0   2.0\n",
       "the senator from                 53.0   5.0   9.0\n",
       "the soviet union                 39.0   4.0   3.0"
      ]
     },
     "execution_count": 127,
     "metadata": {},
     "output_type": "execute_result"
    }
   ],
   "source": [
    "reload(explore_data)\n",
    "explore_data.compare_ngrams(val, val_pred_probs)"
   ]
  },
  {
   "cell_type": "code",
   "execution_count": 128,
   "metadata": {},
   "outputs": [
    {
     "name": "stdout",
     "output_type": "stream",
     "text": [
      "\n",
      "In 0.4 bin top 10 ngrams:\n",
      "\n",
      "the united states\n",
      "the senator from\n",
      "distinguished senator from\n",
      "the soviet union\n",
      "the distinguished senator from\n",
      "the distinguished senator\n",
      "would like to\n",
      "unanimous consent that\n",
      "ask unanimous consent\n",
      "are going to\n",
      "--------------------\n",
      "\n",
      "In 0.6 bin top 10 ngrams:\n",
      "\n",
      "the united states\n",
      "the legal services corporation\n",
      "the legal services\n",
      "legal services corporation\n",
      "as well as\n",
      "the postal service\n",
      "the department of\n",
      "one of the\n",
      "it is not\n",
      "is going to\n",
      "--------------------\n",
      "\n",
      "In 1.0 bin top 10 ngrams:\n",
      "\n",
      "legal services corporation\n",
      "the legal services\n",
      "the legal services corporation\n",
      "the united states\n",
      "percent of the\n",
      "the south and\n",
      "of the country\n",
      "one of the\n",
      "the department of\n",
      "of the federal\n",
      "--------------------\n"
     ]
    }
   ],
   "source": [
    "reload(explore_data)\n",
    "explore_data.ngrams_by_bin(val_sample, val_pred_probs_sample)"
   ]
  },
  {
   "cell_type": "code",
   "execution_count": 129,
   "metadata": {
    "scrolled": false
   },
   "outputs": [
    {
     "name": "stdout",
     "output_type": "stream",
     "text": [
      "\n",
      "True positive (Predicted prob: 0.97):\n",
      "\n",
      "date                 19810914\n",
      "char_count               7643\n",
      "word_count               1248\n",
      "speakerid         9.71209e+07\n",
      "Party                       D\n",
      "Congress                   97\n",
      "Chamber                     H\n",
      "State                      NY\n",
      "Ethnicity                 B/H\n",
      "Age                        52\n",
      "Age_lt_med                  0\n",
      "NonWhite                    1\n",
      "Female                      0\n",
      "speaker            Mr. RANGEL\n",
      "Full Name     RANGEL, CHARLES\n",
      "match                   fuzzy\n",
      "Name: 970076770, dtype: object\n",
      "\n",
      " Mr. Speaker. -son Friday I Introduced a resolution. House Resolution 212. that both condemns the South African Government for Its illegal incursion Into Angola this August. and disapproves the U.S. veto of the UnitedNations resolution condemning the South Africans. I take these steps because I feel that first. the South African invasion presents a serious danger to the peace and stability of that region. and second. that the American reaction to the raid was irresponsible. and damaging to ourinterest in Africa. Let me elaborate. On August 24. the South African Armed Forces Invaded southern Angola from Its bases in Namibia. This act of aggression was in violation of International law. and is of significant concern to the international community. The circumstances surrounding South African Involvement In Namibia addi to this concern. The South African Ccvernment has been administerIng the trust territory of Namibia for the past 61 yLctrs. They were first. given this privilelge by the League of Nations In 1920. and it was held legally until .1967. when the United Nations. which took over the responsibility for trust territories from the defunct League of Nations. revoked South Africas mandate for administering the territory. Since then. South Africas claim to the territory can only be described as illegitimate. Yet. they have continued to administer the territory. and have denied the majority people of the territory the opportunity to determine their future. Further. they have set up a apartheid system similar to that in South Africa. reserving the resources and the political control of the territory for the white minority. Finally. to preserve their control. they have stationed thousands of troops in the territory. They have refused to recognize the organization that represents the native population. The South West Africa Peoples Organization. (SWAPO). which has been recognized by the United Nations as a legitimate representative of the Namibian people. Namibia is run like a colony. a small majority dictating to a uib. nfranchised majority. with South African military might supplying the only legitimacy for the government. It was from Namibia that the Angola raid was launched. The raid was purportedly to protect Namibia from the SWAPO guerrillas operating out of Angolan bases. and the South Africans claim that they were forced to Invade Angola to stop the violence in Namibia. This defense has two flaws. First. in January of this year the South African Government was approached by SWAPO President Sam Nujoma with an offer of a cease fire. The South Africans rejected. this offer. which undercuts their claim of being interested in peace in the area. Second. It is the existence of a repressive apartheid system in Namibia that has precipitated the violence there. South African policy In Namibia has denied a people their right to selfdetermination. and it has embroiled another sovereign state in the dispute. For these reasons. and because of the potential for further Instability in the region. the International community Is rightly concerned with the situation In southern* Africa. and Its potential for disrupting other nations on the continent as well. The U.N. resolution was a responsible expression of this concern. The American response. to the raid was chilling to anyone who is interested in achieving racial and. political equality In South Africa. and a settlement to the Namibia situation. On the one hand. the Assistant Secretary of State for African Affairs has claimed that the administration did not want to choose between black and white in South Africa. meaning I suppose that E 4180 it does not matter that the apartheid regime In South Africa Is politically and morally indefensible. Its interest In preserving Itself is as important to the administration as the interests of the 17 million people ~who exist there without political or human rights. On the other hand. It refuses to condemn the South African regime for Its raid In Angola.. saying that they are not responsible for all of the violence there. Ignoring the fact that the South Mfr. can military presence Is the reason for violence In Nanibia. We have critical strategic and poltical interests In Africa. On this Issue. the administration and I would agree. However. I must state emphatically that one of those Interests Is the elimination of the abhorrent apartheid policy that exists in South Africa. and which the South Africans have instituted in SouthWest Africa. Not only is this goal Important to us as a demo. cratic. multir acial society: it is a basis for our ties with the rest of black Africa. which considers the elimination of this most egregious system of government as the No. 1 political issue on the continent. Our prestige as a free anid Just nation. and our relationships with black Africa. are dependent on continued active opposition to the system of apartheid. The administration. Judging from Its reaction to the South African raid. seems to be hedgIng on the American commitment to racial equality In southern Africa. The reasons the administration gave for not strongly criticizing the South Africans could have been written by the South African Foreign Ministry. The South Africans have been trying for years to convince the American people and Government that the Communist threat In southern Africa should be our real concern. and that their Internal policies should not be the basis for our relations with them. They have insisted that they are. the bulwark of anticommunism In the region. and that we should be alined with them. This rhetoric is strikingly similar to what we hear from the Reagan administration. the emphasis on combatting Soviet influence in Africa. and a backIng away from any criticism of the South African Government. The administration has made a number of remarks midly critical of the apartheid system. but nothing that could be characterized as supportive of efforts to end that system. Now. in the wake of an act of International aggression. undertaken from bases In a territory held In definance of International law. the United States has seen fit to hide behind the cloak of anticommunism to softpedal criticism of the South African action. I *contend that this position Is dangerous. .The administration Is clearly moving toward the policy in southern Africa that the Botha government desires. a tacit military alliance with South Africa. with little or no pressure on the South African Government to reform Its Internal racial policies. Not only is this policy suspect for moral reasons. it is politically unwise. It Is not In the American Interest to alienate black Africa and our Western allies for the sake of an alliance with South Africa against a rather small Soviet presence In Angola. What Is In the best Interests of the United States is to pursue a policy in southern Africa that will lead to enlightened development of that continents vast resources. and encourage and foster democratic principles among the nations there. The administrations recent action on Angola suggests that It is moving away from this goal. and toward a policy centered on military alliances. We have worked too long to improve our relations with Africa to the level which we now enjoy to see the Secretary of State shatter our progress for the sake of a global antiSoviet strategy that does not apply to Africa in the first place. The resolution that I have introduced seeks to show Africa and the world that there Is still a significant part of this country that Is opposed to what South Africa Is doing In Namibia and at home. I urge my colleagues to support It.*\n",
      "--------------------\n",
      "\n",
      "True negative (Predicted prob: 0.09):\n",
      "\n",
      "date               19820614\n",
      "char_count              678\n",
      "word_count              122\n",
      "speakerid       9.71048e+07\n",
      "Party                     R\n",
      "Congress                 97\n",
      "Chamber                   S\n",
      "State                    TN\n",
      "Ethnicity                 W\n",
      "Age                      57\n",
      "Age_lt_med                0\n",
      "NonWhite                  0\n",
      "Female                    0\n",
      "speaker           Mr. BAKER\n",
      "Full Name     BAKER, HOWARD\n",
      "match                 exact\n",
      "Name: 970186354, dtype: object\n",
      "\n",
      " Mr. President. I announced earlier today. when the Senate convened. that it is the hope of the leadership that we can stick as close as possible to the regular schedule for concluding the business of the Senate. which we have abided by for some timethat is. on weekdays. other than Thursdays. the Senate would conclude its activities around 6 or 6:30. and that Thursday would be the late evening. if necessary. But in view of the potential for a great amount of time that may be necessary to deal with these five items. it would be my intention to ask the Senate to convene earlier than usual in the morning. in order to provide a maximum opportunity to deal with these matters.\n",
      "--------------------\n",
      "\n",
      "False positive (Predicted prob: 0.92):\n",
      "\n",
      "               date  char_count  word_count   speakerid Party  Congress  \\\n",
      "speech_id                                                                 \n",
      "970163292  19820506         733         125  97118400.0     R        97   \n",
      "970163292  19820506         733         125  97106400.0     R        97   \n",
      "\n",
      "          Chamber State Ethnicity   Age  Age_lt_med  NonWhite  Female  \\\n",
      "speech_id                                                               \n",
      "970163292       H    KS         W  46.0         1.0       0.0     0.0   \n",
      "970163292       H    SD         W  47.0         1.0       0.0     0.0   \n",
      "\n",
      "                               speaker       Full Name  match  \n",
      "speech_id                                                      \n",
      "970163292  Mr. ROBERTS of South Dakota    ROBERTS, PAT  fuzzy  \n",
      "970163292  Mr. ROBERTS of South Dakota  ROBERTS, CLINT  fuzzy  \n",
      "\n",
      " Mr. Speaker. last July I introduced H.R. 4347. which reauthorizes the WEB rural water system and provides for further development of South Da lotas water resources. The bill has undergone many changes while work ing its way through the legislative process. WEB will provide clean drinking and stock water for almost 30.000 people in South Dakota. and is a project strongly supported by this administration and by many here in Congress. The WEB board has kept their faith in the legislative process and in my bill. cosponsored by the entire South Dakota delegation. Yesterday I received from the board a copy of a resolution in support of H.R. 4347. I would like to enter the resolution in the RECORD for the benefit of my colleagues:\n",
      "--------------------\n",
      "\n",
      "False negative (Predicted prob: 0.06):\n",
      "\n",
      "date                  19810930\n",
      "char_count                 206\n",
      "word_count                  32\n",
      "speakerid          9.71084e+07\n",
      "Party                        D\n",
      "Congress                    97\n",
      "Chamber                      S\n",
      "State                       ME\n",
      "Ethnicity                   ME\n",
      "Age                         49\n",
      "Age_lt_med                   1\n",
      "NonWhite                     1\n",
      "Female                       0\n",
      "speaker           Mr. MITCHELL\n",
      "Full Name     MITCHELL, GEORGE\n",
      "match                    exact\n",
      "Name: 970086674, dtype: object\n",
      "\n",
      " Mr. President. I thank the distinguished chairman of the Foreign Relations Committee. AMENDMENT No. Sol Mr. President. I call from the desk printed amendment No. 561 and ask for Its Immediate consideration.\n",
      "--------------------\n"
     ]
    }
   ],
   "source": [
    "reload(explore_data)\n",
    "explore_data.print_mispredictions(val_target, val_pred_probs, val, val_ids, descr_df)"
   ]
  },
  {
   "cell_type": "code",
   "execution_count": null,
   "metadata": {},
   "outputs": [],
   "source": []
  }
 ],
 "metadata": {
  "kernelspec": {
   "display_name": "Python 3",
   "language": "python",
   "name": "python3"
  },
  "language_info": {
   "codemirror_mode": {
    "name": "ipython",
    "version": 3
   },
   "file_extension": ".py",
   "mimetype": "text/x-python",
   "name": "python",
   "nbconvert_exporter": "python",
   "pygments_lexer": "ipython3",
   "version": "3.6.5"
  }
 },
 "nbformat": 4,
 "nbformat_minor": 2
}
