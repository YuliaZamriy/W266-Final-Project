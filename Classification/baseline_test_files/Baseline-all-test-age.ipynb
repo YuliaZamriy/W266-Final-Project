{
 "cells": [
  {
   "cell_type": "code",
   "execution_count": 1,
   "metadata": {},
   "outputs": [
    {
     "data": {
      "text/html": [
       "<style>.container { width:100% !important; }</style>"
      ],
      "text/plain": [
       "<IPython.core.display.HTML object>"
      ]
     },
     "metadata": {},
     "output_type": "display_data"
    }
   ],
   "source": [
    "# increase cell width\n",
    "from IPython.core.display import display, HTML\n",
    "display(HTML(\"<style>.container { width:100% !important; }</style>\"))"
   ]
  },
  {
   "cell_type": "markdown",
   "metadata": {},
   "source": [
    "Inspiration for code:\n",
    "\n",
    "- https://developers.google.com/machine-learning/guides/text-classification/\n",
    "- https://github.com/google/eng-edu/blob/master/ml/guides/text_classification/load_data.py"
   ]
  },
  {
   "cell_type": "code",
   "execution_count": 2,
   "metadata": {},
   "outputs": [],
   "source": [
    "from __future__ import absolute_import\n",
    "from __future__ import division\n",
    "from __future__ import print_function\n",
    "\n",
    "import os\n",
    "import random\n",
    "import time\n",
    "import pickle\n",
    "\n",
    "import numpy as np\n",
    "import pandas as pd\n",
    "\n",
    "from importlib import reload\n",
    "\n",
    "import scipy.sparse"
   ]
  },
  {
   "cell_type": "code",
   "execution_count": 3,
   "metadata": {},
   "outputs": [
    {
     "name": "stderr",
     "output_type": "stream",
     "text": [
      "/anaconda3/lib/python3.6/site-packages/h5py/__init__.py:36: FutureWarning: Conversion of the second argument of issubdtype from `float` to `np.floating` is deprecated. In future, it will be treated as `np.float64 == np.dtype(float).type`.\n",
      "  from ._conv import register_converters as _register_converters\n"
     ]
    }
   ],
   "source": [
    "from helpers import load_data\n",
    "from helpers import explore_data\n",
    "from helpers import preprocess_data\n",
    "from helpers import train_model"
   ]
  },
  {
   "cell_type": "markdown",
   "metadata": {},
   "source": [
    "## Load the data"
   ]
  },
  {
   "cell_type": "code",
   "execution_count": 4,
   "metadata": {},
   "outputs": [
    {
     "data": {
      "text/plain": [
       "'/Users/fariamardhani/Berkeley/W266/W266-Final-Project/Classification'"
      ]
     },
     "execution_count": 4,
     "metadata": {},
     "output_type": "execute_result"
    }
   ],
   "source": [
    "pwd"
   ]
  },
  {
   "cell_type": "code",
   "execution_count": 5,
   "metadata": {},
   "outputs": [
    {
     "name": "stdout",
     "output_type": "stream",
     "text": [
      "head: ../../FinalProject/hein-daily/speeches_097.txt: No such file or directory\r\n"
     ]
    }
   ],
   "source": [
    "!head -2 ../../FinalProject/hein-daily/speeches_097.txt"
   ]
  },
  {
   "cell_type": "code",
   "execution_count": 6,
   "metadata": {},
   "outputs": [
    {
     "name": "stdout",
     "output_type": "stream",
     "text": [
      "cat: ../../FinalProject/hein-daily/speeches_097.txt: No such file or directory\r\n",
      "       0\r\n"
     ]
    }
   ],
   "source": [
    "!cat ../../FinalProject/hein-daily/speeches_097.txt | wc -l"
   ]
  },
  {
   "cell_type": "code",
   "execution_count": 7,
   "metadata": {},
   "outputs": [],
   "source": [
    "data_path = '../../FinalProject/hein-daily/Sample'"
   ]
  },
  {
   "cell_type": "code",
   "execution_count": 8,
   "metadata": {},
   "outputs": [
    {
     "name": "stdout",
     "output_type": "stream",
     "text": [
      "\n",
      "File speeches_097.txt has 249718612 characters\n",
      "and 283399 speeches\n",
      "\n",
      "Speeches list has 283399 speeches\n"
     ]
    }
   ],
   "source": [
    "reload(load_data)\n",
    "all_speech_ids, all_speeches = load_data.load_speech_data(data_path)"
   ]
  },
  {
   "cell_type": "code",
   "execution_count": 9,
   "metadata": {},
   "outputs": [
    {
     "data": {
      "text/plain": [
       "(283399, 283399)"
      ]
     },
     "execution_count": 9,
     "metadata": {},
     "output_type": "execute_result"
    }
   ],
   "source": [
    "len(all_speech_ids), len(all_speeches)"
   ]
  },
  {
   "cell_type": "markdown",
   "metadata": {},
   "source": [
    "## Create target labels"
   ]
  },
  {
   "cell_type": "markdown",
   "metadata": {},
   "source": [
    "#### TODO:\n",
    "\n",
    "- Why is this taking so much time?\n",
    "- Subset on word cound here?\n",
    "- Make sampling replicable: random seed + random array of proper length"
   ]
  },
  {
   "cell_type": "code",
   "execution_count": 10,
   "metadata": {},
   "outputs": [
    {
     "name": "stdout",
     "output_type": "stream",
     "text": [
      "2914465 lines have been read\n",
      "7227 keys had duplicates and deleted\n",
      "The dictionary has 858639 keys\n",
      "\n",
      "Random congressperson: 970167231\n",
      "date 19820513\n",
      "char_count 164\n",
      "word_count 33\n",
      "speakerid 97104811.0\n",
      "Party R\n",
      "Congress 97\n",
      "Chamber S\n",
      "State TN\n",
      "Ethnicity W\n",
      "Age 57.0\n",
      "Age_lt_med 0.0\n",
      "NonWhite 0.0\n",
      "Female 0.0\n",
      "speaker Mr. BAKER\n",
      "Full Name BAKER, HOWARD\n",
      "match exact\n",
      "check 1\n",
      "\n",
      "It took 6.3 seconds to create the dictionary\n"
     ]
    }
   ],
   "source": [
    "reload(load_data)\n",
    "start_time = time.time()\n",
    "# remove p if want to run for the full speech file\n",
    "descr = load_data.load_descr_data('../data/QA/full_descr.txt', p=0.3)\n",
    "print(\"\\nIt took {0:.1f} seconds to create the dictionary\".format(time.time()-start_time))"
   ]
  },
  {
   "cell_type": "code",
   "execution_count": 11,
   "metadata": {},
   "outputs": [
    {
     "data": {
      "text/plain": [
       "0.29461300602786655"
      ]
     },
     "execution_count": 11,
     "metadata": {},
     "output_type": "execute_result"
    }
   ],
   "source": [
    "# check if sampling worked\n",
    "len(list(descr.keys()))/2914464"
   ]
  },
  {
   "cell_type": "code",
   "execution_count": 12,
   "metadata": {},
   "outputs": [
    {
     "data": {
      "text/plain": [
       "(283399, 283399, 283399, 283399, 283399, 283399)"
      ]
     },
     "execution_count": 12,
     "metadata": {},
     "output_type": "execute_result"
    }
   ],
   "source": [
    "gender, ethnicity, age, party, chamber, congress = load_data.create_target_labels(all_speech_ids, descr)\n",
    "len(gender), len(ethnicity), len(age), len(party), len(chamber), len(congress)"
   ]
  },
  {
   "cell_type": "markdown",
   "metadata": {},
   "source": [
    "### Data QA"
   ]
  },
  {
   "cell_type": "code",
   "execution_count": 13,
   "metadata": {},
   "outputs": [
    {
     "name": "stdout",
     "output_type": "stream",
     "text": [
      "\n",
      " Gender\n",
      "Overall speech counts:\n"
     ]
    },
    {
     "data": {
      "text/html": [
       "<div>\n",
       "<style scoped>\n",
       "    .dataframe tbody tr th:only-of-type {\n",
       "        vertical-align: middle;\n",
       "    }\n",
       "\n",
       "    .dataframe tbody tr th {\n",
       "        vertical-align: top;\n",
       "    }\n",
       "\n",
       "    .dataframe thead th {\n",
       "        text-align: right;\n",
       "    }\n",
       "</style>\n",
       "<table border=\"1\" class=\"dataframe\">\n",
       "  <thead>\n",
       "    <tr style=\"text-align: right;\">\n",
       "      <th></th>\n",
       "      <th>Category</th>\n",
       "      <th>Count</th>\n",
       "    </tr>\n",
       "  </thead>\n",
       "  <tbody>\n",
       "    <tr>\n",
       "      <th>0</th>\n",
       "      <td>-1</td>\n",
       "      <td>216551</td>\n",
       "    </tr>\n",
       "    <tr>\n",
       "      <th>1</th>\n",
       "      <td>0</td>\n",
       "      <td>65477</td>\n",
       "    </tr>\n",
       "    <tr>\n",
       "      <th>2</th>\n",
       "      <td>1</td>\n",
       "      <td>1371</td>\n",
       "    </tr>\n",
       "  </tbody>\n",
       "</table>\n",
       "</div>"
      ],
      "text/plain": [
       "<IPython.core.display.HTML object>"
      ]
     },
     "metadata": {},
     "output_type": "display_data"
    },
    {
     "name": "stdout",
     "output_type": "stream",
     "text": [
      "Target group number of speeches by party:\n",
      "D: \t 664\n",
      "I: \t 0\n",
      "N: \t 0\n",
      "NA: \t -216551\n",
      "R: \t 707\n",
      "\n",
      " Ethnicity\n",
      "Overall speech counts:\n"
     ]
    },
    {
     "data": {
      "text/html": [
       "<div>\n",
       "<style scoped>\n",
       "    .dataframe tbody tr th:only-of-type {\n",
       "        vertical-align: middle;\n",
       "    }\n",
       "\n",
       "    .dataframe tbody tr th {\n",
       "        vertical-align: top;\n",
       "    }\n",
       "\n",
       "    .dataframe thead th {\n",
       "        text-align: right;\n",
       "    }\n",
       "</style>\n",
       "<table border=\"1\" class=\"dataframe\">\n",
       "  <thead>\n",
       "    <tr style=\"text-align: right;\">\n",
       "      <th></th>\n",
       "      <th>Category</th>\n",
       "      <th>Count</th>\n",
       "    </tr>\n",
       "  </thead>\n",
       "  <tbody>\n",
       "    <tr>\n",
       "      <th>0</th>\n",
       "      <td>-1</td>\n",
       "      <td>216551</td>\n",
       "    </tr>\n",
       "    <tr>\n",
       "      <th>1</th>\n",
       "      <td>0</td>\n",
       "      <td>64037</td>\n",
       "    </tr>\n",
       "    <tr>\n",
       "      <th>2</th>\n",
       "      <td>1</td>\n",
       "      <td>2811</td>\n",
       "    </tr>\n",
       "  </tbody>\n",
       "</table>\n",
       "</div>"
      ],
      "text/plain": [
       "<IPython.core.display.HTML object>"
      ]
     },
     "metadata": {},
     "output_type": "display_data"
    },
    {
     "name": "stdout",
     "output_type": "stream",
     "text": [
      "Target group number of speeches by party:\n",
      "D: \t 2405\n",
      "I: \t 0\n",
      "N: \t 45\n",
      "NA: \t -216551\n",
      "R: \t 361\n",
      "\n",
      " Age\n",
      "Overall speech counts:\n"
     ]
    },
    {
     "data": {
      "text/html": [
       "<div>\n",
       "<style scoped>\n",
       "    .dataframe tbody tr th:only-of-type {\n",
       "        vertical-align: middle;\n",
       "    }\n",
       "\n",
       "    .dataframe tbody tr th {\n",
       "        vertical-align: top;\n",
       "    }\n",
       "\n",
       "    .dataframe thead th {\n",
       "        text-align: right;\n",
       "    }\n",
       "</style>\n",
       "<table border=\"1\" class=\"dataframe\">\n",
       "  <thead>\n",
       "    <tr style=\"text-align: right;\">\n",
       "      <th></th>\n",
       "      <th>Category</th>\n",
       "      <th>Count</th>\n",
       "    </tr>\n",
       "  </thead>\n",
       "  <tbody>\n",
       "    <tr>\n",
       "      <th>0</th>\n",
       "      <td>-1</td>\n",
       "      <td>216551</td>\n",
       "    </tr>\n",
       "    <tr>\n",
       "      <th>1</th>\n",
       "      <td>0</td>\n",
       "      <td>43720</td>\n",
       "    </tr>\n",
       "    <tr>\n",
       "      <th>2</th>\n",
       "      <td>1</td>\n",
       "      <td>23128</td>\n",
       "    </tr>\n",
       "  </tbody>\n",
       "</table>\n",
       "</div>"
      ],
      "text/plain": [
       "<IPython.core.display.HTML object>"
      ]
     },
     "metadata": {},
     "output_type": "display_data"
    },
    {
     "name": "stdout",
     "output_type": "stream",
     "text": [
      "Target group number of speeches by party:\n",
      "D: \t 12400\n",
      "I: \t 0\n",
      "N: \t 45\n",
      "NA: \t -216551\n",
      "R: \t 10683\n"
     ]
    }
   ],
   "source": [
    "reload(explore_data)\n",
    "for i in [(gender, \"Gender\"), (ethnicity, \"Ethnicity\"), (age, \"Age\")]:\n",
    "    print(\"\\n\", i[1])\n",
    "    print(\"Overall speech counts:\")\n",
    "    explore_data.get_counts(i[0])\n",
    "    print(\"Target group number of speeches by party:\")\n",
    "    explore_data.get_counts_by_category(i[0], party)"
   ]
  },
  {
   "cell_type": "code",
   "execution_count": 15,
   "metadata": {},
   "outputs": [
    {
     "name": "stdout",
     "output_type": "stream",
     "text": [
      "Speaker information\n",
      "date 19810626\n",
      "char_count 1073\n",
      "word_count 184\n",
      "speakerid 97120530.0\n",
      "Party D\n",
      "Congress 97\n",
      "Chamber H\n",
      "State MD\n",
      "Ethnicity W\n",
      "Age 46.0\n",
      "Age_lt_med 1.0\n",
      "NonWhite 0.0\n",
      "Female 1.0\n",
      "speaker Ms. MIKULSKI\n",
      "Full Name MIKULSKI, BARBARA\n",
      "match exact\n",
      "check 1\n",
      "\n",
      "Mr. Speaker. I rise as both a member of the committee and a member of the Steel Caucus to lend my endorsement to this legislation. which literally and legislatively provides the qteel industry with a muchneeded breather. without forsaking the goals of clean air. For someone yvho represents a community such as mine. where we have both unemployed steelworkers and yet one of the highest rates of lung disease in the country. we needed to find a way to keep our people working. and also a way to keep our people breath. ing. I think this legislation shows the kind of partnership and substance that enables that to happen. I wholeheartedly endorse it. Mr. Speaker. in these rancorous times within this House. where there is bitterness and even folly. where people are putting party above substance and not even bothering to read what is being proposed for the American people. this legislation should serve as a model that people with adversarial interests can come together and work in a way that meets both national goals and values of both employment and quality of life.\n"
     ]
    }
   ],
   "source": [
    "reload(explore_data)\n",
    "explore_data.random_speech(all_speeches, all_speech_ids, gender, descr)"
   ]
  },
  {
   "cell_type": "code",
   "execution_count": 16,
   "metadata": {},
   "outputs": [
    {
     "name": "stdout",
     "output_type": "stream",
     "text": [
      "Speaker information\n",
      "date 19820929\n",
      "char_count 172\n",
      "word_count 32\n",
      "speakerid 97106770.0\n",
      "Party D\n",
      "Congress 97\n",
      "Chamber H\n",
      "State TX\n",
      "Ethnicity ME\n",
      "Age 63.0\n",
      "Age_lt_med 0.0\n",
      "NonWhite 1.0\n",
      "Female 0.0\n",
      "speaker Mr. KAZEN\n",
      "Full Name KAZEN, ABRAHAM\n",
      "match exact\n",
      "check 1\n",
      "\n",
      "I appreciate the gentleman saying that because this is certainly what we had in mind. In order to get a well rounded. a complete study. we must have input from all sources.\n"
     ]
    }
   ],
   "source": [
    "explore_data.random_speech(all_speeches, all_speech_ids, ethnicity, descr)"
   ]
  },
  {
   "cell_type": "code",
   "execution_count": 17,
   "metadata": {},
   "outputs": [
    {
     "name": "stdout",
     "output_type": "stream",
     "text": [
      "Speaker information\n",
      "date 19811216\n",
      "char_count 1178\n",
      "word_count 219\n",
      "speakerid 97115351.0\n",
      "Party D\n",
      "Congress 97\n",
      "Chamber S\n",
      "State DE\n",
      "Ethnicity W\n",
      "Age 40.0\n",
      "Age_lt_med 1.0\n",
      "NonWhite 0.0\n",
      "Female 0.0\n",
      "speaker Mr. BIDEN\n",
      "Full Name BIDEN, JOSEPH\n",
      "match exact\n",
      "check 1\n",
      "\n",
      "I do not claim to be an expert in this area. but I am under the impression. not officially from the justice Department. but from Prosecutors. that. in fact. one of the more useful tools they have had to crimp national bookmaking syndicates has been the availability of both this excise tax and the tax on wages. I. In the late hours of this session..for one would not want to make a Judgment otherwise. without longer debate on this. I am certainly not going to extend the debate on this. But If the manager of the bill Is going to accept this amendment. I would ask that we have a rollcall vote. I want to make it clear that I oppose this amendment. even though if I had more information and time to query the Justice Department on this matter. I might not. But we have so few tools available to us dealing with national gambling syndicates. organized crime operations. and major criminal operations that I am reluctant to relinquish any one. notwithstanding the Afact that It Is arguable how important it Is. I do not think it is arguable that. In fact. it can be used and hag been used. To the degree to which it Is an essential tool. I am not prepared to make that argument.\n"
     ]
    }
   ],
   "source": [
    "explore_data.random_speech(all_speeches, all_speech_ids, age, descr)"
   ]
  },
  {
   "cell_type": "markdown",
   "metadata": {},
   "source": [
    "## Split into train, validate, test"
   ]
  },
  {
   "cell_type": "markdown",
   "metadata": {},
   "source": [
    "### Filter on party if necessary"
   ]
  },
  {
   "cell_type": "code",
   "execution_count": 18,
   "metadata": {},
   "outputs": [],
   "source": [
    "# reload(load_data)\n",
    "# all_speeches_d, all_speech_ids_d, gender_d = load_data.filter_data(all_speeches, all_speech_ids, gender, party, 'D')\n",
    "# len(all_speeches_d), len(all_speech_ids_d), len(gender_d)"
   ]
  },
  {
   "cell_type": "code",
   "execution_count": 19,
   "metadata": {},
   "outputs": [],
   "source": [
    "# reload(explore_data)\n",
    "# explore_data.get_counts(gender_d)"
   ]
  },
  {
   "cell_type": "markdown",
   "metadata": {},
   "source": [
    "### Split into train/val/test"
   ]
  },
  {
   "cell_type": "markdown",
   "metadata": {},
   "source": [
    "### Split by congress"
   ]
  },
  {
   "cell_type": "code",
   "execution_count": 20,
   "metadata": {},
   "outputs": [],
   "source": [
    "# reload(preprocess_data)\n",
    "# train, train_ids, train_target, val, val_ids, val_target, test, test_ids, test_target = preprocess_data.split_by_congress(all_speeches, all_speech_ids, gender, descr, congress)"
   ]
  },
  {
   "cell_type": "code",
   "execution_count": 22,
   "metadata": {
    "scrolled": true
   },
   "outputs": [
    {
     "name": "stdout",
     "output_type": "stream",
     "text": [
      "Training split: 7999 ones and 7999 zeroes\n",
      "Training speech list size: 15998\n",
      "Training target list size: 15998\n",
      "Validation split: 2666 ones and 2666 zeroes\n",
      "Validation speech list size: 5332\n",
      "Validation target list size: 5332\n",
      "Test split: 2667 ones and 2667 zeroes\n",
      "Test speech list size: 5334\n",
      "Test target list size: 5334\n"
     ]
    }
   ],
   "source": [
    "reload(preprocess_data)\n",
    "train, train_ids, train_target, val, val_ids, val_target, test, test_ids, test_target = preprocess_data.split_train_val_test(all_speeches, all_speech_ids, age, descr)"
   ]
  },
  {
   "cell_type": "code",
   "execution_count": 23,
   "metadata": {},
   "outputs": [
    {
     "data": {
      "text/plain": [
       "(7999, 2666, 2667)"
      ]
     },
     "execution_count": 23,
     "metadata": {},
     "output_type": "execute_result"
    }
   ],
   "source": [
    "sum(train_target), sum(val_target), sum(test_target)"
   ]
  },
  {
   "cell_type": "code",
   "execution_count": 25,
   "metadata": {},
   "outputs": [
    {
     "data": {
      "text/plain": [
       "9796"
      ]
     },
     "execution_count": 25,
     "metadata": {},
     "output_type": "execute_result"
    }
   ],
   "source": [
    "# number of speeches under 30 words\n",
    "sum(np.array(age)==1) - (sum(train_target) + sum(val_target) + sum(test_target))"
   ]
  },
  {
   "cell_type": "code",
   "execution_count": 26,
   "metadata": {},
   "outputs": [
    {
     "name": "stdout",
     "output_type": "stream",
     "text": [
      "Speaker information\n",
      "date 19811028\n",
      "char_count 4620\n",
      "word_count 763\n",
      "speakerid 97112651.0\n",
      "Party R\n",
      "Congress 97\n",
      "Chamber S\n",
      "State OK\n",
      "Ethnicity W\n",
      "Age 34.0\n",
      "Age_lt_med 1.0\n",
      "NonWhite 0.0\n",
      "Female 0.0\n",
      "speaker MAN. NICKLES\n",
      "Full Name NICKLES, DON\n",
      "match exact\n",
      "check 1\n",
      "\n",
      "DECONCI NI. STENNNs. JOHNSTON. PRYOR. HOLLINGS. and HATCH. I am today reintroducing the provisions of S. 1163. the Labor Racketeering Act of 1981.5S. 1163 was originally Introduced by me on May 12. 1981. and was designed to help ease the problems of corruption on the Nations waterfront. Since introducing S. 1163 in May. we have consulted with many groups both inside and outside of Government. We have received many recommendations and suggestions to clarify and tighten S. 1163. The bill which I am introducing today contains all of the essential provisions of S. 1163. but with what we believe to be substantial improvements which represent the views and input of all parties. The technical ch~nges we are making have no substantive effect on the provisions ofS. 1163. The main provisions of that bill remain Intact In this bill. Those main Provisions are: First. making the TaftHartley Act a felony for all violations involving $1.000 or more. Second. requiring Immediate removal upon conviction of an individual con-. victed of enumerated crimes and crimes relating to his official position: Third. broadening the definition of the. types of Positions an Individual is barred from upon conviction of enumerated crimes. Fourth. Increasing the time of disbarment from 5 to 10 years. Fifth.. escrowing a convicted officials salary for the duration of his appeal. in case the conviction is reversed. and Sixth. clarifying the Jurisdiction of the Department of Labor with respect to its responsibility for detecting and investigating criminal violations relating to ERISA. The changes made in S. 1163 which are incorporated into this new bill are. as I said. largely technical. Section 3 of S. 1163 Is changed in the following way. That bill calls for the immediate removal of any person who has been convicted of any felony or any other crime. including misdemeanors. which involve the use or misuse of that persons labor union or. employee benefit plan affliatIon. We have altered that language by enumerating the particular officeholders subject to this provision. and by leavirn. the lists of disqualifying crimes now In 29 U.S.C. 504 and 29 U.S.C. 1111 as they are presently written. We have added to the end of the list of crimes a catchall phrase requiring removal if the individual is convicted of any Federal or State felony involving abuse or misuse of his official position.I in S. 1163. in sections 3 and 7. are lists of nine positions which an Individual is prohibited from holding If he has been convicted of an enumerated crime. We believe that several of these positions were overly broad and as such might have caused problems such as inhibiting the payment of union pensions or even prohibiting union membership. This new bill contains a subsection replacing the original list with what we feel Is a description more accurately reflecting the type of positions we intend an individual to be barred from. The main change was in the last sentence which stated: No person shall knowingly permit any other person to serve in any capacity In violation of this section. it has been brought to our attention that the word \"Permit\" may inadvertently be construed by a court to mea n that union officials who deal with a disbarred individual hired by a private entity may have some responsibility or criminal liability and alternatively employers who deal with disbarred union officials may have some criminal liability for -their dealings. We therefore reworded the last sentence to read: No person shall knowingly 1ire. retain. employ. or otherwise place any other person to serve In any capacity In violation of this section. This more accurately places theburden on the entity or individuals who actually employ persons who have been dlsqualifled by virtue of a conviction. This bill also contains some minor corrections of typographical errors we found in S. 1163 and which I will not enumerate here. .On October 28 and 29 the Senate Permanent Subcommittee on Invostigations will conduct hearings during which we hope to hear the views of the Labor Department and the AFLCIO onl this bill. We are hopeful that we may gain their support for its swift passage by this Congress it Is imperative that Congress itself :.ct swiftly to halt the growing corruption on our waterfronts: This bill Is a significant step in that direction. It should serve as a signal to organized crime and corrupt union lenders that the American public will no longer tolerate their manipulation of our waterfront economy fofr criminal ends. Mr. President. I ask unanimous consent that the text of the bill be printed In the RECORD.\n"
     ]
    }
   ],
   "source": [
    "explore_data.random_speech(train, train_ids, train_target, descr)"
   ]
  },
  {
   "cell_type": "markdown",
   "metadata": {},
   "source": [
    "## EDA on train data"
   ]
  },
  {
   "cell_type": "markdown",
   "metadata": {},
   "source": [
    "Source: https://developers.google.com/machine-learning/guides/text-classification/step-2"
   ]
  },
  {
   "cell_type": "markdown",
   "metadata": {},
   "source": [
    "### Check median number of words per sample in train/val/test"
   ]
  },
  {
   "cell_type": "code",
   "execution_count": 27,
   "metadata": {},
   "outputs": [
    {
     "data": {
      "text/plain": [
       "<module 'helpers.explore_data' from '/Users/fariamardhani/Berkeley/W266/W266-Final-Project/Classification/helpers/explore_data.py'>"
      ]
     },
     "execution_count": 27,
     "metadata": {},
     "output_type": "execute_result"
    }
   ],
   "source": [
    "reload(explore_data)"
   ]
  },
  {
   "cell_type": "code",
   "execution_count": 28,
   "metadata": {},
   "outputs": [
    {
     "data": {
      "text/plain": [
       "185.0"
      ]
     },
     "execution_count": 28,
     "metadata": {},
     "output_type": "execute_result"
    }
   ],
   "source": [
    "explore_data.get_num_words_per_sample(train)"
   ]
  },
  {
   "cell_type": "code",
   "execution_count": 29,
   "metadata": {},
   "outputs": [
    {
     "data": {
      "text/plain": [
       "181.0"
      ]
     },
     "execution_count": 29,
     "metadata": {},
     "output_type": "execute_result"
    }
   ],
   "source": [
    "explore_data.get_num_words_per_sample(val)"
   ]
  },
  {
   "cell_type": "code",
   "execution_count": 30,
   "metadata": {},
   "outputs": [
    {
     "data": {
      "text/plain": [
       "184.0"
      ]
     },
     "execution_count": 30,
     "metadata": {},
     "output_type": "execute_result"
    }
   ],
   "source": [
    "explore_data.get_num_words_per_sample(test)"
   ]
  },
  {
   "cell_type": "code",
   "execution_count": 31,
   "metadata": {},
   "outputs": [
    {
     "name": "stdout",
     "output_type": "stream",
     "text": [
      "Speech length percentiles\n",
      "    0     10    20    30     40     50     60     70     80     90      100\n",
      "0  31.0  42.0  61.0  90.0  131.0  185.0  250.0  342.0  484.0  775.0  8421.0\n"
     ]
    },
    {
     "data": {
      "image/png": "[encoded data removed]",
      "text/plain": [
       "<Figure size 1440x720 with 1 Axes>"
      ]
     },
     "metadata": {},
     "output_type": "display_data"
    }
   ],
   "source": [
    "reload(explore_data)\n",
    "explore_data.plot_sample_length_distribution(train)"
   ]
  },
  {
   "cell_type": "markdown",
   "metadata": {},
   "source": [
    "### Most popular unigrams (training only)"
   ]
  },
  {
   "cell_type": "code",
   "execution_count": 32,
   "metadata": {},
   "outputs": [
    {
     "data": {
      "text/plain": [
       "3199"
      ]
     },
     "execution_count": 32,
     "metadata": {},
     "output_type": "execute_result"
    }
   ],
   "source": [
    "train_sample = random.sample(train, int(len(train)*0.2))\n",
    "len(train_sample)"
   ]
  },
  {
   "cell_type": "code",
   "execution_count": 33,
   "metadata": {},
   "outputs": [
    {
     "name": "stdout",
     "output_type": "stream",
     "text": [
      "['the', 'of', 'to', 'and', 'in', 'that', 'is', 'for', 'this', 'it', 'we', 'on', 'be', 'have', 'not', 'as', 'are', 'by', 'with', 'will', 'from', 'mr', 'has', 'would', 'our', 'which', 'was', 'an', 'at', 'or', 'president', 'my', 'they', 'their', 'been', 'but', 'he', 'all', 'bill', 'his', 'who', 'do', 'if', 'these', 'amendment', 'there', 'more', 'one', 'time', 'committee']\n"
     ]
    },
    {
     "data": {
      "image/png": "[encoded data removed]",
      "text/plain": [
       "<Figure size 1440x720 with 1 Axes>"
      ]
     },
     "metadata": {},
     "output_type": "display_data"
    }
   ],
   "source": [
    "explore_data.plot_frequency_distribution_of_ngrams(train_sample, ngram_range=(1,1))"
   ]
  },
  {
   "cell_type": "markdown",
   "metadata": {},
   "source": [
    "### Most popular bigrams (training only)"
   ]
  },
  {
   "cell_type": "code",
   "execution_count": 34,
   "metadata": {},
   "outputs": [
    {
     "name": "stdout",
     "output_type": "stream",
     "text": [
      "['of the', 'in the', 'to the', 'it is', 'that the', 'for the', 'and the', 'on the', 'by the', 'mr president', 'to be', 'with the', 'of this', 'mr speaker', 'we are', 'we have', 'that we', 'will be', 'in this', 'that is', 'the united', 'the senate', 'united states', 'has been', 'from the', 'at the', 'have been', 'is the', 'would be', 'the gentleman', 'the house', 'is not', 'of our', 'do not', 'going to', 'the senator', 'senator from', 'my colleagues', 'there is', 'as the', 'the federal', 'the committee', 'the bill', 'the president', 'this is', 'this bill', 'one of', 'the same', 'to make', 'this amendment']\n"
     ]
    },
    {
     "data": {
      "image/png": "[encoded data removed]",
      "text/plain": [
       "<Figure size 1440x720 with 1 Axes>"
      ]
     },
     "metadata": {},
     "output_type": "display_data"
    }
   ],
   "source": [
    "explore_data.plot_frequency_distribution_of_ngrams(train_sample, ngram_range=(2,2))"
   ]
  },
  {
   "cell_type": "markdown",
   "metadata": {},
   "source": [
    "### Most popular trigrams (training only)"
   ]
  },
  {
   "cell_type": "code",
   "execution_count": 35,
   "metadata": {},
   "outputs": [
    {
     "name": "stdout",
     "output_type": "stream",
     "text": [
      "['the united states', 'the senator from', 'would like to', 'the gentleman from', 'one of the', 'the department of', 'chairman of the', 'are going to', 'of the united', 'the federal government', 'ask unanimous consent', 'the soviet union', 'in the record', 'of the senate', 'unanimous consent that', 'of the house', 'as well as', 'the american people', 'is going to', 'members of the', 'the fact that', 'in order to', 'percent of the', 'my colleagues to', 'it is not', 'there is no', 'member of the', 'we are going', 'in this country', 'that it is', 'that we have', 'in the united', 'the committee on', 'of my colleagues', 'the people of', 'the secretary of', 'house of representatives', 'going to be', 'the house of', 'that we are', 'be able to', 'in support of', 'some of the', 'part of the', 'mr president the', 'urge my colleagues', 'we do not', 'of the committee', 'the state of', 'in the senate']\n"
     ]
    },
    {
     "data": {
      "image/png": "[encoded data removed]",
      "text/plain": [
       "<Figure size 1440x720 with 1 Axes>"
      ]
     },
     "metadata": {},
     "output_type": "display_data"
    }
   ],
   "source": [
    "explore_data.plot_frequency_distribution_of_ngrams(train_sample, ngram_range=(3,3))"
   ]
  },
  {
   "cell_type": "code",
   "execution_count": 36,
   "metadata": {},
   "outputs": [],
   "source": [
    "congress = set([str(i) for i in range(97,115)])"
   ]
  },
  {
   "cell_type": "code",
   "execution_count": 37,
   "metadata": {},
   "outputs": [
    {
     "data": {
      "text/plain": [
       "15998"
      ]
     },
     "execution_count": 37,
     "metadata": {},
     "output_type": "execute_result"
    }
   ],
   "source": [
    "len(train)"
   ]
  },
  {
   "cell_type": "code",
   "execution_count": 38,
   "metadata": {},
   "outputs": [
    {
     "data": {
      "text/plain": [
       "{'date': '20090930',\n",
       " 'char_count': '1356',\n",
       " 'word_count': '244',\n",
       " 'speakerid': '111118281.0',\n",
       " 'Party': 'R',\n",
       " 'Congress': '111',\n",
       " 'Chamber': 'S',\n",
       " 'State': 'TN',\n",
       " 'Ethnicity': 'W',\n",
       " 'Age': '70.0',\n",
       " 'Age_lt_med': '0.0',\n",
       " 'NonWhite': '0.0',\n",
       " 'Female': '0.0',\n",
       " 'speaker': 'Mr. ALEXANDER',\n",
       " 'Full Name': 'ALEXANDER, LAMAR',\n",
       " 'match': 'exact',\n",
       " 'check': 1}"
      ]
     },
     "execution_count": 38,
     "metadata": {},
     "output_type": "execute_result"
    }
   ],
   "source": [
    "descr['1110063404']"
   ]
  },
  {
   "cell_type": "code",
   "execution_count": 39,
   "metadata": {},
   "outputs": [
    {
     "name": "stdout",
     "output_type": "stream",
     "text": [
      "\n",
      "For Congress 97 top 5 (3, 3) ngrams are:\n",
      "the united states\n",
      "the senator from\n",
      "would like to\n",
      "the gentleman from\n",
      "one of the\n",
      "--------------------\n"
     ]
    }
   ],
   "source": [
    "reload(explore_data)\n",
    "explore_data.ngrams_by_category(train, train_ids, descr, congress, 'Congress', p=0.3, top_n=5)"
   ]
  },
  {
   "cell_type": "markdown",
   "metadata": {},
   "source": [
    "## N-gram model"
   ]
  },
  {
   "cell_type": "markdown",
   "metadata": {},
   "source": [
    "Inspiration for code: https://developers.google.com/machine-learning/guides/text-classification/step-3"
   ]
  },
  {
   "cell_type": "markdown",
   "metadata": {},
   "source": [
    "### Pre-processing"
   ]
  },
  {
   "cell_type": "code",
   "execution_count": 40,
   "metadata": {},
   "outputs": [],
   "source": [
    "# Vectorization parameters\n",
    "# Range (inclusive) of n-gram sizes for tokenizing text.\n",
    "NGRAM_RANGE = (1, 2)\n",
    "\n",
    "# Minimum corpus frequency below which a token will be discarded.\n",
    "MIN_DOCUMENT_FREQUENCY = 5\n",
    "\n",
    "# Maximum proportion of corpus containing a word above which a token will be discarded.\n",
    "# Helps eliminate stop words\n",
    "MAX_DOCUMENT_FREQUENCY = 0.7\n",
    "\n",
    "# Limit on the number of features. We use the top 20K features.\n",
    "TOP_K = 20000\n",
    "\n",
    "# Output number of top/bottom scoring ngrams\n",
    "TOP_N = 5\n",
    "\n",
    "vec_params = {\n",
    "    'ngram_range': NGRAM_RANGE,\n",
    "    'min_df': MIN_DOCUMENT_FREQUENCY,\n",
    "    'max_df': MAX_DOCUMENT_FREQUENCY,\n",
    "    'top_k': TOP_K,\n",
    "    'top_n': TOP_N\n",
    "}"
   ]
  },
  {
   "cell_type": "code",
   "execution_count": 41,
   "metadata": {},
   "outputs": [
    {
     "name": "stdout",
     "output_type": "stream",
     "text": [
      "Total vocabulary size: 130869\n",
      "Number of stop words 1130446\n",
      "\n",
      "Top 5 ngrams by differentiating score:\n",
      "mr president \t 367.1\n",
      "consent \t 273.3\n",
      "unanimous \t 268.8\n",
      "unanimous consent \t 265.6\n",
      "president \t 238.5\n",
      "\n",
      "Bottom 5 ngrams by differentiating score:\n",
      "rejectionist \t 0.0\n",
      "the entitlements \t 0.0\n",
      "provoked \t 0.0\n",
      "know which \t 0.0\n",
      "representatives has \t 0.0\n"
     ]
    }
   ],
   "source": [
    "reload(preprocess_data)\n",
    "train_vec, val_vec, test_vec = preprocess_data.ngram_vectorize(train, train_target, val, test, **vec_params)"
   ]
  },
  {
   "cell_type": "code",
   "execution_count": 42,
   "metadata": {},
   "outputs": [
    {
     "data": {
      "text/plain": [
       "(15998, 5332, 5334)"
      ]
     },
     "execution_count": 42,
     "metadata": {},
     "output_type": "execute_result"
    }
   ],
   "source": [
    "len(train), len(val), len(test)"
   ]
  },
  {
   "cell_type": "code",
   "execution_count": 43,
   "metadata": {},
   "outputs": [
    {
     "data": {
      "text/plain": [
       "((15998, 20000), (5332, 20000), (5334, 20000))"
      ]
     },
     "execution_count": 43,
     "metadata": {},
     "output_type": "execute_result"
    }
   ],
   "source": [
    "train_vec.shape, val_vec.shape, test_vec.shape"
   ]
  },
  {
   "cell_type": "markdown",
   "metadata": {},
   "source": [
    "### Saving processed files"
   ]
  },
  {
   "cell_type": "code",
   "execution_count": 44,
   "metadata": {},
   "outputs": [
    {
     "data": {
      "text/plain": [
       "'/Users/fariamardhani/Berkeley/W266/W266-Final-Project/Classification'"
      ]
     },
     "execution_count": 44,
     "metadata": {},
     "output_type": "execute_result"
    }
   ],
   "source": [
    "pwd"
   ]
  },
  {
   "cell_type": "code",
   "execution_count": 45,
   "metadata": {},
   "outputs": [],
   "source": [
    "data_path = '../../FinalProject/saved_files'"
   ]
  },
  {
   "cell_type": "code",
   "execution_count": 46,
   "metadata": {},
   "outputs": [],
   "source": [
    "scipy.sparse.save_npz(os.path.join(data_path, 'train_vec.npz'), train_vec)\n",
    "scipy.sparse.save_npz(os.path.join(data_path, 'val_vec.npz'), val_vec)\n",
    "scipy.sparse.save_npz(os.path.join(data_path, 'test_vec.npz'), test_vec)"
   ]
  },
  {
   "cell_type": "code",
   "execution_count": 47,
   "metadata": {},
   "outputs": [],
   "source": [
    "train_vec = scipy.sparse.load_npz(os.path.join(data_path, 'train_vec.npz'))\n",
    "val_vec = scipy.sparse.load_npz(os.path.join(data_path, 'val_vec.npz'))\n",
    "test_vec = scipy.sparse.load_npz(os.path.join(data_path, 'test_vec.npz'))"
   ]
  },
  {
   "cell_type": "code",
   "execution_count": 48,
   "metadata": {},
   "outputs": [
    {
     "data": {
      "text/plain": [
       "((15998, 20000), (5332, 20000), (5334, 20000))"
      ]
     },
     "execution_count": 48,
     "metadata": {},
     "output_type": "execute_result"
    }
   ],
   "source": [
    "train_vec.shape, val_vec.shape, test_vec.shape"
   ]
  },
  {
   "cell_type": "code",
   "execution_count": 49,
   "metadata": {},
   "outputs": [],
   "source": [
    "with open(os.path.join(data_path, 'train_list'), 'wb') as fp:\n",
    "    pickle.dump(train, fp)\n",
    "with open(os.path.join(data_path, 'train_ids'), 'wb') as fp:\n",
    "    pickle.dump(train_ids, fp)\n",
    "with open(os.path.join(data_path, 'train_target'), 'wb') as fp:\n",
    "    pickle.dump(train_target, fp)\n",
    "with open(os.path.join(data_path, 'val_list'), 'wb') as fp:\n",
    "    pickle.dump(val, fp)\n",
    "with open(os.path.join(data_path, 'val_ids'), 'wb') as fp:\n",
    "    pickle.dump(val_ids, fp)\n",
    "with open(os.path.join(data_path, 'val_target'), 'wb') as fp:\n",
    "    pickle.dump(val_target, fp)\n",
    "with open(os.path.join(data_path, 'test_list'), 'wb') as fp:\n",
    "    pickle.dump(test, fp)\n",
    "with open(os.path.join(data_path, 'test_ids'), 'wb') as fp:\n",
    "    pickle.dump(test_ids, fp)\n",
    "with open(os.path.join(data_path, 'test_target'), 'wb') as fp:\n",
    "    pickle.dump(test_target, fp)"
   ]
  },
  {
   "cell_type": "code",
   "execution_count": 50,
   "metadata": {},
   "outputs": [
    {
     "data": {
      "text/plain": [
       "(7999, 2666, 2667)"
      ]
     },
     "execution_count": 50,
     "metadata": {},
     "output_type": "execute_result"
    }
   ],
   "source": [
    "sum(train_target), sum(val_target), sum(test_target)"
   ]
  },
  {
   "cell_type": "code",
   "execution_count": 51,
   "metadata": {},
   "outputs": [],
   "source": [
    "with open(os.path.join(data_path, 'train_list'), 'rb') as fp:\n",
    "    train = pickle.load(fp)\n",
    "with open(os.path.join(data_path, 'train_ids'), 'rb') as fp:\n",
    "    train_ids = pickle.load(fp)\n",
    "with open(os.path.join(data_path, 'train_target'), 'rb') as fp:\n",
    "    train_target = pickle.load(fp)\n",
    "with open(os.path.join(data_path, 'val_list'), 'rb') as fp:\n",
    "    val = pickle.load(fp)\n",
    "with open(os.path.join(data_path, 'val_ids'), 'rb') as fp:\n",
    "    val_ids = pickle.load(fp)\n",
    "with open(os.path.join(data_path, 'val_target'), 'rb') as fp:\n",
    "    val_target = pickle.load(fp)\n",
    "with open(os.path.join(data_path, 'test_list'), 'rb') as fp:\n",
    "    test = pickle.load(fp)\n",
    "with open(os.path.join(data_path, 'test_ids'), 'rb') as fp:\n",
    "    test_ids = pickle.load(fp)\n",
    "with open(os.path.join(data_path, 'test_target'), 'rb') as fp:\n",
    "    test_target = pickle.load(fp)"
   ]
  },
  {
   "cell_type": "code",
   "execution_count": 52,
   "metadata": {},
   "outputs": [
    {
     "data": {
      "text/plain": [
       "(7999, 2666, 2667)"
      ]
     },
     "execution_count": 52,
     "metadata": {},
     "output_type": "execute_result"
    }
   ],
   "source": [
    "sum(train_target), sum(val_target), sum(test_target)"
   ]
  },
  {
   "cell_type": "markdown",
   "metadata": {},
   "source": [
    "### Model: Multi-Layer Perceptron (Vanilla NN)"
   ]
  },
  {
   "cell_type": "code",
   "execution_count": 53,
   "metadata": {},
   "outputs": [],
   "source": [
    "logs_base_dir = '../../FinalProject/logs'"
   ]
  },
  {
   "cell_type": "code",
   "execution_count": 54,
   "metadata": {},
   "outputs": [],
   "source": [
    "ngram_model_params = {\n",
    "    'model': 'ngram',\n",
    "    'log_dir': logs_base_dir,\n",
    "    'learning_rate': 1e-3,\n",
    "    'epochs': 1000,\n",
    "    'batch_size': 128,\n",
    "    'layers': 2,\n",
    "    'units': 64,\n",
    "    'dropout_rate': 0.2\n",
    "}"
   ]
  },
  {
   "cell_type": "code",
   "execution_count": 55,
   "metadata": {},
   "outputs": [
    {
     "name": "stdout",
     "output_type": "stream",
     "text": [
      "Train on 15998 samples, validate on 5332 samples\n",
      "Epoch 1/1000\n",
      " - 18s - loss: 0.6472 - acc: 0.6575 - val_loss: 0.6436 - val_acc: 0.6217\n",
      "Epoch 2/1000\n",
      " - 18s - loss: 0.5330 - acc: 0.7692 - val_loss: 0.6311 - val_acc: 0.6332\n",
      "Epoch 3/1000\n",
      " - 17s - loss: 0.4237 - acc: 0.8432 - val_loss: 0.6415 - val_acc: 0.6298\n",
      "Epoch 4/1000\n",
      " - 17s - loss: 0.3394 - acc: 0.8862 - val_loss: 0.6648 - val_acc: 0.6285\n",
      "Validation accuracy: 0.6284696173149218, loss: 0.6647848848641947\n"
     ]
    }
   ],
   "source": [
    "reload(train_model)\n",
    "history, train_pred_probs, val_pred_probs = train_model.train_model(((train_vec, train_target), (val_vec, val_target)), **ngram_model_params)"
   ]
  },
  {
   "cell_type": "markdown",
   "metadata": {},
   "source": [
    "## Model evaluation"
   ]
  },
  {
   "cell_type": "code",
   "execution_count": 56,
   "metadata": {},
   "outputs": [
    {
     "data": {
      "text/plain": [
       "3351"
      ]
     },
     "execution_count": 56,
     "metadata": {},
     "output_type": "execute_result"
    }
   ],
   "source": [
    "val_preds = val_pred_probs > 0.5\n",
    "np.sum(val_preds.flatten()==val_target)"
   ]
  },
  {
   "cell_type": "code",
   "execution_count": 57,
   "metadata": {},
   "outputs": [
    {
     "name": "stdout",
     "output_type": "stream",
     "text": [
      "Confusion matrix, without normalization\n",
      "[[1581 1085]\n",
      " [ 896 1770]]\n"
     ]
    },
    {
     "data": {
      "text/plain": [
       "<matplotlib.axes._subplots.AxesSubplot at 0x1a6a32fcc0>"
      ]
     },
     "execution_count": 57,
     "metadata": {},
     "output_type": "execute_result"
    },
    {
     "data": {
      "image/png": "[encoded data removed]",
      "text/plain": [
       "<Figure size 432x288 with 2 Axes>"
      ]
     },
     "metadata": {},
     "output_type": "display_data"
    }
   ],
   "source": [
    "reload(explore_data)\n",
    "# specify class names in 0 - 1 order\n",
    "classes = ['Age_gt_med', 'Age_lt_med']\n",
    "explore_data.plot_confusion_matrix(val_target, val_preds, classes, normalize=True)"
   ]
  },
  {
   "cell_type": "code",
   "execution_count": 58,
   "metadata": {
    "scrolled": false
   },
   "outputs": [
    {
     "data": {
      "image/png": "[encoded data removed]",
      "text/plain": [
       "<Figure size 720x720 with 2 Axes>"
      ]
     },
     "metadata": {},
     "output_type": "display_data"
    }
   ],
   "source": [
    "reload(explore_data)\n",
    "explore_data.plot_calibration_curve(val_target, val_pred_probs, 'Ethnicity')"
   ]
  },
  {
   "cell_type": "code",
   "execution_count": 59,
   "metadata": {},
   "outputs": [
    {
     "data": {
      "text/plain": [
       "0.2897599399849963"
      ]
     },
     "execution_count": 59,
     "metadata": {},
     "output_type": "execute_result"
    }
   ],
   "source": [
    "val_random = np.random.choice(a=[0,1], size=len(val_target), p = [0.7,0.3])\n",
    "val_random.sum()/val_random.shape[0]"
   ]
  },
  {
   "cell_type": "code",
   "execution_count": 60,
   "metadata": {},
   "outputs": [
    {
     "data": {
      "text/plain": [
       "(1545, 1545, 1545)"
      ]
     },
     "execution_count": 60,
     "metadata": {},
     "output_type": "execute_result"
    }
   ],
   "source": [
    "val_sample, val_ids_sample, val_pred_probs_sample = [], [], []\n",
    "for i in range(len(val_ids)):\n",
    "    if val_random[i] == 1:\n",
    "        val_sample.append(val[i])\n",
    "        val_ids_sample.append(val_ids[i])\n",
    "        val_pred_probs_sample.append(val_pred_probs[i])\n",
    "len(val_sample), len(val_ids_sample), len(val_pred_probs_sample)"
   ]
  },
  {
   "cell_type": "code",
   "execution_count": 61,
   "metadata": {},
   "outputs": [
    {
     "name": "stderr",
     "output_type": "stream",
     "text": [
      "/anaconda3/lib/python3.6/site-packages/numpy/lib/arraysetops.py:472: FutureWarning: elementwise comparison failed; returning scalar instead, but in the future will perform elementwise comparison\n",
      "  mask |= (ar1 == a)\n"
     ]
    },
    {
     "data": {
      "text/plain": [
       "(2914464, 16)"
      ]
     },
     "execution_count": 61,
     "metadata": {},
     "output_type": "execute_result"
    }
   ],
   "source": [
    "descr_df = pd.read_csv('../data/QA/full_descr.txt', sep=\"|\", index_col=0)\n",
    "descr_df.shape"
   ]
  },
  {
   "cell_type": "code",
   "execution_count": 62,
   "metadata": {},
   "outputs": [
    {
     "name": "stdout",
     "output_type": "stream",
     "text": [
      "Validation sample means:\n",
      "      Gender_F  Ethinicity_NW     AvgAge   Party_D  Chamber_H  AvgWordCount\n",
      "base  0.079474       0.087358  58.324787  0.520156   0.563685    232.456109\n"
     ]
    },
    {
     "data": {
      "text/html": [
       "<div>\n",
       "<style scoped>\n",
       "    .dataframe tbody tr th:only-of-type {\n",
       "        vertical-align: middle;\n",
       "    }\n",
       "\n",
       "    .dataframe tbody tr th {\n",
       "        vertical-align: top;\n",
       "    }\n",
       "\n",
       "    .dataframe thead th {\n",
       "        text-align: right;\n",
       "    }\n",
       "</style>\n",
       "<table border=\"1\" class=\"dataframe\">\n",
       "  <thead>\n",
       "    <tr style=\"text-align: right;\">\n",
       "      <th></th>\n",
       "      <th>Gender_F</th>\n",
       "      <th>Ethinicity_NW</th>\n",
       "      <th>AvgAge</th>\n",
       "      <th>Party_D</th>\n",
       "      <th>Chamber_H</th>\n",
       "      <th>AvgWordCount</th>\n",
       "    </tr>\n",
       "  </thead>\n",
       "  <tbody>\n",
       "    <tr>\n",
       "      <th>0.4</th>\n",
       "      <td>0.15</td>\n",
       "      <td>0.37</td>\n",
       "      <td>0.95</td>\n",
       "      <td>0.86</td>\n",
       "      <td>0.72</td>\n",
       "      <td>1.10</td>\n",
       "    </tr>\n",
       "    <tr>\n",
       "      <th>0.6</th>\n",
       "      <td>0.40</td>\n",
       "      <td>0.54</td>\n",
       "      <td>0.89</td>\n",
       "      <td>1.00</td>\n",
       "      <td>1.06</td>\n",
       "      <td>1.43</td>\n",
       "    </tr>\n",
       "    <tr>\n",
       "      <th>1.0</th>\n",
       "      <td>0.49</td>\n",
       "      <td>0.56</td>\n",
       "      <td>0.84</td>\n",
       "      <td>1.06</td>\n",
       "      <td>1.17</td>\n",
       "      <td>1.67</td>\n",
       "    </tr>\n",
       "  </tbody>\n",
       "</table>\n",
       "</div>"
      ],
      "text/plain": [
       "     Gender_F  Ethinicity_NW  AvgAge  Party_D  Chamber_H  AvgWordCount\n",
       "0.4      0.15           0.37    0.95     0.86       0.72          1.10\n",
       "0.6      0.40           0.54    0.89     1.00       1.06          1.43\n",
       "1.0      0.49           0.56    0.84     1.06       1.17          1.67"
      ]
     },
     "execution_count": 62,
     "metadata": {},
     "output_type": "execute_result"
    }
   ],
   "source": [
    "reload(explore_data)\n",
    "explore_data.check_bin_probs_distr(val_pred_probs, val_ids, descr_df)"
   ]
  },
  {
   "cell_type": "code",
   "execution_count": 127,
   "metadata": {},
   "outputs": [
    {
     "name": "stdout",
     "output_type": "stream",
     "text": [
      "\n",
      "Top 10 ngrams by differentiating score:\n",
      "the senator from \t 11.6\n",
      "our national security \t 10.4\n",
      "the distinguished senator \t 10.2\n",
      "the distinguished senator from \t 10.0\n",
      "distinguished senator from \t 9.5\n",
      "one of the \t 9.1\n",
      "the soviet union \t 8.5\n",
      "mr president ask \t 8.4\n",
      "president ask unanimous \t 6.8\n",
      "president ask unanimous consent \t 6.8\n"
     ]
    },
    {
     "data": {
      "text/html": [
       "<div>\n",
       "<style scoped>\n",
       "    .dataframe tbody tr th:only-of-type {\n",
       "        vertical-align: middle;\n",
       "    }\n",
       "\n",
       "    .dataframe tbody tr th {\n",
       "        vertical-align: top;\n",
       "    }\n",
       "\n",
       "    .dataframe thead th {\n",
       "        text-align: right;\n",
       "    }\n",
       "</style>\n",
       "<table border=\"1\" class=\"dataframe\">\n",
       "  <thead>\n",
       "    <tr style=\"text-align: right;\">\n",
       "      <th>bin</th>\n",
       "      <th>1</th>\n",
       "      <th>2</th>\n",
       "      <th>3</th>\n",
       "    </tr>\n",
       "  </thead>\n",
       "  <tbody>\n",
       "    <tr>\n",
       "      <th>distinguished senator from</th>\n",
       "      <td>26.0</td>\n",
       "      <td>0.0</td>\n",
       "      <td>2.0</td>\n",
       "    </tr>\n",
       "    <tr>\n",
       "      <th>mr president ask</th>\n",
       "      <td>16.0</td>\n",
       "      <td>1.0</td>\n",
       "      <td>3.0</td>\n",
       "    </tr>\n",
       "    <tr>\n",
       "      <th>one of the</th>\n",
       "      <td>13.0</td>\n",
       "      <td>22.0</td>\n",
       "      <td>56.0</td>\n",
       "    </tr>\n",
       "    <tr>\n",
       "      <th>our national security</th>\n",
       "      <td>0.0</td>\n",
       "      <td>12.0</td>\n",
       "      <td>1.0</td>\n",
       "    </tr>\n",
       "    <tr>\n",
       "      <th>president ask unanimous</th>\n",
       "      <td>14.0</td>\n",
       "      <td>1.0</td>\n",
       "      <td>3.0</td>\n",
       "    </tr>\n",
       "    <tr>\n",
       "      <th>president ask unanimous consent</th>\n",
       "      <td>14.0</td>\n",
       "      <td>1.0</td>\n",
       "      <td>3.0</td>\n",
       "    </tr>\n",
       "    <tr>\n",
       "      <th>the distinguished senator</th>\n",
       "      <td>27.0</td>\n",
       "      <td>1.0</td>\n",
       "      <td>2.0</td>\n",
       "    </tr>\n",
       "    <tr>\n",
       "      <th>the distinguished senator from</th>\n",
       "      <td>25.0</td>\n",
       "      <td>0.0</td>\n",
       "      <td>2.0</td>\n",
       "    </tr>\n",
       "    <tr>\n",
       "      <th>the senator from</th>\n",
       "      <td>53.0</td>\n",
       "      <td>5.0</td>\n",
       "      <td>9.0</td>\n",
       "    </tr>\n",
       "    <tr>\n",
       "      <th>the soviet union</th>\n",
       "      <td>39.0</td>\n",
       "      <td>4.0</td>\n",
       "      <td>3.0</td>\n",
       "    </tr>\n",
       "  </tbody>\n",
       "</table>\n",
       "</div>"
      ],
      "text/plain": [
       "bin                                 1     2     3\n",
       "distinguished senator from       26.0   0.0   2.0\n",
       "mr president ask                 16.0   1.0   3.0\n",
       "one of the                       13.0  22.0  56.0\n",
       "our national security             0.0  12.0   1.0\n",
       "president ask unanimous          14.0   1.0   3.0\n",
       "president ask unanimous consent  14.0   1.0   3.0\n",
       "the distinguished senator        27.0   1.0   2.0\n",
       "the distinguished senator from   25.0   0.0   2.0\n",
       "the senator from                 53.0   5.0   9.0\n",
       "the soviet union                 39.0   4.0   3.0"
      ]
     },
     "execution_count": 127,
     "metadata": {},
     "output_type": "execute_result"
    }
   ],
   "source": [
    "reload(explore_data)\n",
    "explore_data.compare_ngrams(val, val_pred_probs)"
   ]
  },
  {
   "cell_type": "code",
   "execution_count": 63,
   "metadata": {},
   "outputs": [
    {
     "name": "stdout",
     "output_type": "stream",
     "text": [
      "\n",
      "In 0.4 bin top 10 ngrams:\n",
      "\n",
      "the senator from\n",
      "the united states\n",
      "ask unanimous consent\n",
      "the gentleman from\n",
      "unanimous consent that\n",
      "ask unanimous consent that\n",
      "of the senate\n",
      "the committee on\n",
      "of the bill\n",
      "would like to\n",
      "--------------------\n",
      "\n",
      "In 0.6 bin top 10 ngrams:\n",
      "\n",
      "the united states\n",
      "would like to\n",
      "the senator from\n",
      "are going to\n",
      "chairman of the\n",
      "the department of\n",
      "the federal government\n",
      "one of the\n",
      "in the record\n",
      "the gentleman from\n",
      "--------------------\n",
      "\n",
      "In 1.0 bin top 10 ngrams:\n",
      "\n",
      "the united states\n",
      "would like to\n",
      "the gentleman from\n",
      "the federal government\n",
      "one of the\n",
      "the senator from\n",
      "the american people\n",
      "my colleagues to\n",
      "as well as\n",
      "the soviet union\n",
      "--------------------\n"
     ]
    }
   ],
   "source": [
    "reload(explore_data)\n",
    "explore_data.ngrams_by_bin(val_sample, val_pred_probs_sample)"
   ]
  },
  {
   "cell_type": "code",
   "execution_count": 64,
   "metadata": {
    "scrolled": false
   },
   "outputs": [
    {
     "name": "stdout",
     "output_type": "stream",
     "text": [
      "\n",
      "True positive (Predicted prob: 0.94):\n",
      "\n",
      "date                    19820715\n",
      "char_count                  1622\n",
      "word_count                   281\n",
      "speakerid            9.71068e+07\n",
      "Party                          D\n",
      "Congress                      97\n",
      "Chamber                        H\n",
      "State                         GA\n",
      "Ethnicity                      W\n",
      "Age                           47\n",
      "Age_lt_med                     1\n",
      "NonWhite                       0\n",
      "Female                         0\n",
      "speaker             Mr. McDONALD\n",
      "Full Name     MCDONALD, LAWRENCE\n",
      "match                      fuzzy\n",
      "Name: 970199349, dtype: object\n",
      "\n",
      " Mr. Speaker. ear. lier today. I cast a \"nay\" vote on H.R. 6687. the socalled urgent supplemen tal appropriations. As the legislation July 15. 1982 CONGR allows the Federal Government to spend another $5.5 billion of the money earned by the taxpayers of this Nation. I had little difficulty in opposing it. However. I did not oppose all provisions of the bill. A provision of H.R. 6687 repeals the special tax benefits enacted last December. My position on the tax benefits has been clear: I was opposed to the legislation by which they were enacted and I have cosponsored legislation calling for their repeal. Furthermore. when given the opportunity to cast a separate vote on the issue. I have always voted for repeal and would have done so today if the provision had not been attached to a $5.5 billion spending bill. In my 8 years as a Member of Congress. I have never voted for a salary increase or special tax consideration. In fact. I have introduced legislation that calls for a 10percent decrease in congressional salaries for every year that the Federal budget is not balanced. It has become the practice of this Congress to obscure sensitive salary and tax issues in unrelated bills. Such practices must cease. If we are to deal with such issues. then we should do so openly and allow our votes to reflect our positions. I. for one. simply could not justify the continuation of the tax and tax. spend and spend policies of the Federal Government based soley on the presence of the repealer provision. Therefore. while supporting the repeal of the special tax benefits. I felt compelled to vote against the bill.e\n",
      "--------------------\n",
      "\n",
      "True negative (Predicted prob: 0.01):\n",
      "\n",
      "date               19810326\n",
      "char_count              687\n",
      "word_count              118\n",
      "speakerid       9.71048e+07\n",
      "Party                     R\n",
      "Congress                 97\n",
      "Chamber                   S\n",
      "State                    TN\n",
      "Ethnicity                 W\n",
      "Age                      57\n",
      "Age_lt_med                0\n",
      "NonWhite                  0\n",
      "Female                    0\n",
      "speaker           Mr. BAKER\n",
      "Full Name     BAKER, HOWARD\n",
      "match                 exact\n",
      "Name: 970014538, dtype: object\n",
      "\n",
      " Mr. President. I will inquire of the distinguished minority leader and the managers of the bill on both .sides what their preference may be in this respect. On previous occasions. we have considered committee amendments en bloc as original text. Absent that. as the Chair advised. we will proceed with committee amendments as they appear. I am prepared to do it either way. It appears to me that we might get to the substantive issues earlier. if we go with the business of aggregating the committee amendments en bloc. considering them en bloc. and treating them as original text. I will yield. so the distinguished minority leader or the managers of the bill may respond to that query.\n",
      "--------------------\n",
      "\n",
      "False positive (Predicted prob: 0.92):\n",
      "\n",
      "date                 19810127\n",
      "char_count               4120\n",
      "word_count                665\n",
      "speakerid         9.71064e+07\n",
      "Party                       R\n",
      "Congress                   97\n",
      "Chamber                     H\n",
      "State                      CA\n",
      "Ethnicity                   W\n",
      "Age                        55\n",
      "Age_lt_med                  0\n",
      "NonWhite                    0\n",
      "Female                      0\n",
      "speaker         Mr. ROUSSELOT\n",
      "Full Name     ROUSSELOT, JOHN\n",
      "match                   fuzzy\n",
      "Name: 970003556, dtype: object\n",
      "\n",
      " Mr. Speaker. sports is a way of life in America. and we all are proud when a local sports team is a winner. We have a winner in the 26th District of California. and I ask my colleagues In the House of Representatives to join me in honoring the Baldwin Park High School Braves for the teams great show of victory this football season. Under the leadership of Head Coach Trifone M. (Ty) Pagone and assistant coaches. Tony Zane. Larry Davis. Ron Mead. and Mike lunkins. the Baldwin Park Braves won the Montview League championship and the California Interscholastic Federations DesertMountain Cohference championship. culminating in an undefeated season. The Braves victoriously represented Baldwin Park. and brought prido and acclaim not only to the school. but. to the whole community. Coming from behind in 9 of the 13 games in which they competed. the Baldwin Park Braves demonstrated their confidence and ability to win when tinder pressure out on the playing field. During the season the Baldwin Park Braves scored 344 points to the opponents 120. piled up 4.189 yards to their opponents 2.576 and left two teams scoreless. Whenever one of the team members was injured. another came right off the bench. able to meet the challenge and fill the gap. Sixtyeight students made the varsity football roster for 1980. and 19 of the 22 members of the starting lineup will graduate this year. During Coach Pagones tour at Baldwin Park the football team has placed in lcague playoffs 5 of the 9 years. but this is the first time the team has been able to get through the second round in CIF playoffs. Needless to say. recruiters from all over the United States are now courting members of this outstanding team. Not willing to accept second spot. in the final playoff game the Braves faced the team that had been rated No. 1 throughout the season. and defeated that group 20 to 13. This was the only CIF division with two undefeated teams. Congratulations are in order for the Baldwin Park Braves. Members of the team did a terrific job. and Baldwin Park is very proud to claim its own football team as a big winner. We only hope this years team members travel the same route as Baldwin Park High Schools former student Freeman McNeill. who now plays for the UCLA Bruins and was recently named to the first AllAmerican team. Each and every member of the Braves deserves recognition for his hard and successful football playing. Following are their names: Denver Abner. George Alapag. Doug Allen. Sergio Alvarez. Walter Andretta. Mark Avila. Robert Bean. Gary Burney. Paul Bustamante. Anthony Cardenas. Arturo Carlos. Alan Casa. Carlos Cedeno. Armando Ceja. Hector Chavez. Jesse Chavez. Louis Chavez. Kel Christianson. John Corpus. Paul Corpus. Danny Creal. Greg Elias. George Escarrega. John Flores. and Brian Fontes. Other members include. Oscar Gallegos. Danny Garcia. Gary Glass. Mike Gray. Brian Guerrero. Carlos Guillen. John Henry. Michael Hoodye. Albert Jimenez. Robert Kirkland. John Leavelle. Doug Lee. Martin Lopez. Scott Masney. Danny Mendez. Alan Moore. Joey Mueller. Javier Murillo. Andres Ochoa. Pedro Padilla. Steve Parker. John Paul. Danny Perez. Sergio Reynosa. Eddie Reynoso. Jeff Richardson. Mario Rodriguez. and Enrique Ruelas. The rest of the 68 members are Sammy Ruiz. Ron Salazar. John Saldarriaga. Norman Santiago. Darrell Sawyer. Robert Scala. Mark Shonefield. Darryl A. Smith. Tim Staab. Robert Torres. Gilbert Valdez. Steve VanMierlo. Mike Villareal. and Robert White. Balwin Park Unified School District Board of Education members Margaret Burnett. Robert Ga*r. Clinton 0. Nixon. Bruce Snyder. and Robert Viramontes. along with Superintendent Jerry Holland and Principal William Barnholdt. all deserve recognition and thanks for providing the means and facilities to make this kind of participation. possible. Baldwin Park Mayor Jack White and City Councilmen Robert McNeill. Felipe Aguilar. Leo King. and Blair Holman passed a resolution commending the Baldwin Park Braves for public service. And the residents will honor this outstanding group of high school athletes on January 31 at a banquet.e\n",
      "--------------------\n",
      "\n",
      "False negative (Predicted prob: 0.10):\n",
      "\n",
      "date               19820323\n",
      "char_count             3418\n",
      "word_count              538\n",
      "speakerid       9.71082e+07\n",
      "Party                     D\n",
      "Congress                 97\n",
      "Chamber                   H\n",
      "State                    MD\n",
      "Ethnicity                 W\n",
      "Age                      34\n",
      "Age_lt_med                1\n",
      "NonWhite                  0\n",
      "Female                    0\n",
      "speaker           Mr. DYSON\n",
      "Full Name     DYSON, ROYDEN\n",
      "match                 fuzzy\n",
      "Name: 970149750, dtype: object\n",
      "\n",
      " Mr. Speaker. Americas preparedness is the very marrow of our ability to preserve our freedom. I would like to bring to the attention of my distinguished colleagues an article by Mr. William Postles which appeared in the Daily Times on February 27. 1982. Mr. Postles is the executive director of the Salisbury Chamber of Commerce. and from this position he has provided us with a unique perspective on our countrys preparedness. This article points to some of the discrepancies and inadequacies which have occured in our national civil defense program: Most of us do not think about civil defense. Those of us who do think about. it are usually recalling the hectie days of the 1950s when the Cold War was in full swing. Regardless of our personal interest. civil defense is acquiring some definIte proponents in Washington. The proposed federal budget will almost double the current spending for civil defense to $252 million. These budget figures suggest the seriousness with which our leaders are considering this particular subject. In September 1978. President Carter issued Presidential Directive 41. a policy decision which defined civil defense as a vital part of the United StatesRussia strategic balance. It stressed the need for increased protection of military and civilian leaders and members of the general public against the effects of the nuclear attack. The exact cost of assuring continuity of Government at such a terrible time is carefully scattered throughout the Federal budget in the same manner as much of the funding of the CIA. These measures would prevent nuclear decapitation of the leadership of this country. On the other hand. the civil defense protection program for the general public Is more detailed and generally available. Plans are being made to evacuate. in case of nuclear attack. 360 \"high risk areas.\" This procedure is referred to. in typical governmentese. as \"crisis relocation.\" These areas include 61 \"counterforce\" Largets. which would be found in the vicinity of missile sites. strategic bomber bases. and ports for submarines armed with ballistic missiles. In addition. 319 \"noncounterforce\" targets would be evacuated. They would include communications. Industrial. and financial centers. Plattsburg. N.Y.. a city of 23.000 and simiIr in size to the city of Salisbury. has been designated a \"counterforce\" highrisk area because it is located near an air force base which maintains nuclear weapons in its arsenal. \"Crisis relocation\" plans have developed to the point In Plattsburg that several pages of civil defense instructions are to be found in the local telephone book. Depending on his exact home location within Plattsburg. a resident will find separate evacuation routes designated for his use. The telephone book also lists various items to be taken with him (ax. credit cards. deeds. his will) and a list of things to leave home (all pets. in the basement. with a twoweek supply of food). Not everyone takes civil defense seriously and many peace groups oppose all efforts to step up civil defense preparations. Nevertheless. preparations go forward. A civilianmilitary contingency hospital system is being assembled with certain hospitals being asked to set aside beds for possible use. Assuming at least a week of rising international tension before \"crisis relocation\" becomes necessary. the Federal Emergency Management Agency has already distributE 1161\n",
      "--------------------\n"
     ]
    }
   ],
   "source": [
    "reload(explore_data)\n",
    "explore_data.print_mispredictions(val_target, val_pred_probs, val, val_ids, descr_df)"
   ]
  },
  {
   "cell_type": "code",
   "execution_count": null,
   "metadata": {},
   "outputs": [],
   "source": []
  }
 ],
 "metadata": {
  "kernelspec": {
   "display_name": "Python 3",
   "language": "python",
   "name": "python3"
  },
  "language_info": {
   "codemirror_mode": {
    "name": "ipython",
    "version": 3
   },
   "file_extension": ".py",
   "mimetype": "text/x-python",
   "name": "python",
   "nbconvert_exporter": "python",
   "pygments_lexer": "ipython3",
   "version": "3.6.5"
  }
 },
 "nbformat": 4,
 "nbformat_minor": 2
}
