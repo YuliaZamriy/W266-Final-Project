{
 "cells": [
  {
   "cell_type": "code",
   "execution_count": 2,
   "metadata": {},
   "outputs": [
    {
     "data": {
      "text/plain": [
       "2"
      ]
     },
     "execution_count": 2,
     "metadata": {},
     "output_type": "execute_result"
    }
   ],
   "source": [
    "1+1"
   ]
  },
  {
   "cell_type": "code",
   "execution_count": 3,
   "metadata": {},
   "outputs": [
    {
     "data": {
      "text/html": [
       "<style>.container { width:100% !important; }</style>"
      ],
      "text/plain": [
       "<IPython.core.display.HTML object>"
      ]
     },
     "metadata": {},
     "output_type": "display_data"
    }
   ],
   "source": [
    "# increase cell width\n",
    "from IPython.core.display import display, HTML\n",
    "display(HTML(\"<style>.container { width:100% !important; }</style>\"))"
   ]
  },
  {
   "cell_type": "markdown",
   "metadata": {},
   "source": [
    "Inspiration for code:\n",
    "\n",
    "- https://developers.google.com/machine-learning/guides/text-classification/\n",
    "- https://github.com/google/eng-edu/blob/master/ml/guides/text_classification/load_data.py"
   ]
  },
  {
   "cell_type": "code",
   "execution_count": 4,
   "metadata": {},
   "outputs": [],
   "source": [
    "from __future__ import absolute_import\n",
    "from __future__ import division\n",
    "from __future__ import print_function\n",
    "\n",
    "import os\n",
    "import random\n",
    "import time\n",
    "import pickle\n",
    "\n",
    "import numpy as np\n",
    "import pandas as pd\n",
    "\n",
    "from importlib import reload\n",
    "\n",
    "import scipy.sparse"
   ]
  },
  {
   "cell_type": "code",
   "execution_count": 62,
   "metadata": {},
   "outputs": [],
   "source": [
    "from helpers import load_data\n",
    "from helpers import explore_data\n",
    "from helpers import preprocess_data\n",
    "from helpers import train_model"
   ]
  },
  {
   "cell_type": "markdown",
   "metadata": {},
   "source": [
    "## Load the data"
   ]
  },
  {
   "cell_type": "code",
   "execution_count": 6,
   "metadata": {},
   "outputs": [
    {
     "data": {
      "text/plain": [
       "'/home/fbm221/W266FinalProject/Code'"
      ]
     },
     "execution_count": 6,
     "metadata": {},
     "output_type": "execute_result"
    }
   ],
   "source": [
    "pwd"
   ]
  },
  {
   "cell_type": "code",
   "execution_count": 7,
   "metadata": {},
   "outputs": [],
   "source": [
    "data_path = '/home/fbm221/W266FinalProject/Data'"
   ]
  },
  {
   "cell_type": "code",
   "execution_count": 8,
   "metadata": {},
   "outputs": [
    {
     "name": "stdout",
     "output_type": "stream",
     "text": [
      "\n",
      "File speeches_097.txt has 48234496 characters\n",
      "and 42332 speeches\n",
      "\n",
      "Speeches list has 42332 speeches\n",
      "\n",
      "File speeches_098.txt has 26214400 characters\n",
      "and 23022 speeches\n",
      "\n",
      "Speeches list has 65354 speeches\n",
      "\n",
      "File speeches_099.txt has 25165824 characters\n",
      "and 17636 speeches\n",
      "\n",
      "Speeches list has 82990 speeches\n",
      "\n",
      "File speeches_100.txt has 25165824 characters\n",
      "and 18302 speeches\n",
      "\n",
      "Speeches list has 101292 speeches\n",
      "\n",
      "File speeches_101.txt has 25165824 characters\n",
      "and 16470 speeches\n",
      "\n",
      "Speeches list has 117762 speeches\n",
      "\n",
      "File speeches_102.txt has 25165824 characters\n",
      "and 16522 speeches\n",
      "\n",
      "Speeches list has 134284 speeches\n",
      "\n",
      "File speeches_103.txt has 25165824 characters\n",
      "and 20033 speeches\n",
      "\n",
      "Speeches list has 154317 speeches\n",
      "\n",
      "File speeches_104.txt has 25165824 characters\n",
      "and 25778 speeches\n",
      "\n",
      "Speeches list has 180095 speeches\n",
      "\n",
      "File speeches_105.txt has 25165824 characters\n",
      "and 17084 speeches\n",
      "\n",
      "Speeches list has 197179 speeches\n",
      "\n",
      "File speeches_106.txt has 25165824 characters\n",
      "and 18316 speeches\n",
      "\n",
      "Speeches list has 215495 speeches\n",
      "\n",
      "File speeches_107.txt has 25165824 characters\n",
      "and 18948 speeches\n",
      "\n",
      "Speeches list has 234443 speeches\n",
      "\n",
      "File speeches_108.txt has 25165824 characters\n",
      "and 18952 speeches\n",
      "\n",
      "Speeches list has 253395 speeches\n",
      "\n",
      "File speeches_109.txt has 25165824 characters\n",
      "and 17799 speeches\n",
      "\n",
      "Speeches list has 271194 speeches\n",
      "\n",
      "File speeches_110.txt has 25165824 characters\n",
      "and 18608 speeches\n",
      "\n",
      "Speeches list has 289802 speeches\n",
      "\n",
      "File speeches_111.txt has 25165824 characters\n",
      "and 20712 speeches\n",
      "\n",
      "Speeches list has 310514 speeches\n",
      "\n",
      "File speeches_112.txt has 24117248 characters\n",
      "and 20607 speeches\n",
      "\n",
      "Speeches list has 331121 speeches\n",
      "\n",
      "File speeches_113.txt has 24117248 characters\n",
      "and 19247 speeches\n",
      "\n",
      "Speeches list has 350368 speeches\n",
      "\n",
      "File speeches_114.txt has 130969173 characters\n",
      "and 112291 speeches\n",
      "\n",
      "Speeches list has 462659 speeches\n"
     ]
    }
   ],
   "source": [
    "reload(load_data)\n",
    "all_speech_ids, all_speeches = load_data.load_speech_data(data_path)"
   ]
  },
  {
   "cell_type": "code",
   "execution_count": 9,
   "metadata": {},
   "outputs": [
    {
     "data": {
      "text/plain": [
       "(462659, 462659)"
      ]
     },
     "execution_count": 9,
     "metadata": {},
     "output_type": "execute_result"
    }
   ],
   "source": [
    "len(all_speech_ids), len(all_speeches)"
   ]
  },
  {
   "cell_type": "markdown",
   "metadata": {},
   "source": [
    "## Create target labels"
   ]
  },
  {
   "cell_type": "code",
   "execution_count": 16,
   "metadata": {},
   "outputs": [],
   "source": [
    "# OPEN descr FROM A SAVED FILE (if it was previously saved)\n",
    "outdata_path = '/home/fbm221/W266FinalProject/Data'\n",
    "#descr = pickle.load(open(os.path.join(outdata_path, 'descr.p'), 'rb'))"
   ]
  },
  {
   "cell_type": "code",
   "execution_count": 11,
   "metadata": {},
   "outputs": [],
   "source": [
    "#len(descr)"
   ]
  },
  {
   "cell_type": "code",
   "execution_count": 12,
   "metadata": {},
   "outputs": [
    {
     "name": "stdout",
     "output_type": "stream",
     "text": [
      "2906043 lines have been read\n",
      "36352 keys had duplicates and deleted\n",
      "The dictionary has 2803420 keys\n",
      "\n",
      "Random congressperson: 1090182100\n",
      "date 20061114\n",
      "char_count 278\n",
      "word_count 49\n",
      "speakerid 109112991.0\n",
      "Party R\n",
      "Congress 109\n",
      "Chamber S\n",
      "State TN\n",
      "Ethnicity W\n",
      "Age 54.0\n",
      "Age_lt_med 1.0\n",
      "NonWhite 0.0\n",
      "Female 0.0\n",
      "speaker Mr. FRIST\n",
      "Full Name FRIST, WILLIAM\n",
      "match exact\n",
      "check 1\n",
      "\n",
      "It took 21.9 seconds to create the dictionary\n"
     ]
    }
   ],
   "source": [
    "reload(load_data)\n",
    "start_time = time.time()\n",
    "# taking a 30% sample of the full description file\n",
    "descr = load_data.load_descr_data('/home/fbm221/W266FinalProject/Data/full_descr.txt')\n",
    "print(\"\\nIt took {0:.1f} seconds to create the dictionary\".format(time.time()-start_time))"
   ]
  },
  {
   "cell_type": "code",
   "execution_count": 13,
   "metadata": {},
   "outputs": [
    {
     "data": {
      "text/plain": [
       "0.9618989975515223"
      ]
     },
     "execution_count": 13,
     "metadata": {},
     "output_type": "execute_result"
    }
   ],
   "source": [
    "# check if sampling worked\n",
    "len(list(descr.keys()))/2914464"
   ]
  },
  {
   "cell_type": "code",
   "execution_count": 14,
   "metadata": {},
   "outputs": [
    {
     "data": {
      "text/plain": [
       "462659"
      ]
     },
     "execution_count": 14,
     "metadata": {},
     "output_type": "execute_result"
    }
   ],
   "source": [
    "ethnicity = load_data.create_target_labels(all_speech_ids, descr)[1]\n",
    "len(ethnicity)"
   ]
  },
  {
   "cell_type": "markdown",
   "metadata": {},
   "source": [
    "### Save descr dictionary"
   ]
  },
  {
   "cell_type": "code",
   "execution_count": 17,
   "metadata": {},
   "outputs": [],
   "source": [
    "pickle.dump(descr, open(os.path.join(outdata_path, 'descr.p'), 'wb'))"
   ]
  },
  {
   "cell_type": "markdown",
   "metadata": {},
   "source": [
    "### Data QA"
   ]
  },
  {
   "cell_type": "code",
   "execution_count": 18,
   "metadata": {},
   "outputs": [
    {
     "data": {
      "text/html": [
       "<div>\n",
       "<style scoped>\n",
       "    .dataframe tbody tr th:only-of-type {\n",
       "        vertical-align: middle;\n",
       "    }\n",
       "\n",
       "    .dataframe tbody tr th {\n",
       "        vertical-align: top;\n",
       "    }\n",
       "\n",
       "    .dataframe thead th {\n",
       "        text-align: right;\n",
       "    }\n",
       "</style>\n",
       "<table border=\"1\" class=\"dataframe\">\n",
       "  <thead>\n",
       "    <tr style=\"text-align: right;\">\n",
       "      <th></th>\n",
       "      <th>Category</th>\n",
       "      <th>Count</th>\n",
       "    </tr>\n",
       "  </thead>\n",
       "  <tbody>\n",
       "    <tr>\n",
       "      <th>0</th>\n",
       "      <td>-1</td>\n",
       "      <td>135139</td>\n",
       "    </tr>\n",
       "    <tr>\n",
       "      <th>1</th>\n",
       "      <td>0</td>\n",
       "      <td>293987</td>\n",
       "    </tr>\n",
       "    <tr>\n",
       "      <th>2</th>\n",
       "      <td>1</td>\n",
       "      <td>33533</td>\n",
       "    </tr>\n",
       "  </tbody>\n",
       "</table>\n",
       "</div>"
      ],
      "text/plain": [
       "<IPython.core.display.HTML object>"
      ]
     },
     "metadata": {},
     "output_type": "display_data"
    }
   ],
   "source": [
    "explore_data.get_counts(ethnicity)"
   ]
  },
  {
   "cell_type": "code",
   "execution_count": 19,
   "metadata": {},
   "outputs": [
    {
     "name": "stdout",
     "output_type": "stream",
     "text": [
      "Speaker information\n",
      "date 20150429\n",
      "char_count 101\n",
      "word_count 18\n",
      "speakerid 114120190.0\n",
      "Party D\n",
      "Congress 114\n",
      "Chamber H\n",
      "State CA\n",
      "Ethnicity B\n",
      "Age 70.0\n",
      "Age_lt_med 0.0\n",
      "NonWhite 1.0\n",
      "Female 1.0\n",
      "speaker Ms. JACKSON LEE\n",
      "Full Name LEE, BARBARA\n",
      "match exact\n",
      "check 1\n",
      "\n",
      "Mr. Chairman. I have an amendment at the desk. The Acting CHAIR. The Clerk will report the amendment.\n"
     ]
    }
   ],
   "source": [
    "reload(explore_data)\n",
    "explore_data.random_speech(all_speeches, all_speech_ids, ethnicity, descr)"
   ]
  },
  {
   "cell_type": "markdown",
   "metadata": {},
   "source": [
    "# Ethnicity Model"
   ]
  },
  {
   "cell_type": "markdown",
   "metadata": {},
   "source": [
    "## Split into train, validate, test"
   ]
  },
  {
   "cell_type": "code",
   "execution_count": 20,
   "metadata": {},
   "outputs": [
    {
     "name": "stdout",
     "output_type": "stream",
     "text": [
      "Training split: 14140 ones and 14140 zeroes\n",
      "Training speech list size: 28280\n",
      "Training target list size: 28280\n",
      "Validation split: 4713 ones and 4713 zeroes\n",
      "Validation speech list size: 9426\n",
      "Validation target list size: 9426\n",
      "Test split: 4714 ones and 4714 zeroes\n",
      "Test speech list size: 9428\n",
      "Test target list size: 9428\n"
     ]
    }
   ],
   "source": [
    "reload(preprocess_data)\n",
    "train, train_ids, train_target, val, val_ids, val_target, test, test_ids, test_target = preprocess_data.split_train_val_test(all_speeches, all_speech_ids, ethnicity, descr)"
   ]
  },
  {
   "cell_type": "code",
   "execution_count": 21,
   "metadata": {},
   "outputs": [
    {
     "data": {
      "text/plain": [
       "(14140, 4713, 4714)"
      ]
     },
     "execution_count": 21,
     "metadata": {},
     "output_type": "execute_result"
    }
   ],
   "source": [
    "sum(train_target), sum(val_target), sum(test_target)"
   ]
  },
  {
   "cell_type": "code",
   "execution_count": 22,
   "metadata": {},
   "outputs": [
    {
     "data": {
      "text/plain": [
       "9966"
      ]
     },
     "execution_count": 22,
     "metadata": {},
     "output_type": "execute_result"
    }
   ],
   "source": [
    "# number of speeches under 30 words\n",
    "sum(np.array(ethnicity)==1) - (sum(train_target) + sum(val_target) + sum(test_target))"
   ]
  },
  {
   "cell_type": "code",
   "execution_count": 23,
   "metadata": {},
   "outputs": [
    {
     "name": "stdout",
     "output_type": "stream",
     "text": [
      "Speaker information\n",
      "date 20160621\n",
      "char_count 1165\n",
      "word_count 192\n",
      "speakerid 114123100.0\n",
      "Party D\n",
      "Congress 114\n",
      "Chamber H\n",
      "State MI\n",
      "Ethnicity B\n",
      "Age 62.0\n",
      "Age_lt_med 0.0\n",
      "NonWhite 1.0\n",
      "Female 1.0\n",
      "speaker Mrs. LAWRENCE\n",
      "Full Name LAWRENCE, BRENDA\n",
      "match exact\n",
      "check 1\n",
      "\n",
      "Mr. Speaker. I yield myself such time as I may consume. Mr. Speaker. I rise in support of H.R. 4902. a bipartisan bill sponsored by some of my colleagues on the Oversight and Government Reform Committee. Representatives HURD. CONNOLLY. and LUJAN GRISHAM. I thank them for their good work on this important legislation. This legislation would establish a uniform pay system for law enforcement officers of the Customs and Border Protections Air and Marine Operations. who are currently paid overtime pay under three different systems. and it will make it more efficient for the agency to administer staff overtime. The bill will convert the pay system for AMO officers to Law Enforcement Availability Pay. a system used by many other Federal agencies. including the FBI. DEA. and the U.S. Marshals Service. As stated by my colleague. Mr. HURD. the Congressional Budget Office estimates that this legislation will reduce AMOs costs by $2 million a year. I would also like to note that the Federal Law Enforcement Officers Association supports this legislation. I urge my colleagues to join me in supporting H.R. 4902. Mr. Speaker. I yield back the balance of my time.\n"
     ]
    }
   ],
   "source": [
    "# random speech from a train set where gender=1\n",
    "explore_data.random_speech(train, train_ids, train_target, descr)"
   ]
  },
  {
   "cell_type": "markdown",
   "metadata": {},
   "source": [
    "#### Cleanup"
   ]
  },
  {
   "cell_type": "code",
   "execution_count": 24,
   "metadata": {},
   "outputs": [
    {
     "name": "stdout",
     "output_type": "stream",
     "text": [
      "Variable          Type        Data/Info\n",
      "---------------------------------------\n",
      "HTML              type        <class 'IPython.core.display.HTML'>\n",
      "absolute_import   _Feature    _Feature((2, 5, 0, 'alpha<...>0, 0, 'alpha', 0), 16384)\n",
      "all_speech_ids    list        n=462659\n",
      "all_speeches      list        n=462659\n",
      "data_path         str         /home/fbm221/W266FinalProject/Data\n",
      "descr             dict        n=2803420\n",
      "display           function    <function display at 0x7f7d269e61e0>\n",
      "division          _Feature    _Feature((2, 2, 0, 'alpha<...> 0, 0, 'alpha', 0), 8192)\n",
      "ethnicity         list        n=462659\n",
      "explore_data      module      <module 'helpers.explore_<...>helpers/explore_data.py'>\n",
      "load_data         module      <module 'helpers.load_dat<...>de/helpers/load_data.py'>\n",
      "np                module      <module 'numpy' from '/ho<...>kages/numpy/__init__.py'>\n",
      "os                module      <module 'os' from '/home/<...>da3/lib/python3.6/os.py'>\n",
      "outdata_path      str         /home/fbm221/W266FinalProject/Data\n",
      "pd                module      <module 'pandas' from '/h<...>ages/pandas/__init__.py'>\n",
      "pickle            module      <module 'pickle' from '/h<...>lib/python3.6/pickle.py'>\n",
      "preprocess_data   module      <module 'helpers.preproce<...>pers/preprocess_data.py'>\n",
      "print_function    _Feature    _Feature((2, 6, 0, 'alpha<...>0, 0, 'alpha', 0), 65536)\n",
      "random            module      <module 'random' from '/h<...>lib/python3.6/random.py'>\n",
      "reload            function    <function reload at 0x7f7d29c6c9d8>\n",
      "scipy             module      <module 'scipy' from '/ho<...>kages/scipy/__init__.py'>\n",
      "start_time        float       1554171991.2798321\n",
      "test              list        n=9428\n",
      "test_ids          list        n=9428\n",
      "test_target       list        n=9428\n",
      "time              module      <module 'time' (built-in)>\n",
      "train             list        n=28280\n",
      "train_ids         list        n=28280\n",
      "train_target      list        n=28280\n",
      "val               list        n=9426\n",
      "val_ids           list        n=9426\n",
      "val_target        list        n=9426\n"
     ]
    }
   ],
   "source": [
    "%whos"
   ]
  },
  {
   "cell_type": "code",
   "execution_count": 25,
   "metadata": {},
   "outputs": [],
   "source": [
    "del all_speech_ids"
   ]
  },
  {
   "cell_type": "code",
   "execution_count": 26,
   "metadata": {},
   "outputs": [],
   "source": [
    "del all_speeches"
   ]
  },
  {
   "cell_type": "code",
   "execution_count": 27,
   "metadata": {},
   "outputs": [],
   "source": [
    "del ethnicity"
   ]
  },
  {
   "cell_type": "markdown",
   "metadata": {},
   "source": [
    "## EDA on train data"
   ]
  },
  {
   "cell_type": "markdown",
   "metadata": {},
   "source": [
    "Source: https://developers.google.com/machine-learning/guides/text-classification/step-2"
   ]
  },
  {
   "cell_type": "markdown",
   "metadata": {},
   "source": [
    "### Check median number of words per sample in train/val/test"
   ]
  },
  {
   "cell_type": "code",
   "execution_count": 28,
   "metadata": {},
   "outputs": [
    {
     "data": {
      "text/plain": [
       "<module 'helpers.explore_data' from '/home/fbm221/W266FinalProject/Code/helpers/explore_data.py'>"
      ]
     },
     "execution_count": 28,
     "metadata": {},
     "output_type": "execute_result"
    }
   ],
   "source": [
    "reload(explore_data)"
   ]
  },
  {
   "cell_type": "code",
   "execution_count": 29,
   "metadata": {},
   "outputs": [
    {
     "data": {
      "text/plain": [
       "253.0"
      ]
     },
     "execution_count": 29,
     "metadata": {},
     "output_type": "execute_result"
    }
   ],
   "source": [
    "explore_data.get_num_words_per_sample(train)"
   ]
  },
  {
   "cell_type": "code",
   "execution_count": 30,
   "metadata": {},
   "outputs": [
    {
     "data": {
      "text/plain": [
       "256.0"
      ]
     },
     "execution_count": 30,
     "metadata": {},
     "output_type": "execute_result"
    }
   ],
   "source": [
    "explore_data.get_num_words_per_sample(val)"
   ]
  },
  {
   "cell_type": "code",
   "execution_count": 31,
   "metadata": {},
   "outputs": [
    {
     "data": {
      "text/plain": [
       "253.5"
      ]
     },
     "execution_count": 31,
     "metadata": {},
     "output_type": "execute_result"
    }
   ],
   "source": [
    "explore_data.get_num_words_per_sample(test)"
   ]
  },
  {
   "cell_type": "code",
   "execution_count": 32,
   "metadata": {},
   "outputs": [
    {
     "name": "stdout",
     "output_type": "stream",
     "text": [
      "Speech length percentiles\n",
      "    0     10    20     30     40     50     60     70     80     90       100\n",
      "0  31.0  48.0  89.0  146.0  195.0  253.0  330.0  424.0  578.0  860.0  21422.0\n"
     ]
    },
    {
     "data": {
      "image/png": "[encoded data removed]",
      "text/plain": [
       "<Figure size 1440x720 with 1 Axes>"
      ]
     },
     "metadata": {},
     "output_type": "display_data"
    }
   ],
   "source": [
    "explore_data.plot_sample_length_distribution(train)"
   ]
  },
  {
   "cell_type": "markdown",
   "metadata": {},
   "source": [
    "### Most popular unigrams (training only)"
   ]
  },
  {
   "cell_type": "code",
   "execution_count": 33,
   "metadata": {},
   "outputs": [
    {
     "data": {
      "text/plain": [
       "5656"
      ]
     },
     "execution_count": 33,
     "metadata": {},
     "output_type": "execute_result"
    }
   ],
   "source": [
    "# take a sample to avoid running out of memory\n",
    "train_sample = random.sample(train, int(len(train)*0.2))\n",
    "len(train_sample)"
   ]
  },
  {
   "cell_type": "code",
   "execution_count": 34,
   "metadata": {},
   "outputs": [
    {
     "name": "stdout",
     "output_type": "stream",
     "text": [
      "['the', 'to', 'of', 'and', 'in', 'that', 'is', 'for', 'this', 'we', 'it', 'on', 'have', 'are', 'as', 'be', 'not', 'our', 'with', 'will', 'by', 'mr', 'from', 'has', 'was', 'they', 'would', 'my', 'their', 'an', 'at', 'who', 'he', 'but', 'or', 'all', 'his', 'president', 'bill', 'do', 'which', 'people', 'speaker', 'these', 'been', 'what', 'you', 'more', 'there', 'so']\n"
     ]
    },
    {
     "data": {
      "image/png": "[encoded data removed]",
      "text/plain": [
       "<Figure size 1440x720 with 1 Axes>"
      ]
     },
     "metadata": {},
     "output_type": "display_data"
    }
   ],
   "source": [
    "explore_data.plot_frequency_distribution_of_ngrams(train_sample, ngram_range=(1,1))"
   ]
  },
  {
   "cell_type": "markdown",
   "metadata": {},
   "source": [
    "### Most popular bigrams (training only)"
   ]
  },
  {
   "cell_type": "code",
   "execution_count": 35,
   "metadata": {},
   "outputs": [
    {
     "name": "stdout",
     "output_type": "stream",
     "text": [
      "['of the', 'in the', 'to the', 'it is', 'and the', 'on the', 'for the', 'mr speaker', 'that the', 'to be', 'we have', 'that is', 'we are', 'that we', 'by the', 'with the', 'the united', 'united states', 'of this', 'is the', 'mr president', 'will be', 'at the', 'in this', 'from the', 'of our', 'my colleagues', 'has been', 'going to', 'this bill', 'is not', 'want to', 'the senate', 'this is', 'have been', 'to do', 'the president', 'the american', 'there is', 'the house', 'the bill', 'they are', 'one of', 'as the', 'do not', 'would be', 'the federal', 'of my', 'to make', 'the gentleman']\n"
     ]
    },
    {
     "data": {
      "image/png": "[encoded data removed]",
      "text/plain": [
       "<Figure size 1440x720 with 1 Axes>"
      ]
     },
     "metadata": {},
     "output_type": "display_data"
    }
   ],
   "source": [
    "explore_data.plot_frequency_distribution_of_ngrams(train_sample, ngram_range=(2,2))"
   ]
  },
  {
   "cell_type": "markdown",
   "metadata": {},
   "source": [
    "### Most popular trigrams (training only)"
   ]
  },
  {
   "cell_type": "markdown",
   "metadata": {},
   "source": [
    "#### Run this only on small samples"
   ]
  },
  {
   "cell_type": "code",
   "execution_count": 36,
   "metadata": {},
   "outputs": [
    {
     "name": "stdout",
     "output_type": "stream",
     "text": [
      "['the united states', 'one of the', 'the american people', 'my colleagues to', 'the gentleman from', 'are going to', 'of the united', 'would like to', 'the department of', 'mr speaker rise', 'we need to', 'be able to', 'urge my colleagues', 'the federal government', 'as well as', 'member of the', 'in the united', 'ask unanimous consent', 'we are going', 'rise today to', 'speaker rise today', 'in order to', 'it is not', 'that we have', 'unanimous consent that', 'there is no', 'that we are', 'the committee on', 'percent of the', 'the senator from', 'the fact that', 'the people of', 'of the senate', 'some of the', 'the balance of', 'of my time', 'is going to', 'part of the', 'men and women', 'in support of', 'balance of my', 'of the aisle', 'the state of', 'members of the', 'that is the', 'in this country', 'house of representatives', 'chairman of the', 'of the house', 'of my colleagues']\n"
     ]
    },
    {
     "data": {
      "image/png": "[encoded data removed]",
      "text/plain": [
       "<Figure size 1440x720 with 1 Axes>"
      ]
     },
     "metadata": {},
     "output_type": "display_data"
    }
   ],
   "source": [
    "explore_data.plot_frequency_distribution_of_ngrams(train_sample, ngram_range=(3,3))"
   ]
  },
  {
   "cell_type": "code",
   "execution_count": 37,
   "metadata": {},
   "outputs": [],
   "source": [
    "congress = set([str(i) for i in range(97,115)])"
   ]
  },
  {
   "cell_type": "code",
   "execution_count": 38,
   "metadata": {
    "scrolled": false
   },
   "outputs": [
    {
     "name": "stdout",
     "output_type": "stream",
     "text": [
      "\n",
      "For Congress 103 top 5 (3, 3) ngrams are:\n",
      "the united states\n",
      "are going to\n",
      "one of the\n",
      "the american people\n",
      "my colleagues to\n",
      "--------------------\n",
      "\n",
      "For Congress 104 top 5 (3, 3) ngrams are:\n",
      "balanced budget amendment\n",
      "the american people\n",
      "the balanced budget\n",
      "the gentleman from\n",
      "the united states\n",
      "--------------------\n",
      "\n",
      "For Congress 105 top 5 (3, 3) ngrams are:\n",
      "the united states\n",
      "one of the\n",
      "balanced budget amendment\n",
      "the balanced budget\n",
      "the american people\n",
      "--------------------\n",
      "\n",
      "For Congress 106 top 5 (3, 3) ngrams are:\n",
      "the united states\n",
      "the gentleman from\n",
      "one of the\n",
      "be able to\n",
      "are going to\n",
      "--------------------\n",
      "\n",
      "For Congress 100 top 5 (3, 3) ngrams are:\n",
      "the united states\n",
      "would like to\n",
      "one of the\n",
      "my colleagues to\n",
      "of the united\n",
      "--------------------\n",
      "\n",
      "For Congress 109 top 5 (3, 3) ngrams are:\n",
      "the united states\n",
      "one of the\n",
      "the gentleman from\n",
      "are going to\n",
      "mr speaker rise\n",
      "--------------------\n",
      "\n",
      "For Congress 101 top 5 (3, 3) ngrams are:\n",
      "the united states\n",
      "ask unanimous consent\n",
      "unanimous consent that\n",
      "of the senate\n",
      "consent that the\n",
      "--------------------\n",
      "\n",
      "For Congress 111 top 5 (3, 3) ngrams are:\n",
      "the united states\n",
      "are going to\n",
      "one of the\n",
      "my colleagues to\n",
      "will be used\n",
      "--------------------\n",
      "\n",
      "For Congress 112 top 5 (3, 3) ngrams are:\n",
      "the united states\n",
      "the american people\n",
      "are going to\n",
      "my colleagues to\n",
      "mr speaker rise\n",
      "--------------------\n",
      "\n",
      "For Congress 107 top 5 (3, 3) ngrams are:\n",
      "the united states\n",
      "the gentleman from\n",
      "the death penalty\n",
      "my colleagues to\n",
      "are going to\n",
      "--------------------\n",
      "\n",
      "For Congress 108 top 5 (3, 3) ngrams are:\n",
      "the united states\n",
      "the gentleman from\n",
      "one of the\n",
      "be able to\n",
      "my colleagues to\n",
      "--------------------\n",
      "\n",
      "For Congress 114 top 5 (3, 3) ngrams are:\n",
      "the united states\n",
      "the balance of\n",
      "of my time\n",
      "balance of my\n",
      "my colleagues to\n",
      "--------------------\n",
      "\n",
      "For Congress 98 top 5 (3, 3) ngrams are:\n",
      "the united states\n",
      "the senator from\n",
      "would like to\n",
      "the soviet union\n",
      "the social security\n",
      "--------------------\n",
      "\n",
      "For Congress 97 top 5 (3, 3) ngrams are:\n",
      "the united states\n",
      "the senator from\n",
      "one of the\n",
      "would like to\n",
      "of the united\n",
      "--------------------\n",
      "\n",
      "For Congress 110 top 5 (3, 3) ngrams are:\n",
      "the united states\n",
      "the american people\n",
      "my colleagues to\n",
      "are going to\n",
      "we need to\n",
      "--------------------\n",
      "\n",
      "For Congress 99 top 5 (3, 3) ngrams are:\n",
      "the united states\n",
      "the select committee\n",
      "in the record\n",
      "would like to\n",
      "the department of\n",
      "--------------------\n",
      "\n",
      "For Congress 102 top 5 (3, 3) ngrams are:\n",
      "the united states\n",
      "the persian gulf\n",
      "in the persian\n",
      "of the united\n",
      "men and women\n",
      "--------------------\n",
      "\n",
      "For Congress 113 top 5 (3, 3) ngrams are:\n",
      "the united states\n",
      "we need to\n",
      "the american people\n",
      "mr speaker rise\n",
      "one of the\n",
      "--------------------\n"
     ]
    }
   ],
   "source": [
    "reload(explore_data)\n",
    "explore_data.ngrams_by_category(train, train_ids, descr, congress, 'Congress', p=0.3, top_n=5)"
   ]
  },
  {
   "cell_type": "markdown",
   "metadata": {},
   "source": [
    "## N-gram model"
   ]
  },
  {
   "cell_type": "markdown",
   "metadata": {},
   "source": [
    "Inspiration for code: https://developers.google.com/machine-learning/guides/text-classification/step-3"
   ]
  },
  {
   "cell_type": "markdown",
   "metadata": {},
   "source": [
    "### Pre-processing"
   ]
  },
  {
   "cell_type": "code",
   "execution_count": 39,
   "metadata": {},
   "outputs": [],
   "source": [
    "# Vectorization parameters\n",
    "# Range (inclusive) of n-gram sizes for tokenizing text.\n",
    "NGRAM_RANGE = (1, 2)\n",
    "\n",
    "# Minimum corpus frequency below which a token will be discarded.\n",
    "MIN_DOCUMENT_FREQUENCY = 5\n",
    "\n",
    "# Maximum proportion of corpus containing a word above which a token will be discarded.\n",
    "# Helps eliminate stop words\n",
    "MAX_DOCUMENT_FREQUENCY = 0.7\n",
    "\n",
    "# Limit on the number of features. We use the top 20K features.\n",
    "TOP_K = 10000\n",
    "\n",
    "# Output number of top/bottom scoring ngrams\n",
    "TOP_N = 5\n",
    "\n",
    "vec_params = {\n",
    "    'ngram_range': NGRAM_RANGE,\n",
    "    'min_df': MIN_DOCUMENT_FREQUENCY,\n",
    "    'max_df': MAX_DOCUMENT_FREQUENCY,\n",
    "    'top_k': TOP_K,\n",
    "    'top_n': TOP_N\n",
    "}"
   ]
  },
  {
   "cell_type": "code",
   "execution_count": 40,
   "metadata": {},
   "outputs": [
    {
     "name": "stdout",
     "output_type": "stream",
     "text": [
      "Total vocabulary size: 243686\n",
      "Number of stop words 1871364\n",
      "\n",
      "Top 5 ngrams by differentiating score:\n",
      "mr president \t 965.9\n",
      "senator \t 961.2\n",
      "speaker \t 709.8\n",
      "president \t 650.7\n",
      "mr speaker \t 565.5\n",
      "\n",
      "Bottom 5 ngrams by differentiating score:\n",
      "that arent \t 0.0\n",
      "rightful owners \t 0.0\n",
      "commission released \t 0.0\n",
      "too because \t 0.0\n",
      "the neediest \t 0.0\n"
     ]
    }
   ],
   "source": [
    "reload(preprocess_data)\n",
    "train_vec, val_vec, test_vec = preprocess_data.ngram_vectorize(train, train_target, val, test, **vec_params)"
   ]
  },
  {
   "cell_type": "code",
   "execution_count": 41,
   "metadata": {},
   "outputs": [
    {
     "data": {
      "text/plain": [
       "(28280, 9426, 9428)"
      ]
     },
     "execution_count": 41,
     "metadata": {},
     "output_type": "execute_result"
    }
   ],
   "source": [
    "len(train), len(val), len(test)"
   ]
  },
  {
   "cell_type": "code",
   "execution_count": 42,
   "metadata": {},
   "outputs": [
    {
     "data": {
      "text/plain": [
       "((28280, 10000), (9426, 10000), (9428, 10000))"
      ]
     },
     "execution_count": 42,
     "metadata": {},
     "output_type": "execute_result"
    }
   ],
   "source": [
    "train_vec.shape, val_vec.shape, test_vec.shape"
   ]
  },
  {
   "cell_type": "markdown",
   "metadata": {},
   "source": [
    "### Saving processed files"
   ]
  },
  {
   "cell_type": "code",
   "execution_count": 43,
   "metadata": {},
   "outputs": [
    {
     "data": {
      "text/plain": [
       "'/home/fbm221/W266FinalProject/Code'"
      ]
     },
     "execution_count": 43,
     "metadata": {},
     "output_type": "execute_result"
    }
   ],
   "source": [
    "pwd"
   ]
  },
  {
   "cell_type": "code",
   "execution_count": 46,
   "metadata": {},
   "outputs": [],
   "source": [
    "outdata_path = '/home/fbm221/W266FinalProject/saved_files/Ethnicity'"
   ]
  },
  {
   "cell_type": "code",
   "execution_count": 47,
   "metadata": {},
   "outputs": [],
   "source": [
    "scipy.sparse.save_npz(os.path.join(outdata_path, 'train_vec.npz'), train_vec)\n",
    "scipy.sparse.save_npz(os.path.join(outdata_path, 'val_vec.npz'), val_vec)\n",
    "scipy.sparse.save_npz(os.path.join(outdata_path, 'test_vec.npz'), test_vec)"
   ]
  },
  {
   "cell_type": "code",
   "execution_count": 48,
   "metadata": {},
   "outputs": [],
   "source": [
    "train_vec = scipy.sparse.load_npz(os.path.join(outdata_path, 'train_vec.npz'))\n",
    "val_vec = scipy.sparse.load_npz(os.path.join(outdata_path, 'val_vec.npz'))\n",
    "test_vec = scipy.sparse.load_npz(os.path.join(outdata_path, 'test_vec.npz'))"
   ]
  },
  {
   "cell_type": "code",
   "execution_count": 49,
   "metadata": {},
   "outputs": [],
   "source": [
    "val_vec = scipy.sparse.load_npz(os.path.join(outdata_path, 'val_vec.npz'))"
   ]
  },
  {
   "cell_type": "code",
   "execution_count": 50,
   "metadata": {},
   "outputs": [
    {
     "data": {
      "text/plain": [
       "((28280, 10000), (9426, 10000), (9428, 10000))"
      ]
     },
     "execution_count": 50,
     "metadata": {},
     "output_type": "execute_result"
    }
   ],
   "source": [
    "train_vec.shape, val_vec.shape, test_vec.shape"
   ]
  },
  {
   "cell_type": "code",
   "execution_count": 51,
   "metadata": {},
   "outputs": [],
   "source": [
    "with open(os.path.join(outdata_path, 'train_list'), 'wb') as fp:\n",
    "    pickle.dump(train, fp)\n",
    "with open(os.path.join(outdata_path, 'train_ids'), 'wb') as fp:\n",
    "    pickle.dump(train_ids, fp)\n",
    "with open(os.path.join(outdata_path, 'train_target'), 'wb') as fp:\n",
    "    pickle.dump(train_target, fp)\n",
    "with open(os.path.join(outdata_path, 'val_list'), 'wb') as fp:\n",
    "    pickle.dump(val, fp)\n",
    "with open(os.path.join(outdata_path, 'val_ids'), 'wb') as fp:\n",
    "    pickle.dump(val_ids, fp)\n",
    "with open(os.path.join(outdata_path, 'val_target'), 'wb') as fp:\n",
    "    pickle.dump(val_target, fp)\n",
    "with open(os.path.join(outdata_path, 'test_list'), 'wb') as fp:\n",
    "    pickle.dump(test, fp)\n",
    "with open(os.path.join(outdata_path, 'test_ids'), 'wb') as fp:\n",
    "    pickle.dump(test_ids, fp)\n",
    "with open(os.path.join(outdata_path, 'test_target'), 'wb') as fp:\n",
    "    pickle.dump(test_target, fp)"
   ]
  },
  {
   "cell_type": "code",
   "execution_count": 52,
   "metadata": {},
   "outputs": [
    {
     "data": {
      "text/plain": [
       "(14140, 4713, 4714)"
      ]
     },
     "execution_count": 52,
     "metadata": {},
     "output_type": "execute_result"
    }
   ],
   "source": [
    "sum(train_target), sum(val_target), sum(test_target)"
   ]
  },
  {
   "cell_type": "code",
   "execution_count": 53,
   "metadata": {},
   "outputs": [],
   "source": [
    "with open(os.path.join(outdata_path, 'train_list'), 'rb') as fp:\n",
    "    train = pickle.load(fp)\n",
    "with open(os.path.join(outdata_path, 'train_ids'), 'rb') as fp:\n",
    "    train_ids = pickle.load(fp)\n",
    "with open(os.path.join(outdata_path, 'train_target'), 'rb') as fp:\n",
    "    train_target = pickle.load(fp)"
   ]
  },
  {
   "cell_type": "code",
   "execution_count": 54,
   "metadata": {},
   "outputs": [],
   "source": [
    "with open(os.path.join(outdata_path, 'val_list'), 'rb') as fp:\n",
    "    val = pickle.load(fp)\n",
    "with open(os.path.join(outdata_path, 'val_ids'), 'rb') as fp:\n",
    "    val_ids = pickle.load(fp)\n",
    "with open(os.path.join(outdata_path, 'val_target'), 'rb') as fp:\n",
    "    val_target = pickle.load(fp)"
   ]
  },
  {
   "cell_type": "code",
   "execution_count": 55,
   "metadata": {},
   "outputs": [
    {
     "data": {
      "text/plain": [
       "(4713, 9426)"
      ]
     },
     "execution_count": 55,
     "metadata": {},
     "output_type": "execute_result"
    }
   ],
   "source": [
    "sum(val_target), len(val_target)"
   ]
  },
  {
   "cell_type": "code",
   "execution_count": 56,
   "metadata": {},
   "outputs": [],
   "source": [
    "with open(os.path.join(outdata_path, 'test_list'), 'rb') as fp:\n",
    "    test = pickle.load(fp)\n",
    "with open(os.path.join(outdata_path, 'test_ids'), 'rb') as fp:\n",
    "    test_ids = pickle.load(fp)\n",
    "with open(os.path.join(outdata_path, 'test_target'), 'rb') as fp:\n",
    "    test_target = pickle.load(fp)"
   ]
  },
  {
   "cell_type": "code",
   "execution_count": 57,
   "metadata": {},
   "outputs": [
    {
     "data": {
      "text/plain": [
       "(14140, 4713, 4714)"
      ]
     },
     "execution_count": 57,
     "metadata": {},
     "output_type": "execute_result"
    }
   ],
   "source": [
    "sum(train_target), sum(val_target), sum(test_target)"
   ]
  },
  {
   "cell_type": "markdown",
   "metadata": {},
   "source": [
    "### Model: Multi-Layer Perceptron (Vanilla NN)"
   ]
  },
  {
   "cell_type": "code",
   "execution_count": 59,
   "metadata": {},
   "outputs": [],
   "source": [
    "logs_base_dir = \"/home/fbm221/W266FinalProject/saved_files/Ethnicity\""
   ]
  },
  {
   "cell_type": "code",
   "execution_count": 60,
   "metadata": {},
   "outputs": [],
   "source": [
    "ngram_model_params = {\n",
    "    'model': 'ngram',\n",
    "    'log_dir': logs_base_dir,\n",
    "    'learning_rate': 1e-3,\n",
    "    'epochs': 1000,\n",
    "    'batch_size': 128,\n",
    "    'layers': 2,\n",
    "    'units': 64,\n",
    "    'dropout_rate': 0.2\n",
    "}"
   ]
  },
  {
   "cell_type": "code",
   "execution_count": 63,
   "metadata": {},
   "outputs": [
    {
     "name": "stdout",
     "output_type": "stream",
     "text": [
      "Train on 28280 samples, validate on 9426 samples\n",
      "Epoch 1/1000\n",
      " - 6s - loss: 0.5954 - acc: 0.7042 - val_loss: 0.5553 - val_acc: 0.7164\n",
      "Epoch 2/1000\n",
      " - 5s - loss: 0.4867 - acc: 0.7686 - val_loss: 0.5290 - val_acc: 0.7390\n",
      "Epoch 3/1000\n",
      " - 5s - loss: 0.4340 - acc: 0.8018 - val_loss: 0.5276 - val_acc: 0.7360\n",
      "Epoch 4/1000\n",
      " - 5s - loss: 0.4038 - acc: 0.8160 - val_loss: 0.5318 - val_acc: 0.7362\n",
      "Epoch 5/1000\n",
      " - 5s - loss: 0.3750 - acc: 0.8297 - val_loss: 0.5423 - val_acc: 0.7356\n",
      "Validation accuracy: 0.7356248675524847, loss: 0.5423104726228647\n"
     ]
    }
   ],
   "source": [
    "reload(train_model)\n",
    "history, train_pred_probs, val_pred_probs = train_model.train_model(((train_vec, train_target), (val_vec, val_target)), **ngram_model_params)"
   ]
  },
  {
   "cell_type": "code",
   "execution_count": 65,
   "metadata": {},
   "outputs": [],
   "source": [
    "np.save('/home/fbm221/W266FinalProject/saved_files/Ethnicity/val_pred_probs', val_pred_probs, allow_pickle=True, fix_imports=True)"
   ]
  },
  {
   "cell_type": "markdown",
   "metadata": {},
   "source": [
    "## Model evaluation"
   ]
  },
  {
   "cell_type": "code",
   "execution_count": 66,
   "metadata": {},
   "outputs": [
    {
     "data": {
      "text/plain": [
       "6934"
      ]
     },
     "execution_count": 66,
     "metadata": {},
     "output_type": "execute_result"
    }
   ],
   "source": [
    "val_preds = val_pred_probs > 0.5\n",
    "np.sum(val_preds.flatten()==val_target)"
   ]
  },
  {
   "cell_type": "code",
   "execution_count": 67,
   "metadata": {},
   "outputs": [
    {
     "name": "stdout",
     "output_type": "stream",
     "text": [
      "Confusion matrix, without normalization\n",
      "[[3561 1152]\n",
      " [1340 3373]]\n"
     ]
    },
    {
     "data": {
      "text/plain": [
       "<matplotlib.axes._subplots.AxesSubplot at 0x7f7c387992b0>"
      ]
     },
     "execution_count": 67,
     "metadata": {},
     "output_type": "execute_result"
    },
    {
     "data": {
      "image/png": "[encoded data removed]",
      "text/plain": [
       "<Figure size 432x288 with 2 Axes>"
      ]
     },
     "metadata": {},
     "output_type": "display_data"
    }
   ],
   "source": [
    "reload(explore_data)\n",
    "# specify class names in 0 - 1 order\n",
    "classes = ['White', 'Non-White']\n",
    "explore_data.plot_confusion_matrix(val_target, val_preds, classes, normalize=True)"
   ]
  },
  {
   "cell_type": "code",
   "execution_count": 68,
   "metadata": {
    "scrolled": false
   },
   "outputs": [
    {
     "data": {
      "image/png": "[encoded data removed]",
      "text/plain": [
       "<Figure size 720x720 with 2 Axes>"
      ]
     },
     "metadata": {},
     "output_type": "display_data"
    }
   ],
   "source": [
    "reload(explore_data)\n",
    "explore_data.plot_calibration_curve(val_target, val_pred_probs, 'Ethnicity')"
   ]
  },
  {
   "cell_type": "code",
   "execution_count": 69,
   "metadata": {},
   "outputs": [],
   "source": [
    "del train, train_ids, train_pred_probs, train_target, train_vec"
   ]
  },
  {
   "cell_type": "code",
   "execution_count": 70,
   "metadata": {},
   "outputs": [],
   "source": [
    "with open(os.path.join(outdata_path, 'val_pred_probs'), 'wb') as fp:\n",
    "    pickle.dump(val_pred_probs, fp)"
   ]
  },
  {
   "cell_type": "code",
   "execution_count": 71,
   "metadata": {},
   "outputs": [],
   "source": [
    "with open(os.path.join(outdata_path, 'val_pred_probs'), 'rb') as fp:\n",
    "    val_pred_probs = pickle.load(fp)"
   ]
  },
  {
   "cell_type": "code",
   "execution_count": 72,
   "metadata": {},
   "outputs": [
    {
     "data": {
      "text/plain": [
       "(9426, 1)"
      ]
     },
     "execution_count": 72,
     "metadata": {},
     "output_type": "execute_result"
    }
   ],
   "source": [
    "val_pred_probs.shape"
   ]
  },
  {
   "cell_type": "code",
   "execution_count": 74,
   "metadata": {},
   "outputs": [
    {
     "name": "stderr",
     "output_type": "stream",
     "text": [
      "/home/fbm221/anaconda3/lib/python3.6/site-packages/numpy/lib/arraysetops.py:472: FutureWarning: elementwise comparison failed; returning scalar instead, but in the future will perform elementwise comparison\n",
      "  mask |= (ar1 == a)\n"
     ]
    },
    {
     "data": {
      "text/plain": [
       "(9426, 16)"
      ]
     },
     "execution_count": 74,
     "metadata": {},
     "output_type": "execute_result"
    }
   ],
   "source": [
    "descr_df = pd.read_csv('/home/fbm221/W266FinalProject/Data/full_descr.txt', sep=\"|\", index_col=0)\n",
    "descr_df = descr_df.loc[np.asarray(val_ids, dtype=int)]\n",
    "descr_df.shape"
   ]
  },
  {
   "cell_type": "code",
   "execution_count": 75,
   "metadata": {},
   "outputs": [
    {
     "data": {
      "text/html": [
       "<div>\n",
       "<style scoped>\n",
       "    .dataframe tbody tr th:only-of-type {\n",
       "        vertical-align: middle;\n",
       "    }\n",
       "\n",
       "    .dataframe tbody tr th {\n",
       "        vertical-align: top;\n",
       "    }\n",
       "\n",
       "    .dataframe thead th {\n",
       "        text-align: right;\n",
       "    }\n",
       "</style>\n",
       "<table border=\"1\" class=\"dataframe\">\n",
       "  <thead>\n",
       "    <tr style=\"text-align: right;\">\n",
       "      <th></th>\n",
       "      <th>date</th>\n",
       "      <th>char_count</th>\n",
       "      <th>word_count</th>\n",
       "      <th>speakerid</th>\n",
       "      <th>Party</th>\n",
       "      <th>Congress</th>\n",
       "      <th>Chamber</th>\n",
       "      <th>State</th>\n",
       "      <th>Ethnicity</th>\n",
       "      <th>Age</th>\n",
       "      <th>Age_lt_med</th>\n",
       "      <th>NonWhite</th>\n",
       "      <th>Female</th>\n",
       "      <th>speaker</th>\n",
       "      <th>Full Name</th>\n",
       "      <th>match</th>\n",
       "    </tr>\n",
       "    <tr>\n",
       "      <th>speech_id</th>\n",
       "      <th></th>\n",
       "      <th></th>\n",
       "      <th></th>\n",
       "      <th></th>\n",
       "      <th></th>\n",
       "      <th></th>\n",
       "      <th></th>\n",
       "      <th></th>\n",
       "      <th></th>\n",
       "      <th></th>\n",
       "      <th></th>\n",
       "      <th></th>\n",
       "      <th></th>\n",
       "      <th></th>\n",
       "      <th></th>\n",
       "      <th></th>\n",
       "    </tr>\n",
       "  </thead>\n",
       "  <tbody>\n",
       "    <tr>\n",
       "      <th>970034678</th>\n",
       "      <td>19810521.0</td>\n",
       "      <td>3397.0</td>\n",
       "      <td>507.0</td>\n",
       "      <td>97112170.0</td>\n",
       "      <td>D</td>\n",
       "      <td>97.0</td>\n",
       "      <td>H</td>\n",
       "      <td>OH</td>\n",
       "      <td>B</td>\n",
       "      <td>57.0</td>\n",
       "      <td>0.0</td>\n",
       "      <td>1.0</td>\n",
       "      <td>0.0</td>\n",
       "      <td>Mr. STOKES</td>\n",
       "      <td>STOKES, LOUIS</td>\n",
       "      <td>fuzzy</td>\n",
       "    </tr>\n",
       "    <tr>\n",
       "      <th>1140107584</th>\n",
       "      <td>20160712.0</td>\n",
       "      <td>3503.0</td>\n",
       "      <td>565.0</td>\n",
       "      <td>114121700.0</td>\n",
       "      <td>D</td>\n",
       "      <td>114.0</td>\n",
       "      <td>H</td>\n",
       "      <td>CA</td>\n",
       "      <td>B</td>\n",
       "      <td>78.0</td>\n",
       "      <td>0.0</td>\n",
       "      <td>1.0</td>\n",
       "      <td>1.0</td>\n",
       "      <td>Ms. MAXINE WATERS of California</td>\n",
       "      <td>WATERS, MAXINE</td>\n",
       "      <td>exact</td>\n",
       "    </tr>\n",
       "    <tr>\n",
       "      <th>1140036275</th>\n",
       "      <td>20150617.0</td>\n",
       "      <td>985.0</td>\n",
       "      <td>168.0</td>\n",
       "      <td>114121750.0</td>\n",
       "      <td>D</td>\n",
       "      <td>114.0</td>\n",
       "      <td>H</td>\n",
       "      <td>FL</td>\n",
       "      <td>B</td>\n",
       "      <td>74.0</td>\n",
       "      <td>0.0</td>\n",
       "      <td>1.0</td>\n",
       "      <td>1.0</td>\n",
       "      <td>Ms. WILSON of Florida</td>\n",
       "      <td>WILSON, FREDERICA</td>\n",
       "      <td>exact</td>\n",
       "    </tr>\n",
       "    <tr>\n",
       "      <th>1140062682</th>\n",
       "      <td>20151116.0</td>\n",
       "      <td>2802.0</td>\n",
       "      <td>528.0</td>\n",
       "      <td>114119300.0</td>\n",
       "      <td>D</td>\n",
       "      <td>114.0</td>\n",
       "      <td>H</td>\n",
       "      <td>MD</td>\n",
       "      <td>B</td>\n",
       "      <td>58.0</td>\n",
       "      <td>1.0</td>\n",
       "      <td>1.0</td>\n",
       "      <td>1.0</td>\n",
       "      <td>Ms. EDWARDS</td>\n",
       "      <td>EDWARDS, DONNA</td>\n",
       "      <td>exact</td>\n",
       "    </tr>\n",
       "    <tr>\n",
       "      <th>1030014310</th>\n",
       "      <td>19930316.0</td>\n",
       "      <td>419.0</td>\n",
       "      <td>67.0</td>\n",
       "      <td>103112360.0</td>\n",
       "      <td>D</td>\n",
       "      <td>103.0</td>\n",
       "      <td>H</td>\n",
       "      <td>MO</td>\n",
       "      <td>B</td>\n",
       "      <td>63.0</td>\n",
       "      <td>0.0</td>\n",
       "      <td>1.0</td>\n",
       "      <td>0.0</td>\n",
       "      <td>Mr. CLAY</td>\n",
       "      <td>CLAY, WILLIAM</td>\n",
       "      <td>fuzzy</td>\n",
       "    </tr>\n",
       "  </tbody>\n",
       "</table>\n",
       "</div>"
      ],
      "text/plain": [
       "                  date  char_count  word_count    speakerid Party  Congress  \\\n",
       "speech_id                                                                     \n",
       "970034678   19810521.0      3397.0       507.0   97112170.0     D      97.0   \n",
       "1140107584  20160712.0      3503.0       565.0  114121700.0     D     114.0   \n",
       "1140036275  20150617.0       985.0       168.0  114121750.0     D     114.0   \n",
       "1140062682  20151116.0      2802.0       528.0  114119300.0     D     114.0   \n",
       "1030014310  19930316.0       419.0        67.0  103112360.0     D     103.0   \n",
       "\n",
       "           Chamber State Ethnicity   Age  Age_lt_med  NonWhite  Female  \\\n",
       "speech_id                                                                \n",
       "970034678        H    OH         B  57.0         0.0       1.0     0.0   \n",
       "1140107584       H    CA         B  78.0         0.0       1.0     1.0   \n",
       "1140036275       H    FL         B  74.0         0.0       1.0     1.0   \n",
       "1140062682       H    MD         B  58.0         1.0       1.0     1.0   \n",
       "1030014310       H    MO         B  63.0         0.0       1.0     0.0   \n",
       "\n",
       "                                    speaker          Full Name  match  \n",
       "speech_id                                                              \n",
       "970034678                        Mr. STOKES      STOKES, LOUIS  fuzzy  \n",
       "1140107584  Ms. MAXINE WATERS of California     WATERS, MAXINE  exact  \n",
       "1140036275            Ms. WILSON of Florida  WILSON, FREDERICA  exact  \n",
       "1140062682                      Ms. EDWARDS     EDWARDS, DONNA  exact  \n",
       "1030014310                         Mr. CLAY      CLAY, WILLIAM  fuzzy  "
      ]
     },
     "execution_count": 75,
     "metadata": {},
     "output_type": "execute_result"
    }
   ],
   "source": [
    "descr_df.head()"
   ]
  },
  {
   "cell_type": "code",
   "execution_count": 76,
   "metadata": {},
   "outputs": [
    {
     "name": "stdout",
     "output_type": "stream",
     "text": [
      "Validation sample means:\n",
      "      Gender_F  Ethinicity_NW     AvgAge  Party_D  Chamber_H  AvgWordCount\n",
      "base  0.205283            0.5  59.894229  0.68205    0.69478    408.802461\n"
     ]
    },
    {
     "data": {
      "text/html": [
       "<div>\n",
       "<style scoped>\n",
       "    .dataframe tbody tr th:only-of-type {\n",
       "        vertical-align: middle;\n",
       "    }\n",
       "\n",
       "    .dataframe tbody tr th {\n",
       "        vertical-align: top;\n",
       "    }\n",
       "\n",
       "    .dataframe thead th {\n",
       "        text-align: right;\n",
       "    }\n",
       "</style>\n",
       "<table border=\"1\" class=\"dataframe\">\n",
       "  <thead>\n",
       "    <tr style=\"text-align: right;\">\n",
       "      <th></th>\n",
       "      <th>Gender_F</th>\n",
       "      <th>Ethinicity_NW</th>\n",
       "      <th>AvgAge</th>\n",
       "      <th>Party_D</th>\n",
       "      <th>Chamber_H</th>\n",
       "      <th>AvgWordCount</th>\n",
       "    </tr>\n",
       "  </thead>\n",
       "  <tbody>\n",
       "    <tr>\n",
       "      <th>0.4</th>\n",
       "      <td>0.48</td>\n",
       "      <td>0.49</td>\n",
       "      <td>0.99</td>\n",
       "      <td>0.79</td>\n",
       "      <td>0.71</td>\n",
       "      <td>1.09</td>\n",
       "    </tr>\n",
       "    <tr>\n",
       "      <th>0.6</th>\n",
       "      <td>0.92</td>\n",
       "      <td>0.93</td>\n",
       "      <td>1.00</td>\n",
       "      <td>0.99</td>\n",
       "      <td>1.13</td>\n",
       "      <td>0.87</td>\n",
       "    </tr>\n",
       "    <tr>\n",
       "      <th>1.0</th>\n",
       "      <td>1.60</td>\n",
       "      <td>1.58</td>\n",
       "      <td>1.01</td>\n",
       "      <td>1.24</td>\n",
       "      <td>1.26</td>\n",
       "      <td>0.96</td>\n",
       "    </tr>\n",
       "  </tbody>\n",
       "</table>\n",
       "</div>"
      ],
      "text/plain": [
       "     Gender_F  Ethinicity_NW  AvgAge  Party_D  Chamber_H  AvgWordCount\n",
       "0.4      0.48           0.49    0.99     0.79       0.71          1.09\n",
       "0.6      0.92           0.93    1.00     0.99       1.13          0.87\n",
       "1.0      1.60           1.58    1.01     1.24       1.26          0.96"
      ]
     },
     "execution_count": 76,
     "metadata": {},
     "output_type": "execute_result"
    }
   ],
   "source": [
    "reload(explore_data)\n",
    "# checking the ratios of demo variables in low-mid-high probability buckets\n",
    "explore_data.check_bin_probs_distr(val_pred_probs, \n",
    "                                   val_ids, \n",
    "                                   descr_df)"
   ]
  },
  {
   "cell_type": "code",
   "execution_count": 77,
   "metadata": {},
   "outputs": [
    {
     "name": "stdout",
     "output_type": "stream",
     "text": [
      "\n",
      "Top 10 ngrams by differentiating score:\n",
      "mr president \t 247.1\n",
      "speaker \t 170.1\n",
      "senator \t 167.8\n",
      "the senator \t 166.0\n",
      "senator from \t 149.7\n",
      "speaker rise \t 137.3\n",
      "mr speaker \t 136.1\n",
      "rise \t 113.8\n",
      "the senate \t 105.6\n",
      "president \t 102.3\n"
     ]
    },
    {
     "data": {
      "text/html": [
       "<div>\n",
       "<style scoped>\n",
       "    .dataframe tbody tr th:only-of-type {\n",
       "        vertical-align: middle;\n",
       "    }\n",
       "\n",
       "    .dataframe tbody tr th {\n",
       "        vertical-align: top;\n",
       "    }\n",
       "\n",
       "    .dataframe thead th {\n",
       "        text-align: right;\n",
       "    }\n",
       "</style>\n",
       "<table border=\"1\" class=\"dataframe\">\n",
       "  <thead>\n",
       "    <tr style=\"text-align: right;\">\n",
       "      <th>bin</th>\n",
       "      <th>1</th>\n",
       "      <th>2</th>\n",
       "      <th>3</th>\n",
       "    </tr>\n",
       "  </thead>\n",
       "  <tbody>\n",
       "    <tr>\n",
       "      <th>mr president</th>\n",
       "      <td>2642.0</td>\n",
       "      <td>383.0</td>\n",
       "      <td>665.0</td>\n",
       "    </tr>\n",
       "    <tr>\n",
       "      <th>mr speaker</th>\n",
       "      <td>2170.0</td>\n",
       "      <td>1235.0</td>\n",
       "      <td>4086.0</td>\n",
       "    </tr>\n",
       "    <tr>\n",
       "      <th>president</th>\n",
       "      <td>5740.0</td>\n",
       "      <td>1239.0</td>\n",
       "      <td>2595.0</td>\n",
       "    </tr>\n",
       "    <tr>\n",
       "      <th>rise</th>\n",
       "      <td>758.0</td>\n",
       "      <td>368.0</td>\n",
       "      <td>1325.0</td>\n",
       "    </tr>\n",
       "    <tr>\n",
       "      <th>senator</th>\n",
       "      <td>3084.0</td>\n",
       "      <td>301.0</td>\n",
       "      <td>389.0</td>\n",
       "    </tr>\n",
       "    <tr>\n",
       "      <th>senator from</th>\n",
       "      <td>879.0</td>\n",
       "      <td>38.0</td>\n",
       "      <td>39.0</td>\n",
       "    </tr>\n",
       "    <tr>\n",
       "      <th>speaker</th>\n",
       "      <td>2462.0</td>\n",
       "      <td>1419.0</td>\n",
       "      <td>4722.0</td>\n",
       "    </tr>\n",
       "    <tr>\n",
       "      <th>speaker rise</th>\n",
       "      <td>282.0</td>\n",
       "      <td>190.0</td>\n",
       "      <td>731.0</td>\n",
       "    </tr>\n",
       "    <tr>\n",
       "      <th>the senate</th>\n",
       "      <td>2039.0</td>\n",
       "      <td>404.0</td>\n",
       "      <td>541.0</td>\n",
       "    </tr>\n",
       "    <tr>\n",
       "      <th>the senator</th>\n",
       "      <td>915.0</td>\n",
       "      <td>36.0</td>\n",
       "      <td>33.0</td>\n",
       "    </tr>\n",
       "  </tbody>\n",
       "</table>\n",
       "</div>"
      ],
      "text/plain": [
       "bin                1       2       3\n",
       "mr president  2642.0   383.0   665.0\n",
       "mr speaker    2170.0  1235.0  4086.0\n",
       "president     5740.0  1239.0  2595.0\n",
       "rise           758.0   368.0  1325.0\n",
       "senator       3084.0   301.0   389.0\n",
       "senator from   879.0    38.0    39.0\n",
       "speaker       2462.0  1419.0  4722.0\n",
       "speaker rise   282.0   190.0   731.0\n",
       "the senate    2039.0   404.0   541.0\n",
       "the senator    915.0    36.0    33.0"
      ]
     },
     "execution_count": 77,
     "metadata": {},
     "output_type": "execute_result"
    }
   ],
   "source": [
    "reload(explore_data)\n",
    "explore_data.compare_ngrams(val, val_pred_probs, ngram_range=(1, 2))"
   ]
  },
  {
   "cell_type": "markdown",
   "metadata": {},
   "source": [
    "#### Run the following test on a random subset of the validation sample"
   ]
  },
  {
   "cell_type": "code",
   "execution_count": 78,
   "metadata": {},
   "outputs": [
    {
     "data": {
      "text/plain": [
       "0.10142159983025674"
      ]
     },
     "execution_count": 78,
     "metadata": {},
     "output_type": "execute_result"
    }
   ],
   "source": [
    "np.random.seed(100)\n",
    "val_random = np.random.choice(a=[0,1], size=len(val_target), p = [0.9,0.1])\n",
    "val_random.sum()/val_random.shape[0]"
   ]
  },
  {
   "cell_type": "code",
   "execution_count": 79,
   "metadata": {},
   "outputs": [
    {
     "data": {
      "text/plain": [
       "(956, 956, 956)"
      ]
     },
     "execution_count": 79,
     "metadata": {},
     "output_type": "execute_result"
    }
   ],
   "source": [
    "val_sample, val_ids_sample, val_pred_probs_sample = [], [], []\n",
    "for i in range(len(val_ids)):\n",
    "    if val_random[i] == 1:\n",
    "        val_sample.append(val[i])\n",
    "        val_ids_sample.append(val_ids[i])\n",
    "        val_pred_probs_sample.append(val_pred_probs[i])\n",
    "len(val_sample), len(val_ids_sample), len(val_pred_probs_sample)"
   ]
  },
  {
   "cell_type": "code",
   "execution_count": 80,
   "metadata": {},
   "outputs": [
    {
     "name": "stdout",
     "output_type": "stream",
     "text": [
      "\n",
      "In 0.4 bin top 10 ngrams:\n",
      "\n",
      "the united states\n",
      "are going to\n",
      "of the united\n",
      "one of the\n",
      "the senator from\n",
      "of the united states\n",
      "the department of\n",
      "the american people\n",
      "we need to\n",
      "the gentleman from\n",
      "--------------------\n",
      "\n",
      "In 0.6 bin top 10 ngrams:\n",
      "\n",
      "the united states\n",
      "one of the\n",
      "the national debt\n",
      "mr speaker rise\n",
      "the american people\n",
      "would like to\n",
      "speaker rise today\n",
      "my colleagues to\n",
      "the gentleman from\n",
      "the fairness doctrine\n",
      "--------------------\n",
      "\n",
      "In 1.0 bin top 10 ngrams:\n",
      "\n",
      "the united states\n",
      "my colleagues to\n",
      "the american people\n",
      "be able to\n",
      "mr speaker rise\n",
      "in the united\n",
      "the gentleman from\n",
      "one of the\n",
      "in the united states\n",
      "are going to\n",
      "--------------------\n"
     ]
    }
   ],
   "source": [
    "reload(explore_data)\n",
    "explore_data.ngrams_by_bin(val_sample, val_pred_probs_sample)"
   ]
  },
  {
   "cell_type": "code",
   "execution_count": 81,
   "metadata": {
    "scrolled": false
   },
   "outputs": [
    {
     "name": "stdout",
     "output_type": "stream",
     "text": [
      "\n",
      "True positive (Predicted prob: 0.94):\n",
      "\n",
      "date                                       2.01504e+07\n",
      "char_count                                         188\n",
      "word_count                                          32\n",
      "speakerid                                  1.14122e+08\n",
      "Party                                                D\n",
      "Congress                                           114\n",
      "Chamber                                              H\n",
      "State                                               NM\n",
      "Ethnicity                                            H\n",
      "Age                                                 57\n",
      "Age_lt_med                                           1\n",
      "NonWhite                                             1\n",
      "Female                                               1\n",
      "speaker       Ms. MICHELLE LUJAN GRISHAM of New Mexico\n",
      "Full Name                      LUJAN GRISHAM, MICHELLE\n",
      "match                                            exact\n",
      "Name: 1140022774, dtype: object\n",
      "\n",
      " Mr. Speaker. I ask unanimous consent to insert my statement into the RECORD that the House should focus on the real priorities of Americans instead of another attack on womens health care.\n",
      "--------------------\n",
      "\n",
      "True negative (Predicted prob: 0.06):\n",
      "\n",
      "date                 1.98103e+07\n",
      "char_count                  6884\n",
      "word_count                  1089\n",
      "speakerid            9.71082e+07\n",
      "Party                          R\n",
      "Congress                      97\n",
      "Chamber                        S\n",
      "State                         MN\n",
      "Ethnicity                      W\n",
      "Age                           48\n",
      "Age_lt_med                     1\n",
      "NonWhite                       0\n",
      "Female                         0\n",
      "speaker          Mr. DURENBERGER\n",
      "Full Name     DURENBERGER, DAVID\n",
      "match                      exact\n",
      "Name: 970012397, dtype: object\n",
      "\n",
      " Mr. President. this morning I am introducing legislation that will play an essential role in halting the deterioration of this Nations rail system. and insuring continuing private ownership of the carriers that operate the system. The bill is entitled the \"Rail Investment Incentives Act of 1981.\" and it would provide a system of refundable investment tax credits for the rail industry. America enters the 1980s with a rail systent weakened by nearly $4 billion in deferred maintenance. Power shortages and railbed deterioration touch every region of the country.\" even on their main lines. few railroads can maintain the operating speed they were accustamed to just three decades 9go. Because the bulk of maintenance deferrals occur on the Nations branch lines. rural communitieswhich depend so heavily on rail transportationare paying the greatest price. The difficulties experienced by Midwestern Farmers in their efforts to ship last years record harvest provided a dramatic illustration of the interdependence between our regional econonies and their transportation systems. We need to recognize that tile Nations railbeds are an indispensable national asset. Yet under present regulatory and tax structures. it Is difllcult to see how the industry can raise the billions of dollars necessary to preserve that asset over the last two decades of the 20th century. The refundable Investment tax credit Is a mechanism to extend the benefits of the investment tax credit to marginal railroads. whose investment needs uniformly exceed those of their more profitable competitors. In doing so. it will fill an Important gap in our present rail assistance program. Although the Federal Government invests hundreds of millions of dollars each year in emergency rail assistance. most of this money is targeted toward subsidizing or rebuilding railroads that are already Insolvent. Unfortunately. most of the damage done to the physical plant of a weak railroad occurs during the \"wind down\" stage prior to bankruptcy. When a railroads cash flow declines. the easiest obligation to defer is track maintenliane. But as maintenance is deferred. service declines. which forfeits b ainess and further weakens the railroad itself. rhis is more than a theoretical argument. the cycle has been evident in dozens of railroad bankruptcies across the Nation throughout the past few decades. The need for investment capital is not aI problem unique to the railroad industry. It was the precise problem Congress sought to address by enacting the investiuent tax credit. and that bill has achieved sone dramatic results. But because it is a tax credit. its impact is confined to the most profitable industries. and the most profitable members within each industy. By common admission. rail is aiong the most labor and capital intensive of American industries. But its net return on investment has hovered around 1 percent in recent years. so the ITC has had little effect on the industry as a whole. Within the industry. ITC has had a particIlarly skewed impact because of the unique economics of the rail industry. Invariably. when weak railroads cut back on expenditures. they begin by deferring railbed maintenance. As a consequence. the great bulk of the Nations $4.1 billion in deferred maintenance is concentrated in the Nations weakest railroads--the ones that draw little or no benefit from the ITC. And deferred maintenance. by weakening service. weakens the rail coinpanies themselves. The Rock Island is the best example of this secondary impact. ITC has strengthened the stronger railroads. but had little impact on the weaker. investnitstarved lines. In effect. it has widened disparities within the industry. intensifying the trend toward merger and acquisition. R.yil companies come and go. but the railbeds are an essential national asset. And the RITC is a mechanism to induce failing railroads to maintain their railroad property investment during times of economic dinIicIlty. Under present law. a railroad with. say. $8 million in income and $1 milton in obligations will place railbed maintenance at the bottom of its priority expenditure list. But with R1ITC in place. a dollar invested In railbed rehabilitation yields a 10percent turnmaking this a more desirable source of resource allocation than of the railroads other debts. The RITC is a crucial incentive for losing railroads to mnaintain their investment in the railbeds even during times of economic dullculty. This effort to spread the effects of the ITC to weaker railroads Is no corporate bailout. It has a direct Impact on the future of the Nations rural transportation system. Railbeds are a national asset. When railroads begin deferring maintenance. they starve the branch lines first because those lines produce a Weaker cash flow. This process focuses the impact of a failing railroad on ruralagricultural areas. creating tile type of difficulties experienced throughout the Nations agricultural areas over the pst 24 months. Railroads are the lifelines that link these agricultural rcgions with ntional and internaticnal markets. Farimers. consumeri3. and exp orters lhike have a stake in presorving those lifelin. 1y lo.ering the cost of branch line rlhailitation. tile bill would Improve he Il a h Ilow of every branch lint in tithe N.h!.ion. This would do maore to Iremve brainchi line service than1 ally program iow in existence. Even from a purely social standflpoillt. insillng the viability of tle Nationa. rail systel is an essenmtial .tp in preservim. the vitality of rural Amiric iltIrols determined the settlement patterns inl inuch of the country. As elcvtors wele btuilt along branch lines. and Settlments sprung ip at key junctions. A cetlry Inter. the economies of these( rural towni still depend on their access to rail transportation. Prescrving the rural rail systern is all indispensable part of the elfoit to maintain rural vitality. And at a time v.hen the Anericai pulblic is spending hundreds of billions of dollars in the search for alternative energy sources. railroads renain the most energy efficient form of freight transportation. By any public criteria. thi special inivestment in the rail indistry is a sound investment. The rail industry needs help. and this amnendnent is an tiellicien t means to provide an infusion of desperately needed investment capital. During the last decade. we have repeatedly witnessed the immense luman and financial costs that follow a major rail bankruptcy. It makes far more sense to provide the industry with some preventive medicine than to face these costs again in the decade ahead. This is a bill that every farmer. every shipper. and every restient of rural America has a stake in. I hope that every Senator will join in supporting it. I ask inanilnous (conselt that following this statement the full text of the bill be printed in the RZcon.\n",
      "--------------------\n",
      "\n",
      "False positive (Predicted prob: 0.99):\n",
      "\n",
      "date               2.00501e+07\n",
      "char_count                4289\n",
      "word_count                 729\n",
      "speakerid          1.09118e+08\n",
      "Party                        D\n",
      "Congress                   109\n",
      "Chamber                      S\n",
      "State                       MI\n",
      "Ethnicity                    W\n",
      "Age                         56\n",
      "Age_lt_med                   1\n",
      "NonWhite                     0\n",
      "Female                       1\n",
      "speaker           Ms. STABENOW\n",
      "Full Name     STABENOW, DEBBIE\n",
      "match                    exact\n",
      "Name: 1090000635, dtype: object\n",
      "\n",
      " Mr. President. I rise today to talk about the most fundamental right in our democracy. the right to vote. Every election day. millions of people in America from different social. economic. and ethnic backgrounds converge on polling stations to cast their ballots. And as they leave the polling booths. they emerge. one by one. as equals. They are equals because the power of our Constitution resides with the people who delegate power to the Government. Our Constitution guarantees the right of every American to be heard equally about whom they want to lead .their Government. We. as their elected leaders. have a responsibility to ensure that those constitutional freedoms are honored and protected. We have heard from some voters in Ohio and across the country about the election in November. They feel that their voices were not heard. Thousands of voters waited in line for up to 10 hours to cast their ballots. Some waited until 4 in the morning. and some waited for hours in the rain. Many voters with job. family. and other responsibilities simply could not wait any longer. and they left without voting. It is unreasonable to expect voters to wait 10 hours to exercise their constitutional right to vote. Some soldiers and other Americans living overseas believe their ballots were not counted. Without question. everylegal ballot should count. whether it is cast overseas or here in the United States. Many precincts across the country continue to use outdated punchcard ballots and decadesold voting machines that are more prone to error or simply do not work properly. That is disturbing enoughmachines from the 1950s being used in 2004but even more disturbing is that urban areas are disproportionately affected. More urban areas do not have the modern voting machines and equipment that is available in other areas of the country. This disparity affects voting for a large number of minorities. and that is unacceptable. Even those precincts with electronic voting machines had problems. Some machines malfunctioned. causingvotes to be counted more than once or not at all. Anyone who has used a computer at home or at work knows that even saved data can be lost. Yet most electronic voting machines do not have a paper record to back up the system. It could be as simple as a paper receipt like the one you get when you withdraw money from an ATM machine. In Nevada.- electronic voting machines have a paper trail. and we need it for all electronic voting machines. We must ensure the integrity of our voting process. Many voters felt intimidated at the polls. When they went to vote. socalled election observers demanded that they provide more than the required form of identification. Others read flyers that directed them to the wrong polling places. These are real people with real concerns. and we need to listen to them. Our Constitution requires that we listen to them. As elected leaders of these people and all of those in our States who have delegated to us the power to represent them. we have an obligation to listen. After voters experienced similar problems in the last election. we addressed many of those issues. Congress passed. and I supported. the Help America Vote Act. which required the use of provisional ballots for voters who went to the wrong location so ballots would be sealed and counted later in the proper precinct. and each State received funding to update their voting systems. But in Ohio. the provisional ballot was rendered virtually worthless in the November 2004 election. Ohios Secretary of State ruled that provisional ballots were valid only if they were cast in the proper precinct. . So today we talk about the problem. but I think we also need to talk about the solution. Voting is fundamental to our democracy. The process should be fair. honest. and easy. I do not support holding up the results of our November election to address the concerns many voters have raised about the process because I believe we need to move on with the business of the country. But I do support the GAO investigation into these concerns. When we find out what the GAO has to say. we have an obligation to address the problems they uncover. I do support true election reform that will create a 21st century voting system that we can all be proud of.\n",
      "--------------------\n",
      "\n",
      "False negative (Predicted prob: 0.04):\n",
      "\n",
      "date               1.99303e+07\n",
      "char_count                5173\n",
      "word_count                 872\n",
      "speakerid          1.03108e+08\n",
      "Party                        D\n",
      "Congress                   103\n",
      "Chamber                      S\n",
      "State                       ME\n",
      "Ethnicity                   ME\n",
      "Age                         61\n",
      "Age_lt_med                   0\n",
      "NonWhite                     1\n",
      "Female                       0\n",
      "speaker           Mr. MITCHELL\n",
      "Full Name     MITCHELL, GEORGE\n",
      "match                    exact\n",
      "Name: 1030019180, dtype: object\n",
      "\n",
      " Madam President. I rise to support the amendment of the Senator from Massachusetts to clarify that the proposed Btu supplemental tax on oil will not apply to home heating oil and other heating fuels. This Is a very important issue to my State of Maine as well as other States in New England. The President has proposed a bold Initiative for deficit reduction and longterm economic growth that includes a new tax on -energy. The proposal includes a basic tax of 25.7 cents per million Btus on coal. oil. natural gas and other energy. as well as a supplemental tax of 342 cents per million Btus on oil. Although the Clinton administration has proposed a higher tax on oil. the plan does assume that heating oil will be treated differently. The proposal is silent with respect to the treatment of propane and kerosene. two other fuels purchased by households for home heating purposes. One of the objectives of the administration in developing its Btu energy tax was to design a tax that minimized the difference in tax burdens among different parts of the Nation. Compared to a carbon tax or a gasoline tax which would impose disproportlonate burdens on different regions. the administration intended Its Btu tax to be relatively neutral between different States. That objective would not be obtained. however. If the supplemental Btu tax is Imposed on home heating oil. According to the information I have. the highest tax States would be Alaska. Maine. Connecticut. Vermont. New Hampshire. Massachusetts. and Delaware. Their average residential tax burden would be almost 50 percent greater than the average burden in the rest of the Nation. The Clinton administration agrees that this should not be the case and therefore it supports a different treatment for home heating oil. That is clearly stated In the Treasury Departments explanation of the administrations tax proposals. Over the last several weeks. I have spoken with several officials in the Clinton administration about this Issue and the administration is in agreement that the supplemental tax- on oil should not apply to fuels used for home heating purposes. The result would be that oilderived home beating fuels would be treated the same as natural gas and coal. This would remove the large regional disparity that would otherwise exist. Propane presents a special case. This fuel. which Is primarily used as a heating source among poorer and more rural households. is derived from either oil or natural gas. About twothirds of current consumption is derived from natural gas but the administration proposal is not clear whether all or only some of the propane consumed would be subject to the supplemental tax. This senseoftheSenate makes clear the intent of the administration and Congress with respect to the Btu tax by stating that the supplemental portion of that tax will not apply to home heating fuels. The effect would be to treat families. States. and regions more fairly with respect to the burden of the Btu tax. The effect of this amendment on the overall revenue collected from a Btu tax is quite minor. Home heating oil -comprises less than 2 percent of all energy consumption. Therefore. while this amendment Is very important to households consuming home heating oiland to States heavily reliant on this form of energy for residential heatingthe effect on the Btu tax is negligible. I have spoken to the President about this issue and he agrees that the supplemental tax on oil should not apply to home heating oil. With this senseoftheSenate we are simply expressing congressional intent. consistent with the intent of the Clinton administration. that oilderived home heating fuels all be taxed the same as other fuels that are used to heat homes. Madam President. Members of the Senate. this amendment is consistent with the Presidents position on the Btu tax. The ]President has stated. throughout discussions of the matter. that home heating fuel would be treated equally. As proposed. the tax Imposes a higher level on oil. Unless special provisions were made for home heating oil and other home heating. fuels. the result would be that a home heated with natural gas in one part of the country would pay a much lesser tax than a home heated with oil in New England or some other region. The entire purpose of this amendmentagain. as I stated. consistent with the Presidents proposal and In accordance with the Presidents previous statement on the subjectis simply to say that any fuels used to heat homes will be taxed at the same rate. So that If a person heats his or her home with natural gas in the western part of the country. that would be the same tax level as someone heating with propane in the midwestern part of the country and it would be the same level as someone heating with oil In the northern part of the country. It is an effort simply to establish - fair and equal tax for home heating fuels. I commend the Senator from Massachusetts for his leadership on the subject. I commend the President and the administration for their willingness to include such a provision in the Presidents proposal. I reserve the remainder of the time of the Senator from Massachusetts.\n",
      "--------------------\n"
     ]
    }
   ],
   "source": [
    "reload(explore_data)\n",
    "explore_data.print_mispredictions(val_target, val_pred_probs, val, val_ids, descr_df)"
   ]
  },
  {
   "cell_type": "code",
   "execution_count": null,
   "metadata": {},
   "outputs": [],
   "source": []
  }
 ],
 "metadata": {
  "kernelspec": {
   "display_name": "Python 3",
   "language": "python",
   "name": "python3"
  },
  "language_info": {
   "codemirror_mode": {
    "name": "ipython",
    "version": 3
   },
   "file_extension": ".py",
   "mimetype": "text/x-python",
   "name": "python",
   "nbconvert_exporter": "python",
   "pygments_lexer": "ipython3",
   "version": "3.6.5"
  }
 },
 "nbformat": 4,
 "nbformat_minor": 2
}
