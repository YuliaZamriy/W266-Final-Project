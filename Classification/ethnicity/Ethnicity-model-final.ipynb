{
 "cells": [
  {
   "cell_type": "code",
   "execution_count": 2,
   "metadata": {},
   "outputs": [
    {
     "data": {
      "text/html": [
       "<style>.container { width:100% !important; }</style>"
      ],
      "text/plain": [
       "<IPython.core.display.HTML object>"
      ]
     },
     "metadata": {},
     "output_type": "display_data"
    }
   ],
   "source": [
    "# increase cell width\n",
    "from IPython.core.display import display, HTML\n",
    "display(HTML(\"<style>.container { width:100% !important; }</style>\"))"
   ]
  },
  {
   "cell_type": "code",
   "execution_count": 3,
   "metadata": {},
   "outputs": [],
   "source": [
    "from __future__ import absolute_import\n",
    "from __future__ import division\n",
    "from __future__ import print_function\n",
    "\n",
    "import os\n",
    "import random\n",
    "import time\n",
    "import pickle\n",
    "import gc\n",
    "import re\n",
    "import itertools\n",
    "\n",
    "import numpy as np\n",
    "import pandas as pd\n",
    "\n",
    "from importlib import reload\n",
    "\n",
    "import scipy.sparse\n",
    "\n",
    "import matplotlib.pyplot as plt\n",
    "%matplotlib inline"
   ]
  },
  {
   "cell_type": "code",
   "execution_count": 4,
   "metadata": {},
   "outputs": [],
   "source": [
    "from helpers import load_data\n",
    "from helpers import explore_data\n",
    "from helpers import preprocess_data\n",
    "from helpers import train_model"
   ]
  },
  {
   "cell_type": "markdown",
   "metadata": {},
   "source": [
    "### Load validation predicted probabilities"
   ]
  },
  {
   "cell_type": "code",
   "execution_count": 5,
   "metadata": {},
   "outputs": [],
   "source": [
    "main_dir = '/tf/notebooks/'"
   ]
  },
  {
   "cell_type": "code",
   "execution_count": 6,
   "metadata": {},
   "outputs": [],
   "source": [
    "probs_path = main_dir+'final-project/Classification/data/ethnicity'"
   ]
  },
  {
   "cell_type": "code",
   "execution_count": 7,
   "metadata": {},
   "outputs": [],
   "source": [
    "test_pred_probs_mlp_ngram = np.load(os.path.join(probs_path, 'test_pred_probs_mlp_ngram.npy'))\n",
    "test_pred_probs_cnn = np.load(os.path.join(probs_path, 'test_pred_probs_cnn.npy'))\n",
    "test_pred_probs_cnn_aggr_chunk = np.load(os.path.join(probs_path, 'test_pred_probs_cnn_aggr_chunk.npy'))"
   ]
  },
  {
   "cell_type": "code",
   "execution_count": 8,
   "metadata": {},
   "outputs": [
    {
     "data": {
      "text/plain": [
       "(62840, 62840, 62840)"
      ]
     },
     "execution_count": 8,
     "metadata": {},
     "output_type": "execute_result"
    }
   ],
   "source": [
    "len(test_pred_probs_mlp_ngram), len(test_pred_probs_cnn), len(test_pred_probs_cnn_aggr_chunk)"
   ]
  },
  {
   "cell_type": "code",
   "execution_count": 9,
   "metadata": {},
   "outputs": [],
   "source": [
    "with open(os.path.join(probs_path, 'test_ids'), 'rb') as fp:\n",
    "    test_ids = pickle.load(fp)\n",
    "with open(os.path.join(probs_path, 'test_target'), 'rb') as fp:\n",
    "    test_target = pickle.load(fp)\n",
    "with open(os.path.join(probs_path, 'test_list'), 'rb') as fp:\n",
    "    test_list = pickle.load(fp)"
   ]
  },
  {
   "cell_type": "code",
   "execution_count": 10,
   "metadata": {},
   "outputs": [
    {
     "data": {
      "text/plain": [
       "(62840, 62840, 62840)"
      ]
     },
     "execution_count": 10,
     "metadata": {},
     "output_type": "execute_result"
    }
   ],
   "source": [
    "len(test_ids), len(test_target), len(test_list)"
   ]
  },
  {
   "cell_type": "code",
   "execution_count": 11,
   "metadata": {},
   "outputs": [
    {
     "name": "stderr",
     "output_type": "stream",
     "text": [
      "/usr/local/lib/python3.5/dist-packages/numpy/lib/arraysetops.py:569: FutureWarning: elementwise comparison failed; returning scalar instead, but in the future will perform elementwise comparison\n",
      "  mask |= (ar1 == a)\n"
     ]
    },
    {
     "data": {
      "text/plain": [
       "(62840, 17)"
      ]
     },
     "execution_count": 11,
     "metadata": {},
     "output_type": "execute_result"
    }
   ],
   "source": [
    "descr_df = pd.read_csv(main_dir+'final-project/data/QA/full_descr.txt', sep=\"|\", index_col=0)\n",
    "descr_df = descr_df.loc[np.asarray(test_ids, dtype=int)]\n",
    "descr_df.reset_index(inplace=True)\n",
    "descr_df.shape"
   ]
  },
  {
   "cell_type": "code",
   "execution_count": 12,
   "metadata": {},
   "outputs": [
    {
     "data": {
      "text/plain": [
       "(62840, 4)"
      ]
     },
     "execution_count": 12,
     "metadata": {},
     "output_type": "execute_result"
    }
   ],
   "source": [
    "pred_df = pd.DataFrame({'ids': np.asarray(test_ids, dtype=np.int64), \n",
    "                        'pred_probs_mlp_ngram': test_pred_probs_mlp_ngram.flatten(), \n",
    "                        'pred_probs_cnn': test_pred_probs_cnn.flatten(),\n",
    "                        'pred_probs_cnn_chunk': test_pred_probs_cnn_aggr_chunk.flatten()})\n",
    "pred_df.shape"
   ]
  },
  {
   "cell_type": "code",
   "execution_count": 13,
   "metadata": {},
   "outputs": [
    {
     "data": {
      "text/html": [
       "<div>\n",
       "<style scoped>\n",
       "    .dataframe tbody tr th:only-of-type {\n",
       "        vertical-align: middle;\n",
       "    }\n",
       "\n",
       "    .dataframe tbody tr th {\n",
       "        vertical-align: top;\n",
       "    }\n",
       "\n",
       "    .dataframe thead th {\n",
       "        text-align: right;\n",
       "    }\n",
       "</style>\n",
       "<table border=\"1\" class=\"dataframe\">\n",
       "  <thead>\n",
       "    <tr style=\"text-align: right;\">\n",
       "      <th></th>\n",
       "      <th>ids</th>\n",
       "      <th>pred_probs_cnn</th>\n",
       "      <th>pred_probs_cnn_chunk</th>\n",
       "      <th>pred_probs_mlp_ngram</th>\n",
       "    </tr>\n",
       "  </thead>\n",
       "  <tbody>\n",
       "    <tr>\n",
       "      <th>0</th>\n",
       "      <td>980211229</td>\n",
       "      <td>0.699733</td>\n",
       "      <td>0.652895</td>\n",
       "      <td>0.780154</td>\n",
       "    </tr>\n",
       "    <tr>\n",
       "      <th>1</th>\n",
       "      <td>1120080577</td>\n",
       "      <td>0.599892</td>\n",
       "      <td>0.546952</td>\n",
       "      <td>0.298394</td>\n",
       "    </tr>\n",
       "    <tr>\n",
       "      <th>2</th>\n",
       "      <td>970087805</td>\n",
       "      <td>0.330026</td>\n",
       "      <td>0.622395</td>\n",
       "      <td>0.413196</td>\n",
       "    </tr>\n",
       "    <tr>\n",
       "      <th>3</th>\n",
       "      <td>1070071796</td>\n",
       "      <td>0.563146</td>\n",
       "      <td>0.620812</td>\n",
       "      <td>0.468336</td>\n",
       "    </tr>\n",
       "    <tr>\n",
       "      <th>4</th>\n",
       "      <td>1130075886</td>\n",
       "      <td>0.818220</td>\n",
       "      <td>0.639309</td>\n",
       "      <td>0.990493</td>\n",
       "    </tr>\n",
       "  </tbody>\n",
       "</table>\n",
       "</div>"
      ],
      "text/plain": [
       "          ids  pred_probs_cnn  pred_probs_cnn_chunk  pred_probs_mlp_ngram\n",
       "0   980211229        0.699733              0.652895              0.780154\n",
       "1  1120080577        0.599892              0.546952              0.298394\n",
       "2   970087805        0.330026              0.622395              0.413196\n",
       "3  1070071796        0.563146              0.620812              0.468336\n",
       "4  1130075886        0.818220              0.639309              0.990493"
      ]
     },
     "execution_count": 13,
     "metadata": {},
     "output_type": "execute_result"
    }
   ],
   "source": [
    "pred_df.head()"
   ]
  },
  {
   "cell_type": "code",
   "execution_count": 14,
   "metadata": {},
   "outputs": [
    {
     "data": {
      "text/plain": [
       "(62840, 21)"
      ]
     },
     "execution_count": 14,
     "metadata": {},
     "output_type": "execute_result"
    }
   ],
   "source": [
    "descr_pred_df = descr_df.merge(pred_df, left_on='speech_id', right_on='ids')\n",
    "descr_pred_df.shape"
   ]
  },
  {
   "cell_type": "code",
   "execution_count": 15,
   "metadata": {},
   "outputs": [],
   "source": [
    "preds = [\n",
    "    'pred_probs_mlp_ngram',\n",
    "    'pred_probs_cnn', \n",
    "    'pred_probs_cnn_chunk'\n",
    "]"
   ]
  },
  {
   "cell_type": "code",
   "execution_count": 16,
   "metadata": {},
   "outputs": [
    {
     "data": {
      "text/html": [
       "<div>\n",
       "<style scoped>\n",
       "    .dataframe tbody tr th:only-of-type {\n",
       "        vertical-align: middle;\n",
       "    }\n",
       "\n",
       "    .dataframe tbody tr th {\n",
       "        vertical-align: top;\n",
       "    }\n",
       "\n",
       "    .dataframe thead th {\n",
       "        text-align: right;\n",
       "    }\n",
       "</style>\n",
       "<table border=\"1\" class=\"dataframe\">\n",
       "  <thead>\n",
       "    <tr style=\"text-align: right;\">\n",
       "      <th></th>\n",
       "      <th>pred_probs_mlp_ngram</th>\n",
       "      <th>pred_probs_cnn</th>\n",
       "      <th>pred_probs_cnn_chunk</th>\n",
       "    </tr>\n",
       "    <tr>\n",
       "      <th>Ethnicity</th>\n",
       "      <th></th>\n",
       "      <th></th>\n",
       "      <th></th>\n",
       "    </tr>\n",
       "  </thead>\n",
       "  <tbody>\n",
       "    <tr>\n",
       "      <th>AAPIA</th>\n",
       "      <td>0.622872</td>\n",
       "      <td>0.602833</td>\n",
       "      <td>0.567110</td>\n",
       "    </tr>\n",
       "    <tr>\n",
       "      <th>B</th>\n",
       "      <td>0.698588</td>\n",
       "      <td>0.657541</td>\n",
       "      <td>0.609150</td>\n",
       "    </tr>\n",
       "    <tr>\n",
       "      <th>B/AAPIA</th>\n",
       "      <td>0.648246</td>\n",
       "      <td>0.646355</td>\n",
       "      <td>0.589232</td>\n",
       "    </tr>\n",
       "    <tr>\n",
       "      <th>B/H</th>\n",
       "      <td>0.700518</td>\n",
       "      <td>0.675631</td>\n",
       "      <td>0.614712</td>\n",
       "    </tr>\n",
       "    <tr>\n",
       "      <th>H</th>\n",
       "      <td>0.630875</td>\n",
       "      <td>0.622599</td>\n",
       "      <td>0.579381</td>\n",
       "    </tr>\n",
       "    <tr>\n",
       "      <th>H/ME</th>\n",
       "      <td>0.267249</td>\n",
       "      <td>0.270426</td>\n",
       "      <td>0.363496</td>\n",
       "    </tr>\n",
       "    <tr>\n",
       "      <th>ME</th>\n",
       "      <td>0.557819</td>\n",
       "      <td>0.514673</td>\n",
       "      <td>0.499982</td>\n",
       "    </tr>\n",
       "    <tr>\n",
       "      <th>W</th>\n",
       "      <td>0.287612</td>\n",
       "      <td>0.317320</td>\n",
       "      <td>0.388145</td>\n",
       "    </tr>\n",
       "  </tbody>\n",
       "</table>\n",
       "</div>"
      ],
      "text/plain": [
       "           pred_probs_mlp_ngram  pred_probs_cnn  pred_probs_cnn_chunk\n",
       "Ethnicity                                                            \n",
       "AAPIA                  0.622872        0.602833              0.567110\n",
       "B                      0.698588        0.657541              0.609150\n",
       "B/AAPIA                0.648246        0.646355              0.589232\n",
       "B/H                    0.700518        0.675631              0.614712\n",
       "H                      0.630875        0.622599              0.579381\n",
       "H/ME                   0.267249        0.270426              0.363496\n",
       "ME                     0.557819        0.514673              0.499982\n",
       "W                      0.287612        0.317320              0.388145"
      ]
     },
     "execution_count": 16,
     "metadata": {},
     "output_type": "execute_result"
    }
   ],
   "source": [
    "descr_pred_df[preds+['Ethnicity']].groupby('Ethnicity').mean()"
   ]
  },
  {
   "cell_type": "code",
   "execution_count": 17,
   "metadata": {},
   "outputs": [
    {
     "data": {
      "text/html": [
       "<div>\n",
       "<style scoped>\n",
       "    .dataframe tbody tr th:only-of-type {\n",
       "        vertical-align: middle;\n",
       "    }\n",
       "\n",
       "    .dataframe tbody tr th {\n",
       "        vertical-align: top;\n",
       "    }\n",
       "\n",
       "    .dataframe thead th {\n",
       "        text-align: right;\n",
       "    }\n",
       "</style>\n",
       "<table border=\"1\" class=\"dataframe\">\n",
       "  <thead>\n",
       "    <tr style=\"text-align: right;\">\n",
       "      <th></th>\n",
       "      <th>pred_probs_mlp_ngram</th>\n",
       "      <th>pred_probs_cnn</th>\n",
       "      <th>pred_probs_cnn_chunk</th>\n",
       "    </tr>\n",
       "    <tr>\n",
       "      <th>NonWhite</th>\n",
       "      <th></th>\n",
       "      <th></th>\n",
       "      <th></th>\n",
       "    </tr>\n",
       "  </thead>\n",
       "  <tbody>\n",
       "    <tr>\n",
       "      <th>0.0</th>\n",
       "      <td>0.287612</td>\n",
       "      <td>0.317320</td>\n",
       "      <td>0.388145</td>\n",
       "    </tr>\n",
       "    <tr>\n",
       "      <th>1.0</th>\n",
       "      <td>0.653309</td>\n",
       "      <td>0.624304</td>\n",
       "      <td>0.583159</td>\n",
       "    </tr>\n",
       "  </tbody>\n",
       "</table>\n",
       "</div>"
      ],
      "text/plain": [
       "          pred_probs_mlp_ngram  pred_probs_cnn  pred_probs_cnn_chunk\n",
       "NonWhite                                                            \n",
       "0.0                   0.287612        0.317320              0.388145\n",
       "1.0                   0.653309        0.624304              0.583159"
      ]
     },
     "execution_count": 17,
     "metadata": {},
     "output_type": "execute_result"
    }
   ],
   "source": [
    "descr_pred_df[preds+['NonWhite']].groupby('NonWhite').mean()"
   ]
  },
  {
   "cell_type": "code",
   "execution_count": 18,
   "metadata": {},
   "outputs": [
    {
     "data": {
      "text/plain": [
       "0.7653246339910885"
      ]
     },
     "execution_count": 18,
     "metadata": {},
     "output_type": "execute_result"
    }
   ],
   "source": [
    "descr_pred_df['pred_probs_combo'] = descr_pred_df[preds].mean(axis=1)\n",
    "descr_pred_df['pred_combo'] = descr_pred_df['pred_probs_combo'] > 0.5\n",
    "np.mean(test_target==descr_pred_df['pred_combo'].values.flatten())"
   ]
  },
  {
   "cell_type": "markdown",
   "metadata": {},
   "source": [
    "### Save the main dataframe"
   ]
  },
  {
   "cell_type": "code",
   "execution_count": 19,
   "metadata": {},
   "outputs": [],
   "source": [
    "keep_cols = ['speech_id',\n",
    " 'date',\n",
    " 'char_count',\n",
    " 'word_count',\n",
    " 'speakerid',\n",
    " 'Party',\n",
    " 'Congress',\n",
    " 'Chamber',\n",
    " 'State',\n",
    " 'Ethnicity',\n",
    " 'Age',\n",
    " 'Age_lt_med',\n",
    " 'NonWhite',\n",
    " 'Female',\n",
    " 'speaker',\n",
    " 'Full Name',\n",
    " 'match',\n",
    " 'ids',\n",
    " 'pred_probs_combo',\n",
    " 'pred_combo']"
   ]
  },
  {
   "cell_type": "code",
   "execution_count": 20,
   "metadata": {},
   "outputs": [],
   "source": [
    "descr_pred_df[keep_cols].to_pickle(os.path.join(probs_path, 'test_ethnicity_preds.pkl'))"
   ]
  },
  {
   "cell_type": "markdown",
   "metadata": {},
   "source": [
    "### Evaluating final predictions"
   ]
  },
  {
   "cell_type": "code",
   "execution_count": 21,
   "metadata": {},
   "outputs": [],
   "source": [
    "classes = ['White', 'NonWhite']"
   ]
  },
  {
   "cell_type": "code",
   "execution_count": 22,
   "metadata": {},
   "outputs": [
    {
     "name": "stdout",
     "output_type": "stream",
     "text": [
      "Confusion matrix, without normalization\n",
      "[[26157  5263]\n",
      " [ 9484 21936]]\n",
      "              precision    recall  f1-score   support\n",
      "\n",
      "       White       0.73      0.83      0.78     31420\n",
      "    NonWhite       0.81      0.70      0.75     31420\n",
      "\n",
      "   micro avg       0.77      0.77      0.77     62840\n",
      "   macro avg       0.77      0.77      0.76     62840\n",
      "weighted avg       0.77      0.77      0.76     62840\n",
      "\n"
     ]
    },
    {
     "data": {
      "text/plain": [
       "<matplotlib.axes._subplots.AxesSubplot at 0x7fe69e1dc208>"
      ]
     },
     "execution_count": 22,
     "metadata": {},
     "output_type": "execute_result"
    },
    {
     "data": {
      "image/png": "[encoded data removed]",
      "text/plain": [
       "<Figure size 432x288 with 2 Axes>"
      ]
     },
     "metadata": {
      "needs_background": "light"
     },
     "output_type": "display_data"
    }
   ],
   "source": [
    "explore_data.plot_confusion_matrix(test_target, descr_pred_df['pred_combo'], classes, normalize=True)"
   ]
  },
  {
   "cell_type": "code",
   "execution_count": 23,
   "metadata": {
    "scrolled": true
   },
   "outputs": [
    {
     "data": {
      "image/png": "[encoded data removed]",
      "text/plain": [
       "<Figure size 720x720 with 2 Axes>"
      ]
     },
     "metadata": {
      "needs_background": "light"
     },
     "output_type": "display_data"
    }
   ],
   "source": [
    "explore_data.plot_calibration_curve(test_target, descr_pred_df['pred_probs_combo'], 'Ethnicity')"
   ]
  },
  {
   "cell_type": "code",
   "execution_count": 24,
   "metadata": {},
   "outputs": [
    {
     "data": {
      "image/png": "[encoded data removed]",
      "text/plain": [
       "<Figure size 432x288 with 1 Axes>"
      ]
     },
     "metadata": {
      "needs_background": "light"
     },
     "output_type": "display_data"
    }
   ],
   "source": [
    "_=plt.hist(descr_pred_df[descr_pred_df.NonWhite==1]['pred_probs_combo'], alpha=0.5)\n",
    "_=plt.hist(descr_pred_df[descr_pred_df.NonWhite==0]['pred_probs_combo'], alpha=0.5)\n",
    "plt.show()"
   ]
  },
  {
   "cell_type": "code",
   "execution_count": 25,
   "metadata": {},
   "outputs": [
    {
     "name": "stdout",
     "output_type": "stream",
     "text": [
      "Validation sample means:\n",
      "      Gender_F  Ethinicity_NW    AvgAge   Party_D  Chamber_H  AvgWordCount\n",
      "base   0.17508            0.5  58.34591  0.691168    0.69591    379.805617\n"
     ]
    },
    {
     "data": {
      "text/html": [
       "<div>\n",
       "<style scoped>\n",
       "    .dataframe tbody tr th:only-of-type {\n",
       "        vertical-align: middle;\n",
       "    }\n",
       "\n",
       "    .dataframe tbody tr th {\n",
       "        vertical-align: top;\n",
       "    }\n",
       "\n",
       "    .dataframe thead th {\n",
       "        text-align: right;\n",
       "    }\n",
       "</style>\n",
       "<table border=\"1\" class=\"dataframe\">\n",
       "  <thead>\n",
       "    <tr style=\"text-align: right;\">\n",
       "      <th></th>\n",
       "      <th>Gender_F</th>\n",
       "      <th>Ethinicity_NW</th>\n",
       "      <th>AvgAge</th>\n",
       "      <th>Party_D</th>\n",
       "      <th>Chamber_H</th>\n",
       "      <th>AvgWordCount</th>\n",
       "    </tr>\n",
       "  </thead>\n",
       "  <tbody>\n",
       "    <tr>\n",
       "      <th>0.4</th>\n",
       "      <td>0.39</td>\n",
       "      <td>0.40</td>\n",
       "      <td>0.99</td>\n",
       "      <td>0.77</td>\n",
       "      <td>0.66</td>\n",
       "      <td>1.08</td>\n",
       "    </tr>\n",
       "    <tr>\n",
       "      <th>0.6</th>\n",
       "      <td>0.98</td>\n",
       "      <td>1.10</td>\n",
       "      <td>0.99</td>\n",
       "      <td>1.03</td>\n",
       "      <td>1.21</td>\n",
       "      <td>0.84</td>\n",
       "    </tr>\n",
       "    <tr>\n",
       "      <th>1.0</th>\n",
       "      <td>1.85</td>\n",
       "      <td>1.74</td>\n",
       "      <td>1.01</td>\n",
       "      <td>1.29</td>\n",
       "      <td>1.29</td>\n",
       "      <td>1.03</td>\n",
       "    </tr>\n",
       "  </tbody>\n",
       "</table>\n",
       "</div>"
      ],
      "text/plain": [
       "     Gender_F  Ethinicity_NW  AvgAge  Party_D  Chamber_H  AvgWordCount\n",
       "0.4      0.39           0.40    0.99     0.77       0.66          1.08\n",
       "0.6      0.98           1.10    0.99     1.03       1.21          0.84\n",
       "1.0      1.85           1.74    1.01     1.29       1.29          1.03"
      ]
     },
     "execution_count": 25,
     "metadata": {},
     "output_type": "execute_result"
    }
   ],
   "source": [
    "reload(explore_data)\n",
    "# checking the ratios of demo variables in low-mid-high probability buckets\n",
    "explore_data.check_bin_probs_distr(descr_pred_df['pred_probs_combo'], \n",
    "                                   test_ids, \n",
    "                                   descr_df.set_index('speech_id'))"
   ]
  },
  {
   "cell_type": "code",
   "execution_count": 26,
   "metadata": {},
   "outputs": [
    {
     "name": "stdout",
     "output_type": "stream",
     "text": [
      "\n",
      "Top 20 ngrams by differentiating score:\n"
     ]
    },
    {
     "data": {
      "text/html": [
       "<div>\n",
       "<style scoped>\n",
       "    .dataframe tbody tr th:only-of-type {\n",
       "        vertical-align: middle;\n",
       "    }\n",
       "\n",
       "    .dataframe tbody tr th {\n",
       "        vertical-align: top;\n",
       "    }\n",
       "\n",
       "    .dataframe thead th {\n",
       "        text-align: right;\n",
       "    }\n",
       "</style>\n",
       "<table border=\"1\" class=\"dataframe\">\n",
       "  <thead>\n",
       "    <tr style=\"text-align: right;\">\n",
       "      <th></th>\n",
       "      <th>ngram</th>\n",
       "      <th>&lt;0.4</th>\n",
       "      <th>&lt;0.6</th>\n",
       "      <th>&lt;1.0</th>\n",
       "      <th>score</th>\n",
       "    </tr>\n",
       "  </thead>\n",
       "  <tbody>\n",
       "    <tr>\n",
       "      <th>0</th>\n",
       "      <td>black</td>\n",
       "      <td>397.0</td>\n",
       "      <td>424.0</td>\n",
       "      <td>5707.0</td>\n",
       "      <td>607.0</td>\n",
       "    </tr>\n",
       "    <tr>\n",
       "      <th>1</th>\n",
       "      <td>african</td>\n",
       "      <td>212.0</td>\n",
       "      <td>344.0</td>\n",
       "      <td>3240.0</td>\n",
       "      <td>505.0</td>\n",
       "    </tr>\n",
       "    <tr>\n",
       "      <th>2</th>\n",
       "      <td>caucus</td>\n",
       "      <td>347.0</td>\n",
       "      <td>228.0</td>\n",
       "      <td>2417.0</td>\n",
       "      <td>487.0</td>\n",
       "    </tr>\n",
       "    <tr>\n",
       "      <th>3</th>\n",
       "      <td>consume</td>\n",
       "      <td>525.0</td>\n",
       "      <td>1232.0</td>\n",
       "      <td>1467.0</td>\n",
       "      <td>463.0</td>\n",
       "    </tr>\n",
       "    <tr>\n",
       "      <th>4</th>\n",
       "      <td>honor</td>\n",
       "      <td>2070.0</td>\n",
       "      <td>1572.0</td>\n",
       "      <td>3716.0</td>\n",
       "      <td>337.0</td>\n",
       "    </tr>\n",
       "    <tr>\n",
       "      <th>5</th>\n",
       "      <td>civil</td>\n",
       "      <td>1444.0</td>\n",
       "      <td>1268.0</td>\n",
       "      <td>3864.0</td>\n",
       "      <td>331.0</td>\n",
       "    </tr>\n",
       "    <tr>\n",
       "      <th>6</th>\n",
       "      <td>minorities</td>\n",
       "      <td>115.0</td>\n",
       "      <td>121.0</td>\n",
       "      <td>1189.0</td>\n",
       "      <td>325.0</td>\n",
       "    </tr>\n",
       "    <tr>\n",
       "      <th>7</th>\n",
       "      <td>printed</td>\n",
       "      <td>1710.0</td>\n",
       "      <td>412.0</td>\n",
       "      <td>283.0</td>\n",
       "      <td>320.0</td>\n",
       "    </tr>\n",
       "    <tr>\n",
       "      <th>8</th>\n",
       "      <td>city</td>\n",
       "      <td>2211.0</td>\n",
       "      <td>1687.0</td>\n",
       "      <td>5067.0</td>\n",
       "      <td>319.0</td>\n",
       "    </tr>\n",
       "    <tr>\n",
       "      <th>9</th>\n",
       "      <td>congressional</td>\n",
       "      <td>2972.0</td>\n",
       "      <td>1537.0</td>\n",
       "      <td>4360.0</td>\n",
       "      <td>311.0</td>\n",
       "    </tr>\n",
       "    <tr>\n",
       "      <th>10</th>\n",
       "      <td>senators</td>\n",
       "      <td>4208.0</td>\n",
       "      <td>782.0</td>\n",
       "      <td>1070.0</td>\n",
       "      <td>303.0</td>\n",
       "    </tr>\n",
       "    <tr>\n",
       "      <th>11</th>\n",
       "      <td>her</td>\n",
       "      <td>6243.0</td>\n",
       "      <td>3752.0</td>\n",
       "      <td>11968.0</td>\n",
       "      <td>297.0</td>\n",
       "    </tr>\n",
       "    <tr>\n",
       "      <th>12</th>\n",
       "      <td>racial</td>\n",
       "      <td>132.0</td>\n",
       "      <td>134.0</td>\n",
       "      <td>1030.0</td>\n",
       "      <td>288.0</td>\n",
       "    </tr>\n",
       "    <tr>\n",
       "      <th>13</th>\n",
       "      <td>women</td>\n",
       "      <td>3251.0</td>\n",
       "      <td>2943.0</td>\n",
       "      <td>7490.0</td>\n",
       "      <td>284.0</td>\n",
       "    </tr>\n",
       "    <tr>\n",
       "      <th>14</th>\n",
       "      <td>gentlewoman</td>\n",
       "      <td>458.0</td>\n",
       "      <td>718.0</td>\n",
       "      <td>1580.0</td>\n",
       "      <td>283.0</td>\n",
       "    </tr>\n",
       "    <tr>\n",
       "      <th>15</th>\n",
       "      <td>hispanic</td>\n",
       "      <td>63.0</td>\n",
       "      <td>130.0</td>\n",
       "      <td>1732.0</td>\n",
       "      <td>260.0</td>\n",
       "    </tr>\n",
       "    <tr>\n",
       "      <th>16</th>\n",
       "      <td>hawaii</td>\n",
       "      <td>178.0</td>\n",
       "      <td>125.0</td>\n",
       "      <td>2001.0</td>\n",
       "      <td>259.0</td>\n",
       "    </tr>\n",
       "    <tr>\n",
       "      <th>17</th>\n",
       "      <td>equality</td>\n",
       "      <td>107.0</td>\n",
       "      <td>133.0</td>\n",
       "      <td>869.0</td>\n",
       "      <td>256.0</td>\n",
       "    </tr>\n",
       "    <tr>\n",
       "      <th>18</th>\n",
       "      <td>color</td>\n",
       "      <td>91.0</td>\n",
       "      <td>88.0</td>\n",
       "      <td>707.0</td>\n",
       "      <td>252.0</td>\n",
       "    </tr>\n",
       "    <tr>\n",
       "      <th>19</th>\n",
       "      <td>spending</td>\n",
       "      <td>6270.0</td>\n",
       "      <td>1347.0</td>\n",
       "      <td>1192.0</td>\n",
       "      <td>251.0</td>\n",
       "    </tr>\n",
       "  </tbody>\n",
       "</table>\n",
       "</div>"
      ],
      "text/plain": [
       "            ngram    <0.4    <0.6     <1.0  score\n",
       "0           black   397.0   424.0   5707.0  607.0\n",
       "1         african   212.0   344.0   3240.0  505.0\n",
       "2          caucus   347.0   228.0   2417.0  487.0\n",
       "3         consume   525.0  1232.0   1467.0  463.0\n",
       "4           honor  2070.0  1572.0   3716.0  337.0\n",
       "5           civil  1444.0  1268.0   3864.0  331.0\n",
       "6      minorities   115.0   121.0   1189.0  325.0\n",
       "7         printed  1710.0   412.0    283.0  320.0\n",
       "8            city  2211.0  1687.0   5067.0  319.0\n",
       "9   congressional  2972.0  1537.0   4360.0  311.0\n",
       "10       senators  4208.0   782.0   1070.0  303.0\n",
       "11            her  6243.0  3752.0  11968.0  297.0\n",
       "12         racial   132.0   134.0   1030.0  288.0\n",
       "13          women  3251.0  2943.0   7490.0  284.0\n",
       "14    gentlewoman   458.0   718.0   1580.0  283.0\n",
       "15       hispanic    63.0   130.0   1732.0  260.0\n",
       "16         hawaii   178.0   125.0   2001.0  259.0\n",
       "17       equality   107.0   133.0    869.0  256.0\n",
       "18          color    91.0    88.0    707.0  252.0\n",
       "19       spending  6270.0  1347.0   1192.0  251.0"
      ]
     },
     "execution_count": 26,
     "metadata": {},
     "output_type": "execute_result"
    }
   ],
   "source": [
    "reload(explore_data)\n",
    "explore_data.compare_ngrams(test_list, descr_pred_df['pred_probs_combo'], \n",
    "                            ngram_range=(1, 1),\n",
    "                            top_k=20)"
   ]
  },
  {
   "cell_type": "markdown",
   "metadata": {},
   "source": [
    "## Congressperson level analysis"
   ]
  },
  {
   "cell_type": "code",
   "execution_count": 29,
   "metadata": {},
   "outputs": [
    {
     "data": {
      "text/plain": [
       "(1710, 9)"
      ]
     },
     "execution_count": 29,
     "metadata": {},
     "output_type": "execute_result"
    }
   ],
   "source": [
    "speaker_df = descr_pred_df[['Full Name', 'Party', 'State', 'Female', 'NonWhite', 'Age', 'pred_probs_combo', 'speech_id']]\\\n",
    "                .groupby(['Full Name', 'Party', 'State', 'Female', 'NonWhite'])\\\n",
    "                .agg({'pred_probs_combo':['mean'], 'Age': ['mean'], 'speech_id': ['count']})\\\n",
    "                .reset_index()\n",
    "speaker_df.columns = ['_'.join(col) for col in speaker_df.columns]\n",
    "speaker_df['NonWhite_pred_'] = speaker_df.pred_probs_combo_mean > 0.5\n",
    "speaker_df.shape"
   ]
  },
  {
   "cell_type": "code",
   "execution_count": 30,
   "metadata": {},
   "outputs": [
    {
     "name": "stdout",
     "output_type": "stream",
     "text": [
      "Confusion matrix, without normalization\n",
      "[[1265  219]\n",
      " [  32  194]]\n",
      "              precision    recall  f1-score   support\n",
      "\n",
      "       White       0.98      0.85      0.91      1484\n",
      "    NonWhite       0.47      0.86      0.61       226\n",
      "\n",
      "   micro avg       0.85      0.85      0.85      1710\n",
      "   macro avg       0.72      0.86      0.76      1710\n",
      "weighted avg       0.91      0.85      0.87      1710\n",
      "\n"
     ]
    },
    {
     "data": {
      "text/plain": [
       "<matplotlib.axes._subplots.AxesSubplot at 0x7fe69f430588>"
      ]
     },
     "execution_count": 30,
     "metadata": {},
     "output_type": "execute_result"
    },
    {
     "data": {
      "image/png": "[encoded data removed]",
      "text/plain": [
       "<Figure size 432x288 with 2 Axes>"
      ]
     },
     "metadata": {
      "needs_background": "light"
     },
     "output_type": "display_data"
    }
   ],
   "source": [
    "explore_data.plot_confusion_matrix(speaker_df.NonWhite_, speaker_df.NonWhite_pred_, classes, normalize=True)"
   ]
  },
  {
   "cell_type": "code",
   "execution_count": 31,
   "metadata": {},
   "outputs": [
    {
     "data": {
      "image/png": "[encoded data removed]",
      "text/plain": [
       "<Figure size 432x288 with 1 Axes>"
      ]
     },
     "metadata": {
      "needs_background": "light"
     },
     "output_type": "display_data"
    }
   ],
   "source": [
    "_=plt.hist(speaker_df[speaker_df.NonWhite_==1]['pred_probs_combo_mean'], alpha=0.5)\n",
    "_=plt.hist(speaker_df[speaker_df.NonWhite_==0]['pred_probs_combo_mean'], alpha=0.5)\n",
    "plt.show()"
   ]
  },
  {
   "cell_type": "code",
   "execution_count": 35,
   "metadata": {},
   "outputs": [
    {
     "data": {
      "image/png": "[encoded data removed]",
      "text/plain": [
       "<Figure size 432x288 with 1 Axes>"
      ]
     },
     "metadata": {
      "needs_background": "light"
     },
     "output_type": "display_data"
    }
   ],
   "source": [
    "_=plt.hist(speaker_df[(speaker_df.NonWhite_==1) & (speaker_df.speech_id_count>speaker_df.speech_id_count.median())]['pred_probs_combo_mean'], alpha=0.5)\n",
    "_=plt.hist(speaker_df[(speaker_df.NonWhite_==0) & (speaker_df.speech_id_count>speaker_df.speech_id_count.median())]['pred_probs_combo_mean'], alpha=0.5)\n",
    "plt.show()"
   ]
  },
  {
   "cell_type": "code",
   "execution_count": 38,
   "metadata": {},
   "outputs": [
    {
     "data": {
      "text/plain": [
       "(848, 9)"
      ]
     },
     "execution_count": 38,
     "metadata": {},
     "output_type": "execute_result"
    }
   ],
   "source": [
    "speaker_med_df = speaker_df[speaker_df.speech_id_count > speaker_df.speech_id_count.median()]\n",
    "speaker_med_df.shape"
   ]
  },
  {
   "cell_type": "code",
   "execution_count": 39,
   "metadata": {},
   "outputs": [
    {
     "name": "stdout",
     "output_type": "stream",
     "text": [
      "Confusion matrix, without normalization\n",
      "[[605  42]\n",
      " [ 28 173]]\n",
      "              precision    recall  f1-score   support\n",
      "\n",
      "       White       0.96      0.94      0.95       647\n",
      "    NonWhite       0.80      0.86      0.83       201\n",
      "\n",
      "   micro avg       0.92      0.92      0.92       848\n",
      "   macro avg       0.88      0.90      0.89       848\n",
      "weighted avg       0.92      0.92      0.92       848\n",
      "\n"
     ]
    },
    {
     "data": {
      "text/plain": [
       "<matplotlib.axes._subplots.AxesSubplot at 0x7fe69f8c7f28>"
      ]
     },
     "execution_count": 39,
     "metadata": {},
     "output_type": "execute_result"
    },
    {
     "data": {
      "image/png": "[encoded data removed]",
      "text/plain": [
       "<Figure size 432x288 with 2 Axes>"
      ]
     },
     "metadata": {
      "needs_background": "light"
     },
     "output_type": "display_data"
    }
   ],
   "source": [
    "explore_data.plot_confusion_matrix(speaker_med_df.NonWhite_, speaker_med_df.NonWhite_pred_, classes, normalize=True)"
   ]
  },
  {
   "cell_type": "code",
   "execution_count": 40,
   "metadata": {},
   "outputs": [
    {
     "data": {
      "text/plain": [
       "Full Name_               HALL, KATIE\n",
       "Party_                             D\n",
       "State_                            IN\n",
       "Female_                            1\n",
       "NonWhite_                          1\n",
       "speech_id_count                   46\n",
       "pred_probs_combo_mean       0.807885\n",
       "Age_mean                          46\n",
       "NonWhite_pred_                  True\n",
       "Name: 678, dtype: object"
      ]
     },
     "execution_count": 40,
     "metadata": {},
     "output_type": "execute_result"
    }
   ],
   "source": [
    "tp = np.argmax(speaker_med_df[speaker_med_df.NonWhite_==1].pred_probs_combo_mean.values)\n",
    "speaker_med_df[speaker_med_df.NonWhite_==1].iloc[tp]"
   ]
  },
  {
   "cell_type": "code",
   "execution_count": 41,
   "metadata": {},
   "outputs": [
    {
     "data": {
      "text/plain": [
       "Full Name_               BARRASSO, JOHN\n",
       "Party_                                R\n",
       "State_                               WY\n",
       "Female_                               0\n",
       "NonWhite_                             0\n",
       "speech_id_count                      16\n",
       "pred_probs_combo_mean          0.165778\n",
       "Age_mean                         60.875\n",
       "NonWhite_pred_                    False\n",
       "Name: 71, dtype: object"
      ]
     },
     "execution_count": 41,
     "metadata": {},
     "output_type": "execute_result"
    }
   ],
   "source": [
    "tn = np.argmin(speaker_med_df[speaker_med_df.NonWhite_==0].pred_probs_combo_mean.values)\n",
    "speaker_med_df[speaker_med_df.NonWhite_==0].iloc[tn]"
   ]
  },
  {
   "cell_type": "code",
   "execution_count": 42,
   "metadata": {},
   "outputs": [
    {
     "data": {
      "text/plain": [
       "Full Name_               BORDALLO, MADELEINE\n",
       "Party_                                     D\n",
       "State_                                    GU\n",
       "Female_                                    1\n",
       "NonWhite_                                  0\n",
       "speech_id_count                           18\n",
       "pred_probs_combo_mean               0.736895\n",
       "Age_mean                             75.2222\n",
       "NonWhite_pred_                          True\n",
       "Name: 153, dtype: object"
      ]
     },
     "execution_count": 42,
     "metadata": {},
     "output_type": "execute_result"
    }
   ],
   "source": [
    "fp = np.argmax(speaker_med_df[speaker_med_df.NonWhite_==0].pred_probs_combo_mean.values)\n",
    "speaker_med_df[speaker_med_df.NonWhite_==0].iloc[fp]"
   ]
  },
  {
   "cell_type": "code",
   "execution_count": 43,
   "metadata": {},
   "outputs": [
    {
     "data": {
      "text/plain": [
       "Full Name_               MOONEY, ALEX\n",
       "Party_                              R\n",
       "State_                             WV\n",
       "Female_                             0\n",
       "NonWhite_                           1\n",
       "speech_id_count                    12\n",
       "pred_probs_combo_mean        0.290235\n",
       "Age_mean                           45\n",
       "NonWhite_pred_                  False\n",
       "Name: 1128, dtype: object"
      ]
     },
     "execution_count": 43,
     "metadata": {},
     "output_type": "execute_result"
    }
   ],
   "source": [
    "fn = np.argmin(speaker_med_df[speaker_med_df.NonWhite_==1].pred_probs_combo_mean.values)\n",
    "speaker_med_df[speaker_med_df.NonWhite_==1].iloc[fn]"
   ]
  },
  {
   "cell_type": "markdown",
   "metadata": {},
   "source": [
    "## Congress level analysis"
   ]
  },
  {
   "cell_type": "code",
   "execution_count": 44,
   "metadata": {},
   "outputs": [
    {
     "data": {
      "text/plain": [
       "(18, 5)"
      ]
     },
     "execution_count": 44,
     "metadata": {},
     "output_type": "execute_result"
    }
   ],
   "source": [
    "congress_df = descr_pred_df[['Congress', 'NonWhite', 'pred_probs_combo', 'pred_combo']]\\\n",
    "                .groupby('Congress')\\\n",
    "                .agg({'NonWhite': ['mean', 'sum'], 'pred_combo': ['mean']})\\\n",
    "                .reset_index()\n",
    "congress_df.columns = ['_'.join(col) for col in congress_df.columns]\n",
    "congress_df['Prediction_balance'] = congress_df.pred_combo_mean / congress_df.NonWhite_mean\n",
    "congress_df.shape"
   ]
  },
  {
   "cell_type": "code",
   "execution_count": 45,
   "metadata": {},
   "outputs": [
    {
     "data": {
      "image/png": "[encoded data removed]",
      "text/plain": [
       "<Figure size 720x360 with 2 Axes>"
      ]
     },
     "metadata": {
      "needs_background": "light"
     },
     "output_type": "display_data"
    }
   ],
   "source": [
    "fig, ax1 = plt.subplots(figsize=(10, 5))\n",
    "\n",
    "color = 'tab:red'\n",
    "ax1.set_xlabel('Congress')\n",
    "ax1.set_ylabel('NonWhite speech counts', color=color)\n",
    "ax1.plot(congress_df.Congress_, congress_df.NonWhite_sum, color=color)\n",
    "ax1.tick_params(axis='y', labelcolor=color)\n",
    "\n",
    "ax2 = ax1.twinx()  # instantiate a second axes that shares the same x-axis\n",
    "\n",
    "color = 'tab:blue'\n",
    "ax2.set_ylabel('Predicted / Actual', color=color)  # we already handled the x-label with ax1\n",
    "ax2.plot(congress_df.Congress_, congress_df.Prediction_balance, color=color)\n",
    "ax2.tick_params(axis='y', labelcolor=color)\n",
    "\n",
    "ax2.hlines(y=1,xmin=97,xmax=114, color=color, linestyles='dashed')\n",
    "\n",
    "fig.tight_layout()  # otherwise the right y-label is slightly clipped\n",
    "plt.xticks(range(97,115))\n",
    "plt.show()"
   ]
  },
  {
   "cell_type": "code",
   "execution_count": null,
   "metadata": {},
   "outputs": [],
   "source": []
  }
 ],
 "metadata": {
  "kernelspec": {
   "display_name": "Python 3",
   "language": "python",
   "name": "python3"
  },
  "language_info": {
   "codemirror_mode": {
    "name": "ipython",
    "version": 3
   },
   "file_extension": ".py",
   "mimetype": "text/x-python",
   "name": "python",
   "nbconvert_exporter": "python",
   "pygments_lexer": "ipython3",
   "version": "3.5.2"
  }
 },
 "nbformat": 4,
 "nbformat_minor": 2
}
