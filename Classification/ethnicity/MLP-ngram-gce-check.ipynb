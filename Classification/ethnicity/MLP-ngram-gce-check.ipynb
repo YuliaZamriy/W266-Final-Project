{
 "cells": [
  {
   "cell_type": "code",
   "execution_count": 1,
   "metadata": {},
   "outputs": [
    {
     "data": {
      "text/plain": [
       "2"
      ]
     },
     "execution_count": 1,
     "metadata": {},
     "output_type": "execute_result"
    }
   ],
   "source": [
    "1+1"
   ]
  },
  {
   "cell_type": "code",
   "execution_count": 5,
   "metadata": {},
   "outputs": [
    {
     "data": {
      "text/html": [
       "<style>.container { width:100% !important; }</style>"
      ],
      "text/plain": [
       "<IPython.core.display.HTML object>"
      ]
     },
     "metadata": {},
     "output_type": "display_data"
    }
   ],
   "source": [
    "# increase cell width\n",
    "from IPython.core.display import display, HTML\n",
    "display(HTML(\"<style>.container { width:100% !important; }</style>\"))"
   ]
  },
  {
   "cell_type": "markdown",
   "metadata": {},
   "source": [
    "Inspiration for code:\n",
    "\n",
    "- https://developers.google.com/machine-learning/guides/text-classification/\n",
    "- https://github.com/google/eng-edu/blob/master/ml/guides/text_classification/load_data.py"
   ]
  },
  {
   "cell_type": "code",
   "execution_count": 6,
   "metadata": {},
   "outputs": [],
   "source": [
    "from __future__ import absolute_import\n",
    "from __future__ import division\n",
    "from __future__ import print_function\n",
    "\n",
    "import os\n",
    "import random\n",
    "import time\n",
    "import pickle\n",
    "import gc\n",
    "import re\n",
    "\n",
    "import numpy as np\n",
    "import pandas as pd\n",
    "\n",
    "from importlib import reload"
   ]
  },
  {
   "cell_type": "code",
   "execution_count": 4,
   "metadata": {},
   "outputs": [],
   "source": [
    "from helpers import load_data\n",
    "from helpers import explore_data\n",
    "from helpers import preprocess_data\n",
    "from helpers import train_model"
   ]
  },
  {
   "cell_type": "markdown",
   "metadata": {},
   "source": [
    "## Load the data"
   ]
  },
  {
   "cell_type": "code",
   "execution_count": 15,
   "metadata": {},
   "outputs": [
    {
     "name": "stdout",
     "output_type": "stream",
     "text": [
      "\u001b[0m\u001b[01;34mAge\u001b[0m/  \u001b[01;34mEthnicity\u001b[0m/  \u001b[01;34mParty\u001b[0m/  \u001b[01;34membedded\u001b[0m/  \u001b[01;34mtokenized\u001b[0m/\r\n"
     ]
    }
   ],
   "source": [
    "ls ../data"
   ]
  },
  {
   "cell_type": "code",
   "execution_count": 16,
   "metadata": {},
   "outputs": [],
   "source": [
    "main_dir = '/tf/notebooks/'"
   ]
  },
  {
   "cell_type": "markdown",
   "metadata": {},
   "source": [
    "# Ethniciy Model"
   ]
  },
  {
   "cell_type": "markdown",
   "metadata": {},
   "source": [
    "## Load the data"
   ]
  },
  {
   "cell_type": "code",
   "execution_count": 19,
   "metadata": {},
   "outputs": [],
   "source": [
    "ethn_data_path = main_dir + 'final-project/Classification/data/Ethnicity'"
   ]
  },
  {
   "cell_type": "code",
   "execution_count": 20,
   "metadata": {},
   "outputs": [],
   "source": [
    "with open(os.path.join(ethn_data_path, 'train_list'), 'rb') as fp:\n",
    "    train = pickle.load(fp)\n",
    "with open(os.path.join(ethn_data_path, 'train_ids'), 'rb') as fp:\n",
    "    train_ids = pickle.load(fp)\n",
    "with open(os.path.join(ethn_data_path, 'train_target'), 'rb') as fp:\n",
    "    train_target = pickle.load(fp)\n",
    "with open(os.path.join(ethn_data_path, 'val_list'), 'rb') as fp:\n",
    "    val = pickle.load(fp)\n",
    "with open(os.path.join(ethn_data_path, 'val_ids'), 'rb') as fp:\n",
    "    val_ids = pickle.load(fp)\n",
    "with open(os.path.join(ethn_data_path, 'val_target'), 'rb') as fp:\n",
    "    val_target = pickle.load(fp)"
   ]
  },
  {
   "cell_type": "code",
   "execution_count": 21,
   "metadata": {},
   "outputs": [
    {
     "data": {
      "text/plain": [
       "(28280, 28280, 28280, 9426, 9426, 9426)"
      ]
     },
     "execution_count": 21,
     "metadata": {},
     "output_type": "execute_result"
    }
   ],
   "source": [
    "len(train), len(train_ids), len(train_target), len(val), len(val_ids), len(val_target)"
   ]
  },
  {
   "cell_type": "code",
   "execution_count": 22,
   "metadata": {},
   "outputs": [
    {
     "data": {
      "text/plain": [
       "(14140, 4713)"
      ]
     },
     "execution_count": 22,
     "metadata": {},
     "output_type": "execute_result"
    }
   ],
   "source": [
    "sum(train_target), sum(val_target)"
   ]
  },
  {
   "cell_type": "markdown",
   "metadata": {},
   "source": [
    "# Age Model"
   ]
  },
  {
   "cell_type": "code",
   "execution_count": 32,
   "metadata": {},
   "outputs": [],
   "source": [
    "age_data_path = main_dir + 'final-project/Classification/data/Age'"
   ]
  },
  {
   "cell_type": "code",
   "execution_count": 33,
   "metadata": {},
   "outputs": [],
   "source": [
    "with open(os.path.join(age_data_path, 'train_list'), 'rb') as fp:\n",
    "    train = pickle.load(fp)\n",
    "with open(os.path.join(age_data_path, 'train_ids'), 'rb') as fp:\n",
    "    train_ids = pickle.load(fp)\n",
    "with open(os.path.join(age_data_path, 'train_target'), 'rb') as fp:\n",
    "    train_target = pickle.load(fp)\n",
    "with open(os.path.join(age_data_path, 'val_list'), 'rb') as fp:\n",
    "    val = pickle.load(fp)\n",
    "with open(os.path.join(age_data_path, 'val_ids'), 'rb') as fp:\n",
    "    val_ids = pickle.load(fp)\n",
    "with open(os.path.join(age_data_path, 'val_target'), 'rb') as fp:\n",
    "    val_target = pickle.load(fp)"
   ]
  },
  {
   "cell_type": "code",
   "execution_count": 34,
   "metadata": {},
   "outputs": [
    {
     "data": {
      "text/plain": [
       "(28280, 28280, 28280, 9426, 9426, 9426)"
      ]
     },
     "execution_count": 34,
     "metadata": {},
     "output_type": "execute_result"
    }
   ],
   "source": [
    "len(train), len(train_ids), len(train_target), len(val), len(val_ids), len(val_target)"
   ]
  },
  {
   "cell_type": "code",
   "execution_count": 35,
   "metadata": {},
   "outputs": [
    {
     "data": {
      "text/plain": [
       "(14140, 4713)"
      ]
     },
     "execution_count": 35,
     "metadata": {},
     "output_type": "execute_result"
    }
   ],
   "source": [
    "sum(train_target), sum(val_target)"
   ]
  },
  {
   "cell_type": "markdown",
   "metadata": {},
   "source": [
    "## EDA on train data"
   ]
  },
  {
   "cell_type": "code",
   "execution_count": 23,
   "metadata": {},
   "outputs": [
    {
     "data": {
      "text/plain": [
       "253.0"
      ]
     },
     "execution_count": 23,
     "metadata": {},
     "output_type": "execute_result"
    }
   ],
   "source": [
    "explore_data.get_num_words_per_sample(train)"
   ]
  },
  {
   "cell_type": "code",
   "execution_count": 24,
   "metadata": {},
   "outputs": [
    {
     "data": {
      "text/plain": [
       "256.0"
      ]
     },
     "execution_count": 24,
     "metadata": {},
     "output_type": "execute_result"
    }
   ],
   "source": [
    "explore_data.get_num_words_per_sample(val)"
   ]
  },
  {
   "cell_type": "code",
   "execution_count": 25,
   "metadata": {},
   "outputs": [
    {
     "name": "stdout",
     "output_type": "stream",
     "text": [
      "Speech length percentiles\n",
      "    0     10    20     30     40     50     60     70     80     90       100\n",
      "0  31.0  48.0  89.0  146.0  195.0  253.0  330.0  424.0  578.0  860.0  21422.0\n"
     ]
    },
    {
     "data": {
      "image/png": "[encoded data removed]",
      "text/plain": [
       "<Figure size 1440x720 with 1 Axes>"
      ]
     },
     "metadata": {
      "needs_background": "light"
     },
     "output_type": "display_data"
    }
   ],
   "source": [
    "explore_data.plot_sample_length_distribution(train)"
   ]
  },
  {
   "cell_type": "markdown",
   "metadata": {},
   "source": [
    "## N-gram model"
   ]
  },
  {
   "cell_type": "code",
   "execution_count": 33,
   "metadata": {},
   "outputs": [],
   "source": [
    "train_vec = scipy.sparse.load_npz(os.path.join(outdata_path, 'train_vec.npz'))\n",
    "val_vec = scipy.sparse.load_npz(os.path.join(outdata_path, 'val_vec.npz'))\n",
    "test_vec = scipy.sparse.load_npz(os.path.join(outdata_path, 'test_vec.npz'))"
   ]
  },
  {
   "cell_type": "code",
   "execution_count": null,
   "metadata": {},
   "outputs": [],
   "source": [
    "val_vec = scipy.sparse.load_npz(os.path.join(outdata_path, 'val_vec.npz'))"
   ]
  },
  {
   "cell_type": "code",
   "execution_count": 34,
   "metadata": {},
   "outputs": [
    {
     "data": {
      "text/plain": [
       "((57808, 10000), (19268, 10000), (19272, 10000))"
      ]
     },
     "execution_count": 34,
     "metadata": {},
     "output_type": "execute_result"
    }
   ],
   "source": [
    "train_vec.shape, val_vec.shape, test_vec.shape"
   ]
  },
  {
   "cell_type": "markdown",
   "metadata": {},
   "source": [
    "### Model: Multi-Layer Perceptron (Vanilla NN)"
   ]
  },
  {
   "cell_type": "markdown",
   "metadata": {},
   "source": [
    "## Model evaluation"
   ]
  },
  {
   "cell_type": "code",
   "execution_count": 26,
   "metadata": {},
   "outputs": [],
   "source": [
    "with open(os.path.join(data_path, 'val_pred_probs'), 'rb') as fp:\n",
    "    val_pred_probs = pickle.load(fp)"
   ]
  },
  {
   "cell_type": "code",
   "execution_count": 27,
   "metadata": {},
   "outputs": [
    {
     "data": {
      "text/plain": [
       "6934"
      ]
     },
     "execution_count": 27,
     "metadata": {},
     "output_type": "execute_result"
    }
   ],
   "source": [
    "val_preds = val_pred_probs > 0.5\n",
    "np.sum(val_preds.flatten()==val_target)"
   ]
  },
  {
   "cell_type": "code",
   "execution_count": 28,
   "metadata": {},
   "outputs": [
    {
     "name": "stdout",
     "output_type": "stream",
     "text": [
      "Confusion matrix, without normalization\n",
      "[[3561 1152]\n",
      " [1340 3373]]\n",
      "              precision    recall  f1-score   support\n",
      "\n",
      "        Male       0.73      0.76      0.74      4713\n",
      "      Female       0.75      0.72      0.73      4713\n",
      "\n",
      "   micro avg       0.74      0.74      0.74      9426\n",
      "   macro avg       0.74      0.74      0.74      9426\n",
      "weighted avg       0.74      0.74      0.74      9426\n",
      "\n"
     ]
    },
    {
     "data": {
      "text/plain": [
       "<matplotlib.axes._subplots.AxesSubplot at 0x7f38a63b1e80>"
      ]
     },
     "execution_count": 28,
     "metadata": {},
     "output_type": "execute_result"
    },
    {
     "data": {
      "image/png": "[encoded data removed]",
      "text/plain": [
       "<Figure size 432x288 with 2 Axes>"
      ]
     },
     "metadata": {
      "needs_background": "light"
     },
     "output_type": "display_data"
    }
   ],
   "source": [
    "reload(explore_data)\n",
    "# specify class names in 0 - 1 order\n",
    "classes = ['Male', 'Female']\n",
    "explore_data.plot_confusion_matrix(val_target, val_preds, classes, normalize=True)"
   ]
  },
  {
   "cell_type": "code",
   "execution_count": 29,
   "metadata": {
    "scrolled": false
   },
   "outputs": [
    {
     "data": {
      "image/png": "[encoded data removed]",
      "text/plain": [
       "<Figure size 720x720 with 2 Axes>"
      ]
     },
     "metadata": {
      "needs_background": "light"
     },
     "output_type": "display_data"
    }
   ],
   "source": [
    "reload(explore_data)\n",
    "explore_data.plot_calibration_curve(val_target, val_pred_probs, 'Gender')"
   ]
  },
  {
   "cell_type": "code",
   "execution_count": 30,
   "metadata": {},
   "outputs": [
    {
     "name": "stderr",
     "output_type": "stream",
     "text": [
      "/usr/local/lib/python3.5/dist-packages/numpy/lib/arraysetops.py:569: FutureWarning: elementwise comparison failed; returning scalar instead, but in the future will perform elementwise comparison\n",
      "  mask |= (ar1 == a)\n"
     ]
    },
    {
     "data": {
      "text/plain": [
       "(9426, 16)"
      ]
     },
     "execution_count": 30,
     "metadata": {},
     "output_type": "execute_result"
    }
   ],
   "source": [
    "descr_df = pd.read_csv(main_dir+'final-project/data/QA/full_descr.txt', sep=\"|\", index_col=0)\n",
    "descr_df = descr_df.loc[np.asarray(val_ids, dtype=int)]\n",
    "descr_df.shape"
   ]
  },
  {
   "cell_type": "code",
   "execution_count": 31,
   "metadata": {},
   "outputs": [
    {
     "data": {
      "text/html": [
       "<div>\n",
       "<style scoped>\n",
       "    .dataframe tbody tr th:only-of-type {\n",
       "        vertical-align: middle;\n",
       "    }\n",
       "\n",
       "    .dataframe tbody tr th {\n",
       "        vertical-align: top;\n",
       "    }\n",
       "\n",
       "    .dataframe thead th {\n",
       "        text-align: right;\n",
       "    }\n",
       "</style>\n",
       "<table border=\"1\" class=\"dataframe\">\n",
       "  <thead>\n",
       "    <tr style=\"text-align: right;\">\n",
       "      <th></th>\n",
       "      <th>date</th>\n",
       "      <th>char_count</th>\n",
       "      <th>word_count</th>\n",
       "      <th>speakerid</th>\n",
       "      <th>Party</th>\n",
       "      <th>Congress</th>\n",
       "      <th>Chamber</th>\n",
       "      <th>State</th>\n",
       "      <th>Ethnicity</th>\n",
       "      <th>Age</th>\n",
       "      <th>Age_lt_med</th>\n",
       "      <th>NonWhite</th>\n",
       "      <th>Female</th>\n",
       "      <th>speaker</th>\n",
       "      <th>Full Name</th>\n",
       "      <th>match</th>\n",
       "    </tr>\n",
       "    <tr>\n",
       "      <th>speech_id</th>\n",
       "      <th></th>\n",
       "      <th></th>\n",
       "      <th></th>\n",
       "      <th></th>\n",
       "      <th></th>\n",
       "      <th></th>\n",
       "      <th></th>\n",
       "      <th></th>\n",
       "      <th></th>\n",
       "      <th></th>\n",
       "      <th></th>\n",
       "      <th></th>\n",
       "      <th></th>\n",
       "      <th></th>\n",
       "      <th></th>\n",
       "      <th></th>\n",
       "    </tr>\n",
       "  </thead>\n",
       "  <tbody>\n",
       "    <tr>\n",
       "      <th>970034678</th>\n",
       "      <td>19810521</td>\n",
       "      <td>3397</td>\n",
       "      <td>507</td>\n",
       "      <td>97112170.0</td>\n",
       "      <td>D</td>\n",
       "      <td>97</td>\n",
       "      <td>H</td>\n",
       "      <td>OH</td>\n",
       "      <td>B</td>\n",
       "      <td>57.0</td>\n",
       "      <td>0.0</td>\n",
       "      <td>1.0</td>\n",
       "      <td>0.0</td>\n",
       "      <td>Mr. STOKES</td>\n",
       "      <td>STOKES, LOUIS</td>\n",
       "      <td>fuzzy</td>\n",
       "    </tr>\n",
       "    <tr>\n",
       "      <th>1140107584</th>\n",
       "      <td>20160712</td>\n",
       "      <td>3503</td>\n",
       "      <td>565</td>\n",
       "      <td>114121700.0</td>\n",
       "      <td>D</td>\n",
       "      <td>114</td>\n",
       "      <td>H</td>\n",
       "      <td>CA</td>\n",
       "      <td>B</td>\n",
       "      <td>78.0</td>\n",
       "      <td>0.0</td>\n",
       "      <td>1.0</td>\n",
       "      <td>1.0</td>\n",
       "      <td>Ms. MAXINE WATERS of California</td>\n",
       "      <td>WATERS, MAXINE</td>\n",
       "      <td>exact</td>\n",
       "    </tr>\n",
       "    <tr>\n",
       "      <th>1140036275</th>\n",
       "      <td>20150617</td>\n",
       "      <td>985</td>\n",
       "      <td>168</td>\n",
       "      <td>114121750.0</td>\n",
       "      <td>D</td>\n",
       "      <td>114</td>\n",
       "      <td>H</td>\n",
       "      <td>FL</td>\n",
       "      <td>B</td>\n",
       "      <td>74.0</td>\n",
       "      <td>0.0</td>\n",
       "      <td>1.0</td>\n",
       "      <td>1.0</td>\n",
       "      <td>Ms. WILSON of Florida</td>\n",
       "      <td>WILSON, FREDERICA</td>\n",
       "      <td>exact</td>\n",
       "    </tr>\n",
       "    <tr>\n",
       "      <th>1140062682</th>\n",
       "      <td>20151116</td>\n",
       "      <td>2802</td>\n",
       "      <td>528</td>\n",
       "      <td>114119300.0</td>\n",
       "      <td>D</td>\n",
       "      <td>114</td>\n",
       "      <td>H</td>\n",
       "      <td>MD</td>\n",
       "      <td>B</td>\n",
       "      <td>58.0</td>\n",
       "      <td>1.0</td>\n",
       "      <td>1.0</td>\n",
       "      <td>1.0</td>\n",
       "      <td>Ms. EDWARDS</td>\n",
       "      <td>EDWARDS, DONNA</td>\n",
       "      <td>exact</td>\n",
       "    </tr>\n",
       "    <tr>\n",
       "      <th>1030014310</th>\n",
       "      <td>19930316</td>\n",
       "      <td>419</td>\n",
       "      <td>67</td>\n",
       "      <td>103112360.0</td>\n",
       "      <td>D</td>\n",
       "      <td>103</td>\n",
       "      <td>H</td>\n",
       "      <td>MO</td>\n",
       "      <td>B</td>\n",
       "      <td>63.0</td>\n",
       "      <td>0.0</td>\n",
       "      <td>1.0</td>\n",
       "      <td>0.0</td>\n",
       "      <td>Mr. CLAY</td>\n",
       "      <td>CLAY, WILLIAM</td>\n",
       "      <td>fuzzy</td>\n",
       "    </tr>\n",
       "  </tbody>\n",
       "</table>\n",
       "</div>"
      ],
      "text/plain": [
       "                date  char_count  word_count    speakerid Party  Congress  \\\n",
       "speech_id                                                                   \n",
       "970034678   19810521        3397         507   97112170.0     D        97   \n",
       "1140107584  20160712        3503         565  114121700.0     D       114   \n",
       "1140036275  20150617         985         168  114121750.0     D       114   \n",
       "1140062682  20151116        2802         528  114119300.0     D       114   \n",
       "1030014310  19930316         419          67  103112360.0     D       103   \n",
       "\n",
       "           Chamber State Ethnicity   Age  Age_lt_med  NonWhite  Female  \\\n",
       "speech_id                                                                \n",
       "970034678        H    OH         B  57.0         0.0       1.0     0.0   \n",
       "1140107584       H    CA         B  78.0         0.0       1.0     1.0   \n",
       "1140036275       H    FL         B  74.0         0.0       1.0     1.0   \n",
       "1140062682       H    MD         B  58.0         1.0       1.0     1.0   \n",
       "1030014310       H    MO         B  63.0         0.0       1.0     0.0   \n",
       "\n",
       "                                    speaker          Full Name  match  \n",
       "speech_id                                                              \n",
       "970034678                        Mr. STOKES      STOKES, LOUIS  fuzzy  \n",
       "1140107584  Ms. MAXINE WATERS of California     WATERS, MAXINE  exact  \n",
       "1140036275            Ms. WILSON of Florida  WILSON, FREDERICA  exact  \n",
       "1140062682                      Ms. EDWARDS     EDWARDS, DONNA  exact  \n",
       "1030014310                         Mr. CLAY      CLAY, WILLIAM  fuzzy  "
      ]
     },
     "execution_count": 31,
     "metadata": {},
     "output_type": "execute_result"
    }
   ],
   "source": [
    "descr_df.head()"
   ]
  },
  {
   "cell_type": "code",
   "execution_count": 56,
   "metadata": {},
   "outputs": [
    {
     "name": "stdout",
     "output_type": "stream",
     "text": [
      "Validation sample means:\n",
      "      Gender_F  Ethinicity_NW     AvgAge   Party_D  Chamber_H  AvgWordCount\n",
      "base       0.5       0.173991  58.285477  0.621468   0.659816     387.29868\n"
     ]
    },
    {
     "data": {
      "text/html": [
       "<div>\n",
       "<style scoped>\n",
       "    .dataframe tbody tr th:only-of-type {\n",
       "        vertical-align: middle;\n",
       "    }\n",
       "\n",
       "    .dataframe tbody tr th {\n",
       "        vertical-align: top;\n",
       "    }\n",
       "\n",
       "    .dataframe thead th {\n",
       "        text-align: right;\n",
       "    }\n",
       "</style>\n",
       "<table border=\"1\" class=\"dataframe\">\n",
       "  <thead>\n",
       "    <tr style=\"text-align: right;\">\n",
       "      <th></th>\n",
       "      <th>Gender_F</th>\n",
       "      <th>Ethinicity_NW</th>\n",
       "      <th>AvgAge</th>\n",
       "      <th>Party_D</th>\n",
       "      <th>Chamber_H</th>\n",
       "      <th>AvgWordCount</th>\n",
       "    </tr>\n",
       "  </thead>\n",
       "  <tbody>\n",
       "    <tr>\n",
       "      <th>0.4</th>\n",
       "      <td>0.39</td>\n",
       "      <td>0.41</td>\n",
       "      <td>0.99</td>\n",
       "      <td>0.82</td>\n",
       "      <td>0.75</td>\n",
       "      <td>0.94</td>\n",
       "    </tr>\n",
       "    <tr>\n",
       "      <th>0.6</th>\n",
       "      <td>0.97</td>\n",
       "      <td>0.83</td>\n",
       "      <td>0.98</td>\n",
       "      <td>0.93</td>\n",
       "      <td>1.11</td>\n",
       "      <td>0.83</td>\n",
       "    </tr>\n",
       "    <tr>\n",
       "      <th>1.0</th>\n",
       "      <td>1.58</td>\n",
       "      <td>1.62</td>\n",
       "      <td>1.01</td>\n",
       "      <td>1.19</td>\n",
       "      <td>1.19</td>\n",
       "      <td>1.12</td>\n",
       "    </tr>\n",
       "  </tbody>\n",
       "</table>\n",
       "</div>"
      ],
      "text/plain": [
       "     Gender_F  Ethinicity_NW  AvgAge  Party_D  Chamber_H  AvgWordCount\n",
       "0.4      0.39           0.41    0.99     0.82       0.75          0.94\n",
       "0.6      0.97           0.83    0.98     0.93       1.11          0.83\n",
       "1.0      1.58           1.62    1.01     1.19       1.19          1.12"
      ]
     },
     "execution_count": 56,
     "metadata": {},
     "output_type": "execute_result"
    }
   ],
   "source": [
    "reload(explore_data)\n",
    "# checking the ratios of demo variables in low-mid-high probability buckets\n",
    "explore_data.check_bin_probs_distr(val_pred_probs, \n",
    "                                   val_ids, \n",
    "                                   descr_df)"
   ]
  },
  {
   "cell_type": "code",
   "execution_count": 10,
   "metadata": {},
   "outputs": [
    {
     "name": "stdout",
     "output_type": "stream",
     "text": [
      "\n",
      "Top 10 ngrams by differentiating score:\n",
      "sonoma \t 11479.1\n",
      "sonoma county \t 9561.5\n",
      "the sonoma \t 4714.7\n",
      "in sonoma \t 4674.3\n",
      "of sonoma \t 3948.5\n",
      "smart security \t 3922.0\n",
      "century smart \t 3723.2\n",
      "smart stands \t 3291.8\n",
      "create smart \t 3056.8\n",
      "multilateral partnerships \t 2736.7\n"
     ]
    },
    {
     "data": {
      "text/html": [
       "<div>\n",
       "<style scoped>\n",
       "    .dataframe tbody tr th:only-of-type {\n",
       "        vertical-align: middle;\n",
       "    }\n",
       "\n",
       "    .dataframe tbody tr th {\n",
       "        vertical-align: top;\n",
       "    }\n",
       "\n",
       "    .dataframe thead th {\n",
       "        text-align: right;\n",
       "    }\n",
       "</style>\n",
       "<table border=\"1\" class=\"dataframe\">\n",
       "  <thead>\n",
       "    <tr style=\"text-align: right;\">\n",
       "      <th>bin</th>\n",
       "      <th>1</th>\n",
       "      <th>2</th>\n",
       "      <th>3</th>\n",
       "      <th>4</th>\n",
       "    </tr>\n",
       "  </thead>\n",
       "  <tbody>\n",
       "    <tr>\n",
       "      <th>century smart</th>\n",
       "      <td>0.0</td>\n",
       "      <td>0.0</td>\n",
       "      <td>1.0</td>\n",
       "      <td>8.0</td>\n",
       "    </tr>\n",
       "    <tr>\n",
       "      <th>create smart</th>\n",
       "      <td>0.0</td>\n",
       "      <td>0.0</td>\n",
       "      <td>0.0</td>\n",
       "      <td>6.0</td>\n",
       "    </tr>\n",
       "    <tr>\n",
       "      <th>in sonoma</th>\n",
       "      <td>0.0</td>\n",
       "      <td>0.0</td>\n",
       "      <td>13.0</td>\n",
       "      <td>24.0</td>\n",
       "    </tr>\n",
       "    <tr>\n",
       "      <th>multilateral partnerships</th>\n",
       "      <td>0.0</td>\n",
       "      <td>0.0</td>\n",
       "      <td>0.0</td>\n",
       "      <td>7.0</td>\n",
       "    </tr>\n",
       "    <tr>\n",
       "      <th>of sonoma</th>\n",
       "      <td>0.0</td>\n",
       "      <td>0.0</td>\n",
       "      <td>10.0</td>\n",
       "      <td>21.0</td>\n",
       "    </tr>\n",
       "    <tr>\n",
       "      <th>smart security</th>\n",
       "      <td>0.0</td>\n",
       "      <td>0.0</td>\n",
       "      <td>32.0</td>\n",
       "      <td>48.0</td>\n",
       "    </tr>\n",
       "    <tr>\n",
       "      <th>smart stands</th>\n",
       "      <td>0.0</td>\n",
       "      <td>0.0</td>\n",
       "      <td>2.0</td>\n",
       "      <td>8.0</td>\n",
       "    </tr>\n",
       "    <tr>\n",
       "      <th>sonoma</th>\n",
       "      <td>0.0</td>\n",
       "      <td>1.0</td>\n",
       "      <td>78.0</td>\n",
       "      <td>113.0</td>\n",
       "    </tr>\n",
       "    <tr>\n",
       "      <th>sonoma county</th>\n",
       "      <td>0.0</td>\n",
       "      <td>0.0</td>\n",
       "      <td>36.0</td>\n",
       "      <td>84.0</td>\n",
       "    </tr>\n",
       "    <tr>\n",
       "      <th>the sonoma</th>\n",
       "      <td>0.0</td>\n",
       "      <td>0.0</td>\n",
       "      <td>18.0</td>\n",
       "      <td>31.0</td>\n",
       "    </tr>\n",
       "  </tbody>\n",
       "</table>\n",
       "</div>"
      ],
      "text/plain": [
       "bin                          1    2     3      4\n",
       "century smart              0.0  0.0   1.0    8.0\n",
       "create smart               0.0  0.0   0.0    6.0\n",
       "in sonoma                  0.0  0.0  13.0   24.0\n",
       "multilateral partnerships  0.0  0.0   0.0    7.0\n",
       "of sonoma                  0.0  0.0  10.0   21.0\n",
       "smart security             0.0  0.0  32.0   48.0\n",
       "smart stands               0.0  0.0   2.0    8.0\n",
       "sonoma                     0.0  1.0  78.0  113.0\n",
       "sonoma county              0.0  0.0  36.0   84.0\n",
       "the sonoma                 0.0  0.0  18.0   31.0"
      ]
     },
     "execution_count": 10,
     "metadata": {},
     "output_type": "execute_result"
    }
   ],
   "source": [
    "reload(explore_data)\n",
    "explore_data.compare_ngrams(val, val_pred_probs, ngram_range=(1, 2))"
   ]
  },
  {
   "cell_type": "markdown",
   "metadata": {},
   "source": [
    "#### Run the following test on a random subset of the validation sample"
   ]
  },
  {
   "cell_type": "code",
   "execution_count": 11,
   "metadata": {},
   "outputs": [
    {
     "data": {
      "text/plain": [
       "0.10097901651891064"
      ]
     },
     "execution_count": 11,
     "metadata": {},
     "output_type": "execute_result"
    }
   ],
   "source": [
    "np.random.seed(100)\n",
    "val_random = np.random.choice(a=[0,1], size=len(val_target), p = [0.9,0.1])\n",
    "val_random.sum()/val_random.shape[0]"
   ]
  },
  {
   "cell_type": "code",
   "execution_count": 12,
   "metadata": {},
   "outputs": [
    {
     "data": {
      "text/plain": [
       "(6333, 6333, 6333)"
      ]
     },
     "execution_count": 12,
     "metadata": {},
     "output_type": "execute_result"
    }
   ],
   "source": [
    "val_sample, val_ids_sample, val_pred_probs_sample = [], [], []\n",
    "for i in range(len(val_ids)):\n",
    "    if val_random[i] == 1:\n",
    "        val_sample.append(val[i])\n",
    "        val_ids_sample.append(val_ids[i])\n",
    "        val_pred_probs_sample.append(val_pred_probs[i])\n",
    "len(val_sample), len(val_ids_sample), len(val_pred_probs_sample)"
   ]
  },
  {
   "cell_type": "code",
   "execution_count": 13,
   "metadata": {},
   "outputs": [
    {
     "name": "stdout",
     "output_type": "stream",
     "text": [
      "\n",
      "In 0.4 bin top 10 ngrams:\n",
      "\n",
      "the united states\n",
      "the senator from\n",
      "are going to\n",
      "the gentleman from\n",
      "one of the\n",
      "would like to\n",
      "we are going\n",
      "of the united\n",
      "we are going to\n",
      "is going to\n",
      "--------------------\n",
      "\n",
      "In 0.6 bin top 10 ngrams:\n",
      "\n",
      "the united states\n",
      "the gentleman from\n",
      "would like to\n",
      "my colleagues to\n",
      "one of the\n",
      "mr speaker rise\n",
      "ask unanimous consent\n",
      "rise today to\n",
      "the american people\n",
      "of the united\n",
      "--------------------\n",
      "\n",
      "In 1.0 bin top 10 ngrams:\n",
      "\n",
      "the united states\n",
      "my colleagues to\n",
      "one of the\n",
      "the american people\n",
      "mr speaker rise\n",
      "the gentleman from\n",
      "would like to\n",
      "urge my colleagues\n",
      "be able to\n",
      "we need to\n",
      "--------------------\n"
     ]
    }
   ],
   "source": [
    "reload(explore_data)\n",
    "explore_data.ngrams_by_bin(val_sample, val_pred_probs_sample)"
   ]
  },
  {
   "cell_type": "code",
   "execution_count": 12,
   "metadata": {
    "scrolled": false
   },
   "outputs": [
    {
     "name": "stdout",
     "output_type": "stream",
     "text": [
      "\n",
      "True positive (Predicted prob: 1.00):\n",
      "\n",
      "date                        19950323\n",
      "char_count                      1963\n",
      "word_count                       334\n",
      "speakerid                1.04114e+08\n",
      "Party                              R\n",
      "Congress                         104\n",
      "Chamber                            H\n",
      "State                             WA\n",
      "Ethnicity                          W\n",
      "Age                               55\n",
      "Age_lt_med                         0\n",
      "NonWhite                           0\n",
      "Female                             1\n",
      "speaker       Ms. DUNN of Washington\n",
      "Full Name             DUNN, JENNIFER\n",
      "match                          exact\n",
      "Name: 1040044513, dtype: object\n",
      "\n",
      " Mr. Chairman. on behalf of some of Americas neediest and yet valued citizens. we begin the process of ending welfare as a way of life and restoring welfare assistance to itsoriginal purpose. to provide temporary help to our neighbors in need. Air. Chairman. Americans are a generous people who have long demonstrated our commitment to help our neighbors. families and children in need. but the American people also ask for results for our efforts. To the American taxpayers who have. so far. spent $5 trillion to support what has been described by both sides in this House debate as a failed welfare system. let me assure them that our bill is a bottonup review. The Republican bill will remove the incentives that encourage welfare dependency and provide new incentives that encourage work and lift people from the cycle of poverty. As part of providing support to the soontobe working mothers. Mr. Chairman. we are offering an amendment that will provide an additional $750 million in child care funding to these parents. As people move off welfare the women with children. especially preschool children. could be caught in a trap. Rightfully they are required to enter the work force. and yet also rightfull\" 1.hey are worried about the safety . -heir children. Our amendment heps newly working mothers meet their personal responsibility obligations and address the legitimate concerns for their children. Last Saturday. Mr. Chairman. as home in Washington State I met with a group of welfare mothers at a Head Start meeting. They were unanimous and emphatic in their desire to get off welfare. but one thing they did ask for help on was the responsibility of funding day care. Help them find good day care. and they will take the responsibility of finding work in the private sector. Mr. Chairman. as a single mother who raised two sons. I know the value of good day care and the peace of mind when it is found. I urge my colleagues to support this amendment.\n",
      "--------------------\n",
      "\n",
      "True negative (Predicted prob: 0.05):\n",
      "\n",
      "date             20110304\n",
      "char_count          10878\n",
      "word_count           1999\n",
      "speakerid     1.12121e+08\n",
      "Party                   D\n",
      "Congress              112\n",
      "Chamber                 S\n",
      "State                  NV\n",
      "Ethnicity               W\n",
      "Age                    73\n",
      "Age_lt_med              0\n",
      "NonWhite                0\n",
      "Female                  0\n",
      "speaker          Mr. REID\n",
      "Full Name     REID, HARRY\n",
      "match               exact\n",
      "Name: 1120013994, dtype: object\n",
      "\n",
      " Three hundred and eightytwo pages. Well. Mr. President. I have only talked about enough to take up two or three pages. but it is full of the same kind of stuff I have talked about todaystuff that is not fair and is meanspirited. We all want to cut. I represent the State of Nevada. We are in a deep economic problem. We know. though. we have to cut things. The Presiding Officer is from the State of Connecticut. We are both members of the Democratic Party. We have supported these programs because it was the right thing to do. We recognize there is going to have to be cuts made. but we have to do it with a scalpel. not a meat cleaver. Then to hear that a Member of the House said: Well. I didnt know it was in the billeliminating and cutting drastically a program for people with emotional. mental. and physical challengesI didnt know it was in the bill. Well. there is a lot of that same type of stuff in this bill. H.R. 1. That is why it is going to be defeated here. I would say to my friends. the Republicans. I cant imagine you will all vote for this bill. We have to move beyond partisan politics and do what is right. I dont know how many. but not all Republicans will vote for that. I have been castigated in the press: Why doesnt REID allow a vote? Lets have a vote. Well. I am willing to move on that. but I couldnt do it. I had to file cloture to move to proceed to it. They wouldnt even let me do that. But we are going to get to it because I know the procedures around here. I can get to this bill. and I can do it next week. I have just talked about the tip of the iceberg with this meanspirited H.R. 1. Federal Reserve Chairman Bernanke said these cutsand there are many more like them than I have already said there arewill cost a significant number of jobs. Mark Zandi. the chief economist at Moodys and formerly the chief economic adviser for JOHN MCCAIN. has said that H.R. 1 will cost our country 700.000 jobs. These cuts place far too heavy a burden on working families. lowincome children and seniors. and it asks little. if any. sacrifice from those who rake in unnecessary taxpayerfunded subsidies they do not need. That is no way to recover. Look at oil and gas subsidies. The former head of Chevron Oil said: We dont need them. we are doing fine. Mr. President. I have been very helpful to my farm State Senators. I have helped them work their way through droughts and floods and all kinds of things. I understand how important agriculture is. But very few times in the history of our country have commodity prices been so highso high. Dont you think they could take a little nicka little nickrather than take it away from Head Start Programs and programs such as that? Our plan was filed today by Senator INOUYE. who is a very sensitive. good man. I dont need to recount who he is. but he is one of the most famous men in the history of our country. He has been in Congress a long time. but we always remember this man was a hero on the battlefields of Italy where he lost his arm and was badly injured. As a result of his heroic actions there. he received a Congressional Medal of Honor. But he is also a hero in these legislative Halls. He was one of the leaders in the Watergate hearings. and there are many other things he has done over the years to become a hero in addition to being a hero on the battlefield. The amendment we have filed is his amendment. So Democrats have a different planthe Inouye planwhich represents our different priorities. and it is supported by the President. We know we have to make cuts. I have said that this morning several times. We also know when we cut. we have to cut in a way that strengthens our economy not in a way that weakens it. We have to look carefully at the quality of these cuts and not get blinded by the quantity of the cuts. I have said before that a person could lose a lot of weightyou. I. anybody in this room. We could cut off our arms and legs. and we would have accomplished the purpose of losing a lot of weight. But no doctor would recommend it. That is what they have done with H.R. 1. No wellreasoning economist would recommend it. Our plan cuts $51 billion from President Obamas budget but in a much more responsible way. We are eliminating redundancies. ending unnecessary bureaucratic programs. and cutting funds for earmarks. We have agreed to cut funding for earmarks. I dont like that. I have told the President I dont like it. I believe we are giving up too much power to the President in getting rid of those earmarks. We have obligations to do congressionally directed funding. But I have agreed. as all of us over here have. to accept that. Remember. Mr. President. when we have a budget of $10 and we have 2/10 of 1 percent that goes to congressionally directed funding. it is still the same amount of money. It is just that the President didnt determine where that money is spent. Congress had a say in it. But we have agreed. We have agreed. We have earmarks in here. billions of dollars of them. that are going to go toward cutting the deficit. I have agreed to accept that. So ending unnecessary bureaucratic programs and cutting funding. as I have indicated. for other things. I commend my friend. Dr. COBURN. the Senator from Oklahoma. He got a GAO report that shows all kinds of redundancies and overlapping. Those are places we can cut money. Lets do it. Our plan recognizes we are not in competition to determine who can cut the most without regard for the consequences. Rather. we need to cooperate to figure out where we can cut the smartest. While the Housepassed plan is based on ideology. we believe ours is based on reality. Not ideology. but reality. These are decisions about real money to solve real problems that affect real lives. Our budget affirms our determination that we have to also reflect our values. We see our modestly recovering economy. including todays news about employers hiring at the fastest rate in a year. and the national unemployment rate fell to a nearly 2year low. We cant squander this cautiously optimistic news with counterproductive cutseliminating 700.000 jobs. I hope when we have these votes next week on H.R. 1 people will run from that. For the people who vote for that. it will take all their legislative lives and afterwards trying to live down having voted for that bill. But this is what each Senator will vote for or against next week. These votes. like all our votes. are about choices. and what I have just outlined is what these choices represent. Not to spoil the surprise. but we all know how this vote will turn out. We know neither will reach the Presidents desk as written. Republicans likely will not vote for ours. I hope they do. If it were a simple majority vote. we would win that. But Republicans have established a different standard60 votes. We accept that. So we will end up back at square 1. without consensus. without a budget for the rest of this fiscal year. and without assurance that we can keep the country running. So once these votes are behind us and everyones voice is heard. I hope each Senator and Member of Congress will find renewed motivation to do what we have needed to do since the beginning: come together. negotiate in good faith. working on consensus and compromise. Legislation is the art of compromise. Legislation is not who can flex their muscles the biggest. the longest. and the hardest. Legislation is the art of compromise. working out things for the American people. We have to acknowledge that the answer that will allow us to move forward lies somewhere between our two positions perhaps. We have to recognize that digging in ones heels threatens our fiscal footing. If one side stubbornly demands victory. everyone loses. That goes for both parties and both Chambers. This negotiation will not happen in the media. and a solution cannot be found in extreme rhetoric or unrealistic idealism. It will happen when we sit down and have an adult conversation about what our country and our constituents need. That is the only worthy exercise. How we invest taxpayer money. how we create a foundation for our future. how we articulate our priorities to our citizens and States across the country and allies around the world is not political. It is among the most practical things we do. There is no dispute among the 53 Democrats. We are willing to cut. We have cut $51 billion from our Presidents budget. As we talked about. we are willing to do more. But we are not willing to do this with a meat axe. We want to do it the right way. We want to take a scalpel and be very careful how we affect peoples lives. And when it is over with. we dont want people saying I didnt know it was in the bill. even though it affects that person as personally as anything could. When we talk about where to invest and what to cut. everyone is concerned about the budgets bottom line. When we talk about how we can get there. here is the bottom line of the negotiation process: Yes. we have to make tough choices. but that is what leadership is all about. It is true that no one here will get everything he or she wants. My friend. the Presiding Officer. was a longtime attorney general of one of ourI was going to say most famous Statesbut one of the original States. who is noted for his fairness. If an attorney general or a lawyer is noted for fairness. that person is known to be willing to compromise. That is what it is all about. It is the same in the law as it is here in the Senate. When we talk about how we can get there. the bottom line is negotiation. We have to make tough choices. But I repeat. that is what leadership is all about. Today marks 150 years since Abraham Lincoln took his first oath of office as the President of our countrywhose very existence at the time was in question. Like the incomplete Nation he had just sworn to lead. this great Capitol building was unfinished. As he addressed the Nation for the first time as President. President Lincoln stood on the east front of the Capitol building under cranes and scaffolding that represented growth and uncertainty at the same time. Now. 150 years. later the threats we face are nowhere near as dire as the Civil War Lincolns America was about to endure but his words that afternoon are useful to us to hear this afternoon. for we are again at a moment of peril in our country. Again. we will sink or swim together. As Lincoln closed that Inaugural Address 150 years ago today. he reminded a divided nation that. \"we are not enemies but friends. . . . Though passion may have strained it. it must not break our bonds of affection.\" Lincoln then famously called on us to recall the \"better angels of our nature.\" Those are his words. If we listen to his critical lesson in leadership at this critical moment in history. we will secure in our time a stronger future for this great Nation we call America.\n",
      "--------------------\n",
      "\n",
      "False positive (Predicted prob: 0.92):\n",
      "\n",
      "date                  20160210\n",
      "char_count                3094\n",
      "word_count                 570\n",
      "speakerid          1.14118e+08\n",
      "Party                        D\n",
      "Congress                   114\n",
      "Chamber                      S\n",
      "State                       MD\n",
      "Ethnicity                    W\n",
      "Age                         73\n",
      "Age_lt_med                   0\n",
      "NonWhite                     0\n",
      "Female                       0\n",
      "speaker             Mr. CARDIN\n",
      "Full Name     CARDIN, BENJAMIN\n",
      "match                    exact\n",
      "Name: 1140076885, dtype: object\n",
      "\n",
      " Madam President. I first thank Senator KAINE for his input in this legislation and so much other legislation that goes through the Senate Foreign Relations Committee. He is an extremely valuable member of our committee. a very good thinker. but more importantly he listens to others in the committee and finds a common way that we can make important national foreign policy issues bipartisan. He has done that and did that with the Iran review act in reaching a way that we could bring that together in a bipartisan manner. He was very helpful on the North Korean sanction bill that we have on the floor. so I thank Senator KAINE for his contributions. I say to Senator CORKER. I know we are getting near the end of this debate. I have been listening to this debate throughout the day. and I think it points out the best traditions of the U.S. Senate. So many Members have come to the floor in serious debate about the national security challenge that North Korea presentsnot just. as I said. to the Korean Peninsula. not just to our allies in East Asia but globallyand how U.S. leadership is going to be vitally important and we are going to act. The United States is going to act. The Senate tonight is going to pass a very strong sanctions bill. a very strong message bill that we do not intend to sit back and let North Korea proliferate their weapons of mass destruction. We also dont plan to sit back and let them commit gross violations of human rights. We will not sit back and allow them to attack our intellectual property through cyber security attacks. and we are going to act as one. united. We are going to act. Democrats and Republicans. House and Senate. We are going to work with the administration. We are going to get this done. Then. yes. we are going to go to the international community. We are going to put pressure on other countries. We know the Republic of Korea is with us. We know Japan is with us. China needs to be with us. and we are going to go and talk to China. explain and work with them so we can get international pressure to isolate the North Korean regime until they change their course. It is critically important to our security but also to the people of North Korea. I thought this debate has been in the best tradition of the U.S. Senate. Again. we had the architects. as Senator KAINE pointed out. drafting this bill. Senator CORKERS leadership clearly set the climate in our committee so we could have that type of debate. I am sorry no one here could sit in on some of Senator CORKER and Senator MENENDEZS meetings as they were negotiating the specific terms of the bill. Each had their views. but they listened to each other. They recognized that by listening to each other they could come out at the end of the day with a stronger bill. As a result of our two colleagues. we were able to reach that common ground and I think very shortly we are going to be able to show the people of in country the best traditions of the U.S. Senate on foreign policy issues. I am very proud to work with Senator CORKER and my colleagues on this bill. Thank you.\n",
      "--------------------\n",
      "\n",
      "False negative (Predicted prob: 0.01):\n",
      "\n",
      "date                19910515\n",
      "char_count              1364\n",
      "word_count               254\n",
      "speakerid         1.0211e+08\n",
      "Party                      R\n",
      "Congress                 102\n",
      "Chamber                    H\n",
      "State                     MD\n",
      "Ethnicity                  W\n",
      "Age                       69\n",
      "Age_lt_med                 0\n",
      "NonWhite                   0\n",
      "Female                     1\n",
      "speaker         Mrs. BENTLEY\n",
      "Full Name     BENTLEY, HELEN\n",
      "match                  exact\n",
      "Name: 1020033285, dtype: object\n",
      "\n",
      " The figures that the gentleman uses. I say to the gentleman from California . of going from 15 to 30 or actually 14 to 28. that additional $14 billion in exports were the component parts that the gentleman from Pennsylvania . is talking about. and in turn. over $10 billion of that came back. the additional $10 billion came back in finished product assembled down there. and the other $4 billion. as I said in my statement. was probably machinery and equipment that went down there for the transplants. So it is not really jobs. I think there is one arena andone thing we have not touched on here and that is that as we get into free trade. and let me comment on that. The gentleman from California keeps hitting on free trade. The thing I do not understand is we have talked about free trade in the United States for a long time. and the only thing I have ever seen. the only country that has ever abided by all the terms of these socalled freetrade agreements has been the United States. What we have gotten out of it primarly has been the exporting ofjobs. and that disturbs me a great deal. The other aspect of these agreements. I say to the gentleman from Pennsylvania . is that \"Made in America\" is not going to be available when we get these new agreements. There will be no more \"Made in America\" tags on any equipment. It will be \"Made in North America.\"\n",
      "--------------------\n"
     ]
    }
   ],
   "source": [
    "reload(explore_data)\n",
    "explore_data.print_mispredictions(val_target, val_pred_probs, val, val_ids, descr_df)"
   ]
  },
  {
   "cell_type": "code",
   "execution_count": null,
   "metadata": {},
   "outputs": [],
   "source": []
  }
 ],
 "metadata": {
  "kernelspec": {
   "display_name": "Python 3",
   "language": "python",
   "name": "python3"
  },
  "language_info": {
   "codemirror_mode": {
    "name": "ipython",
    "version": 3
   },
   "file_extension": ".py",
   "mimetype": "text/x-python",
   "name": "python",
   "nbconvert_exporter": "python",
   "pygments_lexer": "ipython3",
   "version": "3.5.2"
  }
 },
 "nbformat": 4,
 "nbformat_minor": 2
}
