{
 "cells": [
  {
   "cell_type": "code",
   "execution_count": 1,
   "metadata": {},
   "outputs": [
    {
     "data": {
      "text/html": [
       "<style>.container { width:100% !important; }</style>"
      ],
      "text/plain": [
       "<IPython.core.display.HTML object>"
      ]
     },
     "metadata": {},
     "output_type": "display_data"
    }
   ],
   "source": [
    "# increase cell width\n",
    "from IPython.core.display import display, HTML\n",
    "display(HTML(\"<style>.container { width:100% !important; }</style>\"))"
   ]
  },
  {
   "cell_type": "markdown",
   "metadata": {},
   "source": [
    "Inspiration for code:\n",
    "\n",
    "- https://developers.google.com/machine-learning/guides/text-classification/\n",
    "- https://github.com/google/eng-edu/blob/master/ml/guides/text_classification/load_data.py"
   ]
  },
  {
   "cell_type": "code",
   "execution_count": 2,
   "metadata": {},
   "outputs": [],
   "source": [
    "from __future__ import absolute_import\n",
    "from __future__ import division\n",
    "from __future__ import print_function\n",
    "\n",
    "import os\n",
    "import random\n",
    "import time\n",
    "import pickle\n",
    "import gc\n",
    "import re\n",
    "\n",
    "import numpy as np\n",
    "import pandas as pd\n",
    "\n",
    "from importlib import reload"
   ]
  },
  {
   "cell_type": "code",
   "execution_count": 3,
   "metadata": {},
   "outputs": [
    {
     "name": "stderr",
     "output_type": "stream",
     "text": [
      "/home/yulia/anaconda3/lib/python3.6/site-packages/h5py/__init__.py:36: FutureWarning: Conversion of the second argument of issubdtype from `float` to `np.floating` is deprecated. In future, it will be treated as `np.float64 == np.dtype(float).type`.\n",
      "  from ._conv import register_converters as _register_converters\n"
     ]
    }
   ],
   "source": [
    "from helpers import load_data\n",
    "from helpers import explore_data\n",
    "from helpers import preprocess_data\n",
    "from helpers import train_model"
   ]
  },
  {
   "cell_type": "code",
   "execution_count": 4,
   "metadata": {},
   "outputs": [
    {
     "data": {
      "text/plain": [
       "'1.13.0-rc2'"
      ]
     },
     "execution_count": 4,
     "metadata": {},
     "output_type": "execute_result"
    }
   ],
   "source": [
    "import tensorflow as tf\n",
    "tf.__version__"
   ]
  },
  {
   "cell_type": "markdown",
   "metadata": {},
   "source": [
    "## Load the data"
   ]
  },
  {
   "cell_type": "code",
   "execution_count": 8,
   "metadata": {},
   "outputs": [],
   "source": [
    "main_dir = '/home/yulia/W266-Final-Project/'"
   ]
  },
  {
   "cell_type": "code",
   "execution_count": 9,
   "metadata": {},
   "outputs": [],
   "source": [
    "data_path = main_dir+'data/raw/hein-daily'"
   ]
  },
  {
   "cell_type": "code",
   "execution_count": 10,
   "metadata": {},
   "outputs": [
    {
     "name": "stdout",
     "output_type": "stream",
     "text": [
      "\n",
      "File speeches_097.txt has 249718612 characters\n",
      "and 283399 speeches\n",
      "\n",
      "Speeches list has 283399 speeches\n",
      "\n",
      "File speeches_098.txt has 252071246 characters\n",
      "and 280289 speeches\n",
      "\n",
      "Speeches list has 563688 speeches\n",
      "\n",
      "File speeches_099.txt has 265326480 characters\n",
      "and 281528 speeches\n",
      "\n",
      "Speeches list has 845216 speeches\n",
      "\n",
      "File speeches_100.txt has 270610780 characters\n",
      "and 276162 speeches\n",
      "\n",
      "Speeches list has 1121378 speeches\n",
      "\n",
      "File speeches_101.txt has 261004871 characters\n",
      "and 251217 speeches\n",
      "\n",
      "Speeches list has 1372595 speeches\n",
      "\n",
      "File speeches_102.txt has 271650630 characters\n",
      "and 243092 speeches\n",
      "\n",
      "Speeches list has 1615687 speeches\n",
      "\n",
      "File speeches_103.txt has 249908822 characters\n",
      "and 235974 speeches\n",
      "\n",
      "Speeches list has 1851661 speeches\n",
      "\n",
      "File speeches_104.txt has 280355367 characters\n",
      "and 274985 speeches\n",
      "\n",
      "Speeches list has 2126646 speeches\n",
      "\n",
      "File speeches_105.txt has 235226903 characters\n",
      "and 209267 speeches\n",
      "\n",
      "Speeches list has 2335913 speeches\n",
      "\n",
      "File speeches_106.txt has 243801385 characters\n",
      "and 209648 speeches\n",
      "\n",
      "Speeches list has 2545561 speeches\n",
      "\n",
      "File speeches_107.txt has 214724318 characters\n",
      "and 180726 speeches\n",
      "\n",
      "Speeches list has 2726287 speeches\n",
      "\n",
      "File speeches_108.txt has 237009565 characters\n",
      "and 200159 speeches\n",
      "\n",
      "Speeches list has 2926446 speeches\n",
      "\n",
      "File speeches_109.txt has 226698889 characters\n",
      "and 187647 speeches\n",
      "\n",
      "Speeches list has 3114093 speeches\n",
      "\n",
      "File speeches_110.txt has 242773059 characters\n",
      "and 211367 speeches\n",
      "\n",
      "Speeches list has 3325460 speeches\n",
      "\n",
      "File speeches_111.txt has 183499959 characters\n",
      "and 154400 speeches\n",
      "\n",
      "Speeches list has 3479860 speeches\n",
      "\n",
      "File speeches_112.txt has 174117603 characters\n",
      "and 145901 speeches\n",
      "\n",
      "Speeches list has 3625761 speeches\n",
      "\n",
      "File speeches_113.txt has 153424011 characters\n",
      "and 128149 speeches\n",
      "\n",
      "Speeches list has 3753910 speeches\n",
      "\n",
      "File speeches_114.txt has 130969173 characters\n",
      "and 112291 speeches\n",
      "\n",
      "Speeches list has 3866201 speeches\n"
     ]
    }
   ],
   "source": [
    "reload(load_data)\n",
    "all_speech_ids, all_speeches = load_data.load_speech_data(data_path)"
   ]
  },
  {
   "cell_type": "code",
   "execution_count": 11,
   "metadata": {},
   "outputs": [
    {
     "data": {
      "text/plain": [
       "(3866201, 3866201)"
      ]
     },
     "execution_count": 11,
     "metadata": {},
     "output_type": "execute_result"
    }
   ],
   "source": [
    "len(all_speech_ids), len(all_speeches)"
   ]
  },
  {
   "cell_type": "markdown",
   "metadata": {},
   "source": [
    "## Create target labels"
   ]
  },
  {
   "cell_type": "code",
   "execution_count": 12,
   "metadata": {},
   "outputs": [
    {
     "name": "stdout",
     "output_type": "stream",
     "text": [
      "2914465 lines have been read\n",
      "37617 keys had duplicates and deleted\n",
      "The dictionary has 2808050 keys\n",
      "\n",
      "Random congressperson: 1090182100\n",
      "date 20061114\n",
      "char_count 278\n",
      "word_count 49\n",
      "speakerid 109112991.0\n",
      "Party R\n",
      "Congress 109\n",
      "Chamber S\n",
      "State TN\n",
      "Ethnicity W\n",
      "Age 54.0\n",
      "Age_lt_med 1.0\n",
      "NonWhite 0.0\n",
      "Female 0.0\n",
      "speaker Mr. FRIST\n",
      "Full Name FRIST, WILLIAM\n",
      "match exact\n",
      "check 1\n",
      "\n",
      "It took 22.8 seconds to create the dictionary\n"
     ]
    }
   ],
   "source": [
    "reload(load_data)\n",
    "start_time = time.time()\n",
    "descr = load_data.load_descr_data(main_dir+'data/QA/full_descr.txt')\n",
    "print(\"\\nIt took {:.1f} seconds to create the dictionary\".format(time.time()-start_time))"
   ]
  },
  {
   "cell_type": "code",
   "execution_count": 13,
   "metadata": {},
   "outputs": [
    {
     "data": {
      "text/plain": [
       "0.9634876258550458"
      ]
     },
     "execution_count": 13,
     "metadata": {},
     "output_type": "execute_result"
    }
   ],
   "source": [
    "len(list(descr.keys()))/2914464"
   ]
  },
  {
   "cell_type": "code",
   "execution_count": 14,
   "metadata": {},
   "outputs": [
    {
     "data": {
      "text/plain": [
       "(3866201, 3866201, 3866201, 3866201, 3866201, 3866201)"
      ]
     },
     "execution_count": 14,
     "metadata": {},
     "output_type": "execute_result"
    }
   ],
   "source": [
    "gender, ethnicity, age, party, chamber, congress = load_data.create_target_labels(all_speech_ids, descr)\n",
    "len(gender), len(ethnicity), len(age), len(party), len(chamber), len(congress)"
   ]
  },
  {
   "cell_type": "markdown",
   "metadata": {},
   "source": [
    "## Data QA"
   ]
  },
  {
   "cell_type": "code",
   "execution_count": 18,
   "metadata": {},
   "outputs": [
    {
     "name": "stdout",
     "output_type": "stream",
     "text": [
      "\n",
      " Gender\n",
      "Overall speech counts:\n"
     ]
    },
    {
     "data": {
      "text/html": [
       "<div>\n",
       "<style scoped>\n",
       "    .dataframe tbody tr th:only-of-type {\n",
       "        vertical-align: middle;\n",
       "    }\n",
       "\n",
       "    .dataframe tbody tr th {\n",
       "        vertical-align: top;\n",
       "    }\n",
       "\n",
       "    .dataframe thead th {\n",
       "        text-align: right;\n",
       "    }\n",
       "</style>\n",
       "<table border=\"1\" class=\"dataframe\">\n",
       "  <thead>\n",
       "    <tr style=\"text-align: right;\">\n",
       "      <th></th>\n",
       "      <th>Category</th>\n",
       "      <th>Count</th>\n",
       "    </tr>\n",
       "  </thead>\n",
       "  <tbody>\n",
       "    <tr>\n",
       "      <th>0</th>\n",
       "      <td>-1</td>\n",
       "      <td>1058151</td>\n",
       "    </tr>\n",
       "    <tr>\n",
       "      <th>1</th>\n",
       "      <td>0</td>\n",
       "      <td>2579578</td>\n",
       "    </tr>\n",
       "    <tr>\n",
       "      <th>2</th>\n",
       "      <td>1</td>\n",
       "      <td>228472</td>\n",
       "    </tr>\n",
       "  </tbody>\n",
       "</table>\n",
       "</div>"
      ],
      "text/plain": [
       "<IPython.core.display.HTML object>"
      ]
     },
     "metadata": {},
     "output_type": "display_data"
    },
    {
     "name": "stdout",
     "output_type": "stream",
     "text": [
      "Target group number of speeches by party:\n",
      "A: \t 0\n",
      "D: \t 165834\n",
      "I: \t 0\n",
      "N: \t 0\n",
      "NA: \t -1058151\n",
      "P: \t 0\n",
      "R: \t 62638\n",
      "\n",
      " Ethnicity\n",
      "Overall speech counts:\n"
     ]
    },
    {
     "data": {
      "text/html": [
       "<div>\n",
       "<style scoped>\n",
       "    .dataframe tbody tr th:only-of-type {\n",
       "        vertical-align: middle;\n",
       "    }\n",
       "\n",
       "    .dataframe tbody tr th {\n",
       "        vertical-align: top;\n",
       "    }\n",
       "\n",
       "    .dataframe thead th {\n",
       "        text-align: right;\n",
       "    }\n",
       "</style>\n",
       "<table border=\"1\" class=\"dataframe\">\n",
       "  <thead>\n",
       "    <tr style=\"text-align: right;\">\n",
       "      <th></th>\n",
       "      <th>Category</th>\n",
       "      <th>Count</th>\n",
       "    </tr>\n",
       "  </thead>\n",
       "  <tbody>\n",
       "    <tr>\n",
       "      <th>0</th>\n",
       "      <td>-1</td>\n",
       "      <td>1058151</td>\n",
       "    </tr>\n",
       "    <tr>\n",
       "      <th>1</th>\n",
       "      <td>0</td>\n",
       "      <td>2566825</td>\n",
       "    </tr>\n",
       "    <tr>\n",
       "      <th>2</th>\n",
       "      <td>1</td>\n",
       "      <td>241225</td>\n",
       "    </tr>\n",
       "  </tbody>\n",
       "</table>\n",
       "</div>"
      ],
      "text/plain": [
       "<IPython.core.display.HTML object>"
      ]
     },
     "metadata": {},
     "output_type": "display_data"
    },
    {
     "name": "stdout",
     "output_type": "stream",
     "text": [
      "Target group number of speeches by party:\n",
      "A: \t 21\n",
      "D: \t 213500\n",
      "I: \t 64\n",
      "N: \t 334\n",
      "NA: \t -1058151\n",
      "P: \t 53\n",
      "R: \t 27253\n",
      "\n",
      " Age\n",
      "Overall speech counts:\n"
     ]
    },
    {
     "data": {
      "text/html": [
       "<div>\n",
       "<style scoped>\n",
       "    .dataframe tbody tr th:only-of-type {\n",
       "        vertical-align: middle;\n",
       "    }\n",
       "\n",
       "    .dataframe tbody tr th {\n",
       "        vertical-align: top;\n",
       "    }\n",
       "\n",
       "    .dataframe thead th {\n",
       "        text-align: right;\n",
       "    }\n",
       "</style>\n",
       "<table border=\"1\" class=\"dataframe\">\n",
       "  <thead>\n",
       "    <tr style=\"text-align: right;\">\n",
       "      <th></th>\n",
       "      <th>Category</th>\n",
       "      <th>Count</th>\n",
       "    </tr>\n",
       "  </thead>\n",
       "  <tbody>\n",
       "    <tr>\n",
       "      <th>0</th>\n",
       "      <td>-1</td>\n",
       "      <td>1058151</td>\n",
       "    </tr>\n",
       "    <tr>\n",
       "      <th>1</th>\n",
       "      <td>0</td>\n",
       "      <td>1836698</td>\n",
       "    </tr>\n",
       "    <tr>\n",
       "      <th>2</th>\n",
       "      <td>1</td>\n",
       "      <td>971352</td>\n",
       "    </tr>\n",
       "  </tbody>\n",
       "</table>\n",
       "</div>"
      ],
      "text/plain": [
       "<IPython.core.display.HTML object>"
      ]
     },
     "metadata": {},
     "output_type": "display_data"
    },
    {
     "name": "stdout",
     "output_type": "stream",
     "text": [
      "Target group number of speeches by party:\n",
      "A: \t 21\n",
      "D: \t 482630\n",
      "I: \t 360\n",
      "N: \t 334\n",
      "NA: \t -1058151\n",
      "P: \t 53\n",
      "R: \t 487954\n"
     ]
    }
   ],
   "source": [
    "reload(explore_data)\n",
    "for i in [(gender, \"Gender\"), (ethnicity, \"Ethnicity\"), (age, \"Age\")]:\n",
    "    print(\"\\n\", i[1])\n",
    "    print(\"Overall speech counts:\")\n",
    "    explore_data.get_counts(i[0])\n",
    "    print(\"Target group number of speeches by party:\")\n",
    "    explore_data.get_counts_by_category(i[0], party)"
   ]
  },
  {
   "cell_type": "code",
   "execution_count": 21,
   "metadata": {},
   "outputs": [
    {
     "name": "stdout",
     "output_type": "stream",
     "text": [
      "Speaker information\n",
      "date 20101116\n",
      "char_count 517\n",
      "word_count 93\n",
      "speakerid 111120680.0\n",
      "Party D\n",
      "Congress 111\n",
      "Chamber H\n",
      "State DC\n",
      "Ethnicity B\n",
      "Age 73.0\n",
      "Age_lt_med 0.0\n",
      "NonWhite 1.0\n",
      "Female 1.0\n",
      "speaker Ms. NORTON\n",
      "Full Name NORTON, ELEANOR\n",
      "match exact\n",
      "check 1\n",
      "\n",
      "Mr. Speaker. may I also indicate that this bill gives the public defender of the District of Columbia the right to purchase liability insurance. a right that the Federal public defenders have throughout the United States. The reason the bill is necessary in order to give them this right is that the public defender of the District of Columbia exists in a twilight zone. as it were. It handles local matters. but it is a Federal agency. So we need the imprimatur of this Congress. I yield back the balance of my time.\n"
     ]
    }
   ],
   "source": [
    "reload(explore_data)\n",
    "explore_data.random_speech(all_speeches, all_speech_ids, ethnicity, descr)"
   ]
  },
  {
   "cell_type": "markdown",
   "metadata": {},
   "source": [
    "# Ethnicity Model"
   ]
  },
  {
   "cell_type": "markdown",
   "metadata": {},
   "source": [
    "## Split into train, validate, test"
   ]
  },
  {
   "cell_type": "code",
   "execution_count": 22,
   "metadata": {},
   "outputs": [
    {
     "name": "stdout",
     "output_type": "stream",
     "text": [
      "Training split: 94260 ones and 94260 zeroes\n",
      "Training speech list size: 188520\n",
      "Training target list size: 188520\n",
      "Validation split: 31420 ones and 31420 zeroes\n",
      "Validation speech list size: 62840\n",
      "Validation target list size: 62840\n",
      "Test split: 31420 ones and 31420 zeroes\n",
      "Test speech list size: 62840\n",
      "Test target list size: 62840\n"
     ]
    }
   ],
   "source": [
    "reload(preprocess_data)\n",
    "train, train_ids, train_target, val, val_ids, val_target, test, test_ids, test_target = preprocess_data.split_train_val_test(all_speeches, all_speech_ids, ethnicity, descr)"
   ]
  },
  {
   "cell_type": "code",
   "execution_count": 23,
   "metadata": {},
   "outputs": [
    {
     "data": {
      "text/plain": [
       "(94260, 31420, 31420)"
      ]
     },
     "execution_count": 23,
     "metadata": {},
     "output_type": "execute_result"
    }
   ],
   "source": [
    "sum(train_target), sum(val_target), sum(test_target)"
   ]
  },
  {
   "cell_type": "code",
   "execution_count": 24,
   "metadata": {},
   "outputs": [
    {
     "data": {
      "text/plain": [
       "84125"
      ]
     },
     "execution_count": 24,
     "metadata": {},
     "output_type": "execute_result"
    }
   ],
   "source": [
    "# number of speeches under 30 words\n",
    "sum(np.array(ethnicity)==1) - (sum(train_target) + sum(val_target) + sum(test_target))"
   ]
  },
  {
   "cell_type": "code",
   "execution_count": 25,
   "metadata": {},
   "outputs": [
    {
     "name": "stdout",
     "output_type": "stream",
     "text": [
      "Speaker information\n",
      "date 20120801\n",
      "char_count 955\n",
      "word_count 158\n",
      "speakerid 112116580.0\n",
      "Party D\n",
      "Congress 112\n",
      "Chamber H\n",
      "State CA\n",
      "Ethnicity H\n",
      "Age 65.0\n",
      "Age_lt_med 0.0\n",
      "NonWhite 1.0\n",
      "Female 0.0\n",
      "speaker Mr. BACA\n",
      "Full Name BACA, JOE\n",
      "match exact\n",
      "check 1\n",
      "\n",
      "Madam Speaker. this Monday. Colton Joint Unified School District held a dedication ceremony for the new Joe Baca Middle School in Bloomington. California. Next week. 800 students from the surrounding communities in Bloomington and Rialto will begin to attend classes there. I am truly humbled to receive this distinguished honor. and I thank the Colton Joint Unified School District. I want to especially recognize Superintendent Jerry Almendarez. all of the school board members of the Colton Joint Unified School District. Ignacio Gomez. whose beautiful artwork will be displayed at the school. and Congressman GARY MILLER for his bipartisan support. Growing up the youngest of 15 children in a poor household. I never would imagine that one day I would have a school named in my honor. I never thought I would live to see this day. Again. I want to thank everyone involved and give a special thank you to my family for their continued love and support.\n"
     ]
    }
   ],
   "source": [
    "explore_data.random_speech(train, train_ids, train_target, descr)"
   ]
  },
  {
   "cell_type": "code",
   "execution_count": 26,
   "metadata": {},
   "outputs": [],
   "source": [
    "del all_speeches, all_speech_ids, descr"
   ]
  },
  {
   "cell_type": "markdown",
   "metadata": {},
   "source": [
    "## EDA on train data"
   ]
  },
  {
   "cell_type": "code",
   "execution_count": 27,
   "metadata": {},
   "outputs": [
    {
     "data": {
      "text/plain": [
       "238.0"
      ]
     },
     "execution_count": 27,
     "metadata": {},
     "output_type": "execute_result"
    }
   ],
   "source": [
    "explore_data.get_num_words_per_sample(train)"
   ]
  },
  {
   "cell_type": "code",
   "execution_count": 28,
   "metadata": {},
   "outputs": [
    {
     "data": {
      "text/plain": [
       "238.0"
      ]
     },
     "execution_count": 28,
     "metadata": {},
     "output_type": "execute_result"
    }
   ],
   "source": [
    "explore_data.get_num_words_per_sample(val)"
   ]
  },
  {
   "cell_type": "code",
   "execution_count": 29,
   "metadata": {},
   "outputs": [
    {
     "data": {
      "text/plain": [
       "238.0"
      ]
     },
     "execution_count": 29,
     "metadata": {},
     "output_type": "execute_result"
    }
   ],
   "source": [
    "explore_data.get_num_words_per_sample(test)"
   ]
  },
  {
   "cell_type": "code",
   "execution_count": 30,
   "metadata": {},
   "outputs": [
    {
     "name": "stdout",
     "output_type": "stream",
     "text": [
      "Speech length percentiles\n",
      "    0     10    20     30     40     50     60     70     80     90       100\n",
      "0  31.0  45.0  74.0  126.0  181.0  238.0  312.0  402.0  540.0  805.0  22613.0\n"
     ]
    },
    {
     "data": {
      "image/png": "[encoded data removed]",
      "text/plain": [
       "<Figure size 1440x720 with 1 Axes>"
      ]
     },
     "metadata": {},
     "output_type": "display_data"
    }
   ],
   "source": [
    "explore_data.plot_sample_length_distribution(train)"
   ]
  },
  {
   "cell_type": "markdown",
   "metadata": {},
   "source": [
    "## CNN Models"
   ]
  },
  {
   "cell_type": "markdown",
   "metadata": {},
   "source": [
    "### Pre-processing"
   ]
  },
  {
   "cell_type": "code",
   "execution_count": 31,
   "metadata": {},
   "outputs": [],
   "source": [
    "# Limit on the number of features. \n",
    "TOP_K = 20000\n",
    "\n",
    "# Limit on the length of text sequences. Sequences longer than this\n",
    "# will be truncated.\n",
    "# MAX_SEQUENCE_LENGTH = 100\n",
    "MAX_SEQUENCE_LENGTH = 750\n",
    "\n",
    "vec_params = {\n",
    "    'num_words': TOP_K,\n",
    "    'max_seq_length': MAX_SEQUENCE_LENGTH\n",
    "}"
   ]
  },
  {
   "cell_type": "code",
   "execution_count": 32,
   "metadata": {},
   "outputs": [
    {
     "name": "stdout",
     "output_type": "stream",
     "text": [
      "\n",
      "It took 157.2 seconds to tokenize the data\n"
     ]
    }
   ],
   "source": [
    "start_time = time.time()\n",
    "train_vec, val_vec, test_vec, word_index = preprocess_data.sequence_vectorize(train, val, test, **vec_params)\n",
    "print(\"\\nIt took {:.1f} seconds to tokenize the data\".format(time.time()-start_time))"
   ]
  },
  {
   "cell_type": "code",
   "execution_count": 33,
   "metadata": {},
   "outputs": [
    {
     "data": {
      "text/plain": [
       "(188520, 62840, 62840)"
      ]
     },
     "execution_count": 33,
     "metadata": {},
     "output_type": "execute_result"
    }
   ],
   "source": [
    "len(train), len(val), len(test)"
   ]
  },
  {
   "cell_type": "code",
   "execution_count": 34,
   "metadata": {},
   "outputs": [
    {
     "data": {
      "text/plain": [
       "(188520, 62840, 62840)"
      ]
     },
     "execution_count": 34,
     "metadata": {},
     "output_type": "execute_result"
    }
   ],
   "source": [
    "len(train_vec), len(val_vec), len(test_vec)"
   ]
  },
  {
   "cell_type": "code",
   "execution_count": 35,
   "metadata": {},
   "outputs": [
    {
     "data": {
      "text/plain": [
       "(19999, 19999, 19999)"
      ]
     },
     "execution_count": 35,
     "metadata": {},
     "output_type": "execute_result"
    }
   ],
   "source": [
    "max(map(max, train_vec)), max(map(max, val_vec)), max(map(max, test_vec))"
   ]
  },
  {
   "cell_type": "code",
   "execution_count": 36,
   "metadata": {},
   "outputs": [
    {
     "data": {
      "text/plain": [
       "474232"
      ]
     },
     "execution_count": 36,
     "metadata": {},
     "output_type": "execute_result"
    }
   ],
   "source": [
    "len(word_index)"
   ]
  },
  {
   "cell_type": "code",
   "execution_count": 37,
   "metadata": {},
   "outputs": [
    {
     "data": {
      "text/plain": [
       "(750,)"
      ]
     },
     "execution_count": 37,
     "metadata": {},
     "output_type": "execute_result"
    }
   ],
   "source": [
    "train_vec[0].shape"
   ]
  },
  {
   "cell_type": "code",
   "execution_count": 38,
   "metadata": {},
   "outputs": [
    {
     "data": {
      "text/plain": [
       "'Mr. Speaker. I rise today to honor Thomas A. Kelley. an extraordinary constituent of Californias 18th Congressional District who has been chosen to receive the STAR Award by AchieveKids on June 20. 2015. in Palo Alto. California. Tom Kelley is a 1962 graduate of Rice University where he earned both B.A. and B.S. degrees. and a 1967 graduate of the Stanford Business School. He founded Thomas A. Kelley & Associates. an executive search firm in 1969. on Sand Hill Road in Menlo Park. California. The companys mission was to bring together management teams for high technology startups. While performing executive searches. Thomas A. Kelley & Associates invested in prepublic client companies and achieved financial success. While managing the evergrowing business. Tom continued to personally conduct searches through the life of the company. In 2002. the company became Thomas A. Kelley Investments. which manages the Kelley Family Trust and performs pro bono consulting for tech entrepreneurs. In addition to his extraordinary success in business. Tom Kelley gives generously of his time. resources and considerable talents to many nonprofit organizations. He was honored as a \"Stanford Associate\" for his volunteer work at the Stanford Business School. served on the Board of the Portola Valley School District. served on the Board of AchieveKids. and cofounded the Portola Valley Theatre Conservancy. Tom is also a member of the Board of Trustees. Inner Circle and a Producer at TheatreWorks of Palo Alto. He has served on the Board of Valley Presbyterian Church. the Board of the Chambers Landing Homeowners Association. and currently serves on the Advisory Board of Glimmerglass Networks. He served his country as an officer in the U.S. Army Corps of Engineers. Mr. Speaker. I ask the entire House of Representatives to join me in honoring Thomas A. Kelley as he receives the STAR Award. Tom and the entire Kelley family are respected. admired and loved in our community for their civic contributions and leadership. Its a privilege to honor him and a blessing to have his friendship and that of his extraordinary family.'"
      ]
     },
     "execution_count": 38,
     "metadata": {},
     "output_type": "execute_result"
    }
   ],
   "source": [
    "train[0]"
   ]
  },
  {
   "cell_type": "code",
   "execution_count": 39,
   "metadata": {},
   "outputs": [
    {
     "data": {
      "text/plain": [
       "array([   3,   16,   41, 3089,    5,    7,    4,   41, 1405,  231],\n",
       "      dtype=int32)"
      ]
     },
     "execution_count": 39,
     "metadata": {},
     "output_type": "execute_result"
    }
   ],
   "source": [
    "train_vec[0][-10:]"
   ]
  },
  {
   "cell_type": "code",
   "execution_count": 40,
   "metadata": {},
   "outputs": [
    {
     "name": "stdout",
     "output_type": "stream",
     "text": [
      "to 3\n",
      "have 16\n",
      "his 41\n",
      "friendship 3089\n",
      "and 5\n",
      "that 7\n",
      "of 4\n",
      "his 41\n",
      "extraordinary 1405\n",
      "family 231\n"
     ]
    }
   ],
   "source": [
    "for word in train[0].split()[-10:]:\n",
    "    word = re.sub(r'[^\\w\\s]','',word)\n",
    "    print(word, word_index[word])"
   ]
  },
  {
   "cell_type": "markdown",
   "metadata": {},
   "source": [
    "### Saving processed files"
   ]
  },
  {
   "cell_type": "code",
   "execution_count": 43,
   "metadata": {},
   "outputs": [],
   "source": [
    "token_path = main_dir+'Classification/data/tokenized/ethnicity'"
   ]
  },
  {
   "cell_type": "code",
   "execution_count": 44,
   "metadata": {},
   "outputs": [],
   "source": [
    "np.save(os.path.join(token_path, 'train_vec'), train_vec)\n",
    "np.save(os.path.join(token_path, 'val_vec'), val_vec)\n",
    "np.save(os.path.join(token_path, 'test_vec'), test_vec)"
   ]
  },
  {
   "cell_type": "code",
   "execution_count": 45,
   "metadata": {},
   "outputs": [],
   "source": [
    "pickle.dump(word_index, open(os.path.join(token_path, 'word_index.p'), 'wb'))"
   ]
  },
  {
   "cell_type": "code",
   "execution_count": null,
   "metadata": {},
   "outputs": [],
   "source": [
    "train_vec = np.load(os.path.join(token_path, 'train_vec.npy'))\n",
    "val_vec = np.load(os.path.join(token_path, 'val_vec.npy'))\n",
    "test_vec = np.load(os.path.join(token_path, 'test_vec.npy'))"
   ]
  },
  {
   "cell_type": "code",
   "execution_count": null,
   "metadata": {},
   "outputs": [],
   "source": [
    "word_index = pickle.load(open(os.path.join(token_path, 'word_index.p'), 'rb'))"
   ]
  },
  {
   "cell_type": "code",
   "execution_count": null,
   "metadata": {},
   "outputs": [],
   "source": [
    "len(train_vec), len(val_vec), len(test_vec)"
   ]
  },
  {
   "cell_type": "markdown",
   "metadata": {},
   "source": [
    "## CNN model - Full Speech + Glove Embeddings"
   ]
  },
  {
   "cell_type": "code",
   "execution_count": 46,
   "metadata": {},
   "outputs": [],
   "source": [
    "logs_base_dir = main_dir + 'Classification/logs'"
   ]
  },
  {
   "cell_type": "code",
   "execution_count": 47,
   "metadata": {},
   "outputs": [],
   "source": [
    "cnn_model_params = {\n",
    "    'model': 'cnn',\n",
    "    'word_index': word_index,\n",
    "    'learning_rate': 0.001,\n",
    "    'layers': 2,\n",
    "    'epochs': 1000,\n",
    "    'batch_size': 128,\n",
    "    'filters': 64,\n",
    "    'dropout_rate': 0.2,\n",
    "    'embedding_dim': 200,\n",
    "    'kernel_size': 5,\n",
    "    'pool_size': 1,\n",
    "    'max_num_words': 20000,\n",
    "    'use_pretrained_embedding': True,\n",
    "    'is_embedding_trainable': True,\n",
    "    'glove_dir': main_dir + 'data'\n",
    "}"
   ]
  },
  {
   "cell_type": "code",
   "execution_count": 48,
   "metadata": {},
   "outputs": [
    {
     "name": "stdout",
     "output_type": "stream",
     "text": [
      "Found 400000 word vectors.\n",
      "It took 20.0 seconds\n",
      "Preparing embedding matrix.\n",
      "Embedding matrix has been built.\n",
      "Its shape is (20000, 200).\n",
      "It took 0.1 seconds\n",
      "WARNING:tensorflow:From /home/yulia/anaconda3/lib/python3.6/site-packages/tensorflow/python/ops/resource_variable_ops.py:435: colocate_with (from tensorflow.python.framework.ops) is deprecated and will be removed in a future version.\n",
      "Instructions for updating:\n",
      "Colocations handled automatically by placer.\n",
      "WARNING:tensorflow:From /home/yulia/anaconda3/lib/python3.6/site-packages/tensorflow/python/keras/layers/core.py:143: calling dropout (from tensorflow.python.ops.nn_ops) with keep_prob is deprecated and will be removed in a future version.\n",
      "Instructions for updating:\n",
      "Please use `rate` instead of `keep_prob`. Rate should be set to `rate = 1 - keep_prob`.\n",
      "Train on 188520 samples, validate on 62840 samples\n",
      "WARNING:tensorflow:From /home/yulia/anaconda3/lib/python3.6/site-packages/tensorflow/python/ops/math_ops.py:3066: to_int32 (from tensorflow.python.ops.math_ops) is deprecated and will be removed in a future version.\n",
      "Instructions for updating:\n",
      "Use tf.cast instead.\n",
      "WARNING:tensorflow:From /home/yulia/anaconda3/lib/python3.6/site-packages/tensorflow/python/ops/math_grad.py:102: div (from tensorflow.python.ops.math_ops) is deprecated and will be removed in a future version.\n",
      "Instructions for updating:\n",
      "Deprecated in favor of operator or tf.math.divide.\n",
      "Epoch 1/1000\n",
      " - 1244s - loss: 0.6051 - acc: 0.6663 - val_loss: 0.5569 - val_acc: 0.7117\n",
      "Epoch 2/1000\n",
      " - 1249s - loss: 0.5499 - acc: 0.7173 - val_loss: 0.5457 - val_acc: 0.7266\n",
      "Epoch 3/1000\n",
      " - 1322s - loss: 0.5246 - acc: 0.7372 - val_loss: 0.5316 - val_acc: 0.7338\n",
      "Epoch 4/1000\n",
      " - 1359s - loss: 0.5020 - acc: 0.7542 - val_loss: 0.5260 - val_acc: 0.7342\n",
      "Epoch 5/1000\n",
      " - 1268s - loss: 0.4799 - acc: 0.7680 - val_loss: 0.5262 - val_acc: 0.7347\n",
      "Epoch 6/1000\n",
      " - 1294s - loss: 0.4584 - acc: 0.7823 - val_loss: 0.5275 - val_acc: 0.7339\n",
      "Validation accuracy: 0.7338796854019165, loss: 0.5274913442203151\n"
     ]
    }
   ],
   "source": [
    "reload(train_model)\n",
    "history, train_pred_probs, val_pred_probs = train_model.train_model(((train_vec, train_target), (val_vec, val_target)), logs_base_dir, **cnn_model_params)"
   ]
  },
  {
   "cell_type": "markdown",
   "metadata": {},
   "source": [
    "### Clean up space/save outputs"
   ]
  },
  {
   "cell_type": "code",
   "execution_count": 49,
   "metadata": {},
   "outputs": [],
   "source": [
    "probs_path = main_dir+'Classification/data/probs/ethnicity/'"
   ]
  },
  {
   "cell_type": "code",
   "execution_count": 50,
   "metadata": {},
   "outputs": [],
   "source": [
    "np.save(probs_path+'val_pred_probs_cnn', val_pred_probs, allow_pickle=True, fix_imports=True)"
   ]
  },
  {
   "cell_type": "code",
   "execution_count": null,
   "metadata": {},
   "outputs": [],
   "source": [
    "val_pred_probs = np.load(probs_path+'val_pred_probs_cnn.npy', allow_pickle=True, fix_imports=True)"
   ]
  },
  {
   "cell_type": "markdown",
   "metadata": {},
   "source": [
    "## Model Evaluation"
   ]
  },
  {
   "cell_type": "code",
   "execution_count": 51,
   "metadata": {},
   "outputs": [
    {
     "data": {
      "text/plain": [
       "0.7338796944621261"
      ]
     },
     "execution_count": 51,
     "metadata": {},
     "output_type": "execute_result"
    }
   ],
   "source": [
    "val_preds = val_pred_probs > 0.5\n",
    "np.mean(val_preds.flatten()==val_target)"
   ]
  },
  {
   "cell_type": "code",
   "execution_count": 52,
   "metadata": {},
   "outputs": [
    {
     "data": {
      "text/plain": [
       "((62840, 1), 62840)"
      ]
     },
     "execution_count": 52,
     "metadata": {},
     "output_type": "execute_result"
    }
   ],
   "source": [
    "val_preds.shape, len(val_target)"
   ]
  },
  {
   "cell_type": "code",
   "execution_count": 95,
   "metadata": {},
   "outputs": [
    {
     "data": {
      "text/plain": [
       "array([30823])"
      ]
     },
     "execution_count": 95,
     "metadata": {},
     "output_type": "execute_result"
    }
   ],
   "source": [
    "sum(val_preds)"
   ]
  },
  {
   "cell_type": "code",
   "execution_count": 105,
   "metadata": {},
   "outputs": [
    {
     "name": "stdout",
     "output_type": "stream",
     "text": [
      "Confusion matrix, without normalization\n",
      "[[23357  8063]\n",
      " [ 8660 22760]]\n",
      "             precision    recall  f1-score   support\n",
      "\n",
      "      White       0.73      0.74      0.74     31420\n",
      "   NonWhite       0.74      0.72      0.73     31420\n",
      "\n",
      "avg / total       0.73      0.73      0.73     62840\n",
      "\n"
     ]
    },
    {
     "data": {
      "text/plain": [
       "<matplotlib.axes._subplots.AxesSubplot at 0x7f068ef2d588>"
      ]
     },
     "execution_count": 105,
     "metadata": {},
     "output_type": "execute_result"
    },
    {
     "data": {
      "image/png": "[encoded data removed]",
      "text/plain": [
       "<Figure size 432x288 with 2 Axes>"
      ]
     },
     "metadata": {},
     "output_type": "display_data"
    }
   ],
   "source": [
    "reload(explore_data)\n",
    "# specify class names in 0 - 1 order\n",
    "classes = ['White', 'NonWhite']\n",
    "explore_data.plot_confusion_matrix(val_target, val_preds, classes, normalize=True)"
   ]
  },
  {
   "cell_type": "code",
   "execution_count": 55,
   "metadata": {},
   "outputs": [
    {
     "data": {
      "image/png": "[encoded data removed]",
      "text/plain": [
       "<Figure size 720x720 with 2 Axes>"
      ]
     },
     "metadata": {},
     "output_type": "display_data"
    }
   ],
   "source": [
    "reload(explore_data)\n",
    "explore_data.plot_calibration_curve(val_target, val_pred_probs, 'Ethnicity')"
   ]
  },
  {
   "cell_type": "code",
   "execution_count": 58,
   "metadata": {
    "scrolled": true
   },
   "outputs": [
    {
     "name": "stderr",
     "output_type": "stream",
     "text": [
      "/home/yulia/anaconda3/lib/python3.6/site-packages/numpy/lib/arraysetops.py:472: FutureWarning: elementwise comparison failed; returning scalar instead, but in the future will perform elementwise comparison\n",
      "  mask |= (ar1 == a)\n"
     ]
    },
    {
     "data": {
      "text/plain": [
       "(62840, 16)"
      ]
     },
     "execution_count": 58,
     "metadata": {},
     "output_type": "execute_result"
    }
   ],
   "source": [
    "descr_df = pd.read_csv(main_dir+'data/QA/full_descr.txt', sep=\"|\", index_col=0)\n",
    "descr_df = descr_df.loc[np.asarray(val_ids, dtype=int)]\n",
    "descr_df.shape"
   ]
  },
  {
   "cell_type": "code",
   "execution_count": 59,
   "metadata": {},
   "outputs": [
    {
     "name": "stdout",
     "output_type": "stream",
     "text": [
      "Validation sample means:\n",
      "      Gender_F  Ethinicity_NW     AvgAge   Party_D  Chamber_H  AvgWordCount\n",
      "base  0.175939            0.5  58.427562  0.690738   0.694876    376.978469\n"
     ]
    },
    {
     "data": {
      "text/html": [
       "<div>\n",
       "<style scoped>\n",
       "    .dataframe tbody tr th:only-of-type {\n",
       "        vertical-align: middle;\n",
       "    }\n",
       "\n",
       "    .dataframe tbody tr th {\n",
       "        vertical-align: top;\n",
       "    }\n",
       "\n",
       "    .dataframe thead th {\n",
       "        text-align: right;\n",
       "    }\n",
       "</style>\n",
       "<table border=\"1\" class=\"dataframe\">\n",
       "  <thead>\n",
       "    <tr style=\"text-align: right;\">\n",
       "      <th></th>\n",
       "      <th>Gender_F</th>\n",
       "      <th>Ethinicity_NW</th>\n",
       "      <th>AvgAge</th>\n",
       "      <th>Party_D</th>\n",
       "      <th>Chamber_H</th>\n",
       "      <th>AvgWordCount</th>\n",
       "    </tr>\n",
       "  </thead>\n",
       "  <tbody>\n",
       "    <tr>\n",
       "      <th>0.4</th>\n",
       "      <td>0.45</td>\n",
       "      <td>0.44</td>\n",
       "      <td>1.00</td>\n",
       "      <td>0.79</td>\n",
       "      <td>0.62</td>\n",
       "      <td>1.10</td>\n",
       "    </tr>\n",
       "    <tr>\n",
       "      <th>0.6</th>\n",
       "      <td>0.88</td>\n",
       "      <td>0.98</td>\n",
       "      <td>0.99</td>\n",
       "      <td>0.99</td>\n",
       "      <td>1.17</td>\n",
       "      <td>0.82</td>\n",
       "    </tr>\n",
       "    <tr>\n",
       "      <th>1.0</th>\n",
       "      <td>1.65</td>\n",
       "      <td>1.60</td>\n",
       "      <td>1.01</td>\n",
       "      <td>1.23</td>\n",
       "      <td>1.29</td>\n",
       "      <td>1.01</td>\n",
       "    </tr>\n",
       "  </tbody>\n",
       "</table>\n",
       "</div>"
      ],
      "text/plain": [
       "     Gender_F  Ethinicity_NW  AvgAge  Party_D  Chamber_H  AvgWordCount\n",
       "0.4      0.45           0.44    1.00     0.79       0.62          1.10\n",
       "0.6      0.88           0.98    0.99     0.99       1.17          0.82\n",
       "1.0      1.65           1.60    1.01     1.23       1.29          1.01"
      ]
     },
     "execution_count": 59,
     "metadata": {},
     "output_type": "execute_result"
    }
   ],
   "source": [
    "reload(explore_data)\n",
    "# checking the ratios of demo variables in low-mid-high probability buckets\n",
    "explore_data.check_bin_probs_distr(val_pred_probs, \n",
    "                                   val_ids, \n",
    "                                   descr_df)"
   ]
  },
  {
   "cell_type": "code",
   "execution_count": 60,
   "metadata": {},
   "outputs": [
    {
     "name": "stdout",
     "output_type": "stream",
     "text": [
      "\n",
      "Top 10 ngrams by differentiating score:\n",
      "mr president \t 2728.7\n",
      "speaker \t 1945.4\n",
      "senator \t 1896.6\n",
      "mr speaker \t 1740.6\n",
      "speaker rise \t 1564.9\n",
      "the senator \t 1531.4\n",
      "senator from \t 1474.0\n",
      "rise \t 1187.0\n",
      "president \t 1179.9\n",
      "rise today \t 715.0\n"
     ]
    },
    {
     "data": {
      "text/html": [
       "<div>\n",
       "<style scoped>\n",
       "    .dataframe tbody tr th:only-of-type {\n",
       "        vertical-align: middle;\n",
       "    }\n",
       "\n",
       "    .dataframe tbody tr th {\n",
       "        vertical-align: top;\n",
       "    }\n",
       "\n",
       "    .dataframe thead th {\n",
       "        text-align: right;\n",
       "    }\n",
       "</style>\n",
       "<table border=\"1\" class=\"dataframe\">\n",
       "  <thead>\n",
       "    <tr style=\"text-align: right;\">\n",
       "      <th>bin</th>\n",
       "      <th>1</th>\n",
       "      <th>2</th>\n",
       "      <th>3</th>\n",
       "    </tr>\n",
       "  </thead>\n",
       "  <tbody>\n",
       "    <tr>\n",
       "      <th>mr president</th>\n",
       "      <td>18121.0</td>\n",
       "      <td>2792.0</td>\n",
       "      <td>2832.0</td>\n",
       "    </tr>\n",
       "    <tr>\n",
       "      <th>mr speaker</th>\n",
       "      <td>10195.0</td>\n",
       "      <td>11114.0</td>\n",
       "      <td>26170.0</td>\n",
       "    </tr>\n",
       "    <tr>\n",
       "      <th>president</th>\n",
       "      <td>33463.0</td>\n",
       "      <td>8758.0</td>\n",
       "      <td>12879.0</td>\n",
       "    </tr>\n",
       "    <tr>\n",
       "      <th>rise</th>\n",
       "      <td>4485.0</td>\n",
       "      <td>2973.0</td>\n",
       "      <td>9004.0</td>\n",
       "    </tr>\n",
       "    <tr>\n",
       "      <th>rise today</th>\n",
       "      <td>1871.0</td>\n",
       "      <td>1076.0</td>\n",
       "      <td>4068.0</td>\n",
       "    </tr>\n",
       "    <tr>\n",
       "      <th>senator</th>\n",
       "      <td>20370.0</td>\n",
       "      <td>2584.0</td>\n",
       "      <td>2679.0</td>\n",
       "    </tr>\n",
       "    <tr>\n",
       "      <th>senator from</th>\n",
       "      <td>7043.0</td>\n",
       "      <td>475.0</td>\n",
       "      <td>341.0</td>\n",
       "    </tr>\n",
       "    <tr>\n",
       "      <th>speaker</th>\n",
       "      <td>12021.0</td>\n",
       "      <td>12845.0</td>\n",
       "      <td>30206.0</td>\n",
       "    </tr>\n",
       "    <tr>\n",
       "      <th>speaker rise</th>\n",
       "      <td>1373.0</td>\n",
       "      <td>1309.0</td>\n",
       "      <td>5065.0</td>\n",
       "    </tr>\n",
       "    <tr>\n",
       "      <th>the senator</th>\n",
       "      <td>7574.0</td>\n",
       "      <td>554.0</td>\n",
       "      <td>285.0</td>\n",
       "    </tr>\n",
       "  </tbody>\n",
       "</table>\n",
       "</div>"
      ],
      "text/plain": [
       "bin                 1        2        3\n",
       "mr president  18121.0   2792.0   2832.0\n",
       "mr speaker    10195.0  11114.0  26170.0\n",
       "president     33463.0   8758.0  12879.0\n",
       "rise           4485.0   2973.0   9004.0\n",
       "rise today     1871.0   1076.0   4068.0\n",
       "senator       20370.0   2584.0   2679.0\n",
       "senator from   7043.0    475.0    341.0\n",
       "speaker       12021.0  12845.0  30206.0\n",
       "speaker rise   1373.0   1309.0   5065.0\n",
       "the senator    7574.0    554.0    285.0"
      ]
     },
     "execution_count": 60,
     "metadata": {},
     "output_type": "execute_result"
    }
   ],
   "source": [
    "reload(explore_data)\n",
    "explore_data.compare_ngrams(val, val_pred_probs, ngram_range=(1, 2))"
   ]
  },
  {
   "cell_type": "code",
   "execution_count": 61,
   "metadata": {
    "scrolled": false
   },
   "outputs": [
    {
     "name": "stdout",
     "output_type": "stream",
     "text": [
      "\n",
      "True positive (Predicted prob: 0.94):\n",
      "\n",
      "date                 19890607\n",
      "char_count               1952\n",
      "word_count                331\n",
      "speakerid         1.01109e+08\n",
      "Party                       D\n",
      "Congress                  101\n",
      "Chamber                     H\n",
      "State                      CA\n",
      "Ethnicity             B/AAPIA\n",
      "Age                        64\n",
      "Age_lt_med                  0\n",
      "NonWhite                    1\n",
      "Female                      0\n",
      "speaker           Mr. DYMALLY\n",
      "Full Name     DYMALLY, MERVYN\n",
      "match                   exact\n",
      "Name: 1010032099, dtype: object\n",
      "\n",
      " Mr. Chairman. I want to thank the gentleman from New York for bringing this amendment to the floor to those Members who have some concerns about this particular issue with the Japanese Government. and their corporations may have an opportunity to express our concerns. Let me say this: Some people have suggested that those Members who oppose deal are indulging in Japanbashing. I want to establish my credentials. No Member of this Congress has risked his political mileage on the most controversial issue in the world as I have. in support of the Japanese. That is the integrity of their membership on the International Whaling Conference. In addition. I represent more JapaneseAmericans than any Member in this Congress except for the Members of Hawaii. It is silly for me to indulge in Japanese bashing. However. let me say this to Members. The time has come first. to say to the Japanese. enough is enough. We in this Congress have spent many hours crafting and passing legislation for affirmative action in this country. Yet we have the Japanese here as our corporate neighbors. not being the laws of this land. developing plants in the farthest outreach of the countryside away from the urban side. hiding their plants in urban areas. discriminating against blacks. refusing to meet and confer with the business community in black America. not being good corporate friends at all. It seems to me that this bill of this measure provides us an opportunity to speak out loud and clear to the Japanese that this Congress will not tolerate them violating the affirmative action laws of this land. There has not been a case against a Japanese corporation by an employee charging discrimination that they have won. Every major corporation against whom a case has been filed has lost that case on discrimination. and I think the time has come for us to speak up. Mr. Chairman. this deal can fly without the Japanese. We can do without their cooperation.\n",
      "--------------------\n",
      "\n",
      "True negative (Predicted prob: 0.04):\n",
      "\n",
      "date                19870930\n",
      "char_count              1555\n",
      "word_count               262\n",
      "speakerid        1.00109e+08\n",
      "Party                      R\n",
      "Congress                 100\n",
      "Chamber                    S\n",
      "State                     OR\n",
      "Ethnicity                  W\n",
      "Age                       66\n",
      "Age_lt_med                 0\n",
      "NonWhite                   0\n",
      "Female                     0\n",
      "speaker         Mr. HATFIELD\n",
      "Full Name     HATFIELD, MARK\n",
      "match                  exact\n",
      "Name: 1000100611, dtype: object\n",
      "\n",
      " Mr. President. although I am deeply troubled by a number of provisions as well as the overall spending level in the bill now before us. I am very pleased by the provision which would place the N Reactor at the Hanford Nuclear Reservation in Washington State on cold standby status. The Senate Appropriations Committee has included a similar provision in the energy and water appropriations bill. and it is my hope that this aging and dangerous facility will not be restarted. While this action will be a relief to those residents of the Pacific Northwest who have been concerned with the constant threat that the N Reactor presents to their health and safety. it could have considerable economic impact on the Hanford area. In particular. there is considerable concern for the facilitys employees whose jobs will be eliminated by the implementation of a cold standby mode at the reactor. Of course I share the concern over the men and women whose jobs will be eliminated If the N Reactor is placed on cold standby. but I am convinced that the problems we may face are not insurmountable. In fact. State and local efforts to help area residents respond to the economic impact are underway already. The challenge now is to get the Federal Government actively involved in such efforts. As an editorial which recently appeared in the Spokane. WA. Chronicle pointed out. the \"jobs\" argument for continued operation of Hanford simply does not wash. I ask unanimous consent that the editorial. \"Shut Down Hanford? Fears Are Overstated.\" be printed in the RECORD.\n",
      "--------------------\n",
      "\n",
      "False positive (Predicted prob: 0.93):\n",
      "\n",
      "date               20100428\n",
      "char_count              809\n",
      "word_count              149\n",
      "speakerid       1.11122e+08\n",
      "Party                     D\n",
      "Congress                111\n",
      "Chamber                   H\n",
      "State                    KY\n",
      "Ethnicity                 W\n",
      "Age                      63\n",
      "Age_lt_med                0\n",
      "NonWhite                  0\n",
      "Female                    0\n",
      "speaker         Mr. YARMUTH\n",
      "Full Name     YARMUTH, JOHN\n",
      "match                 exact\n",
      "Name: 1110102688, dtype: object\n",
      "\n",
      " Mr. Speaker. I know our Republican friends dont like it when we call them the party of \"no.\" but lets review the score for just a minute. On health care reform. 177 noes. no yeses. On Wall Street reform. 175 noes. no yeses. On the American Recovery and Reinvestment Act. 177 noes. no yeses. Lets look at the Senate. In two consecutive votes whether to bring Wall Street reform to the floor for a debate. 40 noes. no yeses. Theyre not just the party of \"no\". theyre the party of no jobs for America. for no energy security. for no Wall Street reform. for no consumer protections against predatory practices. for no equal pay for women in the workplace. and the party of \"no\" for tax relief for middle class families. If the Republicans dont want to be called the party of \"no.\" theyd better learn to say \"yes.\"\n",
      "--------------------\n",
      "\n",
      "False negative (Predicted prob: 0.08):\n",
      "\n",
      "date              20071025\n",
      "char_count             959\n",
      "word_count             182\n",
      "speakerid      1.10114e+08\n",
      "Party                    R\n",
      "Congress               110\n",
      "Chamber                  S\n",
      "State                   NH\n",
      "Ethnicity             H/ME\n",
      "Age                     44\n",
      "Age_lt_med               1\n",
      "NonWhite                 1\n",
      "Female                   0\n",
      "speaker         Mr. SUNUNU\n",
      "Full Name     SUNUNU, JOHN\n",
      "match                exact\n",
      "Name: 1100111194, dtype: object\n",
      "\n",
      " Mr. President. I apologize again to the bill manager for not having a copy for him. As was clear from the reading of the amendment. if nothing else was clear. it is a brief amendment. It strikes the line of the bill that would have placed a limit on the number of routes that could be allowed for a competitive bid. That means it allows for an operator to offer to run that route at an effective cost with particular service goals in mind in order to provide service at or above the current quality of service at a lower cost. I think it would be a mistake to place an arbitrary restriction on the number of routes that could be competitively bid. Certainly decisions about putting routes out to bid. or which routes are put out to bid. how they are done. would still be in the hands of the management team at Amtrak. I think that is as it should be. I appreciate the opportunity to offer the amendment. I ask that my colleagues support it. I yield the floor.\n",
      "--------------------\n"
     ]
    }
   ],
   "source": [
    "reload(explore_data)\n",
    "explore_data.print_mispredictions(val_target, val_pred_probs, val, val_ids, descr_df)"
   ]
  },
  {
   "cell_type": "markdown",
   "metadata": {},
   "source": [
    "## CNN - chunking the data"
   ]
  },
  {
   "cell_type": "markdown",
   "metadata": {},
   "source": [
    "### Prepare the data"
   ]
  },
  {
   "cell_type": "code",
   "execution_count": 62,
   "metadata": {},
   "outputs": [],
   "source": [
    "chunk_len=50"
   ]
  },
  {
   "cell_type": "code",
   "execution_count": 67,
   "metadata": {},
   "outputs": [
    {
     "name": "stdout",
     "output_type": "stream",
     "text": [
      "Original data has 188520 speeches\n",
      "It was split into 1507038 chunks\n",
      "Checks on ids and target 1507038 1507038\n",
      "Original target mean 0.5\n",
      "New target mean 0.49381103860685666\n",
      "Original data has 62840 speeches\n",
      "It was split into 503395 chunks\n",
      "Checks on ids and target 503395 503395\n",
      "Original target mean 0.5\n",
      "New target mean 0.4916020222687949\n",
      "Original data has 62840 speeches\n",
      "It was split into 507051 chunks\n",
      "Checks on ids and target 507051 507051\n",
      "Original target mean 0.5\n",
      "New target mean 0.49672715367882125\n",
      "\n",
      "It took 14.1 seconds to create the dictionary\n"
     ]
    }
   ],
   "source": [
    "reload(preprocess_data)\n",
    "start_time = time.time()\n",
    "train_chunk, train_ids_chunk, train_target_chunk = preprocess_data.split_speech_to_chunks(train, train_ids, train_target, max_len=chunk_len)\n",
    "val_chunk, val_ids_chunk, val_target_chunk = preprocess_data.split_speech_to_chunks(val, val_ids, val_target, max_len=chunk_len)\n",
    "test_chunk, test_ids_chunk, test_target_chunk = preprocess_data.split_speech_to_chunks(test, test_ids, test_target, max_len=chunk_len)\n",
    "print(\"\\nIt took {:.1f} seconds to create the dictionary\".format(time.time()-start_time))"
   ]
  },
  {
   "cell_type": "code",
   "execution_count": 65,
   "metadata": {},
   "outputs": [],
   "source": [
    "# Limit on the number of features. \n",
    "TOP_K = 20000\n",
    "\n",
    "# Limit on the length of text sequences. Sequences longer than this\n",
    "# will be truncated.\n",
    "# MAX_SEQUENCE_LENGTH = 100\n",
    "MAX_SEQUENCE_LENGTH = chunk_len\n",
    "\n",
    "vec_params = {\n",
    "    'num_words': TOP_K,\n",
    "    'max_seq_length': MAX_SEQUENCE_LENGTH\n",
    "}"
   ]
  },
  {
   "cell_type": "code",
   "execution_count": 68,
   "metadata": {},
   "outputs": [
    {
     "name": "stdout",
     "output_type": "stream",
     "text": [
      "\n",
      "It took 208.2 seconds to tokenize the data\n"
     ]
    }
   ],
   "source": [
    "start_time = time.time()\n",
    "train_vec, val_vec, test_vec, word_index = preprocess_data.sequence_vectorize(train_chunk, val_chunk, test_chunk, **vec_params)\n",
    "print(\"\\nIt took {:.1f} seconds to tokenize the data\".format(time.time()-start_time))"
   ]
  },
  {
   "cell_type": "code",
   "execution_count": 69,
   "metadata": {},
   "outputs": [],
   "source": [
    "np.save(os.path.join(token_path, 'train_vec_chunk'), train_vec)\n",
    "np.save(os.path.join(token_path, 'val_vec_chunk'), val_vec)\n",
    "np.save(os.path.join(token_path, 'test_vec_chunk'), test_vec)"
   ]
  },
  {
   "cell_type": "code",
   "execution_count": null,
   "metadata": {},
   "outputs": [],
   "source": [
    "train_vec = np.load(os.path.join(token_path, 'train_vec_chunk.npy'))\n",
    "val_vec = np.load(os.path.join(token_path, 'val_vec_chunk.npy'))\n",
    "test_vec = np.load(os.path.join(token_path, 'test_vec_chunk.npy'))"
   ]
  },
  {
   "cell_type": "code",
   "execution_count": 70,
   "metadata": {},
   "outputs": [
    {
     "data": {
      "text/plain": [
       "(1507038, 50)"
      ]
     },
     "execution_count": 70,
     "metadata": {},
     "output_type": "execute_result"
    }
   ],
   "source": [
    "train_vec.shape"
   ]
  },
  {
   "cell_type": "code",
   "execution_count": 71,
   "metadata": {},
   "outputs": [
    {
     "data": {
      "text/plain": [
       "array([   26,    47,    10,   178,    70,     3,   368,  1699,     8,\n",
       "       15607,    32,  1405,  3821,     4,  4318,  5759,   295,   207,\n",
       "          35,    27,    46,  2511,     3,   568,     2,  2572,   810,\n",
       "          24,     1,    15,   929,   449,  3075,     6, 11791, 11026,\n",
       "         303,  2488, 15607,     9,     8,  5004,  1995,     4,  5153,\n",
       "         431,   146,    39,  1314,   195], dtype=int32)"
      ]
     },
     "execution_count": 71,
     "metadata": {},
     "output_type": "execute_result"
    }
   ],
   "source": [
    "train_vec[0]"
   ]
  },
  {
   "cell_type": "code",
   "execution_count": 72,
   "metadata": {},
   "outputs": [
    {
     "data": {
      "text/plain": [
       "numpy.ndarray"
      ]
     },
     "execution_count": 72,
     "metadata": {},
     "output_type": "execute_result"
    }
   ],
   "source": [
    "type(train_vec)"
   ]
  },
  {
   "cell_type": "markdown",
   "metadata": {},
   "source": [
    "### Run the model"
   ]
  },
  {
   "cell_type": "code",
   "execution_count": 73,
   "metadata": {},
   "outputs": [
    {
     "name": "stdout",
     "output_type": "stream",
     "text": [
      "Found 400000 word vectors.\n",
      "It took 20.3 seconds\n",
      "Preparing embedding matrix.\n",
      "Embedding matrix has been built.\n",
      "Its shape is (20000, 200).\n",
      "It took 0.1 seconds\n",
      "Train on 1507038 samples, validate on 503395 samples\n",
      "Epoch 1/1000\n",
      " - 967s - loss: 0.6170 - acc: 0.6528 - val_loss: 0.6044 - val_acc: 0.6680\n",
      "Epoch 2/1000\n",
      " - 845s - loss: 0.5936 - acc: 0.6768 - val_loss: 0.6028 - val_acc: 0.6677\n",
      "Epoch 3/1000\n",
      " - 870s - loss: 0.5826 - acc: 0.6872 - val_loss: 0.5981 - val_acc: 0.6741\n",
      "Epoch 4/1000\n",
      " - 892s - loss: 0.5723 - acc: 0.6963 - val_loss: 0.5981 - val_acc: 0.6743\n",
      "Epoch 5/1000\n",
      " - 894s - loss: 0.5622 - acc: 0.7044 - val_loss: 0.5981 - val_acc: 0.6743\n",
      "Validation accuracy: 0.6743054389953613, loss: 0.5980726024649585\n"
     ]
    }
   ],
   "source": [
    "history_chunk, train_pred_probs_chunk, val_pred_probs_chunk = train_model.train_model(((train_vec, train_target_chunk), (val_vec, val_target_chunk)), logs_base_dir, **cnn_model_params)"
   ]
  },
  {
   "cell_type": "code",
   "execution_count": 101,
   "metadata": {},
   "outputs": [],
   "source": [
    "np.save(probs_path+'val_pred_probs_cnn_chunk', val_pred_probs_chunk, allow_pickle=True, fix_imports=True)"
   ]
  },
  {
   "cell_type": "code",
   "execution_count": 98,
   "metadata": {},
   "outputs": [
    {
     "data": {
      "text/plain": [
       "0.6743054658866298"
      ]
     },
     "execution_count": 98,
     "metadata": {},
     "output_type": "execute_result"
    }
   ],
   "source": [
    "val_preds_chunk = val_pred_probs_chunk > 0.5\n",
    "np.mean(val_preds_chunk.flatten()==val_target_chunk)"
   ]
  },
  {
   "cell_type": "code",
   "execution_count": 99,
   "metadata": {},
   "outputs": [
    {
     "data": {
      "text/plain": [
       "(503395, 1)"
      ]
     },
     "execution_count": 99,
     "metadata": {},
     "output_type": "execute_result"
    }
   ],
   "source": [
    "val_preds_chunk.shape"
   ]
  },
  {
   "cell_type": "code",
   "execution_count": 100,
   "metadata": {},
   "outputs": [
    {
     "data": {
      "text/plain": [
       "array([239889])"
      ]
     },
     "execution_count": 100,
     "metadata": {},
     "output_type": "execute_result"
    }
   ],
   "source": [
    "sum(val_preds_chunk)"
   ]
  },
  {
   "cell_type": "code",
   "execution_count": 76,
   "metadata": {},
   "outputs": [
    {
     "data": {
      "text/html": [
       "<div>\n",
       "<style scoped>\n",
       "    .dataframe tbody tr th:only-of-type {\n",
       "        vertical-align: middle;\n",
       "    }\n",
       "\n",
       "    .dataframe tbody tr th {\n",
       "        vertical-align: top;\n",
       "    }\n",
       "\n",
       "    .dataframe thead th {\n",
       "        text-align: right;\n",
       "    }\n",
       "</style>\n",
       "<table border=\"1\" class=\"dataframe\">\n",
       "  <thead>\n",
       "    <tr style=\"text-align: right;\">\n",
       "      <th></th>\n",
       "      <th>ids</th>\n",
       "      <th>probs_min</th>\n",
       "      <th>probs_max</th>\n",
       "      <th>probs_mean</th>\n",
       "      <th>target</th>\n",
       "      <th>preds</th>\n",
       "      <th>preds_probs_mean</th>\n",
       "      <th>preds_mean</th>\n",
       "    </tr>\n",
       "  </thead>\n",
       "  <tbody>\n",
       "    <tr>\n",
       "      <th>0</th>\n",
       "      <td>1000000470</td>\n",
       "      <td>0.300465</td>\n",
       "      <td>0.517254</td>\n",
       "      <td>0.408860</td>\n",
       "      <td>1</td>\n",
       "      <td>0.500000</td>\n",
       "      <td>0</td>\n",
       "      <td>0</td>\n",
       "    </tr>\n",
       "    <tr>\n",
       "      <th>1</th>\n",
       "      <td>1000000543</td>\n",
       "      <td>0.118292</td>\n",
       "      <td>0.421215</td>\n",
       "      <td>0.256245</td>\n",
       "      <td>0</td>\n",
       "      <td>0.000000</td>\n",
       "      <td>0</td>\n",
       "      <td>0</td>\n",
       "    </tr>\n",
       "    <tr>\n",
       "      <th>2</th>\n",
       "      <td>1000000888</td>\n",
       "      <td>0.340131</td>\n",
       "      <td>0.882748</td>\n",
       "      <td>0.534214</td>\n",
       "      <td>1</td>\n",
       "      <td>0.333333</td>\n",
       "      <td>1</td>\n",
       "      <td>0</td>\n",
       "    </tr>\n",
       "    <tr>\n",
       "      <th>3</th>\n",
       "      <td>1000000889</td>\n",
       "      <td>0.407661</td>\n",
       "      <td>0.934524</td>\n",
       "      <td>0.743561</td>\n",
       "      <td>1</td>\n",
       "      <td>0.750000</td>\n",
       "      <td>1</td>\n",
       "      <td>1</td>\n",
       "    </tr>\n",
       "    <tr>\n",
       "      <th>4</th>\n",
       "      <td>1000000904</td>\n",
       "      <td>0.239784</td>\n",
       "      <td>0.827516</td>\n",
       "      <td>0.524707</td>\n",
       "      <td>1</td>\n",
       "      <td>0.666667</td>\n",
       "      <td>1</td>\n",
       "      <td>1</td>\n",
       "    </tr>\n",
       "  </tbody>\n",
       "</table>\n",
       "</div>"
      ],
      "text/plain": [
       "          ids  probs_min  probs_max  probs_mean  target     preds  \\\n",
       "0  1000000470   0.300465   0.517254    0.408860       1  0.500000   \n",
       "1  1000000543   0.118292   0.421215    0.256245       0  0.000000   \n",
       "2  1000000888   0.340131   0.882748    0.534214       1  0.333333   \n",
       "3  1000000889   0.407661   0.934524    0.743561       1  0.750000   \n",
       "4  1000000904   0.239784   0.827516    0.524707       1  0.666667   \n",
       "\n",
       "   preds_probs_mean  preds_mean  \n",
       "0                 0           0  \n",
       "1                 0           0  \n",
       "2                 1           0  \n",
       "3                 1           1  \n",
       "4                 1           1  "
      ]
     },
     "execution_count": 76,
     "metadata": {},
     "output_type": "execute_result"
    }
   ],
   "source": [
    "pred_df = pd.DataFrame({'ids': val_ids_chunk, 'target': val_target_chunk, 'probs': val_pred_probs_chunk.flatten(), 'preds': val_preds_chunk.flatten()})\n",
    "f = {'probs': [min, max, 'mean']}\n",
    "pred_aggr_df = pred_df.groupby('ids').agg(f).reset_index()\n",
    "pred_aggr_df.columns = ['ids', 'probs_min', 'probs_max', 'probs_mean']\n",
    "pred_aggr_df = pred_aggr_df.merge(pred_df[['target', 'ids']].groupby('ids').mean().reset_index(), on='ids')\n",
    "pred_aggr_df = pred_aggr_df.merge(pred_df[['preds', 'ids']].groupby('ids').mean().reset_index(), on='ids')\n",
    "pred_aggr_df['preds_probs_mean'] = pred_aggr_df['probs_mean'].apply(lambda x: 1 if x > 0.5 else 0)\n",
    "pred_aggr_df['preds_mean'] = pred_aggr_df['preds'].apply(lambda x: 1 if x > 0.5 else 0)\n",
    "pred_aggr_df.head()"
   ]
  },
  {
   "cell_type": "code",
   "execution_count": 77,
   "metadata": {},
   "outputs": [
    {
     "data": {
      "text/plain": [
       "(0.7440642902609803, 0.7259388924252069)"
      ]
     },
     "execution_count": 77,
     "metadata": {},
     "output_type": "execute_result"
    }
   ],
   "source": [
    "np.mean(pred_aggr_df.target == pred_aggr_df.preds_probs_mean), np.mean(pred_aggr_df.target == pred_aggr_df.preds_mean)"
   ]
  },
  {
   "cell_type": "code",
   "execution_count": 153,
   "metadata": {},
   "outputs": [
    {
     "data": {
      "text/html": [
       "<div>\n",
       "<style scoped>\n",
       "    .dataframe tbody tr th:only-of-type {\n",
       "        vertical-align: middle;\n",
       "    }\n",
       "\n",
       "    .dataframe tbody tr th {\n",
       "        vertical-align: top;\n",
       "    }\n",
       "\n",
       "    .dataframe thead th {\n",
       "        text-align: right;\n",
       "    }\n",
       "</style>\n",
       "<table border=\"1\" class=\"dataframe\">\n",
       "  <thead>\n",
       "    <tr style=\"text-align: right;\">\n",
       "      <th></th>\n",
       "      <th>target_orig</th>\n",
       "      <th>ids</th>\n",
       "      <th>probs_min</th>\n",
       "      <th>probs_max</th>\n",
       "      <th>probs_mean</th>\n",
       "      <th>target</th>\n",
       "      <th>preds</th>\n",
       "      <th>preds_probs_mean</th>\n",
       "      <th>preds_mean</th>\n",
       "    </tr>\n",
       "  </thead>\n",
       "  <tbody>\n",
       "    <tr>\n",
       "      <th>0</th>\n",
       "      <td>1</td>\n",
       "      <td>1010243717</td>\n",
       "      <td>0.344667</td>\n",
       "      <td>0.602394</td>\n",
       "      <td>0.447245</td>\n",
       "      <td>1</td>\n",
       "      <td>0.250000</td>\n",
       "      <td>0</td>\n",
       "      <td>0</td>\n",
       "    </tr>\n",
       "    <tr>\n",
       "      <th>1</th>\n",
       "      <td>1</td>\n",
       "      <td>1120097305</td>\n",
       "      <td>0.542501</td>\n",
       "      <td>0.849781</td>\n",
       "      <td>0.662056</td>\n",
       "      <td>1</td>\n",
       "      <td>1.000000</td>\n",
       "      <td>1</td>\n",
       "      <td>1</td>\n",
       "    </tr>\n",
       "    <tr>\n",
       "      <th>2</th>\n",
       "      <td>1</td>\n",
       "      <td>1020183502</td>\n",
       "      <td>0.576263</td>\n",
       "      <td>0.576263</td>\n",
       "      <td>0.576263</td>\n",
       "      <td>1</td>\n",
       "      <td>1.000000</td>\n",
       "      <td>1</td>\n",
       "      <td>1</td>\n",
       "    </tr>\n",
       "    <tr>\n",
       "      <th>3</th>\n",
       "      <td>1</td>\n",
       "      <td>1080187463</td>\n",
       "      <td>0.247439</td>\n",
       "      <td>0.763894</td>\n",
       "      <td>0.464190</td>\n",
       "      <td>1</td>\n",
       "      <td>0.555556</td>\n",
       "      <td>0</td>\n",
       "      <td>1</td>\n",
       "    </tr>\n",
       "    <tr>\n",
       "      <th>4</th>\n",
       "      <td>1</td>\n",
       "      <td>1090010764</td>\n",
       "      <td>0.221940</td>\n",
       "      <td>0.885637</td>\n",
       "      <td>0.577205</td>\n",
       "      <td>1</td>\n",
       "      <td>0.666667</td>\n",
       "      <td>1</td>\n",
       "      <td>1</td>\n",
       "    </tr>\n",
       "  </tbody>\n",
       "</table>\n",
       "</div>"
      ],
      "text/plain": [
       "   target_orig         ids  probs_min  probs_max  probs_mean  target  \\\n",
       "0            1  1010243717   0.344667   0.602394    0.447245       1   \n",
       "1            1  1120097305   0.542501   0.849781    0.662056       1   \n",
       "2            1  1020183502   0.576263   0.576263    0.576263       1   \n",
       "3            1  1080187463   0.247439   0.763894    0.464190       1   \n",
       "4            1  1090010764   0.221940   0.885637    0.577205       1   \n",
       "\n",
       "      preds  preds_probs_mean  preds_mean  \n",
       "0  0.250000                 0           0  \n",
       "1  1.000000                 1           1  \n",
       "2  1.000000                 1           1  \n",
       "3  0.555556                 0           1  \n",
       "4  0.666667                 1           1  "
      ]
     },
     "execution_count": 153,
     "metadata": {},
     "output_type": "execute_result"
    }
   ],
   "source": [
    "original_df = pd.DataFrame({'target_orig': val_target, 'ids': val_ids})\n",
    "original_df = original_df.merge(pred_aggr_df, on=\"ids\")\n",
    "original_df.head()"
   ]
  },
  {
   "cell_type": "code",
   "execution_count": 154,
   "metadata": {},
   "outputs": [
    {
     "data": {
      "text/plain": [
       "(31420, 31420)"
      ]
     },
     "execution_count": 154,
     "metadata": {},
     "output_type": "execute_result"
    }
   ],
   "source": [
    "original_df.target_orig.sum(), original_df.target.sum()"
   ]
  },
  {
   "cell_type": "markdown",
   "metadata": {},
   "source": [
    "## Model evaluation"
   ]
  },
  {
   "cell_type": "code",
   "execution_count": 158,
   "metadata": {},
   "outputs": [],
   "source": [
    "val_pred_aggr_chunk = original_df.preds_probs_mean\n",
    "val_pred_probs_aggr_chunk = original_df.probs_mean\n",
    "# val_aggr_target = pred_aggr_df.target\n",
    "# val_aggr_ids = pred_aggr_df.ids"
   ]
  },
  {
   "cell_type": "code",
   "execution_count": 156,
   "metadata": {},
   "outputs": [],
   "source": [
    "np.save(probs_path+'val_pred_probs_cnn_aggr_chunk', val_pred_probs_aggr_chunk, allow_pickle=True, fix_imports=True)"
   ]
  },
  {
   "cell_type": "code",
   "execution_count": 159,
   "metadata": {},
   "outputs": [
    {
     "name": "stdout",
     "output_type": "stream",
     "text": [
      "Confusion matrix, without normalization\n",
      "[[23522  7898]\n",
      " [ 8185 23235]]\n",
      "             precision    recall  f1-score   support\n",
      "\n",
      "      White       0.74      0.75      0.75     31420\n",
      "   NonWhite       0.75      0.74      0.74     31420\n",
      "\n",
      "avg / total       0.74      0.74      0.74     62840\n",
      "\n"
     ]
    },
    {
     "data": {
      "text/plain": [
       "<matplotlib.axes._subplots.AxesSubplot at 0x7f06933fab38>"
      ]
     },
     "execution_count": 159,
     "metadata": {},
     "output_type": "execute_result"
    },
    {
     "data": {
      "image/png": "[encoded data removed]",
      "text/plain": [
       "<Figure size 432x288 with 2 Axes>"
      ]
     },
     "metadata": {},
     "output_type": "display_data"
    }
   ],
   "source": [
    "reload(explore_data)\n",
    "# specify class names in 0 - 1 order\n",
    "explore_data.plot_confusion_matrix(val_target, val_pred_aggr_chunk, classes, normalize=True)"
   ]
  },
  {
   "cell_type": "code",
   "execution_count": 81,
   "metadata": {
    "scrolled": false
   },
   "outputs": [
    {
     "data": {
      "image/png": "[encoded data removed]",
      "text/plain": [
       "<Figure size 720x720 with 2 Axes>"
      ]
     },
     "metadata": {},
     "output_type": "display_data"
    }
   ],
   "source": [
    "reload(explore_data)\n",
    "explore_data.plot_calibration_curve(val_aggr_target, val_pred_probs_aggr_chunk, 'Ethnicity')"
   ]
  },
  {
   "cell_type": "code",
   "execution_count": 82,
   "metadata": {
    "scrolled": true
   },
   "outputs": [
    {
     "name": "stdout",
     "output_type": "stream",
     "text": [
      "Validation sample means:\n",
      "      Gender_F  Ethinicity_NW     AvgAge   Party_D  Chamber_H  AvgWordCount\n",
      "base  0.175939            0.5  58.427562  0.690738   0.694876    376.978469\n"
     ]
    },
    {
     "data": {
      "text/html": [
       "<div>\n",
       "<style scoped>\n",
       "    .dataframe tbody tr th:only-of-type {\n",
       "        vertical-align: middle;\n",
       "    }\n",
       "\n",
       "    .dataframe tbody tr th {\n",
       "        vertical-align: top;\n",
       "    }\n",
       "\n",
       "    .dataframe thead th {\n",
       "        text-align: right;\n",
       "    }\n",
       "</style>\n",
       "<table border=\"1\" class=\"dataframe\">\n",
       "  <thead>\n",
       "    <tr style=\"text-align: right;\">\n",
       "      <th></th>\n",
       "      <th>Gender_F</th>\n",
       "      <th>Ethinicity_NW</th>\n",
       "      <th>AvgAge</th>\n",
       "      <th>Party_D</th>\n",
       "      <th>Chamber_H</th>\n",
       "      <th>AvgWordCount</th>\n",
       "    </tr>\n",
       "  </thead>\n",
       "  <tbody>\n",
       "    <tr>\n",
       "      <th>0.4</th>\n",
       "      <td>0.31</td>\n",
       "      <td>0.33</td>\n",
       "      <td>1.00</td>\n",
       "      <td>0.75</td>\n",
       "      <td>0.48</td>\n",
       "      <td>1.01</td>\n",
       "    </tr>\n",
       "    <tr>\n",
       "      <th>0.6</th>\n",
       "      <td>0.91</td>\n",
       "      <td>0.97</td>\n",
       "      <td>0.99</td>\n",
       "      <td>0.99</td>\n",
       "      <td>1.12</td>\n",
       "      <td>1.07</td>\n",
       "    </tr>\n",
       "    <tr>\n",
       "      <th>1.0</th>\n",
       "      <td>1.82</td>\n",
       "      <td>1.71</td>\n",
       "      <td>1.01</td>\n",
       "      <td>1.26</td>\n",
       "      <td>1.29</td>\n",
       "      <td>0.87</td>\n",
       "    </tr>\n",
       "  </tbody>\n",
       "</table>\n",
       "</div>"
      ],
      "text/plain": [
       "     Gender_F  Ethinicity_NW  AvgAge  Party_D  Chamber_H  AvgWordCount\n",
       "0.4      0.31           0.33    1.00     0.75       0.48          1.01\n",
       "0.6      0.91           0.97    0.99     0.99       1.12          1.07\n",
       "1.0      1.82           1.71    1.01     1.26       1.29          0.87"
      ]
     },
     "execution_count": 82,
     "metadata": {},
     "output_type": "execute_result"
    }
   ],
   "source": [
    "reload(explore_data)\n",
    "# checking the ratios of demo variables in low-mid-high probability buckets\n",
    "explore_data.check_bin_probs_distr(val_pred_probs_aggr_chunk, \n",
    "                                   val_aggr_ids, \n",
    "                                   descr_df)"
   ]
  },
  {
   "cell_type": "code",
   "execution_count": 83,
   "metadata": {},
   "outputs": [
    {
     "name": "stdout",
     "output_type": "stream",
     "text": [
      "\n",
      "Top 10 ngrams by differentiating score:\n",
      "mr president \t 9892.9\n",
      "speaker \t 7975.7\n",
      "senator \t 7452.2\n",
      "mr speaker \t 6829.5\n",
      "president \t 5185.7\n",
      "the senator \t 4441.6\n",
      "black \t 4104.0\n",
      "senator from \t 4035.8\n",
      "it \t 3495.7\n",
      "district \t 3080.6\n"
     ]
    },
    {
     "data": {
      "text/html": [
       "<div>\n",
       "<style scoped>\n",
       "    .dataframe tbody tr th:only-of-type {\n",
       "        vertical-align: middle;\n",
       "    }\n",
       "\n",
       "    .dataframe tbody tr th {\n",
       "        vertical-align: top;\n",
       "    }\n",
       "\n",
       "    .dataframe thead th {\n",
       "        text-align: right;\n",
       "    }\n",
       "</style>\n",
       "<table border=\"1\" class=\"dataframe\">\n",
       "  <thead>\n",
       "    <tr style=\"text-align: right;\">\n",
       "      <th>bin</th>\n",
       "      <th>1</th>\n",
       "      <th>2</th>\n",
       "      <th>3</th>\n",
       "    </tr>\n",
       "  </thead>\n",
       "  <tbody>\n",
       "    <tr>\n",
       "      <th>black</th>\n",
       "      <td>217.0</td>\n",
       "      <td>387.0</td>\n",
       "      <td>5827.0</td>\n",
       "    </tr>\n",
       "    <tr>\n",
       "      <th>district</th>\n",
       "      <td>1710.0</td>\n",
       "      <td>3165.0</td>\n",
       "      <td>8818.0</td>\n",
       "    </tr>\n",
       "    <tr>\n",
       "      <th>it</th>\n",
       "      <td>80457.0</td>\n",
       "      <td>75612.0</td>\n",
       "      <td>40661.0</td>\n",
       "    </tr>\n",
       "    <tr>\n",
       "      <th>mr president</th>\n",
       "      <td>17587.0</td>\n",
       "      <td>3933.0</td>\n",
       "      <td>2012.0</td>\n",
       "    </tr>\n",
       "    <tr>\n",
       "      <th>mr speaker</th>\n",
       "      <td>6324.0</td>\n",
       "      <td>16077.0</td>\n",
       "      <td>24704.0</td>\n",
       "    </tr>\n",
       "    <tr>\n",
       "      <th>president</th>\n",
       "      <td>29671.0</td>\n",
       "      <td>15604.0</td>\n",
       "      <td>9825.0</td>\n",
       "    </tr>\n",
       "    <tr>\n",
       "      <th>senator</th>\n",
       "      <td>20164.0</td>\n",
       "      <td>3761.0</td>\n",
       "      <td>1708.0</td>\n",
       "    </tr>\n",
       "    <tr>\n",
       "      <th>senator from</th>\n",
       "      <td>7111.0</td>\n",
       "      <td>503.0</td>\n",
       "      <td>139.0</td>\n",
       "    </tr>\n",
       "    <tr>\n",
       "      <th>speaker</th>\n",
       "      <td>7412.0</td>\n",
       "      <td>18814.0</td>\n",
       "      <td>28846.0</td>\n",
       "    </tr>\n",
       "    <tr>\n",
       "      <th>the senator</th>\n",
       "      <td>7731.0</td>\n",
       "      <td>474.0</td>\n",
       "      <td>100.0</td>\n",
       "    </tr>\n",
       "  </tbody>\n",
       "</table>\n",
       "</div>"
      ],
      "text/plain": [
       "bin                 1        2        3\n",
       "black           217.0    387.0   5827.0\n",
       "district       1710.0   3165.0   8818.0\n",
       "it            80457.0  75612.0  40661.0\n",
       "mr president  17587.0   3933.0   2012.0\n",
       "mr speaker     6324.0  16077.0  24704.0\n",
       "president     29671.0  15604.0   9825.0\n",
       "senator       20164.0   3761.0   1708.0\n",
       "senator from   7111.0    503.0    139.0\n",
       "speaker        7412.0  18814.0  28846.0\n",
       "the senator    7731.0    474.0    100.0"
      ]
     },
     "execution_count": 83,
     "metadata": {},
     "output_type": "execute_result"
    }
   ],
   "source": [
    "reload(explore_data)\n",
    "explore_data.compare_ngrams(val_chunk, val_pred_probs_chunk, ngram_range=(1, 2))"
   ]
  },
  {
   "cell_type": "code",
   "execution_count": 86,
   "metadata": {},
   "outputs": [
    {
     "name": "stdout",
     "output_type": "stream",
     "text": [
      "\n",
      "Top 10 ngrams by differentiating score:\n",
      "those citizens \t 14.1\n",
      "even tell \t 13.2\n",
      "recovery from \t 13.1\n",
      "simply on \t 11.5\n",
      "other over \t 11.4\n",
      "find great \t 11.2\n",
      "fund tax \t 11.1\n",
      "senseless violence \t 10.7\n",
      "to arouse \t 10.7\n",
      "other bills \t 10.6\n"
     ]
    },
    {
     "data": {
      "text/html": [
       "<div>\n",
       "<style scoped>\n",
       "    .dataframe tbody tr th:only-of-type {\n",
       "        vertical-align: middle;\n",
       "    }\n",
       "\n",
       "    .dataframe tbody tr th {\n",
       "        vertical-align: top;\n",
       "    }\n",
       "\n",
       "    .dataframe thead th {\n",
       "        text-align: right;\n",
       "    }\n",
       "</style>\n",
       "<table border=\"1\" class=\"dataframe\">\n",
       "  <thead>\n",
       "    <tr style=\"text-align: right;\">\n",
       "      <th>bin</th>\n",
       "      <th>1</th>\n",
       "      <th>2</th>\n",
       "      <th>3</th>\n",
       "    </tr>\n",
       "  </thead>\n",
       "  <tbody>\n",
       "    <tr>\n",
       "      <th>even tell</th>\n",
       "      <td>11.0</td>\n",
       "      <td>1.0</td>\n",
       "      <td>0.0</td>\n",
       "    </tr>\n",
       "    <tr>\n",
       "      <th>find great</th>\n",
       "      <td>8.0</td>\n",
       "      <td>0.0</td>\n",
       "      <td>0.0</td>\n",
       "    </tr>\n",
       "    <tr>\n",
       "      <th>fund tax</th>\n",
       "      <td>12.0</td>\n",
       "      <td>1.0</td>\n",
       "      <td>1.0</td>\n",
       "    </tr>\n",
       "    <tr>\n",
       "      <th>other bills</th>\n",
       "      <td>9.0</td>\n",
       "      <td>42.0</td>\n",
       "      <td>45.0</td>\n",
       "    </tr>\n",
       "    <tr>\n",
       "      <th>other over</th>\n",
       "      <td>11.0</td>\n",
       "      <td>0.0</td>\n",
       "      <td>1.0</td>\n",
       "    </tr>\n",
       "    <tr>\n",
       "      <th>recovery from</th>\n",
       "      <td>35.0</td>\n",
       "      <td>14.0</td>\n",
       "      <td>9.0</td>\n",
       "    </tr>\n",
       "    <tr>\n",
       "      <th>senseless violence</th>\n",
       "      <td>5.0</td>\n",
       "      <td>7.0</td>\n",
       "      <td>27.0</td>\n",
       "    </tr>\n",
       "    <tr>\n",
       "      <th>simply on</th>\n",
       "      <td>2.0</td>\n",
       "      <td>4.0</td>\n",
       "      <td>16.0</td>\n",
       "    </tr>\n",
       "    <tr>\n",
       "      <th>those citizens</th>\n",
       "      <td>9.0</td>\n",
       "      <td>7.0</td>\n",
       "      <td>28.0</td>\n",
       "    </tr>\n",
       "    <tr>\n",
       "      <th>to arouse</th>\n",
       "      <td>0.0</td>\n",
       "      <td>0.0</td>\n",
       "      <td>8.0</td>\n",
       "    </tr>\n",
       "  </tbody>\n",
       "</table>\n",
       "</div>"
      ],
      "text/plain": [
       "bin                    1     2     3\n",
       "even tell           11.0   1.0   0.0\n",
       "find great           8.0   0.0   0.0\n",
       "fund tax            12.0   1.0   1.0\n",
       "other bills          9.0  42.0  45.0\n",
       "other over          11.0   0.0   1.0\n",
       "recovery from       35.0  14.0   9.0\n",
       "senseless violence   5.0   7.0  27.0\n",
       "simply on            2.0   4.0  16.0\n",
       "those citizens       9.0   7.0  28.0\n",
       "to arouse            0.0   0.0   8.0"
      ]
     },
     "execution_count": 86,
     "metadata": {},
     "output_type": "execute_result"
    }
   ],
   "source": [
    "reload(explore_data)\n",
    "explore_data.compare_ngrams(val, val_pred_probs_aggr_chunk, ngram_range=(1, 2))"
   ]
  },
  {
   "cell_type": "code",
   "execution_count": 91,
   "metadata": {},
   "outputs": [
    {
     "data": {
      "text/plain": [
       "(62840, 62840, 62840, (62840,))"
      ]
     },
     "execution_count": 91,
     "metadata": {},
     "output_type": "execute_result"
    }
   ],
   "source": [
    "len(val_target), len(val), len(val_ids), val_pred_probs_aggr_chunk.shape"
   ]
  },
  {
   "cell_type": "code",
   "execution_count": null,
   "metadata": {},
   "outputs": [],
   "source": []
  }
 ],
 "metadata": {
  "kernelspec": {
   "display_name": "Python 3",
   "language": "python",
   "name": "python3"
  },
  "language_info": {
   "codemirror_mode": {
    "name": "ipython",
    "version": 3
   },
   "file_extension": ".py",
   "mimetype": "text/x-python",
   "name": "python",
   "nbconvert_exporter": "python",
   "pygments_lexer": "ipython3",
   "version": "3.5.2"
  }
 },
 "nbformat": 4,
 "nbformat_minor": 2
}
