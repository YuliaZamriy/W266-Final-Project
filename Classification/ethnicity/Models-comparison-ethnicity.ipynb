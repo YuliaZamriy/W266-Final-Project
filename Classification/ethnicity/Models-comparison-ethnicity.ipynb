{
 "cells": [
  {
   "cell_type": "code",
   "execution_count": 1,
   "metadata": {},
   "outputs": [
    {
     "data": {
      "text/html": [
       "<style>.container { width:100% !important; }</style>"
      ],
      "text/plain": [
       "<IPython.core.display.HTML object>"
      ]
     },
     "metadata": {},
     "output_type": "display_data"
    }
   ],
   "source": [
    "# increase cell width\n",
    "from IPython.core.display import display, HTML\n",
    "display(HTML(\"<style>.container { width:100% !important; }</style>\"))"
   ]
  },
  {
   "cell_type": "code",
   "execution_count": 65,
   "metadata": {},
   "outputs": [],
   "source": [
    "from __future__ import absolute_import\n",
    "from __future__ import division\n",
    "from __future__ import print_function\n",
    "\n",
    "import os\n",
    "import random\n",
    "import time\n",
    "import pickle\n",
    "import gc\n",
    "import re\n",
    "import itertools\n",
    "\n",
    "import numpy as np\n",
    "import pandas as pd\n",
    "\n",
    "from importlib import reload\n",
    "\n",
    "import scipy.sparse\n",
    "\n",
    "import matplotlib.pyplot as plt\n",
    "%matplotlib inline"
   ]
  },
  {
   "cell_type": "code",
   "execution_count": 2,
   "metadata": {},
   "outputs": [],
   "source": [
    "from helpers import load_data\n",
    "from helpers import explore_data\n",
    "from helpers import preprocess_data\n",
    "from helpers import train_model"
   ]
  },
  {
   "cell_type": "markdown",
   "metadata": {},
   "source": [
    "### Load validation predicted probabilities"
   ]
  },
  {
   "cell_type": "code",
   "execution_count": 3,
   "metadata": {},
   "outputs": [],
   "source": [
    "main_dir = '/tf/notebooks/'"
   ]
  },
  {
   "cell_type": "code",
   "execution_count": 4,
   "metadata": {},
   "outputs": [],
   "source": [
    "probs_path = main_dir+'final-project/Classification/data/ethnicity'"
   ]
  },
  {
   "cell_type": "code",
   "execution_count": 5,
   "metadata": {},
   "outputs": [],
   "source": [
    "val_pred_probs_mlp_ngram = np.load(os.path.join(probs_path, 'val_pred_probs_mlp_ngram.npy'))\n",
    "val_pred_probs_cnn = np.load(os.path.join(probs_path, 'val_pred_probs_cnn.npy'))\n",
    "val_pred_probs_cnn_aggr_chunk = np.load(os.path.join(probs_path, 'val_pred_probs_cnn_aggr_chunk.npy'))"
   ]
  },
  {
   "cell_type": "code",
   "execution_count": 6,
   "metadata": {},
   "outputs": [
    {
     "data": {
      "text/plain": [
       "(62840, 62840, 62840)"
      ]
     },
     "execution_count": 6,
     "metadata": {},
     "output_type": "execute_result"
    }
   ],
   "source": [
    "len(val_pred_probs_mlp_ngram), len(val_pred_probs_cnn), len(val_pred_probs_cnn_aggr_chunk)"
   ]
  },
  {
   "cell_type": "code",
   "execution_count": 7,
   "metadata": {},
   "outputs": [],
   "source": [
    "with open(os.path.join(probs_path, 'val_ids'), 'rb') as fp:\n",
    "    val_ids = pickle.load(fp)\n",
    "with open(os.path.join(probs_path, 'val_target'), 'rb') as fp:\n",
    "    val_target = pickle.load(fp)\n",
    "with open(os.path.join(probs_path, 'val_list'), 'rb') as fp:\n",
    "    val_list = pickle.load(fp)"
   ]
  },
  {
   "cell_type": "code",
   "execution_count": 8,
   "metadata": {},
   "outputs": [
    {
     "data": {
      "text/plain": [
       "(62840, 62840, 62840)"
      ]
     },
     "execution_count": 8,
     "metadata": {},
     "output_type": "execute_result"
    }
   ],
   "source": [
    "len(val_ids), len(val_target), len(val_list)"
   ]
  },
  {
   "cell_type": "code",
   "execution_count": 9,
   "metadata": {},
   "outputs": [],
   "source": [
    "val_preds_mlp_ngram = val_pred_probs_mlp_ngram > 0.5\n",
    "val_preds_cnn = val_pred_probs_cnn > 0.5\n",
    "val_preds_cnn_aggr_chunk = val_pred_probs_cnn_aggr_chunk > 0.5"
   ]
  },
  {
   "cell_type": "code",
   "execution_count": 10,
   "metadata": {},
   "outputs": [
    {
     "data": {
      "text/plain": [
       "(array([29212]), array([30823]), 31133)"
      ]
     },
     "execution_count": 10,
     "metadata": {},
     "output_type": "execute_result"
    }
   ],
   "source": [
    "sum(val_preds_mlp_ngram), sum(val_preds_cnn), sum(val_preds_cnn_aggr_chunk)"
   ]
  },
  {
   "cell_type": "code",
   "execution_count": 11,
   "metadata": {},
   "outputs": [],
   "source": [
    "classes = ['White', 'NonWhite']"
   ]
  },
  {
   "cell_type": "code",
   "execution_count": 12,
   "metadata": {},
   "outputs": [
    {
     "name": "stdout",
     "output_type": "stream",
     "text": [
      "Confusion matrix, without normalization\n",
      "[[24863  6557]\n",
      " [ 8765 22655]]\n",
      "              precision    recall  f1-score   support\n",
      "\n",
      "       White       0.74      0.79      0.76     31420\n",
      "    NonWhite       0.78      0.72      0.75     31420\n",
      "\n",
      "   micro avg       0.76      0.76      0.76     62840\n",
      "   macro avg       0.76      0.76      0.76     62840\n",
      "weighted avg       0.76      0.76      0.76     62840\n",
      "\n"
     ]
    },
    {
     "data": {
      "text/plain": [
       "<matplotlib.axes._subplots.AxesSubplot at 0x7fa18611f4e0>"
      ]
     },
     "execution_count": 12,
     "metadata": {},
     "output_type": "execute_result"
    },
    {
     "data": {
      "image/png": "[encoded data removed]",
      "text/plain": [
       "<Figure size 432x288 with 2 Axes>"
      ]
     },
     "metadata": {
      "needs_background": "light"
     },
     "output_type": "display_data"
    }
   ],
   "source": [
    "explore_data.plot_confusion_matrix(val_target, val_preds_mlp_ngram, classes, normalize=True)"
   ]
  },
  {
   "cell_type": "code",
   "execution_count": 47,
   "metadata": {},
   "outputs": [
    {
     "name": "stdout",
     "output_type": "stream",
     "text": [
      "Confusion matrix, without normalization\n",
      "[[23357  8063]\n",
      " [ 8660 22760]]\n",
      "              precision    recall  f1-score   support\n",
      "\n",
      "       White       0.73      0.74      0.74     31420\n",
      "    NonWhite       0.74      0.72      0.73     31420\n",
      "\n",
      "   micro avg       0.73      0.73      0.73     62840\n",
      "   macro avg       0.73      0.73      0.73     62840\n",
      "weighted avg       0.73      0.73      0.73     62840\n",
      "\n"
     ]
    },
    {
     "data": {
      "text/plain": [
       "<matplotlib.axes._subplots.AxesSubplot at 0x7f9837ec8da0>"
      ]
     },
     "execution_count": 47,
     "metadata": {},
     "output_type": "execute_result"
    },
    {
     "data": {
      "image/png": "[encoded data removed]",
      "text/plain": [
       "<Figure size 432x288 with 2 Axes>"
      ]
     },
     "metadata": {
      "needs_background": "light"
     },
     "output_type": "display_data"
    }
   ],
   "source": [
    "explore_data.plot_confusion_matrix(val_target, val_preds_cnn, classes, normalize=True)"
   ]
  },
  {
   "cell_type": "code",
   "execution_count": 48,
   "metadata": {},
   "outputs": [
    {
     "name": "stdout",
     "output_type": "stream",
     "text": [
      "Confusion matrix, without normalization\n",
      "[[23522  7898]\n",
      " [ 8185 23235]]\n",
      "              precision    recall  f1-score   support\n",
      "\n",
      "       White       0.74      0.75      0.75     31420\n",
      "    NonWhite       0.75      0.74      0.74     31420\n",
      "\n",
      "   micro avg       0.74      0.74      0.74     62840\n",
      "   macro avg       0.74      0.74      0.74     62840\n",
      "weighted avg       0.74      0.74      0.74     62840\n",
      "\n"
     ]
    },
    {
     "data": {
      "text/plain": [
       "<matplotlib.axes._subplots.AxesSubplot at 0x7f9837e124a8>"
      ]
     },
     "execution_count": 48,
     "metadata": {},
     "output_type": "execute_result"
    },
    {
     "data": {
      "image/png": "[encoded data removed]",
      "text/plain": [
       "<Figure size 432x288 with 2 Axes>"
      ]
     },
     "metadata": {
      "needs_background": "light"
     },
     "output_type": "display_data"
    }
   ],
   "source": [
    "explore_data.plot_confusion_matrix(val_target, val_preds_cnn_aggr_chunk, classes, normalize=True)"
   ]
  },
  {
   "cell_type": "code",
   "execution_count": 13,
   "metadata": {},
   "outputs": [
    {
     "name": "stderr",
     "output_type": "stream",
     "text": [
      "/usr/local/lib/python3.5/dist-packages/numpy/lib/arraysetops.py:569: FutureWarning: elementwise comparison failed; returning scalar instead, but in the future will perform elementwise comparison\n",
      "  mask |= (ar1 == a)\n"
     ]
    },
    {
     "data": {
      "text/plain": [
       "(62840, 17)"
      ]
     },
     "execution_count": 13,
     "metadata": {},
     "output_type": "execute_result"
    }
   ],
   "source": [
    "descr_df = pd.read_csv(main_dir+'final-project/data/QA/full_descr.txt', sep=\"|\", index_col=0)\n",
    "descr_df = descr_df.loc[np.asarray(val_ids, dtype=int)]\n",
    "descr_df.reset_index(inplace=True)\n",
    "descr_df.shape"
   ]
  },
  {
   "cell_type": "code",
   "execution_count": 15,
   "metadata": {},
   "outputs": [
    {
     "data": {
      "text/html": [
       "<div>\n",
       "<style scoped>\n",
       "    .dataframe tbody tr th:only-of-type {\n",
       "        vertical-align: middle;\n",
       "    }\n",
       "\n",
       "    .dataframe tbody tr th {\n",
       "        vertical-align: top;\n",
       "    }\n",
       "\n",
       "    .dataframe thead th {\n",
       "        text-align: right;\n",
       "    }\n",
       "</style>\n",
       "<table border=\"1\" class=\"dataframe\">\n",
       "  <thead>\n",
       "    <tr style=\"text-align: right;\">\n",
       "      <th></th>\n",
       "      <th>speech_id</th>\n",
       "      <th>date</th>\n",
       "      <th>char_count</th>\n",
       "      <th>word_count</th>\n",
       "      <th>speakerid</th>\n",
       "      <th>Party</th>\n",
       "      <th>Congress</th>\n",
       "      <th>Chamber</th>\n",
       "      <th>State</th>\n",
       "      <th>Ethnicity</th>\n",
       "      <th>Age</th>\n",
       "      <th>Age_lt_med</th>\n",
       "      <th>NonWhite</th>\n",
       "      <th>Female</th>\n",
       "      <th>speaker</th>\n",
       "      <th>Full Name</th>\n",
       "      <th>match</th>\n",
       "    </tr>\n",
       "  </thead>\n",
       "  <tbody>\n",
       "    <tr>\n",
       "      <th>0</th>\n",
       "      <td>1010243717</td>\n",
       "      <td>19901025</td>\n",
       "      <td>870</td>\n",
       "      <td>166</td>\n",
       "      <td>101110870.0</td>\n",
       "      <td>D</td>\n",
       "      <td>101</td>\n",
       "      <td>H</td>\n",
       "      <td>TX</td>\n",
       "      <td>B</td>\n",
       "      <td>49.0</td>\n",
       "      <td>1.0</td>\n",
       "      <td>1.0</td>\n",
       "      <td>0.0</td>\n",
       "      <td>Mr. WASHINGTON</td>\n",
       "      <td>WASHINGTON, CRAIG</td>\n",
       "      <td>exact</td>\n",
       "    </tr>\n",
       "    <tr>\n",
       "      <th>1</th>\n",
       "      <td>1120097305</td>\n",
       "      <td>20120416</td>\n",
       "      <td>1186</td>\n",
       "      <td>197</td>\n",
       "      <td>112116570.0</td>\n",
       "      <td>R</td>\n",
       "      <td>112</td>\n",
       "      <td>H</td>\n",
       "      <td>OH</td>\n",
       "      <td>AAPIA</td>\n",
       "      <td>54.0</td>\n",
       "      <td>1.0</td>\n",
       "      <td>1.0</td>\n",
       "      <td>0.0</td>\n",
       "      <td>Mr. AUSTRIA</td>\n",
       "      <td>AUSTRIA, STEVE</td>\n",
       "      <td>fuzzy</td>\n",
       "    </tr>\n",
       "    <tr>\n",
       "      <th>2</th>\n",
       "      <td>1020183502</td>\n",
       "      <td>19920630</td>\n",
       "      <td>257</td>\n",
       "      <td>40</td>\n",
       "      <td>102111850.0</td>\n",
       "      <td>D</td>\n",
       "      <td>102</td>\n",
       "      <td>H</td>\n",
       "      <td>TX</td>\n",
       "      <td>H</td>\n",
       "      <td>76.0</td>\n",
       "      <td>0.0</td>\n",
       "      <td>1.0</td>\n",
       "      <td>0.0</td>\n",
       "      <td>Mr. GONZALEZ</td>\n",
       "      <td>GONZALEZ, HENRY</td>\n",
       "      <td>exact</td>\n",
       "    </tr>\n",
       "    <tr>\n",
       "      <th>3</th>\n",
       "      <td>1080187463</td>\n",
       "      <td>20041001</td>\n",
       "      <td>2689</td>\n",
       "      <td>420</td>\n",
       "      <td>108115260.0</td>\n",
       "      <td>D</td>\n",
       "      <td>108</td>\n",
       "      <td>H</td>\n",
       "      <td>MD</td>\n",
       "      <td>B</td>\n",
       "      <td>53.0</td>\n",
       "      <td>1.0</td>\n",
       "      <td>1.0</td>\n",
       "      <td>0.0</td>\n",
       "      <td>Mr. WYNN</td>\n",
       "      <td>WYNN, ALBERT</td>\n",
       "      <td>fuzzy</td>\n",
       "    </tr>\n",
       "    <tr>\n",
       "      <th>4</th>\n",
       "      <td>1090010764</td>\n",
       "      <td>20050309</td>\n",
       "      <td>7723</td>\n",
       "      <td>1156</td>\n",
       "      <td>109116411.0</td>\n",
       "      <td>D</td>\n",
       "      <td>109</td>\n",
       "      <td>S</td>\n",
       "      <td>HI</td>\n",
       "      <td>AAPIA</td>\n",
       "      <td>82.0</td>\n",
       "      <td>0.0</td>\n",
       "      <td>1.0</td>\n",
       "      <td>0.0</td>\n",
       "      <td>Mr. AKAKA</td>\n",
       "      <td>AKAKA, DANIEL</td>\n",
       "      <td>exact</td>\n",
       "    </tr>\n",
       "  </tbody>\n",
       "</table>\n",
       "</div>"
      ],
      "text/plain": [
       "    speech_id      date  char_count  word_count    speakerid Party  Congress  \\\n",
       "0  1010243717  19901025         870         166  101110870.0     D       101   \n",
       "1  1120097305  20120416        1186         197  112116570.0     R       112   \n",
       "2  1020183502  19920630         257          40  102111850.0     D       102   \n",
       "3  1080187463  20041001        2689         420  108115260.0     D       108   \n",
       "4  1090010764  20050309        7723        1156  109116411.0     D       109   \n",
       "\n",
       "  Chamber State Ethnicity   Age  Age_lt_med  NonWhite  Female         speaker  \\\n",
       "0       H    TX         B  49.0         1.0       1.0     0.0  Mr. WASHINGTON   \n",
       "1       H    OH     AAPIA  54.0         1.0       1.0     0.0     Mr. AUSTRIA   \n",
       "2       H    TX         H  76.0         0.0       1.0     0.0    Mr. GONZALEZ   \n",
       "3       H    MD         B  53.0         1.0       1.0     0.0        Mr. WYNN   \n",
       "4       S    HI     AAPIA  82.0         0.0       1.0     0.0       Mr. AKAKA   \n",
       "\n",
       "           Full Name  match  \n",
       "0  WASHINGTON, CRAIG  exact  \n",
       "1     AUSTRIA, STEVE  fuzzy  \n",
       "2    GONZALEZ, HENRY  exact  \n",
       "3       WYNN, ALBERT  fuzzy  \n",
       "4      AKAKA, DANIEL  exact  "
      ]
     },
     "execution_count": 15,
     "metadata": {},
     "output_type": "execute_result"
    }
   ],
   "source": [
    "descr_df.head()"
   ]
  },
  {
   "cell_type": "code",
   "execution_count": 14,
   "metadata": {},
   "outputs": [
    {
     "data": {
      "text/plain": [
       "(62840, 4)"
      ]
     },
     "execution_count": 14,
     "metadata": {},
     "output_type": "execute_result"
    }
   ],
   "source": [
    "pred_df = pd.DataFrame({'ids': np.asarray(val_ids, dtype=np.int64), \n",
    "                        'pred_probs_mlp_ngram': val_pred_probs_mlp_ngram.flatten(), \n",
    "                        'pred_probs_cnn': val_pred_probs_cnn.flatten(),\n",
    "                        'pred_probs_cnn_chunk': val_pred_probs_cnn_aggr_chunk.flatten()})\n",
    "pred_df.shape"
   ]
  },
  {
   "cell_type": "code",
   "execution_count": 17,
   "metadata": {},
   "outputs": [
    {
     "data": {
      "text/html": [
       "<div>\n",
       "<style scoped>\n",
       "    .dataframe tbody tr th:only-of-type {\n",
       "        vertical-align: middle;\n",
       "    }\n",
       "\n",
       "    .dataframe tbody tr th {\n",
       "        vertical-align: top;\n",
       "    }\n",
       "\n",
       "    .dataframe thead th {\n",
       "        text-align: right;\n",
       "    }\n",
       "</style>\n",
       "<table border=\"1\" class=\"dataframe\">\n",
       "  <thead>\n",
       "    <tr style=\"text-align: right;\">\n",
       "      <th></th>\n",
       "      <th>ids</th>\n",
       "      <th>pred_probs_cnn</th>\n",
       "      <th>pred_probs_cnn_chunk</th>\n",
       "      <th>pred_probs_mlp_ngram</th>\n",
       "    </tr>\n",
       "  </thead>\n",
       "  <tbody>\n",
       "    <tr>\n",
       "      <th>0</th>\n",
       "      <td>1010243717</td>\n",
       "      <td>0.689634</td>\n",
       "      <td>0.447245</td>\n",
       "      <td>0.564903</td>\n",
       "    </tr>\n",
       "    <tr>\n",
       "      <th>1</th>\n",
       "      <td>1120097305</td>\n",
       "      <td>0.811908</td>\n",
       "      <td>0.662056</td>\n",
       "      <td>0.971263</td>\n",
       "    </tr>\n",
       "    <tr>\n",
       "      <th>2</th>\n",
       "      <td>1020183502</td>\n",
       "      <td>0.401432</td>\n",
       "      <td>0.576263</td>\n",
       "      <td>0.314850</td>\n",
       "    </tr>\n",
       "    <tr>\n",
       "      <th>3</th>\n",
       "      <td>1080187463</td>\n",
       "      <td>0.422509</td>\n",
       "      <td>0.464190</td>\n",
       "      <td>0.964284</td>\n",
       "    </tr>\n",
       "    <tr>\n",
       "      <th>4</th>\n",
       "      <td>1090010764</td>\n",
       "      <td>0.748211</td>\n",
       "      <td>0.577205</td>\n",
       "      <td>0.918813</td>\n",
       "    </tr>\n",
       "  </tbody>\n",
       "</table>\n",
       "</div>"
      ],
      "text/plain": [
       "          ids  pred_probs_cnn  pred_probs_cnn_chunk  pred_probs_mlp_ngram\n",
       "0  1010243717        0.689634              0.447245              0.564903\n",
       "1  1120097305        0.811908              0.662056              0.971263\n",
       "2  1020183502        0.401432              0.576263              0.314850\n",
       "3  1080187463        0.422509              0.464190              0.964284\n",
       "4  1090010764        0.748211              0.577205              0.918813"
      ]
     },
     "execution_count": 17,
     "metadata": {},
     "output_type": "execute_result"
    }
   ],
   "source": [
    "pred_df.head()"
   ]
  },
  {
   "cell_type": "code",
   "execution_count": 18,
   "metadata": {},
   "outputs": [
    {
     "data": {
      "text/plain": [
       "(62840, 21)"
      ]
     },
     "execution_count": 18,
     "metadata": {},
     "output_type": "execute_result"
    }
   ],
   "source": [
    "descr_pred_df = descr_df.merge(pred_df, left_on='speech_id', right_on='ids')\n",
    "descr_pred_df.shape"
   ]
  },
  {
   "cell_type": "code",
   "execution_count": 19,
   "metadata": {},
   "outputs": [],
   "source": [
    "preds = [\n",
    "    'pred_probs_mlp_ngram',\n",
    "    'pred_probs_cnn', \n",
    "    'pred_probs_cnn_chunk'\n",
    "]"
   ]
  },
  {
   "cell_type": "code",
   "execution_count": 20,
   "metadata": {},
   "outputs": [
    {
     "data": {
      "text/html": [
       "<div>\n",
       "<style scoped>\n",
       "    .dataframe tbody tr th:only-of-type {\n",
       "        vertical-align: middle;\n",
       "    }\n",
       "\n",
       "    .dataframe tbody tr th {\n",
       "        vertical-align: top;\n",
       "    }\n",
       "\n",
       "    .dataframe thead th {\n",
       "        text-align: right;\n",
       "    }\n",
       "</style>\n",
       "<table border=\"1\" class=\"dataframe\">\n",
       "  <thead>\n",
       "    <tr style=\"text-align: right;\">\n",
       "      <th></th>\n",
       "      <th>pred_probs_mlp_ngram</th>\n",
       "      <th>pred_probs_cnn</th>\n",
       "      <th>pred_probs_cnn_chunk</th>\n",
       "    </tr>\n",
       "    <tr>\n",
       "      <th>Ethnicity</th>\n",
       "      <th></th>\n",
       "      <th></th>\n",
       "      <th></th>\n",
       "    </tr>\n",
       "  </thead>\n",
       "  <tbody>\n",
       "    <tr>\n",
       "      <th>AAPIA</th>\n",
       "      <td>0.632783</td>\n",
       "      <td>0.620828</td>\n",
       "      <td>0.578595</td>\n",
       "    </tr>\n",
       "    <tr>\n",
       "      <th>B</th>\n",
       "      <td>0.726586</td>\n",
       "      <td>0.686365</td>\n",
       "      <td>0.614533</td>\n",
       "    </tr>\n",
       "    <tr>\n",
       "      <th>B/AAPIA</th>\n",
       "      <td>0.674774</td>\n",
       "      <td>0.673449</td>\n",
       "      <td>0.607783</td>\n",
       "    </tr>\n",
       "    <tr>\n",
       "      <th>B/H</th>\n",
       "      <td>0.733481</td>\n",
       "      <td>0.685009</td>\n",
       "      <td>0.612175</td>\n",
       "    </tr>\n",
       "    <tr>\n",
       "      <th>H</th>\n",
       "      <td>0.663007</td>\n",
       "      <td>0.652012</td>\n",
       "      <td>0.593871</td>\n",
       "    </tr>\n",
       "    <tr>\n",
       "      <th>H/ME</th>\n",
       "      <td>0.276538</td>\n",
       "      <td>0.295826</td>\n",
       "      <td>0.396610</td>\n",
       "    </tr>\n",
       "    <tr>\n",
       "      <th>ME</th>\n",
       "      <td>0.565193</td>\n",
       "      <td>0.532540</td>\n",
       "      <td>0.518381</td>\n",
       "    </tr>\n",
       "    <tr>\n",
       "      <th>W</th>\n",
       "      <td>0.307530</td>\n",
       "      <td>0.354303</td>\n",
       "      <td>0.422798</td>\n",
       "    </tr>\n",
       "  </tbody>\n",
       "</table>\n",
       "</div>"
      ],
      "text/plain": [
       "           pred_probs_mlp_ngram  pred_probs_cnn  pred_probs_cnn_chunk\n",
       "Ethnicity                                                            \n",
       "AAPIA                  0.632783        0.620828              0.578595\n",
       "B                      0.726586        0.686365              0.614533\n",
       "B/AAPIA                0.674774        0.673449              0.607783\n",
       "B/H                    0.733481        0.685009              0.612175\n",
       "H                      0.663007        0.652012              0.593871\n",
       "H/ME                   0.276538        0.295826              0.396610\n",
       "ME                     0.565193        0.532540              0.518381\n",
       "W                      0.307530        0.354303              0.422798"
      ]
     },
     "execution_count": 20,
     "metadata": {},
     "output_type": "execute_result"
    }
   ],
   "source": [
    "descr_pred_df[preds+['Ethnicity']].groupby('Ethnicity').mean()"
   ]
  },
  {
   "cell_type": "code",
   "execution_count": 21,
   "metadata": {},
   "outputs": [
    {
     "data": {
      "text/html": [
       "<div>\n",
       "<style scoped>\n",
       "    .dataframe tbody tr th:only-of-type {\n",
       "        vertical-align: middle;\n",
       "    }\n",
       "\n",
       "    .dataframe tbody tr th {\n",
       "        vertical-align: top;\n",
       "    }\n",
       "\n",
       "    .dataframe thead th {\n",
       "        text-align: right;\n",
       "    }\n",
       "</style>\n",
       "<table border=\"1\" class=\"dataframe\">\n",
       "  <thead>\n",
       "    <tr style=\"text-align: right;\">\n",
       "      <th></th>\n",
       "      <th>pred_probs_mlp_ngram</th>\n",
       "      <th>pred_probs_cnn</th>\n",
       "      <th>pred_probs_cnn_chunk</th>\n",
       "    </tr>\n",
       "    <tr>\n",
       "      <th>NonWhite</th>\n",
       "      <th></th>\n",
       "      <th></th>\n",
       "      <th></th>\n",
       "    </tr>\n",
       "  </thead>\n",
       "  <tbody>\n",
       "    <tr>\n",
       "      <th>0.0</th>\n",
       "      <td>0.307530</td>\n",
       "      <td>0.354303</td>\n",
       "      <td>0.422798</td>\n",
       "    </tr>\n",
       "    <tr>\n",
       "      <th>1.0</th>\n",
       "      <td>0.677663</td>\n",
       "      <td>0.650178</td>\n",
       "      <td>0.593078</td>\n",
       "    </tr>\n",
       "  </tbody>\n",
       "</table>\n",
       "</div>"
      ],
      "text/plain": [
       "          pred_probs_mlp_ngram  pred_probs_cnn  pred_probs_cnn_chunk\n",
       "NonWhite                                                            \n",
       "0.0                   0.307530        0.354303              0.422798\n",
       "1.0                   0.677663        0.650178              0.593078"
      ]
     },
     "execution_count": 21,
     "metadata": {},
     "output_type": "execute_result"
    }
   ],
   "source": [
    "descr_pred_df[preds+['NonWhite']].groupby('NonWhite').mean()"
   ]
  },
  {
   "cell_type": "code",
   "execution_count": 23,
   "metadata": {},
   "outputs": [
    {
     "data": {
      "text/plain": [
       "7"
      ]
     },
     "execution_count": 23,
     "metadata": {},
     "output_type": "execute_result"
    }
   ],
   "source": [
    "preds_combo = []\n",
    "for i in range(1, len(preds)+1):\n",
    "    preds_combo.extend(list(itertools.combinations(preds, i)))\n",
    "len(preds_combo)"
   ]
  },
  {
   "cell_type": "code",
   "execution_count": 24,
   "metadata": {},
   "outputs": [],
   "source": [
    "preds_combo_results = []\n",
    "for i in range(len(preds_combo)):\n",
    "    temp = descr_pred_df[list(preds_combo[i])]\n",
    "    avg = temp.mean(axis=1)\n",
    "    avg_pred = avg > 0.5\n",
    "    result = np.mean(avg_pred==descr_pred_df['NonWhite'])\n",
    "    preds_combo_results.append((preds_combo[i], result))"
   ]
  },
  {
   "cell_type": "code",
   "execution_count": 25,
   "metadata": {},
   "outputs": [
    {
     "data": {
      "text/plain": [
       "[(('pred_probs_mlp_ngram', 'pred_probs_cnn', 'pred_probs_cnn_chunk'),\n",
       "  0.7658020369191598),\n",
       " (('pred_probs_mlp_ngram', 'pred_probs_cnn_chunk'), 0.764417568427753),\n",
       " (('pred_probs_mlp_ngram', 'pred_probs_cnn'), 0.7631444939528963),\n",
       " (('pred_probs_mlp_ngram',), 0.7561744112030554),\n",
       " (('pred_probs_cnn', 'pred_probs_cnn_chunk'), 0.7464831317632081),\n",
       " (('pred_probs_cnn_chunk',), 0.7440642902609803),\n",
       " (('pred_probs_cnn',), 0.7338796944621261)]"
      ]
     },
     "execution_count": 25,
     "metadata": {},
     "output_type": "execute_result"
    }
   ],
   "source": [
    "preds_combo_results = sorted(preds_combo_results, key=lambda x: -x[1])\n",
    "preds_combo_results"
   ]
  },
  {
   "cell_type": "code",
   "execution_count": 26,
   "metadata": {},
   "outputs": [
    {
     "data": {
      "text/plain": [
       "0.7658020369191598"
      ]
     },
     "execution_count": 26,
     "metadata": {},
     "output_type": "execute_result"
    }
   ],
   "source": [
    "descr_pred_df['pred_probs_combo'] = descr_pred_df[list(preds_combo_results[0][0])].mean(axis=1)\n",
    "descr_pred_df['pred_combo'] = descr_pred_df['pred_probs_combo'] > 0.5\n",
    "np.mean(val_target==descr_pred_df['pred_combo'].values.flatten())"
   ]
  },
  {
   "cell_type": "markdown",
   "metadata": {},
   "source": [
    "### Save the main dataframe"
   ]
  },
  {
   "cell_type": "code",
   "execution_count": 67,
   "metadata": {},
   "outputs": [],
   "source": [
    "keep_cols = ['speech_id',\n",
    " 'date',\n",
    " 'char_count',\n",
    " 'word_count',\n",
    " 'speakerid',\n",
    " 'Party',\n",
    " 'Congress',\n",
    " 'Chamber',\n",
    " 'State',\n",
    " 'Ethnicity',\n",
    " 'Age',\n",
    " 'Age_lt_med',\n",
    " 'NonWhite',\n",
    " 'Female',\n",
    " 'speaker',\n",
    " 'Full Name',\n",
    " 'match',\n",
    " 'ids',\n",
    " 'pred_probs_combo',\n",
    " 'pred_combo']"
   ]
  },
  {
   "cell_type": "code",
   "execution_count": 68,
   "metadata": {},
   "outputs": [],
   "source": [
    "descr_pred_df[keep_cols].to_pickle(os.path.join(probs_path, 'ethnicity_preds.pkl'))"
   ]
  },
  {
   "cell_type": "markdown",
   "metadata": {},
   "source": [
    "### Evaluating final predictions"
   ]
  },
  {
   "cell_type": "code",
   "execution_count": 27,
   "metadata": {},
   "outputs": [
    {
     "name": "stdout",
     "output_type": "stream",
     "text": [
      "Confusion matrix, without normalization\n",
      "[[24725  6695]\n",
      " [ 8022 23398]]\n",
      "              precision    recall  f1-score   support\n",
      "\n",
      "       White       0.76      0.79      0.77     31420\n",
      "    NonWhite       0.78      0.74      0.76     31420\n",
      "\n",
      "   micro avg       0.77      0.77      0.77     62840\n",
      "   macro avg       0.77      0.77      0.77     62840\n",
      "weighted avg       0.77      0.77      0.77     62840\n",
      "\n"
     ]
    },
    {
     "data": {
      "text/plain": [
       "<matplotlib.axes._subplots.AxesSubplot at 0x7fa17ff18f60>"
      ]
     },
     "execution_count": 27,
     "metadata": {},
     "output_type": "execute_result"
    },
    {
     "data": {
      "image/png": "[encoded data removed]",
      "text/plain": [
       "<Figure size 432x288 with 2 Axes>"
      ]
     },
     "metadata": {
      "needs_background": "light"
     },
     "output_type": "display_data"
    }
   ],
   "source": [
    "explore_data.plot_confusion_matrix(val_target, descr_pred_df['pred_combo'], classes, normalize=True)"
   ]
  },
  {
   "cell_type": "code",
   "execution_count": 28,
   "metadata": {},
   "outputs": [
    {
     "data": {
      "image/png": "[encoded data removed]",
      "text/plain": [
       "<Figure size 720x720 with 2 Axes>"
      ]
     },
     "metadata": {
      "needs_background": "light"
     },
     "output_type": "display_data"
    }
   ],
   "source": [
    "explore_data.plot_calibration_curve(val_target, descr_pred_df['pred_probs_combo'], 'Ethnicity')"
   ]
  },
  {
   "cell_type": "code",
   "execution_count": 29,
   "metadata": {},
   "outputs": [
    {
     "name": "stdout",
     "output_type": "stream",
     "text": [
      "Validation sample means:\n",
      "      Gender_F  Ethinicity_NW     AvgAge   Party_D  Chamber_H  AvgWordCount\n",
      "base  0.175939            0.5  58.427562  0.690738   0.694876    376.978469\n"
     ]
    },
    {
     "data": {
      "text/html": [
       "<div>\n",
       "<style scoped>\n",
       "    .dataframe tbody tr th:only-of-type {\n",
       "        vertical-align: middle;\n",
       "    }\n",
       "\n",
       "    .dataframe tbody tr th {\n",
       "        vertical-align: top;\n",
       "    }\n",
       "\n",
       "    .dataframe thead th {\n",
       "        text-align: right;\n",
       "    }\n",
       "</style>\n",
       "<table border=\"1\" class=\"dataframe\">\n",
       "  <thead>\n",
       "    <tr style=\"text-align: right;\">\n",
       "      <th></th>\n",
       "      <th>Gender_F</th>\n",
       "      <th>Ethinicity_NW</th>\n",
       "      <th>AvgAge</th>\n",
       "      <th>Party_D</th>\n",
       "      <th>Chamber_H</th>\n",
       "      <th>AvgWordCount</th>\n",
       "    </tr>\n",
       "  </thead>\n",
       "  <tbody>\n",
       "    <tr>\n",
       "      <th>0.4</th>\n",
       "      <td>0.37</td>\n",
       "      <td>0.36</td>\n",
       "      <td>1.00</td>\n",
       "      <td>0.75</td>\n",
       "      <td>0.59</td>\n",
       "      <td>1.10</td>\n",
       "    </tr>\n",
       "    <tr>\n",
       "      <th>0.6</th>\n",
       "      <td>0.86</td>\n",
       "      <td>0.99</td>\n",
       "      <td>0.99</td>\n",
       "      <td>1.00</td>\n",
       "      <td>1.19</td>\n",
       "      <td>0.85</td>\n",
       "    </tr>\n",
       "    <tr>\n",
       "      <th>1.0</th>\n",
       "      <td>1.79</td>\n",
       "      <td>1.71</td>\n",
       "      <td>1.01</td>\n",
       "      <td>1.27</td>\n",
       "      <td>1.30</td>\n",
       "      <td>1.01</td>\n",
       "    </tr>\n",
       "  </tbody>\n",
       "</table>\n",
       "</div>"
      ],
      "text/plain": [
       "     Gender_F  Ethinicity_NW  AvgAge  Party_D  Chamber_H  AvgWordCount\n",
       "0.4      0.37           0.36    1.00     0.75       0.59          1.10\n",
       "0.6      0.86           0.99    0.99     1.00       1.19          0.85\n",
       "1.0      1.79           1.71    1.01     1.27       1.30          1.01"
      ]
     },
     "execution_count": 29,
     "metadata": {},
     "output_type": "execute_result"
    }
   ],
   "source": [
    "reload(explore_data)\n",
    "# checking the ratios of demo variables in low-mid-high probability buckets\n",
    "explore_data.check_bin_probs_distr(descr_pred_df['pred_probs_combo'], \n",
    "                                   val_ids, \n",
    "                                   descr_df.set_index('speech_id'))"
   ]
  },
  {
   "cell_type": "code",
   "execution_count": 69,
   "metadata": {},
   "outputs": [
    {
     "name": "stdout",
     "output_type": "stream",
     "text": [
      "\n",
      "Top 20 ngrams by differentiating score:\n"
     ]
    },
    {
     "data": {
      "text/html": [
       "<div>\n",
       "<style scoped>\n",
       "    .dataframe tbody tr th:only-of-type {\n",
       "        vertical-align: middle;\n",
       "    }\n",
       "\n",
       "    .dataframe tbody tr th {\n",
       "        vertical-align: top;\n",
       "    }\n",
       "\n",
       "    .dataframe thead th {\n",
       "        text-align: right;\n",
       "    }\n",
       "</style>\n",
       "<table border=\"1\" class=\"dataframe\">\n",
       "  <thead>\n",
       "    <tr style=\"text-align: right;\">\n",
       "      <th></th>\n",
       "      <th>ngram</th>\n",
       "      <th>&lt;0.4</th>\n",
       "      <th>&lt;0.6</th>\n",
       "      <th>&lt;1.0</th>\n",
       "      <th>score</th>\n",
       "    </tr>\n",
       "  </thead>\n",
       "  <tbody>\n",
       "    <tr>\n",
       "      <th>0</th>\n",
       "      <td>black</td>\n",
       "      <td>338.0</td>\n",
       "      <td>403.0</td>\n",
       "      <td>5690.0</td>\n",
       "      <td>664.0</td>\n",
       "    </tr>\n",
       "    <tr>\n",
       "      <th>1</th>\n",
       "      <td>african</td>\n",
       "      <td>105.0</td>\n",
       "      <td>234.0</td>\n",
       "      <td>3331.0</td>\n",
       "      <td>484.0</td>\n",
       "    </tr>\n",
       "    <tr>\n",
       "      <th>2</th>\n",
       "      <td>consume</td>\n",
       "      <td>334.0</td>\n",
       "      <td>1053.0</td>\n",
       "      <td>1659.0</td>\n",
       "      <td>482.0</td>\n",
       "    </tr>\n",
       "    <tr>\n",
       "      <th>3</th>\n",
       "      <td>caucus</td>\n",
       "      <td>283.0</td>\n",
       "      <td>225.0</td>\n",
       "      <td>2329.0</td>\n",
       "      <td>440.0</td>\n",
       "    </tr>\n",
       "    <tr>\n",
       "      <th>4</th>\n",
       "      <td>printed</td>\n",
       "      <td>1653.0</td>\n",
       "      <td>473.0</td>\n",
       "      <td>332.0</td>\n",
       "      <td>394.0</td>\n",
       "    </tr>\n",
       "    <tr>\n",
       "      <th>5</th>\n",
       "      <td>senators</td>\n",
       "      <td>4080.0</td>\n",
       "      <td>991.0</td>\n",
       "      <td>1129.0</td>\n",
       "      <td>383.0</td>\n",
       "    </tr>\n",
       "    <tr>\n",
       "      <th>6</th>\n",
       "      <td>civil</td>\n",
       "      <td>1103.0</td>\n",
       "      <td>1203.0</td>\n",
       "      <td>4150.0</td>\n",
       "      <td>331.0</td>\n",
       "    </tr>\n",
       "    <tr>\n",
       "      <th>7</th>\n",
       "      <td>honor</td>\n",
       "      <td>1805.0</td>\n",
       "      <td>1564.0</td>\n",
       "      <td>3921.0</td>\n",
       "      <td>329.0</td>\n",
       "    </tr>\n",
       "    <tr>\n",
       "      <th>8</th>\n",
       "      <td>city</td>\n",
       "      <td>1975.0</td>\n",
       "      <td>1670.0</td>\n",
       "      <td>5438.0</td>\n",
       "      <td>319.0</td>\n",
       "    </tr>\n",
       "    <tr>\n",
       "      <th>9</th>\n",
       "      <td>congressional</td>\n",
       "      <td>2285.0</td>\n",
       "      <td>1618.0</td>\n",
       "      <td>4872.0</td>\n",
       "      <td>319.0</td>\n",
       "    </tr>\n",
       "    <tr>\n",
       "      <th>10</th>\n",
       "      <td>gentlewoman</td>\n",
       "      <td>303.0</td>\n",
       "      <td>694.0</td>\n",
       "      <td>1667.0</td>\n",
       "      <td>305.0</td>\n",
       "    </tr>\n",
       "    <tr>\n",
       "      <th>11</th>\n",
       "      <td>minorities</td>\n",
       "      <td>86.0</td>\n",
       "      <td>143.0</td>\n",
       "      <td>1284.0</td>\n",
       "      <td>295.0</td>\n",
       "    </tr>\n",
       "    <tr>\n",
       "      <th>12</th>\n",
       "      <td>might</td>\n",
       "      <td>3673.0</td>\n",
       "      <td>1321.0</td>\n",
       "      <td>1484.0</td>\n",
       "      <td>274.0</td>\n",
       "    </tr>\n",
       "    <tr>\n",
       "      <th>13</th>\n",
       "      <td>women</td>\n",
       "      <td>2856.0</td>\n",
       "      <td>2999.0</td>\n",
       "      <td>7995.0</td>\n",
       "      <td>261.0</td>\n",
       "    </tr>\n",
       "    <tr>\n",
       "      <th>14</th>\n",
       "      <td>spending</td>\n",
       "      <td>5338.0</td>\n",
       "      <td>1527.0</td>\n",
       "      <td>1217.0</td>\n",
       "      <td>257.0</td>\n",
       "    </tr>\n",
       "    <tr>\n",
       "      <th>15</th>\n",
       "      <td>ought</td>\n",
       "      <td>2869.0</td>\n",
       "      <td>865.0</td>\n",
       "      <td>780.0</td>\n",
       "      <td>244.0</td>\n",
       "    </tr>\n",
       "    <tr>\n",
       "      <th>16</th>\n",
       "      <td>hispanic</td>\n",
       "      <td>48.0</td>\n",
       "      <td>104.0</td>\n",
       "      <td>1558.0</td>\n",
       "      <td>243.0</td>\n",
       "    </tr>\n",
       "    <tr>\n",
       "      <th>17</th>\n",
       "      <td>her</td>\n",
       "      <td>5666.0</td>\n",
       "      <td>3850.0</td>\n",
       "      <td>12427.0</td>\n",
       "      <td>240.0</td>\n",
       "    </tr>\n",
       "    <tr>\n",
       "      <th>18</th>\n",
       "      <td>texas</td>\n",
       "      <td>1374.0</td>\n",
       "      <td>1305.0</td>\n",
       "      <td>4041.0</td>\n",
       "      <td>235.0</td>\n",
       "    </tr>\n",
       "    <tr>\n",
       "      <th>19</th>\n",
       "      <td>born</td>\n",
       "      <td>528.0</td>\n",
       "      <td>394.0</td>\n",
       "      <td>1488.0</td>\n",
       "      <td>233.0</td>\n",
       "    </tr>\n",
       "  </tbody>\n",
       "</table>\n",
       "</div>"
      ],
      "text/plain": [
       "            ngram    <0.4    <0.6     <1.0  score\n",
       "0           black   338.0   403.0   5690.0  664.0\n",
       "1         african   105.0   234.0   3331.0  484.0\n",
       "2         consume   334.0  1053.0   1659.0  482.0\n",
       "3          caucus   283.0   225.0   2329.0  440.0\n",
       "4         printed  1653.0   473.0    332.0  394.0\n",
       "5        senators  4080.0   991.0   1129.0  383.0\n",
       "6           civil  1103.0  1203.0   4150.0  331.0\n",
       "7           honor  1805.0  1564.0   3921.0  329.0\n",
       "8            city  1975.0  1670.0   5438.0  319.0\n",
       "9   congressional  2285.0  1618.0   4872.0  319.0\n",
       "10    gentlewoman   303.0   694.0   1667.0  305.0\n",
       "11     minorities    86.0   143.0   1284.0  295.0\n",
       "12          might  3673.0  1321.0   1484.0  274.0\n",
       "13          women  2856.0  2999.0   7995.0  261.0\n",
       "14       spending  5338.0  1527.0   1217.0  257.0\n",
       "15          ought  2869.0   865.0    780.0  244.0\n",
       "16       hispanic    48.0   104.0   1558.0  243.0\n",
       "17            her  5666.0  3850.0  12427.0  240.0\n",
       "18          texas  1374.0  1305.0   4041.0  235.0\n",
       "19           born   528.0   394.0   1488.0  233.0"
      ]
     },
     "execution_count": 69,
     "metadata": {},
     "output_type": "execute_result"
    }
   ],
   "source": [
    "reload(explore_data)\n",
    "explore_data.compare_ngrams(val_list, descr_pred_df['pred_probs_combo'], \n",
    "                            ngram_range=(1, 1),\n",
    "                            top_k=20)"
   ]
  },
  {
   "cell_type": "markdown",
   "metadata": {},
   "source": [
    "## Congressperson level analysis"
   ]
  },
  {
   "cell_type": "code",
   "execution_count": 55,
   "metadata": {},
   "outputs": [
    {
     "data": {
      "text/plain": [
       "(1702, 9)"
      ]
     },
     "execution_count": 55,
     "metadata": {},
     "output_type": "execute_result"
    }
   ],
   "source": [
    "speaker_df = descr_pred_df[['Full Name', 'Party', 'State', 'Female', 'NonWhite', 'Age', 'pred_probs_combo']]\\\n",
    "                .groupby(['Full Name', 'Party', 'State', 'Female', 'NonWhite'])\\\n",
    "                .agg({'pred_probs_combo':['mean', 'count'], 'Age': ['mean']})\\\n",
    "                .reset_index()\n",
    "speaker_df.columns = ['_'.join(col) for col in speaker_df.columns]\n",
    "speaker_df['NonWhite_pred_'] = speaker_df.pred_probs_combo_mean > 0.5\n",
    "speaker_df.shape"
   ]
  },
  {
   "cell_type": "code",
   "execution_count": 56,
   "metadata": {},
   "outputs": [
    {
     "name": "stdout",
     "output_type": "stream",
     "text": [
      "Confusion matrix, without normalization\n",
      "[[1168  307]\n",
      " [  25  202]]\n",
      "              precision    recall  f1-score   support\n",
      "\n",
      "       White       0.98      0.79      0.88      1475\n",
      "    NonWhite       0.40      0.89      0.55       227\n",
      "\n",
      "   micro avg       0.80      0.80      0.80      1702\n",
      "   macro avg       0.69      0.84      0.71      1702\n",
      "weighted avg       0.90      0.80      0.83      1702\n",
      "\n"
     ]
    },
    {
     "data": {
      "text/plain": [
       "<matplotlib.axes._subplots.AxesSubplot at 0x7fa1817cde48>"
      ]
     },
     "execution_count": 56,
     "metadata": {},
     "output_type": "execute_result"
    },
    {
     "data": {
      "image/png": "[encoded data removed]",
      "text/plain": [
       "<Figure size 432x288 with 2 Axes>"
      ]
     },
     "metadata": {
      "needs_background": "light"
     },
     "output_type": "display_data"
    }
   ],
   "source": [
    "explore_data.plot_confusion_matrix(speaker_df.NonWhite_, speaker_df.NonWhite_pred_, classes, normalize=True)"
   ]
  },
  {
   "cell_type": "code",
   "execution_count": 47,
   "metadata": {},
   "outputs": [
    {
     "data": {
      "text/plain": [
       "11.0"
      ]
     },
     "execution_count": 47,
     "metadata": {},
     "output_type": "execute_result"
    }
   ],
   "source": [
    "speaker_df.pred_probs_combo_count.median()"
   ]
  },
  {
   "cell_type": "code",
   "execution_count": 57,
   "metadata": {},
   "outputs": [
    {
     "data": {
      "text/plain": [
       "(844, 9)"
      ]
     },
     "execution_count": 57,
     "metadata": {},
     "output_type": "execute_result"
    }
   ],
   "source": [
    "speaker_med_df = speaker_df[speaker_df.pred_probs_combo_count > speaker_df.pred_probs_combo_count.median()]\n",
    "speaker_med_df.shape"
   ]
  },
  {
   "cell_type": "code",
   "execution_count": 49,
   "metadata": {},
   "outputs": [
    {
     "name": "stdout",
     "output_type": "stream",
     "text": [
      "Confusion matrix, without normalization\n",
      "[[570  72]\n",
      " [ 22 180]]\n",
      "              precision    recall  f1-score   support\n",
      "\n",
      "       White       0.96      0.89      0.92       642\n",
      "    NonWhite       0.71      0.89      0.79       202\n",
      "\n",
      "   micro avg       0.89      0.89      0.89       844\n",
      "   macro avg       0.84      0.89      0.86       844\n",
      "weighted avg       0.90      0.89      0.89       844\n",
      "\n"
     ]
    },
    {
     "data": {
      "text/plain": [
       "<matplotlib.axes._subplots.AxesSubplot at 0x7fa16d9ee080>"
      ]
     },
     "execution_count": 49,
     "metadata": {},
     "output_type": "execute_result"
    },
    {
     "data": {
      "image/png": "[encoded data removed]",
      "text/plain": [
       "<Figure size 432x288 with 2 Axes>"
      ]
     },
     "metadata": {
      "needs_background": "light"
     },
     "output_type": "display_data"
    }
   ],
   "source": [
    "explore_data.plot_confusion_matrix(speaker_med_df.NonWhite_, speaker_med_df.NonWhite_pred_, classes, normalize=True)"
   ]
  },
  {
   "cell_type": "code",
   "execution_count": 58,
   "metadata": {},
   "outputs": [
    {
     "data": {
      "text/plain": [
       "Full Name_                JEFFRIES, HAKEEM\n",
       "Party_                                   D\n",
       "State_                                  NY\n",
       "Female_                                  0\n",
       "NonWhite_                                1\n",
       "pred_probs_combo_mean             0.818035\n",
       "pred_probs_combo_count                  88\n",
       "Age_mean                           44.6136\n",
       "NonWhite_pred_                        True\n",
       "Name: 806, dtype: object"
      ]
     },
     "execution_count": 58,
     "metadata": {},
     "output_type": "execute_result"
    }
   ],
   "source": [
    "tp = np.argmax(speaker_med_df[speaker_med_df.NonWhite_==1].pred_probs_combo_mean.values)\n",
    "speaker_med_df[speaker_med_df.NonWhite_==1].iloc[tp]"
   ]
  },
  {
   "cell_type": "code",
   "execution_count": 59,
   "metadata": {},
   "outputs": [
    {
     "data": {
      "text/plain": [
       "Full Name_                CORKER, BOB\n",
       "Party_                              R\n",
       "State_                             TN\n",
       "Female_                             0\n",
       "NonWhite_                           0\n",
       "pred_probs_combo_mean        0.181517\n",
       "pred_probs_combo_count             12\n",
       "Age_mean                      59.6667\n",
       "NonWhite_pred_                  False\n",
       "Name: 336, dtype: object"
      ]
     },
     "execution_count": 59,
     "metadata": {},
     "output_type": "execute_result"
    }
   ],
   "source": [
    "tn = np.argmin(speaker_med_df[speaker_med_df.NonWhite_==0].pred_probs_combo_mean.values)\n",
    "speaker_med_df[speaker_med_df.NonWhite_==0].iloc[tn]"
   ]
  },
  {
   "cell_type": "code",
   "execution_count": 60,
   "metadata": {},
   "outputs": [
    {
     "data": {
      "text/plain": [
       "Full Name_                BORDALLO, MADELEINE\n",
       "Party_                                      D\n",
       "State_                                     GU\n",
       "Female_                                     1\n",
       "NonWhite_                                   0\n",
       "pred_probs_combo_mean                0.736579\n",
       "pred_probs_combo_count                     20\n",
       "Age_mean                                 75.4\n",
       "NonWhite_pred_                           True\n",
       "Name: 150, dtype: object"
      ]
     },
     "execution_count": 60,
     "metadata": {},
     "output_type": "execute_result"
    }
   ],
   "source": [
    "fp = np.argmax(speaker_med_df[speaker_med_df.NonWhite_==0].pred_probs_combo_mean.values)\n",
    "speaker_med_df[speaker_med_df.NonWhite_==0].iloc[fp]"
   ]
  },
  {
   "cell_type": "code",
   "execution_count": 61,
   "metadata": {},
   "outputs": [
    {
     "data": {
      "text/plain": [
       "Full Name_                ABDNOR, JAMES\n",
       "Party_                                R\n",
       "State_                               SD\n",
       "Female_                               0\n",
       "NonWhite_                             1\n",
       "pred_probs_combo_mean            0.2952\n",
       "pred_probs_combo_count              180\n",
       "Age_mean                        61.5444\n",
       "NonWhite_pred_                    False\n",
       "Name: 0, dtype: object"
      ]
     },
     "execution_count": 61,
     "metadata": {},
     "output_type": "execute_result"
    }
   ],
   "source": [
    "fn = np.argmin(speaker_med_df[speaker_med_df.NonWhite_==1].pred_probs_combo_mean.values)\n",
    "speaker_med_df[speaker_med_df.NonWhite_==1].iloc[fn]"
   ]
  },
  {
   "cell_type": "markdown",
   "metadata": {},
   "source": [
    "## Congress level analysis"
   ]
  },
  {
   "cell_type": "code",
   "execution_count": 62,
   "metadata": {},
   "outputs": [
    {
     "data": {
      "text/plain": [
       "(18, 5)"
      ]
     },
     "execution_count": 62,
     "metadata": {},
     "output_type": "execute_result"
    }
   ],
   "source": [
    "congress_df = descr_pred_df[['Congress', 'NonWhite', 'pred_probs_combo', 'pred_combo']]\\\n",
    "                .groupby('Congress')\\\n",
    "                .agg({'NonWhite': ['mean', 'sum'], 'pred_combo': ['mean']})\\\n",
    "                .reset_index()\n",
    "congress_df.columns = ['_'.join(col) for col in congress_df.columns]\n",
    "congress_df['Prediction_balance'] = congress_df.pred_combo_mean / congress_df.NonWhite_mean\n",
    "congress_df.shape"
   ]
  },
  {
   "cell_type": "code",
   "execution_count": 66,
   "metadata": {},
   "outputs": [
    {
     "data": {
      "image/png": "[encoded data removed]",
      "text/plain": [
       "<Figure size 720x360 with 2 Axes>"
      ]
     },
     "metadata": {
      "needs_background": "light"
     },
     "output_type": "display_data"
    }
   ],
   "source": [
    "fig, ax1 = plt.subplots(figsize=(10, 5))\n",
    "\n",
    "color = 'tab:red'\n",
    "ax1.set_xlabel('Congress')\n",
    "ax1.set_ylabel('NonWhite speech counts', color=color)\n",
    "ax1.plot(congress_df.Congress_, congress_df.NonWhite_sum, color=color)\n",
    "ax1.tick_params(axis='y', labelcolor=color)\n",
    "\n",
    "ax2 = ax1.twinx()  # instantiate a second axes that shares the same x-axis\n",
    "\n",
    "color = 'tab:blue'\n",
    "ax2.set_ylabel('Predicted / Actual', color=color)  # we already handled the x-label with ax1\n",
    "ax2.plot(congress_df.Congress_, congress_df.Prediction_balance, color=color)\n",
    "ax2.tick_params(axis='y', labelcolor=color)\n",
    "\n",
    "ax2.hlines(y=1,xmin=97,xmax=114, color=color, linestyles='dashed')\n",
    "\n",
    "fig.tight_layout()  # otherwise the right y-label is slightly clipped\n",
    "plt.xticks(range(97,115))\n",
    "plt.show()"
   ]
  },
  {
   "cell_type": "code",
   "execution_count": null,
   "metadata": {},
   "outputs": [],
   "source": []
  }
 ],
 "metadata": {
  "kernelspec": {
   "display_name": "Python 3",
   "language": "python",
   "name": "python3"
  },
  "language_info": {
   "codemirror_mode": {
    "name": "ipython",
    "version": 3
   },
   "file_extension": ".py",
   "mimetype": "text/x-python",
   "name": "python",
   "nbconvert_exporter": "python",
   "pygments_lexer": "ipython3",
   "version": "3.5.2"
  }
 },
 "nbformat": 4,
 "nbformat_minor": 2
}
