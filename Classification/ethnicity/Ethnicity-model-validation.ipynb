{
 "cells": [
  {
   "cell_type": "code",
   "execution_count": 1,
   "metadata": {},
   "outputs": [
    {
     "data": {
      "text/html": [
       "<style>.container { width:100% !important; }</style>"
      ],
      "text/plain": [
       "<IPython.core.display.HTML object>"
      ]
     },
     "metadata": {},
     "output_type": "display_data"
    }
   ],
   "source": [
    "# increase cell width\n",
    "from IPython.core.display import display, HTML\n",
    "display(HTML(\"<style>.container { width:100% !important; }</style>\"))"
   ]
  },
  {
   "cell_type": "code",
   "execution_count": 2,
   "metadata": {},
   "outputs": [],
   "source": [
    "from __future__ import absolute_import\n",
    "from __future__ import division\n",
    "from __future__ import print_function\n",
    "\n",
    "import os\n",
    "import random\n",
    "import time\n",
    "import pickle\n",
    "import gc\n",
    "import re\n",
    "import itertools\n",
    "\n",
    "import numpy as np\n",
    "import pandas as pd\n",
    "\n",
    "from importlib import reload\n",
    "\n",
    "import scipy.sparse\n",
    "\n",
    "import matplotlib.pyplot as plt\n",
    "%matplotlib inline"
   ]
  },
  {
   "cell_type": "code",
   "execution_count": 3,
   "metadata": {},
   "outputs": [],
   "source": [
    "from helpers import load_data\n",
    "from helpers import explore_data\n",
    "from helpers import preprocess_data\n",
    "from helpers import train_model"
   ]
  },
  {
   "cell_type": "markdown",
   "metadata": {},
   "source": [
    "### Load validation predicted probabilities"
   ]
  },
  {
   "cell_type": "code",
   "execution_count": 4,
   "metadata": {},
   "outputs": [],
   "source": [
    "main_dir = '/tf/notebooks/'"
   ]
  },
  {
   "cell_type": "code",
   "execution_count": 5,
   "metadata": {},
   "outputs": [],
   "source": [
    "probs_path = main_dir+'final-project/Classification/data/ethnicity'"
   ]
  },
  {
   "cell_type": "code",
   "execution_count": 6,
   "metadata": {},
   "outputs": [],
   "source": [
    "val_pred_probs_mlp_ngram = np.load(os.path.join(probs_path, 'val_pred_probs_mlp_ngram.npy'))\n",
    "val_pred_probs_cnn = np.load(os.path.join(probs_path, 'val_pred_probs_cnn.npy'))\n",
    "val_pred_probs_cnn_aggr_chunk = np.load(os.path.join(probs_path, 'val_pred_probs_cnn_aggr_chunk.npy'))"
   ]
  },
  {
   "cell_type": "code",
   "execution_count": 7,
   "metadata": {},
   "outputs": [
    {
     "data": {
      "text/plain": [
       "(62840, 62840, 62840)"
      ]
     },
     "execution_count": 7,
     "metadata": {},
     "output_type": "execute_result"
    }
   ],
   "source": [
    "len(val_pred_probs_mlp_ngram), len(val_pred_probs_cnn), len(val_pred_probs_cnn_aggr_chunk)"
   ]
  },
  {
   "cell_type": "code",
   "execution_count": 8,
   "metadata": {},
   "outputs": [],
   "source": [
    "with open(os.path.join(probs_path, 'val_ids'), 'rb') as fp:\n",
    "    val_ids = pickle.load(fp)\n",
    "with open(os.path.join(probs_path, 'val_target'), 'rb') as fp:\n",
    "    val_target = pickle.load(fp)\n",
    "with open(os.path.join(probs_path, 'val_list'), 'rb') as fp:\n",
    "    val_list = pickle.load(fp)"
   ]
  },
  {
   "cell_type": "code",
   "execution_count": 9,
   "metadata": {},
   "outputs": [
    {
     "data": {
      "text/plain": [
       "(62840, 62840, 62840)"
      ]
     },
     "execution_count": 9,
     "metadata": {},
     "output_type": "execute_result"
    }
   ],
   "source": [
    "len(val_ids), len(val_target), len(val_list)"
   ]
  },
  {
   "cell_type": "code",
   "execution_count": 10,
   "metadata": {},
   "outputs": [],
   "source": [
    "val_preds_mlp_ngram = val_pred_probs_mlp_ngram > 0.5\n",
    "val_preds_cnn = val_pred_probs_cnn > 0.5\n",
    "val_preds_cnn_aggr_chunk = val_pred_probs_cnn_aggr_chunk > 0.5"
   ]
  },
  {
   "cell_type": "code",
   "execution_count": 11,
   "metadata": {},
   "outputs": [
    {
     "data": {
      "text/plain": [
       "(array([27154]), array([27678]), 27686)"
      ]
     },
     "execution_count": 11,
     "metadata": {},
     "output_type": "execute_result"
    }
   ],
   "source": [
    "sum(val_preds_mlp_ngram), sum(val_preds_cnn), sum(val_preds_cnn_aggr_chunk)"
   ]
  },
  {
   "cell_type": "code",
   "execution_count": 12,
   "metadata": {},
   "outputs": [
    {
     "data": {
      "text/plain": [
       "0.7552196053469128"
      ]
     },
     "execution_count": 12,
     "metadata": {},
     "output_type": "execute_result"
    }
   ],
   "source": [
    "np.mean(val_target==val_preds_mlp_ngram.flatten())"
   ]
  },
  {
   "cell_type": "code",
   "execution_count": 13,
   "metadata": {},
   "outputs": [],
   "source": [
    "classes = ['White', 'NonWhite']"
   ]
  },
  {
   "cell_type": "code",
   "execution_count": 14,
   "metadata": {},
   "outputs": [
    {
     "name": "stdout",
     "output_type": "stream",
     "text": [
      "Confusion matrix, without normalization\n",
      "[[25862  5558]\n",
      " [ 9824 21596]]\n",
      "              precision    recall  f1-score   support\n",
      "\n",
      "       White       0.72      0.82      0.77     31420\n",
      "    NonWhite       0.80      0.69      0.74     31420\n",
      "\n",
      "   micro avg       0.76      0.76      0.76     62840\n",
      "   macro avg       0.76      0.76      0.75     62840\n",
      "weighted avg       0.76      0.76      0.75     62840\n",
      "\n"
     ]
    },
    {
     "data": {
      "text/plain": [
       "<matplotlib.axes._subplots.AxesSubplot at 0x7f4c7a8d4978>"
      ]
     },
     "execution_count": 14,
     "metadata": {},
     "output_type": "execute_result"
    },
    {
     "data": {
      "image/png": "[encoded data removed]",
      "text/plain": [
       "<Figure size 432x288 with 2 Axes>"
      ]
     },
     "metadata": {
      "needs_background": "light"
     },
     "output_type": "display_data"
    }
   ],
   "source": [
    "explore_data.plot_confusion_matrix(val_target, val_preds_mlp_ngram, classes, normalize=True)"
   ]
  },
  {
   "cell_type": "code",
   "execution_count": 15,
   "metadata": {},
   "outputs": [
    {
     "data": {
      "text/plain": [
       "0.7358370464672184"
      ]
     },
     "execution_count": 15,
     "metadata": {},
     "output_type": "execute_result"
    }
   ],
   "source": [
    "np.mean(val_target==val_preds_cnn.flatten())"
   ]
  },
  {
   "cell_type": "code",
   "execution_count": 16,
   "metadata": {},
   "outputs": [
    {
     "name": "stdout",
     "output_type": "stream",
     "text": [
      "Confusion matrix, without normalization\n",
      "[[24991  6429]\n",
      " [10171 21249]]\n",
      "              precision    recall  f1-score   support\n",
      "\n",
      "       White       0.71      0.80      0.75     31420\n",
      "    NonWhite       0.77      0.68      0.72     31420\n",
      "\n",
      "   micro avg       0.74      0.74      0.74     62840\n",
      "   macro avg       0.74      0.74      0.73     62840\n",
      "weighted avg       0.74      0.74      0.73     62840\n",
      "\n"
     ]
    },
    {
     "data": {
      "text/plain": [
       "<matplotlib.axes._subplots.AxesSubplot at 0x7f4c76724320>"
      ]
     },
     "execution_count": 16,
     "metadata": {},
     "output_type": "execute_result"
    },
    {
     "data": {
      "image/png": "[encoded data removed]",
      "text/plain": [
       "<Figure size 432x288 with 2 Axes>"
      ]
     },
     "metadata": {
      "needs_background": "light"
     },
     "output_type": "display_data"
    }
   ],
   "source": [
    "explore_data.plot_confusion_matrix(val_target, val_preds_cnn, classes, normalize=True)"
   ]
  },
  {
   "cell_type": "code",
   "execution_count": 17,
   "metadata": {},
   "outputs": [
    {
     "data": {
      "text/plain": [
       "0.74484404837683"
      ]
     },
     "execution_count": 17,
     "metadata": {},
     "output_type": "execute_result"
    }
   ],
   "source": [
    "np.mean(val_target==val_preds_cnn_aggr_chunk.flatten())"
   ]
  },
  {
   "cell_type": "code",
   "execution_count": 18,
   "metadata": {},
   "outputs": [
    {
     "name": "stdout",
     "output_type": "stream",
     "text": [
      "Confusion matrix, without normalization\n",
      "[[25270  6150]\n",
      " [ 9884 21536]]\n",
      "              precision    recall  f1-score   support\n",
      "\n",
      "       White       0.72      0.80      0.76     31420\n",
      "    NonWhite       0.78      0.69      0.73     31420\n",
      "\n",
      "   micro avg       0.74      0.74      0.74     62840\n",
      "   macro avg       0.75      0.74      0.74     62840\n",
      "weighted avg       0.75      0.74      0.74     62840\n",
      "\n"
     ]
    },
    {
     "data": {
      "text/plain": [
       "<matplotlib.axes._subplots.AxesSubplot at 0x7f4c766e6358>"
      ]
     },
     "execution_count": 18,
     "metadata": {},
     "output_type": "execute_result"
    },
    {
     "data": {
      "image/png": "[encoded data removed]",
      "text/plain": [
       "<Figure size 432x288 with 2 Axes>"
      ]
     },
     "metadata": {
      "needs_background": "light"
     },
     "output_type": "display_data"
    }
   ],
   "source": [
    "explore_data.plot_confusion_matrix(val_target, val_preds_cnn_aggr_chunk, classes, normalize=True)"
   ]
  },
  {
   "cell_type": "code",
   "execution_count": 19,
   "metadata": {},
   "outputs": [
    {
     "name": "stderr",
     "output_type": "stream",
     "text": [
      "/usr/local/lib/python3.5/dist-packages/numpy/lib/arraysetops.py:569: FutureWarning: elementwise comparison failed; returning scalar instead, but in the future will perform elementwise comparison\n",
      "  mask |= (ar1 == a)\n"
     ]
    },
    {
     "data": {
      "text/plain": [
       "(62840, 17)"
      ]
     },
     "execution_count": 19,
     "metadata": {},
     "output_type": "execute_result"
    }
   ],
   "source": [
    "descr_df = pd.read_csv(main_dir+'final-project/data/QA/full_descr.txt', sep=\"|\", index_col=0)\n",
    "descr_df = descr_df.loc[np.asarray(val_ids, dtype=int)]\n",
    "descr_df.reset_index(inplace=True)\n",
    "descr_df.shape"
   ]
  },
  {
   "cell_type": "code",
   "execution_count": 20,
   "metadata": {},
   "outputs": [
    {
     "data": {
      "text/html": [
       "<div>\n",
       "<style scoped>\n",
       "    .dataframe tbody tr th:only-of-type {\n",
       "        vertical-align: middle;\n",
       "    }\n",
       "\n",
       "    .dataframe tbody tr th {\n",
       "        vertical-align: top;\n",
       "    }\n",
       "\n",
       "    .dataframe thead th {\n",
       "        text-align: right;\n",
       "    }\n",
       "</style>\n",
       "<table border=\"1\" class=\"dataframe\">\n",
       "  <thead>\n",
       "    <tr style=\"text-align: right;\">\n",
       "      <th></th>\n",
       "      <th>speech_id</th>\n",
       "      <th>date</th>\n",
       "      <th>char_count</th>\n",
       "      <th>word_count</th>\n",
       "      <th>speakerid</th>\n",
       "      <th>Party</th>\n",
       "      <th>Congress</th>\n",
       "      <th>Chamber</th>\n",
       "      <th>State</th>\n",
       "      <th>Ethnicity</th>\n",
       "      <th>Age</th>\n",
       "      <th>Age_lt_med</th>\n",
       "      <th>NonWhite</th>\n",
       "      <th>Female</th>\n",
       "      <th>speaker</th>\n",
       "      <th>Full Name</th>\n",
       "      <th>match</th>\n",
       "    </tr>\n",
       "  </thead>\n",
       "  <tbody>\n",
       "    <tr>\n",
       "      <th>0</th>\n",
       "      <td>1010243717</td>\n",
       "      <td>19901025</td>\n",
       "      <td>870</td>\n",
       "      <td>166</td>\n",
       "      <td>101110870.0</td>\n",
       "      <td>D</td>\n",
       "      <td>101</td>\n",
       "      <td>H</td>\n",
       "      <td>TX</td>\n",
       "      <td>B</td>\n",
       "      <td>49.0</td>\n",
       "      <td>1.0</td>\n",
       "      <td>1.0</td>\n",
       "      <td>0.0</td>\n",
       "      <td>Mr. WASHINGTON</td>\n",
       "      <td>WASHINGTON, CRAIG</td>\n",
       "      <td>exact</td>\n",
       "    </tr>\n",
       "    <tr>\n",
       "      <th>1</th>\n",
       "      <td>1120097305</td>\n",
       "      <td>20120416</td>\n",
       "      <td>1186</td>\n",
       "      <td>197</td>\n",
       "      <td>112116570.0</td>\n",
       "      <td>R</td>\n",
       "      <td>112</td>\n",
       "      <td>H</td>\n",
       "      <td>OH</td>\n",
       "      <td>AAPIA</td>\n",
       "      <td>54.0</td>\n",
       "      <td>1.0</td>\n",
       "      <td>1.0</td>\n",
       "      <td>0.0</td>\n",
       "      <td>Mr. AUSTRIA</td>\n",
       "      <td>AUSTRIA, STEVE</td>\n",
       "      <td>fuzzy</td>\n",
       "    </tr>\n",
       "    <tr>\n",
       "      <th>2</th>\n",
       "      <td>1020183502</td>\n",
       "      <td>19920630</td>\n",
       "      <td>257</td>\n",
       "      <td>40</td>\n",
       "      <td>102111850.0</td>\n",
       "      <td>D</td>\n",
       "      <td>102</td>\n",
       "      <td>H</td>\n",
       "      <td>TX</td>\n",
       "      <td>H</td>\n",
       "      <td>76.0</td>\n",
       "      <td>0.0</td>\n",
       "      <td>1.0</td>\n",
       "      <td>0.0</td>\n",
       "      <td>Mr. GONZALEZ</td>\n",
       "      <td>GONZALEZ, HENRY</td>\n",
       "      <td>exact</td>\n",
       "    </tr>\n",
       "    <tr>\n",
       "      <th>3</th>\n",
       "      <td>1080187463</td>\n",
       "      <td>20041001</td>\n",
       "      <td>2689</td>\n",
       "      <td>420</td>\n",
       "      <td>108115260.0</td>\n",
       "      <td>D</td>\n",
       "      <td>108</td>\n",
       "      <td>H</td>\n",
       "      <td>MD</td>\n",
       "      <td>B</td>\n",
       "      <td>53.0</td>\n",
       "      <td>1.0</td>\n",
       "      <td>1.0</td>\n",
       "      <td>0.0</td>\n",
       "      <td>Mr. WYNN</td>\n",
       "      <td>WYNN, ALBERT</td>\n",
       "      <td>fuzzy</td>\n",
       "    </tr>\n",
       "    <tr>\n",
       "      <th>4</th>\n",
       "      <td>1090010764</td>\n",
       "      <td>20050309</td>\n",
       "      <td>7723</td>\n",
       "      <td>1156</td>\n",
       "      <td>109116411.0</td>\n",
       "      <td>D</td>\n",
       "      <td>109</td>\n",
       "      <td>S</td>\n",
       "      <td>HI</td>\n",
       "      <td>AAPIA</td>\n",
       "      <td>82.0</td>\n",
       "      <td>0.0</td>\n",
       "      <td>1.0</td>\n",
       "      <td>0.0</td>\n",
       "      <td>Mr. AKAKA</td>\n",
       "      <td>AKAKA, DANIEL</td>\n",
       "      <td>exact</td>\n",
       "    </tr>\n",
       "  </tbody>\n",
       "</table>\n",
       "</div>"
      ],
      "text/plain": [
       "    speech_id      date  char_count  word_count    speakerid Party  Congress  \\\n",
       "0  1010243717  19901025         870         166  101110870.0     D       101   \n",
       "1  1120097305  20120416        1186         197  112116570.0     R       112   \n",
       "2  1020183502  19920630         257          40  102111850.0     D       102   \n",
       "3  1080187463  20041001        2689         420  108115260.0     D       108   \n",
       "4  1090010764  20050309        7723        1156  109116411.0     D       109   \n",
       "\n",
       "  Chamber State Ethnicity   Age  Age_lt_med  NonWhite  Female         speaker  \\\n",
       "0       H    TX         B  49.0         1.0       1.0     0.0  Mr. WASHINGTON   \n",
       "1       H    OH     AAPIA  54.0         1.0       1.0     0.0     Mr. AUSTRIA   \n",
       "2       H    TX         H  76.0         0.0       1.0     0.0    Mr. GONZALEZ   \n",
       "3       H    MD         B  53.0         1.0       1.0     0.0        Mr. WYNN   \n",
       "4       S    HI     AAPIA  82.0         0.0       1.0     0.0       Mr. AKAKA   \n",
       "\n",
       "           Full Name  match  \n",
       "0  WASHINGTON, CRAIG  exact  \n",
       "1     AUSTRIA, STEVE  fuzzy  \n",
       "2    GONZALEZ, HENRY  exact  \n",
       "3       WYNN, ALBERT  fuzzy  \n",
       "4      AKAKA, DANIEL  exact  "
      ]
     },
     "execution_count": 20,
     "metadata": {},
     "output_type": "execute_result"
    }
   ],
   "source": [
    "descr_df.head()"
   ]
  },
  {
   "cell_type": "code",
   "execution_count": 21,
   "metadata": {},
   "outputs": [
    {
     "data": {
      "text/plain": [
       "(62840, 4)"
      ]
     },
     "execution_count": 21,
     "metadata": {},
     "output_type": "execute_result"
    }
   ],
   "source": [
    "pred_df = pd.DataFrame({'ids': np.asarray(val_ids, dtype=np.int64), \n",
    "                        'pred_probs_mlp_ngram': val_pred_probs_mlp_ngram.flatten(), \n",
    "                        'pred_probs_cnn': val_pred_probs_cnn.flatten(),\n",
    "                        'pred_probs_cnn_chunk': val_pred_probs_cnn_aggr_chunk.flatten()})\n",
    "pred_df.shape"
   ]
  },
  {
   "cell_type": "code",
   "execution_count": 22,
   "metadata": {},
   "outputs": [
    {
     "data": {
      "text/html": [
       "<div>\n",
       "<style scoped>\n",
       "    .dataframe tbody tr th:only-of-type {\n",
       "        vertical-align: middle;\n",
       "    }\n",
       "\n",
       "    .dataframe tbody tr th {\n",
       "        vertical-align: top;\n",
       "    }\n",
       "\n",
       "    .dataframe thead th {\n",
       "        text-align: right;\n",
       "    }\n",
       "</style>\n",
       "<table border=\"1\" class=\"dataframe\">\n",
       "  <thead>\n",
       "    <tr style=\"text-align: right;\">\n",
       "      <th></th>\n",
       "      <th>ids</th>\n",
       "      <th>pred_probs_cnn</th>\n",
       "      <th>pred_probs_cnn_chunk</th>\n",
       "      <th>pred_probs_mlp_ngram</th>\n",
       "    </tr>\n",
       "  </thead>\n",
       "  <tbody>\n",
       "    <tr>\n",
       "      <th>0</th>\n",
       "      <td>1010243717</td>\n",
       "      <td>0.489893</td>\n",
       "      <td>0.403256</td>\n",
       "      <td>0.404872</td>\n",
       "    </tr>\n",
       "    <tr>\n",
       "      <th>1</th>\n",
       "      <td>1120097305</td>\n",
       "      <td>0.854216</td>\n",
       "      <td>0.566222</td>\n",
       "      <td>0.942785</td>\n",
       "    </tr>\n",
       "    <tr>\n",
       "      <th>2</th>\n",
       "      <td>1020183502</td>\n",
       "      <td>0.367378</td>\n",
       "      <td>0.425271</td>\n",
       "      <td>0.294390</td>\n",
       "    </tr>\n",
       "    <tr>\n",
       "      <th>3</th>\n",
       "      <td>1080187463</td>\n",
       "      <td>0.156427</td>\n",
       "      <td>0.421413</td>\n",
       "      <td>0.944420</td>\n",
       "    </tr>\n",
       "    <tr>\n",
       "      <th>4</th>\n",
       "      <td>1090010764</td>\n",
       "      <td>0.693374</td>\n",
       "      <td>0.547798</td>\n",
       "      <td>0.949667</td>\n",
       "    </tr>\n",
       "  </tbody>\n",
       "</table>\n",
       "</div>"
      ],
      "text/plain": [
       "          ids  pred_probs_cnn  pred_probs_cnn_chunk  pred_probs_mlp_ngram\n",
       "0  1010243717        0.489893              0.403256              0.404872\n",
       "1  1120097305        0.854216              0.566222              0.942785\n",
       "2  1020183502        0.367378              0.425271              0.294390\n",
       "3  1080187463        0.156427              0.421413              0.944420\n",
       "4  1090010764        0.693374              0.547798              0.949667"
      ]
     },
     "execution_count": 22,
     "metadata": {},
     "output_type": "execute_result"
    }
   ],
   "source": [
    "pred_df.head()"
   ]
  },
  {
   "cell_type": "code",
   "execution_count": 23,
   "metadata": {},
   "outputs": [
    {
     "data": {
      "text/plain": [
       "(62840, 21)"
      ]
     },
     "execution_count": 23,
     "metadata": {},
     "output_type": "execute_result"
    }
   ],
   "source": [
    "descr_pred_df = descr_df.merge(pred_df, left_on='speech_id', right_on='ids')\n",
    "descr_pred_df.shape"
   ]
  },
  {
   "cell_type": "code",
   "execution_count": 24,
   "metadata": {},
   "outputs": [],
   "source": [
    "preds = [\n",
    "    'pred_probs_mlp_ngram',\n",
    "    'pred_probs_cnn', \n",
    "    'pred_probs_cnn_chunk'\n",
    "]"
   ]
  },
  {
   "cell_type": "code",
   "execution_count": 25,
   "metadata": {},
   "outputs": [
    {
     "data": {
      "text/html": [
       "<div>\n",
       "<style scoped>\n",
       "    .dataframe tbody tr th:only-of-type {\n",
       "        vertical-align: middle;\n",
       "    }\n",
       "\n",
       "    .dataframe tbody tr th {\n",
       "        vertical-align: top;\n",
       "    }\n",
       "\n",
       "    .dataframe thead th {\n",
       "        text-align: right;\n",
       "    }\n",
       "</style>\n",
       "<table border=\"1\" class=\"dataframe\">\n",
       "  <thead>\n",
       "    <tr style=\"text-align: right;\">\n",
       "      <th></th>\n",
       "      <th>pred_probs_mlp_ngram</th>\n",
       "      <th>pred_probs_cnn</th>\n",
       "      <th>pred_probs_cnn_chunk</th>\n",
       "    </tr>\n",
       "    <tr>\n",
       "      <th>Ethnicity</th>\n",
       "      <th></th>\n",
       "      <th></th>\n",
       "      <th></th>\n",
       "    </tr>\n",
       "  </thead>\n",
       "  <tbody>\n",
       "    <tr>\n",
       "      <th>AAPIA</th>\n",
       "      <td>0.618414</td>\n",
       "      <td>0.600247</td>\n",
       "      <td>0.563464</td>\n",
       "    </tr>\n",
       "    <tr>\n",
       "      <th>B</th>\n",
       "      <td>0.701784</td>\n",
       "      <td>0.659444</td>\n",
       "      <td>0.609200</td>\n",
       "    </tr>\n",
       "    <tr>\n",
       "      <th>B/AAPIA</th>\n",
       "      <td>0.648916</td>\n",
       "      <td>0.648559</td>\n",
       "      <td>0.596443</td>\n",
       "    </tr>\n",
       "    <tr>\n",
       "      <th>B/H</th>\n",
       "      <td>0.706941</td>\n",
       "      <td>0.658559</td>\n",
       "      <td>0.606603</td>\n",
       "    </tr>\n",
       "    <tr>\n",
       "      <th>H</th>\n",
       "      <td>0.638925</td>\n",
       "      <td>0.628658</td>\n",
       "      <td>0.582228</td>\n",
       "    </tr>\n",
       "    <tr>\n",
       "      <th>H/ME</th>\n",
       "      <td>0.263064</td>\n",
       "      <td>0.266897</td>\n",
       "      <td>0.359864</td>\n",
       "    </tr>\n",
       "    <tr>\n",
       "      <th>ME</th>\n",
       "      <td>0.557911</td>\n",
       "      <td>0.509696</td>\n",
       "      <td>0.497224</td>\n",
       "    </tr>\n",
       "    <tr>\n",
       "      <th>W</th>\n",
       "      <td>0.286154</td>\n",
       "      <td>0.316255</td>\n",
       "      <td>0.387114</td>\n",
       "    </tr>\n",
       "  </tbody>\n",
       "</table>\n",
       "</div>"
      ],
      "text/plain": [
       "           pred_probs_mlp_ngram  pred_probs_cnn  pred_probs_cnn_chunk\n",
       "Ethnicity                                                            \n",
       "AAPIA                  0.618414        0.600247              0.563464\n",
       "B                      0.701784        0.659444              0.609200\n",
       "B/AAPIA                0.648916        0.648559              0.596443\n",
       "B/H                    0.706941        0.658559              0.606603\n",
       "H                      0.638925        0.628658              0.582228\n",
       "H/ME                   0.263064        0.266897              0.359864\n",
       "ME                     0.557911        0.509696              0.497224\n",
       "W                      0.286154        0.316255              0.387114"
      ]
     },
     "execution_count": 25,
     "metadata": {},
     "output_type": "execute_result"
    }
   ],
   "source": [
    "descr_pred_df[preds+['Ethnicity']].groupby('Ethnicity').mean()"
   ]
  },
  {
   "cell_type": "code",
   "execution_count": 26,
   "metadata": {},
   "outputs": [
    {
     "data": {
      "text/html": [
       "<div>\n",
       "<style scoped>\n",
       "    .dataframe tbody tr th:only-of-type {\n",
       "        vertical-align: middle;\n",
       "    }\n",
       "\n",
       "    .dataframe tbody tr th {\n",
       "        vertical-align: top;\n",
       "    }\n",
       "\n",
       "    .dataframe thead th {\n",
       "        text-align: right;\n",
       "    }\n",
       "</style>\n",
       "<table border=\"1\" class=\"dataframe\">\n",
       "  <thead>\n",
       "    <tr style=\"text-align: right;\">\n",
       "      <th></th>\n",
       "      <th>pred_probs_mlp_ngram</th>\n",
       "      <th>pred_probs_cnn</th>\n",
       "      <th>pred_probs_cnn_chunk</th>\n",
       "    </tr>\n",
       "    <tr>\n",
       "      <th>NonWhite</th>\n",
       "      <th></th>\n",
       "      <th></th>\n",
       "      <th></th>\n",
       "    </tr>\n",
       "  </thead>\n",
       "  <tbody>\n",
       "    <tr>\n",
       "      <th>0.0</th>\n",
       "      <td>0.286154</td>\n",
       "      <td>0.316255</td>\n",
       "      <td>0.387114</td>\n",
       "    </tr>\n",
       "    <tr>\n",
       "      <th>1.0</th>\n",
       "      <td>0.656335</td>\n",
       "      <td>0.624964</td>\n",
       "      <td>0.582987</td>\n",
       "    </tr>\n",
       "  </tbody>\n",
       "</table>\n",
       "</div>"
      ],
      "text/plain": [
       "          pred_probs_mlp_ngram  pred_probs_cnn  pred_probs_cnn_chunk\n",
       "NonWhite                                                            \n",
       "0.0                   0.286154        0.316255              0.387114\n",
       "1.0                   0.656335        0.624964              0.582987"
      ]
     },
     "execution_count": 26,
     "metadata": {},
     "output_type": "execute_result"
    }
   ],
   "source": [
    "descr_pred_df[preds+['NonWhite']].groupby('NonWhite').mean()"
   ]
  },
  {
   "cell_type": "code",
   "execution_count": 27,
   "metadata": {},
   "outputs": [
    {
     "data": {
      "text/plain": [
       "7"
      ]
     },
     "execution_count": 27,
     "metadata": {},
     "output_type": "execute_result"
    }
   ],
   "source": [
    "preds_combo = []\n",
    "for i in range(1, len(preds)+1):\n",
    "    preds_combo.extend(list(itertools.combinations(preds, i)))\n",
    "len(preds_combo)"
   ]
  },
  {
   "cell_type": "code",
   "execution_count": 28,
   "metadata": {},
   "outputs": [],
   "source": [
    "preds_combo_results = []\n",
    "for i in range(len(preds_combo)):\n",
    "    temp = descr_pred_df[list(preds_combo[i])]\n",
    "    avg = temp.mean(axis=1)\n",
    "    avg_pred = avg > 0.5\n",
    "    result = np.mean(avg_pred==descr_pred_df['NonWhite'])\n",
    "    preds_combo_results.append((preds_combo[i], result))"
   ]
  },
  {
   "cell_type": "code",
   "execution_count": 29,
   "metadata": {},
   "outputs": [
    {
     "data": {
      "text/plain": [
       "[(('pred_probs_mlp_ngram', 'pred_probs_cnn', 'pred_probs_cnn_chunk'),\n",
       "  0.7670432845321451),\n",
       " (('pred_probs_mlp_ngram', 'pred_probs_cnn_chunk'), 0.7661043921069383),\n",
       " (('pred_probs_mlp_ngram', 'pred_probs_cnn'), 0.7642584341183959),\n",
       " (('pred_probs_mlp_ngram',), 0.7552196053469128),\n",
       " (('pred_probs_cnn', 'pred_probs_cnn_chunk'), 0.7493793761935074),\n",
       " (('pred_probs_cnn_chunk',), 0.74484404837683),\n",
       " (('pred_probs_cnn',), 0.7358370464672184)]"
      ]
     },
     "execution_count": 29,
     "metadata": {},
     "output_type": "execute_result"
    }
   ],
   "source": [
    "preds_combo_results = sorted(preds_combo_results, key=lambda x: -x[1])\n",
    "preds_combo_results"
   ]
  },
  {
   "cell_type": "code",
   "execution_count": 30,
   "metadata": {},
   "outputs": [
    {
     "data": {
      "text/plain": [
       "0.7670432845321451"
      ]
     },
     "execution_count": 30,
     "metadata": {},
     "output_type": "execute_result"
    }
   ],
   "source": [
    "descr_pred_df['pred_probs_combo'] = descr_pred_df[list(preds_combo_results[0][0])].mean(axis=1)\n",
    "descr_pred_df['pred_combo'] = descr_pred_df['pred_probs_combo'] > 0.5\n",
    "np.mean(val_target==descr_pred_df['pred_combo'].values.flatten())"
   ]
  },
  {
   "cell_type": "code",
   "execution_count": 31,
   "metadata": {},
   "outputs": [],
   "source": [
    "model_types = [\n",
    "    (val_pred_probs_mlp_ngram, 'MLP ngram'),\n",
    "    (val_pred_probs_cnn, 'CNN'), \n",
    "    (val_pred_probs_cnn_aggr_chunk, 'CNN chunk')\n",
    "]"
   ]
  },
  {
   "cell_type": "code",
   "execution_count": 32,
   "metadata": {},
   "outputs": [
    {
     "data": {
      "image/png": "[encoded data removed]",
      "text/plain": [
       "<Figure size 720x1080 with 2 Axes>"
      ]
     },
     "metadata": {
      "needs_background": "light"
     },
     "output_type": "display_data"
    }
   ],
   "source": [
    "reload(explore_data)\n",
    "explore_data.plot_compare_calibration_curves(val_target, model_types, 'Ethnicity')"
   ]
  },
  {
   "cell_type": "markdown",
   "metadata": {},
   "source": [
    "### Save the main dataframe"
   ]
  },
  {
   "cell_type": "code",
   "execution_count": 33,
   "metadata": {},
   "outputs": [],
   "source": [
    "keep_cols = ['speech_id',\n",
    " 'date',\n",
    " 'char_count',\n",
    " 'word_count',\n",
    " 'speakerid',\n",
    " 'Party',\n",
    " 'Congress',\n",
    " 'Chamber',\n",
    " 'State',\n",
    " 'Ethnicity',\n",
    " 'Age',\n",
    " 'Age_lt_med',\n",
    " 'NonWhite',\n",
    " 'Female',\n",
    " 'speaker',\n",
    " 'Full Name',\n",
    " 'match',\n",
    " 'ids',\n",
    " 'pred_probs_combo',\n",
    " 'pred_combo']"
   ]
  },
  {
   "cell_type": "code",
   "execution_count": 34,
   "metadata": {},
   "outputs": [],
   "source": [
    "descr_pred_df[keep_cols].to_pickle(os.path.join(probs_path, 'ethnicity_preds.pkl'))"
   ]
  },
  {
   "cell_type": "markdown",
   "metadata": {},
   "source": [
    "### Evaluating final predictions"
   ]
  },
  {
   "cell_type": "code",
   "execution_count": 35,
   "metadata": {},
   "outputs": [
    {
     "name": "stdout",
     "output_type": "stream",
     "text": [
      "Confusion matrix, without normalization\n",
      "[[26159  5261]\n",
      " [ 9378 22042]]\n",
      "              precision    recall  f1-score   support\n",
      "\n",
      "       White       0.74      0.83      0.78     31420\n",
      "    NonWhite       0.81      0.70      0.75     31420\n",
      "\n",
      "   micro avg       0.77      0.77      0.77     62840\n",
      "   macro avg       0.77      0.77      0.77     62840\n",
      "weighted avg       0.77      0.77      0.77     62840\n",
      "\n"
     ]
    },
    {
     "data": {
      "text/plain": [
       "<matplotlib.axes._subplots.AxesSubplot at 0x7f4c75b4ee80>"
      ]
     },
     "execution_count": 35,
     "metadata": {},
     "output_type": "execute_result"
    },
    {
     "data": {
      "image/png": "[encoded data removed]",
      "text/plain": [
       "<Figure size 432x288 with 2 Axes>"
      ]
     },
     "metadata": {
      "needs_background": "light"
     },
     "output_type": "display_data"
    }
   ],
   "source": [
    "explore_data.plot_confusion_matrix(val_target, descr_pred_df['pred_combo'], classes, normalize=True)"
   ]
  },
  {
   "cell_type": "code",
   "execution_count": 36,
   "metadata": {},
   "outputs": [
    {
     "data": {
      "image/png": "[encoded data removed]",
      "text/plain": [
       "<Figure size 720x720 with 2 Axes>"
      ]
     },
     "metadata": {
      "needs_background": "light"
     },
     "output_type": "display_data"
    }
   ],
   "source": [
    "explore_data.plot_calibration_curve(val_target, descr_pred_df['pred_probs_combo'], 'Ethnicity')"
   ]
  },
  {
   "cell_type": "code",
   "execution_count": 96,
   "metadata": {},
   "outputs": [
    {
     "data": {
      "image/png": "[encoded data removed]",
      "text/plain": [
       "<Figure size 432x288 with 1 Axes>"
      ]
     },
     "metadata": {
      "needs_background": "light"
     },
     "output_type": "display_data"
    }
   ],
   "source": [
    "_=plt.hist(descr_pred_df[descr_pred_df.NonWhite==1]['pred_probs_combo'], alpha=0.5)\n",
    "_=plt.hist(descr_pred_df[descr_pred_df.NonWhite==0]['pred_probs_combo'], alpha=0.5)\n",
    "plt.show()"
   ]
  },
  {
   "cell_type": "code",
   "execution_count": 37,
   "metadata": {},
   "outputs": [
    {
     "name": "stdout",
     "output_type": "stream",
     "text": [
      "Validation sample means:\n",
      "      Gender_F  Ethinicity_NW     AvgAge   Party_D  Chamber_H  AvgWordCount\n",
      "base  0.175939            0.5  58.427562  0.690738   0.694876    376.978469\n"
     ]
    },
    {
     "data": {
      "text/html": [
       "<div>\n",
       "<style scoped>\n",
       "    .dataframe tbody tr th:only-of-type {\n",
       "        vertical-align: middle;\n",
       "    }\n",
       "\n",
       "    .dataframe tbody tr th {\n",
       "        vertical-align: top;\n",
       "    }\n",
       "\n",
       "    .dataframe thead th {\n",
       "        text-align: right;\n",
       "    }\n",
       "</style>\n",
       "<table border=\"1\" class=\"dataframe\">\n",
       "  <thead>\n",
       "    <tr style=\"text-align: right;\">\n",
       "      <th></th>\n",
       "      <th>Gender_F</th>\n",
       "      <th>Ethinicity_NW</th>\n",
       "      <th>AvgAge</th>\n",
       "      <th>Party_D</th>\n",
       "      <th>Chamber_H</th>\n",
       "      <th>AvgWordCount</th>\n",
       "    </tr>\n",
       "  </thead>\n",
       "  <tbody>\n",
       "    <tr>\n",
       "      <th>0.4</th>\n",
       "      <td>0.41</td>\n",
       "      <td>0.39</td>\n",
       "      <td>0.99</td>\n",
       "      <td>0.77</td>\n",
       "      <td>0.66</td>\n",
       "      <td>1.08</td>\n",
       "    </tr>\n",
       "    <tr>\n",
       "      <th>0.6</th>\n",
       "      <td>0.94</td>\n",
       "      <td>1.09</td>\n",
       "      <td>0.99</td>\n",
       "      <td>1.04</td>\n",
       "      <td>1.21</td>\n",
       "      <td>0.86</td>\n",
       "    </tr>\n",
       "    <tr>\n",
       "      <th>1.0</th>\n",
       "      <td>1.84</td>\n",
       "      <td>1.75</td>\n",
       "      <td>1.01</td>\n",
       "      <td>1.29</td>\n",
       "      <td>1.30</td>\n",
       "      <td>1.00</td>\n",
       "    </tr>\n",
       "  </tbody>\n",
       "</table>\n",
       "</div>"
      ],
      "text/plain": [
       "     Gender_F  Ethinicity_NW  AvgAge  Party_D  Chamber_H  AvgWordCount\n",
       "0.4      0.41           0.39    0.99     0.77       0.66          1.08\n",
       "0.6      0.94           1.09    0.99     1.04       1.21          0.86\n",
       "1.0      1.84           1.75    1.01     1.29       1.30          1.00"
      ]
     },
     "execution_count": 37,
     "metadata": {},
     "output_type": "execute_result"
    }
   ],
   "source": [
    "reload(explore_data)\n",
    "# checking the ratios of demo variables in low-mid-high probability buckets\n",
    "explore_data.check_bin_probs_distr(descr_pred_df['pred_probs_combo'], \n",
    "                                   val_ids, \n",
    "                                   descr_df.set_index('speech_id'))"
   ]
  },
  {
   "cell_type": "code",
   "execution_count": 38,
   "metadata": {},
   "outputs": [
    {
     "name": "stdout",
     "output_type": "stream",
     "text": [
      "\n",
      "Top 20 ngrams by differentiating score:\n"
     ]
    },
    {
     "data": {
      "text/html": [
       "<div>\n",
       "<style scoped>\n",
       "    .dataframe tbody tr th:only-of-type {\n",
       "        vertical-align: middle;\n",
       "    }\n",
       "\n",
       "    .dataframe tbody tr th {\n",
       "        vertical-align: top;\n",
       "    }\n",
       "\n",
       "    .dataframe thead th {\n",
       "        text-align: right;\n",
       "    }\n",
       "</style>\n",
       "<table border=\"1\" class=\"dataframe\">\n",
       "  <thead>\n",
       "    <tr style=\"text-align: right;\">\n",
       "      <th></th>\n",
       "      <th>ngram</th>\n",
       "      <th>&lt;0.4</th>\n",
       "      <th>&lt;0.6</th>\n",
       "      <th>&lt;1.0</th>\n",
       "      <th>score</th>\n",
       "    </tr>\n",
       "  </thead>\n",
       "  <tbody>\n",
       "    <tr>\n",
       "      <th>0</th>\n",
       "      <td>black</td>\n",
       "      <td>411.0</td>\n",
       "      <td>495.0</td>\n",
       "      <td>5525.0</td>\n",
       "      <td>716.0</td>\n",
       "    </tr>\n",
       "    <tr>\n",
       "      <th>1</th>\n",
       "      <td>african</td>\n",
       "      <td>165.0</td>\n",
       "      <td>259.0</td>\n",
       "      <td>3246.0</td>\n",
       "      <td>524.0</td>\n",
       "    </tr>\n",
       "    <tr>\n",
       "      <th>2</th>\n",
       "      <td>caucus</td>\n",
       "      <td>335.0</td>\n",
       "      <td>215.0</td>\n",
       "      <td>2287.0</td>\n",
       "      <td>496.0</td>\n",
       "    </tr>\n",
       "    <tr>\n",
       "      <th>3</th>\n",
       "      <td>consume</td>\n",
       "      <td>465.0</td>\n",
       "      <td>1119.0</td>\n",
       "      <td>1462.0</td>\n",
       "      <td>469.0</td>\n",
       "    </tr>\n",
       "    <tr>\n",
       "      <th>4</th>\n",
       "      <td>senators</td>\n",
       "      <td>4338.0</td>\n",
       "      <td>793.0</td>\n",
       "      <td>1069.0</td>\n",
       "      <td>343.0</td>\n",
       "    </tr>\n",
       "    <tr>\n",
       "      <th>5</th>\n",
       "      <td>civil</td>\n",
       "      <td>1284.0</td>\n",
       "      <td>1312.0</td>\n",
       "      <td>3860.0</td>\n",
       "      <td>326.0</td>\n",
       "    </tr>\n",
       "    <tr>\n",
       "      <th>6</th>\n",
       "      <td>minorities</td>\n",
       "      <td>119.0</td>\n",
       "      <td>145.0</td>\n",
       "      <td>1249.0</td>\n",
       "      <td>321.0</td>\n",
       "    </tr>\n",
       "    <tr>\n",
       "      <th>7</th>\n",
       "      <td>gentlewoman</td>\n",
       "      <td>402.0</td>\n",
       "      <td>676.0</td>\n",
       "      <td>1586.0</td>\n",
       "      <td>320.0</td>\n",
       "    </tr>\n",
       "    <tr>\n",
       "      <th>8</th>\n",
       "      <td>congressional</td>\n",
       "      <td>2665.0</td>\n",
       "      <td>1567.0</td>\n",
       "      <td>4543.0</td>\n",
       "      <td>317.0</td>\n",
       "    </tr>\n",
       "    <tr>\n",
       "      <th>9</th>\n",
       "      <td>printed</td>\n",
       "      <td>1711.0</td>\n",
       "      <td>440.0</td>\n",
       "      <td>307.0</td>\n",
       "      <td>312.0</td>\n",
       "    </tr>\n",
       "    <tr>\n",
       "      <th>10</th>\n",
       "      <td>honor</td>\n",
       "      <td>2147.0</td>\n",
       "      <td>1531.0</td>\n",
       "      <td>3612.0</td>\n",
       "      <td>309.0</td>\n",
       "    </tr>\n",
       "    <tr>\n",
       "      <th>11</th>\n",
       "      <td>city</td>\n",
       "      <td>2331.0</td>\n",
       "      <td>1717.0</td>\n",
       "      <td>5035.0</td>\n",
       "      <td>305.0</td>\n",
       "    </tr>\n",
       "    <tr>\n",
       "      <th>12</th>\n",
       "      <td>might</td>\n",
       "      <td>4003.0</td>\n",
       "      <td>1199.0</td>\n",
       "      <td>1276.0</td>\n",
       "      <td>264.0</td>\n",
       "    </tr>\n",
       "    <tr>\n",
       "      <th>13</th>\n",
       "      <td>her</td>\n",
       "      <td>6404.0</td>\n",
       "      <td>3697.0</td>\n",
       "      <td>11842.0</td>\n",
       "      <td>264.0</td>\n",
       "    </tr>\n",
       "    <tr>\n",
       "      <th>14</th>\n",
       "      <td>hispanic</td>\n",
       "      <td>64.0</td>\n",
       "      <td>132.0</td>\n",
       "      <td>1514.0</td>\n",
       "      <td>261.0</td>\n",
       "    </tr>\n",
       "    <tr>\n",
       "      <th>15</th>\n",
       "      <td>africanamerican</td>\n",
       "      <td>30.0</td>\n",
       "      <td>62.0</td>\n",
       "      <td>912.0</td>\n",
       "      <td>255.0</td>\n",
       "    </tr>\n",
       "    <tr>\n",
       "      <th>16</th>\n",
       "      <td>brooklyn</td>\n",
       "      <td>29.0</td>\n",
       "      <td>60.0</td>\n",
       "      <td>811.0</td>\n",
       "      <td>251.0</td>\n",
       "    </tr>\n",
       "    <tr>\n",
       "      <th>17</th>\n",
       "      <td>texas</td>\n",
       "      <td>1650.0</td>\n",
       "      <td>1237.0</td>\n",
       "      <td>3833.0</td>\n",
       "      <td>248.0</td>\n",
       "    </tr>\n",
       "    <tr>\n",
       "      <th>18</th>\n",
       "      <td>women</td>\n",
       "      <td>3451.0</td>\n",
       "      <td>3023.0</td>\n",
       "      <td>7376.0</td>\n",
       "      <td>247.0</td>\n",
       "    </tr>\n",
       "    <tr>\n",
       "      <th>19</th>\n",
       "      <td>honoring</td>\n",
       "      <td>279.0</td>\n",
       "      <td>259.0</td>\n",
       "      <td>818.0</td>\n",
       "      <td>232.0</td>\n",
       "    </tr>\n",
       "  </tbody>\n",
       "</table>\n",
       "</div>"
      ],
      "text/plain": [
       "              ngram    <0.4    <0.6     <1.0  score\n",
       "0             black   411.0   495.0   5525.0  716.0\n",
       "1           african   165.0   259.0   3246.0  524.0\n",
       "2            caucus   335.0   215.0   2287.0  496.0\n",
       "3           consume   465.0  1119.0   1462.0  469.0\n",
       "4          senators  4338.0   793.0   1069.0  343.0\n",
       "5             civil  1284.0  1312.0   3860.0  326.0\n",
       "6        minorities   119.0   145.0   1249.0  321.0\n",
       "7       gentlewoman   402.0   676.0   1586.0  320.0\n",
       "8     congressional  2665.0  1567.0   4543.0  317.0\n",
       "9           printed  1711.0   440.0    307.0  312.0\n",
       "10            honor  2147.0  1531.0   3612.0  309.0\n",
       "11             city  2331.0  1717.0   5035.0  305.0\n",
       "12            might  4003.0  1199.0   1276.0  264.0\n",
       "13              her  6404.0  3697.0  11842.0  264.0\n",
       "14         hispanic    64.0   132.0   1514.0  261.0\n",
       "15  africanamerican    30.0    62.0    912.0  255.0\n",
       "16         brooklyn    29.0    60.0    811.0  251.0\n",
       "17            texas  1650.0  1237.0   3833.0  248.0\n",
       "18            women  3451.0  3023.0   7376.0  247.0\n",
       "19         honoring   279.0   259.0    818.0  232.0"
      ]
     },
     "execution_count": 38,
     "metadata": {},
     "output_type": "execute_result"
    }
   ],
   "source": [
    "reload(explore_data)\n",
    "explore_data.compare_ngrams(val_list, descr_pred_df['pred_probs_combo'], \n",
    "                            ngram_range=(1, 1),\n",
    "                            top_k=20)"
   ]
  },
  {
   "cell_type": "markdown",
   "metadata": {},
   "source": [
    "### Adding topics"
   ]
  },
  {
   "cell_type": "code",
   "execution_count": 39,
   "metadata": {},
   "outputs": [
    {
     "data": {
      "text/plain": [
       "(62840, 7)"
      ]
     },
     "execution_count": 39,
     "metadata": {},
     "output_type": "execute_result"
    }
   ],
   "source": [
    "ldadata_path = main_dir+'final-project/LDA/data/'\n",
    "all_speeches_topics_df = pd.read_pickle(ldadata_path+'speeches_topics_ethnicity_36')\n",
    "all_speeches_topics_df.Speech_id = all_speeches_topics_df.Speech_id.astype('int')\n",
    "all_speeches_topics_df.shape"
   ]
  },
  {
   "cell_type": "code",
   "execution_count": 40,
   "metadata": {},
   "outputs": [
    {
     "data": {
      "text/plain": [
       "(62840, 30)"
      ]
     },
     "execution_count": 40,
     "metadata": {},
     "output_type": "execute_result"
    }
   ],
   "source": [
    "topic_pred_df = descr_pred_df.merge(all_speeches_topics_df, \n",
    "                               left_on='speech_id',\n",
    "                               right_on='Speech_id')\n",
    "topic_pred_df.shape"
   ]
  },
  {
   "cell_type": "code",
   "execution_count": 41,
   "metadata": {},
   "outputs": [],
   "source": [
    "topic_names = pd.read_csv(os.path.join(ldadata_path, 'ethnicity_topics.txt'), sep=\"|\", header=None, names=[\"Prim_Topic\", \"Prim_Topic_Name\"])"
   ]
  },
  {
   "cell_type": "code",
   "execution_count": 42,
   "metadata": {},
   "outputs": [],
   "source": [
    "topic_pred_df = topic_pred_df.merge(topic_names, on='Prim_Topic')"
   ]
  },
  {
   "cell_type": "markdown",
   "metadata": {},
   "source": [
    "## Congressperson level analysis"
   ]
  },
  {
   "cell_type": "code",
   "execution_count": 43,
   "metadata": {},
   "outputs": [
    {
     "data": {
      "text/plain": [
       "(1702, 10)"
      ]
     },
     "execution_count": 43,
     "metadata": {},
     "output_type": "execute_result"
    }
   ],
   "source": [
    "speaker_df = topic_pred_df[['Full Name', 'Party', 'State', 'Female', 'NonWhite', 'Age', 'pred_probs_combo', 'speech_id', 'Topic_Count']]\\\n",
    "                .groupby(['Full Name', 'Party', 'State', 'Female', 'NonWhite'])\\\n",
    "                .agg({'pred_probs_combo':['mean'], 'Age': ['mean'], 'speech_id': ['count'], 'Topic_Count': ['mean']})\n",
    "speaker_df.columns = ['_'.join(col) for col in speaker_df.columns]\n",
    "speaker_df.reset_index(inplace=True)\n",
    "speaker_df['NonWhite_pred'] = speaker_df.pred_probs_combo_mean > 0.5\n",
    "speaker_df.shape"
   ]
  },
  {
   "cell_type": "code",
   "execution_count": 44,
   "metadata": {},
   "outputs": [
    {
     "data": {
      "text/plain": [
       "0.13337250293772032"
      ]
     },
     "execution_count": 44,
     "metadata": {},
     "output_type": "execute_result"
    }
   ],
   "source": [
    "speaker_df.NonWhite.mean()"
   ]
  },
  {
   "cell_type": "code",
   "execution_count": 45,
   "metadata": {},
   "outputs": [
    {
     "data": {
      "text/plain": [
       "0.8683901292596945"
      ]
     },
     "execution_count": 45,
     "metadata": {},
     "output_type": "execute_result"
    }
   ],
   "source": [
    "np.mean(speaker_df.NonWhite==speaker_df.NonWhite_pred)"
   ]
  },
  {
   "cell_type": "code",
   "execution_count": 46,
   "metadata": {},
   "outputs": [
    {
     "name": "stdout",
     "output_type": "stream",
     "text": [
      "Confusion matrix, without normalization\n",
      "[[1284  191]\n",
      " [  33  194]]\n",
      "              precision    recall  f1-score   support\n",
      "\n",
      "       White       0.97      0.87      0.92      1475\n",
      "    NonWhite       0.50      0.85      0.63       227\n",
      "\n",
      "   micro avg       0.87      0.87      0.87      1702\n",
      "   macro avg       0.74      0.86      0.78      1702\n",
      "weighted avg       0.91      0.87      0.88      1702\n",
      "\n"
     ]
    },
    {
     "data": {
      "text/plain": [
       "<matplotlib.axes._subplots.AxesSubplot at 0x7f4c75c26438>"
      ]
     },
     "execution_count": 46,
     "metadata": {},
     "output_type": "execute_result"
    },
    {
     "data": {
      "image/png": "[encoded data removed]",
      "text/plain": [
       "<Figure size 432x288 with 2 Axes>"
      ]
     },
     "metadata": {
      "needs_background": "light"
     },
     "output_type": "display_data"
    }
   ],
   "source": [
    "explore_data.plot_confusion_matrix(speaker_df.NonWhite, speaker_df.NonWhite_pred, classes, normalize=True)"
   ]
  },
  {
   "cell_type": "code",
   "execution_count": 47,
   "metadata": {},
   "outputs": [
    {
     "data": {
      "image/png": "[encoded data removed]",
      "text/plain": [
       "<Figure size 720x720 with 2 Axes>"
      ]
     },
     "metadata": {
      "needs_background": "light"
     },
     "output_type": "display_data"
    }
   ],
   "source": [
    "explore_data.plot_calibration_curve(speaker_df.NonWhite, speaker_df['pred_probs_combo_mean'], 'Ethnicity')"
   ]
  },
  {
   "cell_type": "code",
   "execution_count": 97,
   "metadata": {},
   "outputs": [
    {
     "data": {
      "image/png": "[encoded data removed]",
      "text/plain": [
       "<Figure size 432x288 with 1 Axes>"
      ]
     },
     "metadata": {
      "needs_background": "light"
     },
     "output_type": "display_data"
    }
   ],
   "source": [
    "_=plt.hist(speaker_df[speaker_df.NonWhite==1]['pred_probs_combo_mean'], alpha=0.5)\n",
    "_=plt.hist(speaker_df[speaker_df.NonWhite==0]['pred_probs_combo_mean'], alpha=0.5)\n",
    "plt.show()"
   ]
  },
  {
   "cell_type": "code",
   "execution_count": 98,
   "metadata": {},
   "outputs": [
    {
     "data": {
      "image/png": "[encoded data removed]",
      "text/plain": [
       "<Figure size 432x288 with 1 Axes>"
      ]
     },
     "metadata": {
      "needs_background": "light"
     },
     "output_type": "display_data"
    }
   ],
   "source": [
    "_=plt.hist(speaker_df[(speaker_df.NonWhite==1) & (speaker_df.speech_id_count>speaker_df.speech_id_count.median())]['pred_probs_combo_mean'], alpha=0.5)\n",
    "_=plt.hist(speaker_df[(speaker_df.NonWhite==0) & (speaker_df.speech_id_count>speaker_df.speech_id_count.median())]['pred_probs_combo_mean'], alpha=0.5)\n",
    "plt.show()"
   ]
  },
  {
   "cell_type": "markdown",
   "metadata": {},
   "source": [
    "### Checking misclassifications"
   ]
  },
  {
   "cell_type": "code",
   "execution_count": 48,
   "metadata": {},
   "outputs": [
    {
     "data": {
      "text/plain": [
       "count    191.000000\n",
       "mean       8.062827\n",
       "std       11.302828\n",
       "min        1.000000\n",
       "25%        2.000000\n",
       "50%        4.000000\n",
       "75%        9.000000\n",
       "max       78.000000\n",
       "Name: speech_id_count, dtype: float64"
      ]
     },
     "execution_count": 48,
     "metadata": {},
     "output_type": "execute_result"
    }
   ],
   "source": [
    "speaker_df[(speaker_df.NonWhite==0) & (speaker_df.NonWhite_pred==1)].speech_id_count.describe()"
   ]
  },
  {
   "cell_type": "code",
   "execution_count": 49,
   "metadata": {},
   "outputs": [
    {
     "data": {
      "text/plain": [
       "count     33.000000\n",
       "mean      94.030303\n",
       "std       85.695130\n",
       "min        1.000000\n",
       "25%       29.000000\n",
       "50%       79.000000\n",
       "75%      141.000000\n",
       "max      375.000000\n",
       "Name: speech_id_count, dtype: float64"
      ]
     },
     "execution_count": 49,
     "metadata": {},
     "output_type": "execute_result"
    }
   ],
   "source": [
    "speaker_df[(speaker_df.NonWhite==1) & (speaker_df.NonWhite_pred==0)].speech_id_count.describe()"
   ]
  },
  {
   "cell_type": "code",
   "execution_count": 50,
   "metadata": {},
   "outputs": [
    {
     "data": {
      "text/html": [
       "<div>\n",
       "<style scoped>\n",
       "    .dataframe tbody tr th:only-of-type {\n",
       "        vertical-align: middle;\n",
       "    }\n",
       "\n",
       "    .dataframe tbody tr th {\n",
       "        vertical-align: top;\n",
       "    }\n",
       "\n",
       "    .dataframe thead th {\n",
       "        text-align: right;\n",
       "    }\n",
       "</style>\n",
       "<table border=\"1\" class=\"dataframe\">\n",
       "  <thead>\n",
       "    <tr style=\"text-align: right;\">\n",
       "      <th></th>\n",
       "      <th>Full Name</th>\n",
       "      <th>Party</th>\n",
       "      <th>State</th>\n",
       "      <th>Female</th>\n",
       "      <th>NonWhite</th>\n",
       "      <th>Age_mean</th>\n",
       "      <th>Topic_Count_mean</th>\n",
       "      <th>speech_id_count</th>\n",
       "      <th>pred_probs_combo_mean</th>\n",
       "      <th>NonWhite_pred</th>\n",
       "    </tr>\n",
       "  </thead>\n",
       "  <tbody>\n",
       "    <tr>\n",
       "      <th>1111</th>\n",
       "      <td>MITCHELL, GEORGE</td>\n",
       "      <td>D</td>\n",
       "      <td>ME</td>\n",
       "      <td>0.0</td>\n",
       "      <td>1.0</td>\n",
       "      <td>57.953478</td>\n",
       "      <td>4.980193</td>\n",
       "      <td>2171</td>\n",
       "      <td>0.554532</td>\n",
       "      <td>True</td>\n",
       "    </tr>\n",
       "  </tbody>\n",
       "</table>\n",
       "</div>"
      ],
      "text/plain": [
       "             Full Name Party State  Female  NonWhite   Age_mean  \\\n",
       "1111  MITCHELL, GEORGE     D    ME     0.0       1.0  57.953478   \n",
       "\n",
       "      Topic_Count_mean  speech_id_count  pred_probs_combo_mean  NonWhite_pred  \n",
       "1111          4.980193             2171               0.554532           True  "
      ]
     },
     "execution_count": 50,
     "metadata": {},
     "output_type": "execute_result"
    }
   ],
   "source": [
    "speaker_df[speaker_df.speech_id_count==speaker_df.speech_id_count.max()]"
   ]
  },
  {
   "cell_type": "code",
   "execution_count": 51,
   "metadata": {},
   "outputs": [
    {
     "data": {
      "text/html": [
       "<div>\n",
       "<style scoped>\n",
       "    .dataframe tbody tr th:only-of-type {\n",
       "        vertical-align: middle;\n",
       "    }\n",
       "\n",
       "    .dataframe tbody tr th {\n",
       "        vertical-align: top;\n",
       "    }\n",
       "\n",
       "    .dataframe thead th {\n",
       "        text-align: right;\n",
       "    }\n",
       "</style>\n",
       "<table border=\"1\" class=\"dataframe\">\n",
       "  <thead>\n",
       "    <tr style=\"text-align: right;\">\n",
       "      <th></th>\n",
       "      <th>Full Name</th>\n",
       "      <th>Party</th>\n",
       "      <th>State</th>\n",
       "      <th>Female</th>\n",
       "      <th>NonWhite</th>\n",
       "      <th>Age_mean</th>\n",
       "      <th>Topic_Count_mean</th>\n",
       "      <th>speech_id_count</th>\n",
       "      <th>pred_probs_combo_mean</th>\n",
       "      <th>NonWhite_pred</th>\n",
       "    </tr>\n",
       "  </thead>\n",
       "  <tbody>\n",
       "    <tr>\n",
       "      <th>1190</th>\n",
       "      <td>OROURKE, BETO</td>\n",
       "      <td>D</td>\n",
       "      <td>TX</td>\n",
       "      <td>0.0</td>\n",
       "      <td>0.0</td>\n",
       "      <td>42.0</td>\n",
       "      <td>6.0</td>\n",
       "      <td>1</td>\n",
       "      <td>0.950278</td>\n",
       "      <td>True</td>\n",
       "    </tr>\n",
       "    <tr>\n",
       "      <th>567</th>\n",
       "      <td>FRANKEL, LOIS</td>\n",
       "      <td>D</td>\n",
       "      <td>FL</td>\n",
       "      <td>1.0</td>\n",
       "      <td>0.0</td>\n",
       "      <td>68.0</td>\n",
       "      <td>8.0</td>\n",
       "      <td>1</td>\n",
       "      <td>0.937474</td>\n",
       "      <td>True</td>\n",
       "    </tr>\n",
       "    <tr>\n",
       "      <th>717</th>\n",
       "      <td>HEFTEL, CECIL</td>\n",
       "      <td>D</td>\n",
       "      <td>HI</td>\n",
       "      <td>0.0</td>\n",
       "      <td>0.0</td>\n",
       "      <td>60.0</td>\n",
       "      <td>10.0</td>\n",
       "      <td>1</td>\n",
       "      <td>0.895615</td>\n",
       "      <td>True</td>\n",
       "    </tr>\n",
       "    <tr>\n",
       "      <th>1251</th>\n",
       "      <td>PITTENGER, ROBERT</td>\n",
       "      <td>R</td>\n",
       "      <td>NC</td>\n",
       "      <td>0.0</td>\n",
       "      <td>0.0</td>\n",
       "      <td>68.0</td>\n",
       "      <td>2.0</td>\n",
       "      <td>1</td>\n",
       "      <td>0.880507</td>\n",
       "      <td>True</td>\n",
       "    </tr>\n",
       "    <tr>\n",
       "      <th>371</th>\n",
       "      <td>CURSON, DAVID</td>\n",
       "      <td>D</td>\n",
       "      <td>MI</td>\n",
       "      <td>0.0</td>\n",
       "      <td>0.0</td>\n",
       "      <td>64.0</td>\n",
       "      <td>6.0</td>\n",
       "      <td>1</td>\n",
       "      <td>0.873734</td>\n",
       "      <td>True</td>\n",
       "    </tr>\n",
       "  </tbody>\n",
       "</table>\n",
       "</div>"
      ],
      "text/plain": [
       "              Full Name Party State  Female  NonWhite  Age_mean  \\\n",
       "1190      OROURKE, BETO     D    TX     0.0       0.0      42.0   \n",
       "567       FRANKEL, LOIS     D    FL     1.0       0.0      68.0   \n",
       "717       HEFTEL, CECIL     D    HI     0.0       0.0      60.0   \n",
       "1251  PITTENGER, ROBERT     R    NC     0.0       0.0      68.0   \n",
       "371       CURSON, DAVID     D    MI     0.0       0.0      64.0   \n",
       "\n",
       "      Topic_Count_mean  speech_id_count  pred_probs_combo_mean  NonWhite_pred  \n",
       "1190               6.0                1               0.950278           True  \n",
       "567                8.0                1               0.937474           True  \n",
       "717               10.0                1               0.895615           True  \n",
       "1251               2.0                1               0.880507           True  \n",
       "371                6.0                1               0.873734           True  "
      ]
     },
     "execution_count": 51,
     "metadata": {},
     "output_type": "execute_result"
    }
   ],
   "source": [
    "speaker_df[(speaker_df.NonWhite==0) & (speaker_df.NonWhite_pred==1)].sort_values(by='pred_probs_combo_mean', ascending=False).head()"
   ]
  },
  {
   "cell_type": "code",
   "execution_count": 52,
   "metadata": {},
   "outputs": [
    {
     "data": {
      "text/plain": [
       "59988    1130101735\n",
       "Name: speech_id, dtype: int64"
      ]
     },
     "execution_count": 52,
     "metadata": {},
     "output_type": "execute_result"
    }
   ],
   "source": [
    "descr_pred_df[descr_pred_df['Full Name']=='OROURKE, BETO'].speech_id"
   ]
  },
  {
   "cell_type": "code",
   "execution_count": 53,
   "metadata": {},
   "outputs": [
    {
     "data": {
      "text/plain": [
       "'Mr. Speaker. I rise today to recognize Maestro Phillip Gabriel Garcia. founder of the El Paso Youth Symphony Orchestra (EPYSO). As the conductor and head of operations for this organization. Maestro Garcia provides a valuable service to the children of El Paso and its citizens. Through the development of \"The Band Against Bullying Tour\". the EPYSO built a bridge between music and social justice awareness. EPYSO helped raise consciousness of the negative effects that bullying has on the victims and the communitys quality of life with their performances throughout El Paso. By using music as a means to educate the community. Maestro Garcia demonstrates his creative and passionate work ethic to improve his community. With over 200 concerts performed. EPYSO gives kids the opportunity to see how music can positively reinforce their selfesteem through personal achievements as musicians and performances to their community. While performing at the Child Crisis Center. the Battered Women Shelter. Ft. Bliss. and La Fe Community Health Center. kids experience the joy that their music brings to the public. More so. EPYSO champions community service. raising money to feed the homeless at the Feeding the Nations Homeless benefit concert and serving food to the homeless for Thanksgiving. EPYSO continues to impact its participants and the rest of the public by remaining viable and relevant to their community. EPYSO and Maestro Phillip Garcia will continue to profoundly impact the El Paso community by continuing to connect their artistic endeavors with service. I am proud that this organization and Maestro Garcia are using music to contribute to the El Paso community. and I hope their message continues inspire our young citizens enthusiasm for serving their community.'"
      ]
     },
     "execution_count": 53,
     "metadata": {},
     "output_type": "execute_result"
    }
   ],
   "source": [
    "val_list[val_ids.index('1130101735')]"
   ]
  },
  {
   "cell_type": "code",
   "execution_count": 54,
   "metadata": {},
   "outputs": [],
   "source": [
    "keep_cols = [\n",
    "    'date',\n",
    "    'word_count',\n",
    "    'Party',\n",
    "    'Congress',\n",
    "    'Chamber',\n",
    "    'State',\n",
    "    'Ethnicity',\n",
    "    'Age',\n",
    "    'Female',\n",
    "    'Full Name',\n",
    "    'pred_probs_mlp_ngram',\n",
    "    'pred_probs_cnn',\n",
    "    'pred_probs_cnn_chunk',\n",
    "    'pred_probs_combo',\n",
    "    'Prim_Topic_Name',\n",
    "    'Prim_Topic_Contrib',\n",
    "    'Sec_Topic',\n",
    "    'Sec_Topic_Contrib',\n",
    "]"
   ]
  },
  {
   "cell_type": "code",
   "execution_count": 55,
   "metadata": {},
   "outputs": [
    {
     "data": {
      "text/html": [
       "<div>\n",
       "<style scoped>\n",
       "    .dataframe tbody tr th:only-of-type {\n",
       "        vertical-align: middle;\n",
       "    }\n",
       "\n",
       "    .dataframe tbody tr th {\n",
       "        vertical-align: top;\n",
       "    }\n",
       "\n",
       "    .dataframe thead th {\n",
       "        text-align: right;\n",
       "    }\n",
       "</style>\n",
       "<table border=\"1\" class=\"dataframe\">\n",
       "  <thead>\n",
       "    <tr style=\"text-align: right;\">\n",
       "      <th></th>\n",
       "      <th>58022</th>\n",
       "    </tr>\n",
       "  </thead>\n",
       "  <tbody>\n",
       "    <tr>\n",
       "      <th>date</th>\n",
       "      <td>20140620</td>\n",
       "    </tr>\n",
       "    <tr>\n",
       "      <th>word_count</th>\n",
       "      <td>278</td>\n",
       "    </tr>\n",
       "    <tr>\n",
       "      <th>Party</th>\n",
       "      <td>D</td>\n",
       "    </tr>\n",
       "    <tr>\n",
       "      <th>Congress</th>\n",
       "      <td>113</td>\n",
       "    </tr>\n",
       "    <tr>\n",
       "      <th>Chamber</th>\n",
       "      <td>H</td>\n",
       "    </tr>\n",
       "    <tr>\n",
       "      <th>State</th>\n",
       "      <td>TX</td>\n",
       "    </tr>\n",
       "    <tr>\n",
       "      <th>Ethnicity</th>\n",
       "      <td>W</td>\n",
       "    </tr>\n",
       "    <tr>\n",
       "      <th>Age</th>\n",
       "      <td>42</td>\n",
       "    </tr>\n",
       "    <tr>\n",
       "      <th>Female</th>\n",
       "      <td>0</td>\n",
       "    </tr>\n",
       "    <tr>\n",
       "      <th>Full Name</th>\n",
       "      <td>OROURKE, BETO</td>\n",
       "    </tr>\n",
       "    <tr>\n",
       "      <th>pred_probs_mlp_ngram</th>\n",
       "      <td>0.985002</td>\n",
       "    </tr>\n",
       "    <tr>\n",
       "      <th>pred_probs_cnn</th>\n",
       "      <td>0.974208</td>\n",
       "    </tr>\n",
       "    <tr>\n",
       "      <th>pred_probs_cnn_chunk</th>\n",
       "      <td>0.891625</td>\n",
       "    </tr>\n",
       "    <tr>\n",
       "      <th>pred_probs_combo</th>\n",
       "      <td>0.950278</td>\n",
       "    </tr>\n",
       "    <tr>\n",
       "      <th>Prim_Topic_Name</th>\n",
       "      <td>Art and Culture</td>\n",
       "    </tr>\n",
       "    <tr>\n",
       "      <th>Prim_Topic_Contrib</th>\n",
       "      <td>0.42</td>\n",
       "    </tr>\n",
       "    <tr>\n",
       "      <th>Sec_Topic</th>\n",
       "      <td>17</td>\n",
       "    </tr>\n",
       "    <tr>\n",
       "      <th>Sec_Topic_Contrib</th>\n",
       "      <td>0.3</td>\n",
       "    </tr>\n",
       "  </tbody>\n",
       "</table>\n",
       "</div>"
      ],
      "text/plain": [
       "                                58022\n",
       "date                         20140620\n",
       "word_count                        278\n",
       "Party                               D\n",
       "Congress                          113\n",
       "Chamber                             H\n",
       "State                              TX\n",
       "Ethnicity                           W\n",
       "Age                                42\n",
       "Female                              0\n",
       "Full Name               OROURKE, BETO\n",
       "pred_probs_mlp_ngram         0.985002\n",
       "pred_probs_cnn               0.974208\n",
       "pred_probs_cnn_chunk         0.891625\n",
       "pred_probs_combo             0.950278\n",
       "Prim_Topic_Name       Art and Culture\n",
       "Prim_Topic_Contrib               0.42\n",
       "Sec_Topic                          17\n",
       "Sec_Topic_Contrib                 0.3"
      ]
     },
     "execution_count": 55,
     "metadata": {},
     "output_type": "execute_result"
    }
   ],
   "source": [
    "topic_pred_df[keep_cols][topic_pred_df['Full Name']=='OROURKE, BETO'].T"
   ]
  },
  {
   "cell_type": "code",
   "execution_count": 56,
   "metadata": {},
   "outputs": [
    {
     "data": {
      "text/html": [
       "<div>\n",
       "<style scoped>\n",
       "    .dataframe tbody tr th:only-of-type {\n",
       "        vertical-align: middle;\n",
       "    }\n",
       "\n",
       "    .dataframe tbody tr th {\n",
       "        vertical-align: top;\n",
       "    }\n",
       "\n",
       "    .dataframe thead tr th {\n",
       "        text-align: left;\n",
       "    }\n",
       "\n",
       "    .dataframe thead tr:last-of-type th {\n",
       "        text-align: right;\n",
       "    }\n",
       "</style>\n",
       "<table border=\"1\" class=\"dataframe\">\n",
       "  <thead>\n",
       "    <tr>\n",
       "      <th></th>\n",
       "      <th></th>\n",
       "      <th>Full Name</th>\n",
       "      <th colspan=\"3\" halign=\"left\">pred_probs_combo_mean</th>\n",
       "      <th>speech_id_count</th>\n",
       "    </tr>\n",
       "    <tr>\n",
       "      <th></th>\n",
       "      <th></th>\n",
       "      <th>count</th>\n",
       "      <th>min</th>\n",
       "      <th>mean</th>\n",
       "      <th>max</th>\n",
       "      <th>sum</th>\n",
       "    </tr>\n",
       "    <tr>\n",
       "      <th>NonWhite</th>\n",
       "      <th>NonWhite_pred</th>\n",
       "      <th></th>\n",
       "      <th></th>\n",
       "      <th></th>\n",
       "      <th></th>\n",
       "      <th></th>\n",
       "    </tr>\n",
       "  </thead>\n",
       "  <tbody>\n",
       "    <tr>\n",
       "      <th rowspan=\"2\" valign=\"top\">0.0</th>\n",
       "      <th>False</th>\n",
       "      <td>1284</td>\n",
       "      <td>0.076318</td>\n",
       "      <td>0.353600</td>\n",
       "      <td>0.499923</td>\n",
       "      <td>29880</td>\n",
       "    </tr>\n",
       "    <tr>\n",
       "      <th>True</th>\n",
       "      <td>191</td>\n",
       "      <td>0.500077</td>\n",
       "      <td>0.574785</td>\n",
       "      <td>0.950278</td>\n",
       "      <td>1540</td>\n",
       "    </tr>\n",
       "    <tr>\n",
       "      <th rowspan=\"2\" valign=\"top\">1.0</th>\n",
       "      <th>False</th>\n",
       "      <td>33</td>\n",
       "      <td>0.251377</td>\n",
       "      <td>0.412481</td>\n",
       "      <td>0.497635</td>\n",
       "      <td>3103</td>\n",
       "    </tr>\n",
       "    <tr>\n",
       "      <th>True</th>\n",
       "      <td>194</td>\n",
       "      <td>0.501571</td>\n",
       "      <td>0.669511</td>\n",
       "      <td>0.939788</td>\n",
       "      <td>28317</td>\n",
       "    </tr>\n",
       "  </tbody>\n",
       "</table>\n",
       "</div>"
      ],
      "text/plain": [
       "                       Full Name pred_probs_combo_mean                      \\\n",
       "                           count                   min      mean       max   \n",
       "NonWhite NonWhite_pred                                                       \n",
       "0.0      False              1284              0.076318  0.353600  0.499923   \n",
       "         True                191              0.500077  0.574785  0.950278   \n",
       "1.0      False                33              0.251377  0.412481  0.497635   \n",
       "         True                194              0.501571  0.669511  0.939788   \n",
       "\n",
       "                       speech_id_count  \n",
       "                                   sum  \n",
       "NonWhite NonWhite_pred                  \n",
       "0.0      False                   29880  \n",
       "         True                     1540  \n",
       "1.0      False                    3103  \n",
       "         True                    28317  "
      ]
     },
     "execution_count": 56,
     "metadata": {},
     "output_type": "execute_result"
    }
   ],
   "source": [
    "speaker_df[['pred_probs_combo_mean','NonWhite','NonWhite_pred', 'Full Name', 'speech_id_count']]\\\n",
    "            .groupby(['NonWhite','NonWhite_pred'])\\\n",
    "            .agg({'pred_probs_combo_mean': ['min','mean','max'],\n",
    "                  'Full Name': ['count'],\n",
    "                  'speech_id_count': ['sum']})"
   ]
  },
  {
   "cell_type": "markdown",
   "metadata": {},
   "source": [
    "#### Checking individual cases"
   ]
  },
  {
   "cell_type": "code",
   "execution_count": 57,
   "metadata": {},
   "outputs": [
    {
     "data": {
      "text/plain": [
       "11.0"
      ]
     },
     "execution_count": 57,
     "metadata": {},
     "output_type": "execute_result"
    }
   ],
   "source": [
    "speaker_df.speech_id_count.median()"
   ]
  },
  {
   "cell_type": "code",
   "execution_count": 58,
   "metadata": {},
   "outputs": [
    {
     "data": {
      "text/plain": [
       "(844, 10)"
      ]
     },
     "execution_count": 58,
     "metadata": {},
     "output_type": "execute_result"
    }
   ],
   "source": [
    "speaker_med_df = speaker_df[speaker_df.speech_id_count > speaker_df.speech_id_count.median()]\n",
    "speaker_med_df.shape"
   ]
  },
  {
   "cell_type": "code",
   "execution_count": 59,
   "metadata": {},
   "outputs": [
    {
     "data": {
      "text/plain": [
       "Full Name                JEFFRIES, HAKEEM\n",
       "Party                                   D\n",
       "State                                  NY\n",
       "Female                                  0\n",
       "NonWhite                                1\n",
       "Age_mean                          44.6136\n",
       "Topic_Count_mean                  8.26136\n",
       "speech_id_count                        88\n",
       "pred_probs_combo_mean            0.816514\n",
       "NonWhite_pred                        True\n",
       "Name: 806, dtype: object"
      ]
     },
     "execution_count": 59,
     "metadata": {},
     "output_type": "execute_result"
    }
   ],
   "source": [
    "tp = np.argmax(speaker_med_df[speaker_med_df.NonWhite==1].pred_probs_combo_mean.values)\n",
    "speaker_med_df[speaker_med_df.NonWhite==1].iloc[tp]"
   ]
  },
  {
   "cell_type": "code",
   "execution_count": 60,
   "metadata": {},
   "outputs": [
    {
     "data": {
      "text/plain": [
       "Full Name                CORKER, BOB\n",
       "Party                              R\n",
       "State                             TN\n",
       "Female                             0\n",
       "NonWhite                           0\n",
       "Age_mean                     59.6667\n",
       "Topic_Count_mean                6.75\n",
       "speech_id_count                   12\n",
       "pred_probs_combo_mean       0.151939\n",
       "NonWhite_pred                  False\n",
       "Name: 336, dtype: object"
      ]
     },
     "execution_count": 60,
     "metadata": {},
     "output_type": "execute_result"
    }
   ],
   "source": [
    "tn = np.argmin(speaker_med_df[speaker_med_df.NonWhite==0].pred_probs_combo_mean.values)\n",
    "speaker_med_df[speaker_med_df.NonWhite==0].iloc[tn]"
   ]
  },
  {
   "cell_type": "code",
   "execution_count": 61,
   "metadata": {},
   "outputs": [
    {
     "data": {
      "text/plain": [
       "Full Name                BORDALLO, MADELEINE\n",
       "Party                                      D\n",
       "State                                     GU\n",
       "Female                                     1\n",
       "NonWhite                                   0\n",
       "Age_mean                                75.4\n",
       "Topic_Count_mean                         7.4\n",
       "speech_id_count                           20\n",
       "pred_probs_combo_mean               0.737122\n",
       "NonWhite_pred                           True\n",
       "Name: 150, dtype: object"
      ]
     },
     "execution_count": 61,
     "metadata": {},
     "output_type": "execute_result"
    }
   ],
   "source": [
    "fp = np.argmax(speaker_med_df[speaker_med_df.NonWhite==0].pred_probs_combo_mean.values)\n",
    "speaker_med_df[speaker_med_df.NonWhite==0].iloc[fp]"
   ]
  },
  {
   "cell_type": "code",
   "execution_count": 62,
   "metadata": {},
   "outputs": [
    {
     "data": {
      "text/plain": [
       "Full Name                ABDNOR, JAMES\n",
       "Party                                R\n",
       "State                               SD\n",
       "Female                               0\n",
       "NonWhite                             1\n",
       "Age_mean                       61.5444\n",
       "Topic_Count_mean               6.99444\n",
       "speech_id_count                    180\n",
       "pred_probs_combo_mean         0.270671\n",
       "NonWhite_pred                    False\n",
       "Name: 0, dtype: object"
      ]
     },
     "execution_count": 62,
     "metadata": {},
     "output_type": "execute_result"
    }
   ],
   "source": [
    "fn = np.argmin(speaker_med_df[speaker_med_df.NonWhite==1].pred_probs_combo_mean.values)\n",
    "speaker_med_df[speaker_med_df.NonWhite==1].iloc[fn]"
   ]
  },
  {
   "cell_type": "code",
   "execution_count": 63,
   "metadata": {},
   "outputs": [
    {
     "data": {
      "text/plain": [
       "(36, 2)"
      ]
     },
     "execution_count": 63,
     "metadata": {},
     "output_type": "execute_result"
    }
   ],
   "source": [
    "topic_share = topic_pred_df[['Prim_Topic_Name', 'speech_id']].groupby('Prim_Topic_Name').count() / topic_pred_df.shape[0]\n",
    "topic_share.columns = ['topic_share']\n",
    "topic_share.reset_index(inplace=True)\n",
    "topic_share.shape"
   ]
  },
  {
   "cell_type": "code",
   "execution_count": 64,
   "metadata": {},
   "outputs": [
    {
     "data": {
      "text/html": [
       "<div>\n",
       "<style scoped>\n",
       "    .dataframe tbody tr th:only-of-type {\n",
       "        vertical-align: middle;\n",
       "    }\n",
       "\n",
       "    .dataframe tbody tr th {\n",
       "        vertical-align: top;\n",
       "    }\n",
       "\n",
       "    .dataframe thead th {\n",
       "        text-align: right;\n",
       "    }\n",
       "</style>\n",
       "<table border=\"1\" class=\"dataframe\">\n",
       "  <thead>\n",
       "    <tr style=\"text-align: right;\">\n",
       "      <th></th>\n",
       "      <th>NonWhite</th>\n",
       "      <th>pred_combo</th>\n",
       "      <th>pred_speech_cnt</th>\n",
       "    </tr>\n",
       "  </thead>\n",
       "  <tbody>\n",
       "    <tr>\n",
       "      <th>0</th>\n",
       "      <td>0.0</td>\n",
       "      <td>False</td>\n",
       "      <td>26159</td>\n",
       "    </tr>\n",
       "    <tr>\n",
       "      <th>1</th>\n",
       "      <td>0.0</td>\n",
       "      <td>True</td>\n",
       "      <td>5261</td>\n",
       "    </tr>\n",
       "    <tr>\n",
       "      <th>2</th>\n",
       "      <td>1.0</td>\n",
       "      <td>False</td>\n",
       "      <td>9378</td>\n",
       "    </tr>\n",
       "    <tr>\n",
       "      <th>3</th>\n",
       "      <td>1.0</td>\n",
       "      <td>True</td>\n",
       "      <td>22042</td>\n",
       "    </tr>\n",
       "  </tbody>\n",
       "</table>\n",
       "</div>"
      ],
      "text/plain": [
       "   NonWhite  pred_combo  pred_speech_cnt\n",
       "0       0.0       False            26159\n",
       "1       0.0        True             5261\n",
       "2       1.0       False             9378\n",
       "3       1.0        True            22042"
      ]
     },
     "execution_count": 64,
     "metadata": {},
     "output_type": "execute_result"
    }
   ],
   "source": [
    "pred_share = topic_pred_df[['NonWhite', 'pred_combo', 'speech_id']]\\\n",
    "                    .groupby(['NonWhite', 'pred_combo'])\\\n",
    "                    .count()\\\n",
    "                    .reset_index()\n",
    "pred_share.rename(columns = {'speech_id': 'pred_speech_cnt'}, inplace=True)\n",
    "pred_share"
   ]
  },
  {
   "cell_type": "code",
   "execution_count": 65,
   "metadata": {},
   "outputs": [
    {
     "data": {
      "text/plain": [
       "(144, 8)"
      ]
     },
     "execution_count": 65,
     "metadata": {},
     "output_type": "execute_result"
    }
   ],
   "source": [
    "topic_pred_share = topic_pred_df[['Prim_Topic_Name', 'NonWhite', 'pred_combo', 'speech_id']]\\\n",
    "                    .groupby(['Prim_Topic_Name', 'NonWhite', 'pred_combo'])\\\n",
    "                    .count()\\\n",
    "                    .reset_index()\n",
    "topic_pred_share.rename(columns = {'speech_id': 'topic_pred_speech_cnt'}, inplace=True)\n",
    "topic_pred_share = topic_pred_share.merge(topic_share, on='Prim_Topic_Name').merge(pred_share, on=['NonWhite', 'pred_combo'])\n",
    "topic_pred_share['topic_pred_share'] = topic_pred_share.topic_pred_speech_cnt/topic_pred_share.pred_speech_cnt\n",
    "topic_pred_share['topic_pred_share_index'] = topic_pred_share.topic_pred_share/topic_pred_share.topic_share\n",
    "topic_pred_share.shape"
   ]
  },
  {
   "cell_type": "code",
   "execution_count": 66,
   "metadata": {},
   "outputs": [
    {
     "data": {
      "text/html": [
       "<div>\n",
       "<style scoped>\n",
       "    .dataframe tbody tr th:only-of-type {\n",
       "        vertical-align: middle;\n",
       "    }\n",
       "\n",
       "    .dataframe tbody tr th {\n",
       "        vertical-align: top;\n",
       "    }\n",
       "\n",
       "    .dataframe thead th {\n",
       "        text-align: right;\n",
       "    }\n",
       "</style>\n",
       "<table border=\"1\" class=\"dataframe\">\n",
       "  <thead>\n",
       "    <tr style=\"text-align: right;\">\n",
       "      <th></th>\n",
       "      <th>Prim_Topic_Name</th>\n",
       "      <th>NonWhite</th>\n",
       "      <th>pred_combo</th>\n",
       "      <th>topic_pred_speech_cnt</th>\n",
       "      <th>topic_share</th>\n",
       "      <th>pred_speech_cnt</th>\n",
       "      <th>topic_pred_share</th>\n",
       "      <th>topic_pred_share_index</th>\n",
       "    </tr>\n",
       "  </thead>\n",
       "  <tbody>\n",
       "    <tr>\n",
       "      <th>109</th>\n",
       "      <td>Art and Culture</td>\n",
       "      <td>1.0</td>\n",
       "      <td>True</td>\n",
       "      <td>211</td>\n",
       "      <td>0.005188</td>\n",
       "      <td>22042</td>\n",
       "      <td>0.009573</td>\n",
       "      <td>1.845228</td>\n",
       "    </tr>\n",
       "    <tr>\n",
       "      <th>127</th>\n",
       "      <td>Great Nation</td>\n",
       "      <td>1.0</td>\n",
       "      <td>True</td>\n",
       "      <td>1100</td>\n",
       "      <td>0.027403</td>\n",
       "      <td>22042</td>\n",
       "      <td>0.049905</td>\n",
       "      <td>1.821146</td>\n",
       "    </tr>\n",
       "    <tr>\n",
       "      <th>118</th>\n",
       "      <td>Economy</td>\n",
       "      <td>1.0</td>\n",
       "      <td>True</td>\n",
       "      <td>577</td>\n",
       "      <td>0.015738</td>\n",
       "      <td>22042</td>\n",
       "      <td>0.026177</td>\n",
       "      <td>1.663277</td>\n",
       "    </tr>\n",
       "    <tr>\n",
       "      <th>111</th>\n",
       "      <td>Children's and Family Programs</td>\n",
       "      <td>1.0</td>\n",
       "      <td>True</td>\n",
       "      <td>684</td>\n",
       "      <td>0.018682</td>\n",
       "      <td>22042</td>\n",
       "      <td>0.031032</td>\n",
       "      <td>1.661014</td>\n",
       "    </tr>\n",
       "    <tr>\n",
       "      <th>116</th>\n",
       "      <td>Common Congressional Phrases 5</td>\n",
       "      <td>1.0</td>\n",
       "      <td>True</td>\n",
       "      <td>359</td>\n",
       "      <td>0.010041</td>\n",
       "      <td>22042</td>\n",
       "      <td>0.016287</td>\n",
       "      <td>1.621998</td>\n",
       "    </tr>\n",
       "  </tbody>\n",
       "</table>\n",
       "</div>"
      ],
      "text/plain": [
       "                    Prim_Topic_Name  NonWhite  pred_combo  \\\n",
       "109                 Art and Culture       1.0        True   \n",
       "127                    Great Nation       1.0        True   \n",
       "118                         Economy       1.0        True   \n",
       "111  Children's and Family Programs       1.0        True   \n",
       "116  Common Congressional Phrases 5       1.0        True   \n",
       "\n",
       "     topic_pred_speech_cnt  topic_share  pred_speech_cnt  topic_pred_share  \\\n",
       "109                    211     0.005188            22042          0.009573   \n",
       "127                   1100     0.027403            22042          0.049905   \n",
       "118                    577     0.015738            22042          0.026177   \n",
       "111                    684     0.018682            22042          0.031032   \n",
       "116                    359     0.010041            22042          0.016287   \n",
       "\n",
       "     topic_pred_share_index  \n",
       "109                1.845228  \n",
       "127                1.821146  \n",
       "118                1.663277  \n",
       "111                1.661014  \n",
       "116                1.621998  "
      ]
     },
     "execution_count": 66,
     "metadata": {},
     "output_type": "execute_result"
    }
   ],
   "source": [
    "topic_pred_share[(topic_pred_share.NonWhite==1) & (topic_pred_share.pred_combo==1)].sort_values(by='topic_pred_share_index', ascending=False).head()"
   ]
  },
  {
   "cell_type": "code",
   "execution_count": 67,
   "metadata": {},
   "outputs": [
    {
     "data": {
      "text/html": [
       "<div>\n",
       "<style scoped>\n",
       "    .dataframe tbody tr th:only-of-type {\n",
       "        vertical-align: middle;\n",
       "    }\n",
       "\n",
       "    .dataframe tbody tr th {\n",
       "        vertical-align: top;\n",
       "    }\n",
       "\n",
       "    .dataframe thead th {\n",
       "        text-align: right;\n",
       "    }\n",
       "</style>\n",
       "<table border=\"1\" class=\"dataframe\">\n",
       "  <thead>\n",
       "    <tr style=\"text-align: right;\">\n",
       "      <th></th>\n",
       "      <th>Prim_Topic_Name</th>\n",
       "      <th>NonWhite</th>\n",
       "      <th>pred_combo</th>\n",
       "      <th>topic_pred_speech_cnt</th>\n",
       "      <th>topic_share</th>\n",
       "      <th>pred_speech_cnt</th>\n",
       "      <th>topic_pred_share</th>\n",
       "      <th>topic_pred_share_index</th>\n",
       "    </tr>\n",
       "  </thead>\n",
       "  <tbody>\n",
       "    <tr>\n",
       "      <th>17</th>\n",
       "      <td>Foreign Trade</td>\n",
       "      <td>0.0</td>\n",
       "      <td>False</td>\n",
       "      <td>345</td>\n",
       "      <td>0.009246</td>\n",
       "      <td>26159</td>\n",
       "      <td>0.013189</td>\n",
       "      <td>1.426455</td>\n",
       "    </tr>\n",
       "    <tr>\n",
       "      <th>7</th>\n",
       "      <td>Common Congressional Phrases 4</td>\n",
       "      <td>0.0</td>\n",
       "      <td>False</td>\n",
       "      <td>931</td>\n",
       "      <td>0.026003</td>\n",
       "      <td>26159</td>\n",
       "      <td>0.035590</td>\n",
       "      <td>1.368714</td>\n",
       "    </tr>\n",
       "    <tr>\n",
       "      <th>13</th>\n",
       "      <td>Energy</td>\n",
       "      <td>0.0</td>\n",
       "      <td>False</td>\n",
       "      <td>369</td>\n",
       "      <td>0.010630</td>\n",
       "      <td>26159</td>\n",
       "      <td>0.014106</td>\n",
       "      <td>1.326982</td>\n",
       "    </tr>\n",
       "    <tr>\n",
       "      <th>28</th>\n",
       "      <td>Random Verbs 2</td>\n",
       "      <td>0.0</td>\n",
       "      <td>False</td>\n",
       "      <td>4383</td>\n",
       "      <td>0.127371</td>\n",
       "      <td>26159</td>\n",
       "      <td>0.167552</td>\n",
       "      <td>1.315465</td>\n",
       "    </tr>\n",
       "    <tr>\n",
       "      <th>31</th>\n",
       "      <td>Taxes and Budget</td>\n",
       "      <td>0.0</td>\n",
       "      <td>False</td>\n",
       "      <td>1364</td>\n",
       "      <td>0.041041</td>\n",
       "      <td>26159</td>\n",
       "      <td>0.052143</td>\n",
       "      <td>1.270510</td>\n",
       "    </tr>\n",
       "  </tbody>\n",
       "</table>\n",
       "</div>"
      ],
      "text/plain": [
       "                   Prim_Topic_Name  NonWhite  pred_combo  \\\n",
       "17                   Foreign Trade       0.0       False   \n",
       "7   Common Congressional Phrases 4       0.0       False   \n",
       "13                          Energy       0.0       False   \n",
       "28                  Random Verbs 2       0.0       False   \n",
       "31                Taxes and Budget       0.0       False   \n",
       "\n",
       "    topic_pred_speech_cnt  topic_share  pred_speech_cnt  topic_pred_share  \\\n",
       "17                    345     0.009246            26159          0.013189   \n",
       "7                     931     0.026003            26159          0.035590   \n",
       "13                    369     0.010630            26159          0.014106   \n",
       "28                   4383     0.127371            26159          0.167552   \n",
       "31                   1364     0.041041            26159          0.052143   \n",
       "\n",
       "    topic_pred_share_index  \n",
       "17                1.426455  \n",
       "7                 1.368714  \n",
       "13                1.326982  \n",
       "28                1.315465  \n",
       "31                1.270510  "
      ]
     },
     "execution_count": 67,
     "metadata": {},
     "output_type": "execute_result"
    }
   ],
   "source": [
    "topic_pred_share[(topic_pred_share.NonWhite==0) & (topic_pred_share.pred_combo==0)].sort_values(by='topic_pred_share_index', ascending=False).head()"
   ]
  },
  {
   "cell_type": "code",
   "execution_count": 68,
   "metadata": {},
   "outputs": [
    {
     "data": {
      "text/html": [
       "<div>\n",
       "<style scoped>\n",
       "    .dataframe tbody tr th:only-of-type {\n",
       "        vertical-align: middle;\n",
       "    }\n",
       "\n",
       "    .dataframe tbody tr th {\n",
       "        vertical-align: top;\n",
       "    }\n",
       "\n",
       "    .dataframe thead th {\n",
       "        text-align: right;\n",
       "    }\n",
       "</style>\n",
       "<table border=\"1\" class=\"dataframe\">\n",
       "  <thead>\n",
       "    <tr style=\"text-align: right;\">\n",
       "      <th></th>\n",
       "      <th>Prim_Topic_Name</th>\n",
       "      <th>NonWhite</th>\n",
       "      <th>pred_combo</th>\n",
       "      <th>topic_pred_speech_cnt</th>\n",
       "      <th>topic_share</th>\n",
       "      <th>pred_speech_cnt</th>\n",
       "      <th>topic_pred_share</th>\n",
       "      <th>topic_pred_share_index</th>\n",
       "    </tr>\n",
       "  </thead>\n",
       "  <tbody>\n",
       "    <tr>\n",
       "      <th>66</th>\n",
       "      <td>State and Local</td>\n",
       "      <td>0.0</td>\n",
       "      <td>True</td>\n",
       "      <td>32</td>\n",
       "      <td>0.003581</td>\n",
       "      <td>5261</td>\n",
       "      <td>0.006082</td>\n",
       "      <td>1.698773</td>\n",
       "    </tr>\n",
       "    <tr>\n",
       "      <th>58</th>\n",
       "      <td>Intelligence and Security</td>\n",
       "      <td>0.0</td>\n",
       "      <td>True</td>\n",
       "      <td>118</td>\n",
       "      <td>0.013542</td>\n",
       "      <td>5261</td>\n",
       "      <td>0.022429</td>\n",
       "      <td>1.656229</td>\n",
       "    </tr>\n",
       "    <tr>\n",
       "      <th>71</th>\n",
       "      <td>Women's and Labor Rights</td>\n",
       "      <td>0.0</td>\n",
       "      <td>True</td>\n",
       "      <td>77</td>\n",
       "      <td>0.009071</td>\n",
       "      <td>5261</td>\n",
       "      <td>0.014636</td>\n",
       "      <td>1.613555</td>\n",
       "    </tr>\n",
       "    <tr>\n",
       "      <th>39</th>\n",
       "      <td>Children's and Family Programs</td>\n",
       "      <td>0.0</td>\n",
       "      <td>True</td>\n",
       "      <td>150</td>\n",
       "      <td>0.018682</td>\n",
       "      <td>5261</td>\n",
       "      <td>0.028512</td>\n",
       "      <td>1.526128</td>\n",
       "    </tr>\n",
       "    <tr>\n",
       "      <th>44</th>\n",
       "      <td>Common Congressional Phrases 5</td>\n",
       "      <td>0.0</td>\n",
       "      <td>True</td>\n",
       "      <td>80</td>\n",
       "      <td>0.010041</td>\n",
       "      <td>5261</td>\n",
       "      <td>0.015206</td>\n",
       "      <td>1.514358</td>\n",
       "    </tr>\n",
       "  </tbody>\n",
       "</table>\n",
       "</div>"
      ],
      "text/plain": [
       "                   Prim_Topic_Name  NonWhite  pred_combo  \\\n",
       "66                 State and Local       0.0        True   \n",
       "58       Intelligence and Security       0.0        True   \n",
       "71        Women's and Labor Rights       0.0        True   \n",
       "39  Children's and Family Programs       0.0        True   \n",
       "44  Common Congressional Phrases 5       0.0        True   \n",
       "\n",
       "    topic_pred_speech_cnt  topic_share  pred_speech_cnt  topic_pred_share  \\\n",
       "66                     32     0.003581             5261          0.006082   \n",
       "58                    118     0.013542             5261          0.022429   \n",
       "71                     77     0.009071             5261          0.014636   \n",
       "39                    150     0.018682             5261          0.028512   \n",
       "44                     80     0.010041             5261          0.015206   \n",
       "\n",
       "    topic_pred_share_index  \n",
       "66                1.698773  \n",
       "58                1.656229  \n",
       "71                1.613555  \n",
       "39                1.526128  \n",
       "44                1.514358  "
      ]
     },
     "execution_count": 68,
     "metadata": {},
     "output_type": "execute_result"
    }
   ],
   "source": [
    "topic_pred_share[(topic_pred_share.NonWhite==0) & (topic_pred_share.pred_combo==1)].sort_values(by='topic_pred_share_index', ascending=False).head(5)"
   ]
  },
  {
   "cell_type": "code",
   "execution_count": 69,
   "metadata": {},
   "outputs": [
    {
     "data": {
      "text/html": [
       "<div>\n",
       "<style scoped>\n",
       "    .dataframe tbody tr th:only-of-type {\n",
       "        vertical-align: middle;\n",
       "    }\n",
       "\n",
       "    .dataframe tbody tr th {\n",
       "        vertical-align: top;\n",
       "    }\n",
       "\n",
       "    .dataframe thead th {\n",
       "        text-align: right;\n",
       "    }\n",
       "</style>\n",
       "<table border=\"1\" class=\"dataframe\">\n",
       "  <thead>\n",
       "    <tr style=\"text-align: right;\">\n",
       "      <th></th>\n",
       "      <th>Prim_Topic_Name</th>\n",
       "      <th>NonWhite</th>\n",
       "      <th>pred_combo</th>\n",
       "      <th>topic_pred_speech_cnt</th>\n",
       "      <th>topic_share</th>\n",
       "      <th>pred_speech_cnt</th>\n",
       "      <th>topic_pred_share</th>\n",
       "      <th>topic_pred_share_index</th>\n",
       "    </tr>\n",
       "  </thead>\n",
       "  <tbody>\n",
       "    <tr>\n",
       "      <th>104</th>\n",
       "      <td>The Navy</td>\n",
       "      <td>1.0</td>\n",
       "      <td>False</td>\n",
       "      <td>24</td>\n",
       "      <td>0.001194</td>\n",
       "      <td>9378</td>\n",
       "      <td>0.002559</td>\n",
       "      <td>2.144253</td>\n",
       "    </tr>\n",
       "    <tr>\n",
       "      <th>85</th>\n",
       "      <td>Energy</td>\n",
       "      <td>1.0</td>\n",
       "      <td>False</td>\n",
       "      <td>154</td>\n",
       "      <td>0.010630</td>\n",
       "      <td>9378</td>\n",
       "      <td>0.016421</td>\n",
       "      <td>1.544793</td>\n",
       "    </tr>\n",
       "    <tr>\n",
       "      <th>74</th>\n",
       "      <td>Bankruptcy and Liability</td>\n",
       "      <td>1.0</td>\n",
       "      <td>False</td>\n",
       "      <td>16</td>\n",
       "      <td>0.001178</td>\n",
       "      <td>9378</td>\n",
       "      <td>0.001706</td>\n",
       "      <td>1.448819</td>\n",
       "    </tr>\n",
       "    <tr>\n",
       "      <th>89</th>\n",
       "      <td>Foreign Trade</td>\n",
       "      <td>1.0</td>\n",
       "      <td>False</td>\n",
       "      <td>122</td>\n",
       "      <td>0.009246</td>\n",
       "      <td>9378</td>\n",
       "      <td>0.013009</td>\n",
       "      <td>1.407050</td>\n",
       "    </tr>\n",
       "    <tr>\n",
       "      <th>101</th>\n",
       "      <td>Scientific Research</td>\n",
       "      <td>1.0</td>\n",
       "      <td>False</td>\n",
       "      <td>66</td>\n",
       "      <td>0.005092</td>\n",
       "      <td>9378</td>\n",
       "      <td>0.007038</td>\n",
       "      <td>1.382038</td>\n",
       "    </tr>\n",
       "  </tbody>\n",
       "</table>\n",
       "</div>"
      ],
      "text/plain": [
       "              Prim_Topic_Name  NonWhite  pred_combo  topic_pred_speech_cnt  \\\n",
       "104                  The Navy       1.0       False                     24   \n",
       "85                     Energy       1.0       False                    154   \n",
       "74   Bankruptcy and Liability       1.0       False                     16   \n",
       "89              Foreign Trade       1.0       False                    122   \n",
       "101       Scientific Research       1.0       False                     66   \n",
       "\n",
       "     topic_share  pred_speech_cnt  topic_pred_share  topic_pred_share_index  \n",
       "104     0.001194             9378          0.002559                2.144253  \n",
       "85      0.010630             9378          0.016421                1.544793  \n",
       "74      0.001178             9378          0.001706                1.448819  \n",
       "89      0.009246             9378          0.013009                1.407050  \n",
       "101     0.005092             9378          0.007038                1.382038  "
      ]
     },
     "execution_count": 69,
     "metadata": {},
     "output_type": "execute_result"
    }
   ],
   "source": [
    "topic_pred_share[(topic_pred_share.NonWhite==1) & (topic_pred_share.pred_combo==0)].sort_values(by='topic_pred_share_index', ascending=False).head(5)"
   ]
  },
  {
   "cell_type": "markdown",
   "metadata": {},
   "source": [
    "## Congress level analysis"
   ]
  },
  {
   "cell_type": "code",
   "execution_count": 70,
   "metadata": {},
   "outputs": [
    {
     "data": {
      "text/plain": [
       "(18, 5)"
      ]
     },
     "execution_count": 70,
     "metadata": {},
     "output_type": "execute_result"
    }
   ],
   "source": [
    "congress_df = descr_pred_df[['Congress', 'NonWhite', 'pred_probs_combo', 'pred_combo']]\\\n",
    "                .groupby('Congress')\\\n",
    "                .agg({'NonWhite': ['mean', 'sum'], 'pred_combo': ['mean']})\\\n",
    "                .reset_index()\n",
    "congress_df.columns = ['_'.join(col) for col in congress_df.columns]\n",
    "congress_df['Prediction_balance'] = congress_df.pred_combo_mean / congress_df.NonWhite_mean\n",
    "congress_df.shape"
   ]
  },
  {
   "cell_type": "code",
   "execution_count": 71,
   "metadata": {},
   "outputs": [
    {
     "data": {
      "image/png": "[encoded data removed]",
      "text/plain": [
       "<Figure size 720x360 with 2 Axes>"
      ]
     },
     "metadata": {
      "needs_background": "light"
     },
     "output_type": "display_data"
    }
   ],
   "source": [
    "fig, ax1 = plt.subplots(figsize=(10, 5))\n",
    "\n",
    "color = 'tab:red'\n",
    "ax1.set_xlabel('Congress')\n",
    "ax1.set_ylabel('NonWhite speech counts', color=color)\n",
    "ax1.plot(congress_df.Congress_, congress_df.NonWhite_sum, color=color)\n",
    "ax1.tick_params(axis='y', labelcolor=color)\n",
    "\n",
    "ax2 = ax1.twinx()  # instantiate a second axes that shares the same x-axis\n",
    "\n",
    "color = 'tab:blue'\n",
    "ax2.set_ylabel('Predicted / Actual', color=color)  # we already handled the x-label with ax1\n",
    "ax2.plot(congress_df.Congress_, congress_df.Prediction_balance, color=color)\n",
    "ax2.tick_params(axis='y', labelcolor=color)\n",
    "\n",
    "ax2.hlines(y=1,xmin=97,xmax=114, color=color, linestyles='dashed')\n",
    "\n",
    "fig.tight_layout()  # otherwise the right y-label is slightly clipped\n",
    "plt.xticks(range(97,115))\n",
    "plt.show()"
   ]
  },
  {
   "cell_type": "markdown",
   "metadata": {},
   "source": [
    "### Error analysis"
   ]
  },
  {
   "cell_type": "code",
   "execution_count": 72,
   "metadata": {},
   "outputs": [
    {
     "data": {
      "text/plain": [
       "14639"
      ]
     },
     "execution_count": 72,
     "metadata": {},
     "output_type": "execute_result"
    }
   ],
   "source": [
    "ttl_mispred = descr_pred_df[(descr_pred_df.NonWhite==1) & (descr_pred_df.pred_combo==0)].shape[0] + descr_pred_df[(descr_pred_df.NonWhite==0) & (descr_pred_df.pred_combo==1)].shape[0]\n",
    "ttl_mispred"
   ]
  },
  {
   "cell_type": "code",
   "execution_count": 73,
   "metadata": {},
   "outputs": [
    {
     "data": {
      "text/plain": [
       "count    5261.000000\n",
       "mean        0.618179\n",
       "std         0.099197\n",
       "min         0.500023\n",
       "25%         0.537979\n",
       "50%         0.593304\n",
       "75%         0.671718\n",
       "max         0.985661\n",
       "Name: pred_probs_combo, dtype: float64"
      ]
     },
     "execution_count": 73,
     "metadata": {},
     "output_type": "execute_result"
    }
   ],
   "source": [
    "false_positives = descr_pred_df[(descr_pred_df.NonWhite==0) & (descr_pred_df.pred_combo==1)]\n",
    "false_positives.pred_probs_combo.describe()"
   ]
  },
  {
   "cell_type": "code",
   "execution_count": 74,
   "metadata": {},
   "outputs": [
    {
     "data": {
      "text/plain": [
       "array([0.19072341, 0.16865906])"
      ]
     },
     "execution_count": 74,
     "metadata": {},
     "output_type": "execute_result"
    }
   ],
   "source": [
    "fp_binned = np.digitize(false_positives.pred_probs_combo, [0.5, 0.6, 1])\n",
    "np.unique(fp_binned, return_counts=True)[1]/ttl_mispred"
   ]
  },
  {
   "cell_type": "code",
   "execution_count": 75,
   "metadata": {},
   "outputs": [
    {
     "data": {
      "text/plain": [
       "count    9378.000000\n",
       "mean        0.364439\n",
       "std         0.096686\n",
       "min         0.039697\n",
       "25%         0.300324\n",
       "50%         0.381832\n",
       "75%         0.443932\n",
       "max         0.499994\n",
       "Name: pred_probs_combo, dtype: float64"
      ]
     },
     "execution_count": 75,
     "metadata": {},
     "output_type": "execute_result"
    }
   ],
   "source": [
    "false_negatives = descr_pred_df[(descr_pred_df.NonWhite==1) & (descr_pred_df.pred_combo==0)]\n",
    "false_negatives.pred_probs_combo.describe()"
   ]
  },
  {
   "cell_type": "code",
   "execution_count": 76,
   "metadata": {},
   "outputs": [
    {
     "data": {
      "text/plain": [
       "array([0.36300294, 0.27761459])"
      ]
     },
     "execution_count": 76,
     "metadata": {},
     "output_type": "execute_result"
    }
   ],
   "source": [
    "fn_binned = np.digitize(false_negatives.pred_probs_combo, [0, 0.4, 0.5])\n",
    "np.unique(fn_binned, return_counts=True)[1]/ttl_mispred"
   ]
  },
  {
   "cell_type": "code",
   "execution_count": 77,
   "metadata": {},
   "outputs": [
    {
     "data": {
      "text/plain": [
       "0"
      ]
     },
     "execution_count": 77,
     "metadata": {},
     "output_type": "execute_result"
    }
   ],
   "source": [
    "# check sum\n",
    "np.sum(np.unique(fp_binned, return_counts=True)[1] + np.unique(fn_binned, return_counts=True)[1]) - ttl_mispred"
   ]
  },
  {
   "cell_type": "code",
   "execution_count": 78,
   "metadata": {},
   "outputs": [
    {
     "data": {
      "text/plain": [
       "(16082, 23)"
      ]
     },
     "execution_count": 78,
     "metadata": {},
     "output_type": "execute_result"
    }
   ],
   "source": [
    "confusion = descr_pred_df[(descr_pred_df.pred_probs_combo>0.4) & (descr_pred_df.pred_probs_combo<0.6)]\n",
    "confusion.shape"
   ]
  },
  {
   "cell_type": "code",
   "execution_count": 79,
   "metadata": {},
   "outputs": [
    {
     "data": {
      "text/plain": [
       "(8919, 8106, 8768)"
      ]
     },
     "execution_count": 79,
     "metadata": {},
     "output_type": "execute_result"
    }
   ],
   "source": [
    "pred_mlp_ngram = list((confusion.pred_probs_mlp_ngram > 0.5) == confusion.NonWhite)\n",
    "pred_cnn = list((confusion.pred_probs_cnn > 0.5) == confusion.NonWhite)\n",
    "pred_cnn_chunk = list((confusion.pred_probs_cnn_chunk > 0.5) == confusion.NonWhite)\n",
    "sum(pred_mlp_ngram), sum(pred_cnn), sum(pred_cnn_chunk)"
   ]
  },
  {
   "cell_type": "code",
   "execution_count": 80,
   "metadata": {},
   "outputs": [
    {
     "data": {
      "text/plain": [
       "0.20364382539485137"
      ]
     },
     "execution_count": 80,
     "metadata": {},
     "output_type": "execute_result"
    }
   ],
   "source": [
    "consensus = []\n",
    "for i in range(confusion.shape[0]):\n",
    "    if (pred_mlp_ngram[i]==True and pred_cnn[i]==True and pred_cnn_chunk[i]==True):\n",
    "        consensus.append(1)\n",
    "    elif (pred_mlp_ngram[i]==False and pred_cnn[i]==False and pred_cnn_chunk[i]==False):\n",
    "        consensus.append(1)\n",
    "    else:\n",
    "        consensus.append(0)\n",
    "np.mean(consensus)"
   ]
  },
  {
   "cell_type": "code",
   "execution_count": 81,
   "metadata": {},
   "outputs": [
    {
     "data": {
      "text/plain": [
       "0"
      ]
     },
     "execution_count": 81,
     "metadata": {},
     "output_type": "execute_result"
    }
   ],
   "source": [
    "consensus.index(1)"
   ]
  },
  {
   "cell_type": "code",
   "execution_count": 82,
   "metadata": {},
   "outputs": [
    {
     "data": {
      "text/html": [
       "<div>\n",
       "<style scoped>\n",
       "    .dataframe tbody tr th:only-of-type {\n",
       "        vertical-align: middle;\n",
       "    }\n",
       "\n",
       "    .dataframe tbody tr th {\n",
       "        vertical-align: top;\n",
       "    }\n",
       "\n",
       "    .dataframe thead th {\n",
       "        text-align: right;\n",
       "    }\n",
       "</style>\n",
       "<table border=\"1\" class=\"dataframe\">\n",
       "  <thead>\n",
       "    <tr style=\"text-align: right;\">\n",
       "      <th></th>\n",
       "      <th>NonWhite</th>\n",
       "      <th>pred_probs_mlp_ngram</th>\n",
       "      <th>pred_probs_cnn</th>\n",
       "      <th>pred_probs_cnn_chunk</th>\n",
       "    </tr>\n",
       "  </thead>\n",
       "  <tbody>\n",
       "    <tr>\n",
       "      <th>0</th>\n",
       "      <td>1.0</td>\n",
       "      <td>0.404872</td>\n",
       "      <td>0.489893</td>\n",
       "      <td>0.403256</td>\n",
       "    </tr>\n",
       "    <tr>\n",
       "      <th>3</th>\n",
       "      <td>1.0</td>\n",
       "      <td>0.944420</td>\n",
       "      <td>0.156427</td>\n",
       "      <td>0.421413</td>\n",
       "    </tr>\n",
       "    <tr>\n",
       "      <th>6</th>\n",
       "      <td>1.0</td>\n",
       "      <td>0.812355</td>\n",
       "      <td>0.509380</td>\n",
       "      <td>0.312563</td>\n",
       "    </tr>\n",
       "    <tr>\n",
       "      <th>10</th>\n",
       "      <td>1.0</td>\n",
       "      <td>0.154832</td>\n",
       "      <td>0.433317</td>\n",
       "      <td>0.632081</td>\n",
       "    </tr>\n",
       "    <tr>\n",
       "      <th>15</th>\n",
       "      <td>1.0</td>\n",
       "      <td>0.463671</td>\n",
       "      <td>0.323687</td>\n",
       "      <td>0.591381</td>\n",
       "    </tr>\n",
       "  </tbody>\n",
       "</table>\n",
       "</div>"
      ],
      "text/plain": [
       "    NonWhite  pred_probs_mlp_ngram  pred_probs_cnn  pred_probs_cnn_chunk\n",
       "0        1.0              0.404872        0.489893              0.403256\n",
       "3        1.0              0.944420        0.156427              0.421413\n",
       "6        1.0              0.812355        0.509380              0.312563\n",
       "10       1.0              0.154832        0.433317              0.632081\n",
       "15       1.0              0.463671        0.323687              0.591381"
      ]
     },
     "execution_count": 82,
     "metadata": {},
     "output_type": "execute_result"
    }
   ],
   "source": [
    "confusion[['NonWhite']+preds].head()"
   ]
  },
  {
   "cell_type": "code",
   "execution_count": 85,
   "metadata": {},
   "outputs": [
    {
     "data": {
      "text/plain": [
       "378.79003720170584"
      ]
     },
     "execution_count": 85,
     "metadata": {},
     "output_type": "execute_result"
    }
   ],
   "source": [
    "topic_pred_df[keep_cols][(topic_pred_df.NonWhite==1) & (topic_pred_df.pred_combo==1)].word_count.mean()"
   ]
  },
  {
   "cell_type": "code",
   "execution_count": 86,
   "metadata": {},
   "outputs": [
    {
     "data": {
      "text/plain": [
       "350.02793772659413"
      ]
     },
     "execution_count": 86,
     "metadata": {},
     "output_type": "execute_result"
    }
   ],
   "source": [
    "topic_pred_df[keep_cols][(topic_pred_df.NonWhite==1) & (topic_pred_df.pred_combo==0)].word_count.mean()"
   ]
  },
  {
   "cell_type": "code",
   "execution_count": 87,
   "metadata": {},
   "outputs": [
    {
     "data": {
      "text/plain": [
       "400.9040100921289"
      ]
     },
     "execution_count": 87,
     "metadata": {},
     "output_type": "execute_result"
    }
   ],
   "source": [
    "topic_pred_df[keep_cols][(topic_pred_df.NonWhite==0) & (topic_pred_df.pred_combo==0)].word_count.mean()"
   ]
  },
  {
   "cell_type": "code",
   "execution_count": 88,
   "metadata": {},
   "outputs": [
    {
     "data": {
      "text/plain": [
       "298.4655008553507"
      ]
     },
     "execution_count": 88,
     "metadata": {},
     "output_type": "execute_result"
    }
   ],
   "source": [
    "topic_pred_df[keep_cols][(topic_pred_df.NonWhite==0) & (topic_pred_df.pred_combo==1)].word_count.mean()"
   ]
  },
  {
   "cell_type": "code",
   "execution_count": 89,
   "metadata": {},
   "outputs": [],
   "source": [
    "keep_cols = [\n",
    "    'speech_id',\n",
    "    'date',\n",
    "    'word_count',\n",
    "    'Party',\n",
    "    'Congress',\n",
    "    'Chamber',\n",
    "    'State',\n",
    "    'Ethnicity',\n",
    "    'Age',\n",
    "    'Female',\n",
    "    'Full Name',\n",
    "    'pred_probs_mlp_ngram',\n",
    "    'pred_probs_cnn',\n",
    "    'pred_probs_cnn_chunk',\n",
    "    'pred_probs_combo'\n",
    "]"
   ]
  },
  {
   "cell_type": "code",
   "execution_count": 90,
   "metadata": {},
   "outputs": [
    {
     "data": {
      "text/html": [
       "<div>\n",
       "<style scoped>\n",
       "    .dataframe tbody tr th:only-of-type {\n",
       "        vertical-align: middle;\n",
       "    }\n",
       "\n",
       "    .dataframe tbody tr th {\n",
       "        vertical-align: top;\n",
       "    }\n",
       "\n",
       "    .dataframe thead th {\n",
       "        text-align: right;\n",
       "    }\n",
       "</style>\n",
       "<table border=\"1\" class=\"dataframe\">\n",
       "  <thead>\n",
       "    <tr style=\"text-align: right;\">\n",
       "      <th></th>\n",
       "      <th>44310</th>\n",
       "      <th>24405</th>\n",
       "      <th>24398</th>\n",
       "      <th>22620</th>\n",
       "      <th>23973</th>\n",
       "    </tr>\n",
       "  </thead>\n",
       "  <tbody>\n",
       "    <tr>\n",
       "      <th>speech_id</th>\n",
       "      <td>1130011015</td>\n",
       "      <td>1110089010</td>\n",
       "      <td>1100179134</td>\n",
       "      <td>1080020374</td>\n",
       "      <td>1140006601</td>\n",
       "    </tr>\n",
       "    <tr>\n",
       "      <th>date</th>\n",
       "      <td>20130320</td>\n",
       "      <td>20100315</td>\n",
       "      <td>20080625</td>\n",
       "      <td>20030320</td>\n",
       "      <td>20150202</td>\n",
       "    </tr>\n",
       "    <tr>\n",
       "      <th>word_count</th>\n",
       "      <td>76</td>\n",
       "      <td>33</td>\n",
       "      <td>39</td>\n",
       "      <td>42</td>\n",
       "      <td>34</td>\n",
       "    </tr>\n",
       "    <tr>\n",
       "      <th>Party</th>\n",
       "      <td>D</td>\n",
       "      <td>D</td>\n",
       "      <td>D</td>\n",
       "      <td>D</td>\n",
       "      <td>D</td>\n",
       "    </tr>\n",
       "    <tr>\n",
       "      <th>Congress</th>\n",
       "      <td>113</td>\n",
       "      <td>111</td>\n",
       "      <td>110</td>\n",
       "      <td>108</td>\n",
       "      <td>114</td>\n",
       "    </tr>\n",
       "    <tr>\n",
       "      <th>Chamber</th>\n",
       "      <td>H</td>\n",
       "      <td>H</td>\n",
       "      <td>H</td>\n",
       "      <td>H</td>\n",
       "      <td>H</td>\n",
       "    </tr>\n",
       "    <tr>\n",
       "      <th>State</th>\n",
       "      <td>OH</td>\n",
       "      <td>MN</td>\n",
       "      <td>MI</td>\n",
       "      <td>FL</td>\n",
       "      <td>OH</td>\n",
       "    </tr>\n",
       "    <tr>\n",
       "      <th>Ethnicity</th>\n",
       "      <td>B</td>\n",
       "      <td>B</td>\n",
       "      <td>B</td>\n",
       "      <td>B</td>\n",
       "      <td>B</td>\n",
       "    </tr>\n",
       "    <tr>\n",
       "      <th>Age</th>\n",
       "      <td>62</td>\n",
       "      <td>47</td>\n",
       "      <td>79</td>\n",
       "      <td>68</td>\n",
       "      <td>66</td>\n",
       "    </tr>\n",
       "    <tr>\n",
       "      <th>Female</th>\n",
       "      <td>1</td>\n",
       "      <td>0</td>\n",
       "      <td>0</td>\n",
       "      <td>0</td>\n",
       "      <td>1</td>\n",
       "    </tr>\n",
       "    <tr>\n",
       "      <th>Full Name</th>\n",
       "      <td>FUDGE, MARCIA</td>\n",
       "      <td>ELLISON, KEITH</td>\n",
       "      <td>CONYERS, JOHN</td>\n",
       "      <td>HASTINGS, ALCEE</td>\n",
       "      <td>BEATTY, JOYCE</td>\n",
       "    </tr>\n",
       "    <tr>\n",
       "      <th>pred_probs_mlp_ngram</th>\n",
       "      <td>1</td>\n",
       "      <td>0.99977</td>\n",
       "      <td>1</td>\n",
       "      <td>1</td>\n",
       "      <td>1</td>\n",
       "    </tr>\n",
       "    <tr>\n",
       "      <th>pred_probs_cnn</th>\n",
       "      <td>0.998637</td>\n",
       "      <td>0.998484</td>\n",
       "      <td>0.997814</td>\n",
       "      <td>0.999148</td>\n",
       "      <td>0.998147</td>\n",
       "    </tr>\n",
       "    <tr>\n",
       "      <th>pred_probs_cnn_chunk</th>\n",
       "      <td>0.999984</td>\n",
       "      <td>0.998547</td>\n",
       "      <td>0.998606</td>\n",
       "      <td>0.997077</td>\n",
       "      <td>0.99739</td>\n",
       "    </tr>\n",
       "    <tr>\n",
       "      <th>pred_probs_combo</th>\n",
       "      <td>0.99954</td>\n",
       "      <td>0.998933</td>\n",
       "      <td>0.998807</td>\n",
       "      <td>0.998742</td>\n",
       "      <td>0.998512</td>\n",
       "    </tr>\n",
       "  </tbody>\n",
       "</table>\n",
       "</div>"
      ],
      "text/plain": [
       "                              44310           24405          24398  \\\n",
       "speech_id                1130011015      1110089010     1100179134   \n",
       "date                       20130320        20100315       20080625   \n",
       "word_count                       76              33             39   \n",
       "Party                             D               D              D   \n",
       "Congress                        113             111            110   \n",
       "Chamber                           H               H              H   \n",
       "State                            OH              MN             MI   \n",
       "Ethnicity                         B               B              B   \n",
       "Age                              62              47             79   \n",
       "Female                            1               0              0   \n",
       "Full Name             FUDGE, MARCIA  ELLISON, KEITH  CONYERS, JOHN   \n",
       "pred_probs_mlp_ngram              1         0.99977              1   \n",
       "pred_probs_cnn             0.998637        0.998484       0.997814   \n",
       "pred_probs_cnn_chunk       0.999984        0.998547       0.998606   \n",
       "pred_probs_combo            0.99954        0.998933       0.998807   \n",
       "\n",
       "                                22620          23973  \n",
       "speech_id                  1080020374     1140006601  \n",
       "date                         20030320       20150202  \n",
       "word_count                         42             34  \n",
       "Party                               D              D  \n",
       "Congress                          108            114  \n",
       "Chamber                             H              H  \n",
       "State                              FL             OH  \n",
       "Ethnicity                           B              B  \n",
       "Age                                68             66  \n",
       "Female                              0              1  \n",
       "Full Name             HASTINGS, ALCEE  BEATTY, JOYCE  \n",
       "pred_probs_mlp_ngram                1              1  \n",
       "pred_probs_cnn               0.999148       0.998147  \n",
       "pred_probs_cnn_chunk         0.997077        0.99739  \n",
       "pred_probs_combo             0.998742       0.998512  "
      ]
     },
     "execution_count": 90,
     "metadata": {},
     "output_type": "execute_result"
    }
   ],
   "source": [
    "topic_pred_df[keep_cols][topic_pred_df.NonWhite==1].sort_values(by='pred_probs_combo', ascending=False).head(5).T"
   ]
  },
  {
   "cell_type": "code",
   "execution_count": 91,
   "metadata": {},
   "outputs": [
    {
     "data": {
      "text/html": [
       "<div>\n",
       "<style scoped>\n",
       "    .dataframe tbody tr th:only-of-type {\n",
       "        vertical-align: middle;\n",
       "    }\n",
       "\n",
       "    .dataframe tbody tr th {\n",
       "        vertical-align: top;\n",
       "    }\n",
       "\n",
       "    .dataframe thead th {\n",
       "        text-align: right;\n",
       "    }\n",
       "</style>\n",
       "<table border=\"1\" class=\"dataframe\">\n",
       "  <thead>\n",
       "    <tr style=\"text-align: right;\">\n",
       "      <th></th>\n",
       "      <th>19282</th>\n",
       "      <th>19347</th>\n",
       "      <th>19194</th>\n",
       "      <th>18901</th>\n",
       "      <th>18367</th>\n",
       "    </tr>\n",
       "  </thead>\n",
       "  <tbody>\n",
       "    <tr>\n",
       "      <th>speech_id</th>\n",
       "      <td>980217357</td>\n",
       "      <td>1020156903</td>\n",
       "      <td>1020031781</td>\n",
       "      <td>980164485</td>\n",
       "      <td>980028322</td>\n",
       "    </tr>\n",
       "    <tr>\n",
       "      <th>date</th>\n",
       "      <td>19840618</td>\n",
       "      <td>19920410</td>\n",
       "      <td>19910514</td>\n",
       "      <td>19840314</td>\n",
       "      <td>19830420</td>\n",
       "    </tr>\n",
       "    <tr>\n",
       "      <th>word_count</th>\n",
       "      <td>42</td>\n",
       "      <td>38</td>\n",
       "      <td>38</td>\n",
       "      <td>43</td>\n",
       "      <td>42</td>\n",
       "    </tr>\n",
       "    <tr>\n",
       "      <th>Party</th>\n",
       "      <td>R</td>\n",
       "      <td>R</td>\n",
       "      <td>D</td>\n",
       "      <td>R</td>\n",
       "      <td>R</td>\n",
       "    </tr>\n",
       "    <tr>\n",
       "      <th>Congress</th>\n",
       "      <td>98</td>\n",
       "      <td>102</td>\n",
       "      <td>102</td>\n",
       "      <td>98</td>\n",
       "      <td>98</td>\n",
       "    </tr>\n",
       "    <tr>\n",
       "      <th>Chamber</th>\n",
       "      <td>S</td>\n",
       "      <td>S</td>\n",
       "      <td>S</td>\n",
       "      <td>S</td>\n",
       "      <td>S</td>\n",
       "    </tr>\n",
       "    <tr>\n",
       "      <th>State</th>\n",
       "      <td>AK</td>\n",
       "      <td>WY</td>\n",
       "      <td>KY</td>\n",
       "      <td>TN</td>\n",
       "      <td>AK</td>\n",
       "    </tr>\n",
       "    <tr>\n",
       "      <th>Ethnicity</th>\n",
       "      <td>W</td>\n",
       "      <td>W</td>\n",
       "      <td>W</td>\n",
       "      <td>W</td>\n",
       "      <td>W</td>\n",
       "    </tr>\n",
       "    <tr>\n",
       "      <th>Age</th>\n",
       "      <td>61</td>\n",
       "      <td>61</td>\n",
       "      <td>68</td>\n",
       "      <td>59</td>\n",
       "      <td>61</td>\n",
       "    </tr>\n",
       "    <tr>\n",
       "      <th>Female</th>\n",
       "      <td>0</td>\n",
       "      <td>0</td>\n",
       "      <td>0</td>\n",
       "      <td>0</td>\n",
       "      <td>0</td>\n",
       "    </tr>\n",
       "    <tr>\n",
       "      <th>Full Name</th>\n",
       "      <td>STEVENS, TED</td>\n",
       "      <td>SIMPSON, ALAN</td>\n",
       "      <td>FORD, WENDELL</td>\n",
       "      <td>BAKER, HOWARD</td>\n",
       "      <td>STEVENS, TED</td>\n",
       "    </tr>\n",
       "    <tr>\n",
       "      <th>pred_probs_mlp_ngram</th>\n",
       "      <td>0.000765771</td>\n",
       "      <td>0.000174314</td>\n",
       "      <td>0.000451535</td>\n",
       "      <td>1.57952e-05</td>\n",
       "      <td>0.00222972</td>\n",
       "    </tr>\n",
       "    <tr>\n",
       "      <th>pred_probs_cnn</th>\n",
       "      <td>0.00968567</td>\n",
       "      <td>0.00855482</td>\n",
       "      <td>0.0112033</td>\n",
       "      <td>0.0127415</td>\n",
       "      <td>0.0130375</td>\n",
       "    </tr>\n",
       "    <tr>\n",
       "      <th>pred_probs_cnn_chunk</th>\n",
       "      <td>0.00533146</td>\n",
       "      <td>0.0100047</td>\n",
       "      <td>0.00714293</td>\n",
       "      <td>0.00794044</td>\n",
       "      <td>0.00593203</td>\n",
       "    </tr>\n",
       "    <tr>\n",
       "      <th>pred_probs_combo</th>\n",
       "      <td>0.00526096</td>\n",
       "      <td>0.00624461</td>\n",
       "      <td>0.00626592</td>\n",
       "      <td>0.00689924</td>\n",
       "      <td>0.00706641</td>\n",
       "    </tr>\n",
       "  </tbody>\n",
       "</table>\n",
       "</div>"
      ],
      "text/plain": [
       "                             19282          19347          19194  \\\n",
       "speech_id                980217357     1020156903     1020031781   \n",
       "date                      19840618       19920410       19910514   \n",
       "word_count                      42             38             38   \n",
       "Party                            R              R              D   \n",
       "Congress                        98            102            102   \n",
       "Chamber                          S              S              S   \n",
       "State                           AK             WY             KY   \n",
       "Ethnicity                        W              W              W   \n",
       "Age                             61             61             68   \n",
       "Female                           0              0              0   \n",
       "Full Name             STEVENS, TED  SIMPSON, ALAN  FORD, WENDELL   \n",
       "pred_probs_mlp_ngram   0.000765771    0.000174314    0.000451535   \n",
       "pred_probs_cnn          0.00968567     0.00855482      0.0112033   \n",
       "pred_probs_cnn_chunk    0.00533146      0.0100047     0.00714293   \n",
       "pred_probs_combo        0.00526096     0.00624461     0.00626592   \n",
       "\n",
       "                              18901         18367  \n",
       "speech_id                 980164485     980028322  \n",
       "date                       19840314      19830420  \n",
       "word_count                       43            42  \n",
       "Party                             R             R  \n",
       "Congress                         98            98  \n",
       "Chamber                           S             S  \n",
       "State                            TN            AK  \n",
       "Ethnicity                         W             W  \n",
       "Age                              59            61  \n",
       "Female                            0             0  \n",
       "Full Name             BAKER, HOWARD  STEVENS, TED  \n",
       "pred_probs_mlp_ngram    1.57952e-05    0.00222972  \n",
       "pred_probs_cnn            0.0127415     0.0130375  \n",
       "pred_probs_cnn_chunk     0.00794044    0.00593203  \n",
       "pred_probs_combo         0.00689924    0.00706641  "
      ]
     },
     "execution_count": 91,
     "metadata": {},
     "output_type": "execute_result"
    }
   ],
   "source": [
    "topic_pred_df[keep_cols][topic_pred_df.NonWhite==0].sort_values(by='pred_probs_combo', ascending=True).head(5).T"
   ]
  },
  {
   "cell_type": "code",
   "execution_count": 92,
   "metadata": {},
   "outputs": [
    {
     "data": {
      "text/html": [
       "<div>\n",
       "<style scoped>\n",
       "    .dataframe tbody tr th:only-of-type {\n",
       "        vertical-align: middle;\n",
       "    }\n",
       "\n",
       "    .dataframe tbody tr th {\n",
       "        vertical-align: top;\n",
       "    }\n",
       "\n",
       "    .dataframe thead th {\n",
       "        text-align: right;\n",
       "    }\n",
       "</style>\n",
       "<table border=\"1\" class=\"dataframe\">\n",
       "  <thead>\n",
       "    <tr style=\"text-align: right;\">\n",
       "      <th></th>\n",
       "      <th>45338</th>\n",
       "      <th>12358</th>\n",
       "      <th>11640</th>\n",
       "      <th>36624</th>\n",
       "      <th>3613</th>\n",
       "    </tr>\n",
       "  </thead>\n",
       "  <tbody>\n",
       "    <tr>\n",
       "      <th>speech_id</th>\n",
       "      <td>1080131751</td>\n",
       "      <td>1100188311</td>\n",
       "      <td>1120125371</td>\n",
       "      <td>1090004871</td>\n",
       "      <td>1120045114</td>\n",
       "    </tr>\n",
       "    <tr>\n",
       "      <th>date</th>\n",
       "      <td>20040325</td>\n",
       "      <td>20080723</td>\n",
       "      <td>20120726</td>\n",
       "      <td>20050209</td>\n",
       "      <td>20110719</td>\n",
       "    </tr>\n",
       "    <tr>\n",
       "      <th>word_count</th>\n",
       "      <td>297</td>\n",
       "      <td>290</td>\n",
       "      <td>383</td>\n",
       "      <td>270</td>\n",
       "      <td>130</td>\n",
       "    </tr>\n",
       "    <tr>\n",
       "      <th>Party</th>\n",
       "      <td>D</td>\n",
       "      <td>R</td>\n",
       "      <td>D</td>\n",
       "      <td>D</td>\n",
       "      <td>D</td>\n",
       "    </tr>\n",
       "    <tr>\n",
       "      <th>Congress</th>\n",
       "      <td>108</td>\n",
       "      <td>110</td>\n",
       "      <td>112</td>\n",
       "      <td>109</td>\n",
       "      <td>112</td>\n",
       "    </tr>\n",
       "    <tr>\n",
       "      <th>Chamber</th>\n",
       "      <td>H</td>\n",
       "      <td>H</td>\n",
       "      <td>S</td>\n",
       "      <td>H</td>\n",
       "      <td>H</td>\n",
       "    </tr>\n",
       "    <tr>\n",
       "      <th>State</th>\n",
       "      <td>CA</td>\n",
       "      <td>NC</td>\n",
       "      <td>NY</td>\n",
       "      <td>CA</td>\n",
       "      <td>OH</td>\n",
       "    </tr>\n",
       "    <tr>\n",
       "      <th>Ethnicity</th>\n",
       "      <td>W</td>\n",
       "      <td>W</td>\n",
       "      <td>W</td>\n",
       "      <td>W</td>\n",
       "      <td>W</td>\n",
       "    </tr>\n",
       "    <tr>\n",
       "      <th>Age</th>\n",
       "      <td>67</td>\n",
       "      <td>65</td>\n",
       "      <td>46</td>\n",
       "      <td>78</td>\n",
       "      <td>39</td>\n",
       "    </tr>\n",
       "    <tr>\n",
       "      <th>Female</th>\n",
       "      <td>1</td>\n",
       "      <td>1</td>\n",
       "      <td>1</td>\n",
       "      <td>0</td>\n",
       "      <td>0</td>\n",
       "    </tr>\n",
       "    <tr>\n",
       "      <th>Full Name</th>\n",
       "      <td>WOOLSEY, LYNN</td>\n",
       "      <td>FOXX, VIRGINIA</td>\n",
       "      <td>GILLIBRAND, KIRSTEN</td>\n",
       "      <td>LANTOS, TOM</td>\n",
       "      <td>RYAN, TIM</td>\n",
       "    </tr>\n",
       "    <tr>\n",
       "      <th>pred_probs_mlp_ngram</th>\n",
       "      <td>1</td>\n",
       "      <td>0.997142</td>\n",
       "      <td>0.999995</td>\n",
       "      <td>0.999051</td>\n",
       "      <td>0.991613</td>\n",
       "    </tr>\n",
       "    <tr>\n",
       "      <th>pred_probs_cnn</th>\n",
       "      <td>0.997549</td>\n",
       "      <td>0.986497</td>\n",
       "      <td>0.99552</td>\n",
       "      <td>0.993128</td>\n",
       "      <td>0.995483</td>\n",
       "    </tr>\n",
       "    <tr>\n",
       "      <th>pred_probs_cnn_chunk</th>\n",
       "      <td>0.959434</td>\n",
       "      <td>0.948612</td>\n",
       "      <td>0.922947</td>\n",
       "      <td>0.922806</td>\n",
       "      <td>0.925289</td>\n",
       "    </tr>\n",
       "    <tr>\n",
       "      <th>pred_probs_combo</th>\n",
       "      <td>0.985661</td>\n",
       "      <td>0.977417</td>\n",
       "      <td>0.97282</td>\n",
       "      <td>0.971661</td>\n",
       "      <td>0.970795</td>\n",
       "    </tr>\n",
       "  </tbody>\n",
       "</table>\n",
       "</div>"
      ],
      "text/plain": [
       "                              45338           12358                11640  \\\n",
       "speech_id                1080131751      1100188311           1120125371   \n",
       "date                       20040325        20080723             20120726   \n",
       "word_count                      297             290                  383   \n",
       "Party                             D               R                    D   \n",
       "Congress                        108             110                  112   \n",
       "Chamber                           H               H                    S   \n",
       "State                            CA              NC                   NY   \n",
       "Ethnicity                         W               W                    W   \n",
       "Age                              67              65                   46   \n",
       "Female                            1               1                    1   \n",
       "Full Name             WOOLSEY, LYNN  FOXX, VIRGINIA  GILLIBRAND, KIRSTEN   \n",
       "pred_probs_mlp_ngram              1        0.997142             0.999995   \n",
       "pred_probs_cnn             0.997549        0.986497              0.99552   \n",
       "pred_probs_cnn_chunk       0.959434        0.948612             0.922947   \n",
       "pred_probs_combo           0.985661        0.977417              0.97282   \n",
       "\n",
       "                            36624       3613   \n",
       "speech_id              1090004871  1120045114  \n",
       "date                     20050209    20110719  \n",
       "word_count                    270         130  \n",
       "Party                           D           D  \n",
       "Congress                      109         112  \n",
       "Chamber                         H           H  \n",
       "State                          CA          OH  \n",
       "Ethnicity                       W           W  \n",
       "Age                            78          39  \n",
       "Female                          0           0  \n",
       "Full Name             LANTOS, TOM   RYAN, TIM  \n",
       "pred_probs_mlp_ngram     0.999051    0.991613  \n",
       "pred_probs_cnn           0.993128    0.995483  \n",
       "pred_probs_cnn_chunk     0.922806    0.925289  \n",
       "pred_probs_combo         0.971661    0.970795  "
      ]
     },
     "execution_count": 92,
     "metadata": {},
     "output_type": "execute_result"
    }
   ],
   "source": [
    "topic_pred_df[keep_cols][topic_pred_df.NonWhite==0].sort_values(by='pred_probs_combo', ascending=False).head(5).T"
   ]
  },
  {
   "cell_type": "code",
   "execution_count": 93,
   "metadata": {},
   "outputs": [
    {
     "data": {
      "text/html": [
       "<div>\n",
       "<style scoped>\n",
       "    .dataframe tbody tr th:only-of-type {\n",
       "        vertical-align: middle;\n",
       "    }\n",
       "\n",
       "    .dataframe tbody tr th {\n",
       "        vertical-align: top;\n",
       "    }\n",
       "\n",
       "    .dataframe thead th {\n",
       "        text-align: right;\n",
       "    }\n",
       "</style>\n",
       "<table border=\"1\" class=\"dataframe\">\n",
       "  <thead>\n",
       "    <tr style=\"text-align: right;\">\n",
       "      <th></th>\n",
       "      <th>22367</th>\n",
       "      <th>61359</th>\n",
       "      <th>23671</th>\n",
       "      <th>61342</th>\n",
       "      <th>37223</th>\n",
       "    </tr>\n",
       "  </thead>\n",
       "  <tbody>\n",
       "    <tr>\n",
       "      <th>speech_id</th>\n",
       "      <td>1030187360</td>\n",
       "      <td>1130072841</td>\n",
       "      <td>1070122925</td>\n",
       "      <td>1010090165</td>\n",
       "      <td>1080134968</td>\n",
       "    </tr>\n",
       "    <tr>\n",
       "      <th>date</th>\n",
       "      <td>19940701</td>\n",
       "      <td>20140130</td>\n",
       "      <td>20020501</td>\n",
       "      <td>19891012</td>\n",
       "      <td>20040331</td>\n",
       "    </tr>\n",
       "    <tr>\n",
       "      <th>word_count</th>\n",
       "      <td>92</td>\n",
       "      <td>89</td>\n",
       "      <td>34</td>\n",
       "      <td>80</td>\n",
       "      <td>62</td>\n",
       "    </tr>\n",
       "    <tr>\n",
       "      <th>Party</th>\n",
       "      <td>D</td>\n",
       "      <td>D</td>\n",
       "      <td>D</td>\n",
       "      <td>D</td>\n",
       "      <td>D</td>\n",
       "    </tr>\n",
       "    <tr>\n",
       "      <th>Congress</th>\n",
       "      <td>103</td>\n",
       "      <td>113</td>\n",
       "      <td>107</td>\n",
       "      <td>101</td>\n",
       "      <td>108</td>\n",
       "    </tr>\n",
       "    <tr>\n",
       "      <th>Chamber</th>\n",
       "      <td>S</td>\n",
       "      <td>S</td>\n",
       "      <td>H</td>\n",
       "      <td>S</td>\n",
       "      <td>S</td>\n",
       "    </tr>\n",
       "    <tr>\n",
       "      <th>State</th>\n",
       "      <td>ME</td>\n",
       "      <td>NJ</td>\n",
       "      <td>FL</td>\n",
       "      <td>ME</td>\n",
       "      <td>HI</td>\n",
       "    </tr>\n",
       "    <tr>\n",
       "      <th>Ethnicity</th>\n",
       "      <td>ME</td>\n",
       "      <td>H</td>\n",
       "      <td>B</td>\n",
       "      <td>ME</td>\n",
       "      <td>AAPIA</td>\n",
       "    </tr>\n",
       "    <tr>\n",
       "      <th>Age</th>\n",
       "      <td>61</td>\n",
       "      <td>60</td>\n",
       "      <td>66</td>\n",
       "      <td>57</td>\n",
       "      <td>80</td>\n",
       "    </tr>\n",
       "    <tr>\n",
       "      <th>Female</th>\n",
       "      <td>0</td>\n",
       "      <td>0</td>\n",
       "      <td>0</td>\n",
       "      <td>0</td>\n",
       "      <td>0</td>\n",
       "    </tr>\n",
       "    <tr>\n",
       "      <th>Full Name</th>\n",
       "      <td>MITCHELL, GEORGE</td>\n",
       "      <td>MENENDEZ, ROBERT</td>\n",
       "      <td>HASTINGS, ALCEE</td>\n",
       "      <td>MITCHELL, GEORGE</td>\n",
       "      <td>INOUYE, DANIEL</td>\n",
       "    </tr>\n",
       "    <tr>\n",
       "      <th>pred_probs_mlp_ngram</th>\n",
       "      <td>0.0145079</td>\n",
       "      <td>0.0414953</td>\n",
       "      <td>0.0655269</td>\n",
       "      <td>0.00444061</td>\n",
       "      <td>0.0115905</td>\n",
       "    </tr>\n",
       "    <tr>\n",
       "      <th>pred_probs_cnn</th>\n",
       "      <td>0.010471</td>\n",
       "      <td>0.0127382</td>\n",
       "      <td>0.0100993</td>\n",
       "      <td>0.0641809</td>\n",
       "      <td>0.0374241</td>\n",
       "    </tr>\n",
       "    <tr>\n",
       "      <th>pred_probs_cnn_chunk</th>\n",
       "      <td>0.0941124</td>\n",
       "      <td>0.0733983</td>\n",
       "      <td>0.0575485</td>\n",
       "      <td>0.0679204</td>\n",
       "      <td>0.104404</td>\n",
       "    </tr>\n",
       "    <tr>\n",
       "      <th>pred_probs_combo</th>\n",
       "      <td>0.0396971</td>\n",
       "      <td>0.0425439</td>\n",
       "      <td>0.0443916</td>\n",
       "      <td>0.0455139</td>\n",
       "      <td>0.0511395</td>\n",
       "    </tr>\n",
       "  </tbody>\n",
       "</table>\n",
       "</div>"
      ],
      "text/plain": [
       "                                 22367             61359            23671  \\\n",
       "speech_id                   1030187360        1130072841       1070122925   \n",
       "date                          19940701          20140130         20020501   \n",
       "word_count                          92                89               34   \n",
       "Party                                D                 D                D   \n",
       "Congress                           103               113              107   \n",
       "Chamber                              S                 S                H   \n",
       "State                               ME                NJ               FL   \n",
       "Ethnicity                           ME                 H                B   \n",
       "Age                                 61                60               66   \n",
       "Female                               0                 0                0   \n",
       "Full Name             MITCHELL, GEORGE  MENENDEZ, ROBERT  HASTINGS, ALCEE   \n",
       "pred_probs_mlp_ngram         0.0145079         0.0414953        0.0655269   \n",
       "pred_probs_cnn                0.010471         0.0127382        0.0100993   \n",
       "pred_probs_cnn_chunk         0.0941124         0.0733983        0.0575485   \n",
       "pred_probs_combo             0.0396971         0.0425439        0.0443916   \n",
       "\n",
       "                                 61342           37223  \n",
       "speech_id                   1010090165      1080134968  \n",
       "date                          19891012        20040331  \n",
       "word_count                          80              62  \n",
       "Party                                D               D  \n",
       "Congress                           101             108  \n",
       "Chamber                              S               S  \n",
       "State                               ME              HI  \n",
       "Ethnicity                           ME           AAPIA  \n",
       "Age                                 57              80  \n",
       "Female                               0               0  \n",
       "Full Name             MITCHELL, GEORGE  INOUYE, DANIEL  \n",
       "pred_probs_mlp_ngram        0.00444061       0.0115905  \n",
       "pred_probs_cnn               0.0641809       0.0374241  \n",
       "pred_probs_cnn_chunk         0.0679204        0.104404  \n",
       "pred_probs_combo             0.0455139       0.0511395  "
      ]
     },
     "execution_count": 93,
     "metadata": {},
     "output_type": "execute_result"
    }
   ],
   "source": [
    "topic_pred_df[keep_cols][topic_pred_df.NonWhite==1].sort_values(by='pred_probs_combo', ascending=True).head(5).T"
   ]
  },
  {
   "cell_type": "code",
   "execution_count": 94,
   "metadata": {},
   "outputs": [
    {
     "data": {
      "text/plain": [
       "'I announce that the Senator from Delaware . the Senator from California . the Senator from Colorado . the Senator from Connecticut . the Senator from Kentucky . the Senator from Hawaii . the Senator from Louisiana . the Senator from Massachusetts . the Senator from Nebraska . the Senator from Massachusetts . the Senator from Connecticut . the Senator from Ohio . the Senator from Maryland . the Senator from Rhode Island . the Senator from Alabama . the Senator from Illinois . and the Senator from Minnesota are necessarily absent.'"
      ]
     },
     "execution_count": 94,
     "metadata": {},
     "output_type": "execute_result"
    }
   ],
   "source": [
    "val_list[val_ids.index('1030187360')]"
   ]
  },
  {
   "cell_type": "code",
   "execution_count": 95,
   "metadata": {},
   "outputs": [
    {
     "data": {
      "text/plain": [
       "'I thank the gentlelady. I would also like to thank Representative FUDGE and the Congressional Black Caucus. This issue of voter identification and voter suppression goes to the heart of our Constitution in this country. Eleven percent of adults would not have a qualified identification to be able to go and vote. 25 percent of African Americans would not have a qualified ID to be able to vote. And I have one question: Wheres the Tea Party on this issue? Wheres the Tea Party with all the placards about freedom and liberty and were losing our country? We have an issue that is fundamental to what it means to be an American. the right to vote. The question I have is: Wheres the Tea Party on the voter suppression issue?'"
      ]
     },
     "execution_count": 95,
     "metadata": {},
     "output_type": "execute_result"
    }
   ],
   "source": [
    "val_list[val_ids.index('1120045114')]"
   ]
  },
  {
   "cell_type": "code",
   "execution_count": null,
   "metadata": {},
   "outputs": [],
   "source": []
  }
 ],
 "metadata": {
  "kernelspec": {
   "display_name": "Python 3",
   "language": "python",
   "name": "python3"
  },
  "language_info": {
   "codemirror_mode": {
    "name": "ipython",
    "version": 3
   },
   "file_extension": ".py",
   "mimetype": "text/x-python",
   "name": "python",
   "nbconvert_exporter": "python",
   "pygments_lexer": "ipython3",
   "version": "3.5.2"
  }
 },
 "nbformat": 4,
 "nbformat_minor": 2
}
