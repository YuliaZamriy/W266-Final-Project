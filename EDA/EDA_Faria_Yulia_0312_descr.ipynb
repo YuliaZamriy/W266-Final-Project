{
 "cells": [
  {
   "cell_type": "code",
   "execution_count": 1,
   "metadata": {},
   "outputs": [
    {
     "data": {
      "text/html": [
       "<style>.container { width:100% !important; }</style>"
      ],
      "text/plain": [
       "<IPython.core.display.HTML object>"
      ]
     },
     "metadata": {},
     "output_type": "display_data"
    }
   ],
   "source": [
    "# increase cell width\n",
    "from IPython.core.display import display, HTML\n",
    "display(HTML(\"<style>.container { width:100% !important; }</style>\"))"
   ]
  },
  {
   "cell_type": "code",
   "execution_count": 2,
   "metadata": {},
   "outputs": [],
   "source": [
    "#imports\n",
    "from __future__ import division\n",
    "import nltk, re, pprint\n",
    "from nltk import word_tokenize\n",
    "from nltk.corpus import PlaintextCorpusReader\n",
    "import pandas as pd\n",
    "import numpy as np\n",
    "import matplotlib.pyplot as plt\n",
    "%matplotlib inline\n",
    "from collections import Counter\n",
    "pd.set_option('display.max_columns', None)  \n",
    "pd.set_option('display.expand_frame_repr', False)\n",
    "pd.set_option('max_colwidth', -1)"
   ]
  },
  {
   "cell_type": "code",
   "execution_count": 3,
   "metadata": {},
   "outputs": [
    {
     "data": {
      "text/plain": [
       "'/tf/notebooks/final-project/EDA'"
      ]
     },
     "execution_count": 3,
     "metadata": {},
     "output_type": "execute_result"
    }
   ],
   "source": [
    "pwd"
   ]
  },
  {
   "cell_type": "code",
   "execution_count": 4,
   "metadata": {},
   "outputs": [
    {
     "data": {
      "text/html": [
       "<div>\n",
       "<style scoped>\n",
       "    .dataframe tbody tr th:only-of-type {\n",
       "        vertical-align: middle;\n",
       "    }\n",
       "\n",
       "    .dataframe tbody tr th {\n",
       "        vertical-align: top;\n",
       "    }\n",
       "\n",
       "    .dataframe thead th {\n",
       "        text-align: right;\n",
       "    }\n",
       "</style>\n",
       "<table border=\"1\" class=\"dataframe\">\n",
       "  <thead>\n",
       "    <tr style=\"text-align: right;\">\n",
       "      <th></th>\n",
       "      <th>speech_id</th>\n",
       "      <th>date</th>\n",
       "      <th>char_count</th>\n",
       "      <th>word_count</th>\n",
       "      <th>speakerid</th>\n",
       "      <th>Party</th>\n",
       "      <th>Congress</th>\n",
       "      <th>Chamber</th>\n",
       "      <th>State</th>\n",
       "      <th>Ethnicity</th>\n",
       "      <th>Age</th>\n",
       "      <th>Age_lt_med</th>\n",
       "      <th>NonWhite</th>\n",
       "      <th>Female</th>\n",
       "      <th>speaker</th>\n",
       "      <th>Full Name</th>\n",
       "      <th>match</th>\n",
       "    </tr>\n",
       "  </thead>\n",
       "  <tbody>\n",
       "    <tr>\n",
       "      <th>0</th>\n",
       "      <td>970000005</td>\n",
       "      <td>19810105</td>\n",
       "      <td>201</td>\n",
       "      <td>34</td>\n",
       "      <td>97105301.0</td>\n",
       "      <td>R</td>\n",
       "      <td>97</td>\n",
       "      <td>S</td>\n",
       "      <td>IL</td>\n",
       "      <td>W</td>\n",
       "      <td>63.0</td>\n",
       "      <td>0.0</td>\n",
       "      <td>0.0</td>\n",
       "      <td>0.0</td>\n",
       "      <td>Mr. PERCY</td>\n",
       "      <td>PERCY, CHARLES</td>\n",
       "      <td>exact</td>\n",
       "    </tr>\n",
       "    <tr>\n",
       "      <th>1</th>\n",
       "      <td>970000006</td>\n",
       "      <td>19810105</td>\n",
       "      <td>202</td>\n",
       "      <td>34</td>\n",
       "      <td>97105071.0</td>\n",
       "      <td>D</td>\n",
       "      <td>97</td>\n",
       "      <td>S</td>\n",
       "      <td>KY</td>\n",
       "      <td>W</td>\n",
       "      <td>56.0</td>\n",
       "      <td>0.0</td>\n",
       "      <td>0.0</td>\n",
       "      <td>0.0</td>\n",
       "      <td>Mr. HUDDLESTON</td>\n",
       "      <td>HUDDLESTON, WALTER</td>\n",
       "      <td>exact</td>\n",
       "    </tr>\n",
       "    <tr>\n",
       "      <th>2</th>\n",
       "      <td>970000007</td>\n",
       "      <td>19810105</td>\n",
       "      <td>201</td>\n",
       "      <td>34</td>\n",
       "      <td>97106761.0</td>\n",
       "      <td>D</td>\n",
       "      <td>97</td>\n",
       "      <td>S</td>\n",
       "      <td>WA</td>\n",
       "      <td>W</td>\n",
       "      <td>70.0</td>\n",
       "      <td>0.0</td>\n",
       "      <td>0.0</td>\n",
       "      <td>0.0</td>\n",
       "      <td>Mr. JAcKSON</td>\n",
       "      <td>JACKSON, HENRY</td>\n",
       "      <td>exact</td>\n",
       "    </tr>\n",
       "    <tr>\n",
       "      <th>3</th>\n",
       "      <td>970000008</td>\n",
       "      <td>19810105</td>\n",
       "      <td>201</td>\n",
       "      <td>34</td>\n",
       "      <td>97106981.0</td>\n",
       "      <td>R</td>\n",
       "      <td>97</td>\n",
       "      <td>S</td>\n",
       "      <td>VT</td>\n",
       "      <td>W</td>\n",
       "      <td>69.0</td>\n",
       "      <td>0.0</td>\n",
       "      <td>0.0</td>\n",
       "      <td>0.0</td>\n",
       "      <td>Mr. STAFFORD</td>\n",
       "      <td>STAFFORD, ROBERT</td>\n",
       "      <td>exact</td>\n",
       "    </tr>\n",
       "    <tr>\n",
       "      <th>4</th>\n",
       "      <td>970000010</td>\n",
       "      <td>19810105</td>\n",
       "      <td>49</td>\n",
       "      <td>9</td>\n",
       "      <td>97104811.0</td>\n",
       "      <td>R</td>\n",
       "      <td>97</td>\n",
       "      <td>S</td>\n",
       "      <td>TN</td>\n",
       "      <td>W</td>\n",
       "      <td>57.0</td>\n",
       "      <td>0.0</td>\n",
       "      <td>0.0</td>\n",
       "      <td>0.0</td>\n",
       "      <td>Mr. BAKER</td>\n",
       "      <td>BAKER, HOWARD</td>\n",
       "      <td>exact</td>\n",
       "    </tr>\n",
       "    <tr>\n",
       "      <th>5</th>\n",
       "      <td>970000012</td>\n",
       "      <td>19810105</td>\n",
       "      <td>111</td>\n",
       "      <td>17</td>\n",
       "      <td>97104811.0</td>\n",
       "      <td>R</td>\n",
       "      <td>97</td>\n",
       "      <td>S</td>\n",
       "      <td>TN</td>\n",
       "      <td>W</td>\n",
       "      <td>57.0</td>\n",
       "      <td>0.0</td>\n",
       "      <td>0.0</td>\n",
       "      <td>0.0</td>\n",
       "      <td>Mr. BAKER</td>\n",
       "      <td>BAKER, HOWARD</td>\n",
       "      <td>exact</td>\n",
       "    </tr>\n",
       "    <tr>\n",
       "      <th>6</th>\n",
       "      <td>970000013</td>\n",
       "      <td>19810105</td>\n",
       "      <td>100</td>\n",
       "      <td>18</td>\n",
       "      <td>97107681.0</td>\n",
       "      <td>D</td>\n",
       "      <td>97</td>\n",
       "      <td>S</td>\n",
       "      <td>CA</td>\n",
       "      <td>W</td>\n",
       "      <td>68.0</td>\n",
       "      <td>0.0</td>\n",
       "      <td>0.0</td>\n",
       "      <td>0.0</td>\n",
       "      <td>Mr. CRANSTON</td>\n",
       "      <td>CRANSTON, ALAN</td>\n",
       "      <td>exact</td>\n",
       "    </tr>\n",
       "    <tr>\n",
       "      <th>7</th>\n",
       "      <td>970000015</td>\n",
       "      <td>19810105</td>\n",
       "      <td>2591</td>\n",
       "      <td>358</td>\n",
       "      <td>97104811.0</td>\n",
       "      <td>R</td>\n",
       "      <td>97</td>\n",
       "      <td>S</td>\n",
       "      <td>TN</td>\n",
       "      <td>W</td>\n",
       "      <td>57.0</td>\n",
       "      <td>0.0</td>\n",
       "      <td>0.0</td>\n",
       "      <td>0.0</td>\n",
       "      <td>Mr. BAKER</td>\n",
       "      <td>BAKER, HOWARD</td>\n",
       "      <td>exact</td>\n",
       "    </tr>\n",
       "    <tr>\n",
       "      <th>8</th>\n",
       "      <td>970000016</td>\n",
       "      <td>19810105</td>\n",
       "      <td>105</td>\n",
       "      <td>17</td>\n",
       "      <td>97104811.0</td>\n",
       "      <td>R</td>\n",
       "      <td>97</td>\n",
       "      <td>S</td>\n",
       "      <td>TN</td>\n",
       "      <td>W</td>\n",
       "      <td>57.0</td>\n",
       "      <td>0.0</td>\n",
       "      <td>0.0</td>\n",
       "      <td>0.0</td>\n",
       "      <td>Mr. BAKER</td>\n",
       "      <td>BAKER, HOWARD</td>\n",
       "      <td>exact</td>\n",
       "    </tr>\n",
       "    <tr>\n",
       "      <th>9</th>\n",
       "      <td>970000019</td>\n",
       "      <td>19810105</td>\n",
       "      <td>1426</td>\n",
       "      <td>250</td>\n",
       "      <td>97104811.0</td>\n",
       "      <td>R</td>\n",
       "      <td>97</td>\n",
       "      <td>S</td>\n",
       "      <td>TN</td>\n",
       "      <td>W</td>\n",
       "      <td>57.0</td>\n",
       "      <td>0.0</td>\n",
       "      <td>0.0</td>\n",
       "      <td>0.0</td>\n",
       "      <td>Mr. BAKER</td>\n",
       "      <td>BAKER, HOWARD</td>\n",
       "      <td>exact</td>\n",
       "    </tr>\n",
       "    <tr>\n",
       "      <th>10</th>\n",
       "      <td>970000020</td>\n",
       "      <td>19810105</td>\n",
       "      <td>60</td>\n",
       "      <td>8</td>\n",
       "      <td>97114621.0</td>\n",
       "      <td>D</td>\n",
       "      <td>97</td>\n",
       "      <td>S</td>\n",
       "      <td>WV</td>\n",
       "      <td>W</td>\n",
       "      <td>65.0</td>\n",
       "      <td>0.0</td>\n",
       "      <td>0.0</td>\n",
       "      <td>0.0</td>\n",
       "      <td>Mr. ROBERT C. BYRD</td>\n",
       "      <td>BYRD, ROBERT</td>\n",
       "      <td>exact</td>\n",
       "    </tr>\n",
       "    <tr>\n",
       "      <th>11</th>\n",
       "      <td>970000021</td>\n",
       "      <td>19810105</td>\n",
       "      <td>20</td>\n",
       "      <td>5</td>\n",
       "      <td>97104811.0</td>\n",
       "      <td>R</td>\n",
       "      <td>97</td>\n",
       "      <td>S</td>\n",
       "      <td>TN</td>\n",
       "      <td>W</td>\n",
       "      <td>57.0</td>\n",
       "      <td>0.0</td>\n",
       "      <td>0.0</td>\n",
       "      <td>0.0</td>\n",
       "      <td>Mr. BAKER</td>\n",
       "      <td>BAKER, HOWARD</td>\n",
       "      <td>exact</td>\n",
       "    </tr>\n",
       "    <tr>\n",
       "      <th>12</th>\n",
       "      <td>970000022</td>\n",
       "      <td>19810105</td>\n",
       "      <td>269</td>\n",
       "      <td>49</td>\n",
       "      <td>97114621.0</td>\n",
       "      <td>D</td>\n",
       "      <td>97</td>\n",
       "      <td>S</td>\n",
       "      <td>WV</td>\n",
       "      <td>W</td>\n",
       "      <td>65.0</td>\n",
       "      <td>0.0</td>\n",
       "      <td>0.0</td>\n",
       "      <td>0.0</td>\n",
       "      <td>Mr. ROBERT C. BYRD</td>\n",
       "      <td>BYRD, ROBERT</td>\n",
       "      <td>exact</td>\n",
       "    </tr>\n",
       "    <tr>\n",
       "      <th>13</th>\n",
       "      <td>970000023</td>\n",
       "      <td>19810105</td>\n",
       "      <td>43</td>\n",
       "      <td>7</td>\n",
       "      <td>97104811.0</td>\n",
       "      <td>R</td>\n",
       "      <td>97</td>\n",
       "      <td>S</td>\n",
       "      <td>TN</td>\n",
       "      <td>W</td>\n",
       "      <td>57.0</td>\n",
       "      <td>0.0</td>\n",
       "      <td>0.0</td>\n",
       "      <td>0.0</td>\n",
       "      <td>Mr. BAKER</td>\n",
       "      <td>BAKER, HOWARD</td>\n",
       "      <td>exact</td>\n",
       "    </tr>\n",
       "    <tr>\n",
       "      <th>14</th>\n",
       "      <td>970000024</td>\n",
       "      <td>19810105</td>\n",
       "      <td>87</td>\n",
       "      <td>15</td>\n",
       "      <td>97114621.0</td>\n",
       "      <td>D</td>\n",
       "      <td>97</td>\n",
       "      <td>S</td>\n",
       "      <td>WV</td>\n",
       "      <td>W</td>\n",
       "      <td>65.0</td>\n",
       "      <td>0.0</td>\n",
       "      <td>0.0</td>\n",
       "      <td>0.0</td>\n",
       "      <td>Mr. ROBERT C. BYRD</td>\n",
       "      <td>BYRD, ROBERT</td>\n",
       "      <td>exact</td>\n",
       "    </tr>\n",
       "  </tbody>\n",
       "</table>\n",
       "</div>"
      ],
      "text/plain": [
       "    speech_id      date  char_count  word_count   speakerid Party  Congress Chamber State Ethnicity   Age  Age_lt_med  NonWhite  Female             speaker           Full Name  match\n",
       "0   970000005  19810105  201         34          97105301.0  R     97        S       IL    W         63.0  0.0         0.0       0.0     Mr. PERCY           PERCY, CHARLES      exact\n",
       "1   970000006  19810105  202         34          97105071.0  D     97        S       KY    W         56.0  0.0         0.0       0.0     Mr. HUDDLESTON      HUDDLESTON, WALTER  exact\n",
       "2   970000007  19810105  201         34          97106761.0  D     97        S       WA    W         70.0  0.0         0.0       0.0     Mr. JAcKSON         JACKSON, HENRY      exact\n",
       "3   970000008  19810105  201         34          97106981.0  R     97        S       VT    W         69.0  0.0         0.0       0.0     Mr. STAFFORD        STAFFORD, ROBERT    exact\n",
       "4   970000010  19810105  49          9           97104811.0  R     97        S       TN    W         57.0  0.0         0.0       0.0     Mr. BAKER           BAKER, HOWARD       exact\n",
       "5   970000012  19810105  111         17          97104811.0  R     97        S       TN    W         57.0  0.0         0.0       0.0     Mr. BAKER           BAKER, HOWARD       exact\n",
       "6   970000013  19810105  100         18          97107681.0  D     97        S       CA    W         68.0  0.0         0.0       0.0     Mr. CRANSTON        CRANSTON, ALAN      exact\n",
       "7   970000015  19810105  2591        358         97104811.0  R     97        S       TN    W         57.0  0.0         0.0       0.0     Mr. BAKER           BAKER, HOWARD       exact\n",
       "8   970000016  19810105  105         17          97104811.0  R     97        S       TN    W         57.0  0.0         0.0       0.0     Mr. BAKER           BAKER, HOWARD       exact\n",
       "9   970000019  19810105  1426        250         97104811.0  R     97        S       TN    W         57.0  0.0         0.0       0.0     Mr. BAKER           BAKER, HOWARD       exact\n",
       "10  970000020  19810105  60          8           97114621.0  D     97        S       WV    W         65.0  0.0         0.0       0.0     Mr. ROBERT C. BYRD  BYRD, ROBERT        exact\n",
       "11  970000021  19810105  20          5           97104811.0  R     97        S       TN    W         57.0  0.0         0.0       0.0     Mr. BAKER           BAKER, HOWARD       exact\n",
       "12  970000022  19810105  269         49          97114621.0  D     97        S       WV    W         65.0  0.0         0.0       0.0     Mr. ROBERT C. BYRD  BYRD, ROBERT        exact\n",
       "13  970000023  19810105  43          7           97104811.0  R     97        S       TN    W         57.0  0.0         0.0       0.0     Mr. BAKER           BAKER, HOWARD       exact\n",
       "14  970000024  19810105  87          15          97114621.0  D     97        S       WV    W         65.0  0.0         0.0       0.0     Mr. ROBERT C. BYRD  BYRD, ROBERT        exact"
      ]
     },
     "execution_count": 4,
     "metadata": {},
     "output_type": "execute_result"
    }
   ],
   "source": [
    "descr = pd.read_csv('../data/QA/full_descr.txt', sep=\"|\")\n",
    "descr[:15]"
   ]
  },
  {
   "cell_type": "code",
   "execution_count": 5,
   "metadata": {},
   "outputs": [
    {
     "data": {
      "text/plain": [
       "(2914464, 17)"
      ]
     },
     "execution_count": 5,
     "metadata": {},
     "output_type": "execute_result"
    }
   ],
   "source": [
    "descr.shape"
   ]
  },
  {
   "cell_type": "code",
   "execution_count": 8,
   "metadata": {},
   "outputs": [
    {
     "data": {
      "text/plain": [
       "(68797, 17)"
      ]
     },
     "execution_count": 8,
     "metadata": {},
     "output_type": "execute_result"
    }
   ],
   "source": [
    "descr[descr['speech_id'].duplicated()].shape"
   ]
  },
  {
   "cell_type": "code",
   "execution_count": 11,
   "metadata": {},
   "outputs": [
    {
     "data": {
      "text/html": [
       "<div>\n",
       "<style scoped>\n",
       "    .dataframe tbody tr th:only-of-type {\n",
       "        vertical-align: middle;\n",
       "    }\n",
       "\n",
       "    .dataframe tbody tr th {\n",
       "        vertical-align: top;\n",
       "    }\n",
       "\n",
       "    .dataframe thead th {\n",
       "        text-align: right;\n",
       "    }\n",
       "</style>\n",
       "<table border=\"1\" class=\"dataframe\">\n",
       "  <thead>\n",
       "    <tr style=\"text-align: right;\">\n",
       "      <th></th>\n",
       "      <th>speech_id</th>\n",
       "      <th>date</th>\n",
       "      <th>char_count</th>\n",
       "      <th>word_count</th>\n",
       "      <th>speakerid</th>\n",
       "      <th>Party</th>\n",
       "      <th>Congress</th>\n",
       "      <th>Chamber</th>\n",
       "      <th>State</th>\n",
       "      <th>Ethnicity</th>\n",
       "      <th>Age</th>\n",
       "      <th>Age_lt_med</th>\n",
       "      <th>NonWhite</th>\n",
       "      <th>Female</th>\n",
       "      <th>speaker</th>\n",
       "      <th>Full Name</th>\n",
       "      <th>match</th>\n",
       "    </tr>\n",
       "  </thead>\n",
       "  <tbody>\n",
       "    <tr>\n",
       "      <th>2585820</th>\n",
       "      <td>970000461</td>\n",
       "      <td>19810105</td>\n",
       "      <td>526</td>\n",
       "      <td>94</td>\n",
       "      <td>97110170.0</td>\n",
       "      <td>D</td>\n",
       "      <td>97</td>\n",
       "      <td>H</td>\n",
       "      <td>CA</td>\n",
       "      <td>W</td>\n",
       "      <td>67.0</td>\n",
       "      <td>0.0</td>\n",
       "      <td>0.0</td>\n",
       "      <td>0.0</td>\n",
       "      <td>Mr. EDWARDS of California</td>\n",
       "      <td>EDWARDS, WILLIAM</td>\n",
       "      <td>fuzzy</td>\n",
       "    </tr>\n",
       "    <tr>\n",
       "      <th>2585821</th>\n",
       "      <td>970000461</td>\n",
       "      <td>19810105</td>\n",
       "      <td>526</td>\n",
       "      <td>94</td>\n",
       "      <td>97106650.0</td>\n",
       "      <td>R</td>\n",
       "      <td>97</td>\n",
       "      <td>H</td>\n",
       "      <td>AL</td>\n",
       "      <td>W</td>\n",
       "      <td>54.0</td>\n",
       "      <td>0.0</td>\n",
       "      <td>0.0</td>\n",
       "      <td>0.0</td>\n",
       "      <td>Mr. EDWARDS of California</td>\n",
       "      <td>EDWARDS, WILLIAM</td>\n",
       "      <td>fuzzy</td>\n",
       "    </tr>\n",
       "    <tr>\n",
       "      <th>2585837</th>\n",
       "      <td>970000476</td>\n",
       "      <td>19810105</td>\n",
       "      <td>2808</td>\n",
       "      <td>456</td>\n",
       "      <td>97111520.0</td>\n",
       "      <td>R</td>\n",
       "      <td>97</td>\n",
       "      <td>H</td>\n",
       "      <td>WI</td>\n",
       "      <td>W</td>\n",
       "      <td>44.0</td>\n",
       "      <td>1.0</td>\n",
       "      <td>0.0</td>\n",
       "      <td>0.0</td>\n",
       "      <td>Mr. ROTH</td>\n",
       "      <td>ROTH, TOBY</td>\n",
       "      <td>fuzzy</td>\n",
       "    </tr>\n",
       "    <tr>\n",
       "      <th>2585854</th>\n",
       "      <td>970000606</td>\n",
       "      <td>19810106</td>\n",
       "      <td>7</td>\n",
       "      <td>2</td>\n",
       "      <td>97107550.0</td>\n",
       "      <td>D</td>\n",
       "      <td>97</td>\n",
       "      <td>H</td>\n",
       "      <td>MO</td>\n",
       "      <td>W</td>\n",
       "      <td>59.0</td>\n",
       "      <td>0.0</td>\n",
       "      <td>0.0</td>\n",
       "      <td>0.0</td>\n",
       "      <td>Mr. YOUNG of Alaska</td>\n",
       "      <td>YOUNG, ROBERT</td>\n",
       "      <td>fuzzy</td>\n",
       "    </tr>\n",
       "    <tr>\n",
       "      <th>2585855</th>\n",
       "      <td>970000606</td>\n",
       "      <td>19810106</td>\n",
       "      <td>7</td>\n",
       "      <td>2</td>\n",
       "      <td>97121820.0</td>\n",
       "      <td>R</td>\n",
       "      <td>97</td>\n",
       "      <td>H</td>\n",
       "      <td>AK</td>\n",
       "      <td>W</td>\n",
       "      <td>49.0</td>\n",
       "      <td>1.0</td>\n",
       "      <td>0.0</td>\n",
       "      <td>0.0</td>\n",
       "      <td>Mr. YOUNG of Alaska</td>\n",
       "      <td>YOUNG, DON</td>\n",
       "      <td>fuzzy</td>\n",
       "    </tr>\n",
       "  </tbody>\n",
       "</table>\n",
       "</div>"
      ],
      "text/plain": [
       "         speech_id      date  char_count  word_count   speakerid Party  Congress Chamber State Ethnicity   Age  Age_lt_med  NonWhite  Female                    speaker         Full Name  match\n",
       "2585820  970000461  19810105  526         94          97110170.0  D     97        H       CA    W         67.0  0.0         0.0       0.0     Mr. EDWARDS of California  EDWARDS, WILLIAM  fuzzy\n",
       "2585821  970000461  19810105  526         94          97106650.0  R     97        H       AL    W         54.0  0.0         0.0       0.0     Mr. EDWARDS of California  EDWARDS, WILLIAM  fuzzy\n",
       "2585837  970000476  19810105  2808        456         97111520.0  R     97        H       WI    W         44.0  1.0         0.0       0.0     Mr. ROTH                   ROTH, TOBY        fuzzy\n",
       "2585854  970000606  19810106  7           2           97107550.0  D     97        H       MO    W         59.0  0.0         0.0       0.0     Mr. YOUNG of Alaska        YOUNG, ROBERT     fuzzy\n",
       "2585855  970000606  19810106  7           2           97121820.0  R     97        H       AK    W         49.0  1.0         0.0       0.0     Mr. YOUNG of Alaska        YOUNG, DON        fuzzy"
      ]
     },
     "execution_count": 11,
     "metadata": {},
     "output_type": "execute_result"
    }
   ],
   "source": [
    "descr[descr['speech_id'].duplicated()].head()"
   ]
  },
  {
   "cell_type": "code",
   "execution_count": 12,
   "metadata": {},
   "outputs": [
    {
     "data": {
      "text/plain": [
       "fuzzy    68797\n",
       "Name: match, dtype: int64"
      ]
     },
     "execution_count": 12,
     "metadata": {},
     "output_type": "execute_result"
    }
   ],
   "source": [
    "descr[descr['speech_id'].duplicated()].match.value_counts()"
   ]
  },
  {
   "cell_type": "code",
   "execution_count": 7,
   "metadata": {},
   "outputs": [
    {
     "data": {
      "text/plain": [
       "207997.0"
      ]
     },
     "execution_count": 7,
     "metadata": {},
     "output_type": "execute_result"
    }
   ],
   "source": [
    "descr['NonWhite'].sum()"
   ]
  },
  {
   "cell_type": "code",
   "execution_count": 8,
   "metadata": {},
   "outputs": [
    {
     "data": {
      "text/plain": [
       "200045.0"
      ]
     },
     "execution_count": 8,
     "metadata": {},
     "output_type": "execute_result"
    }
   ],
   "source": [
    "descr['Female'].sum()"
   ]
  },
  {
   "cell_type": "code",
   "execution_count": 9,
   "metadata": {},
   "outputs": [
    {
     "data": {
      "text/plain": [
       "866718.0"
      ]
     },
     "execution_count": 9,
     "metadata": {},
     "output_type": "execute_result"
    }
   ],
   "source": [
    "descr['Age_lt_med'].sum()"
   ]
  },
  {
   "cell_type": "markdown",
   "metadata": {},
   "source": [
    "### Word count distribution by congress"
   ]
  },
  {
   "cell_type": "code",
   "execution_count": 23,
   "metadata": {},
   "outputs": [
    {
     "data": {
      "text/plain": [
       "(1, 7.0, 218.46652669746814, 43.0, 22613, 2049.0)"
      ]
     },
     "execution_count": 23,
     "metadata": {},
     "output_type": "execute_result"
    }
   ],
   "source": [
    "descr.word_count.min(), np.percentile(descr.word_count, 10), descr.word_count.mean(), descr.word_count.median(), descr.word_count.max(), np.percentile(descr.word_count, 99)"
   ]
  },
  {
   "cell_type": "code",
   "execution_count": 38,
   "metadata": {},
   "outputs": [],
   "source": [
    "word_count = np.clip(descr.word_count, 0, np.percentile(descr.word_count, 99))"
   ]
  },
  {
   "cell_type": "code",
   "execution_count": 39,
   "metadata": {},
   "outputs": [
    {
     "data": {
      "text/plain": [
       "<matplotlib.axes._subplots.AxesSubplot at 0x7fefd1d62be0>"
      ]
     },
     "execution_count": 39,
     "metadata": {},
     "output_type": "execute_result"
    },
    {
     "data": {
      "image/png": "[encoded data removed]",
      "text/plain": [
       "<Figure size 432x288 with 1 Axes>"
      ]
     },
     "metadata": {
      "needs_background": "light"
     },
     "output_type": "display_data"
    }
   ],
   "source": [
    "word_count.hist(bins=40)"
   ]
  },
  {
   "cell_type": "code",
   "execution_count": 43,
   "metadata": {},
   "outputs": [],
   "source": [
    "congresses = pd.DataFrame()\n",
    "congresses['percentile'] = list(range(0,101, 10))\n",
    "for c in range(97,115):\n",
    "    temp = descr[descr.Congress==c]\n",
    "    pct = [np.percentile(temp.word_count, p) for p in range(0,101, 10)]\n",
    "    congresses[c] = pct"
   ]
  },
  {
   "cell_type": "code",
   "execution_count": 44,
   "metadata": {},
   "outputs": [
    {
     "data": {
      "text/html": [
       "<div>\n",
       "<style scoped>\n",
       "    .dataframe tbody tr th:only-of-type {\n",
       "        vertical-align: middle;\n",
       "    }\n",
       "\n",
       "    .dataframe tbody tr th {\n",
       "        vertical-align: top;\n",
       "    }\n",
       "\n",
       "    .dataframe thead th {\n",
       "        text-align: right;\n",
       "    }\n",
       "</style>\n",
       "<table border=\"1\" class=\"dataframe\">\n",
       "  <thead>\n",
       "    <tr style=\"text-align: right;\">\n",
       "      <th>percentile</th>\n",
       "      <th>0</th>\n",
       "      <th>10</th>\n",
       "      <th>20</th>\n",
       "      <th>30</th>\n",
       "      <th>40</th>\n",
       "      <th>50</th>\n",
       "      <th>60</th>\n",
       "      <th>70</th>\n",
       "      <th>80</th>\n",
       "      <th>90</th>\n",
       "      <th>100</th>\n",
       "    </tr>\n",
       "  </thead>\n",
       "  <tbody>\n",
       "    <tr>\n",
       "      <th>97</th>\n",
       "      <td>1.0</td>\n",
       "      <td>6.0</td>\n",
       "      <td>9.0</td>\n",
       "      <td>13.0</td>\n",
       "      <td>18.0</td>\n",
       "      <td>29.0</td>\n",
       "      <td>52.0</td>\n",
       "      <td>105.0</td>\n",
       "      <td>216.0</td>\n",
       "      <td>447.0</td>\n",
       "      <td>11750.0</td>\n",
       "    </tr>\n",
       "    <tr>\n",
       "      <th>98</th>\n",
       "      <td>1.0</td>\n",
       "      <td>6.0</td>\n",
       "      <td>9.0</td>\n",
       "      <td>13.0</td>\n",
       "      <td>19.0</td>\n",
       "      <td>31.0</td>\n",
       "      <td>57.0</td>\n",
       "      <td>118.0</td>\n",
       "      <td>233.0</td>\n",
       "      <td>468.0</td>\n",
       "      <td>11882.0</td>\n",
       "    </tr>\n",
       "    <tr>\n",
       "      <th>99</th>\n",
       "      <td>1.0</td>\n",
       "      <td>6.0</td>\n",
       "      <td>10.0</td>\n",
       "      <td>14.0</td>\n",
       "      <td>20.0</td>\n",
       "      <td>33.0</td>\n",
       "      <td>62.0</td>\n",
       "      <td>133.0</td>\n",
       "      <td>255.0</td>\n",
       "      <td>504.0</td>\n",
       "      <td>15777.0</td>\n",
       "    </tr>\n",
       "    <tr>\n",
       "      <th>100</th>\n",
       "      <td>1.0</td>\n",
       "      <td>6.0</td>\n",
       "      <td>10.0</td>\n",
       "      <td>15.0</td>\n",
       "      <td>21.0</td>\n",
       "      <td>35.0</td>\n",
       "      <td>66.0</td>\n",
       "      <td>147.0</td>\n",
       "      <td>282.0</td>\n",
       "      <td>535.0</td>\n",
       "      <td>12766.0</td>\n",
       "    </tr>\n",
       "    <tr>\n",
       "      <th>101</th>\n",
       "      <td>1.0</td>\n",
       "      <td>7.0</td>\n",
       "      <td>11.0</td>\n",
       "      <td>15.0</td>\n",
       "      <td>23.0</td>\n",
       "      <td>40.0</td>\n",
       "      <td>82.0</td>\n",
       "      <td>180.0</td>\n",
       "      <td>317.0</td>\n",
       "      <td>586.0</td>\n",
       "      <td>10068.0</td>\n",
       "    </tr>\n",
       "    <tr>\n",
       "      <th>102</th>\n",
       "      <td>1.0</td>\n",
       "      <td>7.0</td>\n",
       "      <td>11.0</td>\n",
       "      <td>16.0</td>\n",
       "      <td>24.0</td>\n",
       "      <td>44.0</td>\n",
       "      <td>95.0</td>\n",
       "      <td>196.0</td>\n",
       "      <td>336.0</td>\n",
       "      <td>612.0</td>\n",
       "      <td>17309.0</td>\n",
       "    </tr>\n",
       "    <tr>\n",
       "      <th>103</th>\n",
       "      <td>1.0</td>\n",
       "      <td>7.0</td>\n",
       "      <td>11.0</td>\n",
       "      <td>16.0</td>\n",
       "      <td>25.0</td>\n",
       "      <td>44.0</td>\n",
       "      <td>93.0</td>\n",
       "      <td>186.0</td>\n",
       "      <td>321.0</td>\n",
       "      <td>605.0</td>\n",
       "      <td>10027.0</td>\n",
       "    </tr>\n",
       "    <tr>\n",
       "      <th>104</th>\n",
       "      <td>1.0</td>\n",
       "      <td>7.0</td>\n",
       "      <td>11.0</td>\n",
       "      <td>15.0</td>\n",
       "      <td>24.0</td>\n",
       "      <td>43.0</td>\n",
       "      <td>91.0</td>\n",
       "      <td>178.0</td>\n",
       "      <td>311.0</td>\n",
       "      <td>599.0</td>\n",
       "      <td>12555.0</td>\n",
       "    </tr>\n",
       "    <tr>\n",
       "      <th>105</th>\n",
       "      <td>1.0</td>\n",
       "      <td>7.0</td>\n",
       "      <td>12.0</td>\n",
       "      <td>16.0</td>\n",
       "      <td>26.0</td>\n",
       "      <td>47.0</td>\n",
       "      <td>106.0</td>\n",
       "      <td>203.0</td>\n",
       "      <td>364.0</td>\n",
       "      <td>660.0</td>\n",
       "      <td>14321.0</td>\n",
       "    </tr>\n",
       "    <tr>\n",
       "      <th>106</th>\n",
       "      <td>1.0</td>\n",
       "      <td>7.0</td>\n",
       "      <td>12.0</td>\n",
       "      <td>17.0</td>\n",
       "      <td>27.0</td>\n",
       "      <td>48.0</td>\n",
       "      <td>112.0</td>\n",
       "      <td>213.0</td>\n",
       "      <td>373.0</td>\n",
       "      <td>669.0</td>\n",
       "      <td>13325.0</td>\n",
       "    </tr>\n",
       "    <tr>\n",
       "      <th>107</th>\n",
       "      <td>1.0</td>\n",
       "      <td>8.0</td>\n",
       "      <td>12.0</td>\n",
       "      <td>17.0</td>\n",
       "      <td>28.0</td>\n",
       "      <td>50.0</td>\n",
       "      <td>118.0</td>\n",
       "      <td>224.0</td>\n",
       "      <td>384.0</td>\n",
       "      <td>694.0</td>\n",
       "      <td>17835.0</td>\n",
       "    </tr>\n",
       "    <tr>\n",
       "      <th>108</th>\n",
       "      <td>1.0</td>\n",
       "      <td>7.0</td>\n",
       "      <td>12.0</td>\n",
       "      <td>18.0</td>\n",
       "      <td>29.0</td>\n",
       "      <td>52.0</td>\n",
       "      <td>123.0</td>\n",
       "      <td>230.0</td>\n",
       "      <td>398.0</td>\n",
       "      <td>708.0</td>\n",
       "      <td>11732.0</td>\n",
       "    </tr>\n",
       "    <tr>\n",
       "      <th>109</th>\n",
       "      <td>1.0</td>\n",
       "      <td>8.0</td>\n",
       "      <td>12.0</td>\n",
       "      <td>19.0</td>\n",
       "      <td>30.0</td>\n",
       "      <td>59.0</td>\n",
       "      <td>142.0</td>\n",
       "      <td>243.0</td>\n",
       "      <td>408.0</td>\n",
       "      <td>720.0</td>\n",
       "      <td>11132.0</td>\n",
       "    </tr>\n",
       "    <tr>\n",
       "      <th>110</th>\n",
       "      <td>1.0</td>\n",
       "      <td>8.0</td>\n",
       "      <td>13.0</td>\n",
       "      <td>19.0</td>\n",
       "      <td>29.0</td>\n",
       "      <td>57.0</td>\n",
       "      <td>139.0</td>\n",
       "      <td>233.0</td>\n",
       "      <td>396.0</td>\n",
       "      <td>698.0</td>\n",
       "      <td>15654.0</td>\n",
       "    </tr>\n",
       "    <tr>\n",
       "      <th>111</th>\n",
       "      <td>1.0</td>\n",
       "      <td>9.0</td>\n",
       "      <td>14.0</td>\n",
       "      <td>21.0</td>\n",
       "      <td>32.0</td>\n",
       "      <td>65.0</td>\n",
       "      <td>148.0</td>\n",
       "      <td>229.0</td>\n",
       "      <td>383.0</td>\n",
       "      <td>697.0</td>\n",
       "      <td>22613.0</td>\n",
       "    </tr>\n",
       "    <tr>\n",
       "      <th>112</th>\n",
       "      <td>1.0</td>\n",
       "      <td>9.0</td>\n",
       "      <td>15.0</td>\n",
       "      <td>21.0</td>\n",
       "      <td>31.0</td>\n",
       "      <td>65.0</td>\n",
       "      <td>151.0</td>\n",
       "      <td>233.0</td>\n",
       "      <td>393.0</td>\n",
       "      <td>690.0</td>\n",
       "      <td>12517.0</td>\n",
       "    </tr>\n",
       "    <tr>\n",
       "      <th>113</th>\n",
       "      <td>1.0</td>\n",
       "      <td>9.0</td>\n",
       "      <td>15.0</td>\n",
       "      <td>21.0</td>\n",
       "      <td>33.0</td>\n",
       "      <td>75.0</td>\n",
       "      <td>159.0</td>\n",
       "      <td>231.0</td>\n",
       "      <td>391.0</td>\n",
       "      <td>713.0</td>\n",
       "      <td>21422.0</td>\n",
       "    </tr>\n",
       "    <tr>\n",
       "      <th>114</th>\n",
       "      <td>1.0</td>\n",
       "      <td>10.0</td>\n",
       "      <td>15.0</td>\n",
       "      <td>22.0</td>\n",
       "      <td>34.0</td>\n",
       "      <td>73.0</td>\n",
       "      <td>157.0</td>\n",
       "      <td>229.0</td>\n",
       "      <td>381.0</td>\n",
       "      <td>687.0</td>\n",
       "      <td>13267.0</td>\n",
       "    </tr>\n",
       "  </tbody>\n",
       "</table>\n",
       "</div>"
      ],
      "text/plain": [
       "percentile    0    10    20    30    40    50     60     70     80     90      100\n",
       "97          1.0  6.0   9.0   13.0  18.0  29.0  52.0   105.0  216.0  447.0  11750.0\n",
       "98          1.0  6.0   9.0   13.0  19.0  31.0  57.0   118.0  233.0  468.0  11882.0\n",
       "99          1.0  6.0   10.0  14.0  20.0  33.0  62.0   133.0  255.0  504.0  15777.0\n",
       "100         1.0  6.0   10.0  15.0  21.0  35.0  66.0   147.0  282.0  535.0  12766.0\n",
       "101         1.0  7.0   11.0  15.0  23.0  40.0  82.0   180.0  317.0  586.0  10068.0\n",
       "102         1.0  7.0   11.0  16.0  24.0  44.0  95.0   196.0  336.0  612.0  17309.0\n",
       "103         1.0  7.0   11.0  16.0  25.0  44.0  93.0   186.0  321.0  605.0  10027.0\n",
       "104         1.0  7.0   11.0  15.0  24.0  43.0  91.0   178.0  311.0  599.0  12555.0\n",
       "105         1.0  7.0   12.0  16.0  26.0  47.0  106.0  203.0  364.0  660.0  14321.0\n",
       "106         1.0  7.0   12.0  17.0  27.0  48.0  112.0  213.0  373.0  669.0  13325.0\n",
       "107         1.0  8.0   12.0  17.0  28.0  50.0  118.0  224.0  384.0  694.0  17835.0\n",
       "108         1.0  7.0   12.0  18.0  29.0  52.0  123.0  230.0  398.0  708.0  11732.0\n",
       "109         1.0  8.0   12.0  19.0  30.0  59.0  142.0  243.0  408.0  720.0  11132.0\n",
       "110         1.0  8.0   13.0  19.0  29.0  57.0  139.0  233.0  396.0  698.0  15654.0\n",
       "111         1.0  9.0   14.0  21.0  32.0  65.0  148.0  229.0  383.0  697.0  22613.0\n",
       "112         1.0  9.0   15.0  21.0  31.0  65.0  151.0  233.0  393.0  690.0  12517.0\n",
       "113         1.0  9.0   15.0  21.0  33.0  75.0  159.0  231.0  391.0  713.0  21422.0\n",
       "114         1.0  10.0  15.0  22.0  34.0  73.0  157.0  229.0  381.0  687.0  13267.0"
      ]
     },
     "execution_count": 44,
     "metadata": {},
     "output_type": "execute_result"
    }
   ],
   "source": [
    "congresses_t = congresses.T[1:]\n",
    "congresses_t.columns = congresses.percentile\n",
    "congresses_t"
   ]
  },
  {
   "cell_type": "code",
   "execution_count": 49,
   "metadata": {},
   "outputs": [
    {
     "data": {
      "image/png": "[encoded data removed]",
      "text/plain": [
       "<Figure size 432x288 with 1 Axes>"
      ]
     },
     "metadata": {
      "needs_background": "light"
     },
     "output_type": "display_data"
    }
   ],
   "source": [
    "# median word count by congress\n",
    "_ = congresses_t[50].plot.bar()"
   ]
  },
  {
   "cell_type": "markdown",
   "metadata": {},
   "source": [
    "### Word count by target variables"
   ]
  },
  {
   "cell_type": "code",
   "execution_count": 51,
   "metadata": {},
   "outputs": [
    {
     "data": {
      "text/html": [
       "<div>\n",
       "<style scoped>\n",
       "    .dataframe tbody tr th:only-of-type {\n",
       "        vertical-align: middle;\n",
       "    }\n",
       "\n",
       "    .dataframe tbody tr th {\n",
       "        vertical-align: top;\n",
       "    }\n",
       "\n",
       "    .dataframe thead th {\n",
       "        text-align: right;\n",
       "    }\n",
       "</style>\n",
       "<table border=\"1\" class=\"dataframe\">\n",
       "  <thead>\n",
       "    <tr style=\"text-align: right;\">\n",
       "      <th></th>\n",
       "      <th>word_count</th>\n",
       "    </tr>\n",
       "    <tr>\n",
       "      <th>NonWhite</th>\n",
       "      <th></th>\n",
       "    </tr>\n",
       "  </thead>\n",
       "  <tbody>\n",
       "    <tr>\n",
       "      <th>0.0</th>\n",
       "      <td>517473664</td>\n",
       "    </tr>\n",
       "    <tr>\n",
       "      <th>1.0</th>\n",
       "      <td>47438610</td>\n",
       "    </tr>\n",
       "  </tbody>\n",
       "</table>\n",
       "</div>"
      ],
      "text/plain": [
       "          word_count\n",
       "NonWhite            \n",
       "0.0       517473664 \n",
       "1.0       47438610  "
      ]
     },
     "execution_count": 51,
     "metadata": {},
     "output_type": "execute_result"
    }
   ],
   "source": [
    "descr[['NonWhite', 'word_count']].groupby(['NonWhite']).sum()"
   ]
  },
  {
   "cell_type": "code",
   "execution_count": 52,
   "metadata": {},
   "outputs": [
    {
     "data": {
      "text/html": [
       "<div>\n",
       "<style scoped>\n",
       "    .dataframe tbody tr th:only-of-type {\n",
       "        vertical-align: middle;\n",
       "    }\n",
       "\n",
       "    .dataframe tbody tr th {\n",
       "        vertical-align: top;\n",
       "    }\n",
       "\n",
       "    .dataframe thead th {\n",
       "        text-align: right;\n",
       "    }\n",
       "</style>\n",
       "<table border=\"1\" class=\"dataframe\">\n",
       "  <thead>\n",
       "    <tr style=\"text-align: right;\">\n",
       "      <th></th>\n",
       "      <th>word_count</th>\n",
       "    </tr>\n",
       "    <tr>\n",
       "      <th>Female</th>\n",
       "      <th></th>\n",
       "    </tr>\n",
       "  </thead>\n",
       "  <tbody>\n",
       "    <tr>\n",
       "      <th>0.0</th>\n",
       "      <td>510725189</td>\n",
       "    </tr>\n",
       "    <tr>\n",
       "      <th>1.0</th>\n",
       "      <td>54187085</td>\n",
       "    </tr>\n",
       "  </tbody>\n",
       "</table>\n",
       "</div>"
      ],
      "text/plain": [
       "        word_count\n",
       "Female            \n",
       "0.0     510725189 \n",
       "1.0     54187085  "
      ]
     },
     "execution_count": 52,
     "metadata": {},
     "output_type": "execute_result"
    }
   ],
   "source": [
    "descr[['Female', 'word_count']].groupby(['Female']).sum()"
   ]
  },
  {
   "cell_type": "code",
   "execution_count": 53,
   "metadata": {},
   "outputs": [
    {
     "data": {
      "text/html": [
       "<div>\n",
       "<style scoped>\n",
       "    .dataframe tbody tr th:only-of-type {\n",
       "        vertical-align: middle;\n",
       "    }\n",
       "\n",
       "    .dataframe tbody tr th {\n",
       "        vertical-align: top;\n",
       "    }\n",
       "\n",
       "    .dataframe thead th {\n",
       "        text-align: right;\n",
       "    }\n",
       "</style>\n",
       "<table border=\"1\" class=\"dataframe\">\n",
       "  <thead>\n",
       "    <tr style=\"text-align: right;\">\n",
       "      <th></th>\n",
       "      <th>word_count</th>\n",
       "    </tr>\n",
       "    <tr>\n",
       "      <th>Age_lt_med</th>\n",
       "      <th></th>\n",
       "    </tr>\n",
       "  </thead>\n",
       "  <tbody>\n",
       "    <tr>\n",
       "      <th>0.0</th>\n",
       "      <td>363832066</td>\n",
       "    </tr>\n",
       "    <tr>\n",
       "      <th>1.0</th>\n",
       "      <td>201080208</td>\n",
       "    </tr>\n",
       "  </tbody>\n",
       "</table>\n",
       "</div>"
      ],
      "text/plain": [
       "            word_count\n",
       "Age_lt_med            \n",
       "0.0         363832066 \n",
       "1.0         201080208 "
      ]
     },
     "execution_count": 53,
     "metadata": {},
     "output_type": "execute_result"
    }
   ],
   "source": [
    "descr[['Age_lt_med', 'word_count']].groupby(['Age_lt_med']).sum()"
   ]
  },
  {
   "cell_type": "markdown",
   "metadata": {},
   "source": [
    "### Speeches longer than median word count"
   ]
  },
  {
   "cell_type": "code",
   "execution_count": 54,
   "metadata": {},
   "outputs": [
    {
     "data": {
      "text/plain": [
       "count    2.585807e+06\n",
       "mean     4.554031e+01\n",
       "std      1.234541e+01\n",
       "min      2.900000e+01\n",
       "25%      3.500000e+01\n",
       "50%      4.400000e+01\n",
       "75%      5.200000e+01\n",
       "max      7.500000e+01\n",
       "Name: word_count_med, dtype: float64"
      ]
     },
     "execution_count": 54,
     "metadata": {},
     "output_type": "execute_result"
    }
   ],
   "source": [
    "# get median by congress\n",
    "med = descr[['word_count','Congress']].groupby(['Congress']).median().reset_index()\n",
    "med.columns = ['Congress', 'word_count_med']\n",
    "descr = descr.merge(med, how='left', on='Congress')\n",
    "descr['word_count_med'].describe()"
   ]
  },
  {
   "cell_type": "code",
   "execution_count": 55,
   "metadata": {},
   "outputs": [
    {
     "data": {
      "text/plain": [
       "0.5017439429934253"
      ]
     },
     "execution_count": 55,
     "metadata": {},
     "output_type": "execute_result"
    }
   ],
   "source": [
    "descr['word_count_ge_med'] = descr.apply(lambda row: 0 if row['word_count'] < row['word_count_med'] else 1, axis=1)\n",
    "descr['word_count_ge_med'].mean()"
   ]
  },
  {
   "cell_type": "code",
   "execution_count": 61,
   "metadata": {},
   "outputs": [
    {
     "data": {
      "text/plain": [
       "(1245, 8591)"
      ]
     },
     "execution_count": 61,
     "metadata": {},
     "output_type": "execute_result"
    }
   ],
   "source": [
    "descr[(descr.word_count_ge_med==1) & (descr.NonWhite==1)]['speakerid'].nunique(), descr[(descr.word_count_ge_med==1) & (descr.NonWhite==0)]['speakerid'].nunique()"
   ]
  },
  {
   "cell_type": "code",
   "execution_count": 62,
   "metadata": {},
   "outputs": [
    {
     "data": {
      "text/plain": [
       "(1127, 8709)"
      ]
     },
     "execution_count": 62,
     "metadata": {},
     "output_type": "execute_result"
    }
   ],
   "source": [
    "descr[(descr.word_count_ge_med==1) & (descr.Female==1)]['speakerid'].nunique(), descr[(descr.word_count_ge_med==1) & (descr.Female==0)]['speakerid'].nunique()"
   ]
  },
  {
   "cell_type": "code",
   "execution_count": 63,
   "metadata": {},
   "outputs": [
    {
     "data": {
      "text/plain": [
       "(4745, 5091)"
      ]
     },
     "execution_count": 63,
     "metadata": {},
     "output_type": "execute_result"
    }
   ],
   "source": [
    "descr[(descr.word_count_ge_med==1) & (descr.Age_lt_med==1)]['speakerid'].nunique(), descr[(descr.word_count_ge_med==1) & (descr.Age_lt_med==0)]['speakerid'].nunique()"
   ]
  },
  {
   "cell_type": "code",
   "execution_count": 65,
   "metadata": {},
   "outputs": [
    {
     "data": {
      "text/plain": [
       "0.0    1185514\n",
       "1.0    111899 \n",
       "Name: NonWhite, dtype: int64"
      ]
     },
     "execution_count": 65,
     "metadata": {},
     "output_type": "execute_result"
    }
   ],
   "source": [
    "descr[descr.word_count_ge_med==1].NonWhite.value_counts()"
   ]
  },
  {
   "cell_type": "code",
   "execution_count": 66,
   "metadata": {},
   "outputs": [
    {
     "data": {
      "text/plain": [
       "0.0    1181458\n",
       "1.0    115955 \n",
       "Name: Female, dtype: int64"
      ]
     },
     "execution_count": 66,
     "metadata": {},
     "output_type": "execute_result"
    }
   ],
   "source": [
    "descr[descr.word_count_ge_med==1].Female.value_counts()"
   ]
  },
  {
   "cell_type": "code",
   "execution_count": 67,
   "metadata": {},
   "outputs": [
    {
     "data": {
      "text/plain": [
       "0.0    824203\n",
       "1.0    473210\n",
       "Name: Age_lt_med, dtype: int64"
      ]
     },
     "execution_count": 67,
     "metadata": {},
     "output_type": "execute_result"
    }
   ],
   "source": [
    "descr[descr.word_count_ge_med==1].Age_lt_med.value_counts()"
   ]
  },
  {
   "cell_type": "code",
   "execution_count": 68,
   "metadata": {},
   "outputs": [
    {
     "data": {
      "text/html": [
       "<div>\n",
       "<style scoped>\n",
       "    .dataframe tbody tr th:only-of-type {\n",
       "        vertical-align: middle;\n",
       "    }\n",
       "\n",
       "    .dataframe tbody tr th {\n",
       "        vertical-align: top;\n",
       "    }\n",
       "\n",
       "    .dataframe thead th {\n",
       "        text-align: right;\n",
       "    }\n",
       "</style>\n",
       "<table border=\"1\" class=\"dataframe\">\n",
       "  <thead>\n",
       "    <tr style=\"text-align: right;\">\n",
       "      <th></th>\n",
       "      <th>word_count</th>\n",
       "    </tr>\n",
       "    <tr>\n",
       "      <th>NonWhite</th>\n",
       "      <th></th>\n",
       "    </tr>\n",
       "  </thead>\n",
       "  <tbody>\n",
       "    <tr>\n",
       "      <th>0.0</th>\n",
       "      <td>498269695</td>\n",
       "    </tr>\n",
       "    <tr>\n",
       "      <th>1.0</th>\n",
       "      <td>45737711</td>\n",
       "    </tr>\n",
       "  </tbody>\n",
       "</table>\n",
       "</div>"
      ],
      "text/plain": [
       "          word_count\n",
       "NonWhite            \n",
       "0.0       498269695 \n",
       "1.0       45737711  "
      ]
     },
     "execution_count": 68,
     "metadata": {},
     "output_type": "execute_result"
    }
   ],
   "source": [
    "descr[descr.word_count_ge_med==1][['NonWhite', 'word_count']].groupby(['NonWhite']).sum()"
   ]
  },
  {
   "cell_type": "code",
   "execution_count": 69,
   "metadata": {
    "scrolled": true
   },
   "outputs": [
    {
     "data": {
      "text/html": [
       "<div>\n",
       "<style scoped>\n",
       "    .dataframe tbody tr th:only-of-type {\n",
       "        vertical-align: middle;\n",
       "    }\n",
       "\n",
       "    .dataframe tbody tr th {\n",
       "        vertical-align: top;\n",
       "    }\n",
       "\n",
       "    .dataframe thead th {\n",
       "        text-align: right;\n",
       "    }\n",
       "</style>\n",
       "<table border=\"1\" class=\"dataframe\">\n",
       "  <thead>\n",
       "    <tr style=\"text-align: right;\">\n",
       "      <th></th>\n",
       "      <th>word_count</th>\n",
       "    </tr>\n",
       "    <tr>\n",
       "      <th>Female</th>\n",
       "      <th></th>\n",
       "    </tr>\n",
       "  </thead>\n",
       "  <tbody>\n",
       "    <tr>\n",
       "      <th>0.0</th>\n",
       "      <td>491357155</td>\n",
       "    </tr>\n",
       "    <tr>\n",
       "      <th>1.0</th>\n",
       "      <td>52650251</td>\n",
       "    </tr>\n",
       "  </tbody>\n",
       "</table>\n",
       "</div>"
      ],
      "text/plain": [
       "        word_count\n",
       "Female            \n",
       "0.0     491357155 \n",
       "1.0     52650251  "
      ]
     },
     "execution_count": 69,
     "metadata": {},
     "output_type": "execute_result"
    }
   ],
   "source": [
    "descr[descr.word_count_ge_med==1][['Female', 'word_count']].groupby(['Female']).sum()"
   ]
  },
  {
   "cell_type": "code",
   "execution_count": 70,
   "metadata": {},
   "outputs": [
    {
     "data": {
      "text/html": [
       "<div>\n",
       "<style scoped>\n",
       "    .dataframe tbody tr th:only-of-type {\n",
       "        vertical-align: middle;\n",
       "    }\n",
       "\n",
       "    .dataframe tbody tr th {\n",
       "        vertical-align: top;\n",
       "    }\n",
       "\n",
       "    .dataframe thead th {\n",
       "        text-align: right;\n",
       "    }\n",
       "</style>\n",
       "<table border=\"1\" class=\"dataframe\">\n",
       "  <thead>\n",
       "    <tr style=\"text-align: right;\">\n",
       "      <th></th>\n",
       "      <th>word_count</th>\n",
       "    </tr>\n",
       "    <tr>\n",
       "      <th>Age_lt_med</th>\n",
       "      <th></th>\n",
       "    </tr>\n",
       "  </thead>\n",
       "  <tbody>\n",
       "    <tr>\n",
       "      <th>0.0</th>\n",
       "      <td>349183000</td>\n",
       "    </tr>\n",
       "    <tr>\n",
       "      <th>1.0</th>\n",
       "      <td>194824406</td>\n",
       "    </tr>\n",
       "  </tbody>\n",
       "</table>\n",
       "</div>"
      ],
      "text/plain": [
       "            word_count\n",
       "Age_lt_med            \n",
       "0.0         349183000 \n",
       "1.0         194824406 "
      ]
     },
     "execution_count": 70,
     "metadata": {},
     "output_type": "execute_result"
    }
   ],
   "source": [
    "descr[descr.word_count_ge_med==1][['Age_lt_med', 'word_count']].groupby(['Age_lt_med']).sum()"
   ]
  },
  {
   "cell_type": "markdown",
   "metadata": {},
   "source": [
    "### Fuzzy match on last name, gender, congress"
   ]
  },
  {
   "cell_type": "code",
   "execution_count": 74,
   "metadata": {},
   "outputs": [
    {
     "data": {
      "text/html": [
       "<div>\n",
       "<style scoped>\n",
       "    .dataframe tbody tr th:only-of-type {\n",
       "        vertical-align: middle;\n",
       "    }\n",
       "\n",
       "    .dataframe tbody tr th {\n",
       "        vertical-align: top;\n",
       "    }\n",
       "\n",
       "    .dataframe thead th {\n",
       "        text-align: right;\n",
       "    }\n",
       "</style>\n",
       "<table border=\"1\" class=\"dataframe\">\n",
       "  <thead>\n",
       "    <tr style=\"text-align: right;\">\n",
       "      <th></th>\n",
       "      <th>speech_id</th>\n",
       "      <th>date</th>\n",
       "      <th>char_count</th>\n",
       "      <th>word_count</th>\n",
       "      <th>speakerid</th>\n",
       "      <th>Party</th>\n",
       "      <th>Congress</th>\n",
       "      <th>Ethnicity</th>\n",
       "      <th>Age</th>\n",
       "      <th>Age_lt_med</th>\n",
       "      <th>NonWhite</th>\n",
       "      <th>Female</th>\n",
       "      <th>speaker</th>\n",
       "      <th>Full Name</th>\n",
       "    </tr>\n",
       "  </thead>\n",
       "  <tbody>\n",
       "    <tr>\n",
       "      <th>0</th>\n",
       "      <td>970000418</td>\n",
       "      <td>19810105</td>\n",
       "      <td>1059</td>\n",
       "      <td>176</td>\n",
       "      <td>97105830.0</td>\n",
       "      <td>R</td>\n",
       "      <td>97</td>\n",
       "      <td>W</td>\n",
       "      <td>46.0</td>\n",
       "      <td>1.0</td>\n",
       "      <td>0.0</td>\n",
       "      <td>0.0</td>\n",
       "      <td>Mr. DAN DANIEL</td>\n",
       "      <td>DANIEL, ROBERT</td>\n",
       "    </tr>\n",
       "    <tr>\n",
       "      <th>1</th>\n",
       "      <td>970000450</td>\n",
       "      <td>19810105</td>\n",
       "      <td>40</td>\n",
       "      <td>7</td>\n",
       "      <td>97106010.0</td>\n",
       "      <td>R</td>\n",
       "      <td>97</td>\n",
       "      <td>W</td>\n",
       "      <td>61.0</td>\n",
       "      <td>0.0</td>\n",
       "      <td>0.0</td>\n",
       "      <td>0.0</td>\n",
       "      <td>Mr. FINDLEY</td>\n",
       "      <td>FINDLEY, PAUL</td>\n",
       "    </tr>\n",
       "    <tr>\n",
       "      <th>2</th>\n",
       "      <td>970000451</td>\n",
       "      <td>19810105</td>\n",
       "      <td>16</td>\n",
       "      <td>3</td>\n",
       "      <td>97108680.0</td>\n",
       "      <td>D</td>\n",
       "      <td>97</td>\n",
       "      <td>W</td>\n",
       "      <td>69.0</td>\n",
       "      <td>0.0</td>\n",
       "      <td>0.0</td>\n",
       "      <td>0.0</td>\n",
       "      <td>Mr. ANDERSON of California</td>\n",
       "      <td>ANDERSON, GLENN</td>\n",
       "    </tr>\n",
       "    <tr>\n",
       "      <th>3</th>\n",
       "      <td>970000452</td>\n",
       "      <td>19810105</td>\n",
       "      <td>18</td>\n",
       "      <td>3</td>\n",
       "      <td>97107630.0</td>\n",
       "      <td>D</td>\n",
       "      <td>97</td>\n",
       "      <td>W</td>\n",
       "      <td>37.0</td>\n",
       "      <td>1.0</td>\n",
       "      <td>0.0</td>\n",
       "      <td>0.0</td>\n",
       "      <td>Mr. BONER of Tennessee</td>\n",
       "      <td>BONER, WILLIAM</td>\n",
       "    </tr>\n",
       "    <tr>\n",
       "      <th>4</th>\n",
       "      <td>970000453</td>\n",
       "      <td>19810105</td>\n",
       "      <td>49</td>\n",
       "      <td>10</td>\n",
       "      <td>97108970.0</td>\n",
       "      <td>D</td>\n",
       "      <td>97</td>\n",
       "      <td>B/AAPIA</td>\n",
       "      <td>56.0</td>\n",
       "      <td>0.0</td>\n",
       "      <td>1.0</td>\n",
       "      <td>0.0</td>\n",
       "      <td>Mr. DYMALLY</td>\n",
       "      <td>DYMALLY, MERVYN</td>\n",
       "    </tr>\n",
       "  </tbody>\n",
       "</table>\n",
       "</div>"
      ],
      "text/plain": [
       "   speech_id      date  char_count  word_count   speakerid Party  Congress Ethnicity   Age  Age_lt_med  NonWhite  Female                     speaker        Full Name\n",
       "0  970000418  19810105  1059        176         97105830.0  R     97        W         46.0  1.0         0.0       0.0     Mr. DAN DANIEL              DANIEL, ROBERT \n",
       "1  970000450  19810105  40          7           97106010.0  R     97        W         61.0  0.0         0.0       0.0     Mr. FINDLEY                 FINDLEY, PAUL  \n",
       "2  970000451  19810105  16          3           97108680.0  D     97        W         69.0  0.0         0.0       0.0     Mr. ANDERSON of California  ANDERSON, GLENN\n",
       "3  970000452  19810105  18          3           97107630.0  D     97        W         37.0  1.0         0.0       0.0     Mr. BONER of Tennessee      BONER, WILLIAM \n",
       "4  970000453  19810105  49          10          97108970.0  D     97        B/AAPIA   56.0  0.0         1.0       0.0     Mr. DYMALLY                 DYMALLY, MERVYN"
      ]
     },
     "execution_count": 74,
     "metadata": {},
     "output_type": "execute_result"
    }
   ],
   "source": [
    "fuzzy = pd.read_csv('../data/QA/full_descr_fuzzy.txt', sep=\"|\")\n",
    "fuzzy.head()"
   ]
  },
  {
   "cell_type": "code",
   "execution_count": 79,
   "metadata": {},
   "outputs": [
    {
     "data": {
      "text/plain": [
       "(328657, 14)"
      ]
     },
     "execution_count": 79,
     "metadata": {},
     "output_type": "execute_result"
    }
   ],
   "source": [
    "fuzzy.shape"
   ]
  },
  {
   "cell_type": "code",
   "execution_count": 76,
   "metadata": {},
   "outputs": [
    {
     "data": {
      "text/plain": [
       "(1125, 7652)"
      ]
     },
     "execution_count": 76,
     "metadata": {},
     "output_type": "execute_result"
    }
   ],
   "source": [
    "fuzzy[fuzzy.NonWhite==1]['speakerid'].nunique(), fuzzy[fuzzy.NonWhite==0]['speakerid'].nunique()"
   ]
  },
  {
   "cell_type": "code",
   "execution_count": 77,
   "metadata": {},
   "outputs": [
    {
     "data": {
      "text/plain": [
       "(954, 7823)"
      ]
     },
     "execution_count": 77,
     "metadata": {},
     "output_type": "execute_result"
    }
   ],
   "source": [
    "fuzzy[fuzzy.Female==1]['speakerid'].nunique(), fuzzy[fuzzy.Female==0]['speakerid'].nunique()"
   ]
  },
  {
   "cell_type": "code",
   "execution_count": 78,
   "metadata": {},
   "outputs": [
    {
     "data": {
      "text/plain": [
       "(4330, 4447)"
      ]
     },
     "execution_count": 78,
     "metadata": {},
     "output_type": "execute_result"
    }
   ],
   "source": [
    "fuzzy[fuzzy.Age_lt_med==1]['speakerid'].nunique(), fuzzy[fuzzy.Age_lt_med==0]['speakerid'].nunique()"
   ]
  },
  {
   "cell_type": "code",
   "execution_count": 80,
   "metadata": {},
   "outputs": [
    {
     "data": {
      "text/plain": [
       "0.0    282051\n",
       "1.0    46606 \n",
       "Name: NonWhite, dtype: int64"
      ]
     },
     "execution_count": 80,
     "metadata": {},
     "output_type": "execute_result"
    }
   ],
   "source": [
    "fuzzy.NonWhite.value_counts()"
   ]
  },
  {
   "cell_type": "code",
   "execution_count": 81,
   "metadata": {},
   "outputs": [
    {
     "data": {
      "text/plain": [
       "0.0    297078\n",
       "1.0    31579 \n",
       "Name: Female, dtype: int64"
      ]
     },
     "execution_count": 81,
     "metadata": {},
     "output_type": "execute_result"
    }
   ],
   "source": [
    "fuzzy.Female.value_counts()"
   ]
  },
  {
   "cell_type": "code",
   "execution_count": 82,
   "metadata": {},
   "outputs": [
    {
     "data": {
      "text/plain": [
       "0.0    170946\n",
       "1.0    157711\n",
       "Name: Age_lt_med, dtype: int64"
      ]
     },
     "execution_count": 82,
     "metadata": {},
     "output_type": "execute_result"
    }
   ],
   "source": [
    "fuzzy.Age_lt_med.value_counts()"
   ]
  },
  {
   "cell_type": "code",
   "execution_count": 84,
   "metadata": {},
   "outputs": [
    {
     "data": {
      "text/html": [
       "<div>\n",
       "<style scoped>\n",
       "    .dataframe tbody tr th:only-of-type {\n",
       "        vertical-align: middle;\n",
       "    }\n",
       "\n",
       "    .dataframe tbody tr th {\n",
       "        vertical-align: top;\n",
       "    }\n",
       "\n",
       "    .dataframe thead th {\n",
       "        text-align: right;\n",
       "    }\n",
       "</style>\n",
       "<table border=\"1\" class=\"dataframe\">\n",
       "  <thead>\n",
       "    <tr style=\"text-align: right;\">\n",
       "      <th></th>\n",
       "      <th>word_count</th>\n",
       "    </tr>\n",
       "    <tr>\n",
       "      <th>NonWhite</th>\n",
       "      <th></th>\n",
       "    </tr>\n",
       "  </thead>\n",
       "  <tbody>\n",
       "    <tr>\n",
       "      <th>0.0</th>\n",
       "      <td>95732325</td>\n",
       "    </tr>\n",
       "    <tr>\n",
       "      <th>1.0</th>\n",
       "      <td>16840362</td>\n",
       "    </tr>\n",
       "  </tbody>\n",
       "</table>\n",
       "</div>"
      ],
      "text/plain": [
       "          word_count\n",
       "NonWhite            \n",
       "0.0       95732325  \n",
       "1.0       16840362  "
      ]
     },
     "execution_count": 84,
     "metadata": {},
     "output_type": "execute_result"
    }
   ],
   "source": [
    "fuzzy[['NonWhite', 'word_count']].groupby(['NonWhite']).sum()"
   ]
  },
  {
   "cell_type": "code",
   "execution_count": 85,
   "metadata": {},
   "outputs": [
    {
     "data": {
      "text/html": [
       "<div>\n",
       "<style scoped>\n",
       "    .dataframe tbody tr th:only-of-type {\n",
       "        vertical-align: middle;\n",
       "    }\n",
       "\n",
       "    .dataframe tbody tr th {\n",
       "        vertical-align: top;\n",
       "    }\n",
       "\n",
       "    .dataframe thead th {\n",
       "        text-align: right;\n",
       "    }\n",
       "</style>\n",
       "<table border=\"1\" class=\"dataframe\">\n",
       "  <thead>\n",
       "    <tr style=\"text-align: right;\">\n",
       "      <th></th>\n",
       "      <th>word_count</th>\n",
       "    </tr>\n",
       "    <tr>\n",
       "      <th>Female</th>\n",
       "      <th></th>\n",
       "    </tr>\n",
       "  </thead>\n",
       "  <tbody>\n",
       "    <tr>\n",
       "      <th>0.0</th>\n",
       "      <td>101393137</td>\n",
       "    </tr>\n",
       "    <tr>\n",
       "      <th>1.0</th>\n",
       "      <td>11179550</td>\n",
       "    </tr>\n",
       "  </tbody>\n",
       "</table>\n",
       "</div>"
      ],
      "text/plain": [
       "        word_count\n",
       "Female            \n",
       "0.0     101393137 \n",
       "1.0     11179550  "
      ]
     },
     "execution_count": 85,
     "metadata": {},
     "output_type": "execute_result"
    }
   ],
   "source": [
    "fuzzy[['Female', 'word_count']].groupby(['Female']).sum()"
   ]
  },
  {
   "cell_type": "code",
   "execution_count": 86,
   "metadata": {},
   "outputs": [
    {
     "data": {
      "text/html": [
       "<div>\n",
       "<style scoped>\n",
       "    .dataframe tbody tr th:only-of-type {\n",
       "        vertical-align: middle;\n",
       "    }\n",
       "\n",
       "    .dataframe tbody tr th {\n",
       "        vertical-align: top;\n",
       "    }\n",
       "\n",
       "    .dataframe thead th {\n",
       "        text-align: right;\n",
       "    }\n",
       "</style>\n",
       "<table border=\"1\" class=\"dataframe\">\n",
       "  <thead>\n",
       "    <tr style=\"text-align: right;\">\n",
       "      <th></th>\n",
       "      <th>word_count</th>\n",
       "    </tr>\n",
       "    <tr>\n",
       "      <th>Age_lt_med</th>\n",
       "      <th></th>\n",
       "    </tr>\n",
       "  </thead>\n",
       "  <tbody>\n",
       "    <tr>\n",
       "      <th>0.0</th>\n",
       "      <td>60299268</td>\n",
       "    </tr>\n",
       "    <tr>\n",
       "      <th>1.0</th>\n",
       "      <td>52273419</td>\n",
       "    </tr>\n",
       "  </tbody>\n",
       "</table>\n",
       "</div>"
      ],
      "text/plain": [
       "            word_count\n",
       "Age_lt_med            \n",
       "0.0         60299268  \n",
       "1.0         52273419  "
      ]
     },
     "execution_count": 86,
     "metadata": {},
     "output_type": "execute_result"
    }
   ],
   "source": [
    "fuzzy[['Age_lt_med', 'word_count']].groupby(['Age_lt_med']).sum()"
   ]
  },
  {
   "cell_type": "code",
   "execution_count": null,
   "metadata": {},
   "outputs": [],
   "source": []
  }
 ],
 "metadata": {
  "kernelspec": {
   "display_name": "Python 3",
   "language": "python",
   "name": "python3"
  },
  "language_info": {
   "codemirror_mode": {
    "name": "ipython",
    "version": 3
   },
   "file_extension": ".py",
   "mimetype": "text/x-python",
   "name": "python",
   "nbconvert_exporter": "python",
   "pygments_lexer": "ipython3",
   "version": "3.5.2"
  }
 },
 "nbformat": 4,
 "nbformat_minor": 2
}
