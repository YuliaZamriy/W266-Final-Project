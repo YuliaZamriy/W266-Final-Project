{
 "cells": [
  {
   "cell_type": "code",
   "execution_count": 44,
   "metadata": {},
   "outputs": [],
   "source": [
    "#imports\n",
    "from __future__ import division\n",
    "import nltk, re, pprint\n",
    "from nltk import word_tokenize\n",
    "from nltk.corpus import PlaintextCorpusReader\n",
    "import pandas as pd\n",
    "import numpy as np\n",
    "import matplotlib.pyplot as plt\n",
    "%matplotlib inline\n",
    "from collections import Counter"
   ]
  },
  {
   "cell_type": "code",
   "execution_count": 24,
   "metadata": {},
   "outputs": [
    {
     "name": "stdout",
     "output_type": "stream",
     "text": [
      "097_SpeakerMap.txt  \u001b[34mdata\u001b[m\u001b[m/               \u001b[34menvironment\u001b[m\u001b[m/\r\n",
      "README.md           descr_097.txt       speeches_097.txt\r\n"
     ]
    }
   ],
   "source": [
    "ls ../.."
   ]
  },
  {
   "cell_type": "code",
   "execution_count": 25,
   "metadata": {},
   "outputs": [
    {
     "data": {
      "text/html": [
       "<div>\n",
       "<style scoped>\n",
       "    .dataframe tbody tr th:only-of-type {\n",
       "        vertical-align: middle;\n",
       "    }\n",
       "\n",
       "    .dataframe tbody tr th {\n",
       "        vertical-align: top;\n",
       "    }\n",
       "\n",
       "    .dataframe thead th {\n",
       "        text-align: right;\n",
       "    }\n",
       "</style>\n",
       "<table border=\"1\" class=\"dataframe\">\n",
       "  <thead>\n",
       "    <tr style=\"text-align: right;\">\n",
       "      <th></th>\n",
       "      <th>speakerid</th>\n",
       "      <th>speech_id</th>\n",
       "      <th>lastname</th>\n",
       "      <th>firstname</th>\n",
       "      <th>chamber</th>\n",
       "      <th>state</th>\n",
       "      <th>gender</th>\n",
       "      <th>party</th>\n",
       "      <th>district</th>\n",
       "      <th>nonvoting</th>\n",
       "    </tr>\n",
       "  </thead>\n",
       "  <tbody>\n",
       "    <tr>\n",
       "      <th>0</th>\n",
       "      <td>97105301</td>\n",
       "      <td>970000005</td>\n",
       "      <td>PERCY</td>\n",
       "      <td>CHARLES</td>\n",
       "      <td>S</td>\n",
       "      <td>IL</td>\n",
       "      <td>M</td>\n",
       "      <td>R</td>\n",
       "      <td>NaN</td>\n",
       "      <td>voting</td>\n",
       "    </tr>\n",
       "    <tr>\n",
       "      <th>1</th>\n",
       "      <td>97105071</td>\n",
       "      <td>970000006</td>\n",
       "      <td>HUDDLESTON</td>\n",
       "      <td>WALTER</td>\n",
       "      <td>S</td>\n",
       "      <td>KY</td>\n",
       "      <td>M</td>\n",
       "      <td>D</td>\n",
       "      <td>NaN</td>\n",
       "      <td>voting</td>\n",
       "    </tr>\n",
       "    <tr>\n",
       "      <th>2</th>\n",
       "      <td>97106761</td>\n",
       "      <td>970000007</td>\n",
       "      <td>JACKSON</td>\n",
       "      <td>HENRY</td>\n",
       "      <td>S</td>\n",
       "      <td>WA</td>\n",
       "      <td>M</td>\n",
       "      <td>D</td>\n",
       "      <td>NaN</td>\n",
       "      <td>voting</td>\n",
       "    </tr>\n",
       "    <tr>\n",
       "      <th>3</th>\n",
       "      <td>97106981</td>\n",
       "      <td>970000008</td>\n",
       "      <td>STAFFORD</td>\n",
       "      <td>ROBERT</td>\n",
       "      <td>S</td>\n",
       "      <td>VT</td>\n",
       "      <td>M</td>\n",
       "      <td>R</td>\n",
       "      <td>NaN</td>\n",
       "      <td>voting</td>\n",
       "    </tr>\n",
       "    <tr>\n",
       "      <th>4</th>\n",
       "      <td>97104811</td>\n",
       "      <td>970000010</td>\n",
       "      <td>BAKER</td>\n",
       "      <td>HOWARD</td>\n",
       "      <td>S</td>\n",
       "      <td>TN</td>\n",
       "      <td>M</td>\n",
       "      <td>R</td>\n",
       "      <td>NaN</td>\n",
       "      <td>voting</td>\n",
       "    </tr>\n",
       "    <tr>\n",
       "      <th>5</th>\n",
       "      <td>97104811</td>\n",
       "      <td>970000012</td>\n",
       "      <td>BAKER</td>\n",
       "      <td>HOWARD</td>\n",
       "      <td>S</td>\n",
       "      <td>TN</td>\n",
       "      <td>M</td>\n",
       "      <td>R</td>\n",
       "      <td>NaN</td>\n",
       "      <td>voting</td>\n",
       "    </tr>\n",
       "    <tr>\n",
       "      <th>6</th>\n",
       "      <td>97107681</td>\n",
       "      <td>970000013</td>\n",
       "      <td>CRANSTON</td>\n",
       "      <td>ALAN</td>\n",
       "      <td>S</td>\n",
       "      <td>CA</td>\n",
       "      <td>M</td>\n",
       "      <td>D</td>\n",
       "      <td>NaN</td>\n",
       "      <td>voting</td>\n",
       "    </tr>\n",
       "    <tr>\n",
       "      <th>7</th>\n",
       "      <td>97104811</td>\n",
       "      <td>970000015</td>\n",
       "      <td>BAKER</td>\n",
       "      <td>HOWARD</td>\n",
       "      <td>S</td>\n",
       "      <td>TN</td>\n",
       "      <td>M</td>\n",
       "      <td>R</td>\n",
       "      <td>NaN</td>\n",
       "      <td>voting</td>\n",
       "    </tr>\n",
       "    <tr>\n",
       "      <th>8</th>\n",
       "      <td>97104811</td>\n",
       "      <td>970000016</td>\n",
       "      <td>BAKER</td>\n",
       "      <td>HOWARD</td>\n",
       "      <td>S</td>\n",
       "      <td>TN</td>\n",
       "      <td>M</td>\n",
       "      <td>R</td>\n",
       "      <td>NaN</td>\n",
       "      <td>voting</td>\n",
       "    </tr>\n",
       "    <tr>\n",
       "      <th>9</th>\n",
       "      <td>97104811</td>\n",
       "      <td>970000019</td>\n",
       "      <td>BAKER</td>\n",
       "      <td>HOWARD</td>\n",
       "      <td>S</td>\n",
       "      <td>TN</td>\n",
       "      <td>M</td>\n",
       "      <td>R</td>\n",
       "      <td>NaN</td>\n",
       "      <td>voting</td>\n",
       "    </tr>\n",
       "    <tr>\n",
       "      <th>10</th>\n",
       "      <td>97104811</td>\n",
       "      <td>970000021</td>\n",
       "      <td>BAKER</td>\n",
       "      <td>HOWARD</td>\n",
       "      <td>S</td>\n",
       "      <td>TN</td>\n",
       "      <td>M</td>\n",
       "      <td>R</td>\n",
       "      <td>NaN</td>\n",
       "      <td>voting</td>\n",
       "    </tr>\n",
       "    <tr>\n",
       "      <th>11</th>\n",
       "      <td>97104811</td>\n",
       "      <td>970000023</td>\n",
       "      <td>BAKER</td>\n",
       "      <td>HOWARD</td>\n",
       "      <td>S</td>\n",
       "      <td>TN</td>\n",
       "      <td>M</td>\n",
       "      <td>R</td>\n",
       "      <td>NaN</td>\n",
       "      <td>voting</td>\n",
       "    </tr>\n",
       "    <tr>\n",
       "      <th>12</th>\n",
       "      <td>97107391</td>\n",
       "      <td>970000026</td>\n",
       "      <td>MCCLURE</td>\n",
       "      <td>JAMES</td>\n",
       "      <td>S</td>\n",
       "      <td>ID</td>\n",
       "      <td>M</td>\n",
       "      <td>R</td>\n",
       "      <td>NaN</td>\n",
       "      <td>voting</td>\n",
       "    </tr>\n",
       "    <tr>\n",
       "      <th>13</th>\n",
       "      <td>97104811</td>\n",
       "      <td>970000028</td>\n",
       "      <td>BAKER</td>\n",
       "      <td>HOWARD</td>\n",
       "      <td>S</td>\n",
       "      <td>TN</td>\n",
       "      <td>M</td>\n",
       "      <td>R</td>\n",
       "      <td>NaN</td>\n",
       "      <td>voting</td>\n",
       "    </tr>\n",
       "    <tr>\n",
       "      <th>14</th>\n",
       "      <td>97106241</td>\n",
       "      <td>970000029</td>\n",
       "      <td>MATHIAS</td>\n",
       "      <td>CHARLES</td>\n",
       "      <td>S</td>\n",
       "      <td>MD</td>\n",
       "      <td>M</td>\n",
       "      <td>R</td>\n",
       "      <td>NaN</td>\n",
       "      <td>voting</td>\n",
       "    </tr>\n",
       "  </tbody>\n",
       "</table>\n",
       "</div>"
      ],
      "text/plain": [
       "    speakerid  speech_id    lastname firstname chamber state gender party  \\\n",
       "0    97105301  970000005       PERCY   CHARLES       S    IL      M     R   \n",
       "1    97105071  970000006  HUDDLESTON    WALTER       S    KY      M     D   \n",
       "2    97106761  970000007     JACKSON     HENRY       S    WA      M     D   \n",
       "3    97106981  970000008    STAFFORD    ROBERT       S    VT      M     R   \n",
       "4    97104811  970000010       BAKER    HOWARD       S    TN      M     R   \n",
       "5    97104811  970000012       BAKER    HOWARD       S    TN      M     R   \n",
       "6    97107681  970000013    CRANSTON      ALAN       S    CA      M     D   \n",
       "7    97104811  970000015       BAKER    HOWARD       S    TN      M     R   \n",
       "8    97104811  970000016       BAKER    HOWARD       S    TN      M     R   \n",
       "9    97104811  970000019       BAKER    HOWARD       S    TN      M     R   \n",
       "10   97104811  970000021       BAKER    HOWARD       S    TN      M     R   \n",
       "11   97104811  970000023       BAKER    HOWARD       S    TN      M     R   \n",
       "12   97107391  970000026     MCCLURE     JAMES       S    ID      M     R   \n",
       "13   97104811  970000028       BAKER    HOWARD       S    TN      M     R   \n",
       "14   97106241  970000029     MATHIAS   CHARLES       S    MD      M     R   \n",
       "\n",
       "    district nonvoting  \n",
       "0        NaN    voting  \n",
       "1        NaN    voting  \n",
       "2        NaN    voting  \n",
       "3        NaN    voting  \n",
       "4        NaN    voting  \n",
       "5        NaN    voting  \n",
       "6        NaN    voting  \n",
       "7        NaN    voting  \n",
       "8        NaN    voting  \n",
       "9        NaN    voting  \n",
       "10       NaN    voting  \n",
       "11       NaN    voting  \n",
       "12       NaN    voting  \n",
       "13       NaN    voting  \n",
       "14       NaN    voting  "
      ]
     },
     "execution_count": 25,
     "metadata": {},
     "output_type": "execute_result"
    }
   ],
   "source": [
    "speakermap = pd.read_csv('../../097_SpeakerMap.txt', sep=\"|\")\n",
    "speakermap[:15]"
   ]
  },
  {
   "cell_type": "code",
   "execution_count": 26,
   "metadata": {},
   "outputs": [
    {
     "data": {
      "text/plain": [
       "202054"
      ]
     },
     "execution_count": 26,
     "metadata": {},
     "output_type": "execute_result"
    }
   ],
   "source": [
    "len(speakermap)"
   ]
  },
  {
   "cell_type": "code",
   "execution_count": 27,
   "metadata": {},
   "outputs": [
    {
     "data": {
      "text/html": [
       "<div>\n",
       "<style scoped>\n",
       "    .dataframe tbody tr th:only-of-type {\n",
       "        vertical-align: middle;\n",
       "    }\n",
       "\n",
       "    .dataframe tbody tr th {\n",
       "        vertical-align: top;\n",
       "    }\n",
       "\n",
       "    .dataframe thead th {\n",
       "        text-align: right;\n",
       "    }\n",
       "</style>\n",
       "<table border=\"1\" class=\"dataframe\">\n",
       "  <thead>\n",
       "    <tr style=\"text-align: right;\">\n",
       "      <th></th>\n",
       "      <th>speakerid</th>\n",
       "      <th>speech_id</th>\n",
       "      <th>lastname</th>\n",
       "      <th>firstname</th>\n",
       "      <th>chamber</th>\n",
       "      <th>state</th>\n",
       "      <th>gender</th>\n",
       "      <th>party</th>\n",
       "      <th>district</th>\n",
       "      <th>nonvoting</th>\n",
       "      <th>fullname</th>\n",
       "    </tr>\n",
       "  </thead>\n",
       "  <tbody>\n",
       "    <tr>\n",
       "      <th>0</th>\n",
       "      <td>97105301</td>\n",
       "      <td>970000005</td>\n",
       "      <td>PERCY</td>\n",
       "      <td>CHARLES</td>\n",
       "      <td>S</td>\n",
       "      <td>IL</td>\n",
       "      <td>M</td>\n",
       "      <td>R</td>\n",
       "      <td>NaN</td>\n",
       "      <td>voting</td>\n",
       "      <td>PERCY, CHARLES</td>\n",
       "    </tr>\n",
       "    <tr>\n",
       "      <th>1</th>\n",
       "      <td>97105071</td>\n",
       "      <td>970000006</td>\n",
       "      <td>HUDDLESTON</td>\n",
       "      <td>WALTER</td>\n",
       "      <td>S</td>\n",
       "      <td>KY</td>\n",
       "      <td>M</td>\n",
       "      <td>D</td>\n",
       "      <td>NaN</td>\n",
       "      <td>voting</td>\n",
       "      <td>HUDDLESTON, WALTER</td>\n",
       "    </tr>\n",
       "    <tr>\n",
       "      <th>2</th>\n",
       "      <td>97106761</td>\n",
       "      <td>970000007</td>\n",
       "      <td>JACKSON</td>\n",
       "      <td>HENRY</td>\n",
       "      <td>S</td>\n",
       "      <td>WA</td>\n",
       "      <td>M</td>\n",
       "      <td>D</td>\n",
       "      <td>NaN</td>\n",
       "      <td>voting</td>\n",
       "      <td>JACKSON, HENRY</td>\n",
       "    </tr>\n",
       "    <tr>\n",
       "      <th>3</th>\n",
       "      <td>97106981</td>\n",
       "      <td>970000008</td>\n",
       "      <td>STAFFORD</td>\n",
       "      <td>ROBERT</td>\n",
       "      <td>S</td>\n",
       "      <td>VT</td>\n",
       "      <td>M</td>\n",
       "      <td>R</td>\n",
       "      <td>NaN</td>\n",
       "      <td>voting</td>\n",
       "      <td>STAFFORD, ROBERT</td>\n",
       "    </tr>\n",
       "    <tr>\n",
       "      <th>4</th>\n",
       "      <td>97104811</td>\n",
       "      <td>970000010</td>\n",
       "      <td>BAKER</td>\n",
       "      <td>HOWARD</td>\n",
       "      <td>S</td>\n",
       "      <td>TN</td>\n",
       "      <td>M</td>\n",
       "      <td>R</td>\n",
       "      <td>NaN</td>\n",
       "      <td>voting</td>\n",
       "      <td>BAKER, HOWARD</td>\n",
       "    </tr>\n",
       "  </tbody>\n",
       "</table>\n",
       "</div>"
      ],
      "text/plain": [
       "   speakerid  speech_id    lastname firstname chamber state gender party  \\\n",
       "0   97105301  970000005       PERCY   CHARLES       S    IL      M     R   \n",
       "1   97105071  970000006  HUDDLESTON    WALTER       S    KY      M     D   \n",
       "2   97106761  970000007     JACKSON     HENRY       S    WA      M     D   \n",
       "3   97106981  970000008    STAFFORD    ROBERT       S    VT      M     R   \n",
       "4   97104811  970000010       BAKER    HOWARD       S    TN      M     R   \n",
       "\n",
       "   district nonvoting            fullname  \n",
       "0       NaN    voting      PERCY, CHARLES  \n",
       "1       NaN    voting  HUDDLESTON, WALTER  \n",
       "2       NaN    voting      JACKSON, HENRY  \n",
       "3       NaN    voting    STAFFORD, ROBERT  \n",
       "4       NaN    voting       BAKER, HOWARD  "
      ]
     },
     "execution_count": 27,
     "metadata": {},
     "output_type": "execute_result"
    }
   ],
   "source": [
    "speakermap['fullname'] = speakermap.lastname.str.cat(speakermap.firstname, sep = ', ')\n",
    "speakermap.head()"
   ]
  },
  {
   "cell_type": "code",
   "execution_count": 28,
   "metadata": {},
   "outputs": [
    {
     "data": {
      "text/html": [
       "<div>\n",
       "<style scoped>\n",
       "    .dataframe tbody tr th:only-of-type {\n",
       "        vertical-align: middle;\n",
       "    }\n",
       "\n",
       "    .dataframe tbody tr th {\n",
       "        vertical-align: top;\n",
       "    }\n",
       "\n",
       "    .dataframe thead th {\n",
       "        text-align: right;\n",
       "    }\n",
       "</style>\n",
       "<table border=\"1\" class=\"dataframe\">\n",
       "  <thead>\n",
       "    <tr style=\"text-align: right;\">\n",
       "      <th></th>\n",
       "      <th>speakerid</th>\n",
       "      <th>speech_id</th>\n",
       "      <th>lastname</th>\n",
       "      <th>firstname</th>\n",
       "      <th>chamber</th>\n",
       "      <th>state</th>\n",
       "      <th>gender</th>\n",
       "      <th>party</th>\n",
       "      <th>district</th>\n",
       "      <th>nonvoting</th>\n",
       "      <th>fullname</th>\n",
       "    </tr>\n",
       "  </thead>\n",
       "  <tbody>\n",
       "    <tr>\n",
       "      <th>0</th>\n",
       "      <td>97105301</td>\n",
       "      <td>970000005</td>\n",
       "      <td>PERCY</td>\n",
       "      <td>CHARLES</td>\n",
       "      <td>S</td>\n",
       "      <td>IL</td>\n",
       "      <td>M</td>\n",
       "      <td>R</td>\n",
       "      <td>NaN</td>\n",
       "      <td>voting</td>\n",
       "      <td>PERCY, CHARLES</td>\n",
       "    </tr>\n",
       "    <tr>\n",
       "      <th>1</th>\n",
       "      <td>97105071</td>\n",
       "      <td>970000006</td>\n",
       "      <td>HUDDLESTON</td>\n",
       "      <td>WALTER</td>\n",
       "      <td>S</td>\n",
       "      <td>KY</td>\n",
       "      <td>M</td>\n",
       "      <td>D</td>\n",
       "      <td>NaN</td>\n",
       "      <td>voting</td>\n",
       "      <td>HUDDLESTON, WALTER</td>\n",
       "    </tr>\n",
       "    <tr>\n",
       "      <th>2</th>\n",
       "      <td>97106761</td>\n",
       "      <td>970000007</td>\n",
       "      <td>JACKSON</td>\n",
       "      <td>HENRY</td>\n",
       "      <td>S</td>\n",
       "      <td>WA</td>\n",
       "      <td>M</td>\n",
       "      <td>D</td>\n",
       "      <td>NaN</td>\n",
       "      <td>voting</td>\n",
       "      <td>JACKSON, HENRY</td>\n",
       "    </tr>\n",
       "    <tr>\n",
       "      <th>3</th>\n",
       "      <td>97106981</td>\n",
       "      <td>970000008</td>\n",
       "      <td>STAFFORD</td>\n",
       "      <td>ROBERT</td>\n",
       "      <td>S</td>\n",
       "      <td>VT</td>\n",
       "      <td>M</td>\n",
       "      <td>R</td>\n",
       "      <td>NaN</td>\n",
       "      <td>voting</td>\n",
       "      <td>STAFFORD, ROBERT</td>\n",
       "    </tr>\n",
       "    <tr>\n",
       "      <th>4</th>\n",
       "      <td>97104811</td>\n",
       "      <td>970000010</td>\n",
       "      <td>BAKER</td>\n",
       "      <td>HOWARD</td>\n",
       "      <td>S</td>\n",
       "      <td>TN</td>\n",
       "      <td>M</td>\n",
       "      <td>R</td>\n",
       "      <td>NaN</td>\n",
       "      <td>voting</td>\n",
       "      <td>BAKER, HOWARD</td>\n",
       "    </tr>\n",
       "  </tbody>\n",
       "</table>\n",
       "</div>"
      ],
      "text/plain": [
       "   speakerid  speech_id    lastname firstname chamber state gender party  \\\n",
       "0   97105301  970000005       PERCY   CHARLES       S    IL      M     R   \n",
       "1   97105071  970000006  HUDDLESTON    WALTER       S    KY      M     D   \n",
       "2   97106761  970000007     JACKSON     HENRY       S    WA      M     D   \n",
       "3   97106981  970000008    STAFFORD    ROBERT       S    VT      M     R   \n",
       "4   97104811  970000010       BAKER    HOWARD       S    TN      M     R   \n",
       "\n",
       "   district nonvoting            fullname  \n",
       "0       NaN    voting      PERCY, CHARLES  \n",
       "1       NaN    voting  HUDDLESTON, WALTER  \n",
       "2       NaN    voting      JACKSON, HENRY  \n",
       "3       NaN    voting    STAFFORD, ROBERT  \n",
       "4       NaN    voting       BAKER, HOWARD  "
      ]
     },
     "execution_count": 28,
     "metadata": {},
     "output_type": "execute_result"
    }
   ],
   "source": [
    "speakermap_unique = speakermap.drop_duplicates(subset='speakerid', keep='first', inplace=False)\n",
    "speakermap_unique.head()"
   ]
  },
  {
   "cell_type": "code",
   "execution_count": 36,
   "metadata": {},
   "outputs": [
    {
     "data": {
      "text/plain": [
       "(545, 11)"
      ]
     },
     "execution_count": 36,
     "metadata": {},
     "output_type": "execute_result"
    }
   ],
   "source": [
    "speakermap_unique.shape"
   ]
  },
  {
   "cell_type": "code",
   "execution_count": 30,
   "metadata": {},
   "outputs": [
    {
     "data": {
      "image/png": "[encoded data removed]",
      "text/plain": [
       "<Figure size 432x288 with 1 Axes>"
      ]
     },
     "metadata": {},
     "output_type": "display_data"
    },
    {
     "data": {
      "text/plain": [
       "<Figure size 4320x4320 with 0 Axes>"
      ]
     },
     "metadata": {},
     "output_type": "display_data"
    }
   ],
   "source": [
    "speakermap['speakerid'].plot.hist(density=True)\n",
    "plt.xlabel(\"Speaker ID\")\n",
    "plt.ylabel(\"Frequency of Speeches\")\n",
    "plt.title(\"Frequency of Speeches by Speaker ID\")\n",
    "plt.figure(figsize=(60,60))\n",
    "plt.show()"
   ]
  },
  {
   "cell_type": "code",
   "execution_count": 54,
   "metadata": {},
   "outputs": [
    {
     "data": {
      "text/plain": [
       "<matplotlib.axes._subplots.AxesSubplot at 0x112f19668>"
      ]
     },
     "execution_count": 54,
     "metadata": {},
     "output_type": "execute_result"
    },
    {
     "data": {
      "image/png": "[encoded data removed]",
      "text/plain": [
       "<Figure size 432x288 with 1 Axes>"
      ]
     },
     "metadata": {},
     "output_type": "display_data"
    }
   ],
   "source": [
    "speakermap.state.value_counts().plot.bar()"
   ]
  },
  {
   "cell_type": "code",
   "execution_count": 75,
   "metadata": {},
   "outputs": [
    {
     "data": {
      "text/plain": [
       "<matplotlib.axes._subplots.AxesSubplot at 0x1a14383b00>"
      ]
     },
     "execution_count": 75,
     "metadata": {},
     "output_type": "execute_result"
    },
    {
     "data": {
      "image/png": "[encoded data removed]",
      "text/plain": [
       "<Figure size 432x288 with 1 Axes>"
      ]
     },
     "metadata": {},
     "output_type": "display_data"
    }
   ],
   "source": [
    "x = speakermap.state.value_counts()/speakermap_unique.state.value_counts()\n",
    "y = x.sort_values(ascending=False)\n",
    "y.plot.bar()"
   ]
  },
  {
   "cell_type": "code",
   "execution_count": 55,
   "metadata": {},
   "outputs": [
    {
     "data": {
      "text/plain": [
       "<matplotlib.axes._subplots.AxesSubplot at 0x1a2557fbe0>"
      ]
     },
     "execution_count": 55,
     "metadata": {},
     "output_type": "execute_result"
    },
    {
     "data": {
      "image/png": "[encoded data removed]",
      "text/plain": [
       "<Figure size 432x288 with 1 Axes>"
      ]
     },
     "metadata": {},
     "output_type": "display_data"
    }
   ],
   "source": [
    "speakermap.gender.value_counts().plot.bar()"
   ]
  },
  {
   "cell_type": "code",
   "execution_count": 76,
   "metadata": {},
   "outputs": [
    {
     "data": {
      "text/plain": [
       "<matplotlib.axes._subplots.AxesSubplot at 0x1a14a23898>"
      ]
     },
     "execution_count": 76,
     "metadata": {},
     "output_type": "execute_result"
    },
    {
     "data": {
      "image/png": "[encoded data removed]",
      "text/plain": [
       "<Figure size 432x288 with 1 Axes>"
      ]
     },
     "metadata": {},
     "output_type": "display_data"
    }
   ],
   "source": [
    "x = speakermap.gender.value_counts()/speakermap_unique.gender.value_counts()\n",
    "y = x.sort_values(ascending=False)\n",
    "y.plot.bar()"
   ]
  },
  {
   "cell_type": "code",
   "execution_count": 66,
   "metadata": {},
   "outputs": [
    {
     "data": {
      "text/plain": [
       "<matplotlib.axes._subplots.AxesSubplot at 0x1a15022278>"
      ]
     },
     "execution_count": 66,
     "metadata": {},
     "output_type": "execute_result"
    },
    {
     "data": {
      "image/png": "[encoded data removed]",
      "text/plain": [
       "<Figure size 432x288 with 1 Axes>"
      ]
     },
     "metadata": {},
     "output_type": "display_data"
    }
   ],
   "source": [
    "speakermap.chamber.value_counts().plot.bar()"
   ]
  },
  {
   "cell_type": "code",
   "execution_count": 77,
   "metadata": {},
   "outputs": [
    {
     "data": {
      "text/plain": [
       "<matplotlib.axes._subplots.AxesSubplot at 0x1a14ad5518>"
      ]
     },
     "execution_count": 77,
     "metadata": {},
     "output_type": "execute_result"
    },
    {
     "data": {
      "image/png": "[encoded data removed]",
      "text/plain": [
       "<Figure size 432x288 with 1 Axes>"
      ]
     },
     "metadata": {},
     "output_type": "display_data"
    }
   ],
   "source": [
    "x = speakermap.chamber.value_counts()/speakermap_unique.chamber.value_counts()\n",
    "y = x.sort_values(ascending=False)\n",
    "y.plot.bar()"
   ]
  },
  {
   "cell_type": "code",
   "execution_count": 51,
   "metadata": {},
   "outputs": [
    {
     "data": {
      "text/plain": [
       "<matplotlib.axes._subplots.AxesSubplot at 0x1a147806d8>"
      ]
     },
     "execution_count": 51,
     "metadata": {},
     "output_type": "execute_result"
    },
    {
     "data": {
      "image/png": "[encoded data removed]",
      "text/plain": [
       "<Figure size 432x288 with 1 Axes>"
      ]
     },
     "metadata": {},
     "output_type": "display_data"
    }
   ],
   "source": [
    "speakermap.party.value_counts().plot.bar()"
   ]
  },
  {
   "cell_type": "code",
   "execution_count": 78,
   "metadata": {},
   "outputs": [
    {
     "data": {
      "text/plain": [
       "<matplotlib.axes._subplots.AxesSubplot at 0x1a14dafc50>"
      ]
     },
     "execution_count": 78,
     "metadata": {},
     "output_type": "execute_result"
    },
    {
     "data": {
      "image/png": "[encoded data removed]",
      "text/plain": [
       "<Figure size 432x288 with 1 Axes>"
      ]
     },
     "metadata": {},
     "output_type": "display_data"
    }
   ],
   "source": [
    "x = speakermap.party.value_counts()/speakermap_unique.party.value_counts()\n",
    "y = x.sort_values(ascending=False)\n",
    "y.plot.bar()"
   ]
  }
 ],
 "metadata": {
  "kernelspec": {
   "display_name": "Python 3",
   "language": "python",
   "name": "python3"
  },
  "language_info": {
   "codemirror_mode": {
    "name": "ipython",
    "version": 3
   },
   "file_extension": ".py",
   "mimetype": "text/x-python",
   "name": "python",
   "nbconvert_exporter": "python",
   "pygments_lexer": "ipython3",
   "version": "3.5.2"
  }
 },
 "nbformat": 4,
 "nbformat_minor": 2
}
