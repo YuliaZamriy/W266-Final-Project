{
 "cells": [
  {
   "cell_type": "code",
   "execution_count": 7,
   "metadata": {},
   "outputs": [],
   "source": [
    "#imports\n",
    "from __future__ import division\n",
    "import nltk, re, pprint\n",
    "from nltk import word_tokenize\n",
    "from nltk.corpus import PlaintextCorpusReader\n",
    "import pandas as pd\n",
    "import numpy as np\n",
    "import matplotlib.pyplot as plt\n",
    "%matplotlib inline\n",
    "from collections import Counter\n",
    "pd.set_option('display.max_columns', None)  \n",
    "pd.set_option('display.expand_frame_repr', False)\n",
    "pd.set_option('max_colwidth', -1)"
   ]
  },
  {
   "cell_type": "code",
   "execution_count": 8,
   "metadata": {},
   "outputs": [
    {
     "data": {
      "text/plain": [
       "(2914464, 17)"
      ]
     },
     "execution_count": 8,
     "metadata": {},
     "output_type": "execute_result"
    }
   ],
   "source": [
    "descr = pd.read_csv('../data/QA/full_descr.txt', sep=\"|\")\n",
    "descr.shape"
   ]
  },
  {
   "cell_type": "code",
   "execution_count": 9,
   "metadata": {},
   "outputs": [
    {
     "data": {
      "text/html": [
       "<div>\n",
       "<style scoped>\n",
       "    .dataframe tbody tr th:only-of-type {\n",
       "        vertical-align: middle;\n",
       "    }\n",
       "\n",
       "    .dataframe tbody tr th {\n",
       "        vertical-align: top;\n",
       "    }\n",
       "\n",
       "    .dataframe thead th {\n",
       "        text-align: right;\n",
       "    }\n",
       "</style>\n",
       "<table border=\"1\" class=\"dataframe\">\n",
       "  <thead>\n",
       "    <tr style=\"text-align: right;\">\n",
       "      <th></th>\n",
       "      <th>speech_id</th>\n",
       "      <th>date</th>\n",
       "      <th>char_count</th>\n",
       "      <th>word_count</th>\n",
       "      <th>speakerid</th>\n",
       "      <th>Party</th>\n",
       "      <th>Congress</th>\n",
       "      <th>Chamber</th>\n",
       "      <th>State</th>\n",
       "      <th>Ethnicity</th>\n",
       "      <th>Age</th>\n",
       "      <th>Age_lt_med</th>\n",
       "      <th>NonWhite</th>\n",
       "      <th>Female</th>\n",
       "      <th>speaker</th>\n",
       "      <th>Full Name</th>\n",
       "      <th>match</th>\n",
       "    </tr>\n",
       "  </thead>\n",
       "  <tbody>\n",
       "    <tr>\n",
       "      <th>0</th>\n",
       "      <td>970000005</td>\n",
       "      <td>19810105</td>\n",
       "      <td>201</td>\n",
       "      <td>34</td>\n",
       "      <td>97105301.0</td>\n",
       "      <td>R</td>\n",
       "      <td>97</td>\n",
       "      <td>S</td>\n",
       "      <td>IL</td>\n",
       "      <td>W</td>\n",
       "      <td>63.0</td>\n",
       "      <td>0.0</td>\n",
       "      <td>0.0</td>\n",
       "      <td>0.0</td>\n",
       "      <td>Mr. PERCY</td>\n",
       "      <td>PERCY, CHARLES</td>\n",
       "      <td>exact</td>\n",
       "    </tr>\n",
       "    <tr>\n",
       "      <th>1</th>\n",
       "      <td>970000006</td>\n",
       "      <td>19810105</td>\n",
       "      <td>202</td>\n",
       "      <td>34</td>\n",
       "      <td>97105071.0</td>\n",
       "      <td>D</td>\n",
       "      <td>97</td>\n",
       "      <td>S</td>\n",
       "      <td>KY</td>\n",
       "      <td>W</td>\n",
       "      <td>56.0</td>\n",
       "      <td>0.0</td>\n",
       "      <td>0.0</td>\n",
       "      <td>0.0</td>\n",
       "      <td>Mr. HUDDLESTON</td>\n",
       "      <td>HUDDLESTON, WALTER</td>\n",
       "      <td>exact</td>\n",
       "    </tr>\n",
       "    <tr>\n",
       "      <th>2</th>\n",
       "      <td>970000007</td>\n",
       "      <td>19810105</td>\n",
       "      <td>201</td>\n",
       "      <td>34</td>\n",
       "      <td>97106761.0</td>\n",
       "      <td>D</td>\n",
       "      <td>97</td>\n",
       "      <td>S</td>\n",
       "      <td>WA</td>\n",
       "      <td>W</td>\n",
       "      <td>70.0</td>\n",
       "      <td>0.0</td>\n",
       "      <td>0.0</td>\n",
       "      <td>0.0</td>\n",
       "      <td>Mr. JAcKSON</td>\n",
       "      <td>JACKSON, HENRY</td>\n",
       "      <td>exact</td>\n",
       "    </tr>\n",
       "    <tr>\n",
       "      <th>3</th>\n",
       "      <td>970000008</td>\n",
       "      <td>19810105</td>\n",
       "      <td>201</td>\n",
       "      <td>34</td>\n",
       "      <td>97106981.0</td>\n",
       "      <td>R</td>\n",
       "      <td>97</td>\n",
       "      <td>S</td>\n",
       "      <td>VT</td>\n",
       "      <td>W</td>\n",
       "      <td>69.0</td>\n",
       "      <td>0.0</td>\n",
       "      <td>0.0</td>\n",
       "      <td>0.0</td>\n",
       "      <td>Mr. STAFFORD</td>\n",
       "      <td>STAFFORD, ROBERT</td>\n",
       "      <td>exact</td>\n",
       "    </tr>\n",
       "    <tr>\n",
       "      <th>4</th>\n",
       "      <td>970000010</td>\n",
       "      <td>19810105</td>\n",
       "      <td>49</td>\n",
       "      <td>9</td>\n",
       "      <td>97104811.0</td>\n",
       "      <td>R</td>\n",
       "      <td>97</td>\n",
       "      <td>S</td>\n",
       "      <td>TN</td>\n",
       "      <td>W</td>\n",
       "      <td>57.0</td>\n",
       "      <td>0.0</td>\n",
       "      <td>0.0</td>\n",
       "      <td>0.0</td>\n",
       "      <td>Mr. BAKER</td>\n",
       "      <td>BAKER, HOWARD</td>\n",
       "      <td>exact</td>\n",
       "    </tr>\n",
       "  </tbody>\n",
       "</table>\n",
       "</div>"
      ],
      "text/plain": [
       "   speech_id      date  char_count  word_count   speakerid Party  Congress Chamber State Ethnicity   Age  Age_lt_med  NonWhite  Female         speaker           Full Name  match\n",
       "0  970000005  19810105  201         34          97105301.0  R     97        S       IL    W         63.0  0.0         0.0       0.0     Mr. PERCY       PERCY, CHARLES      exact\n",
       "1  970000006  19810105  202         34          97105071.0  D     97        S       KY    W         56.0  0.0         0.0       0.0     Mr. HUDDLESTON  HUDDLESTON, WALTER  exact\n",
       "2  970000007  19810105  201         34          97106761.0  D     97        S       WA    W         70.0  0.0         0.0       0.0     Mr. JAcKSON     JACKSON, HENRY      exact\n",
       "3  970000008  19810105  201         34          97106981.0  R     97        S       VT    W         69.0  0.0         0.0       0.0     Mr. STAFFORD    STAFFORD, ROBERT    exact\n",
       "4  970000010  19810105  49          9           97104811.0  R     97        S       TN    W         57.0  0.0         0.0       0.0     Mr. BAKER       BAKER, HOWARD       exact"
      ]
     },
     "execution_count": 9,
     "metadata": {},
     "output_type": "execute_result"
    }
   ],
   "source": [
    "descr.head()"
   ]
  },
  {
   "cell_type": "code",
   "execution_count": 10,
   "metadata": {},
   "outputs": [
    {
     "data": {
      "text/plain": [
       "2845667"
      ]
     },
     "execution_count": 10,
     "metadata": {},
     "output_type": "execute_result"
    }
   ],
   "source": [
    "descr.speech_id.nunique()"
   ]
  },
  {
   "cell_type": "code",
   "execution_count": 4,
   "metadata": {},
   "outputs": [
    {
     "data": {
      "text/plain": [
       "(68797, 17)"
      ]
     },
     "execution_count": 4,
     "metadata": {},
     "output_type": "execute_result"
    }
   ],
   "source": [
    "descr[descr['speech_id'].duplicated()].shape"
   ]
  },
  {
   "cell_type": "code",
   "execution_count": 5,
   "metadata": {},
   "outputs": [
    {
     "data": {
      "text/plain": [
       "fuzzy    68797\n",
       "Name: match, dtype: int64"
      ]
     },
     "execution_count": 5,
     "metadata": {},
     "output_type": "execute_result"
    }
   ],
   "source": [
    "descr[descr['speech_id'].duplicated()].match.value_counts()"
   ]
  },
  {
   "cell_type": "code",
   "execution_count": 11,
   "metadata": {},
   "outputs": [
    {
     "data": {
      "text/plain": [
       "37617"
      ]
     },
     "execution_count": 11,
     "metadata": {},
     "output_type": "execute_result"
    }
   ],
   "source": [
    "descr[descr['speech_id'].duplicated()].speech_id.nunique()"
   ]
  },
  {
   "cell_type": "code",
   "execution_count": 6,
   "metadata": {},
   "outputs": [
    {
     "data": {
      "text/html": [
       "<div>\n",
       "<style scoped>\n",
       "    .dataframe tbody tr th:only-of-type {\n",
       "        vertical-align: middle;\n",
       "    }\n",
       "\n",
       "    .dataframe tbody tr th {\n",
       "        vertical-align: top;\n",
       "    }\n",
       "\n",
       "    .dataframe thead th {\n",
       "        text-align: right;\n",
       "    }\n",
       "</style>\n",
       "<table border=\"1\" class=\"dataframe\">\n",
       "  <thead>\n",
       "    <tr style=\"text-align: right;\">\n",
       "      <th></th>\n",
       "      <th>speech_id</th>\n",
       "      <th>date</th>\n",
       "      <th>char_count</th>\n",
       "      <th>word_count</th>\n",
       "      <th>speakerid</th>\n",
       "      <th>Party</th>\n",
       "      <th>Congress</th>\n",
       "      <th>Chamber</th>\n",
       "      <th>State</th>\n",
       "      <th>Ethnicity</th>\n",
       "      <th>Age</th>\n",
       "      <th>Age_lt_med</th>\n",
       "      <th>NonWhite</th>\n",
       "      <th>Female</th>\n",
       "      <th>speaker</th>\n",
       "      <th>Full Name</th>\n",
       "      <th>match</th>\n",
       "    </tr>\n",
       "  </thead>\n",
       "  <tbody>\n",
       "    <tr>\n",
       "      <th>2585820</th>\n",
       "      <td>970000461</td>\n",
       "      <td>19810105</td>\n",
       "      <td>526</td>\n",
       "      <td>94</td>\n",
       "      <td>97110170.0</td>\n",
       "      <td>D</td>\n",
       "      <td>97</td>\n",
       "      <td>H</td>\n",
       "      <td>CA</td>\n",
       "      <td>W</td>\n",
       "      <td>67.0</td>\n",
       "      <td>0.0</td>\n",
       "      <td>0.0</td>\n",
       "      <td>0.0</td>\n",
       "      <td>Mr. EDWARDS of California</td>\n",
       "      <td>EDWARDS, WILLIAM</td>\n",
       "      <td>fuzzy</td>\n",
       "    </tr>\n",
       "    <tr>\n",
       "      <th>2585821</th>\n",
       "      <td>970000461</td>\n",
       "      <td>19810105</td>\n",
       "      <td>526</td>\n",
       "      <td>94</td>\n",
       "      <td>97106650.0</td>\n",
       "      <td>R</td>\n",
       "      <td>97</td>\n",
       "      <td>H</td>\n",
       "      <td>AL</td>\n",
       "      <td>W</td>\n",
       "      <td>54.0</td>\n",
       "      <td>0.0</td>\n",
       "      <td>0.0</td>\n",
       "      <td>0.0</td>\n",
       "      <td>Mr. EDWARDS of California</td>\n",
       "      <td>EDWARDS, WILLIAM</td>\n",
       "      <td>fuzzy</td>\n",
       "    </tr>\n",
       "    <tr>\n",
       "      <th>2585837</th>\n",
       "      <td>970000476</td>\n",
       "      <td>19810105</td>\n",
       "      <td>2808</td>\n",
       "      <td>456</td>\n",
       "      <td>97111520.0</td>\n",
       "      <td>R</td>\n",
       "      <td>97</td>\n",
       "      <td>H</td>\n",
       "      <td>WI</td>\n",
       "      <td>W</td>\n",
       "      <td>44.0</td>\n",
       "      <td>1.0</td>\n",
       "      <td>0.0</td>\n",
       "      <td>0.0</td>\n",
       "      <td>Mr. ROTH</td>\n",
       "      <td>ROTH, TOBY</td>\n",
       "      <td>fuzzy</td>\n",
       "    </tr>\n",
       "    <tr>\n",
       "      <th>2585854</th>\n",
       "      <td>970000606</td>\n",
       "      <td>19810106</td>\n",
       "      <td>7</td>\n",
       "      <td>2</td>\n",
       "      <td>97107550.0</td>\n",
       "      <td>D</td>\n",
       "      <td>97</td>\n",
       "      <td>H</td>\n",
       "      <td>MO</td>\n",
       "      <td>W</td>\n",
       "      <td>59.0</td>\n",
       "      <td>0.0</td>\n",
       "      <td>0.0</td>\n",
       "      <td>0.0</td>\n",
       "      <td>Mr. YOUNG of Alaska</td>\n",
       "      <td>YOUNG, ROBERT</td>\n",
       "      <td>fuzzy</td>\n",
       "    </tr>\n",
       "    <tr>\n",
       "      <th>2585855</th>\n",
       "      <td>970000606</td>\n",
       "      <td>19810106</td>\n",
       "      <td>7</td>\n",
       "      <td>2</td>\n",
       "      <td>97121820.0</td>\n",
       "      <td>R</td>\n",
       "      <td>97</td>\n",
       "      <td>H</td>\n",
       "      <td>AK</td>\n",
       "      <td>W</td>\n",
       "      <td>49.0</td>\n",
       "      <td>1.0</td>\n",
       "      <td>0.0</td>\n",
       "      <td>0.0</td>\n",
       "      <td>Mr. YOUNG of Alaska</td>\n",
       "      <td>YOUNG, DON</td>\n",
       "      <td>fuzzy</td>\n",
       "    </tr>\n",
       "  </tbody>\n",
       "</table>\n",
       "</div>"
      ],
      "text/plain": [
       "         speech_id      date  char_count  word_count   speakerid Party  Congress Chamber State Ethnicity   Age  Age_lt_med  NonWhite  Female                    speaker         Full Name  match\n",
       "2585820  970000461  19810105  526         94          97110170.0  D     97        H       CA    W         67.0  0.0         0.0       0.0     Mr. EDWARDS of California  EDWARDS, WILLIAM  fuzzy\n",
       "2585821  970000461  19810105  526         94          97106650.0  R     97        H       AL    W         54.0  0.0         0.0       0.0     Mr. EDWARDS of California  EDWARDS, WILLIAM  fuzzy\n",
       "2585837  970000476  19810105  2808        456         97111520.0  R     97        H       WI    W         44.0  1.0         0.0       0.0     Mr. ROTH                   ROTH, TOBY        fuzzy\n",
       "2585854  970000606  19810106  7           2           97107550.0  D     97        H       MO    W         59.0  0.0         0.0       0.0     Mr. YOUNG of Alaska        YOUNG, ROBERT     fuzzy\n",
       "2585855  970000606  19810106  7           2           97121820.0  R     97        H       AK    W         49.0  1.0         0.0       0.0     Mr. YOUNG of Alaska        YOUNG, DON        fuzzy"
      ]
     },
     "execution_count": 6,
     "metadata": {},
     "output_type": "execute_result"
    }
   ],
   "source": [
    "descr[descr['speech_id'].duplicated()].head()"
   ]
  },
  {
   "cell_type": "code",
   "execution_count": 14,
   "metadata": {},
   "outputs": [],
   "source": [
    "descr = descr[~descr['speech_id'].duplicated()]"
   ]
  },
  {
   "cell_type": "code",
   "execution_count": 15,
   "metadata": {},
   "outputs": [
    {
     "data": {
      "text/plain": [
       "(2845667, 17)"
      ]
     },
     "execution_count": 15,
     "metadata": {},
     "output_type": "execute_result"
    }
   ],
   "source": [
    "descr.shape"
   ]
  },
  {
   "cell_type": "code",
   "execution_count": null,
   "metadata": {},
   "outputs": [],
   "source": []
  }
 ],
 "metadata": {
  "kernelspec": {
   "display_name": "Python 3",
   "language": "python",
   "name": "python3"
  },
  "language_info": {
   "codemirror_mode": {
    "name": "ipython",
    "version": 3
   },
   "file_extension": ".py",
   "mimetype": "text/x-python",
   "name": "python",
   "nbconvert_exporter": "python",
   "pygments_lexer": "ipython3",
   "version": "3.5.2"
  }
 },
 "nbformat": 4,
 "nbformat_minor": 2
}
