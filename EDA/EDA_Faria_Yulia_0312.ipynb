{
 "cells": [
  {
   "cell_type": "code",
   "execution_count": 2,
   "metadata": {},
   "outputs": [
    {
     "data": {
      "text/html": [
       "<style>.container { width:100% !important; }</style>"
      ],
      "text/plain": [
       "<IPython.core.display.HTML object>"
      ]
     },
     "metadata": {},
     "output_type": "display_data"
    }
   ],
   "source": [
    "# increase cell width\n",
    "from IPython.core.display import display, HTML\n",
    "display(HTML(\"<style>.container { width:100% !important; }</style>\"))"
   ]
  },
  {
   "cell_type": "code",
   "execution_count": 3,
   "metadata": {},
   "outputs": [],
   "source": [
    "#imports\n",
    "from __future__ import division\n",
    "import nltk, re, pprint\n",
    "from nltk import word_tokenize\n",
    "from nltk.corpus import PlaintextCorpusReader\n",
    "import pandas as pd\n",
    "import numpy as np\n",
    "import matplotlib.pyplot as plt\n",
    "%matplotlib inline\n",
    "from collections import Counter\n",
    "pd.set_option('display.max_columns', None)  \n",
    "pd.set_option('display.expand_frame_repr', False)\n",
    "pd.set_option('max_colwidth', -1)"
   ]
  },
  {
   "cell_type": "code",
   "execution_count": 4,
   "metadata": {},
   "outputs": [
    {
     "data": {
      "text/plain": [
       "'/tf/notebooks/EDA'"
      ]
     },
     "execution_count": 4,
     "metadata": {},
     "output_type": "execute_result"
    }
   ],
   "source": [
    "pwd"
   ]
  },
  {
   "cell_type": "code",
   "execution_count": 5,
   "metadata": {},
   "outputs": [
    {
     "data": {
      "text/html": [
       "<div>\n",
       "<style scoped>\n",
       "    .dataframe tbody tr th:only-of-type {\n",
       "        vertical-align: middle;\n",
       "    }\n",
       "\n",
       "    .dataframe tbody tr th {\n",
       "        vertical-align: top;\n",
       "    }\n",
       "\n",
       "    .dataframe thead th {\n",
       "        text-align: right;\n",
       "    }\n",
       "</style>\n",
       "<table border=\"1\" class=\"dataframe\">\n",
       "  <thead>\n",
       "    <tr style=\"text-align: right;\">\n",
       "      <th></th>\n",
       "      <th>speech_id</th>\n",
       "      <th>date</th>\n",
       "      <th>char_count</th>\n",
       "      <th>word_count</th>\n",
       "      <th>speakerid</th>\n",
       "      <th>party</th>\n",
       "      <th>Congress</th>\n",
       "      <th>Ethnicity</th>\n",
       "      <th>Age</th>\n",
       "      <th>Age_lt_med</th>\n",
       "      <th>NonWhite</th>\n",
       "      <th>Female</th>\n",
       "    </tr>\n",
       "  </thead>\n",
       "  <tbody>\n",
       "    <tr>\n",
       "      <th>0</th>\n",
       "      <td>970000005</td>\n",
       "      <td>19810105</td>\n",
       "      <td>201</td>\n",
       "      <td>34</td>\n",
       "      <td>97105301.0</td>\n",
       "      <td>R</td>\n",
       "      <td>97.0</td>\n",
       "      <td>W</td>\n",
       "      <td>63.0</td>\n",
       "      <td>0.0</td>\n",
       "      <td>0.0</td>\n",
       "      <td>0.0</td>\n",
       "    </tr>\n",
       "    <tr>\n",
       "      <th>1</th>\n",
       "      <td>970000006</td>\n",
       "      <td>19810105</td>\n",
       "      <td>202</td>\n",
       "      <td>34</td>\n",
       "      <td>97105071.0</td>\n",
       "      <td>D</td>\n",
       "      <td>97.0</td>\n",
       "      <td>W</td>\n",
       "      <td>56.0</td>\n",
       "      <td>0.0</td>\n",
       "      <td>0.0</td>\n",
       "      <td>0.0</td>\n",
       "    </tr>\n",
       "    <tr>\n",
       "      <th>2</th>\n",
       "      <td>970000007</td>\n",
       "      <td>19810105</td>\n",
       "      <td>201</td>\n",
       "      <td>34</td>\n",
       "      <td>97106761.0</td>\n",
       "      <td>D</td>\n",
       "      <td>97.0</td>\n",
       "      <td>W</td>\n",
       "      <td>70.0</td>\n",
       "      <td>0.0</td>\n",
       "      <td>0.0</td>\n",
       "      <td>0.0</td>\n",
       "    </tr>\n",
       "    <tr>\n",
       "      <th>3</th>\n",
       "      <td>970000008</td>\n",
       "      <td>19810105</td>\n",
       "      <td>201</td>\n",
       "      <td>34</td>\n",
       "      <td>97106981.0</td>\n",
       "      <td>R</td>\n",
       "      <td>97.0</td>\n",
       "      <td>W</td>\n",
       "      <td>69.0</td>\n",
       "      <td>0.0</td>\n",
       "      <td>0.0</td>\n",
       "      <td>0.0</td>\n",
       "    </tr>\n",
       "    <tr>\n",
       "      <th>4</th>\n",
       "      <td>970000010</td>\n",
       "      <td>19810105</td>\n",
       "      <td>49</td>\n",
       "      <td>9</td>\n",
       "      <td>97104811.0</td>\n",
       "      <td>R</td>\n",
       "      <td>97.0</td>\n",
       "      <td>W</td>\n",
       "      <td>57.0</td>\n",
       "      <td>0.0</td>\n",
       "      <td>0.0</td>\n",
       "      <td>0.0</td>\n",
       "    </tr>\n",
       "    <tr>\n",
       "      <th>5</th>\n",
       "      <td>970000012</td>\n",
       "      <td>19810105</td>\n",
       "      <td>111</td>\n",
       "      <td>17</td>\n",
       "      <td>97104811.0</td>\n",
       "      <td>R</td>\n",
       "      <td>97.0</td>\n",
       "      <td>W</td>\n",
       "      <td>57.0</td>\n",
       "      <td>0.0</td>\n",
       "      <td>0.0</td>\n",
       "      <td>0.0</td>\n",
       "    </tr>\n",
       "    <tr>\n",
       "      <th>6</th>\n",
       "      <td>970000013</td>\n",
       "      <td>19810105</td>\n",
       "      <td>100</td>\n",
       "      <td>18</td>\n",
       "      <td>97107681.0</td>\n",
       "      <td>D</td>\n",
       "      <td>97.0</td>\n",
       "      <td>W</td>\n",
       "      <td>68.0</td>\n",
       "      <td>0.0</td>\n",
       "      <td>0.0</td>\n",
       "      <td>0.0</td>\n",
       "    </tr>\n",
       "    <tr>\n",
       "      <th>7</th>\n",
       "      <td>970000015</td>\n",
       "      <td>19810105</td>\n",
       "      <td>2591</td>\n",
       "      <td>358</td>\n",
       "      <td>97104811.0</td>\n",
       "      <td>R</td>\n",
       "      <td>97.0</td>\n",
       "      <td>W</td>\n",
       "      <td>57.0</td>\n",
       "      <td>0.0</td>\n",
       "      <td>0.0</td>\n",
       "      <td>0.0</td>\n",
       "    </tr>\n",
       "    <tr>\n",
       "      <th>8</th>\n",
       "      <td>970000016</td>\n",
       "      <td>19810105</td>\n",
       "      <td>105</td>\n",
       "      <td>17</td>\n",
       "      <td>97104811.0</td>\n",
       "      <td>R</td>\n",
       "      <td>97.0</td>\n",
       "      <td>W</td>\n",
       "      <td>57.0</td>\n",
       "      <td>0.0</td>\n",
       "      <td>0.0</td>\n",
       "      <td>0.0</td>\n",
       "    </tr>\n",
       "    <tr>\n",
       "      <th>9</th>\n",
       "      <td>970000019</td>\n",
       "      <td>19810105</td>\n",
       "      <td>1426</td>\n",
       "      <td>250</td>\n",
       "      <td>97104811.0</td>\n",
       "      <td>R</td>\n",
       "      <td>97.0</td>\n",
       "      <td>W</td>\n",
       "      <td>57.0</td>\n",
       "      <td>0.0</td>\n",
       "      <td>0.0</td>\n",
       "      <td>0.0</td>\n",
       "    </tr>\n",
       "    <tr>\n",
       "      <th>10</th>\n",
       "      <td>970000020</td>\n",
       "      <td>19810105</td>\n",
       "      <td>60</td>\n",
       "      <td>8</td>\n",
       "      <td>97114621.0</td>\n",
       "      <td>D</td>\n",
       "      <td>97.0</td>\n",
       "      <td>W</td>\n",
       "      <td>65.0</td>\n",
       "      <td>0.0</td>\n",
       "      <td>0.0</td>\n",
       "      <td>0.0</td>\n",
       "    </tr>\n",
       "    <tr>\n",
       "      <th>11</th>\n",
       "      <td>970000021</td>\n",
       "      <td>19810105</td>\n",
       "      <td>20</td>\n",
       "      <td>5</td>\n",
       "      <td>97104811.0</td>\n",
       "      <td>R</td>\n",
       "      <td>97.0</td>\n",
       "      <td>W</td>\n",
       "      <td>57.0</td>\n",
       "      <td>0.0</td>\n",
       "      <td>0.0</td>\n",
       "      <td>0.0</td>\n",
       "    </tr>\n",
       "    <tr>\n",
       "      <th>12</th>\n",
       "      <td>970000022</td>\n",
       "      <td>19810105</td>\n",
       "      <td>269</td>\n",
       "      <td>49</td>\n",
       "      <td>97114621.0</td>\n",
       "      <td>D</td>\n",
       "      <td>97.0</td>\n",
       "      <td>W</td>\n",
       "      <td>65.0</td>\n",
       "      <td>0.0</td>\n",
       "      <td>0.0</td>\n",
       "      <td>0.0</td>\n",
       "    </tr>\n",
       "    <tr>\n",
       "      <th>13</th>\n",
       "      <td>970000023</td>\n",
       "      <td>19810105</td>\n",
       "      <td>43</td>\n",
       "      <td>7</td>\n",
       "      <td>97104811.0</td>\n",
       "      <td>R</td>\n",
       "      <td>97.0</td>\n",
       "      <td>W</td>\n",
       "      <td>57.0</td>\n",
       "      <td>0.0</td>\n",
       "      <td>0.0</td>\n",
       "      <td>0.0</td>\n",
       "    </tr>\n",
       "    <tr>\n",
       "      <th>14</th>\n",
       "      <td>970000024</td>\n",
       "      <td>19810105</td>\n",
       "      <td>87</td>\n",
       "      <td>15</td>\n",
       "      <td>97114621.0</td>\n",
       "      <td>D</td>\n",
       "      <td>97.0</td>\n",
       "      <td>W</td>\n",
       "      <td>65.0</td>\n",
       "      <td>0.0</td>\n",
       "      <td>0.0</td>\n",
       "      <td>0.0</td>\n",
       "    </tr>\n",
       "  </tbody>\n",
       "</table>\n",
       "</div>"
      ],
      "text/plain": [
       "    speech_id      date  char_count  word_count   speakerid party  Congress Ethnicity   Age  Age_lt_med  NonWhite  Female\n",
       "0   970000005  19810105  201         34          97105301.0  R     97.0      W         63.0  0.0         0.0       0.0   \n",
       "1   970000006  19810105  202         34          97105071.0  D     97.0      W         56.0  0.0         0.0       0.0   \n",
       "2   970000007  19810105  201         34          97106761.0  D     97.0      W         70.0  0.0         0.0       0.0   \n",
       "3   970000008  19810105  201         34          97106981.0  R     97.0      W         69.0  0.0         0.0       0.0   \n",
       "4   970000010  19810105  49          9           97104811.0  R     97.0      W         57.0  0.0         0.0       0.0   \n",
       "5   970000012  19810105  111         17          97104811.0  R     97.0      W         57.0  0.0         0.0       0.0   \n",
       "6   970000013  19810105  100         18          97107681.0  D     97.0      W         68.0  0.0         0.0       0.0   \n",
       "7   970000015  19810105  2591        358         97104811.0  R     97.0      W         57.0  0.0         0.0       0.0   \n",
       "8   970000016  19810105  105         17          97104811.0  R     97.0      W         57.0  0.0         0.0       0.0   \n",
       "9   970000019  19810105  1426        250         97104811.0  R     97.0      W         57.0  0.0         0.0       0.0   \n",
       "10  970000020  19810105  60          8           97114621.0  D     97.0      W         65.0  0.0         0.0       0.0   \n",
       "11  970000021  19810105  20          5           97104811.0  R     97.0      W         57.0  0.0         0.0       0.0   \n",
       "12  970000022  19810105  269         49          97114621.0  D     97.0      W         65.0  0.0         0.0       0.0   \n",
       "13  970000023  19810105  43          7           97104811.0  R     97.0      W         57.0  0.0         0.0       0.0   \n",
       "14  970000024  19810105  87          15          97114621.0  D     97.0      W         65.0  0.0         0.0       0.0   "
      ]
     },
     "execution_count": 5,
     "metadata": {},
     "output_type": "execute_result"
    }
   ],
   "source": [
    "descr = pd.read_csv('../data/QA/full_descr.txt', sep=\"|\")\n",
    "descr[:15]"
   ]
  },
  {
   "cell_type": "code",
   "execution_count": 6,
   "metadata": {},
   "outputs": [
    {
     "data": {
      "text/plain": [
       "(2585807, 12)"
      ]
     },
     "execution_count": 6,
     "metadata": {},
     "output_type": "execute_result"
    }
   ],
   "source": [
    "descr.shape"
   ]
  },
  {
   "cell_type": "code",
   "execution_count": 7,
   "metadata": {},
   "outputs": [
    {
     "data": {
      "text/plain": [
       "207997.0"
      ]
     },
     "execution_count": 7,
     "metadata": {},
     "output_type": "execute_result"
    }
   ],
   "source": [
    "descr['NonWhite'].sum()"
   ]
  },
  {
   "cell_type": "code",
   "execution_count": 8,
   "metadata": {},
   "outputs": [
    {
     "data": {
      "text/plain": [
       "200045.0"
      ]
     },
     "execution_count": 8,
     "metadata": {},
     "output_type": "execute_result"
    }
   ],
   "source": [
    "descr['Female'].sum()"
   ]
  },
  {
   "cell_type": "code",
   "execution_count": 9,
   "metadata": {},
   "outputs": [
    {
     "data": {
      "text/plain": [
       "866718.0"
      ]
     },
     "execution_count": 9,
     "metadata": {},
     "output_type": "execute_result"
    }
   ],
   "source": [
    "descr['Age_lt_med'].sum()"
   ]
  },
  {
   "cell_type": "code",
   "execution_count": 23,
   "metadata": {},
   "outputs": [
    {
     "data": {
      "text/plain": [
       "(1, 7.0, 218.46652669746814, 43.0, 22613, 2049.0)"
      ]
     },
     "execution_count": 23,
     "metadata": {},
     "output_type": "execute_result"
    }
   ],
   "source": [
    "descr.word_count.min(), np.percentile(descr.word_count, 10), descr.word_count.mean(), descr.word_count.median(), descr.word_count.max(), np.percentile(descr.word_count, 99)"
   ]
  },
  {
   "cell_type": "code",
   "execution_count": 24,
   "metadata": {},
   "outputs": [
    {
     "name": "stdout",
     "output_type": "stream",
     "text": [
      "1 2.0\n",
      "2 4.0\n",
      "3 4.0\n",
      "4 5.0\n",
      "5 6.0\n",
      "6 6.0\n",
      "7 6.0\n",
      "8 6.0\n",
      "9 7.0\n",
      "10 7.0\n",
      "11 7.0\n",
      "12 8.0\n",
      "13 8.0\n",
      "14 9.0\n",
      "15 9.0\n",
      "16 9.0\n",
      "17 10.0\n",
      "18 10.0\n",
      "19 11.0\n",
      "20 11.0\n",
      "21 12.0\n",
      "22 12.0\n",
      "23 12.0\n",
      "24 13.0\n",
      "25 14.0\n",
      "26 14.0\n",
      "27 15.0\n",
      "28 15.0\n",
      "29 15.0\n",
      "30 16.0\n",
      "31 16.0\n",
      "32 17.0\n",
      "33 18.0\n",
      "34 19.0\n",
      "35 19.0\n",
      "36 20.0\n",
      "37 21.0\n",
      "38 22.0\n",
      "39 23.0\n",
      "40 25.0\n",
      "41 26.0\n",
      "42 27.0\n",
      "43 29.0\n",
      "44 30.0\n",
      "45 32.0\n",
      "46 33.0\n",
      "47 35.0\n",
      "48 38.0\n",
      "49 40.0\n",
      "50 43.0\n",
      "51 45.0\n",
      "52 49.0\n",
      "53 52.0\n",
      "54 56.0\n",
      "55 61.0\n",
      "56 66.0\n",
      "57 71.0\n",
      "58 77.0\n",
      "59 84.0\n",
      "60 91.0\n",
      "61 99.0\n",
      "62 108.0\n",
      "63 117.0\n",
      "64 127.0\n",
      "65 137.0\n",
      "66 147.0\n",
      "67 157.0\n",
      "68 166.0\n",
      "69 176.0\n",
      "70 185.0\n",
      "71 195.0\n",
      "72 206.0\n",
      "73 217.0\n",
      "74 230.0\n",
      "75 243.0\n",
      "76 258.0\n",
      "77 274.0\n",
      "78 291.0\n",
      "79 309.0\n",
      "80 327.0\n",
      "81 346.0\n",
      "82 366.0\n",
      "83 388.0\n",
      "84 411.0\n",
      "85 437.0\n",
      "86 464.0\n",
      "87 495.0\n",
      "88 529.0\n",
      "89 566.0\n",
      "90 608.0\n",
      "91 655.0\n",
      "92 708.0\n",
      "93 767.0\n",
      "94 839.0\n",
      "95 929.0\n",
      "96 1052.0\n",
      "97 1232.0\n",
      "98 1507.0\n",
      "99 2049.0\n"
     ]
    }
   ],
   "source": [
    "for p in range(1,100):\n",
    "    print(p, np.percentile(descr.word_count, p))"
   ]
  },
  {
   "cell_type": "code",
   "execution_count": 18,
   "metadata": {},
   "outputs": [],
   "source": [
    "word_count = np.clip(descr.word_count, np.min(descr.word_count), np.percentile(descr.word_count, 99))"
   ]
  },
  {
   "cell_type": "code",
   "execution_count": 20,
   "metadata": {},
   "outputs": [
    {
     "data": {
      "text/plain": [
       "<matplotlib.axes._subplots.AxesSubplot at 0x7fefd1e4c358>"
      ]
     },
     "execution_count": 20,
     "metadata": {},
     "output_type": "execute_result"
    },
    {
     "data": {
      "image/png": "[encoded data removed]",
      "text/plain": [
       "<Figure size 432x288 with 1 Axes>"
      ]
     },
     "metadata": {
      "needs_background": "light"
     },
     "output_type": "display_data"
    }
   ],
   "source": [
    "word_count.hist(bins=20)"
   ]
  },
  {
   "cell_type": "markdown",
   "metadata": {},
   "source": [
    "speakermap.state.value_counts().plot.bar()"
   ]
  },
  {
   "cell_type": "code",
   "execution_count": 75,
   "metadata": {},
   "outputs": [
    {
     "data": {
      "text/plain": [
       "<matplotlib.axes._subplots.AxesSubplot at 0x1a14383b00>"
      ]
     },
     "execution_count": 75,
     "metadata": {},
     "output_type": "execute_result"
    },
    {
     "data": {
      "image/png": "[encoded data removed]",
      "text/plain": [
       "<Figure size 432x288 with 1 Axes>"
      ]
     },
     "metadata": {},
     "output_type": "display_data"
    }
   ],
   "source": [
    "x = speakermap.state.value_counts()/speakermap_unique.state.value_counts()\n",
    "y = x.sort_values(ascending=False)\n",
    "y.plot.bar()"
   ]
  },
  {
   "cell_type": "code",
   "execution_count": null,
   "metadata": {},
   "outputs": [],
   "source": []
  },
  {
   "cell_type": "code",
   "execution_count": null,
   "metadata": {},
   "outputs": [],
   "source": []
  },
  {
   "cell_type": "code",
   "execution_count": null,
   "metadata": {},
   "outputs": [],
   "source": []
  },
  {
   "cell_type": "code",
   "execution_count": 55,
   "metadata": {},
   "outputs": [
    {
     "data": {
      "text/plain": [
       "<matplotlib.axes._subplots.AxesSubplot at 0x1a2557fbe0>"
      ]
     },
     "execution_count": 55,
     "metadata": {},
     "output_type": "execute_result"
    },
    {
     "data": {
      "image/png": "[encoded data removed]",
      "text/plain": [
       "<Figure size 432x288 with 1 Axes>"
      ]
     },
     "metadata": {},
     "output_type": "display_data"
    }
   ],
   "source": [
    "descr.gender.value_counts().plot.bar()"
   ]
  },
  {
   "cell_type": "code",
   "execution_count": 76,
   "metadata": {},
   "outputs": [
    {
     "data": {
      "text/plain": [
       "<matplotlib.axes._subplots.AxesSubplot at 0x1a14a23898>"
      ]
     },
     "execution_count": 76,
     "metadata": {},
     "output_type": "execute_result"
    },
    {
     "data": {
      "image/png": "[encoded data removed]",
      "text/plain": [
       "<Figure size 432x288 with 1 Axes>"
      ]
     },
     "metadata": {},
     "output_type": "display_data"
    }
   ],
   "source": [
    "x = descr.gender.value_counts()/descr_unique.gender.value_counts()\n",
    "y = x.sort_values(ascending=False)\n",
    "y.plot.bar()"
   ]
  },
  {
   "cell_type": "code",
   "execution_count": 51,
   "metadata": {},
   "outputs": [
    {
     "data": {
      "text/plain": [
       "<matplotlib.axes._subplots.AxesSubplot at 0x1a147806d8>"
      ]
     },
     "execution_count": 51,
     "metadata": {},
     "output_type": "execute_result"
    },
    {
     "data": {
      "image/png": "[encoded data removed]",
      "text/plain": [
       "<Figure size 432x288 with 1 Axes>"
      ]
     },
     "metadata": {},
     "output_type": "display_data"
    }
   ],
   "source": [
    "speakermap.party.value_counts().plot.bar()"
   ]
  },
  {
   "cell_type": "code",
   "execution_count": 78,
   "metadata": {},
   "outputs": [
    {
     "data": {
      "text/plain": [
       "<matplotlib.axes._subplots.AxesSubplot at 0x1a14dafc50>"
      ]
     },
     "execution_count": 78,
     "metadata": {},
     "output_type": "execute_result"
    },
    {
     "data": {
      "image/png": "[encoded data removed]",
      "text/plain": [
       "<Figure size 432x288 with 1 Axes>"
      ]
     },
     "metadata": {},
     "output_type": "display_data"
    }
   ],
   "source": [
    "x = speakermap.party.value_counts()/speakermap_unique.party.value_counts()\n",
    "y = x.sort_values(ascending=False)\n",
    "y.plot.bar()"
   ]
  },
  {
   "cell_type": "code",
   "execution_count": null,
   "metadata": {},
   "outputs": [],
   "source": []
  }
 ],
 "metadata": {
  "kernelspec": {
   "display_name": "Python 3",
   "language": "python",
   "name": "python3"
  },
  "language_info": {
   "codemirror_mode": {
    "name": "ipython",
    "version": 3
   },
   "file_extension": ".py",
   "mimetype": "text/x-python",
   "name": "python",
   "nbconvert_exporter": "python",
   "pygments_lexer": "ipython3",
   "version": "3.5.2"
  }
 },
 "nbformat": 4,
 "nbformat_minor": 2
}
