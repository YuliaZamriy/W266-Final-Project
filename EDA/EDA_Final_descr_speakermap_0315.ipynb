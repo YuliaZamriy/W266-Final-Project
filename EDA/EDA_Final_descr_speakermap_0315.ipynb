{
 "cells": [
  {
   "cell_type": "code",
   "execution_count": 1,
   "metadata": {},
   "outputs": [
    {
     "data": {
      "text/html": [
       "<style>.container { width:100% !important; }</style>"
      ],
      "text/plain": [
       "<IPython.core.display.HTML object>"
      ]
     },
     "metadata": {},
     "output_type": "display_data"
    }
   ],
   "source": [
    "# increase cell width\n",
    "from IPython.core.display import display, HTML\n",
    "display(HTML(\"<style>.container { width:100% !important; }</style>\"))"
   ]
  },
  {
   "cell_type": "code",
   "execution_count": 2,
   "metadata": {},
   "outputs": [],
   "source": [
    "#imports\n",
    "from __future__ import division\n",
    "import nltk, re, pprint\n",
    "from nltk import word_tokenize\n",
    "from nltk.corpus import PlaintextCorpusReader\n",
    "import pandas as pd\n",
    "import numpy as np\n",
    "import matplotlib.pyplot as plt\n",
    "%matplotlib inline\n",
    "from collections import Counter\n",
    "pd.set_option('display.max_columns', None)  \n",
    "pd.set_option('display.expand_frame_repr', False)\n",
    "pd.set_option('max_colwidth', -1)"
   ]
  },
  {
   "cell_type": "code",
   "execution_count": 3,
   "metadata": {},
   "outputs": [
    {
     "data": {
      "text/plain": [
       "'/Users/fariamardhani/Berkeley/W266/W266-Final-Project/W266-Final-Project/EDA'"
      ]
     },
     "execution_count": 3,
     "metadata": {},
     "output_type": "execute_result"
    }
   ],
   "source": [
    "pwd"
   ]
  },
  {
   "cell_type": "code",
   "execution_count": 77,
   "metadata": {
    "scrolled": true
   },
   "outputs": [
    {
     "data": {
      "text/html": [
       "<div>\n",
       "<style scoped>\n",
       "    .dataframe tbody tr th:only-of-type {\n",
       "        vertical-align: middle;\n",
       "    }\n",
       "\n",
       "    .dataframe tbody tr th {\n",
       "        vertical-align: top;\n",
       "    }\n",
       "\n",
       "    .dataframe thead th {\n",
       "        text-align: right;\n",
       "    }\n",
       "</style>\n",
       "<table border=\"1\" class=\"dataframe\">\n",
       "  <thead>\n",
       "    <tr style=\"text-align: right;\">\n",
       "      <th></th>\n",
       "      <th>speech_id</th>\n",
       "      <th>date</th>\n",
       "      <th>char_count</th>\n",
       "      <th>word_count</th>\n",
       "      <th>speakerid</th>\n",
       "      <th>Party</th>\n",
       "      <th>Congress</th>\n",
       "      <th>Chamber</th>\n",
       "      <th>State</th>\n",
       "      <th>Ethnicity</th>\n",
       "      <th>Age</th>\n",
       "      <th>Age_lt_med</th>\n",
       "      <th>NonWhite</th>\n",
       "      <th>Female</th>\n",
       "      <th>speaker</th>\n",
       "      <th>Full Name</th>\n",
       "      <th>match</th>\n",
       "    </tr>\n",
       "  </thead>\n",
       "  <tbody>\n",
       "    <tr>\n",
       "      <th>0</th>\n",
       "      <td>970000005</td>\n",
       "      <td>19810105</td>\n",
       "      <td>201</td>\n",
       "      <td>34</td>\n",
       "      <td>97105301.0</td>\n",
       "      <td>R</td>\n",
       "      <td>97</td>\n",
       "      <td>S</td>\n",
       "      <td>IL</td>\n",
       "      <td>W</td>\n",
       "      <td>63.0</td>\n",
       "      <td>0.0</td>\n",
       "      <td>0.0</td>\n",
       "      <td>0.0</td>\n",
       "      <td>Mr. PERCY</td>\n",
       "      <td>PERCY, CHARLES</td>\n",
       "      <td>exact</td>\n",
       "    </tr>\n",
       "    <tr>\n",
       "      <th>1</th>\n",
       "      <td>970000006</td>\n",
       "      <td>19810105</td>\n",
       "      <td>202</td>\n",
       "      <td>34</td>\n",
       "      <td>97105071.0</td>\n",
       "      <td>D</td>\n",
       "      <td>97</td>\n",
       "      <td>S</td>\n",
       "      <td>KY</td>\n",
       "      <td>W</td>\n",
       "      <td>56.0</td>\n",
       "      <td>0.0</td>\n",
       "      <td>0.0</td>\n",
       "      <td>0.0</td>\n",
       "      <td>Mr. HUDDLESTON</td>\n",
       "      <td>HUDDLESTON, WALTER</td>\n",
       "      <td>exact</td>\n",
       "    </tr>\n",
       "    <tr>\n",
       "      <th>2</th>\n",
       "      <td>970000007</td>\n",
       "      <td>19810105</td>\n",
       "      <td>201</td>\n",
       "      <td>34</td>\n",
       "      <td>97106761.0</td>\n",
       "      <td>D</td>\n",
       "      <td>97</td>\n",
       "      <td>S</td>\n",
       "      <td>WA</td>\n",
       "      <td>W</td>\n",
       "      <td>70.0</td>\n",
       "      <td>0.0</td>\n",
       "      <td>0.0</td>\n",
       "      <td>0.0</td>\n",
       "      <td>Mr. JAcKSON</td>\n",
       "      <td>JACKSON, HENRY</td>\n",
       "      <td>exact</td>\n",
       "    </tr>\n",
       "    <tr>\n",
       "      <th>3</th>\n",
       "      <td>970000008</td>\n",
       "      <td>19810105</td>\n",
       "      <td>201</td>\n",
       "      <td>34</td>\n",
       "      <td>97106981.0</td>\n",
       "      <td>R</td>\n",
       "      <td>97</td>\n",
       "      <td>S</td>\n",
       "      <td>VT</td>\n",
       "      <td>W</td>\n",
       "      <td>69.0</td>\n",
       "      <td>0.0</td>\n",
       "      <td>0.0</td>\n",
       "      <td>0.0</td>\n",
       "      <td>Mr. STAFFORD</td>\n",
       "      <td>STAFFORD, ROBERT</td>\n",
       "      <td>exact</td>\n",
       "    </tr>\n",
       "    <tr>\n",
       "      <th>4</th>\n",
       "      <td>970000010</td>\n",
       "      <td>19810105</td>\n",
       "      <td>49</td>\n",
       "      <td>9</td>\n",
       "      <td>97104811.0</td>\n",
       "      <td>R</td>\n",
       "      <td>97</td>\n",
       "      <td>S</td>\n",
       "      <td>TN</td>\n",
       "      <td>W</td>\n",
       "      <td>57.0</td>\n",
       "      <td>0.0</td>\n",
       "      <td>0.0</td>\n",
       "      <td>0.0</td>\n",
       "      <td>Mr. BAKER</td>\n",
       "      <td>BAKER, HOWARD</td>\n",
       "      <td>exact</td>\n",
       "    </tr>\n",
       "  </tbody>\n",
       "</table>\n",
       "</div>"
      ],
      "text/plain": [
       "   speech_id      date  char_count  word_count   speakerid Party  Congress Chamber State Ethnicity   Age  Age_lt_med  NonWhite  Female         speaker           Full Name  match\n",
       "0  970000005  19810105  201         34          97105301.0  R     97        S       IL    W         63.0  0.0         0.0       0.0     Mr. PERCY       PERCY, CHARLES      exact\n",
       "1  970000006  19810105  202         34          97105071.0  D     97        S       KY    W         56.0  0.0         0.0       0.0     Mr. HUDDLESTON  HUDDLESTON, WALTER  exact\n",
       "2  970000007  19810105  201         34          97106761.0  D     97        S       WA    W         70.0  0.0         0.0       0.0     Mr. JAcKSON     JACKSON, HENRY      exact\n",
       "3  970000008  19810105  201         34          97106981.0  R     97        S       VT    W         69.0  0.0         0.0       0.0     Mr. STAFFORD    STAFFORD, ROBERT    exact\n",
       "4  970000010  19810105  49          9           97104811.0  R     97        S       TN    W         57.0  0.0         0.0       0.0     Mr. BAKER       BAKER, HOWARD       exact"
      ]
     },
     "execution_count": 77,
     "metadata": {},
     "output_type": "execute_result"
    }
   ],
   "source": [
    "descr = pd.read_csv('../full_descr.txt', sep=\"|\")\n",
    "descr.head()"
   ]
  },
  {
   "cell_type": "code",
   "execution_count": 78,
   "metadata": {},
   "outputs": [
    {
     "data": {
      "text/plain": [
       "(9845, 17)"
      ]
     },
     "execution_count": 78,
     "metadata": {},
     "output_type": "execute_result"
    }
   ],
   "source": [
    "descr_unique = descr.drop_duplicates(subset='speakerid', keep='first', inplace=False)\n",
    "descr_unique.shape"
   ]
  },
  {
   "cell_type": "code",
   "execution_count": 80,
   "metadata": {},
   "outputs": [
    {
     "data": {
      "text/html": [
       "<div>\n",
       "<style scoped>\n",
       "    .dataframe tbody tr th:only-of-type {\n",
       "        vertical-align: middle;\n",
       "    }\n",
       "\n",
       "    .dataframe tbody tr th {\n",
       "        vertical-align: top;\n",
       "    }\n",
       "\n",
       "    .dataframe thead th {\n",
       "        text-align: right;\n",
       "    }\n",
       "</style>\n",
       "<table border=\"1\" class=\"dataframe\">\n",
       "  <thead>\n",
       "    <tr style=\"text-align: right;\">\n",
       "      <th></th>\n",
       "      <th>speakerid</th>\n",
       "      <th>Congress</th>\n",
       "      <th>Full Name</th>\n",
       "      <th>Chamber</th>\n",
       "      <th>State</th>\n",
       "      <th>Female</th>\n",
       "      <th>Party</th>\n",
       "      <th>Speech_Count</th>\n",
       "    </tr>\n",
       "  </thead>\n",
       "  <tbody>\n",
       "    <tr>\n",
       "      <th>0</th>\n",
       "      <td>97105301</td>\n",
       "      <td>97</td>\n",
       "      <td>PERCY, CHARLES</td>\n",
       "      <td>S</td>\n",
       "      <td>IL</td>\n",
       "      <td>0</td>\n",
       "      <td>R</td>\n",
       "      <td>2050</td>\n",
       "    </tr>\n",
       "    <tr>\n",
       "      <th>1</th>\n",
       "      <td>97105071</td>\n",
       "      <td>97</td>\n",
       "      <td>HUDDLESTON, WALTER</td>\n",
       "      <td>S</td>\n",
       "      <td>KY</td>\n",
       "      <td>0</td>\n",
       "      <td>D</td>\n",
       "      <td>563</td>\n",
       "    </tr>\n",
       "    <tr>\n",
       "      <th>2</th>\n",
       "      <td>97106761</td>\n",
       "      <td>97</td>\n",
       "      <td>JACKSON, HENRY</td>\n",
       "      <td>S</td>\n",
       "      <td>WA</td>\n",
       "      <td>0</td>\n",
       "      <td>D</td>\n",
       "      <td>560</td>\n",
       "    </tr>\n",
       "    <tr>\n",
       "      <th>3</th>\n",
       "      <td>97106981</td>\n",
       "      <td>97</td>\n",
       "      <td>STAFFORD, ROBERT</td>\n",
       "      <td>S</td>\n",
       "      <td>VT</td>\n",
       "      <td>0</td>\n",
       "      <td>R</td>\n",
       "      <td>497</td>\n",
       "    </tr>\n",
       "    <tr>\n",
       "      <th>4</th>\n",
       "      <td>97104811</td>\n",
       "      <td>97</td>\n",
       "      <td>BAKER, HOWARD</td>\n",
       "      <td>S</td>\n",
       "      <td>TN</td>\n",
       "      <td>0</td>\n",
       "      <td>R</td>\n",
       "      <td>15456</td>\n",
       "    </tr>\n",
       "  </tbody>\n",
       "</table>\n",
       "</div>"
      ],
      "text/plain": [
       "   speakerid  Congress           Full Name Chamber State  Female Party  Speech_Count\n",
       "0  97105301   97        PERCY, CHARLES      S       IL    0       R     2050        \n",
       "1  97105071   97        HUDDLESTON, WALTER  S       KY    0       D     563         \n",
       "2  97106761   97        JACKSON, HENRY      S       WA    0       D     560         \n",
       "3  97106981   97        STAFFORD, ROBERT    S       VT    0       R     497         \n",
       "4  97104811   97        BAKER, HOWARD       S       TN    0       R     15456       "
      ]
     },
     "execution_count": 80,
     "metadata": {},
     "output_type": "execute_result"
    }
   ],
   "source": [
    "col_names = ['speakerid', 'Congress', 'Full Name', 'Chamber', 'State', 'Female', 'Party', 'Speech_Count']\n",
    "speakermap = pd.read_csv('../data/QA/full_speakermap.txt', sep=\"\\t\", \n",
    "                         names = col_names)\n",
    "speakermap['Female'] = speakermap.Female.replace('M', 0)\n",
    "speakermap['Female'] = speakermap.Female.replace('F', 1)\n",
    "speakermap.head()"
   ]
  },
  {
   "cell_type": "code",
   "execution_count": 81,
   "metadata": {},
   "outputs": [
    {
     "data": {
      "text/plain": [
       "(9845, 8)"
      ]
     },
     "execution_count": 81,
     "metadata": {},
     "output_type": "execute_result"
    }
   ],
   "source": [
    "speakermap.shape"
   ]
  },
  {
   "cell_type": "code",
   "execution_count": 5,
   "metadata": {},
   "outputs": [
    {
     "data": {
      "text/plain": [
       "(2914464, 17)"
      ]
     },
     "execution_count": 5,
     "metadata": {},
     "output_type": "execute_result"
    }
   ],
   "source": [
    "descr.shape"
   ]
  },
  {
   "cell_type": "code",
   "execution_count": 84,
   "metadata": {},
   "outputs": [
    {
     "data": {
      "text/plain": [
       "8.735843022936637"
      ]
     },
     "execution_count": 84,
     "metadata": {},
     "output_type": "execute_result"
    }
   ],
   "source": [
    "nonwhite = (descr['NonWhite'].sum()/descr['NonWhite'].count())*100\n",
    "nonwhite"
   ]
  },
  {
   "cell_type": "code",
   "execution_count": 85,
   "metadata": {},
   "outputs": [
    {
     "data": {
      "text/plain": [
       "7.947396159293785"
      ]
     },
     "execution_count": 85,
     "metadata": {},
     "output_type": "execute_result"
    }
   ],
   "source": [
    "female = (descr['Female'].sum()/descr['Female'].count())*100\n",
    "female"
   ]
  },
  {
   "cell_type": "code",
   "execution_count": 86,
   "metadata": {},
   "outputs": [
    {
     "data": {
      "text/plain": [
       "35.14982514795174"
      ]
     },
     "execution_count": 86,
     "metadata": {},
     "output_type": "execute_result"
    }
   ],
   "source": [
    "young = (descr['Age_lt_med'].sum()/descr['Age_lt_med'].count())*100\n",
    "young"
   ]
  },
  {
   "cell_type": "markdown",
   "metadata": {},
   "source": [
    "## Speeches, Word Count, Char Count by Characteristic (Ratio)"
   ]
  },
  {
   "cell_type": "markdown",
   "metadata": {},
   "source": [
    "### By Chamber"
   ]
  },
  {
   "cell_type": "code",
   "execution_count": 102,
   "metadata": {},
   "outputs": [
    {
     "data": {
      "text/plain": [
       "<matplotlib.axes._subplots.AxesSubplot at 0x1a148930b8>"
      ]
     },
     "execution_count": 102,
     "metadata": {},
     "output_type": "execute_result"
    },
    {
     "data": {
      "image/png": "[encoded data removed]",
      "text/plain": [
       "<Figure size 432x288 with 1 Axes>"
      ]
     },
     "metadata": {},
     "output_type": "display_data"
    }
   ],
   "source": [
    "# Speech frequency by Chamber\n",
    "x = descr.Chamber.value_counts()/speakermap.Chamber.value_counts()\n",
    "y = x.sort_values(ascending=False)\n",
    "y.plot.bar()"
   ]
  },
  {
   "cell_type": "code",
   "execution_count": 126,
   "metadata": {},
   "outputs": [
    {
     "data": {
      "text/plain": [
       "<matplotlib.axes._subplots.AxesSubplot at 0x1a1560b278>"
      ]
     },
     "execution_count": 126,
     "metadata": {},
     "output_type": "execute_result"
    },
    {
     "data": {
      "image/png": "[encoded data removed]",
      "text/plain": [
       "<Figure size 432x288 with 1 Axes>"
      ]
     },
     "metadata": {},
     "output_type": "display_data"
    }
   ],
   "source": [
    "# Average word count per speech by Chamber\n",
    "avg_word_count = descr.groupby(['Chamber']).sum()['word_count']/descr.Chamber.value_counts()\n",
    "y = avg_word_count.sort_values(ascending=False)\n",
    "y.plot.bar()"
   ]
  },
  {
   "cell_type": "code",
   "execution_count": 127,
   "metadata": {},
   "outputs": [
    {
     "data": {
      "text/plain": [
       "<matplotlib.axes._subplots.AxesSubplot at 0x1a177297f0>"
      ]
     },
     "execution_count": 127,
     "metadata": {},
     "output_type": "execute_result"
    },
    {
     "data": {
      "image/png": "[encoded data removed]",
      "text/plain": [
       "<Figure size 432x288 with 1 Axes>"
      ]
     },
     "metadata": {},
     "output_type": "display_data"
    }
   ],
   "source": [
    "# Average word length per speech by Chamber\n",
    "x = descr.groupby(['Chamber']).sum()['char_count']/descr.Chamber.value_counts()/avg_word_count\n",
    "y = x.sort_values(ascending=False)\n",
    "y.plot.bar()"
   ]
  },
  {
   "cell_type": "markdown",
   "metadata": {},
   "source": [
    "### By Party"
   ]
  },
  {
   "cell_type": "code",
   "execution_count": 115,
   "metadata": {},
   "outputs": [
    {
     "data": {
      "text/plain": [
       "<matplotlib.axes._subplots.AxesSubplot at 0x1a15b078d0>"
      ]
     },
     "execution_count": 115,
     "metadata": {},
     "output_type": "execute_result"
    },
    {
     "data": {
      "image/png": "[encoded data removed]",
      "text/plain": [
       "<Figure size 432x288 with 1 Axes>"
      ]
     },
     "metadata": {},
     "output_type": "display_data"
    }
   ],
   "source": [
    "# Speech frequency by Party\n",
    "x = descr.Party.value_counts()/speakermap.Party.value_counts()\n",
    "y = x.sort_values(ascending=False)\n",
    "y.plot.bar()"
   ]
  },
  {
   "cell_type": "code",
   "execution_count": 128,
   "metadata": {},
   "outputs": [
    {
     "data": {
      "text/plain": [
       "<matplotlib.axes._subplots.AxesSubplot at 0x1a177e73c8>"
      ]
     },
     "execution_count": 128,
     "metadata": {},
     "output_type": "execute_result"
    },
    {
     "data": {
      "image/png": "[encoded data removed]",
      "text/plain": [
       "<Figure size 432x288 with 1 Axes>"
      ]
     },
     "metadata": {},
     "output_type": "display_data"
    }
   ],
   "source": [
    "# Average word count per speech by Party\n",
    "avg_word_count = descr.groupby(['Party']).sum()['word_count']/descr.Party.value_counts()\n",
    "y = avg_word_count.sort_values(ascending=False)\n",
    "y.plot.bar()"
   ]
  },
  {
   "cell_type": "code",
   "execution_count": 129,
   "metadata": {},
   "outputs": [
    {
     "data": {
      "text/plain": [
       "<matplotlib.axes._subplots.AxesSubplot at 0x1a178ae358>"
      ]
     },
     "execution_count": 129,
     "metadata": {},
     "output_type": "execute_result"
    },
    {
     "data": {
      "image/png": "[encoded data removed]",
      "text/plain": [
       "<Figure size 432x288 with 1 Axes>"
      ]
     },
     "metadata": {},
     "output_type": "display_data"
    }
   ],
   "source": [
    "# Average word length per speech by Party\n",
    "x = descr.groupby(['Party']).sum()['char_count']/descr.Party.value_counts()/avg_word_count\n",
    "y = x.sort_values(ascending=False)\n",
    "y.plot.bar()"
   ]
  },
  {
   "cell_type": "markdown",
   "metadata": {},
   "source": [
    "### By Gender"
   ]
  },
  {
   "cell_type": "code",
   "execution_count": 119,
   "metadata": {},
   "outputs": [
    {
     "data": {
      "text/plain": [
       "<matplotlib.axes._subplots.AxesSubplot at 0x1a15fad2e8>"
      ]
     },
     "execution_count": 119,
     "metadata": {},
     "output_type": "execute_result"
    },
    {
     "data": {
      "image/png": "[encoded data removed]",
      "text/plain": [
       "<Figure size 432x288 with 1 Axes>"
      ]
     },
     "metadata": {},
     "output_type": "display_data"
    }
   ],
   "source": [
    "# Speech frequency by Gender\n",
    "x = descr.Female.value_counts()/speakermap.Female.value_counts()\n",
    "y = x.sort_values(ascending=False)\n",
    "y.plot.bar()"
   ]
  },
  {
   "cell_type": "code",
   "execution_count": 130,
   "metadata": {},
   "outputs": [
    {
     "data": {
      "text/plain": [
       "<matplotlib.axes._subplots.AxesSubplot at 0x1a1795ad68>"
      ]
     },
     "execution_count": 130,
     "metadata": {},
     "output_type": "execute_result"
    },
    {
     "data": {
      "image/png": "[encoded data removed]",
      "text/plain": [
       "<Figure size 432x288 with 1 Axes>"
      ]
     },
     "metadata": {},
     "output_type": "display_data"
    }
   ],
   "source": [
    "# Average word count per speech by Gender\n",
    "avg_word_count = descr.groupby(['Female']).sum()['word_count']/descr.Female.value_counts()\n",
    "y = avg_word_count.sort_values(ascending=False)\n",
    "y.plot.bar()"
   ]
  },
  {
   "cell_type": "code",
   "execution_count": 131,
   "metadata": {},
   "outputs": [
    {
     "data": {
      "text/plain": [
       "<matplotlib.axes._subplots.AxesSubplot at 0x1a17a19048>"
      ]
     },
     "execution_count": 131,
     "metadata": {},
     "output_type": "execute_result"
    },
    {
     "data": {
      "image/png": "[encoded data removed]",
      "text/plain": [
       "<Figure size 432x288 with 1 Axes>"
      ]
     },
     "metadata": {},
     "output_type": "display_data"
    }
   ],
   "source": [
    "# Average word length per speech by Gender\n",
    "x = descr.groupby(['Female']).sum()['char_count']/descr.Female.value_counts()/avg_word_count\n",
    "y = x.sort_values(ascending=False)\n",
    "y.plot.bar()"
   ]
  },
  {
   "cell_type": "markdown",
   "metadata": {},
   "source": [
    "### By State"
   ]
  },
  {
   "cell_type": "code",
   "execution_count": 122,
   "metadata": {},
   "outputs": [
    {
     "data": {
      "text/plain": [
       "<matplotlib.axes._subplots.AxesSubplot at 0x1a170fc518>"
      ]
     },
     "execution_count": 122,
     "metadata": {},
     "output_type": "execute_result"
    },
    {
     "data": {
      "image/png": "[encoded data removed]",
      "text/plain": [
       "<Figure size 432x288 with 1 Axes>"
      ]
     },
     "metadata": {},
     "output_type": "display_data"
    }
   ],
   "source": [
    "# Speech frequency by State\n",
    "x = descr.State.value_counts()/speakermap.State.value_counts()\n",
    "y = x.sort_values(ascending=False)\n",
    "y.plot.bar()"
   ]
  },
  {
   "cell_type": "code",
   "execution_count": 132,
   "metadata": {},
   "outputs": [
    {
     "data": {
      "text/plain": [
       "<matplotlib.axes._subplots.AxesSubplot at 0x1a17abaac8>"
      ]
     },
     "execution_count": 132,
     "metadata": {},
     "output_type": "execute_result"
    },
    {
     "data": {
      "image/png": "[encoded data removed]",
      "text/plain": [
       "<Figure size 432x288 with 1 Axes>"
      ]
     },
     "metadata": {},
     "output_type": "display_data"
    }
   ],
   "source": [
    "# Average word count per speech by State\n",
    "avg_word_count = descr.groupby(['State']).sum()['word_count']/descr.State.value_counts()\n",
    "y = avg_word_count.sort_values(ascending=False)\n",
    "y.plot.bar()"
   ]
  },
  {
   "cell_type": "code",
   "execution_count": 133,
   "metadata": {},
   "outputs": [
    {
     "data": {
      "text/plain": [
       "<matplotlib.axes._subplots.AxesSubplot at 0x1a17c60ac8>"
      ]
     },
     "execution_count": 133,
     "metadata": {},
     "output_type": "execute_result"
    },
    {
     "data": {
      "image/png": "[encoded data removed]",
      "text/plain": [
       "<Figure size 432x288 with 1 Axes>"
      ]
     },
     "metadata": {},
     "output_type": "display_data"
    }
   ],
   "source": [
    "# Average word length per speech by State\n",
    "x = descr.groupby(['State']).sum()['char_count']/descr.State.value_counts()/avg_word_count\n",
    "y = x.sort_values(ascending=False)\n",
    "y.plot.bar()"
   ]
  },
  {
   "cell_type": "markdown",
   "metadata": {},
   "source": [
    "### Word count distribution by congress"
   ]
  },
  {
   "cell_type": "code",
   "execution_count": 10,
   "metadata": {},
   "outputs": [
    {
     "data": {
      "text/plain": [
       "(1, 7.0, 232.45610891059215, 59.0, 22613, 2002.0)"
      ]
     },
     "execution_count": 10,
     "metadata": {},
     "output_type": "execute_result"
    }
   ],
   "source": [
    "descr.word_count.min(), np.percentile(descr.word_count, 10), descr.word_count.mean(), descr.word_count.median(), descr.word_count.max(), np.percentile(descr.word_count, 99)"
   ]
  },
  {
   "cell_type": "code",
   "execution_count": 11,
   "metadata": {},
   "outputs": [],
   "source": [
    "word_count = np.clip(descr.word_count, 0, np.percentile(descr.word_count, 99))"
   ]
  },
  {
   "cell_type": "code",
   "execution_count": 12,
   "metadata": {},
   "outputs": [
    {
     "data": {
      "text/plain": [
       "<matplotlib.axes._subplots.AxesSubplot at 0x1a2e4815f8>"
      ]
     },
     "execution_count": 12,
     "metadata": {},
     "output_type": "execute_result"
    },
    {
     "data": {
      "image/png": "[encoded data removed]",
      "text/plain": [
       "<Figure size 432x288 with 1 Axes>"
      ]
     },
     "metadata": {},
     "output_type": "display_data"
    }
   ],
   "source": [
    "word_count.hist(bins=40)"
   ]
  },
  {
   "cell_type": "code",
   "execution_count": 13,
   "metadata": {},
   "outputs": [],
   "source": [
    "congresses = pd.DataFrame()\n",
    "congresses['percentile'] = list(range(0,101, 10))\n",
    "for c in range(97,115):\n",
    "    temp = descr[descr.Congress==c]\n",
    "    pct = [np.percentile(temp.word_count, p) for p in range(0,101, 10)]\n",
    "    congresses[c] = pct"
   ]
  },
  {
   "cell_type": "code",
   "execution_count": 14,
   "metadata": {},
   "outputs": [
    {
     "data": {
      "text/html": [
       "<div>\n",
       "<style scoped>\n",
       "    .dataframe tbody tr th:only-of-type {\n",
       "        vertical-align: middle;\n",
       "    }\n",
       "\n",
       "    .dataframe tbody tr th {\n",
       "        vertical-align: top;\n",
       "    }\n",
       "\n",
       "    .dataframe thead th {\n",
       "        text-align: right;\n",
       "    }\n",
       "</style>\n",
       "<table border=\"1\" class=\"dataframe\">\n",
       "  <thead>\n",
       "    <tr style=\"text-align: right;\">\n",
       "      <th>percentile</th>\n",
       "      <th>0</th>\n",
       "      <th>10</th>\n",
       "      <th>20</th>\n",
       "      <th>30</th>\n",
       "      <th>40</th>\n",
       "      <th>50</th>\n",
       "      <th>60</th>\n",
       "      <th>70</th>\n",
       "      <th>80</th>\n",
       "      <th>90</th>\n",
       "      <th>100</th>\n",
       "    </tr>\n",
       "  </thead>\n",
       "  <tbody>\n",
       "    <tr>\n",
       "      <th>97</th>\n",
       "      <td>1.0</td>\n",
       "      <td>6.0</td>\n",
       "      <td>9.0</td>\n",
       "      <td>14.0</td>\n",
       "      <td>21.0</td>\n",
       "      <td>36.0</td>\n",
       "      <td>68.0</td>\n",
       "      <td>142.0</td>\n",
       "      <td>260.0</td>\n",
       "      <td>495.0</td>\n",
       "      <td>11962.0</td>\n",
       "    </tr>\n",
       "    <tr>\n",
       "      <th>98</th>\n",
       "      <td>1.0</td>\n",
       "      <td>6.0</td>\n",
       "      <td>9.0</td>\n",
       "      <td>15.0</td>\n",
       "      <td>21.0</td>\n",
       "      <td>38.0</td>\n",
       "      <td>76.0</td>\n",
       "      <td>155.0</td>\n",
       "      <td>277.0</td>\n",
       "      <td>511.0</td>\n",
       "      <td>11882.0</td>\n",
       "    </tr>\n",
       "    <tr>\n",
       "      <th>99</th>\n",
       "      <td>1.0</td>\n",
       "      <td>6.0</td>\n",
       "      <td>10.0</td>\n",
       "      <td>15.0</td>\n",
       "      <td>22.0</td>\n",
       "      <td>41.0</td>\n",
       "      <td>83.0</td>\n",
       "      <td>169.0</td>\n",
       "      <td>296.0</td>\n",
       "      <td>536.0</td>\n",
       "      <td>15777.0</td>\n",
       "    </tr>\n",
       "    <tr>\n",
       "      <th>100</th>\n",
       "      <td>1.0</td>\n",
       "      <td>7.0</td>\n",
       "      <td>11.0</td>\n",
       "      <td>15.0</td>\n",
       "      <td>25.0</td>\n",
       "      <td>45.0</td>\n",
       "      <td>94.0</td>\n",
       "      <td>191.0</td>\n",
       "      <td>322.0</td>\n",
       "      <td>565.0</td>\n",
       "      <td>12766.0</td>\n",
       "    </tr>\n",
       "    <tr>\n",
       "      <th>101</th>\n",
       "      <td>1.0</td>\n",
       "      <td>7.0</td>\n",
       "      <td>12.0</td>\n",
       "      <td>17.0</td>\n",
       "      <td>28.0</td>\n",
       "      <td>52.0</td>\n",
       "      <td>122.0</td>\n",
       "      <td>222.0</td>\n",
       "      <td>357.0</td>\n",
       "      <td>611.0</td>\n",
       "      <td>10068.0</td>\n",
       "    </tr>\n",
       "    <tr>\n",
       "      <th>102</th>\n",
       "      <td>1.0</td>\n",
       "      <td>7.0</td>\n",
       "      <td>12.0</td>\n",
       "      <td>18.0</td>\n",
       "      <td>29.0</td>\n",
       "      <td>59.0</td>\n",
       "      <td>139.0</td>\n",
       "      <td>237.0</td>\n",
       "      <td>374.0</td>\n",
       "      <td>635.0</td>\n",
       "      <td>17309.0</td>\n",
       "    </tr>\n",
       "    <tr>\n",
       "      <th>103</th>\n",
       "      <td>1.0</td>\n",
       "      <td>7.0</td>\n",
       "      <td>12.0</td>\n",
       "      <td>17.0</td>\n",
       "      <td>29.0</td>\n",
       "      <td>55.0</td>\n",
       "      <td>125.0</td>\n",
       "      <td>217.0</td>\n",
       "      <td>352.0</td>\n",
       "      <td>617.3</td>\n",
       "      <td>10027.0</td>\n",
       "    </tr>\n",
       "    <tr>\n",
       "      <th>104</th>\n",
       "      <td>1.0</td>\n",
       "      <td>7.0</td>\n",
       "      <td>11.0</td>\n",
       "      <td>16.0</td>\n",
       "      <td>27.0</td>\n",
       "      <td>51.0</td>\n",
       "      <td>112.0</td>\n",
       "      <td>202.0</td>\n",
       "      <td>337.0</td>\n",
       "      <td>606.0</td>\n",
       "      <td>12555.0</td>\n",
       "    </tr>\n",
       "    <tr>\n",
       "      <th>105</th>\n",
       "      <td>1.0</td>\n",
       "      <td>7.0</td>\n",
       "      <td>12.0</td>\n",
       "      <td>18.0</td>\n",
       "      <td>31.0</td>\n",
       "      <td>63.0</td>\n",
       "      <td>147.0</td>\n",
       "      <td>246.0</td>\n",
       "      <td>390.0</td>\n",
       "      <td>662.0</td>\n",
       "      <td>14321.0</td>\n",
       "    </tr>\n",
       "    <tr>\n",
       "      <th>106</th>\n",
       "      <td>1.0</td>\n",
       "      <td>8.0</td>\n",
       "      <td>12.0</td>\n",
       "      <td>19.0</td>\n",
       "      <td>33.0</td>\n",
       "      <td>68.0</td>\n",
       "      <td>157.0</td>\n",
       "      <td>257.0</td>\n",
       "      <td>399.0</td>\n",
       "      <td>666.0</td>\n",
       "      <td>13325.0</td>\n",
       "    </tr>\n",
       "    <tr>\n",
       "      <th>107</th>\n",
       "      <td>1.0</td>\n",
       "      <td>8.0</td>\n",
       "      <td>13.0</td>\n",
       "      <td>20.0</td>\n",
       "      <td>35.0</td>\n",
       "      <td>79.0</td>\n",
       "      <td>175.0</td>\n",
       "      <td>279.0</td>\n",
       "      <td>412.0</td>\n",
       "      <td>688.0</td>\n",
       "      <td>17835.0</td>\n",
       "    </tr>\n",
       "    <tr>\n",
       "      <th>108</th>\n",
       "      <td>1.0</td>\n",
       "      <td>8.0</td>\n",
       "      <td>13.0</td>\n",
       "      <td>21.0</td>\n",
       "      <td>38.0</td>\n",
       "      <td>86.0</td>\n",
       "      <td>182.0</td>\n",
       "      <td>284.0</td>\n",
       "      <td>417.0</td>\n",
       "      <td>691.0</td>\n",
       "      <td>11732.0</td>\n",
       "    </tr>\n",
       "    <tr>\n",
       "      <th>109</th>\n",
       "      <td>1.0</td>\n",
       "      <td>9.0</td>\n",
       "      <td>14.0</td>\n",
       "      <td>23.0</td>\n",
       "      <td>41.0</td>\n",
       "      <td>103.0</td>\n",
       "      <td>196.0</td>\n",
       "      <td>297.0</td>\n",
       "      <td>429.0</td>\n",
       "      <td>700.0</td>\n",
       "      <td>11132.0</td>\n",
       "    </tr>\n",
       "    <tr>\n",
       "      <th>110</th>\n",
       "      <td>1.0</td>\n",
       "      <td>9.0</td>\n",
       "      <td>15.0</td>\n",
       "      <td>23.0</td>\n",
       "      <td>41.0</td>\n",
       "      <td>100.0</td>\n",
       "      <td>186.0</td>\n",
       "      <td>282.0</td>\n",
       "      <td>412.0</td>\n",
       "      <td>676.0</td>\n",
       "      <td>15654.0</td>\n",
       "    </tr>\n",
       "    <tr>\n",
       "      <th>111</th>\n",
       "      <td>1.0</td>\n",
       "      <td>9.0</td>\n",
       "      <td>15.0</td>\n",
       "      <td>26.0</td>\n",
       "      <td>46.0</td>\n",
       "      <td>116.0</td>\n",
       "      <td>187.0</td>\n",
       "      <td>277.0</td>\n",
       "      <td>403.0</td>\n",
       "      <td>665.0</td>\n",
       "      <td>22613.0</td>\n",
       "    </tr>\n",
       "    <tr>\n",
       "      <th>112</th>\n",
       "      <td>1.0</td>\n",
       "      <td>10.0</td>\n",
       "      <td>16.0</td>\n",
       "      <td>26.0</td>\n",
       "      <td>49.0</td>\n",
       "      <td>128.0</td>\n",
       "      <td>201.0</td>\n",
       "      <td>289.0</td>\n",
       "      <td>415.0</td>\n",
       "      <td>657.0</td>\n",
       "      <td>12517.0</td>\n",
       "    </tr>\n",
       "    <tr>\n",
       "      <th>113</th>\n",
       "      <td>1.0</td>\n",
       "      <td>10.0</td>\n",
       "      <td>16.0</td>\n",
       "      <td>28.0</td>\n",
       "      <td>55.0</td>\n",
       "      <td>141.0</td>\n",
       "      <td>201.0</td>\n",
       "      <td>287.0</td>\n",
       "      <td>413.0</td>\n",
       "      <td>683.0</td>\n",
       "      <td>21422.0</td>\n",
       "    </tr>\n",
       "    <tr>\n",
       "      <th>114</th>\n",
       "      <td>1.0</td>\n",
       "      <td>11.0</td>\n",
       "      <td>17.0</td>\n",
       "      <td>29.0</td>\n",
       "      <td>56.0</td>\n",
       "      <td>137.0</td>\n",
       "      <td>195.0</td>\n",
       "      <td>274.0</td>\n",
       "      <td>393.0</td>\n",
       "      <td>651.0</td>\n",
       "      <td>13267.0</td>\n",
       "    </tr>\n",
       "  </tbody>\n",
       "</table>\n",
       "</div>"
      ],
      "text/plain": [
       "percentile    0    10    20    30    40     50     60     70     80     90      100\n",
       "97          1.0  6.0   9.0   14.0  21.0  36.0   68.0   142.0  260.0  495.0  11962.0\n",
       "98          1.0  6.0   9.0   15.0  21.0  38.0   76.0   155.0  277.0  511.0  11882.0\n",
       "99          1.0  6.0   10.0  15.0  22.0  41.0   83.0   169.0  296.0  536.0  15777.0\n",
       "100         1.0  7.0   11.0  15.0  25.0  45.0   94.0   191.0  322.0  565.0  12766.0\n",
       "101         1.0  7.0   12.0  17.0  28.0  52.0   122.0  222.0  357.0  611.0  10068.0\n",
       "102         1.0  7.0   12.0  18.0  29.0  59.0   139.0  237.0  374.0  635.0  17309.0\n",
       "103         1.0  7.0   12.0  17.0  29.0  55.0   125.0  217.0  352.0  617.3  10027.0\n",
       "104         1.0  7.0   11.0  16.0  27.0  51.0   112.0  202.0  337.0  606.0  12555.0\n",
       "105         1.0  7.0   12.0  18.0  31.0  63.0   147.0  246.0  390.0  662.0  14321.0\n",
       "106         1.0  8.0   12.0  19.0  33.0  68.0   157.0  257.0  399.0  666.0  13325.0\n",
       "107         1.0  8.0   13.0  20.0  35.0  79.0   175.0  279.0  412.0  688.0  17835.0\n",
       "108         1.0  8.0   13.0  21.0  38.0  86.0   182.0  284.0  417.0  691.0  11732.0\n",
       "109         1.0  9.0   14.0  23.0  41.0  103.0  196.0  297.0  429.0  700.0  11132.0\n",
       "110         1.0  9.0   15.0  23.0  41.0  100.0  186.0  282.0  412.0  676.0  15654.0\n",
       "111         1.0  9.0   15.0  26.0  46.0  116.0  187.0  277.0  403.0  665.0  22613.0\n",
       "112         1.0  10.0  16.0  26.0  49.0  128.0  201.0  289.0  415.0  657.0  12517.0\n",
       "113         1.0  10.0  16.0  28.0  55.0  141.0  201.0  287.0  413.0  683.0  21422.0\n",
       "114         1.0  11.0  17.0  29.0  56.0  137.0  195.0  274.0  393.0  651.0  13267.0"
      ]
     },
     "execution_count": 14,
     "metadata": {},
     "output_type": "execute_result"
    }
   ],
   "source": [
    "congresses_t = congresses.T[1:]\n",
    "congresses_t.columns = congresses.percentile\n",
    "congresses_t"
   ]
  },
  {
   "cell_type": "code",
   "execution_count": 15,
   "metadata": {},
   "outputs": [
    {
     "data": {
      "image/png": "[encoded data removed]",
      "text/plain": [
       "<Figure size 432x288 with 1 Axes>"
      ]
     },
     "metadata": {},
     "output_type": "display_data"
    }
   ],
   "source": [
    "# median word count by congress\n",
    "_ = congresses_t[50].plot.bar()"
   ]
  },
  {
   "cell_type": "markdown",
   "metadata": {},
   "source": [
    "### Word count by target variables"
   ]
  },
  {
   "cell_type": "code",
   "execution_count": 16,
   "metadata": {},
   "outputs": [
    {
     "data": {
      "text/html": [
       "<div>\n",
       "<style scoped>\n",
       "    .dataframe tbody tr th:only-of-type {\n",
       "        vertical-align: middle;\n",
       "    }\n",
       "\n",
       "    .dataframe tbody tr th {\n",
       "        vertical-align: top;\n",
       "    }\n",
       "\n",
       "    .dataframe thead th {\n",
       "        text-align: right;\n",
       "    }\n",
       "</style>\n",
       "<table border=\"1\" class=\"dataframe\">\n",
       "  <thead>\n",
       "    <tr style=\"text-align: right;\">\n",
       "      <th></th>\n",
       "      <th>word_count</th>\n",
       "    </tr>\n",
       "    <tr>\n",
       "      <th>NonWhite</th>\n",
       "      <th></th>\n",
       "    </tr>\n",
       "  </thead>\n",
       "  <tbody>\n",
       "    <tr>\n",
       "      <th>0.0</th>\n",
       "      <td>613205989</td>\n",
       "    </tr>\n",
       "    <tr>\n",
       "      <th>1.0</th>\n",
       "      <td>64278972</td>\n",
       "    </tr>\n",
       "  </tbody>\n",
       "</table>\n",
       "</div>"
      ],
      "text/plain": [
       "          word_count\n",
       "NonWhite            \n",
       "0.0       613205989 \n",
       "1.0       64278972  "
      ]
     },
     "execution_count": 16,
     "metadata": {},
     "output_type": "execute_result"
    }
   ],
   "source": [
    "descr[['NonWhite', 'word_count']].groupby(['NonWhite']).sum()"
   ]
  },
  {
   "cell_type": "code",
   "execution_count": 17,
   "metadata": {},
   "outputs": [
    {
     "data": {
      "text/html": [
       "<div>\n",
       "<style scoped>\n",
       "    .dataframe tbody tr th:only-of-type {\n",
       "        vertical-align: middle;\n",
       "    }\n",
       "\n",
       "    .dataframe tbody tr th {\n",
       "        vertical-align: top;\n",
       "    }\n",
       "\n",
       "    .dataframe thead th {\n",
       "        text-align: right;\n",
       "    }\n",
       "</style>\n",
       "<table border=\"1\" class=\"dataframe\">\n",
       "  <thead>\n",
       "    <tr style=\"text-align: right;\">\n",
       "      <th></th>\n",
       "      <th>word_count</th>\n",
       "    </tr>\n",
       "    <tr>\n",
       "      <th>Female</th>\n",
       "      <th></th>\n",
       "    </tr>\n",
       "  </thead>\n",
       "  <tbody>\n",
       "    <tr>\n",
       "      <th>0.0</th>\n",
       "      <td>510725189</td>\n",
       "    </tr>\n",
       "    <tr>\n",
       "      <th>1.0</th>\n",
       "      <td>54187085</td>\n",
       "    </tr>\n",
       "  </tbody>\n",
       "</table>\n",
       "</div>"
      ],
      "text/plain": [
       "        word_count\n",
       "Female            \n",
       "0.0     510725189 \n",
       "1.0     54187085  "
      ]
     },
     "execution_count": 17,
     "metadata": {},
     "output_type": "execute_result"
    }
   ],
   "source": [
    "descr[['Female', 'word_count']].groupby(['Female']).sum()"
   ]
  },
  {
   "cell_type": "code",
   "execution_count": 17,
   "metadata": {},
   "outputs": [
    {
     "data": {
      "text/html": [
       "<div>\n",
       "<style scoped>\n",
       "    .dataframe tbody tr th:only-of-type {\n",
       "        vertical-align: middle;\n",
       "    }\n",
       "\n",
       "    .dataframe tbody tr th {\n",
       "        vertical-align: top;\n",
       "    }\n",
       "\n",
       "    .dataframe thead th {\n",
       "        text-align: right;\n",
       "    }\n",
       "</style>\n",
       "<table border=\"1\" class=\"dataframe\">\n",
       "  <thead>\n",
       "    <tr style=\"text-align: right;\">\n",
       "      <th></th>\n",
       "      <th>word_count</th>\n",
       "    </tr>\n",
       "    <tr>\n",
       "      <th>Age_lt_med</th>\n",
       "      <th></th>\n",
       "    </tr>\n",
       "  </thead>\n",
       "  <tbody>\n",
       "    <tr>\n",
       "      <th>0.0</th>\n",
       "      <td>424131334</td>\n",
       "    </tr>\n",
       "    <tr>\n",
       "      <th>1.0</th>\n",
       "      <td>253353627</td>\n",
       "    </tr>\n",
       "  </tbody>\n",
       "</table>\n",
       "</div>"
      ],
      "text/plain": [
       "            word_count\n",
       "Age_lt_med            \n",
       "0.0         424131334 \n",
       "1.0         253353627 "
      ]
     },
     "execution_count": 17,
     "metadata": {},
     "output_type": "execute_result"
    }
   ],
   "source": [
    "descr[['Age_lt_med', 'word_count']].groupby(['Age_lt_med']).sum()"
   ]
  },
  {
   "cell_type": "markdown",
   "metadata": {},
   "source": [
    "### Speeches longer than median word count"
   ]
  },
  {
   "cell_type": "code",
   "execution_count": 18,
   "metadata": {},
   "outputs": [
    {
     "data": {
      "text/plain": [
       "count    2.914464e+06\n",
       "mean     6.876449e+01\n",
       "std      3.097315e+01\n",
       "min      3.600000e+01\n",
       "25%      4.500000e+01\n",
       "50%      5.900000e+01\n",
       "75%      8.600000e+01\n",
       "max      1.410000e+02\n",
       "Name: word_count_med, dtype: float64"
      ]
     },
     "execution_count": 18,
     "metadata": {},
     "output_type": "execute_result"
    }
   ],
   "source": [
    "# get median by congress\n",
    "med = descr[['word_count','Congress']].groupby(['Congress']).median().reset_index()\n",
    "med.columns = ['Congress', 'word_count_med']\n",
    "descr = descr.merge(med, how='left', on='Congress')\n",
    "descr['word_count_med'].describe()"
   ]
  },
  {
   "cell_type": "code",
   "execution_count": 20,
   "metadata": {},
   "outputs": [
    {
     "data": {
      "text/plain": [
       "0.500925384564709"
      ]
     },
     "execution_count": 20,
     "metadata": {},
     "output_type": "execute_result"
    }
   ],
   "source": [
    "descr['word_count_ge_med'] = descr.apply(lambda row: 0 if row['word_count'] < row['word_count_med'] else 1, axis=1)\n",
    "descr['word_count_ge_med'].mean()"
   ]
  },
  {
   "cell_type": "code",
   "execution_count": 21,
   "metadata": {},
   "outputs": [
    {
     "data": {
      "text/plain": [
       "(1245, 8595)"
      ]
     },
     "execution_count": 21,
     "metadata": {},
     "output_type": "execute_result"
    }
   ],
   "source": [
    "descr[(descr.word_count_ge_med==1) & (descr.NonWhite==1)]['speakerid'].nunique(), descr[(descr.word_count_ge_med==1) & (descr.NonWhite==0)]['speakerid'].nunique()"
   ]
  },
  {
   "cell_type": "code",
   "execution_count": 22,
   "metadata": {},
   "outputs": [
    {
     "data": {
      "text/plain": [
       "(1127, 8713)"
      ]
     },
     "execution_count": 22,
     "metadata": {},
     "output_type": "execute_result"
    }
   ],
   "source": [
    "descr[(descr.word_count_ge_med==1) & (descr.Female==1)]['speakerid'].nunique(), descr[(descr.word_count_ge_med==1) & (descr.Female==0)]['speakerid'].nunique()"
   ]
  },
  {
   "cell_type": "code",
   "execution_count": 23,
   "metadata": {},
   "outputs": [
    {
     "data": {
      "text/plain": [
       "(4746, 5094)"
      ]
     },
     "execution_count": 23,
     "metadata": {},
     "output_type": "execute_result"
    }
   ],
   "source": [
    "descr[(descr.word_count_ge_med==1) & (descr.Age_lt_med==1)]['speakerid'].nunique(), descr[(descr.word_count_ge_med==1) & (descr.Age_lt_med==0)]['speakerid'].nunique()"
   ]
  },
  {
   "cell_type": "code",
   "execution_count": 24,
   "metadata": {},
   "outputs": [
    {
     "data": {
      "text/plain": [
       "0.0    1317275\n",
       "1.0    142654 \n",
       "Name: NonWhite, dtype: int64"
      ]
     },
     "execution_count": 24,
     "metadata": {},
     "output_type": "execute_result"
    }
   ],
   "source": [
    "descr[descr.word_count_ge_med==1].NonWhite.value_counts()"
   ]
  },
  {
   "cell_type": "code",
   "execution_count": 25,
   "metadata": {},
   "outputs": [
    {
     "data": {
      "text/plain": [
       "0.0    1324867\n",
       "1.0    135062 \n",
       "Name: Female, dtype: int64"
      ]
     },
     "execution_count": 25,
     "metadata": {},
     "output_type": "execute_result"
    }
   ],
   "source": [
    "descr[descr.word_count_ge_med==1].Female.value_counts()"
   ]
  },
  {
   "cell_type": "code",
   "execution_count": 26,
   "metadata": {},
   "outputs": [
    {
     "data": {
      "text/plain": [
       "0.0    887985\n",
       "1.0    571944\n",
       "Name: Age_lt_med, dtype: int64"
      ]
     },
     "execution_count": 26,
     "metadata": {},
     "output_type": "execute_result"
    }
   ],
   "source": [
    "descr[descr.word_count_ge_med==1].Age_lt_med.value_counts()"
   ]
  },
  {
   "cell_type": "code",
   "execution_count": 27,
   "metadata": {},
   "outputs": [
    {
     "data": {
      "text/html": [
       "<div>\n",
       "<style scoped>\n",
       "    .dataframe tbody tr th:only-of-type {\n",
       "        vertical-align: middle;\n",
       "    }\n",
       "\n",
       "    .dataframe tbody tr th {\n",
       "        vertical-align: top;\n",
       "    }\n",
       "\n",
       "    .dataframe thead th {\n",
       "        text-align: right;\n",
       "    }\n",
       "</style>\n",
       "<table border=\"1\" class=\"dataframe\">\n",
       "  <thead>\n",
       "    <tr style=\"text-align: right;\">\n",
       "      <th></th>\n",
       "      <th>word_count</th>\n",
       "    </tr>\n",
       "    <tr>\n",
       "      <th>NonWhite</th>\n",
       "      <th></th>\n",
       "    </tr>\n",
       "  </thead>\n",
       "  <tbody>\n",
       "    <tr>\n",
       "      <th>0.0</th>\n",
       "      <td>586207244</td>\n",
       "    </tr>\n",
       "    <tr>\n",
       "      <th>1.0</th>\n",
       "      <td>61676676</td>\n",
       "    </tr>\n",
       "  </tbody>\n",
       "</table>\n",
       "</div>"
      ],
      "text/plain": [
       "          word_count\n",
       "NonWhite            \n",
       "0.0       586207244 \n",
       "1.0       61676676  "
      ]
     },
     "execution_count": 27,
     "metadata": {},
     "output_type": "execute_result"
    }
   ],
   "source": [
    "descr[descr.word_count_ge_med==1][['NonWhite', 'word_count']].groupby(['NonWhite']).sum()"
   ]
  },
  {
   "cell_type": "code",
   "execution_count": 28,
   "metadata": {
    "scrolled": true
   },
   "outputs": [
    {
     "data": {
      "text/html": [
       "<div>\n",
       "<style scoped>\n",
       "    .dataframe tbody tr th:only-of-type {\n",
       "        vertical-align: middle;\n",
       "    }\n",
       "\n",
       "    .dataframe tbody tr th {\n",
       "        vertical-align: top;\n",
       "    }\n",
       "\n",
       "    .dataframe thead th {\n",
       "        text-align: right;\n",
       "    }\n",
       "</style>\n",
       "<table border=\"1\" class=\"dataframe\">\n",
       "  <thead>\n",
       "    <tr style=\"text-align: right;\">\n",
       "      <th></th>\n",
       "      <th>word_count</th>\n",
       "    </tr>\n",
       "    <tr>\n",
       "      <th>Female</th>\n",
       "      <th></th>\n",
       "    </tr>\n",
       "  </thead>\n",
       "  <tbody>\n",
       "    <tr>\n",
       "      <th>0.0</th>\n",
       "      <td>584884324</td>\n",
       "    </tr>\n",
       "    <tr>\n",
       "      <th>1.0</th>\n",
       "      <td>62999596</td>\n",
       "    </tr>\n",
       "  </tbody>\n",
       "</table>\n",
       "</div>"
      ],
      "text/plain": [
       "        word_count\n",
       "Female            \n",
       "0.0     584884324 \n",
       "1.0     62999596  "
      ]
     },
     "execution_count": 28,
     "metadata": {},
     "output_type": "execute_result"
    }
   ],
   "source": [
    "descr[descr.word_count_ge_med==1][['Female', 'word_count']].groupby(['Female']).sum()"
   ]
  },
  {
   "cell_type": "code",
   "execution_count": 29,
   "metadata": {},
   "outputs": [
    {
     "data": {
      "text/html": [
       "<div>\n",
       "<style scoped>\n",
       "    .dataframe tbody tr th:only-of-type {\n",
       "        vertical-align: middle;\n",
       "    }\n",
       "\n",
       "    .dataframe tbody tr th {\n",
       "        vertical-align: top;\n",
       "    }\n",
       "\n",
       "    .dataframe thead th {\n",
       "        text-align: right;\n",
       "    }\n",
       "</style>\n",
       "<table border=\"1\" class=\"dataframe\">\n",
       "  <thead>\n",
       "    <tr style=\"text-align: right;\">\n",
       "      <th></th>\n",
       "      <th>word_count</th>\n",
       "    </tr>\n",
       "    <tr>\n",
       "      <th>Age_lt_med</th>\n",
       "      <th></th>\n",
       "    </tr>\n",
       "  </thead>\n",
       "  <tbody>\n",
       "    <tr>\n",
       "      <th>0.0</th>\n",
       "      <td>403783543</td>\n",
       "    </tr>\n",
       "    <tr>\n",
       "      <th>1.0</th>\n",
       "      <td>244100377</td>\n",
       "    </tr>\n",
       "  </tbody>\n",
       "</table>\n",
       "</div>"
      ],
      "text/plain": [
       "            word_count\n",
       "Age_lt_med            \n",
       "0.0         403783543 \n",
       "1.0         244100377 "
      ]
     },
     "execution_count": 29,
     "metadata": {},
     "output_type": "execute_result"
    }
   ],
   "source": [
    "descr[descr.word_count_ge_med==1][['Age_lt_med', 'word_count']].groupby(['Age_lt_med']).sum()"
   ]
  },
  {
   "cell_type": "markdown",
   "metadata": {},
   "source": [
    "### Fuzzy match on last name, gender, congress"
   ]
  },
  {
   "cell_type": "code",
   "execution_count": 31,
   "metadata": {},
   "outputs": [
    {
     "data": {
      "text/plain": [
       "(2914464, 19)"
      ]
     },
     "execution_count": 31,
     "metadata": {},
     "output_type": "execute_result"
    }
   ],
   "source": [
    "descr.shape"
   ]
  },
  {
   "cell_type": "code",
   "execution_count": 32,
   "metadata": {},
   "outputs": [
    {
     "data": {
      "text/plain": [
       "(1249, 8596)"
      ]
     },
     "execution_count": 32,
     "metadata": {},
     "output_type": "execute_result"
    }
   ],
   "source": [
    "descr[descr.NonWhite==1]['speakerid'].nunique(), descr[descr.NonWhite==0]['speakerid'].nunique()"
   ]
  },
  {
   "cell_type": "code",
   "execution_count": 33,
   "metadata": {},
   "outputs": [
    {
     "data": {
      "text/plain": [
       "(1129, 8716)"
      ]
     },
     "execution_count": 33,
     "metadata": {},
     "output_type": "execute_result"
    }
   ],
   "source": [
    "descr[descr.Female==1]['speakerid'].nunique(), descr[descr.Female==0]['speakerid'].nunique()"
   ]
  },
  {
   "cell_type": "code",
   "execution_count": 34,
   "metadata": {},
   "outputs": [
    {
     "data": {
      "text/plain": [
       "(4750, 5095)"
      ]
     },
     "execution_count": 34,
     "metadata": {},
     "output_type": "execute_result"
    }
   ],
   "source": [
    "descr[descr.Age_lt_med==1]['speakerid'].nunique(), descr[descr.Age_lt_med==0]['speakerid'].nunique()"
   ]
  },
  {
   "cell_type": "code",
   "execution_count": 35,
   "metadata": {},
   "outputs": [
    {
     "data": {
      "text/plain": [
       "0.0    2659861\n",
       "1.0    254603 \n",
       "Name: NonWhite, dtype: int64"
      ]
     },
     "execution_count": 35,
     "metadata": {},
     "output_type": "execute_result"
    }
   ],
   "source": [
    "descr.NonWhite.value_counts()"
   ]
  },
  {
   "cell_type": "code",
   "execution_count": 36,
   "metadata": {},
   "outputs": [
    {
     "data": {
      "text/plain": [
       "0.0    2682840\n",
       "1.0    231624 \n",
       "Name: Female, dtype: int64"
      ]
     },
     "execution_count": 36,
     "metadata": {},
     "output_type": "execute_result"
    }
   ],
   "source": [
    "descr.Female.value_counts()"
   ]
  },
  {
   "cell_type": "code",
   "execution_count": 37,
   "metadata": {},
   "outputs": [
    {
     "data": {
      "text/plain": [
       "0.0    1890035\n",
       "1.0    1024429\n",
       "Name: Age_lt_med, dtype: int64"
      ]
     },
     "execution_count": 37,
     "metadata": {},
     "output_type": "execute_result"
    }
   ],
   "source": [
    "descr.Age_lt_med.value_counts()"
   ]
  },
  {
   "cell_type": "code",
   "execution_count": 38,
   "metadata": {},
   "outputs": [
    {
     "data": {
      "text/html": [
       "<div>\n",
       "<style scoped>\n",
       "    .dataframe tbody tr th:only-of-type {\n",
       "        vertical-align: middle;\n",
       "    }\n",
       "\n",
       "    .dataframe tbody tr th {\n",
       "        vertical-align: top;\n",
       "    }\n",
       "\n",
       "    .dataframe thead th {\n",
       "        text-align: right;\n",
       "    }\n",
       "</style>\n",
       "<table border=\"1\" class=\"dataframe\">\n",
       "  <thead>\n",
       "    <tr style=\"text-align: right;\">\n",
       "      <th></th>\n",
       "      <th>word_count</th>\n",
       "    </tr>\n",
       "    <tr>\n",
       "      <th>NonWhite</th>\n",
       "      <th></th>\n",
       "    </tr>\n",
       "  </thead>\n",
       "  <tbody>\n",
       "    <tr>\n",
       "      <th>0.0</th>\n",
       "      <td>613205989</td>\n",
       "    </tr>\n",
       "    <tr>\n",
       "      <th>1.0</th>\n",
       "      <td>64278972</td>\n",
       "    </tr>\n",
       "  </tbody>\n",
       "</table>\n",
       "</div>"
      ],
      "text/plain": [
       "          word_count\n",
       "NonWhite            \n",
       "0.0       613205989 \n",
       "1.0       64278972  "
      ]
     },
     "execution_count": 38,
     "metadata": {},
     "output_type": "execute_result"
    }
   ],
   "source": [
    "descr[['NonWhite', 'word_count']].groupby(['NonWhite']).sum()"
   ]
  },
  {
   "cell_type": "code",
   "execution_count": 39,
   "metadata": {},
   "outputs": [
    {
     "data": {
      "text/html": [
       "<div>\n",
       "<style scoped>\n",
       "    .dataframe tbody tr th:only-of-type {\n",
       "        vertical-align: middle;\n",
       "    }\n",
       "\n",
       "    .dataframe tbody tr th {\n",
       "        vertical-align: top;\n",
       "    }\n",
       "\n",
       "    .dataframe thead th {\n",
       "        text-align: right;\n",
       "    }\n",
       "</style>\n",
       "<table border=\"1\" class=\"dataframe\">\n",
       "  <thead>\n",
       "    <tr style=\"text-align: right;\">\n",
       "      <th></th>\n",
       "      <th>word_count</th>\n",
       "    </tr>\n",
       "    <tr>\n",
       "      <th>Female</th>\n",
       "      <th></th>\n",
       "    </tr>\n",
       "  </thead>\n",
       "  <tbody>\n",
       "    <tr>\n",
       "      <th>0.0</th>\n",
       "      <td>612118326</td>\n",
       "    </tr>\n",
       "    <tr>\n",
       "      <th>1.0</th>\n",
       "      <td>65366635</td>\n",
       "    </tr>\n",
       "  </tbody>\n",
       "</table>\n",
       "</div>"
      ],
      "text/plain": [
       "        word_count\n",
       "Female            \n",
       "0.0     612118326 \n",
       "1.0     65366635  "
      ]
     },
     "execution_count": 39,
     "metadata": {},
     "output_type": "execute_result"
    }
   ],
   "source": [
    "descr[['Female', 'word_count']].groupby(['Female']).sum()"
   ]
  },
  {
   "cell_type": "code",
   "execution_count": 40,
   "metadata": {},
   "outputs": [
    {
     "data": {
      "text/html": [
       "<div>\n",
       "<style scoped>\n",
       "    .dataframe tbody tr th:only-of-type {\n",
       "        vertical-align: middle;\n",
       "    }\n",
       "\n",
       "    .dataframe tbody tr th {\n",
       "        vertical-align: top;\n",
       "    }\n",
       "\n",
       "    .dataframe thead th {\n",
       "        text-align: right;\n",
       "    }\n",
       "</style>\n",
       "<table border=\"1\" class=\"dataframe\">\n",
       "  <thead>\n",
       "    <tr style=\"text-align: right;\">\n",
       "      <th></th>\n",
       "      <th>word_count</th>\n",
       "    </tr>\n",
       "    <tr>\n",
       "      <th>Age_lt_med</th>\n",
       "      <th></th>\n",
       "    </tr>\n",
       "  </thead>\n",
       "  <tbody>\n",
       "    <tr>\n",
       "      <th>0.0</th>\n",
       "      <td>424131334</td>\n",
       "    </tr>\n",
       "    <tr>\n",
       "      <th>1.0</th>\n",
       "      <td>253353627</td>\n",
       "    </tr>\n",
       "  </tbody>\n",
       "</table>\n",
       "</div>"
      ],
      "text/plain": [
       "            word_count\n",
       "Age_lt_med            \n",
       "0.0         424131334 \n",
       "1.0         253353627 "
      ]
     },
     "execution_count": 40,
     "metadata": {},
     "output_type": "execute_result"
    }
   ],
   "source": [
    "descr[['Age_lt_med', 'word_count']].groupby(['Age_lt_med']).sum()"
   ]
  },
  {
   "cell_type": "code",
   "execution_count": null,
   "metadata": {},
   "outputs": [],
   "source": []
  }
 ],
 "metadata": {
  "kernelspec": {
   "display_name": "Python 3",
   "language": "python",
   "name": "python3"
  },
  "language_info": {
   "codemirror_mode": {
    "name": "ipython",
    "version": 3
   },
   "file_extension": ".py",
   "mimetype": "text/x-python",
   "name": "python",
   "nbconvert_exporter": "python",
   "pygments_lexer": "ipython3",
   "version": "3.5.2"
  }
 },
 "nbformat": 4,
 "nbformat_minor": 2
}
