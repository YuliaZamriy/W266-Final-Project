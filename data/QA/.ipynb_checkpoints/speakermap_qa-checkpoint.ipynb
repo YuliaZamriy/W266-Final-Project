{
 "cells": [
  {
   "cell_type": "code",
   "execution_count": 37,
   "metadata": {},
   "outputs": [],
   "source": [
    "import pandas as pd\n",
    "from collections import defaultdict"
   ]
  },
  {
   "cell_type": "code",
   "execution_count": 3,
   "metadata": {},
   "outputs": [
    {
     "name": "stdout",
     "output_type": "stream",
     "text": [
      "097_SpeakerMap.txt     byspeaker_2gram_097.txt  speeches_097.txt\r\n",
      "byparty_2gram_097.txt  descr_097.txt\r\n"
     ]
    }
   ],
   "source": [
    "ls ../sample/hein-daily"
   ]
  },
  {
   "cell_type": "code",
   "execution_count": 39,
   "metadata": {},
   "outputs": [],
   "source": [
    "filepath = \"../sample/hein-daily/097_SpeakerMap.txt\""
   ]
  },
  {
   "cell_type": "code",
   "execution_count": 28,
   "metadata": {},
   "outputs": [],
   "source": [
    "with open(filepath) as f:\n",
    "    cnt = 0\n",
    "    speakermap = []\n",
    "    for line in f:\n",
    "        line = line.strip().split(\"|\")\n",
    "        if cnt == 0:\n",
    "            colnames = line\n",
    "        else:\n",
    "            speakermap.append(line)\n",
    "        cnt += 1\n",
    "#         if cnt > 10:\n",
    "#             break"
   ]
  },
  {
   "cell_type": "code",
   "execution_count": 29,
   "metadata": {},
   "outputs": [
    {
     "data": {
      "text/plain": [
       "(202054, 10)"
      ]
     },
     "execution_count": 29,
     "metadata": {},
     "output_type": "execute_result"
    }
   ],
   "source": [
    "speakermap = pd.DataFrame(speakermap, columns=colnames)\n",
    "speakermap.shape"
   ]
  },
  {
   "cell_type": "code",
   "execution_count": 30,
   "metadata": {},
   "outputs": [],
   "source": [
    "speakermap['fullname'] = speakermap.lastname.str.cat(speakermap.firstname, sep = ', ')"
   ]
  },
  {
   "cell_type": "code",
   "execution_count": 31,
   "metadata": {},
   "outputs": [
    {
     "data": {
      "text/html": [
       "<div>\n",
       "<style scoped>\n",
       "    .dataframe tbody tr th:only-of-type {\n",
       "        vertical-align: middle;\n",
       "    }\n",
       "\n",
       "    .dataframe tbody tr th {\n",
       "        vertical-align: top;\n",
       "    }\n",
       "\n",
       "    .dataframe thead th {\n",
       "        text-align: right;\n",
       "    }\n",
       "</style>\n",
       "<table border=\"1\" class=\"dataframe\">\n",
       "  <thead>\n",
       "    <tr style=\"text-align: right;\">\n",
       "      <th></th>\n",
       "      <th>speakerid</th>\n",
       "      <th>speech_id</th>\n",
       "      <th>lastname</th>\n",
       "      <th>firstname</th>\n",
       "      <th>chamber</th>\n",
       "      <th>state</th>\n",
       "      <th>gender</th>\n",
       "      <th>party</th>\n",
       "      <th>district</th>\n",
       "      <th>nonvoting</th>\n",
       "      <th>fullname</th>\n",
       "    </tr>\n",
       "  </thead>\n",
       "  <tbody>\n",
       "    <tr>\n",
       "      <th>0</th>\n",
       "      <td>97105301</td>\n",
       "      <td>970000005</td>\n",
       "      <td>PERCY</td>\n",
       "      <td>CHARLES</td>\n",
       "      <td>S</td>\n",
       "      <td>IL</td>\n",
       "      <td>M</td>\n",
       "      <td>R</td>\n",
       "      <td></td>\n",
       "      <td>voting</td>\n",
       "      <td>PERCY, CHARLES</td>\n",
       "    </tr>\n",
       "    <tr>\n",
       "      <th>1</th>\n",
       "      <td>97105071</td>\n",
       "      <td>970000006</td>\n",
       "      <td>HUDDLESTON</td>\n",
       "      <td>WALTER</td>\n",
       "      <td>S</td>\n",
       "      <td>KY</td>\n",
       "      <td>M</td>\n",
       "      <td>D</td>\n",
       "      <td></td>\n",
       "      <td>voting</td>\n",
       "      <td>HUDDLESTON, WALTER</td>\n",
       "    </tr>\n",
       "    <tr>\n",
       "      <th>2</th>\n",
       "      <td>97106761</td>\n",
       "      <td>970000007</td>\n",
       "      <td>JACKSON</td>\n",
       "      <td>HENRY</td>\n",
       "      <td>S</td>\n",
       "      <td>WA</td>\n",
       "      <td>M</td>\n",
       "      <td>D</td>\n",
       "      <td></td>\n",
       "      <td>voting</td>\n",
       "      <td>JACKSON, HENRY</td>\n",
       "    </tr>\n",
       "    <tr>\n",
       "      <th>3</th>\n",
       "      <td>97106981</td>\n",
       "      <td>970000008</td>\n",
       "      <td>STAFFORD</td>\n",
       "      <td>ROBERT</td>\n",
       "      <td>S</td>\n",
       "      <td>VT</td>\n",
       "      <td>M</td>\n",
       "      <td>R</td>\n",
       "      <td></td>\n",
       "      <td>voting</td>\n",
       "      <td>STAFFORD, ROBERT</td>\n",
       "    </tr>\n",
       "    <tr>\n",
       "      <th>4</th>\n",
       "      <td>97104811</td>\n",
       "      <td>970000010</td>\n",
       "      <td>BAKER</td>\n",
       "      <td>HOWARD</td>\n",
       "      <td>S</td>\n",
       "      <td>TN</td>\n",
       "      <td>M</td>\n",
       "      <td>R</td>\n",
       "      <td></td>\n",
       "      <td>voting</td>\n",
       "      <td>BAKER, HOWARD</td>\n",
       "    </tr>\n",
       "  </tbody>\n",
       "</table>\n",
       "</div>"
      ],
      "text/plain": [
       "  speakerid  speech_id    lastname firstname chamber state gender party  \\\n",
       "0  97105301  970000005       PERCY   CHARLES       S    IL      M     R   \n",
       "1  97105071  970000006  HUDDLESTON    WALTER       S    KY      M     D   \n",
       "2  97106761  970000007     JACKSON     HENRY       S    WA      M     D   \n",
       "3  97106981  970000008    STAFFORD    ROBERT       S    VT      M     R   \n",
       "4  97104811  970000010       BAKER    HOWARD       S    TN      M     R   \n",
       "\n",
       "  district nonvoting            fullname  \n",
       "0             voting      PERCY, CHARLES  \n",
       "1             voting  HUDDLESTON, WALTER  \n",
       "2             voting      JACKSON, HENRY  \n",
       "3             voting    STAFFORD, ROBERT  \n",
       "4             voting       BAKER, HOWARD  "
      ]
     },
     "execution_count": 31,
     "metadata": {},
     "output_type": "execute_result"
    }
   ],
   "source": [
    "speakermap.head()"
   ]
  },
  {
   "cell_type": "code",
   "execution_count": 32,
   "metadata": {},
   "outputs": [
    {
     "data": {
      "text/plain": [
       "545"
      ]
     },
     "execution_count": 32,
     "metadata": {},
     "output_type": "execute_result"
    }
   ],
   "source": [
    "speakermap['speakerid'].nunique()"
   ]
  },
  {
   "cell_type": "code",
   "execution_count": 33,
   "metadata": {},
   "outputs": [
    {
     "data": {
      "text/plain": [
       "541"
      ]
     },
     "execution_count": 33,
     "metadata": {},
     "output_type": "execute_result"
    }
   ],
   "source": [
    "speakermap['fullname'].nunique()"
   ]
  },
  {
   "cell_type": "code",
   "execution_count": 67,
   "metadata": {},
   "outputs": [],
   "source": [
    "with open(filepath) as f:\n",
    "    cnt = 0\n",
    "    speakermap = defaultdict(list)\n",
    "    for line in f:\n",
    "        line = line.strip().split(\"|\")\n",
    "        if cnt == 0:\n",
    "            colnames = line\n",
    "        else:\n",
    "            fullname = line[2]+', '+line[3]\n",
    "            if len(line[0])==8:\n",
    "                congress = line[0][:2]\n",
    "            else:\n",
    "                congress = line[0][:3]\n",
    "            if len(speakermap[fullname]):\n",
    "                if congress not in speakermap[fullname][0]:\n",
    "                    speakermap[fullname][0].append(congress)\n",
    "                    speakermap[fullname][1].append(line[4:7])\n",
    "            else:\n",
    "                speakermap[fullname] = [congress]\n",
    "                speakermap[fullname].append(line[4:7])\n",
    "        cnt += 1\n",
    "        if cnt > 10:\n",
    "            break"
   ]
  },
  {
   "cell_type": "code",
   "execution_count": 68,
   "metadata": {},
   "outputs": [
    {
     "data": {
      "text/plain": [
       "defaultdict(list,\n",
       "            {'BAKER, HOWARD': ['97', ['S', 'TN', 'M']],\n",
       "             'CRANSTON, ALAN': ['97', ['S', 'CA', 'M']],\n",
       "             'HUDDLESTON, WALTER': ['97', ['S', 'KY', 'M']],\n",
       "             'JACKSON, HENRY': ['97', ['S', 'WA', 'M']],\n",
       "             'PERCY, CHARLES': ['97', ['S', 'IL', 'M']],\n",
       "             'STAFFORD, ROBERT': ['97', ['S', 'VT', 'M']]})"
      ]
     },
     "execution_count": 68,
     "metadata": {},
     "output_type": "execute_result"
    }
   ],
   "source": [
    "speakermap"
   ]
  },
  {
   "cell_type": "code",
   "execution_count": null,
   "metadata": {},
   "outputs": [],
   "source": []
  }
 ],
 "metadata": {
  "kernelspec": {
   "display_name": "Python 3",
   "language": "python",
   "name": "python3"
  },
  "language_info": {
   "codemirror_mode": {
    "name": "ipython",
    "version": 3
   },
   "file_extension": ".py",
   "mimetype": "text/x-python",
   "name": "python",
   "nbconvert_exporter": "python",
   "pygments_lexer": "ipython3",
   "version": "3.5.2"
  }
 },
 "nbformat": 4,
 "nbformat_minor": 2
}
