{
 "cells": [
  {
   "cell_type": "code",
   "execution_count": 1,
   "metadata": {},
   "outputs": [
    {
     "data": {
      "text/html": [
       "<style>.container { width:100% !important; }</style>"
      ],
      "text/plain": [
       "<IPython.core.display.HTML object>"
      ]
     },
     "metadata": {},
     "output_type": "display_data"
    }
   ],
   "source": [
    "# increase cell width\n",
    "from IPython.core.display import display, HTML\n",
    "display(HTML(\"<style>.container { width:100% !important; }</style>\"))"
   ]
  },
  {
   "cell_type": "code",
   "execution_count": 2,
   "metadata": {},
   "outputs": [],
   "source": [
    "import pandas as pd"
   ]
  },
  {
   "cell_type": "code",
   "execution_count": 3,
   "metadata": {},
   "outputs": [
    {
     "name": "stdout",
     "output_type": "stream",
     "text": [
      "speech_id|chamber|date|number_within_file|speaker|first_name|last_name|state|gender|line_start|line_end|file|char_count|word_count\r\n",
      "970000001|S|19810105|00001|The VICE PRESIDENT|Unknown|Unknown|Unknown|Special|000017|000062|01051981.txt|1543|283\r\n",
      "970000002|S|19810105|00002|The VICE PRESIDENT|Unknown|Unknown|Unknown|Special|000065|000074|01051981.txt|334|55\r\n"
     ]
    }
   ],
   "source": [
    "!head -3 ../sample/hein-daily/descr_097.txt"
   ]
  },
  {
   "cell_type": "code",
   "execution_count": 7,
   "metadata": {},
   "outputs": [
    {
     "name": "stdout",
     "output_type": "stream",
     "text": [
      "speakerid|speech_id|lastname|firstname|chamber|state|gender|party|district|nonvoting\r\n",
      "97105301|970000005|PERCY|CHARLES|S|IL|M|R||voting\r\n",
      "97105071|970000006|HUDDLESTON|WALTER|S|KY|M|D||voting\r\n"
     ]
    }
   ],
   "source": [
    "!head -3 ../sample/hein-daily/097_SpeakerMap.txt"
   ]
  },
  {
   "cell_type": "code",
   "execution_count": 72,
   "metadata": {},
   "outputs": [
    {
     "data": {
      "text/plain": [
       "(283398, 14)"
      ]
     },
     "execution_count": 72,
     "metadata": {},
     "output_type": "execute_result"
    }
   ],
   "source": [
    "descr = pd.read_csv(\"../sample/hein-daily/descr_097.txt\", sep=\"|\")\n",
    "descr.shape"
   ]
  },
  {
   "cell_type": "code",
   "execution_count": 73,
   "metadata": {
    "scrolled": true
   },
   "outputs": [
    {
     "data": {
      "text/html": [
       "<div>\n",
       "<style scoped>\n",
       "    .dataframe tbody tr th:only-of-type {\n",
       "        vertical-align: middle;\n",
       "    }\n",
       "\n",
       "    .dataframe tbody tr th {\n",
       "        vertical-align: top;\n",
       "    }\n",
       "\n",
       "    .dataframe thead th {\n",
       "        text-align: right;\n",
       "    }\n",
       "</style>\n",
       "<table border=\"1\" class=\"dataframe\">\n",
       "  <thead>\n",
       "    <tr style=\"text-align: right;\">\n",
       "      <th></th>\n",
       "      <th>speech_id</th>\n",
       "      <th>chamber</th>\n",
       "      <th>date</th>\n",
       "      <th>number_within_file</th>\n",
       "      <th>speaker</th>\n",
       "      <th>first_name</th>\n",
       "      <th>last_name</th>\n",
       "      <th>state</th>\n",
       "      <th>gender</th>\n",
       "      <th>line_start</th>\n",
       "      <th>line_end</th>\n",
       "      <th>file</th>\n",
       "      <th>char_count</th>\n",
       "      <th>word_count</th>\n",
       "    </tr>\n",
       "  </thead>\n",
       "  <tbody>\n",
       "    <tr>\n",
       "      <th>0</th>\n",
       "      <td>970000001</td>\n",
       "      <td>S</td>\n",
       "      <td>19810105</td>\n",
       "      <td>1</td>\n",
       "      <td>The VICE PRESIDENT</td>\n",
       "      <td>Unknown</td>\n",
       "      <td>Unknown</td>\n",
       "      <td>Unknown</td>\n",
       "      <td>Special</td>\n",
       "      <td>17</td>\n",
       "      <td>62</td>\n",
       "      <td>01051981.txt</td>\n",
       "      <td>1543</td>\n",
       "      <td>283</td>\n",
       "    </tr>\n",
       "    <tr>\n",
       "      <th>1</th>\n",
       "      <td>970000002</td>\n",
       "      <td>S</td>\n",
       "      <td>19810105</td>\n",
       "      <td>2</td>\n",
       "      <td>The VICE PRESIDENT</td>\n",
       "      <td>Unknown</td>\n",
       "      <td>Unknown</td>\n",
       "      <td>Unknown</td>\n",
       "      <td>Special</td>\n",
       "      <td>65</td>\n",
       "      <td>74</td>\n",
       "      <td>01051981.txt</td>\n",
       "      <td>334</td>\n",
       "      <td>55</td>\n",
       "    </tr>\n",
       "    <tr>\n",
       "      <th>2</th>\n",
       "      <td>970000003</td>\n",
       "      <td>S</td>\n",
       "      <td>19810105</td>\n",
       "      <td>3</td>\n",
       "      <td>The VICE</td>\n",
       "      <td>Unknown</td>\n",
       "      <td>Unknown</td>\n",
       "      <td>Unknown</td>\n",
       "      <td>Special</td>\n",
       "      <td>200</td>\n",
       "      <td>212</td>\n",
       "      <td>01051981.txt</td>\n",
       "      <td>466</td>\n",
       "      <td>82</td>\n",
       "    </tr>\n",
       "    <tr>\n",
       "      <th>3</th>\n",
       "      <td>970000004</td>\n",
       "      <td>S</td>\n",
       "      <td>19810105</td>\n",
       "      <td>4</td>\n",
       "      <td>The VICE PRESIDENT</td>\n",
       "      <td>Unknown</td>\n",
       "      <td>Unknown</td>\n",
       "      <td>Unknown</td>\n",
       "      <td>Special</td>\n",
       "      <td>858</td>\n",
       "      <td>864</td>\n",
       "      <td>01051981.txt</td>\n",
       "      <td>210</td>\n",
       "      <td>37</td>\n",
       "    </tr>\n",
       "    <tr>\n",
       "      <th>4</th>\n",
       "      <td>970000005</td>\n",
       "      <td>S</td>\n",
       "      <td>19810105</td>\n",
       "      <td>5</td>\n",
       "      <td>Mr. PERCY</td>\n",
       "      <td>Unknown</td>\n",
       "      <td>PERCY</td>\n",
       "      <td>Unknown</td>\n",
       "      <td>M</td>\n",
       "      <td>883</td>\n",
       "      <td>889</td>\n",
       "      <td>01051981.txt</td>\n",
       "      <td>201</td>\n",
       "      <td>34</td>\n",
       "    </tr>\n",
       "  </tbody>\n",
       "</table>\n",
       "</div>"
      ],
      "text/plain": [
       "   speech_id chamber      date  number_within_file             speaker  \\\n",
       "0  970000001       S  19810105                   1  The VICE PRESIDENT   \n",
       "1  970000002       S  19810105                   2  The VICE PRESIDENT   \n",
       "2  970000003       S  19810105                   3            The VICE   \n",
       "3  970000004       S  19810105                   4  The VICE PRESIDENT   \n",
       "4  970000005       S  19810105                   5           Mr. PERCY   \n",
       "\n",
       "  first_name last_name    state   gender  line_start  line_end          file  \\\n",
       "0    Unknown   Unknown  Unknown  Special          17        62  01051981.txt   \n",
       "1    Unknown   Unknown  Unknown  Special          65        74  01051981.txt   \n",
       "2    Unknown   Unknown  Unknown  Special         200       212  01051981.txt   \n",
       "3    Unknown   Unknown  Unknown  Special         858       864  01051981.txt   \n",
       "4    Unknown     PERCY  Unknown        M         883       889  01051981.txt   \n",
       "\n",
       "   char_count  word_count  \n",
       "0        1543         283  \n",
       "1         334          55  \n",
       "2         466          82  \n",
       "3         210          37  \n",
       "4         201          34  "
      ]
     },
     "execution_count": 73,
     "metadata": {},
     "output_type": "execute_result"
    }
   ],
   "source": [
    "descr.head()"
   ]
  },
  {
   "cell_type": "code",
   "execution_count": 90,
   "metadata": {},
   "outputs": [
    {
     "data": {
      "text/plain": [
       "M          219724\n",
       "Special     58178\n",
       "F            4931\n",
       "Unknown       565\n",
       "Name: gender, dtype: int64"
      ]
     },
     "execution_count": 90,
     "metadata": {},
     "output_type": "execute_result"
    }
   ],
   "source": [
    "descr.gender.value_counts()"
   ]
  },
  {
   "cell_type": "code",
   "execution_count": 74,
   "metadata": {},
   "outputs": [
    {
     "data": {
      "text/plain": [
       "(202054, 10)"
      ]
     },
     "execution_count": 74,
     "metadata": {},
     "output_type": "execute_result"
    }
   ],
   "source": [
    "speakermap = pd.read_csv(\"../sample/hein-daily/097_SpeakerMap.txt\", sep=\"|\")\n",
    "speakermap.shape"
   ]
  },
  {
   "cell_type": "code",
   "execution_count": 75,
   "metadata": {},
   "outputs": [
    {
     "data": {
      "text/html": [
       "<div>\n",
       "<style scoped>\n",
       "    .dataframe tbody tr th:only-of-type {\n",
       "        vertical-align: middle;\n",
       "    }\n",
       "\n",
       "    .dataframe tbody tr th {\n",
       "        vertical-align: top;\n",
       "    }\n",
       "\n",
       "    .dataframe thead th {\n",
       "        text-align: right;\n",
       "    }\n",
       "</style>\n",
       "<table border=\"1\" class=\"dataframe\">\n",
       "  <thead>\n",
       "    <tr style=\"text-align: right;\">\n",
       "      <th></th>\n",
       "      <th>speakerid</th>\n",
       "      <th>speech_id</th>\n",
       "      <th>lastname</th>\n",
       "      <th>firstname</th>\n",
       "      <th>chamber</th>\n",
       "      <th>state</th>\n",
       "      <th>gender</th>\n",
       "      <th>party</th>\n",
       "      <th>district</th>\n",
       "      <th>nonvoting</th>\n",
       "    </tr>\n",
       "  </thead>\n",
       "  <tbody>\n",
       "    <tr>\n",
       "      <th>0</th>\n",
       "      <td>97105301</td>\n",
       "      <td>970000005</td>\n",
       "      <td>PERCY</td>\n",
       "      <td>CHARLES</td>\n",
       "      <td>S</td>\n",
       "      <td>IL</td>\n",
       "      <td>M</td>\n",
       "      <td>R</td>\n",
       "      <td>NaN</td>\n",
       "      <td>voting</td>\n",
       "    </tr>\n",
       "    <tr>\n",
       "      <th>1</th>\n",
       "      <td>97105071</td>\n",
       "      <td>970000006</td>\n",
       "      <td>HUDDLESTON</td>\n",
       "      <td>WALTER</td>\n",
       "      <td>S</td>\n",
       "      <td>KY</td>\n",
       "      <td>M</td>\n",
       "      <td>D</td>\n",
       "      <td>NaN</td>\n",
       "      <td>voting</td>\n",
       "    </tr>\n",
       "    <tr>\n",
       "      <th>2</th>\n",
       "      <td>97106761</td>\n",
       "      <td>970000007</td>\n",
       "      <td>JACKSON</td>\n",
       "      <td>HENRY</td>\n",
       "      <td>S</td>\n",
       "      <td>WA</td>\n",
       "      <td>M</td>\n",
       "      <td>D</td>\n",
       "      <td>NaN</td>\n",
       "      <td>voting</td>\n",
       "    </tr>\n",
       "    <tr>\n",
       "      <th>3</th>\n",
       "      <td>97106981</td>\n",
       "      <td>970000008</td>\n",
       "      <td>STAFFORD</td>\n",
       "      <td>ROBERT</td>\n",
       "      <td>S</td>\n",
       "      <td>VT</td>\n",
       "      <td>M</td>\n",
       "      <td>R</td>\n",
       "      <td>NaN</td>\n",
       "      <td>voting</td>\n",
       "    </tr>\n",
       "    <tr>\n",
       "      <th>4</th>\n",
       "      <td>97104811</td>\n",
       "      <td>970000010</td>\n",
       "      <td>BAKER</td>\n",
       "      <td>HOWARD</td>\n",
       "      <td>S</td>\n",
       "      <td>TN</td>\n",
       "      <td>M</td>\n",
       "      <td>R</td>\n",
       "      <td>NaN</td>\n",
       "      <td>voting</td>\n",
       "    </tr>\n",
       "  </tbody>\n",
       "</table>\n",
       "</div>"
      ],
      "text/plain": [
       "   speakerid  speech_id    lastname firstname chamber state gender party  \\\n",
       "0   97105301  970000005       PERCY   CHARLES       S    IL      M     R   \n",
       "1   97105071  970000006  HUDDLESTON    WALTER       S    KY      M     D   \n",
       "2   97106761  970000007     JACKSON     HENRY       S    WA      M     D   \n",
       "3   97106981  970000008    STAFFORD    ROBERT       S    VT      M     R   \n",
       "4   97104811  970000010       BAKER    HOWARD       S    TN      M     R   \n",
       "\n",
       "   district nonvoting  \n",
       "0       NaN    voting  \n",
       "1       NaN    voting  \n",
       "2       NaN    voting  \n",
       "3       NaN    voting  \n",
       "4       NaN    voting  "
      ]
     },
     "execution_count": 75,
     "metadata": {},
     "output_type": "execute_result"
    }
   ],
   "source": [
    "speakermap.head()"
   ]
  },
  {
   "cell_type": "code",
   "execution_count": 76,
   "metadata": {},
   "outputs": [
    {
     "data": {
      "text/plain": [
       "(9845, 17)"
      ]
     },
     "execution_count": 76,
     "metadata": {},
     "output_type": "execute_result"
    }
   ],
   "source": [
    "full_map = pd.read_csv('./full_speakermap_demo.txt', sep='|')\n",
    "full_map.shape"
   ]
  },
  {
   "cell_type": "code",
   "execution_count": 77,
   "metadata": {},
   "outputs": [
    {
     "data": {
      "text/html": [
       "<div>\n",
       "<style scoped>\n",
       "    .dataframe tbody tr th:only-of-type {\n",
       "        vertical-align: middle;\n",
       "    }\n",
       "\n",
       "    .dataframe tbody tr th {\n",
       "        vertical-align: top;\n",
       "    }\n",
       "\n",
       "    .dataframe thead th {\n",
       "        text-align: right;\n",
       "    }\n",
       "</style>\n",
       "<table border=\"1\" class=\"dataframe\">\n",
       "  <thead>\n",
       "    <tr style=\"text-align: right;\">\n",
       "      <th></th>\n",
       "      <th>speakerid</th>\n",
       "      <th>Congress</th>\n",
       "      <th>Full Name</th>\n",
       "      <th>Chamber</th>\n",
       "      <th>State</th>\n",
       "      <th>Gender</th>\n",
       "      <th>Party</th>\n",
       "      <th>SpeachCount</th>\n",
       "      <th>List of Congresses</th>\n",
       "      <th>Ethnicity</th>\n",
       "      <th>BirthYear</th>\n",
       "      <th>CongressYear</th>\n",
       "      <th>Age</th>\n",
       "      <th>Age_lt_med</th>\n",
       "      <th>NonWhite</th>\n",
       "      <th>Female</th>\n",
       "      <th>Age_med</th>\n",
       "    </tr>\n",
       "  </thead>\n",
       "  <tbody>\n",
       "    <tr>\n",
       "      <th>0</th>\n",
       "      <td>97105301</td>\n",
       "      <td>97</td>\n",
       "      <td>PERCY, CHARLES</td>\n",
       "      <td>S</td>\n",
       "      <td>IL</td>\n",
       "      <td>M</td>\n",
       "      <td>R</td>\n",
       "      <td>2050</td>\n",
       "      <td>97 98</td>\n",
       "      <td>W</td>\n",
       "      <td>1919</td>\n",
       "      <td>1982</td>\n",
       "      <td>63</td>\n",
       "      <td>0</td>\n",
       "      <td>0</td>\n",
       "      <td>0</td>\n",
       "      <td>51.0</td>\n",
       "    </tr>\n",
       "    <tr>\n",
       "      <th>1</th>\n",
       "      <td>97105071</td>\n",
       "      <td>97</td>\n",
       "      <td>HUDDLESTON, WALTER</td>\n",
       "      <td>S</td>\n",
       "      <td>KY</td>\n",
       "      <td>M</td>\n",
       "      <td>D</td>\n",
       "      <td>563</td>\n",
       "      <td>97 98</td>\n",
       "      <td>W</td>\n",
       "      <td>1926</td>\n",
       "      <td>1982</td>\n",
       "      <td>56</td>\n",
       "      <td>0</td>\n",
       "      <td>0</td>\n",
       "      <td>0</td>\n",
       "      <td>51.0</td>\n",
       "    </tr>\n",
       "    <tr>\n",
       "      <th>2</th>\n",
       "      <td>97106761</td>\n",
       "      <td>97</td>\n",
       "      <td>JACKSON, HENRY</td>\n",
       "      <td>S</td>\n",
       "      <td>WA</td>\n",
       "      <td>M</td>\n",
       "      <td>D</td>\n",
       "      <td>560</td>\n",
       "      <td>97 98</td>\n",
       "      <td>W</td>\n",
       "      <td>1912</td>\n",
       "      <td>1982</td>\n",
       "      <td>70</td>\n",
       "      <td>0</td>\n",
       "      <td>0</td>\n",
       "      <td>0</td>\n",
       "      <td>51.0</td>\n",
       "    </tr>\n",
       "    <tr>\n",
       "      <th>3</th>\n",
       "      <td>97106981</td>\n",
       "      <td>97</td>\n",
       "      <td>STAFFORD, ROBERT</td>\n",
       "      <td>S</td>\n",
       "      <td>VT</td>\n",
       "      <td>M</td>\n",
       "      <td>R</td>\n",
       "      <td>497</td>\n",
       "      <td>97 98 99 100</td>\n",
       "      <td>W</td>\n",
       "      <td>1913</td>\n",
       "      <td>1982</td>\n",
       "      <td>69</td>\n",
       "      <td>0</td>\n",
       "      <td>0</td>\n",
       "      <td>0</td>\n",
       "      <td>51.0</td>\n",
       "    </tr>\n",
       "    <tr>\n",
       "      <th>4</th>\n",
       "      <td>97104811</td>\n",
       "      <td>97</td>\n",
       "      <td>BAKER, HOWARD</td>\n",
       "      <td>S</td>\n",
       "      <td>TN</td>\n",
       "      <td>M</td>\n",
       "      <td>R</td>\n",
       "      <td>15456</td>\n",
       "      <td>97 98</td>\n",
       "      <td>W</td>\n",
       "      <td>1925</td>\n",
       "      <td>1982</td>\n",
       "      <td>57</td>\n",
       "      <td>0</td>\n",
       "      <td>0</td>\n",
       "      <td>0</td>\n",
       "      <td>51.0</td>\n",
       "    </tr>\n",
       "  </tbody>\n",
       "</table>\n",
       "</div>"
      ],
      "text/plain": [
       "   speakerid  Congress           Full Name Chamber State Gender Party  \\\n",
       "0   97105301        97      PERCY, CHARLES       S    IL      M     R   \n",
       "1   97105071        97  HUDDLESTON, WALTER       S    KY      M     D   \n",
       "2   97106761        97      JACKSON, HENRY       S    WA      M     D   \n",
       "3   97106981        97    STAFFORD, ROBERT       S    VT      M     R   \n",
       "4   97104811        97       BAKER, HOWARD       S    TN      M     R   \n",
       "\n",
       "   SpeachCount List of Congresses Ethnicity  BirthYear  CongressYear  Age  \\\n",
       "0         2050              97 98         W       1919          1982   63   \n",
       "1          563              97 98         W       1926          1982   56   \n",
       "2          560              97 98         W       1912          1982   70   \n",
       "3          497       97 98 99 100         W       1913          1982   69   \n",
       "4        15456              97 98         W       1925          1982   57   \n",
       "\n",
       "   Age_lt_med  NonWhite  Female  Age_med  \n",
       "0           0         0       0     51.0  \n",
       "1           0         0       0     51.0  \n",
       "2           0         0       0     51.0  \n",
       "3           0         0       0     51.0  \n",
       "4           0         0       0     51.0  "
      ]
     },
     "execution_count": 77,
     "metadata": {},
     "output_type": "execute_result"
    }
   ],
   "source": [
    "full_map.head()"
   ]
  },
  {
   "cell_type": "code",
   "execution_count": 78,
   "metadata": {},
   "outputs": [],
   "source": [
    "full_map.drop(columns=['Chamber', 'State', 'Gender', 'Party'], inplace=True)"
   ]
  },
  {
   "cell_type": "code",
   "execution_count": 79,
   "metadata": {},
   "outputs": [
    {
     "data": {
      "text/plain": [
       "(202054, 22)"
      ]
     },
     "execution_count": 79,
     "metadata": {},
     "output_type": "execute_result"
    }
   ],
   "source": [
    "speakermap = speakermap.merge(full_map, how='left', on='speakerid')\n",
    "speakermap.shape"
   ]
  },
  {
   "cell_type": "code",
   "execution_count": 80,
   "metadata": {},
   "outputs": [
    {
     "data": {
      "text/html": [
       "<div>\n",
       "<style scoped>\n",
       "    .dataframe tbody tr th:only-of-type {\n",
       "        vertical-align: middle;\n",
       "    }\n",
       "\n",
       "    .dataframe tbody tr th {\n",
       "        vertical-align: top;\n",
       "    }\n",
       "\n",
       "    .dataframe thead th {\n",
       "        text-align: right;\n",
       "    }\n",
       "</style>\n",
       "<table border=\"1\" class=\"dataframe\">\n",
       "  <thead>\n",
       "    <tr style=\"text-align: right;\">\n",
       "      <th></th>\n",
       "      <th>speakerid</th>\n",
       "      <th>speech_id</th>\n",
       "      <th>lastname</th>\n",
       "      <th>firstname</th>\n",
       "      <th>chamber</th>\n",
       "      <th>state</th>\n",
       "      <th>gender</th>\n",
       "      <th>party</th>\n",
       "      <th>district</th>\n",
       "      <th>nonvoting</th>\n",
       "      <th>...</th>\n",
       "      <th>SpeachCount</th>\n",
       "      <th>List of Congresses</th>\n",
       "      <th>Ethnicity</th>\n",
       "      <th>BirthYear</th>\n",
       "      <th>CongressYear</th>\n",
       "      <th>Age</th>\n",
       "      <th>Age_lt_med</th>\n",
       "      <th>NonWhite</th>\n",
       "      <th>Female</th>\n",
       "      <th>Age_med</th>\n",
       "    </tr>\n",
       "  </thead>\n",
       "  <tbody>\n",
       "    <tr>\n",
       "      <th>0</th>\n",
       "      <td>97105301</td>\n",
       "      <td>970000005</td>\n",
       "      <td>PERCY</td>\n",
       "      <td>CHARLES</td>\n",
       "      <td>S</td>\n",
       "      <td>IL</td>\n",
       "      <td>M</td>\n",
       "      <td>R</td>\n",
       "      <td>NaN</td>\n",
       "      <td>voting</td>\n",
       "      <td>...</td>\n",
       "      <td>2050</td>\n",
       "      <td>97 98</td>\n",
       "      <td>W</td>\n",
       "      <td>1919</td>\n",
       "      <td>1982</td>\n",
       "      <td>63</td>\n",
       "      <td>0</td>\n",
       "      <td>0</td>\n",
       "      <td>0</td>\n",
       "      <td>51.0</td>\n",
       "    </tr>\n",
       "    <tr>\n",
       "      <th>1</th>\n",
       "      <td>97105071</td>\n",
       "      <td>970000006</td>\n",
       "      <td>HUDDLESTON</td>\n",
       "      <td>WALTER</td>\n",
       "      <td>S</td>\n",
       "      <td>KY</td>\n",
       "      <td>M</td>\n",
       "      <td>D</td>\n",
       "      <td>NaN</td>\n",
       "      <td>voting</td>\n",
       "      <td>...</td>\n",
       "      <td>563</td>\n",
       "      <td>97 98</td>\n",
       "      <td>W</td>\n",
       "      <td>1926</td>\n",
       "      <td>1982</td>\n",
       "      <td>56</td>\n",
       "      <td>0</td>\n",
       "      <td>0</td>\n",
       "      <td>0</td>\n",
       "      <td>51.0</td>\n",
       "    </tr>\n",
       "    <tr>\n",
       "      <th>2</th>\n",
       "      <td>97106761</td>\n",
       "      <td>970000007</td>\n",
       "      <td>JACKSON</td>\n",
       "      <td>HENRY</td>\n",
       "      <td>S</td>\n",
       "      <td>WA</td>\n",
       "      <td>M</td>\n",
       "      <td>D</td>\n",
       "      <td>NaN</td>\n",
       "      <td>voting</td>\n",
       "      <td>...</td>\n",
       "      <td>560</td>\n",
       "      <td>97 98</td>\n",
       "      <td>W</td>\n",
       "      <td>1912</td>\n",
       "      <td>1982</td>\n",
       "      <td>70</td>\n",
       "      <td>0</td>\n",
       "      <td>0</td>\n",
       "      <td>0</td>\n",
       "      <td>51.0</td>\n",
       "    </tr>\n",
       "    <tr>\n",
       "      <th>3</th>\n",
       "      <td>97106981</td>\n",
       "      <td>970000008</td>\n",
       "      <td>STAFFORD</td>\n",
       "      <td>ROBERT</td>\n",
       "      <td>S</td>\n",
       "      <td>VT</td>\n",
       "      <td>M</td>\n",
       "      <td>R</td>\n",
       "      <td>NaN</td>\n",
       "      <td>voting</td>\n",
       "      <td>...</td>\n",
       "      <td>497</td>\n",
       "      <td>97 98 99 100</td>\n",
       "      <td>W</td>\n",
       "      <td>1913</td>\n",
       "      <td>1982</td>\n",
       "      <td>69</td>\n",
       "      <td>0</td>\n",
       "      <td>0</td>\n",
       "      <td>0</td>\n",
       "      <td>51.0</td>\n",
       "    </tr>\n",
       "    <tr>\n",
       "      <th>4</th>\n",
       "      <td>97104811</td>\n",
       "      <td>970000010</td>\n",
       "      <td>BAKER</td>\n",
       "      <td>HOWARD</td>\n",
       "      <td>S</td>\n",
       "      <td>TN</td>\n",
       "      <td>M</td>\n",
       "      <td>R</td>\n",
       "      <td>NaN</td>\n",
       "      <td>voting</td>\n",
       "      <td>...</td>\n",
       "      <td>15456</td>\n",
       "      <td>97 98</td>\n",
       "      <td>W</td>\n",
       "      <td>1925</td>\n",
       "      <td>1982</td>\n",
       "      <td>57</td>\n",
       "      <td>0</td>\n",
       "      <td>0</td>\n",
       "      <td>0</td>\n",
       "      <td>51.0</td>\n",
       "    </tr>\n",
       "  </tbody>\n",
       "</table>\n",
       "<p>5 rows × 22 columns</p>\n",
       "</div>"
      ],
      "text/plain": [
       "   speakerid  speech_id    lastname firstname chamber state gender party  \\\n",
       "0   97105301  970000005       PERCY   CHARLES       S    IL      M     R   \n",
       "1   97105071  970000006  HUDDLESTON    WALTER       S    KY      M     D   \n",
       "2   97106761  970000007     JACKSON     HENRY       S    WA      M     D   \n",
       "3   97106981  970000008    STAFFORD    ROBERT       S    VT      M     R   \n",
       "4   97104811  970000010       BAKER    HOWARD       S    TN      M     R   \n",
       "\n",
       "   district nonvoting  ...  SpeachCount List of Congresses  Ethnicity  \\\n",
       "0       NaN    voting  ...         2050              97 98          W   \n",
       "1       NaN    voting  ...          563              97 98          W   \n",
       "2       NaN    voting  ...          560              97 98          W   \n",
       "3       NaN    voting  ...          497       97 98 99 100          W   \n",
       "4       NaN    voting  ...        15456              97 98          W   \n",
       "\n",
       "  BirthYear CongressYear  Age  Age_lt_med  NonWhite  Female  Age_med  \n",
       "0      1919         1982   63           0         0       0     51.0  \n",
       "1      1926         1982   56           0         0       0     51.0  \n",
       "2      1912         1982   70           0         0       0     51.0  \n",
       "3      1913         1982   69           0         0       0     51.0  \n",
       "4      1925         1982   57           0         0       0     51.0  \n",
       "\n",
       "[5 rows x 22 columns]"
      ]
     },
     "execution_count": 80,
     "metadata": {},
     "output_type": "execute_result"
    }
   ],
   "source": [
    "speakermap.head()"
   ]
  },
  {
   "cell_type": "code",
   "execution_count": 81,
   "metadata": {},
   "outputs": [
    {
     "data": {
      "text/plain": [
       "0"
      ]
     },
     "execution_count": 81,
     "metadata": {},
     "output_type": "execute_result"
    }
   ],
   "source": [
    "speakermap.Ethnicity.isna().sum()"
   ]
  },
  {
   "cell_type": "code",
   "execution_count": 28,
   "metadata": {},
   "outputs": [
    {
     "data": {
      "text/plain": [
       "['speakerid',\n",
       " 'speech_id',\n",
       " 'lastname',\n",
       " 'firstname',\n",
       " 'chamber',\n",
       " 'state',\n",
       " 'gender',\n",
       " 'party',\n",
       " 'district',\n",
       " 'nonvoting',\n",
       " 'Congress',\n",
       " 'Full Name',\n",
       " 'SpeachCount',\n",
       " 'List of Congresses',\n",
       " 'Ethnicity',\n",
       " 'BirthYear',\n",
       " 'CongressYear',\n",
       " 'Age',\n",
       " 'Age_lt_med',\n",
       " 'NonWhite',\n",
       " 'Female',\n",
       " 'Age_med']"
      ]
     },
     "execution_count": 28,
     "metadata": {},
     "output_type": "execute_result"
    }
   ],
   "source": [
    "list(speakermap)"
   ]
  },
  {
   "cell_type": "code",
   "execution_count": 82,
   "metadata": {},
   "outputs": [],
   "source": [
    "keep_cols_descr = ['speech_id', 'date', 'char_count', 'word_count']\n",
    "keep_cols_map = ['speakerid', 'speech_id', 'party', 'Congress', 'Ethnicity', 'Age', 'Age_lt_med', 'NonWhite', 'Female']"
   ]
  },
  {
   "cell_type": "code",
   "execution_count": 83,
   "metadata": {},
   "outputs": [
    {
     "data": {
      "text/plain": [
       "(283398, 12)"
      ]
     },
     "execution_count": 83,
     "metadata": {},
     "output_type": "execute_result"
    }
   ],
   "source": [
    "descr_exp = descr[keep_cols_descr].merge(speakermap[keep_cols_map], how='left', on='speech_id')\n",
    "descr_exp.shape"
   ]
  },
  {
   "cell_type": "code",
   "execution_count": 84,
   "metadata": {},
   "outputs": [
    {
     "data": {
      "text/html": [
       "<div>\n",
       "<style scoped>\n",
       "    .dataframe tbody tr th:only-of-type {\n",
       "        vertical-align: middle;\n",
       "    }\n",
       "\n",
       "    .dataframe tbody tr th {\n",
       "        vertical-align: top;\n",
       "    }\n",
       "\n",
       "    .dataframe thead th {\n",
       "        text-align: right;\n",
       "    }\n",
       "</style>\n",
       "<table border=\"1\" class=\"dataframe\">\n",
       "  <thead>\n",
       "    <tr style=\"text-align: right;\">\n",
       "      <th></th>\n",
       "      <th>speech_id</th>\n",
       "      <th>date</th>\n",
       "      <th>char_count</th>\n",
       "      <th>word_count</th>\n",
       "      <th>speakerid</th>\n",
       "      <th>party</th>\n",
       "      <th>Congress</th>\n",
       "      <th>Ethnicity</th>\n",
       "      <th>Age</th>\n",
       "      <th>Age_lt_med</th>\n",
       "      <th>NonWhite</th>\n",
       "      <th>Female</th>\n",
       "    </tr>\n",
       "  </thead>\n",
       "  <tbody>\n",
       "    <tr>\n",
       "      <th>0</th>\n",
       "      <td>970000001</td>\n",
       "      <td>19810105</td>\n",
       "      <td>1543</td>\n",
       "      <td>283</td>\n",
       "      <td>NaN</td>\n",
       "      <td>NaN</td>\n",
       "      <td>NaN</td>\n",
       "      <td>NaN</td>\n",
       "      <td>NaN</td>\n",
       "      <td>NaN</td>\n",
       "      <td>NaN</td>\n",
       "      <td>NaN</td>\n",
       "    </tr>\n",
       "    <tr>\n",
       "      <th>1</th>\n",
       "      <td>970000002</td>\n",
       "      <td>19810105</td>\n",
       "      <td>334</td>\n",
       "      <td>55</td>\n",
       "      <td>NaN</td>\n",
       "      <td>NaN</td>\n",
       "      <td>NaN</td>\n",
       "      <td>NaN</td>\n",
       "      <td>NaN</td>\n",
       "      <td>NaN</td>\n",
       "      <td>NaN</td>\n",
       "      <td>NaN</td>\n",
       "    </tr>\n",
       "    <tr>\n",
       "      <th>2</th>\n",
       "      <td>970000003</td>\n",
       "      <td>19810105</td>\n",
       "      <td>466</td>\n",
       "      <td>82</td>\n",
       "      <td>NaN</td>\n",
       "      <td>NaN</td>\n",
       "      <td>NaN</td>\n",
       "      <td>NaN</td>\n",
       "      <td>NaN</td>\n",
       "      <td>NaN</td>\n",
       "      <td>NaN</td>\n",
       "      <td>NaN</td>\n",
       "    </tr>\n",
       "    <tr>\n",
       "      <th>3</th>\n",
       "      <td>970000004</td>\n",
       "      <td>19810105</td>\n",
       "      <td>210</td>\n",
       "      <td>37</td>\n",
       "      <td>NaN</td>\n",
       "      <td>NaN</td>\n",
       "      <td>NaN</td>\n",
       "      <td>NaN</td>\n",
       "      <td>NaN</td>\n",
       "      <td>NaN</td>\n",
       "      <td>NaN</td>\n",
       "      <td>NaN</td>\n",
       "    </tr>\n",
       "    <tr>\n",
       "      <th>4</th>\n",
       "      <td>970000005</td>\n",
       "      <td>19810105</td>\n",
       "      <td>201</td>\n",
       "      <td>34</td>\n",
       "      <td>97105301.0</td>\n",
       "      <td>R</td>\n",
       "      <td>97.0</td>\n",
       "      <td>W</td>\n",
       "      <td>63.0</td>\n",
       "      <td>0.0</td>\n",
       "      <td>0.0</td>\n",
       "      <td>0.0</td>\n",
       "    </tr>\n",
       "  </tbody>\n",
       "</table>\n",
       "</div>"
      ],
      "text/plain": [
       "   speech_id      date  char_count  word_count   speakerid party  Congress  \\\n",
       "0  970000001  19810105        1543         283         NaN   NaN       NaN   \n",
       "1  970000002  19810105         334          55         NaN   NaN       NaN   \n",
       "2  970000003  19810105         466          82         NaN   NaN       NaN   \n",
       "3  970000004  19810105         210          37         NaN   NaN       NaN   \n",
       "4  970000005  19810105         201          34  97105301.0     R      97.0   \n",
       "\n",
       "  Ethnicity   Age  Age_lt_med  NonWhite  Female  \n",
       "0       NaN   NaN         NaN       NaN     NaN  \n",
       "1       NaN   NaN         NaN       NaN     NaN  \n",
       "2       NaN   NaN         NaN       NaN     NaN  \n",
       "3       NaN   NaN         NaN       NaN     NaN  \n",
       "4         W  63.0         0.0       0.0     0.0  "
      ]
     },
     "execution_count": 84,
     "metadata": {},
     "output_type": "execute_result"
    }
   ],
   "source": [
    "descr_exp.head()"
   ]
  },
  {
   "cell_type": "code",
   "execution_count": 87,
   "metadata": {},
   "outputs": [
    {
     "data": {
      "text/plain": [
       "count    81344.000000\n",
       "mean       118.178268\n",
       "std        409.005476\n",
       "min          1.000000\n",
       "25%          6.000000\n",
       "50%         13.000000\n",
       "75%         60.000000\n",
       "max      58064.000000\n",
       "Name: word_count, dtype: float64"
      ]
     },
     "execution_count": 87,
     "metadata": {},
     "output_type": "execute_result"
    }
   ],
   "source": [
    "descr_exp[descr_exp.speakerid.isna()].word_count.describe()"
   ]
  },
  {
   "cell_type": "code",
   "execution_count": 88,
   "metadata": {},
   "outputs": [
    {
     "data": {
      "text/plain": [
       "count    202054.000000\n",
       "mean        157.109654\n",
       "std         340.234849\n",
       "min           1.000000\n",
       "25%          11.000000\n",
       "50%          29.000000\n",
       "75%         153.000000\n",
       "max       11750.000000\n",
       "Name: word_count, dtype: float64"
      ]
     },
     "execution_count": 88,
     "metadata": {},
     "output_type": "execute_result"
    }
   ],
   "source": [
    "descr_exp[~descr_exp.speakerid.isna()].word_count.describe()"
   ]
  },
  {
   "cell_type": "code",
   "execution_count": 44,
   "metadata": {},
   "outputs": [
    {
     "data": {
      "text/plain": [
       "(202054, 12)"
      ]
     },
     "execution_count": 44,
     "metadata": {},
     "output_type": "execute_result"
    }
   ],
   "source": [
    "descr_exp = descr_exp[~descr_exp.speakerid.isna()]\n",
    "descr_exp.shape"
   ]
  },
  {
   "cell_type": "code",
   "execution_count": 45,
   "metadata": {},
   "outputs": [
    {
     "data": {
      "text/html": [
       "<div>\n",
       "<style scoped>\n",
       "    .dataframe tbody tr th:only-of-type {\n",
       "        vertical-align: middle;\n",
       "    }\n",
       "\n",
       "    .dataframe tbody tr th {\n",
       "        vertical-align: top;\n",
       "    }\n",
       "\n",
       "    .dataframe thead th {\n",
       "        text-align: right;\n",
       "    }\n",
       "</style>\n",
       "<table border=\"1\" class=\"dataframe\">\n",
       "  <thead>\n",
       "    <tr style=\"text-align: right;\">\n",
       "      <th></th>\n",
       "      <th>speech_id</th>\n",
       "      <th>date</th>\n",
       "      <th>char_count</th>\n",
       "      <th>word_count</th>\n",
       "      <th>speakerid</th>\n",
       "      <th>party</th>\n",
       "      <th>Congress</th>\n",
       "      <th>Ethnicity</th>\n",
       "      <th>Age</th>\n",
       "      <th>Age_lt_med</th>\n",
       "      <th>NonWhite</th>\n",
       "      <th>Female</th>\n",
       "    </tr>\n",
       "  </thead>\n",
       "  <tbody>\n",
       "    <tr>\n",
       "      <th>4</th>\n",
       "      <td>970000005</td>\n",
       "      <td>19810105</td>\n",
       "      <td>201</td>\n",
       "      <td>34</td>\n",
       "      <td>97105301.0</td>\n",
       "      <td>R</td>\n",
       "      <td>97.0</td>\n",
       "      <td>W</td>\n",
       "      <td>63.0</td>\n",
       "      <td>0.0</td>\n",
       "      <td>0.0</td>\n",
       "      <td>0.0</td>\n",
       "    </tr>\n",
       "    <tr>\n",
       "      <th>5</th>\n",
       "      <td>970000006</td>\n",
       "      <td>19810105</td>\n",
       "      <td>202</td>\n",
       "      <td>34</td>\n",
       "      <td>97105071.0</td>\n",
       "      <td>D</td>\n",
       "      <td>97.0</td>\n",
       "      <td>W</td>\n",
       "      <td>56.0</td>\n",
       "      <td>0.0</td>\n",
       "      <td>0.0</td>\n",
       "      <td>0.0</td>\n",
       "    </tr>\n",
       "    <tr>\n",
       "      <th>6</th>\n",
       "      <td>970000007</td>\n",
       "      <td>19810105</td>\n",
       "      <td>201</td>\n",
       "      <td>34</td>\n",
       "      <td>97106761.0</td>\n",
       "      <td>D</td>\n",
       "      <td>97.0</td>\n",
       "      <td>W</td>\n",
       "      <td>70.0</td>\n",
       "      <td>0.0</td>\n",
       "      <td>0.0</td>\n",
       "      <td>0.0</td>\n",
       "    </tr>\n",
       "    <tr>\n",
       "      <th>7</th>\n",
       "      <td>970000008</td>\n",
       "      <td>19810105</td>\n",
       "      <td>201</td>\n",
       "      <td>34</td>\n",
       "      <td>97106981.0</td>\n",
       "      <td>R</td>\n",
       "      <td>97.0</td>\n",
       "      <td>W</td>\n",
       "      <td>69.0</td>\n",
       "      <td>0.0</td>\n",
       "      <td>0.0</td>\n",
       "      <td>0.0</td>\n",
       "    </tr>\n",
       "    <tr>\n",
       "      <th>9</th>\n",
       "      <td>970000010</td>\n",
       "      <td>19810105</td>\n",
       "      <td>49</td>\n",
       "      <td>9</td>\n",
       "      <td>97104811.0</td>\n",
       "      <td>R</td>\n",
       "      <td>97.0</td>\n",
       "      <td>W</td>\n",
       "      <td>57.0</td>\n",
       "      <td>0.0</td>\n",
       "      <td>0.0</td>\n",
       "      <td>0.0</td>\n",
       "    </tr>\n",
       "  </tbody>\n",
       "</table>\n",
       "</div>"
      ],
      "text/plain": [
       "   speech_id      date  char_count  word_count   speakerid party  Congress  \\\n",
       "4  970000005  19810105         201          34  97105301.0     R      97.0   \n",
       "5  970000006  19810105         202          34  97105071.0     D      97.0   \n",
       "6  970000007  19810105         201          34  97106761.0     D      97.0   \n",
       "7  970000008  19810105         201          34  97106981.0     R      97.0   \n",
       "9  970000010  19810105          49           9  97104811.0     R      97.0   \n",
       "\n",
       "  Ethnicity   Age  Age_lt_med  NonWhite  Female  \n",
       "4         W  63.0         0.0       0.0     0.0  \n",
       "5         W  56.0         0.0       0.0     0.0  \n",
       "6         W  70.0         0.0       0.0     0.0  \n",
       "7         W  69.0         0.0       0.0     0.0  \n",
       "9         W  57.0         0.0       0.0     0.0  "
      ]
     },
     "execution_count": 45,
     "metadata": {},
     "output_type": "execute_result"
    }
   ],
   "source": [
    "descr_exp.head()"
   ]
  },
  {
   "cell_type": "code",
   "execution_count": 61,
   "metadata": {},
   "outputs": [
    {
     "data": {
      "text/plain": [
       "['097',\n",
       " '098',\n",
       " '099',\n",
       " '100',\n",
       " '101',\n",
       " '102',\n",
       " '103',\n",
       " '104',\n",
       " '105',\n",
       " '106',\n",
       " '107',\n",
       " '108',\n",
       " '109',\n",
       " '110',\n",
       " '111',\n",
       " '112',\n",
       " '113',\n",
       " '114']"
      ]
     },
     "execution_count": 61,
     "metadata": {},
     "output_type": "execute_result"
    }
   ],
   "source": [
    "congresses = []\n",
    "for c in range(97,115):\n",
    "    c = str(c)\n",
    "    if len(c)==2:\n",
    "        c = '0'+c\n",
    "    congresses.append(c)\n",
    "congresses"
   ]
  },
  {
   "cell_type": "code",
   "execution_count": 55,
   "metadata": {},
   "outputs": [
    {
     "name": "stdout",
     "output_type": "stream",
     "text": [
      "(202054, 10)\n",
      "(201199, 10)\n",
      "(201888, 10)\n",
      "(192047, 10)\n",
      "(166895, 10)\n",
      "(162471, 10)\n",
      "(159939, 10)\n",
      "(193358, 10)\n",
      "(141235, 10)\n",
      "(141357, 10)\n",
      "(116866, 10)\n",
      "(127981, 10)\n",
      "(117131, 10)\n",
      "(130093, 10)\n",
      "(94641, 10)\n",
      "(91060, 10)\n",
      "(77621, 10)\n",
      "(67971, 10)\n"
     ]
    }
   ],
   "source": [
    "dirpath = '../raw/hein-daily/'\n",
    "for c in congresses:\n",
    "    mapfile = dirpath+c+'_SpeakerMap.txt'\n",
    "    speakermap = pd.read_csv(mapfile, sep=\"|\")\n",
    "    print(speakermap.shape)"
   ]
  },
  {
   "cell_type": "code",
   "execution_count": 65,
   "metadata": {},
   "outputs": [
    {
     "name": "stdout",
     "output_type": "stream",
     "text": [
      "File: 097 raw: 283398 rows. Processed: 202054 rows\n",
      "File: 098 raw: 280288 rows. Processed: 201199 rows\n",
      "File: 099 raw: 281527 rows. Processed: 201888 rows\n",
      "File: 100 raw: 276161 rows. Processed: 192047 rows\n",
      "File: 101 raw: 251216 rows. Processed: 166895 rows\n",
      "File: 102 raw: 243091 rows. Processed: 162471 rows\n",
      "File: 103 raw: 235973 rows. Processed: 159939 rows\n",
      "File: 104 raw: 274984 rows. Processed: 193358 rows\n",
      "File: 105 raw: 209266 rows. Processed: 141235 rows\n",
      "File: 106 raw: 209647 rows. Processed: 141357 rows\n",
      "File: 107 raw: 180725 rows. Processed: 116866 rows\n",
      "File: 108 raw: 200158 rows. Processed: 127981 rows\n",
      "File: 109 raw: 187646 rows. Processed: 117131 rows\n",
      "File: 110 raw: 211366 rows. Processed: 130093 rows\n",
      "File: 111 raw: 154399 rows. Processed: 94641 rows\n",
      "File: 112 raw: 145900 rows. Processed: 91060 rows\n",
      "File: 113 raw: 128148 rows. Processed: 77621 rows\n",
      "File: 114 raw: 112290 rows. Processed: 67971 rows\n"
     ]
    }
   ],
   "source": [
    "full_descr = pd.DataFrame(columns=list(descr_exp))\n",
    "row_cnt = 0\n",
    "for c in congresses:\n",
    "    mapfile = dirpath+c+'_SpeakerMap.txt'\n",
    "    descrfile = dirpath+'descr_'+c+'.txt'\n",
    "    speakermap = pd.read_csv(mapfile, sep=\"|\")\n",
    "    speakermap = speakermap.merge(full_map, how='left', on='speakerid')\n",
    "    descr = pd.read_csv(descrfile, sep=\"|\")\n",
    "    descr_exp = descr[keep_cols_descr].merge(speakermap[keep_cols_map], how='left', on='speech_id')\n",
    "    descr_exp = descr_exp[~descr_exp.speakerid.isna()]\n",
    "    row_cnt += descr_exp.shape[0]\n",
    "    print(\"File: {} raw: {} rows. Processed: {} rows\".format(c, descr.shape[0], descr_exp.shape[0]))\n",
    "    full_descr = full_descr.append(descr_exp, ignore_index=True)"
   ]
  },
  {
   "cell_type": "code",
   "execution_count": 66,
   "metadata": {},
   "outputs": [
    {
     "data": {
      "text/plain": [
       "(2585807, 12)"
      ]
     },
     "execution_count": 66,
     "metadata": {},
     "output_type": "execute_result"
    }
   ],
   "source": [
    "full_descr.shape"
   ]
  },
  {
   "cell_type": "code",
   "execution_count": 67,
   "metadata": {},
   "outputs": [
    {
     "data": {
      "text/plain": [
       "2585807"
      ]
     },
     "execution_count": 67,
     "metadata": {},
     "output_type": "execute_result"
    }
   ],
   "source": [
    "row_cnt"
   ]
  },
  {
   "cell_type": "code",
   "execution_count": 68,
   "metadata": {},
   "outputs": [
    {
     "data": {
      "text/html": [
       "<div>\n",
       "<style scoped>\n",
       "    .dataframe tbody tr th:only-of-type {\n",
       "        vertical-align: middle;\n",
       "    }\n",
       "\n",
       "    .dataframe tbody tr th {\n",
       "        vertical-align: top;\n",
       "    }\n",
       "\n",
       "    .dataframe thead th {\n",
       "        text-align: right;\n",
       "    }\n",
       "</style>\n",
       "<table border=\"1\" class=\"dataframe\">\n",
       "  <thead>\n",
       "    <tr style=\"text-align: right;\">\n",
       "      <th></th>\n",
       "      <th>speech_id</th>\n",
       "      <th>date</th>\n",
       "      <th>char_count</th>\n",
       "      <th>word_count</th>\n",
       "      <th>speakerid</th>\n",
       "      <th>party</th>\n",
       "      <th>Congress</th>\n",
       "      <th>Ethnicity</th>\n",
       "      <th>Age</th>\n",
       "      <th>Age_lt_med</th>\n",
       "      <th>NonWhite</th>\n",
       "      <th>Female</th>\n",
       "    </tr>\n",
       "  </thead>\n",
       "  <tbody>\n",
       "    <tr>\n",
       "      <th>0</th>\n",
       "      <td>970000005</td>\n",
       "      <td>19810105</td>\n",
       "      <td>201</td>\n",
       "      <td>34</td>\n",
       "      <td>97105301.0</td>\n",
       "      <td>R</td>\n",
       "      <td>97.0</td>\n",
       "      <td>W</td>\n",
       "      <td>63.0</td>\n",
       "      <td>0.0</td>\n",
       "      <td>0.0</td>\n",
       "      <td>0.0</td>\n",
       "    </tr>\n",
       "    <tr>\n",
       "      <th>1</th>\n",
       "      <td>970000006</td>\n",
       "      <td>19810105</td>\n",
       "      <td>202</td>\n",
       "      <td>34</td>\n",
       "      <td>97105071.0</td>\n",
       "      <td>D</td>\n",
       "      <td>97.0</td>\n",
       "      <td>W</td>\n",
       "      <td>56.0</td>\n",
       "      <td>0.0</td>\n",
       "      <td>0.0</td>\n",
       "      <td>0.0</td>\n",
       "    </tr>\n",
       "    <tr>\n",
       "      <th>2</th>\n",
       "      <td>970000007</td>\n",
       "      <td>19810105</td>\n",
       "      <td>201</td>\n",
       "      <td>34</td>\n",
       "      <td>97106761.0</td>\n",
       "      <td>D</td>\n",
       "      <td>97.0</td>\n",
       "      <td>W</td>\n",
       "      <td>70.0</td>\n",
       "      <td>0.0</td>\n",
       "      <td>0.0</td>\n",
       "      <td>0.0</td>\n",
       "    </tr>\n",
       "    <tr>\n",
       "      <th>3</th>\n",
       "      <td>970000008</td>\n",
       "      <td>19810105</td>\n",
       "      <td>201</td>\n",
       "      <td>34</td>\n",
       "      <td>97106981.0</td>\n",
       "      <td>R</td>\n",
       "      <td>97.0</td>\n",
       "      <td>W</td>\n",
       "      <td>69.0</td>\n",
       "      <td>0.0</td>\n",
       "      <td>0.0</td>\n",
       "      <td>0.0</td>\n",
       "    </tr>\n",
       "    <tr>\n",
       "      <th>4</th>\n",
       "      <td>970000010</td>\n",
       "      <td>19810105</td>\n",
       "      <td>49</td>\n",
       "      <td>9</td>\n",
       "      <td>97104811.0</td>\n",
       "      <td>R</td>\n",
       "      <td>97.0</td>\n",
       "      <td>W</td>\n",
       "      <td>57.0</td>\n",
       "      <td>0.0</td>\n",
       "      <td>0.0</td>\n",
       "      <td>0.0</td>\n",
       "    </tr>\n",
       "  </tbody>\n",
       "</table>\n",
       "</div>"
      ],
      "text/plain": [
       "   speech_id      date char_count word_count   speakerid party  Congress  \\\n",
       "0  970000005  19810105        201         34  97105301.0     R      97.0   \n",
       "1  970000006  19810105        202         34  97105071.0     D      97.0   \n",
       "2  970000007  19810105        201         34  97106761.0     D      97.0   \n",
       "3  970000008  19810105        201         34  97106981.0     R      97.0   \n",
       "4  970000010  19810105         49          9  97104811.0     R      97.0   \n",
       "\n",
       "  Ethnicity   Age  Age_lt_med  NonWhite  Female  \n",
       "0         W  63.0         0.0       0.0     0.0  \n",
       "1         W  56.0         0.0       0.0     0.0  \n",
       "2         W  70.0         0.0       0.0     0.0  \n",
       "3         W  69.0         0.0       0.0     0.0  \n",
       "4         W  57.0         0.0       0.0     0.0  "
      ]
     },
     "execution_count": 68,
     "metadata": {},
     "output_type": "execute_result"
    }
   ],
   "source": [
    "full_descr.head()"
   ]
  },
  {
   "cell_type": "code",
   "execution_count": 70,
   "metadata": {},
   "outputs": [],
   "source": [
    "full_descr.to_csv('./full_descr.txt', sep='|', index=False)"
   ]
  },
  {
   "cell_type": "code",
   "execution_count": null,
   "metadata": {},
   "outputs": [],
   "source": []
  }
 ],
 "metadata": {
  "kernelspec": {
   "display_name": "Python 3",
   "language": "python",
   "name": "python3"
  },
  "language_info": {
   "codemirror_mode": {
    "name": "ipython",
    "version": 3
   },
   "file_extension": ".py",
   "mimetype": "text/x-python",
   "name": "python",
   "nbconvert_exporter": "python",
   "pygments_lexer": "ipython3",
   "version": "3.5.2"
  }
 },
 "nbformat": 4,
 "nbformat_minor": 2
}
