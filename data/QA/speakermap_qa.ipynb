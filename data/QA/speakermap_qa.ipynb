{
 "cells": [
  {
   "cell_type": "code",
   "execution_count": 7,
   "metadata": {},
   "outputs": [],
   "source": [
    "import pandas as pd\n",
    "from collections import defaultdict"
   ]
  },
  {
   "cell_type": "markdown",
   "metadata": {},
   "source": [
    "### Check directory structure"
   ]
  },
  {
   "cell_type": "code",
   "execution_count": 1,
   "metadata": {},
   "outputs": [
    {
     "name": "stdout",
     "output_type": "stream",
     "text": [
      "README.md               congresspeople_id.txt  hein_daily_qa.txt\r\n",
      "\u001b[0m\u001b[01;32mcnt_speaker_id.sh\u001b[0m*      ethicity_aapia.txt     nltk.ipynb\r\n",
      "cnt_speaker_id.txt      ethicity_black.txt     speakermap_qa.ipynb\r\n",
      "collecting_demo.ipynb   ethicity_hispanic.txt  \u001b[01;32mspeakermap_qa.py\u001b[0m*\r\n",
      "congresspeople_age.txt  \u001b[01;32mhein_daily_qa.sh\u001b[0m*      speakermap_qa.txt\r\n"
     ]
    }
   ],
   "source": [
    "ls"
   ]
  },
  {
   "cell_type": "code",
   "execution_count": 3,
   "metadata": {},
   "outputs": [
    {
     "name": "stdout",
     "output_type": "stream",
     "text": [
      "097_SpeakerMap.txt     byspeaker_2gram_097.txt  speeches_097.txt\r\n",
      "byparty_2gram_097.txt  descr_097.txt\r\n"
     ]
    }
   ],
   "source": [
    "ls ../sample/hein-daily"
   ]
  },
  {
   "cell_type": "code",
   "execution_count": 30,
   "metadata": {},
   "outputs": [
    {
     "name": "stdout",
     "output_type": "stream",
     "text": [
      "speakerid|speech_id|lastname|firstname|chamber|state|gender|party|district|nonvoting\r\n",
      "97105301|970000005|PERCY|CHARLES|S|IL|M|R||voting\r\n",
      "97105071|970000006|HUDDLESTON|WALTER|S|KY|M|D||voting\r\n"
     ]
    }
   ],
   "source": [
    "!head -3 ../sample/hein-daily/097_SpeakerMap.txt"
   ]
  },
  {
   "cell_type": "code",
   "execution_count": 33,
   "metadata": {},
   "outputs": [],
   "source": [
    "filepath = \"../sample/hein-daily/097_SpeakerMap.txt\""
   ]
  },
  {
   "cell_type": "markdown",
   "metadata": {},
   "source": [
    "### Check the structure of a sample SpeakerMap file"
   ]
  },
  {
   "cell_type": "code",
   "execution_count": 11,
   "metadata": {},
   "outputs": [],
   "source": [
    "with open(filepath) as f:\n",
    "    cnt = 0\n",
    "    speakermap = []\n",
    "    for line in f:\n",
    "        line = line.strip().split(\"|\")\n",
    "        if cnt == 0:\n",
    "            colnames = line\n",
    "        else:\n",
    "            speakermap.append(line)\n",
    "        cnt += 1\n",
    "#         if cnt > 10:\n",
    "#             break"
   ]
  },
  {
   "cell_type": "code",
   "execution_count": 12,
   "metadata": {},
   "outputs": [
    {
     "data": {
      "text/plain": [
       "(202054, 10)"
      ]
     },
     "execution_count": 12,
     "metadata": {},
     "output_type": "execute_result"
    }
   ],
   "source": [
    "speakermap = pd.DataFrame(speakermap, columns=colnames)\n",
    "speakermap.shape"
   ]
  },
  {
   "cell_type": "code",
   "execution_count": 13,
   "metadata": {},
   "outputs": [],
   "source": [
    "speakermap['fullname'] = speakermap.lastname.str.cat(speakermap.firstname, sep = ', ')"
   ]
  },
  {
   "cell_type": "code",
   "execution_count": 14,
   "metadata": {},
   "outputs": [
    {
     "data": {
      "text/html": [
       "<div>\n",
       "<style scoped>\n",
       "    .dataframe tbody tr th:only-of-type {\n",
       "        vertical-align: middle;\n",
       "    }\n",
       "\n",
       "    .dataframe tbody tr th {\n",
       "        vertical-align: top;\n",
       "    }\n",
       "\n",
       "    .dataframe thead th {\n",
       "        text-align: right;\n",
       "    }\n",
       "</style>\n",
       "<table border=\"1\" class=\"dataframe\">\n",
       "  <thead>\n",
       "    <tr style=\"text-align: right;\">\n",
       "      <th></th>\n",
       "      <th>speakerid</th>\n",
       "      <th>speech_id</th>\n",
       "      <th>lastname</th>\n",
       "      <th>firstname</th>\n",
       "      <th>chamber</th>\n",
       "      <th>state</th>\n",
       "      <th>gender</th>\n",
       "      <th>party</th>\n",
       "      <th>district</th>\n",
       "      <th>nonvoting</th>\n",
       "      <th>fullname</th>\n",
       "    </tr>\n",
       "  </thead>\n",
       "  <tbody>\n",
       "    <tr>\n",
       "      <th>0</th>\n",
       "      <td>97105301</td>\n",
       "      <td>970000005</td>\n",
       "      <td>PERCY</td>\n",
       "      <td>CHARLES</td>\n",
       "      <td>S</td>\n",
       "      <td>IL</td>\n",
       "      <td>M</td>\n",
       "      <td>R</td>\n",
       "      <td></td>\n",
       "      <td>voting</td>\n",
       "      <td>PERCY, CHARLES</td>\n",
       "    </tr>\n",
       "    <tr>\n",
       "      <th>1</th>\n",
       "      <td>97105071</td>\n",
       "      <td>970000006</td>\n",
       "      <td>HUDDLESTON</td>\n",
       "      <td>WALTER</td>\n",
       "      <td>S</td>\n",
       "      <td>KY</td>\n",
       "      <td>M</td>\n",
       "      <td>D</td>\n",
       "      <td></td>\n",
       "      <td>voting</td>\n",
       "      <td>HUDDLESTON, WALTER</td>\n",
       "    </tr>\n",
       "    <tr>\n",
       "      <th>2</th>\n",
       "      <td>97106761</td>\n",
       "      <td>970000007</td>\n",
       "      <td>JACKSON</td>\n",
       "      <td>HENRY</td>\n",
       "      <td>S</td>\n",
       "      <td>WA</td>\n",
       "      <td>M</td>\n",
       "      <td>D</td>\n",
       "      <td></td>\n",
       "      <td>voting</td>\n",
       "      <td>JACKSON, HENRY</td>\n",
       "    </tr>\n",
       "    <tr>\n",
       "      <th>3</th>\n",
       "      <td>97106981</td>\n",
       "      <td>970000008</td>\n",
       "      <td>STAFFORD</td>\n",
       "      <td>ROBERT</td>\n",
       "      <td>S</td>\n",
       "      <td>VT</td>\n",
       "      <td>M</td>\n",
       "      <td>R</td>\n",
       "      <td></td>\n",
       "      <td>voting</td>\n",
       "      <td>STAFFORD, ROBERT</td>\n",
       "    </tr>\n",
       "    <tr>\n",
       "      <th>4</th>\n",
       "      <td>97104811</td>\n",
       "      <td>970000010</td>\n",
       "      <td>BAKER</td>\n",
       "      <td>HOWARD</td>\n",
       "      <td>S</td>\n",
       "      <td>TN</td>\n",
       "      <td>M</td>\n",
       "      <td>R</td>\n",
       "      <td></td>\n",
       "      <td>voting</td>\n",
       "      <td>BAKER, HOWARD</td>\n",
       "    </tr>\n",
       "  </tbody>\n",
       "</table>\n",
       "</div>"
      ],
      "text/plain": [
       "  speakerid  speech_id    lastname firstname chamber state gender party  \\\n",
       "0  97105301  970000005       PERCY   CHARLES       S    IL      M     R   \n",
       "1  97105071  970000006  HUDDLESTON    WALTER       S    KY      M     D   \n",
       "2  97106761  970000007     JACKSON     HENRY       S    WA      M     D   \n",
       "3  97106981  970000008    STAFFORD    ROBERT       S    VT      M     R   \n",
       "4  97104811  970000010       BAKER    HOWARD       S    TN      M     R   \n",
       "\n",
       "  district nonvoting            fullname  \n",
       "0             voting      PERCY, CHARLES  \n",
       "1             voting  HUDDLESTON, WALTER  \n",
       "2             voting      JACKSON, HENRY  \n",
       "3             voting    STAFFORD, ROBERT  \n",
       "4             voting       BAKER, HOWARD  "
      ]
     },
     "execution_count": 14,
     "metadata": {},
     "output_type": "execute_result"
    }
   ],
   "source": [
    "speakermap.head()"
   ]
  },
  {
   "cell_type": "markdown",
   "metadata": {},
   "source": [
    "### Checking if there are multiple congresspeople with the same name"
   ]
  },
  {
   "cell_type": "code",
   "execution_count": 15,
   "metadata": {},
   "outputs": [
    {
     "data": {
      "text/plain": [
       "545"
      ]
     },
     "execution_count": 15,
     "metadata": {},
     "output_type": "execute_result"
    }
   ],
   "source": [
    "speakermap['speakerid'].nunique()"
   ]
  },
  {
   "cell_type": "code",
   "execution_count": 16,
   "metadata": {},
   "outputs": [
    {
     "data": {
      "text/plain": [
       "541"
      ]
     },
     "execution_count": 16,
     "metadata": {},
     "output_type": "execute_result"
    }
   ],
   "source": [
    "speakermap['fullname'].nunique()"
   ]
  },
  {
   "cell_type": "code",
   "execution_count": 28,
   "metadata": {},
   "outputs": [
    {
     "data": {
      "text/plain": [
       "(545, 4)"
      ]
     },
     "execution_count": 28,
     "metadata": {},
     "output_type": "execute_result"
    }
   ],
   "source": [
    "uniques = speakermap[['fullname','speakerid','chamber','state']]\\\n",
    "                .groupby(['speakerid'])\\\n",
    "                .first()\\\n",
    "                .reset_index()\n",
    "uniques.shape"
   ]
  },
  {
   "cell_type": "code",
   "execution_count": 29,
   "metadata": {},
   "outputs": [
    {
     "data": {
      "text/html": [
       "<div>\n",
       "<style scoped>\n",
       "    .dataframe tbody tr th:only-of-type {\n",
       "        vertical-align: middle;\n",
       "    }\n",
       "\n",
       "    .dataframe tbody tr th {\n",
       "        vertical-align: top;\n",
       "    }\n",
       "\n",
       "    .dataframe thead th {\n",
       "        text-align: right;\n",
       "    }\n",
       "</style>\n",
       "<table border=\"1\" class=\"dataframe\">\n",
       "  <thead>\n",
       "    <tr style=\"text-align: right;\">\n",
       "      <th></th>\n",
       "      <th>speakerid</th>\n",
       "      <th>fullname</th>\n",
       "      <th>chamber</th>\n",
       "      <th>state</th>\n",
       "    </tr>\n",
       "  </thead>\n",
       "  <tbody>\n",
       "    <tr>\n",
       "      <th>284</th>\n",
       "      <td>97108800</td>\n",
       "      <td>BROWN, GEORGE</td>\n",
       "      <td>H</td>\n",
       "      <td>CO</td>\n",
       "    </tr>\n",
       "    <tr>\n",
       "      <th>442</th>\n",
       "      <td>97112310</td>\n",
       "      <td>BROWN, GEORGE</td>\n",
       "      <td>H</td>\n",
       "      <td>CA</td>\n",
       "    </tr>\n",
       "    <tr>\n",
       "      <th>118</th>\n",
       "      <td>97106650</td>\n",
       "      <td>EDWARDS, WILLIAM</td>\n",
       "      <td>H</td>\n",
       "      <td>AL</td>\n",
       "    </tr>\n",
       "    <tr>\n",
       "      <th>368</th>\n",
       "      <td>97110170</td>\n",
       "      <td>EDWARDS, WILLIAM</td>\n",
       "      <td>H</td>\n",
       "      <td>CA</td>\n",
       "    </tr>\n",
       "    <tr>\n",
       "      <th>54</th>\n",
       "      <td>97105980</td>\n",
       "      <td>EVANS, THOMAS</td>\n",
       "      <td>H</td>\n",
       "      <td>DE</td>\n",
       "    </tr>\n",
       "    <tr>\n",
       "      <th>166</th>\n",
       "      <td>97107200</td>\n",
       "      <td>EVANS, THOMAS</td>\n",
       "      <td>H</td>\n",
       "      <td>IA</td>\n",
       "    </tr>\n",
       "    <tr>\n",
       "      <th>61</th>\n",
       "      <td>97106051</td>\n",
       "      <td>GOLDWATER, BARRY</td>\n",
       "      <td>S</td>\n",
       "      <td>AZ</td>\n",
       "    </tr>\n",
       "    <tr>\n",
       "      <th>62</th>\n",
       "      <td>97106060</td>\n",
       "      <td>GOLDWATER, BARRY</td>\n",
       "      <td>H</td>\n",
       "      <td>CA</td>\n",
       "    </tr>\n",
       "  </tbody>\n",
       "</table>\n",
       "</div>"
      ],
      "text/plain": [
       "    speakerid          fullname chamber state\n",
       "284  97108800     BROWN, GEORGE       H    CO\n",
       "442  97112310     BROWN, GEORGE       H    CA\n",
       "118  97106650  EDWARDS, WILLIAM       H    AL\n",
       "368  97110170  EDWARDS, WILLIAM       H    CA\n",
       "54   97105980     EVANS, THOMAS       H    DE\n",
       "166  97107200     EVANS, THOMAS       H    IA\n",
       "61   97106051  GOLDWATER, BARRY       S    AZ\n",
       "62   97106060  GOLDWATER, BARRY       H    CA"
      ]
     },
     "execution_count": 29,
     "metadata": {},
     "output_type": "execute_result"
    }
   ],
   "source": [
    "uniques[uniques.fullname.duplicated(keep=False)].sort_values(by='fullname')"
   ]
  },
  {
   "cell_type": "code",
   "execution_count": 49,
   "metadata": {},
   "outputs": [],
   "source": [
    "with open(filepath) as f:\n",
    "    speakermap = defaultdict(list)\n",
    "    for line in f:\n",
    "        line = line.strip().split(\"|\")\n",
    "        if line[0] != 'speakerid':\n",
    "            fullname = line[2]+', '+line[3]\n",
    "            payload = line[5]\n",
    "            full_key = fullname+\"\\t\"+payload\n",
    "            if len(line[0])==8:\n",
    "                congress = line[0][:2]\n",
    "            else:\n",
    "                congress = line[0][:3]\n",
    "            if len(speakermap[full_key]):\n",
    "                if congress not in speakermap[full_key][0]:\n",
    "                    speakermap[full_key][0].append(congress)\n",
    "                    speakermap[full_key][1].append(line[4:8])\n",
    "            else:\n",
    "                speakermap[full_key] = [[congress]]\n",
    "                speakermap[full_key].append([line[4:8]])"
   ]
  },
  {
   "cell_type": "code",
   "execution_count": 50,
   "metadata": {},
   "outputs": [
    {
     "data": {
      "text/plain": [
       "545"
      ]
     },
     "execution_count": 50,
     "metadata": {},
     "output_type": "execute_result"
    }
   ],
   "source": [
    "len(speakermap.keys())"
   ]
  },
  {
   "cell_type": "code",
   "execution_count": 51,
   "metadata": {},
   "outputs": [
    {
     "data": {
      "text/plain": [
       "['PEYSER, PETER\\tNY',\n",
       " 'ATKINSON, EUGENE\\tPA',\n",
       " 'DECONCINI, DENNIS\\tAZ',\n",
       " 'LOEFFLER, THOMAS\\tTX',\n",
       " 'SPENCE, FLOYD\\tSC',\n",
       " 'ROGERS, HAROLD\\tKY',\n",
       " 'ECKART, DENNIS\\tOH',\n",
       " 'MAVROULES, NICHOLAS\\tMA',\n",
       " 'STOKES, LOUIS\\tOH',\n",
       " 'PANETTA, LEON\\tCA']"
      ]
     },
     "execution_count": 51,
     "metadata": {},
     "output_type": "execute_result"
    }
   ],
   "source": [
    "list(speakermap.keys())[:10]"
   ]
  },
  {
   "cell_type": "markdown",
   "metadata": {},
   "source": [
    "### Getting full map of congresspeople"
   ]
  },
  {
   "cell_type": "code",
   "execution_count": 15,
   "metadata": {},
   "outputs": [],
   "source": [
    "#!pip install -U gspread oauth2client df2gspread"
   ]
  },
  {
   "cell_type": "code",
   "execution_count": 1,
   "metadata": {},
   "outputs": [
    {
     "name": "stdout",
     "output_type": "stream",
     "text": [
      "/tf/notebooks/data/QA\r\n"
     ]
    }
   ],
   "source": [
    "!pwd"
   ]
  },
  {
   "cell_type": "code",
   "execution_count": 5,
   "metadata": {},
   "outputs": [
    {
     "name": "stdout",
     "output_type": "stream",
     "text": [
      "README.md               congresspeople_id.txt  hein_daily_qa.txt\r\n",
      "\u001b[0m\u001b[01;34m__pycache__\u001b[0m/            ethicity_aapia.txt     nltk.ipynb\r\n",
      "\u001b[01;32mcnt_speaker_id.sh\u001b[0m*      ethicity_black.txt     speakermap_qa.ipynb\r\n",
      "cnt_speaker_id.txt      ethicity_hispanic.txt  \u001b[01;32mspeakermap_qa.py\u001b[0m*\r\n",
      "collecting_demo.ipynb   \u001b[01;36mgs_connect.py\u001b[0m@         speakermap_qa.txt\r\n",
      "congresspeople_age.txt  \u001b[01;32mhein_daily_qa.sh\u001b[0m*\r\n"
     ]
    }
   ],
   "source": [
    "ls"
   ]
  },
  {
   "cell_type": "markdown",
   "metadata": {},
   "source": [
    "### Reading in the demo information"
   ]
  },
  {
   "cell_type": "code",
   "execution_count": 1,
   "metadata": {},
   "outputs": [],
   "source": [
    "# make sure to create a symbolic link to this file with this command\n",
    "# from current directory\n",
    "# ln -s ../../environment/gs_connect.py gs_connect.py\n",
    "from gs_connect import get_from_gs"
   ]
  },
  {
   "cell_type": "code",
   "execution_count": 2,
   "metadata": {},
   "outputs": [],
   "source": [
    "demo_df = get_from_gs(\"Congresspeople\")"
   ]
  },
  {
   "cell_type": "code",
   "execution_count": 3,
   "metadata": {},
   "outputs": [
    {
     "data": {
      "text/plain": [
       "(1800, 14)"
      ]
     },
     "execution_count": 3,
     "metadata": {},
     "output_type": "execute_result"
    }
   ],
   "source": [
    "demo_df.shape"
   ]
  },
  {
   "cell_type": "code",
   "execution_count": 4,
   "metadata": {},
   "outputs": [
    {
     "data": {
      "text/html": [
       "<div>\n",
       "<style scoped>\n",
       "    .dataframe tbody tr th:only-of-type {\n",
       "        vertical-align: middle;\n",
       "    }\n",
       "\n",
       "    .dataframe tbody tr th {\n",
       "        vertical-align: top;\n",
       "    }\n",
       "\n",
       "    .dataframe thead th {\n",
       "        text-align: right;\n",
       "    }\n",
       "</style>\n",
       "<table border=\"1\" class=\"dataframe\">\n",
       "  <thead>\n",
       "    <tr style=\"text-align: right;\">\n",
       "      <th></th>\n",
       "      <th>Full Name</th>\n",
       "      <th>Last Name</th>\n",
       "      <th>First Name</th>\n",
       "      <th>First Last</th>\n",
       "      <th>List of Congresses</th>\n",
       "      <th>Chamber</th>\n",
       "      <th>State</th>\n",
       "      <th>Gender</th>\n",
       "      <th>Party</th>\n",
       "      <th>Ethnicity</th>\n",
       "      <th>BirthYear</th>\n",
       "      <th>Congress Name</th>\n",
       "      <th>Alternative name (Wikipedia)</th>\n",
       "      <th>Congress ID</th>\n",
       "    </tr>\n",
       "  </thead>\n",
       "  <tbody>\n",
       "    <tr>\n",
       "      <th>0</th>\n",
       "      <td>ABDNOR, JAMES</td>\n",
       "      <td>ABDNOR</td>\n",
       "      <td>JAMES</td>\n",
       "      <td>JAMES ABDNOR</td>\n",
       "      <td>97 98 99</td>\n",
       "      <td>S</td>\n",
       "      <td>SD</td>\n",
       "      <td>M</td>\n",
       "      <td>R</td>\n",
       "      <td>ME</td>\n",
       "      <td>1923</td>\n",
       "      <td>ABDNOR, JAMES</td>\n",
       "      <td>JAMES ABDNOR</td>\n",
       "      <td>A000009</td>\n",
       "    </tr>\n",
       "    <tr>\n",
       "      <th>1</th>\n",
       "      <td>ABERCROMBIE, NEIL</td>\n",
       "      <td>ABERCROMBIE</td>\n",
       "      <td>NEIL</td>\n",
       "      <td>NEIL ABERCROMBIE</td>\n",
       "      <td>99 102 103 104 105 106 107 108 109 110 111</td>\n",
       "      <td>H</td>\n",
       "      <td>HI</td>\n",
       "      <td>M</td>\n",
       "      <td>D</td>\n",
       "      <td>W</td>\n",
       "      <td>1938</td>\n",
       "      <td>ABERCROMBIE, NEIL</td>\n",
       "      <td>NEIL ABERCROMBIE</td>\n",
       "      <td>A000014</td>\n",
       "    </tr>\n",
       "    <tr>\n",
       "      <th>2</th>\n",
       "      <td>ABRAHAM, RALPH</td>\n",
       "      <td>ABRAHAM</td>\n",
       "      <td>RALPH</td>\n",
       "      <td>RALPH ABRAHAM</td>\n",
       "      <td>114</td>\n",
       "      <td>H</td>\n",
       "      <td>LA</td>\n",
       "      <td>M</td>\n",
       "      <td>R</td>\n",
       "      <td>W</td>\n",
       "      <td>1954</td>\n",
       "      <td>ABRAHAM, RALPH LEE</td>\n",
       "      <td>RALPH ABRAHAM</td>\n",
       "      <td>A000374</td>\n",
       "    </tr>\n",
       "    <tr>\n",
       "      <th>3</th>\n",
       "      <td>ABRAHAM, SPENCER</td>\n",
       "      <td>ABRAHAM</td>\n",
       "      <td>SPENCER</td>\n",
       "      <td>SPENCER ABRAHAM</td>\n",
       "      <td>104 105 106</td>\n",
       "      <td>S</td>\n",
       "      <td>MI</td>\n",
       "      <td>M</td>\n",
       "      <td>R</td>\n",
       "      <td>ME</td>\n",
       "      <td>1952</td>\n",
       "      <td>ABRAHAM, SPENCER</td>\n",
       "      <td>SPENCER ABRAHAM</td>\n",
       "      <td>A000355</td>\n",
       "    </tr>\n",
       "    <tr>\n",
       "      <th>4</th>\n",
       "      <td>ACEVEDO-VILA, ANIBAL</td>\n",
       "      <td>ACEVEDO-VILA</td>\n",
       "      <td>ANIBAL</td>\n",
       "      <td>ANIBAL ACEVEDO-VILA</td>\n",
       "      <td>107 108</td>\n",
       "      <td>H</td>\n",
       "      <td>PR</td>\n",
       "      <td>M</td>\n",
       "      <td>A</td>\n",
       "      <td>H</td>\n",
       "      <td>1962</td>\n",
       "      <td>ACEVEDO-VILA, ANIBAL</td>\n",
       "      <td>ANÍBAL ACEVEDO VILÁ</td>\n",
       "      <td>A000359</td>\n",
       "    </tr>\n",
       "  </tbody>\n",
       "</table>\n",
       "</div>"
      ],
      "text/plain": [
       "              Full Name     Last Name First Name           First Last  \\\n",
       "0         ABDNOR, JAMES        ABDNOR      JAMES         JAMES ABDNOR   \n",
       "1     ABERCROMBIE, NEIL   ABERCROMBIE       NEIL     NEIL ABERCROMBIE   \n",
       "2        ABRAHAM, RALPH       ABRAHAM      RALPH        RALPH ABRAHAM   \n",
       "3      ABRAHAM, SPENCER       ABRAHAM    SPENCER      SPENCER ABRAHAM   \n",
       "4  ACEVEDO-VILA, ANIBAL  ACEVEDO-VILA     ANIBAL  ANIBAL ACEVEDO-VILA   \n",
       "\n",
       "                           List of Congresses Chamber State Gender Party  \\\n",
       "0                                    97 98 99       S    SD      M     R   \n",
       "1  99 102 103 104 105 106 107 108 109 110 111       H    HI      M     D   \n",
       "2                                         114       H    LA      M     R   \n",
       "3                                 104 105 106       S    MI      M     R   \n",
       "4                                     107 108       H    PR      M     A   \n",
       "\n",
       "  Ethnicity BirthYear         Congress Name Alternative name (Wikipedia)  \\\n",
       "0        ME      1923         ABDNOR, JAMES                 JAMES ABDNOR   \n",
       "1         W      1938     ABERCROMBIE, NEIL             NEIL ABERCROMBIE   \n",
       "2         W      1954    ABRAHAM, RALPH LEE                RALPH ABRAHAM   \n",
       "3        ME      1952      ABRAHAM, SPENCER              SPENCER ABRAHAM   \n",
       "4         H      1962  ACEVEDO-VILA, ANIBAL          ANÍBAL ACEVEDO VILÁ   \n",
       "\n",
       "  Congress ID  \n",
       "0     A000009  \n",
       "1     A000014  \n",
       "2     A000374  \n",
       "3     A000355  \n",
       "4     A000359  "
      ]
     },
     "execution_count": 4,
     "metadata": {},
     "output_type": "execute_result"
    }
   ],
   "source": [
    "demo_df.head()"
   ]
  },
  {
   "cell_type": "code",
   "execution_count": 58,
   "metadata": {},
   "outputs": [
    {
     "data": {
      "text/plain": [
       "1781"
      ]
     },
     "execution_count": 58,
     "metadata": {},
     "output_type": "execute_result"
    }
   ],
   "source": [
    "demo_df['Full Name'].nunique()"
   ]
  },
  {
   "cell_type": "markdown",
   "metadata": {},
   "source": [
    "### Fixing names for father/son"
   ]
  },
  {
   "cell_type": "code",
   "execution_count": 5,
   "metadata": {},
   "outputs": [],
   "source": [
    "errors = ['FORD, HAROLD','KENNEDY, JOSEPH','JONES, WALTER','HUNTER, DUNCAN',\n",
    "         'PAYNE, DONALD','DUNCAN, JOHN','MACK, CONNIE','RHODES, JOHN','PERKINS, CARL']\n",
    "fixes = ['FORD, HAROLD E., JR.','KENNEDY, JOSEPH P., III','JONES, WALTER B., JR.','HUNTER, DUNCAN D.',\n",
    "         'PAYNE, DONALD M., JR.','DUNCAN, JOHN J., JR.','MACK, CONNIE, III','RHODES, JOHN J., III','PERKINS, CARL C.']"
   ]
  },
  {
   "cell_type": "code",
   "execution_count": 8,
   "metadata": {},
   "outputs": [],
   "source": [
    "demo_df['BirthYear'] = pd.to_numeric(demo_df['BirthYear'])"
   ]
  },
  {
   "cell_type": "code",
   "execution_count": 9,
   "metadata": {},
   "outputs": [
    {
     "name": "stderr",
     "output_type": "stream",
     "text": [
      "/usr/local/lib/python3.5/dist-packages/pandas/core/internals/blocks.py:920: FutureWarning: Using a non-tuple sequence for multidimensional indexing is deprecated; use `arr[tuple(seq)]` instead of `arr[seq]`. In the future this will be interpreted as an array index, `arr[np.array(seq)]`, which will result either in an error or a different result.\n",
      "  values[indexer] = value\n"
     ]
    }
   ],
   "source": [
    "demo_df.iloc[[(demo_df['Full Name']=='FORD, HAROLD') & (demo_df['BirthYear']==1970)],[demo_df.columns.get_loc('Full Name')]]='FORD, HAROLD E., JR.'\n",
    "demo_df.iloc[[(demo_df['Full Name']=='KENNEDY, JOSEPH') & (demo_df['BirthYear']==1980)],[demo_df.columns.get_loc('Full Name')]]='KENNEDY, JOSEPH P., III'\n",
    "demo_df.iloc[[(demo_df['Full Name']=='JONES, WALTER') & (demo_df['BirthYear']==1943)],[demo_df.columns.get_loc('Full Name')]]='JONES, WALTER B., JR.'\n",
    "demo_df.iloc[[(demo_df['Full Name']=='HUNTER, DUNCAN') & (demo_df['BirthYear']==1976)],[demo_df.columns.get_loc('Full Name')]]='HUNTER, DUNCAN D.'\n",
    "demo_df.iloc[[(demo_df['Full Name']=='PAYNE, DONALD') & (demo_df['BirthYear']==1958)],[demo_df.columns.get_loc('Full Name')]]='PAYNE, DONALD M., JR.'\n",
    "demo_df.iloc[[(demo_df['Full Name']=='DUNCAN, JOHN') & (demo_df['BirthYear']==1947)],[demo_df.columns.get_loc('Full Name')]]='DUNCAN, JOHN J., JR.'\n",
    "demo_df.iloc[[(demo_df['Full Name']=='MACK, CONNIE') & (demo_df['BirthYear']==1940)],[demo_df.columns.get_loc('Full Name')]]='MACK, CONNIE, III'\n",
    "demo_df.iloc[[(demo_df['Full Name']=='RHODES, JOHN') & (demo_df['BirthYear']==1943)],[demo_df.columns.get_loc('Full Name')]]='RHODES, JOHN J., III'\n",
    "demo_df.iloc[[(demo_df['Full Name']=='PERKINS, CARL') & (demo_df['BirthYear']==1954)],[demo_df.columns.get_loc('Full Name')]]='PERKINS, CARL C.'"
   ]
  },
  {
   "cell_type": "code",
   "execution_count": 10,
   "metadata": {},
   "outputs": [
    {
     "data": {
      "text/plain": [
       "1790"
      ]
     },
     "execution_count": 10,
     "metadata": {},
     "output_type": "execute_result"
    }
   ],
   "source": [
    "demo_df['Full Name'].nunique()"
   ]
  },
  {
   "cell_type": "code",
   "execution_count": 11,
   "metadata": {},
   "outputs": [
    {
     "name": "stdout",
     "output_type": "stream",
     "text": [
      "FORD, HAROLD ['FORD, HAROLD']\n",
      "KENNEDY, JOSEPH ['KENNEDY, JOSEPH']\n",
      "JONES, WALTER ['JONES, WALTER']\n",
      "HUNTER, DUNCAN ['HUNTER, DUNCAN']\n",
      "PAYNE, DONALD ['PAYNE, DONALD']\n",
      "DUNCAN, JOHN ['DUNCAN, JOHN']\n",
      "MACK, CONNIE ['MACK, CONNIE']\n",
      "RHODES, JOHN ['RHODES, JOHN']\n",
      "PERKINS, CARL ['PERKINS, CARL']\n"
     ]
    }
   ],
   "source": [
    "for e in errors:\n",
    "    print(e, demo_df[demo_df['Full Name']==e]['Full Name'].values)"
   ]
  },
  {
   "cell_type": "code",
   "execution_count": 12,
   "metadata": {},
   "outputs": [
    {
     "name": "stdout",
     "output_type": "stream",
     "text": [
      "FORD, HAROLD E., JR. ['FORD, HAROLD E., JR.']\n",
      "KENNEDY, JOSEPH P., III ['KENNEDY, JOSEPH P., III']\n",
      "JONES, WALTER B., JR. ['JONES, WALTER B., JR.']\n",
      "HUNTER, DUNCAN D. ['HUNTER, DUNCAN D.']\n",
      "PAYNE, DONALD M., JR. ['PAYNE, DONALD M., JR.']\n",
      "DUNCAN, JOHN J., JR. ['DUNCAN, JOHN J., JR.']\n",
      "MACK, CONNIE, III ['MACK, CONNIE, III']\n",
      "RHODES, JOHN J., III ['RHODES, JOHN J., III']\n",
      "PERKINS, CARL C. ['PERKINS, CARL C.']\n"
     ]
    }
   ],
   "source": [
    "for f in fixes:\n",
    "    print(f, demo_df[demo_df['Full Name']==f]['Full Name'].values)"
   ]
  },
  {
   "cell_type": "code",
   "execution_count": 13,
   "metadata": {},
   "outputs": [],
   "source": [
    "demo_df.to_csv('./congresspeople_demo.txt', sep='|', index=False)"
   ]
  },
  {
   "cell_type": "code",
   "execution_count": null,
   "metadata": {},
   "outputs": [],
   "source": []
  }
 ],
 "metadata": {
  "kernelspec": {
   "display_name": "Python 3",
   "language": "python",
   "name": "python3"
  },
  "language_info": {
   "codemirror_mode": {
    "name": "ipython",
    "version": 3
   },
   "file_extension": ".py",
   "mimetype": "text/x-python",
   "name": "python",
   "nbconvert_exporter": "python",
   "pygments_lexer": "ipython3",
   "version": "3.5.2"
  }
 },
 "nbformat": 4,
 "nbformat_minor": 2
}
