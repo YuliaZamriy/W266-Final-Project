{
 "cells": [
  {
   "cell_type": "code",
   "execution_count": 9,
   "metadata": {},
   "outputs": [],
   "source": [
    "import pandas as pd\n",
    "from collections import defaultdict"
   ]
  },
  {
   "cell_type": "markdown",
   "metadata": {},
   "source": [
    "### Check directory structure"
   ]
  },
  {
   "cell_type": "code",
   "execution_count": 1,
   "metadata": {},
   "outputs": [
    {
     "name": "stdout",
     "output_type": "stream",
     "text": [
      "README.md               congresspeople_id.txt  hein_daily_qa.txt\r\n",
      "\u001b[0m\u001b[01;32mcnt_speaker_id.sh\u001b[0m*      ethicity_aapia.txt     nltk.ipynb\r\n",
      "cnt_speaker_id.txt      ethicity_black.txt     speakermap_qa.ipynb\r\n",
      "collecting_demo.ipynb   ethicity_hispanic.txt  \u001b[01;32mspeakermap_qa.py\u001b[0m*\r\n",
      "congresspeople_age.txt  \u001b[01;32mhein_daily_qa.sh\u001b[0m*      speakermap_qa.txt\r\n"
     ]
    }
   ],
   "source": [
    "ls"
   ]
  },
  {
   "cell_type": "code",
   "execution_count": 3,
   "metadata": {},
   "outputs": [
    {
     "name": "stdout",
     "output_type": "stream",
     "text": [
      "097_SpeakerMap.txt     byspeaker_2gram_097.txt  speeches_097.txt\r\n",
      "byparty_2gram_097.txt  descr_097.txt\r\n"
     ]
    }
   ],
   "source": [
    "ls ../sample/hein-daily"
   ]
  },
  {
   "cell_type": "code",
   "execution_count": 30,
   "metadata": {},
   "outputs": [
    {
     "name": "stdout",
     "output_type": "stream",
     "text": [
      "speakerid|speech_id|lastname|firstname|chamber|state|gender|party|district|nonvoting\r\n",
      "97105301|970000005|PERCY|CHARLES|S|IL|M|R||voting\r\n",
      "97105071|970000006|HUDDLESTON|WALTER|S|KY|M|D||voting\r\n"
     ]
    }
   ],
   "source": [
    "!head -3 ../sample/hein-daily/097_SpeakerMap.txt"
   ]
  },
  {
   "cell_type": "code",
   "execution_count": 33,
   "metadata": {},
   "outputs": [],
   "source": [
    "filepath = \"../sample/hein-daily/097_SpeakerMap.txt\""
   ]
  },
  {
   "cell_type": "markdown",
   "metadata": {},
   "source": [
    "### Check the structure of a sample SpeakerMap file"
   ]
  },
  {
   "cell_type": "code",
   "execution_count": 11,
   "metadata": {},
   "outputs": [],
   "source": [
    "with open(filepath) as f:\n",
    "    cnt = 0\n",
    "    speakermap = []\n",
    "    for line in f:\n",
    "        line = line.strip().split(\"|\")\n",
    "        if cnt == 0:\n",
    "            colnames = line\n",
    "        else:\n",
    "            speakermap.append(line)\n",
    "        cnt += 1\n",
    "#         if cnt > 10:\n",
    "#             break"
   ]
  },
  {
   "cell_type": "code",
   "execution_count": 12,
   "metadata": {},
   "outputs": [
    {
     "data": {
      "text/plain": [
       "(202054, 10)"
      ]
     },
     "execution_count": 12,
     "metadata": {},
     "output_type": "execute_result"
    }
   ],
   "source": [
    "speakermap = pd.DataFrame(speakermap, columns=colnames)\n",
    "speakermap.shape"
   ]
  },
  {
   "cell_type": "code",
   "execution_count": 13,
   "metadata": {},
   "outputs": [],
   "source": [
    "speakermap['fullname'] = speakermap.lastname.str.cat(speakermap.firstname, sep = ', ')"
   ]
  },
  {
   "cell_type": "code",
   "execution_count": 14,
   "metadata": {},
   "outputs": [
    {
     "data": {
      "text/html": [
       "<div>\n",
       "<style scoped>\n",
       "    .dataframe tbody tr th:only-of-type {\n",
       "        vertical-align: middle;\n",
       "    }\n",
       "\n",
       "    .dataframe tbody tr th {\n",
       "        vertical-align: top;\n",
       "    }\n",
       "\n",
       "    .dataframe thead th {\n",
       "        text-align: right;\n",
       "    }\n",
       "</style>\n",
       "<table border=\"1\" class=\"dataframe\">\n",
       "  <thead>\n",
       "    <tr style=\"text-align: right;\">\n",
       "      <th></th>\n",
       "      <th>speakerid</th>\n",
       "      <th>speech_id</th>\n",
       "      <th>lastname</th>\n",
       "      <th>firstname</th>\n",
       "      <th>chamber</th>\n",
       "      <th>state</th>\n",
       "      <th>gender</th>\n",
       "      <th>party</th>\n",
       "      <th>district</th>\n",
       "      <th>nonvoting</th>\n",
       "      <th>fullname</th>\n",
       "    </tr>\n",
       "  </thead>\n",
       "  <tbody>\n",
       "    <tr>\n",
       "      <th>0</th>\n",
       "      <td>97105301</td>\n",
       "      <td>970000005</td>\n",
       "      <td>PERCY</td>\n",
       "      <td>CHARLES</td>\n",
       "      <td>S</td>\n",
       "      <td>IL</td>\n",
       "      <td>M</td>\n",
       "      <td>R</td>\n",
       "      <td></td>\n",
       "      <td>voting</td>\n",
       "      <td>PERCY, CHARLES</td>\n",
       "    </tr>\n",
       "    <tr>\n",
       "      <th>1</th>\n",
       "      <td>97105071</td>\n",
       "      <td>970000006</td>\n",
       "      <td>HUDDLESTON</td>\n",
       "      <td>WALTER</td>\n",
       "      <td>S</td>\n",
       "      <td>KY</td>\n",
       "      <td>M</td>\n",
       "      <td>D</td>\n",
       "      <td></td>\n",
       "      <td>voting</td>\n",
       "      <td>HUDDLESTON, WALTER</td>\n",
       "    </tr>\n",
       "    <tr>\n",
       "      <th>2</th>\n",
       "      <td>97106761</td>\n",
       "      <td>970000007</td>\n",
       "      <td>JACKSON</td>\n",
       "      <td>HENRY</td>\n",
       "      <td>S</td>\n",
       "      <td>WA</td>\n",
       "      <td>M</td>\n",
       "      <td>D</td>\n",
       "      <td></td>\n",
       "      <td>voting</td>\n",
       "      <td>JACKSON, HENRY</td>\n",
       "    </tr>\n",
       "    <tr>\n",
       "      <th>3</th>\n",
       "      <td>97106981</td>\n",
       "      <td>970000008</td>\n",
       "      <td>STAFFORD</td>\n",
       "      <td>ROBERT</td>\n",
       "      <td>S</td>\n",
       "      <td>VT</td>\n",
       "      <td>M</td>\n",
       "      <td>R</td>\n",
       "      <td></td>\n",
       "      <td>voting</td>\n",
       "      <td>STAFFORD, ROBERT</td>\n",
       "    </tr>\n",
       "    <tr>\n",
       "      <th>4</th>\n",
       "      <td>97104811</td>\n",
       "      <td>970000010</td>\n",
       "      <td>BAKER</td>\n",
       "      <td>HOWARD</td>\n",
       "      <td>S</td>\n",
       "      <td>TN</td>\n",
       "      <td>M</td>\n",
       "      <td>R</td>\n",
       "      <td></td>\n",
       "      <td>voting</td>\n",
       "      <td>BAKER, HOWARD</td>\n",
       "    </tr>\n",
       "  </tbody>\n",
       "</table>\n",
       "</div>"
      ],
      "text/plain": [
       "  speakerid  speech_id    lastname firstname chamber state gender party  \\\n",
       "0  97105301  970000005       PERCY   CHARLES       S    IL      M     R   \n",
       "1  97105071  970000006  HUDDLESTON    WALTER       S    KY      M     D   \n",
       "2  97106761  970000007     JACKSON     HENRY       S    WA      M     D   \n",
       "3  97106981  970000008    STAFFORD    ROBERT       S    VT      M     R   \n",
       "4  97104811  970000010       BAKER    HOWARD       S    TN      M     R   \n",
       "\n",
       "  district nonvoting            fullname  \n",
       "0             voting      PERCY, CHARLES  \n",
       "1             voting  HUDDLESTON, WALTER  \n",
       "2             voting      JACKSON, HENRY  \n",
       "3             voting    STAFFORD, ROBERT  \n",
       "4             voting       BAKER, HOWARD  "
      ]
     },
     "execution_count": 14,
     "metadata": {},
     "output_type": "execute_result"
    }
   ],
   "source": [
    "speakermap.head()"
   ]
  },
  {
   "cell_type": "markdown",
   "metadata": {},
   "source": [
    "### Checking if there are multiple congresspeople with the same name"
   ]
  },
  {
   "cell_type": "code",
   "execution_count": 15,
   "metadata": {},
   "outputs": [
    {
     "data": {
      "text/plain": [
       "545"
      ]
     },
     "execution_count": 15,
     "metadata": {},
     "output_type": "execute_result"
    }
   ],
   "source": [
    "speakermap['speakerid'].nunique()"
   ]
  },
  {
   "cell_type": "code",
   "execution_count": 16,
   "metadata": {},
   "outputs": [
    {
     "data": {
      "text/plain": [
       "541"
      ]
     },
     "execution_count": 16,
     "metadata": {},
     "output_type": "execute_result"
    }
   ],
   "source": [
    "speakermap['fullname'].nunique()"
   ]
  },
  {
   "cell_type": "code",
   "execution_count": 28,
   "metadata": {},
   "outputs": [
    {
     "data": {
      "text/plain": [
       "(545, 4)"
      ]
     },
     "execution_count": 28,
     "metadata": {},
     "output_type": "execute_result"
    }
   ],
   "source": [
    "uniques = speakermap[['fullname','speakerid','chamber','state']]\\\n",
    "                .groupby(['speakerid'])\\\n",
    "                .first()\\\n",
    "                .reset_index()\n",
    "uniques.shape"
   ]
  },
  {
   "cell_type": "code",
   "execution_count": 29,
   "metadata": {},
   "outputs": [
    {
     "data": {
      "text/html": [
       "<div>\n",
       "<style scoped>\n",
       "    .dataframe tbody tr th:only-of-type {\n",
       "        vertical-align: middle;\n",
       "    }\n",
       "\n",
       "    .dataframe tbody tr th {\n",
       "        vertical-align: top;\n",
       "    }\n",
       "\n",
       "    .dataframe thead th {\n",
       "        text-align: right;\n",
       "    }\n",
       "</style>\n",
       "<table border=\"1\" class=\"dataframe\">\n",
       "  <thead>\n",
       "    <tr style=\"text-align: right;\">\n",
       "      <th></th>\n",
       "      <th>speakerid</th>\n",
       "      <th>fullname</th>\n",
       "      <th>chamber</th>\n",
       "      <th>state</th>\n",
       "    </tr>\n",
       "  </thead>\n",
       "  <tbody>\n",
       "    <tr>\n",
       "      <th>284</th>\n",
       "      <td>97108800</td>\n",
       "      <td>BROWN, GEORGE</td>\n",
       "      <td>H</td>\n",
       "      <td>CO</td>\n",
       "    </tr>\n",
       "    <tr>\n",
       "      <th>442</th>\n",
       "      <td>97112310</td>\n",
       "      <td>BROWN, GEORGE</td>\n",
       "      <td>H</td>\n",
       "      <td>CA</td>\n",
       "    </tr>\n",
       "    <tr>\n",
       "      <th>118</th>\n",
       "      <td>97106650</td>\n",
       "      <td>EDWARDS, WILLIAM</td>\n",
       "      <td>H</td>\n",
       "      <td>AL</td>\n",
       "    </tr>\n",
       "    <tr>\n",
       "      <th>368</th>\n",
       "      <td>97110170</td>\n",
       "      <td>EDWARDS, WILLIAM</td>\n",
       "      <td>H</td>\n",
       "      <td>CA</td>\n",
       "    </tr>\n",
       "    <tr>\n",
       "      <th>54</th>\n",
       "      <td>97105980</td>\n",
       "      <td>EVANS, THOMAS</td>\n",
       "      <td>H</td>\n",
       "      <td>DE</td>\n",
       "    </tr>\n",
       "    <tr>\n",
       "      <th>166</th>\n",
       "      <td>97107200</td>\n",
       "      <td>EVANS, THOMAS</td>\n",
       "      <td>H</td>\n",
       "      <td>IA</td>\n",
       "    </tr>\n",
       "    <tr>\n",
       "      <th>61</th>\n",
       "      <td>97106051</td>\n",
       "      <td>GOLDWATER, BARRY</td>\n",
       "      <td>S</td>\n",
       "      <td>AZ</td>\n",
       "    </tr>\n",
       "    <tr>\n",
       "      <th>62</th>\n",
       "      <td>97106060</td>\n",
       "      <td>GOLDWATER, BARRY</td>\n",
       "      <td>H</td>\n",
       "      <td>CA</td>\n",
       "    </tr>\n",
       "  </tbody>\n",
       "</table>\n",
       "</div>"
      ],
      "text/plain": [
       "    speakerid          fullname chamber state\n",
       "284  97108800     BROWN, GEORGE       H    CO\n",
       "442  97112310     BROWN, GEORGE       H    CA\n",
       "118  97106650  EDWARDS, WILLIAM       H    AL\n",
       "368  97110170  EDWARDS, WILLIAM       H    CA\n",
       "54   97105980     EVANS, THOMAS       H    DE\n",
       "166  97107200     EVANS, THOMAS       H    IA\n",
       "61   97106051  GOLDWATER, BARRY       S    AZ\n",
       "62   97106060  GOLDWATER, BARRY       H    CA"
      ]
     },
     "execution_count": 29,
     "metadata": {},
     "output_type": "execute_result"
    }
   ],
   "source": [
    "uniques[uniques.fullname.duplicated(keep=False)].sort_values(by='fullname')"
   ]
  },
  {
   "cell_type": "code",
   "execution_count": 49,
   "metadata": {},
   "outputs": [],
   "source": [
    "with open(filepath) as f:\n",
    "    speakermap = defaultdict(list)\n",
    "    for line in f:\n",
    "        line = line.strip().split(\"|\")\n",
    "        if line[0] != 'speakerid':\n",
    "            fullname = line[2]+', '+line[3]\n",
    "            payload = line[5]\n",
    "            full_key = fullname+\"\\t\"+payload\n",
    "            if len(line[0])==8:\n",
    "                congress = line[0][:2]\n",
    "            else:\n",
    "                congress = line[0][:3]\n",
    "            if len(speakermap[full_key]):\n",
    "                if congress not in speakermap[full_key][0]:\n",
    "                    speakermap[full_key][0].append(congress)\n",
    "                    speakermap[full_key][1].append(line[4:8])\n",
    "            else:\n",
    "                speakermap[full_key] = [[congress]]\n",
    "                speakermap[full_key].append([line[4:8]])"
   ]
  },
  {
   "cell_type": "code",
   "execution_count": 50,
   "metadata": {},
   "outputs": [
    {
     "data": {
      "text/plain": [
       "545"
      ]
     },
     "execution_count": 50,
     "metadata": {},
     "output_type": "execute_result"
    }
   ],
   "source": [
    "len(speakermap.keys())"
   ]
  },
  {
   "cell_type": "code",
   "execution_count": 51,
   "metadata": {},
   "outputs": [
    {
     "data": {
      "text/plain": [
       "['PEYSER, PETER\\tNY',\n",
       " 'ATKINSON, EUGENE\\tPA',\n",
       " 'DECONCINI, DENNIS\\tAZ',\n",
       " 'LOEFFLER, THOMAS\\tTX',\n",
       " 'SPENCE, FLOYD\\tSC',\n",
       " 'ROGERS, HAROLD\\tKY',\n",
       " 'ECKART, DENNIS\\tOH',\n",
       " 'MAVROULES, NICHOLAS\\tMA',\n",
       " 'STOKES, LOUIS\\tOH',\n",
       " 'PANETTA, LEON\\tCA']"
      ]
     },
     "execution_count": 51,
     "metadata": {},
     "output_type": "execute_result"
    }
   ],
   "source": [
    "list(speakermap.keys())[:10]"
   ]
  },
  {
   "cell_type": "markdown",
   "metadata": {},
   "source": [
    "### Getting full map of congresspeople"
   ]
  },
  {
   "cell_type": "code",
   "execution_count": 2,
   "metadata": {},
   "outputs": [
    {
     "name": "stdout",
     "output_type": "stream",
     "text": [
      "Collecting gspread\n",
      "  Downloading https://files.pythonhosted.org/packages/43/f8/45bd4a1419fd65ecc02eeaceb92f9dc72aca20c32e766a18d495c68006db/gspread-3.1.0-py3-none-any.whl\n",
      "Collecting oauth2client\n",
      "\u001b[?25l  Downloading https://files.pythonhosted.org/packages/95/a9/4f25a14d23f0786b64875b91784607c2277eff25d48f915e39ff0cff505a/oauth2client-4.1.3-py2.py3-none-any.whl (98kB)\n",
      "\u001b[K    100% |████████████████████████████████| 102kB 2.2MB/s a 0:00:011\n",
      "\u001b[?25hCollecting df2gspread\n",
      "  Downloading https://files.pythonhosted.org/packages/56/c3/fc3801749129df5632deeb7b9b9ef758a0ea6a4498c207a9eb4ac36deffb/df2gspread-1.0.4.tar.gz\n",
      "Collecting requests>=2.2.1 (from gspread)\n",
      "\u001b[?25l  Downloading https://files.pythonhosted.org/packages/7d/e3/20f3d364d6c8e5d2353c72a67778eb189176f08e873c9900e10c0287b84b/requests-2.21.0-py2.py3-none-any.whl (57kB)\n",
      "\u001b[K    100% |████████████████████████████████| 61kB 4.0MB/s ta 0:00:01\n",
      "\u001b[?25hCollecting pyasn1>=0.1.7 (from oauth2client)\n",
      "\u001b[?25l  Downloading https://files.pythonhosted.org/packages/7b/7c/c9386b82a25115cccf1903441bba3cbadcfae7b678a20167347fa8ded34c/pyasn1-0.4.5-py2.py3-none-any.whl (73kB)\n",
      "\u001b[K    100% |████████████████████████████████| 81kB 5.7MB/s ta 0:00:01\n",
      "\u001b[?25hCollecting pyasn1-modules>=0.0.5 (from oauth2client)\n",
      "\u001b[?25l  Downloading https://files.pythonhosted.org/packages/da/98/8ddd9fa4d84065926832bcf2255a2b69f1d03330aa4d1c49cc7317ac888e/pyasn1_modules-0.2.4-py2.py3-none-any.whl (66kB)\n",
      "\u001b[K    100% |████████████████████████████████| 71kB 4.6MB/s ta 0:00:01\n",
      "\u001b[?25hCollecting rsa>=3.1.4 (from oauth2client)\n",
      "  Downloading https://files.pythonhosted.org/packages/02/e5/38518af393f7c214357079ce67a317307936896e961e35450b70fad2a9cf/rsa-4.0-py2.py3-none-any.whl\n",
      "Requirement already satisfied, skipping upgrade: six>=1.6.1 in /usr/local/lib/python3.5/dist-packages (from oauth2client) (1.12.0)\n",
      "Collecting httplib2>=0.9.1 (from oauth2client)\n",
      "\u001b[?25l  Downloading https://files.pythonhosted.org/packages/75/d0/f213003c9deec99fb4f46e54580b93a3b121c487d9d6d888fc12267eb2a2/httplib2-0.12.1.tar.gz (218kB)\n",
      "\u001b[K    100% |████████████████████████████████| 225kB 8.1MB/s ta 0:00:011\n",
      "\u001b[?25hCollecting argparse>=1.3.0 (from df2gspread)\n",
      "  Downloading https://files.pythonhosted.org/packages/f2/94/3af39d34be01a24a6e65433d19e107099374224905f1e0cc6bbe1fd22a2f/argparse-1.4.0-py2.py3-none-any.whl\n",
      "Collecting google-api-python-client==1.6.7 (from df2gspread)\n",
      "\u001b[?25l  Downloading https://files.pythonhosted.org/packages/eb/6c/8c1781a251beb3bc1670d6d1934da51620a049380ea7a6a821099f884b62/google_api_python_client-1.6.7-py2.py3-none-any.whl (56kB)\n",
      "\u001b[K    100% |████████████████████████████████| 61kB 7.7MB/s ta 0:00:011\n",
      "\u001b[?25hRequirement already satisfied, skipping upgrade: pandas in /usr/local/lib/python3.5/dist-packages (from df2gspread) (0.24.1)\n",
      "Collecting chardet<3.1.0,>=3.0.2 (from requests>=2.2.1->gspread)\n",
      "\u001b[?25l  Downloading https://files.pythonhosted.org/packages/bc/a9/01ffebfb562e4274b6487b4bb1ddec7ca55ec7510b22e4c51f14098443b8/chardet-3.0.4-py2.py3-none-any.whl (133kB)\n",
      "\u001b[K    100% |████████████████████████████████| 143kB 7.0MB/s ta 0:00:01\n",
      "\u001b[?25hCollecting idna<2.9,>=2.5 (from requests>=2.2.1->gspread)\n",
      "\u001b[?25l  Downloading https://files.pythonhosted.org/packages/14/2c/cd551d81dbe15200be1cf41cd03869a46fe7226e7450af7a6545bfc474c9/idna-2.8-py2.py3-none-any.whl (58kB)\n",
      "\u001b[K    100% |████████████████████████████████| 61kB 4.6MB/s ta 0:00:01\n",
      "\u001b[?25hCollecting urllib3<1.25,>=1.21.1 (from requests>=2.2.1->gspread)\n",
      "\u001b[?25l  Downloading https://files.pythonhosted.org/packages/62/00/ee1d7de624db8ba7090d1226aebefab96a2c71cd5cfa7629d6ad3f61b79e/urllib3-1.24.1-py2.py3-none-any.whl (118kB)\n",
      "\u001b[K    100% |████████████████████████████████| 122kB 5.2MB/s ta 0:00:01\n",
      "\u001b[?25hCollecting certifi>=2017.4.17 (from requests>=2.2.1->gspread)\n",
      "\u001b[?25l  Downloading https://files.pythonhosted.org/packages/9f/e0/accfc1b56b57e9750eba272e24c4dddeac86852c2bebd1236674d7887e8a/certifi-2018.11.29-py2.py3-none-any.whl (154kB)\n",
      "\u001b[K    100% |████████████████████████████████| 163kB 11.2MB/s ta 0:00:01\n",
      "\u001b[?25hCollecting uritemplate<4dev,>=3.0.0 (from google-api-python-client==1.6.7->df2gspread)\n",
      "  Downloading https://files.pythonhosted.org/packages/e5/7d/9d5a640c4f8bf2c8b1afc015e9a9d8de32e13c9016dcc4b0ec03481fb396/uritemplate-3.0.0-py2.py3-none-any.whl\n",
      "Requirement already satisfied, skipping upgrade: numpy>=1.12.0 in /usr/local/lib/python3.5/dist-packages (from pandas->df2gspread) (1.16.1)\n",
      "Requirement already satisfied, skipping upgrade: pytz>=2011k in /usr/local/lib/python3.5/dist-packages (from pandas->df2gspread) (2018.9)\n",
      "Requirement already satisfied, skipping upgrade: python-dateutil>=2.5.0 in /usr/local/lib/python3.5/dist-packages (from pandas->df2gspread) (2.8.0)\n",
      "Building wheels for collected packages: df2gspread, httplib2\n",
      "  Building wheel for df2gspread (setup.py) ... \u001b[?25ldone\n",
      "\u001b[?25h  Stored in directory: /root/.cache/pip/wheels/19/d2/15/07b0a45a18edadbf0bb3a5655e997925e2b9cbf08b4a95342e\n",
      "  Building wheel for httplib2 (setup.py) ... \u001b[?25ldone\n",
      "\u001b[?25h  Stored in directory: /root/.cache/pip/wheels/98/82/0d/cfb126a5e40d487157e43fdb3332937713dde36b4d0e1e754d\n",
      "Successfully built df2gspread httplib2\n",
      "Installing collected packages: chardet, idna, urllib3, certifi, requests, gspread, pyasn1, pyasn1-modules, rsa, httplib2, oauth2client, argparse, uritemplate, google-api-python-client, df2gspread\n",
      "Successfully installed argparse-1.4.0 certifi-2018.11.29 chardet-3.0.4 df2gspread-1.0.4 google-api-python-client-1.6.7 gspread-3.1.0 httplib2-0.12.1 idna-2.8 oauth2client-4.1.3 pyasn1-0.4.5 pyasn1-modules-0.2.4 requests-2.21.0 rsa-4.0 uritemplate-3.0.0 urllib3-1.24.1\n"
     ]
    }
   ],
   "source": [
    "!pip install -U gspread oauth2client df2gspread"
   ]
  },
  {
   "cell_type": "code",
   "execution_count": 1,
   "metadata": {},
   "outputs": [
    {
     "name": "stdout",
     "output_type": "stream",
     "text": [
      "/tf/notebooks/data/QA\r\n"
     ]
    }
   ],
   "source": [
    "!pwd"
   ]
  },
  {
   "cell_type": "code",
   "execution_count": 5,
   "metadata": {},
   "outputs": [
    {
     "name": "stdout",
     "output_type": "stream",
     "text": [
      "README.md               congresspeople_id.txt  hein_daily_qa.txt\r\n",
      "\u001b[0m\u001b[01;34m__pycache__\u001b[0m/            ethicity_aapia.txt     nltk.ipynb\r\n",
      "\u001b[01;32mcnt_speaker_id.sh\u001b[0m*      ethicity_black.txt     speakermap_qa.ipynb\r\n",
      "cnt_speaker_id.txt      ethicity_hispanic.txt  \u001b[01;32mspeakermap_qa.py\u001b[0m*\r\n",
      "collecting_demo.ipynb   \u001b[01;36mgs_connect.py\u001b[0m@         speakermap_qa.txt\r\n",
      "congresspeople_age.txt  \u001b[01;32mhein_daily_qa.sh\u001b[0m*\r\n"
     ]
    }
   ],
   "source": [
    "ls"
   ]
  },
  {
   "cell_type": "markdown",
   "metadata": {},
   "source": [
    "### Reading in the demo information"
   ]
  },
  {
   "cell_type": "code",
   "execution_count": 1,
   "metadata": {},
   "outputs": [],
   "source": [
    "# make sure to create a symbolic link to this file with this command\n",
    "# from current directory\n",
    "# ln -s ../../environment/gs_connect.py gs_connect.py\n",
    "from gs_connect import get_from_gs"
   ]
  },
  {
   "cell_type": "code",
   "execution_count": 2,
   "metadata": {},
   "outputs": [],
   "source": [
    "demo_df = get_from_gs(\"Congresspeople\")"
   ]
  },
  {
   "cell_type": "code",
   "execution_count": 3,
   "metadata": {},
   "outputs": [
    {
     "data": {
      "text/plain": [
       "(1792, 14)"
      ]
     },
     "execution_count": 3,
     "metadata": {},
     "output_type": "execute_result"
    }
   ],
   "source": [
    "demo_df.shape"
   ]
  },
  {
   "cell_type": "code",
   "execution_count": 4,
   "metadata": {},
   "outputs": [
    {
     "data": {
      "text/html": [
       "<div>\n",
       "<style scoped>\n",
       "    .dataframe tbody tr th:only-of-type {\n",
       "        vertical-align: middle;\n",
       "    }\n",
       "\n",
       "    .dataframe tbody tr th {\n",
       "        vertical-align: top;\n",
       "    }\n",
       "\n",
       "    .dataframe thead th {\n",
       "        text-align: right;\n",
       "    }\n",
       "</style>\n",
       "<table border=\"1\" class=\"dataframe\">\n",
       "  <thead>\n",
       "    <tr style=\"text-align: right;\">\n",
       "      <th></th>\n",
       "      <th>Full Name</th>\n",
       "      <th>First Name</th>\n",
       "      <th>Last Name</th>\n",
       "      <th>First Last</th>\n",
       "      <th>List of Congresses</th>\n",
       "      <th>Chamber</th>\n",
       "      <th>State</th>\n",
       "      <th>Gender</th>\n",
       "      <th>Party</th>\n",
       "      <th>Ethnicity</th>\n",
       "      <th>BirthYear</th>\n",
       "      <th>Congress Name</th>\n",
       "      <th>Alternative name (Wikipedia)</th>\n",
       "      <th>Congress ID</th>\n",
       "    </tr>\n",
       "  </thead>\n",
       "  <tbody>\n",
       "    <tr>\n",
       "      <th>0</th>\n",
       "      <td>ABDNOR, JAMES</td>\n",
       "      <td>ABDNOR</td>\n",
       "      <td>JAMES</td>\n",
       "      <td>JAMES ABDNOR</td>\n",
       "      <td>97 98 99</td>\n",
       "      <td>S</td>\n",
       "      <td>SD</td>\n",
       "      <td>M</td>\n",
       "      <td>R</td>\n",
       "      <td>ME</td>\n",
       "      <td>1923</td>\n",
       "      <td>ABDNOR, JAMES</td>\n",
       "      <td>JAMES ABDNOR</td>\n",
       "      <td>A000009</td>\n",
       "    </tr>\n",
       "    <tr>\n",
       "      <th>1</th>\n",
       "      <td>ABERCROMBIE, NEIL</td>\n",
       "      <td>ABERCROMBIE</td>\n",
       "      <td>NEIL</td>\n",
       "      <td>NEIL ABERCROMBIE</td>\n",
       "      <td>99 102 103 104 105 106 107 108 109 110 111</td>\n",
       "      <td>H</td>\n",
       "      <td>HI</td>\n",
       "      <td>M</td>\n",
       "      <td>D</td>\n",
       "      <td>W</td>\n",
       "      <td>1938</td>\n",
       "      <td>ABERCROMBIE, NEIL</td>\n",
       "      <td>NEIL ABERCROMBIE</td>\n",
       "      <td>A000014</td>\n",
       "    </tr>\n",
       "    <tr>\n",
       "      <th>2</th>\n",
       "      <td>ABRAHAM, RALPH</td>\n",
       "      <td>ABRAHAM</td>\n",
       "      <td>RALPH</td>\n",
       "      <td>RALPH ABRAHAM</td>\n",
       "      <td>114</td>\n",
       "      <td>H</td>\n",
       "      <td>LA</td>\n",
       "      <td>M</td>\n",
       "      <td>R</td>\n",
       "      <td>W</td>\n",
       "      <td>1954</td>\n",
       "      <td>ABRAHAM, RALPH LEE</td>\n",
       "      <td>RALPH ABRAHAM</td>\n",
       "      <td>A000374</td>\n",
       "    </tr>\n",
       "    <tr>\n",
       "      <th>3</th>\n",
       "      <td>ABRAHAM, SPENCER</td>\n",
       "      <td>ABRAHAM</td>\n",
       "      <td>SPENCER</td>\n",
       "      <td>SPENCER ABRAHAM</td>\n",
       "      <td>104 105 106</td>\n",
       "      <td>S</td>\n",
       "      <td>MI</td>\n",
       "      <td>M</td>\n",
       "      <td>R</td>\n",
       "      <td>ME</td>\n",
       "      <td>1952</td>\n",
       "      <td>ABRAHAM, SPENCER</td>\n",
       "      <td>SPENCER ABRAHAM</td>\n",
       "      <td>A000355</td>\n",
       "    </tr>\n",
       "    <tr>\n",
       "      <th>4</th>\n",
       "      <td>ACEVEDO-VILA, ANIBAL</td>\n",
       "      <td>ACEVEDO-VILA</td>\n",
       "      <td>ANIBAL</td>\n",
       "      <td>ANIBAL ACEVEDO-VILA</td>\n",
       "      <td>107 108</td>\n",
       "      <td>H</td>\n",
       "      <td>PR</td>\n",
       "      <td>M</td>\n",
       "      <td>A</td>\n",
       "      <td>H</td>\n",
       "      <td>1962</td>\n",
       "      <td>ACEVEDO-VILA, ANIBAL</td>\n",
       "      <td>ANÍBAL ACEVEDO VILÁ</td>\n",
       "      <td>A000359</td>\n",
       "    </tr>\n",
       "  </tbody>\n",
       "</table>\n",
       "</div>"
      ],
      "text/plain": [
       "              Full Name    First Name Last Name           First Last  \\\n",
       "0         ABDNOR, JAMES        ABDNOR     JAMES         JAMES ABDNOR   \n",
       "1     ABERCROMBIE, NEIL   ABERCROMBIE      NEIL     NEIL ABERCROMBIE   \n",
       "2        ABRAHAM, RALPH       ABRAHAM     RALPH        RALPH ABRAHAM   \n",
       "3      ABRAHAM, SPENCER       ABRAHAM   SPENCER      SPENCER ABRAHAM   \n",
       "4  ACEVEDO-VILA, ANIBAL  ACEVEDO-VILA    ANIBAL  ANIBAL ACEVEDO-VILA   \n",
       "\n",
       "                           List of Congresses Chamber State Gender Party  \\\n",
       "0                                    97 98 99       S    SD      M     R   \n",
       "1  99 102 103 104 105 106 107 108 109 110 111       H    HI      M     D   \n",
       "2                                         114       H    LA      M     R   \n",
       "3                                 104 105 106       S    MI      M     R   \n",
       "4                                     107 108       H    PR      M     A   \n",
       "\n",
       "  Ethnicity BirthYear         Congress Name Alternative name (Wikipedia)  \\\n",
       "0        ME      1923         ABDNOR, JAMES                 JAMES ABDNOR   \n",
       "1         W      1938     ABERCROMBIE, NEIL             NEIL ABERCROMBIE   \n",
       "2         W      1954    ABRAHAM, RALPH LEE                RALPH ABRAHAM   \n",
       "3        ME      1952      ABRAHAM, SPENCER              SPENCER ABRAHAM   \n",
       "4         H      1962  ACEVEDO-VILA, ANIBAL          ANÍBAL ACEVEDO VILÁ   \n",
       "\n",
       "  Congress ID  \n",
       "0     A000009  \n",
       "1     A000014  \n",
       "2     A000374  \n",
       "3     A000355  \n",
       "4     A000359  "
      ]
     },
     "execution_count": 4,
     "metadata": {},
     "output_type": "execute_result"
    }
   ],
   "source": [
    "demo_df.head()"
   ]
  },
  {
   "cell_type": "code",
   "execution_count": 5,
   "metadata": {},
   "outputs": [
    {
     "data": {
      "text/plain": [
       "1782"
      ]
     },
     "execution_count": 5,
     "metadata": {},
     "output_type": "execute_result"
    }
   ],
   "source": [
    "demo_df['Full Name'].nunique()"
   ]
  },
  {
   "cell_type": "code",
   "execution_count": 6,
   "metadata": {},
   "outputs": [
    {
     "data": {
      "text/html": [
       "<div>\n",
       "<style scoped>\n",
       "    .dataframe tbody tr th:only-of-type {\n",
       "        vertical-align: middle;\n",
       "    }\n",
       "\n",
       "    .dataframe tbody tr th {\n",
       "        vertical-align: top;\n",
       "    }\n",
       "\n",
       "    .dataframe thead th {\n",
       "        text-align: right;\n",
       "    }\n",
       "</style>\n",
       "<table border=\"1\" class=\"dataframe\">\n",
       "  <thead>\n",
       "    <tr style=\"text-align: right;\">\n",
       "      <th></th>\n",
       "      <th>Full Name</th>\n",
       "      <th>First Name</th>\n",
       "      <th>Last Name</th>\n",
       "      <th>First Last</th>\n",
       "      <th>List of Congresses</th>\n",
       "      <th>Chamber</th>\n",
       "      <th>State</th>\n",
       "      <th>Gender</th>\n",
       "      <th>Party</th>\n",
       "      <th>Ethnicity</th>\n",
       "      <th>BirthYear</th>\n",
       "      <th>Congress Name</th>\n",
       "      <th>Alternative name (Wikipedia)</th>\n",
       "      <th>Congress ID</th>\n",
       "    </tr>\n",
       "  </thead>\n",
       "  <tbody>\n",
       "    <tr>\n",
       "      <th>588</th>\n",
       "      <td>FORD, HAROLD</td>\n",
       "      <td>FORD</td>\n",
       "      <td>HAROLD</td>\n",
       "      <td>HAROLD FORD</td>\n",
       "      <td>97 98 99 100 101 102 103 104</td>\n",
       "      <td>H</td>\n",
       "      <td>TN</td>\n",
       "      <td>M</td>\n",
       "      <td>D</td>\n",
       "      <td>B</td>\n",
       "      <td>1945</td>\n",
       "      <td>FORD, HAROLD E.</td>\n",
       "      <td>HAROLD E. FORD</td>\n",
       "      <td>F000261</td>\n",
       "    </tr>\n",
       "  </tbody>\n",
       "</table>\n",
       "</div>"
      ],
      "text/plain": [
       "        Full Name First Name Last Name   First Last  \\\n",
       "588  FORD, HAROLD       FORD    HAROLD  HAROLD FORD   \n",
       "\n",
       "               List of Congresses Chamber State Gender Party Ethnicity  \\\n",
       "588  97 98 99 100 101 102 103 104       H    TN      M     D         B   \n",
       "\n",
       "    BirthYear    Congress Name Alternative name (Wikipedia) Congress ID  \n",
       "588      1945  FORD, HAROLD E.               HAROLD E. FORD     F000261  "
      ]
     },
     "execution_count": 6,
     "metadata": {},
     "output_type": "execute_result"
    }
   ],
   "source": [
    "demo_df[demo_df['Full Name']=='FORD, HAROLD']"
   ]
  },
  {
   "cell_type": "code",
   "execution_count": 7,
   "metadata": {},
   "outputs": [
    {
     "data": {
      "text/html": [
       "<div>\n",
       "<style scoped>\n",
       "    .dataframe tbody tr th:only-of-type {\n",
       "        vertical-align: middle;\n",
       "    }\n",
       "\n",
       "    .dataframe tbody tr th {\n",
       "        vertical-align: top;\n",
       "    }\n",
       "\n",
       "    .dataframe thead th {\n",
       "        text-align: right;\n",
       "    }\n",
       "</style>\n",
       "<table border=\"1\" class=\"dataframe\">\n",
       "  <thead>\n",
       "    <tr style=\"text-align: right;\">\n",
       "      <th></th>\n",
       "      <th>Full Name</th>\n",
       "      <th>First Name</th>\n",
       "      <th>Last Name</th>\n",
       "      <th>First Last</th>\n",
       "      <th>List of Congresses</th>\n",
       "      <th>Chamber</th>\n",
       "      <th>State</th>\n",
       "      <th>Gender</th>\n",
       "      <th>Party</th>\n",
       "      <th>Ethnicity</th>\n",
       "      <th>BirthYear</th>\n",
       "      <th>Congress Name</th>\n",
       "      <th>Alternative name (Wikipedia)</th>\n",
       "      <th>Congress ID</th>\n",
       "    </tr>\n",
       "  </thead>\n",
       "  <tbody>\n",
       "    <tr>\n",
       "      <th>587</th>\n",
       "      <td>FORD, HAROLD JR.</td>\n",
       "      <td>FORD</td>\n",
       "      <td>HAROLD</td>\n",
       "      <td>HAROLD FORD</td>\n",
       "      <td>105 106 107 108 109</td>\n",
       "      <td>H</td>\n",
       "      <td>TN</td>\n",
       "      <td>M</td>\n",
       "      <td>D</td>\n",
       "      <td>B</td>\n",
       "      <td>1970</td>\n",
       "      <td>FORD, HAROLD E. JR.</td>\n",
       "      <td>HAROLD E. FORD JR.</td>\n",
       "      <td>F000262</td>\n",
       "    </tr>\n",
       "  </tbody>\n",
       "</table>\n",
       "</div>"
      ],
      "text/plain": [
       "            Full Name First Name Last Name   First Last   List of Congresses  \\\n",
       "587  FORD, HAROLD JR.       FORD    HAROLD  HAROLD FORD  105 106 107 108 109   \n",
       "\n",
       "    Chamber State Gender Party Ethnicity BirthYear        Congress Name  \\\n",
       "587       H    TN      M     D         B      1970  FORD, HAROLD E. JR.   \n",
       "\n",
       "    Alternative name (Wikipedia) Congress ID  \n",
       "587           HAROLD E. FORD JR.     F000262  "
      ]
     },
     "execution_count": 7,
     "metadata": {},
     "output_type": "execute_result"
    }
   ],
   "source": [
    "demo_df[demo_df['Full Name']=='FORD, HAROLD JR.']"
   ]
  },
  {
   "cell_type": "code",
   "execution_count": 9,
   "metadata": {},
   "outputs": [],
   "source": [
    "demo_df.to_csv('./congresspeople_demo.csv', index=False)"
   ]
  },
  {
   "cell_type": "code",
   "execution_count": null,
   "metadata": {},
   "outputs": [],
   "source": []
  }
 ],
 "metadata": {
  "kernelspec": {
   "display_name": "Python 3",
   "language": "python",
   "name": "python3"
  },
  "language_info": {
   "codemirror_mode": {
    "name": "ipython",
    "version": 3
   },
   "file_extension": ".py",
   "mimetype": "text/x-python",
   "name": "python",
   "nbconvert_exporter": "python",
   "pygments_lexer": "ipython3",
   "version": "3.5.2"
  }
 },
 "nbformat": 4,
 "nbformat_minor": 2
}
